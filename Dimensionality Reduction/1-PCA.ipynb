{
 "cells": [
  {
   "cell_type": "markdown",
   "metadata": {},
   "source": [
    "# Essentials of Principal Component Analysis"
   ]
  },
  {
   "cell_type": "markdown",
   "metadata": {},
   "source": [
    "Principal Component Analysis (PCA) is one of the unsupervised algorithms most broadly used."
   ]
  },
  {
   "cell_type": "code",
   "execution_count": 1,
   "metadata": {},
   "outputs": [],
   "source": [
    "import numpy as np\n",
    "import pandas as pd\n",
    "pd.set_option('display.max_columns', 10)\n",
    "\n",
    "import plotly.express as px\n",
    "import plotly.io as pio\n",
    "pio.renderers.default = \"plotly_mimetype+notebook_connected\""
   ]
  },
  {
   "cell_type": "markdown",
   "metadata": {},
   "source": [
    "## Automobile Dataset"
   ]
  },
  {
   "cell_type": "markdown",
   "metadata": {},
   "source": [
    "We will use the Automobile Data Set [https://archive.ics.uci.edu/ml/datasets/automobile] from the UCI Machine Learning Repository [https://archive-beta.ics.uci.edu/]. It includes categorical and continuous variables."
   ]
  },
  {
   "cell_type": "code",
   "execution_count": 2,
   "metadata": {},
   "outputs": [],
   "source": [
    "# Defining the headers\n",
    "headers = [\"symboling\", \"normalized_losses\", \"make\", \"fuel_type\", \"aspiration\", \"num_doors\", \n",
    "            \"body_style\", \"drive_wheels\", \"engine_location\",\"wheel_base\", \"length\", \"width\", \n",
    "            \"height\", \"curb_weight\", \"engine_type\", \"num_cylinders\", \"engine_size\", \"fuel_system\",\n",
    "            \"bore\", \"stroke\", \"compression_ratio\", \"horsepower\", \"peak_rpm\",\"city_mpg\", \n",
    "            \"highway_mpg\", \"price\"]"
   ]
  },
  {
   "cell_type": "code",
   "execution_count": 3,
   "metadata": {},
   "outputs": [
    {
     "name": "stdout",
     "output_type": "stream",
     "text": [
      "(205, 26)\n"
     ]
    },
    {
     "data": {
      "text/html": [
       "<div>\n",
       "<style scoped>\n",
       "    .dataframe tbody tr th:only-of-type {\n",
       "        vertical-align: middle;\n",
       "    }\n",
       "\n",
       "    .dataframe tbody tr th {\n",
       "        vertical-align: top;\n",
       "    }\n",
       "\n",
       "    .dataframe thead th {\n",
       "        text-align: right;\n",
       "    }\n",
       "</style>\n",
       "<table border=\"1\" class=\"dataframe\">\n",
       "  <thead>\n",
       "    <tr style=\"text-align: right;\">\n",
       "      <th></th>\n",
       "      <th>symboling</th>\n",
       "      <th>normalized_losses</th>\n",
       "      <th>make</th>\n",
       "      <th>fuel_type</th>\n",
       "      <th>aspiration</th>\n",
       "      <th>...</th>\n",
       "      <th>horsepower</th>\n",
       "      <th>peak_rpm</th>\n",
       "      <th>city_mpg</th>\n",
       "      <th>highway_mpg</th>\n",
       "      <th>price</th>\n",
       "    </tr>\n",
       "  </thead>\n",
       "  <tbody>\n",
       "    <tr>\n",
       "      <th>0</th>\n",
       "      <td>3</td>\n",
       "      <td>NaN</td>\n",
       "      <td>alfa-romero</td>\n",
       "      <td>gas</td>\n",
       "      <td>std</td>\n",
       "      <td>...</td>\n",
       "      <td>111.0</td>\n",
       "      <td>5000.0</td>\n",
       "      <td>21</td>\n",
       "      <td>27</td>\n",
       "      <td>13495.0</td>\n",
       "    </tr>\n",
       "    <tr>\n",
       "      <th>1</th>\n",
       "      <td>3</td>\n",
       "      <td>NaN</td>\n",
       "      <td>alfa-romero</td>\n",
       "      <td>gas</td>\n",
       "      <td>std</td>\n",
       "      <td>...</td>\n",
       "      <td>111.0</td>\n",
       "      <td>5000.0</td>\n",
       "      <td>21</td>\n",
       "      <td>27</td>\n",
       "      <td>16500.0</td>\n",
       "    </tr>\n",
       "    <tr>\n",
       "      <th>2</th>\n",
       "      <td>1</td>\n",
       "      <td>NaN</td>\n",
       "      <td>alfa-romero</td>\n",
       "      <td>gas</td>\n",
       "      <td>std</td>\n",
       "      <td>...</td>\n",
       "      <td>154.0</td>\n",
       "      <td>5000.0</td>\n",
       "      <td>19</td>\n",
       "      <td>26</td>\n",
       "      <td>16500.0</td>\n",
       "    </tr>\n",
       "    <tr>\n",
       "      <th>3</th>\n",
       "      <td>2</td>\n",
       "      <td>164.0</td>\n",
       "      <td>audi</td>\n",
       "      <td>gas</td>\n",
       "      <td>std</td>\n",
       "      <td>...</td>\n",
       "      <td>102.0</td>\n",
       "      <td>5500.0</td>\n",
       "      <td>24</td>\n",
       "      <td>30</td>\n",
       "      <td>13950.0</td>\n",
       "    </tr>\n",
       "    <tr>\n",
       "      <th>4</th>\n",
       "      <td>2</td>\n",
       "      <td>164.0</td>\n",
       "      <td>audi</td>\n",
       "      <td>gas</td>\n",
       "      <td>std</td>\n",
       "      <td>...</td>\n",
       "      <td>115.0</td>\n",
       "      <td>5500.0</td>\n",
       "      <td>18</td>\n",
       "      <td>22</td>\n",
       "      <td>17450.0</td>\n",
       "    </tr>\n",
       "  </tbody>\n",
       "</table>\n",
       "<p>5 rows × 26 columns</p>\n",
       "</div>"
      ],
      "text/plain": [
       "   symboling  normalized_losses         make fuel_type aspiration  ...  \\\n",
       "0          3                NaN  alfa-romero       gas        std  ...   \n",
       "1          3                NaN  alfa-romero       gas        std  ...   \n",
       "2          1                NaN  alfa-romero       gas        std  ...   \n",
       "3          2              164.0         audi       gas        std  ...   \n",
       "4          2              164.0         audi       gas        std  ...   \n",
       "\n",
       "  horsepower peak_rpm city_mpg highway_mpg    price  \n",
       "0      111.0   5000.0       21          27  13495.0  \n",
       "1      111.0   5000.0       21          27  16500.0  \n",
       "2      154.0   5000.0       19          26  16500.0  \n",
       "3      102.0   5500.0       24          30  13950.0  \n",
       "4      115.0   5500.0       18          22  17450.0  \n",
       "\n",
       "[5 rows x 26 columns]"
      ]
     },
     "execution_count": 3,
     "metadata": {},
     "output_type": "execute_result"
    }
   ],
   "source": [
    "df = pd.read_csv(\"https://archive.ics.uci.edu/ml/machine-learning-databases/autos/imports-85.data\",\n",
    "                  header=None, names=headers, na_values=\"?\" )\n",
    "print(df.shape)\n",
    "df.head()"
   ]
  },
  {
   "cell_type": "markdown",
   "metadata": {},
   "source": [
    "## Essentials of PCA"
   ]
  },
  {
   "cell_type": "markdown",
   "metadata": {},
   "source": [
    "PCA is a fast and flexible unsupervised method for dimensionality reduction in data. \n",
    "\n",
    "Let's work with the variables: `city_mpg` and `highway_mpg`."
   ]
  },
  {
   "cell_type": "code",
   "execution_count": 4,
   "metadata": {},
   "outputs": [
    {
     "name": "stdout",
     "output_type": "stream",
     "text": [
      "(205, 2)\n"
     ]
    },
    {
     "data": {
      "text/html": [
       "<div>\n",
       "<style scoped>\n",
       "    .dataframe tbody tr th:only-of-type {\n",
       "        vertical-align: middle;\n",
       "    }\n",
       "\n",
       "    .dataframe tbody tr th {\n",
       "        vertical-align: top;\n",
       "    }\n",
       "\n",
       "    .dataframe thead th {\n",
       "        text-align: right;\n",
       "    }\n",
       "</style>\n",
       "<table border=\"1\" class=\"dataframe\">\n",
       "  <thead>\n",
       "    <tr style=\"text-align: right;\">\n",
       "      <th></th>\n",
       "      <th>city_mpg</th>\n",
       "      <th>highway_mpg</th>\n",
       "    </tr>\n",
       "  </thead>\n",
       "  <tbody>\n",
       "    <tr>\n",
       "      <th>0</th>\n",
       "      <td>21</td>\n",
       "      <td>27</td>\n",
       "    </tr>\n",
       "    <tr>\n",
       "      <th>1</th>\n",
       "      <td>21</td>\n",
       "      <td>27</td>\n",
       "    </tr>\n",
       "    <tr>\n",
       "      <th>2</th>\n",
       "      <td>19</td>\n",
       "      <td>26</td>\n",
       "    </tr>\n",
       "    <tr>\n",
       "      <th>3</th>\n",
       "      <td>24</td>\n",
       "      <td>30</td>\n",
       "    </tr>\n",
       "    <tr>\n",
       "      <th>4</th>\n",
       "      <td>18</td>\n",
       "      <td>22</td>\n",
       "    </tr>\n",
       "  </tbody>\n",
       "</table>\n",
       "</div>"
      ],
      "text/plain": [
       "   city_mpg  highway_mpg\n",
       "0        21           27\n",
       "1        21           27\n",
       "2        19           26\n",
       "3        24           30\n",
       "4        18           22"
      ]
     },
     "execution_count": 4,
     "metadata": {},
     "output_type": "execute_result"
    }
   ],
   "source": [
    "data = df[['city_mpg', 'highway_mpg']]\n",
    "print(data.shape)\n",
    "data.head()"
   ]
  },
  {
   "cell_type": "code",
   "execution_count": 5,
   "metadata": {},
   "outputs": [
    {
     "data": {
      "text/plain": [
       "city_mpg       0\n",
       "highway_mpg    0\n",
       "dtype: int64"
      ]
     },
     "execution_count": 5,
     "metadata": {},
     "output_type": "execute_result"
    }
   ],
   "source": [
    "# Asking for missing values\n",
    "data.isnull().sum()"
   ]
  },
  {
   "cell_type": "markdown",
   "metadata": {},
   "source": [
    "There are no missing values. \n",
    "\n",
    "We are analyzing a simple example of two variables measured with the same scale: miles per gallon. For this, it is not necessary to standardize them. We can proceed to visualize the data."
   ]
  },
  {
   "cell_type": "code",
   "execution_count": 6,
   "metadata": {},
   "outputs": [
    {
     "data": {
      "text/html": [
       "        <script type=\"text/javascript\">\n",
       "        window.PlotlyConfig = {MathJaxConfig: 'local'};\n",
       "        if (window.MathJax && window.MathJax.Hub && window.MathJax.Hub.Config) {window.MathJax.Hub.Config({SVG: {font: \"STIX-Web\"}});}\n",
       "        if (typeof require !== 'undefined') {\n",
       "        require.undef(\"plotly\");\n",
       "        requirejs.config({\n",
       "            paths: {\n",
       "                'plotly': ['https://cdn.plot.ly/plotly-2.18.2.min']\n",
       "            }\n",
       "        });\n",
       "        require(['plotly'], function(Plotly) {\n",
       "            window._Plotly = Plotly;\n",
       "        });\n",
       "        }\n",
       "        </script>\n",
       "        "
      ]
     },
     "metadata": {},
     "output_type": "display_data"
    },
    {
     "data": {
      "application/vnd.plotly.v1+json": {
       "config": {
        "plotlyServerURL": "https://plot.ly"
       },
       "data": [
        {
         "hovertemplate": "city_mpg=%{x}<br>highway_mpg=%{y}<extra></extra>",
         "legendgroup": "",
         "marker": {
          "color": "#636efa",
          "opacity": 0.6,
          "size": 8,
          "symbol": "circle"
         },
         "mode": "markers",
         "name": "",
         "orientation": "v",
         "showlegend": false,
         "type": "scatter",
         "x": [
          21,
          21,
          19,
          24,
          18,
          19,
          19,
          19,
          17,
          16,
          23,
          23,
          21,
          21,
          20,
          16,
          16,
          15,
          47,
          38,
          38,
          37,
          31,
          24,
          31,
          31,
          31,
          24,
          24,
          19,
          49,
          31,
          38,
          30,
          30,
          30,
          30,
          27,
          27,
          27,
          27,
          24,
          25,
          24,
          38,
          38,
          24,
          15,
          15,
          13,
          30,
          31,
          31,
          31,
          31,
          17,
          17,
          17,
          16,
          26,
          26,
          26,
          26,
          36,
          26,
          19,
          31,
          22,
          22,
          22,
          22,
          16,
          16,
          14,
          14,
          19,
          37,
          31,
          31,
          24,
          23,
          25,
          19,
          19,
          19,
          25,
          25,
          23,
          23,
          31,
          45,
          31,
          31,
          31,
          31,
          31,
          31,
          31,
          31,
          27,
          27,
          17,
          17,
          19,
          19,
          17,
          19,
          19,
          28,
          19,
          25,
          19,
          28,
          19,
          25,
          19,
          28,
          18,
          37,
          24,
          31,
          31,
          31,
          24,
          19,
          19,
          17,
          17,
          17,
          17,
          23,
          23,
          21,
          21,
          21,
          21,
          19,
          19,
          31,
          26,
          26,
          32,
          28,
          26,
          24,
          24,
          28,
          25,
          23,
          23,
          35,
          31,
          31,
          31,
          27,
          27,
          30,
          30,
          34,
          38,
          38,
          28,
          28,
          29,
          29,
          26,
          26,
          24,
          24,
          24,
          24,
          24,
          24,
          29,
          30,
          27,
          27,
          27,
          20,
          19,
          20,
          19,
          37,
          27,
          37,
          27,
          27,
          37,
          26,
          24,
          24,
          19,
          33,
          25,
          23,
          23,
          24,
          24,
          17,
          17,
          23,
          19,
          18,
          26,
          19
         ],
         "xaxis": "x",
         "y": [
          27,
          27,
          26,
          30,
          22,
          25,
          25,
          25,
          20,
          22,
          29,
          29,
          28,
          28,
          25,
          22,
          22,
          20,
          53,
          43,
          43,
          41,
          38,
          30,
          38,
          38,
          38,
          30,
          30,
          24,
          54,
          38,
          42,
          34,
          34,
          34,
          34,
          33,
          33,
          33,
          33,
          28,
          31,
          29,
          43,
          43,
          29,
          19,
          19,
          17,
          31,
          38,
          38,
          38,
          38,
          23,
          23,
          23,
          23,
          32,
          32,
          32,
          32,
          42,
          32,
          27,
          39,
          25,
          25,
          25,
          25,
          18,
          18,
          16,
          16,
          24,
          41,
          38,
          38,
          30,
          30,
          32,
          24,
          24,
          24,
          32,
          32,
          30,
          30,
          37,
          50,
          37,
          37,
          37,
          37,
          37,
          37,
          37,
          37,
          34,
          34,
          22,
          22,
          25,
          25,
          23,
          25,
          24,
          33,
          24,
          25,
          24,
          33,
          24,
          25,
          24,
          33,
          24,
          41,
          30,
          38,
          38,
          38,
          30,
          24,
          27,
          25,
          25,
          25,
          28,
          31,
          31,
          28,
          28,
          28,
          28,
          26,
          26,
          36,
          31,
          31,
          37,
          33,
          32,
          25,
          29,
          32,
          31,
          29,
          23,
          39,
          38,
          38,
          37,
          32,
          32,
          37,
          37,
          36,
          47,
          47,
          34,
          34,
          34,
          34,
          29,
          29,
          30,
          30,
          30,
          30,
          30,
          30,
          34,
          33,
          32,
          32,
          32,
          24,
          24,
          24,
          24,
          46,
          34,
          46,
          34,
          34,
          42,
          32,
          29,
          29,
          24,
          38,
          31,
          28,
          28,
          28,
          28,
          22,
          22,
          28,
          25,
          23,
          27,
          25
         ],
         "yaxis": "y"
        }
       ],
       "layout": {
        "legend": {
         "tracegroupgap": 0
        },
        "template": {
         "data": {
          "bar": [
           {
            "error_x": {
             "color": "#2a3f5f"
            },
            "error_y": {
             "color": "#2a3f5f"
            },
            "marker": {
             "line": {
              "color": "#E5ECF6",
              "width": 0.5
             },
             "pattern": {
              "fillmode": "overlay",
              "size": 10,
              "solidity": 0.2
             }
            },
            "type": "bar"
           }
          ],
          "barpolar": [
           {
            "marker": {
             "line": {
              "color": "#E5ECF6",
              "width": 0.5
             },
             "pattern": {
              "fillmode": "overlay",
              "size": 10,
              "solidity": 0.2
             }
            },
            "type": "barpolar"
           }
          ],
          "carpet": [
           {
            "aaxis": {
             "endlinecolor": "#2a3f5f",
             "gridcolor": "white",
             "linecolor": "white",
             "minorgridcolor": "white",
             "startlinecolor": "#2a3f5f"
            },
            "baxis": {
             "endlinecolor": "#2a3f5f",
             "gridcolor": "white",
             "linecolor": "white",
             "minorgridcolor": "white",
             "startlinecolor": "#2a3f5f"
            },
            "type": "carpet"
           }
          ],
          "choropleth": [
           {
            "colorbar": {
             "outlinewidth": 0,
             "ticks": ""
            },
            "type": "choropleth"
           }
          ],
          "contour": [
           {
            "colorbar": {
             "outlinewidth": 0,
             "ticks": ""
            },
            "colorscale": [
             [
              0,
              "#0d0887"
             ],
             [
              0.1111111111111111,
              "#46039f"
             ],
             [
              0.2222222222222222,
              "#7201a8"
             ],
             [
              0.3333333333333333,
              "#9c179e"
             ],
             [
              0.4444444444444444,
              "#bd3786"
             ],
             [
              0.5555555555555556,
              "#d8576b"
             ],
             [
              0.6666666666666666,
              "#ed7953"
             ],
             [
              0.7777777777777778,
              "#fb9f3a"
             ],
             [
              0.8888888888888888,
              "#fdca26"
             ],
             [
              1,
              "#f0f921"
             ]
            ],
            "type": "contour"
           }
          ],
          "contourcarpet": [
           {
            "colorbar": {
             "outlinewidth": 0,
             "ticks": ""
            },
            "type": "contourcarpet"
           }
          ],
          "heatmap": [
           {
            "colorbar": {
             "outlinewidth": 0,
             "ticks": ""
            },
            "colorscale": [
             [
              0,
              "#0d0887"
             ],
             [
              0.1111111111111111,
              "#46039f"
             ],
             [
              0.2222222222222222,
              "#7201a8"
             ],
             [
              0.3333333333333333,
              "#9c179e"
             ],
             [
              0.4444444444444444,
              "#bd3786"
             ],
             [
              0.5555555555555556,
              "#d8576b"
             ],
             [
              0.6666666666666666,
              "#ed7953"
             ],
             [
              0.7777777777777778,
              "#fb9f3a"
             ],
             [
              0.8888888888888888,
              "#fdca26"
             ],
             [
              1,
              "#f0f921"
             ]
            ],
            "type": "heatmap"
           }
          ],
          "heatmapgl": [
           {
            "colorbar": {
             "outlinewidth": 0,
             "ticks": ""
            },
            "colorscale": [
             [
              0,
              "#0d0887"
             ],
             [
              0.1111111111111111,
              "#46039f"
             ],
             [
              0.2222222222222222,
              "#7201a8"
             ],
             [
              0.3333333333333333,
              "#9c179e"
             ],
             [
              0.4444444444444444,
              "#bd3786"
             ],
             [
              0.5555555555555556,
              "#d8576b"
             ],
             [
              0.6666666666666666,
              "#ed7953"
             ],
             [
              0.7777777777777778,
              "#fb9f3a"
             ],
             [
              0.8888888888888888,
              "#fdca26"
             ],
             [
              1,
              "#f0f921"
             ]
            ],
            "type": "heatmapgl"
           }
          ],
          "histogram": [
           {
            "marker": {
             "pattern": {
              "fillmode": "overlay",
              "size": 10,
              "solidity": 0.2
             }
            },
            "type": "histogram"
           }
          ],
          "histogram2d": [
           {
            "colorbar": {
             "outlinewidth": 0,
             "ticks": ""
            },
            "colorscale": [
             [
              0,
              "#0d0887"
             ],
             [
              0.1111111111111111,
              "#46039f"
             ],
             [
              0.2222222222222222,
              "#7201a8"
             ],
             [
              0.3333333333333333,
              "#9c179e"
             ],
             [
              0.4444444444444444,
              "#bd3786"
             ],
             [
              0.5555555555555556,
              "#d8576b"
             ],
             [
              0.6666666666666666,
              "#ed7953"
             ],
             [
              0.7777777777777778,
              "#fb9f3a"
             ],
             [
              0.8888888888888888,
              "#fdca26"
             ],
             [
              1,
              "#f0f921"
             ]
            ],
            "type": "histogram2d"
           }
          ],
          "histogram2dcontour": [
           {
            "colorbar": {
             "outlinewidth": 0,
             "ticks": ""
            },
            "colorscale": [
             [
              0,
              "#0d0887"
             ],
             [
              0.1111111111111111,
              "#46039f"
             ],
             [
              0.2222222222222222,
              "#7201a8"
             ],
             [
              0.3333333333333333,
              "#9c179e"
             ],
             [
              0.4444444444444444,
              "#bd3786"
             ],
             [
              0.5555555555555556,
              "#d8576b"
             ],
             [
              0.6666666666666666,
              "#ed7953"
             ],
             [
              0.7777777777777778,
              "#fb9f3a"
             ],
             [
              0.8888888888888888,
              "#fdca26"
             ],
             [
              1,
              "#f0f921"
             ]
            ],
            "type": "histogram2dcontour"
           }
          ],
          "mesh3d": [
           {
            "colorbar": {
             "outlinewidth": 0,
             "ticks": ""
            },
            "type": "mesh3d"
           }
          ],
          "parcoords": [
           {
            "line": {
             "colorbar": {
              "outlinewidth": 0,
              "ticks": ""
             }
            },
            "type": "parcoords"
           }
          ],
          "pie": [
           {
            "automargin": true,
            "type": "pie"
           }
          ],
          "scatter": [
           {
            "fillpattern": {
             "fillmode": "overlay",
             "size": 10,
             "solidity": 0.2
            },
            "type": "scatter"
           }
          ],
          "scatter3d": [
           {
            "line": {
             "colorbar": {
              "outlinewidth": 0,
              "ticks": ""
             }
            },
            "marker": {
             "colorbar": {
              "outlinewidth": 0,
              "ticks": ""
             }
            },
            "type": "scatter3d"
           }
          ],
          "scattercarpet": [
           {
            "marker": {
             "colorbar": {
              "outlinewidth": 0,
              "ticks": ""
             }
            },
            "type": "scattercarpet"
           }
          ],
          "scattergeo": [
           {
            "marker": {
             "colorbar": {
              "outlinewidth": 0,
              "ticks": ""
             }
            },
            "type": "scattergeo"
           }
          ],
          "scattergl": [
           {
            "marker": {
             "colorbar": {
              "outlinewidth": 0,
              "ticks": ""
             }
            },
            "type": "scattergl"
           }
          ],
          "scattermapbox": [
           {
            "marker": {
             "colorbar": {
              "outlinewidth": 0,
              "ticks": ""
             }
            },
            "type": "scattermapbox"
           }
          ],
          "scatterpolar": [
           {
            "marker": {
             "colorbar": {
              "outlinewidth": 0,
              "ticks": ""
             }
            },
            "type": "scatterpolar"
           }
          ],
          "scatterpolargl": [
           {
            "marker": {
             "colorbar": {
              "outlinewidth": 0,
              "ticks": ""
             }
            },
            "type": "scatterpolargl"
           }
          ],
          "scatterternary": [
           {
            "marker": {
             "colorbar": {
              "outlinewidth": 0,
              "ticks": ""
             }
            },
            "type": "scatterternary"
           }
          ],
          "surface": [
           {
            "colorbar": {
             "outlinewidth": 0,
             "ticks": ""
            },
            "colorscale": [
             [
              0,
              "#0d0887"
             ],
             [
              0.1111111111111111,
              "#46039f"
             ],
             [
              0.2222222222222222,
              "#7201a8"
             ],
             [
              0.3333333333333333,
              "#9c179e"
             ],
             [
              0.4444444444444444,
              "#bd3786"
             ],
             [
              0.5555555555555556,
              "#d8576b"
             ],
             [
              0.6666666666666666,
              "#ed7953"
             ],
             [
              0.7777777777777778,
              "#fb9f3a"
             ],
             [
              0.8888888888888888,
              "#fdca26"
             ],
             [
              1,
              "#f0f921"
             ]
            ],
            "type": "surface"
           }
          ],
          "table": [
           {
            "cells": {
             "fill": {
              "color": "#EBF0F8"
             },
             "line": {
              "color": "white"
             }
            },
            "header": {
             "fill": {
              "color": "#C8D4E3"
             },
             "line": {
              "color": "white"
             }
            },
            "type": "table"
           }
          ]
         },
         "layout": {
          "annotationdefaults": {
           "arrowcolor": "#2a3f5f",
           "arrowhead": 0,
           "arrowwidth": 1
          },
          "autotypenumbers": "strict",
          "coloraxis": {
           "colorbar": {
            "outlinewidth": 0,
            "ticks": ""
           }
          },
          "colorscale": {
           "diverging": [
            [
             0,
             "#8e0152"
            ],
            [
             0.1,
             "#c51b7d"
            ],
            [
             0.2,
             "#de77ae"
            ],
            [
             0.3,
             "#f1b6da"
            ],
            [
             0.4,
             "#fde0ef"
            ],
            [
             0.5,
             "#f7f7f7"
            ],
            [
             0.6,
             "#e6f5d0"
            ],
            [
             0.7,
             "#b8e186"
            ],
            [
             0.8,
             "#7fbc41"
            ],
            [
             0.9,
             "#4d9221"
            ],
            [
             1,
             "#276419"
            ]
           ],
           "sequential": [
            [
             0,
             "#0d0887"
            ],
            [
             0.1111111111111111,
             "#46039f"
            ],
            [
             0.2222222222222222,
             "#7201a8"
            ],
            [
             0.3333333333333333,
             "#9c179e"
            ],
            [
             0.4444444444444444,
             "#bd3786"
            ],
            [
             0.5555555555555556,
             "#d8576b"
            ],
            [
             0.6666666666666666,
             "#ed7953"
            ],
            [
             0.7777777777777778,
             "#fb9f3a"
            ],
            [
             0.8888888888888888,
             "#fdca26"
            ],
            [
             1,
             "#f0f921"
            ]
           ],
           "sequentialminus": [
            [
             0,
             "#0d0887"
            ],
            [
             0.1111111111111111,
             "#46039f"
            ],
            [
             0.2222222222222222,
             "#7201a8"
            ],
            [
             0.3333333333333333,
             "#9c179e"
            ],
            [
             0.4444444444444444,
             "#bd3786"
            ],
            [
             0.5555555555555556,
             "#d8576b"
            ],
            [
             0.6666666666666666,
             "#ed7953"
            ],
            [
             0.7777777777777778,
             "#fb9f3a"
            ],
            [
             0.8888888888888888,
             "#fdca26"
            ],
            [
             1,
             "#f0f921"
            ]
           ]
          },
          "colorway": [
           "#636efa",
           "#EF553B",
           "#00cc96",
           "#ab63fa",
           "#FFA15A",
           "#19d3f3",
           "#FF6692",
           "#B6E880",
           "#FF97FF",
           "#FECB52"
          ],
          "font": {
           "color": "#2a3f5f"
          },
          "geo": {
           "bgcolor": "white",
           "lakecolor": "white",
           "landcolor": "#E5ECF6",
           "showlakes": true,
           "showland": true,
           "subunitcolor": "white"
          },
          "hoverlabel": {
           "align": "left"
          },
          "hovermode": "closest",
          "mapbox": {
           "style": "light"
          },
          "paper_bgcolor": "white",
          "plot_bgcolor": "#E5ECF6",
          "polar": {
           "angularaxis": {
            "gridcolor": "white",
            "linecolor": "white",
            "ticks": ""
           },
           "bgcolor": "#E5ECF6",
           "radialaxis": {
            "gridcolor": "white",
            "linecolor": "white",
            "ticks": ""
           }
          },
          "scene": {
           "xaxis": {
            "backgroundcolor": "#E5ECF6",
            "gridcolor": "white",
            "gridwidth": 2,
            "linecolor": "white",
            "showbackground": true,
            "ticks": "",
            "zerolinecolor": "white"
           },
           "yaxis": {
            "backgroundcolor": "#E5ECF6",
            "gridcolor": "white",
            "gridwidth": 2,
            "linecolor": "white",
            "showbackground": true,
            "ticks": "",
            "zerolinecolor": "white"
           },
           "zaxis": {
            "backgroundcolor": "#E5ECF6",
            "gridcolor": "white",
            "gridwidth": 2,
            "linecolor": "white",
            "showbackground": true,
            "ticks": "",
            "zerolinecolor": "white"
           }
          },
          "shapedefaults": {
           "line": {
            "color": "#2a3f5f"
           }
          },
          "ternary": {
           "aaxis": {
            "gridcolor": "white",
            "linecolor": "white",
            "ticks": ""
           },
           "baxis": {
            "gridcolor": "white",
            "linecolor": "white",
            "ticks": ""
           },
           "bgcolor": "#E5ECF6",
           "caxis": {
            "gridcolor": "white",
            "linecolor": "white",
            "ticks": ""
           }
          },
          "title": {
           "x": 0.05
          },
          "xaxis": {
           "automargin": true,
           "gridcolor": "white",
           "linecolor": "white",
           "ticks": "",
           "title": {
            "standoff": 15
           },
           "zerolinecolor": "white",
           "zerolinewidth": 2
          },
          "yaxis": {
           "automargin": true,
           "gridcolor": "white",
           "linecolor": "white",
           "ticks": "",
           "title": {
            "standoff": 15
           },
           "zerolinecolor": "white",
           "zerolinewidth": 2
          }
         }
        },
        "title": {
         "text": "City vs. Highway (Miles per Gallon)"
        },
        "width": 500,
        "xaxis": {
         "anchor": "y",
         "domain": [
          0,
          1
         ],
         "scaleanchor": "y",
         "scaleratio": 1,
         "title": {
          "text": "x - City (Miles per Gallon)"
         }
        },
        "yaxis": {
         "anchor": "x",
         "domain": [
          0,
          1
         ],
         "scaleanchor": "x",
         "scaleratio": 1,
         "title": {
          "text": "y - Highway (Miles per Gallon)"
         }
        }
       }
      },
      "text/html": [
       "<div>                            <div id=\"d66bf838-68dd-4aea-b732-7b684fb81992\" class=\"plotly-graph-div\" style=\"height:525px; width:500px;\"></div>            <script type=\"text/javascript\">                require([\"plotly\"], function(Plotly) {                    window.PLOTLYENV=window.PLOTLYENV || {};                                    if (document.getElementById(\"d66bf838-68dd-4aea-b732-7b684fb81992\")) {                    Plotly.newPlot(                        \"d66bf838-68dd-4aea-b732-7b684fb81992\",                        [{\"hovertemplate\":\"city_mpg=%{x}<br>highway_mpg=%{y}<extra></extra>\",\"legendgroup\":\"\",\"marker\":{\"color\":\"#636efa\",\"symbol\":\"circle\",\"opacity\":0.6,\"size\":8},\"mode\":\"markers\",\"name\":\"\",\"orientation\":\"v\",\"showlegend\":false,\"x\":[21,21,19,24,18,19,19,19,17,16,23,23,21,21,20,16,16,15,47,38,38,37,31,24,31,31,31,24,24,19,49,31,38,30,30,30,30,27,27,27,27,24,25,24,38,38,24,15,15,13,30,31,31,31,31,17,17,17,16,26,26,26,26,36,26,19,31,22,22,22,22,16,16,14,14,19,37,31,31,24,23,25,19,19,19,25,25,23,23,31,45,31,31,31,31,31,31,31,31,27,27,17,17,19,19,17,19,19,28,19,25,19,28,19,25,19,28,18,37,24,31,31,31,24,19,19,17,17,17,17,23,23,21,21,21,21,19,19,31,26,26,32,28,26,24,24,28,25,23,23,35,31,31,31,27,27,30,30,34,38,38,28,28,29,29,26,26,24,24,24,24,24,24,29,30,27,27,27,20,19,20,19,37,27,37,27,27,37,26,24,24,19,33,25,23,23,24,24,17,17,23,19,18,26,19],\"xaxis\":\"x\",\"y\":[27,27,26,30,22,25,25,25,20,22,29,29,28,28,25,22,22,20,53,43,43,41,38,30,38,38,38,30,30,24,54,38,42,34,34,34,34,33,33,33,33,28,31,29,43,43,29,19,19,17,31,38,38,38,38,23,23,23,23,32,32,32,32,42,32,27,39,25,25,25,25,18,18,16,16,24,41,38,38,30,30,32,24,24,24,32,32,30,30,37,50,37,37,37,37,37,37,37,37,34,34,22,22,25,25,23,25,24,33,24,25,24,33,24,25,24,33,24,41,30,38,38,38,30,24,27,25,25,25,28,31,31,28,28,28,28,26,26,36,31,31,37,33,32,25,29,32,31,29,23,39,38,38,37,32,32,37,37,36,47,47,34,34,34,34,29,29,30,30,30,30,30,30,34,33,32,32,32,24,24,24,24,46,34,46,34,34,42,32,29,29,24,38,31,28,28,28,28,22,22,28,25,23,27,25],\"yaxis\":\"y\",\"type\":\"scatter\"}],                        {\"template\":{\"data\":{\"histogram2dcontour\":[{\"type\":\"histogram2dcontour\",\"colorbar\":{\"outlinewidth\":0,\"ticks\":\"\"},\"colorscale\":[[0.0,\"#0d0887\"],[0.1111111111111111,\"#46039f\"],[0.2222222222222222,\"#7201a8\"],[0.3333333333333333,\"#9c179e\"],[0.4444444444444444,\"#bd3786\"],[0.5555555555555556,\"#d8576b\"],[0.6666666666666666,\"#ed7953\"],[0.7777777777777778,\"#fb9f3a\"],[0.8888888888888888,\"#fdca26\"],[1.0,\"#f0f921\"]]}],\"choropleth\":[{\"type\":\"choropleth\",\"colorbar\":{\"outlinewidth\":0,\"ticks\":\"\"}}],\"histogram2d\":[{\"type\":\"histogram2d\",\"colorbar\":{\"outlinewidth\":0,\"ticks\":\"\"},\"colorscale\":[[0.0,\"#0d0887\"],[0.1111111111111111,\"#46039f\"],[0.2222222222222222,\"#7201a8\"],[0.3333333333333333,\"#9c179e\"],[0.4444444444444444,\"#bd3786\"],[0.5555555555555556,\"#d8576b\"],[0.6666666666666666,\"#ed7953\"],[0.7777777777777778,\"#fb9f3a\"],[0.8888888888888888,\"#fdca26\"],[1.0,\"#f0f921\"]]}],\"heatmap\":[{\"type\":\"heatmap\",\"colorbar\":{\"outlinewidth\":0,\"ticks\":\"\"},\"colorscale\":[[0.0,\"#0d0887\"],[0.1111111111111111,\"#46039f\"],[0.2222222222222222,\"#7201a8\"],[0.3333333333333333,\"#9c179e\"],[0.4444444444444444,\"#bd3786\"],[0.5555555555555556,\"#d8576b\"],[0.6666666666666666,\"#ed7953\"],[0.7777777777777778,\"#fb9f3a\"],[0.8888888888888888,\"#fdca26\"],[1.0,\"#f0f921\"]]}],\"heatmapgl\":[{\"type\":\"heatmapgl\",\"colorbar\":{\"outlinewidth\":0,\"ticks\":\"\"},\"colorscale\":[[0.0,\"#0d0887\"],[0.1111111111111111,\"#46039f\"],[0.2222222222222222,\"#7201a8\"],[0.3333333333333333,\"#9c179e\"],[0.4444444444444444,\"#bd3786\"],[0.5555555555555556,\"#d8576b\"],[0.6666666666666666,\"#ed7953\"],[0.7777777777777778,\"#fb9f3a\"],[0.8888888888888888,\"#fdca26\"],[1.0,\"#f0f921\"]]}],\"contourcarpet\":[{\"type\":\"contourcarpet\",\"colorbar\":{\"outlinewidth\":0,\"ticks\":\"\"}}],\"contour\":[{\"type\":\"contour\",\"colorbar\":{\"outlinewidth\":0,\"ticks\":\"\"},\"colorscale\":[[0.0,\"#0d0887\"],[0.1111111111111111,\"#46039f\"],[0.2222222222222222,\"#7201a8\"],[0.3333333333333333,\"#9c179e\"],[0.4444444444444444,\"#bd3786\"],[0.5555555555555556,\"#d8576b\"],[0.6666666666666666,\"#ed7953\"],[0.7777777777777778,\"#fb9f3a\"],[0.8888888888888888,\"#fdca26\"],[1.0,\"#f0f921\"]]}],\"surface\":[{\"type\":\"surface\",\"colorbar\":{\"outlinewidth\":0,\"ticks\":\"\"},\"colorscale\":[[0.0,\"#0d0887\"],[0.1111111111111111,\"#46039f\"],[0.2222222222222222,\"#7201a8\"],[0.3333333333333333,\"#9c179e\"],[0.4444444444444444,\"#bd3786\"],[0.5555555555555556,\"#d8576b\"],[0.6666666666666666,\"#ed7953\"],[0.7777777777777778,\"#fb9f3a\"],[0.8888888888888888,\"#fdca26\"],[1.0,\"#f0f921\"]]}],\"mesh3d\":[{\"type\":\"mesh3d\",\"colorbar\":{\"outlinewidth\":0,\"ticks\":\"\"}}],\"scatter\":[{\"fillpattern\":{\"fillmode\":\"overlay\",\"size\":10,\"solidity\":0.2},\"type\":\"scatter\"}],\"parcoords\":[{\"type\":\"parcoords\",\"line\":{\"colorbar\":{\"outlinewidth\":0,\"ticks\":\"\"}}}],\"scatterpolargl\":[{\"type\":\"scatterpolargl\",\"marker\":{\"colorbar\":{\"outlinewidth\":0,\"ticks\":\"\"}}}],\"bar\":[{\"error_x\":{\"color\":\"#2a3f5f\"},\"error_y\":{\"color\":\"#2a3f5f\"},\"marker\":{\"line\":{\"color\":\"#E5ECF6\",\"width\":0.5},\"pattern\":{\"fillmode\":\"overlay\",\"size\":10,\"solidity\":0.2}},\"type\":\"bar\"}],\"scattergeo\":[{\"type\":\"scattergeo\",\"marker\":{\"colorbar\":{\"outlinewidth\":0,\"ticks\":\"\"}}}],\"scatterpolar\":[{\"type\":\"scatterpolar\",\"marker\":{\"colorbar\":{\"outlinewidth\":0,\"ticks\":\"\"}}}],\"histogram\":[{\"marker\":{\"pattern\":{\"fillmode\":\"overlay\",\"size\":10,\"solidity\":0.2}},\"type\":\"histogram\"}],\"scattergl\":[{\"type\":\"scattergl\",\"marker\":{\"colorbar\":{\"outlinewidth\":0,\"ticks\":\"\"}}}],\"scatter3d\":[{\"type\":\"scatter3d\",\"line\":{\"colorbar\":{\"outlinewidth\":0,\"ticks\":\"\"}},\"marker\":{\"colorbar\":{\"outlinewidth\":0,\"ticks\":\"\"}}}],\"scattermapbox\":[{\"type\":\"scattermapbox\",\"marker\":{\"colorbar\":{\"outlinewidth\":0,\"ticks\":\"\"}}}],\"scatterternary\":[{\"type\":\"scatterternary\",\"marker\":{\"colorbar\":{\"outlinewidth\":0,\"ticks\":\"\"}}}],\"scattercarpet\":[{\"type\":\"scattercarpet\",\"marker\":{\"colorbar\":{\"outlinewidth\":0,\"ticks\":\"\"}}}],\"carpet\":[{\"aaxis\":{\"endlinecolor\":\"#2a3f5f\",\"gridcolor\":\"white\",\"linecolor\":\"white\",\"minorgridcolor\":\"white\",\"startlinecolor\":\"#2a3f5f\"},\"baxis\":{\"endlinecolor\":\"#2a3f5f\",\"gridcolor\":\"white\",\"linecolor\":\"white\",\"minorgridcolor\":\"white\",\"startlinecolor\":\"#2a3f5f\"},\"type\":\"carpet\"}],\"table\":[{\"cells\":{\"fill\":{\"color\":\"#EBF0F8\"},\"line\":{\"color\":\"white\"}},\"header\":{\"fill\":{\"color\":\"#C8D4E3\"},\"line\":{\"color\":\"white\"}},\"type\":\"table\"}],\"barpolar\":[{\"marker\":{\"line\":{\"color\":\"#E5ECF6\",\"width\":0.5},\"pattern\":{\"fillmode\":\"overlay\",\"size\":10,\"solidity\":0.2}},\"type\":\"barpolar\"}],\"pie\":[{\"automargin\":true,\"type\":\"pie\"}]},\"layout\":{\"autotypenumbers\":\"strict\",\"colorway\":[\"#636efa\",\"#EF553B\",\"#00cc96\",\"#ab63fa\",\"#FFA15A\",\"#19d3f3\",\"#FF6692\",\"#B6E880\",\"#FF97FF\",\"#FECB52\"],\"font\":{\"color\":\"#2a3f5f\"},\"hovermode\":\"closest\",\"hoverlabel\":{\"align\":\"left\"},\"paper_bgcolor\":\"white\",\"plot_bgcolor\":\"#E5ECF6\",\"polar\":{\"bgcolor\":\"#E5ECF6\",\"angularaxis\":{\"gridcolor\":\"white\",\"linecolor\":\"white\",\"ticks\":\"\"},\"radialaxis\":{\"gridcolor\":\"white\",\"linecolor\":\"white\",\"ticks\":\"\"}},\"ternary\":{\"bgcolor\":\"#E5ECF6\",\"aaxis\":{\"gridcolor\":\"white\",\"linecolor\":\"white\",\"ticks\":\"\"},\"baxis\":{\"gridcolor\":\"white\",\"linecolor\":\"white\",\"ticks\":\"\"},\"caxis\":{\"gridcolor\":\"white\",\"linecolor\":\"white\",\"ticks\":\"\"}},\"coloraxis\":{\"colorbar\":{\"outlinewidth\":0,\"ticks\":\"\"}},\"colorscale\":{\"sequential\":[[0.0,\"#0d0887\"],[0.1111111111111111,\"#46039f\"],[0.2222222222222222,\"#7201a8\"],[0.3333333333333333,\"#9c179e\"],[0.4444444444444444,\"#bd3786\"],[0.5555555555555556,\"#d8576b\"],[0.6666666666666666,\"#ed7953\"],[0.7777777777777778,\"#fb9f3a\"],[0.8888888888888888,\"#fdca26\"],[1.0,\"#f0f921\"]],\"sequentialminus\":[[0.0,\"#0d0887\"],[0.1111111111111111,\"#46039f\"],[0.2222222222222222,\"#7201a8\"],[0.3333333333333333,\"#9c179e\"],[0.4444444444444444,\"#bd3786\"],[0.5555555555555556,\"#d8576b\"],[0.6666666666666666,\"#ed7953\"],[0.7777777777777778,\"#fb9f3a\"],[0.8888888888888888,\"#fdca26\"],[1.0,\"#f0f921\"]],\"diverging\":[[0,\"#8e0152\"],[0.1,\"#c51b7d\"],[0.2,\"#de77ae\"],[0.3,\"#f1b6da\"],[0.4,\"#fde0ef\"],[0.5,\"#f7f7f7\"],[0.6,\"#e6f5d0\"],[0.7,\"#b8e186\"],[0.8,\"#7fbc41\"],[0.9,\"#4d9221\"],[1,\"#276419\"]]},\"xaxis\":{\"gridcolor\":\"white\",\"linecolor\":\"white\",\"ticks\":\"\",\"title\":{\"standoff\":15},\"zerolinecolor\":\"white\",\"automargin\":true,\"zerolinewidth\":2},\"yaxis\":{\"gridcolor\":\"white\",\"linecolor\":\"white\",\"ticks\":\"\",\"title\":{\"standoff\":15},\"zerolinecolor\":\"white\",\"automargin\":true,\"zerolinewidth\":2},\"scene\":{\"xaxis\":{\"backgroundcolor\":\"#E5ECF6\",\"gridcolor\":\"white\",\"linecolor\":\"white\",\"showbackground\":true,\"ticks\":\"\",\"zerolinecolor\":\"white\",\"gridwidth\":2},\"yaxis\":{\"backgroundcolor\":\"#E5ECF6\",\"gridcolor\":\"white\",\"linecolor\":\"white\",\"showbackground\":true,\"ticks\":\"\",\"zerolinecolor\":\"white\",\"gridwidth\":2},\"zaxis\":{\"backgroundcolor\":\"#E5ECF6\",\"gridcolor\":\"white\",\"linecolor\":\"white\",\"showbackground\":true,\"ticks\":\"\",\"zerolinecolor\":\"white\",\"gridwidth\":2}},\"shapedefaults\":{\"line\":{\"color\":\"#2a3f5f\"}},\"annotationdefaults\":{\"arrowcolor\":\"#2a3f5f\",\"arrowhead\":0,\"arrowwidth\":1},\"geo\":{\"bgcolor\":\"white\",\"landcolor\":\"#E5ECF6\",\"subunitcolor\":\"white\",\"showland\":true,\"showlakes\":true,\"lakecolor\":\"white\"},\"title\":{\"x\":0.05},\"mapbox\":{\"style\":\"light\"}}},\"xaxis\":{\"anchor\":\"y\",\"domain\":[0.0,1.0],\"title\":{\"text\":\"x - City (Miles per Gallon)\"},\"scaleanchor\":\"y\",\"scaleratio\":1},\"yaxis\":{\"anchor\":\"x\",\"domain\":[0.0,1.0],\"title\":{\"text\":\"y - Highway (Miles per Gallon)\"},\"scaleanchor\":\"x\",\"scaleratio\":1},\"legend\":{\"tracegroupgap\":0},\"title\":{\"text\":\"City vs. Highway (Miles per Gallon)\"},\"width\":500},                        {\"responsive\": true}                    ).then(function(){\n",
       "                            \n",
       "var gd = document.getElementById('d66bf838-68dd-4aea-b732-7b684fb81992');\n",
       "var x = new MutationObserver(function (mutations, observer) {{\n",
       "        var display = window.getComputedStyle(gd).display;\n",
       "        if (!display || display === 'none') {{\n",
       "            console.log([gd, 'removed!']);\n",
       "            Plotly.purge(gd);\n",
       "            observer.disconnect();\n",
       "        }}\n",
       "}});\n",
       "\n",
       "// Listen for the removal of the full notebook cells\n",
       "var notebookContainer = gd.closest('#notebook-container');\n",
       "if (notebookContainer) {{\n",
       "    x.observe(notebookContainer, {childList: true});\n",
       "}}\n",
       "\n",
       "// Listen for the clearing of the current output cell\n",
       "var outputEl = gd.closest('.output');\n",
       "if (outputEl) {{\n",
       "    x.observe(outputEl, {childList: true});\n",
       "}}\n",
       "\n",
       "                        })                };                });            </script>        </div>"
      ]
     },
     "metadata": {},
     "output_type": "display_data"
    }
   ],
   "source": [
    "# Plotting the data\n",
    "fig = px.scatter(data, x='city_mpg', y='highway_mpg', \n",
    "           width=500, title=\"City (MPG) vs Highway (MPG)\")\n",
    "\n",
    "# Set the aspect ratio to be equal, this is done by updating the layout of the figure.\n",
    "fig.update_layout(title=\"City vs. Highway (Miles per Gallon)\",\n",
    "                  xaxis=dict(title='x - City (Miles per Gallon)', scaleanchor=\"y\", scaleratio=1),\n",
    "                  yaxis=dict(title='y - Highway (Miles per Gallon)', scaleanchor=\"x\", scaleratio=1))\n",
    "\n",
    "# Update the markers and the opacity to get a more beautiful plot.\n",
    "fig.update_traces(marker=dict(size=8, opacity=0.6))\n",
    "\n",
    "# Show the figure\n",
    "fig.show()"
   ]
  },
  {
   "cell_type": "markdown",
   "metadata": {},
   "source": [
    "There is a linear relationship between `city_mpg` and `highway_mpg`.\n",
    "\n",
    "The problem setting here is different: rather than attempting to predict the y values (`highway_mpg`) from the x values (`city_mpg`), the unsupervised learning problem attempts to learn about the *relationship* between both variables. \n",
    "\n",
    "In PCA, this relationship is quantified by finding a list of the *principal axes* in the data and using those axes to describe the dataset."
   ]
  },
  {
   "cell_type": "code",
   "execution_count": 7,
   "metadata": {},
   "outputs": [
    {
     "data": {
      "text/html": [
       "<style>#sk-container-id-1 {color: black;background-color: white;}#sk-container-id-1 pre{padding: 0;}#sk-container-id-1 div.sk-toggleable {background-color: white;}#sk-container-id-1 label.sk-toggleable__label {cursor: pointer;display: block;width: 100%;margin-bottom: 0;padding: 0.3em;box-sizing: border-box;text-align: center;}#sk-container-id-1 label.sk-toggleable__label-arrow:before {content: \"▸\";float: left;margin-right: 0.25em;color: #696969;}#sk-container-id-1 label.sk-toggleable__label-arrow:hover:before {color: black;}#sk-container-id-1 div.sk-estimator:hover label.sk-toggleable__label-arrow:before {color: black;}#sk-container-id-1 div.sk-toggleable__content {max-height: 0;max-width: 0;overflow: hidden;text-align: left;background-color: #f0f8ff;}#sk-container-id-1 div.sk-toggleable__content pre {margin: 0.2em;color: black;border-radius: 0.25em;background-color: #f0f8ff;}#sk-container-id-1 input.sk-toggleable__control:checked~div.sk-toggleable__content {max-height: 200px;max-width: 100%;overflow: auto;}#sk-container-id-1 input.sk-toggleable__control:checked~label.sk-toggleable__label-arrow:before {content: \"▾\";}#sk-container-id-1 div.sk-estimator input.sk-toggleable__control:checked~label.sk-toggleable__label {background-color: #d4ebff;}#sk-container-id-1 div.sk-label input.sk-toggleable__control:checked~label.sk-toggleable__label {background-color: #d4ebff;}#sk-container-id-1 input.sk-hidden--visually {border: 0;clip: rect(1px 1px 1px 1px);clip: rect(1px, 1px, 1px, 1px);height: 1px;margin: -1px;overflow: hidden;padding: 0;position: absolute;width: 1px;}#sk-container-id-1 div.sk-estimator {font-family: monospace;background-color: #f0f8ff;border: 1px dotted black;border-radius: 0.25em;box-sizing: border-box;margin-bottom: 0.5em;}#sk-container-id-1 div.sk-estimator:hover {background-color: #d4ebff;}#sk-container-id-1 div.sk-parallel-item::after {content: \"\";width: 100%;border-bottom: 1px solid gray;flex-grow: 1;}#sk-container-id-1 div.sk-label:hover label.sk-toggleable__label {background-color: #d4ebff;}#sk-container-id-1 div.sk-serial::before {content: \"\";position: absolute;border-left: 1px solid gray;box-sizing: border-box;top: 0;bottom: 0;left: 50%;z-index: 0;}#sk-container-id-1 div.sk-serial {display: flex;flex-direction: column;align-items: center;background-color: white;padding-right: 0.2em;padding-left: 0.2em;position: relative;}#sk-container-id-1 div.sk-item {position: relative;z-index: 1;}#sk-container-id-1 div.sk-parallel {display: flex;align-items: stretch;justify-content: center;background-color: white;position: relative;}#sk-container-id-1 div.sk-item::before, #sk-container-id-1 div.sk-parallel-item::before {content: \"\";position: absolute;border-left: 1px solid gray;box-sizing: border-box;top: 0;bottom: 0;left: 50%;z-index: -1;}#sk-container-id-1 div.sk-parallel-item {display: flex;flex-direction: column;z-index: 1;position: relative;background-color: white;}#sk-container-id-1 div.sk-parallel-item:first-child::after {align-self: flex-end;width: 50%;}#sk-container-id-1 div.sk-parallel-item:last-child::after {align-self: flex-start;width: 50%;}#sk-container-id-1 div.sk-parallel-item:only-child::after {width: 0;}#sk-container-id-1 div.sk-dashed-wrapped {border: 1px dashed gray;margin: 0 0.4em 0.5em 0.4em;box-sizing: border-box;padding-bottom: 0.4em;background-color: white;}#sk-container-id-1 div.sk-label label {font-family: monospace;font-weight: bold;display: inline-block;line-height: 1.2em;}#sk-container-id-1 div.sk-label-container {text-align: center;}#sk-container-id-1 div.sk-container {/* jupyter's `normalize.less` sets `[hidden] { display: none; }` but bootstrap.min.css set `[hidden] { display: none !important; }` so we also need the `!important` here to be able to override the default hidden behavior on the sphinx rendered scikit-learn.org. See: https://github.com/scikit-learn/scikit-learn/issues/21755 */display: inline-block !important;position: relative;}#sk-container-id-1 div.sk-text-repr-fallback {display: none;}</style><div id=\"sk-container-id-1\" class=\"sk-top-container\"><div class=\"sk-text-repr-fallback\"><pre>PCA(n_components=2)</pre><b>In a Jupyter environment, please rerun this cell to show the HTML representation or trust the notebook. <br />On GitHub, the HTML representation is unable to render, please try loading this page with nbviewer.org.</b></div><div class=\"sk-container\" hidden><div class=\"sk-item\"><div class=\"sk-estimator sk-toggleable\"><input class=\"sk-toggleable__control sk-hidden--visually\" id=\"sk-estimator-id-1\" type=\"checkbox\" checked><label for=\"sk-estimator-id-1\" class=\"sk-toggleable__label sk-toggleable__label-arrow\">PCA</label><div class=\"sk-toggleable__content\"><pre>PCA(n_components=2)</pre></div></div></div></div></div>"
      ],
      "text/plain": [
       "PCA(n_components=2)"
      ]
     },
     "execution_count": 7,
     "metadata": {},
     "output_type": "execute_result"
    }
   ],
   "source": [
    "from sklearn.decomposition import PCA\n",
    "\n",
    "pca = PCA(n_components=2)\n",
    "pca.fit(data)"
   ]
  },
  {
   "cell_type": "markdown",
   "metadata": {},
   "source": [
    "The fit learns the `explained variance` and `components` from the data."
   ]
  },
  {
   "cell_type": "code",
   "execution_count": 8,
   "metadata": {},
   "outputs": [
    {
     "name": "stdout",
     "output_type": "stream",
     "text": [
      "Explained variance: [88.93313699  1.28957941]\n"
     ]
    }
   ],
   "source": [
    "print('Explained variance:', pca.explained_variance_)"
   ]
  },
  {
   "cell_type": "markdown",
   "metadata": {},
   "source": [
    "Explained variance refers to the amount of variance in the data that is accounted for by each principal component. It indicates how much of the total variance in the dataset is captured by each component. \n",
    "\n",
    "Each principal component captures a certain amount of the total variability in the dataset. The first principal component captures the most variance (`88.9` in our case), followed by the second, and so on."
   ]
  },
  {
   "cell_type": "code",
   "execution_count": 9,
   "metadata": {},
   "outputs": [
    {
     "name": "stdout",
     "output_type": "stream",
     "text": [
      "Components:\n",
      " [[ 0.68820301  0.72551817]\n",
      " [-0.72551817  0.68820301]]\n"
     ]
    }
   ],
   "source": [
    "print('Components:\\n', pca.components_)"
   ]
  },
  {
   "cell_type": "markdown",
   "metadata": {},
   "source": [
    "The components are a set of orthogonal axes (vectors) in feature space along which the data varies the most, and they define the directions of maximum variance in the data.\n",
    "\n",
    "They can be used to transform the data into a new coordinate system through a linear transformation.\n",
    "\n",
    "Dimenssions:\n",
    "- *rows*: number of principal components retained: `n_components`, (`2` in our case).\n",
    "- *columns*: number of features in the input dataset, (`2` in our case)."
   ]
  },
  {
   "cell_type": "markdown",
   "metadata": {},
   "source": [
    "To understand what the `explained variance` and `components` mean, let's visualize them as vectors over the input data.\n",
    "- The `components` will define the direction of the vectors \n",
    "- The `explained variance` will be used to compute the length of the vector."
   ]
  },
  {
   "cell_type": "code",
   "execution_count": 10,
   "metadata": {},
   "outputs": [
    {
     "data": {
      "application/vnd.plotly.v1+json": {
       "config": {
        "plotlyServerURL": "https://plot.ly"
       },
       "data": [
        {
         "hovertemplate": "city_mpg=%{x}<br>highway_mpg=%{y}<extra></extra>",
         "legendgroup": "",
         "marker": {
          "color": "#636efa",
          "opacity": 0.6,
          "size": 8,
          "symbol": "circle"
         },
         "mode": "markers",
         "name": "",
         "orientation": "v",
         "showlegend": false,
         "type": "scatter",
         "x": [
          21,
          21,
          19,
          24,
          18,
          19,
          19,
          19,
          17,
          16,
          23,
          23,
          21,
          21,
          20,
          16,
          16,
          15,
          47,
          38,
          38,
          37,
          31,
          24,
          31,
          31,
          31,
          24,
          24,
          19,
          49,
          31,
          38,
          30,
          30,
          30,
          30,
          27,
          27,
          27,
          27,
          24,
          25,
          24,
          38,
          38,
          24,
          15,
          15,
          13,
          30,
          31,
          31,
          31,
          31,
          17,
          17,
          17,
          16,
          26,
          26,
          26,
          26,
          36,
          26,
          19,
          31,
          22,
          22,
          22,
          22,
          16,
          16,
          14,
          14,
          19,
          37,
          31,
          31,
          24,
          23,
          25,
          19,
          19,
          19,
          25,
          25,
          23,
          23,
          31,
          45,
          31,
          31,
          31,
          31,
          31,
          31,
          31,
          31,
          27,
          27,
          17,
          17,
          19,
          19,
          17,
          19,
          19,
          28,
          19,
          25,
          19,
          28,
          19,
          25,
          19,
          28,
          18,
          37,
          24,
          31,
          31,
          31,
          24,
          19,
          19,
          17,
          17,
          17,
          17,
          23,
          23,
          21,
          21,
          21,
          21,
          19,
          19,
          31,
          26,
          26,
          32,
          28,
          26,
          24,
          24,
          28,
          25,
          23,
          23,
          35,
          31,
          31,
          31,
          27,
          27,
          30,
          30,
          34,
          38,
          38,
          28,
          28,
          29,
          29,
          26,
          26,
          24,
          24,
          24,
          24,
          24,
          24,
          29,
          30,
          27,
          27,
          27,
          20,
          19,
          20,
          19,
          37,
          27,
          37,
          27,
          27,
          37,
          26,
          24,
          24,
          19,
          33,
          25,
          23,
          23,
          24,
          24,
          17,
          17,
          23,
          19,
          18,
          26,
          19
         ],
         "xaxis": "x",
         "y": [
          27,
          27,
          26,
          30,
          22,
          25,
          25,
          25,
          20,
          22,
          29,
          29,
          28,
          28,
          25,
          22,
          22,
          20,
          53,
          43,
          43,
          41,
          38,
          30,
          38,
          38,
          38,
          30,
          30,
          24,
          54,
          38,
          42,
          34,
          34,
          34,
          34,
          33,
          33,
          33,
          33,
          28,
          31,
          29,
          43,
          43,
          29,
          19,
          19,
          17,
          31,
          38,
          38,
          38,
          38,
          23,
          23,
          23,
          23,
          32,
          32,
          32,
          32,
          42,
          32,
          27,
          39,
          25,
          25,
          25,
          25,
          18,
          18,
          16,
          16,
          24,
          41,
          38,
          38,
          30,
          30,
          32,
          24,
          24,
          24,
          32,
          32,
          30,
          30,
          37,
          50,
          37,
          37,
          37,
          37,
          37,
          37,
          37,
          37,
          34,
          34,
          22,
          22,
          25,
          25,
          23,
          25,
          24,
          33,
          24,
          25,
          24,
          33,
          24,
          25,
          24,
          33,
          24,
          41,
          30,
          38,
          38,
          38,
          30,
          24,
          27,
          25,
          25,
          25,
          28,
          31,
          31,
          28,
          28,
          28,
          28,
          26,
          26,
          36,
          31,
          31,
          37,
          33,
          32,
          25,
          29,
          32,
          31,
          29,
          23,
          39,
          38,
          38,
          37,
          32,
          32,
          37,
          37,
          36,
          47,
          47,
          34,
          34,
          34,
          34,
          29,
          29,
          30,
          30,
          30,
          30,
          30,
          30,
          34,
          33,
          32,
          32,
          32,
          24,
          24,
          24,
          24,
          46,
          34,
          46,
          34,
          34,
          42,
          32,
          29,
          29,
          24,
          38,
          31,
          28,
          28,
          28,
          28,
          22,
          22,
          28,
          25,
          23,
          27,
          25
         ],
         "yaxis": "y"
        }
       ],
       "layout": {
        "annotations": [
         {
          "arrowhead": 2,
          "arrowwidth": 2,
          "ax": 25.21951219512195,
          "axref": "x",
          "ay": 30.75121951219512,
          "ayref": "y",
          "showarrow": true,
          "x": 44.689676976453235,
          "xref": "x",
          "y": 51.277079209805855,
          "yref": "y"
         },
         {
          "arrowhead": 2,
          "arrowwidth": 2,
          "ax": 25.21951219512195,
          "axref": "x",
          "ay": 30.75121951219512,
          "ayref": "y",
          "showarrow": true,
          "x": 22.747824500599055,
          "xref": "x",
          "y": 33.0957822934535,
          "yref": "y"
         }
        ],
        "legend": {
         "tracegroupgap": 0
        },
        "margin": {
         "t": 60
        },
        "template": {
         "data": {
          "bar": [
           {
            "error_x": {
             "color": "#2a3f5f"
            },
            "error_y": {
             "color": "#2a3f5f"
            },
            "marker": {
             "line": {
              "color": "#E5ECF6",
              "width": 0.5
             },
             "pattern": {
              "fillmode": "overlay",
              "size": 10,
              "solidity": 0.2
             }
            },
            "type": "bar"
           }
          ],
          "barpolar": [
           {
            "marker": {
             "line": {
              "color": "#E5ECF6",
              "width": 0.5
             },
             "pattern": {
              "fillmode": "overlay",
              "size": 10,
              "solidity": 0.2
             }
            },
            "type": "barpolar"
           }
          ],
          "carpet": [
           {
            "aaxis": {
             "endlinecolor": "#2a3f5f",
             "gridcolor": "white",
             "linecolor": "white",
             "minorgridcolor": "white",
             "startlinecolor": "#2a3f5f"
            },
            "baxis": {
             "endlinecolor": "#2a3f5f",
             "gridcolor": "white",
             "linecolor": "white",
             "minorgridcolor": "white",
             "startlinecolor": "#2a3f5f"
            },
            "type": "carpet"
           }
          ],
          "choropleth": [
           {
            "colorbar": {
             "outlinewidth": 0,
             "ticks": ""
            },
            "type": "choropleth"
           }
          ],
          "contour": [
           {
            "colorbar": {
             "outlinewidth": 0,
             "ticks": ""
            },
            "colorscale": [
             [
              0,
              "#0d0887"
             ],
             [
              0.1111111111111111,
              "#46039f"
             ],
             [
              0.2222222222222222,
              "#7201a8"
             ],
             [
              0.3333333333333333,
              "#9c179e"
             ],
             [
              0.4444444444444444,
              "#bd3786"
             ],
             [
              0.5555555555555556,
              "#d8576b"
             ],
             [
              0.6666666666666666,
              "#ed7953"
             ],
             [
              0.7777777777777778,
              "#fb9f3a"
             ],
             [
              0.8888888888888888,
              "#fdca26"
             ],
             [
              1,
              "#f0f921"
             ]
            ],
            "type": "contour"
           }
          ],
          "contourcarpet": [
           {
            "colorbar": {
             "outlinewidth": 0,
             "ticks": ""
            },
            "type": "contourcarpet"
           }
          ],
          "heatmap": [
           {
            "colorbar": {
             "outlinewidth": 0,
             "ticks": ""
            },
            "colorscale": [
             [
              0,
              "#0d0887"
             ],
             [
              0.1111111111111111,
              "#46039f"
             ],
             [
              0.2222222222222222,
              "#7201a8"
             ],
             [
              0.3333333333333333,
              "#9c179e"
             ],
             [
              0.4444444444444444,
              "#bd3786"
             ],
             [
              0.5555555555555556,
              "#d8576b"
             ],
             [
              0.6666666666666666,
              "#ed7953"
             ],
             [
              0.7777777777777778,
              "#fb9f3a"
             ],
             [
              0.8888888888888888,
              "#fdca26"
             ],
             [
              1,
              "#f0f921"
             ]
            ],
            "type": "heatmap"
           }
          ],
          "heatmapgl": [
           {
            "colorbar": {
             "outlinewidth": 0,
             "ticks": ""
            },
            "colorscale": [
             [
              0,
              "#0d0887"
             ],
             [
              0.1111111111111111,
              "#46039f"
             ],
             [
              0.2222222222222222,
              "#7201a8"
             ],
             [
              0.3333333333333333,
              "#9c179e"
             ],
             [
              0.4444444444444444,
              "#bd3786"
             ],
             [
              0.5555555555555556,
              "#d8576b"
             ],
             [
              0.6666666666666666,
              "#ed7953"
             ],
             [
              0.7777777777777778,
              "#fb9f3a"
             ],
             [
              0.8888888888888888,
              "#fdca26"
             ],
             [
              1,
              "#f0f921"
             ]
            ],
            "type": "heatmapgl"
           }
          ],
          "histogram": [
           {
            "marker": {
             "pattern": {
              "fillmode": "overlay",
              "size": 10,
              "solidity": 0.2
             }
            },
            "type": "histogram"
           }
          ],
          "histogram2d": [
           {
            "colorbar": {
             "outlinewidth": 0,
             "ticks": ""
            },
            "colorscale": [
             [
              0,
              "#0d0887"
             ],
             [
              0.1111111111111111,
              "#46039f"
             ],
             [
              0.2222222222222222,
              "#7201a8"
             ],
             [
              0.3333333333333333,
              "#9c179e"
             ],
             [
              0.4444444444444444,
              "#bd3786"
             ],
             [
              0.5555555555555556,
              "#d8576b"
             ],
             [
              0.6666666666666666,
              "#ed7953"
             ],
             [
              0.7777777777777778,
              "#fb9f3a"
             ],
             [
              0.8888888888888888,
              "#fdca26"
             ],
             [
              1,
              "#f0f921"
             ]
            ],
            "type": "histogram2d"
           }
          ],
          "histogram2dcontour": [
           {
            "colorbar": {
             "outlinewidth": 0,
             "ticks": ""
            },
            "colorscale": [
             [
              0,
              "#0d0887"
             ],
             [
              0.1111111111111111,
              "#46039f"
             ],
             [
              0.2222222222222222,
              "#7201a8"
             ],
             [
              0.3333333333333333,
              "#9c179e"
             ],
             [
              0.4444444444444444,
              "#bd3786"
             ],
             [
              0.5555555555555556,
              "#d8576b"
             ],
             [
              0.6666666666666666,
              "#ed7953"
             ],
             [
              0.7777777777777778,
              "#fb9f3a"
             ],
             [
              0.8888888888888888,
              "#fdca26"
             ],
             [
              1,
              "#f0f921"
             ]
            ],
            "type": "histogram2dcontour"
           }
          ],
          "mesh3d": [
           {
            "colorbar": {
             "outlinewidth": 0,
             "ticks": ""
            },
            "type": "mesh3d"
           }
          ],
          "parcoords": [
           {
            "line": {
             "colorbar": {
              "outlinewidth": 0,
              "ticks": ""
             }
            },
            "type": "parcoords"
           }
          ],
          "pie": [
           {
            "automargin": true,
            "type": "pie"
           }
          ],
          "scatter": [
           {
            "fillpattern": {
             "fillmode": "overlay",
             "size": 10,
             "solidity": 0.2
            },
            "type": "scatter"
           }
          ],
          "scatter3d": [
           {
            "line": {
             "colorbar": {
              "outlinewidth": 0,
              "ticks": ""
             }
            },
            "marker": {
             "colorbar": {
              "outlinewidth": 0,
              "ticks": ""
             }
            },
            "type": "scatter3d"
           }
          ],
          "scattercarpet": [
           {
            "marker": {
             "colorbar": {
              "outlinewidth": 0,
              "ticks": ""
             }
            },
            "type": "scattercarpet"
           }
          ],
          "scattergeo": [
           {
            "marker": {
             "colorbar": {
              "outlinewidth": 0,
              "ticks": ""
             }
            },
            "type": "scattergeo"
           }
          ],
          "scattergl": [
           {
            "marker": {
             "colorbar": {
              "outlinewidth": 0,
              "ticks": ""
             }
            },
            "type": "scattergl"
           }
          ],
          "scattermapbox": [
           {
            "marker": {
             "colorbar": {
              "outlinewidth": 0,
              "ticks": ""
             }
            },
            "type": "scattermapbox"
           }
          ],
          "scatterpolar": [
           {
            "marker": {
             "colorbar": {
              "outlinewidth": 0,
              "ticks": ""
             }
            },
            "type": "scatterpolar"
           }
          ],
          "scatterpolargl": [
           {
            "marker": {
             "colorbar": {
              "outlinewidth": 0,
              "ticks": ""
             }
            },
            "type": "scatterpolargl"
           }
          ],
          "scatterternary": [
           {
            "marker": {
             "colorbar": {
              "outlinewidth": 0,
              "ticks": ""
             }
            },
            "type": "scatterternary"
           }
          ],
          "surface": [
           {
            "colorbar": {
             "outlinewidth": 0,
             "ticks": ""
            },
            "colorscale": [
             [
              0,
              "#0d0887"
             ],
             [
              0.1111111111111111,
              "#46039f"
             ],
             [
              0.2222222222222222,
              "#7201a8"
             ],
             [
              0.3333333333333333,
              "#9c179e"
             ],
             [
              0.4444444444444444,
              "#bd3786"
             ],
             [
              0.5555555555555556,
              "#d8576b"
             ],
             [
              0.6666666666666666,
              "#ed7953"
             ],
             [
              0.7777777777777778,
              "#fb9f3a"
             ],
             [
              0.8888888888888888,
              "#fdca26"
             ],
             [
              1,
              "#f0f921"
             ]
            ],
            "type": "surface"
           }
          ],
          "table": [
           {
            "cells": {
             "fill": {
              "color": "#EBF0F8"
             },
             "line": {
              "color": "white"
             }
            },
            "header": {
             "fill": {
              "color": "#C8D4E3"
             },
             "line": {
              "color": "white"
             }
            },
            "type": "table"
           }
          ]
         },
         "layout": {
          "annotationdefaults": {
           "arrowcolor": "#2a3f5f",
           "arrowhead": 0,
           "arrowwidth": 1
          },
          "autotypenumbers": "strict",
          "coloraxis": {
           "colorbar": {
            "outlinewidth": 0,
            "ticks": ""
           }
          },
          "colorscale": {
           "diverging": [
            [
             0,
             "#8e0152"
            ],
            [
             0.1,
             "#c51b7d"
            ],
            [
             0.2,
             "#de77ae"
            ],
            [
             0.3,
             "#f1b6da"
            ],
            [
             0.4,
             "#fde0ef"
            ],
            [
             0.5,
             "#f7f7f7"
            ],
            [
             0.6,
             "#e6f5d0"
            ],
            [
             0.7,
             "#b8e186"
            ],
            [
             0.8,
             "#7fbc41"
            ],
            [
             0.9,
             "#4d9221"
            ],
            [
             1,
             "#276419"
            ]
           ],
           "sequential": [
            [
             0,
             "#0d0887"
            ],
            [
             0.1111111111111111,
             "#46039f"
            ],
            [
             0.2222222222222222,
             "#7201a8"
            ],
            [
             0.3333333333333333,
             "#9c179e"
            ],
            [
             0.4444444444444444,
             "#bd3786"
            ],
            [
             0.5555555555555556,
             "#d8576b"
            ],
            [
             0.6666666666666666,
             "#ed7953"
            ],
            [
             0.7777777777777778,
             "#fb9f3a"
            ],
            [
             0.8888888888888888,
             "#fdca26"
            ],
            [
             1,
             "#f0f921"
            ]
           ],
           "sequentialminus": [
            [
             0,
             "#0d0887"
            ],
            [
             0.1111111111111111,
             "#46039f"
            ],
            [
             0.2222222222222222,
             "#7201a8"
            ],
            [
             0.3333333333333333,
             "#9c179e"
            ],
            [
             0.4444444444444444,
             "#bd3786"
            ],
            [
             0.5555555555555556,
             "#d8576b"
            ],
            [
             0.6666666666666666,
             "#ed7953"
            ],
            [
             0.7777777777777778,
             "#fb9f3a"
            ],
            [
             0.8888888888888888,
             "#fdca26"
            ],
            [
             1,
             "#f0f921"
            ]
           ]
          },
          "colorway": [
           "#636efa",
           "#EF553B",
           "#00cc96",
           "#ab63fa",
           "#FFA15A",
           "#19d3f3",
           "#FF6692",
           "#B6E880",
           "#FF97FF",
           "#FECB52"
          ],
          "font": {
           "color": "#2a3f5f"
          },
          "geo": {
           "bgcolor": "white",
           "lakecolor": "white",
           "landcolor": "#E5ECF6",
           "showlakes": true,
           "showland": true,
           "subunitcolor": "white"
          },
          "hoverlabel": {
           "align": "left"
          },
          "hovermode": "closest",
          "mapbox": {
           "style": "light"
          },
          "paper_bgcolor": "white",
          "plot_bgcolor": "#E5ECF6",
          "polar": {
           "angularaxis": {
            "gridcolor": "white",
            "linecolor": "white",
            "ticks": ""
           },
           "bgcolor": "#E5ECF6",
           "radialaxis": {
            "gridcolor": "white",
            "linecolor": "white",
            "ticks": ""
           }
          },
          "scene": {
           "xaxis": {
            "backgroundcolor": "#E5ECF6",
            "gridcolor": "white",
            "gridwidth": 2,
            "linecolor": "white",
            "showbackground": true,
            "ticks": "",
            "zerolinecolor": "white"
           },
           "yaxis": {
            "backgroundcolor": "#E5ECF6",
            "gridcolor": "white",
            "gridwidth": 2,
            "linecolor": "white",
            "showbackground": true,
            "ticks": "",
            "zerolinecolor": "white"
           },
           "zaxis": {
            "backgroundcolor": "#E5ECF6",
            "gridcolor": "white",
            "gridwidth": 2,
            "linecolor": "white",
            "showbackground": true,
            "ticks": "",
            "zerolinecolor": "white"
           }
          },
          "shapedefaults": {
           "line": {
            "color": "#2a3f5f"
           }
          },
          "ternary": {
           "aaxis": {
            "gridcolor": "white",
            "linecolor": "white",
            "ticks": ""
           },
           "baxis": {
            "gridcolor": "white",
            "linecolor": "white",
            "ticks": ""
           },
           "bgcolor": "#E5ECF6",
           "caxis": {
            "gridcolor": "white",
            "linecolor": "white",
            "ticks": ""
           }
          },
          "title": {
           "x": 0.05
          },
          "xaxis": {
           "automargin": true,
           "gridcolor": "white",
           "linecolor": "white",
           "ticks": "",
           "title": {
            "standoff": 15
           },
           "zerolinecolor": "white",
           "zerolinewidth": 2
          },
          "yaxis": {
           "automargin": true,
           "gridcolor": "white",
           "linecolor": "white",
           "ticks": "",
           "title": {
            "standoff": 15
           },
           "zerolinecolor": "white",
           "zerolinewidth": 2
          }
         }
        },
        "title": {
         "text": "PCA Vectors"
        },
        "width": 500,
        "xaxis": {
         "anchor": "y",
         "domain": [
          0,
          1
         ],
         "scaleanchor": "y",
         "scaleratio": 1,
         "title": {
          "text": "x - City (Miles per Gallon)"
         }
        },
        "yaxis": {
         "anchor": "x",
         "domain": [
          0,
          1
         ],
         "scaleanchor": "x",
         "scaleratio": 1,
         "title": {
          "text": "y - Highway (Miles per Gallon)"
         }
        }
       }
      },
      "text/html": [
       "<div>                            <div id=\"9db0fb70-ab88-4de3-a1e7-1e32e6948fb8\" class=\"plotly-graph-div\" style=\"height:525px; width:500px;\"></div>            <script type=\"text/javascript\">                require([\"plotly\"], function(Plotly) {                    window.PLOTLYENV=window.PLOTLYENV || {};                                    if (document.getElementById(\"9db0fb70-ab88-4de3-a1e7-1e32e6948fb8\")) {                    Plotly.newPlot(                        \"9db0fb70-ab88-4de3-a1e7-1e32e6948fb8\",                        [{\"hovertemplate\":\"city_mpg=%{x}<br>highway_mpg=%{y}<extra></extra>\",\"legendgroup\":\"\",\"marker\":{\"color\":\"#636efa\",\"symbol\":\"circle\",\"opacity\":0.6,\"size\":8},\"mode\":\"markers\",\"name\":\"\",\"orientation\":\"v\",\"showlegend\":false,\"x\":[21,21,19,24,18,19,19,19,17,16,23,23,21,21,20,16,16,15,47,38,38,37,31,24,31,31,31,24,24,19,49,31,38,30,30,30,30,27,27,27,27,24,25,24,38,38,24,15,15,13,30,31,31,31,31,17,17,17,16,26,26,26,26,36,26,19,31,22,22,22,22,16,16,14,14,19,37,31,31,24,23,25,19,19,19,25,25,23,23,31,45,31,31,31,31,31,31,31,31,27,27,17,17,19,19,17,19,19,28,19,25,19,28,19,25,19,28,18,37,24,31,31,31,24,19,19,17,17,17,17,23,23,21,21,21,21,19,19,31,26,26,32,28,26,24,24,28,25,23,23,35,31,31,31,27,27,30,30,34,38,38,28,28,29,29,26,26,24,24,24,24,24,24,29,30,27,27,27,20,19,20,19,37,27,37,27,27,37,26,24,24,19,33,25,23,23,24,24,17,17,23,19,18,26,19],\"xaxis\":\"x\",\"y\":[27,27,26,30,22,25,25,25,20,22,29,29,28,28,25,22,22,20,53,43,43,41,38,30,38,38,38,30,30,24,54,38,42,34,34,34,34,33,33,33,33,28,31,29,43,43,29,19,19,17,31,38,38,38,38,23,23,23,23,32,32,32,32,42,32,27,39,25,25,25,25,18,18,16,16,24,41,38,38,30,30,32,24,24,24,32,32,30,30,37,50,37,37,37,37,37,37,37,37,34,34,22,22,25,25,23,25,24,33,24,25,24,33,24,25,24,33,24,41,30,38,38,38,30,24,27,25,25,25,28,31,31,28,28,28,28,26,26,36,31,31,37,33,32,25,29,32,31,29,23,39,38,38,37,32,32,37,37,36,47,47,34,34,34,34,29,29,30,30,30,30,30,30,34,33,32,32,32,24,24,24,24,46,34,46,34,34,42,32,29,29,24,38,31,28,28,28,28,22,22,28,25,23,27,25],\"yaxis\":\"y\",\"type\":\"scatter\"}],                        {\"template\":{\"data\":{\"histogram2dcontour\":[{\"type\":\"histogram2dcontour\",\"colorbar\":{\"outlinewidth\":0,\"ticks\":\"\"},\"colorscale\":[[0.0,\"#0d0887\"],[0.1111111111111111,\"#46039f\"],[0.2222222222222222,\"#7201a8\"],[0.3333333333333333,\"#9c179e\"],[0.4444444444444444,\"#bd3786\"],[0.5555555555555556,\"#d8576b\"],[0.6666666666666666,\"#ed7953\"],[0.7777777777777778,\"#fb9f3a\"],[0.8888888888888888,\"#fdca26\"],[1.0,\"#f0f921\"]]}],\"choropleth\":[{\"type\":\"choropleth\",\"colorbar\":{\"outlinewidth\":0,\"ticks\":\"\"}}],\"histogram2d\":[{\"type\":\"histogram2d\",\"colorbar\":{\"outlinewidth\":0,\"ticks\":\"\"},\"colorscale\":[[0.0,\"#0d0887\"],[0.1111111111111111,\"#46039f\"],[0.2222222222222222,\"#7201a8\"],[0.3333333333333333,\"#9c179e\"],[0.4444444444444444,\"#bd3786\"],[0.5555555555555556,\"#d8576b\"],[0.6666666666666666,\"#ed7953\"],[0.7777777777777778,\"#fb9f3a\"],[0.8888888888888888,\"#fdca26\"],[1.0,\"#f0f921\"]]}],\"heatmap\":[{\"type\":\"heatmap\",\"colorbar\":{\"outlinewidth\":0,\"ticks\":\"\"},\"colorscale\":[[0.0,\"#0d0887\"],[0.1111111111111111,\"#46039f\"],[0.2222222222222222,\"#7201a8\"],[0.3333333333333333,\"#9c179e\"],[0.4444444444444444,\"#bd3786\"],[0.5555555555555556,\"#d8576b\"],[0.6666666666666666,\"#ed7953\"],[0.7777777777777778,\"#fb9f3a\"],[0.8888888888888888,\"#fdca26\"],[1.0,\"#f0f921\"]]}],\"heatmapgl\":[{\"type\":\"heatmapgl\",\"colorbar\":{\"outlinewidth\":0,\"ticks\":\"\"},\"colorscale\":[[0.0,\"#0d0887\"],[0.1111111111111111,\"#46039f\"],[0.2222222222222222,\"#7201a8\"],[0.3333333333333333,\"#9c179e\"],[0.4444444444444444,\"#bd3786\"],[0.5555555555555556,\"#d8576b\"],[0.6666666666666666,\"#ed7953\"],[0.7777777777777778,\"#fb9f3a\"],[0.8888888888888888,\"#fdca26\"],[1.0,\"#f0f921\"]]}],\"contourcarpet\":[{\"type\":\"contourcarpet\",\"colorbar\":{\"outlinewidth\":0,\"ticks\":\"\"}}],\"contour\":[{\"type\":\"contour\",\"colorbar\":{\"outlinewidth\":0,\"ticks\":\"\"},\"colorscale\":[[0.0,\"#0d0887\"],[0.1111111111111111,\"#46039f\"],[0.2222222222222222,\"#7201a8\"],[0.3333333333333333,\"#9c179e\"],[0.4444444444444444,\"#bd3786\"],[0.5555555555555556,\"#d8576b\"],[0.6666666666666666,\"#ed7953\"],[0.7777777777777778,\"#fb9f3a\"],[0.8888888888888888,\"#fdca26\"],[1.0,\"#f0f921\"]]}],\"surface\":[{\"type\":\"surface\",\"colorbar\":{\"outlinewidth\":0,\"ticks\":\"\"},\"colorscale\":[[0.0,\"#0d0887\"],[0.1111111111111111,\"#46039f\"],[0.2222222222222222,\"#7201a8\"],[0.3333333333333333,\"#9c179e\"],[0.4444444444444444,\"#bd3786\"],[0.5555555555555556,\"#d8576b\"],[0.6666666666666666,\"#ed7953\"],[0.7777777777777778,\"#fb9f3a\"],[0.8888888888888888,\"#fdca26\"],[1.0,\"#f0f921\"]]}],\"mesh3d\":[{\"type\":\"mesh3d\",\"colorbar\":{\"outlinewidth\":0,\"ticks\":\"\"}}],\"scatter\":[{\"fillpattern\":{\"fillmode\":\"overlay\",\"size\":10,\"solidity\":0.2},\"type\":\"scatter\"}],\"parcoords\":[{\"type\":\"parcoords\",\"line\":{\"colorbar\":{\"outlinewidth\":0,\"ticks\":\"\"}}}],\"scatterpolargl\":[{\"type\":\"scatterpolargl\",\"marker\":{\"colorbar\":{\"outlinewidth\":0,\"ticks\":\"\"}}}],\"bar\":[{\"error_x\":{\"color\":\"#2a3f5f\"},\"error_y\":{\"color\":\"#2a3f5f\"},\"marker\":{\"line\":{\"color\":\"#E5ECF6\",\"width\":0.5},\"pattern\":{\"fillmode\":\"overlay\",\"size\":10,\"solidity\":0.2}},\"type\":\"bar\"}],\"scattergeo\":[{\"type\":\"scattergeo\",\"marker\":{\"colorbar\":{\"outlinewidth\":0,\"ticks\":\"\"}}}],\"scatterpolar\":[{\"type\":\"scatterpolar\",\"marker\":{\"colorbar\":{\"outlinewidth\":0,\"ticks\":\"\"}}}],\"histogram\":[{\"marker\":{\"pattern\":{\"fillmode\":\"overlay\",\"size\":10,\"solidity\":0.2}},\"type\":\"histogram\"}],\"scattergl\":[{\"type\":\"scattergl\",\"marker\":{\"colorbar\":{\"outlinewidth\":0,\"ticks\":\"\"}}}],\"scatter3d\":[{\"type\":\"scatter3d\",\"line\":{\"colorbar\":{\"outlinewidth\":0,\"ticks\":\"\"}},\"marker\":{\"colorbar\":{\"outlinewidth\":0,\"ticks\":\"\"}}}],\"scattermapbox\":[{\"type\":\"scattermapbox\",\"marker\":{\"colorbar\":{\"outlinewidth\":0,\"ticks\":\"\"}}}],\"scatterternary\":[{\"type\":\"scatterternary\",\"marker\":{\"colorbar\":{\"outlinewidth\":0,\"ticks\":\"\"}}}],\"scattercarpet\":[{\"type\":\"scattercarpet\",\"marker\":{\"colorbar\":{\"outlinewidth\":0,\"ticks\":\"\"}}}],\"carpet\":[{\"aaxis\":{\"endlinecolor\":\"#2a3f5f\",\"gridcolor\":\"white\",\"linecolor\":\"white\",\"minorgridcolor\":\"white\",\"startlinecolor\":\"#2a3f5f\"},\"baxis\":{\"endlinecolor\":\"#2a3f5f\",\"gridcolor\":\"white\",\"linecolor\":\"white\",\"minorgridcolor\":\"white\",\"startlinecolor\":\"#2a3f5f\"},\"type\":\"carpet\"}],\"table\":[{\"cells\":{\"fill\":{\"color\":\"#EBF0F8\"},\"line\":{\"color\":\"white\"}},\"header\":{\"fill\":{\"color\":\"#C8D4E3\"},\"line\":{\"color\":\"white\"}},\"type\":\"table\"}],\"barpolar\":[{\"marker\":{\"line\":{\"color\":\"#E5ECF6\",\"width\":0.5},\"pattern\":{\"fillmode\":\"overlay\",\"size\":10,\"solidity\":0.2}},\"type\":\"barpolar\"}],\"pie\":[{\"automargin\":true,\"type\":\"pie\"}]},\"layout\":{\"autotypenumbers\":\"strict\",\"colorway\":[\"#636efa\",\"#EF553B\",\"#00cc96\",\"#ab63fa\",\"#FFA15A\",\"#19d3f3\",\"#FF6692\",\"#B6E880\",\"#FF97FF\",\"#FECB52\"],\"font\":{\"color\":\"#2a3f5f\"},\"hovermode\":\"closest\",\"hoverlabel\":{\"align\":\"left\"},\"paper_bgcolor\":\"white\",\"plot_bgcolor\":\"#E5ECF6\",\"polar\":{\"bgcolor\":\"#E5ECF6\",\"angularaxis\":{\"gridcolor\":\"white\",\"linecolor\":\"white\",\"ticks\":\"\"},\"radialaxis\":{\"gridcolor\":\"white\",\"linecolor\":\"white\",\"ticks\":\"\"}},\"ternary\":{\"bgcolor\":\"#E5ECF6\",\"aaxis\":{\"gridcolor\":\"white\",\"linecolor\":\"white\",\"ticks\":\"\"},\"baxis\":{\"gridcolor\":\"white\",\"linecolor\":\"white\",\"ticks\":\"\"},\"caxis\":{\"gridcolor\":\"white\",\"linecolor\":\"white\",\"ticks\":\"\"}},\"coloraxis\":{\"colorbar\":{\"outlinewidth\":0,\"ticks\":\"\"}},\"colorscale\":{\"sequential\":[[0.0,\"#0d0887\"],[0.1111111111111111,\"#46039f\"],[0.2222222222222222,\"#7201a8\"],[0.3333333333333333,\"#9c179e\"],[0.4444444444444444,\"#bd3786\"],[0.5555555555555556,\"#d8576b\"],[0.6666666666666666,\"#ed7953\"],[0.7777777777777778,\"#fb9f3a\"],[0.8888888888888888,\"#fdca26\"],[1.0,\"#f0f921\"]],\"sequentialminus\":[[0.0,\"#0d0887\"],[0.1111111111111111,\"#46039f\"],[0.2222222222222222,\"#7201a8\"],[0.3333333333333333,\"#9c179e\"],[0.4444444444444444,\"#bd3786\"],[0.5555555555555556,\"#d8576b\"],[0.6666666666666666,\"#ed7953\"],[0.7777777777777778,\"#fb9f3a\"],[0.8888888888888888,\"#fdca26\"],[1.0,\"#f0f921\"]],\"diverging\":[[0,\"#8e0152\"],[0.1,\"#c51b7d\"],[0.2,\"#de77ae\"],[0.3,\"#f1b6da\"],[0.4,\"#fde0ef\"],[0.5,\"#f7f7f7\"],[0.6,\"#e6f5d0\"],[0.7,\"#b8e186\"],[0.8,\"#7fbc41\"],[0.9,\"#4d9221\"],[1,\"#276419\"]]},\"xaxis\":{\"gridcolor\":\"white\",\"linecolor\":\"white\",\"ticks\":\"\",\"title\":{\"standoff\":15},\"zerolinecolor\":\"white\",\"automargin\":true,\"zerolinewidth\":2},\"yaxis\":{\"gridcolor\":\"white\",\"linecolor\":\"white\",\"ticks\":\"\",\"title\":{\"standoff\":15},\"zerolinecolor\":\"white\",\"automargin\":true,\"zerolinewidth\":2},\"scene\":{\"xaxis\":{\"backgroundcolor\":\"#E5ECF6\",\"gridcolor\":\"white\",\"linecolor\":\"white\",\"showbackground\":true,\"ticks\":\"\",\"zerolinecolor\":\"white\",\"gridwidth\":2},\"yaxis\":{\"backgroundcolor\":\"#E5ECF6\",\"gridcolor\":\"white\",\"linecolor\":\"white\",\"showbackground\":true,\"ticks\":\"\",\"zerolinecolor\":\"white\",\"gridwidth\":2},\"zaxis\":{\"backgroundcolor\":\"#E5ECF6\",\"gridcolor\":\"white\",\"linecolor\":\"white\",\"showbackground\":true,\"ticks\":\"\",\"zerolinecolor\":\"white\",\"gridwidth\":2}},\"shapedefaults\":{\"line\":{\"color\":\"#2a3f5f\"}},\"annotationdefaults\":{\"arrowcolor\":\"#2a3f5f\",\"arrowhead\":0,\"arrowwidth\":1},\"geo\":{\"bgcolor\":\"white\",\"landcolor\":\"#E5ECF6\",\"subunitcolor\":\"white\",\"showland\":true,\"showlakes\":true,\"lakecolor\":\"white\"},\"title\":{\"x\":0.05},\"mapbox\":{\"style\":\"light\"}}},\"xaxis\":{\"anchor\":\"y\",\"domain\":[0.0,1.0],\"title\":{\"text\":\"x - City (Miles per Gallon)\"},\"scaleanchor\":\"y\",\"scaleratio\":1},\"yaxis\":{\"anchor\":\"x\",\"domain\":[0.0,1.0],\"title\":{\"text\":\"y - Highway (Miles per Gallon)\"},\"scaleanchor\":\"x\",\"scaleratio\":1},\"legend\":{\"tracegroupgap\":0},\"margin\":{\"t\":60},\"width\":500,\"annotations\":[{\"arrowhead\":2,\"arrowwidth\":2,\"ax\":25.21951219512195,\"axref\":\"x\",\"ay\":30.75121951219512,\"ayref\":\"y\",\"showarrow\":true,\"x\":44.689676976453235,\"xref\":\"x\",\"y\":51.277079209805855,\"yref\":\"y\"},{\"arrowhead\":2,\"arrowwidth\":2,\"ax\":25.21951219512195,\"axref\":\"x\",\"ay\":30.75121951219512,\"ayref\":\"y\",\"showarrow\":true,\"x\":22.747824500599055,\"xref\":\"x\",\"y\":33.0957822934535,\"yref\":\"y\"}],\"title\":{\"text\":\"PCA Vectors\"}},                        {\"responsive\": true}                    ).then(function(){\n",
       "                            \n",
       "var gd = document.getElementById('9db0fb70-ab88-4de3-a1e7-1e32e6948fb8');\n",
       "var x = new MutationObserver(function (mutations, observer) {{\n",
       "        var display = window.getComputedStyle(gd).display;\n",
       "        if (!display || display === 'none') {{\n",
       "            console.log([gd, 'removed!']);\n",
       "            Plotly.purge(gd);\n",
       "            observer.disconnect();\n",
       "        }}\n",
       "}});\n",
       "\n",
       "// Listen for the removal of the full notebook cells\n",
       "var notebookContainer = gd.closest('#notebook-container');\n",
       "if (notebookContainer) {{\n",
       "    x.observe(notebookContainer, {childList: true});\n",
       "}}\n",
       "\n",
       "// Listen for the clearing of the current output cell\n",
       "var outputEl = gd.closest('.output');\n",
       "if (outputEl) {{\n",
       "    x.observe(outputEl, {childList: true});\n",
       "}}\n",
       "\n",
       "                        })                };                });            </script>        </div>"
      ]
     },
     "metadata": {},
     "output_type": "display_data"
    }
   ],
   "source": [
    "fig = px.scatter(data, x='city_mpg', y='highway_mpg', width=500)\n",
    "\n",
    "# Calculate the PCA vectors and lengths for the annotation\n",
    "for length, vector in zip(pca.explained_variance_, pca.components_):        \n",
    "    start = pca.mean_      \n",
    "    end   = pca.mean_ + 3*vector*np.sqrt(length)                  \n",
    "    fig.add_annotation(x=end[0], y=end[1], ax=start[0], ay=start[1],   \n",
    "                       xref=\"x\", yref=\"y\", axref=\"x\", ayref=\"y\",\n",
    "                       showarrow=True, arrowhead=2, arrowwidth=2)                           \n",
    "    \n",
    "# Set the titles and aspect ratio to be the same\n",
    "fig.update_layout(title=\"PCA Vectors\",\n",
    "                  xaxis=dict(title='x - City (Miles per Gallon)', scaleanchor=\"y\", scaleratio=1),\n",
    "                  yaxis=dict(title='y - Highway (Miles per Gallon)', scaleanchor=\"x\", scaleratio=1))\n",
    "\n",
    "# Update the markers and the opacity to get a more beautiful plot\n",
    "fig.update_traces(marker=dict(size=8, opacity=0.6))\n",
    "\n",
    "# Show the figure\n",
    "fig.show()"
   ]
  },
  {
   "cell_type": "markdown",
   "metadata": {},
   "source": [
    "These vectors represent the *principal axes* of the data, and the length of the vector is an estimate of how \"important\" that axis is in describing the data distribution. More precisely, it is a measure of the variance of the data when projected onto that axis.\n",
    "\n",
    "The projection of the points onto the principal axles are the \"`principal components`\" of the data."
   ]
  },
  {
   "cell_type": "code",
   "execution_count": 11,
   "metadata": {},
   "outputs": [
    {
     "data": {
      "text/html": [
       "<div>\n",
       "<style scoped>\n",
       "    .dataframe tbody tr th:only-of-type {\n",
       "        vertical-align: middle;\n",
       "    }\n",
       "\n",
       "    .dataframe tbody tr th {\n",
       "        vertical-align: top;\n",
       "    }\n",
       "\n",
       "    .dataframe thead th {\n",
       "        text-align: right;\n",
       "    }\n",
       "</style>\n",
       "<table border=\"1\" class=\"dataframe\">\n",
       "  <thead>\n",
       "    <tr style=\"text-align: right;\">\n",
       "      <th></th>\n",
       "      <th>Component 1</th>\n",
       "      <th>Component 2</th>\n",
       "    </tr>\n",
       "  </thead>\n",
       "  <tbody>\n",
       "    <tr>\n",
       "      <th>0</th>\n",
       "      <td>-5.625459</td>\n",
       "      <td>0.479732</td>\n",
       "    </tr>\n",
       "    <tr>\n",
       "      <th>1</th>\n",
       "      <td>-5.625459</td>\n",
       "      <td>0.479732</td>\n",
       "    </tr>\n",
       "    <tr>\n",
       "      <th>2</th>\n",
       "      <td>-7.727383</td>\n",
       "      <td>1.242566</td>\n",
       "    </tr>\n",
       "    <tr>\n",
       "      <th>3</th>\n",
       "      <td>-1.384295</td>\n",
       "      <td>0.367787</td>\n",
       "    </tr>\n",
       "    <tr>\n",
       "      <th>4</th>\n",
       "      <td>-11.317659</td>\n",
       "      <td>-0.784728</td>\n",
       "    </tr>\n",
       "  </tbody>\n",
       "</table>\n",
       "</div>"
      ],
      "text/plain": [
       "   Component 1  Component 2\n",
       "0    -5.625459     0.479732\n",
       "1    -5.625459     0.479732\n",
       "2    -7.727383     1.242566\n",
       "3    -1.384295     0.367787\n",
       "4   -11.317659    -0.784728"
      ]
     },
     "execution_count": 11,
     "metadata": {},
     "output_type": "execute_result"
    }
   ],
   "source": [
    "# Getting the transformed data\n",
    "data_pca = pd.DataFrame(pca.fit_transform(data), columns=['Component 1', 'Component 2'])\n",
    "data_pca.head()"
   ]
  },
  {
   "cell_type": "code",
   "execution_count": 12,
   "metadata": {},
   "outputs": [
    {
     "data": {
      "application/vnd.plotly.v1+json": {
       "config": {
        "plotlyServerURL": "https://plot.ly"
       },
       "data": [
        {
         "hovertemplate": "x=%{x}<br>y=%{y}<extra></extra>",
         "legendgroup": "",
         "marker": {
          "color": "#636efa",
          "opacity": 0.6,
          "size": 8,
          "symbol": "circle"
         },
         "mode": "markers",
         "name": "",
         "orientation": "v",
         "showlegend": false,
         "type": "scatter",
         "x": [
          -5.625458913091363,
          -5.625458913091354,
          -7.7273831023907125,
          -1.3842953692087854,
          -11.31765880355197,
          -8.452901275679734,
          -8.452901275679734,
          -8.452901275679734,
          -13.456898158135184,
          -12.694064819562303,
          -2.7980165505029753,
          -2.7980165505029753,
          -4.899940739802331,
          -4.899940739802331,
          -7.764698267674568,
          -12.694064819562303,
          -12.694064819562303,
          -14.833304174145516,
          31.131291800557577,
          17.68228299562085,
          17.68228299562085,
          15.543043641037636,
          9.237271073139565,
          -1.3842953692087854,
          9.237271073139565,
          9.237271073139565,
          9.237271073139565,
          -1.3842953692087854,
          -1.3842953692087854,
          -9.178419448968757,
          33.23321598985694,
          9.237271073139565,
          16.956764822331824,
          5.646995371978307,
          5.646995371978307,
          5.646995371978307,
          5.646995371978307,
          2.8568681746737847,
          2.8568681746737847,
          2.8568681746737847,
          2.8568681746737847,
          -2.835331715786831,
          0.029425812085404478,
          -2.1098135424978084,
          17.68228299562085,
          17.68228299562085,
          -2.1098135424978084,
          -15.558822347434539,
          -15.558822347434539,
          -18.38626471002292,
          3.4704408521112398,
          9.237271073139565,
          9.237271073139565,
          9.237271073139565,
          9.237271073139565,
          -11.280343638268116,
          -11.280343638268116,
          -11.280343638268116,
          -11.968546646273282,
          1.4431469933795944,
          1.4431469933795944,
          1.4431469933795944,
          1.4431469933795944,
          15.580358806321494,
          1.4431469933795944,
          -7.001864929101688,
          9.96278924642859,
          -6.388292251664233,
          -6.388292251664233,
          -6.388292251664233,
          -6.388292251664233,
          -15.596137512718395,
          -15.596137512718395,
          -18.423579875306775,
          -18.423579875306775,
          -9.178419448968757,
          15.543043641037636,
          9.237271073139565,
          9.237271073139565,
          -1.3842953692087854,
          -2.072498377213952,
          0.7549439853744273,
          -9.178419448968757,
          -9.178419448968757,
          -9.178419448968757,
          0.7549439853744273,
          0.7549439853744273,
          -2.072498377213952,
          -2.072498377213952,
          8.511752899850544,
          27.57833126468018,
          8.511752899850544,
          8.511752899850544,
          8.511752899850544,
          8.511752899850544,
          8.511752899850544,
          8.511752899850544,
          8.511752899850544,
          8.511752899850544,
          3.5823863479628075,
          3.5823863479628075,
          -12.005861811557137,
          -12.005861811557137,
          -8.452901275679734,
          -8.452901275679734,
          -11.280343638268116,
          -8.452901275679734,
          -9.178419448968757,
          3.5450711826789507,
          -9.178419448968757,
          -4.323683227648733,
          -9.178419448968757,
          3.5450711826789507,
          -9.178419448968757,
          -4.323683227648733,
          -9.178419448968757,
          3.5450711826789507,
          -9.866622456973925,
          15.543043641037636,
          -1.3842953692087854,
          9.237271073139565,
          9.237271073139565,
          9.237271073139565,
          -1.3842953692087854,
          -9.178419448968757,
          -7.001864929101688,
          -9.829307291690068,
          -9.829307291690068,
          -9.829307291690068,
          -7.652752771823,
          -1.3469802039249292,
          -1.3469802039249292,
          -4.899940739802331,
          -4.899940739802331,
          -4.899940739802331,
          -4.899940739802331,
          -7.7273831023907125,
          -7.7273831023907125,
          7.7862347265615215,
          0.7176288200905716,
          0.7176288200905716,
          9.19995590785571,
          3.5450711826789507,
          1.4431469933795944,
          -5.0118862356539,
          -2.1098135424978084,
          2.819553009389928,
          0.029425812085404478,
          -2.7980165505029753,
          -7.151125590237113,
          12.715601278449256,
          9.237271073139565,
          9.237271073139565,
          8.511752899850544,
          2.131350001384762,
          2.131350001384762,
          7.823549891845377,
          7.823549891845377,
          9.85084375057702,
          20.58435568877694,
          20.58435568877694,
          4.2705893559679735,
          4.2705893559679735,
          4.95879236397314,
          4.95879236397314,
          -0.7334075264874741,
          -0.7334075264874741,
          -1.3842953692087854,
          -1.3842953692087854,
          -1.3842953692087854,
          -1.3842953692087854,
          -1.3842953692087854,
          -1.3842953692087854,
          4.95879236397314,
          4.921477198689285,
          2.131350001384762,
          2.131350001384762,
          2.131350001384762,
          -8.490216440963591,
          -9.178419448968757,
          -8.490216440963591,
          -9.178419448968757,
          19.170634507482752,
          3.5823863479628075,
          19.170634507482752,
          3.5823863479628075,
          3.5823863479628075,
          16.26856181432666,
          1.4431469933795944,
          -2.1098135424978084,
          -2.1098135424978084,
          -9.178419448968757,
          10.613677089149899,
          0.029425812085404478,
          -3.523534723791998,
          -3.523534723791998,
          -2.835331715786831,
          -2.835331715786831,
          -12.005861811557137,
          -12.005861811557137,
          -3.523534723791998,
          -8.452901275679734,
          -10.592140630262946,
          -2.1844438730655202,
          -8.452901275679734
         ],
         "xaxis": "x",
         "y": [
          0.4797322279952562,
          0.47973222799527376,
          1.2425655665681516,
          0.36778673214370705,
          -0.7847282921634947,
          0.5543625585629847,
          0.5543625585629847,
          0.5543625585629847,
          -1.4356161348848058,
          0.6663080544145504,
          0.4051018974275625,
          0.4051018974275625,
          1.1679352360004402,
          1.1679352360004402,
          -0.17115561472603844,
          0.6663080544145504,
          0.6663080544145504,
          0.015420211693239162,
          -0.490462069384967,
          -0.842828589835436,
          -0.842828589835436,
          -1.4937164325567471,
          0.7947835831618862,
          0.36778673214370705,
          0.7947835831618862,
          0.7947835831618862,
          0.7947835831618862,
          0.36778673214370705,
          0.36778673214370705,
          -0.1338404494421825,
          -1.2532954079578462,
          0.7947835831618862,
          -1.531031597840603,
          -1.2325102755697597,
          -1.2325102755697597,
          -1.2325102755697597,
          -1.2325102755697597,
          0.25584123629214084,
          0.25584123629214084,
          0.25584123629214084,
          0.25584123629214084,
          -1.008619283866627,
          0.3304715668598517,
          -0.32041627586146015,
          -0.842828589835436,
          -0.842828589835436,
          -0.32041627586146015,
          -0.6727827963119279,
          -0.6727827963119279,
          -0.5981524657442181,
          -3.2971192995852605,
          0.7947835831618862,
          0.7947835831618862,
          0.7947835831618862,
          0.7947835831618862,
          0.6289928891306954,
          0.6289928891306954,
          0.6289928891306954,
          1.3545110624197174,
          0.2931564015759962,
          0.2931564015759962,
          0.2931564015759962,
          0.2931564015759962,
          -0.07999525126255792,
          0.2931564015759962,
          1.930768574573319,
          1.4829865911670534,
          -1.6221919613040836,
          -1.6221919613040836,
          -1.6221919613040836,
          -1.6221919613040836,
          -2.086503977606118,
          -2.086503977606118,
          -2.0118736470384073,
          -2.0118736470384073,
          -0.1338404494421825,
          -1.4937164325567471,
          0.7947835831618862,
          0.7947835831618862,
          0.36778673214370705,
          1.0933049054327297,
          1.018674574865019,
          -0.1338404494421825,
          -0.1338404494421825,
          -0.1338404494421825,
          1.018674574865019,
          1.018674574865019,
          1.0933049054327297,
          1.0933049054327297,
          0.10658057515671916,
          -1.1040347468224243,
          0.10658057515671916,
          0.10658057515671916,
          0.10658057515671916,
          0.10658057515671916,
          0.10658057515671916,
          0.10658057515671916,
          0.10658057515671916,
          0.10658057515671916,
          0.944044244297308,
          0.944044244297308,
          -0.05921011887447168,
          -0.05921011887447168,
          0.5543625585629847,
          0.5543625585629847,
          0.6289928891306954,
          0.5543625585629847,
          -0.1338404494421825,
          -0.46967693699688173,
          -0.1338404494421825,
          -3.7987464811711513,
          -0.1338404494421825,
          -0.46967693699688173,
          -0.1338404494421825,
          -3.7987464811711513,
          -0.1338404494421825,
          -0.46967693699688173,
          0.5916777238468395,
          -1.4937164325567471,
          0.36778673214370705,
          0.7947835831618862,
          0.7947835831618862,
          0.7947835831618862,
          0.36778673214370705,
          -0.1338404494421825,
          1.930768574573319,
          2.0053989051410297,
          2.0053989051410297,
          2.0053989051410297,
          4.070007929156532,
          1.7815079134378968,
          1.7815079134378968,
          1.1679352360004402,
          1.1679352360004402,
          1.1679352360004402,
          1.1679352360004402,
          1.2425655665681516,
          1.2425655665681516,
          -0.581622432848448,
          -0.3950466064291709,
          -0.3950466064291709,
          -0.6189375981323034,
          -0.46967693699688173,
          0.2931564015759962,
          -3.0732283078821294,
          -0.32041627586146015,
          -1.157879945002049,
          0.3304715668598517,
          0.4051018974275625,
          -3.72411615060344,
          -1.4190861019890362,
          0.7947835831618862,
          0.7947835831618862,
          0.10658057515671916,
          -0.43236177171302625,
          -0.43236177171302625,
          0.8320987484457417,
          0.8320987484457417,
          -2.7581769527155156,
          1.9099834421852326,
          1.9099834421852326,
          0.2185260710082854,
          0.2185260710082854,
          -0.5069921022807372,
          -0.5069921022807372,
          -1.771452622439505,
          -1.771452622439505,
          0.36778673214370705,
          0.36778673214370705,
          0.36778673214370705,
          0.36778673214370705,
          0.36778673214370705,
          0.36778673214370705,
          -0.5069921022807372,
          -1.920713283574927,
          -0.43236177171302625,
          -0.43236177171302625,
          -0.43236177171302625,
          -0.8593586227312057,
          -0.1338404494421825,
          -0.8593586227312057,
          -0.1338404494421825,
          1.947298607469089,
          0.944044244297308,
          1.947298607469089,
          0.944044244297308,
          0.944044244297308,
          -0.80551342455158,
          0.2931564015759962,
          -0.32041627586146015,
          -0.32041627586146015,
          -0.1338404494421825,
          -0.6562527634161583,
          0.3304715668598517,
          -0.2831011105776047,
          -0.2831011105776047,
          -1.008619283866627,
          -1.008619283866627,
          -0.05921011887447168,
          -0.05921011887447168,
          -0.2831011105776047,
          0.5543625585629847,
          -0.09652528415832755,
          -3.14785863844984,
          0.5543625585629847
         ],
         "yaxis": "y"
        }
       ],
       "layout": {
        "legend": {
         "tracegroupgap": 0
        },
        "template": {
         "data": {
          "bar": [
           {
            "error_x": {
             "color": "#2a3f5f"
            },
            "error_y": {
             "color": "#2a3f5f"
            },
            "marker": {
             "line": {
              "color": "#E5ECF6",
              "width": 0.5
             },
             "pattern": {
              "fillmode": "overlay",
              "size": 10,
              "solidity": 0.2
             }
            },
            "type": "bar"
           }
          ],
          "barpolar": [
           {
            "marker": {
             "line": {
              "color": "#E5ECF6",
              "width": 0.5
             },
             "pattern": {
              "fillmode": "overlay",
              "size": 10,
              "solidity": 0.2
             }
            },
            "type": "barpolar"
           }
          ],
          "carpet": [
           {
            "aaxis": {
             "endlinecolor": "#2a3f5f",
             "gridcolor": "white",
             "linecolor": "white",
             "minorgridcolor": "white",
             "startlinecolor": "#2a3f5f"
            },
            "baxis": {
             "endlinecolor": "#2a3f5f",
             "gridcolor": "white",
             "linecolor": "white",
             "minorgridcolor": "white",
             "startlinecolor": "#2a3f5f"
            },
            "type": "carpet"
           }
          ],
          "choropleth": [
           {
            "colorbar": {
             "outlinewidth": 0,
             "ticks": ""
            },
            "type": "choropleth"
           }
          ],
          "contour": [
           {
            "colorbar": {
             "outlinewidth": 0,
             "ticks": ""
            },
            "colorscale": [
             [
              0,
              "#0d0887"
             ],
             [
              0.1111111111111111,
              "#46039f"
             ],
             [
              0.2222222222222222,
              "#7201a8"
             ],
             [
              0.3333333333333333,
              "#9c179e"
             ],
             [
              0.4444444444444444,
              "#bd3786"
             ],
             [
              0.5555555555555556,
              "#d8576b"
             ],
             [
              0.6666666666666666,
              "#ed7953"
             ],
             [
              0.7777777777777778,
              "#fb9f3a"
             ],
             [
              0.8888888888888888,
              "#fdca26"
             ],
             [
              1,
              "#f0f921"
             ]
            ],
            "type": "contour"
           }
          ],
          "contourcarpet": [
           {
            "colorbar": {
             "outlinewidth": 0,
             "ticks": ""
            },
            "type": "contourcarpet"
           }
          ],
          "heatmap": [
           {
            "colorbar": {
             "outlinewidth": 0,
             "ticks": ""
            },
            "colorscale": [
             [
              0,
              "#0d0887"
             ],
             [
              0.1111111111111111,
              "#46039f"
             ],
             [
              0.2222222222222222,
              "#7201a8"
             ],
             [
              0.3333333333333333,
              "#9c179e"
             ],
             [
              0.4444444444444444,
              "#bd3786"
             ],
             [
              0.5555555555555556,
              "#d8576b"
             ],
             [
              0.6666666666666666,
              "#ed7953"
             ],
             [
              0.7777777777777778,
              "#fb9f3a"
             ],
             [
              0.8888888888888888,
              "#fdca26"
             ],
             [
              1,
              "#f0f921"
             ]
            ],
            "type": "heatmap"
           }
          ],
          "heatmapgl": [
           {
            "colorbar": {
             "outlinewidth": 0,
             "ticks": ""
            },
            "colorscale": [
             [
              0,
              "#0d0887"
             ],
             [
              0.1111111111111111,
              "#46039f"
             ],
             [
              0.2222222222222222,
              "#7201a8"
             ],
             [
              0.3333333333333333,
              "#9c179e"
             ],
             [
              0.4444444444444444,
              "#bd3786"
             ],
             [
              0.5555555555555556,
              "#d8576b"
             ],
             [
              0.6666666666666666,
              "#ed7953"
             ],
             [
              0.7777777777777778,
              "#fb9f3a"
             ],
             [
              0.8888888888888888,
              "#fdca26"
             ],
             [
              1,
              "#f0f921"
             ]
            ],
            "type": "heatmapgl"
           }
          ],
          "histogram": [
           {
            "marker": {
             "pattern": {
              "fillmode": "overlay",
              "size": 10,
              "solidity": 0.2
             }
            },
            "type": "histogram"
           }
          ],
          "histogram2d": [
           {
            "colorbar": {
             "outlinewidth": 0,
             "ticks": ""
            },
            "colorscale": [
             [
              0,
              "#0d0887"
             ],
             [
              0.1111111111111111,
              "#46039f"
             ],
             [
              0.2222222222222222,
              "#7201a8"
             ],
             [
              0.3333333333333333,
              "#9c179e"
             ],
             [
              0.4444444444444444,
              "#bd3786"
             ],
             [
              0.5555555555555556,
              "#d8576b"
             ],
             [
              0.6666666666666666,
              "#ed7953"
             ],
             [
              0.7777777777777778,
              "#fb9f3a"
             ],
             [
              0.8888888888888888,
              "#fdca26"
             ],
             [
              1,
              "#f0f921"
             ]
            ],
            "type": "histogram2d"
           }
          ],
          "histogram2dcontour": [
           {
            "colorbar": {
             "outlinewidth": 0,
             "ticks": ""
            },
            "colorscale": [
             [
              0,
              "#0d0887"
             ],
             [
              0.1111111111111111,
              "#46039f"
             ],
             [
              0.2222222222222222,
              "#7201a8"
             ],
             [
              0.3333333333333333,
              "#9c179e"
             ],
             [
              0.4444444444444444,
              "#bd3786"
             ],
             [
              0.5555555555555556,
              "#d8576b"
             ],
             [
              0.6666666666666666,
              "#ed7953"
             ],
             [
              0.7777777777777778,
              "#fb9f3a"
             ],
             [
              0.8888888888888888,
              "#fdca26"
             ],
             [
              1,
              "#f0f921"
             ]
            ],
            "type": "histogram2dcontour"
           }
          ],
          "mesh3d": [
           {
            "colorbar": {
             "outlinewidth": 0,
             "ticks": ""
            },
            "type": "mesh3d"
           }
          ],
          "parcoords": [
           {
            "line": {
             "colorbar": {
              "outlinewidth": 0,
              "ticks": ""
             }
            },
            "type": "parcoords"
           }
          ],
          "pie": [
           {
            "automargin": true,
            "type": "pie"
           }
          ],
          "scatter": [
           {
            "fillpattern": {
             "fillmode": "overlay",
             "size": 10,
             "solidity": 0.2
            },
            "type": "scatter"
           }
          ],
          "scatter3d": [
           {
            "line": {
             "colorbar": {
              "outlinewidth": 0,
              "ticks": ""
             }
            },
            "marker": {
             "colorbar": {
              "outlinewidth": 0,
              "ticks": ""
             }
            },
            "type": "scatter3d"
           }
          ],
          "scattercarpet": [
           {
            "marker": {
             "colorbar": {
              "outlinewidth": 0,
              "ticks": ""
             }
            },
            "type": "scattercarpet"
           }
          ],
          "scattergeo": [
           {
            "marker": {
             "colorbar": {
              "outlinewidth": 0,
              "ticks": ""
             }
            },
            "type": "scattergeo"
           }
          ],
          "scattergl": [
           {
            "marker": {
             "colorbar": {
              "outlinewidth": 0,
              "ticks": ""
             }
            },
            "type": "scattergl"
           }
          ],
          "scattermapbox": [
           {
            "marker": {
             "colorbar": {
              "outlinewidth": 0,
              "ticks": ""
             }
            },
            "type": "scattermapbox"
           }
          ],
          "scatterpolar": [
           {
            "marker": {
             "colorbar": {
              "outlinewidth": 0,
              "ticks": ""
             }
            },
            "type": "scatterpolar"
           }
          ],
          "scatterpolargl": [
           {
            "marker": {
             "colorbar": {
              "outlinewidth": 0,
              "ticks": ""
             }
            },
            "type": "scatterpolargl"
           }
          ],
          "scatterternary": [
           {
            "marker": {
             "colorbar": {
              "outlinewidth": 0,
              "ticks": ""
             }
            },
            "type": "scatterternary"
           }
          ],
          "surface": [
           {
            "colorbar": {
             "outlinewidth": 0,
             "ticks": ""
            },
            "colorscale": [
             [
              0,
              "#0d0887"
             ],
             [
              0.1111111111111111,
              "#46039f"
             ],
             [
              0.2222222222222222,
              "#7201a8"
             ],
             [
              0.3333333333333333,
              "#9c179e"
             ],
             [
              0.4444444444444444,
              "#bd3786"
             ],
             [
              0.5555555555555556,
              "#d8576b"
             ],
             [
              0.6666666666666666,
              "#ed7953"
             ],
             [
              0.7777777777777778,
              "#fb9f3a"
             ],
             [
              0.8888888888888888,
              "#fdca26"
             ],
             [
              1,
              "#f0f921"
             ]
            ],
            "type": "surface"
           }
          ],
          "table": [
           {
            "cells": {
             "fill": {
              "color": "#EBF0F8"
             },
             "line": {
              "color": "white"
             }
            },
            "header": {
             "fill": {
              "color": "#C8D4E3"
             },
             "line": {
              "color": "white"
             }
            },
            "type": "table"
           }
          ]
         },
         "layout": {
          "annotationdefaults": {
           "arrowcolor": "#2a3f5f",
           "arrowhead": 0,
           "arrowwidth": 1
          },
          "autotypenumbers": "strict",
          "coloraxis": {
           "colorbar": {
            "outlinewidth": 0,
            "ticks": ""
           }
          },
          "colorscale": {
           "diverging": [
            [
             0,
             "#8e0152"
            ],
            [
             0.1,
             "#c51b7d"
            ],
            [
             0.2,
             "#de77ae"
            ],
            [
             0.3,
             "#f1b6da"
            ],
            [
             0.4,
             "#fde0ef"
            ],
            [
             0.5,
             "#f7f7f7"
            ],
            [
             0.6,
             "#e6f5d0"
            ],
            [
             0.7,
             "#b8e186"
            ],
            [
             0.8,
             "#7fbc41"
            ],
            [
             0.9,
             "#4d9221"
            ],
            [
             1,
             "#276419"
            ]
           ],
           "sequential": [
            [
             0,
             "#0d0887"
            ],
            [
             0.1111111111111111,
             "#46039f"
            ],
            [
             0.2222222222222222,
             "#7201a8"
            ],
            [
             0.3333333333333333,
             "#9c179e"
            ],
            [
             0.4444444444444444,
             "#bd3786"
            ],
            [
             0.5555555555555556,
             "#d8576b"
            ],
            [
             0.6666666666666666,
             "#ed7953"
            ],
            [
             0.7777777777777778,
             "#fb9f3a"
            ],
            [
             0.8888888888888888,
             "#fdca26"
            ],
            [
             1,
             "#f0f921"
            ]
           ],
           "sequentialminus": [
            [
             0,
             "#0d0887"
            ],
            [
             0.1111111111111111,
             "#46039f"
            ],
            [
             0.2222222222222222,
             "#7201a8"
            ],
            [
             0.3333333333333333,
             "#9c179e"
            ],
            [
             0.4444444444444444,
             "#bd3786"
            ],
            [
             0.5555555555555556,
             "#d8576b"
            ],
            [
             0.6666666666666666,
             "#ed7953"
            ],
            [
             0.7777777777777778,
             "#fb9f3a"
            ],
            [
             0.8888888888888888,
             "#fdca26"
            ],
            [
             1,
             "#f0f921"
            ]
           ]
          },
          "colorway": [
           "#636efa",
           "#EF553B",
           "#00cc96",
           "#ab63fa",
           "#FFA15A",
           "#19d3f3",
           "#FF6692",
           "#B6E880",
           "#FF97FF",
           "#FECB52"
          ],
          "font": {
           "color": "#2a3f5f"
          },
          "geo": {
           "bgcolor": "white",
           "lakecolor": "white",
           "landcolor": "#E5ECF6",
           "showlakes": true,
           "showland": true,
           "subunitcolor": "white"
          },
          "hoverlabel": {
           "align": "left"
          },
          "hovermode": "closest",
          "mapbox": {
           "style": "light"
          },
          "paper_bgcolor": "white",
          "plot_bgcolor": "#E5ECF6",
          "polar": {
           "angularaxis": {
            "gridcolor": "white",
            "linecolor": "white",
            "ticks": ""
           },
           "bgcolor": "#E5ECF6",
           "radialaxis": {
            "gridcolor": "white",
            "linecolor": "white",
            "ticks": ""
           }
          },
          "scene": {
           "xaxis": {
            "backgroundcolor": "#E5ECF6",
            "gridcolor": "white",
            "gridwidth": 2,
            "linecolor": "white",
            "showbackground": true,
            "ticks": "",
            "zerolinecolor": "white"
           },
           "yaxis": {
            "backgroundcolor": "#E5ECF6",
            "gridcolor": "white",
            "gridwidth": 2,
            "linecolor": "white",
            "showbackground": true,
            "ticks": "",
            "zerolinecolor": "white"
           },
           "zaxis": {
            "backgroundcolor": "#E5ECF6",
            "gridcolor": "white",
            "gridwidth": 2,
            "linecolor": "white",
            "showbackground": true,
            "ticks": "",
            "zerolinecolor": "white"
           }
          },
          "shapedefaults": {
           "line": {
            "color": "#2a3f5f"
           }
          },
          "ternary": {
           "aaxis": {
            "gridcolor": "white",
            "linecolor": "white",
            "ticks": ""
           },
           "baxis": {
            "gridcolor": "white",
            "linecolor": "white",
            "ticks": ""
           },
           "bgcolor": "#E5ECF6",
           "caxis": {
            "gridcolor": "white",
            "linecolor": "white",
            "ticks": ""
           }
          },
          "title": {
           "x": 0.05
          },
          "xaxis": {
           "automargin": true,
           "gridcolor": "white",
           "linecolor": "white",
           "ticks": "",
           "title": {
            "standoff": 15
           },
           "zerolinecolor": "white",
           "zerolinewidth": 2
          },
          "yaxis": {
           "automargin": true,
           "gridcolor": "white",
           "linecolor": "white",
           "ticks": "",
           "title": {
            "standoff": 15
           },
           "zerolinecolor": "white",
           "zerolinewidth": 2
          }
         }
        },
        "title": {
         "text": "PCA Components"
        },
        "width": 500,
        "xaxis": {
         "anchor": "y",
         "domain": [
          0,
          1
         ],
         "scaleanchor": "y",
         "scaleratio": 1,
         "title": {
          "text": "x - Component 1"
         }
        },
        "yaxis": {
         "anchor": "x",
         "domain": [
          0,
          1
         ],
         "scaleanchor": "x",
         "scaleratio": 1,
         "title": {
          "text": "y - Component 2"
         }
        }
       }
      },
      "text/html": [
       "<div>                            <div id=\"84a8ccd6-0239-4427-b364-7c6dd2bca651\" class=\"plotly-graph-div\" style=\"height:525px; width:500px;\"></div>            <script type=\"text/javascript\">                require([\"plotly\"], function(Plotly) {                    window.PLOTLYENV=window.PLOTLYENV || {};                                    if (document.getElementById(\"84a8ccd6-0239-4427-b364-7c6dd2bca651\")) {                    Plotly.newPlot(                        \"84a8ccd6-0239-4427-b364-7c6dd2bca651\",                        [{\"hovertemplate\":\"x=%{x}<br>y=%{y}<extra></extra>\",\"legendgroup\":\"\",\"marker\":{\"color\":\"#636efa\",\"symbol\":\"circle\",\"opacity\":0.6,\"size\":8},\"mode\":\"markers\",\"name\":\"\",\"orientation\":\"v\",\"showlegend\":false,\"x\":[-5.625458913091363,-5.625458913091354,-7.7273831023907125,-1.3842953692087854,-11.31765880355197,-8.452901275679734,-8.452901275679734,-8.452901275679734,-13.456898158135184,-12.694064819562303,-2.7980165505029753,-2.7980165505029753,-4.899940739802331,-4.899940739802331,-7.764698267674568,-12.694064819562303,-12.694064819562303,-14.833304174145516,31.131291800557577,17.68228299562085,17.68228299562085,15.543043641037636,9.237271073139565,-1.3842953692087854,9.237271073139565,9.237271073139565,9.237271073139565,-1.3842953692087854,-1.3842953692087854,-9.178419448968757,33.23321598985694,9.237271073139565,16.956764822331824,5.646995371978307,5.646995371978307,5.646995371978307,5.646995371978307,2.8568681746737847,2.8568681746737847,2.8568681746737847,2.8568681746737847,-2.835331715786831,0.029425812085404478,-2.1098135424978084,17.68228299562085,17.68228299562085,-2.1098135424978084,-15.558822347434539,-15.558822347434539,-18.38626471002292,3.4704408521112398,9.237271073139565,9.237271073139565,9.237271073139565,9.237271073139565,-11.280343638268116,-11.280343638268116,-11.280343638268116,-11.968546646273282,1.4431469933795944,1.4431469933795944,1.4431469933795944,1.4431469933795944,15.580358806321494,1.4431469933795944,-7.001864929101688,9.96278924642859,-6.388292251664233,-6.388292251664233,-6.388292251664233,-6.388292251664233,-15.596137512718395,-15.596137512718395,-18.423579875306775,-18.423579875306775,-9.178419448968757,15.543043641037636,9.237271073139565,9.237271073139565,-1.3842953692087854,-2.072498377213952,0.7549439853744273,-9.178419448968757,-9.178419448968757,-9.178419448968757,0.7549439853744273,0.7549439853744273,-2.072498377213952,-2.072498377213952,8.511752899850544,27.57833126468018,8.511752899850544,8.511752899850544,8.511752899850544,8.511752899850544,8.511752899850544,8.511752899850544,8.511752899850544,8.511752899850544,3.5823863479628075,3.5823863479628075,-12.005861811557137,-12.005861811557137,-8.452901275679734,-8.452901275679734,-11.280343638268116,-8.452901275679734,-9.178419448968757,3.5450711826789507,-9.178419448968757,-4.323683227648733,-9.178419448968757,3.5450711826789507,-9.178419448968757,-4.323683227648733,-9.178419448968757,3.5450711826789507,-9.866622456973925,15.543043641037636,-1.3842953692087854,9.237271073139565,9.237271073139565,9.237271073139565,-1.3842953692087854,-9.178419448968757,-7.001864929101688,-9.829307291690068,-9.829307291690068,-9.829307291690068,-7.652752771823,-1.3469802039249292,-1.3469802039249292,-4.899940739802331,-4.899940739802331,-4.899940739802331,-4.899940739802331,-7.7273831023907125,-7.7273831023907125,7.7862347265615215,0.7176288200905716,0.7176288200905716,9.19995590785571,3.5450711826789507,1.4431469933795944,-5.0118862356539,-2.1098135424978084,2.819553009389928,0.029425812085404478,-2.7980165505029753,-7.151125590237113,12.715601278449256,9.237271073139565,9.237271073139565,8.511752899850544,2.131350001384762,2.131350001384762,7.823549891845377,7.823549891845377,9.85084375057702,20.58435568877694,20.58435568877694,4.2705893559679735,4.2705893559679735,4.95879236397314,4.95879236397314,-0.7334075264874741,-0.7334075264874741,-1.3842953692087854,-1.3842953692087854,-1.3842953692087854,-1.3842953692087854,-1.3842953692087854,-1.3842953692087854,4.95879236397314,4.921477198689285,2.131350001384762,2.131350001384762,2.131350001384762,-8.490216440963591,-9.178419448968757,-8.490216440963591,-9.178419448968757,19.170634507482752,3.5823863479628075,19.170634507482752,3.5823863479628075,3.5823863479628075,16.26856181432666,1.4431469933795944,-2.1098135424978084,-2.1098135424978084,-9.178419448968757,10.613677089149899,0.029425812085404478,-3.523534723791998,-3.523534723791998,-2.835331715786831,-2.835331715786831,-12.005861811557137,-12.005861811557137,-3.523534723791998,-8.452901275679734,-10.592140630262946,-2.1844438730655202,-8.452901275679734],\"xaxis\":\"x\",\"y\":[0.4797322279952562,0.47973222799527376,1.2425655665681516,0.36778673214370705,-0.7847282921634947,0.5543625585629847,0.5543625585629847,0.5543625585629847,-1.4356161348848058,0.6663080544145504,0.4051018974275625,0.4051018974275625,1.1679352360004402,1.1679352360004402,-0.17115561472603844,0.6663080544145504,0.6663080544145504,0.015420211693239162,-0.490462069384967,-0.842828589835436,-0.842828589835436,-1.4937164325567471,0.7947835831618862,0.36778673214370705,0.7947835831618862,0.7947835831618862,0.7947835831618862,0.36778673214370705,0.36778673214370705,-0.1338404494421825,-1.2532954079578462,0.7947835831618862,-1.531031597840603,-1.2325102755697597,-1.2325102755697597,-1.2325102755697597,-1.2325102755697597,0.25584123629214084,0.25584123629214084,0.25584123629214084,0.25584123629214084,-1.008619283866627,0.3304715668598517,-0.32041627586146015,-0.842828589835436,-0.842828589835436,-0.32041627586146015,-0.6727827963119279,-0.6727827963119279,-0.5981524657442181,-3.2971192995852605,0.7947835831618862,0.7947835831618862,0.7947835831618862,0.7947835831618862,0.6289928891306954,0.6289928891306954,0.6289928891306954,1.3545110624197174,0.2931564015759962,0.2931564015759962,0.2931564015759962,0.2931564015759962,-0.07999525126255792,0.2931564015759962,1.930768574573319,1.4829865911670534,-1.6221919613040836,-1.6221919613040836,-1.6221919613040836,-1.6221919613040836,-2.086503977606118,-2.086503977606118,-2.0118736470384073,-2.0118736470384073,-0.1338404494421825,-1.4937164325567471,0.7947835831618862,0.7947835831618862,0.36778673214370705,1.0933049054327297,1.018674574865019,-0.1338404494421825,-0.1338404494421825,-0.1338404494421825,1.018674574865019,1.018674574865019,1.0933049054327297,1.0933049054327297,0.10658057515671916,-1.1040347468224243,0.10658057515671916,0.10658057515671916,0.10658057515671916,0.10658057515671916,0.10658057515671916,0.10658057515671916,0.10658057515671916,0.10658057515671916,0.944044244297308,0.944044244297308,-0.05921011887447168,-0.05921011887447168,0.5543625585629847,0.5543625585629847,0.6289928891306954,0.5543625585629847,-0.1338404494421825,-0.46967693699688173,-0.1338404494421825,-3.7987464811711513,-0.1338404494421825,-0.46967693699688173,-0.1338404494421825,-3.7987464811711513,-0.1338404494421825,-0.46967693699688173,0.5916777238468395,-1.4937164325567471,0.36778673214370705,0.7947835831618862,0.7947835831618862,0.7947835831618862,0.36778673214370705,-0.1338404494421825,1.930768574573319,2.0053989051410297,2.0053989051410297,2.0053989051410297,4.070007929156532,1.7815079134378968,1.7815079134378968,1.1679352360004402,1.1679352360004402,1.1679352360004402,1.1679352360004402,1.2425655665681516,1.2425655665681516,-0.581622432848448,-0.3950466064291709,-0.3950466064291709,-0.6189375981323034,-0.46967693699688173,0.2931564015759962,-3.0732283078821294,-0.32041627586146015,-1.157879945002049,0.3304715668598517,0.4051018974275625,-3.72411615060344,-1.4190861019890362,0.7947835831618862,0.7947835831618862,0.10658057515671916,-0.43236177171302625,-0.43236177171302625,0.8320987484457417,0.8320987484457417,-2.7581769527155156,1.9099834421852326,1.9099834421852326,0.2185260710082854,0.2185260710082854,-0.5069921022807372,-0.5069921022807372,-1.771452622439505,-1.771452622439505,0.36778673214370705,0.36778673214370705,0.36778673214370705,0.36778673214370705,0.36778673214370705,0.36778673214370705,-0.5069921022807372,-1.920713283574927,-0.43236177171302625,-0.43236177171302625,-0.43236177171302625,-0.8593586227312057,-0.1338404494421825,-0.8593586227312057,-0.1338404494421825,1.947298607469089,0.944044244297308,1.947298607469089,0.944044244297308,0.944044244297308,-0.80551342455158,0.2931564015759962,-0.32041627586146015,-0.32041627586146015,-0.1338404494421825,-0.6562527634161583,0.3304715668598517,-0.2831011105776047,-0.2831011105776047,-1.008619283866627,-1.008619283866627,-0.05921011887447168,-0.05921011887447168,-0.2831011105776047,0.5543625585629847,-0.09652528415832755,-3.14785863844984,0.5543625585629847],\"yaxis\":\"y\",\"type\":\"scatter\"}],                        {\"template\":{\"data\":{\"histogram2dcontour\":[{\"type\":\"histogram2dcontour\",\"colorbar\":{\"outlinewidth\":0,\"ticks\":\"\"},\"colorscale\":[[0.0,\"#0d0887\"],[0.1111111111111111,\"#46039f\"],[0.2222222222222222,\"#7201a8\"],[0.3333333333333333,\"#9c179e\"],[0.4444444444444444,\"#bd3786\"],[0.5555555555555556,\"#d8576b\"],[0.6666666666666666,\"#ed7953\"],[0.7777777777777778,\"#fb9f3a\"],[0.8888888888888888,\"#fdca26\"],[1.0,\"#f0f921\"]]}],\"choropleth\":[{\"type\":\"choropleth\",\"colorbar\":{\"outlinewidth\":0,\"ticks\":\"\"}}],\"histogram2d\":[{\"type\":\"histogram2d\",\"colorbar\":{\"outlinewidth\":0,\"ticks\":\"\"},\"colorscale\":[[0.0,\"#0d0887\"],[0.1111111111111111,\"#46039f\"],[0.2222222222222222,\"#7201a8\"],[0.3333333333333333,\"#9c179e\"],[0.4444444444444444,\"#bd3786\"],[0.5555555555555556,\"#d8576b\"],[0.6666666666666666,\"#ed7953\"],[0.7777777777777778,\"#fb9f3a\"],[0.8888888888888888,\"#fdca26\"],[1.0,\"#f0f921\"]]}],\"heatmap\":[{\"type\":\"heatmap\",\"colorbar\":{\"outlinewidth\":0,\"ticks\":\"\"},\"colorscale\":[[0.0,\"#0d0887\"],[0.1111111111111111,\"#46039f\"],[0.2222222222222222,\"#7201a8\"],[0.3333333333333333,\"#9c179e\"],[0.4444444444444444,\"#bd3786\"],[0.5555555555555556,\"#d8576b\"],[0.6666666666666666,\"#ed7953\"],[0.7777777777777778,\"#fb9f3a\"],[0.8888888888888888,\"#fdca26\"],[1.0,\"#f0f921\"]]}],\"heatmapgl\":[{\"type\":\"heatmapgl\",\"colorbar\":{\"outlinewidth\":0,\"ticks\":\"\"},\"colorscale\":[[0.0,\"#0d0887\"],[0.1111111111111111,\"#46039f\"],[0.2222222222222222,\"#7201a8\"],[0.3333333333333333,\"#9c179e\"],[0.4444444444444444,\"#bd3786\"],[0.5555555555555556,\"#d8576b\"],[0.6666666666666666,\"#ed7953\"],[0.7777777777777778,\"#fb9f3a\"],[0.8888888888888888,\"#fdca26\"],[1.0,\"#f0f921\"]]}],\"contourcarpet\":[{\"type\":\"contourcarpet\",\"colorbar\":{\"outlinewidth\":0,\"ticks\":\"\"}}],\"contour\":[{\"type\":\"contour\",\"colorbar\":{\"outlinewidth\":0,\"ticks\":\"\"},\"colorscale\":[[0.0,\"#0d0887\"],[0.1111111111111111,\"#46039f\"],[0.2222222222222222,\"#7201a8\"],[0.3333333333333333,\"#9c179e\"],[0.4444444444444444,\"#bd3786\"],[0.5555555555555556,\"#d8576b\"],[0.6666666666666666,\"#ed7953\"],[0.7777777777777778,\"#fb9f3a\"],[0.8888888888888888,\"#fdca26\"],[1.0,\"#f0f921\"]]}],\"surface\":[{\"type\":\"surface\",\"colorbar\":{\"outlinewidth\":0,\"ticks\":\"\"},\"colorscale\":[[0.0,\"#0d0887\"],[0.1111111111111111,\"#46039f\"],[0.2222222222222222,\"#7201a8\"],[0.3333333333333333,\"#9c179e\"],[0.4444444444444444,\"#bd3786\"],[0.5555555555555556,\"#d8576b\"],[0.6666666666666666,\"#ed7953\"],[0.7777777777777778,\"#fb9f3a\"],[0.8888888888888888,\"#fdca26\"],[1.0,\"#f0f921\"]]}],\"mesh3d\":[{\"type\":\"mesh3d\",\"colorbar\":{\"outlinewidth\":0,\"ticks\":\"\"}}],\"scatter\":[{\"fillpattern\":{\"fillmode\":\"overlay\",\"size\":10,\"solidity\":0.2},\"type\":\"scatter\"}],\"parcoords\":[{\"type\":\"parcoords\",\"line\":{\"colorbar\":{\"outlinewidth\":0,\"ticks\":\"\"}}}],\"scatterpolargl\":[{\"type\":\"scatterpolargl\",\"marker\":{\"colorbar\":{\"outlinewidth\":0,\"ticks\":\"\"}}}],\"bar\":[{\"error_x\":{\"color\":\"#2a3f5f\"},\"error_y\":{\"color\":\"#2a3f5f\"},\"marker\":{\"line\":{\"color\":\"#E5ECF6\",\"width\":0.5},\"pattern\":{\"fillmode\":\"overlay\",\"size\":10,\"solidity\":0.2}},\"type\":\"bar\"}],\"scattergeo\":[{\"type\":\"scattergeo\",\"marker\":{\"colorbar\":{\"outlinewidth\":0,\"ticks\":\"\"}}}],\"scatterpolar\":[{\"type\":\"scatterpolar\",\"marker\":{\"colorbar\":{\"outlinewidth\":0,\"ticks\":\"\"}}}],\"histogram\":[{\"marker\":{\"pattern\":{\"fillmode\":\"overlay\",\"size\":10,\"solidity\":0.2}},\"type\":\"histogram\"}],\"scattergl\":[{\"type\":\"scattergl\",\"marker\":{\"colorbar\":{\"outlinewidth\":0,\"ticks\":\"\"}}}],\"scatter3d\":[{\"type\":\"scatter3d\",\"line\":{\"colorbar\":{\"outlinewidth\":0,\"ticks\":\"\"}},\"marker\":{\"colorbar\":{\"outlinewidth\":0,\"ticks\":\"\"}}}],\"scattermapbox\":[{\"type\":\"scattermapbox\",\"marker\":{\"colorbar\":{\"outlinewidth\":0,\"ticks\":\"\"}}}],\"scatterternary\":[{\"type\":\"scatterternary\",\"marker\":{\"colorbar\":{\"outlinewidth\":0,\"ticks\":\"\"}}}],\"scattercarpet\":[{\"type\":\"scattercarpet\",\"marker\":{\"colorbar\":{\"outlinewidth\":0,\"ticks\":\"\"}}}],\"carpet\":[{\"aaxis\":{\"endlinecolor\":\"#2a3f5f\",\"gridcolor\":\"white\",\"linecolor\":\"white\",\"minorgridcolor\":\"white\",\"startlinecolor\":\"#2a3f5f\"},\"baxis\":{\"endlinecolor\":\"#2a3f5f\",\"gridcolor\":\"white\",\"linecolor\":\"white\",\"minorgridcolor\":\"white\",\"startlinecolor\":\"#2a3f5f\"},\"type\":\"carpet\"}],\"table\":[{\"cells\":{\"fill\":{\"color\":\"#EBF0F8\"},\"line\":{\"color\":\"white\"}},\"header\":{\"fill\":{\"color\":\"#C8D4E3\"},\"line\":{\"color\":\"white\"}},\"type\":\"table\"}],\"barpolar\":[{\"marker\":{\"line\":{\"color\":\"#E5ECF6\",\"width\":0.5},\"pattern\":{\"fillmode\":\"overlay\",\"size\":10,\"solidity\":0.2}},\"type\":\"barpolar\"}],\"pie\":[{\"automargin\":true,\"type\":\"pie\"}]},\"layout\":{\"autotypenumbers\":\"strict\",\"colorway\":[\"#636efa\",\"#EF553B\",\"#00cc96\",\"#ab63fa\",\"#FFA15A\",\"#19d3f3\",\"#FF6692\",\"#B6E880\",\"#FF97FF\",\"#FECB52\"],\"font\":{\"color\":\"#2a3f5f\"},\"hovermode\":\"closest\",\"hoverlabel\":{\"align\":\"left\"},\"paper_bgcolor\":\"white\",\"plot_bgcolor\":\"#E5ECF6\",\"polar\":{\"bgcolor\":\"#E5ECF6\",\"angularaxis\":{\"gridcolor\":\"white\",\"linecolor\":\"white\",\"ticks\":\"\"},\"radialaxis\":{\"gridcolor\":\"white\",\"linecolor\":\"white\",\"ticks\":\"\"}},\"ternary\":{\"bgcolor\":\"#E5ECF6\",\"aaxis\":{\"gridcolor\":\"white\",\"linecolor\":\"white\",\"ticks\":\"\"},\"baxis\":{\"gridcolor\":\"white\",\"linecolor\":\"white\",\"ticks\":\"\"},\"caxis\":{\"gridcolor\":\"white\",\"linecolor\":\"white\",\"ticks\":\"\"}},\"coloraxis\":{\"colorbar\":{\"outlinewidth\":0,\"ticks\":\"\"}},\"colorscale\":{\"sequential\":[[0.0,\"#0d0887\"],[0.1111111111111111,\"#46039f\"],[0.2222222222222222,\"#7201a8\"],[0.3333333333333333,\"#9c179e\"],[0.4444444444444444,\"#bd3786\"],[0.5555555555555556,\"#d8576b\"],[0.6666666666666666,\"#ed7953\"],[0.7777777777777778,\"#fb9f3a\"],[0.8888888888888888,\"#fdca26\"],[1.0,\"#f0f921\"]],\"sequentialminus\":[[0.0,\"#0d0887\"],[0.1111111111111111,\"#46039f\"],[0.2222222222222222,\"#7201a8\"],[0.3333333333333333,\"#9c179e\"],[0.4444444444444444,\"#bd3786\"],[0.5555555555555556,\"#d8576b\"],[0.6666666666666666,\"#ed7953\"],[0.7777777777777778,\"#fb9f3a\"],[0.8888888888888888,\"#fdca26\"],[1.0,\"#f0f921\"]],\"diverging\":[[0,\"#8e0152\"],[0.1,\"#c51b7d\"],[0.2,\"#de77ae\"],[0.3,\"#f1b6da\"],[0.4,\"#fde0ef\"],[0.5,\"#f7f7f7\"],[0.6,\"#e6f5d0\"],[0.7,\"#b8e186\"],[0.8,\"#7fbc41\"],[0.9,\"#4d9221\"],[1,\"#276419\"]]},\"xaxis\":{\"gridcolor\":\"white\",\"linecolor\":\"white\",\"ticks\":\"\",\"title\":{\"standoff\":15},\"zerolinecolor\":\"white\",\"automargin\":true,\"zerolinewidth\":2},\"yaxis\":{\"gridcolor\":\"white\",\"linecolor\":\"white\",\"ticks\":\"\",\"title\":{\"standoff\":15},\"zerolinecolor\":\"white\",\"automargin\":true,\"zerolinewidth\":2},\"scene\":{\"xaxis\":{\"backgroundcolor\":\"#E5ECF6\",\"gridcolor\":\"white\",\"linecolor\":\"white\",\"showbackground\":true,\"ticks\":\"\",\"zerolinecolor\":\"white\",\"gridwidth\":2},\"yaxis\":{\"backgroundcolor\":\"#E5ECF6\",\"gridcolor\":\"white\",\"linecolor\":\"white\",\"showbackground\":true,\"ticks\":\"\",\"zerolinecolor\":\"white\",\"gridwidth\":2},\"zaxis\":{\"backgroundcolor\":\"#E5ECF6\",\"gridcolor\":\"white\",\"linecolor\":\"white\",\"showbackground\":true,\"ticks\":\"\",\"zerolinecolor\":\"white\",\"gridwidth\":2}},\"shapedefaults\":{\"line\":{\"color\":\"#2a3f5f\"}},\"annotationdefaults\":{\"arrowcolor\":\"#2a3f5f\",\"arrowhead\":0,\"arrowwidth\":1},\"geo\":{\"bgcolor\":\"white\",\"landcolor\":\"#E5ECF6\",\"subunitcolor\":\"white\",\"showland\":true,\"showlakes\":true,\"lakecolor\":\"white\"},\"title\":{\"x\":0.05},\"mapbox\":{\"style\":\"light\"}}},\"xaxis\":{\"anchor\":\"y\",\"domain\":[0.0,1.0],\"title\":{\"text\":\"x - Component 1\"},\"scaleanchor\":\"y\",\"scaleratio\":1},\"yaxis\":{\"anchor\":\"x\",\"domain\":[0.0,1.0],\"title\":{\"text\":\"y - Component 2\"},\"scaleanchor\":\"x\",\"scaleratio\":1},\"legend\":{\"tracegroupgap\":0},\"title\":{\"text\":\"PCA Components\"},\"width\":500},                        {\"responsive\": true}                    ).then(function(){\n",
       "                            \n",
       "var gd = document.getElementById('84a8ccd6-0239-4427-b364-7c6dd2bca651');\n",
       "var x = new MutationObserver(function (mutations, observer) {{\n",
       "        var display = window.getComputedStyle(gd).display;\n",
       "        if (!display || display === 'none') {{\n",
       "            console.log([gd, 'removed!']);\n",
       "            Plotly.purge(gd);\n",
       "            observer.disconnect();\n",
       "        }}\n",
       "}});\n",
       "\n",
       "// Listen for the removal of the full notebook cells\n",
       "var notebookContainer = gd.closest('#notebook-container');\n",
       "if (notebookContainer) {{\n",
       "    x.observe(notebookContainer, {childList: true});\n",
       "}}\n",
       "\n",
       "// Listen for the clearing of the current output cell\n",
       "var outputEl = gd.closest('.output');\n",
       "if (outputEl) {{\n",
       "    x.observe(outputEl, {childList: true});\n",
       "}}\n",
       "\n",
       "                        })                };                });            </script>        </div>"
      ]
     },
     "metadata": {},
     "output_type": "display_data"
    }
   ],
   "source": [
    "# Plotting the components\n",
    "fig = px.scatter(data, x=data_pca['Component 1'], y=data_pca['Component 2'], \n",
    "           width=500, title=\"Component 1 vs Component 2\")\n",
    "\n",
    "# Set the titles and aspect ratio to be the same\n",
    "fig.update_layout(title=\"PCA Components\",\n",
    "    xaxis=dict(title='x - Component 1', scaleanchor=\"y\", scaleratio=1),\n",
    "    yaxis=dict(title='y - Component 2', scaleanchor=\"x\", scaleratio=1))\n",
    "\n",
    "# Update the markers and the opacity to get a more beautiful plot\n",
    "fig.update_traces(marker=dict(size=8, opacity=0.6))\n",
    "\n",
    "# Show the figure\n",
    "fig.show()"
   ]
  },
  {
   "cell_type": "markdown",
   "metadata": {},
   "source": [
    "After applying PCA, the data is transformed and plotted in the space of principal components. The first principal component would lie along the direction of greatest variance, which, judging by the orientation of the original data, is likely aligned with the diagonal line that would fit through the blue points. The second principal component would be orthogonal to \"Component 1\" and capture the remaining variance."
   ]
  },
  {
   "cell_type": "markdown",
   "metadata": {},
   "source": [
    "## PCA as Dimensionality Reduction"
   ]
  },
  {
   "cell_type": "markdown",
   "metadata": {},
   "source": [
    "Using PCA for dimensionality reduction involves zeroing out one or more of the smallest principal components. This results in a lower-dimensional projection of the data that preserves the maximal data variance.\n",
    "\n",
    "Let's use the same data, asking for only one principal component."
   ]
  },
  {
   "cell_type": "markdown",
   "metadata": {},
   "source": [
    "### Analysis with two features"
   ]
  },
  {
   "cell_type": "code",
   "execution_count": 13,
   "metadata": {},
   "outputs": [
    {
     "data": {
      "text/html": [
       "<style>#sk-container-id-2 {color: black;background-color: white;}#sk-container-id-2 pre{padding: 0;}#sk-container-id-2 div.sk-toggleable {background-color: white;}#sk-container-id-2 label.sk-toggleable__label {cursor: pointer;display: block;width: 100%;margin-bottom: 0;padding: 0.3em;box-sizing: border-box;text-align: center;}#sk-container-id-2 label.sk-toggleable__label-arrow:before {content: \"▸\";float: left;margin-right: 0.25em;color: #696969;}#sk-container-id-2 label.sk-toggleable__label-arrow:hover:before {color: black;}#sk-container-id-2 div.sk-estimator:hover label.sk-toggleable__label-arrow:before {color: black;}#sk-container-id-2 div.sk-toggleable__content {max-height: 0;max-width: 0;overflow: hidden;text-align: left;background-color: #f0f8ff;}#sk-container-id-2 div.sk-toggleable__content pre {margin: 0.2em;color: black;border-radius: 0.25em;background-color: #f0f8ff;}#sk-container-id-2 input.sk-toggleable__control:checked~div.sk-toggleable__content {max-height: 200px;max-width: 100%;overflow: auto;}#sk-container-id-2 input.sk-toggleable__control:checked~label.sk-toggleable__label-arrow:before {content: \"▾\";}#sk-container-id-2 div.sk-estimator input.sk-toggleable__control:checked~label.sk-toggleable__label {background-color: #d4ebff;}#sk-container-id-2 div.sk-label input.sk-toggleable__control:checked~label.sk-toggleable__label {background-color: #d4ebff;}#sk-container-id-2 input.sk-hidden--visually {border: 0;clip: rect(1px 1px 1px 1px);clip: rect(1px, 1px, 1px, 1px);height: 1px;margin: -1px;overflow: hidden;padding: 0;position: absolute;width: 1px;}#sk-container-id-2 div.sk-estimator {font-family: monospace;background-color: #f0f8ff;border: 1px dotted black;border-radius: 0.25em;box-sizing: border-box;margin-bottom: 0.5em;}#sk-container-id-2 div.sk-estimator:hover {background-color: #d4ebff;}#sk-container-id-2 div.sk-parallel-item::after {content: \"\";width: 100%;border-bottom: 1px solid gray;flex-grow: 1;}#sk-container-id-2 div.sk-label:hover label.sk-toggleable__label {background-color: #d4ebff;}#sk-container-id-2 div.sk-serial::before {content: \"\";position: absolute;border-left: 1px solid gray;box-sizing: border-box;top: 0;bottom: 0;left: 50%;z-index: 0;}#sk-container-id-2 div.sk-serial {display: flex;flex-direction: column;align-items: center;background-color: white;padding-right: 0.2em;padding-left: 0.2em;position: relative;}#sk-container-id-2 div.sk-item {position: relative;z-index: 1;}#sk-container-id-2 div.sk-parallel {display: flex;align-items: stretch;justify-content: center;background-color: white;position: relative;}#sk-container-id-2 div.sk-item::before, #sk-container-id-2 div.sk-parallel-item::before {content: \"\";position: absolute;border-left: 1px solid gray;box-sizing: border-box;top: 0;bottom: 0;left: 50%;z-index: -1;}#sk-container-id-2 div.sk-parallel-item {display: flex;flex-direction: column;z-index: 1;position: relative;background-color: white;}#sk-container-id-2 div.sk-parallel-item:first-child::after {align-self: flex-end;width: 50%;}#sk-container-id-2 div.sk-parallel-item:last-child::after {align-self: flex-start;width: 50%;}#sk-container-id-2 div.sk-parallel-item:only-child::after {width: 0;}#sk-container-id-2 div.sk-dashed-wrapped {border: 1px dashed gray;margin: 0 0.4em 0.5em 0.4em;box-sizing: border-box;padding-bottom: 0.4em;background-color: white;}#sk-container-id-2 div.sk-label label {font-family: monospace;font-weight: bold;display: inline-block;line-height: 1.2em;}#sk-container-id-2 div.sk-label-container {text-align: center;}#sk-container-id-2 div.sk-container {/* jupyter's `normalize.less` sets `[hidden] { display: none; }` but bootstrap.min.css set `[hidden] { display: none !important; }` so we also need the `!important` here to be able to override the default hidden behavior on the sphinx rendered scikit-learn.org. See: https://github.com/scikit-learn/scikit-learn/issues/21755 */display: inline-block !important;position: relative;}#sk-container-id-2 div.sk-text-repr-fallback {display: none;}</style><div id=\"sk-container-id-2\" class=\"sk-top-container\"><div class=\"sk-text-repr-fallback\"><pre>PCA(n_components=1)</pre><b>In a Jupyter environment, please rerun this cell to show the HTML representation or trust the notebook. <br />On GitHub, the HTML representation is unable to render, please try loading this page with nbviewer.org.</b></div><div class=\"sk-container\" hidden><div class=\"sk-item\"><div class=\"sk-estimator sk-toggleable\"><input class=\"sk-toggleable__control sk-hidden--visually\" id=\"sk-estimator-id-2\" type=\"checkbox\" checked><label for=\"sk-estimator-id-2\" class=\"sk-toggleable__label sk-toggleable__label-arrow\">PCA</label><div class=\"sk-toggleable__content\"><pre>PCA(n_components=1)</pre></div></div></div></div></div>"
      ],
      "text/plain": [
       "PCA(n_components=1)"
      ]
     },
     "execution_count": 13,
     "metadata": {},
     "output_type": "execute_result"
    }
   ],
   "source": [
    "pca1 = PCA(n_components=1)\n",
    "pca1.fit(data)"
   ]
  },
  {
   "cell_type": "code",
   "execution_count": 14,
   "metadata": {},
   "outputs": [
    {
     "name": "stdout",
     "output_type": "stream",
     "text": [
      "Explained variance:  [88.933]\n",
      "Explained variance ratio:  [0.986]\n"
     ]
    }
   ],
   "source": [
    "# Getting the exaplained variance\n",
    "print('Explained variance: ', pca1.explained_variance_.round(3))\n",
    "print('Explained variance ratio: ', pca1.explained_variance_ratio_.round(3))"
   ]
  },
  {
   "cell_type": "markdown",
   "metadata": {},
   "source": [
    "The `Explained Variance Ratio` is expressed as a ratio or percentage, representing the fraction of the total variance that is captured by a particular principal component. This ratio is helpful in understanding the importance or significance of each component.\n",
    "\n",
    "Notice in our case, the computed component gets the `98.6%` of the total variance!"
   ]
  },
  {
   "cell_type": "code",
   "execution_count": 15,
   "metadata": {},
   "outputs": [
    {
     "name": "stdout",
     "output_type": "stream",
     "text": [
      "Components:\n",
      " [[0.6882 0.7255]]\n"
     ]
    }
   ],
   "source": [
    "# Showing the component\n",
    "print('Components:\\n', pca1.components_.round(4))"
   ]
  },
  {
   "cell_type": "code",
   "execution_count": 16,
   "metadata": {
    "tags": []
   },
   "outputs": [
    {
     "name": "stdout",
     "output_type": "stream",
     "text": [
      "Original shape:    (205, 2)\n",
      "Transformed shape: (205, 1)\n"
     ]
    }
   ],
   "source": [
    "# Getting the transformed data\n",
    "data1 = pca1.transform(data)\n",
    "print(\"Original shape:   \", data.shape)\n",
    "print(\"Transformed shape:\", data1.shape)"
   ]
  },
  {
   "cell_type": "markdown",
   "metadata": {},
   "source": [
    "The original data has two features; the transformed data has been reduced to a single dimension. \n",
    "\n",
    "To understand the effect of this dimensionality reduction, we can perform the inverse transform of this reduced data and plot it along with the original data."
   ]
  },
  {
   "cell_type": "code",
   "execution_count": 17,
   "metadata": {},
   "outputs": [
    {
     "data": {
      "text/html": [
       "<div>\n",
       "<style scoped>\n",
       "    .dataframe tbody tr th:only-of-type {\n",
       "        vertical-align: middle;\n",
       "    }\n",
       "\n",
       "    .dataframe tbody tr th {\n",
       "        vertical-align: top;\n",
       "    }\n",
       "\n",
       "    .dataframe thead th {\n",
       "        text-align: right;\n",
       "    }\n",
       "</style>\n",
       "<table border=\"1\" class=\"dataframe\">\n",
       "  <thead>\n",
       "    <tr style=\"text-align: right;\">\n",
       "      <th></th>\n",
       "      <th>city_mpg</th>\n",
       "      <th>highway_mpg</th>\n",
       "    </tr>\n",
       "  </thead>\n",
       "  <tbody>\n",
       "    <tr>\n",
       "      <th>0</th>\n",
       "      <td>21.348054</td>\n",
       "      <td>26.669847</td>\n",
       "    </tr>\n",
       "    <tr>\n",
       "      <th>1</th>\n",
       "      <td>21.348054</td>\n",
       "      <td>26.669847</td>\n",
       "    </tr>\n",
       "    <tr>\n",
       "      <th>2</th>\n",
       "      <td>19.901504</td>\n",
       "      <td>25.144863</td>\n",
       "    </tr>\n",
       "    <tr>\n",
       "      <th>3</th>\n",
       "      <td>24.266836</td>\n",
       "      <td>29.746888</td>\n",
       "    </tr>\n",
       "    <tr>\n",
       "      <th>4</th>\n",
       "      <td>17.430665</td>\n",
       "      <td>22.540052</td>\n",
       "    </tr>\n",
       "  </tbody>\n",
       "</table>\n",
       "</div>"
      ],
      "text/plain": [
       "    city_mpg  highway_mpg\n",
       "0  21.348054    26.669847\n",
       "1  21.348054    26.669847\n",
       "2  19.901504    25.144863\n",
       "3  24.266836    29.746888\n",
       "4  17.430665    22.540052"
      ]
     },
     "execution_count": 17,
     "metadata": {},
     "output_type": "execute_result"
    }
   ],
   "source": [
    "data_pca = pd.DataFrame(pca1.inverse_transform(data1), columns=['city_mpg', 'highway_mpg'])\n",
    "data_pca.head()"
   ]
  },
  {
   "cell_type": "code",
   "execution_count": 18,
   "metadata": {},
   "outputs": [
    {
     "data": {
      "application/vnd.plotly.v1+json": {
       "config": {
        "plotlyServerURL": "https://plot.ly"
       },
       "data": [
        {
         "hovertemplate": "city_mpg=%{x}<br>highway_mpg=%{y}<extra></extra>",
         "legendgroup": "",
         "marker": {
          "color": "#636efa",
          "opacity": 0.7,
          "size": 8,
          "symbol": "circle"
         },
         "mode": "markers",
         "name": "Original Data",
         "orientation": "v",
         "showlegend": false,
         "type": "scatter",
         "x": [
          21,
          21,
          19,
          24,
          18,
          19,
          19,
          19,
          17,
          16,
          23,
          23,
          21,
          21,
          20,
          16,
          16,
          15,
          47,
          38,
          38,
          37,
          31,
          24,
          31,
          31,
          31,
          24,
          24,
          19,
          49,
          31,
          38,
          30,
          30,
          30,
          30,
          27,
          27,
          27,
          27,
          24,
          25,
          24,
          38,
          38,
          24,
          15,
          15,
          13,
          30,
          31,
          31,
          31,
          31,
          17,
          17,
          17,
          16,
          26,
          26,
          26,
          26,
          36,
          26,
          19,
          31,
          22,
          22,
          22,
          22,
          16,
          16,
          14,
          14,
          19,
          37,
          31,
          31,
          24,
          23,
          25,
          19,
          19,
          19,
          25,
          25,
          23,
          23,
          31,
          45,
          31,
          31,
          31,
          31,
          31,
          31,
          31,
          31,
          27,
          27,
          17,
          17,
          19,
          19,
          17,
          19,
          19,
          28,
          19,
          25,
          19,
          28,
          19,
          25,
          19,
          28,
          18,
          37,
          24,
          31,
          31,
          31,
          24,
          19,
          19,
          17,
          17,
          17,
          17,
          23,
          23,
          21,
          21,
          21,
          21,
          19,
          19,
          31,
          26,
          26,
          32,
          28,
          26,
          24,
          24,
          28,
          25,
          23,
          23,
          35,
          31,
          31,
          31,
          27,
          27,
          30,
          30,
          34,
          38,
          38,
          28,
          28,
          29,
          29,
          26,
          26,
          24,
          24,
          24,
          24,
          24,
          24,
          29,
          30,
          27,
          27,
          27,
          20,
          19,
          20,
          19,
          37,
          27,
          37,
          27,
          27,
          37,
          26,
          24,
          24,
          19,
          33,
          25,
          23,
          23,
          24,
          24,
          17,
          17,
          23,
          19,
          18,
          26,
          19
         ],
         "xaxis": "x",
         "y": [
          27,
          27,
          26,
          30,
          22,
          25,
          25,
          25,
          20,
          22,
          29,
          29,
          28,
          28,
          25,
          22,
          22,
          20,
          53,
          43,
          43,
          41,
          38,
          30,
          38,
          38,
          38,
          30,
          30,
          24,
          54,
          38,
          42,
          34,
          34,
          34,
          34,
          33,
          33,
          33,
          33,
          28,
          31,
          29,
          43,
          43,
          29,
          19,
          19,
          17,
          31,
          38,
          38,
          38,
          38,
          23,
          23,
          23,
          23,
          32,
          32,
          32,
          32,
          42,
          32,
          27,
          39,
          25,
          25,
          25,
          25,
          18,
          18,
          16,
          16,
          24,
          41,
          38,
          38,
          30,
          30,
          32,
          24,
          24,
          24,
          32,
          32,
          30,
          30,
          37,
          50,
          37,
          37,
          37,
          37,
          37,
          37,
          37,
          37,
          34,
          34,
          22,
          22,
          25,
          25,
          23,
          25,
          24,
          33,
          24,
          25,
          24,
          33,
          24,
          25,
          24,
          33,
          24,
          41,
          30,
          38,
          38,
          38,
          30,
          24,
          27,
          25,
          25,
          25,
          28,
          31,
          31,
          28,
          28,
          28,
          28,
          26,
          26,
          36,
          31,
          31,
          37,
          33,
          32,
          25,
          29,
          32,
          31,
          29,
          23,
          39,
          38,
          38,
          37,
          32,
          32,
          37,
          37,
          36,
          47,
          47,
          34,
          34,
          34,
          34,
          29,
          29,
          30,
          30,
          30,
          30,
          30,
          30,
          34,
          33,
          32,
          32,
          32,
          24,
          24,
          24,
          24,
          46,
          34,
          46,
          34,
          34,
          42,
          32,
          29,
          29,
          24,
          38,
          31,
          28,
          28,
          28,
          28,
          22,
          22,
          28,
          25,
          23,
          27,
          25
         ],
         "yaxis": "y"
        },
        {
         "marker": {
          "color": "darkorange",
          "size": 7
         },
         "mode": "markers",
         "name": "Transformed Data",
         "opacity": 0.8,
         "type": "scatter",
         "x": [
          21.348054449723005,
          21.348054449723005,
          19.901503900048365,
          24.266835958064842,
          17.430665362941326,
          19.402200110828446,
          19.402200110828446,
          19.402200110828446,
          15.958434404274128,
          16.48341860248661,
          23.29390878861756,
          23.29390878861756,
          21.847358238942924,
          21.847358238942924,
          19.875823491055804,
          16.48341860248661,
          16.48341860248661,
          15.011187643819408,
          46.64416085535227,
          37.388512541106834,
          37.388512541106834,
          35.91628158243964,
          31.576629933415717,
          24.266835958064842,
          31.576629933415717,
          31.576629933415717,
          31.576629933415717,
          24.266835958064842,
          24.266835958064842,
          18.902896321608523,
          48.0907114050269,
          31.576629933415717,
          36.88920875188691,
          29.10579139630868,
          29.10579139630868,
          29.10579139630868,
          29.10579139630868,
          27.18561746640668,
          27.18561746640668,
          27.18561746640668,
          27.18561746640668,
          23.268228379625004,
          25.23976312751212,
          23.767532168844923,
          37.388512541106834,
          37.388512541106834,
          23.767532168844923,
          14.51188385459949,
          14.51188385459949,
          12.56602951570493,
          27.60788002864892,
          31.576629933415717,
          31.576629933415717,
          31.576629933415717,
          31.576629933415717,
          17.456345771933886,
          17.456345771933886,
          17.456345771933886,
          16.982722391706528,
          26.2126902969594,
          26.2126902969594,
          26.2126902969594,
          26.2126902969594,
          35.941961991432194,
          26.2126902969594,
          20.400807689268284,
          32.07593372263564,
          20.823070251510526,
          20.823070251510526,
          20.823070251510526,
          20.823070251510526,
          14.486203445606929,
          14.486203445606929,
          12.540349106712371,
          12.540349106712371,
          18.902896321608523,
          35.91628158243964,
          31.576629933415717,
          31.576629933415717,
          24.266835958064842,
          23.79321257783748,
          25.73906691673204,
          18.902896321608523,
          18.902896321608523,
          18.902896321608523,
          25.73906691673204,
          25.73906691673204,
          23.79321257783748,
          23.79321257783748,
          31.077326144195794,
          44.19900272723778,
          31.077326144195794,
          31.077326144195794,
          31.077326144195794,
          31.077326144195794,
          31.077326144195794,
          31.077326144195794,
          31.077326144195794,
          31.077326144195794,
          27.6849212556266,
          27.6849212556266,
          16.957041982713967,
          16.957041982713967,
          19.402200110828446,
          19.402200110828446,
          17.456345771933886,
          19.402200110828446,
          18.902896321608523,
          27.659240846634038,
          18.902896321608523,
          22.243940392192606,
          18.902896321608523,
          27.659240846634038,
          18.902896321608523,
          22.243940392192606,
          18.902896321608523,
          27.659240846634038,
          18.429272941381164,
          35.91628158243964,
          24.266835958064842,
          31.576629933415717,
          31.576629933415717,
          31.576629933415717,
          24.266835958064842,
          18.902896321608523,
          20.400807689268284,
          18.454953350373724,
          18.454953350373724,
          18.454953350373724,
          19.95286471803348,
          24.292516367057402,
          24.292516367057402,
          21.847358238942924,
          21.847358238942924,
          21.847358238942924,
          21.847358238942924,
          19.901503900048365,
          19.901503900048365,
          30.57802235497588,
          25.71338650773948,
          25.71338650773948,
          31.550949524423157,
          27.659240846634038,
          26.2126902969594,
          21.770317011965243,
          23.767532168844923,
          27.15993705741412,
          25.23976312751212,
          23.29390878861756,
          20.298086053298046,
          33.970427243545075,
          31.576629933415717,
          31.576629933415717,
          31.077326144195794,
          26.68631367718676,
          26.68631367718676,
          30.603702763968435,
          30.603702763968435,
          31.998892495657955,
          39.38572769798651,
          39.38572769798651,
          28.158544635853957,
          28.158544635853957,
          28.63216801608132,
          28.63216801608132,
          24.71477892929964,
          24.71477892929964,
          24.266835958064842,
          24.266835958064842,
          24.266835958064842,
          24.266835958064842,
          24.266835958064842,
          24.266835958064842,
          28.63216801608132,
          28.60648760708876,
          26.68631367718676,
          26.68631367718676,
          26.68631367718676,
          19.376519701835885,
          18.902896321608523,
          19.376519701835885,
          18.902896321608523,
          38.41280052853923,
          27.6849212556266,
          38.41280052853923,
          27.6849212556266,
          27.6849212556266,
          36.41558537165955,
          26.2126902969594,
          23.767532168844923,
          23.767532168844923,
          18.902896321608523,
          32.523876693870434,
          25.23976312751212,
          22.79460499939764,
          22.79460499939764,
          23.268228379625004,
          23.268228379625004,
          16.957041982713967,
          16.957041982713967,
          22.79460499939764,
          19.402200110828446,
          17.929969152161245,
          23.716171350859803,
          19.402200110828446
         ],
         "y": [
          26.669846837656632,
          26.669846837656632,
          25.144862639444153,
          29.74688806463431,
          22.54005237113367,
          24.61848601967151,
          24.61848601967151,
          24.61848601967151,
          20.98799534236847,
          21.54144479269383,
          28.72120765564175,
          28.72120765564175,
          27.19622345742927,
          27.19622345742927,
          25.11778980889143,
          21.54144479269383,
          21.54144479269383,
          19.989387763928633,
          53.33753747146318,
          43.58003717075751,
          43.58003717075751,
          42.0279801419923,
          37.45302754735487,
          29.74688806463431,
          37.45302754735487,
          37.45302754735487,
          37.45302754735487,
          29.74688806463431,
          29.74688806463431,
          24.09210939989887,
          54.86252166967566,
          37.45302754735487,
          43.053660550984866,
          34.84821727904439,
          34.84821727904439,
          34.84821727904439,
          34.84821727904439,
          32.82392929161199,
          32.82392929161199,
          32.82392929161199,
          32.82392929161199,
          28.69413482508903,
          30.77256847362687,
          29.22051144486167,
          43.58003717075751,
          43.58003717075751,
          29.22051144486167,
          19.463011144155992,
          19.463011144155992,
          17.41165032617087,
          33.26908741972647,
          37.45302754735487,
          37.45302754735487,
          37.45302754735487,
          37.45302754735487,
          22.56712520168639,
          22.56712520168639,
          22.56712520168639,
          22.067821412466472,
          31.79824888261943,
          31.79824888261943,
          31.79824888261943,
          31.79824888261943,
          42.05505297254503,
          31.79824888261943,
          25.67123925921679,
          37.97940416712751,
          26.11639738733127,
          26.11639738733127,
          26.11639738733127,
          26.11639738733127,
          19.435938313603273,
          19.435938313603273,
          17.384577495618153,
          17.384577495618153,
          24.09210939989887,
          42.0279801419923,
          37.45302754735487,
          37.45302754735487,
          29.74688806463431,
          29.24758427541439,
          31.29894509339951,
          24.09210939989887,
          24.09210939989887,
          24.09210939989887,
          31.29894509339951,
          31.29894509339951,
          29.24758427541439,
          29.24758427541439,
          36.92665092758223,
          50.759800033705424,
          36.92665092758223,
          36.92665092758223,
          36.92665092758223,
          36.92665092758223,
          36.92665092758223,
          36.92665092758223,
          36.92665092758223,
          36.92665092758223,
          33.35030591138463,
          33.35030591138463,
          22.040748581913753,
          22.040748581913753,
          24.61848601967151,
          24.61848601967151,
          22.56712520168639,
          24.61848601967151,
          24.09210939989887,
          33.32323308083191,
          24.09210939989887,
          27.61430875499103,
          24.09210939989887,
          33.32323308083191,
          24.09210939989887,
          27.61430875499103,
          24.09210939989887,
          33.32323308083191,
          23.59280561067895,
          42.0279801419923,
          29.74688806463431,
          37.45302754735487,
          37.45302754735487,
          37.45302754735487,
          29.74688806463431,
          24.09210939989887,
          25.67123925921679,
          23.619878441231673,
          23.619878441231673,
          23.619878441231673,
          25.199008300549593,
          29.77396089518703,
          29.77396089518703,
          27.19622345742927,
          27.19622345742927,
          27.19622345742927,
          27.19622345742927,
          25.144862639444153,
          25.144862639444153,
          36.40027430780959,
          31.271872262846788,
          31.271872262846788,
          37.425954716802146,
          33.32323308083191,
          31.79824888261943,
          27.115004965771107,
          29.22051144486167,
          32.79685646105927,
          30.77256847362687,
          28.72120765564175,
          25.56294793700591,
          39.97661932400719,
          37.45302754735487,
          37.45302754735487,
          36.92665092758223,
          32.29755267183935,
          32.29755267183935,
          36.42734713836231,
          36.42734713836231,
          37.89818567546935,
          45.68554364984807,
          45.68554364984807,
          33.849609700604546,
          33.849609700604546,
          34.34891348982447,
          34.34891348982447,
          30.21911902330151,
          30.21911902330151,
          29.74688806463431,
          29.74688806463431,
          29.74688806463431,
          29.74688806463431,
          29.74688806463431,
          29.74688806463431,
          34.34891348982447,
          34.32184065927175,
          32.29755267183935,
          32.29755267183935,
          32.29755267183935,
          24.59141318911879,
          24.09210939989887,
          24.59141318911879,
          24.09210939989887,
          44.65986324085551,
          33.35030591138463,
          44.65986324085551,
          33.35030591138463,
          33.35030591138463,
          42.55435676176495,
          31.79824888261943,
          29.22051144486167,
          29.22051144486167,
          24.09210939989887,
          38.45163512579471,
          30.77256847362687,
          28.19483103586911,
          28.19483103586911,
          28.69413482508903,
          28.69413482508903,
          22.040748581913753,
          22.040748581913753,
          28.19483103586911,
          24.61848601967151,
          23.06642899090631,
          29.166365783756227,
          24.61848601967151
         ]
        }
       ],
       "layout": {
        "legend": {
         "tracegroupgap": 0
        },
        "margin": {
         "t": 60
        },
        "template": {
         "data": {
          "bar": [
           {
            "error_x": {
             "color": "#2a3f5f"
            },
            "error_y": {
             "color": "#2a3f5f"
            },
            "marker": {
             "line": {
              "color": "#E5ECF6",
              "width": 0.5
             },
             "pattern": {
              "fillmode": "overlay",
              "size": 10,
              "solidity": 0.2
             }
            },
            "type": "bar"
           }
          ],
          "barpolar": [
           {
            "marker": {
             "line": {
              "color": "#E5ECF6",
              "width": 0.5
             },
             "pattern": {
              "fillmode": "overlay",
              "size": 10,
              "solidity": 0.2
             }
            },
            "type": "barpolar"
           }
          ],
          "carpet": [
           {
            "aaxis": {
             "endlinecolor": "#2a3f5f",
             "gridcolor": "white",
             "linecolor": "white",
             "minorgridcolor": "white",
             "startlinecolor": "#2a3f5f"
            },
            "baxis": {
             "endlinecolor": "#2a3f5f",
             "gridcolor": "white",
             "linecolor": "white",
             "minorgridcolor": "white",
             "startlinecolor": "#2a3f5f"
            },
            "type": "carpet"
           }
          ],
          "choropleth": [
           {
            "colorbar": {
             "outlinewidth": 0,
             "ticks": ""
            },
            "type": "choropleth"
           }
          ],
          "contour": [
           {
            "colorbar": {
             "outlinewidth": 0,
             "ticks": ""
            },
            "colorscale": [
             [
              0,
              "#0d0887"
             ],
             [
              0.1111111111111111,
              "#46039f"
             ],
             [
              0.2222222222222222,
              "#7201a8"
             ],
             [
              0.3333333333333333,
              "#9c179e"
             ],
             [
              0.4444444444444444,
              "#bd3786"
             ],
             [
              0.5555555555555556,
              "#d8576b"
             ],
             [
              0.6666666666666666,
              "#ed7953"
             ],
             [
              0.7777777777777778,
              "#fb9f3a"
             ],
             [
              0.8888888888888888,
              "#fdca26"
             ],
             [
              1,
              "#f0f921"
             ]
            ],
            "type": "contour"
           }
          ],
          "contourcarpet": [
           {
            "colorbar": {
             "outlinewidth": 0,
             "ticks": ""
            },
            "type": "contourcarpet"
           }
          ],
          "heatmap": [
           {
            "colorbar": {
             "outlinewidth": 0,
             "ticks": ""
            },
            "colorscale": [
             [
              0,
              "#0d0887"
             ],
             [
              0.1111111111111111,
              "#46039f"
             ],
             [
              0.2222222222222222,
              "#7201a8"
             ],
             [
              0.3333333333333333,
              "#9c179e"
             ],
             [
              0.4444444444444444,
              "#bd3786"
             ],
             [
              0.5555555555555556,
              "#d8576b"
             ],
             [
              0.6666666666666666,
              "#ed7953"
             ],
             [
              0.7777777777777778,
              "#fb9f3a"
             ],
             [
              0.8888888888888888,
              "#fdca26"
             ],
             [
              1,
              "#f0f921"
             ]
            ],
            "type": "heatmap"
           }
          ],
          "heatmapgl": [
           {
            "colorbar": {
             "outlinewidth": 0,
             "ticks": ""
            },
            "colorscale": [
             [
              0,
              "#0d0887"
             ],
             [
              0.1111111111111111,
              "#46039f"
             ],
             [
              0.2222222222222222,
              "#7201a8"
             ],
             [
              0.3333333333333333,
              "#9c179e"
             ],
             [
              0.4444444444444444,
              "#bd3786"
             ],
             [
              0.5555555555555556,
              "#d8576b"
             ],
             [
              0.6666666666666666,
              "#ed7953"
             ],
             [
              0.7777777777777778,
              "#fb9f3a"
             ],
             [
              0.8888888888888888,
              "#fdca26"
             ],
             [
              1,
              "#f0f921"
             ]
            ],
            "type": "heatmapgl"
           }
          ],
          "histogram": [
           {
            "marker": {
             "pattern": {
              "fillmode": "overlay",
              "size": 10,
              "solidity": 0.2
             }
            },
            "type": "histogram"
           }
          ],
          "histogram2d": [
           {
            "colorbar": {
             "outlinewidth": 0,
             "ticks": ""
            },
            "colorscale": [
             [
              0,
              "#0d0887"
             ],
             [
              0.1111111111111111,
              "#46039f"
             ],
             [
              0.2222222222222222,
              "#7201a8"
             ],
             [
              0.3333333333333333,
              "#9c179e"
             ],
             [
              0.4444444444444444,
              "#bd3786"
             ],
             [
              0.5555555555555556,
              "#d8576b"
             ],
             [
              0.6666666666666666,
              "#ed7953"
             ],
             [
              0.7777777777777778,
              "#fb9f3a"
             ],
             [
              0.8888888888888888,
              "#fdca26"
             ],
             [
              1,
              "#f0f921"
             ]
            ],
            "type": "histogram2d"
           }
          ],
          "histogram2dcontour": [
           {
            "colorbar": {
             "outlinewidth": 0,
             "ticks": ""
            },
            "colorscale": [
             [
              0,
              "#0d0887"
             ],
             [
              0.1111111111111111,
              "#46039f"
             ],
             [
              0.2222222222222222,
              "#7201a8"
             ],
             [
              0.3333333333333333,
              "#9c179e"
             ],
             [
              0.4444444444444444,
              "#bd3786"
             ],
             [
              0.5555555555555556,
              "#d8576b"
             ],
             [
              0.6666666666666666,
              "#ed7953"
             ],
             [
              0.7777777777777778,
              "#fb9f3a"
             ],
             [
              0.8888888888888888,
              "#fdca26"
             ],
             [
              1,
              "#f0f921"
             ]
            ],
            "type": "histogram2dcontour"
           }
          ],
          "mesh3d": [
           {
            "colorbar": {
             "outlinewidth": 0,
             "ticks": ""
            },
            "type": "mesh3d"
           }
          ],
          "parcoords": [
           {
            "line": {
             "colorbar": {
              "outlinewidth": 0,
              "ticks": ""
             }
            },
            "type": "parcoords"
           }
          ],
          "pie": [
           {
            "automargin": true,
            "type": "pie"
           }
          ],
          "scatter": [
           {
            "fillpattern": {
             "fillmode": "overlay",
             "size": 10,
             "solidity": 0.2
            },
            "type": "scatter"
           }
          ],
          "scatter3d": [
           {
            "line": {
             "colorbar": {
              "outlinewidth": 0,
              "ticks": ""
             }
            },
            "marker": {
             "colorbar": {
              "outlinewidth": 0,
              "ticks": ""
             }
            },
            "type": "scatter3d"
           }
          ],
          "scattercarpet": [
           {
            "marker": {
             "colorbar": {
              "outlinewidth": 0,
              "ticks": ""
             }
            },
            "type": "scattercarpet"
           }
          ],
          "scattergeo": [
           {
            "marker": {
             "colorbar": {
              "outlinewidth": 0,
              "ticks": ""
             }
            },
            "type": "scattergeo"
           }
          ],
          "scattergl": [
           {
            "marker": {
             "colorbar": {
              "outlinewidth": 0,
              "ticks": ""
             }
            },
            "type": "scattergl"
           }
          ],
          "scattermapbox": [
           {
            "marker": {
             "colorbar": {
              "outlinewidth": 0,
              "ticks": ""
             }
            },
            "type": "scattermapbox"
           }
          ],
          "scatterpolar": [
           {
            "marker": {
             "colorbar": {
              "outlinewidth": 0,
              "ticks": ""
             }
            },
            "type": "scatterpolar"
           }
          ],
          "scatterpolargl": [
           {
            "marker": {
             "colorbar": {
              "outlinewidth": 0,
              "ticks": ""
             }
            },
            "type": "scatterpolargl"
           }
          ],
          "scatterternary": [
           {
            "marker": {
             "colorbar": {
              "outlinewidth": 0,
              "ticks": ""
             }
            },
            "type": "scatterternary"
           }
          ],
          "surface": [
           {
            "colorbar": {
             "outlinewidth": 0,
             "ticks": ""
            },
            "colorscale": [
             [
              0,
              "#0d0887"
             ],
             [
              0.1111111111111111,
              "#46039f"
             ],
             [
              0.2222222222222222,
              "#7201a8"
             ],
             [
              0.3333333333333333,
              "#9c179e"
             ],
             [
              0.4444444444444444,
              "#bd3786"
             ],
             [
              0.5555555555555556,
              "#d8576b"
             ],
             [
              0.6666666666666666,
              "#ed7953"
             ],
             [
              0.7777777777777778,
              "#fb9f3a"
             ],
             [
              0.8888888888888888,
              "#fdca26"
             ],
             [
              1,
              "#f0f921"
             ]
            ],
            "type": "surface"
           }
          ],
          "table": [
           {
            "cells": {
             "fill": {
              "color": "#EBF0F8"
             },
             "line": {
              "color": "white"
             }
            },
            "header": {
             "fill": {
              "color": "#C8D4E3"
             },
             "line": {
              "color": "white"
             }
            },
            "type": "table"
           }
          ]
         },
         "layout": {
          "annotationdefaults": {
           "arrowcolor": "#2a3f5f",
           "arrowhead": 0,
           "arrowwidth": 1
          },
          "autotypenumbers": "strict",
          "coloraxis": {
           "colorbar": {
            "outlinewidth": 0,
            "ticks": ""
           }
          },
          "colorscale": {
           "diverging": [
            [
             0,
             "#8e0152"
            ],
            [
             0.1,
             "#c51b7d"
            ],
            [
             0.2,
             "#de77ae"
            ],
            [
             0.3,
             "#f1b6da"
            ],
            [
             0.4,
             "#fde0ef"
            ],
            [
             0.5,
             "#f7f7f7"
            ],
            [
             0.6,
             "#e6f5d0"
            ],
            [
             0.7,
             "#b8e186"
            ],
            [
             0.8,
             "#7fbc41"
            ],
            [
             0.9,
             "#4d9221"
            ],
            [
             1,
             "#276419"
            ]
           ],
           "sequential": [
            [
             0,
             "#0d0887"
            ],
            [
             0.1111111111111111,
             "#46039f"
            ],
            [
             0.2222222222222222,
             "#7201a8"
            ],
            [
             0.3333333333333333,
             "#9c179e"
            ],
            [
             0.4444444444444444,
             "#bd3786"
            ],
            [
             0.5555555555555556,
             "#d8576b"
            ],
            [
             0.6666666666666666,
             "#ed7953"
            ],
            [
             0.7777777777777778,
             "#fb9f3a"
            ],
            [
             0.8888888888888888,
             "#fdca26"
            ],
            [
             1,
             "#f0f921"
            ]
           ],
           "sequentialminus": [
            [
             0,
             "#0d0887"
            ],
            [
             0.1111111111111111,
             "#46039f"
            ],
            [
             0.2222222222222222,
             "#7201a8"
            ],
            [
             0.3333333333333333,
             "#9c179e"
            ],
            [
             0.4444444444444444,
             "#bd3786"
            ],
            [
             0.5555555555555556,
             "#d8576b"
            ],
            [
             0.6666666666666666,
             "#ed7953"
            ],
            [
             0.7777777777777778,
             "#fb9f3a"
            ],
            [
             0.8888888888888888,
             "#fdca26"
            ],
            [
             1,
             "#f0f921"
            ]
           ]
          },
          "colorway": [
           "#636efa",
           "#EF553B",
           "#00cc96",
           "#ab63fa",
           "#FFA15A",
           "#19d3f3",
           "#FF6692",
           "#B6E880",
           "#FF97FF",
           "#FECB52"
          ],
          "font": {
           "color": "#2a3f5f"
          },
          "geo": {
           "bgcolor": "white",
           "lakecolor": "white",
           "landcolor": "#E5ECF6",
           "showlakes": true,
           "showland": true,
           "subunitcolor": "white"
          },
          "hoverlabel": {
           "align": "left"
          },
          "hovermode": "closest",
          "mapbox": {
           "style": "light"
          },
          "paper_bgcolor": "white",
          "plot_bgcolor": "#E5ECF6",
          "polar": {
           "angularaxis": {
            "gridcolor": "white",
            "linecolor": "white",
            "ticks": ""
           },
           "bgcolor": "#E5ECF6",
           "radialaxis": {
            "gridcolor": "white",
            "linecolor": "white",
            "ticks": ""
           }
          },
          "scene": {
           "xaxis": {
            "backgroundcolor": "#E5ECF6",
            "gridcolor": "white",
            "gridwidth": 2,
            "linecolor": "white",
            "showbackground": true,
            "ticks": "",
            "zerolinecolor": "white"
           },
           "yaxis": {
            "backgroundcolor": "#E5ECF6",
            "gridcolor": "white",
            "gridwidth": 2,
            "linecolor": "white",
            "showbackground": true,
            "ticks": "",
            "zerolinecolor": "white"
           },
           "zaxis": {
            "backgroundcolor": "#E5ECF6",
            "gridcolor": "white",
            "gridwidth": 2,
            "linecolor": "white",
            "showbackground": true,
            "ticks": "",
            "zerolinecolor": "white"
           }
          },
          "shapedefaults": {
           "line": {
            "color": "#2a3f5f"
           }
          },
          "ternary": {
           "aaxis": {
            "gridcolor": "white",
            "linecolor": "white",
            "ticks": ""
           },
           "baxis": {
            "gridcolor": "white",
            "linecolor": "white",
            "ticks": ""
           },
           "bgcolor": "#E5ECF6",
           "caxis": {
            "gridcolor": "white",
            "linecolor": "white",
            "ticks": ""
           }
          },
          "title": {
           "x": 0.05
          },
          "xaxis": {
           "automargin": true,
           "gridcolor": "white",
           "linecolor": "white",
           "ticks": "",
           "title": {
            "standoff": 15
           },
           "zerolinecolor": "white",
           "zerolinewidth": 2
          },
          "yaxis": {
           "automargin": true,
           "gridcolor": "white",
           "linecolor": "white",
           "ticks": "",
           "title": {
            "standoff": 15
           },
           "zerolinecolor": "white",
           "zerolinewidth": 2
          }
         }
        },
        "title": {
         "text": "Original Data vs PCA Transformed Data"
        },
        "width": 700,
        "xaxis": {
         "anchor": "y",
         "domain": [
          0,
          1
         ],
         "scaleanchor": "y",
         "scaleratio": 1,
         "title": {
          "text": "x - City (Miles per Gallon)"
         }
        },
        "yaxis": {
         "anchor": "x",
         "constrain": "domain",
         "domain": [
          0,
          1
         ],
         "scaleanchor": "x",
         "scaleratio": 1,
         "title": {
          "text": "y - Highway (Miles per Gallon)"
         }
        }
       }
      },
      "text/html": [
       "<div>                            <div id=\"daa516ee-3fbf-4cc1-a930-754581d1776c\" class=\"plotly-graph-div\" style=\"height:525px; width:700px;\"></div>            <script type=\"text/javascript\">                require([\"plotly\"], function(Plotly) {                    window.PLOTLYENV=window.PLOTLYENV || {};                                    if (document.getElementById(\"daa516ee-3fbf-4cc1-a930-754581d1776c\")) {                    Plotly.newPlot(                        \"daa516ee-3fbf-4cc1-a930-754581d1776c\",                        [{\"hovertemplate\":\"city_mpg=%{x}<br>highway_mpg=%{y}<extra></extra>\",\"legendgroup\":\"\",\"marker\":{\"color\":\"#636efa\",\"symbol\":\"circle\",\"opacity\":0.7,\"size\":8},\"mode\":\"markers\",\"name\":\"Original Data\",\"orientation\":\"v\",\"showlegend\":false,\"x\":[21,21,19,24,18,19,19,19,17,16,23,23,21,21,20,16,16,15,47,38,38,37,31,24,31,31,31,24,24,19,49,31,38,30,30,30,30,27,27,27,27,24,25,24,38,38,24,15,15,13,30,31,31,31,31,17,17,17,16,26,26,26,26,36,26,19,31,22,22,22,22,16,16,14,14,19,37,31,31,24,23,25,19,19,19,25,25,23,23,31,45,31,31,31,31,31,31,31,31,27,27,17,17,19,19,17,19,19,28,19,25,19,28,19,25,19,28,18,37,24,31,31,31,24,19,19,17,17,17,17,23,23,21,21,21,21,19,19,31,26,26,32,28,26,24,24,28,25,23,23,35,31,31,31,27,27,30,30,34,38,38,28,28,29,29,26,26,24,24,24,24,24,24,29,30,27,27,27,20,19,20,19,37,27,37,27,27,37,26,24,24,19,33,25,23,23,24,24,17,17,23,19,18,26,19],\"xaxis\":\"x\",\"y\":[27,27,26,30,22,25,25,25,20,22,29,29,28,28,25,22,22,20,53,43,43,41,38,30,38,38,38,30,30,24,54,38,42,34,34,34,34,33,33,33,33,28,31,29,43,43,29,19,19,17,31,38,38,38,38,23,23,23,23,32,32,32,32,42,32,27,39,25,25,25,25,18,18,16,16,24,41,38,38,30,30,32,24,24,24,32,32,30,30,37,50,37,37,37,37,37,37,37,37,34,34,22,22,25,25,23,25,24,33,24,25,24,33,24,25,24,33,24,41,30,38,38,38,30,24,27,25,25,25,28,31,31,28,28,28,28,26,26,36,31,31,37,33,32,25,29,32,31,29,23,39,38,38,37,32,32,37,37,36,47,47,34,34,34,34,29,29,30,30,30,30,30,30,34,33,32,32,32,24,24,24,24,46,34,46,34,34,42,32,29,29,24,38,31,28,28,28,28,22,22,28,25,23,27,25],\"yaxis\":\"y\",\"type\":\"scatter\"},{\"marker\":{\"color\":\"darkorange\",\"size\":7},\"mode\":\"markers\",\"name\":\"Transformed Data\",\"opacity\":0.8,\"x\":[21.348054449723005,21.348054449723005,19.901503900048365,24.266835958064842,17.430665362941326,19.402200110828446,19.402200110828446,19.402200110828446,15.958434404274128,16.48341860248661,23.29390878861756,23.29390878861756,21.847358238942924,21.847358238942924,19.875823491055804,16.48341860248661,16.48341860248661,15.011187643819408,46.64416085535227,37.388512541106834,37.388512541106834,35.91628158243964,31.576629933415717,24.266835958064842,31.576629933415717,31.576629933415717,31.576629933415717,24.266835958064842,24.266835958064842,18.902896321608523,48.0907114050269,31.576629933415717,36.88920875188691,29.10579139630868,29.10579139630868,29.10579139630868,29.10579139630868,27.18561746640668,27.18561746640668,27.18561746640668,27.18561746640668,23.268228379625004,25.23976312751212,23.767532168844923,37.388512541106834,37.388512541106834,23.767532168844923,14.51188385459949,14.51188385459949,12.56602951570493,27.60788002864892,31.576629933415717,31.576629933415717,31.576629933415717,31.576629933415717,17.456345771933886,17.456345771933886,17.456345771933886,16.982722391706528,26.2126902969594,26.2126902969594,26.2126902969594,26.2126902969594,35.941961991432194,26.2126902969594,20.400807689268284,32.07593372263564,20.823070251510526,20.823070251510526,20.823070251510526,20.823070251510526,14.486203445606929,14.486203445606929,12.540349106712371,12.540349106712371,18.902896321608523,35.91628158243964,31.576629933415717,31.576629933415717,24.266835958064842,23.79321257783748,25.73906691673204,18.902896321608523,18.902896321608523,18.902896321608523,25.73906691673204,25.73906691673204,23.79321257783748,23.79321257783748,31.077326144195794,44.19900272723778,31.077326144195794,31.077326144195794,31.077326144195794,31.077326144195794,31.077326144195794,31.077326144195794,31.077326144195794,31.077326144195794,27.6849212556266,27.6849212556266,16.957041982713967,16.957041982713967,19.402200110828446,19.402200110828446,17.456345771933886,19.402200110828446,18.902896321608523,27.659240846634038,18.902896321608523,22.243940392192606,18.902896321608523,27.659240846634038,18.902896321608523,22.243940392192606,18.902896321608523,27.659240846634038,18.429272941381164,35.91628158243964,24.266835958064842,31.576629933415717,31.576629933415717,31.576629933415717,24.266835958064842,18.902896321608523,20.400807689268284,18.454953350373724,18.454953350373724,18.454953350373724,19.95286471803348,24.292516367057402,24.292516367057402,21.847358238942924,21.847358238942924,21.847358238942924,21.847358238942924,19.901503900048365,19.901503900048365,30.57802235497588,25.71338650773948,25.71338650773948,31.550949524423157,27.659240846634038,26.2126902969594,21.770317011965243,23.767532168844923,27.15993705741412,25.23976312751212,23.29390878861756,20.298086053298046,33.970427243545075,31.576629933415717,31.576629933415717,31.077326144195794,26.68631367718676,26.68631367718676,30.603702763968435,30.603702763968435,31.998892495657955,39.38572769798651,39.38572769798651,28.158544635853957,28.158544635853957,28.63216801608132,28.63216801608132,24.71477892929964,24.71477892929964,24.266835958064842,24.266835958064842,24.266835958064842,24.266835958064842,24.266835958064842,24.266835958064842,28.63216801608132,28.60648760708876,26.68631367718676,26.68631367718676,26.68631367718676,19.376519701835885,18.902896321608523,19.376519701835885,18.902896321608523,38.41280052853923,27.6849212556266,38.41280052853923,27.6849212556266,27.6849212556266,36.41558537165955,26.2126902969594,23.767532168844923,23.767532168844923,18.902896321608523,32.523876693870434,25.23976312751212,22.79460499939764,22.79460499939764,23.268228379625004,23.268228379625004,16.957041982713967,16.957041982713967,22.79460499939764,19.402200110828446,17.929969152161245,23.716171350859803,19.402200110828446],\"y\":[26.669846837656632,26.669846837656632,25.144862639444153,29.74688806463431,22.54005237113367,24.61848601967151,24.61848601967151,24.61848601967151,20.98799534236847,21.54144479269383,28.72120765564175,28.72120765564175,27.19622345742927,27.19622345742927,25.11778980889143,21.54144479269383,21.54144479269383,19.989387763928633,53.33753747146318,43.58003717075751,43.58003717075751,42.0279801419923,37.45302754735487,29.74688806463431,37.45302754735487,37.45302754735487,37.45302754735487,29.74688806463431,29.74688806463431,24.09210939989887,54.86252166967566,37.45302754735487,43.053660550984866,34.84821727904439,34.84821727904439,34.84821727904439,34.84821727904439,32.82392929161199,32.82392929161199,32.82392929161199,32.82392929161199,28.69413482508903,30.77256847362687,29.22051144486167,43.58003717075751,43.58003717075751,29.22051144486167,19.463011144155992,19.463011144155992,17.41165032617087,33.26908741972647,37.45302754735487,37.45302754735487,37.45302754735487,37.45302754735487,22.56712520168639,22.56712520168639,22.56712520168639,22.067821412466472,31.79824888261943,31.79824888261943,31.79824888261943,31.79824888261943,42.05505297254503,31.79824888261943,25.67123925921679,37.97940416712751,26.11639738733127,26.11639738733127,26.11639738733127,26.11639738733127,19.435938313603273,19.435938313603273,17.384577495618153,17.384577495618153,24.09210939989887,42.0279801419923,37.45302754735487,37.45302754735487,29.74688806463431,29.24758427541439,31.29894509339951,24.09210939989887,24.09210939989887,24.09210939989887,31.29894509339951,31.29894509339951,29.24758427541439,29.24758427541439,36.92665092758223,50.759800033705424,36.92665092758223,36.92665092758223,36.92665092758223,36.92665092758223,36.92665092758223,36.92665092758223,36.92665092758223,36.92665092758223,33.35030591138463,33.35030591138463,22.040748581913753,22.040748581913753,24.61848601967151,24.61848601967151,22.56712520168639,24.61848601967151,24.09210939989887,33.32323308083191,24.09210939989887,27.61430875499103,24.09210939989887,33.32323308083191,24.09210939989887,27.61430875499103,24.09210939989887,33.32323308083191,23.59280561067895,42.0279801419923,29.74688806463431,37.45302754735487,37.45302754735487,37.45302754735487,29.74688806463431,24.09210939989887,25.67123925921679,23.619878441231673,23.619878441231673,23.619878441231673,25.199008300549593,29.77396089518703,29.77396089518703,27.19622345742927,27.19622345742927,27.19622345742927,27.19622345742927,25.144862639444153,25.144862639444153,36.40027430780959,31.271872262846788,31.271872262846788,37.425954716802146,33.32323308083191,31.79824888261943,27.115004965771107,29.22051144486167,32.79685646105927,30.77256847362687,28.72120765564175,25.56294793700591,39.97661932400719,37.45302754735487,37.45302754735487,36.92665092758223,32.29755267183935,32.29755267183935,36.42734713836231,36.42734713836231,37.89818567546935,45.68554364984807,45.68554364984807,33.849609700604546,33.849609700604546,34.34891348982447,34.34891348982447,30.21911902330151,30.21911902330151,29.74688806463431,29.74688806463431,29.74688806463431,29.74688806463431,29.74688806463431,29.74688806463431,34.34891348982447,34.32184065927175,32.29755267183935,32.29755267183935,32.29755267183935,24.59141318911879,24.09210939989887,24.59141318911879,24.09210939989887,44.65986324085551,33.35030591138463,44.65986324085551,33.35030591138463,33.35030591138463,42.55435676176495,31.79824888261943,29.22051144486167,29.22051144486167,24.09210939989887,38.45163512579471,30.77256847362687,28.19483103586911,28.19483103586911,28.69413482508903,28.69413482508903,22.040748581913753,22.040748581913753,28.19483103586911,24.61848601967151,23.06642899090631,29.166365783756227,24.61848601967151],\"type\":\"scatter\"}],                        {\"template\":{\"data\":{\"histogram2dcontour\":[{\"type\":\"histogram2dcontour\",\"colorbar\":{\"outlinewidth\":0,\"ticks\":\"\"},\"colorscale\":[[0.0,\"#0d0887\"],[0.1111111111111111,\"#46039f\"],[0.2222222222222222,\"#7201a8\"],[0.3333333333333333,\"#9c179e\"],[0.4444444444444444,\"#bd3786\"],[0.5555555555555556,\"#d8576b\"],[0.6666666666666666,\"#ed7953\"],[0.7777777777777778,\"#fb9f3a\"],[0.8888888888888888,\"#fdca26\"],[1.0,\"#f0f921\"]]}],\"choropleth\":[{\"type\":\"choropleth\",\"colorbar\":{\"outlinewidth\":0,\"ticks\":\"\"}}],\"histogram2d\":[{\"type\":\"histogram2d\",\"colorbar\":{\"outlinewidth\":0,\"ticks\":\"\"},\"colorscale\":[[0.0,\"#0d0887\"],[0.1111111111111111,\"#46039f\"],[0.2222222222222222,\"#7201a8\"],[0.3333333333333333,\"#9c179e\"],[0.4444444444444444,\"#bd3786\"],[0.5555555555555556,\"#d8576b\"],[0.6666666666666666,\"#ed7953\"],[0.7777777777777778,\"#fb9f3a\"],[0.8888888888888888,\"#fdca26\"],[1.0,\"#f0f921\"]]}],\"heatmap\":[{\"type\":\"heatmap\",\"colorbar\":{\"outlinewidth\":0,\"ticks\":\"\"},\"colorscale\":[[0.0,\"#0d0887\"],[0.1111111111111111,\"#46039f\"],[0.2222222222222222,\"#7201a8\"],[0.3333333333333333,\"#9c179e\"],[0.4444444444444444,\"#bd3786\"],[0.5555555555555556,\"#d8576b\"],[0.6666666666666666,\"#ed7953\"],[0.7777777777777778,\"#fb9f3a\"],[0.8888888888888888,\"#fdca26\"],[1.0,\"#f0f921\"]]}],\"heatmapgl\":[{\"type\":\"heatmapgl\",\"colorbar\":{\"outlinewidth\":0,\"ticks\":\"\"},\"colorscale\":[[0.0,\"#0d0887\"],[0.1111111111111111,\"#46039f\"],[0.2222222222222222,\"#7201a8\"],[0.3333333333333333,\"#9c179e\"],[0.4444444444444444,\"#bd3786\"],[0.5555555555555556,\"#d8576b\"],[0.6666666666666666,\"#ed7953\"],[0.7777777777777778,\"#fb9f3a\"],[0.8888888888888888,\"#fdca26\"],[1.0,\"#f0f921\"]]}],\"contourcarpet\":[{\"type\":\"contourcarpet\",\"colorbar\":{\"outlinewidth\":0,\"ticks\":\"\"}}],\"contour\":[{\"type\":\"contour\",\"colorbar\":{\"outlinewidth\":0,\"ticks\":\"\"},\"colorscale\":[[0.0,\"#0d0887\"],[0.1111111111111111,\"#46039f\"],[0.2222222222222222,\"#7201a8\"],[0.3333333333333333,\"#9c179e\"],[0.4444444444444444,\"#bd3786\"],[0.5555555555555556,\"#d8576b\"],[0.6666666666666666,\"#ed7953\"],[0.7777777777777778,\"#fb9f3a\"],[0.8888888888888888,\"#fdca26\"],[1.0,\"#f0f921\"]]}],\"surface\":[{\"type\":\"surface\",\"colorbar\":{\"outlinewidth\":0,\"ticks\":\"\"},\"colorscale\":[[0.0,\"#0d0887\"],[0.1111111111111111,\"#46039f\"],[0.2222222222222222,\"#7201a8\"],[0.3333333333333333,\"#9c179e\"],[0.4444444444444444,\"#bd3786\"],[0.5555555555555556,\"#d8576b\"],[0.6666666666666666,\"#ed7953\"],[0.7777777777777778,\"#fb9f3a\"],[0.8888888888888888,\"#fdca26\"],[1.0,\"#f0f921\"]]}],\"mesh3d\":[{\"type\":\"mesh3d\",\"colorbar\":{\"outlinewidth\":0,\"ticks\":\"\"}}],\"scatter\":[{\"fillpattern\":{\"fillmode\":\"overlay\",\"size\":10,\"solidity\":0.2},\"type\":\"scatter\"}],\"parcoords\":[{\"type\":\"parcoords\",\"line\":{\"colorbar\":{\"outlinewidth\":0,\"ticks\":\"\"}}}],\"scatterpolargl\":[{\"type\":\"scatterpolargl\",\"marker\":{\"colorbar\":{\"outlinewidth\":0,\"ticks\":\"\"}}}],\"bar\":[{\"error_x\":{\"color\":\"#2a3f5f\"},\"error_y\":{\"color\":\"#2a3f5f\"},\"marker\":{\"line\":{\"color\":\"#E5ECF6\",\"width\":0.5},\"pattern\":{\"fillmode\":\"overlay\",\"size\":10,\"solidity\":0.2}},\"type\":\"bar\"}],\"scattergeo\":[{\"type\":\"scattergeo\",\"marker\":{\"colorbar\":{\"outlinewidth\":0,\"ticks\":\"\"}}}],\"scatterpolar\":[{\"type\":\"scatterpolar\",\"marker\":{\"colorbar\":{\"outlinewidth\":0,\"ticks\":\"\"}}}],\"histogram\":[{\"marker\":{\"pattern\":{\"fillmode\":\"overlay\",\"size\":10,\"solidity\":0.2}},\"type\":\"histogram\"}],\"scattergl\":[{\"type\":\"scattergl\",\"marker\":{\"colorbar\":{\"outlinewidth\":0,\"ticks\":\"\"}}}],\"scatter3d\":[{\"type\":\"scatter3d\",\"line\":{\"colorbar\":{\"outlinewidth\":0,\"ticks\":\"\"}},\"marker\":{\"colorbar\":{\"outlinewidth\":0,\"ticks\":\"\"}}}],\"scattermapbox\":[{\"type\":\"scattermapbox\",\"marker\":{\"colorbar\":{\"outlinewidth\":0,\"ticks\":\"\"}}}],\"scatterternary\":[{\"type\":\"scatterternary\",\"marker\":{\"colorbar\":{\"outlinewidth\":0,\"ticks\":\"\"}}}],\"scattercarpet\":[{\"type\":\"scattercarpet\",\"marker\":{\"colorbar\":{\"outlinewidth\":0,\"ticks\":\"\"}}}],\"carpet\":[{\"aaxis\":{\"endlinecolor\":\"#2a3f5f\",\"gridcolor\":\"white\",\"linecolor\":\"white\",\"minorgridcolor\":\"white\",\"startlinecolor\":\"#2a3f5f\"},\"baxis\":{\"endlinecolor\":\"#2a3f5f\",\"gridcolor\":\"white\",\"linecolor\":\"white\",\"minorgridcolor\":\"white\",\"startlinecolor\":\"#2a3f5f\"},\"type\":\"carpet\"}],\"table\":[{\"cells\":{\"fill\":{\"color\":\"#EBF0F8\"},\"line\":{\"color\":\"white\"}},\"header\":{\"fill\":{\"color\":\"#C8D4E3\"},\"line\":{\"color\":\"white\"}},\"type\":\"table\"}],\"barpolar\":[{\"marker\":{\"line\":{\"color\":\"#E5ECF6\",\"width\":0.5},\"pattern\":{\"fillmode\":\"overlay\",\"size\":10,\"solidity\":0.2}},\"type\":\"barpolar\"}],\"pie\":[{\"automargin\":true,\"type\":\"pie\"}]},\"layout\":{\"autotypenumbers\":\"strict\",\"colorway\":[\"#636efa\",\"#EF553B\",\"#00cc96\",\"#ab63fa\",\"#FFA15A\",\"#19d3f3\",\"#FF6692\",\"#B6E880\",\"#FF97FF\",\"#FECB52\"],\"font\":{\"color\":\"#2a3f5f\"},\"hovermode\":\"closest\",\"hoverlabel\":{\"align\":\"left\"},\"paper_bgcolor\":\"white\",\"plot_bgcolor\":\"#E5ECF6\",\"polar\":{\"bgcolor\":\"#E5ECF6\",\"angularaxis\":{\"gridcolor\":\"white\",\"linecolor\":\"white\",\"ticks\":\"\"},\"radialaxis\":{\"gridcolor\":\"white\",\"linecolor\":\"white\",\"ticks\":\"\"}},\"ternary\":{\"bgcolor\":\"#E5ECF6\",\"aaxis\":{\"gridcolor\":\"white\",\"linecolor\":\"white\",\"ticks\":\"\"},\"baxis\":{\"gridcolor\":\"white\",\"linecolor\":\"white\",\"ticks\":\"\"},\"caxis\":{\"gridcolor\":\"white\",\"linecolor\":\"white\",\"ticks\":\"\"}},\"coloraxis\":{\"colorbar\":{\"outlinewidth\":0,\"ticks\":\"\"}},\"colorscale\":{\"sequential\":[[0.0,\"#0d0887\"],[0.1111111111111111,\"#46039f\"],[0.2222222222222222,\"#7201a8\"],[0.3333333333333333,\"#9c179e\"],[0.4444444444444444,\"#bd3786\"],[0.5555555555555556,\"#d8576b\"],[0.6666666666666666,\"#ed7953\"],[0.7777777777777778,\"#fb9f3a\"],[0.8888888888888888,\"#fdca26\"],[1.0,\"#f0f921\"]],\"sequentialminus\":[[0.0,\"#0d0887\"],[0.1111111111111111,\"#46039f\"],[0.2222222222222222,\"#7201a8\"],[0.3333333333333333,\"#9c179e\"],[0.4444444444444444,\"#bd3786\"],[0.5555555555555556,\"#d8576b\"],[0.6666666666666666,\"#ed7953\"],[0.7777777777777778,\"#fb9f3a\"],[0.8888888888888888,\"#fdca26\"],[1.0,\"#f0f921\"]],\"diverging\":[[0,\"#8e0152\"],[0.1,\"#c51b7d\"],[0.2,\"#de77ae\"],[0.3,\"#f1b6da\"],[0.4,\"#fde0ef\"],[0.5,\"#f7f7f7\"],[0.6,\"#e6f5d0\"],[0.7,\"#b8e186\"],[0.8,\"#7fbc41\"],[0.9,\"#4d9221\"],[1,\"#276419\"]]},\"xaxis\":{\"gridcolor\":\"white\",\"linecolor\":\"white\",\"ticks\":\"\",\"title\":{\"standoff\":15},\"zerolinecolor\":\"white\",\"automargin\":true,\"zerolinewidth\":2},\"yaxis\":{\"gridcolor\":\"white\",\"linecolor\":\"white\",\"ticks\":\"\",\"title\":{\"standoff\":15},\"zerolinecolor\":\"white\",\"automargin\":true,\"zerolinewidth\":2},\"scene\":{\"xaxis\":{\"backgroundcolor\":\"#E5ECF6\",\"gridcolor\":\"white\",\"linecolor\":\"white\",\"showbackground\":true,\"ticks\":\"\",\"zerolinecolor\":\"white\",\"gridwidth\":2},\"yaxis\":{\"backgroundcolor\":\"#E5ECF6\",\"gridcolor\":\"white\",\"linecolor\":\"white\",\"showbackground\":true,\"ticks\":\"\",\"zerolinecolor\":\"white\",\"gridwidth\":2},\"zaxis\":{\"backgroundcolor\":\"#E5ECF6\",\"gridcolor\":\"white\",\"linecolor\":\"white\",\"showbackground\":true,\"ticks\":\"\",\"zerolinecolor\":\"white\",\"gridwidth\":2}},\"shapedefaults\":{\"line\":{\"color\":\"#2a3f5f\"}},\"annotationdefaults\":{\"arrowcolor\":\"#2a3f5f\",\"arrowhead\":0,\"arrowwidth\":1},\"geo\":{\"bgcolor\":\"white\",\"landcolor\":\"#E5ECF6\",\"subunitcolor\":\"white\",\"showland\":true,\"showlakes\":true,\"lakecolor\":\"white\"},\"title\":{\"x\":0.05},\"mapbox\":{\"style\":\"light\"}}},\"xaxis\":{\"anchor\":\"y\",\"domain\":[0.0,1.0],\"title\":{\"text\":\"x - City (Miles per Gallon)\"},\"scaleanchor\":\"y\",\"scaleratio\":1},\"yaxis\":{\"anchor\":\"x\",\"domain\":[0.0,1.0],\"title\":{\"text\":\"y - Highway (Miles per Gallon)\"},\"constrain\":\"domain\",\"scaleanchor\":\"x\",\"scaleratio\":1},\"legend\":{\"tracegroupgap\":0},\"margin\":{\"t\":60},\"width\":700,\"title\":{\"text\":\"Original Data vs PCA Transformed Data\"}},                        {\"responsive\": true}                    ).then(function(){\n",
       "                            \n",
       "var gd = document.getElementById('daa516ee-3fbf-4cc1-a930-754581d1776c');\n",
       "var x = new MutationObserver(function (mutations, observer) {{\n",
       "        var display = window.getComputedStyle(gd).display;\n",
       "        if (!display || display === 'none') {{\n",
       "            console.log([gd, 'removed!']);\n",
       "            Plotly.purge(gd);\n",
       "            observer.disconnect();\n",
       "        }}\n",
       "}});\n",
       "\n",
       "// Listen for the removal of the full notebook cells\n",
       "var notebookContainer = gd.closest('#notebook-container');\n",
       "if (notebookContainer) {{\n",
       "    x.observe(notebookContainer, {childList: true});\n",
       "}}\n",
       "\n",
       "// Listen for the clearing of the current output cell\n",
       "var outputEl = gd.closest('.output');\n",
       "if (outputEl) {{\n",
       "    x.observe(outputEl, {childList: true});\n",
       "}}\n",
       "\n",
       "                        })                };                });            </script>        </div>"
      ]
     },
     "metadata": {},
     "output_type": "display_data"
    }
   ],
   "source": [
    "# Plotting the original data\n",
    "fig = px.scatter(data, x='city_mpg', y='highway_mpg', width=700)\n",
    "\n",
    "# Manually update the legend for the original data\n",
    "fig.data[0].name = 'Original Data'\n",
    "\n",
    "# Here we update the traces to increase the marker size\n",
    "fig.update_traces(marker=dict(size=8, opacity=0.7), selector=dict(mode='markers'))\n",
    "\n",
    "# Plotting the transformed data\n",
    "fig.add_scatter(x=data_pca.city_mpg, y=data_pca.highway_mpg, opacity=0.8, \n",
    "                mode='markers', marker=dict(color='darkorange', size = 7), \n",
    "                name='Transformed Data')\n",
    "\n",
    "# Update the axes to be equal\n",
    "fig.update_xaxes(scaleanchor=\"y\", scaleratio=1)\n",
    "fig.update_yaxes(constrain='domain') # This makes the y-axis range equal to the x-axis range\n",
    "\n",
    "fig.update_layout(title=\"Original Data vs PCA Transformed Data\",\n",
    "    xaxis=dict(title='x - City (Miles per Gallon)', scaleanchor=\"y\", scaleratio=1),\n",
    "    yaxis=dict(title='y - Highway (Miles per Gallon)', scaleanchor=\"x\", scaleratio=1))\n",
    "\n",
    "# Show the figure\n",
    "fig.show()"
   ]
  },
  {
   "cell_type": "markdown",
   "metadata": {},
   "source": [
    "The blue points are the original data, while the orange points are the projected version.\n",
    "\n",
    "The graph explains the PCA dimensionality reduction: the information along the least important principal axis is removed, leaving only the component(s) of the data with the highest variance.\n",
    "\n",
    "The fraction of variance that is cut out (proportional to the spread of points about the line formed in this figure) is roughly a measure of how much \"information\" is discarded in this dimensionality reduction.\n",
    "\n",
    "This reduced-dimension dataset is \"good enough\" to encode the most important relationships between the points. Despite reducing the data dimension by 50%, the overall relationship between the data points is mostly preserved."
   ]
  },
  {
   "cell_type": "markdown",
   "metadata": {},
   "source": [
    "### Analysis with more features"
   ]
  },
  {
   "cell_type": "code",
   "execution_count": 19,
   "metadata": {},
   "outputs": [
    {
     "name": "stdout",
     "output_type": "stream",
     "text": [
      "(205, 8)\n"
     ]
    },
    {
     "data": {
      "text/html": [
       "<div>\n",
       "<style scoped>\n",
       "    .dataframe tbody tr th:only-of-type {\n",
       "        vertical-align: middle;\n",
       "    }\n",
       "\n",
       "    .dataframe tbody tr th {\n",
       "        vertical-align: top;\n",
       "    }\n",
       "\n",
       "    .dataframe thead th {\n",
       "        text-align: right;\n",
       "    }\n",
       "</style>\n",
       "<table border=\"1\" class=\"dataframe\">\n",
       "  <thead>\n",
       "    <tr style=\"text-align: right;\">\n",
       "      <th></th>\n",
       "      <th>wheel_base</th>\n",
       "      <th>curb_weight</th>\n",
       "      <th>horsepower</th>\n",
       "      <th>length</th>\n",
       "      <th>width</th>\n",
       "      <th>height</th>\n",
       "      <th>city_mpg</th>\n",
       "      <th>highway_mpg</th>\n",
       "    </tr>\n",
       "  </thead>\n",
       "  <tbody>\n",
       "    <tr>\n",
       "      <th>0</th>\n",
       "      <td>88.6</td>\n",
       "      <td>2548</td>\n",
       "      <td>111.0</td>\n",
       "      <td>168.8</td>\n",
       "      <td>64.1</td>\n",
       "      <td>48.8</td>\n",
       "      <td>21</td>\n",
       "      <td>27</td>\n",
       "    </tr>\n",
       "    <tr>\n",
       "      <th>1</th>\n",
       "      <td>88.6</td>\n",
       "      <td>2548</td>\n",
       "      <td>111.0</td>\n",
       "      <td>168.8</td>\n",
       "      <td>64.1</td>\n",
       "      <td>48.8</td>\n",
       "      <td>21</td>\n",
       "      <td>27</td>\n",
       "    </tr>\n",
       "    <tr>\n",
       "      <th>2</th>\n",
       "      <td>94.5</td>\n",
       "      <td>2823</td>\n",
       "      <td>154.0</td>\n",
       "      <td>171.2</td>\n",
       "      <td>65.5</td>\n",
       "      <td>52.4</td>\n",
       "      <td>19</td>\n",
       "      <td>26</td>\n",
       "    </tr>\n",
       "    <tr>\n",
       "      <th>3</th>\n",
       "      <td>99.8</td>\n",
       "      <td>2337</td>\n",
       "      <td>102.0</td>\n",
       "      <td>176.6</td>\n",
       "      <td>66.2</td>\n",
       "      <td>54.3</td>\n",
       "      <td>24</td>\n",
       "      <td>30</td>\n",
       "    </tr>\n",
       "    <tr>\n",
       "      <th>4</th>\n",
       "      <td>99.4</td>\n",
       "      <td>2824</td>\n",
       "      <td>115.0</td>\n",
       "      <td>176.6</td>\n",
       "      <td>66.4</td>\n",
       "      <td>54.3</td>\n",
       "      <td>18</td>\n",
       "      <td>22</td>\n",
       "    </tr>\n",
       "  </tbody>\n",
       "</table>\n",
       "</div>"
      ],
      "text/plain": [
       "   wheel_base  curb_weight  horsepower  length  width  height  city_mpg  \\\n",
       "0        88.6         2548       111.0   168.8   64.1    48.8        21   \n",
       "1        88.6         2548       111.0   168.8   64.1    48.8        21   \n",
       "2        94.5         2823       154.0   171.2   65.5    52.4        19   \n",
       "3        99.8         2337       102.0   176.6   66.2    54.3        24   \n",
       "4        99.4         2824       115.0   176.6   66.4    54.3        18   \n",
       "\n",
       "   highway_mpg  \n",
       "0           27  \n",
       "1           27  \n",
       "2           26  \n",
       "3           30  \n",
       "4           22  "
      ]
     },
     "execution_count": 19,
     "metadata": {},
     "output_type": "execute_result"
    }
   ],
   "source": [
    "more_data = df[['wheel_base', 'curb_weight', 'horsepower', 'length', 'width', 'height', 'city_mpg', 'highway_mpg']]\n",
    "print(more_data.shape)\n",
    "more_data.head()"
   ]
  },
  {
   "cell_type": "code",
   "execution_count": 20,
   "metadata": {},
   "outputs": [
    {
     "data": {
      "text/plain": [
       "wheel_base     0\n",
       "curb_weight    0\n",
       "horsepower     2\n",
       "length         0\n",
       "width          0\n",
       "height         0\n",
       "city_mpg       0\n",
       "highway_mpg    0\n",
       "dtype: int64"
      ]
     },
     "execution_count": 20,
     "metadata": {},
     "output_type": "execute_result"
    }
   ],
   "source": [
    "# Asking for missing values\n",
    "more_data.isnull().sum()"
   ]
  },
  {
   "cell_type": "code",
   "execution_count": 21,
   "metadata": {},
   "outputs": [
    {
     "name": "stdout",
     "output_type": "stream",
     "text": [
      "(203, 8)\n"
     ]
    },
    {
     "data": {
      "text/html": [
       "<div>\n",
       "<style scoped>\n",
       "    .dataframe tbody tr th:only-of-type {\n",
       "        vertical-align: middle;\n",
       "    }\n",
       "\n",
       "    .dataframe tbody tr th {\n",
       "        vertical-align: top;\n",
       "    }\n",
       "\n",
       "    .dataframe thead th {\n",
       "        text-align: right;\n",
       "    }\n",
       "</style>\n",
       "<table border=\"1\" class=\"dataframe\">\n",
       "  <thead>\n",
       "    <tr style=\"text-align: right;\">\n",
       "      <th></th>\n",
       "      <th>wheel_base</th>\n",
       "      <th>curb_weight</th>\n",
       "      <th>horsepower</th>\n",
       "      <th>length</th>\n",
       "      <th>width</th>\n",
       "      <th>height</th>\n",
       "      <th>city_mpg</th>\n",
       "      <th>highway_mpg</th>\n",
       "    </tr>\n",
       "  </thead>\n",
       "  <tbody>\n",
       "    <tr>\n",
       "      <th>0</th>\n",
       "      <td>88.6</td>\n",
       "      <td>2548</td>\n",
       "      <td>111.0</td>\n",
       "      <td>168.8</td>\n",
       "      <td>64.1</td>\n",
       "      <td>48.8</td>\n",
       "      <td>21</td>\n",
       "      <td>27</td>\n",
       "    </tr>\n",
       "    <tr>\n",
       "      <th>1</th>\n",
       "      <td>88.6</td>\n",
       "      <td>2548</td>\n",
       "      <td>111.0</td>\n",
       "      <td>168.8</td>\n",
       "      <td>64.1</td>\n",
       "      <td>48.8</td>\n",
       "      <td>21</td>\n",
       "      <td>27</td>\n",
       "    </tr>\n",
       "    <tr>\n",
       "      <th>2</th>\n",
       "      <td>94.5</td>\n",
       "      <td>2823</td>\n",
       "      <td>154.0</td>\n",
       "      <td>171.2</td>\n",
       "      <td>65.5</td>\n",
       "      <td>52.4</td>\n",
       "      <td>19</td>\n",
       "      <td>26</td>\n",
       "    </tr>\n",
       "    <tr>\n",
       "      <th>3</th>\n",
       "      <td>99.8</td>\n",
       "      <td>2337</td>\n",
       "      <td>102.0</td>\n",
       "      <td>176.6</td>\n",
       "      <td>66.2</td>\n",
       "      <td>54.3</td>\n",
       "      <td>24</td>\n",
       "      <td>30</td>\n",
       "    </tr>\n",
       "    <tr>\n",
       "      <th>4</th>\n",
       "      <td>99.4</td>\n",
       "      <td>2824</td>\n",
       "      <td>115.0</td>\n",
       "      <td>176.6</td>\n",
       "      <td>66.4</td>\n",
       "      <td>54.3</td>\n",
       "      <td>18</td>\n",
       "      <td>22</td>\n",
       "    </tr>\n",
       "  </tbody>\n",
       "</table>\n",
       "</div>"
      ],
      "text/plain": [
       "   wheel_base  curb_weight  horsepower  length  width  height  city_mpg  \\\n",
       "0        88.6         2548       111.0   168.8   64.1    48.8        21   \n",
       "1        88.6         2548       111.0   168.8   64.1    48.8        21   \n",
       "2        94.5         2823       154.0   171.2   65.5    52.4        19   \n",
       "3        99.8         2337       102.0   176.6   66.2    54.3        24   \n",
       "4        99.4         2824       115.0   176.6   66.4    54.3        18   \n",
       "\n",
       "   highway_mpg  \n",
       "0           27  \n",
       "1           27  \n",
       "2           26  \n",
       "3           30  \n",
       "4           22  "
      ]
     },
     "execution_count": 21,
     "metadata": {},
     "output_type": "execute_result"
    }
   ],
   "source": [
    "# Removing the missing values\n",
    "more_data = more_data.dropna()\n",
    "print(more_data.shape)\n",
    "more_data.head()"
   ]
  },
  {
   "cell_type": "code",
   "execution_count": 22,
   "metadata": {},
   "outputs": [
    {
     "data": {
      "application/vnd.plotly.v1+json": {
       "config": {
        "plotlyServerURL": "https://plot.ly"
       },
       "data": [
        {
         "alignmentgroup": "True",
         "hovertemplate": "variable=%{x}<br>value=%{y}<extra></extra>",
         "legendgroup": "",
         "marker": {
          "color": "#636efa"
         },
         "name": "",
         "notched": false,
         "offsetgroup": "",
         "orientation": "v",
         "showlegend": false,
         "type": "box",
         "x": [
          "wheel_base",
          "wheel_base",
          "wheel_base",
          "wheel_base",
          "wheel_base",
          "wheel_base",
          "wheel_base",
          "wheel_base",
          "wheel_base",
          "wheel_base",
          "wheel_base",
          "wheel_base",
          "wheel_base",
          "wheel_base",
          "wheel_base",
          "wheel_base",
          "wheel_base",
          "wheel_base",
          "wheel_base",
          "wheel_base",
          "wheel_base",
          "wheel_base",
          "wheel_base",
          "wheel_base",
          "wheel_base",
          "wheel_base",
          "wheel_base",
          "wheel_base",
          "wheel_base",
          "wheel_base",
          "wheel_base",
          "wheel_base",
          "wheel_base",
          "wheel_base",
          "wheel_base",
          "wheel_base",
          "wheel_base",
          "wheel_base",
          "wheel_base",
          "wheel_base",
          "wheel_base",
          "wheel_base",
          "wheel_base",
          "wheel_base",
          "wheel_base",
          "wheel_base",
          "wheel_base",
          "wheel_base",
          "wheel_base",
          "wheel_base",
          "wheel_base",
          "wheel_base",
          "wheel_base",
          "wheel_base",
          "wheel_base",
          "wheel_base",
          "wheel_base",
          "wheel_base",
          "wheel_base",
          "wheel_base",
          "wheel_base",
          "wheel_base",
          "wheel_base",
          "wheel_base",
          "wheel_base",
          "wheel_base",
          "wheel_base",
          "wheel_base",
          "wheel_base",
          "wheel_base",
          "wheel_base",
          "wheel_base",
          "wheel_base",
          "wheel_base",
          "wheel_base",
          "wheel_base",
          "wheel_base",
          "wheel_base",
          "wheel_base",
          "wheel_base",
          "wheel_base",
          "wheel_base",
          "wheel_base",
          "wheel_base",
          "wheel_base",
          "wheel_base",
          "wheel_base",
          "wheel_base",
          "wheel_base",
          "wheel_base",
          "wheel_base",
          "wheel_base",
          "wheel_base",
          "wheel_base",
          "wheel_base",
          "wheel_base",
          "wheel_base",
          "wheel_base",
          "wheel_base",
          "wheel_base",
          "wheel_base",
          "wheel_base",
          "wheel_base",
          "wheel_base",
          "wheel_base",
          "wheel_base",
          "wheel_base",
          "wheel_base",
          "wheel_base",
          "wheel_base",
          "wheel_base",
          "wheel_base",
          "wheel_base",
          "wheel_base",
          "wheel_base",
          "wheel_base",
          "wheel_base",
          "wheel_base",
          "wheel_base",
          "wheel_base",
          "wheel_base",
          "wheel_base",
          "wheel_base",
          "wheel_base",
          "wheel_base",
          "wheel_base",
          "wheel_base",
          "wheel_base",
          "wheel_base",
          "wheel_base",
          "wheel_base",
          "wheel_base",
          "wheel_base",
          "wheel_base",
          "wheel_base",
          "wheel_base",
          "wheel_base",
          "wheel_base",
          "wheel_base",
          "wheel_base",
          "wheel_base",
          "wheel_base",
          "wheel_base",
          "wheel_base",
          "wheel_base",
          "wheel_base",
          "wheel_base",
          "wheel_base",
          "wheel_base",
          "wheel_base",
          "wheel_base",
          "wheel_base",
          "wheel_base",
          "wheel_base",
          "wheel_base",
          "wheel_base",
          "wheel_base",
          "wheel_base",
          "wheel_base",
          "wheel_base",
          "wheel_base",
          "wheel_base",
          "wheel_base",
          "wheel_base",
          "wheel_base",
          "wheel_base",
          "wheel_base",
          "wheel_base",
          "wheel_base",
          "wheel_base",
          "wheel_base",
          "wheel_base",
          "wheel_base",
          "wheel_base",
          "wheel_base",
          "wheel_base",
          "wheel_base",
          "wheel_base",
          "wheel_base",
          "wheel_base",
          "wheel_base",
          "wheel_base",
          "wheel_base",
          "wheel_base",
          "wheel_base",
          "wheel_base",
          "wheel_base",
          "wheel_base",
          "wheel_base",
          "wheel_base",
          "wheel_base",
          "wheel_base",
          "wheel_base",
          "wheel_base",
          "wheel_base",
          "wheel_base",
          "wheel_base",
          "wheel_base",
          "wheel_base",
          "wheel_base",
          "wheel_base",
          "wheel_base",
          "wheel_base",
          "curb_weight",
          "curb_weight",
          "curb_weight",
          "curb_weight",
          "curb_weight",
          "curb_weight",
          "curb_weight",
          "curb_weight",
          "curb_weight",
          "curb_weight",
          "curb_weight",
          "curb_weight",
          "curb_weight",
          "curb_weight",
          "curb_weight",
          "curb_weight",
          "curb_weight",
          "curb_weight",
          "curb_weight",
          "curb_weight",
          "curb_weight",
          "curb_weight",
          "curb_weight",
          "curb_weight",
          "curb_weight",
          "curb_weight",
          "curb_weight",
          "curb_weight",
          "curb_weight",
          "curb_weight",
          "curb_weight",
          "curb_weight",
          "curb_weight",
          "curb_weight",
          "curb_weight",
          "curb_weight",
          "curb_weight",
          "curb_weight",
          "curb_weight",
          "curb_weight",
          "curb_weight",
          "curb_weight",
          "curb_weight",
          "curb_weight",
          "curb_weight",
          "curb_weight",
          "curb_weight",
          "curb_weight",
          "curb_weight",
          "curb_weight",
          "curb_weight",
          "curb_weight",
          "curb_weight",
          "curb_weight",
          "curb_weight",
          "curb_weight",
          "curb_weight",
          "curb_weight",
          "curb_weight",
          "curb_weight",
          "curb_weight",
          "curb_weight",
          "curb_weight",
          "curb_weight",
          "curb_weight",
          "curb_weight",
          "curb_weight",
          "curb_weight",
          "curb_weight",
          "curb_weight",
          "curb_weight",
          "curb_weight",
          "curb_weight",
          "curb_weight",
          "curb_weight",
          "curb_weight",
          "curb_weight",
          "curb_weight",
          "curb_weight",
          "curb_weight",
          "curb_weight",
          "curb_weight",
          "curb_weight",
          "curb_weight",
          "curb_weight",
          "curb_weight",
          "curb_weight",
          "curb_weight",
          "curb_weight",
          "curb_weight",
          "curb_weight",
          "curb_weight",
          "curb_weight",
          "curb_weight",
          "curb_weight",
          "curb_weight",
          "curb_weight",
          "curb_weight",
          "curb_weight",
          "curb_weight",
          "curb_weight",
          "curb_weight",
          "curb_weight",
          "curb_weight",
          "curb_weight",
          "curb_weight",
          "curb_weight",
          "curb_weight",
          "curb_weight",
          "curb_weight",
          "curb_weight",
          "curb_weight",
          "curb_weight",
          "curb_weight",
          "curb_weight",
          "curb_weight",
          "curb_weight",
          "curb_weight",
          "curb_weight",
          "curb_weight",
          "curb_weight",
          "curb_weight",
          "curb_weight",
          "curb_weight",
          "curb_weight",
          "curb_weight",
          "curb_weight",
          "curb_weight",
          "curb_weight",
          "curb_weight",
          "curb_weight",
          "curb_weight",
          "curb_weight",
          "curb_weight",
          "curb_weight",
          "curb_weight",
          "curb_weight",
          "curb_weight",
          "curb_weight",
          "curb_weight",
          "curb_weight",
          "curb_weight",
          "curb_weight",
          "curb_weight",
          "curb_weight",
          "curb_weight",
          "curb_weight",
          "curb_weight",
          "curb_weight",
          "curb_weight",
          "curb_weight",
          "curb_weight",
          "curb_weight",
          "curb_weight",
          "curb_weight",
          "curb_weight",
          "curb_weight",
          "curb_weight",
          "curb_weight",
          "curb_weight",
          "curb_weight",
          "curb_weight",
          "curb_weight",
          "curb_weight",
          "curb_weight",
          "curb_weight",
          "curb_weight",
          "curb_weight",
          "curb_weight",
          "curb_weight",
          "curb_weight",
          "curb_weight",
          "curb_weight",
          "curb_weight",
          "curb_weight",
          "curb_weight",
          "curb_weight",
          "curb_weight",
          "curb_weight",
          "curb_weight",
          "curb_weight",
          "curb_weight",
          "curb_weight",
          "curb_weight",
          "curb_weight",
          "curb_weight",
          "curb_weight",
          "curb_weight",
          "curb_weight",
          "curb_weight",
          "curb_weight",
          "curb_weight",
          "curb_weight",
          "curb_weight",
          "curb_weight",
          "curb_weight",
          "curb_weight",
          "curb_weight",
          "curb_weight",
          "curb_weight",
          "curb_weight",
          "curb_weight",
          "curb_weight",
          "horsepower",
          "horsepower",
          "horsepower",
          "horsepower",
          "horsepower",
          "horsepower",
          "horsepower",
          "horsepower",
          "horsepower",
          "horsepower",
          "horsepower",
          "horsepower",
          "horsepower",
          "horsepower",
          "horsepower",
          "horsepower",
          "horsepower",
          "horsepower",
          "horsepower",
          "horsepower",
          "horsepower",
          "horsepower",
          "horsepower",
          "horsepower",
          "horsepower",
          "horsepower",
          "horsepower",
          "horsepower",
          "horsepower",
          "horsepower",
          "horsepower",
          "horsepower",
          "horsepower",
          "horsepower",
          "horsepower",
          "horsepower",
          "horsepower",
          "horsepower",
          "horsepower",
          "horsepower",
          "horsepower",
          "horsepower",
          "horsepower",
          "horsepower",
          "horsepower",
          "horsepower",
          "horsepower",
          "horsepower",
          "horsepower",
          "horsepower",
          "horsepower",
          "horsepower",
          "horsepower",
          "horsepower",
          "horsepower",
          "horsepower",
          "horsepower",
          "horsepower",
          "horsepower",
          "horsepower",
          "horsepower",
          "horsepower",
          "horsepower",
          "horsepower",
          "horsepower",
          "horsepower",
          "horsepower",
          "horsepower",
          "horsepower",
          "horsepower",
          "horsepower",
          "horsepower",
          "horsepower",
          "horsepower",
          "horsepower",
          "horsepower",
          "horsepower",
          "horsepower",
          "horsepower",
          "horsepower",
          "horsepower",
          "horsepower",
          "horsepower",
          "horsepower",
          "horsepower",
          "horsepower",
          "horsepower",
          "horsepower",
          "horsepower",
          "horsepower",
          "horsepower",
          "horsepower",
          "horsepower",
          "horsepower",
          "horsepower",
          "horsepower",
          "horsepower",
          "horsepower",
          "horsepower",
          "horsepower",
          "horsepower",
          "horsepower",
          "horsepower",
          "horsepower",
          "horsepower",
          "horsepower",
          "horsepower",
          "horsepower",
          "horsepower",
          "horsepower",
          "horsepower",
          "horsepower",
          "horsepower",
          "horsepower",
          "horsepower",
          "horsepower",
          "horsepower",
          "horsepower",
          "horsepower",
          "horsepower",
          "horsepower",
          "horsepower",
          "horsepower",
          "horsepower",
          "horsepower",
          "horsepower",
          "horsepower",
          "horsepower",
          "horsepower",
          "horsepower",
          "horsepower",
          "horsepower",
          "horsepower",
          "horsepower",
          "horsepower",
          "horsepower",
          "horsepower",
          "horsepower",
          "horsepower",
          "horsepower",
          "horsepower",
          "horsepower",
          "horsepower",
          "horsepower",
          "horsepower",
          "horsepower",
          "horsepower",
          "horsepower",
          "horsepower",
          "horsepower",
          "horsepower",
          "horsepower",
          "horsepower",
          "horsepower",
          "horsepower",
          "horsepower",
          "horsepower",
          "horsepower",
          "horsepower",
          "horsepower",
          "horsepower",
          "horsepower",
          "horsepower",
          "horsepower",
          "horsepower",
          "horsepower",
          "horsepower",
          "horsepower",
          "horsepower",
          "horsepower",
          "horsepower",
          "horsepower",
          "horsepower",
          "horsepower",
          "horsepower",
          "horsepower",
          "horsepower",
          "horsepower",
          "horsepower",
          "horsepower",
          "horsepower",
          "horsepower",
          "horsepower",
          "horsepower",
          "horsepower",
          "horsepower",
          "horsepower",
          "horsepower",
          "horsepower",
          "horsepower",
          "horsepower",
          "horsepower",
          "horsepower",
          "horsepower",
          "horsepower",
          "horsepower",
          "horsepower",
          "horsepower",
          "horsepower",
          "horsepower",
          "horsepower",
          "horsepower",
          "horsepower",
          "length",
          "length",
          "length",
          "length",
          "length",
          "length",
          "length",
          "length",
          "length",
          "length",
          "length",
          "length",
          "length",
          "length",
          "length",
          "length",
          "length",
          "length",
          "length",
          "length",
          "length",
          "length",
          "length",
          "length",
          "length",
          "length",
          "length",
          "length",
          "length",
          "length",
          "length",
          "length",
          "length",
          "length",
          "length",
          "length",
          "length",
          "length",
          "length",
          "length",
          "length",
          "length",
          "length",
          "length",
          "length",
          "length",
          "length",
          "length",
          "length",
          "length",
          "length",
          "length",
          "length",
          "length",
          "length",
          "length",
          "length",
          "length",
          "length",
          "length",
          "length",
          "length",
          "length",
          "length",
          "length",
          "length",
          "length",
          "length",
          "length",
          "length",
          "length",
          "length",
          "length",
          "length",
          "length",
          "length",
          "length",
          "length",
          "length",
          "length",
          "length",
          "length",
          "length",
          "length",
          "length",
          "length",
          "length",
          "length",
          "length",
          "length",
          "length",
          "length",
          "length",
          "length",
          "length",
          "length",
          "length",
          "length",
          "length",
          "length",
          "length",
          "length",
          "length",
          "length",
          "length",
          "length",
          "length",
          "length",
          "length",
          "length",
          "length",
          "length",
          "length",
          "length",
          "length",
          "length",
          "length",
          "length",
          "length",
          "length",
          "length",
          "length",
          "length",
          "length",
          "length",
          "length",
          "length",
          "length",
          "length",
          "length",
          "length",
          "length",
          "length",
          "length",
          "length",
          "length",
          "length",
          "length",
          "length",
          "length",
          "length",
          "length",
          "length",
          "length",
          "length",
          "length",
          "length",
          "length",
          "length",
          "length",
          "length",
          "length",
          "length",
          "length",
          "length",
          "length",
          "length",
          "length",
          "length",
          "length",
          "length",
          "length",
          "length",
          "length",
          "length",
          "length",
          "length",
          "length",
          "length",
          "length",
          "length",
          "length",
          "length",
          "length",
          "length",
          "length",
          "length",
          "length",
          "length",
          "length",
          "length",
          "length",
          "length",
          "length",
          "length",
          "length",
          "length",
          "length",
          "length",
          "length",
          "length",
          "length",
          "length",
          "length",
          "length",
          "length",
          "length",
          "length",
          "length",
          "length",
          "length",
          "length",
          "length",
          "width",
          "width",
          "width",
          "width",
          "width",
          "width",
          "width",
          "width",
          "width",
          "width",
          "width",
          "width",
          "width",
          "width",
          "width",
          "width",
          "width",
          "width",
          "width",
          "width",
          "width",
          "width",
          "width",
          "width",
          "width",
          "width",
          "width",
          "width",
          "width",
          "width",
          "width",
          "width",
          "width",
          "width",
          "width",
          "width",
          "width",
          "width",
          "width",
          "width",
          "width",
          "width",
          "width",
          "width",
          "width",
          "width",
          "width",
          "width",
          "width",
          "width",
          "width",
          "width",
          "width",
          "width",
          "width",
          "width",
          "width",
          "width",
          "width",
          "width",
          "width",
          "width",
          "width",
          "width",
          "width",
          "width",
          "width",
          "width",
          "width",
          "width",
          "width",
          "width",
          "width",
          "width",
          "width",
          "width",
          "width",
          "width",
          "width",
          "width",
          "width",
          "width",
          "width",
          "width",
          "width",
          "width",
          "width",
          "width",
          "width",
          "width",
          "width",
          "width",
          "width",
          "width",
          "width",
          "width",
          "width",
          "width",
          "width",
          "width",
          "width",
          "width",
          "width",
          "width",
          "width",
          "width",
          "width",
          "width",
          "width",
          "width",
          "width",
          "width",
          "width",
          "width",
          "width",
          "width",
          "width",
          "width",
          "width",
          "width",
          "width",
          "width",
          "width",
          "width",
          "width",
          "width",
          "width",
          "width",
          "width",
          "width",
          "width",
          "width",
          "width",
          "width",
          "width",
          "width",
          "width",
          "width",
          "width",
          "width",
          "width",
          "width",
          "width",
          "width",
          "width",
          "width",
          "width",
          "width",
          "width",
          "width",
          "width",
          "width",
          "width",
          "width",
          "width",
          "width",
          "width",
          "width",
          "width",
          "width",
          "width",
          "width",
          "width",
          "width",
          "width",
          "width",
          "width",
          "width",
          "width",
          "width",
          "width",
          "width",
          "width",
          "width",
          "width",
          "width",
          "width",
          "width",
          "width",
          "width",
          "width",
          "width",
          "width",
          "width",
          "width",
          "width",
          "width",
          "width",
          "width",
          "width",
          "width",
          "width",
          "width",
          "width",
          "width",
          "width",
          "width",
          "width",
          "width",
          "width",
          "width",
          "width",
          "width",
          "height",
          "height",
          "height",
          "height",
          "height",
          "height",
          "height",
          "height",
          "height",
          "height",
          "height",
          "height",
          "height",
          "height",
          "height",
          "height",
          "height",
          "height",
          "height",
          "height",
          "height",
          "height",
          "height",
          "height",
          "height",
          "height",
          "height",
          "height",
          "height",
          "height",
          "height",
          "height",
          "height",
          "height",
          "height",
          "height",
          "height",
          "height",
          "height",
          "height",
          "height",
          "height",
          "height",
          "height",
          "height",
          "height",
          "height",
          "height",
          "height",
          "height",
          "height",
          "height",
          "height",
          "height",
          "height",
          "height",
          "height",
          "height",
          "height",
          "height",
          "height",
          "height",
          "height",
          "height",
          "height",
          "height",
          "height",
          "height",
          "height",
          "height",
          "height",
          "height",
          "height",
          "height",
          "height",
          "height",
          "height",
          "height",
          "height",
          "height",
          "height",
          "height",
          "height",
          "height",
          "height",
          "height",
          "height",
          "height",
          "height",
          "height",
          "height",
          "height",
          "height",
          "height",
          "height",
          "height",
          "height",
          "height",
          "height",
          "height",
          "height",
          "height",
          "height",
          "height",
          "height",
          "height",
          "height",
          "height",
          "height",
          "height",
          "height",
          "height",
          "height",
          "height",
          "height",
          "height",
          "height",
          "height",
          "height",
          "height",
          "height",
          "height",
          "height",
          "height",
          "height",
          "height",
          "height",
          "height",
          "height",
          "height",
          "height",
          "height",
          "height",
          "height",
          "height",
          "height",
          "height",
          "height",
          "height",
          "height",
          "height",
          "height",
          "height",
          "height",
          "height",
          "height",
          "height",
          "height",
          "height",
          "height",
          "height",
          "height",
          "height",
          "height",
          "height",
          "height",
          "height",
          "height",
          "height",
          "height",
          "height",
          "height",
          "height",
          "height",
          "height",
          "height",
          "height",
          "height",
          "height",
          "height",
          "height",
          "height",
          "height",
          "height",
          "height",
          "height",
          "height",
          "height",
          "height",
          "height",
          "height",
          "height",
          "height",
          "height",
          "height",
          "height",
          "height",
          "height",
          "height",
          "height",
          "height",
          "height",
          "height",
          "height",
          "height",
          "height",
          "height",
          "height",
          "height",
          "height",
          "height",
          "height",
          "height",
          "city_mpg",
          "city_mpg",
          "city_mpg",
          "city_mpg",
          "city_mpg",
          "city_mpg",
          "city_mpg",
          "city_mpg",
          "city_mpg",
          "city_mpg",
          "city_mpg",
          "city_mpg",
          "city_mpg",
          "city_mpg",
          "city_mpg",
          "city_mpg",
          "city_mpg",
          "city_mpg",
          "city_mpg",
          "city_mpg",
          "city_mpg",
          "city_mpg",
          "city_mpg",
          "city_mpg",
          "city_mpg",
          "city_mpg",
          "city_mpg",
          "city_mpg",
          "city_mpg",
          "city_mpg",
          "city_mpg",
          "city_mpg",
          "city_mpg",
          "city_mpg",
          "city_mpg",
          "city_mpg",
          "city_mpg",
          "city_mpg",
          "city_mpg",
          "city_mpg",
          "city_mpg",
          "city_mpg",
          "city_mpg",
          "city_mpg",
          "city_mpg",
          "city_mpg",
          "city_mpg",
          "city_mpg",
          "city_mpg",
          "city_mpg",
          "city_mpg",
          "city_mpg",
          "city_mpg",
          "city_mpg",
          "city_mpg",
          "city_mpg",
          "city_mpg",
          "city_mpg",
          "city_mpg",
          "city_mpg",
          "city_mpg",
          "city_mpg",
          "city_mpg",
          "city_mpg",
          "city_mpg",
          "city_mpg",
          "city_mpg",
          "city_mpg",
          "city_mpg",
          "city_mpg",
          "city_mpg",
          "city_mpg",
          "city_mpg",
          "city_mpg",
          "city_mpg",
          "city_mpg",
          "city_mpg",
          "city_mpg",
          "city_mpg",
          "city_mpg",
          "city_mpg",
          "city_mpg",
          "city_mpg",
          "city_mpg",
          "city_mpg",
          "city_mpg",
          "city_mpg",
          "city_mpg",
          "city_mpg",
          "city_mpg",
          "city_mpg",
          "city_mpg",
          "city_mpg",
          "city_mpg",
          "city_mpg",
          "city_mpg",
          "city_mpg",
          "city_mpg",
          "city_mpg",
          "city_mpg",
          "city_mpg",
          "city_mpg",
          "city_mpg",
          "city_mpg",
          "city_mpg",
          "city_mpg",
          "city_mpg",
          "city_mpg",
          "city_mpg",
          "city_mpg",
          "city_mpg",
          "city_mpg",
          "city_mpg",
          "city_mpg",
          "city_mpg",
          "city_mpg",
          "city_mpg",
          "city_mpg",
          "city_mpg",
          "city_mpg",
          "city_mpg",
          "city_mpg",
          "city_mpg",
          "city_mpg",
          "city_mpg",
          "city_mpg",
          "city_mpg",
          "city_mpg",
          "city_mpg",
          "city_mpg",
          "city_mpg",
          "city_mpg",
          "city_mpg",
          "city_mpg",
          "city_mpg",
          "city_mpg",
          "city_mpg",
          "city_mpg",
          "city_mpg",
          "city_mpg",
          "city_mpg",
          "city_mpg",
          "city_mpg",
          "city_mpg",
          "city_mpg",
          "city_mpg",
          "city_mpg",
          "city_mpg",
          "city_mpg",
          "city_mpg",
          "city_mpg",
          "city_mpg",
          "city_mpg",
          "city_mpg",
          "city_mpg",
          "city_mpg",
          "city_mpg",
          "city_mpg",
          "city_mpg",
          "city_mpg",
          "city_mpg",
          "city_mpg",
          "city_mpg",
          "city_mpg",
          "city_mpg",
          "city_mpg",
          "city_mpg",
          "city_mpg",
          "city_mpg",
          "city_mpg",
          "city_mpg",
          "city_mpg",
          "city_mpg",
          "city_mpg",
          "city_mpg",
          "city_mpg",
          "city_mpg",
          "city_mpg",
          "city_mpg",
          "city_mpg",
          "city_mpg",
          "city_mpg",
          "city_mpg",
          "city_mpg",
          "city_mpg",
          "city_mpg",
          "city_mpg",
          "city_mpg",
          "city_mpg",
          "city_mpg",
          "city_mpg",
          "city_mpg",
          "city_mpg",
          "city_mpg",
          "city_mpg",
          "city_mpg",
          "city_mpg",
          "city_mpg",
          "city_mpg",
          "city_mpg",
          "city_mpg",
          "city_mpg",
          "city_mpg",
          "highway_mpg",
          "highway_mpg",
          "highway_mpg",
          "highway_mpg",
          "highway_mpg",
          "highway_mpg",
          "highway_mpg",
          "highway_mpg",
          "highway_mpg",
          "highway_mpg",
          "highway_mpg",
          "highway_mpg",
          "highway_mpg",
          "highway_mpg",
          "highway_mpg",
          "highway_mpg",
          "highway_mpg",
          "highway_mpg",
          "highway_mpg",
          "highway_mpg",
          "highway_mpg",
          "highway_mpg",
          "highway_mpg",
          "highway_mpg",
          "highway_mpg",
          "highway_mpg",
          "highway_mpg",
          "highway_mpg",
          "highway_mpg",
          "highway_mpg",
          "highway_mpg",
          "highway_mpg",
          "highway_mpg",
          "highway_mpg",
          "highway_mpg",
          "highway_mpg",
          "highway_mpg",
          "highway_mpg",
          "highway_mpg",
          "highway_mpg",
          "highway_mpg",
          "highway_mpg",
          "highway_mpg",
          "highway_mpg",
          "highway_mpg",
          "highway_mpg",
          "highway_mpg",
          "highway_mpg",
          "highway_mpg",
          "highway_mpg",
          "highway_mpg",
          "highway_mpg",
          "highway_mpg",
          "highway_mpg",
          "highway_mpg",
          "highway_mpg",
          "highway_mpg",
          "highway_mpg",
          "highway_mpg",
          "highway_mpg",
          "highway_mpg",
          "highway_mpg",
          "highway_mpg",
          "highway_mpg",
          "highway_mpg",
          "highway_mpg",
          "highway_mpg",
          "highway_mpg",
          "highway_mpg",
          "highway_mpg",
          "highway_mpg",
          "highway_mpg",
          "highway_mpg",
          "highway_mpg",
          "highway_mpg",
          "highway_mpg",
          "highway_mpg",
          "highway_mpg",
          "highway_mpg",
          "highway_mpg",
          "highway_mpg",
          "highway_mpg",
          "highway_mpg",
          "highway_mpg",
          "highway_mpg",
          "highway_mpg",
          "highway_mpg",
          "highway_mpg",
          "highway_mpg",
          "highway_mpg",
          "highway_mpg",
          "highway_mpg",
          "highway_mpg",
          "highway_mpg",
          "highway_mpg",
          "highway_mpg",
          "highway_mpg",
          "highway_mpg",
          "highway_mpg",
          "highway_mpg",
          "highway_mpg",
          "highway_mpg",
          "highway_mpg",
          "highway_mpg",
          "highway_mpg",
          "highway_mpg",
          "highway_mpg",
          "highway_mpg",
          "highway_mpg",
          "highway_mpg",
          "highway_mpg",
          "highway_mpg",
          "highway_mpg",
          "highway_mpg",
          "highway_mpg",
          "highway_mpg",
          "highway_mpg",
          "highway_mpg",
          "highway_mpg",
          "highway_mpg",
          "highway_mpg",
          "highway_mpg",
          "highway_mpg",
          "highway_mpg",
          "highway_mpg",
          "highway_mpg",
          "highway_mpg",
          "highway_mpg",
          "highway_mpg",
          "highway_mpg",
          "highway_mpg",
          "highway_mpg",
          "highway_mpg",
          "highway_mpg",
          "highway_mpg",
          "highway_mpg",
          "highway_mpg",
          "highway_mpg",
          "highway_mpg",
          "highway_mpg",
          "highway_mpg",
          "highway_mpg",
          "highway_mpg",
          "highway_mpg",
          "highway_mpg",
          "highway_mpg",
          "highway_mpg",
          "highway_mpg",
          "highway_mpg",
          "highway_mpg",
          "highway_mpg",
          "highway_mpg",
          "highway_mpg",
          "highway_mpg",
          "highway_mpg",
          "highway_mpg",
          "highway_mpg",
          "highway_mpg",
          "highway_mpg",
          "highway_mpg",
          "highway_mpg",
          "highway_mpg",
          "highway_mpg",
          "highway_mpg",
          "highway_mpg",
          "highway_mpg",
          "highway_mpg",
          "highway_mpg",
          "highway_mpg",
          "highway_mpg",
          "highway_mpg",
          "highway_mpg",
          "highway_mpg",
          "highway_mpg",
          "highway_mpg",
          "highway_mpg",
          "highway_mpg",
          "highway_mpg",
          "highway_mpg",
          "highway_mpg",
          "highway_mpg",
          "highway_mpg",
          "highway_mpg",
          "highway_mpg",
          "highway_mpg",
          "highway_mpg",
          "highway_mpg",
          "highway_mpg",
          "highway_mpg",
          "highway_mpg",
          "highway_mpg",
          "highway_mpg",
          "highway_mpg",
          "highway_mpg",
          "highway_mpg",
          "highway_mpg",
          "highway_mpg",
          "highway_mpg",
          "highway_mpg",
          "highway_mpg",
          "highway_mpg",
          "highway_mpg",
          "highway_mpg"
         ],
         "x0": " ",
         "xaxis": "x",
         "y": [
          88.6,
          88.6,
          94.5,
          99.8,
          99.4,
          99.8,
          105.8,
          105.8,
          105.8,
          99.5,
          101.2,
          101.2,
          101.2,
          101.2,
          103.5,
          103.5,
          103.5,
          110,
          88.4,
          94.5,
          94.5,
          93.7,
          93.7,
          93.7,
          93.7,
          93.7,
          93.7,
          93.7,
          103.3,
          95.9,
          86.6,
          86.6,
          93.7,
          93.7,
          93.7,
          96.5,
          96.5,
          96.5,
          96.5,
          96.5,
          96.5,
          96.5,
          96.5,
          94.3,
          94.5,
          94.5,
          96,
          113,
          113,
          102,
          93.1,
          93.1,
          93.1,
          93.1,
          93.1,
          95.3,
          95.3,
          95.3,
          95.3,
          98.8,
          98.8,
          98.8,
          98.8,
          98.8,
          98.8,
          104.9,
          104.9,
          110,
          110,
          106.7,
          115.6,
          115.6,
          96.6,
          120.9,
          112,
          102.7,
          93.7,
          93.7,
          93.7,
          93,
          96.3,
          96.3,
          95.9,
          95.9,
          95.9,
          96.3,
          96.3,
          96.3,
          96.3,
          94.5,
          94.5,
          94.5,
          94.5,
          94.5,
          94.5,
          94.5,
          94.5,
          94.5,
          95.1,
          97.2,
          97.2,
          100.4,
          100.4,
          100.4,
          91.3,
          91.3,
          99.2,
          107.9,
          107.9,
          114.2,
          114.2,
          107.9,
          107.9,
          114.2,
          114.2,
          107.9,
          107.9,
          108,
          93.7,
          93.7,
          93.7,
          93.7,
          93.7,
          103.3,
          95.9,
          94.5,
          89.5,
          89.5,
          89.5,
          98.4,
          99.1,
          99.1,
          99.1,
          99.1,
          99.1,
          99.1,
          93.7,
          93.7,
          93.3,
          97.2,
          97.2,
          97.2,
          97,
          97,
          97,
          97,
          96.9,
          96.9,
          95.7,
          95.7,
          95.7,
          95.7,
          95.7,
          95.7,
          95.7,
          95.7,
          95.7,
          95.7,
          95.7,
          95.7,
          95.7,
          94.5,
          94.5,
          94.5,
          94.5,
          98.4,
          98.4,
          98.4,
          98.4,
          98.4,
          98.4,
          102.4,
          102.4,
          102.4,
          102.4,
          102.4,
          102.9,
          102.9,
          104.5,
          104.5,
          97.3,
          97.3,
          97.3,
          97.3,
          97.3,
          97.3,
          97.3,
          94.5,
          94.5,
          100.4,
          100.4,
          100.4,
          104.3,
          104.3,
          104.3,
          104.3,
          104.3,
          104.3,
          109.1,
          109.1,
          109.1,
          109.1,
          109.1,
          2548,
          2548,
          2823,
          2337,
          2824,
          2507,
          2844,
          2954,
          3086,
          3053,
          2395,
          2395,
          2710,
          2765,
          3055,
          3230,
          3380,
          3505,
          1488,
          1874,
          1909,
          1876,
          1876,
          2128,
          1967,
          1989,
          1989,
          2191,
          2535,
          2811,
          1713,
          1819,
          1837,
          1940,
          1956,
          2010,
          2024,
          2236,
          2289,
          2304,
          2372,
          2465,
          2293,
          2337,
          1874,
          1909,
          2734,
          4066,
          4066,
          3950,
          1890,
          1900,
          1905,
          1945,
          1950,
          2380,
          2380,
          2385,
          2500,
          2385,
          2410,
          2385,
          2410,
          2443,
          2425,
          2670,
          2700,
          3515,
          3750,
          3495,
          3770,
          3740,
          3685,
          3900,
          3715,
          2910,
          1918,
          1944,
          2004,
          2145,
          2370,
          2328,
          2833,
          2921,
          2926,
          2365,
          2405,
          2403,
          2403,
          1889,
          2017,
          1918,
          1938,
          2024,
          1951,
          2028,
          1971,
          2037,
          2008,
          2324,
          2302,
          3095,
          3296,
          3060,
          3071,
          3139,
          3139,
          3020,
          3197,
          3230,
          3430,
          3075,
          3252,
          3285,
          3485,
          3075,
          3252,
          3130,
          1918,
          2128,
          1967,
          1989,
          2191,
          2535,
          2818,
          2778,
          2756,
          2756,
          2800,
          3366,
          2658,
          2695,
          2707,
          2758,
          2808,
          2847,
          2050,
          2120,
          2240,
          2145,
          2190,
          2340,
          2385,
          2510,
          2290,
          2455,
          2420,
          2650,
          1985,
          2040,
          2015,
          2280,
          2290,
          3110,
          2081,
          2109,
          2275,
          2275,
          2094,
          2122,
          2140,
          2169,
          2204,
          2265,
          2300,
          2540,
          2536,
          2551,
          2679,
          2714,
          2975,
          2326,
          2480,
          2414,
          2414,
          2458,
          2976,
          3016,
          3131,
          3151,
          2261,
          2209,
          2264,
          2212,
          2275,
          2319,
          2300,
          2254,
          2221,
          2661,
          2579,
          2563,
          2912,
          3034,
          2935,
          3042,
          3045,
          3157,
          2952,
          3049,
          3012,
          3217,
          3062,
          111,
          111,
          154,
          102,
          115,
          110,
          110,
          110,
          140,
          160,
          101,
          101,
          121,
          121,
          121,
          182,
          182,
          182,
          48,
          70,
          70,
          68,
          68,
          102,
          68,
          68,
          68,
          102,
          88,
          145,
          58,
          76,
          60,
          76,
          76,
          76,
          76,
          86,
          86,
          86,
          86,
          101,
          100,
          78,
          70,
          70,
          90,
          176,
          176,
          262,
          68,
          68,
          68,
          68,
          68,
          101,
          101,
          101,
          135,
          84,
          84,
          84,
          84,
          64,
          84,
          120,
          72,
          123,
          123,
          123,
          123,
          155,
          155,
          184,
          184,
          175,
          68,
          68,
          68,
          102,
          116,
          88,
          145,
          145,
          145,
          88,
          88,
          116,
          116,
          69,
          55,
          69,
          69,
          69,
          69,
          69,
          69,
          69,
          69,
          97,
          97,
          152,
          152,
          152,
          160,
          200,
          160,
          97,
          95,
          97,
          95,
          95,
          95,
          95,
          95,
          97,
          95,
          142,
          68,
          102,
          68,
          68,
          68,
          88,
          145,
          143,
          207,
          207,
          207,
          288,
          110,
          110,
          110,
          110,
          160,
          160,
          69,
          73,
          73,
          82,
          82,
          94,
          82,
          111,
          82,
          94,
          82,
          111,
          62,
          62,
          62,
          62,
          62,
          62,
          70,
          70,
          56,
          56,
          70,
          70,
          70,
          70,
          70,
          112,
          112,
          116,
          116,
          116,
          116,
          116,
          116,
          92,
          73,
          92,
          92,
          92,
          161,
          161,
          156,
          156,
          52,
          85,
          52,
          85,
          85,
          68,
          100,
          90,
          90,
          110,
          68,
          88,
          114,
          114,
          114,
          114,
          162,
          162,
          114,
          160,
          134,
          106,
          114,
          168.8,
          168.8,
          171.2,
          176.6,
          176.6,
          177.3,
          192.7,
          192.7,
          192.7,
          178.2,
          176.8,
          176.8,
          176.8,
          176.8,
          189,
          189,
          193.8,
          197,
          141.1,
          155.9,
          158.8,
          157.3,
          157.3,
          157.3,
          157.3,
          157.3,
          157.3,
          157.3,
          174.6,
          173.2,
          144.6,
          144.6,
          150,
          150,
          150,
          163.4,
          157.1,
          167.5,
          167.5,
          175.4,
          175.4,
          175.4,
          169.1,
          170.7,
          155.9,
          155.9,
          172.6,
          199.6,
          199.6,
          191.7,
          159.1,
          159.1,
          159.1,
          166.8,
          166.8,
          169,
          169,
          169,
          169,
          177.8,
          177.8,
          177.8,
          177.8,
          177.8,
          177.8,
          175,
          175,
          190.9,
          190.9,
          187.5,
          202.6,
          202.6,
          180.3,
          208.1,
          199.2,
          178.4,
          157.3,
          157.3,
          157.3,
          157.3,
          173,
          173,
          173.2,
          173.2,
          173.2,
          172.4,
          172.4,
          172.4,
          172.4,
          165.3,
          165.3,
          165.3,
          165.3,
          170.2,
          165.3,
          165.6,
          165.3,
          170.2,
          162.4,
          173.4,
          173.4,
          181.7,
          184.6,
          184.6,
          170.7,
          170.7,
          178.5,
          186.7,
          186.7,
          198.9,
          198.9,
          186.7,
          186.7,
          198.9,
          198.9,
          186.7,
          186.7,
          186.7,
          157.3,
          157.3,
          157.3,
          167.3,
          167.3,
          174.6,
          173.2,
          168.9,
          168.9,
          168.9,
          168.9,
          175.7,
          186.6,
          186.6,
          186.6,
          186.6,
          186.6,
          186.6,
          156.9,
          157.9,
          157.3,
          172,
          172,
          172,
          172,
          172,
          173.5,
          173.5,
          173.6,
          173.6,
          158.7,
          158.7,
          158.7,
          169.7,
          169.7,
          169.7,
          166.3,
          166.3,
          166.3,
          166.3,
          166.3,
          166.3,
          166.3,
          168.7,
          168.7,
          168.7,
          168.7,
          176.2,
          176.2,
          176.2,
          176.2,
          176.2,
          176.2,
          175.6,
          175.6,
          175.6,
          175.6,
          175.6,
          183.5,
          183.5,
          187.8,
          187.8,
          171.7,
          171.7,
          171.7,
          171.7,
          171.7,
          171.7,
          171.7,
          159.3,
          165.7,
          180.2,
          180.2,
          183.1,
          188.8,
          188.8,
          188.8,
          188.8,
          188.8,
          188.8,
          188.8,
          188.8,
          188.8,
          188.8,
          188.8,
          64.1,
          64.1,
          65.5,
          66.2,
          66.4,
          66.3,
          71.4,
          71.4,
          71.4,
          67.9,
          64.8,
          64.8,
          64.8,
          64.8,
          66.9,
          66.9,
          67.9,
          70.9,
          60.3,
          63.6,
          63.6,
          63.8,
          63.8,
          63.8,
          63.8,
          63.8,
          63.8,
          63.8,
          64.6,
          66.3,
          63.9,
          63.9,
          64,
          64,
          64,
          64,
          63.9,
          65.2,
          65.2,
          65.2,
          62.5,
          65.2,
          66,
          61.8,
          63.6,
          63.6,
          65.2,
          69.6,
          69.6,
          70.6,
          64.2,
          64.2,
          64.2,
          64.2,
          64.2,
          65.7,
          65.7,
          65.7,
          65.7,
          66.5,
          66.5,
          66.5,
          66.5,
          66.5,
          66.5,
          66.1,
          66.1,
          70.3,
          70.3,
          70.3,
          71.7,
          71.7,
          70.5,
          71.7,
          72,
          68,
          64.4,
          64.4,
          64.4,
          63.8,
          65.4,
          65.4,
          66.3,
          66.3,
          66.3,
          65.4,
          65.4,
          65.4,
          65.4,
          63.8,
          63.8,
          63.8,
          63.8,
          63.8,
          63.8,
          63.8,
          63.8,
          63.8,
          63.8,
          65.2,
          65.2,
          66.5,
          66.5,
          66.5,
          67.9,
          67.9,
          67.9,
          68.4,
          68.4,
          68.4,
          68.4,
          68.4,
          68.4,
          68.4,
          68.4,
          68.4,
          68.4,
          68.3,
          63.8,
          63.8,
          63.8,
          63.8,
          63.8,
          64.6,
          66.3,
          68.3,
          65,
          65,
          65,
          72.3,
          66.5,
          66.5,
          66.5,
          66.5,
          66.5,
          66.5,
          63.4,
          63.6,
          63.8,
          65.4,
          65.4,
          65.4,
          65.4,
          65.4,
          65.4,
          65.4,
          65.4,
          65.4,
          63.6,
          63.6,
          63.6,
          63.6,
          63.6,
          63.6,
          64.4,
          64.4,
          64.4,
          64.4,
          64.4,
          64.4,
          64.4,
          64,
          64,
          64,
          64,
          65.6,
          65.6,
          65.6,
          65.6,
          65.6,
          65.6,
          66.5,
          66.5,
          66.5,
          66.5,
          66.5,
          67.7,
          67.7,
          66.5,
          66.5,
          65.5,
          65.5,
          65.5,
          65.5,
          65.5,
          65.5,
          65.5,
          64.2,
          64,
          66.9,
          66.9,
          66.9,
          67.2,
          67.2,
          67.2,
          67.2,
          67.2,
          67.2,
          68.9,
          68.8,
          68.9,
          68.9,
          68.9,
          48.8,
          48.8,
          52.4,
          54.3,
          54.3,
          53.1,
          55.7,
          55.7,
          55.9,
          52,
          54.3,
          54.3,
          54.3,
          54.3,
          55.7,
          55.7,
          53.7,
          56.3,
          53.2,
          52,
          52,
          50.8,
          50.8,
          50.8,
          50.6,
          50.6,
          50.6,
          50.6,
          59.8,
          50.2,
          50.8,
          50.8,
          52.6,
          52.6,
          52.6,
          54.5,
          58.3,
          53.3,
          53.3,
          54.1,
          54.1,
          54.1,
          51,
          53.5,
          52,
          52,
          51.4,
          52.8,
          52.8,
          47.8,
          54.1,
          54.1,
          54.1,
          54.1,
          54.1,
          49.6,
          49.6,
          49.6,
          49.6,
          53.7,
          55.5,
          53.7,
          55.5,
          55.5,
          55.5,
          54.4,
          54.4,
          56.5,
          58.7,
          54.9,
          56.3,
          56.5,
          50.8,
          56.7,
          55.4,
          54.8,
          50.8,
          50.8,
          50.8,
          50.8,
          49.4,
          49.4,
          50.2,
          50.2,
          50.2,
          51.6,
          51.6,
          51.6,
          51.6,
          54.5,
          54.5,
          54.5,
          54.5,
          53.5,
          54.5,
          53.3,
          54.5,
          53.5,
          53.3,
          54.7,
          54.7,
          55.1,
          56.1,
          55.1,
          49.7,
          49.7,
          49.7,
          56.7,
          56.7,
          58.7,
          58.7,
          56.7,
          56.7,
          56.7,
          58.7,
          56.7,
          56.7,
          56,
          50.8,
          50.8,
          50.6,
          50.8,
          50.8,
          59.8,
          50.2,
          50.2,
          51.6,
          51.6,
          51.6,
          50.5,
          56.1,
          56.1,
          56.1,
          56.1,
          56.1,
          56.1,
          53.7,
          53.7,
          55.7,
          52.5,
          52.5,
          52.5,
          54.3,
          54.3,
          53,
          53,
          54.9,
          54.9,
          54.5,
          54.5,
          54.5,
          59.1,
          59.1,
          59.1,
          53,
          52.8,
          53,
          52.8,
          53,
          52.8,
          52.8,
          52.6,
          52.6,
          52.6,
          52.6,
          52,
          52,
          52,
          52,
          52,
          53,
          54.9,
          54.9,
          53.9,
          54.9,
          53.9,
          52,
          52,
          54.1,
          54.1,
          55.7,
          55.7,
          55.7,
          55.7,
          55.7,
          55.7,
          55.7,
          55.6,
          51.4,
          55.1,
          55.1,
          55.1,
          56.2,
          57.5,
          56.2,
          57.5,
          56.2,
          57.5,
          55.5,
          55.5,
          55.5,
          55.5,
          55.5,
          21,
          21,
          19,
          24,
          18,
          19,
          19,
          19,
          17,
          16,
          23,
          23,
          21,
          21,
          20,
          16,
          16,
          15,
          47,
          38,
          38,
          37,
          31,
          24,
          31,
          31,
          31,
          24,
          24,
          19,
          49,
          31,
          38,
          30,
          30,
          30,
          30,
          27,
          27,
          27,
          27,
          24,
          25,
          24,
          38,
          38,
          24,
          15,
          15,
          13,
          30,
          31,
          31,
          31,
          31,
          17,
          17,
          17,
          16,
          26,
          26,
          26,
          26,
          36,
          26,
          19,
          31,
          22,
          22,
          22,
          22,
          16,
          16,
          14,
          14,
          19,
          37,
          31,
          31,
          24,
          23,
          25,
          19,
          19,
          19,
          25,
          25,
          23,
          23,
          31,
          45,
          31,
          31,
          31,
          31,
          31,
          31,
          31,
          31,
          27,
          27,
          17,
          17,
          19,
          19,
          17,
          19,
          19,
          28,
          19,
          25,
          19,
          28,
          19,
          25,
          19,
          28,
          18,
          37,
          24,
          31,
          31,
          31,
          24,
          19,
          19,
          17,
          17,
          17,
          17,
          21,
          21,
          21,
          21,
          19,
          19,
          31,
          26,
          26,
          32,
          28,
          26,
          24,
          24,
          28,
          25,
          23,
          23,
          35,
          31,
          31,
          31,
          27,
          27,
          30,
          30,
          34,
          38,
          38,
          28,
          28,
          29,
          29,
          26,
          26,
          24,
          24,
          24,
          24,
          24,
          24,
          29,
          30,
          27,
          27,
          27,
          20,
          19,
          20,
          19,
          37,
          27,
          37,
          27,
          27,
          37,
          26,
          24,
          24,
          19,
          33,
          25,
          23,
          23,
          24,
          24,
          17,
          17,
          23,
          19,
          18,
          26,
          19,
          27,
          27,
          26,
          30,
          22,
          25,
          25,
          25,
          20,
          22,
          29,
          29,
          28,
          28,
          25,
          22,
          22,
          20,
          53,
          43,
          43,
          41,
          38,
          30,
          38,
          38,
          38,
          30,
          30,
          24,
          54,
          38,
          42,
          34,
          34,
          34,
          34,
          33,
          33,
          33,
          33,
          28,
          31,
          29,
          43,
          43,
          29,
          19,
          19,
          17,
          31,
          38,
          38,
          38,
          38,
          23,
          23,
          23,
          23,
          32,
          32,
          32,
          32,
          42,
          32,
          27,
          39,
          25,
          25,
          25,
          25,
          18,
          18,
          16,
          16,
          24,
          41,
          38,
          38,
          30,
          30,
          32,
          24,
          24,
          24,
          32,
          32,
          30,
          30,
          37,
          50,
          37,
          37,
          37,
          37,
          37,
          37,
          37,
          37,
          34,
          34,
          22,
          22,
          25,
          25,
          23,
          25,
          24,
          33,
          24,
          25,
          24,
          33,
          24,
          25,
          24,
          33,
          24,
          41,
          30,
          38,
          38,
          38,
          30,
          24,
          27,
          25,
          25,
          25,
          28,
          28,
          28,
          28,
          28,
          26,
          26,
          36,
          31,
          31,
          37,
          33,
          32,
          25,
          29,
          32,
          31,
          29,
          23,
          39,
          38,
          38,
          37,
          32,
          32,
          37,
          37,
          36,
          47,
          47,
          34,
          34,
          34,
          34,
          29,
          29,
          30,
          30,
          30,
          30,
          30,
          30,
          34,
          33,
          32,
          32,
          32,
          24,
          24,
          24,
          24,
          46,
          34,
          46,
          34,
          34,
          42,
          32,
          29,
          29,
          24,
          38,
          31,
          28,
          28,
          28,
          28,
          22,
          22,
          28,
          25,
          23,
          27,
          25
         ],
         "y0": " ",
         "yaxis": "y"
        }
       ],
       "layout": {
        "boxmode": "group",
        "height": 400,
        "legend": {
         "tracegroupgap": 0
        },
        "margin": {
         "t": 60
        },
        "template": {
         "data": {
          "bar": [
           {
            "error_x": {
             "color": "#2a3f5f"
            },
            "error_y": {
             "color": "#2a3f5f"
            },
            "marker": {
             "line": {
              "color": "#E5ECF6",
              "width": 0.5
             },
             "pattern": {
              "fillmode": "overlay",
              "size": 10,
              "solidity": 0.2
             }
            },
            "type": "bar"
           }
          ],
          "barpolar": [
           {
            "marker": {
             "line": {
              "color": "#E5ECF6",
              "width": 0.5
             },
             "pattern": {
              "fillmode": "overlay",
              "size": 10,
              "solidity": 0.2
             }
            },
            "type": "barpolar"
           }
          ],
          "carpet": [
           {
            "aaxis": {
             "endlinecolor": "#2a3f5f",
             "gridcolor": "white",
             "linecolor": "white",
             "minorgridcolor": "white",
             "startlinecolor": "#2a3f5f"
            },
            "baxis": {
             "endlinecolor": "#2a3f5f",
             "gridcolor": "white",
             "linecolor": "white",
             "minorgridcolor": "white",
             "startlinecolor": "#2a3f5f"
            },
            "type": "carpet"
           }
          ],
          "choropleth": [
           {
            "colorbar": {
             "outlinewidth": 0,
             "ticks": ""
            },
            "type": "choropleth"
           }
          ],
          "contour": [
           {
            "colorbar": {
             "outlinewidth": 0,
             "ticks": ""
            },
            "colorscale": [
             [
              0,
              "#0d0887"
             ],
             [
              0.1111111111111111,
              "#46039f"
             ],
             [
              0.2222222222222222,
              "#7201a8"
             ],
             [
              0.3333333333333333,
              "#9c179e"
             ],
             [
              0.4444444444444444,
              "#bd3786"
             ],
             [
              0.5555555555555556,
              "#d8576b"
             ],
             [
              0.6666666666666666,
              "#ed7953"
             ],
             [
              0.7777777777777778,
              "#fb9f3a"
             ],
             [
              0.8888888888888888,
              "#fdca26"
             ],
             [
              1,
              "#f0f921"
             ]
            ],
            "type": "contour"
           }
          ],
          "contourcarpet": [
           {
            "colorbar": {
             "outlinewidth": 0,
             "ticks": ""
            },
            "type": "contourcarpet"
           }
          ],
          "heatmap": [
           {
            "colorbar": {
             "outlinewidth": 0,
             "ticks": ""
            },
            "colorscale": [
             [
              0,
              "#0d0887"
             ],
             [
              0.1111111111111111,
              "#46039f"
             ],
             [
              0.2222222222222222,
              "#7201a8"
             ],
             [
              0.3333333333333333,
              "#9c179e"
             ],
             [
              0.4444444444444444,
              "#bd3786"
             ],
             [
              0.5555555555555556,
              "#d8576b"
             ],
             [
              0.6666666666666666,
              "#ed7953"
             ],
             [
              0.7777777777777778,
              "#fb9f3a"
             ],
             [
              0.8888888888888888,
              "#fdca26"
             ],
             [
              1,
              "#f0f921"
             ]
            ],
            "type": "heatmap"
           }
          ],
          "heatmapgl": [
           {
            "colorbar": {
             "outlinewidth": 0,
             "ticks": ""
            },
            "colorscale": [
             [
              0,
              "#0d0887"
             ],
             [
              0.1111111111111111,
              "#46039f"
             ],
             [
              0.2222222222222222,
              "#7201a8"
             ],
             [
              0.3333333333333333,
              "#9c179e"
             ],
             [
              0.4444444444444444,
              "#bd3786"
             ],
             [
              0.5555555555555556,
              "#d8576b"
             ],
             [
              0.6666666666666666,
              "#ed7953"
             ],
             [
              0.7777777777777778,
              "#fb9f3a"
             ],
             [
              0.8888888888888888,
              "#fdca26"
             ],
             [
              1,
              "#f0f921"
             ]
            ],
            "type": "heatmapgl"
           }
          ],
          "histogram": [
           {
            "marker": {
             "pattern": {
              "fillmode": "overlay",
              "size": 10,
              "solidity": 0.2
             }
            },
            "type": "histogram"
           }
          ],
          "histogram2d": [
           {
            "colorbar": {
             "outlinewidth": 0,
             "ticks": ""
            },
            "colorscale": [
             [
              0,
              "#0d0887"
             ],
             [
              0.1111111111111111,
              "#46039f"
             ],
             [
              0.2222222222222222,
              "#7201a8"
             ],
             [
              0.3333333333333333,
              "#9c179e"
             ],
             [
              0.4444444444444444,
              "#bd3786"
             ],
             [
              0.5555555555555556,
              "#d8576b"
             ],
             [
              0.6666666666666666,
              "#ed7953"
             ],
             [
              0.7777777777777778,
              "#fb9f3a"
             ],
             [
              0.8888888888888888,
              "#fdca26"
             ],
             [
              1,
              "#f0f921"
             ]
            ],
            "type": "histogram2d"
           }
          ],
          "histogram2dcontour": [
           {
            "colorbar": {
             "outlinewidth": 0,
             "ticks": ""
            },
            "colorscale": [
             [
              0,
              "#0d0887"
             ],
             [
              0.1111111111111111,
              "#46039f"
             ],
             [
              0.2222222222222222,
              "#7201a8"
             ],
             [
              0.3333333333333333,
              "#9c179e"
             ],
             [
              0.4444444444444444,
              "#bd3786"
             ],
             [
              0.5555555555555556,
              "#d8576b"
             ],
             [
              0.6666666666666666,
              "#ed7953"
             ],
             [
              0.7777777777777778,
              "#fb9f3a"
             ],
             [
              0.8888888888888888,
              "#fdca26"
             ],
             [
              1,
              "#f0f921"
             ]
            ],
            "type": "histogram2dcontour"
           }
          ],
          "mesh3d": [
           {
            "colorbar": {
             "outlinewidth": 0,
             "ticks": ""
            },
            "type": "mesh3d"
           }
          ],
          "parcoords": [
           {
            "line": {
             "colorbar": {
              "outlinewidth": 0,
              "ticks": ""
             }
            },
            "type": "parcoords"
           }
          ],
          "pie": [
           {
            "automargin": true,
            "type": "pie"
           }
          ],
          "scatter": [
           {
            "fillpattern": {
             "fillmode": "overlay",
             "size": 10,
             "solidity": 0.2
            },
            "type": "scatter"
           }
          ],
          "scatter3d": [
           {
            "line": {
             "colorbar": {
              "outlinewidth": 0,
              "ticks": ""
             }
            },
            "marker": {
             "colorbar": {
              "outlinewidth": 0,
              "ticks": ""
             }
            },
            "type": "scatter3d"
           }
          ],
          "scattercarpet": [
           {
            "marker": {
             "colorbar": {
              "outlinewidth": 0,
              "ticks": ""
             }
            },
            "type": "scattercarpet"
           }
          ],
          "scattergeo": [
           {
            "marker": {
             "colorbar": {
              "outlinewidth": 0,
              "ticks": ""
             }
            },
            "type": "scattergeo"
           }
          ],
          "scattergl": [
           {
            "marker": {
             "colorbar": {
              "outlinewidth": 0,
              "ticks": ""
             }
            },
            "type": "scattergl"
           }
          ],
          "scattermapbox": [
           {
            "marker": {
             "colorbar": {
              "outlinewidth": 0,
              "ticks": ""
             }
            },
            "type": "scattermapbox"
           }
          ],
          "scatterpolar": [
           {
            "marker": {
             "colorbar": {
              "outlinewidth": 0,
              "ticks": ""
             }
            },
            "type": "scatterpolar"
           }
          ],
          "scatterpolargl": [
           {
            "marker": {
             "colorbar": {
              "outlinewidth": 0,
              "ticks": ""
             }
            },
            "type": "scatterpolargl"
           }
          ],
          "scatterternary": [
           {
            "marker": {
             "colorbar": {
              "outlinewidth": 0,
              "ticks": ""
             }
            },
            "type": "scatterternary"
           }
          ],
          "surface": [
           {
            "colorbar": {
             "outlinewidth": 0,
             "ticks": ""
            },
            "colorscale": [
             [
              0,
              "#0d0887"
             ],
             [
              0.1111111111111111,
              "#46039f"
             ],
             [
              0.2222222222222222,
              "#7201a8"
             ],
             [
              0.3333333333333333,
              "#9c179e"
             ],
             [
              0.4444444444444444,
              "#bd3786"
             ],
             [
              0.5555555555555556,
              "#d8576b"
             ],
             [
              0.6666666666666666,
              "#ed7953"
             ],
             [
              0.7777777777777778,
              "#fb9f3a"
             ],
             [
              0.8888888888888888,
              "#fdca26"
             ],
             [
              1,
              "#f0f921"
             ]
            ],
            "type": "surface"
           }
          ],
          "table": [
           {
            "cells": {
             "fill": {
              "color": "#EBF0F8"
             },
             "line": {
              "color": "white"
             }
            },
            "header": {
             "fill": {
              "color": "#C8D4E3"
             },
             "line": {
              "color": "white"
             }
            },
            "type": "table"
           }
          ]
         },
         "layout": {
          "annotationdefaults": {
           "arrowcolor": "#2a3f5f",
           "arrowhead": 0,
           "arrowwidth": 1
          },
          "autotypenumbers": "strict",
          "coloraxis": {
           "colorbar": {
            "outlinewidth": 0,
            "ticks": ""
           }
          },
          "colorscale": {
           "diverging": [
            [
             0,
             "#8e0152"
            ],
            [
             0.1,
             "#c51b7d"
            ],
            [
             0.2,
             "#de77ae"
            ],
            [
             0.3,
             "#f1b6da"
            ],
            [
             0.4,
             "#fde0ef"
            ],
            [
             0.5,
             "#f7f7f7"
            ],
            [
             0.6,
             "#e6f5d0"
            ],
            [
             0.7,
             "#b8e186"
            ],
            [
             0.8,
             "#7fbc41"
            ],
            [
             0.9,
             "#4d9221"
            ],
            [
             1,
             "#276419"
            ]
           ],
           "sequential": [
            [
             0,
             "#0d0887"
            ],
            [
             0.1111111111111111,
             "#46039f"
            ],
            [
             0.2222222222222222,
             "#7201a8"
            ],
            [
             0.3333333333333333,
             "#9c179e"
            ],
            [
             0.4444444444444444,
             "#bd3786"
            ],
            [
             0.5555555555555556,
             "#d8576b"
            ],
            [
             0.6666666666666666,
             "#ed7953"
            ],
            [
             0.7777777777777778,
             "#fb9f3a"
            ],
            [
             0.8888888888888888,
             "#fdca26"
            ],
            [
             1,
             "#f0f921"
            ]
           ],
           "sequentialminus": [
            [
             0,
             "#0d0887"
            ],
            [
             0.1111111111111111,
             "#46039f"
            ],
            [
             0.2222222222222222,
             "#7201a8"
            ],
            [
             0.3333333333333333,
             "#9c179e"
            ],
            [
             0.4444444444444444,
             "#bd3786"
            ],
            [
             0.5555555555555556,
             "#d8576b"
            ],
            [
             0.6666666666666666,
             "#ed7953"
            ],
            [
             0.7777777777777778,
             "#fb9f3a"
            ],
            [
             0.8888888888888888,
             "#fdca26"
            ],
            [
             1,
             "#f0f921"
            ]
           ]
          },
          "colorway": [
           "#636efa",
           "#EF553B",
           "#00cc96",
           "#ab63fa",
           "#FFA15A",
           "#19d3f3",
           "#FF6692",
           "#B6E880",
           "#FF97FF",
           "#FECB52"
          ],
          "font": {
           "color": "#2a3f5f"
          },
          "geo": {
           "bgcolor": "white",
           "lakecolor": "white",
           "landcolor": "#E5ECF6",
           "showlakes": true,
           "showland": true,
           "subunitcolor": "white"
          },
          "hoverlabel": {
           "align": "left"
          },
          "hovermode": "closest",
          "mapbox": {
           "style": "light"
          },
          "paper_bgcolor": "white",
          "plot_bgcolor": "#E5ECF6",
          "polar": {
           "angularaxis": {
            "gridcolor": "white",
            "linecolor": "white",
            "ticks": ""
           },
           "bgcolor": "#E5ECF6",
           "radialaxis": {
            "gridcolor": "white",
            "linecolor": "white",
            "ticks": ""
           }
          },
          "scene": {
           "xaxis": {
            "backgroundcolor": "#E5ECF6",
            "gridcolor": "white",
            "gridwidth": 2,
            "linecolor": "white",
            "showbackground": true,
            "ticks": "",
            "zerolinecolor": "white"
           },
           "yaxis": {
            "backgroundcolor": "#E5ECF6",
            "gridcolor": "white",
            "gridwidth": 2,
            "linecolor": "white",
            "showbackground": true,
            "ticks": "",
            "zerolinecolor": "white"
           },
           "zaxis": {
            "backgroundcolor": "#E5ECF6",
            "gridcolor": "white",
            "gridwidth": 2,
            "linecolor": "white",
            "showbackground": true,
            "ticks": "",
            "zerolinecolor": "white"
           }
          },
          "shapedefaults": {
           "line": {
            "color": "#2a3f5f"
           }
          },
          "ternary": {
           "aaxis": {
            "gridcolor": "white",
            "linecolor": "white",
            "ticks": ""
           },
           "baxis": {
            "gridcolor": "white",
            "linecolor": "white",
            "ticks": ""
           },
           "bgcolor": "#E5ECF6",
           "caxis": {
            "gridcolor": "white",
            "linecolor": "white",
            "ticks": ""
           }
          },
          "title": {
           "x": 0.05
          },
          "xaxis": {
           "automargin": true,
           "gridcolor": "white",
           "linecolor": "white",
           "ticks": "",
           "title": {
            "standoff": 15
           },
           "zerolinecolor": "white",
           "zerolinewidth": 2
          },
          "yaxis": {
           "automargin": true,
           "gridcolor": "white",
           "linecolor": "white",
           "ticks": "",
           "title": {
            "standoff": 15
           },
           "zerolinecolor": "white",
           "zerolinewidth": 2
          }
         }
        },
        "width": 700,
        "xaxis": {
         "anchor": "y",
         "domain": [
          0,
          1
         ],
         "title": {
          "text": "variable"
         }
        },
        "yaxis": {
         "anchor": "x",
         "domain": [
          0,
          1
         ],
         "title": {
          "text": "value"
         }
        }
       }
      },
      "text/html": [
       "<div>                            <div id=\"c9c6d28a-7bef-405c-96b1-6ba93352989f\" class=\"plotly-graph-div\" style=\"height:400px; width:700px;\"></div>            <script type=\"text/javascript\">                require([\"plotly\"], function(Plotly) {                    window.PLOTLYENV=window.PLOTLYENV || {};                                    if (document.getElementById(\"c9c6d28a-7bef-405c-96b1-6ba93352989f\")) {                    Plotly.newPlot(                        \"c9c6d28a-7bef-405c-96b1-6ba93352989f\",                        [{\"alignmentgroup\":\"True\",\"hovertemplate\":\"variable=%{x}<br>value=%{y}<extra></extra>\",\"legendgroup\":\"\",\"marker\":{\"color\":\"#636efa\"},\"name\":\"\",\"notched\":false,\"offsetgroup\":\"\",\"orientation\":\"v\",\"showlegend\":false,\"x\":[\"wheel_base\",\"wheel_base\",\"wheel_base\",\"wheel_base\",\"wheel_base\",\"wheel_base\",\"wheel_base\",\"wheel_base\",\"wheel_base\",\"wheel_base\",\"wheel_base\",\"wheel_base\",\"wheel_base\",\"wheel_base\",\"wheel_base\",\"wheel_base\",\"wheel_base\",\"wheel_base\",\"wheel_base\",\"wheel_base\",\"wheel_base\",\"wheel_base\",\"wheel_base\",\"wheel_base\",\"wheel_base\",\"wheel_base\",\"wheel_base\",\"wheel_base\",\"wheel_base\",\"wheel_base\",\"wheel_base\",\"wheel_base\",\"wheel_base\",\"wheel_base\",\"wheel_base\",\"wheel_base\",\"wheel_base\",\"wheel_base\",\"wheel_base\",\"wheel_base\",\"wheel_base\",\"wheel_base\",\"wheel_base\",\"wheel_base\",\"wheel_base\",\"wheel_base\",\"wheel_base\",\"wheel_base\",\"wheel_base\",\"wheel_base\",\"wheel_base\",\"wheel_base\",\"wheel_base\",\"wheel_base\",\"wheel_base\",\"wheel_base\",\"wheel_base\",\"wheel_base\",\"wheel_base\",\"wheel_base\",\"wheel_base\",\"wheel_base\",\"wheel_base\",\"wheel_base\",\"wheel_base\",\"wheel_base\",\"wheel_base\",\"wheel_base\",\"wheel_base\",\"wheel_base\",\"wheel_base\",\"wheel_base\",\"wheel_base\",\"wheel_base\",\"wheel_base\",\"wheel_base\",\"wheel_base\",\"wheel_base\",\"wheel_base\",\"wheel_base\",\"wheel_base\",\"wheel_base\",\"wheel_base\",\"wheel_base\",\"wheel_base\",\"wheel_base\",\"wheel_base\",\"wheel_base\",\"wheel_base\",\"wheel_base\",\"wheel_base\",\"wheel_base\",\"wheel_base\",\"wheel_base\",\"wheel_base\",\"wheel_base\",\"wheel_base\",\"wheel_base\",\"wheel_base\",\"wheel_base\",\"wheel_base\",\"wheel_base\",\"wheel_base\",\"wheel_base\",\"wheel_base\",\"wheel_base\",\"wheel_base\",\"wheel_base\",\"wheel_base\",\"wheel_base\",\"wheel_base\",\"wheel_base\",\"wheel_base\",\"wheel_base\",\"wheel_base\",\"wheel_base\",\"wheel_base\",\"wheel_base\",\"wheel_base\",\"wheel_base\",\"wheel_base\",\"wheel_base\",\"wheel_base\",\"wheel_base\",\"wheel_base\",\"wheel_base\",\"wheel_base\",\"wheel_base\",\"wheel_base\",\"wheel_base\",\"wheel_base\",\"wheel_base\",\"wheel_base\",\"wheel_base\",\"wheel_base\",\"wheel_base\",\"wheel_base\",\"wheel_base\",\"wheel_base\",\"wheel_base\",\"wheel_base\",\"wheel_base\",\"wheel_base\",\"wheel_base\",\"wheel_base\",\"wheel_base\",\"wheel_base\",\"wheel_base\",\"wheel_base\",\"wheel_base\",\"wheel_base\",\"wheel_base\",\"wheel_base\",\"wheel_base\",\"wheel_base\",\"wheel_base\",\"wheel_base\",\"wheel_base\",\"wheel_base\",\"wheel_base\",\"wheel_base\",\"wheel_base\",\"wheel_base\",\"wheel_base\",\"wheel_base\",\"wheel_base\",\"wheel_base\",\"wheel_base\",\"wheel_base\",\"wheel_base\",\"wheel_base\",\"wheel_base\",\"wheel_base\",\"wheel_base\",\"wheel_base\",\"wheel_base\",\"wheel_base\",\"wheel_base\",\"wheel_base\",\"wheel_base\",\"wheel_base\",\"wheel_base\",\"wheel_base\",\"wheel_base\",\"wheel_base\",\"wheel_base\",\"wheel_base\",\"wheel_base\",\"wheel_base\",\"wheel_base\",\"wheel_base\",\"wheel_base\",\"wheel_base\",\"wheel_base\",\"wheel_base\",\"wheel_base\",\"wheel_base\",\"wheel_base\",\"wheel_base\",\"wheel_base\",\"wheel_base\",\"wheel_base\",\"wheel_base\",\"curb_weight\",\"curb_weight\",\"curb_weight\",\"curb_weight\",\"curb_weight\",\"curb_weight\",\"curb_weight\",\"curb_weight\",\"curb_weight\",\"curb_weight\",\"curb_weight\",\"curb_weight\",\"curb_weight\",\"curb_weight\",\"curb_weight\",\"curb_weight\",\"curb_weight\",\"curb_weight\",\"curb_weight\",\"curb_weight\",\"curb_weight\",\"curb_weight\",\"curb_weight\",\"curb_weight\",\"curb_weight\",\"curb_weight\",\"curb_weight\",\"curb_weight\",\"curb_weight\",\"curb_weight\",\"curb_weight\",\"curb_weight\",\"curb_weight\",\"curb_weight\",\"curb_weight\",\"curb_weight\",\"curb_weight\",\"curb_weight\",\"curb_weight\",\"curb_weight\",\"curb_weight\",\"curb_weight\",\"curb_weight\",\"curb_weight\",\"curb_weight\",\"curb_weight\",\"curb_weight\",\"curb_weight\",\"curb_weight\",\"curb_weight\",\"curb_weight\",\"curb_weight\",\"curb_weight\",\"curb_weight\",\"curb_weight\",\"curb_weight\",\"curb_weight\",\"curb_weight\",\"curb_weight\",\"curb_weight\",\"curb_weight\",\"curb_weight\",\"curb_weight\",\"curb_weight\",\"curb_weight\",\"curb_weight\",\"curb_weight\",\"curb_weight\",\"curb_weight\",\"curb_weight\",\"curb_weight\",\"curb_weight\",\"curb_weight\",\"curb_weight\",\"curb_weight\",\"curb_weight\",\"curb_weight\",\"curb_weight\",\"curb_weight\",\"curb_weight\",\"curb_weight\",\"curb_weight\",\"curb_weight\",\"curb_weight\",\"curb_weight\",\"curb_weight\",\"curb_weight\",\"curb_weight\",\"curb_weight\",\"curb_weight\",\"curb_weight\",\"curb_weight\",\"curb_weight\",\"curb_weight\",\"curb_weight\",\"curb_weight\",\"curb_weight\",\"curb_weight\",\"curb_weight\",\"curb_weight\",\"curb_weight\",\"curb_weight\",\"curb_weight\",\"curb_weight\",\"curb_weight\",\"curb_weight\",\"curb_weight\",\"curb_weight\",\"curb_weight\",\"curb_weight\",\"curb_weight\",\"curb_weight\",\"curb_weight\",\"curb_weight\",\"curb_weight\",\"curb_weight\",\"curb_weight\",\"curb_weight\",\"curb_weight\",\"curb_weight\",\"curb_weight\",\"curb_weight\",\"curb_weight\",\"curb_weight\",\"curb_weight\",\"curb_weight\",\"curb_weight\",\"curb_weight\",\"curb_weight\",\"curb_weight\",\"curb_weight\",\"curb_weight\",\"curb_weight\",\"curb_weight\",\"curb_weight\",\"curb_weight\",\"curb_weight\",\"curb_weight\",\"curb_weight\",\"curb_weight\",\"curb_weight\",\"curb_weight\",\"curb_weight\",\"curb_weight\",\"curb_weight\",\"curb_weight\",\"curb_weight\",\"curb_weight\",\"curb_weight\",\"curb_weight\",\"curb_weight\",\"curb_weight\",\"curb_weight\",\"curb_weight\",\"curb_weight\",\"curb_weight\",\"curb_weight\",\"curb_weight\",\"curb_weight\",\"curb_weight\",\"curb_weight\",\"curb_weight\",\"curb_weight\",\"curb_weight\",\"curb_weight\",\"curb_weight\",\"curb_weight\",\"curb_weight\",\"curb_weight\",\"curb_weight\",\"curb_weight\",\"curb_weight\",\"curb_weight\",\"curb_weight\",\"curb_weight\",\"curb_weight\",\"curb_weight\",\"curb_weight\",\"curb_weight\",\"curb_weight\",\"curb_weight\",\"curb_weight\",\"curb_weight\",\"curb_weight\",\"curb_weight\",\"curb_weight\",\"curb_weight\",\"curb_weight\",\"curb_weight\",\"curb_weight\",\"curb_weight\",\"curb_weight\",\"curb_weight\",\"curb_weight\",\"curb_weight\",\"curb_weight\",\"curb_weight\",\"curb_weight\",\"curb_weight\",\"curb_weight\",\"curb_weight\",\"curb_weight\",\"curb_weight\",\"horsepower\",\"horsepower\",\"horsepower\",\"horsepower\",\"horsepower\",\"horsepower\",\"horsepower\",\"horsepower\",\"horsepower\",\"horsepower\",\"horsepower\",\"horsepower\",\"horsepower\",\"horsepower\",\"horsepower\",\"horsepower\",\"horsepower\",\"horsepower\",\"horsepower\",\"horsepower\",\"horsepower\",\"horsepower\",\"horsepower\",\"horsepower\",\"horsepower\",\"horsepower\",\"horsepower\",\"horsepower\",\"horsepower\",\"horsepower\",\"horsepower\",\"horsepower\",\"horsepower\",\"horsepower\",\"horsepower\",\"horsepower\",\"horsepower\",\"horsepower\",\"horsepower\",\"horsepower\",\"horsepower\",\"horsepower\",\"horsepower\",\"horsepower\",\"horsepower\",\"horsepower\",\"horsepower\",\"horsepower\",\"horsepower\",\"horsepower\",\"horsepower\",\"horsepower\",\"horsepower\",\"horsepower\",\"horsepower\",\"horsepower\",\"horsepower\",\"horsepower\",\"horsepower\",\"horsepower\",\"horsepower\",\"horsepower\",\"horsepower\",\"horsepower\",\"horsepower\",\"horsepower\",\"horsepower\",\"horsepower\",\"horsepower\",\"horsepower\",\"horsepower\",\"horsepower\",\"horsepower\",\"horsepower\",\"horsepower\",\"horsepower\",\"horsepower\",\"horsepower\",\"horsepower\",\"horsepower\",\"horsepower\",\"horsepower\",\"horsepower\",\"horsepower\",\"horsepower\",\"horsepower\",\"horsepower\",\"horsepower\",\"horsepower\",\"horsepower\",\"horsepower\",\"horsepower\",\"horsepower\",\"horsepower\",\"horsepower\",\"horsepower\",\"horsepower\",\"horsepower\",\"horsepower\",\"horsepower\",\"horsepower\",\"horsepower\",\"horsepower\",\"horsepower\",\"horsepower\",\"horsepower\",\"horsepower\",\"horsepower\",\"horsepower\",\"horsepower\",\"horsepower\",\"horsepower\",\"horsepower\",\"horsepower\",\"horsepower\",\"horsepower\",\"horsepower\",\"horsepower\",\"horsepower\",\"horsepower\",\"horsepower\",\"horsepower\",\"horsepower\",\"horsepower\",\"horsepower\",\"horsepower\",\"horsepower\",\"horsepower\",\"horsepower\",\"horsepower\",\"horsepower\",\"horsepower\",\"horsepower\",\"horsepower\",\"horsepower\",\"horsepower\",\"horsepower\",\"horsepower\",\"horsepower\",\"horsepower\",\"horsepower\",\"horsepower\",\"horsepower\",\"horsepower\",\"horsepower\",\"horsepower\",\"horsepower\",\"horsepower\",\"horsepower\",\"horsepower\",\"horsepower\",\"horsepower\",\"horsepower\",\"horsepower\",\"horsepower\",\"horsepower\",\"horsepower\",\"horsepower\",\"horsepower\",\"horsepower\",\"horsepower\",\"horsepower\",\"horsepower\",\"horsepower\",\"horsepower\",\"horsepower\",\"horsepower\",\"horsepower\",\"horsepower\",\"horsepower\",\"horsepower\",\"horsepower\",\"horsepower\",\"horsepower\",\"horsepower\",\"horsepower\",\"horsepower\",\"horsepower\",\"horsepower\",\"horsepower\",\"horsepower\",\"horsepower\",\"horsepower\",\"horsepower\",\"horsepower\",\"horsepower\",\"horsepower\",\"horsepower\",\"horsepower\",\"horsepower\",\"horsepower\",\"horsepower\",\"horsepower\",\"horsepower\",\"horsepower\",\"horsepower\",\"horsepower\",\"horsepower\",\"horsepower\",\"horsepower\",\"horsepower\",\"horsepower\",\"horsepower\",\"length\",\"length\",\"length\",\"length\",\"length\",\"length\",\"length\",\"length\",\"length\",\"length\",\"length\",\"length\",\"length\",\"length\",\"length\",\"length\",\"length\",\"length\",\"length\",\"length\",\"length\",\"length\",\"length\",\"length\",\"length\",\"length\",\"length\",\"length\",\"length\",\"length\",\"length\",\"length\",\"length\",\"length\",\"length\",\"length\",\"length\",\"length\",\"length\",\"length\",\"length\",\"length\",\"length\",\"length\",\"length\",\"length\",\"length\",\"length\",\"length\",\"length\",\"length\",\"length\",\"length\",\"length\",\"length\",\"length\",\"length\",\"length\",\"length\",\"length\",\"length\",\"length\",\"length\",\"length\",\"length\",\"length\",\"length\",\"length\",\"length\",\"length\",\"length\",\"length\",\"length\",\"length\",\"length\",\"length\",\"length\",\"length\",\"length\",\"length\",\"length\",\"length\",\"length\",\"length\",\"length\",\"length\",\"length\",\"length\",\"length\",\"length\",\"length\",\"length\",\"length\",\"length\",\"length\",\"length\",\"length\",\"length\",\"length\",\"length\",\"length\",\"length\",\"length\",\"length\",\"length\",\"length\",\"length\",\"length\",\"length\",\"length\",\"length\",\"length\",\"length\",\"length\",\"length\",\"length\",\"length\",\"length\",\"length\",\"length\",\"length\",\"length\",\"length\",\"length\",\"length\",\"length\",\"length\",\"length\",\"length\",\"length\",\"length\",\"length\",\"length\",\"length\",\"length\",\"length\",\"length\",\"length\",\"length\",\"length\",\"length\",\"length\",\"length\",\"length\",\"length\",\"length\",\"length\",\"length\",\"length\",\"length\",\"length\",\"length\",\"length\",\"length\",\"length\",\"length\",\"length\",\"length\",\"length\",\"length\",\"length\",\"length\",\"length\",\"length\",\"length\",\"length\",\"length\",\"length\",\"length\",\"length\",\"length\",\"length\",\"length\",\"length\",\"length\",\"length\",\"length\",\"length\",\"length\",\"length\",\"length\",\"length\",\"length\",\"length\",\"length\",\"length\",\"length\",\"length\",\"length\",\"length\",\"length\",\"length\",\"length\",\"length\",\"length\",\"length\",\"length\",\"length\",\"length\",\"length\",\"length\",\"length\",\"length\",\"width\",\"width\",\"width\",\"width\",\"width\",\"width\",\"width\",\"width\",\"width\",\"width\",\"width\",\"width\",\"width\",\"width\",\"width\",\"width\",\"width\",\"width\",\"width\",\"width\",\"width\",\"width\",\"width\",\"width\",\"width\",\"width\",\"width\",\"width\",\"width\",\"width\",\"width\",\"width\",\"width\",\"width\",\"width\",\"width\",\"width\",\"width\",\"width\",\"width\",\"width\",\"width\",\"width\",\"width\",\"width\",\"width\",\"width\",\"width\",\"width\",\"width\",\"width\",\"width\",\"width\",\"width\",\"width\",\"width\",\"width\",\"width\",\"width\",\"width\",\"width\",\"width\",\"width\",\"width\",\"width\",\"width\",\"width\",\"width\",\"width\",\"width\",\"width\",\"width\",\"width\",\"width\",\"width\",\"width\",\"width\",\"width\",\"width\",\"width\",\"width\",\"width\",\"width\",\"width\",\"width\",\"width\",\"width\",\"width\",\"width\",\"width\",\"width\",\"width\",\"width\",\"width\",\"width\",\"width\",\"width\",\"width\",\"width\",\"width\",\"width\",\"width\",\"width\",\"width\",\"width\",\"width\",\"width\",\"width\",\"width\",\"width\",\"width\",\"width\",\"width\",\"width\",\"width\",\"width\",\"width\",\"width\",\"width\",\"width\",\"width\",\"width\",\"width\",\"width\",\"width\",\"width\",\"width\",\"width\",\"width\",\"width\",\"width\",\"width\",\"width\",\"width\",\"width\",\"width\",\"width\",\"width\",\"width\",\"width\",\"width\",\"width\",\"width\",\"width\",\"width\",\"width\",\"width\",\"width\",\"width\",\"width\",\"width\",\"width\",\"width\",\"width\",\"width\",\"width\",\"width\",\"width\",\"width\",\"width\",\"width\",\"width\",\"width\",\"width\",\"width\",\"width\",\"width\",\"width\",\"width\",\"width\",\"width\",\"width\",\"width\",\"width\",\"width\",\"width\",\"width\",\"width\",\"width\",\"width\",\"width\",\"width\",\"width\",\"width\",\"width\",\"width\",\"width\",\"width\",\"width\",\"width\",\"width\",\"width\",\"width\",\"width\",\"width\",\"width\",\"width\",\"width\",\"width\",\"width\",\"width\",\"width\",\"width\",\"height\",\"height\",\"height\",\"height\",\"height\",\"height\",\"height\",\"height\",\"height\",\"height\",\"height\",\"height\",\"height\",\"height\",\"height\",\"height\",\"height\",\"height\",\"height\",\"height\",\"height\",\"height\",\"height\",\"height\",\"height\",\"height\",\"height\",\"height\",\"height\",\"height\",\"height\",\"height\",\"height\",\"height\",\"height\",\"height\",\"height\",\"height\",\"height\",\"height\",\"height\",\"height\",\"height\",\"height\",\"height\",\"height\",\"height\",\"height\",\"height\",\"height\",\"height\",\"height\",\"height\",\"height\",\"height\",\"height\",\"height\",\"height\",\"height\",\"height\",\"height\",\"height\",\"height\",\"height\",\"height\",\"height\",\"height\",\"height\",\"height\",\"height\",\"height\",\"height\",\"height\",\"height\",\"height\",\"height\",\"height\",\"height\",\"height\",\"height\",\"height\",\"height\",\"height\",\"height\",\"height\",\"height\",\"height\",\"height\",\"height\",\"height\",\"height\",\"height\",\"height\",\"height\",\"height\",\"height\",\"height\",\"height\",\"height\",\"height\",\"height\",\"height\",\"height\",\"height\",\"height\",\"height\",\"height\",\"height\",\"height\",\"height\",\"height\",\"height\",\"height\",\"height\",\"height\",\"height\",\"height\",\"height\",\"height\",\"height\",\"height\",\"height\",\"height\",\"height\",\"height\",\"height\",\"height\",\"height\",\"height\",\"height\",\"height\",\"height\",\"height\",\"height\",\"height\",\"height\",\"height\",\"height\",\"height\",\"height\",\"height\",\"height\",\"height\",\"height\",\"height\",\"height\",\"height\",\"height\",\"height\",\"height\",\"height\",\"height\",\"height\",\"height\",\"height\",\"height\",\"height\",\"height\",\"height\",\"height\",\"height\",\"height\",\"height\",\"height\",\"height\",\"height\",\"height\",\"height\",\"height\",\"height\",\"height\",\"height\",\"height\",\"height\",\"height\",\"height\",\"height\",\"height\",\"height\",\"height\",\"height\",\"height\",\"height\",\"height\",\"height\",\"height\",\"height\",\"height\",\"height\",\"height\",\"height\",\"height\",\"height\",\"height\",\"height\",\"height\",\"height\",\"height\",\"height\",\"height\",\"height\",\"height\",\"height\",\"city_mpg\",\"city_mpg\",\"city_mpg\",\"city_mpg\",\"city_mpg\",\"city_mpg\",\"city_mpg\",\"city_mpg\",\"city_mpg\",\"city_mpg\",\"city_mpg\",\"city_mpg\",\"city_mpg\",\"city_mpg\",\"city_mpg\",\"city_mpg\",\"city_mpg\",\"city_mpg\",\"city_mpg\",\"city_mpg\",\"city_mpg\",\"city_mpg\",\"city_mpg\",\"city_mpg\",\"city_mpg\",\"city_mpg\",\"city_mpg\",\"city_mpg\",\"city_mpg\",\"city_mpg\",\"city_mpg\",\"city_mpg\",\"city_mpg\",\"city_mpg\",\"city_mpg\",\"city_mpg\",\"city_mpg\",\"city_mpg\",\"city_mpg\",\"city_mpg\",\"city_mpg\",\"city_mpg\",\"city_mpg\",\"city_mpg\",\"city_mpg\",\"city_mpg\",\"city_mpg\",\"city_mpg\",\"city_mpg\",\"city_mpg\",\"city_mpg\",\"city_mpg\",\"city_mpg\",\"city_mpg\",\"city_mpg\",\"city_mpg\",\"city_mpg\",\"city_mpg\",\"city_mpg\",\"city_mpg\",\"city_mpg\",\"city_mpg\",\"city_mpg\",\"city_mpg\",\"city_mpg\",\"city_mpg\",\"city_mpg\",\"city_mpg\",\"city_mpg\",\"city_mpg\",\"city_mpg\",\"city_mpg\",\"city_mpg\",\"city_mpg\",\"city_mpg\",\"city_mpg\",\"city_mpg\",\"city_mpg\",\"city_mpg\",\"city_mpg\",\"city_mpg\",\"city_mpg\",\"city_mpg\",\"city_mpg\",\"city_mpg\",\"city_mpg\",\"city_mpg\",\"city_mpg\",\"city_mpg\",\"city_mpg\",\"city_mpg\",\"city_mpg\",\"city_mpg\",\"city_mpg\",\"city_mpg\",\"city_mpg\",\"city_mpg\",\"city_mpg\",\"city_mpg\",\"city_mpg\",\"city_mpg\",\"city_mpg\",\"city_mpg\",\"city_mpg\",\"city_mpg\",\"city_mpg\",\"city_mpg\",\"city_mpg\",\"city_mpg\",\"city_mpg\",\"city_mpg\",\"city_mpg\",\"city_mpg\",\"city_mpg\",\"city_mpg\",\"city_mpg\",\"city_mpg\",\"city_mpg\",\"city_mpg\",\"city_mpg\",\"city_mpg\",\"city_mpg\",\"city_mpg\",\"city_mpg\",\"city_mpg\",\"city_mpg\",\"city_mpg\",\"city_mpg\",\"city_mpg\",\"city_mpg\",\"city_mpg\",\"city_mpg\",\"city_mpg\",\"city_mpg\",\"city_mpg\",\"city_mpg\",\"city_mpg\",\"city_mpg\",\"city_mpg\",\"city_mpg\",\"city_mpg\",\"city_mpg\",\"city_mpg\",\"city_mpg\",\"city_mpg\",\"city_mpg\",\"city_mpg\",\"city_mpg\",\"city_mpg\",\"city_mpg\",\"city_mpg\",\"city_mpg\",\"city_mpg\",\"city_mpg\",\"city_mpg\",\"city_mpg\",\"city_mpg\",\"city_mpg\",\"city_mpg\",\"city_mpg\",\"city_mpg\",\"city_mpg\",\"city_mpg\",\"city_mpg\",\"city_mpg\",\"city_mpg\",\"city_mpg\",\"city_mpg\",\"city_mpg\",\"city_mpg\",\"city_mpg\",\"city_mpg\",\"city_mpg\",\"city_mpg\",\"city_mpg\",\"city_mpg\",\"city_mpg\",\"city_mpg\",\"city_mpg\",\"city_mpg\",\"city_mpg\",\"city_mpg\",\"city_mpg\",\"city_mpg\",\"city_mpg\",\"city_mpg\",\"city_mpg\",\"city_mpg\",\"city_mpg\",\"city_mpg\",\"city_mpg\",\"city_mpg\",\"city_mpg\",\"city_mpg\",\"city_mpg\",\"city_mpg\",\"city_mpg\",\"city_mpg\",\"city_mpg\",\"city_mpg\",\"city_mpg\",\"city_mpg\",\"city_mpg\",\"highway_mpg\",\"highway_mpg\",\"highway_mpg\",\"highway_mpg\",\"highway_mpg\",\"highway_mpg\",\"highway_mpg\",\"highway_mpg\",\"highway_mpg\",\"highway_mpg\",\"highway_mpg\",\"highway_mpg\",\"highway_mpg\",\"highway_mpg\",\"highway_mpg\",\"highway_mpg\",\"highway_mpg\",\"highway_mpg\",\"highway_mpg\",\"highway_mpg\",\"highway_mpg\",\"highway_mpg\",\"highway_mpg\",\"highway_mpg\",\"highway_mpg\",\"highway_mpg\",\"highway_mpg\",\"highway_mpg\",\"highway_mpg\",\"highway_mpg\",\"highway_mpg\",\"highway_mpg\",\"highway_mpg\",\"highway_mpg\",\"highway_mpg\",\"highway_mpg\",\"highway_mpg\",\"highway_mpg\",\"highway_mpg\",\"highway_mpg\",\"highway_mpg\",\"highway_mpg\",\"highway_mpg\",\"highway_mpg\",\"highway_mpg\",\"highway_mpg\",\"highway_mpg\",\"highway_mpg\",\"highway_mpg\",\"highway_mpg\",\"highway_mpg\",\"highway_mpg\",\"highway_mpg\",\"highway_mpg\",\"highway_mpg\",\"highway_mpg\",\"highway_mpg\",\"highway_mpg\",\"highway_mpg\",\"highway_mpg\",\"highway_mpg\",\"highway_mpg\",\"highway_mpg\",\"highway_mpg\",\"highway_mpg\",\"highway_mpg\",\"highway_mpg\",\"highway_mpg\",\"highway_mpg\",\"highway_mpg\",\"highway_mpg\",\"highway_mpg\",\"highway_mpg\",\"highway_mpg\",\"highway_mpg\",\"highway_mpg\",\"highway_mpg\",\"highway_mpg\",\"highway_mpg\",\"highway_mpg\",\"highway_mpg\",\"highway_mpg\",\"highway_mpg\",\"highway_mpg\",\"highway_mpg\",\"highway_mpg\",\"highway_mpg\",\"highway_mpg\",\"highway_mpg\",\"highway_mpg\",\"highway_mpg\",\"highway_mpg\",\"highway_mpg\",\"highway_mpg\",\"highway_mpg\",\"highway_mpg\",\"highway_mpg\",\"highway_mpg\",\"highway_mpg\",\"highway_mpg\",\"highway_mpg\",\"highway_mpg\",\"highway_mpg\",\"highway_mpg\",\"highway_mpg\",\"highway_mpg\",\"highway_mpg\",\"highway_mpg\",\"highway_mpg\",\"highway_mpg\",\"highway_mpg\",\"highway_mpg\",\"highway_mpg\",\"highway_mpg\",\"highway_mpg\",\"highway_mpg\",\"highway_mpg\",\"highway_mpg\",\"highway_mpg\",\"highway_mpg\",\"highway_mpg\",\"highway_mpg\",\"highway_mpg\",\"highway_mpg\",\"highway_mpg\",\"highway_mpg\",\"highway_mpg\",\"highway_mpg\",\"highway_mpg\",\"highway_mpg\",\"highway_mpg\",\"highway_mpg\",\"highway_mpg\",\"highway_mpg\",\"highway_mpg\",\"highway_mpg\",\"highway_mpg\",\"highway_mpg\",\"highway_mpg\",\"highway_mpg\",\"highway_mpg\",\"highway_mpg\",\"highway_mpg\",\"highway_mpg\",\"highway_mpg\",\"highway_mpg\",\"highway_mpg\",\"highway_mpg\",\"highway_mpg\",\"highway_mpg\",\"highway_mpg\",\"highway_mpg\",\"highway_mpg\",\"highway_mpg\",\"highway_mpg\",\"highway_mpg\",\"highway_mpg\",\"highway_mpg\",\"highway_mpg\",\"highway_mpg\",\"highway_mpg\",\"highway_mpg\",\"highway_mpg\",\"highway_mpg\",\"highway_mpg\",\"highway_mpg\",\"highway_mpg\",\"highway_mpg\",\"highway_mpg\",\"highway_mpg\",\"highway_mpg\",\"highway_mpg\",\"highway_mpg\",\"highway_mpg\",\"highway_mpg\",\"highway_mpg\",\"highway_mpg\",\"highway_mpg\",\"highway_mpg\",\"highway_mpg\",\"highway_mpg\",\"highway_mpg\",\"highway_mpg\",\"highway_mpg\",\"highway_mpg\",\"highway_mpg\",\"highway_mpg\",\"highway_mpg\",\"highway_mpg\",\"highway_mpg\",\"highway_mpg\",\"highway_mpg\",\"highway_mpg\",\"highway_mpg\",\"highway_mpg\",\"highway_mpg\",\"highway_mpg\",\"highway_mpg\",\"highway_mpg\",\"highway_mpg\",\"highway_mpg\",\"highway_mpg\",\"highway_mpg\"],\"x0\":\" \",\"xaxis\":\"x\",\"y\":[88.6,88.6,94.5,99.8,99.4,99.8,105.8,105.8,105.8,99.5,101.2,101.2,101.2,101.2,103.5,103.5,103.5,110.0,88.4,94.5,94.5,93.7,93.7,93.7,93.7,93.7,93.7,93.7,103.3,95.9,86.6,86.6,93.7,93.7,93.7,96.5,96.5,96.5,96.5,96.5,96.5,96.5,96.5,94.3,94.5,94.5,96.0,113.0,113.0,102.0,93.1,93.1,93.1,93.1,93.1,95.3,95.3,95.3,95.3,98.8,98.8,98.8,98.8,98.8,98.8,104.9,104.9,110.0,110.0,106.7,115.6,115.6,96.6,120.9,112.0,102.7,93.7,93.7,93.7,93.0,96.3,96.3,95.9,95.9,95.9,96.3,96.3,96.3,96.3,94.5,94.5,94.5,94.5,94.5,94.5,94.5,94.5,94.5,95.1,97.2,97.2,100.4,100.4,100.4,91.3,91.3,99.2,107.9,107.9,114.2,114.2,107.9,107.9,114.2,114.2,107.9,107.9,108.0,93.7,93.7,93.7,93.7,93.7,103.3,95.9,94.5,89.5,89.5,89.5,98.4,99.1,99.1,99.1,99.1,99.1,99.1,93.7,93.7,93.3,97.2,97.2,97.2,97.0,97.0,97.0,97.0,96.9,96.9,95.7,95.7,95.7,95.7,95.7,95.7,95.7,95.7,95.7,95.7,95.7,95.7,95.7,94.5,94.5,94.5,94.5,98.4,98.4,98.4,98.4,98.4,98.4,102.4,102.4,102.4,102.4,102.4,102.9,102.9,104.5,104.5,97.3,97.3,97.3,97.3,97.3,97.3,97.3,94.5,94.5,100.4,100.4,100.4,104.3,104.3,104.3,104.3,104.3,104.3,109.1,109.1,109.1,109.1,109.1,2548.0,2548.0,2823.0,2337.0,2824.0,2507.0,2844.0,2954.0,3086.0,3053.0,2395.0,2395.0,2710.0,2765.0,3055.0,3230.0,3380.0,3505.0,1488.0,1874.0,1909.0,1876.0,1876.0,2128.0,1967.0,1989.0,1989.0,2191.0,2535.0,2811.0,1713.0,1819.0,1837.0,1940.0,1956.0,2010.0,2024.0,2236.0,2289.0,2304.0,2372.0,2465.0,2293.0,2337.0,1874.0,1909.0,2734.0,4066.0,4066.0,3950.0,1890.0,1900.0,1905.0,1945.0,1950.0,2380.0,2380.0,2385.0,2500.0,2385.0,2410.0,2385.0,2410.0,2443.0,2425.0,2670.0,2700.0,3515.0,3750.0,3495.0,3770.0,3740.0,3685.0,3900.0,3715.0,2910.0,1918.0,1944.0,2004.0,2145.0,2370.0,2328.0,2833.0,2921.0,2926.0,2365.0,2405.0,2403.0,2403.0,1889.0,2017.0,1918.0,1938.0,2024.0,1951.0,2028.0,1971.0,2037.0,2008.0,2324.0,2302.0,3095.0,3296.0,3060.0,3071.0,3139.0,3139.0,3020.0,3197.0,3230.0,3430.0,3075.0,3252.0,3285.0,3485.0,3075.0,3252.0,3130.0,1918.0,2128.0,1967.0,1989.0,2191.0,2535.0,2818.0,2778.0,2756.0,2756.0,2800.0,3366.0,2658.0,2695.0,2707.0,2758.0,2808.0,2847.0,2050.0,2120.0,2240.0,2145.0,2190.0,2340.0,2385.0,2510.0,2290.0,2455.0,2420.0,2650.0,1985.0,2040.0,2015.0,2280.0,2290.0,3110.0,2081.0,2109.0,2275.0,2275.0,2094.0,2122.0,2140.0,2169.0,2204.0,2265.0,2300.0,2540.0,2536.0,2551.0,2679.0,2714.0,2975.0,2326.0,2480.0,2414.0,2414.0,2458.0,2976.0,3016.0,3131.0,3151.0,2261.0,2209.0,2264.0,2212.0,2275.0,2319.0,2300.0,2254.0,2221.0,2661.0,2579.0,2563.0,2912.0,3034.0,2935.0,3042.0,3045.0,3157.0,2952.0,3049.0,3012.0,3217.0,3062.0,111.0,111.0,154.0,102.0,115.0,110.0,110.0,110.0,140.0,160.0,101.0,101.0,121.0,121.0,121.0,182.0,182.0,182.0,48.0,70.0,70.0,68.0,68.0,102.0,68.0,68.0,68.0,102.0,88.0,145.0,58.0,76.0,60.0,76.0,76.0,76.0,76.0,86.0,86.0,86.0,86.0,101.0,100.0,78.0,70.0,70.0,90.0,176.0,176.0,262.0,68.0,68.0,68.0,68.0,68.0,101.0,101.0,101.0,135.0,84.0,84.0,84.0,84.0,64.0,84.0,120.0,72.0,123.0,123.0,123.0,123.0,155.0,155.0,184.0,184.0,175.0,68.0,68.0,68.0,102.0,116.0,88.0,145.0,145.0,145.0,88.0,88.0,116.0,116.0,69.0,55.0,69.0,69.0,69.0,69.0,69.0,69.0,69.0,69.0,97.0,97.0,152.0,152.0,152.0,160.0,200.0,160.0,97.0,95.0,97.0,95.0,95.0,95.0,95.0,95.0,97.0,95.0,142.0,68.0,102.0,68.0,68.0,68.0,88.0,145.0,143.0,207.0,207.0,207.0,288.0,110.0,110.0,110.0,110.0,160.0,160.0,69.0,73.0,73.0,82.0,82.0,94.0,82.0,111.0,82.0,94.0,82.0,111.0,62.0,62.0,62.0,62.0,62.0,62.0,70.0,70.0,56.0,56.0,70.0,70.0,70.0,70.0,70.0,112.0,112.0,116.0,116.0,116.0,116.0,116.0,116.0,92.0,73.0,92.0,92.0,92.0,161.0,161.0,156.0,156.0,52.0,85.0,52.0,85.0,85.0,68.0,100.0,90.0,90.0,110.0,68.0,88.0,114.0,114.0,114.0,114.0,162.0,162.0,114.0,160.0,134.0,106.0,114.0,168.8,168.8,171.2,176.6,176.6,177.3,192.7,192.7,192.7,178.2,176.8,176.8,176.8,176.8,189.0,189.0,193.8,197.0,141.1,155.9,158.8,157.3,157.3,157.3,157.3,157.3,157.3,157.3,174.6,173.2,144.6,144.6,150.0,150.0,150.0,163.4,157.1,167.5,167.5,175.4,175.4,175.4,169.1,170.7,155.9,155.9,172.6,199.6,199.6,191.7,159.1,159.1,159.1,166.8,166.8,169.0,169.0,169.0,169.0,177.8,177.8,177.8,177.8,177.8,177.8,175.0,175.0,190.9,190.9,187.5,202.6,202.6,180.3,208.1,199.2,178.4,157.3,157.3,157.3,157.3,173.0,173.0,173.2,173.2,173.2,172.4,172.4,172.4,172.4,165.3,165.3,165.3,165.3,170.2,165.3,165.6,165.3,170.2,162.4,173.4,173.4,181.7,184.6,184.6,170.7,170.7,178.5,186.7,186.7,198.9,198.9,186.7,186.7,198.9,198.9,186.7,186.7,186.7,157.3,157.3,157.3,167.3,167.3,174.6,173.2,168.9,168.9,168.9,168.9,175.7,186.6,186.6,186.6,186.6,186.6,186.6,156.9,157.9,157.3,172.0,172.0,172.0,172.0,172.0,173.5,173.5,173.6,173.6,158.7,158.7,158.7,169.7,169.7,169.7,166.3,166.3,166.3,166.3,166.3,166.3,166.3,168.7,168.7,168.7,168.7,176.2,176.2,176.2,176.2,176.2,176.2,175.6,175.6,175.6,175.6,175.6,183.5,183.5,187.8,187.8,171.7,171.7,171.7,171.7,171.7,171.7,171.7,159.3,165.7,180.2,180.2,183.1,188.8,188.8,188.8,188.8,188.8,188.8,188.8,188.8,188.8,188.8,188.8,64.1,64.1,65.5,66.2,66.4,66.3,71.4,71.4,71.4,67.9,64.8,64.8,64.8,64.8,66.9,66.9,67.9,70.9,60.3,63.6,63.6,63.8,63.8,63.8,63.8,63.8,63.8,63.8,64.6,66.3,63.9,63.9,64.0,64.0,64.0,64.0,63.9,65.2,65.2,65.2,62.5,65.2,66.0,61.8,63.6,63.6,65.2,69.6,69.6,70.6,64.2,64.2,64.2,64.2,64.2,65.7,65.7,65.7,65.7,66.5,66.5,66.5,66.5,66.5,66.5,66.1,66.1,70.3,70.3,70.3,71.7,71.7,70.5,71.7,72.0,68.0,64.4,64.4,64.4,63.8,65.4,65.4,66.3,66.3,66.3,65.4,65.4,65.4,65.4,63.8,63.8,63.8,63.8,63.8,63.8,63.8,63.8,63.8,63.8,65.2,65.2,66.5,66.5,66.5,67.9,67.9,67.9,68.4,68.4,68.4,68.4,68.4,68.4,68.4,68.4,68.4,68.4,68.3,63.8,63.8,63.8,63.8,63.8,64.6,66.3,68.3,65.0,65.0,65.0,72.3,66.5,66.5,66.5,66.5,66.5,66.5,63.4,63.6,63.8,65.4,65.4,65.4,65.4,65.4,65.4,65.4,65.4,65.4,63.6,63.6,63.6,63.6,63.6,63.6,64.4,64.4,64.4,64.4,64.4,64.4,64.4,64.0,64.0,64.0,64.0,65.6,65.6,65.6,65.6,65.6,65.6,66.5,66.5,66.5,66.5,66.5,67.7,67.7,66.5,66.5,65.5,65.5,65.5,65.5,65.5,65.5,65.5,64.2,64.0,66.9,66.9,66.9,67.2,67.2,67.2,67.2,67.2,67.2,68.9,68.8,68.9,68.9,68.9,48.8,48.8,52.4,54.3,54.3,53.1,55.7,55.7,55.9,52.0,54.3,54.3,54.3,54.3,55.7,55.7,53.7,56.3,53.2,52.0,52.0,50.8,50.8,50.8,50.6,50.6,50.6,50.6,59.8,50.2,50.8,50.8,52.6,52.6,52.6,54.5,58.3,53.3,53.3,54.1,54.1,54.1,51.0,53.5,52.0,52.0,51.4,52.8,52.8,47.8,54.1,54.1,54.1,54.1,54.1,49.6,49.6,49.6,49.6,53.7,55.5,53.7,55.5,55.5,55.5,54.4,54.4,56.5,58.7,54.9,56.3,56.5,50.8,56.7,55.4,54.8,50.8,50.8,50.8,50.8,49.4,49.4,50.2,50.2,50.2,51.6,51.6,51.6,51.6,54.5,54.5,54.5,54.5,53.5,54.5,53.3,54.5,53.5,53.3,54.7,54.7,55.1,56.1,55.1,49.7,49.7,49.7,56.7,56.7,58.7,58.7,56.7,56.7,56.7,58.7,56.7,56.7,56.0,50.8,50.8,50.6,50.8,50.8,59.8,50.2,50.2,51.6,51.6,51.6,50.5,56.1,56.1,56.1,56.1,56.1,56.1,53.7,53.7,55.7,52.5,52.5,52.5,54.3,54.3,53.0,53.0,54.9,54.9,54.5,54.5,54.5,59.1,59.1,59.1,53.0,52.8,53.0,52.8,53.0,52.8,52.8,52.6,52.6,52.6,52.6,52.0,52.0,52.0,52.0,52.0,53.0,54.9,54.9,53.9,54.9,53.9,52.0,52.0,54.1,54.1,55.7,55.7,55.7,55.7,55.7,55.7,55.7,55.6,51.4,55.1,55.1,55.1,56.2,57.5,56.2,57.5,56.2,57.5,55.5,55.5,55.5,55.5,55.5,21.0,21.0,19.0,24.0,18.0,19.0,19.0,19.0,17.0,16.0,23.0,23.0,21.0,21.0,20.0,16.0,16.0,15.0,47.0,38.0,38.0,37.0,31.0,24.0,31.0,31.0,31.0,24.0,24.0,19.0,49.0,31.0,38.0,30.0,30.0,30.0,30.0,27.0,27.0,27.0,27.0,24.0,25.0,24.0,38.0,38.0,24.0,15.0,15.0,13.0,30.0,31.0,31.0,31.0,31.0,17.0,17.0,17.0,16.0,26.0,26.0,26.0,26.0,36.0,26.0,19.0,31.0,22.0,22.0,22.0,22.0,16.0,16.0,14.0,14.0,19.0,37.0,31.0,31.0,24.0,23.0,25.0,19.0,19.0,19.0,25.0,25.0,23.0,23.0,31.0,45.0,31.0,31.0,31.0,31.0,31.0,31.0,31.0,31.0,27.0,27.0,17.0,17.0,19.0,19.0,17.0,19.0,19.0,28.0,19.0,25.0,19.0,28.0,19.0,25.0,19.0,28.0,18.0,37.0,24.0,31.0,31.0,31.0,24.0,19.0,19.0,17.0,17.0,17.0,17.0,21.0,21.0,21.0,21.0,19.0,19.0,31.0,26.0,26.0,32.0,28.0,26.0,24.0,24.0,28.0,25.0,23.0,23.0,35.0,31.0,31.0,31.0,27.0,27.0,30.0,30.0,34.0,38.0,38.0,28.0,28.0,29.0,29.0,26.0,26.0,24.0,24.0,24.0,24.0,24.0,24.0,29.0,30.0,27.0,27.0,27.0,20.0,19.0,20.0,19.0,37.0,27.0,37.0,27.0,27.0,37.0,26.0,24.0,24.0,19.0,33.0,25.0,23.0,23.0,24.0,24.0,17.0,17.0,23.0,19.0,18.0,26.0,19.0,27.0,27.0,26.0,30.0,22.0,25.0,25.0,25.0,20.0,22.0,29.0,29.0,28.0,28.0,25.0,22.0,22.0,20.0,53.0,43.0,43.0,41.0,38.0,30.0,38.0,38.0,38.0,30.0,30.0,24.0,54.0,38.0,42.0,34.0,34.0,34.0,34.0,33.0,33.0,33.0,33.0,28.0,31.0,29.0,43.0,43.0,29.0,19.0,19.0,17.0,31.0,38.0,38.0,38.0,38.0,23.0,23.0,23.0,23.0,32.0,32.0,32.0,32.0,42.0,32.0,27.0,39.0,25.0,25.0,25.0,25.0,18.0,18.0,16.0,16.0,24.0,41.0,38.0,38.0,30.0,30.0,32.0,24.0,24.0,24.0,32.0,32.0,30.0,30.0,37.0,50.0,37.0,37.0,37.0,37.0,37.0,37.0,37.0,37.0,34.0,34.0,22.0,22.0,25.0,25.0,23.0,25.0,24.0,33.0,24.0,25.0,24.0,33.0,24.0,25.0,24.0,33.0,24.0,41.0,30.0,38.0,38.0,38.0,30.0,24.0,27.0,25.0,25.0,25.0,28.0,28.0,28.0,28.0,28.0,26.0,26.0,36.0,31.0,31.0,37.0,33.0,32.0,25.0,29.0,32.0,31.0,29.0,23.0,39.0,38.0,38.0,37.0,32.0,32.0,37.0,37.0,36.0,47.0,47.0,34.0,34.0,34.0,34.0,29.0,29.0,30.0,30.0,30.0,30.0,30.0,30.0,34.0,33.0,32.0,32.0,32.0,24.0,24.0,24.0,24.0,46.0,34.0,46.0,34.0,34.0,42.0,32.0,29.0,29.0,24.0,38.0,31.0,28.0,28.0,28.0,28.0,22.0,22.0,28.0,25.0,23.0,27.0,25.0],\"y0\":\" \",\"yaxis\":\"y\",\"type\":\"box\"}],                        {\"template\":{\"data\":{\"histogram2dcontour\":[{\"type\":\"histogram2dcontour\",\"colorbar\":{\"outlinewidth\":0,\"ticks\":\"\"},\"colorscale\":[[0.0,\"#0d0887\"],[0.1111111111111111,\"#46039f\"],[0.2222222222222222,\"#7201a8\"],[0.3333333333333333,\"#9c179e\"],[0.4444444444444444,\"#bd3786\"],[0.5555555555555556,\"#d8576b\"],[0.6666666666666666,\"#ed7953\"],[0.7777777777777778,\"#fb9f3a\"],[0.8888888888888888,\"#fdca26\"],[1.0,\"#f0f921\"]]}],\"choropleth\":[{\"type\":\"choropleth\",\"colorbar\":{\"outlinewidth\":0,\"ticks\":\"\"}}],\"histogram2d\":[{\"type\":\"histogram2d\",\"colorbar\":{\"outlinewidth\":0,\"ticks\":\"\"},\"colorscale\":[[0.0,\"#0d0887\"],[0.1111111111111111,\"#46039f\"],[0.2222222222222222,\"#7201a8\"],[0.3333333333333333,\"#9c179e\"],[0.4444444444444444,\"#bd3786\"],[0.5555555555555556,\"#d8576b\"],[0.6666666666666666,\"#ed7953\"],[0.7777777777777778,\"#fb9f3a\"],[0.8888888888888888,\"#fdca26\"],[1.0,\"#f0f921\"]]}],\"heatmap\":[{\"type\":\"heatmap\",\"colorbar\":{\"outlinewidth\":0,\"ticks\":\"\"},\"colorscale\":[[0.0,\"#0d0887\"],[0.1111111111111111,\"#46039f\"],[0.2222222222222222,\"#7201a8\"],[0.3333333333333333,\"#9c179e\"],[0.4444444444444444,\"#bd3786\"],[0.5555555555555556,\"#d8576b\"],[0.6666666666666666,\"#ed7953\"],[0.7777777777777778,\"#fb9f3a\"],[0.8888888888888888,\"#fdca26\"],[1.0,\"#f0f921\"]]}],\"heatmapgl\":[{\"type\":\"heatmapgl\",\"colorbar\":{\"outlinewidth\":0,\"ticks\":\"\"},\"colorscale\":[[0.0,\"#0d0887\"],[0.1111111111111111,\"#46039f\"],[0.2222222222222222,\"#7201a8\"],[0.3333333333333333,\"#9c179e\"],[0.4444444444444444,\"#bd3786\"],[0.5555555555555556,\"#d8576b\"],[0.6666666666666666,\"#ed7953\"],[0.7777777777777778,\"#fb9f3a\"],[0.8888888888888888,\"#fdca26\"],[1.0,\"#f0f921\"]]}],\"contourcarpet\":[{\"type\":\"contourcarpet\",\"colorbar\":{\"outlinewidth\":0,\"ticks\":\"\"}}],\"contour\":[{\"type\":\"contour\",\"colorbar\":{\"outlinewidth\":0,\"ticks\":\"\"},\"colorscale\":[[0.0,\"#0d0887\"],[0.1111111111111111,\"#46039f\"],[0.2222222222222222,\"#7201a8\"],[0.3333333333333333,\"#9c179e\"],[0.4444444444444444,\"#bd3786\"],[0.5555555555555556,\"#d8576b\"],[0.6666666666666666,\"#ed7953\"],[0.7777777777777778,\"#fb9f3a\"],[0.8888888888888888,\"#fdca26\"],[1.0,\"#f0f921\"]]}],\"surface\":[{\"type\":\"surface\",\"colorbar\":{\"outlinewidth\":0,\"ticks\":\"\"},\"colorscale\":[[0.0,\"#0d0887\"],[0.1111111111111111,\"#46039f\"],[0.2222222222222222,\"#7201a8\"],[0.3333333333333333,\"#9c179e\"],[0.4444444444444444,\"#bd3786\"],[0.5555555555555556,\"#d8576b\"],[0.6666666666666666,\"#ed7953\"],[0.7777777777777778,\"#fb9f3a\"],[0.8888888888888888,\"#fdca26\"],[1.0,\"#f0f921\"]]}],\"mesh3d\":[{\"type\":\"mesh3d\",\"colorbar\":{\"outlinewidth\":0,\"ticks\":\"\"}}],\"scatter\":[{\"fillpattern\":{\"fillmode\":\"overlay\",\"size\":10,\"solidity\":0.2},\"type\":\"scatter\"}],\"parcoords\":[{\"type\":\"parcoords\",\"line\":{\"colorbar\":{\"outlinewidth\":0,\"ticks\":\"\"}}}],\"scatterpolargl\":[{\"type\":\"scatterpolargl\",\"marker\":{\"colorbar\":{\"outlinewidth\":0,\"ticks\":\"\"}}}],\"bar\":[{\"error_x\":{\"color\":\"#2a3f5f\"},\"error_y\":{\"color\":\"#2a3f5f\"},\"marker\":{\"line\":{\"color\":\"#E5ECF6\",\"width\":0.5},\"pattern\":{\"fillmode\":\"overlay\",\"size\":10,\"solidity\":0.2}},\"type\":\"bar\"}],\"scattergeo\":[{\"type\":\"scattergeo\",\"marker\":{\"colorbar\":{\"outlinewidth\":0,\"ticks\":\"\"}}}],\"scatterpolar\":[{\"type\":\"scatterpolar\",\"marker\":{\"colorbar\":{\"outlinewidth\":0,\"ticks\":\"\"}}}],\"histogram\":[{\"marker\":{\"pattern\":{\"fillmode\":\"overlay\",\"size\":10,\"solidity\":0.2}},\"type\":\"histogram\"}],\"scattergl\":[{\"type\":\"scattergl\",\"marker\":{\"colorbar\":{\"outlinewidth\":0,\"ticks\":\"\"}}}],\"scatter3d\":[{\"type\":\"scatter3d\",\"line\":{\"colorbar\":{\"outlinewidth\":0,\"ticks\":\"\"}},\"marker\":{\"colorbar\":{\"outlinewidth\":0,\"ticks\":\"\"}}}],\"scattermapbox\":[{\"type\":\"scattermapbox\",\"marker\":{\"colorbar\":{\"outlinewidth\":0,\"ticks\":\"\"}}}],\"scatterternary\":[{\"type\":\"scatterternary\",\"marker\":{\"colorbar\":{\"outlinewidth\":0,\"ticks\":\"\"}}}],\"scattercarpet\":[{\"type\":\"scattercarpet\",\"marker\":{\"colorbar\":{\"outlinewidth\":0,\"ticks\":\"\"}}}],\"carpet\":[{\"aaxis\":{\"endlinecolor\":\"#2a3f5f\",\"gridcolor\":\"white\",\"linecolor\":\"white\",\"minorgridcolor\":\"white\",\"startlinecolor\":\"#2a3f5f\"},\"baxis\":{\"endlinecolor\":\"#2a3f5f\",\"gridcolor\":\"white\",\"linecolor\":\"white\",\"minorgridcolor\":\"white\",\"startlinecolor\":\"#2a3f5f\"},\"type\":\"carpet\"}],\"table\":[{\"cells\":{\"fill\":{\"color\":\"#EBF0F8\"},\"line\":{\"color\":\"white\"}},\"header\":{\"fill\":{\"color\":\"#C8D4E3\"},\"line\":{\"color\":\"white\"}},\"type\":\"table\"}],\"barpolar\":[{\"marker\":{\"line\":{\"color\":\"#E5ECF6\",\"width\":0.5},\"pattern\":{\"fillmode\":\"overlay\",\"size\":10,\"solidity\":0.2}},\"type\":\"barpolar\"}],\"pie\":[{\"automargin\":true,\"type\":\"pie\"}]},\"layout\":{\"autotypenumbers\":\"strict\",\"colorway\":[\"#636efa\",\"#EF553B\",\"#00cc96\",\"#ab63fa\",\"#FFA15A\",\"#19d3f3\",\"#FF6692\",\"#B6E880\",\"#FF97FF\",\"#FECB52\"],\"font\":{\"color\":\"#2a3f5f\"},\"hovermode\":\"closest\",\"hoverlabel\":{\"align\":\"left\"},\"paper_bgcolor\":\"white\",\"plot_bgcolor\":\"#E5ECF6\",\"polar\":{\"bgcolor\":\"#E5ECF6\",\"angularaxis\":{\"gridcolor\":\"white\",\"linecolor\":\"white\",\"ticks\":\"\"},\"radialaxis\":{\"gridcolor\":\"white\",\"linecolor\":\"white\",\"ticks\":\"\"}},\"ternary\":{\"bgcolor\":\"#E5ECF6\",\"aaxis\":{\"gridcolor\":\"white\",\"linecolor\":\"white\",\"ticks\":\"\"},\"baxis\":{\"gridcolor\":\"white\",\"linecolor\":\"white\",\"ticks\":\"\"},\"caxis\":{\"gridcolor\":\"white\",\"linecolor\":\"white\",\"ticks\":\"\"}},\"coloraxis\":{\"colorbar\":{\"outlinewidth\":0,\"ticks\":\"\"}},\"colorscale\":{\"sequential\":[[0.0,\"#0d0887\"],[0.1111111111111111,\"#46039f\"],[0.2222222222222222,\"#7201a8\"],[0.3333333333333333,\"#9c179e\"],[0.4444444444444444,\"#bd3786\"],[0.5555555555555556,\"#d8576b\"],[0.6666666666666666,\"#ed7953\"],[0.7777777777777778,\"#fb9f3a\"],[0.8888888888888888,\"#fdca26\"],[1.0,\"#f0f921\"]],\"sequentialminus\":[[0.0,\"#0d0887\"],[0.1111111111111111,\"#46039f\"],[0.2222222222222222,\"#7201a8\"],[0.3333333333333333,\"#9c179e\"],[0.4444444444444444,\"#bd3786\"],[0.5555555555555556,\"#d8576b\"],[0.6666666666666666,\"#ed7953\"],[0.7777777777777778,\"#fb9f3a\"],[0.8888888888888888,\"#fdca26\"],[1.0,\"#f0f921\"]],\"diverging\":[[0,\"#8e0152\"],[0.1,\"#c51b7d\"],[0.2,\"#de77ae\"],[0.3,\"#f1b6da\"],[0.4,\"#fde0ef\"],[0.5,\"#f7f7f7\"],[0.6,\"#e6f5d0\"],[0.7,\"#b8e186\"],[0.8,\"#7fbc41\"],[0.9,\"#4d9221\"],[1,\"#276419\"]]},\"xaxis\":{\"gridcolor\":\"white\",\"linecolor\":\"white\",\"ticks\":\"\",\"title\":{\"standoff\":15},\"zerolinecolor\":\"white\",\"automargin\":true,\"zerolinewidth\":2},\"yaxis\":{\"gridcolor\":\"white\",\"linecolor\":\"white\",\"ticks\":\"\",\"title\":{\"standoff\":15},\"zerolinecolor\":\"white\",\"automargin\":true,\"zerolinewidth\":2},\"scene\":{\"xaxis\":{\"backgroundcolor\":\"#E5ECF6\",\"gridcolor\":\"white\",\"linecolor\":\"white\",\"showbackground\":true,\"ticks\":\"\",\"zerolinecolor\":\"white\",\"gridwidth\":2},\"yaxis\":{\"backgroundcolor\":\"#E5ECF6\",\"gridcolor\":\"white\",\"linecolor\":\"white\",\"showbackground\":true,\"ticks\":\"\",\"zerolinecolor\":\"white\",\"gridwidth\":2},\"zaxis\":{\"backgroundcolor\":\"#E5ECF6\",\"gridcolor\":\"white\",\"linecolor\":\"white\",\"showbackground\":true,\"ticks\":\"\",\"zerolinecolor\":\"white\",\"gridwidth\":2}},\"shapedefaults\":{\"line\":{\"color\":\"#2a3f5f\"}},\"annotationdefaults\":{\"arrowcolor\":\"#2a3f5f\",\"arrowhead\":0,\"arrowwidth\":1},\"geo\":{\"bgcolor\":\"white\",\"landcolor\":\"#E5ECF6\",\"subunitcolor\":\"white\",\"showland\":true,\"showlakes\":true,\"lakecolor\":\"white\"},\"title\":{\"x\":0.05},\"mapbox\":{\"style\":\"light\"}}},\"xaxis\":{\"anchor\":\"y\",\"domain\":[0.0,1.0],\"title\":{\"text\":\"variable\"}},\"yaxis\":{\"anchor\":\"x\",\"domain\":[0.0,1.0],\"title\":{\"text\":\"value\"}},\"legend\":{\"tracegroupgap\":0},\"margin\":{\"t\":60},\"boxmode\":\"group\",\"height\":400,\"width\":700},                        {\"responsive\": true}                    ).then(function(){\n",
       "                            \n",
       "var gd = document.getElementById('c9c6d28a-7bef-405c-96b1-6ba93352989f');\n",
       "var x = new MutationObserver(function (mutations, observer) {{\n",
       "        var display = window.getComputedStyle(gd).display;\n",
       "        if (!display || display === 'none') {{\n",
       "            console.log([gd, 'removed!']);\n",
       "            Plotly.purge(gd);\n",
       "            observer.disconnect();\n",
       "        }}\n",
       "}});\n",
       "\n",
       "// Listen for the removal of the full notebook cells\n",
       "var notebookContainer = gd.closest('#notebook-container');\n",
       "if (notebookContainer) {{\n",
       "    x.observe(notebookContainer, {childList: true});\n",
       "}}\n",
       "\n",
       "// Listen for the clearing of the current output cell\n",
       "var outputEl = gd.closest('.output');\n",
       "if (outputEl) {{\n",
       "    x.observe(outputEl, {childList: true});\n",
       "}}\n",
       "\n",
       "                        })                };                });            </script>        </div>"
      ]
     },
     "metadata": {},
     "output_type": "display_data"
    }
   ],
   "source": [
    "# Plotting the data\n",
    "more_data_long = pd.melt(more_data)\n",
    "\n",
    "px.box(more_data_long, x='variable', y='value', width=700, height=400)"
   ]
  },
  {
   "cell_type": "markdown",
   "metadata": {},
   "source": [
    "As you can see, variables do not share the measure scale. We must standardize them before applying PCA."
   ]
  },
  {
   "cell_type": "code",
   "execution_count": 23,
   "metadata": {},
   "outputs": [
    {
     "data": {
      "text/html": [
       "<div>\n",
       "<style scoped>\n",
       "    .dataframe tbody tr th:only-of-type {\n",
       "        vertical-align: middle;\n",
       "    }\n",
       "\n",
       "    .dataframe tbody tr th {\n",
       "        vertical-align: top;\n",
       "    }\n",
       "\n",
       "    .dataframe thead th {\n",
       "        text-align: right;\n",
       "    }\n",
       "</style>\n",
       "<table border=\"1\" class=\"dataframe\">\n",
       "  <thead>\n",
       "    <tr style=\"text-align: right;\">\n",
       "      <th></th>\n",
       "      <th>wheel_base</th>\n",
       "      <th>curb_weight</th>\n",
       "      <th>horsepower</th>\n",
       "      <th>length</th>\n",
       "      <th>width</th>\n",
       "      <th>height</th>\n",
       "      <th>city_mpg</th>\n",
       "      <th>highway_mpg</th>\n",
       "    </tr>\n",
       "  </thead>\n",
       "  <tbody>\n",
       "    <tr>\n",
       "      <th>0</th>\n",
       "      <td>-1.688467</td>\n",
       "      <td>-0.015177</td>\n",
       "      <td>0.170228</td>\n",
       "      <td>-0.420804</td>\n",
       "      <td>-0.838083</td>\n",
       "      <td>-2.024547</td>\n",
       "      <td>-0.647094</td>\n",
       "      <td>-0.543037</td>\n",
       "    </tr>\n",
       "    <tr>\n",
       "      <th>1</th>\n",
       "      <td>-1.688467</td>\n",
       "      <td>-0.015177</td>\n",
       "      <td>0.170228</td>\n",
       "      <td>-0.420804</td>\n",
       "      <td>-0.838083</td>\n",
       "      <td>-2.024547</td>\n",
       "      <td>-0.647094</td>\n",
       "      <td>-0.543037</td>\n",
       "    </tr>\n",
       "    <tr>\n",
       "      <th>2</th>\n",
       "      <td>-0.710151</td>\n",
       "      <td>0.511728</td>\n",
       "      <td>1.255637</td>\n",
       "      <td>-0.226550</td>\n",
       "      <td>-0.186775</td>\n",
       "      <td>-0.547224</td>\n",
       "      <td>-0.952228</td>\n",
       "      <td>-0.687894</td>\n",
       "    </tr>\n",
       "    <tr>\n",
       "      <th>3</th>\n",
       "      <td>0.168675</td>\n",
       "      <td>-0.419457</td>\n",
       "      <td>-0.056950</td>\n",
       "      <td>0.210521</td>\n",
       "      <td>0.138878</td>\n",
       "      <td>0.232474</td>\n",
       "      <td>-0.189394</td>\n",
       "      <td>-0.108465</td>\n",
       "    </tr>\n",
       "    <tr>\n",
       "      <th>4</th>\n",
       "      <td>0.102349</td>\n",
       "      <td>0.513644</td>\n",
       "      <td>0.271197</td>\n",
       "      <td>0.210521</td>\n",
       "      <td>0.231922</td>\n",
       "      <td>0.232474</td>\n",
       "      <td>-1.104795</td>\n",
       "      <td>-1.267324</td>\n",
       "    </tr>\n",
       "  </tbody>\n",
       "</table>\n",
       "</div>"
      ],
      "text/plain": [
       "   wheel_base  curb_weight  horsepower    length     width    height  \\\n",
       "0   -1.688467    -0.015177    0.170228 -0.420804 -0.838083 -2.024547   \n",
       "1   -1.688467    -0.015177    0.170228 -0.420804 -0.838083 -2.024547   \n",
       "2   -0.710151     0.511728    1.255637 -0.226550 -0.186775 -0.547224   \n",
       "3    0.168675    -0.419457   -0.056950  0.210521  0.138878  0.232474   \n",
       "4    0.102349     0.513644    0.271197  0.210521  0.231922  0.232474   \n",
       "\n",
       "   city_mpg  highway_mpg  \n",
       "0 -0.647094    -0.543037  \n",
       "1 -0.647094    -0.543037  \n",
       "2 -0.952228    -0.687894  \n",
       "3 -0.189394    -0.108465  \n",
       "4 -1.104795    -1.267324  "
      ]
     },
     "execution_count": 23,
     "metadata": {},
     "output_type": "execute_result"
    }
   ],
   "source": [
    "from sklearn.preprocessing import StandardScaler\n",
    "\n",
    "more_data_st = StandardScaler().fit_transform(more_data)\n",
    "more_data_st = pd.DataFrame(more_data_st, columns=more_data.columns)\n",
    "more_data_st.head()"
   ]
  },
  {
   "cell_type": "code",
   "execution_count": 24,
   "metadata": {},
   "outputs": [
    {
     "data": {
      "application/vnd.plotly.v1+json": {
       "config": {
        "plotlyServerURL": "https://plot.ly"
       },
       "data": [
        {
         "alignmentgroup": "True",
         "hovertemplate": "variable=%{x}<br>value=%{y}<extra></extra>",
         "legendgroup": "",
         "marker": {
          "color": "#636efa"
         },
         "name": "",
         "notched": false,
         "offsetgroup": "",
         "orientation": "v",
         "showlegend": false,
         "type": "box",
         "x": [
          "wheel_base",
          "wheel_base",
          "wheel_base",
          "wheel_base",
          "wheel_base",
          "wheel_base",
          "wheel_base",
          "wheel_base",
          "wheel_base",
          "wheel_base",
          "wheel_base",
          "wheel_base",
          "wheel_base",
          "wheel_base",
          "wheel_base",
          "wheel_base",
          "wheel_base",
          "wheel_base",
          "wheel_base",
          "wheel_base",
          "wheel_base",
          "wheel_base",
          "wheel_base",
          "wheel_base",
          "wheel_base",
          "wheel_base",
          "wheel_base",
          "wheel_base",
          "wheel_base",
          "wheel_base",
          "wheel_base",
          "wheel_base",
          "wheel_base",
          "wheel_base",
          "wheel_base",
          "wheel_base",
          "wheel_base",
          "wheel_base",
          "wheel_base",
          "wheel_base",
          "wheel_base",
          "wheel_base",
          "wheel_base",
          "wheel_base",
          "wheel_base",
          "wheel_base",
          "wheel_base",
          "wheel_base",
          "wheel_base",
          "wheel_base",
          "wheel_base",
          "wheel_base",
          "wheel_base",
          "wheel_base",
          "wheel_base",
          "wheel_base",
          "wheel_base",
          "wheel_base",
          "wheel_base",
          "wheel_base",
          "wheel_base",
          "wheel_base",
          "wheel_base",
          "wheel_base",
          "wheel_base",
          "wheel_base",
          "wheel_base",
          "wheel_base",
          "wheel_base",
          "wheel_base",
          "wheel_base",
          "wheel_base",
          "wheel_base",
          "wheel_base",
          "wheel_base",
          "wheel_base",
          "wheel_base",
          "wheel_base",
          "wheel_base",
          "wheel_base",
          "wheel_base",
          "wheel_base",
          "wheel_base",
          "wheel_base",
          "wheel_base",
          "wheel_base",
          "wheel_base",
          "wheel_base",
          "wheel_base",
          "wheel_base",
          "wheel_base",
          "wheel_base",
          "wheel_base",
          "wheel_base",
          "wheel_base",
          "wheel_base",
          "wheel_base",
          "wheel_base",
          "wheel_base",
          "wheel_base",
          "wheel_base",
          "wheel_base",
          "wheel_base",
          "wheel_base",
          "wheel_base",
          "wheel_base",
          "wheel_base",
          "wheel_base",
          "wheel_base",
          "wheel_base",
          "wheel_base",
          "wheel_base",
          "wheel_base",
          "wheel_base",
          "wheel_base",
          "wheel_base",
          "wheel_base",
          "wheel_base",
          "wheel_base",
          "wheel_base",
          "wheel_base",
          "wheel_base",
          "wheel_base",
          "wheel_base",
          "wheel_base",
          "wheel_base",
          "wheel_base",
          "wheel_base",
          "wheel_base",
          "wheel_base",
          "wheel_base",
          "wheel_base",
          "wheel_base",
          "wheel_base",
          "wheel_base",
          "wheel_base",
          "wheel_base",
          "wheel_base",
          "wheel_base",
          "wheel_base",
          "wheel_base",
          "wheel_base",
          "wheel_base",
          "wheel_base",
          "wheel_base",
          "wheel_base",
          "wheel_base",
          "wheel_base",
          "wheel_base",
          "wheel_base",
          "wheel_base",
          "wheel_base",
          "wheel_base",
          "wheel_base",
          "wheel_base",
          "wheel_base",
          "wheel_base",
          "wheel_base",
          "wheel_base",
          "wheel_base",
          "wheel_base",
          "wheel_base",
          "wheel_base",
          "wheel_base",
          "wheel_base",
          "wheel_base",
          "wheel_base",
          "wheel_base",
          "wheel_base",
          "wheel_base",
          "wheel_base",
          "wheel_base",
          "wheel_base",
          "wheel_base",
          "wheel_base",
          "wheel_base",
          "wheel_base",
          "wheel_base",
          "wheel_base",
          "wheel_base",
          "wheel_base",
          "wheel_base",
          "wheel_base",
          "wheel_base",
          "wheel_base",
          "wheel_base",
          "wheel_base",
          "wheel_base",
          "wheel_base",
          "wheel_base",
          "wheel_base",
          "wheel_base",
          "wheel_base",
          "wheel_base",
          "wheel_base",
          "wheel_base",
          "wheel_base",
          "wheel_base",
          "wheel_base",
          "wheel_base",
          "wheel_base",
          "wheel_base",
          "wheel_base",
          "curb_weight",
          "curb_weight",
          "curb_weight",
          "curb_weight",
          "curb_weight",
          "curb_weight",
          "curb_weight",
          "curb_weight",
          "curb_weight",
          "curb_weight",
          "curb_weight",
          "curb_weight",
          "curb_weight",
          "curb_weight",
          "curb_weight",
          "curb_weight",
          "curb_weight",
          "curb_weight",
          "curb_weight",
          "curb_weight",
          "curb_weight",
          "curb_weight",
          "curb_weight",
          "curb_weight",
          "curb_weight",
          "curb_weight",
          "curb_weight",
          "curb_weight",
          "curb_weight",
          "curb_weight",
          "curb_weight",
          "curb_weight",
          "curb_weight",
          "curb_weight",
          "curb_weight",
          "curb_weight",
          "curb_weight",
          "curb_weight",
          "curb_weight",
          "curb_weight",
          "curb_weight",
          "curb_weight",
          "curb_weight",
          "curb_weight",
          "curb_weight",
          "curb_weight",
          "curb_weight",
          "curb_weight",
          "curb_weight",
          "curb_weight",
          "curb_weight",
          "curb_weight",
          "curb_weight",
          "curb_weight",
          "curb_weight",
          "curb_weight",
          "curb_weight",
          "curb_weight",
          "curb_weight",
          "curb_weight",
          "curb_weight",
          "curb_weight",
          "curb_weight",
          "curb_weight",
          "curb_weight",
          "curb_weight",
          "curb_weight",
          "curb_weight",
          "curb_weight",
          "curb_weight",
          "curb_weight",
          "curb_weight",
          "curb_weight",
          "curb_weight",
          "curb_weight",
          "curb_weight",
          "curb_weight",
          "curb_weight",
          "curb_weight",
          "curb_weight",
          "curb_weight",
          "curb_weight",
          "curb_weight",
          "curb_weight",
          "curb_weight",
          "curb_weight",
          "curb_weight",
          "curb_weight",
          "curb_weight",
          "curb_weight",
          "curb_weight",
          "curb_weight",
          "curb_weight",
          "curb_weight",
          "curb_weight",
          "curb_weight",
          "curb_weight",
          "curb_weight",
          "curb_weight",
          "curb_weight",
          "curb_weight",
          "curb_weight",
          "curb_weight",
          "curb_weight",
          "curb_weight",
          "curb_weight",
          "curb_weight",
          "curb_weight",
          "curb_weight",
          "curb_weight",
          "curb_weight",
          "curb_weight",
          "curb_weight",
          "curb_weight",
          "curb_weight",
          "curb_weight",
          "curb_weight",
          "curb_weight",
          "curb_weight",
          "curb_weight",
          "curb_weight",
          "curb_weight",
          "curb_weight",
          "curb_weight",
          "curb_weight",
          "curb_weight",
          "curb_weight",
          "curb_weight",
          "curb_weight",
          "curb_weight",
          "curb_weight",
          "curb_weight",
          "curb_weight",
          "curb_weight",
          "curb_weight",
          "curb_weight",
          "curb_weight",
          "curb_weight",
          "curb_weight",
          "curb_weight",
          "curb_weight",
          "curb_weight",
          "curb_weight",
          "curb_weight",
          "curb_weight",
          "curb_weight",
          "curb_weight",
          "curb_weight",
          "curb_weight",
          "curb_weight",
          "curb_weight",
          "curb_weight",
          "curb_weight",
          "curb_weight",
          "curb_weight",
          "curb_weight",
          "curb_weight",
          "curb_weight",
          "curb_weight",
          "curb_weight",
          "curb_weight",
          "curb_weight",
          "curb_weight",
          "curb_weight",
          "curb_weight",
          "curb_weight",
          "curb_weight",
          "curb_weight",
          "curb_weight",
          "curb_weight",
          "curb_weight",
          "curb_weight",
          "curb_weight",
          "curb_weight",
          "curb_weight",
          "curb_weight",
          "curb_weight",
          "curb_weight",
          "curb_weight",
          "curb_weight",
          "curb_weight",
          "curb_weight",
          "curb_weight",
          "curb_weight",
          "curb_weight",
          "curb_weight",
          "curb_weight",
          "curb_weight",
          "curb_weight",
          "curb_weight",
          "curb_weight",
          "curb_weight",
          "curb_weight",
          "curb_weight",
          "curb_weight",
          "curb_weight",
          "curb_weight",
          "curb_weight",
          "curb_weight",
          "curb_weight",
          "curb_weight",
          "curb_weight",
          "curb_weight",
          "horsepower",
          "horsepower",
          "horsepower",
          "horsepower",
          "horsepower",
          "horsepower",
          "horsepower",
          "horsepower",
          "horsepower",
          "horsepower",
          "horsepower",
          "horsepower",
          "horsepower",
          "horsepower",
          "horsepower",
          "horsepower",
          "horsepower",
          "horsepower",
          "horsepower",
          "horsepower",
          "horsepower",
          "horsepower",
          "horsepower",
          "horsepower",
          "horsepower",
          "horsepower",
          "horsepower",
          "horsepower",
          "horsepower",
          "horsepower",
          "horsepower",
          "horsepower",
          "horsepower",
          "horsepower",
          "horsepower",
          "horsepower",
          "horsepower",
          "horsepower",
          "horsepower",
          "horsepower",
          "horsepower",
          "horsepower",
          "horsepower",
          "horsepower",
          "horsepower",
          "horsepower",
          "horsepower",
          "horsepower",
          "horsepower",
          "horsepower",
          "horsepower",
          "horsepower",
          "horsepower",
          "horsepower",
          "horsepower",
          "horsepower",
          "horsepower",
          "horsepower",
          "horsepower",
          "horsepower",
          "horsepower",
          "horsepower",
          "horsepower",
          "horsepower",
          "horsepower",
          "horsepower",
          "horsepower",
          "horsepower",
          "horsepower",
          "horsepower",
          "horsepower",
          "horsepower",
          "horsepower",
          "horsepower",
          "horsepower",
          "horsepower",
          "horsepower",
          "horsepower",
          "horsepower",
          "horsepower",
          "horsepower",
          "horsepower",
          "horsepower",
          "horsepower",
          "horsepower",
          "horsepower",
          "horsepower",
          "horsepower",
          "horsepower",
          "horsepower",
          "horsepower",
          "horsepower",
          "horsepower",
          "horsepower",
          "horsepower",
          "horsepower",
          "horsepower",
          "horsepower",
          "horsepower",
          "horsepower",
          "horsepower",
          "horsepower",
          "horsepower",
          "horsepower",
          "horsepower",
          "horsepower",
          "horsepower",
          "horsepower",
          "horsepower",
          "horsepower",
          "horsepower",
          "horsepower",
          "horsepower",
          "horsepower",
          "horsepower",
          "horsepower",
          "horsepower",
          "horsepower",
          "horsepower",
          "horsepower",
          "horsepower",
          "horsepower",
          "horsepower",
          "horsepower",
          "horsepower",
          "horsepower",
          "horsepower",
          "horsepower",
          "horsepower",
          "horsepower",
          "horsepower",
          "horsepower",
          "horsepower",
          "horsepower",
          "horsepower",
          "horsepower",
          "horsepower",
          "horsepower",
          "horsepower",
          "horsepower",
          "horsepower",
          "horsepower",
          "horsepower",
          "horsepower",
          "horsepower",
          "horsepower",
          "horsepower",
          "horsepower",
          "horsepower",
          "horsepower",
          "horsepower",
          "horsepower",
          "horsepower",
          "horsepower",
          "horsepower",
          "horsepower",
          "horsepower",
          "horsepower",
          "horsepower",
          "horsepower",
          "horsepower",
          "horsepower",
          "horsepower",
          "horsepower",
          "horsepower",
          "horsepower",
          "horsepower",
          "horsepower",
          "horsepower",
          "horsepower",
          "horsepower",
          "horsepower",
          "horsepower",
          "horsepower",
          "horsepower",
          "horsepower",
          "horsepower",
          "horsepower",
          "horsepower",
          "horsepower",
          "horsepower",
          "horsepower",
          "horsepower",
          "horsepower",
          "horsepower",
          "horsepower",
          "horsepower",
          "horsepower",
          "horsepower",
          "horsepower",
          "horsepower",
          "horsepower",
          "horsepower",
          "horsepower",
          "horsepower",
          "horsepower",
          "horsepower",
          "horsepower",
          "horsepower",
          "horsepower",
          "horsepower",
          "horsepower",
          "horsepower",
          "length",
          "length",
          "length",
          "length",
          "length",
          "length",
          "length",
          "length",
          "length",
          "length",
          "length",
          "length",
          "length",
          "length",
          "length",
          "length",
          "length",
          "length",
          "length",
          "length",
          "length",
          "length",
          "length",
          "length",
          "length",
          "length",
          "length",
          "length",
          "length",
          "length",
          "length",
          "length",
          "length",
          "length",
          "length",
          "length",
          "length",
          "length",
          "length",
          "length",
          "length",
          "length",
          "length",
          "length",
          "length",
          "length",
          "length",
          "length",
          "length",
          "length",
          "length",
          "length",
          "length",
          "length",
          "length",
          "length",
          "length",
          "length",
          "length",
          "length",
          "length",
          "length",
          "length",
          "length",
          "length",
          "length",
          "length",
          "length",
          "length",
          "length",
          "length",
          "length",
          "length",
          "length",
          "length",
          "length",
          "length",
          "length",
          "length",
          "length",
          "length",
          "length",
          "length",
          "length",
          "length",
          "length",
          "length",
          "length",
          "length",
          "length",
          "length",
          "length",
          "length",
          "length",
          "length",
          "length",
          "length",
          "length",
          "length",
          "length",
          "length",
          "length",
          "length",
          "length",
          "length",
          "length",
          "length",
          "length",
          "length",
          "length",
          "length",
          "length",
          "length",
          "length",
          "length",
          "length",
          "length",
          "length",
          "length",
          "length",
          "length",
          "length",
          "length",
          "length",
          "length",
          "length",
          "length",
          "length",
          "length",
          "length",
          "length",
          "length",
          "length",
          "length",
          "length",
          "length",
          "length",
          "length",
          "length",
          "length",
          "length",
          "length",
          "length",
          "length",
          "length",
          "length",
          "length",
          "length",
          "length",
          "length",
          "length",
          "length",
          "length",
          "length",
          "length",
          "length",
          "length",
          "length",
          "length",
          "length",
          "length",
          "length",
          "length",
          "length",
          "length",
          "length",
          "length",
          "length",
          "length",
          "length",
          "length",
          "length",
          "length",
          "length",
          "length",
          "length",
          "length",
          "length",
          "length",
          "length",
          "length",
          "length",
          "length",
          "length",
          "length",
          "length",
          "length",
          "length",
          "length",
          "length",
          "length",
          "length",
          "length",
          "length",
          "length",
          "length",
          "length",
          "length",
          "length",
          "length",
          "length",
          "length",
          "length",
          "width",
          "width",
          "width",
          "width",
          "width",
          "width",
          "width",
          "width",
          "width",
          "width",
          "width",
          "width",
          "width",
          "width",
          "width",
          "width",
          "width",
          "width",
          "width",
          "width",
          "width",
          "width",
          "width",
          "width",
          "width",
          "width",
          "width",
          "width",
          "width",
          "width",
          "width",
          "width",
          "width",
          "width",
          "width",
          "width",
          "width",
          "width",
          "width",
          "width",
          "width",
          "width",
          "width",
          "width",
          "width",
          "width",
          "width",
          "width",
          "width",
          "width",
          "width",
          "width",
          "width",
          "width",
          "width",
          "width",
          "width",
          "width",
          "width",
          "width",
          "width",
          "width",
          "width",
          "width",
          "width",
          "width",
          "width",
          "width",
          "width",
          "width",
          "width",
          "width",
          "width",
          "width",
          "width",
          "width",
          "width",
          "width",
          "width",
          "width",
          "width",
          "width",
          "width",
          "width",
          "width",
          "width",
          "width",
          "width",
          "width",
          "width",
          "width",
          "width",
          "width",
          "width",
          "width",
          "width",
          "width",
          "width",
          "width",
          "width",
          "width",
          "width",
          "width",
          "width",
          "width",
          "width",
          "width",
          "width",
          "width",
          "width",
          "width",
          "width",
          "width",
          "width",
          "width",
          "width",
          "width",
          "width",
          "width",
          "width",
          "width",
          "width",
          "width",
          "width",
          "width",
          "width",
          "width",
          "width",
          "width",
          "width",
          "width",
          "width",
          "width",
          "width",
          "width",
          "width",
          "width",
          "width",
          "width",
          "width",
          "width",
          "width",
          "width",
          "width",
          "width",
          "width",
          "width",
          "width",
          "width",
          "width",
          "width",
          "width",
          "width",
          "width",
          "width",
          "width",
          "width",
          "width",
          "width",
          "width",
          "width",
          "width",
          "width",
          "width",
          "width",
          "width",
          "width",
          "width",
          "width",
          "width",
          "width",
          "width",
          "width",
          "width",
          "width",
          "width",
          "width",
          "width",
          "width",
          "width",
          "width",
          "width",
          "width",
          "width",
          "width",
          "width",
          "width",
          "width",
          "width",
          "width",
          "width",
          "width",
          "width",
          "width",
          "width",
          "width",
          "width",
          "width",
          "width",
          "width",
          "width",
          "width",
          "width",
          "height",
          "height",
          "height",
          "height",
          "height",
          "height",
          "height",
          "height",
          "height",
          "height",
          "height",
          "height",
          "height",
          "height",
          "height",
          "height",
          "height",
          "height",
          "height",
          "height",
          "height",
          "height",
          "height",
          "height",
          "height",
          "height",
          "height",
          "height",
          "height",
          "height",
          "height",
          "height",
          "height",
          "height",
          "height",
          "height",
          "height",
          "height",
          "height",
          "height",
          "height",
          "height",
          "height",
          "height",
          "height",
          "height",
          "height",
          "height",
          "height",
          "height",
          "height",
          "height",
          "height",
          "height",
          "height",
          "height",
          "height",
          "height",
          "height",
          "height",
          "height",
          "height",
          "height",
          "height",
          "height",
          "height",
          "height",
          "height",
          "height",
          "height",
          "height",
          "height",
          "height",
          "height",
          "height",
          "height",
          "height",
          "height",
          "height",
          "height",
          "height",
          "height",
          "height",
          "height",
          "height",
          "height",
          "height",
          "height",
          "height",
          "height",
          "height",
          "height",
          "height",
          "height",
          "height",
          "height",
          "height",
          "height",
          "height",
          "height",
          "height",
          "height",
          "height",
          "height",
          "height",
          "height",
          "height",
          "height",
          "height",
          "height",
          "height",
          "height",
          "height",
          "height",
          "height",
          "height",
          "height",
          "height",
          "height",
          "height",
          "height",
          "height",
          "height",
          "height",
          "height",
          "height",
          "height",
          "height",
          "height",
          "height",
          "height",
          "height",
          "height",
          "height",
          "height",
          "height",
          "height",
          "height",
          "height",
          "height",
          "height",
          "height",
          "height",
          "height",
          "height",
          "height",
          "height",
          "height",
          "height",
          "height",
          "height",
          "height",
          "height",
          "height",
          "height",
          "height",
          "height",
          "height",
          "height",
          "height",
          "height",
          "height",
          "height",
          "height",
          "height",
          "height",
          "height",
          "height",
          "height",
          "height",
          "height",
          "height",
          "height",
          "height",
          "height",
          "height",
          "height",
          "height",
          "height",
          "height",
          "height",
          "height",
          "height",
          "height",
          "height",
          "height",
          "height",
          "height",
          "height",
          "height",
          "height",
          "height",
          "height",
          "height",
          "height",
          "height",
          "height",
          "height",
          "height",
          "height",
          "height",
          "height",
          "height",
          "city_mpg",
          "city_mpg",
          "city_mpg",
          "city_mpg",
          "city_mpg",
          "city_mpg",
          "city_mpg",
          "city_mpg",
          "city_mpg",
          "city_mpg",
          "city_mpg",
          "city_mpg",
          "city_mpg",
          "city_mpg",
          "city_mpg",
          "city_mpg",
          "city_mpg",
          "city_mpg",
          "city_mpg",
          "city_mpg",
          "city_mpg",
          "city_mpg",
          "city_mpg",
          "city_mpg",
          "city_mpg",
          "city_mpg",
          "city_mpg",
          "city_mpg",
          "city_mpg",
          "city_mpg",
          "city_mpg",
          "city_mpg",
          "city_mpg",
          "city_mpg",
          "city_mpg",
          "city_mpg",
          "city_mpg",
          "city_mpg",
          "city_mpg",
          "city_mpg",
          "city_mpg",
          "city_mpg",
          "city_mpg",
          "city_mpg",
          "city_mpg",
          "city_mpg",
          "city_mpg",
          "city_mpg",
          "city_mpg",
          "city_mpg",
          "city_mpg",
          "city_mpg",
          "city_mpg",
          "city_mpg",
          "city_mpg",
          "city_mpg",
          "city_mpg",
          "city_mpg",
          "city_mpg",
          "city_mpg",
          "city_mpg",
          "city_mpg",
          "city_mpg",
          "city_mpg",
          "city_mpg",
          "city_mpg",
          "city_mpg",
          "city_mpg",
          "city_mpg",
          "city_mpg",
          "city_mpg",
          "city_mpg",
          "city_mpg",
          "city_mpg",
          "city_mpg",
          "city_mpg",
          "city_mpg",
          "city_mpg",
          "city_mpg",
          "city_mpg",
          "city_mpg",
          "city_mpg",
          "city_mpg",
          "city_mpg",
          "city_mpg",
          "city_mpg",
          "city_mpg",
          "city_mpg",
          "city_mpg",
          "city_mpg",
          "city_mpg",
          "city_mpg",
          "city_mpg",
          "city_mpg",
          "city_mpg",
          "city_mpg",
          "city_mpg",
          "city_mpg",
          "city_mpg",
          "city_mpg",
          "city_mpg",
          "city_mpg",
          "city_mpg",
          "city_mpg",
          "city_mpg",
          "city_mpg",
          "city_mpg",
          "city_mpg",
          "city_mpg",
          "city_mpg",
          "city_mpg",
          "city_mpg",
          "city_mpg",
          "city_mpg",
          "city_mpg",
          "city_mpg",
          "city_mpg",
          "city_mpg",
          "city_mpg",
          "city_mpg",
          "city_mpg",
          "city_mpg",
          "city_mpg",
          "city_mpg",
          "city_mpg",
          "city_mpg",
          "city_mpg",
          "city_mpg",
          "city_mpg",
          "city_mpg",
          "city_mpg",
          "city_mpg",
          "city_mpg",
          "city_mpg",
          "city_mpg",
          "city_mpg",
          "city_mpg",
          "city_mpg",
          "city_mpg",
          "city_mpg",
          "city_mpg",
          "city_mpg",
          "city_mpg",
          "city_mpg",
          "city_mpg",
          "city_mpg",
          "city_mpg",
          "city_mpg",
          "city_mpg",
          "city_mpg",
          "city_mpg",
          "city_mpg",
          "city_mpg",
          "city_mpg",
          "city_mpg",
          "city_mpg",
          "city_mpg",
          "city_mpg",
          "city_mpg",
          "city_mpg",
          "city_mpg",
          "city_mpg",
          "city_mpg",
          "city_mpg",
          "city_mpg",
          "city_mpg",
          "city_mpg",
          "city_mpg",
          "city_mpg",
          "city_mpg",
          "city_mpg",
          "city_mpg",
          "city_mpg",
          "city_mpg",
          "city_mpg",
          "city_mpg",
          "city_mpg",
          "city_mpg",
          "city_mpg",
          "city_mpg",
          "city_mpg",
          "city_mpg",
          "city_mpg",
          "city_mpg",
          "city_mpg",
          "city_mpg",
          "city_mpg",
          "city_mpg",
          "city_mpg",
          "city_mpg",
          "city_mpg",
          "city_mpg",
          "city_mpg",
          "city_mpg",
          "city_mpg",
          "city_mpg",
          "city_mpg",
          "city_mpg",
          "city_mpg",
          "city_mpg",
          "city_mpg",
          "city_mpg",
          "city_mpg",
          "highway_mpg",
          "highway_mpg",
          "highway_mpg",
          "highway_mpg",
          "highway_mpg",
          "highway_mpg",
          "highway_mpg",
          "highway_mpg",
          "highway_mpg",
          "highway_mpg",
          "highway_mpg",
          "highway_mpg",
          "highway_mpg",
          "highway_mpg",
          "highway_mpg",
          "highway_mpg",
          "highway_mpg",
          "highway_mpg",
          "highway_mpg",
          "highway_mpg",
          "highway_mpg",
          "highway_mpg",
          "highway_mpg",
          "highway_mpg",
          "highway_mpg",
          "highway_mpg",
          "highway_mpg",
          "highway_mpg",
          "highway_mpg",
          "highway_mpg",
          "highway_mpg",
          "highway_mpg",
          "highway_mpg",
          "highway_mpg",
          "highway_mpg",
          "highway_mpg",
          "highway_mpg",
          "highway_mpg",
          "highway_mpg",
          "highway_mpg",
          "highway_mpg",
          "highway_mpg",
          "highway_mpg",
          "highway_mpg",
          "highway_mpg",
          "highway_mpg",
          "highway_mpg",
          "highway_mpg",
          "highway_mpg",
          "highway_mpg",
          "highway_mpg",
          "highway_mpg",
          "highway_mpg",
          "highway_mpg",
          "highway_mpg",
          "highway_mpg",
          "highway_mpg",
          "highway_mpg",
          "highway_mpg",
          "highway_mpg",
          "highway_mpg",
          "highway_mpg",
          "highway_mpg",
          "highway_mpg",
          "highway_mpg",
          "highway_mpg",
          "highway_mpg",
          "highway_mpg",
          "highway_mpg",
          "highway_mpg",
          "highway_mpg",
          "highway_mpg",
          "highway_mpg",
          "highway_mpg",
          "highway_mpg",
          "highway_mpg",
          "highway_mpg",
          "highway_mpg",
          "highway_mpg",
          "highway_mpg",
          "highway_mpg",
          "highway_mpg",
          "highway_mpg",
          "highway_mpg",
          "highway_mpg",
          "highway_mpg",
          "highway_mpg",
          "highway_mpg",
          "highway_mpg",
          "highway_mpg",
          "highway_mpg",
          "highway_mpg",
          "highway_mpg",
          "highway_mpg",
          "highway_mpg",
          "highway_mpg",
          "highway_mpg",
          "highway_mpg",
          "highway_mpg",
          "highway_mpg",
          "highway_mpg",
          "highway_mpg",
          "highway_mpg",
          "highway_mpg",
          "highway_mpg",
          "highway_mpg",
          "highway_mpg",
          "highway_mpg",
          "highway_mpg",
          "highway_mpg",
          "highway_mpg",
          "highway_mpg",
          "highway_mpg",
          "highway_mpg",
          "highway_mpg",
          "highway_mpg",
          "highway_mpg",
          "highway_mpg",
          "highway_mpg",
          "highway_mpg",
          "highway_mpg",
          "highway_mpg",
          "highway_mpg",
          "highway_mpg",
          "highway_mpg",
          "highway_mpg",
          "highway_mpg",
          "highway_mpg",
          "highway_mpg",
          "highway_mpg",
          "highway_mpg",
          "highway_mpg",
          "highway_mpg",
          "highway_mpg",
          "highway_mpg",
          "highway_mpg",
          "highway_mpg",
          "highway_mpg",
          "highway_mpg",
          "highway_mpg",
          "highway_mpg",
          "highway_mpg",
          "highway_mpg",
          "highway_mpg",
          "highway_mpg",
          "highway_mpg",
          "highway_mpg",
          "highway_mpg",
          "highway_mpg",
          "highway_mpg",
          "highway_mpg",
          "highway_mpg",
          "highway_mpg",
          "highway_mpg",
          "highway_mpg",
          "highway_mpg",
          "highway_mpg",
          "highway_mpg",
          "highway_mpg",
          "highway_mpg",
          "highway_mpg",
          "highway_mpg",
          "highway_mpg",
          "highway_mpg",
          "highway_mpg",
          "highway_mpg",
          "highway_mpg",
          "highway_mpg",
          "highway_mpg",
          "highway_mpg",
          "highway_mpg",
          "highway_mpg",
          "highway_mpg",
          "highway_mpg",
          "highway_mpg",
          "highway_mpg",
          "highway_mpg",
          "highway_mpg",
          "highway_mpg",
          "highway_mpg",
          "highway_mpg",
          "highway_mpg",
          "highway_mpg",
          "highway_mpg",
          "highway_mpg",
          "highway_mpg",
          "highway_mpg",
          "highway_mpg",
          "highway_mpg",
          "highway_mpg",
          "highway_mpg",
          "highway_mpg",
          "highway_mpg",
          "highway_mpg",
          "highway_mpg",
          "highway_mpg",
          "highway_mpg",
          "highway_mpg",
          "highway_mpg",
          "highway_mpg",
          "highway_mpg",
          "highway_mpg",
          "highway_mpg"
         ],
         "x0": " ",
         "xaxis": "x",
         "y": [
          -1.6884672145358202,
          -1.6884672145358202,
          -0.7101511278203487,
          0.1686751873647346,
          0.1023486730111448,
          0.1686751873647346,
          1.163572902668603,
          1.163572902668603,
          1.163572902668603,
          0.11893030159954165,
          0.40081798760230486,
          0.40081798760230486,
          0.40081798760230486,
          0.40081798760230486,
          0.7821954451354539,
          0.7821954451354539,
          0.7821954451354539,
          1.8600013033813114,
          -1.721630471712614,
          -0.7101511278203487,
          -0.7101511278203487,
          -0.8428041565275307,
          -0.8428041565275307,
          -0.8428041565275307,
          -0.8428041565275307,
          -0.8428041565275307,
          -0.8428041565275307,
          -0.8428041565275307,
          0.7490321879586579,
          -0.47800832758277845,
          -2.0200997863037764,
          -2.0200997863037764,
          -0.8428041565275307,
          -0.8428041565275307,
          -0.8428041565275307,
          -0.37851855605239254,
          -0.37851855605239254,
          -0.37851855605239254,
          -0.37851855605239254,
          -0.37851855605239254,
          -0.37851855605239254,
          -0.37851855605239254,
          -0.37851855605239254,
          -0.7433143849971448,
          -0.7101511278203487,
          -0.7101511278203487,
          -0.4614266989943816,
          2.3574501610332455,
          2.3574501610332455,
          0.5334710163094868,
          -0.9422939280579189,
          -0.9422939280579189,
          -0.9422939280579189,
          -0.9422939280579189,
          -0.9422939280579189,
          -0.5774980991131667,
          -0.5774980991131667,
          -0.5774980991131667,
          -0.5774980991131667,
          0.002858901480756536,
          0.002858901480756536,
          0.002858901480756536,
          0.002858901480756536,
          0.002858901480756536,
          0.002858901480756536,
          1.014338245373024,
          1.014338245373024,
          1.8600013033813114,
          1.8600013033813114,
          1.3128075599641842,
          2.788572504331588,
          2.788572504331588,
          -0.3619369274639957,
          3.667398819516673,
          2.1916338751492677,
          0.6495424164282719,
          -0.8428041565275307,
          -0.8428041565275307,
          -0.8428041565275307,
          -0.9588755566463159,
          -0.4116818132291886,
          -0.4116818132291886,
          -0.47800832758277845,
          -0.47800832758277845,
          -0.47800832758277845,
          -0.4116818132291886,
          -0.4116818132291886,
          -0.4116818132291886,
          -0.4116818132291886,
          -0.7101511278203487,
          -0.7101511278203487,
          -0.7101511278203487,
          -0.7101511278203487,
          -0.7101511278203487,
          -0.7101511278203487,
          -0.7101511278203487,
          -0.7101511278203487,
          -0.7101511278203487,
          -0.6106613562899628,
          -0.26244715593360746,
          -0.26244715593360746,
          0.2681649588951229,
          0.2681649588951229,
          0.2681649588951229,
          -1.240763242649079,
          -1.240763242649079,
          0.0691854158343487,
          1.5117871030249583,
          1.5117871030249583,
          2.5564297040940196,
          2.5564297040940196,
          1.5117871030249583,
          1.5117871030249583,
          2.5564297040940196,
          2.5564297040940196,
          1.5117871030249583,
          1.5117871030249583,
          1.5283687316133552,
          -0.8428041565275307,
          -0.8428041565275307,
          -0.8428041565275307,
          -0.8428041565275307,
          -0.8428041565275307,
          0.7490321879586579,
          -0.47800832758277845,
          -0.7101511278203487,
          -1.539232557240239,
          -1.539232557240239,
          -1.539232557240239,
          -0.06346761287283328,
          0.05260378724594949,
          0.05260378724594949,
          0.05260378724594949,
          0.05260378724594949,
          0.05260378724594949,
          0.05260378724594949,
          -0.8428041565275307,
          -0.8428041565275307,
          -0.9091306708811229,
          -0.26244715593360746,
          -0.26244715593360746,
          -0.26244715593360746,
          -0.29561041311040354,
          -0.29561041311040354,
          -0.29561041311040354,
          -0.29561041311040354,
          -0.3121920416988004,
          -0.3121920416988004,
          -0.5111715847595746,
          -0.5111715847595746,
          -0.5111715847595746,
          -0.5111715847595746,
          -0.5111715847595746,
          -0.5111715847595746,
          -0.5111715847595746,
          -0.5111715847595746,
          -0.5111715847595746,
          -0.5111715847595746,
          -0.5111715847595746,
          -0.5111715847595746,
          -0.5111715847595746,
          -0.7101511278203487,
          -0.7101511278203487,
          -0.7101511278203487,
          -0.7101511278203487,
          -0.06346761287283328,
          -0.06346761287283328,
          -0.06346761287283328,
          -0.06346761287283328,
          -0.06346761287283328,
          -0.06346761287283328,
          0.5997975306630791,
          0.5997975306630791,
          0.5997975306630791,
          0.5997975306630791,
          0.5997975306630791,
          0.6827056736050681,
          0.6827056736050681,
          0.948011731019432,
          0.948011731019432,
          -0.24586552734521058,
          -0.24586552734521058,
          -0.24586552734521058,
          -0.24586552734521058,
          -0.24586552734521058,
          -0.24586552734521058,
          -0.24586552734521058,
          -0.7101511278203487,
          -0.7101511278203487,
          0.2681649588951229,
          0.2681649588951229,
          0.2681649588951229,
          0.9148484738426359,
          0.9148484738426359,
          0.9148484738426359,
          0.9148484738426359,
          0.9148484738426359,
          0.9148484738426359,
          1.7107666460857303,
          1.7107666460857303,
          1.7107666460857303,
          1.7107666460857303,
          1.7107666460857303,
          -0.015177141881118145,
          -0.015177141881118145,
          0.5117282968710015,
          -0.41945731488729,
          0.513644316648282,
          -0.09373395274961599,
          0.5519647121938906,
          0.7627268876947385,
          1.015641498295756,
          0.9524128456455017,
          -0.30832816780502476,
          -0.30832816780502476,
          0.29521806203831236,
          0.4005991497887363,
          0.9562448852000626,
          1.2915483462241386,
          1.578951312816204,
          1.8184537849762583,
          -2.0461581057983795,
          -1.3065744717681316,
          -1.2395137795633162,
          -1.3027424322135706,
          -1.3027424322135706,
          -0.8199054483389009,
          -1.128384632481051,
          -1.0862321973808815,
          -1.0862321973808815,
          -0.6991962023702335,
          -0.040085398985763805,
          0.4887360595436363,
          -1.6150536559102815,
          -1.4119555595185553,
          -1.3774672035275075,
          -1.1801171664676227,
          -1.1494608500311359,
          -1.0459957820579924,
          -1.0191715051760661,
          -0.6129753123926139,
          -0.5114262641967509,
          -0.48268596753754434,
          -0.35239662268247474,
          -0.17420678339539428,
          -0.5037621850876292,
          -0.41945731488729,
          -1.3065744717681316,
          -1.2395137795633162,
          0.3412025366930428,
          2.8933408800305824,
          2.8933408800305824,
          2.671082585866052,
          -1.2759181553316445,
          -1.2567579575588401,
          -1.247177858672438,
          -1.1705370675812206,
          -1.1609569686948185,
          -0.3370684644642313,
          -0.3370684644642313,
          -0.32748836557782907,
          -0.10714609119057904,
          -0.32748836557782907,
          -0.27958787114581823,
          -0.32748836557782907,
          -0.27958787114581823,
          -0.21635921849556383,
          -0.25084757448661166,
          0.21857727094709495,
          0.276057864265508,
          1.8376139827490627,
          2.287878630409965,
          1.7992935872034541,
          2.3261990259555736,
          2.2687184326371606,
          2.163337344886737,
          2.5752815970020304,
          2.22081793820515,
          0.6784220174943995,
          -1.2222696015677923,
          -1.172453087358501,
          -1.057491900721675,
          -0.7873331121251336,
          -0.35622866223703564,
          -0.4367014928828139,
          0.5308884946438059,
          0.6994982350444842,
          0.7090783339308864,
          -0.3658087611234378,
          -0.2891679700322204,
          -0.29300000958678124,
          -0.29300000958678124,
          -1.277834175108925,
          -1.0325836436170293,
          -1.2222696015677923,
          -1.1839492060221837,
          -1.0191715051760661,
          -1.159040948917538,
          -1.0115074260669445,
          -1.1207205533719293,
          -0.9942632480714205,
          -1.0498278216125532,
          -0.44436557199193566,
          -0.4865180070921052,
          1.03288567629128,
          1.4180056515246473,
          0.9658249840864647,
          0.9869012016365495,
          1.117190546491619,
          1.117190546491619,
          0.8891841929952473,
          1.2283196935738843,
          1.2915483462241386,
          1.6747523016802257,
          0.9945652807456712,
          1.3337007813243082,
          1.3969294339745626,
          1.7801333894306497,
          0.9945652807456712,
          1.3337007813243082,
          1.099946368496095,
          -1.2222696015677923,
          -0.8199054483389009,
          -1.128384632481051,
          -1.0862321973808815,
          -0.6991962023702335,
          -0.040085398985763805,
          0.5021481979845994,
          0.42550740689338196,
          0.3833549717932124,
          0.3833549717932124,
          0.46765984199355154,
          1.5521270359342778,
          0.19558503361972973,
          0.26647776537910584,
          0.28947000270647105,
          0.3871870113477733,
          0.482988000211795,
          0.557712771525732,
          -0.9693549909667749,
          -0.8352336065571444,
          -0.6053112332834922,
          -0.7873331121251336,
          -0.701112222147514,
          -0.4137092555554487,
          -0.32748836557782907,
          -0.08798589341777469,
          -0.5095102444194705,
          -0.19336698116819862,
          -0.26042767337301387,
          0.18025687540148624,
          -1.093896276490003,
          -0.9885151887395792,
          -1.03641568317159,
          -0.5286704421922748,
          -0.5095102444194705,
          1.0616259729504864,
          -0.9099583778710814,
          -0.8563098241072292,
          -0.538250541078677,
          -0.538250541078677,
          -0.8850501207664357,
          -0.8314015670025836,
          -0.7969132110115357,
          -0.7413486374704031,
          -0.6742879452655879,
          -0.5574107388514813,
          -0.4903500466466661,
          -0.030505300099361626,
          -0.038169379208483366,
          -0.00942908254927684,
          0.23582144894261886,
          0.3028821411474341,
          0.8029633030176277,
          -0.44053353243737475,
          -0.14546648673618773,
          -0.2719237920366965,
          -0.2719237920366965,
          -0.1876189218363573,
          0.8048793227949081,
          0.8815201138861255,
          1.1018623882733756,
          1.1401827838189842,
          -0.5650748179606031,
          -0.6647078463791857,
          -0.5593267586287618,
          -0.6589597870473444,
          -0.538250541078677,
          -0.4539456708783378,
          -0.4903500466466661,
          -0.5784869564015661,
          -0.6417156090518205,
          0.20133309295157104,
          0.04421947121457535,
          0.013563154778088383,
          0.6822540570489602,
          0.9160084698771733,
          0.7263225119264103,
          0.9313366280954168,
          0.9370846874272581,
          1.1516789024826668,
          0.7588948481401777,
          0.94474876653638,
          0.8738560347770038,
          1.266640089119493,
          0.9696570236410256,
          0.1702284246708968,
          0.1702284246708968,
          1.2556366927149138,
          -0.05695005003599049,
          0.2711966356517356,
          0.14498637192568709,
          0.14498637192568709,
          0.14498637192568709,
          0.902247954281978,
          1.407089009186172,
          -0.08219210278120019,
          -0.08219210278120019,
          0.42264895212299375,
          0.42264895212299375,
          0.42264895212299375,
          1.9624141695807853,
          1.9624141695807853,
          1.9624141695807853,
          -1.4200208982773141,
          -0.8646957378827008,
          -0.8646957378827008,
          -0.9151798433731202,
          -0.9151798433731202,
          -0.05695005003599049,
          -0.9151798433731202,
          -0.9151798433731202,
          -0.9151798433731202,
          -0.05695005003599049,
          -0.41033878846892624,
          1.0284582180080266,
          -1.1676003708252172,
          -0.7132434214114426,
          -1.117116265334798,
          -0.7132434214114426,
          -0.7132434214114426,
          -0.7132434214114426,
          -0.7132434214114426,
          -0.46082289395934567,
          -0.46082289395934567,
          -0.46082289395934567,
          -0.46082289395934567,
          -0.08219210278120019,
          -0.10743415552640989,
          -0.6627593159210232,
          -0.8646957378827008,
          -0.8646957378827008,
          -0.35985468297850687,
          1.810961853109527,
          1.810961853109527,
          3.981778389197561,
          -0.9151798433731202,
          -0.9151798433731202,
          -0.9151798433731202,
          -0.9151798433731202,
          -0.9151798433731202,
          -0.08219210278120019,
          -0.08219210278120019,
          -0.08219210278120019,
          0.7760376905559295,
          -0.5113069994497651,
          -0.5113069994497651,
          -0.5113069994497651,
          -0.5113069994497651,
          -1.016148054353959,
          -0.5113069994497651,
          0.39740689937778406,
          -0.8142116323922814,
          0.4731330576134132,
          0.4731330576134132,
          0.4731330576134132,
          0.4731330576134132,
          1.2808787454601236,
          1.2808787454601236,
          2.012898275071205,
          2.012898275071205,
          1.7857198003643175,
          -0.9151798433731202,
          -0.9151798433731202,
          -0.9151798433731202,
          -0.05695005003599049,
          0.29643868839694526,
          -0.41033878846892624,
          1.0284582180080266,
          1.0284582180080266,
          1.0284582180080266,
          -0.41033878846892624,
          -0.41033878846892624,
          0.29643868839694526,
          0.29643868839694526,
          -0.8899377906279106,
          -1.2433265290608464,
          -0.8899377906279106,
          -0.8899377906279106,
          -0.8899377906279106,
          -0.8899377906279106,
          -0.8899377906279106,
          -0.8899377906279106,
          -0.8899377906279106,
          -0.8899377906279106,
          -0.18316031376203898,
          -0.18316031376203898,
          1.2051525872244944,
          1.2051525872244944,
          1.2051525872244944,
          1.407089009186172,
          2.4167711189945598,
          1.407089009186172,
          -0.18316031376203898,
          -0.23364441925245838,
          -0.18316031376203898,
          -0.23364441925245838,
          -0.23364441925245838,
          -0.23364441925245838,
          -0.23364441925245838,
          -0.23364441925245838,
          -0.18316031376203898,
          -0.23364441925245838,
          0.9527320597723974,
          -0.9151798433731202,
          -0.05695005003599049,
          -0.9151798433731202,
          -0.9151798433731202,
          -0.9151798433731202,
          -0.41033878846892624,
          1.0284582180080266,
          0.9779741125176071,
          2.5934654882110277,
          2.5934654882110277,
          2.5934654882110277,
          4.6380717605730135,
          0.14498637192568709,
          0.14498637192568709,
          0.14498637192568709,
          0.14498637192568709,
          1.407089009186172,
          1.407089009186172,
          -0.8899377906279106,
          -0.7889695796470717,
          -0.7889695796470717,
          -0.5617911049401845,
          -0.5617911049401845,
          -0.25888647199766807,
          -0.5617911049401845,
          0.1702284246708968,
          -0.5617911049401845,
          -0.25888647199766807,
          -0.5617911049401845,
          0.1702284246708968,
          -1.0666321598443784,
          -1.0666321598443784,
          -1.0666321598443784,
          -1.0666321598443784,
          -1.0666321598443784,
          -1.0666321598443784,
          -0.8646957378827008,
          -0.8646957378827008,
          -1.2180844763156367,
          -1.2180844763156367,
          -0.8646957378827008,
          -0.8646957378827008,
          -0.8646957378827008,
          -0.8646957378827008,
          -0.8646957378827008,
          0.1954704774161065,
          0.1954704774161065,
          0.29643868839694526,
          0.29643868839694526,
          0.29643868839694526,
          0.29643868839694526,
          0.29643868839694526,
          0.29643868839694526,
          -0.3093705774880875,
          -0.7889695796470717,
          -0.3093705774880875,
          -0.3093705774880875,
          -0.3093705774880875,
          1.4323310619313816,
          1.4323310619313816,
          1.3061207982053331,
          1.3061207982053331,
          -1.3190526872964754,
          -0.48606494670455536,
          -1.3190526872964754,
          -0.48606494670455536,
          -0.48606494670455536,
          -0.9151798433731202,
          -0.10743415552640989,
          -0.35985468297850687,
          -0.35985468297850687,
          0.14498637192568709,
          -0.9151798433731202,
          -0.41033878846892624,
          0.2459545829065259,
          0.2459545829065259,
          0.2459545829065259,
          0.2459545829065259,
          1.4575731146765913,
          1.4575731146765913,
          0.2459545829065259,
          1.407089009186172,
          0.7507956378107199,
          0.044018160944848304,
          0.2459545829065259,
          -0.42080359977739384,
          -0.42080359977739384,
          -0.22654974928322474,
          0.21052141432866037,
          0.21052141432866037,
          0.2671787873894616,
          1.5136409947270566,
          1.5136409947270566,
          1.5136409947270566,
          0.34002398132477385,
          0.22670923520317598,
          0.22670923520317598,
          0.22670923520317598,
          0.22670923520317598,
          1.2141663085485441,
          1.2141663085485441,
          1.6026740095368868,
          1.8616791435291138,
          -2.6628167908976184,
          -1.4649180461835631,
          -1.2301946435031061,
          -1.351603300061963,
          -1.351603300061963,
          -1.351603300061963,
          -1.351603300061963,
          -1.351603300061963,
          -1.351603300061963,
          -1.351603300061963,
          0.0486432055835179,
          -0.06467154053808227,
          -2.379529925593619,
          -2.379529925593619,
          -1.9424587619817337,
          -1.9424587619817337,
          -1.9424587619817337,
          -0.8578747633892789,
          -1.3677911209364786,
          -0.5260244354617374,
          -0.5260244354617374,
          0.1133944890815758,
          0.1133944890815758,
          0.1133944890815758,
          -0.3965218684656239,
          -0.26701930146951036,
          -1.4649180461835631,
          -1.4649180461835631,
          -0.11323500316162455,
          2.0721208148977985,
          2.0721208148977985,
          1.4327018903544855,
          -1.2059129121913361,
          -1.2059129121913361,
          -1.2059129121913361,
          -0.5826818085225363,
          -0.5826818085225363,
          -0.40461577890288053,
          -0.40461577890288053,
          -0.40461577890288053,
          -0.40461577890288053,
          0.3076483395757472,
          0.3076483395757472,
          0.3076483395757472,
          0.3076483395757472,
          0.3076483395757472,
          0.3076483395757472,
          0.08101884733254686,
          0.08101884733254686,
          1.3679506068564298,
          1.3679506068564298,
          1.092757651989687,
          2.314938128015512,
          2.314938128015512,
          0.5099961005071753,
          2.760103202064654,
          2.0397451731487695,
          0.3562118021992895,
          -1.351603300061963,
          -1.351603300061963,
          -1.351603300061963,
          -1.351603300061963,
          -0.0808593614125956,
          -0.0808593614125956,
          -0.06467154053808227,
          -0.06467154053808227,
          -0.06467154053808227,
          -0.1294228240361379,
          -0.1294228240361379,
          -0.1294228240361379,
          -0.1294228240361379,
          -0.7040904650813932,
          -0.7040904650813932,
          -0.7040904650813932,
          -0.7040904650813932,
          -0.307488853655796,
          -0.7040904650813932,
          -0.6798087337696231,
          -0.7040904650813932,
          -0.307488853655796,
          -0.9388138677618502,
          -0.048483719663566655,
          -0.048483719663566655,
          0.6233108466287731,
          0.8580342493092302,
          0.8580342493092302,
          -0.26701930146951036,
          -0.26701930146951036,
          0.36430571263654615,
          1.0280063684916292,
          1.0280063684916292,
          2.0154634418369994,
          2.0154634418369994,
          1.0280063684916292,
          1.0280063684916292,
          2.0154634418369994,
          2.0154634418369994,
          1.0280063684916292,
          1.0280063684916292,
          1.0280063684916292,
          -1.351603300061963,
          -1.351603300061963,
          -1.351603300061963,
          -0.5422122563362507,
          -0.5422122563362507,
          0.0486432055835179,
          -0.06467154053808227,
          -0.4127096893401372,
          -0.4127096893401372,
          -0.4127096893401372,
          -0.4127096893401372,
          0.1376762203933458,
          1.0199124580543726,
          1.0199124580543726,
          1.0199124580543726,
          1.0199124580543726,
          1.0199124580543726,
          1.0199124580543726,
          -1.3839789418109918,
          -1.3030398374384207,
          -1.351603300061963,
          -0.16179846578516682,
          -0.16179846578516682,
          -0.16179846578516682,
          -0.16179846578516682,
          -0.16179846578516682,
          -0.04038980922630999,
          -0.04038980922630999,
          -0.032295898789053326,
          -0.032295898789053326,
          -1.238288553940365,
          -1.238288553940365,
          -1.238288553940365,
          -0.3479584058420816,
          -0.3479584058420816,
          -0.3479584058420816,
          -0.6231513607088219,
          -0.6231513607088219,
          -0.6231513607088219,
          -0.6231513607088219,
          -0.6231513607088219,
          -0.6231513607088219,
          -0.6231513607088219,
          -0.4288975102146528,
          -0.4288975102146528,
          -0.4288975102146528,
          -0.4288975102146528,
          0.1781457725796314,
          0.1781457725796314,
          0.1781457725796314,
          0.1781457725796314,
          0.1781457725796314,
          0.1781457725796314,
          0.12958230995608913,
          0.12958230995608913,
          0.12958230995608913,
          0.12958230995608913,
          0.12958230995608913,
          0.7690012344994023,
          0.7690012344994023,
          1.1170393833014596,
          1.1170393833014596,
          -0.18608019709693913,
          -0.18608019709693913,
          -0.18608019709693913,
          -0.18608019709693913,
          -0.18608019709693913,
          -0.18608019709693913,
          -0.18608019709693913,
          -1.1897250913168205,
          -0.6717148233323664,
          0.5019021900699163,
          0.5019021900699163,
          0.7366255927503733,
          1.1979784876740307,
          1.1979784876740307,
          1.1979784876740307,
          1.1979784876740307,
          1.1979784876740307,
          1.1979784876740307,
          1.1979784876740307,
          1.1979784876740307,
          1.1979784876740307,
          1.1979784876740307,
          1.1979784876740307,
          -0.8380833257563953,
          -0.8380833257563953,
          -0.18677547456698312,
          0.138878451027723,
          0.23192242976906854,
          0.18540044039839246,
          2.558021898302674,
          2.558021898302674,
          2.558021898302674,
          0.9297522703291502,
          -0.5124294001616893,
          -0.5124294001616893,
          -0.5124294001616893,
          -0.5124294001616893,
          0.46453237662242913,
          0.46453237662242913,
          0.9297522703291502,
          2.3254119514493135,
          -2.6059189218419343,
          -1.0706932726097527,
          -1.0706932726097527,
          -0.9776492938684104,
          -0.9776492938684104,
          -0.9776492938684104,
          -0.9776492938684104,
          -0.9776492938684104,
          -0.9776492938684104,
          -0.9776492938684104,
          -0.6054733789030348,
          0.18540044039839246,
          -0.9311273044977376,
          -0.9311273044977376,
          -0.8846053151270649,
          -0.8846053151270649,
          -0.8846053151270649,
          -0.8846053151270649,
          -0.9311273044977376,
          -0.3263414426789981,
          -0.3263414426789981,
          -0.3263414426789981,
          -1.5824351556871465,
          -0.3263414426789981,
          0.045834472286377444,
          -1.9080890812818527,
          -1.0706932726097527,
          -1.0706932726097527,
          -0.3263414426789981,
          1.720626089630571,
          1.720626089630571,
          2.185845983337292,
          -0.7915613363857192,
          -0.7915613363857192,
          -0.7915613363857192,
          -0.7915613363857192,
          -0.7915613363857192,
          -0.09373149582563757,
          -0.09373149582563757,
          -0.09373149582563757,
          -0.09373149582563757,
          0.278444419139738,
          0.278444419139738,
          0.278444419139738,
          0.278444419139738,
          0.278444419139738,
          0.278444419139738,
          0.09235646165704692,
          0.09235646165704692,
          2.046280015225277,
          2.046280015225277,
          2.046280015225277,
          2.6975878664146893,
          2.6975878664146893,
          2.1393239939666224,
          2.6975878664146893,
          2.8371538345267044,
          0.9762742596998197,
          -0.6985173576443737,
          -0.6985173576443737,
          -0.6985173576443737,
          -0.9776492938684104,
          -0.2332974639376526,
          -0.2332974639376526,
          0.18540044039839246,
          0.18540044039839246,
          0.18540044039839246,
          -0.2332974639376526,
          -0.2332974639376526,
          -0.2332974639376526,
          -0.2332974639376526,
          -0.9776492938684104,
          -0.9776492938684104,
          -0.9776492938684104,
          -0.9776492938684104,
          -0.9776492938684104,
          -0.9776492938684104,
          -0.9776492938684104,
          -0.9776492938684104,
          -0.9776492938684104,
          -0.9776492938684104,
          -0.3263414426789981,
          -0.3263414426789981,
          0.278444419139738,
          0.278444419139738,
          0.278444419139738,
          0.9297522703291502,
          0.9297522703291502,
          0.9297522703291502,
          1.1623622171825108,
          1.1623622171825108,
          1.1623622171825108,
          1.1623622171825108,
          1.1623622171825108,
          1.1623622171825108,
          1.1623622171825108,
          1.1623622171825108,
          1.1623622171825108,
          1.1623622171825108,
          1.1158402278118347,
          -0.9776492938684104,
          -0.9776492938684104,
          -0.9776492938684104,
          -0.9776492938684104,
          -0.9776492938684104,
          -0.6054733789030348,
          0.18540044039839246,
          1.1158402278118347,
          -0.4193854214203437,
          -0.4193854214203437,
          -0.4193854214203437,
          2.976719802638719,
          0.278444419139738,
          0.278444419139738,
          0.278444419139738,
          0.278444419139738,
          0.278444419139738,
          0.278444419139738,
          -1.1637372513510982,
          -1.0706932726097527,
          -0.9776492938684104,
          -0.2332974639376526,
          -0.2332974639376526,
          -0.2332974639376526,
          -0.2332974639376526,
          -0.2332974639376526,
          -0.2332974639376526,
          -0.2332974639376526,
          -0.2332974639376526,
          -0.2332974639376526,
          -1.0706932726097527,
          -1.0706932726097527,
          -1.0706932726097527,
          -1.0706932726097527,
          -1.0706932726097527,
          -1.0706932726097527,
          -0.6985173576443737,
          -0.6985173576443737,
          -0.6985173576443737,
          -0.6985173576443737,
          -0.6985173576443737,
          -0.6985173576443737,
          -0.6985173576443737,
          -0.8846053151270649,
          -0.8846053151270649,
          -0.8846053151270649,
          -0.8846053151270649,
          -0.14025348519631364,
          -0.14025348519631364,
          -0.14025348519631364,
          -0.14025348519631364,
          -0.14025348519631364,
          -0.14025348519631364,
          0.278444419139738,
          0.278444419139738,
          0.278444419139738,
          0.278444419139738,
          0.278444419139738,
          0.8367082915878047,
          0.8367082915878047,
          0.278444419139738,
          0.278444419139738,
          -0.18677547456698312,
          -0.18677547456698312,
          -0.18677547456698312,
          -0.18677547456698312,
          -0.18677547456698312,
          -0.18677547456698312,
          -0.18677547456698312,
          -0.7915613363857192,
          -0.8846053151270649,
          0.46453237662242913,
          0.46453237662242913,
          0.46453237662242913,
          0.6040983447344441,
          0.6040983447344441,
          0.6040983447344441,
          0.6040983447344441,
          0.6040983447344441,
          0.6040983447344441,
          1.3949721640358714,
          1.3484501746651953,
          1.3949721640358714,
          1.3949721640358714,
          1.3949721640358714,
          -2.0245473324091487,
          -2.0245473324091487,
          -0.547224126693119,
          0.23247423187922903,
          0.23247423187922903,
          -0.2599668366927789,
          0.8069888118799093,
          0.8069888118799093,
          0.8890623233085759,
          -0.7113711495504551,
          0.23247423187922903,
          0.23247423187922903,
          0.23247423187922903,
          0.23247423187922903,
          0.8069888118799093,
          0.8069888118799093,
          -0.013746302406773487,
          1.0532093461659118,
          -0.21893008097844419,
          -0.7113711495504551,
          -0.7113711495504551,
          -1.203812218122466,
          -1.203812218122466,
          -1.203812218122466,
          -1.2858857295511326,
          -1.2858857295511326,
          -1.2858857295511326,
          -1.2858857295511326,
          2.4894957961676067,
          -1.4500327524084684,
          -1.203812218122466,
          -1.203812218122466,
          -0.4651506152644496,
          -0.4651506152644496,
          -0.4651506152644496,
          0.3145477433078985,
          1.8739444604525948,
          -0.1778933252641124,
          -0.1778933252641124,
          0.1504007204505625,
          0.1504007204505625,
          0.1504007204505625,
          -1.1217387066937965,
          -0.09581981383544294,
          -0.7113711495504551,
          -0.7113711495504551,
          -0.9575916838364605,
          -0.3830771038357831,
          -0.3830771038357831,
          -2.4349148895524904,
          0.1504007204505625,
          0.1504007204505625,
          0.1504007204505625,
          0.1504007204505625,
          0.1504007204505625,
          -1.696253286694474,
          -1.696253286694474,
          -1.696253286694474,
          -1.696253286694474,
          -0.013746302406773487,
          0.7249153004512399,
          -0.013746302406773487,
          0.7249153004512399,
          0.7249153004512399,
          0.7249153004512399,
          0.27351098759356374,
          0.27351098759356374,
          1.1352828575945813,
          2.0380914833099335,
          0.4786947661652345,
          1.0532093461659118,
          1.1352828575945813,
          -1.203812218122466,
          1.2173563690232507,
          0.6838785447369051,
          0.43765801045089975,
          -1.203812218122466,
          -1.203812218122466,
          -1.203812218122466,
          -1.203812218122466,
          -1.7783267981231434,
          -1.7783267981231434,
          -1.4500327524084684,
          -1.4500327524084684,
          -1.4500327524084684,
          -0.8755181724077911,
          -0.8755181724077911,
          -0.8755181724077911,
          -0.8755181724077911,
          0.3145477433078985,
          0.3145477433078985,
          0.3145477433078985,
          0.3145477433078985,
          -0.09581981383544294,
          0.3145477433078985,
          -0.1778933252641124,
          0.3145477433078985,
          -0.09581981383544294,
          -0.1778933252641124,
          0.39662125473656795,
          0.39662125473656795,
          0.5607682775939039,
          0.9711358347372453,
          0.5607682775939039,
          -1.6552165309801392,
          -1.6552165309801392,
          -1.6552165309801392,
          1.2173563690232507,
          1.2173563690232507,
          2.0380914833099335,
          2.0380914833099335,
          1.2173563690232507,
          1.2173563690232507,
          1.2173563690232507,
          2.0380914833099335,
          1.2173563690232507,
          1.2173563690232507,
          0.9300990790229106,
          -1.203812218122466,
          -1.203812218122466,
          -1.2858857295511326,
          -1.203812218122466,
          -1.203812218122466,
          2.4894957961676067,
          -1.4500327524084684,
          -1.4500327524084684,
          -0.8755181724077911,
          -0.8755181724077911,
          -0.8755181724077911,
          -1.326922485265467,
          0.9711358347372453,
          0.9711358347372453,
          0.9711358347372453,
          0.9711358347372453,
          0.9711358347372453,
          0.9711358347372453,
          -0.013746302406773487,
          -0.013746302406773487,
          0.8069888118799093,
          -0.5061873709787843,
          -0.5061873709787843,
          -0.5061873709787843,
          0.23247423187922903,
          0.23247423187922903,
          -0.30100359240711366,
          -0.30100359240711366,
          0.4786947661652345,
          0.4786947661652345,
          0.3145477433078985,
          0.3145477433078985,
          0.3145477433078985,
          2.2022385061672693,
          2.2022385061672693,
          2.2022385061672693,
          -0.30100359240711366,
          -0.3830771038357831,
          -0.30100359240711366,
          -0.3830771038357831,
          -0.30100359240711366,
          -0.3830771038357831,
          -0.3830771038357831,
          -0.4651506152644496,
          -0.4651506152644496,
          -0.4651506152644496,
          -0.4651506152644496,
          -0.7113711495504551,
          -0.7113711495504551,
          -0.7113711495504551,
          -0.7113711495504551,
          -0.7113711495504551,
          -0.30100359240711366,
          0.4786947661652345,
          0.4786947661652345,
          0.06832720902189304,
          0.4786947661652345,
          0.06832720902189304,
          -0.7113711495504551,
          -0.7113711495504551,
          0.1504007204505625,
          0.1504007204505625,
          0.8069888118799093,
          0.8069888118799093,
          0.8069888118799093,
          0.8069888118799093,
          0.8069888118799093,
          0.8069888118799093,
          0.8069888118799093,
          0.7659520561655746,
          -0.9575916838364605,
          0.5607682775939039,
          0.5607682775939039,
          0.5607682775939039,
          1.0121725904515801,
          1.5456504147379226,
          1.0121725904515801,
          1.5456504147379226,
          1.0121725904515801,
          1.5456504147379226,
          0.7249153004512399,
          0.7249153004512399,
          0.7249153004512399,
          0.7249153004512399,
          0.7249153004512399,
          -0.6470944817692953,
          -0.6470944817692953,
          -0.9522284650426214,
          -0.18939350685930612,
          -1.1047954566792844,
          -0.9522284650426214,
          -0.9522284650426214,
          -0.9522284650426214,
          -1.2573624483159476,
          -1.4099294399526106,
          -0.34196049849596916,
          -0.34196049849596916,
          -0.6470944817692953,
          -0.6470944817692953,
          -0.7996614734059584,
          -1.4099294399526106,
          -1.4099294399526106,
          -1.5624964315892735,
          3.319647300783944,
          1.9465443760539767,
          1.9465443760539767,
          1.7939773844173137,
          0.8785754345973353,
          -0.18939350685930612,
          0.8785754345973353,
          0.8785754345973353,
          0.8785754345973353,
          -0.18939350685930612,
          -0.18939350685930612,
          -0.9522284650426214,
          3.62478128405727,
          0.8785754345973353,
          1.9465443760539767,
          0.7260084429606722,
          0.7260084429606722,
          0.7260084429606722,
          0.7260084429606722,
          0.26830746805068306,
          0.26830746805068306,
          0.26830746805068306,
          0.26830746805068306,
          -0.18939350685930612,
          -0.036826515222643054,
          -0.18939350685930612,
          1.9465443760539767,
          1.9465443760539767,
          -0.18939350685930612,
          -1.5624964315892735,
          -1.5624964315892735,
          -1.8676304148625997,
          0.7260084429606722,
          0.8785754345973353,
          0.8785754345973353,
          0.8785754345973353,
          0.8785754345973353,
          -1.2573624483159476,
          -1.2573624483159476,
          -1.2573624483159476,
          -1.4099294399526106,
          0.11574047641402001,
          0.11574047641402001,
          0.11574047641402001,
          0.11574047641402001,
          1.6414103927806507,
          0.11574047641402001,
          -0.9522284650426214,
          0.8785754345973353,
          -0.49452749013263225,
          -0.49452749013263225,
          -0.49452749013263225,
          -0.49452749013263225,
          -1.4099294399526106,
          -1.4099294399526106,
          -1.7150634232259367,
          -1.7150634232259367,
          -0.9522284650426214,
          1.7939773844173137,
          0.8785754345973353,
          0.8785754345973353,
          -0.18939350685930612,
          -0.34196049849596916,
          -0.036826515222643054,
          -0.9522284650426214,
          -0.9522284650426214,
          -0.9522284650426214,
          -0.036826515222643054,
          -0.036826515222643054,
          -0.34196049849596916,
          -0.34196049849596916,
          0.8785754345973353,
          3.0145133175106182,
          0.8785754345973353,
          0.8785754345973353,
          0.8785754345973353,
          0.8785754345973353,
          0.8785754345973353,
          0.8785754345973353,
          0.8785754345973353,
          0.8785754345973353,
          0.26830746805068306,
          0.26830746805068306,
          -1.2573624483159476,
          -1.2573624483159476,
          -0.9522284650426214,
          -0.9522284650426214,
          -1.2573624483159476,
          -0.9522284650426214,
          -0.9522284650426214,
          0.4208744596873461,
          -0.9522284650426214,
          -0.036826515222643054,
          -0.9522284650426214,
          0.4208744596873461,
          -0.9522284650426214,
          -0.036826515222643054,
          -0.9522284650426214,
          0.4208744596873461,
          -1.1047954566792844,
          1.7939773844173137,
          -0.18939350685930612,
          0.8785754345973353,
          0.8785754345973353,
          0.8785754345973353,
          -0.18939350685930612,
          -0.9522284650426214,
          -0.9522284650426214,
          -1.2573624483159476,
          -1.2573624483159476,
          -1.2573624483159476,
          -1.2573624483159476,
          -0.6470944817692953,
          -0.6470944817692953,
          -0.6470944817692953,
          -0.6470944817692953,
          -0.9522284650426214,
          -0.9522284650426214,
          0.8785754345973353,
          0.11574047641402001,
          0.11574047641402001,
          1.0311424262339983,
          0.4208744596873461,
          0.11574047641402001,
          -0.18939350685930612,
          -0.18939350685930612,
          0.4208744596873461,
          -0.036826515222643054,
          -0.34196049849596916,
          -0.34196049849596916,
          1.4888434011439875,
          0.8785754345973353,
          0.8785754345973353,
          0.8785754345973353,
          0.26830746805068306,
          0.26830746805068306,
          0.7260084429606722,
          0.7260084429606722,
          1.3362764095073245,
          1.9465443760539767,
          1.9465443760539767,
          0.4208744596873461,
          0.4208744596873461,
          0.5734414513240091,
          0.5734414513240091,
          0.11574047641402001,
          0.11574047641402001,
          -0.18939350685930612,
          -0.18939350685930612,
          -0.18939350685930612,
          -0.18939350685930612,
          -0.18939350685930612,
          -0.18939350685930612,
          0.5734414513240091,
          0.7260084429606722,
          0.26830746805068306,
          0.26830746805068306,
          0.26830746805068306,
          -0.7996614734059584,
          -0.9522284650426214,
          -0.7996614734059584,
          -0.9522284650426214,
          1.7939773844173137,
          0.26830746805068306,
          1.7939773844173137,
          0.26830746805068306,
          0.26830746805068306,
          1.7939773844173137,
          0.11574047641402001,
          -0.18939350685930612,
          -0.18939350685930612,
          -0.9522284650426214,
          1.1837094178706615,
          -0.036826515222643054,
          -0.34196049849596916,
          -0.34196049849596916,
          -0.18939350685930612,
          -0.18939350685930612,
          -1.2573624483159476,
          -1.2573624483159476,
          -0.34196049849596916,
          -0.9522284650426214,
          -1.1047954566792844,
          0.11574047641402001,
          -0.9522284650426214,
          -0.5430369664067058,
          -0.5430369664067058,
          -0.6878943963417402,
          -0.10846467660160242,
          -1.267324116081878,
          -0.8327518262767747,
          -0.8327518262767747,
          -0.8327518262767747,
          -1.557038975951947,
          -1.267324116081878,
          -0.2533221065366369,
          -0.2533221065366369,
          -0.3981795364716713,
          -0.3981795364716713,
          -0.8327518262767747,
          -1.267324116081878,
          -1.267324116081878,
          -1.557038975951947,
          3.2232562119041903,
          1.7746819125538456,
          1.7746819125538456,
          1.4849670526837766,
          1.0503947628786732,
          -0.10846467660160242,
          1.0503947628786732,
          1.0503947628786732,
          1.0503947628786732,
          -0.10846467660160242,
          -0.10846467660160242,
          -0.9776092562118092,
          3.3681136418392246,
          1.0503947628786732,
          1.629824482618811,
          0.47096504313853543,
          0.47096504313853543,
          0.47096504313853543,
          0.47096504313853543,
          0.32610761320350096,
          0.32610761320350096,
          0.32610761320350096,
          0.32610761320350096,
          -0.3981795364716713,
          0.03639275333343205,
          -0.2533221065366369,
          1.7746819125538456,
          1.7746819125538456,
          -0.2533221065366369,
          -1.7018964058869814,
          -1.7018964058869814,
          -1.9916112657570504,
          0.03639275333343205,
          1.0503947628786732,
          1.0503947628786732,
          1.0503947628786732,
          1.0503947628786732,
          -1.1224666861468435,
          -1.1224666861468435,
          -1.1224666861468435,
          -1.1224666861468435,
          0.1812501832684665,
          0.1812501832684665,
          0.1812501832684665,
          0.1812501832684665,
          1.629824482618811,
          0.1812501832684665,
          -0.5430369664067058,
          1.1952521928137076,
          -0.8327518262767747,
          -0.8327518262767747,
          -0.8327518262767747,
          -0.8327518262767747,
          -1.846753835822016,
          -1.846753835822016,
          -2.1364686956920846,
          -2.1364686956920846,
          -0.9776092562118092,
          1.4849670526837766,
          1.0503947628786732,
          1.0503947628786732,
          -0.10846467660160242,
          -0.10846467660160242,
          0.1812501832684665,
          -0.9776092562118092,
          -0.9776092562118092,
          -0.9776092562118092,
          0.1812501832684665,
          0.1812501832684665,
          -0.10846467660160242,
          -0.10846467660160242,
          0.9055373329436388,
          2.7886839220990867,
          0.9055373329436388,
          0.9055373329436388,
          0.9055373329436388,
          0.9055373329436388,
          0.9055373329436388,
          0.9055373329436388,
          0.9055373329436388,
          0.9055373329436388,
          0.47096504313853543,
          0.47096504313853543,
          -1.267324116081878,
          -1.267324116081878,
          -0.8327518262767747,
          -0.8327518262767747,
          -1.1224666861468435,
          -0.8327518262767747,
          -0.9776092562118092,
          0.32610761320350096,
          -0.9776092562118092,
          -0.8327518262767747,
          -0.9776092562118092,
          0.32610761320350096,
          -0.9776092562118092,
          -0.8327518262767747,
          -0.9776092562118092,
          0.32610761320350096,
          -0.9776092562118092,
          1.4849670526837766,
          -0.10846467660160242,
          1.0503947628786732,
          1.0503947628786732,
          1.0503947628786732,
          -0.10846467660160242,
          -0.9776092562118092,
          -0.5430369664067058,
          -0.8327518262767747,
          -0.8327518262767747,
          -0.8327518262767747,
          -0.3981795364716713,
          -0.3981795364716713,
          -0.3981795364716713,
          -0.3981795364716713,
          -0.3981795364716713,
          -0.6878943963417402,
          -0.6878943963417402,
          0.7606799030086043,
          0.03639275333343205,
          0.03639275333343205,
          0.9055373329436388,
          0.32610761320350096,
          0.1812501832684665,
          -0.8327518262767747,
          -0.2533221065366369,
          0.1812501832684665,
          0.03639275333343205,
          -0.2533221065366369,
          -1.1224666861468435,
          1.1952521928137076,
          1.0503947628786732,
          1.0503947628786732,
          0.9055373329436388,
          0.1812501832684665,
          0.1812501832684665,
          0.9055373329436388,
          0.9055373329436388,
          0.7606799030086043,
          2.3541116322939835,
          2.3541116322939835,
          0.47096504313853543,
          0.47096504313853543,
          0.47096504313853543,
          0.47096504313853543,
          -0.2533221065366369,
          -0.2533221065366369,
          -0.10846467660160242,
          -0.10846467660160242,
          -0.10846467660160242,
          -0.10846467660160242,
          -0.10846467660160242,
          -0.10846467660160242,
          0.47096504313853543,
          0.32610761320350096,
          0.1812501832684665,
          0.1812501832684665,
          0.1812501832684665,
          -0.9776092562118092,
          -0.9776092562118092,
          -0.9776092562118092,
          -0.9776092562118092,
          2.2092542023589488,
          0.47096504313853543,
          2.2092542023589488,
          0.47096504313853543,
          0.47096504313853543,
          1.629824482618811,
          0.1812501832684665,
          -0.2533221065366369,
          -0.2533221065366369,
          -0.9776092562118092,
          1.0503947628786732,
          0.03639275333343205,
          -0.3981795364716713,
          -0.3981795364716713,
          -0.3981795364716713,
          -0.3981795364716713,
          -1.267324116081878,
          -1.267324116081878,
          -0.3981795364716713,
          -0.8327518262767747,
          -1.1224666861468435,
          -0.5430369664067058,
          -0.8327518262767747
         ],
         "y0": " ",
         "yaxis": "y"
        }
       ],
       "layout": {
        "boxmode": "group",
        "height": 400,
        "legend": {
         "tracegroupgap": 0
        },
        "margin": {
         "t": 60
        },
        "template": {
         "data": {
          "bar": [
           {
            "error_x": {
             "color": "#2a3f5f"
            },
            "error_y": {
             "color": "#2a3f5f"
            },
            "marker": {
             "line": {
              "color": "#E5ECF6",
              "width": 0.5
             },
             "pattern": {
              "fillmode": "overlay",
              "size": 10,
              "solidity": 0.2
             }
            },
            "type": "bar"
           }
          ],
          "barpolar": [
           {
            "marker": {
             "line": {
              "color": "#E5ECF6",
              "width": 0.5
             },
             "pattern": {
              "fillmode": "overlay",
              "size": 10,
              "solidity": 0.2
             }
            },
            "type": "barpolar"
           }
          ],
          "carpet": [
           {
            "aaxis": {
             "endlinecolor": "#2a3f5f",
             "gridcolor": "white",
             "linecolor": "white",
             "minorgridcolor": "white",
             "startlinecolor": "#2a3f5f"
            },
            "baxis": {
             "endlinecolor": "#2a3f5f",
             "gridcolor": "white",
             "linecolor": "white",
             "minorgridcolor": "white",
             "startlinecolor": "#2a3f5f"
            },
            "type": "carpet"
           }
          ],
          "choropleth": [
           {
            "colorbar": {
             "outlinewidth": 0,
             "ticks": ""
            },
            "type": "choropleth"
           }
          ],
          "contour": [
           {
            "colorbar": {
             "outlinewidth": 0,
             "ticks": ""
            },
            "colorscale": [
             [
              0,
              "#0d0887"
             ],
             [
              0.1111111111111111,
              "#46039f"
             ],
             [
              0.2222222222222222,
              "#7201a8"
             ],
             [
              0.3333333333333333,
              "#9c179e"
             ],
             [
              0.4444444444444444,
              "#bd3786"
             ],
             [
              0.5555555555555556,
              "#d8576b"
             ],
             [
              0.6666666666666666,
              "#ed7953"
             ],
             [
              0.7777777777777778,
              "#fb9f3a"
             ],
             [
              0.8888888888888888,
              "#fdca26"
             ],
             [
              1,
              "#f0f921"
             ]
            ],
            "type": "contour"
           }
          ],
          "contourcarpet": [
           {
            "colorbar": {
             "outlinewidth": 0,
             "ticks": ""
            },
            "type": "contourcarpet"
           }
          ],
          "heatmap": [
           {
            "colorbar": {
             "outlinewidth": 0,
             "ticks": ""
            },
            "colorscale": [
             [
              0,
              "#0d0887"
             ],
             [
              0.1111111111111111,
              "#46039f"
             ],
             [
              0.2222222222222222,
              "#7201a8"
             ],
             [
              0.3333333333333333,
              "#9c179e"
             ],
             [
              0.4444444444444444,
              "#bd3786"
             ],
             [
              0.5555555555555556,
              "#d8576b"
             ],
             [
              0.6666666666666666,
              "#ed7953"
             ],
             [
              0.7777777777777778,
              "#fb9f3a"
             ],
             [
              0.8888888888888888,
              "#fdca26"
             ],
             [
              1,
              "#f0f921"
             ]
            ],
            "type": "heatmap"
           }
          ],
          "heatmapgl": [
           {
            "colorbar": {
             "outlinewidth": 0,
             "ticks": ""
            },
            "colorscale": [
             [
              0,
              "#0d0887"
             ],
             [
              0.1111111111111111,
              "#46039f"
             ],
             [
              0.2222222222222222,
              "#7201a8"
             ],
             [
              0.3333333333333333,
              "#9c179e"
             ],
             [
              0.4444444444444444,
              "#bd3786"
             ],
             [
              0.5555555555555556,
              "#d8576b"
             ],
             [
              0.6666666666666666,
              "#ed7953"
             ],
             [
              0.7777777777777778,
              "#fb9f3a"
             ],
             [
              0.8888888888888888,
              "#fdca26"
             ],
             [
              1,
              "#f0f921"
             ]
            ],
            "type": "heatmapgl"
           }
          ],
          "histogram": [
           {
            "marker": {
             "pattern": {
              "fillmode": "overlay",
              "size": 10,
              "solidity": 0.2
             }
            },
            "type": "histogram"
           }
          ],
          "histogram2d": [
           {
            "colorbar": {
             "outlinewidth": 0,
             "ticks": ""
            },
            "colorscale": [
             [
              0,
              "#0d0887"
             ],
             [
              0.1111111111111111,
              "#46039f"
             ],
             [
              0.2222222222222222,
              "#7201a8"
             ],
             [
              0.3333333333333333,
              "#9c179e"
             ],
             [
              0.4444444444444444,
              "#bd3786"
             ],
             [
              0.5555555555555556,
              "#d8576b"
             ],
             [
              0.6666666666666666,
              "#ed7953"
             ],
             [
              0.7777777777777778,
              "#fb9f3a"
             ],
             [
              0.8888888888888888,
              "#fdca26"
             ],
             [
              1,
              "#f0f921"
             ]
            ],
            "type": "histogram2d"
           }
          ],
          "histogram2dcontour": [
           {
            "colorbar": {
             "outlinewidth": 0,
             "ticks": ""
            },
            "colorscale": [
             [
              0,
              "#0d0887"
             ],
             [
              0.1111111111111111,
              "#46039f"
             ],
             [
              0.2222222222222222,
              "#7201a8"
             ],
             [
              0.3333333333333333,
              "#9c179e"
             ],
             [
              0.4444444444444444,
              "#bd3786"
             ],
             [
              0.5555555555555556,
              "#d8576b"
             ],
             [
              0.6666666666666666,
              "#ed7953"
             ],
             [
              0.7777777777777778,
              "#fb9f3a"
             ],
             [
              0.8888888888888888,
              "#fdca26"
             ],
             [
              1,
              "#f0f921"
             ]
            ],
            "type": "histogram2dcontour"
           }
          ],
          "mesh3d": [
           {
            "colorbar": {
             "outlinewidth": 0,
             "ticks": ""
            },
            "type": "mesh3d"
           }
          ],
          "parcoords": [
           {
            "line": {
             "colorbar": {
              "outlinewidth": 0,
              "ticks": ""
             }
            },
            "type": "parcoords"
           }
          ],
          "pie": [
           {
            "automargin": true,
            "type": "pie"
           }
          ],
          "scatter": [
           {
            "fillpattern": {
             "fillmode": "overlay",
             "size": 10,
             "solidity": 0.2
            },
            "type": "scatter"
           }
          ],
          "scatter3d": [
           {
            "line": {
             "colorbar": {
              "outlinewidth": 0,
              "ticks": ""
             }
            },
            "marker": {
             "colorbar": {
              "outlinewidth": 0,
              "ticks": ""
             }
            },
            "type": "scatter3d"
           }
          ],
          "scattercarpet": [
           {
            "marker": {
             "colorbar": {
              "outlinewidth": 0,
              "ticks": ""
             }
            },
            "type": "scattercarpet"
           }
          ],
          "scattergeo": [
           {
            "marker": {
             "colorbar": {
              "outlinewidth": 0,
              "ticks": ""
             }
            },
            "type": "scattergeo"
           }
          ],
          "scattergl": [
           {
            "marker": {
             "colorbar": {
              "outlinewidth": 0,
              "ticks": ""
             }
            },
            "type": "scattergl"
           }
          ],
          "scattermapbox": [
           {
            "marker": {
             "colorbar": {
              "outlinewidth": 0,
              "ticks": ""
             }
            },
            "type": "scattermapbox"
           }
          ],
          "scatterpolar": [
           {
            "marker": {
             "colorbar": {
              "outlinewidth": 0,
              "ticks": ""
             }
            },
            "type": "scatterpolar"
           }
          ],
          "scatterpolargl": [
           {
            "marker": {
             "colorbar": {
              "outlinewidth": 0,
              "ticks": ""
             }
            },
            "type": "scatterpolargl"
           }
          ],
          "scatterternary": [
           {
            "marker": {
             "colorbar": {
              "outlinewidth": 0,
              "ticks": ""
             }
            },
            "type": "scatterternary"
           }
          ],
          "surface": [
           {
            "colorbar": {
             "outlinewidth": 0,
             "ticks": ""
            },
            "colorscale": [
             [
              0,
              "#0d0887"
             ],
             [
              0.1111111111111111,
              "#46039f"
             ],
             [
              0.2222222222222222,
              "#7201a8"
             ],
             [
              0.3333333333333333,
              "#9c179e"
             ],
             [
              0.4444444444444444,
              "#bd3786"
             ],
             [
              0.5555555555555556,
              "#d8576b"
             ],
             [
              0.6666666666666666,
              "#ed7953"
             ],
             [
              0.7777777777777778,
              "#fb9f3a"
             ],
             [
              0.8888888888888888,
              "#fdca26"
             ],
             [
              1,
              "#f0f921"
             ]
            ],
            "type": "surface"
           }
          ],
          "table": [
           {
            "cells": {
             "fill": {
              "color": "#EBF0F8"
             },
             "line": {
              "color": "white"
             }
            },
            "header": {
             "fill": {
              "color": "#C8D4E3"
             },
             "line": {
              "color": "white"
             }
            },
            "type": "table"
           }
          ]
         },
         "layout": {
          "annotationdefaults": {
           "arrowcolor": "#2a3f5f",
           "arrowhead": 0,
           "arrowwidth": 1
          },
          "autotypenumbers": "strict",
          "coloraxis": {
           "colorbar": {
            "outlinewidth": 0,
            "ticks": ""
           }
          },
          "colorscale": {
           "diverging": [
            [
             0,
             "#8e0152"
            ],
            [
             0.1,
             "#c51b7d"
            ],
            [
             0.2,
             "#de77ae"
            ],
            [
             0.3,
             "#f1b6da"
            ],
            [
             0.4,
             "#fde0ef"
            ],
            [
             0.5,
             "#f7f7f7"
            ],
            [
             0.6,
             "#e6f5d0"
            ],
            [
             0.7,
             "#b8e186"
            ],
            [
             0.8,
             "#7fbc41"
            ],
            [
             0.9,
             "#4d9221"
            ],
            [
             1,
             "#276419"
            ]
           ],
           "sequential": [
            [
             0,
             "#0d0887"
            ],
            [
             0.1111111111111111,
             "#46039f"
            ],
            [
             0.2222222222222222,
             "#7201a8"
            ],
            [
             0.3333333333333333,
             "#9c179e"
            ],
            [
             0.4444444444444444,
             "#bd3786"
            ],
            [
             0.5555555555555556,
             "#d8576b"
            ],
            [
             0.6666666666666666,
             "#ed7953"
            ],
            [
             0.7777777777777778,
             "#fb9f3a"
            ],
            [
             0.8888888888888888,
             "#fdca26"
            ],
            [
             1,
             "#f0f921"
            ]
           ],
           "sequentialminus": [
            [
             0,
             "#0d0887"
            ],
            [
             0.1111111111111111,
             "#46039f"
            ],
            [
             0.2222222222222222,
             "#7201a8"
            ],
            [
             0.3333333333333333,
             "#9c179e"
            ],
            [
             0.4444444444444444,
             "#bd3786"
            ],
            [
             0.5555555555555556,
             "#d8576b"
            ],
            [
             0.6666666666666666,
             "#ed7953"
            ],
            [
             0.7777777777777778,
             "#fb9f3a"
            ],
            [
             0.8888888888888888,
             "#fdca26"
            ],
            [
             1,
             "#f0f921"
            ]
           ]
          },
          "colorway": [
           "#636efa",
           "#EF553B",
           "#00cc96",
           "#ab63fa",
           "#FFA15A",
           "#19d3f3",
           "#FF6692",
           "#B6E880",
           "#FF97FF",
           "#FECB52"
          ],
          "font": {
           "color": "#2a3f5f"
          },
          "geo": {
           "bgcolor": "white",
           "lakecolor": "white",
           "landcolor": "#E5ECF6",
           "showlakes": true,
           "showland": true,
           "subunitcolor": "white"
          },
          "hoverlabel": {
           "align": "left"
          },
          "hovermode": "closest",
          "mapbox": {
           "style": "light"
          },
          "paper_bgcolor": "white",
          "plot_bgcolor": "#E5ECF6",
          "polar": {
           "angularaxis": {
            "gridcolor": "white",
            "linecolor": "white",
            "ticks": ""
           },
           "bgcolor": "#E5ECF6",
           "radialaxis": {
            "gridcolor": "white",
            "linecolor": "white",
            "ticks": ""
           }
          },
          "scene": {
           "xaxis": {
            "backgroundcolor": "#E5ECF6",
            "gridcolor": "white",
            "gridwidth": 2,
            "linecolor": "white",
            "showbackground": true,
            "ticks": "",
            "zerolinecolor": "white"
           },
           "yaxis": {
            "backgroundcolor": "#E5ECF6",
            "gridcolor": "white",
            "gridwidth": 2,
            "linecolor": "white",
            "showbackground": true,
            "ticks": "",
            "zerolinecolor": "white"
           },
           "zaxis": {
            "backgroundcolor": "#E5ECF6",
            "gridcolor": "white",
            "gridwidth": 2,
            "linecolor": "white",
            "showbackground": true,
            "ticks": "",
            "zerolinecolor": "white"
           }
          },
          "shapedefaults": {
           "line": {
            "color": "#2a3f5f"
           }
          },
          "ternary": {
           "aaxis": {
            "gridcolor": "white",
            "linecolor": "white",
            "ticks": ""
           },
           "baxis": {
            "gridcolor": "white",
            "linecolor": "white",
            "ticks": ""
           },
           "bgcolor": "#E5ECF6",
           "caxis": {
            "gridcolor": "white",
            "linecolor": "white",
            "ticks": ""
           }
          },
          "title": {
           "x": 0.05
          },
          "xaxis": {
           "automargin": true,
           "gridcolor": "white",
           "linecolor": "white",
           "ticks": "",
           "title": {
            "standoff": 15
           },
           "zerolinecolor": "white",
           "zerolinewidth": 2
          },
          "yaxis": {
           "automargin": true,
           "gridcolor": "white",
           "linecolor": "white",
           "ticks": "",
           "title": {
            "standoff": 15
           },
           "zerolinecolor": "white",
           "zerolinewidth": 2
          }
         }
        },
        "width": 700,
        "xaxis": {
         "anchor": "y",
         "domain": [
          0,
          1
         ],
         "title": {
          "text": "variable"
         }
        },
        "yaxis": {
         "anchor": "x",
         "domain": [
          0,
          1
         ],
         "title": {
          "text": "value"
         }
        }
       }
      },
      "text/html": [
       "<div>                            <div id=\"b5448b67-c9b7-45a5-92d6-6d56f5c38202\" class=\"plotly-graph-div\" style=\"height:400px; width:700px;\"></div>            <script type=\"text/javascript\">                require([\"plotly\"], function(Plotly) {                    window.PLOTLYENV=window.PLOTLYENV || {};                                    if (document.getElementById(\"b5448b67-c9b7-45a5-92d6-6d56f5c38202\")) {                    Plotly.newPlot(                        \"b5448b67-c9b7-45a5-92d6-6d56f5c38202\",                        [{\"alignmentgroup\":\"True\",\"hovertemplate\":\"variable=%{x}<br>value=%{y}<extra></extra>\",\"legendgroup\":\"\",\"marker\":{\"color\":\"#636efa\"},\"name\":\"\",\"notched\":false,\"offsetgroup\":\"\",\"orientation\":\"v\",\"showlegend\":false,\"x\":[\"wheel_base\",\"wheel_base\",\"wheel_base\",\"wheel_base\",\"wheel_base\",\"wheel_base\",\"wheel_base\",\"wheel_base\",\"wheel_base\",\"wheel_base\",\"wheel_base\",\"wheel_base\",\"wheel_base\",\"wheel_base\",\"wheel_base\",\"wheel_base\",\"wheel_base\",\"wheel_base\",\"wheel_base\",\"wheel_base\",\"wheel_base\",\"wheel_base\",\"wheel_base\",\"wheel_base\",\"wheel_base\",\"wheel_base\",\"wheel_base\",\"wheel_base\",\"wheel_base\",\"wheel_base\",\"wheel_base\",\"wheel_base\",\"wheel_base\",\"wheel_base\",\"wheel_base\",\"wheel_base\",\"wheel_base\",\"wheel_base\",\"wheel_base\",\"wheel_base\",\"wheel_base\",\"wheel_base\",\"wheel_base\",\"wheel_base\",\"wheel_base\",\"wheel_base\",\"wheel_base\",\"wheel_base\",\"wheel_base\",\"wheel_base\",\"wheel_base\",\"wheel_base\",\"wheel_base\",\"wheel_base\",\"wheel_base\",\"wheel_base\",\"wheel_base\",\"wheel_base\",\"wheel_base\",\"wheel_base\",\"wheel_base\",\"wheel_base\",\"wheel_base\",\"wheel_base\",\"wheel_base\",\"wheel_base\",\"wheel_base\",\"wheel_base\",\"wheel_base\",\"wheel_base\",\"wheel_base\",\"wheel_base\",\"wheel_base\",\"wheel_base\",\"wheel_base\",\"wheel_base\",\"wheel_base\",\"wheel_base\",\"wheel_base\",\"wheel_base\",\"wheel_base\",\"wheel_base\",\"wheel_base\",\"wheel_base\",\"wheel_base\",\"wheel_base\",\"wheel_base\",\"wheel_base\",\"wheel_base\",\"wheel_base\",\"wheel_base\",\"wheel_base\",\"wheel_base\",\"wheel_base\",\"wheel_base\",\"wheel_base\",\"wheel_base\",\"wheel_base\",\"wheel_base\",\"wheel_base\",\"wheel_base\",\"wheel_base\",\"wheel_base\",\"wheel_base\",\"wheel_base\",\"wheel_base\",\"wheel_base\",\"wheel_base\",\"wheel_base\",\"wheel_base\",\"wheel_base\",\"wheel_base\",\"wheel_base\",\"wheel_base\",\"wheel_base\",\"wheel_base\",\"wheel_base\",\"wheel_base\",\"wheel_base\",\"wheel_base\",\"wheel_base\",\"wheel_base\",\"wheel_base\",\"wheel_base\",\"wheel_base\",\"wheel_base\",\"wheel_base\",\"wheel_base\",\"wheel_base\",\"wheel_base\",\"wheel_base\",\"wheel_base\",\"wheel_base\",\"wheel_base\",\"wheel_base\",\"wheel_base\",\"wheel_base\",\"wheel_base\",\"wheel_base\",\"wheel_base\",\"wheel_base\",\"wheel_base\",\"wheel_base\",\"wheel_base\",\"wheel_base\",\"wheel_base\",\"wheel_base\",\"wheel_base\",\"wheel_base\",\"wheel_base\",\"wheel_base\",\"wheel_base\",\"wheel_base\",\"wheel_base\",\"wheel_base\",\"wheel_base\",\"wheel_base\",\"wheel_base\",\"wheel_base\",\"wheel_base\",\"wheel_base\",\"wheel_base\",\"wheel_base\",\"wheel_base\",\"wheel_base\",\"wheel_base\",\"wheel_base\",\"wheel_base\",\"wheel_base\",\"wheel_base\",\"wheel_base\",\"wheel_base\",\"wheel_base\",\"wheel_base\",\"wheel_base\",\"wheel_base\",\"wheel_base\",\"wheel_base\",\"wheel_base\",\"wheel_base\",\"wheel_base\",\"wheel_base\",\"wheel_base\",\"wheel_base\",\"wheel_base\",\"wheel_base\",\"wheel_base\",\"wheel_base\",\"wheel_base\",\"wheel_base\",\"wheel_base\",\"wheel_base\",\"wheel_base\",\"wheel_base\",\"wheel_base\",\"wheel_base\",\"wheel_base\",\"wheel_base\",\"wheel_base\",\"wheel_base\",\"wheel_base\",\"wheel_base\",\"wheel_base\",\"curb_weight\",\"curb_weight\",\"curb_weight\",\"curb_weight\",\"curb_weight\",\"curb_weight\",\"curb_weight\",\"curb_weight\",\"curb_weight\",\"curb_weight\",\"curb_weight\",\"curb_weight\",\"curb_weight\",\"curb_weight\",\"curb_weight\",\"curb_weight\",\"curb_weight\",\"curb_weight\",\"curb_weight\",\"curb_weight\",\"curb_weight\",\"curb_weight\",\"curb_weight\",\"curb_weight\",\"curb_weight\",\"curb_weight\",\"curb_weight\",\"curb_weight\",\"curb_weight\",\"curb_weight\",\"curb_weight\",\"curb_weight\",\"curb_weight\",\"curb_weight\",\"curb_weight\",\"curb_weight\",\"curb_weight\",\"curb_weight\",\"curb_weight\",\"curb_weight\",\"curb_weight\",\"curb_weight\",\"curb_weight\",\"curb_weight\",\"curb_weight\",\"curb_weight\",\"curb_weight\",\"curb_weight\",\"curb_weight\",\"curb_weight\",\"curb_weight\",\"curb_weight\",\"curb_weight\",\"curb_weight\",\"curb_weight\",\"curb_weight\",\"curb_weight\",\"curb_weight\",\"curb_weight\",\"curb_weight\",\"curb_weight\",\"curb_weight\",\"curb_weight\",\"curb_weight\",\"curb_weight\",\"curb_weight\",\"curb_weight\",\"curb_weight\",\"curb_weight\",\"curb_weight\",\"curb_weight\",\"curb_weight\",\"curb_weight\",\"curb_weight\",\"curb_weight\",\"curb_weight\",\"curb_weight\",\"curb_weight\",\"curb_weight\",\"curb_weight\",\"curb_weight\",\"curb_weight\",\"curb_weight\",\"curb_weight\",\"curb_weight\",\"curb_weight\",\"curb_weight\",\"curb_weight\",\"curb_weight\",\"curb_weight\",\"curb_weight\",\"curb_weight\",\"curb_weight\",\"curb_weight\",\"curb_weight\",\"curb_weight\",\"curb_weight\",\"curb_weight\",\"curb_weight\",\"curb_weight\",\"curb_weight\",\"curb_weight\",\"curb_weight\",\"curb_weight\",\"curb_weight\",\"curb_weight\",\"curb_weight\",\"curb_weight\",\"curb_weight\",\"curb_weight\",\"curb_weight\",\"curb_weight\",\"curb_weight\",\"curb_weight\",\"curb_weight\",\"curb_weight\",\"curb_weight\",\"curb_weight\",\"curb_weight\",\"curb_weight\",\"curb_weight\",\"curb_weight\",\"curb_weight\",\"curb_weight\",\"curb_weight\",\"curb_weight\",\"curb_weight\",\"curb_weight\",\"curb_weight\",\"curb_weight\",\"curb_weight\",\"curb_weight\",\"curb_weight\",\"curb_weight\",\"curb_weight\",\"curb_weight\",\"curb_weight\",\"curb_weight\",\"curb_weight\",\"curb_weight\",\"curb_weight\",\"curb_weight\",\"curb_weight\",\"curb_weight\",\"curb_weight\",\"curb_weight\",\"curb_weight\",\"curb_weight\",\"curb_weight\",\"curb_weight\",\"curb_weight\",\"curb_weight\",\"curb_weight\",\"curb_weight\",\"curb_weight\",\"curb_weight\",\"curb_weight\",\"curb_weight\",\"curb_weight\",\"curb_weight\",\"curb_weight\",\"curb_weight\",\"curb_weight\",\"curb_weight\",\"curb_weight\",\"curb_weight\",\"curb_weight\",\"curb_weight\",\"curb_weight\",\"curb_weight\",\"curb_weight\",\"curb_weight\",\"curb_weight\",\"curb_weight\",\"curb_weight\",\"curb_weight\",\"curb_weight\",\"curb_weight\",\"curb_weight\",\"curb_weight\",\"curb_weight\",\"curb_weight\",\"curb_weight\",\"curb_weight\",\"curb_weight\",\"curb_weight\",\"curb_weight\",\"curb_weight\",\"curb_weight\",\"curb_weight\",\"curb_weight\",\"curb_weight\",\"curb_weight\",\"curb_weight\",\"curb_weight\",\"curb_weight\",\"curb_weight\",\"curb_weight\",\"curb_weight\",\"curb_weight\",\"curb_weight\",\"curb_weight\",\"curb_weight\",\"horsepower\",\"horsepower\",\"horsepower\",\"horsepower\",\"horsepower\",\"horsepower\",\"horsepower\",\"horsepower\",\"horsepower\",\"horsepower\",\"horsepower\",\"horsepower\",\"horsepower\",\"horsepower\",\"horsepower\",\"horsepower\",\"horsepower\",\"horsepower\",\"horsepower\",\"horsepower\",\"horsepower\",\"horsepower\",\"horsepower\",\"horsepower\",\"horsepower\",\"horsepower\",\"horsepower\",\"horsepower\",\"horsepower\",\"horsepower\",\"horsepower\",\"horsepower\",\"horsepower\",\"horsepower\",\"horsepower\",\"horsepower\",\"horsepower\",\"horsepower\",\"horsepower\",\"horsepower\",\"horsepower\",\"horsepower\",\"horsepower\",\"horsepower\",\"horsepower\",\"horsepower\",\"horsepower\",\"horsepower\",\"horsepower\",\"horsepower\",\"horsepower\",\"horsepower\",\"horsepower\",\"horsepower\",\"horsepower\",\"horsepower\",\"horsepower\",\"horsepower\",\"horsepower\",\"horsepower\",\"horsepower\",\"horsepower\",\"horsepower\",\"horsepower\",\"horsepower\",\"horsepower\",\"horsepower\",\"horsepower\",\"horsepower\",\"horsepower\",\"horsepower\",\"horsepower\",\"horsepower\",\"horsepower\",\"horsepower\",\"horsepower\",\"horsepower\",\"horsepower\",\"horsepower\",\"horsepower\",\"horsepower\",\"horsepower\",\"horsepower\",\"horsepower\",\"horsepower\",\"horsepower\",\"horsepower\",\"horsepower\",\"horsepower\",\"horsepower\",\"horsepower\",\"horsepower\",\"horsepower\",\"horsepower\",\"horsepower\",\"horsepower\",\"horsepower\",\"horsepower\",\"horsepower\",\"horsepower\",\"horsepower\",\"horsepower\",\"horsepower\",\"horsepower\",\"horsepower\",\"horsepower\",\"horsepower\",\"horsepower\",\"horsepower\",\"horsepower\",\"horsepower\",\"horsepower\",\"horsepower\",\"horsepower\",\"horsepower\",\"horsepower\",\"horsepower\",\"horsepower\",\"horsepower\",\"horsepower\",\"horsepower\",\"horsepower\",\"horsepower\",\"horsepower\",\"horsepower\",\"horsepower\",\"horsepower\",\"horsepower\",\"horsepower\",\"horsepower\",\"horsepower\",\"horsepower\",\"horsepower\",\"horsepower\",\"horsepower\",\"horsepower\",\"horsepower\",\"horsepower\",\"horsepower\",\"horsepower\",\"horsepower\",\"horsepower\",\"horsepower\",\"horsepower\",\"horsepower\",\"horsepower\",\"horsepower\",\"horsepower\",\"horsepower\",\"horsepower\",\"horsepower\",\"horsepower\",\"horsepower\",\"horsepower\",\"horsepower\",\"horsepower\",\"horsepower\",\"horsepower\",\"horsepower\",\"horsepower\",\"horsepower\",\"horsepower\",\"horsepower\",\"horsepower\",\"horsepower\",\"horsepower\",\"horsepower\",\"horsepower\",\"horsepower\",\"horsepower\",\"horsepower\",\"horsepower\",\"horsepower\",\"horsepower\",\"horsepower\",\"horsepower\",\"horsepower\",\"horsepower\",\"horsepower\",\"horsepower\",\"horsepower\",\"horsepower\",\"horsepower\",\"horsepower\",\"horsepower\",\"horsepower\",\"horsepower\",\"horsepower\",\"horsepower\",\"horsepower\",\"horsepower\",\"horsepower\",\"horsepower\",\"horsepower\",\"horsepower\",\"horsepower\",\"horsepower\",\"horsepower\",\"horsepower\",\"horsepower\",\"horsepower\",\"horsepower\",\"horsepower\",\"length\",\"length\",\"length\",\"length\",\"length\",\"length\",\"length\",\"length\",\"length\",\"length\",\"length\",\"length\",\"length\",\"length\",\"length\",\"length\",\"length\",\"length\",\"length\",\"length\",\"length\",\"length\",\"length\",\"length\",\"length\",\"length\",\"length\",\"length\",\"length\",\"length\",\"length\",\"length\",\"length\",\"length\",\"length\",\"length\",\"length\",\"length\",\"length\",\"length\",\"length\",\"length\",\"length\",\"length\",\"length\",\"length\",\"length\",\"length\",\"length\",\"length\",\"length\",\"length\",\"length\",\"length\",\"length\",\"length\",\"length\",\"length\",\"length\",\"length\",\"length\",\"length\",\"length\",\"length\",\"length\",\"length\",\"length\",\"length\",\"length\",\"length\",\"length\",\"length\",\"length\",\"length\",\"length\",\"length\",\"length\",\"length\",\"length\",\"length\",\"length\",\"length\",\"length\",\"length\",\"length\",\"length\",\"length\",\"length\",\"length\",\"length\",\"length\",\"length\",\"length\",\"length\",\"length\",\"length\",\"length\",\"length\",\"length\",\"length\",\"length\",\"length\",\"length\",\"length\",\"length\",\"length\",\"length\",\"length\",\"length\",\"length\",\"length\",\"length\",\"length\",\"length\",\"length\",\"length\",\"length\",\"length\",\"length\",\"length\",\"length\",\"length\",\"length\",\"length\",\"length\",\"length\",\"length\",\"length\",\"length\",\"length\",\"length\",\"length\",\"length\",\"length\",\"length\",\"length\",\"length\",\"length\",\"length\",\"length\",\"length\",\"length\",\"length\",\"length\",\"length\",\"length\",\"length\",\"length\",\"length\",\"length\",\"length\",\"length\",\"length\",\"length\",\"length\",\"length\",\"length\",\"length\",\"length\",\"length\",\"length\",\"length\",\"length\",\"length\",\"length\",\"length\",\"length\",\"length\",\"length\",\"length\",\"length\",\"length\",\"length\",\"length\",\"length\",\"length\",\"length\",\"length\",\"length\",\"length\",\"length\",\"length\",\"length\",\"length\",\"length\",\"length\",\"length\",\"length\",\"length\",\"length\",\"length\",\"length\",\"length\",\"length\",\"length\",\"length\",\"length\",\"length\",\"length\",\"length\",\"length\",\"length\",\"length\",\"width\",\"width\",\"width\",\"width\",\"width\",\"width\",\"width\",\"width\",\"width\",\"width\",\"width\",\"width\",\"width\",\"width\",\"width\",\"width\",\"width\",\"width\",\"width\",\"width\",\"width\",\"width\",\"width\",\"width\",\"width\",\"width\",\"width\",\"width\",\"width\",\"width\",\"width\",\"width\",\"width\",\"width\",\"width\",\"width\",\"width\",\"width\",\"width\",\"width\",\"width\",\"width\",\"width\",\"width\",\"width\",\"width\",\"width\",\"width\",\"width\",\"width\",\"width\",\"width\",\"width\",\"width\",\"width\",\"width\",\"width\",\"width\",\"width\",\"width\",\"width\",\"width\",\"width\",\"width\",\"width\",\"width\",\"width\",\"width\",\"width\",\"width\",\"width\",\"width\",\"width\",\"width\",\"width\",\"width\",\"width\",\"width\",\"width\",\"width\",\"width\",\"width\",\"width\",\"width\",\"width\",\"width\",\"width\",\"width\",\"width\",\"width\",\"width\",\"width\",\"width\",\"width\",\"width\",\"width\",\"width\",\"width\",\"width\",\"width\",\"width\",\"width\",\"width\",\"width\",\"width\",\"width\",\"width\",\"width\",\"width\",\"width\",\"width\",\"width\",\"width\",\"width\",\"width\",\"width\",\"width\",\"width\",\"width\",\"width\",\"width\",\"width\",\"width\",\"width\",\"width\",\"width\",\"width\",\"width\",\"width\",\"width\",\"width\",\"width\",\"width\",\"width\",\"width\",\"width\",\"width\",\"width\",\"width\",\"width\",\"width\",\"width\",\"width\",\"width\",\"width\",\"width\",\"width\",\"width\",\"width\",\"width\",\"width\",\"width\",\"width\",\"width\",\"width\",\"width\",\"width\",\"width\",\"width\",\"width\",\"width\",\"width\",\"width\",\"width\",\"width\",\"width\",\"width\",\"width\",\"width\",\"width\",\"width\",\"width\",\"width\",\"width\",\"width\",\"width\",\"width\",\"width\",\"width\",\"width\",\"width\",\"width\",\"width\",\"width\",\"width\",\"width\",\"width\",\"width\",\"width\",\"width\",\"width\",\"width\",\"width\",\"width\",\"width\",\"width\",\"width\",\"width\",\"width\",\"width\",\"width\",\"width\",\"width\",\"height\",\"height\",\"height\",\"height\",\"height\",\"height\",\"height\",\"height\",\"height\",\"height\",\"height\",\"height\",\"height\",\"height\",\"height\",\"height\",\"height\",\"height\",\"height\",\"height\",\"height\",\"height\",\"height\",\"height\",\"height\",\"height\",\"height\",\"height\",\"height\",\"height\",\"height\",\"height\",\"height\",\"height\",\"height\",\"height\",\"height\",\"height\",\"height\",\"height\",\"height\",\"height\",\"height\",\"height\",\"height\",\"height\",\"height\",\"height\",\"height\",\"height\",\"height\",\"height\",\"height\",\"height\",\"height\",\"height\",\"height\",\"height\",\"height\",\"height\",\"height\",\"height\",\"height\",\"height\",\"height\",\"height\",\"height\",\"height\",\"height\",\"height\",\"height\",\"height\",\"height\",\"height\",\"height\",\"height\",\"height\",\"height\",\"height\",\"height\",\"height\",\"height\",\"height\",\"height\",\"height\",\"height\",\"height\",\"height\",\"height\",\"height\",\"height\",\"height\",\"height\",\"height\",\"height\",\"height\",\"height\",\"height\",\"height\",\"height\",\"height\",\"height\",\"height\",\"height\",\"height\",\"height\",\"height\",\"height\",\"height\",\"height\",\"height\",\"height\",\"height\",\"height\",\"height\",\"height\",\"height\",\"height\",\"height\",\"height\",\"height\",\"height\",\"height\",\"height\",\"height\",\"height\",\"height\",\"height\",\"height\",\"height\",\"height\",\"height\",\"height\",\"height\",\"height\",\"height\",\"height\",\"height\",\"height\",\"height\",\"height\",\"height\",\"height\",\"height\",\"height\",\"height\",\"height\",\"height\",\"height\",\"height\",\"height\",\"height\",\"height\",\"height\",\"height\",\"height\",\"height\",\"height\",\"height\",\"height\",\"height\",\"height\",\"height\",\"height\",\"height\",\"height\",\"height\",\"height\",\"height\",\"height\",\"height\",\"height\",\"height\",\"height\",\"height\",\"height\",\"height\",\"height\",\"height\",\"height\",\"height\",\"height\",\"height\",\"height\",\"height\",\"height\",\"height\",\"height\",\"height\",\"height\",\"height\",\"height\",\"height\",\"height\",\"height\",\"height\",\"height\",\"height\",\"height\",\"height\",\"height\",\"height\",\"height\",\"city_mpg\",\"city_mpg\",\"city_mpg\",\"city_mpg\",\"city_mpg\",\"city_mpg\",\"city_mpg\",\"city_mpg\",\"city_mpg\",\"city_mpg\",\"city_mpg\",\"city_mpg\",\"city_mpg\",\"city_mpg\",\"city_mpg\",\"city_mpg\",\"city_mpg\",\"city_mpg\",\"city_mpg\",\"city_mpg\",\"city_mpg\",\"city_mpg\",\"city_mpg\",\"city_mpg\",\"city_mpg\",\"city_mpg\",\"city_mpg\",\"city_mpg\",\"city_mpg\",\"city_mpg\",\"city_mpg\",\"city_mpg\",\"city_mpg\",\"city_mpg\",\"city_mpg\",\"city_mpg\",\"city_mpg\",\"city_mpg\",\"city_mpg\",\"city_mpg\",\"city_mpg\",\"city_mpg\",\"city_mpg\",\"city_mpg\",\"city_mpg\",\"city_mpg\",\"city_mpg\",\"city_mpg\",\"city_mpg\",\"city_mpg\",\"city_mpg\",\"city_mpg\",\"city_mpg\",\"city_mpg\",\"city_mpg\",\"city_mpg\",\"city_mpg\",\"city_mpg\",\"city_mpg\",\"city_mpg\",\"city_mpg\",\"city_mpg\",\"city_mpg\",\"city_mpg\",\"city_mpg\",\"city_mpg\",\"city_mpg\",\"city_mpg\",\"city_mpg\",\"city_mpg\",\"city_mpg\",\"city_mpg\",\"city_mpg\",\"city_mpg\",\"city_mpg\",\"city_mpg\",\"city_mpg\",\"city_mpg\",\"city_mpg\",\"city_mpg\",\"city_mpg\",\"city_mpg\",\"city_mpg\",\"city_mpg\",\"city_mpg\",\"city_mpg\",\"city_mpg\",\"city_mpg\",\"city_mpg\",\"city_mpg\",\"city_mpg\",\"city_mpg\",\"city_mpg\",\"city_mpg\",\"city_mpg\",\"city_mpg\",\"city_mpg\",\"city_mpg\",\"city_mpg\",\"city_mpg\",\"city_mpg\",\"city_mpg\",\"city_mpg\",\"city_mpg\",\"city_mpg\",\"city_mpg\",\"city_mpg\",\"city_mpg\",\"city_mpg\",\"city_mpg\",\"city_mpg\",\"city_mpg\",\"city_mpg\",\"city_mpg\",\"city_mpg\",\"city_mpg\",\"city_mpg\",\"city_mpg\",\"city_mpg\",\"city_mpg\",\"city_mpg\",\"city_mpg\",\"city_mpg\",\"city_mpg\",\"city_mpg\",\"city_mpg\",\"city_mpg\",\"city_mpg\",\"city_mpg\",\"city_mpg\",\"city_mpg\",\"city_mpg\",\"city_mpg\",\"city_mpg\",\"city_mpg\",\"city_mpg\",\"city_mpg\",\"city_mpg\",\"city_mpg\",\"city_mpg\",\"city_mpg\",\"city_mpg\",\"city_mpg\",\"city_mpg\",\"city_mpg\",\"city_mpg\",\"city_mpg\",\"city_mpg\",\"city_mpg\",\"city_mpg\",\"city_mpg\",\"city_mpg\",\"city_mpg\",\"city_mpg\",\"city_mpg\",\"city_mpg\",\"city_mpg\",\"city_mpg\",\"city_mpg\",\"city_mpg\",\"city_mpg\",\"city_mpg\",\"city_mpg\",\"city_mpg\",\"city_mpg\",\"city_mpg\",\"city_mpg\",\"city_mpg\",\"city_mpg\",\"city_mpg\",\"city_mpg\",\"city_mpg\",\"city_mpg\",\"city_mpg\",\"city_mpg\",\"city_mpg\",\"city_mpg\",\"city_mpg\",\"city_mpg\",\"city_mpg\",\"city_mpg\",\"city_mpg\",\"city_mpg\",\"city_mpg\",\"city_mpg\",\"city_mpg\",\"city_mpg\",\"city_mpg\",\"city_mpg\",\"city_mpg\",\"city_mpg\",\"city_mpg\",\"city_mpg\",\"city_mpg\",\"city_mpg\",\"city_mpg\",\"city_mpg\",\"city_mpg\",\"city_mpg\",\"city_mpg\",\"city_mpg\",\"city_mpg\",\"city_mpg\",\"highway_mpg\",\"highway_mpg\",\"highway_mpg\",\"highway_mpg\",\"highway_mpg\",\"highway_mpg\",\"highway_mpg\",\"highway_mpg\",\"highway_mpg\",\"highway_mpg\",\"highway_mpg\",\"highway_mpg\",\"highway_mpg\",\"highway_mpg\",\"highway_mpg\",\"highway_mpg\",\"highway_mpg\",\"highway_mpg\",\"highway_mpg\",\"highway_mpg\",\"highway_mpg\",\"highway_mpg\",\"highway_mpg\",\"highway_mpg\",\"highway_mpg\",\"highway_mpg\",\"highway_mpg\",\"highway_mpg\",\"highway_mpg\",\"highway_mpg\",\"highway_mpg\",\"highway_mpg\",\"highway_mpg\",\"highway_mpg\",\"highway_mpg\",\"highway_mpg\",\"highway_mpg\",\"highway_mpg\",\"highway_mpg\",\"highway_mpg\",\"highway_mpg\",\"highway_mpg\",\"highway_mpg\",\"highway_mpg\",\"highway_mpg\",\"highway_mpg\",\"highway_mpg\",\"highway_mpg\",\"highway_mpg\",\"highway_mpg\",\"highway_mpg\",\"highway_mpg\",\"highway_mpg\",\"highway_mpg\",\"highway_mpg\",\"highway_mpg\",\"highway_mpg\",\"highway_mpg\",\"highway_mpg\",\"highway_mpg\",\"highway_mpg\",\"highway_mpg\",\"highway_mpg\",\"highway_mpg\",\"highway_mpg\",\"highway_mpg\",\"highway_mpg\",\"highway_mpg\",\"highway_mpg\",\"highway_mpg\",\"highway_mpg\",\"highway_mpg\",\"highway_mpg\",\"highway_mpg\",\"highway_mpg\",\"highway_mpg\",\"highway_mpg\",\"highway_mpg\",\"highway_mpg\",\"highway_mpg\",\"highway_mpg\",\"highway_mpg\",\"highway_mpg\",\"highway_mpg\",\"highway_mpg\",\"highway_mpg\",\"highway_mpg\",\"highway_mpg\",\"highway_mpg\",\"highway_mpg\",\"highway_mpg\",\"highway_mpg\",\"highway_mpg\",\"highway_mpg\",\"highway_mpg\",\"highway_mpg\",\"highway_mpg\",\"highway_mpg\",\"highway_mpg\",\"highway_mpg\",\"highway_mpg\",\"highway_mpg\",\"highway_mpg\",\"highway_mpg\",\"highway_mpg\",\"highway_mpg\",\"highway_mpg\",\"highway_mpg\",\"highway_mpg\",\"highway_mpg\",\"highway_mpg\",\"highway_mpg\",\"highway_mpg\",\"highway_mpg\",\"highway_mpg\",\"highway_mpg\",\"highway_mpg\",\"highway_mpg\",\"highway_mpg\",\"highway_mpg\",\"highway_mpg\",\"highway_mpg\",\"highway_mpg\",\"highway_mpg\",\"highway_mpg\",\"highway_mpg\",\"highway_mpg\",\"highway_mpg\",\"highway_mpg\",\"highway_mpg\",\"highway_mpg\",\"highway_mpg\",\"highway_mpg\",\"highway_mpg\",\"highway_mpg\",\"highway_mpg\",\"highway_mpg\",\"highway_mpg\",\"highway_mpg\",\"highway_mpg\",\"highway_mpg\",\"highway_mpg\",\"highway_mpg\",\"highway_mpg\",\"highway_mpg\",\"highway_mpg\",\"highway_mpg\",\"highway_mpg\",\"highway_mpg\",\"highway_mpg\",\"highway_mpg\",\"highway_mpg\",\"highway_mpg\",\"highway_mpg\",\"highway_mpg\",\"highway_mpg\",\"highway_mpg\",\"highway_mpg\",\"highway_mpg\",\"highway_mpg\",\"highway_mpg\",\"highway_mpg\",\"highway_mpg\",\"highway_mpg\",\"highway_mpg\",\"highway_mpg\",\"highway_mpg\",\"highway_mpg\",\"highway_mpg\",\"highway_mpg\",\"highway_mpg\",\"highway_mpg\",\"highway_mpg\",\"highway_mpg\",\"highway_mpg\",\"highway_mpg\",\"highway_mpg\",\"highway_mpg\",\"highway_mpg\",\"highway_mpg\",\"highway_mpg\",\"highway_mpg\",\"highway_mpg\",\"highway_mpg\",\"highway_mpg\",\"highway_mpg\",\"highway_mpg\",\"highway_mpg\",\"highway_mpg\",\"highway_mpg\",\"highway_mpg\",\"highway_mpg\",\"highway_mpg\",\"highway_mpg\",\"highway_mpg\",\"highway_mpg\",\"highway_mpg\",\"highway_mpg\",\"highway_mpg\",\"highway_mpg\",\"highway_mpg\",\"highway_mpg\",\"highway_mpg\"],\"x0\":\" \",\"xaxis\":\"x\",\"y\":[-1.6884672145358202,-1.6884672145358202,-0.7101511278203487,0.1686751873647346,0.1023486730111448,0.1686751873647346,1.163572902668603,1.163572902668603,1.163572902668603,0.11893030159954165,0.40081798760230486,0.40081798760230486,0.40081798760230486,0.40081798760230486,0.7821954451354539,0.7821954451354539,0.7821954451354539,1.8600013033813114,-1.721630471712614,-0.7101511278203487,-0.7101511278203487,-0.8428041565275307,-0.8428041565275307,-0.8428041565275307,-0.8428041565275307,-0.8428041565275307,-0.8428041565275307,-0.8428041565275307,0.7490321879586579,-0.47800832758277845,-2.0200997863037764,-2.0200997863037764,-0.8428041565275307,-0.8428041565275307,-0.8428041565275307,-0.37851855605239254,-0.37851855605239254,-0.37851855605239254,-0.37851855605239254,-0.37851855605239254,-0.37851855605239254,-0.37851855605239254,-0.37851855605239254,-0.7433143849971448,-0.7101511278203487,-0.7101511278203487,-0.4614266989943816,2.3574501610332455,2.3574501610332455,0.5334710163094868,-0.9422939280579189,-0.9422939280579189,-0.9422939280579189,-0.9422939280579189,-0.9422939280579189,-0.5774980991131667,-0.5774980991131667,-0.5774980991131667,-0.5774980991131667,0.002858901480756536,0.002858901480756536,0.002858901480756536,0.002858901480756536,0.002858901480756536,0.002858901480756536,1.014338245373024,1.014338245373024,1.8600013033813114,1.8600013033813114,1.3128075599641842,2.788572504331588,2.788572504331588,-0.3619369274639957,3.667398819516673,2.1916338751492677,0.6495424164282719,-0.8428041565275307,-0.8428041565275307,-0.8428041565275307,-0.9588755566463159,-0.4116818132291886,-0.4116818132291886,-0.47800832758277845,-0.47800832758277845,-0.47800832758277845,-0.4116818132291886,-0.4116818132291886,-0.4116818132291886,-0.4116818132291886,-0.7101511278203487,-0.7101511278203487,-0.7101511278203487,-0.7101511278203487,-0.7101511278203487,-0.7101511278203487,-0.7101511278203487,-0.7101511278203487,-0.7101511278203487,-0.6106613562899628,-0.26244715593360746,-0.26244715593360746,0.2681649588951229,0.2681649588951229,0.2681649588951229,-1.240763242649079,-1.240763242649079,0.0691854158343487,1.5117871030249583,1.5117871030249583,2.5564297040940196,2.5564297040940196,1.5117871030249583,1.5117871030249583,2.5564297040940196,2.5564297040940196,1.5117871030249583,1.5117871030249583,1.5283687316133552,-0.8428041565275307,-0.8428041565275307,-0.8428041565275307,-0.8428041565275307,-0.8428041565275307,0.7490321879586579,-0.47800832758277845,-0.7101511278203487,-1.539232557240239,-1.539232557240239,-1.539232557240239,-0.06346761287283328,0.05260378724594949,0.05260378724594949,0.05260378724594949,0.05260378724594949,0.05260378724594949,0.05260378724594949,-0.8428041565275307,-0.8428041565275307,-0.9091306708811229,-0.26244715593360746,-0.26244715593360746,-0.26244715593360746,-0.29561041311040354,-0.29561041311040354,-0.29561041311040354,-0.29561041311040354,-0.3121920416988004,-0.3121920416988004,-0.5111715847595746,-0.5111715847595746,-0.5111715847595746,-0.5111715847595746,-0.5111715847595746,-0.5111715847595746,-0.5111715847595746,-0.5111715847595746,-0.5111715847595746,-0.5111715847595746,-0.5111715847595746,-0.5111715847595746,-0.5111715847595746,-0.7101511278203487,-0.7101511278203487,-0.7101511278203487,-0.7101511278203487,-0.06346761287283328,-0.06346761287283328,-0.06346761287283328,-0.06346761287283328,-0.06346761287283328,-0.06346761287283328,0.5997975306630791,0.5997975306630791,0.5997975306630791,0.5997975306630791,0.5997975306630791,0.6827056736050681,0.6827056736050681,0.948011731019432,0.948011731019432,-0.24586552734521058,-0.24586552734521058,-0.24586552734521058,-0.24586552734521058,-0.24586552734521058,-0.24586552734521058,-0.24586552734521058,-0.7101511278203487,-0.7101511278203487,0.2681649588951229,0.2681649588951229,0.2681649588951229,0.9148484738426359,0.9148484738426359,0.9148484738426359,0.9148484738426359,0.9148484738426359,0.9148484738426359,1.7107666460857303,1.7107666460857303,1.7107666460857303,1.7107666460857303,1.7107666460857303,-0.015177141881118145,-0.015177141881118145,0.5117282968710015,-0.41945731488729,0.513644316648282,-0.09373395274961599,0.5519647121938906,0.7627268876947385,1.015641498295756,0.9524128456455017,-0.30832816780502476,-0.30832816780502476,0.29521806203831236,0.4005991497887363,0.9562448852000626,1.2915483462241386,1.578951312816204,1.8184537849762583,-2.0461581057983795,-1.3065744717681316,-1.2395137795633162,-1.3027424322135706,-1.3027424322135706,-0.8199054483389009,-1.128384632481051,-1.0862321973808815,-1.0862321973808815,-0.6991962023702335,-0.040085398985763805,0.4887360595436363,-1.6150536559102815,-1.4119555595185553,-1.3774672035275075,-1.1801171664676227,-1.1494608500311359,-1.0459957820579924,-1.0191715051760661,-0.6129753123926139,-0.5114262641967509,-0.48268596753754434,-0.35239662268247474,-0.17420678339539428,-0.5037621850876292,-0.41945731488729,-1.3065744717681316,-1.2395137795633162,0.3412025366930428,2.8933408800305824,2.8933408800305824,2.671082585866052,-1.2759181553316445,-1.2567579575588401,-1.247177858672438,-1.1705370675812206,-1.1609569686948185,-0.3370684644642313,-0.3370684644642313,-0.32748836557782907,-0.10714609119057904,-0.32748836557782907,-0.27958787114581823,-0.32748836557782907,-0.27958787114581823,-0.21635921849556383,-0.25084757448661166,0.21857727094709495,0.276057864265508,1.8376139827490627,2.287878630409965,1.7992935872034541,2.3261990259555736,2.2687184326371606,2.163337344886737,2.5752815970020304,2.22081793820515,0.6784220174943995,-1.2222696015677923,-1.172453087358501,-1.057491900721675,-0.7873331121251336,-0.35622866223703564,-0.4367014928828139,0.5308884946438059,0.6994982350444842,0.7090783339308864,-0.3658087611234378,-0.2891679700322204,-0.29300000958678124,-0.29300000958678124,-1.277834175108925,-1.0325836436170293,-1.2222696015677923,-1.1839492060221837,-1.0191715051760661,-1.159040948917538,-1.0115074260669445,-1.1207205533719293,-0.9942632480714205,-1.0498278216125532,-0.44436557199193566,-0.4865180070921052,1.03288567629128,1.4180056515246473,0.9658249840864647,0.9869012016365495,1.117190546491619,1.117190546491619,0.8891841929952473,1.2283196935738843,1.2915483462241386,1.6747523016802257,0.9945652807456712,1.3337007813243082,1.3969294339745626,1.7801333894306497,0.9945652807456712,1.3337007813243082,1.099946368496095,-1.2222696015677923,-0.8199054483389009,-1.128384632481051,-1.0862321973808815,-0.6991962023702335,-0.040085398985763805,0.5021481979845994,0.42550740689338196,0.3833549717932124,0.3833549717932124,0.46765984199355154,1.5521270359342778,0.19558503361972973,0.26647776537910584,0.28947000270647105,0.3871870113477733,0.482988000211795,0.557712771525732,-0.9693549909667749,-0.8352336065571444,-0.6053112332834922,-0.7873331121251336,-0.701112222147514,-0.4137092555554487,-0.32748836557782907,-0.08798589341777469,-0.5095102444194705,-0.19336698116819862,-0.26042767337301387,0.18025687540148624,-1.093896276490003,-0.9885151887395792,-1.03641568317159,-0.5286704421922748,-0.5095102444194705,1.0616259729504864,-0.9099583778710814,-0.8563098241072292,-0.538250541078677,-0.538250541078677,-0.8850501207664357,-0.8314015670025836,-0.7969132110115357,-0.7413486374704031,-0.6742879452655879,-0.5574107388514813,-0.4903500466466661,-0.030505300099361626,-0.038169379208483366,-0.00942908254927684,0.23582144894261886,0.3028821411474341,0.8029633030176277,-0.44053353243737475,-0.14546648673618773,-0.2719237920366965,-0.2719237920366965,-0.1876189218363573,0.8048793227949081,0.8815201138861255,1.1018623882733756,1.1401827838189842,-0.5650748179606031,-0.6647078463791857,-0.5593267586287618,-0.6589597870473444,-0.538250541078677,-0.4539456708783378,-0.4903500466466661,-0.5784869564015661,-0.6417156090518205,0.20133309295157104,0.04421947121457535,0.013563154778088383,0.6822540570489602,0.9160084698771733,0.7263225119264103,0.9313366280954168,0.9370846874272581,1.1516789024826668,0.7588948481401777,0.94474876653638,0.8738560347770038,1.266640089119493,0.9696570236410256,0.1702284246708968,0.1702284246708968,1.2556366927149138,-0.05695005003599049,0.2711966356517356,0.14498637192568709,0.14498637192568709,0.14498637192568709,0.902247954281978,1.407089009186172,-0.08219210278120019,-0.08219210278120019,0.42264895212299375,0.42264895212299375,0.42264895212299375,1.9624141695807853,1.9624141695807853,1.9624141695807853,-1.4200208982773141,-0.8646957378827008,-0.8646957378827008,-0.9151798433731202,-0.9151798433731202,-0.05695005003599049,-0.9151798433731202,-0.9151798433731202,-0.9151798433731202,-0.05695005003599049,-0.41033878846892624,1.0284582180080266,-1.1676003708252172,-0.7132434214114426,-1.117116265334798,-0.7132434214114426,-0.7132434214114426,-0.7132434214114426,-0.7132434214114426,-0.46082289395934567,-0.46082289395934567,-0.46082289395934567,-0.46082289395934567,-0.08219210278120019,-0.10743415552640989,-0.6627593159210232,-0.8646957378827008,-0.8646957378827008,-0.35985468297850687,1.810961853109527,1.810961853109527,3.981778389197561,-0.9151798433731202,-0.9151798433731202,-0.9151798433731202,-0.9151798433731202,-0.9151798433731202,-0.08219210278120019,-0.08219210278120019,-0.08219210278120019,0.7760376905559295,-0.5113069994497651,-0.5113069994497651,-0.5113069994497651,-0.5113069994497651,-1.016148054353959,-0.5113069994497651,0.39740689937778406,-0.8142116323922814,0.4731330576134132,0.4731330576134132,0.4731330576134132,0.4731330576134132,1.2808787454601236,1.2808787454601236,2.012898275071205,2.012898275071205,1.7857198003643175,-0.9151798433731202,-0.9151798433731202,-0.9151798433731202,-0.05695005003599049,0.29643868839694526,-0.41033878846892624,1.0284582180080266,1.0284582180080266,1.0284582180080266,-0.41033878846892624,-0.41033878846892624,0.29643868839694526,0.29643868839694526,-0.8899377906279106,-1.2433265290608464,-0.8899377906279106,-0.8899377906279106,-0.8899377906279106,-0.8899377906279106,-0.8899377906279106,-0.8899377906279106,-0.8899377906279106,-0.8899377906279106,-0.18316031376203898,-0.18316031376203898,1.2051525872244944,1.2051525872244944,1.2051525872244944,1.407089009186172,2.4167711189945598,1.407089009186172,-0.18316031376203898,-0.23364441925245838,-0.18316031376203898,-0.23364441925245838,-0.23364441925245838,-0.23364441925245838,-0.23364441925245838,-0.23364441925245838,-0.18316031376203898,-0.23364441925245838,0.9527320597723974,-0.9151798433731202,-0.05695005003599049,-0.9151798433731202,-0.9151798433731202,-0.9151798433731202,-0.41033878846892624,1.0284582180080266,0.9779741125176071,2.5934654882110277,2.5934654882110277,2.5934654882110277,4.6380717605730135,0.14498637192568709,0.14498637192568709,0.14498637192568709,0.14498637192568709,1.407089009186172,1.407089009186172,-0.8899377906279106,-0.7889695796470717,-0.7889695796470717,-0.5617911049401845,-0.5617911049401845,-0.25888647199766807,-0.5617911049401845,0.1702284246708968,-0.5617911049401845,-0.25888647199766807,-0.5617911049401845,0.1702284246708968,-1.0666321598443784,-1.0666321598443784,-1.0666321598443784,-1.0666321598443784,-1.0666321598443784,-1.0666321598443784,-0.8646957378827008,-0.8646957378827008,-1.2180844763156367,-1.2180844763156367,-0.8646957378827008,-0.8646957378827008,-0.8646957378827008,-0.8646957378827008,-0.8646957378827008,0.1954704774161065,0.1954704774161065,0.29643868839694526,0.29643868839694526,0.29643868839694526,0.29643868839694526,0.29643868839694526,0.29643868839694526,-0.3093705774880875,-0.7889695796470717,-0.3093705774880875,-0.3093705774880875,-0.3093705774880875,1.4323310619313816,1.4323310619313816,1.3061207982053331,1.3061207982053331,-1.3190526872964754,-0.48606494670455536,-1.3190526872964754,-0.48606494670455536,-0.48606494670455536,-0.9151798433731202,-0.10743415552640989,-0.35985468297850687,-0.35985468297850687,0.14498637192568709,-0.9151798433731202,-0.41033878846892624,0.2459545829065259,0.2459545829065259,0.2459545829065259,0.2459545829065259,1.4575731146765913,1.4575731146765913,0.2459545829065259,1.407089009186172,0.7507956378107199,0.044018160944848304,0.2459545829065259,-0.42080359977739384,-0.42080359977739384,-0.22654974928322474,0.21052141432866037,0.21052141432866037,0.2671787873894616,1.5136409947270566,1.5136409947270566,1.5136409947270566,0.34002398132477385,0.22670923520317598,0.22670923520317598,0.22670923520317598,0.22670923520317598,1.2141663085485441,1.2141663085485441,1.6026740095368868,1.8616791435291138,-2.6628167908976184,-1.4649180461835631,-1.2301946435031061,-1.351603300061963,-1.351603300061963,-1.351603300061963,-1.351603300061963,-1.351603300061963,-1.351603300061963,-1.351603300061963,0.0486432055835179,-0.06467154053808227,-2.379529925593619,-2.379529925593619,-1.9424587619817337,-1.9424587619817337,-1.9424587619817337,-0.8578747633892789,-1.3677911209364786,-0.5260244354617374,-0.5260244354617374,0.1133944890815758,0.1133944890815758,0.1133944890815758,-0.3965218684656239,-0.26701930146951036,-1.4649180461835631,-1.4649180461835631,-0.11323500316162455,2.0721208148977985,2.0721208148977985,1.4327018903544855,-1.2059129121913361,-1.2059129121913361,-1.2059129121913361,-0.5826818085225363,-0.5826818085225363,-0.40461577890288053,-0.40461577890288053,-0.40461577890288053,-0.40461577890288053,0.3076483395757472,0.3076483395757472,0.3076483395757472,0.3076483395757472,0.3076483395757472,0.3076483395757472,0.08101884733254686,0.08101884733254686,1.3679506068564298,1.3679506068564298,1.092757651989687,2.314938128015512,2.314938128015512,0.5099961005071753,2.760103202064654,2.0397451731487695,0.3562118021992895,-1.351603300061963,-1.351603300061963,-1.351603300061963,-1.351603300061963,-0.0808593614125956,-0.0808593614125956,-0.06467154053808227,-0.06467154053808227,-0.06467154053808227,-0.1294228240361379,-0.1294228240361379,-0.1294228240361379,-0.1294228240361379,-0.7040904650813932,-0.7040904650813932,-0.7040904650813932,-0.7040904650813932,-0.307488853655796,-0.7040904650813932,-0.6798087337696231,-0.7040904650813932,-0.307488853655796,-0.9388138677618502,-0.048483719663566655,-0.048483719663566655,0.6233108466287731,0.8580342493092302,0.8580342493092302,-0.26701930146951036,-0.26701930146951036,0.36430571263654615,1.0280063684916292,1.0280063684916292,2.0154634418369994,2.0154634418369994,1.0280063684916292,1.0280063684916292,2.0154634418369994,2.0154634418369994,1.0280063684916292,1.0280063684916292,1.0280063684916292,-1.351603300061963,-1.351603300061963,-1.351603300061963,-0.5422122563362507,-0.5422122563362507,0.0486432055835179,-0.06467154053808227,-0.4127096893401372,-0.4127096893401372,-0.4127096893401372,-0.4127096893401372,0.1376762203933458,1.0199124580543726,1.0199124580543726,1.0199124580543726,1.0199124580543726,1.0199124580543726,1.0199124580543726,-1.3839789418109918,-1.3030398374384207,-1.351603300061963,-0.16179846578516682,-0.16179846578516682,-0.16179846578516682,-0.16179846578516682,-0.16179846578516682,-0.04038980922630999,-0.04038980922630999,-0.032295898789053326,-0.032295898789053326,-1.238288553940365,-1.238288553940365,-1.238288553940365,-0.3479584058420816,-0.3479584058420816,-0.3479584058420816,-0.6231513607088219,-0.6231513607088219,-0.6231513607088219,-0.6231513607088219,-0.6231513607088219,-0.6231513607088219,-0.6231513607088219,-0.4288975102146528,-0.4288975102146528,-0.4288975102146528,-0.4288975102146528,0.1781457725796314,0.1781457725796314,0.1781457725796314,0.1781457725796314,0.1781457725796314,0.1781457725796314,0.12958230995608913,0.12958230995608913,0.12958230995608913,0.12958230995608913,0.12958230995608913,0.7690012344994023,0.7690012344994023,1.1170393833014596,1.1170393833014596,-0.18608019709693913,-0.18608019709693913,-0.18608019709693913,-0.18608019709693913,-0.18608019709693913,-0.18608019709693913,-0.18608019709693913,-1.1897250913168205,-0.6717148233323664,0.5019021900699163,0.5019021900699163,0.7366255927503733,1.1979784876740307,1.1979784876740307,1.1979784876740307,1.1979784876740307,1.1979784876740307,1.1979784876740307,1.1979784876740307,1.1979784876740307,1.1979784876740307,1.1979784876740307,1.1979784876740307,-0.8380833257563953,-0.8380833257563953,-0.18677547456698312,0.138878451027723,0.23192242976906854,0.18540044039839246,2.558021898302674,2.558021898302674,2.558021898302674,0.9297522703291502,-0.5124294001616893,-0.5124294001616893,-0.5124294001616893,-0.5124294001616893,0.46453237662242913,0.46453237662242913,0.9297522703291502,2.3254119514493135,-2.6059189218419343,-1.0706932726097527,-1.0706932726097527,-0.9776492938684104,-0.9776492938684104,-0.9776492938684104,-0.9776492938684104,-0.9776492938684104,-0.9776492938684104,-0.9776492938684104,-0.6054733789030348,0.18540044039839246,-0.9311273044977376,-0.9311273044977376,-0.8846053151270649,-0.8846053151270649,-0.8846053151270649,-0.8846053151270649,-0.9311273044977376,-0.3263414426789981,-0.3263414426789981,-0.3263414426789981,-1.5824351556871465,-0.3263414426789981,0.045834472286377444,-1.9080890812818527,-1.0706932726097527,-1.0706932726097527,-0.3263414426789981,1.720626089630571,1.720626089630571,2.185845983337292,-0.7915613363857192,-0.7915613363857192,-0.7915613363857192,-0.7915613363857192,-0.7915613363857192,-0.09373149582563757,-0.09373149582563757,-0.09373149582563757,-0.09373149582563757,0.278444419139738,0.278444419139738,0.278444419139738,0.278444419139738,0.278444419139738,0.278444419139738,0.09235646165704692,0.09235646165704692,2.046280015225277,2.046280015225277,2.046280015225277,2.6975878664146893,2.6975878664146893,2.1393239939666224,2.6975878664146893,2.8371538345267044,0.9762742596998197,-0.6985173576443737,-0.6985173576443737,-0.6985173576443737,-0.9776492938684104,-0.2332974639376526,-0.2332974639376526,0.18540044039839246,0.18540044039839246,0.18540044039839246,-0.2332974639376526,-0.2332974639376526,-0.2332974639376526,-0.2332974639376526,-0.9776492938684104,-0.9776492938684104,-0.9776492938684104,-0.9776492938684104,-0.9776492938684104,-0.9776492938684104,-0.9776492938684104,-0.9776492938684104,-0.9776492938684104,-0.9776492938684104,-0.3263414426789981,-0.3263414426789981,0.278444419139738,0.278444419139738,0.278444419139738,0.9297522703291502,0.9297522703291502,0.9297522703291502,1.1623622171825108,1.1623622171825108,1.1623622171825108,1.1623622171825108,1.1623622171825108,1.1623622171825108,1.1623622171825108,1.1623622171825108,1.1623622171825108,1.1623622171825108,1.1158402278118347,-0.9776492938684104,-0.9776492938684104,-0.9776492938684104,-0.9776492938684104,-0.9776492938684104,-0.6054733789030348,0.18540044039839246,1.1158402278118347,-0.4193854214203437,-0.4193854214203437,-0.4193854214203437,2.976719802638719,0.278444419139738,0.278444419139738,0.278444419139738,0.278444419139738,0.278444419139738,0.278444419139738,-1.1637372513510982,-1.0706932726097527,-0.9776492938684104,-0.2332974639376526,-0.2332974639376526,-0.2332974639376526,-0.2332974639376526,-0.2332974639376526,-0.2332974639376526,-0.2332974639376526,-0.2332974639376526,-0.2332974639376526,-1.0706932726097527,-1.0706932726097527,-1.0706932726097527,-1.0706932726097527,-1.0706932726097527,-1.0706932726097527,-0.6985173576443737,-0.6985173576443737,-0.6985173576443737,-0.6985173576443737,-0.6985173576443737,-0.6985173576443737,-0.6985173576443737,-0.8846053151270649,-0.8846053151270649,-0.8846053151270649,-0.8846053151270649,-0.14025348519631364,-0.14025348519631364,-0.14025348519631364,-0.14025348519631364,-0.14025348519631364,-0.14025348519631364,0.278444419139738,0.278444419139738,0.278444419139738,0.278444419139738,0.278444419139738,0.8367082915878047,0.8367082915878047,0.278444419139738,0.278444419139738,-0.18677547456698312,-0.18677547456698312,-0.18677547456698312,-0.18677547456698312,-0.18677547456698312,-0.18677547456698312,-0.18677547456698312,-0.7915613363857192,-0.8846053151270649,0.46453237662242913,0.46453237662242913,0.46453237662242913,0.6040983447344441,0.6040983447344441,0.6040983447344441,0.6040983447344441,0.6040983447344441,0.6040983447344441,1.3949721640358714,1.3484501746651953,1.3949721640358714,1.3949721640358714,1.3949721640358714,-2.0245473324091487,-2.0245473324091487,-0.547224126693119,0.23247423187922903,0.23247423187922903,-0.2599668366927789,0.8069888118799093,0.8069888118799093,0.8890623233085759,-0.7113711495504551,0.23247423187922903,0.23247423187922903,0.23247423187922903,0.23247423187922903,0.8069888118799093,0.8069888118799093,-0.013746302406773487,1.0532093461659118,-0.21893008097844419,-0.7113711495504551,-0.7113711495504551,-1.203812218122466,-1.203812218122466,-1.203812218122466,-1.2858857295511326,-1.2858857295511326,-1.2858857295511326,-1.2858857295511326,2.4894957961676067,-1.4500327524084684,-1.203812218122466,-1.203812218122466,-0.4651506152644496,-0.4651506152644496,-0.4651506152644496,0.3145477433078985,1.8739444604525948,-0.1778933252641124,-0.1778933252641124,0.1504007204505625,0.1504007204505625,0.1504007204505625,-1.1217387066937965,-0.09581981383544294,-0.7113711495504551,-0.7113711495504551,-0.9575916838364605,-0.3830771038357831,-0.3830771038357831,-2.4349148895524904,0.1504007204505625,0.1504007204505625,0.1504007204505625,0.1504007204505625,0.1504007204505625,-1.696253286694474,-1.696253286694474,-1.696253286694474,-1.696253286694474,-0.013746302406773487,0.7249153004512399,-0.013746302406773487,0.7249153004512399,0.7249153004512399,0.7249153004512399,0.27351098759356374,0.27351098759356374,1.1352828575945813,2.0380914833099335,0.4786947661652345,1.0532093461659118,1.1352828575945813,-1.203812218122466,1.2173563690232507,0.6838785447369051,0.43765801045089975,-1.203812218122466,-1.203812218122466,-1.203812218122466,-1.203812218122466,-1.7783267981231434,-1.7783267981231434,-1.4500327524084684,-1.4500327524084684,-1.4500327524084684,-0.8755181724077911,-0.8755181724077911,-0.8755181724077911,-0.8755181724077911,0.3145477433078985,0.3145477433078985,0.3145477433078985,0.3145477433078985,-0.09581981383544294,0.3145477433078985,-0.1778933252641124,0.3145477433078985,-0.09581981383544294,-0.1778933252641124,0.39662125473656795,0.39662125473656795,0.5607682775939039,0.9711358347372453,0.5607682775939039,-1.6552165309801392,-1.6552165309801392,-1.6552165309801392,1.2173563690232507,1.2173563690232507,2.0380914833099335,2.0380914833099335,1.2173563690232507,1.2173563690232507,1.2173563690232507,2.0380914833099335,1.2173563690232507,1.2173563690232507,0.9300990790229106,-1.203812218122466,-1.203812218122466,-1.2858857295511326,-1.203812218122466,-1.203812218122466,2.4894957961676067,-1.4500327524084684,-1.4500327524084684,-0.8755181724077911,-0.8755181724077911,-0.8755181724077911,-1.326922485265467,0.9711358347372453,0.9711358347372453,0.9711358347372453,0.9711358347372453,0.9711358347372453,0.9711358347372453,-0.013746302406773487,-0.013746302406773487,0.8069888118799093,-0.5061873709787843,-0.5061873709787843,-0.5061873709787843,0.23247423187922903,0.23247423187922903,-0.30100359240711366,-0.30100359240711366,0.4786947661652345,0.4786947661652345,0.3145477433078985,0.3145477433078985,0.3145477433078985,2.2022385061672693,2.2022385061672693,2.2022385061672693,-0.30100359240711366,-0.3830771038357831,-0.30100359240711366,-0.3830771038357831,-0.30100359240711366,-0.3830771038357831,-0.3830771038357831,-0.4651506152644496,-0.4651506152644496,-0.4651506152644496,-0.4651506152644496,-0.7113711495504551,-0.7113711495504551,-0.7113711495504551,-0.7113711495504551,-0.7113711495504551,-0.30100359240711366,0.4786947661652345,0.4786947661652345,0.06832720902189304,0.4786947661652345,0.06832720902189304,-0.7113711495504551,-0.7113711495504551,0.1504007204505625,0.1504007204505625,0.8069888118799093,0.8069888118799093,0.8069888118799093,0.8069888118799093,0.8069888118799093,0.8069888118799093,0.8069888118799093,0.7659520561655746,-0.9575916838364605,0.5607682775939039,0.5607682775939039,0.5607682775939039,1.0121725904515801,1.5456504147379226,1.0121725904515801,1.5456504147379226,1.0121725904515801,1.5456504147379226,0.7249153004512399,0.7249153004512399,0.7249153004512399,0.7249153004512399,0.7249153004512399,-0.6470944817692953,-0.6470944817692953,-0.9522284650426214,-0.18939350685930612,-1.1047954566792844,-0.9522284650426214,-0.9522284650426214,-0.9522284650426214,-1.2573624483159476,-1.4099294399526106,-0.34196049849596916,-0.34196049849596916,-0.6470944817692953,-0.6470944817692953,-0.7996614734059584,-1.4099294399526106,-1.4099294399526106,-1.5624964315892735,3.319647300783944,1.9465443760539767,1.9465443760539767,1.7939773844173137,0.8785754345973353,-0.18939350685930612,0.8785754345973353,0.8785754345973353,0.8785754345973353,-0.18939350685930612,-0.18939350685930612,-0.9522284650426214,3.62478128405727,0.8785754345973353,1.9465443760539767,0.7260084429606722,0.7260084429606722,0.7260084429606722,0.7260084429606722,0.26830746805068306,0.26830746805068306,0.26830746805068306,0.26830746805068306,-0.18939350685930612,-0.036826515222643054,-0.18939350685930612,1.9465443760539767,1.9465443760539767,-0.18939350685930612,-1.5624964315892735,-1.5624964315892735,-1.8676304148625997,0.7260084429606722,0.8785754345973353,0.8785754345973353,0.8785754345973353,0.8785754345973353,-1.2573624483159476,-1.2573624483159476,-1.2573624483159476,-1.4099294399526106,0.11574047641402001,0.11574047641402001,0.11574047641402001,0.11574047641402001,1.6414103927806507,0.11574047641402001,-0.9522284650426214,0.8785754345973353,-0.49452749013263225,-0.49452749013263225,-0.49452749013263225,-0.49452749013263225,-1.4099294399526106,-1.4099294399526106,-1.7150634232259367,-1.7150634232259367,-0.9522284650426214,1.7939773844173137,0.8785754345973353,0.8785754345973353,-0.18939350685930612,-0.34196049849596916,-0.036826515222643054,-0.9522284650426214,-0.9522284650426214,-0.9522284650426214,-0.036826515222643054,-0.036826515222643054,-0.34196049849596916,-0.34196049849596916,0.8785754345973353,3.0145133175106182,0.8785754345973353,0.8785754345973353,0.8785754345973353,0.8785754345973353,0.8785754345973353,0.8785754345973353,0.8785754345973353,0.8785754345973353,0.26830746805068306,0.26830746805068306,-1.2573624483159476,-1.2573624483159476,-0.9522284650426214,-0.9522284650426214,-1.2573624483159476,-0.9522284650426214,-0.9522284650426214,0.4208744596873461,-0.9522284650426214,-0.036826515222643054,-0.9522284650426214,0.4208744596873461,-0.9522284650426214,-0.036826515222643054,-0.9522284650426214,0.4208744596873461,-1.1047954566792844,1.7939773844173137,-0.18939350685930612,0.8785754345973353,0.8785754345973353,0.8785754345973353,-0.18939350685930612,-0.9522284650426214,-0.9522284650426214,-1.2573624483159476,-1.2573624483159476,-1.2573624483159476,-1.2573624483159476,-0.6470944817692953,-0.6470944817692953,-0.6470944817692953,-0.6470944817692953,-0.9522284650426214,-0.9522284650426214,0.8785754345973353,0.11574047641402001,0.11574047641402001,1.0311424262339983,0.4208744596873461,0.11574047641402001,-0.18939350685930612,-0.18939350685930612,0.4208744596873461,-0.036826515222643054,-0.34196049849596916,-0.34196049849596916,1.4888434011439875,0.8785754345973353,0.8785754345973353,0.8785754345973353,0.26830746805068306,0.26830746805068306,0.7260084429606722,0.7260084429606722,1.3362764095073245,1.9465443760539767,1.9465443760539767,0.4208744596873461,0.4208744596873461,0.5734414513240091,0.5734414513240091,0.11574047641402001,0.11574047641402001,-0.18939350685930612,-0.18939350685930612,-0.18939350685930612,-0.18939350685930612,-0.18939350685930612,-0.18939350685930612,0.5734414513240091,0.7260084429606722,0.26830746805068306,0.26830746805068306,0.26830746805068306,-0.7996614734059584,-0.9522284650426214,-0.7996614734059584,-0.9522284650426214,1.7939773844173137,0.26830746805068306,1.7939773844173137,0.26830746805068306,0.26830746805068306,1.7939773844173137,0.11574047641402001,-0.18939350685930612,-0.18939350685930612,-0.9522284650426214,1.1837094178706615,-0.036826515222643054,-0.34196049849596916,-0.34196049849596916,-0.18939350685930612,-0.18939350685930612,-1.2573624483159476,-1.2573624483159476,-0.34196049849596916,-0.9522284650426214,-1.1047954566792844,0.11574047641402001,-0.9522284650426214,-0.5430369664067058,-0.5430369664067058,-0.6878943963417402,-0.10846467660160242,-1.267324116081878,-0.8327518262767747,-0.8327518262767747,-0.8327518262767747,-1.557038975951947,-1.267324116081878,-0.2533221065366369,-0.2533221065366369,-0.3981795364716713,-0.3981795364716713,-0.8327518262767747,-1.267324116081878,-1.267324116081878,-1.557038975951947,3.2232562119041903,1.7746819125538456,1.7746819125538456,1.4849670526837766,1.0503947628786732,-0.10846467660160242,1.0503947628786732,1.0503947628786732,1.0503947628786732,-0.10846467660160242,-0.10846467660160242,-0.9776092562118092,3.3681136418392246,1.0503947628786732,1.629824482618811,0.47096504313853543,0.47096504313853543,0.47096504313853543,0.47096504313853543,0.32610761320350096,0.32610761320350096,0.32610761320350096,0.32610761320350096,-0.3981795364716713,0.03639275333343205,-0.2533221065366369,1.7746819125538456,1.7746819125538456,-0.2533221065366369,-1.7018964058869814,-1.7018964058869814,-1.9916112657570504,0.03639275333343205,1.0503947628786732,1.0503947628786732,1.0503947628786732,1.0503947628786732,-1.1224666861468435,-1.1224666861468435,-1.1224666861468435,-1.1224666861468435,0.1812501832684665,0.1812501832684665,0.1812501832684665,0.1812501832684665,1.629824482618811,0.1812501832684665,-0.5430369664067058,1.1952521928137076,-0.8327518262767747,-0.8327518262767747,-0.8327518262767747,-0.8327518262767747,-1.846753835822016,-1.846753835822016,-2.1364686956920846,-2.1364686956920846,-0.9776092562118092,1.4849670526837766,1.0503947628786732,1.0503947628786732,-0.10846467660160242,-0.10846467660160242,0.1812501832684665,-0.9776092562118092,-0.9776092562118092,-0.9776092562118092,0.1812501832684665,0.1812501832684665,-0.10846467660160242,-0.10846467660160242,0.9055373329436388,2.7886839220990867,0.9055373329436388,0.9055373329436388,0.9055373329436388,0.9055373329436388,0.9055373329436388,0.9055373329436388,0.9055373329436388,0.9055373329436388,0.47096504313853543,0.47096504313853543,-1.267324116081878,-1.267324116081878,-0.8327518262767747,-0.8327518262767747,-1.1224666861468435,-0.8327518262767747,-0.9776092562118092,0.32610761320350096,-0.9776092562118092,-0.8327518262767747,-0.9776092562118092,0.32610761320350096,-0.9776092562118092,-0.8327518262767747,-0.9776092562118092,0.32610761320350096,-0.9776092562118092,1.4849670526837766,-0.10846467660160242,1.0503947628786732,1.0503947628786732,1.0503947628786732,-0.10846467660160242,-0.9776092562118092,-0.5430369664067058,-0.8327518262767747,-0.8327518262767747,-0.8327518262767747,-0.3981795364716713,-0.3981795364716713,-0.3981795364716713,-0.3981795364716713,-0.3981795364716713,-0.6878943963417402,-0.6878943963417402,0.7606799030086043,0.03639275333343205,0.03639275333343205,0.9055373329436388,0.32610761320350096,0.1812501832684665,-0.8327518262767747,-0.2533221065366369,0.1812501832684665,0.03639275333343205,-0.2533221065366369,-1.1224666861468435,1.1952521928137076,1.0503947628786732,1.0503947628786732,0.9055373329436388,0.1812501832684665,0.1812501832684665,0.9055373329436388,0.9055373329436388,0.7606799030086043,2.3541116322939835,2.3541116322939835,0.47096504313853543,0.47096504313853543,0.47096504313853543,0.47096504313853543,-0.2533221065366369,-0.2533221065366369,-0.10846467660160242,-0.10846467660160242,-0.10846467660160242,-0.10846467660160242,-0.10846467660160242,-0.10846467660160242,0.47096504313853543,0.32610761320350096,0.1812501832684665,0.1812501832684665,0.1812501832684665,-0.9776092562118092,-0.9776092562118092,-0.9776092562118092,-0.9776092562118092,2.2092542023589488,0.47096504313853543,2.2092542023589488,0.47096504313853543,0.47096504313853543,1.629824482618811,0.1812501832684665,-0.2533221065366369,-0.2533221065366369,-0.9776092562118092,1.0503947628786732,0.03639275333343205,-0.3981795364716713,-0.3981795364716713,-0.3981795364716713,-0.3981795364716713,-1.267324116081878,-1.267324116081878,-0.3981795364716713,-0.8327518262767747,-1.1224666861468435,-0.5430369664067058,-0.8327518262767747],\"y0\":\" \",\"yaxis\":\"y\",\"type\":\"box\"}],                        {\"template\":{\"data\":{\"histogram2dcontour\":[{\"type\":\"histogram2dcontour\",\"colorbar\":{\"outlinewidth\":0,\"ticks\":\"\"},\"colorscale\":[[0.0,\"#0d0887\"],[0.1111111111111111,\"#46039f\"],[0.2222222222222222,\"#7201a8\"],[0.3333333333333333,\"#9c179e\"],[0.4444444444444444,\"#bd3786\"],[0.5555555555555556,\"#d8576b\"],[0.6666666666666666,\"#ed7953\"],[0.7777777777777778,\"#fb9f3a\"],[0.8888888888888888,\"#fdca26\"],[1.0,\"#f0f921\"]]}],\"choropleth\":[{\"type\":\"choropleth\",\"colorbar\":{\"outlinewidth\":0,\"ticks\":\"\"}}],\"histogram2d\":[{\"type\":\"histogram2d\",\"colorbar\":{\"outlinewidth\":0,\"ticks\":\"\"},\"colorscale\":[[0.0,\"#0d0887\"],[0.1111111111111111,\"#46039f\"],[0.2222222222222222,\"#7201a8\"],[0.3333333333333333,\"#9c179e\"],[0.4444444444444444,\"#bd3786\"],[0.5555555555555556,\"#d8576b\"],[0.6666666666666666,\"#ed7953\"],[0.7777777777777778,\"#fb9f3a\"],[0.8888888888888888,\"#fdca26\"],[1.0,\"#f0f921\"]]}],\"heatmap\":[{\"type\":\"heatmap\",\"colorbar\":{\"outlinewidth\":0,\"ticks\":\"\"},\"colorscale\":[[0.0,\"#0d0887\"],[0.1111111111111111,\"#46039f\"],[0.2222222222222222,\"#7201a8\"],[0.3333333333333333,\"#9c179e\"],[0.4444444444444444,\"#bd3786\"],[0.5555555555555556,\"#d8576b\"],[0.6666666666666666,\"#ed7953\"],[0.7777777777777778,\"#fb9f3a\"],[0.8888888888888888,\"#fdca26\"],[1.0,\"#f0f921\"]]}],\"heatmapgl\":[{\"type\":\"heatmapgl\",\"colorbar\":{\"outlinewidth\":0,\"ticks\":\"\"},\"colorscale\":[[0.0,\"#0d0887\"],[0.1111111111111111,\"#46039f\"],[0.2222222222222222,\"#7201a8\"],[0.3333333333333333,\"#9c179e\"],[0.4444444444444444,\"#bd3786\"],[0.5555555555555556,\"#d8576b\"],[0.6666666666666666,\"#ed7953\"],[0.7777777777777778,\"#fb9f3a\"],[0.8888888888888888,\"#fdca26\"],[1.0,\"#f0f921\"]]}],\"contourcarpet\":[{\"type\":\"contourcarpet\",\"colorbar\":{\"outlinewidth\":0,\"ticks\":\"\"}}],\"contour\":[{\"type\":\"contour\",\"colorbar\":{\"outlinewidth\":0,\"ticks\":\"\"},\"colorscale\":[[0.0,\"#0d0887\"],[0.1111111111111111,\"#46039f\"],[0.2222222222222222,\"#7201a8\"],[0.3333333333333333,\"#9c179e\"],[0.4444444444444444,\"#bd3786\"],[0.5555555555555556,\"#d8576b\"],[0.6666666666666666,\"#ed7953\"],[0.7777777777777778,\"#fb9f3a\"],[0.8888888888888888,\"#fdca26\"],[1.0,\"#f0f921\"]]}],\"surface\":[{\"type\":\"surface\",\"colorbar\":{\"outlinewidth\":0,\"ticks\":\"\"},\"colorscale\":[[0.0,\"#0d0887\"],[0.1111111111111111,\"#46039f\"],[0.2222222222222222,\"#7201a8\"],[0.3333333333333333,\"#9c179e\"],[0.4444444444444444,\"#bd3786\"],[0.5555555555555556,\"#d8576b\"],[0.6666666666666666,\"#ed7953\"],[0.7777777777777778,\"#fb9f3a\"],[0.8888888888888888,\"#fdca26\"],[1.0,\"#f0f921\"]]}],\"mesh3d\":[{\"type\":\"mesh3d\",\"colorbar\":{\"outlinewidth\":0,\"ticks\":\"\"}}],\"scatter\":[{\"fillpattern\":{\"fillmode\":\"overlay\",\"size\":10,\"solidity\":0.2},\"type\":\"scatter\"}],\"parcoords\":[{\"type\":\"parcoords\",\"line\":{\"colorbar\":{\"outlinewidth\":0,\"ticks\":\"\"}}}],\"scatterpolargl\":[{\"type\":\"scatterpolargl\",\"marker\":{\"colorbar\":{\"outlinewidth\":0,\"ticks\":\"\"}}}],\"bar\":[{\"error_x\":{\"color\":\"#2a3f5f\"},\"error_y\":{\"color\":\"#2a3f5f\"},\"marker\":{\"line\":{\"color\":\"#E5ECF6\",\"width\":0.5},\"pattern\":{\"fillmode\":\"overlay\",\"size\":10,\"solidity\":0.2}},\"type\":\"bar\"}],\"scattergeo\":[{\"type\":\"scattergeo\",\"marker\":{\"colorbar\":{\"outlinewidth\":0,\"ticks\":\"\"}}}],\"scatterpolar\":[{\"type\":\"scatterpolar\",\"marker\":{\"colorbar\":{\"outlinewidth\":0,\"ticks\":\"\"}}}],\"histogram\":[{\"marker\":{\"pattern\":{\"fillmode\":\"overlay\",\"size\":10,\"solidity\":0.2}},\"type\":\"histogram\"}],\"scattergl\":[{\"type\":\"scattergl\",\"marker\":{\"colorbar\":{\"outlinewidth\":0,\"ticks\":\"\"}}}],\"scatter3d\":[{\"type\":\"scatter3d\",\"line\":{\"colorbar\":{\"outlinewidth\":0,\"ticks\":\"\"}},\"marker\":{\"colorbar\":{\"outlinewidth\":0,\"ticks\":\"\"}}}],\"scattermapbox\":[{\"type\":\"scattermapbox\",\"marker\":{\"colorbar\":{\"outlinewidth\":0,\"ticks\":\"\"}}}],\"scatterternary\":[{\"type\":\"scatterternary\",\"marker\":{\"colorbar\":{\"outlinewidth\":0,\"ticks\":\"\"}}}],\"scattercarpet\":[{\"type\":\"scattercarpet\",\"marker\":{\"colorbar\":{\"outlinewidth\":0,\"ticks\":\"\"}}}],\"carpet\":[{\"aaxis\":{\"endlinecolor\":\"#2a3f5f\",\"gridcolor\":\"white\",\"linecolor\":\"white\",\"minorgridcolor\":\"white\",\"startlinecolor\":\"#2a3f5f\"},\"baxis\":{\"endlinecolor\":\"#2a3f5f\",\"gridcolor\":\"white\",\"linecolor\":\"white\",\"minorgridcolor\":\"white\",\"startlinecolor\":\"#2a3f5f\"},\"type\":\"carpet\"}],\"table\":[{\"cells\":{\"fill\":{\"color\":\"#EBF0F8\"},\"line\":{\"color\":\"white\"}},\"header\":{\"fill\":{\"color\":\"#C8D4E3\"},\"line\":{\"color\":\"white\"}},\"type\":\"table\"}],\"barpolar\":[{\"marker\":{\"line\":{\"color\":\"#E5ECF6\",\"width\":0.5},\"pattern\":{\"fillmode\":\"overlay\",\"size\":10,\"solidity\":0.2}},\"type\":\"barpolar\"}],\"pie\":[{\"automargin\":true,\"type\":\"pie\"}]},\"layout\":{\"autotypenumbers\":\"strict\",\"colorway\":[\"#636efa\",\"#EF553B\",\"#00cc96\",\"#ab63fa\",\"#FFA15A\",\"#19d3f3\",\"#FF6692\",\"#B6E880\",\"#FF97FF\",\"#FECB52\"],\"font\":{\"color\":\"#2a3f5f\"},\"hovermode\":\"closest\",\"hoverlabel\":{\"align\":\"left\"},\"paper_bgcolor\":\"white\",\"plot_bgcolor\":\"#E5ECF6\",\"polar\":{\"bgcolor\":\"#E5ECF6\",\"angularaxis\":{\"gridcolor\":\"white\",\"linecolor\":\"white\",\"ticks\":\"\"},\"radialaxis\":{\"gridcolor\":\"white\",\"linecolor\":\"white\",\"ticks\":\"\"}},\"ternary\":{\"bgcolor\":\"#E5ECF6\",\"aaxis\":{\"gridcolor\":\"white\",\"linecolor\":\"white\",\"ticks\":\"\"},\"baxis\":{\"gridcolor\":\"white\",\"linecolor\":\"white\",\"ticks\":\"\"},\"caxis\":{\"gridcolor\":\"white\",\"linecolor\":\"white\",\"ticks\":\"\"}},\"coloraxis\":{\"colorbar\":{\"outlinewidth\":0,\"ticks\":\"\"}},\"colorscale\":{\"sequential\":[[0.0,\"#0d0887\"],[0.1111111111111111,\"#46039f\"],[0.2222222222222222,\"#7201a8\"],[0.3333333333333333,\"#9c179e\"],[0.4444444444444444,\"#bd3786\"],[0.5555555555555556,\"#d8576b\"],[0.6666666666666666,\"#ed7953\"],[0.7777777777777778,\"#fb9f3a\"],[0.8888888888888888,\"#fdca26\"],[1.0,\"#f0f921\"]],\"sequentialminus\":[[0.0,\"#0d0887\"],[0.1111111111111111,\"#46039f\"],[0.2222222222222222,\"#7201a8\"],[0.3333333333333333,\"#9c179e\"],[0.4444444444444444,\"#bd3786\"],[0.5555555555555556,\"#d8576b\"],[0.6666666666666666,\"#ed7953\"],[0.7777777777777778,\"#fb9f3a\"],[0.8888888888888888,\"#fdca26\"],[1.0,\"#f0f921\"]],\"diverging\":[[0,\"#8e0152\"],[0.1,\"#c51b7d\"],[0.2,\"#de77ae\"],[0.3,\"#f1b6da\"],[0.4,\"#fde0ef\"],[0.5,\"#f7f7f7\"],[0.6,\"#e6f5d0\"],[0.7,\"#b8e186\"],[0.8,\"#7fbc41\"],[0.9,\"#4d9221\"],[1,\"#276419\"]]},\"xaxis\":{\"gridcolor\":\"white\",\"linecolor\":\"white\",\"ticks\":\"\",\"title\":{\"standoff\":15},\"zerolinecolor\":\"white\",\"automargin\":true,\"zerolinewidth\":2},\"yaxis\":{\"gridcolor\":\"white\",\"linecolor\":\"white\",\"ticks\":\"\",\"title\":{\"standoff\":15},\"zerolinecolor\":\"white\",\"automargin\":true,\"zerolinewidth\":2},\"scene\":{\"xaxis\":{\"backgroundcolor\":\"#E5ECF6\",\"gridcolor\":\"white\",\"linecolor\":\"white\",\"showbackground\":true,\"ticks\":\"\",\"zerolinecolor\":\"white\",\"gridwidth\":2},\"yaxis\":{\"backgroundcolor\":\"#E5ECF6\",\"gridcolor\":\"white\",\"linecolor\":\"white\",\"showbackground\":true,\"ticks\":\"\",\"zerolinecolor\":\"white\",\"gridwidth\":2},\"zaxis\":{\"backgroundcolor\":\"#E5ECF6\",\"gridcolor\":\"white\",\"linecolor\":\"white\",\"showbackground\":true,\"ticks\":\"\",\"zerolinecolor\":\"white\",\"gridwidth\":2}},\"shapedefaults\":{\"line\":{\"color\":\"#2a3f5f\"}},\"annotationdefaults\":{\"arrowcolor\":\"#2a3f5f\",\"arrowhead\":0,\"arrowwidth\":1},\"geo\":{\"bgcolor\":\"white\",\"landcolor\":\"#E5ECF6\",\"subunitcolor\":\"white\",\"showland\":true,\"showlakes\":true,\"lakecolor\":\"white\"},\"title\":{\"x\":0.05},\"mapbox\":{\"style\":\"light\"}}},\"xaxis\":{\"anchor\":\"y\",\"domain\":[0.0,1.0],\"title\":{\"text\":\"variable\"}},\"yaxis\":{\"anchor\":\"x\",\"domain\":[0.0,1.0],\"title\":{\"text\":\"value\"}},\"legend\":{\"tracegroupgap\":0},\"margin\":{\"t\":60},\"boxmode\":\"group\",\"height\":400,\"width\":700},                        {\"responsive\": true}                    ).then(function(){\n",
       "                            \n",
       "var gd = document.getElementById('b5448b67-c9b7-45a5-92d6-6d56f5c38202');\n",
       "var x = new MutationObserver(function (mutations, observer) {{\n",
       "        var display = window.getComputedStyle(gd).display;\n",
       "        if (!display || display === 'none') {{\n",
       "            console.log([gd, 'removed!']);\n",
       "            Plotly.purge(gd);\n",
       "            observer.disconnect();\n",
       "        }}\n",
       "}});\n",
       "\n",
       "// Listen for the removal of the full notebook cells\n",
       "var notebookContainer = gd.closest('#notebook-container');\n",
       "if (notebookContainer) {{\n",
       "    x.observe(notebookContainer, {childList: true});\n",
       "}}\n",
       "\n",
       "// Listen for the clearing of the current output cell\n",
       "var outputEl = gd.closest('.output');\n",
       "if (outputEl) {{\n",
       "    x.observe(outputEl, {childList: true});\n",
       "}}\n",
       "\n",
       "                        })                };                });            </script>        </div>"
      ]
     },
     "metadata": {},
     "output_type": "display_data"
    }
   ],
   "source": [
    "# Plotting the standardized data\n",
    "more_data_st_long = pd.melt(more_data_st)\n",
    "\n",
    "px.box(more_data_st_long, x='variable', y='value', width=700, height=400)"
   ]
  },
  {
   "cell_type": "code",
   "execution_count": 25,
   "metadata": {},
   "outputs": [
    {
     "data": {
      "text/html": [
       "<style>#sk-container-id-3 {color: black;background-color: white;}#sk-container-id-3 pre{padding: 0;}#sk-container-id-3 div.sk-toggleable {background-color: white;}#sk-container-id-3 label.sk-toggleable__label {cursor: pointer;display: block;width: 100%;margin-bottom: 0;padding: 0.3em;box-sizing: border-box;text-align: center;}#sk-container-id-3 label.sk-toggleable__label-arrow:before {content: \"▸\";float: left;margin-right: 0.25em;color: #696969;}#sk-container-id-3 label.sk-toggleable__label-arrow:hover:before {color: black;}#sk-container-id-3 div.sk-estimator:hover label.sk-toggleable__label-arrow:before {color: black;}#sk-container-id-3 div.sk-toggleable__content {max-height: 0;max-width: 0;overflow: hidden;text-align: left;background-color: #f0f8ff;}#sk-container-id-3 div.sk-toggleable__content pre {margin: 0.2em;color: black;border-radius: 0.25em;background-color: #f0f8ff;}#sk-container-id-3 input.sk-toggleable__control:checked~div.sk-toggleable__content {max-height: 200px;max-width: 100%;overflow: auto;}#sk-container-id-3 input.sk-toggleable__control:checked~label.sk-toggleable__label-arrow:before {content: \"▾\";}#sk-container-id-3 div.sk-estimator input.sk-toggleable__control:checked~label.sk-toggleable__label {background-color: #d4ebff;}#sk-container-id-3 div.sk-label input.sk-toggleable__control:checked~label.sk-toggleable__label {background-color: #d4ebff;}#sk-container-id-3 input.sk-hidden--visually {border: 0;clip: rect(1px 1px 1px 1px);clip: rect(1px, 1px, 1px, 1px);height: 1px;margin: -1px;overflow: hidden;padding: 0;position: absolute;width: 1px;}#sk-container-id-3 div.sk-estimator {font-family: monospace;background-color: #f0f8ff;border: 1px dotted black;border-radius: 0.25em;box-sizing: border-box;margin-bottom: 0.5em;}#sk-container-id-3 div.sk-estimator:hover {background-color: #d4ebff;}#sk-container-id-3 div.sk-parallel-item::after {content: \"\";width: 100%;border-bottom: 1px solid gray;flex-grow: 1;}#sk-container-id-3 div.sk-label:hover label.sk-toggleable__label {background-color: #d4ebff;}#sk-container-id-3 div.sk-serial::before {content: \"\";position: absolute;border-left: 1px solid gray;box-sizing: border-box;top: 0;bottom: 0;left: 50%;z-index: 0;}#sk-container-id-3 div.sk-serial {display: flex;flex-direction: column;align-items: center;background-color: white;padding-right: 0.2em;padding-left: 0.2em;position: relative;}#sk-container-id-3 div.sk-item {position: relative;z-index: 1;}#sk-container-id-3 div.sk-parallel {display: flex;align-items: stretch;justify-content: center;background-color: white;position: relative;}#sk-container-id-3 div.sk-item::before, #sk-container-id-3 div.sk-parallel-item::before {content: \"\";position: absolute;border-left: 1px solid gray;box-sizing: border-box;top: 0;bottom: 0;left: 50%;z-index: -1;}#sk-container-id-3 div.sk-parallel-item {display: flex;flex-direction: column;z-index: 1;position: relative;background-color: white;}#sk-container-id-3 div.sk-parallel-item:first-child::after {align-self: flex-end;width: 50%;}#sk-container-id-3 div.sk-parallel-item:last-child::after {align-self: flex-start;width: 50%;}#sk-container-id-3 div.sk-parallel-item:only-child::after {width: 0;}#sk-container-id-3 div.sk-dashed-wrapped {border: 1px dashed gray;margin: 0 0.4em 0.5em 0.4em;box-sizing: border-box;padding-bottom: 0.4em;background-color: white;}#sk-container-id-3 div.sk-label label {font-family: monospace;font-weight: bold;display: inline-block;line-height: 1.2em;}#sk-container-id-3 div.sk-label-container {text-align: center;}#sk-container-id-3 div.sk-container {/* jupyter's `normalize.less` sets `[hidden] { display: none; }` but bootstrap.min.css set `[hidden] { display: none !important; }` so we also need the `!important` here to be able to override the default hidden behavior on the sphinx rendered scikit-learn.org. See: https://github.com/scikit-learn/scikit-learn/issues/21755 */display: inline-block !important;position: relative;}#sk-container-id-3 div.sk-text-repr-fallback {display: none;}</style><div id=\"sk-container-id-3\" class=\"sk-top-container\"><div class=\"sk-text-repr-fallback\"><pre>PCA(n_components=3)</pre><b>In a Jupyter environment, please rerun this cell to show the HTML representation or trust the notebook. <br />On GitHub, the HTML representation is unable to render, please try loading this page with nbviewer.org.</b></div><div class=\"sk-container\" hidden><div class=\"sk-item\"><div class=\"sk-estimator sk-toggleable\"><input class=\"sk-toggleable__control sk-hidden--visually\" id=\"sk-estimator-id-3\" type=\"checkbox\" checked><label for=\"sk-estimator-id-3\" class=\"sk-toggleable__label sk-toggleable__label-arrow\">PCA</label><div class=\"sk-toggleable__content\"><pre>PCA(n_components=3)</pre></div></div></div></div></div>"
      ],
      "text/plain": [
       "PCA(n_components=3)"
      ]
     },
     "execution_count": 25,
     "metadata": {},
     "output_type": "execute_result"
    }
   ],
   "source": [
    "pca3 = PCA(n_components=3)\n",
    "pca3.fit(more_data_st)"
   ]
  },
  {
   "cell_type": "code",
   "execution_count": 26,
   "metadata": {},
   "outputs": [
    {
     "name": "stdout",
     "output_type": "stream",
     "text": [
      "Explained variance:  [5.48 1.55 0.46]\n",
      "Explained variance ratio:  [0.6811 0.1922 0.0572]\n"
     ]
    }
   ],
   "source": [
    "# Getting the exaplained variance\n",
    "print('Explained variance: ', pca3.explained_variance_.round(2))\n",
    "print('Explained variance ratio: ', pca3.explained_variance_ratio_.round(4))"
   ]
  },
  {
   "cell_type": "markdown",
   "metadata": {},
   "source": [
    "The Explained Variance Ratio represents the proportion of the dataset's total variance captured by each principal component. Notice the first is much greater than the second, the second is greater than the third, and so on.\n",
    "\n",
    "The first component accounts for approximately `68.11%` (0.6811) of the total variance, the second for about `19.22%` (0.1922), and the third for `5.72%`.\n",
    "\n",
    "These ratios help understand the relative importance of each principal component in explaining the variance in the dataset.\n",
    "\n",
    "How many components will be necessary for preserving a good amount of the original variance?"
   ]
  },
  {
   "cell_type": "markdown",
   "metadata": {},
   "source": [
    "## References"
   ]
  },
  {
   "cell_type": "markdown",
   "metadata": {},
   "source": [
    "- https://scikit-learn.org/stable/unsupervised_learning.html\n",
    "- Muller, A.C. & Guido, S. (2017) Introduction to Machine Learning with Python. A guide for Data scientists. USA: O'Reilly, chapter 3.\n",
    "- VanderPlas, J. (2017) Python Data Science Handbook: Essential Tools for Working with Data. USA: O'Reilly Media, Inc. chapter 5."
   ]
  }
 ],
 "metadata": {
  "kernelspec": {
   "display_name": "myenv",
   "language": "python",
   "name": "python3"
  },
  "language_info": {
   "codemirror_mode": {
    "name": "ipython",
    "version": 3
   },
   "file_extension": ".py",
   "mimetype": "text/x-python",
   "name": "python",
   "nbconvert_exporter": "python",
   "pygments_lexer": "ipython3",
   "version": "3.11.0"
  },
  "orig_nbformat": 2
 },
 "nbformat": 4,
 "nbformat_minor": 2
}
