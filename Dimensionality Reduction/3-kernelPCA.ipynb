{
 "cells": [
  {
   "cell_type": "markdown",
   "metadata": {},
   "source": [
    "# Kernel Principal Component Analysis"
   ]
  },
  {
   "cell_type": "markdown",
   "metadata": {},
   "source": [
    "## Objectives"
   ]
  },
  {
   "cell_type": "markdown",
   "metadata": {},
   "source": [
    "- Understand and apply Kernel Principal Component Analysis (KPCA) for handling non-linearly separable data.\n",
    "- Compare the effectiveness of KPCA with traditional PCA in visualizing and separating complex datasets.\n",
    "- Illustrate the transformation of non-linearly separable data into a lower-dimensional subspace where it becomes linearly separable."
   ]
  },
  {
   "cell_type": "markdown",
   "metadata": {},
   "source": [
    "## Background"
   ]
  },
  {
   "cell_type": "markdown",
   "metadata": {},
   "source": [
    "Traditional linear dimensionality reduction methods like PCA often struggle with non-linear data. KPCA extends PCA to non-linear data by using kernel methods to enable effective dimensionality reduction in complex datasets."
   ]
  },
  {
   "cell_type": "markdown",
   "metadata": {},
   "source": [
    "## Datasets Used"
   ]
  },
  {
   "cell_type": "markdown",
   "metadata": {},
   "source": [
    "Simulated datasets including linearly separable blobs, non-linearly separable half-moons, concentric circles, and interlocking hearts patterns to demonstrate the capabilities of KPCA."
   ]
  },
  {
   "cell_type": "markdown",
   "metadata": {},
   "source": [
    "## Introduction"
   ]
  },
  {
   "cell_type": "markdown",
   "metadata": {},
   "source": [
    "Many machine learning algorithms make assumptions about the linear separability of the input data.\n",
    "\n",
    "If we are dealing with nonlinear problems, which we may encounter rather frequently in real-world applications, linear transformation techniques for dimensionality reduction, such as Principal Component Analysis (PCA) and Linear Discriminant Analysis (LDA), may not be the best choice.\n",
    "\n",
    "This notebook will look at a kernelized version of PCA, or KPCA. Using KPCA, we will learn how to transform data that is not linearly separable onto a new, lower-dimensional subspace suitable for linear classifiers."
   ]
  },
  {
   "cell_type": "code",
   "execution_count": 1,
   "metadata": {},
   "outputs": [],
   "source": [
    "import numpy as np\n",
    "\n",
    "import plotly.express as px\n",
    "import plotly.io as pio\n",
    "pio.renderers.default = \"plotly_mimetype+notebook_connected\"\n",
    "\n",
    "from sklearn.decomposition import PCA, KernelPCA"
   ]
  },
  {
   "cell_type": "markdown",
   "metadata": {},
   "source": [
    "## Linearly Separable Data"
   ]
  },
  {
   "cell_type": "code",
   "execution_count": 2,
   "metadata": {},
   "outputs": [],
   "source": [
    "from sklearn.datasets import make_blobs\n",
    "\n",
    "Xl, yl = make_blobs(n_samples=200, centers=2, cluster_std=0.5, random_state=0)"
   ]
  },
  {
   "cell_type": "code",
   "execution_count": 3,
   "metadata": {},
   "outputs": [
    {
     "data": {
      "text/html": [
       "        <script type=\"text/javascript\">\n",
       "        window.PlotlyConfig = {MathJaxConfig: 'local'};\n",
       "        if (window.MathJax && window.MathJax.Hub && window.MathJax.Hub.Config) {window.MathJax.Hub.Config({SVG: {font: \"STIX-Web\"}});}\n",
       "        if (typeof require !== 'undefined') {\n",
       "        require.undef(\"plotly\");\n",
       "        requirejs.config({\n",
       "            paths: {\n",
       "                'plotly': ['https://cdn.plot.ly/plotly-2.18.2.min']\n",
       "            }\n",
       "        });\n",
       "        require(['plotly'], function(Plotly) {\n",
       "            window._Plotly = Plotly;\n",
       "        });\n",
       "        }\n",
       "        </script>\n",
       "        "
      ]
     },
     "metadata": {},
     "output_type": "display_data"
    },
    {
     "data": {
      "application/vnd.plotly.v1+json": {
       "config": {
        "plotlyServerURL": "https://plot.ly"
       },
       "data": [
        {
         "hovertemplate": "x=%{x}<br>y=%{y}<br>color=%{marker.color}<extra></extra>",
         "legendgroup": "",
         "marker": {
          "color": [
           1,
           1,
           1,
           1,
           0,
           0,
           0,
           0,
           1,
           0,
           1,
           1,
           0,
           0,
           1,
           0,
           1,
           1,
           1,
           1,
           1,
           0,
           0,
           0,
           0,
           0,
           1,
           0,
           1,
           1,
           0,
           1,
           1,
           1,
           0,
           0,
           1,
           1,
           0,
           0,
           0,
           1,
           1,
           0,
           0,
           1,
           0,
           1,
           0,
           1,
           1,
           0,
           0,
           0,
           1,
           0,
           0,
           0,
           1,
           1,
           1,
           1,
           0,
           0,
           0,
           1,
           1,
           1,
           0,
           0,
           1,
           0,
           1,
           1,
           1,
           1,
           1,
           1,
           0,
           1,
           0,
           1,
           0,
           0,
           1,
           0,
           0,
           1,
           1,
           1,
           0,
           0,
           0,
           0,
           1,
           1,
           1,
           0,
           0,
           1,
           0,
           1,
           0,
           0,
           0,
           0,
           0,
           0,
           1,
           0,
           1,
           0,
           0,
           0,
           0,
           1,
           1,
           1,
           1,
           1,
           0,
           1,
           0,
           1,
           1,
           1,
           0,
           1,
           1,
           0,
           1,
           0,
           0,
           1,
           0,
           0,
           0,
           1,
           1,
           1,
           0,
           1,
           0,
           0,
           1,
           0,
           0,
           0,
           1,
           1,
           1,
           0,
           0,
           0,
           1,
           0,
           0,
           1,
           1,
           1,
           1,
           0,
           0,
           1,
           1,
           1,
           0,
           0,
           0,
           0,
           1,
           1,
           1,
           0,
           1,
           0,
           0,
           0,
           1,
           1,
           1,
           0,
           1,
           0,
           0,
           0,
           1,
           1,
           1,
           0,
           1,
           0,
           1,
           1,
           1,
           1,
           0,
           0,
           0,
           0
          ],
          "coloraxis": "coloraxis",
          "opacity": 0.6,
          "size": 8,
          "symbol": "circle"
         },
         "mode": "markers",
         "name": "",
         "orientation": "v",
         "showlegend": false,
         "type": "scatter",
         "x": [
          2.438599112255421,
          1.8555430068014402,
          2.5895222210908826,
          1.7365490086567634,
          1.742659685725724,
          0.6400398546585195,
          1.048291864126934,
          0.5323772047314387,
          1.9888272326394,
          0.16117090506347276,
          1.7571105022076239,
          1.2848690142105657,
          1.1644828441243098,
          0.34987239852153196,
          2.1041300052903056,
          0.5745652464595745,
          0.9274854067317833,
          2.788556879219967,
          2.315799959659257,
          2.476083153469696,
          1.7113487159185368,
          0.3183163732907345,
          1.5260998764900515,
          0.5913120413238369,
          1.9377410917866875,
          0.6583470393570545,
          1.9214007529858947,
          1.0804075675849252,
          1.8348062052865823,
          0.7256814024345075,
          0.3897083759894151,
          1.3881382857315012,
          2.5103569754791737,
          1.5625121525908026,
          0.9421492758841794,
          0.40253575234094385,
          1.7092425975406824,
          1.6485853918307765,
          1.154453277133696,
          0.8023140038834188,
          0.8422683930708048,
          2.441894010134178,
          1.8154396144289042,
          0.9621789643771677,
          1.009528689738079,
          2.126244103093268,
          0.34102757930362826,
          1.0399252875421308,
          1.570284974722646,
          3.184921996778304,
          1.4608378925408636,
          1.2645654868539655,
          1.209101298411725,
          0.9566286694327473,
          2.1335207904155657,
          0.7208675097620585,
          2.05788805318684,
          0.9815200889069053,
          1.899824435583642,
          1.4765898918374512,
          2.4021540977779443,
          3.033223675558225,
          0.4408937677912238,
          0.799273122919753,
          2.167842465978466,
          2.0800150122579235,
          1.5326408383594006,
          2.3445282702973174,
          1.5656598641263204,
          0.6289861486808124,
          3.207225870274849,
          0.7214439876706683,
          1.0871276185096246,
          1.8729207492370352,
          1.9884167415986584,
          2.448431502487366,
          1.97643401335097,
          1.4020040955652195,
          0.569696937524268,
          1.755940552971385,
          1.0596068262327596,
          2.0467573145021576,
          -0.3002248293705443,
          0.12313498323398875,
          1.7132620725642695,
          1.91004955875978,
          0.2306412821936923,
          2.0341817957875885,
          1.8628276168422402,
          1.8234695341098308,
          1.1774408991352696,
          0.4761624048517127,
          0.5456572360191438,
          1.5459704208181453,
          1.9872926710937175,
          2.0474264656316006,
          1.9518156833508922,
          0.7485038267878235,
          0.9991493371972181,
          1.6731955594796564,
          0.6591090317060133,
          2.302138410107472,
          1.0649831496733715,
          0.7916791595752732,
          0.1693211547675193,
          1.1328039293719456,
          0.42407840883226977,
          0.5285367979496572,
          2.631433303824438,
          0.5198589658244157,
          2.4288616885351937,
          1.5914154189103553,
          1.3567889411199918,
          1.3408153596352634,
          0.7272538532003426,
          2.3389126603592127,
          1.1337327463545537,
          1.9093488400589465,
          1.5772950211864893,
          1.9599407746421782,
          1.2833097637195352,
          2.2683968868219284,
          0.7826066698425189,
          1.702917383504761,
          1.2062146117167507,
          2.388459062448835,
          1.449896062433369,
          2.04310445923341,
          2.376924753964342,
          1.4046853844978406,
          1.7566094869501967,
          1.1742734348773176,
          0.7586933026856764,
          2.3172130333499807,
          0.6038926675222751,
          1.9100490736214788,
          0.36355231913141106,
          1.729063230239368,
          2.400176603700272,
          2.879334987536658,
          1.1982016949192078,
          1.263798322765337,
          1.4366994904369046,
          0.5408715039555542,
          2.1925257002948477,
          1.2888858040600888,
          0.639103748217807,
          0.32984162368477077,
          2.198439365879018,
          1.9999971928166416,
          1.7291207214653683,
          0.522620896354874,
          1.3621653541533287,
          1.237908408812372,
          1.343237066941612,
          1.125389165649523,
          0.8204938124828087,
          1.7412237416120884,
          2.5211917084900297,
          1.6954653271569815,
          1.4918546170545062,
          1.720396175444295,
          1.9178454270746221,
          2.375333284481674,
          1.8785516470542785,
          1.5830443934737528,
          0.6064885803508384,
          1.0537437913949532,
          0.6544608771300497,
          0.45199359601294875,
          1.9007610369093169,
          1.996185498868593,
          2.7375334454841136,
          1.039726124898305,
          2.195488374091026,
          1.3124174570527127,
          1.4509804820093755,
          0.7746816050599052,
          2.8025097936785626,
          2.254790694252943,
          1.4771763055219216,
          1.408488177976248,
          2.024454320385054,
          1.5395880395997485,
          0.9246606526497161,
          0.7694605881666214,
          2.404496095986546,
          2.074582797352972,
          1.6924688322010857,
          0.4591486576542627,
          1.783836783424519,
          0.9270438163337789,
          1.1773222297140182,
          2.195229820954497,
          2.484229483579046,
          2.4010368969679714,
          1.7233096151252982,
          2.1111473905402987,
          1.4513142873092897,
          0.3936951581548168
         ],
         "xaxis": "x",
         "y": [
          1.0758100686740812,
          1.0826916038616963,
          0.670970758012243,
          0.699027752773538,
          5.038466712398533,
          4.1240107466781195,
          5.030924080929878,
          3.3133890933364265,
          0.7487682202370727,
          4.535178455211277,
          0.8713800118031637,
          0.9292946570381027,
          3.7540869321562926,
          4.692532505364345,
          1.1891404998145836,
          3.9590124385732897,
          0.3864102381201351,
          1.3239396296685528,
          0.6097696750314038,
          0.7729343698574624,
          0.29062495839087654,
          4.072995025041036,
          4.631419192809689,
          4.573411923094299,
          5.0440447231656025,
          4.64200397492164,
          0.3336579942029334,
          4.792106845690246,
          0.7574859123456823,
          1.2008234221176273,
          5.275597920273036,
          0.22430490703915917,
          1.056272767533588,
          0.1617461562061434,
          5.160458688273073,
          4.084877305076173,
          1.6658521870608358,
          0.16445149603667986,
          4.657073911544364,
          4.38196181200038,
          4.705015525346588,
          0.305723339841278,
          1.207842809109693,
          4.517953262713599,
          4.455023276318281,
          0.7379994513653892,
          4.788485681527396,
          1.9299100906175966,
          4.462258633410815,
          0.8765350841076155,
          0.6442554827885931,
          4.199637949659393,
          3.535665484309778,
          3.7197405785777913,
          1.0137541780380748,
          3.7134712353871837,
          4.9720513021665855,
          5.196722574401307,
          0.9463637430723285,
          0.7415175343750902,
          0.8178769408648034,
          1.0927103212819,
          4.831013190913958,
          3.6163116807393805,
          4.776027070943597,
          1.144582048078415,
          1.5032363047792874,
          1.072490888434524,
          4.213824909542215,
          4.228970057284554,
          0.3676557485771632,
          4.084750176642797,
          0.9920529583348511,
          0.9760155875741188,
          1.436535562926068,
          0.6644541115699654,
          2.0260254085870413,
          1.726728999747031,
          3.4406460262825513,
          0.3397151669577396,
          4.621303045894443,
          1.0872395277154778,
          4.63059662516857,
          5.279175025064285,
          1.727439058032873,
          4.756809656586083,
          4.523483178080658,
          0.754220063742983,
          0.9448394545964739,
          1.138404396824668,
          3.961382281978233,
          3.531401779059584,
          5.258819803997907,
          3.686374417271564,
          1.4661093412392845,
          0.9781277440870484,
          1.337753115978328,
          4.312526906960918,
          4.210195402435473,
          0.1787679230371476,
          4.122416744454821,
          0.8396116904207536,
          4.102896859344259,
          4.184097738660427,
          4.197417187341405,
          3.8767394577975276,
          4.3298698670788776,
          4.497238576378021,
          1.4374729559563475,
          4.862295471496316,
          0.3031911823360688,
          4.904977251840595,
          4.364624835694804,
          4.368278782827096,
          5.268553354356883,
          0.7863261096803595,
          0.6586766579176935,
          0.5169175540321251,
          0.7246727720882437,
          0.7002389029212117,
          4.764890663231653,
          1.2361176774530596,
          4.152635952160722,
          1.3692940224226842,
          1.0913038976354685,
          0.6673037662436602,
          4.226282280902973,
          0.5286482053350925,
          0.11235195562121048,
          3.9782745307983167,
          0.7787027950699333,
          3.7572565730831373,
          5.228419191688061,
          0.9418747034602676,
          3.8905680581188826,
          3.8151483875101846,
          4.725968815649163,
          0.7021869723441363,
          1.548586774720436,
          0.9797775376816038,
          4.470624491135523,
          1.2028533494915394,
          4.463151153919901,
          4.014362495066182,
          0.4522061184401729,
          3.502758499645016,
          4.319702606585565,
          4.437312762122981,
          1.2020855771756622,
          1.4077500157958367,
          0.6370690037873814,
          4.329760025346459,
          4.715539404430256,
          4.2180141618372655,
          0.6510037182568398,
          4.966980275791905,
          4.3318699985632625,
          0.657150100707543,
          1.0676461518385678,
          0.4911671656608982,
          0.5323247835055245,
          5.251731915463681,
          3.6299077968771667,
          0.08918563778251964,
          0.08942656561242057,
          0.6926388133366626,
          5.075294625151757,
          4.492868587249477,
          3.192085751336177,
          3.5937783588589025,
          0.05966175677294849,
          0.5575745579395117,
          0.552939067662968,
          4.504782009170741,
          0.4011018544731465,
          4.507518245568945,
          4.347562948140985,
          4.915009862639604,
          -0.13732885256882943,
          -0.48863271827538823,
          1.2882627107929334,
          3.932704817245169,
          0.8440110217923495,
          3.763821573266678,
          4.509086578417576,
          3.930059921728011,
          0.8995491044810715,
          0.06930610877695997,
          0.20598168224040914,
          4.644584586589204,
          1.1056886830686496,
          3.9720481842673365,
          1.1231308908408943,
          0.8485884651164579,
          1.4682145932667234,
          1.2450382317659399,
          4.201208195565489,
          3.5766044901490077,
          4.228108723299541,
          4.754200570925484
         ],
         "yaxis": "y"
        }
       ],
       "layout": {
        "coloraxis": {
         "colorbar": {
          "title": {
           "text": "color"
          }
         },
         "colorscale": [
          [
           0,
           "rgb(0,0,255)"
          ],
          [
           1,
           "rgb(255,0,0)"
          ]
         ],
         "showscale": false
        },
        "height": 400,
        "legend": {
         "tracegroupgap": 0
        },
        "margin": {
         "t": 60
        },
        "template": {
         "data": {
          "bar": [
           {
            "error_x": {
             "color": "#2a3f5f"
            },
            "error_y": {
             "color": "#2a3f5f"
            },
            "marker": {
             "line": {
              "color": "#E5ECF6",
              "width": 0.5
             },
             "pattern": {
              "fillmode": "overlay",
              "size": 10,
              "solidity": 0.2
             }
            },
            "type": "bar"
           }
          ],
          "barpolar": [
           {
            "marker": {
             "line": {
              "color": "#E5ECF6",
              "width": 0.5
             },
             "pattern": {
              "fillmode": "overlay",
              "size": 10,
              "solidity": 0.2
             }
            },
            "type": "barpolar"
           }
          ],
          "carpet": [
           {
            "aaxis": {
             "endlinecolor": "#2a3f5f",
             "gridcolor": "white",
             "linecolor": "white",
             "minorgridcolor": "white",
             "startlinecolor": "#2a3f5f"
            },
            "baxis": {
             "endlinecolor": "#2a3f5f",
             "gridcolor": "white",
             "linecolor": "white",
             "minorgridcolor": "white",
             "startlinecolor": "#2a3f5f"
            },
            "type": "carpet"
           }
          ],
          "choropleth": [
           {
            "colorbar": {
             "outlinewidth": 0,
             "ticks": ""
            },
            "type": "choropleth"
           }
          ],
          "contour": [
           {
            "colorbar": {
             "outlinewidth": 0,
             "ticks": ""
            },
            "colorscale": [
             [
              0,
              "#0d0887"
             ],
             [
              0.1111111111111111,
              "#46039f"
             ],
             [
              0.2222222222222222,
              "#7201a8"
             ],
             [
              0.3333333333333333,
              "#9c179e"
             ],
             [
              0.4444444444444444,
              "#bd3786"
             ],
             [
              0.5555555555555556,
              "#d8576b"
             ],
             [
              0.6666666666666666,
              "#ed7953"
             ],
             [
              0.7777777777777778,
              "#fb9f3a"
             ],
             [
              0.8888888888888888,
              "#fdca26"
             ],
             [
              1,
              "#f0f921"
             ]
            ],
            "type": "contour"
           }
          ],
          "contourcarpet": [
           {
            "colorbar": {
             "outlinewidth": 0,
             "ticks": ""
            },
            "type": "contourcarpet"
           }
          ],
          "heatmap": [
           {
            "colorbar": {
             "outlinewidth": 0,
             "ticks": ""
            },
            "colorscale": [
             [
              0,
              "#0d0887"
             ],
             [
              0.1111111111111111,
              "#46039f"
             ],
             [
              0.2222222222222222,
              "#7201a8"
             ],
             [
              0.3333333333333333,
              "#9c179e"
             ],
             [
              0.4444444444444444,
              "#bd3786"
             ],
             [
              0.5555555555555556,
              "#d8576b"
             ],
             [
              0.6666666666666666,
              "#ed7953"
             ],
             [
              0.7777777777777778,
              "#fb9f3a"
             ],
             [
              0.8888888888888888,
              "#fdca26"
             ],
             [
              1,
              "#f0f921"
             ]
            ],
            "type": "heatmap"
           }
          ],
          "heatmapgl": [
           {
            "colorbar": {
             "outlinewidth": 0,
             "ticks": ""
            },
            "colorscale": [
             [
              0,
              "#0d0887"
             ],
             [
              0.1111111111111111,
              "#46039f"
             ],
             [
              0.2222222222222222,
              "#7201a8"
             ],
             [
              0.3333333333333333,
              "#9c179e"
             ],
             [
              0.4444444444444444,
              "#bd3786"
             ],
             [
              0.5555555555555556,
              "#d8576b"
             ],
             [
              0.6666666666666666,
              "#ed7953"
             ],
             [
              0.7777777777777778,
              "#fb9f3a"
             ],
             [
              0.8888888888888888,
              "#fdca26"
             ],
             [
              1,
              "#f0f921"
             ]
            ],
            "type": "heatmapgl"
           }
          ],
          "histogram": [
           {
            "marker": {
             "pattern": {
              "fillmode": "overlay",
              "size": 10,
              "solidity": 0.2
             }
            },
            "type": "histogram"
           }
          ],
          "histogram2d": [
           {
            "colorbar": {
             "outlinewidth": 0,
             "ticks": ""
            },
            "colorscale": [
             [
              0,
              "#0d0887"
             ],
             [
              0.1111111111111111,
              "#46039f"
             ],
             [
              0.2222222222222222,
              "#7201a8"
             ],
             [
              0.3333333333333333,
              "#9c179e"
             ],
             [
              0.4444444444444444,
              "#bd3786"
             ],
             [
              0.5555555555555556,
              "#d8576b"
             ],
             [
              0.6666666666666666,
              "#ed7953"
             ],
             [
              0.7777777777777778,
              "#fb9f3a"
             ],
             [
              0.8888888888888888,
              "#fdca26"
             ],
             [
              1,
              "#f0f921"
             ]
            ],
            "type": "histogram2d"
           }
          ],
          "histogram2dcontour": [
           {
            "colorbar": {
             "outlinewidth": 0,
             "ticks": ""
            },
            "colorscale": [
             [
              0,
              "#0d0887"
             ],
             [
              0.1111111111111111,
              "#46039f"
             ],
             [
              0.2222222222222222,
              "#7201a8"
             ],
             [
              0.3333333333333333,
              "#9c179e"
             ],
             [
              0.4444444444444444,
              "#bd3786"
             ],
             [
              0.5555555555555556,
              "#d8576b"
             ],
             [
              0.6666666666666666,
              "#ed7953"
             ],
             [
              0.7777777777777778,
              "#fb9f3a"
             ],
             [
              0.8888888888888888,
              "#fdca26"
             ],
             [
              1,
              "#f0f921"
             ]
            ],
            "type": "histogram2dcontour"
           }
          ],
          "mesh3d": [
           {
            "colorbar": {
             "outlinewidth": 0,
             "ticks": ""
            },
            "type": "mesh3d"
           }
          ],
          "parcoords": [
           {
            "line": {
             "colorbar": {
              "outlinewidth": 0,
              "ticks": ""
             }
            },
            "type": "parcoords"
           }
          ],
          "pie": [
           {
            "automargin": true,
            "type": "pie"
           }
          ],
          "scatter": [
           {
            "fillpattern": {
             "fillmode": "overlay",
             "size": 10,
             "solidity": 0.2
            },
            "type": "scatter"
           }
          ],
          "scatter3d": [
           {
            "line": {
             "colorbar": {
              "outlinewidth": 0,
              "ticks": ""
             }
            },
            "marker": {
             "colorbar": {
              "outlinewidth": 0,
              "ticks": ""
             }
            },
            "type": "scatter3d"
           }
          ],
          "scattercarpet": [
           {
            "marker": {
             "colorbar": {
              "outlinewidth": 0,
              "ticks": ""
             }
            },
            "type": "scattercarpet"
           }
          ],
          "scattergeo": [
           {
            "marker": {
             "colorbar": {
              "outlinewidth": 0,
              "ticks": ""
             }
            },
            "type": "scattergeo"
           }
          ],
          "scattergl": [
           {
            "marker": {
             "colorbar": {
              "outlinewidth": 0,
              "ticks": ""
             }
            },
            "type": "scattergl"
           }
          ],
          "scattermapbox": [
           {
            "marker": {
             "colorbar": {
              "outlinewidth": 0,
              "ticks": ""
             }
            },
            "type": "scattermapbox"
           }
          ],
          "scatterpolar": [
           {
            "marker": {
             "colorbar": {
              "outlinewidth": 0,
              "ticks": ""
             }
            },
            "type": "scatterpolar"
           }
          ],
          "scatterpolargl": [
           {
            "marker": {
             "colorbar": {
              "outlinewidth": 0,
              "ticks": ""
             }
            },
            "type": "scatterpolargl"
           }
          ],
          "scatterternary": [
           {
            "marker": {
             "colorbar": {
              "outlinewidth": 0,
              "ticks": ""
             }
            },
            "type": "scatterternary"
           }
          ],
          "surface": [
           {
            "colorbar": {
             "outlinewidth": 0,
             "ticks": ""
            },
            "colorscale": [
             [
              0,
              "#0d0887"
             ],
             [
              0.1111111111111111,
              "#46039f"
             ],
             [
              0.2222222222222222,
              "#7201a8"
             ],
             [
              0.3333333333333333,
              "#9c179e"
             ],
             [
              0.4444444444444444,
              "#bd3786"
             ],
             [
              0.5555555555555556,
              "#d8576b"
             ],
             [
              0.6666666666666666,
              "#ed7953"
             ],
             [
              0.7777777777777778,
              "#fb9f3a"
             ],
             [
              0.8888888888888888,
              "#fdca26"
             ],
             [
              1,
              "#f0f921"
             ]
            ],
            "type": "surface"
           }
          ],
          "table": [
           {
            "cells": {
             "fill": {
              "color": "#EBF0F8"
             },
             "line": {
              "color": "white"
             }
            },
            "header": {
             "fill": {
              "color": "#C8D4E3"
             },
             "line": {
              "color": "white"
             }
            },
            "type": "table"
           }
          ]
         },
         "layout": {
          "annotationdefaults": {
           "arrowcolor": "#2a3f5f",
           "arrowhead": 0,
           "arrowwidth": 1
          },
          "autotypenumbers": "strict",
          "coloraxis": {
           "colorbar": {
            "outlinewidth": 0,
            "ticks": ""
           }
          },
          "colorscale": {
           "diverging": [
            [
             0,
             "#8e0152"
            ],
            [
             0.1,
             "#c51b7d"
            ],
            [
             0.2,
             "#de77ae"
            ],
            [
             0.3,
             "#f1b6da"
            ],
            [
             0.4,
             "#fde0ef"
            ],
            [
             0.5,
             "#f7f7f7"
            ],
            [
             0.6,
             "#e6f5d0"
            ],
            [
             0.7,
             "#b8e186"
            ],
            [
             0.8,
             "#7fbc41"
            ],
            [
             0.9,
             "#4d9221"
            ],
            [
             1,
             "#276419"
            ]
           ],
           "sequential": [
            [
             0,
             "#0d0887"
            ],
            [
             0.1111111111111111,
             "#46039f"
            ],
            [
             0.2222222222222222,
             "#7201a8"
            ],
            [
             0.3333333333333333,
             "#9c179e"
            ],
            [
             0.4444444444444444,
             "#bd3786"
            ],
            [
             0.5555555555555556,
             "#d8576b"
            ],
            [
             0.6666666666666666,
             "#ed7953"
            ],
            [
             0.7777777777777778,
             "#fb9f3a"
            ],
            [
             0.8888888888888888,
             "#fdca26"
            ],
            [
             1,
             "#f0f921"
            ]
           ],
           "sequentialminus": [
            [
             0,
             "#0d0887"
            ],
            [
             0.1111111111111111,
             "#46039f"
            ],
            [
             0.2222222222222222,
             "#7201a8"
            ],
            [
             0.3333333333333333,
             "#9c179e"
            ],
            [
             0.4444444444444444,
             "#bd3786"
            ],
            [
             0.5555555555555556,
             "#d8576b"
            ],
            [
             0.6666666666666666,
             "#ed7953"
            ],
            [
             0.7777777777777778,
             "#fb9f3a"
            ],
            [
             0.8888888888888888,
             "#fdca26"
            ],
            [
             1,
             "#f0f921"
            ]
           ]
          },
          "colorway": [
           "#636efa",
           "#EF553B",
           "#00cc96",
           "#ab63fa",
           "#FFA15A",
           "#19d3f3",
           "#FF6692",
           "#B6E880",
           "#FF97FF",
           "#FECB52"
          ],
          "font": {
           "color": "#2a3f5f"
          },
          "geo": {
           "bgcolor": "white",
           "lakecolor": "white",
           "landcolor": "#E5ECF6",
           "showlakes": true,
           "showland": true,
           "subunitcolor": "white"
          },
          "hoverlabel": {
           "align": "left"
          },
          "hovermode": "closest",
          "mapbox": {
           "style": "light"
          },
          "paper_bgcolor": "white",
          "plot_bgcolor": "#E5ECF6",
          "polar": {
           "angularaxis": {
            "gridcolor": "white",
            "linecolor": "white",
            "ticks": ""
           },
           "bgcolor": "#E5ECF6",
           "radialaxis": {
            "gridcolor": "white",
            "linecolor": "white",
            "ticks": ""
           }
          },
          "scene": {
           "xaxis": {
            "backgroundcolor": "#E5ECF6",
            "gridcolor": "white",
            "gridwidth": 2,
            "linecolor": "white",
            "showbackground": true,
            "ticks": "",
            "zerolinecolor": "white"
           },
           "yaxis": {
            "backgroundcolor": "#E5ECF6",
            "gridcolor": "white",
            "gridwidth": 2,
            "linecolor": "white",
            "showbackground": true,
            "ticks": "",
            "zerolinecolor": "white"
           },
           "zaxis": {
            "backgroundcolor": "#E5ECF6",
            "gridcolor": "white",
            "gridwidth": 2,
            "linecolor": "white",
            "showbackground": true,
            "ticks": "",
            "zerolinecolor": "white"
           }
          },
          "shapedefaults": {
           "line": {
            "color": "#2a3f5f"
           }
          },
          "ternary": {
           "aaxis": {
            "gridcolor": "white",
            "linecolor": "white",
            "ticks": ""
           },
           "baxis": {
            "gridcolor": "white",
            "linecolor": "white",
            "ticks": ""
           },
           "bgcolor": "#E5ECF6",
           "caxis": {
            "gridcolor": "white",
            "linecolor": "white",
            "ticks": ""
           }
          },
          "title": {
           "x": 0.05
          },
          "xaxis": {
           "automargin": true,
           "gridcolor": "white",
           "linecolor": "white",
           "ticks": "",
           "title": {
            "standoff": 15
           },
           "zerolinecolor": "white",
           "zerolinewidth": 2
          },
          "yaxis": {
           "automargin": true,
           "gridcolor": "white",
           "linecolor": "white",
           "ticks": "",
           "title": {
            "standoff": 15
           },
           "zerolinecolor": "white",
           "zerolinewidth": 2
          }
         }
        },
        "title": {
         "text": "Linearly Separable Data"
        },
        "width": 600,
        "xaxis": {
         "anchor": "y",
         "domain": [
          0,
          1
         ],
         "title": {
          "text": "x"
         }
        },
        "yaxis": {
         "anchor": "x",
         "domain": [
          0,
          1
         ],
         "title": {
          "text": "y"
         }
        }
       }
      },
      "text/html": [
       "<div>                            <div id=\"ca648e71-029d-47bf-bc48-1ca20df5d049\" class=\"plotly-graph-div\" style=\"height:400px; width:600px;\"></div>            <script type=\"text/javascript\">                require([\"plotly\"], function(Plotly) {                    window.PLOTLYENV=window.PLOTLYENV || {};                                    if (document.getElementById(\"ca648e71-029d-47bf-bc48-1ca20df5d049\")) {                    Plotly.newPlot(                        \"ca648e71-029d-47bf-bc48-1ca20df5d049\",                        [{\"hovertemplate\":\"x=%{x}<br>y=%{y}<br>color=%{marker.color}<extra></extra>\",\"legendgroup\":\"\",\"marker\":{\"color\":[1,1,1,1,0,0,0,0,1,0,1,1,0,0,1,0,1,1,1,1,1,0,0,0,0,0,1,0,1,1,0,1,1,1,0,0,1,1,0,0,0,1,1,0,0,1,0,1,0,1,1,0,0,0,1,0,0,0,1,1,1,1,0,0,0,1,1,1,0,0,1,0,1,1,1,1,1,1,0,1,0,1,0,0,1,0,0,1,1,1,0,0,0,0,1,1,1,0,0,1,0,1,0,0,0,0,0,0,1,0,1,0,0,0,0,1,1,1,1,1,0,1,0,1,1,1,0,1,1,0,1,0,0,1,0,0,0,1,1,1,0,1,0,0,1,0,0,0,1,1,1,0,0,0,1,0,0,1,1,1,1,0,0,1,1,1,0,0,0,0,1,1,1,0,1,0,0,0,1,1,1,0,1,0,0,0,1,1,1,0,1,0,1,1,1,1,0,0,0,0],\"coloraxis\":\"coloraxis\",\"symbol\":\"circle\",\"opacity\":0.6,\"size\":8},\"mode\":\"markers\",\"name\":\"\",\"orientation\":\"v\",\"showlegend\":false,\"x\":[2.438599112255421,1.8555430068014402,2.5895222210908826,1.7365490086567634,1.742659685725724,0.6400398546585195,1.048291864126934,0.5323772047314387,1.9888272326394,0.16117090506347276,1.7571105022076239,1.2848690142105657,1.1644828441243098,0.34987239852153196,2.1041300052903056,0.5745652464595745,0.9274854067317833,2.788556879219967,2.315799959659257,2.476083153469696,1.7113487159185368,0.3183163732907345,1.5260998764900515,0.5913120413238369,1.9377410917866875,0.6583470393570545,1.9214007529858947,1.0804075675849252,1.8348062052865823,0.7256814024345075,0.3897083759894151,1.3881382857315012,2.5103569754791737,1.5625121525908026,0.9421492758841794,0.40253575234094385,1.7092425975406824,1.6485853918307765,1.154453277133696,0.8023140038834188,0.8422683930708048,2.441894010134178,1.8154396144289042,0.9621789643771677,1.009528689738079,2.126244103093268,0.34102757930362826,1.0399252875421308,1.570284974722646,3.184921996778304,1.4608378925408636,1.2645654868539655,1.209101298411725,0.9566286694327473,2.1335207904155657,0.7208675097620585,2.05788805318684,0.9815200889069053,1.899824435583642,1.4765898918374512,2.4021540977779443,3.033223675558225,0.4408937677912238,0.799273122919753,2.167842465978466,2.0800150122579235,1.5326408383594006,2.3445282702973174,1.5656598641263204,0.6289861486808124,3.207225870274849,0.7214439876706683,1.0871276185096246,1.8729207492370352,1.9884167415986584,2.448431502487366,1.97643401335097,1.4020040955652195,0.569696937524268,1.755940552971385,1.0596068262327596,2.0467573145021576,-0.3002248293705443,0.12313498323398875,1.7132620725642695,1.91004955875978,0.2306412821936923,2.0341817957875885,1.8628276168422402,1.8234695341098308,1.1774408991352696,0.4761624048517127,0.5456572360191438,1.5459704208181453,1.9872926710937175,2.0474264656316006,1.9518156833508922,0.7485038267878235,0.9991493371972181,1.6731955594796564,0.6591090317060133,2.302138410107472,1.0649831496733715,0.7916791595752732,0.1693211547675193,1.1328039293719456,0.42407840883226977,0.5285367979496572,2.631433303824438,0.5198589658244157,2.4288616885351937,1.5914154189103553,1.3567889411199918,1.3408153596352634,0.7272538532003426,2.3389126603592127,1.1337327463545537,1.9093488400589465,1.5772950211864893,1.9599407746421782,1.2833097637195352,2.2683968868219284,0.7826066698425189,1.702917383504761,1.2062146117167507,2.388459062448835,1.449896062433369,2.04310445923341,2.376924753964342,1.4046853844978406,1.7566094869501967,1.1742734348773176,0.7586933026856764,2.3172130333499807,0.6038926675222751,1.9100490736214788,0.36355231913141106,1.729063230239368,2.400176603700272,2.879334987536658,1.1982016949192078,1.263798322765337,1.4366994904369046,0.5408715039555542,2.1925257002948477,1.2888858040600888,0.639103748217807,0.32984162368477077,2.198439365879018,1.9999971928166416,1.7291207214653683,0.522620896354874,1.3621653541533287,1.237908408812372,1.343237066941612,1.125389165649523,0.8204938124828087,1.7412237416120884,2.5211917084900297,1.6954653271569815,1.4918546170545062,1.720396175444295,1.9178454270746221,2.375333284481674,1.8785516470542785,1.5830443934737528,0.6064885803508384,1.0537437913949532,0.6544608771300497,0.45199359601294875,1.9007610369093169,1.996185498868593,2.7375334454841136,1.039726124898305,2.195488374091026,1.3124174570527127,1.4509804820093755,0.7746816050599052,2.8025097936785626,2.254790694252943,1.4771763055219216,1.408488177976248,2.024454320385054,1.5395880395997485,0.9246606526497161,0.7694605881666214,2.404496095986546,2.074582797352972,1.6924688322010857,0.4591486576542627,1.783836783424519,0.9270438163337789,1.1773222297140182,2.195229820954497,2.484229483579046,2.4010368969679714,1.7233096151252982,2.1111473905402987,1.4513142873092897,0.3936951581548168],\"xaxis\":\"x\",\"y\":[1.0758100686740812,1.0826916038616963,0.670970758012243,0.699027752773538,5.038466712398533,4.1240107466781195,5.030924080929878,3.3133890933364265,0.7487682202370727,4.535178455211277,0.8713800118031637,0.9292946570381027,3.7540869321562926,4.692532505364345,1.1891404998145836,3.9590124385732897,0.3864102381201351,1.3239396296685528,0.6097696750314038,0.7729343698574624,0.29062495839087654,4.072995025041036,4.631419192809689,4.573411923094299,5.0440447231656025,4.64200397492164,0.3336579942029334,4.792106845690246,0.7574859123456823,1.2008234221176273,5.275597920273036,0.22430490703915917,1.056272767533588,0.1617461562061434,5.160458688273073,4.084877305076173,1.6658521870608358,0.16445149603667986,4.657073911544364,4.38196181200038,4.705015525346588,0.305723339841278,1.207842809109693,4.517953262713599,4.455023276318281,0.7379994513653892,4.788485681527396,1.9299100906175966,4.462258633410815,0.8765350841076155,0.6442554827885931,4.199637949659393,3.535665484309778,3.7197405785777913,1.0137541780380748,3.7134712353871837,4.9720513021665855,5.196722574401307,0.9463637430723285,0.7415175343750902,0.8178769408648034,1.0927103212819,4.831013190913958,3.6163116807393805,4.776027070943597,1.144582048078415,1.5032363047792874,1.072490888434524,4.213824909542215,4.228970057284554,0.3676557485771632,4.084750176642797,0.9920529583348511,0.9760155875741188,1.436535562926068,0.6644541115699654,2.0260254085870413,1.726728999747031,3.4406460262825513,0.3397151669577396,4.621303045894443,1.0872395277154778,4.63059662516857,5.279175025064285,1.727439058032873,4.756809656586083,4.523483178080658,0.754220063742983,0.9448394545964739,1.138404396824668,3.961382281978233,3.531401779059584,5.258819803997907,3.686374417271564,1.4661093412392845,0.9781277440870484,1.337753115978328,4.312526906960918,4.210195402435473,0.1787679230371476,4.122416744454821,0.8396116904207536,4.102896859344259,4.184097738660427,4.197417187341405,3.8767394577975276,4.3298698670788776,4.497238576378021,1.4374729559563475,4.862295471496316,0.3031911823360688,4.904977251840595,4.364624835694804,4.368278782827096,5.268553354356883,0.7863261096803595,0.6586766579176935,0.5169175540321251,0.7246727720882437,0.7002389029212117,4.764890663231653,1.2361176774530596,4.152635952160722,1.3692940224226842,1.0913038976354685,0.6673037662436602,4.226282280902973,0.5286482053350925,0.11235195562121048,3.9782745307983167,0.7787027950699333,3.7572565730831373,5.228419191688061,0.9418747034602676,3.8905680581188826,3.8151483875101846,4.725968815649163,0.7021869723441363,1.548586774720436,0.9797775376816038,4.470624491135523,1.2028533494915394,4.463151153919901,4.014362495066182,0.4522061184401729,3.502758499645016,4.319702606585565,4.437312762122981,1.2020855771756622,1.4077500157958367,0.6370690037873814,4.329760025346459,4.715539404430256,4.2180141618372655,0.6510037182568398,4.966980275791905,4.3318699985632625,0.657150100707543,1.0676461518385678,0.4911671656608982,0.5323247835055245,5.251731915463681,3.6299077968771667,0.08918563778251964,0.08942656561242057,0.6926388133366626,5.075294625151757,4.492868587249477,3.192085751336177,3.5937783588589025,0.05966175677294849,0.5575745579395117,0.552939067662968,4.504782009170741,0.4011018544731465,4.507518245568945,4.347562948140985,4.915009862639604,-0.13732885256882943,-0.48863271827538823,1.2882627107929334,3.932704817245169,0.8440110217923495,3.763821573266678,4.509086578417576,3.930059921728011,0.8995491044810715,0.06930610877695997,0.20598168224040914,4.644584586589204,1.1056886830686496,3.9720481842673365,1.1231308908408943,0.8485884651164579,1.4682145932667234,1.2450382317659399,4.201208195565489,3.5766044901490077,4.228108723299541,4.754200570925484],\"yaxis\":\"y\",\"type\":\"scatter\"}],                        {\"template\":{\"data\":{\"histogram2dcontour\":[{\"type\":\"histogram2dcontour\",\"colorbar\":{\"outlinewidth\":0,\"ticks\":\"\"},\"colorscale\":[[0.0,\"#0d0887\"],[0.1111111111111111,\"#46039f\"],[0.2222222222222222,\"#7201a8\"],[0.3333333333333333,\"#9c179e\"],[0.4444444444444444,\"#bd3786\"],[0.5555555555555556,\"#d8576b\"],[0.6666666666666666,\"#ed7953\"],[0.7777777777777778,\"#fb9f3a\"],[0.8888888888888888,\"#fdca26\"],[1.0,\"#f0f921\"]]}],\"choropleth\":[{\"type\":\"choropleth\",\"colorbar\":{\"outlinewidth\":0,\"ticks\":\"\"}}],\"histogram2d\":[{\"type\":\"histogram2d\",\"colorbar\":{\"outlinewidth\":0,\"ticks\":\"\"},\"colorscale\":[[0.0,\"#0d0887\"],[0.1111111111111111,\"#46039f\"],[0.2222222222222222,\"#7201a8\"],[0.3333333333333333,\"#9c179e\"],[0.4444444444444444,\"#bd3786\"],[0.5555555555555556,\"#d8576b\"],[0.6666666666666666,\"#ed7953\"],[0.7777777777777778,\"#fb9f3a\"],[0.8888888888888888,\"#fdca26\"],[1.0,\"#f0f921\"]]}],\"heatmap\":[{\"type\":\"heatmap\",\"colorbar\":{\"outlinewidth\":0,\"ticks\":\"\"},\"colorscale\":[[0.0,\"#0d0887\"],[0.1111111111111111,\"#46039f\"],[0.2222222222222222,\"#7201a8\"],[0.3333333333333333,\"#9c179e\"],[0.4444444444444444,\"#bd3786\"],[0.5555555555555556,\"#d8576b\"],[0.6666666666666666,\"#ed7953\"],[0.7777777777777778,\"#fb9f3a\"],[0.8888888888888888,\"#fdca26\"],[1.0,\"#f0f921\"]]}],\"heatmapgl\":[{\"type\":\"heatmapgl\",\"colorbar\":{\"outlinewidth\":0,\"ticks\":\"\"},\"colorscale\":[[0.0,\"#0d0887\"],[0.1111111111111111,\"#46039f\"],[0.2222222222222222,\"#7201a8\"],[0.3333333333333333,\"#9c179e\"],[0.4444444444444444,\"#bd3786\"],[0.5555555555555556,\"#d8576b\"],[0.6666666666666666,\"#ed7953\"],[0.7777777777777778,\"#fb9f3a\"],[0.8888888888888888,\"#fdca26\"],[1.0,\"#f0f921\"]]}],\"contourcarpet\":[{\"type\":\"contourcarpet\",\"colorbar\":{\"outlinewidth\":0,\"ticks\":\"\"}}],\"contour\":[{\"type\":\"contour\",\"colorbar\":{\"outlinewidth\":0,\"ticks\":\"\"},\"colorscale\":[[0.0,\"#0d0887\"],[0.1111111111111111,\"#46039f\"],[0.2222222222222222,\"#7201a8\"],[0.3333333333333333,\"#9c179e\"],[0.4444444444444444,\"#bd3786\"],[0.5555555555555556,\"#d8576b\"],[0.6666666666666666,\"#ed7953\"],[0.7777777777777778,\"#fb9f3a\"],[0.8888888888888888,\"#fdca26\"],[1.0,\"#f0f921\"]]}],\"surface\":[{\"type\":\"surface\",\"colorbar\":{\"outlinewidth\":0,\"ticks\":\"\"},\"colorscale\":[[0.0,\"#0d0887\"],[0.1111111111111111,\"#46039f\"],[0.2222222222222222,\"#7201a8\"],[0.3333333333333333,\"#9c179e\"],[0.4444444444444444,\"#bd3786\"],[0.5555555555555556,\"#d8576b\"],[0.6666666666666666,\"#ed7953\"],[0.7777777777777778,\"#fb9f3a\"],[0.8888888888888888,\"#fdca26\"],[1.0,\"#f0f921\"]]}],\"mesh3d\":[{\"type\":\"mesh3d\",\"colorbar\":{\"outlinewidth\":0,\"ticks\":\"\"}}],\"scatter\":[{\"fillpattern\":{\"fillmode\":\"overlay\",\"size\":10,\"solidity\":0.2},\"type\":\"scatter\"}],\"parcoords\":[{\"type\":\"parcoords\",\"line\":{\"colorbar\":{\"outlinewidth\":0,\"ticks\":\"\"}}}],\"scatterpolargl\":[{\"type\":\"scatterpolargl\",\"marker\":{\"colorbar\":{\"outlinewidth\":0,\"ticks\":\"\"}}}],\"bar\":[{\"error_x\":{\"color\":\"#2a3f5f\"},\"error_y\":{\"color\":\"#2a3f5f\"},\"marker\":{\"line\":{\"color\":\"#E5ECF6\",\"width\":0.5},\"pattern\":{\"fillmode\":\"overlay\",\"size\":10,\"solidity\":0.2}},\"type\":\"bar\"}],\"scattergeo\":[{\"type\":\"scattergeo\",\"marker\":{\"colorbar\":{\"outlinewidth\":0,\"ticks\":\"\"}}}],\"scatterpolar\":[{\"type\":\"scatterpolar\",\"marker\":{\"colorbar\":{\"outlinewidth\":0,\"ticks\":\"\"}}}],\"histogram\":[{\"marker\":{\"pattern\":{\"fillmode\":\"overlay\",\"size\":10,\"solidity\":0.2}},\"type\":\"histogram\"}],\"scattergl\":[{\"type\":\"scattergl\",\"marker\":{\"colorbar\":{\"outlinewidth\":0,\"ticks\":\"\"}}}],\"scatter3d\":[{\"type\":\"scatter3d\",\"line\":{\"colorbar\":{\"outlinewidth\":0,\"ticks\":\"\"}},\"marker\":{\"colorbar\":{\"outlinewidth\":0,\"ticks\":\"\"}}}],\"scattermapbox\":[{\"type\":\"scattermapbox\",\"marker\":{\"colorbar\":{\"outlinewidth\":0,\"ticks\":\"\"}}}],\"scatterternary\":[{\"type\":\"scatterternary\",\"marker\":{\"colorbar\":{\"outlinewidth\":0,\"ticks\":\"\"}}}],\"scattercarpet\":[{\"type\":\"scattercarpet\",\"marker\":{\"colorbar\":{\"outlinewidth\":0,\"ticks\":\"\"}}}],\"carpet\":[{\"aaxis\":{\"endlinecolor\":\"#2a3f5f\",\"gridcolor\":\"white\",\"linecolor\":\"white\",\"minorgridcolor\":\"white\",\"startlinecolor\":\"#2a3f5f\"},\"baxis\":{\"endlinecolor\":\"#2a3f5f\",\"gridcolor\":\"white\",\"linecolor\":\"white\",\"minorgridcolor\":\"white\",\"startlinecolor\":\"#2a3f5f\"},\"type\":\"carpet\"}],\"table\":[{\"cells\":{\"fill\":{\"color\":\"#EBF0F8\"},\"line\":{\"color\":\"white\"}},\"header\":{\"fill\":{\"color\":\"#C8D4E3\"},\"line\":{\"color\":\"white\"}},\"type\":\"table\"}],\"barpolar\":[{\"marker\":{\"line\":{\"color\":\"#E5ECF6\",\"width\":0.5},\"pattern\":{\"fillmode\":\"overlay\",\"size\":10,\"solidity\":0.2}},\"type\":\"barpolar\"}],\"pie\":[{\"automargin\":true,\"type\":\"pie\"}]},\"layout\":{\"autotypenumbers\":\"strict\",\"colorway\":[\"#636efa\",\"#EF553B\",\"#00cc96\",\"#ab63fa\",\"#FFA15A\",\"#19d3f3\",\"#FF6692\",\"#B6E880\",\"#FF97FF\",\"#FECB52\"],\"font\":{\"color\":\"#2a3f5f\"},\"hovermode\":\"closest\",\"hoverlabel\":{\"align\":\"left\"},\"paper_bgcolor\":\"white\",\"plot_bgcolor\":\"#E5ECF6\",\"polar\":{\"bgcolor\":\"#E5ECF6\",\"angularaxis\":{\"gridcolor\":\"white\",\"linecolor\":\"white\",\"ticks\":\"\"},\"radialaxis\":{\"gridcolor\":\"white\",\"linecolor\":\"white\",\"ticks\":\"\"}},\"ternary\":{\"bgcolor\":\"#E5ECF6\",\"aaxis\":{\"gridcolor\":\"white\",\"linecolor\":\"white\",\"ticks\":\"\"},\"baxis\":{\"gridcolor\":\"white\",\"linecolor\":\"white\",\"ticks\":\"\"},\"caxis\":{\"gridcolor\":\"white\",\"linecolor\":\"white\",\"ticks\":\"\"}},\"coloraxis\":{\"colorbar\":{\"outlinewidth\":0,\"ticks\":\"\"}},\"colorscale\":{\"sequential\":[[0.0,\"#0d0887\"],[0.1111111111111111,\"#46039f\"],[0.2222222222222222,\"#7201a8\"],[0.3333333333333333,\"#9c179e\"],[0.4444444444444444,\"#bd3786\"],[0.5555555555555556,\"#d8576b\"],[0.6666666666666666,\"#ed7953\"],[0.7777777777777778,\"#fb9f3a\"],[0.8888888888888888,\"#fdca26\"],[1.0,\"#f0f921\"]],\"sequentialminus\":[[0.0,\"#0d0887\"],[0.1111111111111111,\"#46039f\"],[0.2222222222222222,\"#7201a8\"],[0.3333333333333333,\"#9c179e\"],[0.4444444444444444,\"#bd3786\"],[0.5555555555555556,\"#d8576b\"],[0.6666666666666666,\"#ed7953\"],[0.7777777777777778,\"#fb9f3a\"],[0.8888888888888888,\"#fdca26\"],[1.0,\"#f0f921\"]],\"diverging\":[[0,\"#8e0152\"],[0.1,\"#c51b7d\"],[0.2,\"#de77ae\"],[0.3,\"#f1b6da\"],[0.4,\"#fde0ef\"],[0.5,\"#f7f7f7\"],[0.6,\"#e6f5d0\"],[0.7,\"#b8e186\"],[0.8,\"#7fbc41\"],[0.9,\"#4d9221\"],[1,\"#276419\"]]},\"xaxis\":{\"gridcolor\":\"white\",\"linecolor\":\"white\",\"ticks\":\"\",\"title\":{\"standoff\":15},\"zerolinecolor\":\"white\",\"automargin\":true,\"zerolinewidth\":2},\"yaxis\":{\"gridcolor\":\"white\",\"linecolor\":\"white\",\"ticks\":\"\",\"title\":{\"standoff\":15},\"zerolinecolor\":\"white\",\"automargin\":true,\"zerolinewidth\":2},\"scene\":{\"xaxis\":{\"backgroundcolor\":\"#E5ECF6\",\"gridcolor\":\"white\",\"linecolor\":\"white\",\"showbackground\":true,\"ticks\":\"\",\"zerolinecolor\":\"white\",\"gridwidth\":2},\"yaxis\":{\"backgroundcolor\":\"#E5ECF6\",\"gridcolor\":\"white\",\"linecolor\":\"white\",\"showbackground\":true,\"ticks\":\"\",\"zerolinecolor\":\"white\",\"gridwidth\":2},\"zaxis\":{\"backgroundcolor\":\"#E5ECF6\",\"gridcolor\":\"white\",\"linecolor\":\"white\",\"showbackground\":true,\"ticks\":\"\",\"zerolinecolor\":\"white\",\"gridwidth\":2}},\"shapedefaults\":{\"line\":{\"color\":\"#2a3f5f\"}},\"annotationdefaults\":{\"arrowcolor\":\"#2a3f5f\",\"arrowhead\":0,\"arrowwidth\":1},\"geo\":{\"bgcolor\":\"white\",\"landcolor\":\"#E5ECF6\",\"subunitcolor\":\"white\",\"showland\":true,\"showlakes\":true,\"lakecolor\":\"white\"},\"title\":{\"x\":0.05},\"mapbox\":{\"style\":\"light\"}}},\"xaxis\":{\"anchor\":\"y\",\"domain\":[0.0,1.0],\"title\":{\"text\":\"x\"}},\"yaxis\":{\"anchor\":\"x\",\"domain\":[0.0,1.0],\"title\":{\"text\":\"y\"}},\"coloraxis\":{\"colorbar\":{\"title\":{\"text\":\"color\"}},\"colorscale\":[[0.0,\"rgb(0,0,255)\"],[1.0,\"rgb(255,0,0)\"]],\"showscale\":false},\"legend\":{\"tracegroupgap\":0},\"margin\":{\"t\":60},\"width\":600,\"height\":400,\"title\":{\"text\":\"Linearly Separable Data\"}},                        {\"responsive\": true}                    ).then(function(){\n",
       "                            \n",
       "var gd = document.getElementById('ca648e71-029d-47bf-bc48-1ca20df5d049');\n",
       "var x = new MutationObserver(function (mutations, observer) {{\n",
       "        var display = window.getComputedStyle(gd).display;\n",
       "        if (!display || display === 'none') {{\n",
       "            console.log([gd, 'removed!']);\n",
       "            Plotly.purge(gd);\n",
       "            observer.disconnect();\n",
       "        }}\n",
       "}});\n",
       "\n",
       "// Listen for the removal of the full notebook cells\n",
       "var notebookContainer = gd.closest('#notebook-container');\n",
       "if (notebookContainer) {{\n",
       "    x.observe(notebookContainer, {childList: true});\n",
       "}}\n",
       "\n",
       "// Listen for the clearing of the current output cell\n",
       "var outputEl = gd.closest('.output');\n",
       "if (outputEl) {{\n",
       "    x.observe(outputEl, {childList: true});\n",
       "}}\n",
       "\n",
       "                        })                };                });            </script>        </div>"
      ]
     },
     "metadata": {},
     "output_type": "display_data"
    }
   ],
   "source": [
    "# Plotting the data\n",
    "figL = px.scatter(x=Xl[:,0], y=Xl[:,1], \n",
    "                  color=yl, color_continuous_scale='bluered')\n",
    "figL.update_traces(marker=dict(size=8, opacity=0.6))\n",
    "figL.update_layout(coloraxis_showscale=False, \n",
    "                   width=600, height=400, \n",
    "                   title='Linearly Separable Data')             \n",
    "figL.show()"
   ]
  },
  {
   "cell_type": "markdown",
   "metadata": {},
   "source": [
    "This is an example of linearly separable data. Let's apply PCA!"
   ]
  },
  {
   "cell_type": "code",
   "execution_count": 4,
   "metadata": {},
   "outputs": [
    {
     "name": "stdout",
     "output_type": "stream",
     "text": [
      "Explained variance:  [3.629 0.235]\n",
      "Explained variance ratio:  [0.94 0.06]\n"
     ]
    }
   ],
   "source": [
    "pca = PCA(n_components=2)\n",
    "\n",
    "# Getting the transformed dataset represented in terms of the principal components\n",
    "dataL = pca.fit_transform(Xl)\n",
    "\n",
    "print('Explained variance: ', pca.explained_variance_.round(3))\n",
    "print('Explained variance ratio: ', pca.explained_variance_ratio_.round(2))"
   ]
  },
  {
   "cell_type": "code",
   "execution_count": 5,
   "metadata": {},
   "outputs": [
    {
     "data": {
      "application/vnd.plotly.v1+json": {
       "config": {
        "plotlyServerURL": "https://plot.ly"
       },
       "data": [
        {
         "hovertemplate": "x=%{x}<br>y=%{y}<br>color=%{marker.color}<extra></extra>",
         "legendgroup": "",
         "marker": {
          "color": [
           1,
           1,
           1,
           1,
           0,
           0,
           0,
           0,
           1,
           0,
           1,
           1,
           0,
           0,
           1,
           0,
           1,
           1,
           1,
           1,
           1,
           0,
           0,
           0,
           0,
           0,
           1,
           0,
           1,
           1,
           0,
           1,
           1,
           1,
           0,
           0,
           1,
           1,
           0,
           0,
           0,
           1,
           1,
           0,
           0,
           1,
           0,
           1,
           0,
           1,
           1,
           0,
           0,
           0,
           1,
           0,
           0,
           0,
           1,
           1,
           1,
           1,
           0,
           0,
           0,
           1,
           1,
           1,
           0,
           0,
           1,
           0,
           1,
           1,
           1,
           1,
           1,
           1,
           0,
           1,
           0,
           1,
           0,
           0,
           1,
           0,
           0,
           1,
           1,
           1,
           0,
           0,
           0,
           0,
           1,
           1,
           1,
           0,
           0,
           1,
           0,
           1,
           0,
           0,
           0,
           0,
           0,
           0,
           1,
           0,
           1,
           0,
           0,
           0,
           0,
           1,
           1,
           1,
           1,
           1,
           0,
           1,
           0,
           1,
           1,
           1,
           0,
           1,
           1,
           0,
           1,
           0,
           0,
           1,
           0,
           0,
           0,
           1,
           1,
           1,
           0,
           1,
           0,
           0,
           1,
           0,
           0,
           0,
           1,
           1,
           1,
           0,
           0,
           0,
           1,
           0,
           0,
           1,
           1,
           1,
           1,
           0,
           0,
           1,
           1,
           1,
           0,
           0,
           0,
           0,
           1,
           1,
           1,
           0,
           1,
           0,
           0,
           0,
           1,
           1,
           1,
           0,
           1,
           0,
           0,
           0,
           1,
           1,
           1,
           0,
           1,
           0,
           1,
           1,
           1,
           1,
           0,
           0,
           0,
           0
          ],
          "coloraxis": "coloraxis",
          "opacity": 0.6,
          "size": 8,
          "symbol": "circle"
         },
         "mode": "markers",
         "name": "",
         "orientation": "v",
         "showlegend": false,
         "type": "scatter",
         "x": [
          1.7337397710970355,
          1.5632670798548605,
          2.164678248729744,
          1.8980231343475347,
          -2.2647878609951895,
          -1.697083500086379,
          -2.4527020579109804,
          -0.9493944214746982,
          1.9211906249569088,
          -2.226264818989629,
          1.7383967384140926,
          1.55009250265728,
          -1.1946750182762187,
          -2.3242416178473055,
          1.5309744760673607,
          -1.557137516129913,
          1.9706517424197918,
          1.5939676115336705,
          2.1464825592656043,
          2.0349423334531944,
          2.282881794566174,
          -1.7385448010112894,
          -1.9350116415303207,
          -2.14206558505279,
          -2.2153132036312724,
          -2.189052627960654,
          2.300618644944436,
          -2.214484720008212,
          1.8695365468003606,
          1.1323480305876146,
          -2.872609366134862,
          2.2556900404375826,
          1.7726572015920956,
          2.364735182951257,
          -2.6068469763772573,
          -1.7262781948205306,
          0.9624941720878674,
          2.3863298621108284,
          -2.064083958290308,
          -1.899029964880381,
          -2.1978330706132434,
          2.4737125091914747,
          1.4318892663206113,
          -1.984609768365096,
          -1.9109086222425988,
          1.970146491003419,
          -2.4188130376992776,
          0.5209673647200077,
          -1.760251199130949,
          2.1347373739907143,
          1.873098789517583,
          -1.594138798277452,
          -0.9725174598068406,
          -1.220130703682904,
          1.7075517806622256,
          -1.2803749817985888,
          -2.1124542046926975,
          -2.6305839590933267,
          1.7065452909761913,
          1.7841842130203003,
          1.9710334319795322,
          1.8846405786106404,
          -2.4315588858101442,
          -1.1650956749196562,
          -1.8934283543619905,
          1.5669593580781913,
          1.0689213564910318,
          1.7104864555190227,
          -1.523131030559523,
          -1.800918852435409,
          2.6293737450717423,
          -1.6365266958038673,
          1.4342883844519372,
          1.6705273194124708,
          1.2610298761738545,
          2.1312785327471784,
          0.6919329461152999,
          0.8177214281703434,
          -1.0610332360453532,
          2.2483028566049517,
          -2.0564116101278618,
          1.6126434521730948,
          -2.4475127076656618,
          -2.950963020168222,
          0.9045193719588048,
          -1.9474385073682228,
          -2.1955162229935583,
          1.928705477543575,
          1.6976101448824834,
          1.5007856293128417,
          -1.3899730019070946,
          -1.1744188589883207,
          -2.8126779373881505,
          -1.0224743195473334,
          1.2323322123022413,
          1.7175453130057314,
          1.345543915246675,
          -1.8475171919711688,
          -1.6788661977558308,
          2.3795072034139824,
          -1.6901943353448905,
          1.9220652347552276,
          -1.5573898942738442,
          -1.7121301687520603,
          -1.8998271194695187,
          -1.3212871586442922,
          -1.9553412110033053,
          -2.08660561935741,
          1.4408507475593642,
          -2.4393870139289504,
          2.472479854880697,
          -2.179186344475145,
          -1.7265560292506887,
          -1.7345520879416743,
          -2.7709812356189034,
          1.9835384656319983,
          1.7673256461214382,
          2.1213585585867705,
          1.828653292886485,
          1.959645292905264,
          -2.1313396696330655,
          1.5320581957659856,
          -1.6844863509551822,
          1.245321205020022,
          1.372507495360947,
          2.111688422305356,
          -1.5676218185520447,
          2.1476928941417754,
          2.641029960264508,
          -1.3423170703066731,
          1.8271975869227715,
          -1.1949652440892775,
          -2.7236286775868983,
          1.8281608942118976,
          -1.483209433196238,
          -1.043733085959425,
          -2.352485448650187,
          1.8928873681191674,
          1.2692206749479358,
          1.9497707825144421,
          -1.8728542496315992,
          1.281638249985282,
          -1.7986520854362564,
          -1.6197262296204344,
          2.2630488128658706,
          -0.9185133437517754,
          -1.885150666453646,
          -2.0849387333440315,
          1.545056923214348,
          1.2919098570305607,
          1.9553967728931838,
          -1.9275403269765357,
          -2.0618151743747606,
          -1.6192663169481272,
          1.8335707207432397,
          -2.3696673696709554,
          -1.845847756922421,
          1.9395266549182946,
          1.7647873594501962,
          2.0859588352572453,
          1.9892351608616774,
          -2.475714127863319,
          -0.8637678480288392,
          2.6628152249633468,
          2.5229630068450275,
          1.8610119201859514,
          -2.6194534278946713,
          -1.9348017945727956,
          -0.798668730789324,
          -1.2410738838186497,
          2.5577700525088654,
          2.106745858139481,
          2.3195511245626044,
          -1.9501746999431122,
          2.3129258705943445,
          -1.8761604608132714,
          -1.683709226708586,
          -2.418358465937483,
          3.000257961680492,
          3.183464730197227,
          1.2596416056327047,
          -1.2975153643463593,
          1.839799822715201,
          -1.0985935739496864,
          -1.9866450360686696,
          -1.4745764529662557,
          1.893311464112335,
          2.597367225639902,
          2.3588071276898557,
          -2.247514137018964,
          1.521043838627702,
          -1.4705833550767948,
          1.3338431242016846,
          1.8834035171804628,
          1.369976430572802,
          1.5607758181326041,
          -1.46671523252023,
          -0.7582853273100004,
          -1.5689760486119448,
          -2.371107584860152
         ],
         "xaxis": "x",
         "y": [
          0.4980832140291913,
          -0.059537480685729796,
          0.5291425239589694,
          -0.28156429484732837,
          0.9439039592250544,
          -0.37128118504530316,
          0.2754042826665583,
          -0.7024303248306217,
          -0.025475084262054245,
          -0.7152891604622821,
          -0.21339179356596674,
          -0.6503215864554047,
          0.028055508930349023,
          -0.4899691710727949,
          0.20894725073845274,
          -0.4804896442905385,
          -1.1458783047519343,
          0.9036722438476962,
          0.2492526065875226,
          0.448932845673598,
          -0.42053086949163965,
          -0.6943749219749658,
          0.6216719321776502,
          -0.2917402445456328,
          1.1326898895100286,
          -0.20812937004971194,
          -0.20685095797441808,
          0.23910565764272013,
          -0.17083784163929708,
          -1.1106564770347083,
          -0.2878677217917471,
          -0.7493529184792237,
          0.5614577410408795,
          -0.5995897733352155,
          0.2099458405108533,
          -0.6102106613948531,
          -0.036043037933912433,
          -0.5162255651349595,
          0.27221564527940567,
          -0.14305043127894723,
          -0.013911905166455952,
          0.2848116192176657,
          -0.06285054056626212,
          0.04859136347436639,
          0.07634601605188908,
          0.10337632569524081,
          -0.4714897395350856,
          -0.6041683025279401,
          0.6165333006146659,
          1.158317482989872,
          -0.5615560771266955,
          0.24932668428070137,
          0.009487941580511383,
          -0.18107372867483582,
          0.1878608660652903,
          -0.4090940260775664,
          1.2277602389265831,
          0.25792173035907795,
          -0.05535600005446056,
          -0.5191033946794952,
          0.3906148186437521,
          1.073489971126291,
          -0.36369647437627,
          -0.3611555171363568,
          1.2781898830441611,
          0.1732810653979527,
          -0.2512298426784057,
          0.4068712434398088,
          0.5422720559448746,
          -0.3523904227162575,
          1.0367012780389822,
          -0.3041924476443977,
          -0.8224542973563039,
          -0.07284159257601862,
          0.16742870506976296,
          0.3919072641705525,
          0.3216057076077044,
          -0.31378812976731935,
          -0.630849150490984,
          -0.3639395489702043,
          0.17113874805989945,
          0.12524771606318597,
          -1.1312699564953466,
          -0.5426909434640407,
          -0.014876521791975789,
          1.0253868067197351,
          -0.6519059083364456,
          0.019583610643331313,
          -0.091289984200751,
          -0.07466002307779053,
          0.0987518372450629,
          -0.6951065700955278,
          -0.1429202279234794,
          0.37513572329157324,
          0.17466168416079095,
          0.09522391411104572,
          0.1045400217520371,
          -0.21420642487121197,
          -0.0024241053612842553,
          -0.48858371711294685,
          -0.3534286287711679,
          0.300739055620238,
          0.030599763385346493,
          -0.2088665207960944,
          -0.8023955837347355,
          0.03212510319471744,
          -0.5206809115761355,
          -0.37339379398295414,
          0.7847905375606524,
          -0.2791222230404753,
          0.2715929282370632,
          0.7612385692519235,
          0.3842026088254474,
          0.3698998230651433,
          0.03409236607991929,
          0.3210550710265612,
          -0.8714234505137137,
          -0.16691180033394945,
          -0.427191643365739,
          -0.06683642621018901,
          0.42618030152045583,
          0.37979598248269464,
          -0.22641569221006577,
          -0.12546128433219036,
          -0.6802727843305393,
          0.33515304257592826,
          0.4346755240889207,
          -0.03525058124642801,
          0.16811385981813934,
          0.3215843222673219,
          -0.23991964349476805,
          0.03834229948306488,
          0.05298483137415594,
          0.34394719060597523,
          -0.4715806939748037,
          0.760731451598752,
          -0.4674433393471193,
          -0.28786044065704036,
          0.5940837986968853,
          0.8940642247793421,
          0.26179888206650515,
          -0.5936590196486242,
          0.48858311446520364,
          -0.49726909545245196,
          0.08666378191276179,
          0.07680801607832899,
          -0.31718015673815786,
          -0.5809223389624377,
          0.30309349444943856,
          0.17045217266316182,
          -0.3061067402544317,
          -0.42614126507965805,
          0.4879872222253619,
          0.22890873166109094,
          -0.6725201462776204,
          0.3314225356424394,
          -0.13968175633978616,
          -0.2888477453343348,
          0.5750522581204556,
          -0.37941144546482275,
          -0.5632477900392803,
          0.9824762377881004,
          0.7161514933010684,
          0.1600756200034132,
          -0.31661443697139896,
          -0.430677189849396,
          -0.13612076803928802,
          0.1294153960181762,
          -0.6193599329080005,
          -0.7007701990570356,
          -0.3036656758283839,
          -0.07214858877172985,
          0.6380149024778107,
          0.119311021897994,
          0.07514413157151742,
          0.38177995725569136,
          0.4698022927847568,
          -0.01975533103241953,
          0.5063717126547943,
          -0.11800469457536299,
          -0.3648773111131568,
          0.3124264199637957,
          0.0354840655005992,
          0.39077720247285347,
          0.010093318190763333,
          -0.3015871197134119,
          0.4158164649435844,
          -0.13413962529531864,
          -0.46243884005484837,
          -0.3985733428821831,
          -0.12189007504478618,
          -0.1385547819398927,
          -0.6990555859625875,
          0.20066258229715284,
          0.6521600578395542,
          0.5095967788839483,
          0.6900214491524269,
          0.8866810491283258,
          0.436549907873401,
          -0.4305809086981445
         ],
         "yaxis": "y"
        }
       ],
       "layout": {
        "coloraxis": {
         "colorbar": {
          "title": {
           "text": "color"
          }
         },
         "colorscale": [
          [
           0,
           "rgb(0,0,255)"
          ],
          [
           1,
           "rgb(255,0,0)"
          ]
         ],
         "showscale": false
        },
        "height": 400,
        "legend": {
         "tracegroupgap": 0
        },
        "margin": {
         "t": 60
        },
        "template": {
         "data": {
          "bar": [
           {
            "error_x": {
             "color": "#2a3f5f"
            },
            "error_y": {
             "color": "#2a3f5f"
            },
            "marker": {
             "line": {
              "color": "#E5ECF6",
              "width": 0.5
             },
             "pattern": {
              "fillmode": "overlay",
              "size": 10,
              "solidity": 0.2
             }
            },
            "type": "bar"
           }
          ],
          "barpolar": [
           {
            "marker": {
             "line": {
              "color": "#E5ECF6",
              "width": 0.5
             },
             "pattern": {
              "fillmode": "overlay",
              "size": 10,
              "solidity": 0.2
             }
            },
            "type": "barpolar"
           }
          ],
          "carpet": [
           {
            "aaxis": {
             "endlinecolor": "#2a3f5f",
             "gridcolor": "white",
             "linecolor": "white",
             "minorgridcolor": "white",
             "startlinecolor": "#2a3f5f"
            },
            "baxis": {
             "endlinecolor": "#2a3f5f",
             "gridcolor": "white",
             "linecolor": "white",
             "minorgridcolor": "white",
             "startlinecolor": "#2a3f5f"
            },
            "type": "carpet"
           }
          ],
          "choropleth": [
           {
            "colorbar": {
             "outlinewidth": 0,
             "ticks": ""
            },
            "type": "choropleth"
           }
          ],
          "contour": [
           {
            "colorbar": {
             "outlinewidth": 0,
             "ticks": ""
            },
            "colorscale": [
             [
              0,
              "#0d0887"
             ],
             [
              0.1111111111111111,
              "#46039f"
             ],
             [
              0.2222222222222222,
              "#7201a8"
             ],
             [
              0.3333333333333333,
              "#9c179e"
             ],
             [
              0.4444444444444444,
              "#bd3786"
             ],
             [
              0.5555555555555556,
              "#d8576b"
             ],
             [
              0.6666666666666666,
              "#ed7953"
             ],
             [
              0.7777777777777778,
              "#fb9f3a"
             ],
             [
              0.8888888888888888,
              "#fdca26"
             ],
             [
              1,
              "#f0f921"
             ]
            ],
            "type": "contour"
           }
          ],
          "contourcarpet": [
           {
            "colorbar": {
             "outlinewidth": 0,
             "ticks": ""
            },
            "type": "contourcarpet"
           }
          ],
          "heatmap": [
           {
            "colorbar": {
             "outlinewidth": 0,
             "ticks": ""
            },
            "colorscale": [
             [
              0,
              "#0d0887"
             ],
             [
              0.1111111111111111,
              "#46039f"
             ],
             [
              0.2222222222222222,
              "#7201a8"
             ],
             [
              0.3333333333333333,
              "#9c179e"
             ],
             [
              0.4444444444444444,
              "#bd3786"
             ],
             [
              0.5555555555555556,
              "#d8576b"
             ],
             [
              0.6666666666666666,
              "#ed7953"
             ],
             [
              0.7777777777777778,
              "#fb9f3a"
             ],
             [
              0.8888888888888888,
              "#fdca26"
             ],
             [
              1,
              "#f0f921"
             ]
            ],
            "type": "heatmap"
           }
          ],
          "heatmapgl": [
           {
            "colorbar": {
             "outlinewidth": 0,
             "ticks": ""
            },
            "colorscale": [
             [
              0,
              "#0d0887"
             ],
             [
              0.1111111111111111,
              "#46039f"
             ],
             [
              0.2222222222222222,
              "#7201a8"
             ],
             [
              0.3333333333333333,
              "#9c179e"
             ],
             [
              0.4444444444444444,
              "#bd3786"
             ],
             [
              0.5555555555555556,
              "#d8576b"
             ],
             [
              0.6666666666666666,
              "#ed7953"
             ],
             [
              0.7777777777777778,
              "#fb9f3a"
             ],
             [
              0.8888888888888888,
              "#fdca26"
             ],
             [
              1,
              "#f0f921"
             ]
            ],
            "type": "heatmapgl"
           }
          ],
          "histogram": [
           {
            "marker": {
             "pattern": {
              "fillmode": "overlay",
              "size": 10,
              "solidity": 0.2
             }
            },
            "type": "histogram"
           }
          ],
          "histogram2d": [
           {
            "colorbar": {
             "outlinewidth": 0,
             "ticks": ""
            },
            "colorscale": [
             [
              0,
              "#0d0887"
             ],
             [
              0.1111111111111111,
              "#46039f"
             ],
             [
              0.2222222222222222,
              "#7201a8"
             ],
             [
              0.3333333333333333,
              "#9c179e"
             ],
             [
              0.4444444444444444,
              "#bd3786"
             ],
             [
              0.5555555555555556,
              "#d8576b"
             ],
             [
              0.6666666666666666,
              "#ed7953"
             ],
             [
              0.7777777777777778,
              "#fb9f3a"
             ],
             [
              0.8888888888888888,
              "#fdca26"
             ],
             [
              1,
              "#f0f921"
             ]
            ],
            "type": "histogram2d"
           }
          ],
          "histogram2dcontour": [
           {
            "colorbar": {
             "outlinewidth": 0,
             "ticks": ""
            },
            "colorscale": [
             [
              0,
              "#0d0887"
             ],
             [
              0.1111111111111111,
              "#46039f"
             ],
             [
              0.2222222222222222,
              "#7201a8"
             ],
             [
              0.3333333333333333,
              "#9c179e"
             ],
             [
              0.4444444444444444,
              "#bd3786"
             ],
             [
              0.5555555555555556,
              "#d8576b"
             ],
             [
              0.6666666666666666,
              "#ed7953"
             ],
             [
              0.7777777777777778,
              "#fb9f3a"
             ],
             [
              0.8888888888888888,
              "#fdca26"
             ],
             [
              1,
              "#f0f921"
             ]
            ],
            "type": "histogram2dcontour"
           }
          ],
          "mesh3d": [
           {
            "colorbar": {
             "outlinewidth": 0,
             "ticks": ""
            },
            "type": "mesh3d"
           }
          ],
          "parcoords": [
           {
            "line": {
             "colorbar": {
              "outlinewidth": 0,
              "ticks": ""
             }
            },
            "type": "parcoords"
           }
          ],
          "pie": [
           {
            "automargin": true,
            "type": "pie"
           }
          ],
          "scatter": [
           {
            "fillpattern": {
             "fillmode": "overlay",
             "size": 10,
             "solidity": 0.2
            },
            "type": "scatter"
           }
          ],
          "scatter3d": [
           {
            "line": {
             "colorbar": {
              "outlinewidth": 0,
              "ticks": ""
             }
            },
            "marker": {
             "colorbar": {
              "outlinewidth": 0,
              "ticks": ""
             }
            },
            "type": "scatter3d"
           }
          ],
          "scattercarpet": [
           {
            "marker": {
             "colorbar": {
              "outlinewidth": 0,
              "ticks": ""
             }
            },
            "type": "scattercarpet"
           }
          ],
          "scattergeo": [
           {
            "marker": {
             "colorbar": {
              "outlinewidth": 0,
              "ticks": ""
             }
            },
            "type": "scattergeo"
           }
          ],
          "scattergl": [
           {
            "marker": {
             "colorbar": {
              "outlinewidth": 0,
              "ticks": ""
             }
            },
            "type": "scattergl"
           }
          ],
          "scattermapbox": [
           {
            "marker": {
             "colorbar": {
              "outlinewidth": 0,
              "ticks": ""
             }
            },
            "type": "scattermapbox"
           }
          ],
          "scatterpolar": [
           {
            "marker": {
             "colorbar": {
              "outlinewidth": 0,
              "ticks": ""
             }
            },
            "type": "scatterpolar"
           }
          ],
          "scatterpolargl": [
           {
            "marker": {
             "colorbar": {
              "outlinewidth": 0,
              "ticks": ""
             }
            },
            "type": "scatterpolargl"
           }
          ],
          "scatterternary": [
           {
            "marker": {
             "colorbar": {
              "outlinewidth": 0,
              "ticks": ""
             }
            },
            "type": "scatterternary"
           }
          ],
          "surface": [
           {
            "colorbar": {
             "outlinewidth": 0,
             "ticks": ""
            },
            "colorscale": [
             [
              0,
              "#0d0887"
             ],
             [
              0.1111111111111111,
              "#46039f"
             ],
             [
              0.2222222222222222,
              "#7201a8"
             ],
             [
              0.3333333333333333,
              "#9c179e"
             ],
             [
              0.4444444444444444,
              "#bd3786"
             ],
             [
              0.5555555555555556,
              "#d8576b"
             ],
             [
              0.6666666666666666,
              "#ed7953"
             ],
             [
              0.7777777777777778,
              "#fb9f3a"
             ],
             [
              0.8888888888888888,
              "#fdca26"
             ],
             [
              1,
              "#f0f921"
             ]
            ],
            "type": "surface"
           }
          ],
          "table": [
           {
            "cells": {
             "fill": {
              "color": "#EBF0F8"
             },
             "line": {
              "color": "white"
             }
            },
            "header": {
             "fill": {
              "color": "#C8D4E3"
             },
             "line": {
              "color": "white"
             }
            },
            "type": "table"
           }
          ]
         },
         "layout": {
          "annotationdefaults": {
           "arrowcolor": "#2a3f5f",
           "arrowhead": 0,
           "arrowwidth": 1
          },
          "autotypenumbers": "strict",
          "coloraxis": {
           "colorbar": {
            "outlinewidth": 0,
            "ticks": ""
           }
          },
          "colorscale": {
           "diverging": [
            [
             0,
             "#8e0152"
            ],
            [
             0.1,
             "#c51b7d"
            ],
            [
             0.2,
             "#de77ae"
            ],
            [
             0.3,
             "#f1b6da"
            ],
            [
             0.4,
             "#fde0ef"
            ],
            [
             0.5,
             "#f7f7f7"
            ],
            [
             0.6,
             "#e6f5d0"
            ],
            [
             0.7,
             "#b8e186"
            ],
            [
             0.8,
             "#7fbc41"
            ],
            [
             0.9,
             "#4d9221"
            ],
            [
             1,
             "#276419"
            ]
           ],
           "sequential": [
            [
             0,
             "#0d0887"
            ],
            [
             0.1111111111111111,
             "#46039f"
            ],
            [
             0.2222222222222222,
             "#7201a8"
            ],
            [
             0.3333333333333333,
             "#9c179e"
            ],
            [
             0.4444444444444444,
             "#bd3786"
            ],
            [
             0.5555555555555556,
             "#d8576b"
            ],
            [
             0.6666666666666666,
             "#ed7953"
            ],
            [
             0.7777777777777778,
             "#fb9f3a"
            ],
            [
             0.8888888888888888,
             "#fdca26"
            ],
            [
             1,
             "#f0f921"
            ]
           ],
           "sequentialminus": [
            [
             0,
             "#0d0887"
            ],
            [
             0.1111111111111111,
             "#46039f"
            ],
            [
             0.2222222222222222,
             "#7201a8"
            ],
            [
             0.3333333333333333,
             "#9c179e"
            ],
            [
             0.4444444444444444,
             "#bd3786"
            ],
            [
             0.5555555555555556,
             "#d8576b"
            ],
            [
             0.6666666666666666,
             "#ed7953"
            ],
            [
             0.7777777777777778,
             "#fb9f3a"
            ],
            [
             0.8888888888888888,
             "#fdca26"
            ],
            [
             1,
             "#f0f921"
            ]
           ]
          },
          "colorway": [
           "#636efa",
           "#EF553B",
           "#00cc96",
           "#ab63fa",
           "#FFA15A",
           "#19d3f3",
           "#FF6692",
           "#B6E880",
           "#FF97FF",
           "#FECB52"
          ],
          "font": {
           "color": "#2a3f5f"
          },
          "geo": {
           "bgcolor": "white",
           "lakecolor": "white",
           "landcolor": "#E5ECF6",
           "showlakes": true,
           "showland": true,
           "subunitcolor": "white"
          },
          "hoverlabel": {
           "align": "left"
          },
          "hovermode": "closest",
          "mapbox": {
           "style": "light"
          },
          "paper_bgcolor": "white",
          "plot_bgcolor": "#E5ECF6",
          "polar": {
           "angularaxis": {
            "gridcolor": "white",
            "linecolor": "white",
            "ticks": ""
           },
           "bgcolor": "#E5ECF6",
           "radialaxis": {
            "gridcolor": "white",
            "linecolor": "white",
            "ticks": ""
           }
          },
          "scene": {
           "xaxis": {
            "backgroundcolor": "#E5ECF6",
            "gridcolor": "white",
            "gridwidth": 2,
            "linecolor": "white",
            "showbackground": true,
            "ticks": "",
            "zerolinecolor": "white"
           },
           "yaxis": {
            "backgroundcolor": "#E5ECF6",
            "gridcolor": "white",
            "gridwidth": 2,
            "linecolor": "white",
            "showbackground": true,
            "ticks": "",
            "zerolinecolor": "white"
           },
           "zaxis": {
            "backgroundcolor": "#E5ECF6",
            "gridcolor": "white",
            "gridwidth": 2,
            "linecolor": "white",
            "showbackground": true,
            "ticks": "",
            "zerolinecolor": "white"
           }
          },
          "shapedefaults": {
           "line": {
            "color": "#2a3f5f"
           }
          },
          "ternary": {
           "aaxis": {
            "gridcolor": "white",
            "linecolor": "white",
            "ticks": ""
           },
           "baxis": {
            "gridcolor": "white",
            "linecolor": "white",
            "ticks": ""
           },
           "bgcolor": "#E5ECF6",
           "caxis": {
            "gridcolor": "white",
            "linecolor": "white",
            "ticks": ""
           }
          },
          "title": {
           "x": 0.05
          },
          "xaxis": {
           "automargin": true,
           "gridcolor": "white",
           "linecolor": "white",
           "ticks": "",
           "title": {
            "standoff": 15
           },
           "zerolinecolor": "white",
           "zerolinewidth": 2
          },
          "yaxis": {
           "automargin": true,
           "gridcolor": "white",
           "linecolor": "white",
           "ticks": "",
           "title": {
            "standoff": 15
           },
           "zerolinecolor": "white",
           "zerolinewidth": 2
          }
         }
        },
        "title": {
         "text": "Linearly Separable Data (PCA: 2 components)"
        },
        "width": 600,
        "xaxis": {
         "anchor": "y",
         "domain": [
          0,
          1
         ],
         "title": {
          "text": "Principal Component 1"
         }
        },
        "yaxis": {
         "anchor": "x",
         "domain": [
          0,
          1
         ],
         "title": {
          "text": "Principal Component 2"
         }
        }
       }
      },
      "text/html": [
       "<div>                            <div id=\"86e2a9fd-4f51-483a-9aaf-ad3e603faf82\" class=\"plotly-graph-div\" style=\"height:400px; width:600px;\"></div>            <script type=\"text/javascript\">                require([\"plotly\"], function(Plotly) {                    window.PLOTLYENV=window.PLOTLYENV || {};                                    if (document.getElementById(\"86e2a9fd-4f51-483a-9aaf-ad3e603faf82\")) {                    Plotly.newPlot(                        \"86e2a9fd-4f51-483a-9aaf-ad3e603faf82\",                        [{\"hovertemplate\":\"x=%{x}<br>y=%{y}<br>color=%{marker.color}<extra></extra>\",\"legendgroup\":\"\",\"marker\":{\"color\":[1,1,1,1,0,0,0,0,1,0,1,1,0,0,1,0,1,1,1,1,1,0,0,0,0,0,1,0,1,1,0,1,1,1,0,0,1,1,0,0,0,1,1,0,0,1,0,1,0,1,1,0,0,0,1,0,0,0,1,1,1,1,0,0,0,1,1,1,0,0,1,0,1,1,1,1,1,1,0,1,0,1,0,0,1,0,0,1,1,1,0,0,0,0,1,1,1,0,0,1,0,1,0,0,0,0,0,0,1,0,1,0,0,0,0,1,1,1,1,1,0,1,0,1,1,1,0,1,1,0,1,0,0,1,0,0,0,1,1,1,0,1,0,0,1,0,0,0,1,1,1,0,0,0,1,0,0,1,1,1,1,0,0,1,1,1,0,0,0,0,1,1,1,0,1,0,0,0,1,1,1,0,1,0,0,0,1,1,1,0,1,0,1,1,1,1,0,0,0,0],\"coloraxis\":\"coloraxis\",\"symbol\":\"circle\",\"opacity\":0.6,\"size\":8},\"mode\":\"markers\",\"name\":\"\",\"orientation\":\"v\",\"showlegend\":false,\"x\":[1.7337397710970355,1.5632670798548605,2.164678248729744,1.8980231343475347,-2.2647878609951895,-1.697083500086379,-2.4527020579109804,-0.9493944214746982,1.9211906249569088,-2.226264818989629,1.7383967384140926,1.55009250265728,-1.1946750182762187,-2.3242416178473055,1.5309744760673607,-1.557137516129913,1.9706517424197918,1.5939676115336705,2.1464825592656043,2.0349423334531944,2.282881794566174,-1.7385448010112894,-1.9350116415303207,-2.14206558505279,-2.2153132036312724,-2.189052627960654,2.300618644944436,-2.214484720008212,1.8695365468003606,1.1323480305876146,-2.872609366134862,2.2556900404375826,1.7726572015920956,2.364735182951257,-2.6068469763772573,-1.7262781948205306,0.9624941720878674,2.3863298621108284,-2.064083958290308,-1.899029964880381,-2.1978330706132434,2.4737125091914747,1.4318892663206113,-1.984609768365096,-1.9109086222425988,1.970146491003419,-2.4188130376992776,0.5209673647200077,-1.760251199130949,2.1347373739907143,1.873098789517583,-1.594138798277452,-0.9725174598068406,-1.220130703682904,1.7075517806622256,-1.2803749817985888,-2.1124542046926975,-2.6305839590933267,1.7065452909761913,1.7841842130203003,1.9710334319795322,1.8846405786106404,-2.4315588858101442,-1.1650956749196562,-1.8934283543619905,1.5669593580781913,1.0689213564910318,1.7104864555190227,-1.523131030559523,-1.800918852435409,2.6293737450717423,-1.6365266958038673,1.4342883844519372,1.6705273194124708,1.2610298761738545,2.1312785327471784,0.6919329461152999,0.8177214281703434,-1.0610332360453532,2.2483028566049517,-2.0564116101278618,1.6126434521730948,-2.4475127076656618,-2.950963020168222,0.9045193719588048,-1.9474385073682228,-2.1955162229935583,1.928705477543575,1.6976101448824834,1.5007856293128417,-1.3899730019070946,-1.1744188589883207,-2.8126779373881505,-1.0224743195473334,1.2323322123022413,1.7175453130057314,1.345543915246675,-1.8475171919711688,-1.6788661977558308,2.3795072034139824,-1.6901943353448905,1.9220652347552276,-1.5573898942738442,-1.7121301687520603,-1.8998271194695187,-1.3212871586442922,-1.9553412110033053,-2.08660561935741,1.4408507475593642,-2.4393870139289504,2.472479854880697,-2.179186344475145,-1.7265560292506887,-1.7345520879416743,-2.7709812356189034,1.9835384656319983,1.7673256461214382,2.1213585585867705,1.828653292886485,1.959645292905264,-2.1313396696330655,1.5320581957659856,-1.6844863509551822,1.245321205020022,1.372507495360947,2.111688422305356,-1.5676218185520447,2.1476928941417754,2.641029960264508,-1.3423170703066731,1.8271975869227715,-1.1949652440892775,-2.7236286775868983,1.8281608942118976,-1.483209433196238,-1.043733085959425,-2.352485448650187,1.8928873681191674,1.2692206749479358,1.9497707825144421,-1.8728542496315992,1.281638249985282,-1.7986520854362564,-1.6197262296204344,2.2630488128658706,-0.9185133437517754,-1.885150666453646,-2.0849387333440315,1.545056923214348,1.2919098570305607,1.9553967728931838,-1.9275403269765357,-2.0618151743747606,-1.6192663169481272,1.8335707207432397,-2.3696673696709554,-1.845847756922421,1.9395266549182946,1.7647873594501962,2.0859588352572453,1.9892351608616774,-2.475714127863319,-0.8637678480288392,2.6628152249633468,2.5229630068450275,1.8610119201859514,-2.6194534278946713,-1.9348017945727956,-0.798668730789324,-1.2410738838186497,2.5577700525088654,2.106745858139481,2.3195511245626044,-1.9501746999431122,2.3129258705943445,-1.8761604608132714,-1.683709226708586,-2.418358465937483,3.000257961680492,3.183464730197227,1.2596416056327047,-1.2975153643463593,1.839799822715201,-1.0985935739496864,-1.9866450360686696,-1.4745764529662557,1.893311464112335,2.597367225639902,2.3588071276898557,-2.247514137018964,1.521043838627702,-1.4705833550767948,1.3338431242016846,1.8834035171804628,1.369976430572802,1.5607758181326041,-1.46671523252023,-0.7582853273100004,-1.5689760486119448,-2.371107584860152],\"xaxis\":\"x\",\"y\":[0.4980832140291913,-0.059537480685729796,0.5291425239589694,-0.28156429484732837,0.9439039592250544,-0.37128118504530316,0.2754042826665583,-0.7024303248306217,-0.025475084262054245,-0.7152891604622821,-0.21339179356596674,-0.6503215864554047,0.028055508930349023,-0.4899691710727949,0.20894725073845274,-0.4804896442905385,-1.1458783047519343,0.9036722438476962,0.2492526065875226,0.448932845673598,-0.42053086949163965,-0.6943749219749658,0.6216719321776502,-0.2917402445456328,1.1326898895100286,-0.20812937004971194,-0.20685095797441808,0.23910565764272013,-0.17083784163929708,-1.1106564770347083,-0.2878677217917471,-0.7493529184792237,0.5614577410408795,-0.5995897733352155,0.2099458405108533,-0.6102106613948531,-0.036043037933912433,-0.5162255651349595,0.27221564527940567,-0.14305043127894723,-0.013911905166455952,0.2848116192176657,-0.06285054056626212,0.04859136347436639,0.07634601605188908,0.10337632569524081,-0.4714897395350856,-0.6041683025279401,0.6165333006146659,1.158317482989872,-0.5615560771266955,0.24932668428070137,0.009487941580511383,-0.18107372867483582,0.1878608660652903,-0.4090940260775664,1.2277602389265831,0.25792173035907795,-0.05535600005446056,-0.5191033946794952,0.3906148186437521,1.073489971126291,-0.36369647437627,-0.3611555171363568,1.2781898830441611,0.1732810653979527,-0.2512298426784057,0.4068712434398088,0.5422720559448746,-0.3523904227162575,1.0367012780389822,-0.3041924476443977,-0.8224542973563039,-0.07284159257601862,0.16742870506976296,0.3919072641705525,0.3216057076077044,-0.31378812976731935,-0.630849150490984,-0.3639395489702043,0.17113874805989945,0.12524771606318597,-1.1312699564953466,-0.5426909434640407,-0.014876521791975789,1.0253868067197351,-0.6519059083364456,0.019583610643331313,-0.091289984200751,-0.07466002307779053,0.0987518372450629,-0.6951065700955278,-0.1429202279234794,0.37513572329157324,0.17466168416079095,0.09522391411104572,0.1045400217520371,-0.21420642487121197,-0.0024241053612842553,-0.48858371711294685,-0.3534286287711679,0.300739055620238,0.030599763385346493,-0.2088665207960944,-0.8023955837347355,0.03212510319471744,-0.5206809115761355,-0.37339379398295414,0.7847905375606524,-0.2791222230404753,0.2715929282370632,0.7612385692519235,0.3842026088254474,0.3698998230651433,0.03409236607991929,0.3210550710265612,-0.8714234505137137,-0.16691180033394945,-0.427191643365739,-0.06683642621018901,0.42618030152045583,0.37979598248269464,-0.22641569221006577,-0.12546128433219036,-0.6802727843305393,0.33515304257592826,0.4346755240889207,-0.03525058124642801,0.16811385981813934,0.3215843222673219,-0.23991964349476805,0.03834229948306488,0.05298483137415594,0.34394719060597523,-0.4715806939748037,0.760731451598752,-0.4674433393471193,-0.28786044065704036,0.5940837986968853,0.8940642247793421,0.26179888206650515,-0.5936590196486242,0.48858311446520364,-0.49726909545245196,0.08666378191276179,0.07680801607832899,-0.31718015673815786,-0.5809223389624377,0.30309349444943856,0.17045217266316182,-0.3061067402544317,-0.42614126507965805,0.4879872222253619,0.22890873166109094,-0.6725201462776204,0.3314225356424394,-0.13968175633978616,-0.2888477453343348,0.5750522581204556,-0.37941144546482275,-0.5632477900392803,0.9824762377881004,0.7161514933010684,0.1600756200034132,-0.31661443697139896,-0.430677189849396,-0.13612076803928802,0.1294153960181762,-0.6193599329080005,-0.7007701990570356,-0.3036656758283839,-0.07214858877172985,0.6380149024778107,0.119311021897994,0.07514413157151742,0.38177995725569136,0.4698022927847568,-0.01975533103241953,0.5063717126547943,-0.11800469457536299,-0.3648773111131568,0.3124264199637957,0.0354840655005992,0.39077720247285347,0.010093318190763333,-0.3015871197134119,0.4158164649435844,-0.13413962529531864,-0.46243884005484837,-0.3985733428821831,-0.12189007504478618,-0.1385547819398927,-0.6990555859625875,0.20066258229715284,0.6521600578395542,0.5095967788839483,0.6900214491524269,0.8866810491283258,0.436549907873401,-0.4305809086981445],\"yaxis\":\"y\",\"type\":\"scatter\"}],                        {\"template\":{\"data\":{\"histogram2dcontour\":[{\"type\":\"histogram2dcontour\",\"colorbar\":{\"outlinewidth\":0,\"ticks\":\"\"},\"colorscale\":[[0.0,\"#0d0887\"],[0.1111111111111111,\"#46039f\"],[0.2222222222222222,\"#7201a8\"],[0.3333333333333333,\"#9c179e\"],[0.4444444444444444,\"#bd3786\"],[0.5555555555555556,\"#d8576b\"],[0.6666666666666666,\"#ed7953\"],[0.7777777777777778,\"#fb9f3a\"],[0.8888888888888888,\"#fdca26\"],[1.0,\"#f0f921\"]]}],\"choropleth\":[{\"type\":\"choropleth\",\"colorbar\":{\"outlinewidth\":0,\"ticks\":\"\"}}],\"histogram2d\":[{\"type\":\"histogram2d\",\"colorbar\":{\"outlinewidth\":0,\"ticks\":\"\"},\"colorscale\":[[0.0,\"#0d0887\"],[0.1111111111111111,\"#46039f\"],[0.2222222222222222,\"#7201a8\"],[0.3333333333333333,\"#9c179e\"],[0.4444444444444444,\"#bd3786\"],[0.5555555555555556,\"#d8576b\"],[0.6666666666666666,\"#ed7953\"],[0.7777777777777778,\"#fb9f3a\"],[0.8888888888888888,\"#fdca26\"],[1.0,\"#f0f921\"]]}],\"heatmap\":[{\"type\":\"heatmap\",\"colorbar\":{\"outlinewidth\":0,\"ticks\":\"\"},\"colorscale\":[[0.0,\"#0d0887\"],[0.1111111111111111,\"#46039f\"],[0.2222222222222222,\"#7201a8\"],[0.3333333333333333,\"#9c179e\"],[0.4444444444444444,\"#bd3786\"],[0.5555555555555556,\"#d8576b\"],[0.6666666666666666,\"#ed7953\"],[0.7777777777777778,\"#fb9f3a\"],[0.8888888888888888,\"#fdca26\"],[1.0,\"#f0f921\"]]}],\"heatmapgl\":[{\"type\":\"heatmapgl\",\"colorbar\":{\"outlinewidth\":0,\"ticks\":\"\"},\"colorscale\":[[0.0,\"#0d0887\"],[0.1111111111111111,\"#46039f\"],[0.2222222222222222,\"#7201a8\"],[0.3333333333333333,\"#9c179e\"],[0.4444444444444444,\"#bd3786\"],[0.5555555555555556,\"#d8576b\"],[0.6666666666666666,\"#ed7953\"],[0.7777777777777778,\"#fb9f3a\"],[0.8888888888888888,\"#fdca26\"],[1.0,\"#f0f921\"]]}],\"contourcarpet\":[{\"type\":\"contourcarpet\",\"colorbar\":{\"outlinewidth\":0,\"ticks\":\"\"}}],\"contour\":[{\"type\":\"contour\",\"colorbar\":{\"outlinewidth\":0,\"ticks\":\"\"},\"colorscale\":[[0.0,\"#0d0887\"],[0.1111111111111111,\"#46039f\"],[0.2222222222222222,\"#7201a8\"],[0.3333333333333333,\"#9c179e\"],[0.4444444444444444,\"#bd3786\"],[0.5555555555555556,\"#d8576b\"],[0.6666666666666666,\"#ed7953\"],[0.7777777777777778,\"#fb9f3a\"],[0.8888888888888888,\"#fdca26\"],[1.0,\"#f0f921\"]]}],\"surface\":[{\"type\":\"surface\",\"colorbar\":{\"outlinewidth\":0,\"ticks\":\"\"},\"colorscale\":[[0.0,\"#0d0887\"],[0.1111111111111111,\"#46039f\"],[0.2222222222222222,\"#7201a8\"],[0.3333333333333333,\"#9c179e\"],[0.4444444444444444,\"#bd3786\"],[0.5555555555555556,\"#d8576b\"],[0.6666666666666666,\"#ed7953\"],[0.7777777777777778,\"#fb9f3a\"],[0.8888888888888888,\"#fdca26\"],[1.0,\"#f0f921\"]]}],\"mesh3d\":[{\"type\":\"mesh3d\",\"colorbar\":{\"outlinewidth\":0,\"ticks\":\"\"}}],\"scatter\":[{\"fillpattern\":{\"fillmode\":\"overlay\",\"size\":10,\"solidity\":0.2},\"type\":\"scatter\"}],\"parcoords\":[{\"type\":\"parcoords\",\"line\":{\"colorbar\":{\"outlinewidth\":0,\"ticks\":\"\"}}}],\"scatterpolargl\":[{\"type\":\"scatterpolargl\",\"marker\":{\"colorbar\":{\"outlinewidth\":0,\"ticks\":\"\"}}}],\"bar\":[{\"error_x\":{\"color\":\"#2a3f5f\"},\"error_y\":{\"color\":\"#2a3f5f\"},\"marker\":{\"line\":{\"color\":\"#E5ECF6\",\"width\":0.5},\"pattern\":{\"fillmode\":\"overlay\",\"size\":10,\"solidity\":0.2}},\"type\":\"bar\"}],\"scattergeo\":[{\"type\":\"scattergeo\",\"marker\":{\"colorbar\":{\"outlinewidth\":0,\"ticks\":\"\"}}}],\"scatterpolar\":[{\"type\":\"scatterpolar\",\"marker\":{\"colorbar\":{\"outlinewidth\":0,\"ticks\":\"\"}}}],\"histogram\":[{\"marker\":{\"pattern\":{\"fillmode\":\"overlay\",\"size\":10,\"solidity\":0.2}},\"type\":\"histogram\"}],\"scattergl\":[{\"type\":\"scattergl\",\"marker\":{\"colorbar\":{\"outlinewidth\":0,\"ticks\":\"\"}}}],\"scatter3d\":[{\"type\":\"scatter3d\",\"line\":{\"colorbar\":{\"outlinewidth\":0,\"ticks\":\"\"}},\"marker\":{\"colorbar\":{\"outlinewidth\":0,\"ticks\":\"\"}}}],\"scattermapbox\":[{\"type\":\"scattermapbox\",\"marker\":{\"colorbar\":{\"outlinewidth\":0,\"ticks\":\"\"}}}],\"scatterternary\":[{\"type\":\"scatterternary\",\"marker\":{\"colorbar\":{\"outlinewidth\":0,\"ticks\":\"\"}}}],\"scattercarpet\":[{\"type\":\"scattercarpet\",\"marker\":{\"colorbar\":{\"outlinewidth\":0,\"ticks\":\"\"}}}],\"carpet\":[{\"aaxis\":{\"endlinecolor\":\"#2a3f5f\",\"gridcolor\":\"white\",\"linecolor\":\"white\",\"minorgridcolor\":\"white\",\"startlinecolor\":\"#2a3f5f\"},\"baxis\":{\"endlinecolor\":\"#2a3f5f\",\"gridcolor\":\"white\",\"linecolor\":\"white\",\"minorgridcolor\":\"white\",\"startlinecolor\":\"#2a3f5f\"},\"type\":\"carpet\"}],\"table\":[{\"cells\":{\"fill\":{\"color\":\"#EBF0F8\"},\"line\":{\"color\":\"white\"}},\"header\":{\"fill\":{\"color\":\"#C8D4E3\"},\"line\":{\"color\":\"white\"}},\"type\":\"table\"}],\"barpolar\":[{\"marker\":{\"line\":{\"color\":\"#E5ECF6\",\"width\":0.5},\"pattern\":{\"fillmode\":\"overlay\",\"size\":10,\"solidity\":0.2}},\"type\":\"barpolar\"}],\"pie\":[{\"automargin\":true,\"type\":\"pie\"}]},\"layout\":{\"autotypenumbers\":\"strict\",\"colorway\":[\"#636efa\",\"#EF553B\",\"#00cc96\",\"#ab63fa\",\"#FFA15A\",\"#19d3f3\",\"#FF6692\",\"#B6E880\",\"#FF97FF\",\"#FECB52\"],\"font\":{\"color\":\"#2a3f5f\"},\"hovermode\":\"closest\",\"hoverlabel\":{\"align\":\"left\"},\"paper_bgcolor\":\"white\",\"plot_bgcolor\":\"#E5ECF6\",\"polar\":{\"bgcolor\":\"#E5ECF6\",\"angularaxis\":{\"gridcolor\":\"white\",\"linecolor\":\"white\",\"ticks\":\"\"},\"radialaxis\":{\"gridcolor\":\"white\",\"linecolor\":\"white\",\"ticks\":\"\"}},\"ternary\":{\"bgcolor\":\"#E5ECF6\",\"aaxis\":{\"gridcolor\":\"white\",\"linecolor\":\"white\",\"ticks\":\"\"},\"baxis\":{\"gridcolor\":\"white\",\"linecolor\":\"white\",\"ticks\":\"\"},\"caxis\":{\"gridcolor\":\"white\",\"linecolor\":\"white\",\"ticks\":\"\"}},\"coloraxis\":{\"colorbar\":{\"outlinewidth\":0,\"ticks\":\"\"}},\"colorscale\":{\"sequential\":[[0.0,\"#0d0887\"],[0.1111111111111111,\"#46039f\"],[0.2222222222222222,\"#7201a8\"],[0.3333333333333333,\"#9c179e\"],[0.4444444444444444,\"#bd3786\"],[0.5555555555555556,\"#d8576b\"],[0.6666666666666666,\"#ed7953\"],[0.7777777777777778,\"#fb9f3a\"],[0.8888888888888888,\"#fdca26\"],[1.0,\"#f0f921\"]],\"sequentialminus\":[[0.0,\"#0d0887\"],[0.1111111111111111,\"#46039f\"],[0.2222222222222222,\"#7201a8\"],[0.3333333333333333,\"#9c179e\"],[0.4444444444444444,\"#bd3786\"],[0.5555555555555556,\"#d8576b\"],[0.6666666666666666,\"#ed7953\"],[0.7777777777777778,\"#fb9f3a\"],[0.8888888888888888,\"#fdca26\"],[1.0,\"#f0f921\"]],\"diverging\":[[0,\"#8e0152\"],[0.1,\"#c51b7d\"],[0.2,\"#de77ae\"],[0.3,\"#f1b6da\"],[0.4,\"#fde0ef\"],[0.5,\"#f7f7f7\"],[0.6,\"#e6f5d0\"],[0.7,\"#b8e186\"],[0.8,\"#7fbc41\"],[0.9,\"#4d9221\"],[1,\"#276419\"]]},\"xaxis\":{\"gridcolor\":\"white\",\"linecolor\":\"white\",\"ticks\":\"\",\"title\":{\"standoff\":15},\"zerolinecolor\":\"white\",\"automargin\":true,\"zerolinewidth\":2},\"yaxis\":{\"gridcolor\":\"white\",\"linecolor\":\"white\",\"ticks\":\"\",\"title\":{\"standoff\":15},\"zerolinecolor\":\"white\",\"automargin\":true,\"zerolinewidth\":2},\"scene\":{\"xaxis\":{\"backgroundcolor\":\"#E5ECF6\",\"gridcolor\":\"white\",\"linecolor\":\"white\",\"showbackground\":true,\"ticks\":\"\",\"zerolinecolor\":\"white\",\"gridwidth\":2},\"yaxis\":{\"backgroundcolor\":\"#E5ECF6\",\"gridcolor\":\"white\",\"linecolor\":\"white\",\"showbackground\":true,\"ticks\":\"\",\"zerolinecolor\":\"white\",\"gridwidth\":2},\"zaxis\":{\"backgroundcolor\":\"#E5ECF6\",\"gridcolor\":\"white\",\"linecolor\":\"white\",\"showbackground\":true,\"ticks\":\"\",\"zerolinecolor\":\"white\",\"gridwidth\":2}},\"shapedefaults\":{\"line\":{\"color\":\"#2a3f5f\"}},\"annotationdefaults\":{\"arrowcolor\":\"#2a3f5f\",\"arrowhead\":0,\"arrowwidth\":1},\"geo\":{\"bgcolor\":\"white\",\"landcolor\":\"#E5ECF6\",\"subunitcolor\":\"white\",\"showland\":true,\"showlakes\":true,\"lakecolor\":\"white\"},\"title\":{\"x\":0.05},\"mapbox\":{\"style\":\"light\"}}},\"xaxis\":{\"anchor\":\"y\",\"domain\":[0.0,1.0],\"title\":{\"text\":\"Principal Component 1\"}},\"yaxis\":{\"anchor\":\"x\",\"domain\":[0.0,1.0],\"title\":{\"text\":\"Principal Component 2\"}},\"coloraxis\":{\"colorbar\":{\"title\":{\"text\":\"color\"}},\"colorscale\":[[0.0,\"rgb(0,0,255)\"],[1.0,\"rgb(255,0,0)\"]],\"showscale\":false},\"legend\":{\"tracegroupgap\":0},\"margin\":{\"t\":60},\"width\":600,\"height\":400,\"title\":{\"text\":\"Linearly Separable Data (PCA: 2 components)\"}},                        {\"responsive\": true}                    ).then(function(){\n",
       "                            \n",
       "var gd = document.getElementById('86e2a9fd-4f51-483a-9aaf-ad3e603faf82');\n",
       "var x = new MutationObserver(function (mutations, observer) {{\n",
       "        var display = window.getComputedStyle(gd).display;\n",
       "        if (!display || display === 'none') {{\n",
       "            console.log([gd, 'removed!']);\n",
       "            Plotly.purge(gd);\n",
       "            observer.disconnect();\n",
       "        }}\n",
       "}});\n",
       "\n",
       "// Listen for the removal of the full notebook cells\n",
       "var notebookContainer = gd.closest('#notebook-container');\n",
       "if (notebookContainer) {{\n",
       "    x.observe(notebookContainer, {childList: true});\n",
       "}}\n",
       "\n",
       "// Listen for the clearing of the current output cell\n",
       "var outputEl = gd.closest('.output');\n",
       "if (outputEl) {{\n",
       "    x.observe(outputEl, {childList: true});\n",
       "}}\n",
       "\n",
       "                        })                };                });            </script>        </div>"
      ]
     },
     "metadata": {},
     "output_type": "display_data"
    }
   ],
   "source": [
    "# Plotting the transformed data in a two principal component space\n",
    "figL2 = px.scatter(x=dataL[:, 0], y=dataL[:, 1], \n",
    "                   color=yl, color_continuous_scale='bluered')\n",
    "figL2.update_traces(marker=dict(size=8, opacity=0.6))\n",
    "figL2.update_layout(coloraxis_showscale=False, \n",
    "                    width=600, height=400, \n",
    "                    xaxis_title='Principal Component 1', \n",
    "                    yaxis_title='Principal Component 2',  \n",
    "                    title='Linearly Separable Data (PCA: 2 components)')             \n",
    "figL2.show()"
   ]
  },
  {
   "cell_type": "markdown",
   "metadata": {},
   "source": [
    "As you can see, the first component separates both groups."
   ]
  },
  {
   "cell_type": "code",
   "execution_count": 6,
   "metadata": {},
   "outputs": [
    {
     "data": {
      "application/vnd.plotly.v1+json": {
       "config": {
        "plotlyServerURL": "https://plot.ly"
       },
       "data": [
        {
         "hovertemplate": "x=%{x}<br>y=%{y}<br>color=%{marker.color}<extra></extra>",
         "legendgroup": "",
         "marker": {
          "color": [
           1,
           1,
           1,
           1,
           0,
           0,
           0,
           0,
           1,
           0,
           1,
           1,
           0,
           0,
           1,
           0,
           1,
           1,
           1,
           1,
           1,
           0,
           0,
           0,
           0,
           0,
           1,
           0,
           1,
           1,
           0,
           1,
           1,
           1,
           0,
           0,
           1,
           1,
           0,
           0,
           0,
           1,
           1,
           0,
           0,
           1,
           0,
           1,
           0,
           1,
           1,
           0,
           0,
           0,
           1,
           0,
           0,
           0,
           1,
           1,
           1,
           1,
           0,
           0,
           0,
           1,
           1,
           1,
           0,
           0,
           1,
           0,
           1,
           1,
           1,
           1,
           1,
           1,
           0,
           1,
           0,
           1,
           0,
           0,
           1,
           0,
           0,
           1,
           1,
           1,
           0,
           0,
           0,
           0,
           1,
           1,
           1,
           0,
           0,
           1,
           0,
           1,
           0,
           0,
           0,
           0,
           0,
           0,
           1,
           0,
           1,
           0,
           0,
           0,
           0,
           1,
           1,
           1,
           1,
           1,
           0,
           1,
           0,
           1,
           1,
           1,
           0,
           1,
           1,
           0,
           1,
           0,
           0,
           1,
           0,
           0,
           0,
           1,
           1,
           1,
           0,
           1,
           0,
           0,
           1,
           0,
           0,
           0,
           1,
           1,
           1,
           0,
           0,
           0,
           1,
           0,
           0,
           1,
           1,
           1,
           1,
           0,
           0,
           1,
           1,
           1,
           0,
           0,
           0,
           0,
           1,
           1,
           1,
           0,
           1,
           0,
           0,
           0,
           1,
           1,
           1,
           0,
           1,
           0,
           0,
           0,
           1,
           1,
           1,
           0,
           1,
           0,
           1,
           1,
           1,
           1,
           0,
           0,
           0,
           0
          ],
          "coloraxis": "coloraxis",
          "opacity": 0.6,
          "size": 8,
          "symbol": "circle"
         },
         "mode": "markers",
         "name": "",
         "orientation": "v",
         "showlegend": false,
         "type": "scatter",
         "x": [
          1.7337397710970355,
          1.5632670798548605,
          2.164678248729744,
          1.8980231343475347,
          -2.2647878609951895,
          -1.697083500086379,
          -2.4527020579109804,
          -0.9493944214746982,
          1.9211906249569088,
          -2.226264818989629,
          1.7383967384140926,
          1.55009250265728,
          -1.1946750182762187,
          -2.3242416178473055,
          1.5309744760673607,
          -1.557137516129913,
          1.9706517424197918,
          1.5939676115336705,
          2.1464825592656043,
          2.0349423334531944,
          2.282881794566174,
          -1.7385448010112894,
          -1.9350116415303207,
          -2.14206558505279,
          -2.2153132036312724,
          -2.189052627960654,
          2.300618644944436,
          -2.214484720008212,
          1.8695365468003606,
          1.1323480305876146,
          -2.872609366134862,
          2.2556900404375826,
          1.7726572015920956,
          2.364735182951257,
          -2.6068469763772573,
          -1.7262781948205306,
          0.9624941720878674,
          2.3863298621108284,
          -2.064083958290308,
          -1.899029964880381,
          -2.1978330706132434,
          2.4737125091914747,
          1.4318892663206113,
          -1.984609768365096,
          -1.9109086222425988,
          1.970146491003419,
          -2.4188130376992776,
          0.5209673647200077,
          -1.760251199130949,
          2.1347373739907143,
          1.873098789517583,
          -1.594138798277452,
          -0.9725174598068406,
          -1.220130703682904,
          1.7075517806622256,
          -1.2803749817985888,
          -2.1124542046926975,
          -2.6305839590933267,
          1.7065452909761913,
          1.7841842130203003,
          1.9710334319795322,
          1.8846405786106404,
          -2.4315588858101442,
          -1.1650956749196562,
          -1.8934283543619905,
          1.5669593580781913,
          1.0689213564910318,
          1.7104864555190227,
          -1.523131030559523,
          -1.800918852435409,
          2.6293737450717423,
          -1.6365266958038673,
          1.4342883844519372,
          1.6705273194124708,
          1.2610298761738545,
          2.1312785327471784,
          0.6919329461152999,
          0.8177214281703434,
          -1.0610332360453532,
          2.2483028566049517,
          -2.0564116101278618,
          1.6126434521730948,
          -2.4475127076656618,
          -2.950963020168222,
          0.9045193719588048,
          -1.9474385073682228,
          -2.1955162229935583,
          1.928705477543575,
          1.6976101448824834,
          1.5007856293128417,
          -1.3899730019070946,
          -1.1744188589883207,
          -2.8126779373881505,
          -1.0224743195473334,
          1.2323322123022413,
          1.7175453130057314,
          1.345543915246675,
          -1.8475171919711688,
          -1.6788661977558308,
          2.3795072034139824,
          -1.6901943353448905,
          1.9220652347552276,
          -1.5573898942738442,
          -1.7121301687520603,
          -1.8998271194695187,
          -1.3212871586442922,
          -1.9553412110033053,
          -2.08660561935741,
          1.4408507475593642,
          -2.4393870139289504,
          2.472479854880697,
          -2.179186344475145,
          -1.7265560292506887,
          -1.7345520879416743,
          -2.7709812356189034,
          1.9835384656319983,
          1.7673256461214382,
          2.1213585585867705,
          1.828653292886485,
          1.959645292905264,
          -2.1313396696330655,
          1.5320581957659856,
          -1.6844863509551822,
          1.245321205020022,
          1.372507495360947,
          2.111688422305356,
          -1.5676218185520447,
          2.1476928941417754,
          2.641029960264508,
          -1.3423170703066731,
          1.8271975869227715,
          -1.1949652440892775,
          -2.7236286775868983,
          1.8281608942118976,
          -1.483209433196238,
          -1.043733085959425,
          -2.352485448650187,
          1.8928873681191674,
          1.2692206749479358,
          1.9497707825144421,
          -1.8728542496315992,
          1.281638249985282,
          -1.7986520854362564,
          -1.6197262296204344,
          2.2630488128658706,
          -0.9185133437517754,
          -1.885150666453646,
          -2.0849387333440315,
          1.545056923214348,
          1.2919098570305607,
          1.9553967728931838,
          -1.9275403269765357,
          -2.0618151743747606,
          -1.6192663169481272,
          1.8335707207432397,
          -2.3696673696709554,
          -1.845847756922421,
          1.9395266549182946,
          1.7647873594501962,
          2.0859588352572453,
          1.9892351608616774,
          -2.475714127863319,
          -0.8637678480288392,
          2.6628152249633468,
          2.5229630068450275,
          1.8610119201859514,
          -2.6194534278946713,
          -1.9348017945727956,
          -0.798668730789324,
          -1.2410738838186497,
          2.5577700525088654,
          2.106745858139481,
          2.3195511245626044,
          -1.9501746999431122,
          2.3129258705943445,
          -1.8761604608132714,
          -1.683709226708586,
          -2.418358465937483,
          3.000257961680492,
          3.183464730197227,
          1.2596416056327047,
          -1.2975153643463593,
          1.839799822715201,
          -1.0985935739496864,
          -1.9866450360686696,
          -1.4745764529662557,
          1.893311464112335,
          2.597367225639902,
          2.3588071276898557,
          -2.247514137018964,
          1.521043838627702,
          -1.4705833550767948,
          1.3338431242016846,
          1.8834035171804628,
          1.369976430572802,
          1.5607758181326041,
          -1.46671523252023,
          -0.7582853273100004,
          -1.5689760486119448,
          -2.371107584860152
         ],
         "xaxis": "x",
         "y": [
          0,
          0,
          0,
          0,
          0,
          0,
          0,
          0,
          0,
          0,
          0,
          0,
          0,
          0,
          0,
          0,
          0,
          0,
          0,
          0,
          0,
          0,
          0,
          0,
          0,
          0,
          0,
          0,
          0,
          0,
          0,
          0,
          0,
          0,
          0,
          0,
          0,
          0,
          0,
          0,
          0,
          0,
          0,
          0,
          0,
          0,
          0,
          0,
          0,
          0,
          0,
          0,
          0,
          0,
          0,
          0,
          0,
          0,
          0,
          0,
          0,
          0,
          0,
          0,
          0,
          0,
          0,
          0,
          0,
          0,
          0,
          0,
          0,
          0,
          0,
          0,
          0,
          0,
          0,
          0,
          0,
          0,
          0,
          0,
          0,
          0,
          0,
          0,
          0,
          0,
          0,
          0,
          0,
          0,
          0,
          0,
          0,
          0,
          0,
          0,
          0,
          0,
          0,
          0,
          0,
          0,
          0,
          0,
          0,
          0,
          0,
          0,
          0,
          0,
          0,
          0,
          0,
          0,
          0,
          0,
          0,
          0,
          0,
          0,
          0,
          0,
          0,
          0,
          0,
          0,
          0,
          0,
          0,
          0,
          0,
          0,
          0,
          0,
          0,
          0,
          0,
          0,
          0,
          0,
          0,
          0,
          0,
          0,
          0,
          0,
          0,
          0,
          0,
          0,
          0,
          0,
          0,
          0,
          0,
          0,
          0,
          0,
          0,
          0,
          0,
          0,
          0,
          0,
          0,
          0,
          0,
          0,
          0,
          0,
          0,
          0,
          0,
          0,
          0,
          0,
          0,
          0,
          0,
          0,
          0,
          0,
          0,
          0,
          0,
          0,
          0,
          0,
          0,
          0,
          0,
          0,
          0,
          0,
          0,
          0
         ],
         "yaxis": "y"
        }
       ],
       "layout": {
        "coloraxis": {
         "colorbar": {
          "title": {
           "text": "color"
          }
         },
         "colorscale": [
          [
           0,
           "rgb(0,0,255)"
          ],
          [
           1,
           "rgb(255,0,0)"
          ]
         ],
         "showscale": false
        },
        "height": 400,
        "legend": {
         "tracegroupgap": 0
        },
        "margin": {
         "t": 60
        },
        "template": {
         "data": {
          "bar": [
           {
            "error_x": {
             "color": "#2a3f5f"
            },
            "error_y": {
             "color": "#2a3f5f"
            },
            "marker": {
             "line": {
              "color": "#E5ECF6",
              "width": 0.5
             },
             "pattern": {
              "fillmode": "overlay",
              "size": 10,
              "solidity": 0.2
             }
            },
            "type": "bar"
           }
          ],
          "barpolar": [
           {
            "marker": {
             "line": {
              "color": "#E5ECF6",
              "width": 0.5
             },
             "pattern": {
              "fillmode": "overlay",
              "size": 10,
              "solidity": 0.2
             }
            },
            "type": "barpolar"
           }
          ],
          "carpet": [
           {
            "aaxis": {
             "endlinecolor": "#2a3f5f",
             "gridcolor": "white",
             "linecolor": "white",
             "minorgridcolor": "white",
             "startlinecolor": "#2a3f5f"
            },
            "baxis": {
             "endlinecolor": "#2a3f5f",
             "gridcolor": "white",
             "linecolor": "white",
             "minorgridcolor": "white",
             "startlinecolor": "#2a3f5f"
            },
            "type": "carpet"
           }
          ],
          "choropleth": [
           {
            "colorbar": {
             "outlinewidth": 0,
             "ticks": ""
            },
            "type": "choropleth"
           }
          ],
          "contour": [
           {
            "colorbar": {
             "outlinewidth": 0,
             "ticks": ""
            },
            "colorscale": [
             [
              0,
              "#0d0887"
             ],
             [
              0.1111111111111111,
              "#46039f"
             ],
             [
              0.2222222222222222,
              "#7201a8"
             ],
             [
              0.3333333333333333,
              "#9c179e"
             ],
             [
              0.4444444444444444,
              "#bd3786"
             ],
             [
              0.5555555555555556,
              "#d8576b"
             ],
             [
              0.6666666666666666,
              "#ed7953"
             ],
             [
              0.7777777777777778,
              "#fb9f3a"
             ],
             [
              0.8888888888888888,
              "#fdca26"
             ],
             [
              1,
              "#f0f921"
             ]
            ],
            "type": "contour"
           }
          ],
          "contourcarpet": [
           {
            "colorbar": {
             "outlinewidth": 0,
             "ticks": ""
            },
            "type": "contourcarpet"
           }
          ],
          "heatmap": [
           {
            "colorbar": {
             "outlinewidth": 0,
             "ticks": ""
            },
            "colorscale": [
             [
              0,
              "#0d0887"
             ],
             [
              0.1111111111111111,
              "#46039f"
             ],
             [
              0.2222222222222222,
              "#7201a8"
             ],
             [
              0.3333333333333333,
              "#9c179e"
             ],
             [
              0.4444444444444444,
              "#bd3786"
             ],
             [
              0.5555555555555556,
              "#d8576b"
             ],
             [
              0.6666666666666666,
              "#ed7953"
             ],
             [
              0.7777777777777778,
              "#fb9f3a"
             ],
             [
              0.8888888888888888,
              "#fdca26"
             ],
             [
              1,
              "#f0f921"
             ]
            ],
            "type": "heatmap"
           }
          ],
          "heatmapgl": [
           {
            "colorbar": {
             "outlinewidth": 0,
             "ticks": ""
            },
            "colorscale": [
             [
              0,
              "#0d0887"
             ],
             [
              0.1111111111111111,
              "#46039f"
             ],
             [
              0.2222222222222222,
              "#7201a8"
             ],
             [
              0.3333333333333333,
              "#9c179e"
             ],
             [
              0.4444444444444444,
              "#bd3786"
             ],
             [
              0.5555555555555556,
              "#d8576b"
             ],
             [
              0.6666666666666666,
              "#ed7953"
             ],
             [
              0.7777777777777778,
              "#fb9f3a"
             ],
             [
              0.8888888888888888,
              "#fdca26"
             ],
             [
              1,
              "#f0f921"
             ]
            ],
            "type": "heatmapgl"
           }
          ],
          "histogram": [
           {
            "marker": {
             "pattern": {
              "fillmode": "overlay",
              "size": 10,
              "solidity": 0.2
             }
            },
            "type": "histogram"
           }
          ],
          "histogram2d": [
           {
            "colorbar": {
             "outlinewidth": 0,
             "ticks": ""
            },
            "colorscale": [
             [
              0,
              "#0d0887"
             ],
             [
              0.1111111111111111,
              "#46039f"
             ],
             [
              0.2222222222222222,
              "#7201a8"
             ],
             [
              0.3333333333333333,
              "#9c179e"
             ],
             [
              0.4444444444444444,
              "#bd3786"
             ],
             [
              0.5555555555555556,
              "#d8576b"
             ],
             [
              0.6666666666666666,
              "#ed7953"
             ],
             [
              0.7777777777777778,
              "#fb9f3a"
             ],
             [
              0.8888888888888888,
              "#fdca26"
             ],
             [
              1,
              "#f0f921"
             ]
            ],
            "type": "histogram2d"
           }
          ],
          "histogram2dcontour": [
           {
            "colorbar": {
             "outlinewidth": 0,
             "ticks": ""
            },
            "colorscale": [
             [
              0,
              "#0d0887"
             ],
             [
              0.1111111111111111,
              "#46039f"
             ],
             [
              0.2222222222222222,
              "#7201a8"
             ],
             [
              0.3333333333333333,
              "#9c179e"
             ],
             [
              0.4444444444444444,
              "#bd3786"
             ],
             [
              0.5555555555555556,
              "#d8576b"
             ],
             [
              0.6666666666666666,
              "#ed7953"
             ],
             [
              0.7777777777777778,
              "#fb9f3a"
             ],
             [
              0.8888888888888888,
              "#fdca26"
             ],
             [
              1,
              "#f0f921"
             ]
            ],
            "type": "histogram2dcontour"
           }
          ],
          "mesh3d": [
           {
            "colorbar": {
             "outlinewidth": 0,
             "ticks": ""
            },
            "type": "mesh3d"
           }
          ],
          "parcoords": [
           {
            "line": {
             "colorbar": {
              "outlinewidth": 0,
              "ticks": ""
             }
            },
            "type": "parcoords"
           }
          ],
          "pie": [
           {
            "automargin": true,
            "type": "pie"
           }
          ],
          "scatter": [
           {
            "fillpattern": {
             "fillmode": "overlay",
             "size": 10,
             "solidity": 0.2
            },
            "type": "scatter"
           }
          ],
          "scatter3d": [
           {
            "line": {
             "colorbar": {
              "outlinewidth": 0,
              "ticks": ""
             }
            },
            "marker": {
             "colorbar": {
              "outlinewidth": 0,
              "ticks": ""
             }
            },
            "type": "scatter3d"
           }
          ],
          "scattercarpet": [
           {
            "marker": {
             "colorbar": {
              "outlinewidth": 0,
              "ticks": ""
             }
            },
            "type": "scattercarpet"
           }
          ],
          "scattergeo": [
           {
            "marker": {
             "colorbar": {
              "outlinewidth": 0,
              "ticks": ""
             }
            },
            "type": "scattergeo"
           }
          ],
          "scattergl": [
           {
            "marker": {
             "colorbar": {
              "outlinewidth": 0,
              "ticks": ""
             }
            },
            "type": "scattergl"
           }
          ],
          "scattermapbox": [
           {
            "marker": {
             "colorbar": {
              "outlinewidth": 0,
              "ticks": ""
             }
            },
            "type": "scattermapbox"
           }
          ],
          "scatterpolar": [
           {
            "marker": {
             "colorbar": {
              "outlinewidth": 0,
              "ticks": ""
             }
            },
            "type": "scatterpolar"
           }
          ],
          "scatterpolargl": [
           {
            "marker": {
             "colorbar": {
              "outlinewidth": 0,
              "ticks": ""
             }
            },
            "type": "scatterpolargl"
           }
          ],
          "scatterternary": [
           {
            "marker": {
             "colorbar": {
              "outlinewidth": 0,
              "ticks": ""
             }
            },
            "type": "scatterternary"
           }
          ],
          "surface": [
           {
            "colorbar": {
             "outlinewidth": 0,
             "ticks": ""
            },
            "colorscale": [
             [
              0,
              "#0d0887"
             ],
             [
              0.1111111111111111,
              "#46039f"
             ],
             [
              0.2222222222222222,
              "#7201a8"
             ],
             [
              0.3333333333333333,
              "#9c179e"
             ],
             [
              0.4444444444444444,
              "#bd3786"
             ],
             [
              0.5555555555555556,
              "#d8576b"
             ],
             [
              0.6666666666666666,
              "#ed7953"
             ],
             [
              0.7777777777777778,
              "#fb9f3a"
             ],
             [
              0.8888888888888888,
              "#fdca26"
             ],
             [
              1,
              "#f0f921"
             ]
            ],
            "type": "surface"
           }
          ],
          "table": [
           {
            "cells": {
             "fill": {
              "color": "#EBF0F8"
             },
             "line": {
              "color": "white"
             }
            },
            "header": {
             "fill": {
              "color": "#C8D4E3"
             },
             "line": {
              "color": "white"
             }
            },
            "type": "table"
           }
          ]
         },
         "layout": {
          "annotationdefaults": {
           "arrowcolor": "#2a3f5f",
           "arrowhead": 0,
           "arrowwidth": 1
          },
          "autotypenumbers": "strict",
          "coloraxis": {
           "colorbar": {
            "outlinewidth": 0,
            "ticks": ""
           }
          },
          "colorscale": {
           "diverging": [
            [
             0,
             "#8e0152"
            ],
            [
             0.1,
             "#c51b7d"
            ],
            [
             0.2,
             "#de77ae"
            ],
            [
             0.3,
             "#f1b6da"
            ],
            [
             0.4,
             "#fde0ef"
            ],
            [
             0.5,
             "#f7f7f7"
            ],
            [
             0.6,
             "#e6f5d0"
            ],
            [
             0.7,
             "#b8e186"
            ],
            [
             0.8,
             "#7fbc41"
            ],
            [
             0.9,
             "#4d9221"
            ],
            [
             1,
             "#276419"
            ]
           ],
           "sequential": [
            [
             0,
             "#0d0887"
            ],
            [
             0.1111111111111111,
             "#46039f"
            ],
            [
             0.2222222222222222,
             "#7201a8"
            ],
            [
             0.3333333333333333,
             "#9c179e"
            ],
            [
             0.4444444444444444,
             "#bd3786"
            ],
            [
             0.5555555555555556,
             "#d8576b"
            ],
            [
             0.6666666666666666,
             "#ed7953"
            ],
            [
             0.7777777777777778,
             "#fb9f3a"
            ],
            [
             0.8888888888888888,
             "#fdca26"
            ],
            [
             1,
             "#f0f921"
            ]
           ],
           "sequentialminus": [
            [
             0,
             "#0d0887"
            ],
            [
             0.1111111111111111,
             "#46039f"
            ],
            [
             0.2222222222222222,
             "#7201a8"
            ],
            [
             0.3333333333333333,
             "#9c179e"
            ],
            [
             0.4444444444444444,
             "#bd3786"
            ],
            [
             0.5555555555555556,
             "#d8576b"
            ],
            [
             0.6666666666666666,
             "#ed7953"
            ],
            [
             0.7777777777777778,
             "#fb9f3a"
            ],
            [
             0.8888888888888888,
             "#fdca26"
            ],
            [
             1,
             "#f0f921"
            ]
           ]
          },
          "colorway": [
           "#636efa",
           "#EF553B",
           "#00cc96",
           "#ab63fa",
           "#FFA15A",
           "#19d3f3",
           "#FF6692",
           "#B6E880",
           "#FF97FF",
           "#FECB52"
          ],
          "font": {
           "color": "#2a3f5f"
          },
          "geo": {
           "bgcolor": "white",
           "lakecolor": "white",
           "landcolor": "#E5ECF6",
           "showlakes": true,
           "showland": true,
           "subunitcolor": "white"
          },
          "hoverlabel": {
           "align": "left"
          },
          "hovermode": "closest",
          "mapbox": {
           "style": "light"
          },
          "paper_bgcolor": "white",
          "plot_bgcolor": "#E5ECF6",
          "polar": {
           "angularaxis": {
            "gridcolor": "white",
            "linecolor": "white",
            "ticks": ""
           },
           "bgcolor": "#E5ECF6",
           "radialaxis": {
            "gridcolor": "white",
            "linecolor": "white",
            "ticks": ""
           }
          },
          "scene": {
           "xaxis": {
            "backgroundcolor": "#E5ECF6",
            "gridcolor": "white",
            "gridwidth": 2,
            "linecolor": "white",
            "showbackground": true,
            "ticks": "",
            "zerolinecolor": "white"
           },
           "yaxis": {
            "backgroundcolor": "#E5ECF6",
            "gridcolor": "white",
            "gridwidth": 2,
            "linecolor": "white",
            "showbackground": true,
            "ticks": "",
            "zerolinecolor": "white"
           },
           "zaxis": {
            "backgroundcolor": "#E5ECF6",
            "gridcolor": "white",
            "gridwidth": 2,
            "linecolor": "white",
            "showbackground": true,
            "ticks": "",
            "zerolinecolor": "white"
           }
          },
          "shapedefaults": {
           "line": {
            "color": "#2a3f5f"
           }
          },
          "ternary": {
           "aaxis": {
            "gridcolor": "white",
            "linecolor": "white",
            "ticks": ""
           },
           "baxis": {
            "gridcolor": "white",
            "linecolor": "white",
            "ticks": ""
           },
           "bgcolor": "#E5ECF6",
           "caxis": {
            "gridcolor": "white",
            "linecolor": "white",
            "ticks": ""
           }
          },
          "title": {
           "x": 0.05
          },
          "xaxis": {
           "automargin": true,
           "gridcolor": "white",
           "linecolor": "white",
           "ticks": "",
           "title": {
            "standoff": 15
           },
           "zerolinecolor": "white",
           "zerolinewidth": 2
          },
          "yaxis": {
           "automargin": true,
           "gridcolor": "white",
           "linecolor": "white",
           "ticks": "",
           "title": {
            "standoff": 15
           },
           "zerolinecolor": "white",
           "zerolinewidth": 2
          }
         }
        },
        "title": {
         "text": "Linearly Separable Data (PCA: 1 component)"
        },
        "width": 600,
        "xaxis": {
         "anchor": "y",
         "domain": [
          0,
          1
         ],
         "title": {
          "text": "Principal Component 1"
         }
        },
        "yaxis": {
         "anchor": "x",
         "domain": [
          0,
          1
         ],
         "title": {
          "text": ""
         }
        }
       }
      },
      "text/html": [
       "<div>                            <div id=\"d6ba4a09-f1b0-4fd8-9dc3-b42e5de9f56d\" class=\"plotly-graph-div\" style=\"height:400px; width:600px;\"></div>            <script type=\"text/javascript\">                require([\"plotly\"], function(Plotly) {                    window.PLOTLYENV=window.PLOTLYENV || {};                                    if (document.getElementById(\"d6ba4a09-f1b0-4fd8-9dc3-b42e5de9f56d\")) {                    Plotly.newPlot(                        \"d6ba4a09-f1b0-4fd8-9dc3-b42e5de9f56d\",                        [{\"hovertemplate\":\"x=%{x}<br>y=%{y}<br>color=%{marker.color}<extra></extra>\",\"legendgroup\":\"\",\"marker\":{\"color\":[1,1,1,1,0,0,0,0,1,0,1,1,0,0,1,0,1,1,1,1,1,0,0,0,0,0,1,0,1,1,0,1,1,1,0,0,1,1,0,0,0,1,1,0,0,1,0,1,0,1,1,0,0,0,1,0,0,0,1,1,1,1,0,0,0,1,1,1,0,0,1,0,1,1,1,1,1,1,0,1,0,1,0,0,1,0,0,1,1,1,0,0,0,0,1,1,1,0,0,1,0,1,0,0,0,0,0,0,1,0,1,0,0,0,0,1,1,1,1,1,0,1,0,1,1,1,0,1,1,0,1,0,0,1,0,0,0,1,1,1,0,1,0,0,1,0,0,0,1,1,1,0,0,0,1,0,0,1,1,1,1,0,0,1,1,1,0,0,0,0,1,1,1,0,1,0,0,0,1,1,1,0,1,0,0,0,1,1,1,0,1,0,1,1,1,1,0,0,0,0],\"coloraxis\":\"coloraxis\",\"symbol\":\"circle\",\"opacity\":0.6,\"size\":8},\"mode\":\"markers\",\"name\":\"\",\"orientation\":\"v\",\"showlegend\":false,\"x\":[1.7337397710970355,1.5632670798548605,2.164678248729744,1.8980231343475347,-2.2647878609951895,-1.697083500086379,-2.4527020579109804,-0.9493944214746982,1.9211906249569088,-2.226264818989629,1.7383967384140926,1.55009250265728,-1.1946750182762187,-2.3242416178473055,1.5309744760673607,-1.557137516129913,1.9706517424197918,1.5939676115336705,2.1464825592656043,2.0349423334531944,2.282881794566174,-1.7385448010112894,-1.9350116415303207,-2.14206558505279,-2.2153132036312724,-2.189052627960654,2.300618644944436,-2.214484720008212,1.8695365468003606,1.1323480305876146,-2.872609366134862,2.2556900404375826,1.7726572015920956,2.364735182951257,-2.6068469763772573,-1.7262781948205306,0.9624941720878674,2.3863298621108284,-2.064083958290308,-1.899029964880381,-2.1978330706132434,2.4737125091914747,1.4318892663206113,-1.984609768365096,-1.9109086222425988,1.970146491003419,-2.4188130376992776,0.5209673647200077,-1.760251199130949,2.1347373739907143,1.873098789517583,-1.594138798277452,-0.9725174598068406,-1.220130703682904,1.7075517806622256,-1.2803749817985888,-2.1124542046926975,-2.6305839590933267,1.7065452909761913,1.7841842130203003,1.9710334319795322,1.8846405786106404,-2.4315588858101442,-1.1650956749196562,-1.8934283543619905,1.5669593580781913,1.0689213564910318,1.7104864555190227,-1.523131030559523,-1.800918852435409,2.6293737450717423,-1.6365266958038673,1.4342883844519372,1.6705273194124708,1.2610298761738545,2.1312785327471784,0.6919329461152999,0.8177214281703434,-1.0610332360453532,2.2483028566049517,-2.0564116101278618,1.6126434521730948,-2.4475127076656618,-2.950963020168222,0.9045193719588048,-1.9474385073682228,-2.1955162229935583,1.928705477543575,1.6976101448824834,1.5007856293128417,-1.3899730019070946,-1.1744188589883207,-2.8126779373881505,-1.0224743195473334,1.2323322123022413,1.7175453130057314,1.345543915246675,-1.8475171919711688,-1.6788661977558308,2.3795072034139824,-1.6901943353448905,1.9220652347552276,-1.5573898942738442,-1.7121301687520603,-1.8998271194695187,-1.3212871586442922,-1.9553412110033053,-2.08660561935741,1.4408507475593642,-2.4393870139289504,2.472479854880697,-2.179186344475145,-1.7265560292506887,-1.7345520879416743,-2.7709812356189034,1.9835384656319983,1.7673256461214382,2.1213585585867705,1.828653292886485,1.959645292905264,-2.1313396696330655,1.5320581957659856,-1.6844863509551822,1.245321205020022,1.372507495360947,2.111688422305356,-1.5676218185520447,2.1476928941417754,2.641029960264508,-1.3423170703066731,1.8271975869227715,-1.1949652440892775,-2.7236286775868983,1.8281608942118976,-1.483209433196238,-1.043733085959425,-2.352485448650187,1.8928873681191674,1.2692206749479358,1.9497707825144421,-1.8728542496315992,1.281638249985282,-1.7986520854362564,-1.6197262296204344,2.2630488128658706,-0.9185133437517754,-1.885150666453646,-2.0849387333440315,1.545056923214348,1.2919098570305607,1.9553967728931838,-1.9275403269765357,-2.0618151743747606,-1.6192663169481272,1.8335707207432397,-2.3696673696709554,-1.845847756922421,1.9395266549182946,1.7647873594501962,2.0859588352572453,1.9892351608616774,-2.475714127863319,-0.8637678480288392,2.6628152249633468,2.5229630068450275,1.8610119201859514,-2.6194534278946713,-1.9348017945727956,-0.798668730789324,-1.2410738838186497,2.5577700525088654,2.106745858139481,2.3195511245626044,-1.9501746999431122,2.3129258705943445,-1.8761604608132714,-1.683709226708586,-2.418358465937483,3.000257961680492,3.183464730197227,1.2596416056327047,-1.2975153643463593,1.839799822715201,-1.0985935739496864,-1.9866450360686696,-1.4745764529662557,1.893311464112335,2.597367225639902,2.3588071276898557,-2.247514137018964,1.521043838627702,-1.4705833550767948,1.3338431242016846,1.8834035171804628,1.369976430572802,1.5607758181326041,-1.46671523252023,-0.7582853273100004,-1.5689760486119448,-2.371107584860152],\"xaxis\":\"x\",\"y\":[0.0,0.0,0.0,0.0,0.0,0.0,0.0,0.0,0.0,0.0,0.0,0.0,0.0,0.0,0.0,0.0,0.0,0.0,0.0,0.0,0.0,0.0,0.0,0.0,0.0,0.0,0.0,0.0,0.0,0.0,0.0,0.0,0.0,0.0,0.0,0.0,0.0,0.0,0.0,0.0,0.0,0.0,0.0,0.0,0.0,0.0,0.0,0.0,0.0,0.0,0.0,0.0,0.0,0.0,0.0,0.0,0.0,0.0,0.0,0.0,0.0,0.0,0.0,0.0,0.0,0.0,0.0,0.0,0.0,0.0,0.0,0.0,0.0,0.0,0.0,0.0,0.0,0.0,0.0,0.0,0.0,0.0,0.0,0.0,0.0,0.0,0.0,0.0,0.0,0.0,0.0,0.0,0.0,0.0,0.0,0.0,0.0,0.0,0.0,0.0,0.0,0.0,0.0,0.0,0.0,0.0,0.0,0.0,0.0,0.0,0.0,0.0,0.0,0.0,0.0,0.0,0.0,0.0,0.0,0.0,0.0,0.0,0.0,0.0,0.0,0.0,0.0,0.0,0.0,0.0,0.0,0.0,0.0,0.0,0.0,0.0,0.0,0.0,0.0,0.0,0.0,0.0,0.0,0.0,0.0,0.0,0.0,0.0,0.0,0.0,0.0,0.0,0.0,0.0,0.0,0.0,0.0,0.0,0.0,0.0,0.0,0.0,0.0,0.0,0.0,0.0,0.0,0.0,0.0,0.0,0.0,0.0,0.0,0.0,0.0,0.0,0.0,0.0,0.0,0.0,0.0,0.0,0.0,0.0,0.0,0.0,0.0,0.0,0.0,0.0,0.0,0.0,0.0,0.0,0.0,0.0,0.0,0.0,0.0,0.0],\"yaxis\":\"y\",\"type\":\"scatter\"}],                        {\"template\":{\"data\":{\"histogram2dcontour\":[{\"type\":\"histogram2dcontour\",\"colorbar\":{\"outlinewidth\":0,\"ticks\":\"\"},\"colorscale\":[[0.0,\"#0d0887\"],[0.1111111111111111,\"#46039f\"],[0.2222222222222222,\"#7201a8\"],[0.3333333333333333,\"#9c179e\"],[0.4444444444444444,\"#bd3786\"],[0.5555555555555556,\"#d8576b\"],[0.6666666666666666,\"#ed7953\"],[0.7777777777777778,\"#fb9f3a\"],[0.8888888888888888,\"#fdca26\"],[1.0,\"#f0f921\"]]}],\"choropleth\":[{\"type\":\"choropleth\",\"colorbar\":{\"outlinewidth\":0,\"ticks\":\"\"}}],\"histogram2d\":[{\"type\":\"histogram2d\",\"colorbar\":{\"outlinewidth\":0,\"ticks\":\"\"},\"colorscale\":[[0.0,\"#0d0887\"],[0.1111111111111111,\"#46039f\"],[0.2222222222222222,\"#7201a8\"],[0.3333333333333333,\"#9c179e\"],[0.4444444444444444,\"#bd3786\"],[0.5555555555555556,\"#d8576b\"],[0.6666666666666666,\"#ed7953\"],[0.7777777777777778,\"#fb9f3a\"],[0.8888888888888888,\"#fdca26\"],[1.0,\"#f0f921\"]]}],\"heatmap\":[{\"type\":\"heatmap\",\"colorbar\":{\"outlinewidth\":0,\"ticks\":\"\"},\"colorscale\":[[0.0,\"#0d0887\"],[0.1111111111111111,\"#46039f\"],[0.2222222222222222,\"#7201a8\"],[0.3333333333333333,\"#9c179e\"],[0.4444444444444444,\"#bd3786\"],[0.5555555555555556,\"#d8576b\"],[0.6666666666666666,\"#ed7953\"],[0.7777777777777778,\"#fb9f3a\"],[0.8888888888888888,\"#fdca26\"],[1.0,\"#f0f921\"]]}],\"heatmapgl\":[{\"type\":\"heatmapgl\",\"colorbar\":{\"outlinewidth\":0,\"ticks\":\"\"},\"colorscale\":[[0.0,\"#0d0887\"],[0.1111111111111111,\"#46039f\"],[0.2222222222222222,\"#7201a8\"],[0.3333333333333333,\"#9c179e\"],[0.4444444444444444,\"#bd3786\"],[0.5555555555555556,\"#d8576b\"],[0.6666666666666666,\"#ed7953\"],[0.7777777777777778,\"#fb9f3a\"],[0.8888888888888888,\"#fdca26\"],[1.0,\"#f0f921\"]]}],\"contourcarpet\":[{\"type\":\"contourcarpet\",\"colorbar\":{\"outlinewidth\":0,\"ticks\":\"\"}}],\"contour\":[{\"type\":\"contour\",\"colorbar\":{\"outlinewidth\":0,\"ticks\":\"\"},\"colorscale\":[[0.0,\"#0d0887\"],[0.1111111111111111,\"#46039f\"],[0.2222222222222222,\"#7201a8\"],[0.3333333333333333,\"#9c179e\"],[0.4444444444444444,\"#bd3786\"],[0.5555555555555556,\"#d8576b\"],[0.6666666666666666,\"#ed7953\"],[0.7777777777777778,\"#fb9f3a\"],[0.8888888888888888,\"#fdca26\"],[1.0,\"#f0f921\"]]}],\"surface\":[{\"type\":\"surface\",\"colorbar\":{\"outlinewidth\":0,\"ticks\":\"\"},\"colorscale\":[[0.0,\"#0d0887\"],[0.1111111111111111,\"#46039f\"],[0.2222222222222222,\"#7201a8\"],[0.3333333333333333,\"#9c179e\"],[0.4444444444444444,\"#bd3786\"],[0.5555555555555556,\"#d8576b\"],[0.6666666666666666,\"#ed7953\"],[0.7777777777777778,\"#fb9f3a\"],[0.8888888888888888,\"#fdca26\"],[1.0,\"#f0f921\"]]}],\"mesh3d\":[{\"type\":\"mesh3d\",\"colorbar\":{\"outlinewidth\":0,\"ticks\":\"\"}}],\"scatter\":[{\"fillpattern\":{\"fillmode\":\"overlay\",\"size\":10,\"solidity\":0.2},\"type\":\"scatter\"}],\"parcoords\":[{\"type\":\"parcoords\",\"line\":{\"colorbar\":{\"outlinewidth\":0,\"ticks\":\"\"}}}],\"scatterpolargl\":[{\"type\":\"scatterpolargl\",\"marker\":{\"colorbar\":{\"outlinewidth\":0,\"ticks\":\"\"}}}],\"bar\":[{\"error_x\":{\"color\":\"#2a3f5f\"},\"error_y\":{\"color\":\"#2a3f5f\"},\"marker\":{\"line\":{\"color\":\"#E5ECF6\",\"width\":0.5},\"pattern\":{\"fillmode\":\"overlay\",\"size\":10,\"solidity\":0.2}},\"type\":\"bar\"}],\"scattergeo\":[{\"type\":\"scattergeo\",\"marker\":{\"colorbar\":{\"outlinewidth\":0,\"ticks\":\"\"}}}],\"scatterpolar\":[{\"type\":\"scatterpolar\",\"marker\":{\"colorbar\":{\"outlinewidth\":0,\"ticks\":\"\"}}}],\"histogram\":[{\"marker\":{\"pattern\":{\"fillmode\":\"overlay\",\"size\":10,\"solidity\":0.2}},\"type\":\"histogram\"}],\"scattergl\":[{\"type\":\"scattergl\",\"marker\":{\"colorbar\":{\"outlinewidth\":0,\"ticks\":\"\"}}}],\"scatter3d\":[{\"type\":\"scatter3d\",\"line\":{\"colorbar\":{\"outlinewidth\":0,\"ticks\":\"\"}},\"marker\":{\"colorbar\":{\"outlinewidth\":0,\"ticks\":\"\"}}}],\"scattermapbox\":[{\"type\":\"scattermapbox\",\"marker\":{\"colorbar\":{\"outlinewidth\":0,\"ticks\":\"\"}}}],\"scatterternary\":[{\"type\":\"scatterternary\",\"marker\":{\"colorbar\":{\"outlinewidth\":0,\"ticks\":\"\"}}}],\"scattercarpet\":[{\"type\":\"scattercarpet\",\"marker\":{\"colorbar\":{\"outlinewidth\":0,\"ticks\":\"\"}}}],\"carpet\":[{\"aaxis\":{\"endlinecolor\":\"#2a3f5f\",\"gridcolor\":\"white\",\"linecolor\":\"white\",\"minorgridcolor\":\"white\",\"startlinecolor\":\"#2a3f5f\"},\"baxis\":{\"endlinecolor\":\"#2a3f5f\",\"gridcolor\":\"white\",\"linecolor\":\"white\",\"minorgridcolor\":\"white\",\"startlinecolor\":\"#2a3f5f\"},\"type\":\"carpet\"}],\"table\":[{\"cells\":{\"fill\":{\"color\":\"#EBF0F8\"},\"line\":{\"color\":\"white\"}},\"header\":{\"fill\":{\"color\":\"#C8D4E3\"},\"line\":{\"color\":\"white\"}},\"type\":\"table\"}],\"barpolar\":[{\"marker\":{\"line\":{\"color\":\"#E5ECF6\",\"width\":0.5},\"pattern\":{\"fillmode\":\"overlay\",\"size\":10,\"solidity\":0.2}},\"type\":\"barpolar\"}],\"pie\":[{\"automargin\":true,\"type\":\"pie\"}]},\"layout\":{\"autotypenumbers\":\"strict\",\"colorway\":[\"#636efa\",\"#EF553B\",\"#00cc96\",\"#ab63fa\",\"#FFA15A\",\"#19d3f3\",\"#FF6692\",\"#B6E880\",\"#FF97FF\",\"#FECB52\"],\"font\":{\"color\":\"#2a3f5f\"},\"hovermode\":\"closest\",\"hoverlabel\":{\"align\":\"left\"},\"paper_bgcolor\":\"white\",\"plot_bgcolor\":\"#E5ECF6\",\"polar\":{\"bgcolor\":\"#E5ECF6\",\"angularaxis\":{\"gridcolor\":\"white\",\"linecolor\":\"white\",\"ticks\":\"\"},\"radialaxis\":{\"gridcolor\":\"white\",\"linecolor\":\"white\",\"ticks\":\"\"}},\"ternary\":{\"bgcolor\":\"#E5ECF6\",\"aaxis\":{\"gridcolor\":\"white\",\"linecolor\":\"white\",\"ticks\":\"\"},\"baxis\":{\"gridcolor\":\"white\",\"linecolor\":\"white\",\"ticks\":\"\"},\"caxis\":{\"gridcolor\":\"white\",\"linecolor\":\"white\",\"ticks\":\"\"}},\"coloraxis\":{\"colorbar\":{\"outlinewidth\":0,\"ticks\":\"\"}},\"colorscale\":{\"sequential\":[[0.0,\"#0d0887\"],[0.1111111111111111,\"#46039f\"],[0.2222222222222222,\"#7201a8\"],[0.3333333333333333,\"#9c179e\"],[0.4444444444444444,\"#bd3786\"],[0.5555555555555556,\"#d8576b\"],[0.6666666666666666,\"#ed7953\"],[0.7777777777777778,\"#fb9f3a\"],[0.8888888888888888,\"#fdca26\"],[1.0,\"#f0f921\"]],\"sequentialminus\":[[0.0,\"#0d0887\"],[0.1111111111111111,\"#46039f\"],[0.2222222222222222,\"#7201a8\"],[0.3333333333333333,\"#9c179e\"],[0.4444444444444444,\"#bd3786\"],[0.5555555555555556,\"#d8576b\"],[0.6666666666666666,\"#ed7953\"],[0.7777777777777778,\"#fb9f3a\"],[0.8888888888888888,\"#fdca26\"],[1.0,\"#f0f921\"]],\"diverging\":[[0,\"#8e0152\"],[0.1,\"#c51b7d\"],[0.2,\"#de77ae\"],[0.3,\"#f1b6da\"],[0.4,\"#fde0ef\"],[0.5,\"#f7f7f7\"],[0.6,\"#e6f5d0\"],[0.7,\"#b8e186\"],[0.8,\"#7fbc41\"],[0.9,\"#4d9221\"],[1,\"#276419\"]]},\"xaxis\":{\"gridcolor\":\"white\",\"linecolor\":\"white\",\"ticks\":\"\",\"title\":{\"standoff\":15},\"zerolinecolor\":\"white\",\"automargin\":true,\"zerolinewidth\":2},\"yaxis\":{\"gridcolor\":\"white\",\"linecolor\":\"white\",\"ticks\":\"\",\"title\":{\"standoff\":15},\"zerolinecolor\":\"white\",\"automargin\":true,\"zerolinewidth\":2},\"scene\":{\"xaxis\":{\"backgroundcolor\":\"#E5ECF6\",\"gridcolor\":\"white\",\"linecolor\":\"white\",\"showbackground\":true,\"ticks\":\"\",\"zerolinecolor\":\"white\",\"gridwidth\":2},\"yaxis\":{\"backgroundcolor\":\"#E5ECF6\",\"gridcolor\":\"white\",\"linecolor\":\"white\",\"showbackground\":true,\"ticks\":\"\",\"zerolinecolor\":\"white\",\"gridwidth\":2},\"zaxis\":{\"backgroundcolor\":\"#E5ECF6\",\"gridcolor\":\"white\",\"linecolor\":\"white\",\"showbackground\":true,\"ticks\":\"\",\"zerolinecolor\":\"white\",\"gridwidth\":2}},\"shapedefaults\":{\"line\":{\"color\":\"#2a3f5f\"}},\"annotationdefaults\":{\"arrowcolor\":\"#2a3f5f\",\"arrowhead\":0,\"arrowwidth\":1},\"geo\":{\"bgcolor\":\"white\",\"landcolor\":\"#E5ECF6\",\"subunitcolor\":\"white\",\"showland\":true,\"showlakes\":true,\"lakecolor\":\"white\"},\"title\":{\"x\":0.05},\"mapbox\":{\"style\":\"light\"}}},\"xaxis\":{\"anchor\":\"y\",\"domain\":[0.0,1.0],\"title\":{\"text\":\"Principal Component 1\"}},\"yaxis\":{\"anchor\":\"x\",\"domain\":[0.0,1.0],\"title\":{\"text\":\"\"}},\"coloraxis\":{\"colorbar\":{\"title\":{\"text\":\"color\"}},\"colorscale\":[[0.0,\"rgb(0,0,255)\"],[1.0,\"rgb(255,0,0)\"]],\"showscale\":false},\"legend\":{\"tracegroupgap\":0},\"margin\":{\"t\":60},\"width\":600,\"height\":400,\"title\":{\"text\":\"Linearly Separable Data (PCA: 1 component)\"}},                        {\"responsive\": true}                    ).then(function(){\n",
       "                            \n",
       "var gd = document.getElementById('d6ba4a09-f1b0-4fd8-9dc3-b42e5de9f56d');\n",
       "var x = new MutationObserver(function (mutations, observer) {{\n",
       "        var display = window.getComputedStyle(gd).display;\n",
       "        if (!display || display === 'none') {{\n",
       "            console.log([gd, 'removed!']);\n",
       "            Plotly.purge(gd);\n",
       "            observer.disconnect();\n",
       "        }}\n",
       "}});\n",
       "\n",
       "// Listen for the removal of the full notebook cells\n",
       "var notebookContainer = gd.closest('#notebook-container');\n",
       "if (notebookContainer) {{\n",
       "    x.observe(notebookContainer, {childList: true});\n",
       "}}\n",
       "\n",
       "// Listen for the clearing of the current output cell\n",
       "var outputEl = gd.closest('.output');\n",
       "if (outputEl) {{\n",
       "    x.observe(outputEl, {childList: true});\n",
       "}}\n",
       "\n",
       "                        })                };                });            </script>        </div>"
      ]
     },
     "metadata": {},
     "output_type": "display_data"
    }
   ],
   "source": [
    "# Projecting the transformed data into the first component space\n",
    "figL1 = px.scatter(x=dataL[:, 0], y=np.zeros_like(dataL[:, 0]), \n",
    "                   color=yl, color_continuous_scale='bluered')\n",
    "figL1.update_traces(marker=dict(size=8, opacity=0.6))\n",
    "figL1.update_layout(coloraxis_showscale=False, \n",
    "                    width=600, height=400, \n",
    "                    xaxis_title='Principal Component 1', yaxis_title='', \n",
    "                    title='Linearly Separable Data (PCA: 1 component)')\n",
    "figL1.show()"
   ]
  },
  {
   "cell_type": "markdown",
   "metadata": {},
   "source": [
    "Groups are linearly separated.\n",
    "\n",
    "This is a common way to visualize high-dimensional data that has been reduced to a single dimension for simplicity, and to demonstrate the effectiveness of PCA for feature extraction or dimensionality reduction, particularly in cases where classes are linearly separable.\n",
    "\n",
    "The resulting principal component yields a subspace where the data are well separated. "
   ]
  },
  {
   "cell_type": "markdown",
   "metadata": {},
   "source": [
    "## Non-linearly Separable Data: Half Moons Problem"
   ]
  },
  {
   "cell_type": "code",
   "execution_count": 7,
   "metadata": {},
   "outputs": [],
   "source": [
    "from sklearn.datasets import make_moons\n",
    "\n",
    "Xm, ym = make_moons(100, noise=0.015, random_state=0)"
   ]
  },
  {
   "cell_type": "code",
   "execution_count": 8,
   "metadata": {},
   "outputs": [
    {
     "data": {
      "application/vnd.plotly.v1+json": {
       "config": {
        "plotlyServerURL": "https://plot.ly"
       },
       "data": [
        {
         "hovertemplate": "x=%{x}<br>y=%{y}<br>color=%{marker.color}<extra></extra>",
         "legendgroup": "",
         "marker": {
          "color": [
           0,
           1,
           0,
           1,
           1,
           1,
           0,
           1,
           1,
           1,
           1,
           1,
           1,
           0,
           0,
           0,
           0,
           0,
           0,
           0,
           0,
           1,
           0,
           1,
           0,
           0,
           0,
           1,
           1,
           1,
           1,
           1,
           1,
           1,
           1,
           0,
           0,
           1,
           1,
           1,
           0,
           1,
           0,
           0,
           0,
           0,
           0,
           0,
           0,
           0,
           1,
           1,
           0,
           0,
           0,
           1,
           0,
           0,
           0,
           1,
           0,
           0,
           1,
           1,
           1,
           1,
           0,
           1,
           0,
           1,
           0,
           0,
           0,
           1,
           1,
           1,
           0,
           1,
           1,
           1,
           0,
           0,
           1,
           0,
           0,
           1,
           1,
           0,
           1,
           1,
           1,
           0,
           0,
           1,
           0,
           1,
           1,
           1,
           0,
           0
          ],
          "coloraxis": "coloraxis",
          "opacity": 0.6,
          "size": 8,
          "symbol": "circle"
         },
         "mode": "markers",
         "name": "",
         "orientation": "v",
         "showlegend": false,
         "type": "scatter",
         "x": [
          -0.0896421249306368,
          1.6944407377485506,
          0.9863249991442314,
          0.04563983514211814,
          1.021926250098219,
          1.936213773295864,
          0.5209575748830121,
          0.90638685219754,
          0.029608822826088364,
          1.9547198985560479,
          0.0035772937765709174,
          1.906092678841581,
          1.2363996952325693,
          0.6999562632117363,
          0.8792858341781613,
          -0.34642341285906186,
          0.1666821299961281,
          0.045664371828257916,
          -0.5043291856769738,
          0.8859226848076066,
          -0.9104221277559792,
          0.29074648491339905,
          0.9667067548534104,
          0.7738629621867869,
          -0.9518326238239864,
          -0.9853795962731624,
          0.9108635322985612,
          2.0090685841524514,
          1.4854016924323215,
          1.1153936947160163,
          0.2123594205278321,
          1.330904104038684,
          1.83943406579536,
          0.5864294291413106,
          0.00538850577574429,
          -0.1602861165198733,
          0.3907503862903387,
          0.07848965166068854,
          0.2985883745983594,
          0.9708413353764876,
          1.0240491946644052,
          0.25871335792463956,
          -0.8997282188654504,
          -0.881235267600627,
          0.9702595026112216,
          0.590076489831811,
          0.4732516475465305,
          -0.814626566195911,
          -0.7746064081960132,
          0.9403306520543578,
          1.8479783489579595,
          0.13474271324438858,
          0.9860776122314469,
          -0.5691841700930396,
          -0.19533561418334242,
          0.009768140187635298,
          0.7497857585327027,
          -0.6033980066105146,
          0.10238921279010661,
          0.002447200961781996,
          0.7931687833547594,
          -0.403158099890946,
          0.46788610173799194,
          0.10044614644722373,
          1.256018822712383,
          1.5970592185831494,
          -0.44681855687043454,
          1.5728202270449607,
          0.629537587082058,
          1.8203484546610622,
          0.34038459847432223,
          -0.317802997979491,
          -0.9941153791651619,
          1.9933490525074213,
          2.005336783621573,
          0.6396714324961216,
          0.2876337202418518,
          1.9385648246906797,
          0.8303083332000412,
          1.1660033353384376,
          -0.03733530216049533,
          -0.7105195341536465,
          1.3990460499211768,
          -0.976250881818937,
          -0.8077720653719678,
          0.40773598892326207,
          0.13211002604195415,
          0.7191049108405698,
          1.757520877364249,
          0.7050808547203413,
          1.715811991330599,
          -0.6797719868004339,
          0.22648033859065134,
          1.5113086922479042,
          0.8547024750629647,
          1.9674538538578348,
          0.5215197859474567,
          0.405330402471684,
          -1.0081255303518029,
          -0.9664438418822612
         ],
         "xaxis": "x",
         "y": [
          0.9949595451971516,
          -0.23057629561823392,
          0.11769550084268429,
          0.17378056991645466,
          -0.5014779800424884,
          0.15160052203877425,
          0.8292576927315356,
          -0.5082638927586488,
          0.2536718131022819,
          0.25206287225702284,
          0.32410957204438706,
          0.04735296764158203,
          -0.48849970455435315,
          0.763160605655254,
          0.4395411482841817,
          0.947530817656506,
          0.9994805428102295,
          0.9906988730807976,
          0.8513236416285705,
          0.49382679359045933,
          0.38936545959134455,
          -0.19565613799277232,
          0.21924453987926115,
          -0.47412773857653556,
          0.23449974910412058,
          0.041718548795237856,
          0.3721300756189047,
          0.47385412653615516,
          -0.35864567660617996,
          -0.47586866887666146,
          -0.10049253756483649,
          -0.4683301043497641,
          -0.04381209301738121,
          -0.4099310424403836,
          0.4424575245327077,
          0.9879302596280142,
          0.9187234377938267,
          0.13085521691007493,
          -0.2186054614250441,
          -0.5057991885070222,
          0.05860891834399072,
          -0.16050170972771868,
          0.4145178622873536,
          0.4730146867695494,
          0.2598630835591457,
          0.8484225624656855,
          0.9208643066900551,
          0.5547014568585347,
          0.6239120828607206,
          0.3070407087271458,
          0.008465475339343,
          -0.0550025294767662,
          0.02236082875438535,
          0.8130981895937386,
          0.9405158499998324,
          0.4830425532574666,
          0.6649674721196345,
          0.7553199776971927,
          1.0117187486257675,
          0.3816058595279008,
          0.60592741658385,
          0.9183376501691234,
          -0.3422691962250247,
          0.043827703002725094,
          -0.4757315409921278,
          -0.28616083075558213,
          0.8903486694852857,
          -0.3356559001479196,
          0.7715705936877897,
          -0.1281938793556679,
          0.9340269160062071,
          0.9559153098516283,
          0.0036245220983242375,
          0.3596792705159436,
          0.43728147188404387,
          -0.45046899526568174,
          0.9665197984444998,
          0.19859736908763267,
          -0.48518191595198334,
          -0.48737452429035116,
          1.0117782153262815,
          0.713641448576356,
          -0.40403769424026514,
          0.20687240876263974,
          0.5453890087046871,
          -0.29878966269776464,
          0.005417491605260502,
          0.6749793874777377,
          -0.15091909070103773,
          -0.44160045005220383,
          -0.207141255686899,
          0.73483463036736,
          0.9654832835454884,
          -0.37784317856409755,
          0.5481784824952904,
          0.32278528622452535,
          -0.39989540039250726,
          -0.28872819032346575,
          0.14263892108104795,
          0.3085601616339797
         ],
         "yaxis": "y"
        }
       ],
       "layout": {
        "coloraxis": {
         "colorbar": {
          "title": {
           "text": "color"
          }
         },
         "colorscale": [
          [
           0,
           "rgb(0,0,255)"
          ],
          [
           1,
           "rgb(255,0,0)"
          ]
         ],
         "showscale": false
        },
        "height": 400,
        "legend": {
         "tracegroupgap": 0
        },
        "margin": {
         "t": 60
        },
        "template": {
         "data": {
          "bar": [
           {
            "error_x": {
             "color": "#2a3f5f"
            },
            "error_y": {
             "color": "#2a3f5f"
            },
            "marker": {
             "line": {
              "color": "#E5ECF6",
              "width": 0.5
             },
             "pattern": {
              "fillmode": "overlay",
              "size": 10,
              "solidity": 0.2
             }
            },
            "type": "bar"
           }
          ],
          "barpolar": [
           {
            "marker": {
             "line": {
              "color": "#E5ECF6",
              "width": 0.5
             },
             "pattern": {
              "fillmode": "overlay",
              "size": 10,
              "solidity": 0.2
             }
            },
            "type": "barpolar"
           }
          ],
          "carpet": [
           {
            "aaxis": {
             "endlinecolor": "#2a3f5f",
             "gridcolor": "white",
             "linecolor": "white",
             "minorgridcolor": "white",
             "startlinecolor": "#2a3f5f"
            },
            "baxis": {
             "endlinecolor": "#2a3f5f",
             "gridcolor": "white",
             "linecolor": "white",
             "minorgridcolor": "white",
             "startlinecolor": "#2a3f5f"
            },
            "type": "carpet"
           }
          ],
          "choropleth": [
           {
            "colorbar": {
             "outlinewidth": 0,
             "ticks": ""
            },
            "type": "choropleth"
           }
          ],
          "contour": [
           {
            "colorbar": {
             "outlinewidth": 0,
             "ticks": ""
            },
            "colorscale": [
             [
              0,
              "#0d0887"
             ],
             [
              0.1111111111111111,
              "#46039f"
             ],
             [
              0.2222222222222222,
              "#7201a8"
             ],
             [
              0.3333333333333333,
              "#9c179e"
             ],
             [
              0.4444444444444444,
              "#bd3786"
             ],
             [
              0.5555555555555556,
              "#d8576b"
             ],
             [
              0.6666666666666666,
              "#ed7953"
             ],
             [
              0.7777777777777778,
              "#fb9f3a"
             ],
             [
              0.8888888888888888,
              "#fdca26"
             ],
             [
              1,
              "#f0f921"
             ]
            ],
            "type": "contour"
           }
          ],
          "contourcarpet": [
           {
            "colorbar": {
             "outlinewidth": 0,
             "ticks": ""
            },
            "type": "contourcarpet"
           }
          ],
          "heatmap": [
           {
            "colorbar": {
             "outlinewidth": 0,
             "ticks": ""
            },
            "colorscale": [
             [
              0,
              "#0d0887"
             ],
             [
              0.1111111111111111,
              "#46039f"
             ],
             [
              0.2222222222222222,
              "#7201a8"
             ],
             [
              0.3333333333333333,
              "#9c179e"
             ],
             [
              0.4444444444444444,
              "#bd3786"
             ],
             [
              0.5555555555555556,
              "#d8576b"
             ],
             [
              0.6666666666666666,
              "#ed7953"
             ],
             [
              0.7777777777777778,
              "#fb9f3a"
             ],
             [
              0.8888888888888888,
              "#fdca26"
             ],
             [
              1,
              "#f0f921"
             ]
            ],
            "type": "heatmap"
           }
          ],
          "heatmapgl": [
           {
            "colorbar": {
             "outlinewidth": 0,
             "ticks": ""
            },
            "colorscale": [
             [
              0,
              "#0d0887"
             ],
             [
              0.1111111111111111,
              "#46039f"
             ],
             [
              0.2222222222222222,
              "#7201a8"
             ],
             [
              0.3333333333333333,
              "#9c179e"
             ],
             [
              0.4444444444444444,
              "#bd3786"
             ],
             [
              0.5555555555555556,
              "#d8576b"
             ],
             [
              0.6666666666666666,
              "#ed7953"
             ],
             [
              0.7777777777777778,
              "#fb9f3a"
             ],
             [
              0.8888888888888888,
              "#fdca26"
             ],
             [
              1,
              "#f0f921"
             ]
            ],
            "type": "heatmapgl"
           }
          ],
          "histogram": [
           {
            "marker": {
             "pattern": {
              "fillmode": "overlay",
              "size": 10,
              "solidity": 0.2
             }
            },
            "type": "histogram"
           }
          ],
          "histogram2d": [
           {
            "colorbar": {
             "outlinewidth": 0,
             "ticks": ""
            },
            "colorscale": [
             [
              0,
              "#0d0887"
             ],
             [
              0.1111111111111111,
              "#46039f"
             ],
             [
              0.2222222222222222,
              "#7201a8"
             ],
             [
              0.3333333333333333,
              "#9c179e"
             ],
             [
              0.4444444444444444,
              "#bd3786"
             ],
             [
              0.5555555555555556,
              "#d8576b"
             ],
             [
              0.6666666666666666,
              "#ed7953"
             ],
             [
              0.7777777777777778,
              "#fb9f3a"
             ],
             [
              0.8888888888888888,
              "#fdca26"
             ],
             [
              1,
              "#f0f921"
             ]
            ],
            "type": "histogram2d"
           }
          ],
          "histogram2dcontour": [
           {
            "colorbar": {
             "outlinewidth": 0,
             "ticks": ""
            },
            "colorscale": [
             [
              0,
              "#0d0887"
             ],
             [
              0.1111111111111111,
              "#46039f"
             ],
             [
              0.2222222222222222,
              "#7201a8"
             ],
             [
              0.3333333333333333,
              "#9c179e"
             ],
             [
              0.4444444444444444,
              "#bd3786"
             ],
             [
              0.5555555555555556,
              "#d8576b"
             ],
             [
              0.6666666666666666,
              "#ed7953"
             ],
             [
              0.7777777777777778,
              "#fb9f3a"
             ],
             [
              0.8888888888888888,
              "#fdca26"
             ],
             [
              1,
              "#f0f921"
             ]
            ],
            "type": "histogram2dcontour"
           }
          ],
          "mesh3d": [
           {
            "colorbar": {
             "outlinewidth": 0,
             "ticks": ""
            },
            "type": "mesh3d"
           }
          ],
          "parcoords": [
           {
            "line": {
             "colorbar": {
              "outlinewidth": 0,
              "ticks": ""
             }
            },
            "type": "parcoords"
           }
          ],
          "pie": [
           {
            "automargin": true,
            "type": "pie"
           }
          ],
          "scatter": [
           {
            "fillpattern": {
             "fillmode": "overlay",
             "size": 10,
             "solidity": 0.2
            },
            "type": "scatter"
           }
          ],
          "scatter3d": [
           {
            "line": {
             "colorbar": {
              "outlinewidth": 0,
              "ticks": ""
             }
            },
            "marker": {
             "colorbar": {
              "outlinewidth": 0,
              "ticks": ""
             }
            },
            "type": "scatter3d"
           }
          ],
          "scattercarpet": [
           {
            "marker": {
             "colorbar": {
              "outlinewidth": 0,
              "ticks": ""
             }
            },
            "type": "scattercarpet"
           }
          ],
          "scattergeo": [
           {
            "marker": {
             "colorbar": {
              "outlinewidth": 0,
              "ticks": ""
             }
            },
            "type": "scattergeo"
           }
          ],
          "scattergl": [
           {
            "marker": {
             "colorbar": {
              "outlinewidth": 0,
              "ticks": ""
             }
            },
            "type": "scattergl"
           }
          ],
          "scattermapbox": [
           {
            "marker": {
             "colorbar": {
              "outlinewidth": 0,
              "ticks": ""
             }
            },
            "type": "scattermapbox"
           }
          ],
          "scatterpolar": [
           {
            "marker": {
             "colorbar": {
              "outlinewidth": 0,
              "ticks": ""
             }
            },
            "type": "scatterpolar"
           }
          ],
          "scatterpolargl": [
           {
            "marker": {
             "colorbar": {
              "outlinewidth": 0,
              "ticks": ""
             }
            },
            "type": "scatterpolargl"
           }
          ],
          "scatterternary": [
           {
            "marker": {
             "colorbar": {
              "outlinewidth": 0,
              "ticks": ""
             }
            },
            "type": "scatterternary"
           }
          ],
          "surface": [
           {
            "colorbar": {
             "outlinewidth": 0,
             "ticks": ""
            },
            "colorscale": [
             [
              0,
              "#0d0887"
             ],
             [
              0.1111111111111111,
              "#46039f"
             ],
             [
              0.2222222222222222,
              "#7201a8"
             ],
             [
              0.3333333333333333,
              "#9c179e"
             ],
             [
              0.4444444444444444,
              "#bd3786"
             ],
             [
              0.5555555555555556,
              "#d8576b"
             ],
             [
              0.6666666666666666,
              "#ed7953"
             ],
             [
              0.7777777777777778,
              "#fb9f3a"
             ],
             [
              0.8888888888888888,
              "#fdca26"
             ],
             [
              1,
              "#f0f921"
             ]
            ],
            "type": "surface"
           }
          ],
          "table": [
           {
            "cells": {
             "fill": {
              "color": "#EBF0F8"
             },
             "line": {
              "color": "white"
             }
            },
            "header": {
             "fill": {
              "color": "#C8D4E3"
             },
             "line": {
              "color": "white"
             }
            },
            "type": "table"
           }
          ]
         },
         "layout": {
          "annotationdefaults": {
           "arrowcolor": "#2a3f5f",
           "arrowhead": 0,
           "arrowwidth": 1
          },
          "autotypenumbers": "strict",
          "coloraxis": {
           "colorbar": {
            "outlinewidth": 0,
            "ticks": ""
           }
          },
          "colorscale": {
           "diverging": [
            [
             0,
             "#8e0152"
            ],
            [
             0.1,
             "#c51b7d"
            ],
            [
             0.2,
             "#de77ae"
            ],
            [
             0.3,
             "#f1b6da"
            ],
            [
             0.4,
             "#fde0ef"
            ],
            [
             0.5,
             "#f7f7f7"
            ],
            [
             0.6,
             "#e6f5d0"
            ],
            [
             0.7,
             "#b8e186"
            ],
            [
             0.8,
             "#7fbc41"
            ],
            [
             0.9,
             "#4d9221"
            ],
            [
             1,
             "#276419"
            ]
           ],
           "sequential": [
            [
             0,
             "#0d0887"
            ],
            [
             0.1111111111111111,
             "#46039f"
            ],
            [
             0.2222222222222222,
             "#7201a8"
            ],
            [
             0.3333333333333333,
             "#9c179e"
            ],
            [
             0.4444444444444444,
             "#bd3786"
            ],
            [
             0.5555555555555556,
             "#d8576b"
            ],
            [
             0.6666666666666666,
             "#ed7953"
            ],
            [
             0.7777777777777778,
             "#fb9f3a"
            ],
            [
             0.8888888888888888,
             "#fdca26"
            ],
            [
             1,
             "#f0f921"
            ]
           ],
           "sequentialminus": [
            [
             0,
             "#0d0887"
            ],
            [
             0.1111111111111111,
             "#46039f"
            ],
            [
             0.2222222222222222,
             "#7201a8"
            ],
            [
             0.3333333333333333,
             "#9c179e"
            ],
            [
             0.4444444444444444,
             "#bd3786"
            ],
            [
             0.5555555555555556,
             "#d8576b"
            ],
            [
             0.6666666666666666,
             "#ed7953"
            ],
            [
             0.7777777777777778,
             "#fb9f3a"
            ],
            [
             0.8888888888888888,
             "#fdca26"
            ],
            [
             1,
             "#f0f921"
            ]
           ]
          },
          "colorway": [
           "#636efa",
           "#EF553B",
           "#00cc96",
           "#ab63fa",
           "#FFA15A",
           "#19d3f3",
           "#FF6692",
           "#B6E880",
           "#FF97FF",
           "#FECB52"
          ],
          "font": {
           "color": "#2a3f5f"
          },
          "geo": {
           "bgcolor": "white",
           "lakecolor": "white",
           "landcolor": "#E5ECF6",
           "showlakes": true,
           "showland": true,
           "subunitcolor": "white"
          },
          "hoverlabel": {
           "align": "left"
          },
          "hovermode": "closest",
          "mapbox": {
           "style": "light"
          },
          "paper_bgcolor": "white",
          "plot_bgcolor": "#E5ECF6",
          "polar": {
           "angularaxis": {
            "gridcolor": "white",
            "linecolor": "white",
            "ticks": ""
           },
           "bgcolor": "#E5ECF6",
           "radialaxis": {
            "gridcolor": "white",
            "linecolor": "white",
            "ticks": ""
           }
          },
          "scene": {
           "xaxis": {
            "backgroundcolor": "#E5ECF6",
            "gridcolor": "white",
            "gridwidth": 2,
            "linecolor": "white",
            "showbackground": true,
            "ticks": "",
            "zerolinecolor": "white"
           },
           "yaxis": {
            "backgroundcolor": "#E5ECF6",
            "gridcolor": "white",
            "gridwidth": 2,
            "linecolor": "white",
            "showbackground": true,
            "ticks": "",
            "zerolinecolor": "white"
           },
           "zaxis": {
            "backgroundcolor": "#E5ECF6",
            "gridcolor": "white",
            "gridwidth": 2,
            "linecolor": "white",
            "showbackground": true,
            "ticks": "",
            "zerolinecolor": "white"
           }
          },
          "shapedefaults": {
           "line": {
            "color": "#2a3f5f"
           }
          },
          "ternary": {
           "aaxis": {
            "gridcolor": "white",
            "linecolor": "white",
            "ticks": ""
           },
           "baxis": {
            "gridcolor": "white",
            "linecolor": "white",
            "ticks": ""
           },
           "bgcolor": "#E5ECF6",
           "caxis": {
            "gridcolor": "white",
            "linecolor": "white",
            "ticks": ""
           }
          },
          "title": {
           "x": 0.05
          },
          "xaxis": {
           "automargin": true,
           "gridcolor": "white",
           "linecolor": "white",
           "ticks": "",
           "title": {
            "standoff": 15
           },
           "zerolinecolor": "white",
           "zerolinewidth": 2
          },
          "yaxis": {
           "automargin": true,
           "gridcolor": "white",
           "linecolor": "white",
           "ticks": "",
           "title": {
            "standoff": 15
           },
           "zerolinecolor": "white",
           "zerolinewidth": 2
          }
         }
        },
        "title": {
         "text": "Half Moons Data"
        },
        "width": 600,
        "xaxis": {
         "anchor": "y",
         "domain": [
          0,
          1
         ],
         "title": {
          "text": "x"
         }
        },
        "yaxis": {
         "anchor": "x",
         "domain": [
          0,
          1
         ],
         "title": {
          "text": "y"
         }
        }
       }
      },
      "text/html": [
       "<div>                            <div id=\"1c793d9e-4b45-480e-af7b-80564b829e21\" class=\"plotly-graph-div\" style=\"height:400px; width:600px;\"></div>            <script type=\"text/javascript\">                require([\"plotly\"], function(Plotly) {                    window.PLOTLYENV=window.PLOTLYENV || {};                                    if (document.getElementById(\"1c793d9e-4b45-480e-af7b-80564b829e21\")) {                    Plotly.newPlot(                        \"1c793d9e-4b45-480e-af7b-80564b829e21\",                        [{\"hovertemplate\":\"x=%{x}<br>y=%{y}<br>color=%{marker.color}<extra></extra>\",\"legendgroup\":\"\",\"marker\":{\"color\":[0,1,0,1,1,1,0,1,1,1,1,1,1,0,0,0,0,0,0,0,0,1,0,1,0,0,0,1,1,1,1,1,1,1,1,0,0,1,1,1,0,1,0,0,0,0,0,0,0,0,1,1,0,0,0,1,0,0,0,1,0,0,1,1,1,1,0,1,0,1,0,0,0,1,1,1,0,1,1,1,0,0,1,0,0,1,1,0,1,1,1,0,0,1,0,1,1,1,0,0],\"coloraxis\":\"coloraxis\",\"symbol\":\"circle\",\"opacity\":0.6,\"size\":8},\"mode\":\"markers\",\"name\":\"\",\"orientation\":\"v\",\"showlegend\":false,\"x\":[-0.0896421249306368,1.6944407377485506,0.9863249991442314,0.04563983514211814,1.021926250098219,1.936213773295864,0.5209575748830121,0.90638685219754,0.029608822826088364,1.9547198985560479,0.0035772937765709174,1.906092678841581,1.2363996952325693,0.6999562632117363,0.8792858341781613,-0.34642341285906186,0.1666821299961281,0.045664371828257916,-0.5043291856769738,0.8859226848076066,-0.9104221277559792,0.29074648491339905,0.9667067548534104,0.7738629621867869,-0.9518326238239864,-0.9853795962731624,0.9108635322985612,2.0090685841524514,1.4854016924323215,1.1153936947160163,0.2123594205278321,1.330904104038684,1.83943406579536,0.5864294291413106,0.00538850577574429,-0.1602861165198733,0.3907503862903387,0.07848965166068854,0.2985883745983594,0.9708413353764876,1.0240491946644052,0.25871335792463956,-0.8997282188654504,-0.881235267600627,0.9702595026112216,0.590076489831811,0.4732516475465305,-0.814626566195911,-0.7746064081960132,0.9403306520543578,1.8479783489579595,0.13474271324438858,0.9860776122314469,-0.5691841700930396,-0.19533561418334242,0.009768140187635298,0.7497857585327027,-0.6033980066105146,0.10238921279010661,0.002447200961781996,0.7931687833547594,-0.403158099890946,0.46788610173799194,0.10044614644722373,1.256018822712383,1.5970592185831494,-0.44681855687043454,1.5728202270449607,0.629537587082058,1.8203484546610622,0.34038459847432223,-0.317802997979491,-0.9941153791651619,1.9933490525074213,2.005336783621573,0.6396714324961216,0.2876337202418518,1.9385648246906797,0.8303083332000412,1.1660033353384376,-0.03733530216049533,-0.7105195341536465,1.3990460499211768,-0.976250881818937,-0.8077720653719678,0.40773598892326207,0.13211002604195415,0.7191049108405698,1.757520877364249,0.7050808547203413,1.715811991330599,-0.6797719868004339,0.22648033859065134,1.5113086922479042,0.8547024750629647,1.9674538538578348,0.5215197859474567,0.405330402471684,-1.0081255303518029,-0.9664438418822612],\"xaxis\":\"x\",\"y\":[0.9949595451971516,-0.23057629561823392,0.11769550084268429,0.17378056991645466,-0.5014779800424884,0.15160052203877425,0.8292576927315356,-0.5082638927586488,0.2536718131022819,0.25206287225702284,0.32410957204438706,0.04735296764158203,-0.48849970455435315,0.763160605655254,0.4395411482841817,0.947530817656506,0.9994805428102295,0.9906988730807976,0.8513236416285705,0.49382679359045933,0.38936545959134455,-0.19565613799277232,0.21924453987926115,-0.47412773857653556,0.23449974910412058,0.041718548795237856,0.3721300756189047,0.47385412653615516,-0.35864567660617996,-0.47586866887666146,-0.10049253756483649,-0.4683301043497641,-0.04381209301738121,-0.4099310424403836,0.4424575245327077,0.9879302596280142,0.9187234377938267,0.13085521691007493,-0.2186054614250441,-0.5057991885070222,0.05860891834399072,-0.16050170972771868,0.4145178622873536,0.4730146867695494,0.2598630835591457,0.8484225624656855,0.9208643066900551,0.5547014568585347,0.6239120828607206,0.3070407087271458,0.008465475339343,-0.0550025294767662,0.02236082875438535,0.8130981895937386,0.9405158499998324,0.4830425532574666,0.6649674721196345,0.7553199776971927,1.0117187486257675,0.3816058595279008,0.60592741658385,0.9183376501691234,-0.3422691962250247,0.043827703002725094,-0.4757315409921278,-0.28616083075558213,0.8903486694852857,-0.3356559001479196,0.7715705936877897,-0.1281938793556679,0.9340269160062071,0.9559153098516283,0.0036245220983242375,0.3596792705159436,0.43728147188404387,-0.45046899526568174,0.9665197984444998,0.19859736908763267,-0.48518191595198334,-0.48737452429035116,1.0117782153262815,0.713641448576356,-0.40403769424026514,0.20687240876263974,0.5453890087046871,-0.29878966269776464,0.005417491605260502,0.6749793874777377,-0.15091909070103773,-0.44160045005220383,-0.207141255686899,0.73483463036736,0.9654832835454884,-0.37784317856409755,0.5481784824952904,0.32278528622452535,-0.39989540039250726,-0.28872819032346575,0.14263892108104795,0.3085601616339797],\"yaxis\":\"y\",\"type\":\"scatter\"}],                        {\"template\":{\"data\":{\"histogram2dcontour\":[{\"type\":\"histogram2dcontour\",\"colorbar\":{\"outlinewidth\":0,\"ticks\":\"\"},\"colorscale\":[[0.0,\"#0d0887\"],[0.1111111111111111,\"#46039f\"],[0.2222222222222222,\"#7201a8\"],[0.3333333333333333,\"#9c179e\"],[0.4444444444444444,\"#bd3786\"],[0.5555555555555556,\"#d8576b\"],[0.6666666666666666,\"#ed7953\"],[0.7777777777777778,\"#fb9f3a\"],[0.8888888888888888,\"#fdca26\"],[1.0,\"#f0f921\"]]}],\"choropleth\":[{\"type\":\"choropleth\",\"colorbar\":{\"outlinewidth\":0,\"ticks\":\"\"}}],\"histogram2d\":[{\"type\":\"histogram2d\",\"colorbar\":{\"outlinewidth\":0,\"ticks\":\"\"},\"colorscale\":[[0.0,\"#0d0887\"],[0.1111111111111111,\"#46039f\"],[0.2222222222222222,\"#7201a8\"],[0.3333333333333333,\"#9c179e\"],[0.4444444444444444,\"#bd3786\"],[0.5555555555555556,\"#d8576b\"],[0.6666666666666666,\"#ed7953\"],[0.7777777777777778,\"#fb9f3a\"],[0.8888888888888888,\"#fdca26\"],[1.0,\"#f0f921\"]]}],\"heatmap\":[{\"type\":\"heatmap\",\"colorbar\":{\"outlinewidth\":0,\"ticks\":\"\"},\"colorscale\":[[0.0,\"#0d0887\"],[0.1111111111111111,\"#46039f\"],[0.2222222222222222,\"#7201a8\"],[0.3333333333333333,\"#9c179e\"],[0.4444444444444444,\"#bd3786\"],[0.5555555555555556,\"#d8576b\"],[0.6666666666666666,\"#ed7953\"],[0.7777777777777778,\"#fb9f3a\"],[0.8888888888888888,\"#fdca26\"],[1.0,\"#f0f921\"]]}],\"heatmapgl\":[{\"type\":\"heatmapgl\",\"colorbar\":{\"outlinewidth\":0,\"ticks\":\"\"},\"colorscale\":[[0.0,\"#0d0887\"],[0.1111111111111111,\"#46039f\"],[0.2222222222222222,\"#7201a8\"],[0.3333333333333333,\"#9c179e\"],[0.4444444444444444,\"#bd3786\"],[0.5555555555555556,\"#d8576b\"],[0.6666666666666666,\"#ed7953\"],[0.7777777777777778,\"#fb9f3a\"],[0.8888888888888888,\"#fdca26\"],[1.0,\"#f0f921\"]]}],\"contourcarpet\":[{\"type\":\"contourcarpet\",\"colorbar\":{\"outlinewidth\":0,\"ticks\":\"\"}}],\"contour\":[{\"type\":\"contour\",\"colorbar\":{\"outlinewidth\":0,\"ticks\":\"\"},\"colorscale\":[[0.0,\"#0d0887\"],[0.1111111111111111,\"#46039f\"],[0.2222222222222222,\"#7201a8\"],[0.3333333333333333,\"#9c179e\"],[0.4444444444444444,\"#bd3786\"],[0.5555555555555556,\"#d8576b\"],[0.6666666666666666,\"#ed7953\"],[0.7777777777777778,\"#fb9f3a\"],[0.8888888888888888,\"#fdca26\"],[1.0,\"#f0f921\"]]}],\"surface\":[{\"type\":\"surface\",\"colorbar\":{\"outlinewidth\":0,\"ticks\":\"\"},\"colorscale\":[[0.0,\"#0d0887\"],[0.1111111111111111,\"#46039f\"],[0.2222222222222222,\"#7201a8\"],[0.3333333333333333,\"#9c179e\"],[0.4444444444444444,\"#bd3786\"],[0.5555555555555556,\"#d8576b\"],[0.6666666666666666,\"#ed7953\"],[0.7777777777777778,\"#fb9f3a\"],[0.8888888888888888,\"#fdca26\"],[1.0,\"#f0f921\"]]}],\"mesh3d\":[{\"type\":\"mesh3d\",\"colorbar\":{\"outlinewidth\":0,\"ticks\":\"\"}}],\"scatter\":[{\"fillpattern\":{\"fillmode\":\"overlay\",\"size\":10,\"solidity\":0.2},\"type\":\"scatter\"}],\"parcoords\":[{\"type\":\"parcoords\",\"line\":{\"colorbar\":{\"outlinewidth\":0,\"ticks\":\"\"}}}],\"scatterpolargl\":[{\"type\":\"scatterpolargl\",\"marker\":{\"colorbar\":{\"outlinewidth\":0,\"ticks\":\"\"}}}],\"bar\":[{\"error_x\":{\"color\":\"#2a3f5f\"},\"error_y\":{\"color\":\"#2a3f5f\"},\"marker\":{\"line\":{\"color\":\"#E5ECF6\",\"width\":0.5},\"pattern\":{\"fillmode\":\"overlay\",\"size\":10,\"solidity\":0.2}},\"type\":\"bar\"}],\"scattergeo\":[{\"type\":\"scattergeo\",\"marker\":{\"colorbar\":{\"outlinewidth\":0,\"ticks\":\"\"}}}],\"scatterpolar\":[{\"type\":\"scatterpolar\",\"marker\":{\"colorbar\":{\"outlinewidth\":0,\"ticks\":\"\"}}}],\"histogram\":[{\"marker\":{\"pattern\":{\"fillmode\":\"overlay\",\"size\":10,\"solidity\":0.2}},\"type\":\"histogram\"}],\"scattergl\":[{\"type\":\"scattergl\",\"marker\":{\"colorbar\":{\"outlinewidth\":0,\"ticks\":\"\"}}}],\"scatter3d\":[{\"type\":\"scatter3d\",\"line\":{\"colorbar\":{\"outlinewidth\":0,\"ticks\":\"\"}},\"marker\":{\"colorbar\":{\"outlinewidth\":0,\"ticks\":\"\"}}}],\"scattermapbox\":[{\"type\":\"scattermapbox\",\"marker\":{\"colorbar\":{\"outlinewidth\":0,\"ticks\":\"\"}}}],\"scatterternary\":[{\"type\":\"scatterternary\",\"marker\":{\"colorbar\":{\"outlinewidth\":0,\"ticks\":\"\"}}}],\"scattercarpet\":[{\"type\":\"scattercarpet\",\"marker\":{\"colorbar\":{\"outlinewidth\":0,\"ticks\":\"\"}}}],\"carpet\":[{\"aaxis\":{\"endlinecolor\":\"#2a3f5f\",\"gridcolor\":\"white\",\"linecolor\":\"white\",\"minorgridcolor\":\"white\",\"startlinecolor\":\"#2a3f5f\"},\"baxis\":{\"endlinecolor\":\"#2a3f5f\",\"gridcolor\":\"white\",\"linecolor\":\"white\",\"minorgridcolor\":\"white\",\"startlinecolor\":\"#2a3f5f\"},\"type\":\"carpet\"}],\"table\":[{\"cells\":{\"fill\":{\"color\":\"#EBF0F8\"},\"line\":{\"color\":\"white\"}},\"header\":{\"fill\":{\"color\":\"#C8D4E3\"},\"line\":{\"color\":\"white\"}},\"type\":\"table\"}],\"barpolar\":[{\"marker\":{\"line\":{\"color\":\"#E5ECF6\",\"width\":0.5},\"pattern\":{\"fillmode\":\"overlay\",\"size\":10,\"solidity\":0.2}},\"type\":\"barpolar\"}],\"pie\":[{\"automargin\":true,\"type\":\"pie\"}]},\"layout\":{\"autotypenumbers\":\"strict\",\"colorway\":[\"#636efa\",\"#EF553B\",\"#00cc96\",\"#ab63fa\",\"#FFA15A\",\"#19d3f3\",\"#FF6692\",\"#B6E880\",\"#FF97FF\",\"#FECB52\"],\"font\":{\"color\":\"#2a3f5f\"},\"hovermode\":\"closest\",\"hoverlabel\":{\"align\":\"left\"},\"paper_bgcolor\":\"white\",\"plot_bgcolor\":\"#E5ECF6\",\"polar\":{\"bgcolor\":\"#E5ECF6\",\"angularaxis\":{\"gridcolor\":\"white\",\"linecolor\":\"white\",\"ticks\":\"\"},\"radialaxis\":{\"gridcolor\":\"white\",\"linecolor\":\"white\",\"ticks\":\"\"}},\"ternary\":{\"bgcolor\":\"#E5ECF6\",\"aaxis\":{\"gridcolor\":\"white\",\"linecolor\":\"white\",\"ticks\":\"\"},\"baxis\":{\"gridcolor\":\"white\",\"linecolor\":\"white\",\"ticks\":\"\"},\"caxis\":{\"gridcolor\":\"white\",\"linecolor\":\"white\",\"ticks\":\"\"}},\"coloraxis\":{\"colorbar\":{\"outlinewidth\":0,\"ticks\":\"\"}},\"colorscale\":{\"sequential\":[[0.0,\"#0d0887\"],[0.1111111111111111,\"#46039f\"],[0.2222222222222222,\"#7201a8\"],[0.3333333333333333,\"#9c179e\"],[0.4444444444444444,\"#bd3786\"],[0.5555555555555556,\"#d8576b\"],[0.6666666666666666,\"#ed7953\"],[0.7777777777777778,\"#fb9f3a\"],[0.8888888888888888,\"#fdca26\"],[1.0,\"#f0f921\"]],\"sequentialminus\":[[0.0,\"#0d0887\"],[0.1111111111111111,\"#46039f\"],[0.2222222222222222,\"#7201a8\"],[0.3333333333333333,\"#9c179e\"],[0.4444444444444444,\"#bd3786\"],[0.5555555555555556,\"#d8576b\"],[0.6666666666666666,\"#ed7953\"],[0.7777777777777778,\"#fb9f3a\"],[0.8888888888888888,\"#fdca26\"],[1.0,\"#f0f921\"]],\"diverging\":[[0,\"#8e0152\"],[0.1,\"#c51b7d\"],[0.2,\"#de77ae\"],[0.3,\"#f1b6da\"],[0.4,\"#fde0ef\"],[0.5,\"#f7f7f7\"],[0.6,\"#e6f5d0\"],[0.7,\"#b8e186\"],[0.8,\"#7fbc41\"],[0.9,\"#4d9221\"],[1,\"#276419\"]]},\"xaxis\":{\"gridcolor\":\"white\",\"linecolor\":\"white\",\"ticks\":\"\",\"title\":{\"standoff\":15},\"zerolinecolor\":\"white\",\"automargin\":true,\"zerolinewidth\":2},\"yaxis\":{\"gridcolor\":\"white\",\"linecolor\":\"white\",\"ticks\":\"\",\"title\":{\"standoff\":15},\"zerolinecolor\":\"white\",\"automargin\":true,\"zerolinewidth\":2},\"scene\":{\"xaxis\":{\"backgroundcolor\":\"#E5ECF6\",\"gridcolor\":\"white\",\"linecolor\":\"white\",\"showbackground\":true,\"ticks\":\"\",\"zerolinecolor\":\"white\",\"gridwidth\":2},\"yaxis\":{\"backgroundcolor\":\"#E5ECF6\",\"gridcolor\":\"white\",\"linecolor\":\"white\",\"showbackground\":true,\"ticks\":\"\",\"zerolinecolor\":\"white\",\"gridwidth\":2},\"zaxis\":{\"backgroundcolor\":\"#E5ECF6\",\"gridcolor\":\"white\",\"linecolor\":\"white\",\"showbackground\":true,\"ticks\":\"\",\"zerolinecolor\":\"white\",\"gridwidth\":2}},\"shapedefaults\":{\"line\":{\"color\":\"#2a3f5f\"}},\"annotationdefaults\":{\"arrowcolor\":\"#2a3f5f\",\"arrowhead\":0,\"arrowwidth\":1},\"geo\":{\"bgcolor\":\"white\",\"landcolor\":\"#E5ECF6\",\"subunitcolor\":\"white\",\"showland\":true,\"showlakes\":true,\"lakecolor\":\"white\"},\"title\":{\"x\":0.05},\"mapbox\":{\"style\":\"light\"}}},\"xaxis\":{\"anchor\":\"y\",\"domain\":[0.0,1.0],\"title\":{\"text\":\"x\"}},\"yaxis\":{\"anchor\":\"x\",\"domain\":[0.0,1.0],\"title\":{\"text\":\"y\"}},\"coloraxis\":{\"colorbar\":{\"title\":{\"text\":\"color\"}},\"colorscale\":[[0.0,\"rgb(0,0,255)\"],[1.0,\"rgb(255,0,0)\"]],\"showscale\":false},\"legend\":{\"tracegroupgap\":0},\"margin\":{\"t\":60},\"width\":600,\"height\":400,\"title\":{\"text\":\"Half Moons Data\"}},                        {\"responsive\": true}                    ).then(function(){\n",
       "                            \n",
       "var gd = document.getElementById('1c793d9e-4b45-480e-af7b-80564b829e21');\n",
       "var x = new MutationObserver(function (mutations, observer) {{\n",
       "        var display = window.getComputedStyle(gd).display;\n",
       "        if (!display || display === 'none') {{\n",
       "            console.log([gd, 'removed!']);\n",
       "            Plotly.purge(gd);\n",
       "            observer.disconnect();\n",
       "        }}\n",
       "}});\n",
       "\n",
       "// Listen for the removal of the full notebook cells\n",
       "var notebookContainer = gd.closest('#notebook-container');\n",
       "if (notebookContainer) {{\n",
       "    x.observe(notebookContainer, {childList: true});\n",
       "}}\n",
       "\n",
       "// Listen for the clearing of the current output cell\n",
       "var outputEl = gd.closest('.output');\n",
       "if (outputEl) {{\n",
       "    x.observe(outputEl, {childList: true});\n",
       "}}\n",
       "\n",
       "                        })                };                });            </script>        </div>"
      ]
     },
     "metadata": {},
     "output_type": "display_data"
    }
   ],
   "source": [
    "# Plotting the data\n",
    "figM = px.scatter(x=Xm[:, 0], y=Xm[:, 1], \n",
    "                  color=ym, color_continuous_scale='bluered')\n",
    "figM.update_traces(marker=dict(size=8, opacity=0.6))\n",
    "figM.update_layout(coloraxis_showscale=False, \n",
    "                   width=600, height=400, \n",
    "                    title='Half Moons Data')             \n",
    "figM.show()"
   ]
  },
  {
   "cell_type": "markdown",
   "metadata": {},
   "source": [
    "This is an example of nonlinearly separable data.\n",
    "\n",
    "Since the two half-moon shapes are linearly inseparable, we expect that the \"classic\" PCA will fail to give us a \"good\" representation of the data in the principal components space. \n",
    "\n",
    "Let's apply PCA!"
   ]
  },
  {
   "cell_type": "code",
   "execution_count": 9,
   "metadata": {},
   "outputs": [],
   "source": [
    "dataM = pca.fit_transform(Xm)"
   ]
  },
  {
   "cell_type": "code",
   "execution_count": 10,
   "metadata": {},
   "outputs": [
    {
     "data": {
      "application/vnd.plotly.v1+json": {
       "config": {
        "plotlyServerURL": "https://plot.ly"
       },
       "data": [
        {
         "hovertemplate": "x=%{x}<br>y=%{y}<br>color=%{marker.color}<extra></extra>",
         "legendgroup": "",
         "marker": {
          "color": [
           0,
           1,
           0,
           1,
           1,
           1,
           0,
           1,
           1,
           1,
           1,
           1,
           1,
           0,
           0,
           0,
           0,
           0,
           0,
           0,
           0,
           1,
           0,
           1,
           0,
           0,
           0,
           1,
           1,
           1,
           1,
           1,
           1,
           1,
           1,
           0,
           0,
           1,
           1,
           1,
           0,
           1,
           0,
           0,
           0,
           0,
           0,
           0,
           0,
           0,
           1,
           1,
           0,
           0,
           0,
           1,
           0,
           0,
           0,
           1,
           0,
           0,
           1,
           1,
           1,
           1,
           0,
           1,
           0,
           1,
           0,
           0,
           0,
           1,
           1,
           1,
           0,
           1,
           1,
           1,
           0,
           0,
           1,
           0,
           0,
           1,
           1,
           0,
           1,
           1,
           1,
           0,
           0,
           1,
           0,
           1,
           1,
           1,
           0,
           0
          ],
          "coloraxis": "coloraxis",
          "opacity": 0.6,
          "size": 8,
          "symbol": "circle"
         },
         "mode": "markers",
         "name": "",
         "orientation": "v",
         "showlegend": false,
         "type": "scatter",
         "x": [
          0.7893250579356409,
          -1.283797712100241,
          -0.5031510904483923,
          0.40972142843321496,
          -0.7261445581207663,
          -1.3973049155938781,
          0.15729180626253964,
          -0.6181973911892222,
          0.449385025674119,
          -1.3842461282599154,
          0.49568431417281017,
          -1.4004596193642644,
          -0.9264081219438751,
          -0.033341083223827825,
          -0.30293532673449763,
          1.0193541998268971,
          0.5466272691916596,
          0.6591815742447907,
          1.1403348195638987,
          -0.2926764907539346,
          1.3859467199844824,
          0.06350017443093632,
          -0.45345743725396864,
          -0.4815797264105217,
          1.3780834939738436,
          1.351153184930729,
          -0.35359148104171917,
          -1.3682641883079292,
          -1.1238572753064373,
          -0.8073256601283768,
          0.167204907841609,
          -1.0102379131485992,
          -1.3648270273828196,
          -0.28349533461283694,
          0.5301026128739751,
          0.8544473506248634,
          0.308600879825743,
          0.3653317692798306,
          0.049024297815655475,
          -0.67881988082665,
          -0.5571178308356999,
          0.1047389523678483,
          1.3834451485762786,
          1.3837003805170922,
          -0.44443571694754797,
          0.09732788818137302,
          0.2306948905415531,
          1.3452206844783705,
          1.3282491131545167,
          -0.40152884943127914,
          -1.3569977557252875,
          0.2550059755645499,
          -0.5320303414630697,
          1.190417490493217,
          0.8733422079755397,
          0.5383267153211179,
          -0.1107777791686273,
          1.2053515471741567,
          0.6115861202251481,
          0.5143195484850646,
          -0.17011879177710063,
          1.0644629395779197,
          -0.14995170827339027,
          0.31784638883023625,
          -0.941190609782159,
          -1.208043839498866,
          1.0974898182600903,
          -1.2000784463605767,
          0.036281749390104555,
          -1.3724230750381556,
          0.36123408525388606,
          0.9946617015901406,
          1.3478378598335043,
          -1.3881641842598242,
          -1.375879812034482,
          -0.346573851110545,
          0.4213880082950353,
          -1.3851910016342408,
          -0.5387043466732248,
          -0.859031289930335,
          0.7446535223849137,
          1.2946269411761793,
          -1.0554897700542403,
          1.3928979042553973,
          1.3358496706440024,
          -0.07939676730902168,
          0.27596491480576596,
          -0.07850509667481886,
          -1.319537242654039,
          -0.4061499511735607,
          -1.2969909985940955,
          1.2718206546711626,
          0.479303268183897,
          -1.154389418881796,
          -0.246349028396076,
          -1.3747733886568614,
          -0.21862187535926214,
          -0.07403337409831749,
          1.403633111733165,
          1.4146144151207112
         ],
         "xaxis": "x",
         "y": [
          -0.5303028092479671,
          0.09183201407201867,
          -0.023545607557183924,
          0.21033016506033708,
          0.5551746719184882,
          -0.3459229806764767,
          -0.5589919378959601,
          0.5969216506127137,
          0.13915149446608505,
          -0.4472374838677078,
          0.08002878923402586,
          -0.23745694556391023,
          0.4773171141137974,
          -0.5507180760738275,
          -0.2973259055593086,
          -0.4067200114681885,
          -0.6128881979190909,
          -0.5675677397437742,
          -0.266885310994582,
          -0.3510449464751743,
          0.29702215830274054,
          0.4872626373166591,
          -0.11425185690362584,
          0.6048885895695414,
          0.4571358277567154,
          0.65095210418334,
          -0.24277906543754416,
          -0.6750306305954763,
          0.27762260988236465,
          0.5022442581793239,
          0.42058452263413254,
          0.42924984705212055,
          -0.1302899853248414,
          0.6010002954900711,
          -0.03321828164024069,
          -0.5020349582831024,
          -0.6044187555063102,
          0.24117257962652203,
          0.506720686449326,
          0.5748905607832661,
          0.021197325862387137,
          0.4635704815348216,
          0.26980552388129164,
          0.2084556862479259,
          -0.1540148632036787,
          -0.5983498489683401,
          -0.6316528933143065,
          0.11032943846905226,
          0.03220332526257945,
          -0.18979845067180104,
          -0.1826794063310638,
          0.4009716036242557,
          0.06731004588991515,
          -0.21067961502468083,
          -0.4461817767036424,
          -0.07320190195044052,
          -0.47243379796743573,
          -0.14521296450506777,
          -0.604906935058311,
          0.02562448585383103,
          -0.42946335204258274,
          -0.36159499248063887,
          0.5727736100801348,
          0.3173369708061435,
          0.45916734229341616,
          0.17450094177336908,
          -0.3216094472437506,
          0.22903389618712866,
          -0.5372207050195712,
          -0.04411083194058167,
          -0.6036096114624638,
          -0.42344449615611246,
          0.6898940788664634,
          -0.5615097444841984,
          -0.6390655408727961,
          0.6233416763101586,
          -0.6184402589940158,
          -0.39139257671353617,
          0.5981764732033147,
          0.497744449348473,
          -0.5622922650851591,
          -0.07281113111230025,
          0.3472187052038444,
          0.4909005209414875,
          0.1171036522152827,
          0.5497408895962809,
          0.3442421328410602,
          -0.47259759326501055,
          -0.0032840217208505926,
          0.5949210515599653,
          0.06298987878798369,
          -0.10238199377329955,
          -0.5987772703473507,
          0.2879910682809189,
          -0.3932654843067578,
          -0.5184700653135003,
          0.6112672412550632,
          0.5408947556507561,
          0.5617996710015849,
          0.3910758232350632
         ],
         "yaxis": "y"
        }
       ],
       "layout": {
        "coloraxis": {
         "colorbar": {
          "title": {
           "text": "color"
          }
         },
         "colorscale": [
          [
           0,
           "rgb(0,0,255)"
          ],
          [
           1,
           "rgb(255,0,0)"
          ]
         ],
         "showscale": false
        },
        "height": 400,
        "legend": {
         "tracegroupgap": 0
        },
        "margin": {
         "t": 60
        },
        "template": {
         "data": {
          "bar": [
           {
            "error_x": {
             "color": "#2a3f5f"
            },
            "error_y": {
             "color": "#2a3f5f"
            },
            "marker": {
             "line": {
              "color": "#E5ECF6",
              "width": 0.5
             },
             "pattern": {
              "fillmode": "overlay",
              "size": 10,
              "solidity": 0.2
             }
            },
            "type": "bar"
           }
          ],
          "barpolar": [
           {
            "marker": {
             "line": {
              "color": "#E5ECF6",
              "width": 0.5
             },
             "pattern": {
              "fillmode": "overlay",
              "size": 10,
              "solidity": 0.2
             }
            },
            "type": "barpolar"
           }
          ],
          "carpet": [
           {
            "aaxis": {
             "endlinecolor": "#2a3f5f",
             "gridcolor": "white",
             "linecolor": "white",
             "minorgridcolor": "white",
             "startlinecolor": "#2a3f5f"
            },
            "baxis": {
             "endlinecolor": "#2a3f5f",
             "gridcolor": "white",
             "linecolor": "white",
             "minorgridcolor": "white",
             "startlinecolor": "#2a3f5f"
            },
            "type": "carpet"
           }
          ],
          "choropleth": [
           {
            "colorbar": {
             "outlinewidth": 0,
             "ticks": ""
            },
            "type": "choropleth"
           }
          ],
          "contour": [
           {
            "colorbar": {
             "outlinewidth": 0,
             "ticks": ""
            },
            "colorscale": [
             [
              0,
              "#0d0887"
             ],
             [
              0.1111111111111111,
              "#46039f"
             ],
             [
              0.2222222222222222,
              "#7201a8"
             ],
             [
              0.3333333333333333,
              "#9c179e"
             ],
             [
              0.4444444444444444,
              "#bd3786"
             ],
             [
              0.5555555555555556,
              "#d8576b"
             ],
             [
              0.6666666666666666,
              "#ed7953"
             ],
             [
              0.7777777777777778,
              "#fb9f3a"
             ],
             [
              0.8888888888888888,
              "#fdca26"
             ],
             [
              1,
              "#f0f921"
             ]
            ],
            "type": "contour"
           }
          ],
          "contourcarpet": [
           {
            "colorbar": {
             "outlinewidth": 0,
             "ticks": ""
            },
            "type": "contourcarpet"
           }
          ],
          "heatmap": [
           {
            "colorbar": {
             "outlinewidth": 0,
             "ticks": ""
            },
            "colorscale": [
             [
              0,
              "#0d0887"
             ],
             [
              0.1111111111111111,
              "#46039f"
             ],
             [
              0.2222222222222222,
              "#7201a8"
             ],
             [
              0.3333333333333333,
              "#9c179e"
             ],
             [
              0.4444444444444444,
              "#bd3786"
             ],
             [
              0.5555555555555556,
              "#d8576b"
             ],
             [
              0.6666666666666666,
              "#ed7953"
             ],
             [
              0.7777777777777778,
              "#fb9f3a"
             ],
             [
              0.8888888888888888,
              "#fdca26"
             ],
             [
              1,
              "#f0f921"
             ]
            ],
            "type": "heatmap"
           }
          ],
          "heatmapgl": [
           {
            "colorbar": {
             "outlinewidth": 0,
             "ticks": ""
            },
            "colorscale": [
             [
              0,
              "#0d0887"
             ],
             [
              0.1111111111111111,
              "#46039f"
             ],
             [
              0.2222222222222222,
              "#7201a8"
             ],
             [
              0.3333333333333333,
              "#9c179e"
             ],
             [
              0.4444444444444444,
              "#bd3786"
             ],
             [
              0.5555555555555556,
              "#d8576b"
             ],
             [
              0.6666666666666666,
              "#ed7953"
             ],
             [
              0.7777777777777778,
              "#fb9f3a"
             ],
             [
              0.8888888888888888,
              "#fdca26"
             ],
             [
              1,
              "#f0f921"
             ]
            ],
            "type": "heatmapgl"
           }
          ],
          "histogram": [
           {
            "marker": {
             "pattern": {
              "fillmode": "overlay",
              "size": 10,
              "solidity": 0.2
             }
            },
            "type": "histogram"
           }
          ],
          "histogram2d": [
           {
            "colorbar": {
             "outlinewidth": 0,
             "ticks": ""
            },
            "colorscale": [
             [
              0,
              "#0d0887"
             ],
             [
              0.1111111111111111,
              "#46039f"
             ],
             [
              0.2222222222222222,
              "#7201a8"
             ],
             [
              0.3333333333333333,
              "#9c179e"
             ],
             [
              0.4444444444444444,
              "#bd3786"
             ],
             [
              0.5555555555555556,
              "#d8576b"
             ],
             [
              0.6666666666666666,
              "#ed7953"
             ],
             [
              0.7777777777777778,
              "#fb9f3a"
             ],
             [
              0.8888888888888888,
              "#fdca26"
             ],
             [
              1,
              "#f0f921"
             ]
            ],
            "type": "histogram2d"
           }
          ],
          "histogram2dcontour": [
           {
            "colorbar": {
             "outlinewidth": 0,
             "ticks": ""
            },
            "colorscale": [
             [
              0,
              "#0d0887"
             ],
             [
              0.1111111111111111,
              "#46039f"
             ],
             [
              0.2222222222222222,
              "#7201a8"
             ],
             [
              0.3333333333333333,
              "#9c179e"
             ],
             [
              0.4444444444444444,
              "#bd3786"
             ],
             [
              0.5555555555555556,
              "#d8576b"
             ],
             [
              0.6666666666666666,
              "#ed7953"
             ],
             [
              0.7777777777777778,
              "#fb9f3a"
             ],
             [
              0.8888888888888888,
              "#fdca26"
             ],
             [
              1,
              "#f0f921"
             ]
            ],
            "type": "histogram2dcontour"
           }
          ],
          "mesh3d": [
           {
            "colorbar": {
             "outlinewidth": 0,
             "ticks": ""
            },
            "type": "mesh3d"
           }
          ],
          "parcoords": [
           {
            "line": {
             "colorbar": {
              "outlinewidth": 0,
              "ticks": ""
             }
            },
            "type": "parcoords"
           }
          ],
          "pie": [
           {
            "automargin": true,
            "type": "pie"
           }
          ],
          "scatter": [
           {
            "fillpattern": {
             "fillmode": "overlay",
             "size": 10,
             "solidity": 0.2
            },
            "type": "scatter"
           }
          ],
          "scatter3d": [
           {
            "line": {
             "colorbar": {
              "outlinewidth": 0,
              "ticks": ""
             }
            },
            "marker": {
             "colorbar": {
              "outlinewidth": 0,
              "ticks": ""
             }
            },
            "type": "scatter3d"
           }
          ],
          "scattercarpet": [
           {
            "marker": {
             "colorbar": {
              "outlinewidth": 0,
              "ticks": ""
             }
            },
            "type": "scattercarpet"
           }
          ],
          "scattergeo": [
           {
            "marker": {
             "colorbar": {
              "outlinewidth": 0,
              "ticks": ""
             }
            },
            "type": "scattergeo"
           }
          ],
          "scattergl": [
           {
            "marker": {
             "colorbar": {
              "outlinewidth": 0,
              "ticks": ""
             }
            },
            "type": "scattergl"
           }
          ],
          "scattermapbox": [
           {
            "marker": {
             "colorbar": {
              "outlinewidth": 0,
              "ticks": ""
             }
            },
            "type": "scattermapbox"
           }
          ],
          "scatterpolar": [
           {
            "marker": {
             "colorbar": {
              "outlinewidth": 0,
              "ticks": ""
             }
            },
            "type": "scatterpolar"
           }
          ],
          "scatterpolargl": [
           {
            "marker": {
             "colorbar": {
              "outlinewidth": 0,
              "ticks": ""
             }
            },
            "type": "scatterpolargl"
           }
          ],
          "scatterternary": [
           {
            "marker": {
             "colorbar": {
              "outlinewidth": 0,
              "ticks": ""
             }
            },
            "type": "scatterternary"
           }
          ],
          "surface": [
           {
            "colorbar": {
             "outlinewidth": 0,
             "ticks": ""
            },
            "colorscale": [
             [
              0,
              "#0d0887"
             ],
             [
              0.1111111111111111,
              "#46039f"
             ],
             [
              0.2222222222222222,
              "#7201a8"
             ],
             [
              0.3333333333333333,
              "#9c179e"
             ],
             [
              0.4444444444444444,
              "#bd3786"
             ],
             [
              0.5555555555555556,
              "#d8576b"
             ],
             [
              0.6666666666666666,
              "#ed7953"
             ],
             [
              0.7777777777777778,
              "#fb9f3a"
             ],
             [
              0.8888888888888888,
              "#fdca26"
             ],
             [
              1,
              "#f0f921"
             ]
            ],
            "type": "surface"
           }
          ],
          "table": [
           {
            "cells": {
             "fill": {
              "color": "#EBF0F8"
             },
             "line": {
              "color": "white"
             }
            },
            "header": {
             "fill": {
              "color": "#C8D4E3"
             },
             "line": {
              "color": "white"
             }
            },
            "type": "table"
           }
          ]
         },
         "layout": {
          "annotationdefaults": {
           "arrowcolor": "#2a3f5f",
           "arrowhead": 0,
           "arrowwidth": 1
          },
          "autotypenumbers": "strict",
          "coloraxis": {
           "colorbar": {
            "outlinewidth": 0,
            "ticks": ""
           }
          },
          "colorscale": {
           "diverging": [
            [
             0,
             "#8e0152"
            ],
            [
             0.1,
             "#c51b7d"
            ],
            [
             0.2,
             "#de77ae"
            ],
            [
             0.3,
             "#f1b6da"
            ],
            [
             0.4,
             "#fde0ef"
            ],
            [
             0.5,
             "#f7f7f7"
            ],
            [
             0.6,
             "#e6f5d0"
            ],
            [
             0.7,
             "#b8e186"
            ],
            [
             0.8,
             "#7fbc41"
            ],
            [
             0.9,
             "#4d9221"
            ],
            [
             1,
             "#276419"
            ]
           ],
           "sequential": [
            [
             0,
             "#0d0887"
            ],
            [
             0.1111111111111111,
             "#46039f"
            ],
            [
             0.2222222222222222,
             "#7201a8"
            ],
            [
             0.3333333333333333,
             "#9c179e"
            ],
            [
             0.4444444444444444,
             "#bd3786"
            ],
            [
             0.5555555555555556,
             "#d8576b"
            ],
            [
             0.6666666666666666,
             "#ed7953"
            ],
            [
             0.7777777777777778,
             "#fb9f3a"
            ],
            [
             0.8888888888888888,
             "#fdca26"
            ],
            [
             1,
             "#f0f921"
            ]
           ],
           "sequentialminus": [
            [
             0,
             "#0d0887"
            ],
            [
             0.1111111111111111,
             "#46039f"
            ],
            [
             0.2222222222222222,
             "#7201a8"
            ],
            [
             0.3333333333333333,
             "#9c179e"
            ],
            [
             0.4444444444444444,
             "#bd3786"
            ],
            [
             0.5555555555555556,
             "#d8576b"
            ],
            [
             0.6666666666666666,
             "#ed7953"
            ],
            [
             0.7777777777777778,
             "#fb9f3a"
            ],
            [
             0.8888888888888888,
             "#fdca26"
            ],
            [
             1,
             "#f0f921"
            ]
           ]
          },
          "colorway": [
           "#636efa",
           "#EF553B",
           "#00cc96",
           "#ab63fa",
           "#FFA15A",
           "#19d3f3",
           "#FF6692",
           "#B6E880",
           "#FF97FF",
           "#FECB52"
          ],
          "font": {
           "color": "#2a3f5f"
          },
          "geo": {
           "bgcolor": "white",
           "lakecolor": "white",
           "landcolor": "#E5ECF6",
           "showlakes": true,
           "showland": true,
           "subunitcolor": "white"
          },
          "hoverlabel": {
           "align": "left"
          },
          "hovermode": "closest",
          "mapbox": {
           "style": "light"
          },
          "paper_bgcolor": "white",
          "plot_bgcolor": "#E5ECF6",
          "polar": {
           "angularaxis": {
            "gridcolor": "white",
            "linecolor": "white",
            "ticks": ""
           },
           "bgcolor": "#E5ECF6",
           "radialaxis": {
            "gridcolor": "white",
            "linecolor": "white",
            "ticks": ""
           }
          },
          "scene": {
           "xaxis": {
            "backgroundcolor": "#E5ECF6",
            "gridcolor": "white",
            "gridwidth": 2,
            "linecolor": "white",
            "showbackground": true,
            "ticks": "",
            "zerolinecolor": "white"
           },
           "yaxis": {
            "backgroundcolor": "#E5ECF6",
            "gridcolor": "white",
            "gridwidth": 2,
            "linecolor": "white",
            "showbackground": true,
            "ticks": "",
            "zerolinecolor": "white"
           },
           "zaxis": {
            "backgroundcolor": "#E5ECF6",
            "gridcolor": "white",
            "gridwidth": 2,
            "linecolor": "white",
            "showbackground": true,
            "ticks": "",
            "zerolinecolor": "white"
           }
          },
          "shapedefaults": {
           "line": {
            "color": "#2a3f5f"
           }
          },
          "ternary": {
           "aaxis": {
            "gridcolor": "white",
            "linecolor": "white",
            "ticks": ""
           },
           "baxis": {
            "gridcolor": "white",
            "linecolor": "white",
            "ticks": ""
           },
           "bgcolor": "#E5ECF6",
           "caxis": {
            "gridcolor": "white",
            "linecolor": "white",
            "ticks": ""
           }
          },
          "title": {
           "x": 0.05
          },
          "xaxis": {
           "automargin": true,
           "gridcolor": "white",
           "linecolor": "white",
           "ticks": "",
           "title": {
            "standoff": 15
           },
           "zerolinecolor": "white",
           "zerolinewidth": 2
          },
          "yaxis": {
           "automargin": true,
           "gridcolor": "white",
           "linecolor": "white",
           "ticks": "",
           "title": {
            "standoff": 15
           },
           "zerolinecolor": "white",
           "zerolinewidth": 2
          }
         }
        },
        "title": {
         "text": "Half Moons Data (PCA: 2 components)"
        },
        "width": 600,
        "xaxis": {
         "anchor": "y",
         "domain": [
          0,
          1
         ],
         "title": {
          "text": "Principal Component 1"
         }
        },
        "yaxis": {
         "anchor": "x",
         "domain": [
          0,
          1
         ],
         "title": {
          "text": "Principal Component 2"
         }
        }
       }
      },
      "text/html": [
       "<div>                            <div id=\"dedde530-0fd0-495c-90b9-9c5dd035a5e1\" class=\"plotly-graph-div\" style=\"height:400px; width:600px;\"></div>            <script type=\"text/javascript\">                require([\"plotly\"], function(Plotly) {                    window.PLOTLYENV=window.PLOTLYENV || {};                                    if (document.getElementById(\"dedde530-0fd0-495c-90b9-9c5dd035a5e1\")) {                    Plotly.newPlot(                        \"dedde530-0fd0-495c-90b9-9c5dd035a5e1\",                        [{\"hovertemplate\":\"x=%{x}<br>y=%{y}<br>color=%{marker.color}<extra></extra>\",\"legendgroup\":\"\",\"marker\":{\"color\":[0,1,0,1,1,1,0,1,1,1,1,1,1,0,0,0,0,0,0,0,0,1,0,1,0,0,0,1,1,1,1,1,1,1,1,0,0,1,1,1,0,1,0,0,0,0,0,0,0,0,1,1,0,0,0,1,0,0,0,1,0,0,1,1,1,1,0,1,0,1,0,0,0,1,1,1,0,1,1,1,0,0,1,0,0,1,1,0,1,1,1,0,0,1,0,1,1,1,0,0],\"coloraxis\":\"coloraxis\",\"symbol\":\"circle\",\"opacity\":0.6,\"size\":8},\"mode\":\"markers\",\"name\":\"\",\"orientation\":\"v\",\"showlegend\":false,\"x\":[0.7893250579356409,-1.283797712100241,-0.5031510904483923,0.40972142843321496,-0.7261445581207663,-1.3973049155938781,0.15729180626253964,-0.6181973911892222,0.449385025674119,-1.3842461282599154,0.49568431417281017,-1.4004596193642644,-0.9264081219438751,-0.033341083223827825,-0.30293532673449763,1.0193541998268971,0.5466272691916596,0.6591815742447907,1.1403348195638987,-0.2926764907539346,1.3859467199844824,0.06350017443093632,-0.45345743725396864,-0.4815797264105217,1.3780834939738436,1.351153184930729,-0.35359148104171917,-1.3682641883079292,-1.1238572753064373,-0.8073256601283768,0.167204907841609,-1.0102379131485992,-1.3648270273828196,-0.28349533461283694,0.5301026128739751,0.8544473506248634,0.308600879825743,0.3653317692798306,0.049024297815655475,-0.67881988082665,-0.5571178308356999,0.1047389523678483,1.3834451485762786,1.3837003805170922,-0.44443571694754797,0.09732788818137302,0.2306948905415531,1.3452206844783705,1.3282491131545167,-0.40152884943127914,-1.3569977557252875,0.2550059755645499,-0.5320303414630697,1.190417490493217,0.8733422079755397,0.5383267153211179,-0.1107777791686273,1.2053515471741567,0.6115861202251481,0.5143195484850646,-0.17011879177710063,1.0644629395779197,-0.14995170827339027,0.31784638883023625,-0.941190609782159,-1.208043839498866,1.0974898182600903,-1.2000784463605767,0.036281749390104555,-1.3724230750381556,0.36123408525388606,0.9946617015901406,1.3478378598335043,-1.3881641842598242,-1.375879812034482,-0.346573851110545,0.4213880082950353,-1.3851910016342408,-0.5387043466732248,-0.859031289930335,0.7446535223849137,1.2946269411761793,-1.0554897700542403,1.3928979042553973,1.3358496706440024,-0.07939676730902168,0.27596491480576596,-0.07850509667481886,-1.319537242654039,-0.4061499511735607,-1.2969909985940955,1.2718206546711626,0.479303268183897,-1.154389418881796,-0.246349028396076,-1.3747733886568614,-0.21862187535926214,-0.07403337409831749,1.403633111733165,1.4146144151207112],\"xaxis\":\"x\",\"y\":[-0.5303028092479671,0.09183201407201867,-0.023545607557183924,0.21033016506033708,0.5551746719184882,-0.3459229806764767,-0.5589919378959601,0.5969216506127137,0.13915149446608505,-0.4472374838677078,0.08002878923402586,-0.23745694556391023,0.4773171141137974,-0.5507180760738275,-0.2973259055593086,-0.4067200114681885,-0.6128881979190909,-0.5675677397437742,-0.266885310994582,-0.3510449464751743,0.29702215830274054,0.4872626373166591,-0.11425185690362584,0.6048885895695414,0.4571358277567154,0.65095210418334,-0.24277906543754416,-0.6750306305954763,0.27762260988236465,0.5022442581793239,0.42058452263413254,0.42924984705212055,-0.1302899853248414,0.6010002954900711,-0.03321828164024069,-0.5020349582831024,-0.6044187555063102,0.24117257962652203,0.506720686449326,0.5748905607832661,0.021197325862387137,0.4635704815348216,0.26980552388129164,0.2084556862479259,-0.1540148632036787,-0.5983498489683401,-0.6316528933143065,0.11032943846905226,0.03220332526257945,-0.18979845067180104,-0.1826794063310638,0.4009716036242557,0.06731004588991515,-0.21067961502468083,-0.4461817767036424,-0.07320190195044052,-0.47243379796743573,-0.14521296450506777,-0.604906935058311,0.02562448585383103,-0.42946335204258274,-0.36159499248063887,0.5727736100801348,0.3173369708061435,0.45916734229341616,0.17450094177336908,-0.3216094472437506,0.22903389618712866,-0.5372207050195712,-0.04411083194058167,-0.6036096114624638,-0.42344449615611246,0.6898940788664634,-0.5615097444841984,-0.6390655408727961,0.6233416763101586,-0.6184402589940158,-0.39139257671353617,0.5981764732033147,0.497744449348473,-0.5622922650851591,-0.07281113111230025,0.3472187052038444,0.4909005209414875,0.1171036522152827,0.5497408895962809,0.3442421328410602,-0.47259759326501055,-0.0032840217208505926,0.5949210515599653,0.06298987878798369,-0.10238199377329955,-0.5987772703473507,0.2879910682809189,-0.3932654843067578,-0.5184700653135003,0.6112672412550632,0.5408947556507561,0.5617996710015849,0.3910758232350632],\"yaxis\":\"y\",\"type\":\"scatter\"}],                        {\"template\":{\"data\":{\"histogram2dcontour\":[{\"type\":\"histogram2dcontour\",\"colorbar\":{\"outlinewidth\":0,\"ticks\":\"\"},\"colorscale\":[[0.0,\"#0d0887\"],[0.1111111111111111,\"#46039f\"],[0.2222222222222222,\"#7201a8\"],[0.3333333333333333,\"#9c179e\"],[0.4444444444444444,\"#bd3786\"],[0.5555555555555556,\"#d8576b\"],[0.6666666666666666,\"#ed7953\"],[0.7777777777777778,\"#fb9f3a\"],[0.8888888888888888,\"#fdca26\"],[1.0,\"#f0f921\"]]}],\"choropleth\":[{\"type\":\"choropleth\",\"colorbar\":{\"outlinewidth\":0,\"ticks\":\"\"}}],\"histogram2d\":[{\"type\":\"histogram2d\",\"colorbar\":{\"outlinewidth\":0,\"ticks\":\"\"},\"colorscale\":[[0.0,\"#0d0887\"],[0.1111111111111111,\"#46039f\"],[0.2222222222222222,\"#7201a8\"],[0.3333333333333333,\"#9c179e\"],[0.4444444444444444,\"#bd3786\"],[0.5555555555555556,\"#d8576b\"],[0.6666666666666666,\"#ed7953\"],[0.7777777777777778,\"#fb9f3a\"],[0.8888888888888888,\"#fdca26\"],[1.0,\"#f0f921\"]]}],\"heatmap\":[{\"type\":\"heatmap\",\"colorbar\":{\"outlinewidth\":0,\"ticks\":\"\"},\"colorscale\":[[0.0,\"#0d0887\"],[0.1111111111111111,\"#46039f\"],[0.2222222222222222,\"#7201a8\"],[0.3333333333333333,\"#9c179e\"],[0.4444444444444444,\"#bd3786\"],[0.5555555555555556,\"#d8576b\"],[0.6666666666666666,\"#ed7953\"],[0.7777777777777778,\"#fb9f3a\"],[0.8888888888888888,\"#fdca26\"],[1.0,\"#f0f921\"]]}],\"heatmapgl\":[{\"type\":\"heatmapgl\",\"colorbar\":{\"outlinewidth\":0,\"ticks\":\"\"},\"colorscale\":[[0.0,\"#0d0887\"],[0.1111111111111111,\"#46039f\"],[0.2222222222222222,\"#7201a8\"],[0.3333333333333333,\"#9c179e\"],[0.4444444444444444,\"#bd3786\"],[0.5555555555555556,\"#d8576b\"],[0.6666666666666666,\"#ed7953\"],[0.7777777777777778,\"#fb9f3a\"],[0.8888888888888888,\"#fdca26\"],[1.0,\"#f0f921\"]]}],\"contourcarpet\":[{\"type\":\"contourcarpet\",\"colorbar\":{\"outlinewidth\":0,\"ticks\":\"\"}}],\"contour\":[{\"type\":\"contour\",\"colorbar\":{\"outlinewidth\":0,\"ticks\":\"\"},\"colorscale\":[[0.0,\"#0d0887\"],[0.1111111111111111,\"#46039f\"],[0.2222222222222222,\"#7201a8\"],[0.3333333333333333,\"#9c179e\"],[0.4444444444444444,\"#bd3786\"],[0.5555555555555556,\"#d8576b\"],[0.6666666666666666,\"#ed7953\"],[0.7777777777777778,\"#fb9f3a\"],[0.8888888888888888,\"#fdca26\"],[1.0,\"#f0f921\"]]}],\"surface\":[{\"type\":\"surface\",\"colorbar\":{\"outlinewidth\":0,\"ticks\":\"\"},\"colorscale\":[[0.0,\"#0d0887\"],[0.1111111111111111,\"#46039f\"],[0.2222222222222222,\"#7201a8\"],[0.3333333333333333,\"#9c179e\"],[0.4444444444444444,\"#bd3786\"],[0.5555555555555556,\"#d8576b\"],[0.6666666666666666,\"#ed7953\"],[0.7777777777777778,\"#fb9f3a\"],[0.8888888888888888,\"#fdca26\"],[1.0,\"#f0f921\"]]}],\"mesh3d\":[{\"type\":\"mesh3d\",\"colorbar\":{\"outlinewidth\":0,\"ticks\":\"\"}}],\"scatter\":[{\"fillpattern\":{\"fillmode\":\"overlay\",\"size\":10,\"solidity\":0.2},\"type\":\"scatter\"}],\"parcoords\":[{\"type\":\"parcoords\",\"line\":{\"colorbar\":{\"outlinewidth\":0,\"ticks\":\"\"}}}],\"scatterpolargl\":[{\"type\":\"scatterpolargl\",\"marker\":{\"colorbar\":{\"outlinewidth\":0,\"ticks\":\"\"}}}],\"bar\":[{\"error_x\":{\"color\":\"#2a3f5f\"},\"error_y\":{\"color\":\"#2a3f5f\"},\"marker\":{\"line\":{\"color\":\"#E5ECF6\",\"width\":0.5},\"pattern\":{\"fillmode\":\"overlay\",\"size\":10,\"solidity\":0.2}},\"type\":\"bar\"}],\"scattergeo\":[{\"type\":\"scattergeo\",\"marker\":{\"colorbar\":{\"outlinewidth\":0,\"ticks\":\"\"}}}],\"scatterpolar\":[{\"type\":\"scatterpolar\",\"marker\":{\"colorbar\":{\"outlinewidth\":0,\"ticks\":\"\"}}}],\"histogram\":[{\"marker\":{\"pattern\":{\"fillmode\":\"overlay\",\"size\":10,\"solidity\":0.2}},\"type\":\"histogram\"}],\"scattergl\":[{\"type\":\"scattergl\",\"marker\":{\"colorbar\":{\"outlinewidth\":0,\"ticks\":\"\"}}}],\"scatter3d\":[{\"type\":\"scatter3d\",\"line\":{\"colorbar\":{\"outlinewidth\":0,\"ticks\":\"\"}},\"marker\":{\"colorbar\":{\"outlinewidth\":0,\"ticks\":\"\"}}}],\"scattermapbox\":[{\"type\":\"scattermapbox\",\"marker\":{\"colorbar\":{\"outlinewidth\":0,\"ticks\":\"\"}}}],\"scatterternary\":[{\"type\":\"scatterternary\",\"marker\":{\"colorbar\":{\"outlinewidth\":0,\"ticks\":\"\"}}}],\"scattercarpet\":[{\"type\":\"scattercarpet\",\"marker\":{\"colorbar\":{\"outlinewidth\":0,\"ticks\":\"\"}}}],\"carpet\":[{\"aaxis\":{\"endlinecolor\":\"#2a3f5f\",\"gridcolor\":\"white\",\"linecolor\":\"white\",\"minorgridcolor\":\"white\",\"startlinecolor\":\"#2a3f5f\"},\"baxis\":{\"endlinecolor\":\"#2a3f5f\",\"gridcolor\":\"white\",\"linecolor\":\"white\",\"minorgridcolor\":\"white\",\"startlinecolor\":\"#2a3f5f\"},\"type\":\"carpet\"}],\"table\":[{\"cells\":{\"fill\":{\"color\":\"#EBF0F8\"},\"line\":{\"color\":\"white\"}},\"header\":{\"fill\":{\"color\":\"#C8D4E3\"},\"line\":{\"color\":\"white\"}},\"type\":\"table\"}],\"barpolar\":[{\"marker\":{\"line\":{\"color\":\"#E5ECF6\",\"width\":0.5},\"pattern\":{\"fillmode\":\"overlay\",\"size\":10,\"solidity\":0.2}},\"type\":\"barpolar\"}],\"pie\":[{\"automargin\":true,\"type\":\"pie\"}]},\"layout\":{\"autotypenumbers\":\"strict\",\"colorway\":[\"#636efa\",\"#EF553B\",\"#00cc96\",\"#ab63fa\",\"#FFA15A\",\"#19d3f3\",\"#FF6692\",\"#B6E880\",\"#FF97FF\",\"#FECB52\"],\"font\":{\"color\":\"#2a3f5f\"},\"hovermode\":\"closest\",\"hoverlabel\":{\"align\":\"left\"},\"paper_bgcolor\":\"white\",\"plot_bgcolor\":\"#E5ECF6\",\"polar\":{\"bgcolor\":\"#E5ECF6\",\"angularaxis\":{\"gridcolor\":\"white\",\"linecolor\":\"white\",\"ticks\":\"\"},\"radialaxis\":{\"gridcolor\":\"white\",\"linecolor\":\"white\",\"ticks\":\"\"}},\"ternary\":{\"bgcolor\":\"#E5ECF6\",\"aaxis\":{\"gridcolor\":\"white\",\"linecolor\":\"white\",\"ticks\":\"\"},\"baxis\":{\"gridcolor\":\"white\",\"linecolor\":\"white\",\"ticks\":\"\"},\"caxis\":{\"gridcolor\":\"white\",\"linecolor\":\"white\",\"ticks\":\"\"}},\"coloraxis\":{\"colorbar\":{\"outlinewidth\":0,\"ticks\":\"\"}},\"colorscale\":{\"sequential\":[[0.0,\"#0d0887\"],[0.1111111111111111,\"#46039f\"],[0.2222222222222222,\"#7201a8\"],[0.3333333333333333,\"#9c179e\"],[0.4444444444444444,\"#bd3786\"],[0.5555555555555556,\"#d8576b\"],[0.6666666666666666,\"#ed7953\"],[0.7777777777777778,\"#fb9f3a\"],[0.8888888888888888,\"#fdca26\"],[1.0,\"#f0f921\"]],\"sequentialminus\":[[0.0,\"#0d0887\"],[0.1111111111111111,\"#46039f\"],[0.2222222222222222,\"#7201a8\"],[0.3333333333333333,\"#9c179e\"],[0.4444444444444444,\"#bd3786\"],[0.5555555555555556,\"#d8576b\"],[0.6666666666666666,\"#ed7953\"],[0.7777777777777778,\"#fb9f3a\"],[0.8888888888888888,\"#fdca26\"],[1.0,\"#f0f921\"]],\"diverging\":[[0,\"#8e0152\"],[0.1,\"#c51b7d\"],[0.2,\"#de77ae\"],[0.3,\"#f1b6da\"],[0.4,\"#fde0ef\"],[0.5,\"#f7f7f7\"],[0.6,\"#e6f5d0\"],[0.7,\"#b8e186\"],[0.8,\"#7fbc41\"],[0.9,\"#4d9221\"],[1,\"#276419\"]]},\"xaxis\":{\"gridcolor\":\"white\",\"linecolor\":\"white\",\"ticks\":\"\",\"title\":{\"standoff\":15},\"zerolinecolor\":\"white\",\"automargin\":true,\"zerolinewidth\":2},\"yaxis\":{\"gridcolor\":\"white\",\"linecolor\":\"white\",\"ticks\":\"\",\"title\":{\"standoff\":15},\"zerolinecolor\":\"white\",\"automargin\":true,\"zerolinewidth\":2},\"scene\":{\"xaxis\":{\"backgroundcolor\":\"#E5ECF6\",\"gridcolor\":\"white\",\"linecolor\":\"white\",\"showbackground\":true,\"ticks\":\"\",\"zerolinecolor\":\"white\",\"gridwidth\":2},\"yaxis\":{\"backgroundcolor\":\"#E5ECF6\",\"gridcolor\":\"white\",\"linecolor\":\"white\",\"showbackground\":true,\"ticks\":\"\",\"zerolinecolor\":\"white\",\"gridwidth\":2},\"zaxis\":{\"backgroundcolor\":\"#E5ECF6\",\"gridcolor\":\"white\",\"linecolor\":\"white\",\"showbackground\":true,\"ticks\":\"\",\"zerolinecolor\":\"white\",\"gridwidth\":2}},\"shapedefaults\":{\"line\":{\"color\":\"#2a3f5f\"}},\"annotationdefaults\":{\"arrowcolor\":\"#2a3f5f\",\"arrowhead\":0,\"arrowwidth\":1},\"geo\":{\"bgcolor\":\"white\",\"landcolor\":\"#E5ECF6\",\"subunitcolor\":\"white\",\"showland\":true,\"showlakes\":true,\"lakecolor\":\"white\"},\"title\":{\"x\":0.05},\"mapbox\":{\"style\":\"light\"}}},\"xaxis\":{\"anchor\":\"y\",\"domain\":[0.0,1.0],\"title\":{\"text\":\"Principal Component 1\"}},\"yaxis\":{\"anchor\":\"x\",\"domain\":[0.0,1.0],\"title\":{\"text\":\"Principal Component 2\"}},\"coloraxis\":{\"colorbar\":{\"title\":{\"text\":\"color\"}},\"colorscale\":[[0.0,\"rgb(0,0,255)\"],[1.0,\"rgb(255,0,0)\"]],\"showscale\":false},\"legend\":{\"tracegroupgap\":0},\"margin\":{\"t\":60},\"width\":600,\"height\":400,\"title\":{\"text\":\"Half Moons Data (PCA: 2 components)\"}},                        {\"responsive\": true}                    ).then(function(){\n",
       "                            \n",
       "var gd = document.getElementById('dedde530-0fd0-495c-90b9-9c5dd035a5e1');\n",
       "var x = new MutationObserver(function (mutations, observer) {{\n",
       "        var display = window.getComputedStyle(gd).display;\n",
       "        if (!display || display === 'none') {{\n",
       "            console.log([gd, 'removed!']);\n",
       "            Plotly.purge(gd);\n",
       "            observer.disconnect();\n",
       "        }}\n",
       "}});\n",
       "\n",
       "// Listen for the removal of the full notebook cells\n",
       "var notebookContainer = gd.closest('#notebook-container');\n",
       "if (notebookContainer) {{\n",
       "    x.observe(notebookContainer, {childList: true});\n",
       "}}\n",
       "\n",
       "// Listen for the clearing of the current output cell\n",
       "var outputEl = gd.closest('.output');\n",
       "if (outputEl) {{\n",
       "    x.observe(outputEl, {childList: true});\n",
       "}}\n",
       "\n",
       "                        })                };                });            </script>        </div>"
      ]
     },
     "metadata": {},
     "output_type": "display_data"
    }
   ],
   "source": [
    "# Plotting the transformed data in a two principal component space\n",
    "figM2 = px.scatter(x=dataM[:, 0], y=dataM[:, 1], \n",
    "                   color=ym, color_continuous_scale='bluered')\n",
    "figM2.update_traces(marker=dict(size=8, opacity=0.6))\n",
    "figM2.update_layout(coloraxis_showscale=False, \n",
    "                    width=600, height=400, \n",
    "                    xaxis_title='Principal Component 1', \n",
    "                    yaxis_title='Principal Component 2',  \n",
    "                    title='Half Moons Data (PCA: 2 components)')             \n",
    "figM2.show()"
   ]
  },
  {
   "cell_type": "code",
   "execution_count": 11,
   "metadata": {},
   "outputs": [
    {
     "data": {
      "application/vnd.plotly.v1+json": {
       "config": {
        "plotlyServerURL": "https://plot.ly"
       },
       "data": [
        {
         "hovertemplate": "x=%{x}<br>y=%{y}<br>color=%{marker.color}<extra></extra>",
         "legendgroup": "",
         "marker": {
          "color": [
           0,
           1,
           0,
           1,
           1,
           1,
           0,
           1,
           1,
           1,
           1,
           1,
           1,
           0,
           0,
           0,
           0,
           0,
           0,
           0,
           0,
           1,
           0,
           1,
           0,
           0,
           0,
           1,
           1,
           1,
           1,
           1,
           1,
           1,
           1,
           0,
           0,
           1,
           1,
           1,
           0,
           1,
           0,
           0,
           0,
           0,
           0,
           0,
           0,
           0,
           1,
           1,
           0,
           0,
           0,
           1,
           0,
           0,
           0,
           1,
           0,
           0,
           1,
           1,
           1,
           1,
           0,
           1,
           0,
           1,
           0,
           0,
           0,
           1,
           1,
           1,
           0,
           1,
           1,
           1,
           0,
           0,
           1,
           0,
           0,
           1,
           1,
           0,
           1,
           1,
           1,
           0,
           0,
           1,
           0,
           1,
           1,
           1,
           0,
           0
          ],
          "coloraxis": "coloraxis",
          "opacity": 0.6,
          "size": 8,
          "symbol": "circle"
         },
         "mode": "markers",
         "name": "",
         "orientation": "v",
         "showlegend": false,
         "type": "scatter",
         "x": [
          0.7893250579356409,
          -1.283797712100241,
          -0.5031510904483923,
          0.40972142843321496,
          -0.7261445581207663,
          -1.3973049155938781,
          0.15729180626253964,
          -0.6181973911892222,
          0.449385025674119,
          -1.3842461282599154,
          0.49568431417281017,
          -1.4004596193642644,
          -0.9264081219438751,
          -0.033341083223827825,
          -0.30293532673449763,
          1.0193541998268971,
          0.5466272691916596,
          0.6591815742447907,
          1.1403348195638987,
          -0.2926764907539346,
          1.3859467199844824,
          0.06350017443093632,
          -0.45345743725396864,
          -0.4815797264105217,
          1.3780834939738436,
          1.351153184930729,
          -0.35359148104171917,
          -1.3682641883079292,
          -1.1238572753064373,
          -0.8073256601283768,
          0.167204907841609,
          -1.0102379131485992,
          -1.3648270273828196,
          -0.28349533461283694,
          0.5301026128739751,
          0.8544473506248634,
          0.308600879825743,
          0.3653317692798306,
          0.049024297815655475,
          -0.67881988082665,
          -0.5571178308356999,
          0.1047389523678483,
          1.3834451485762786,
          1.3837003805170922,
          -0.44443571694754797,
          0.09732788818137302,
          0.2306948905415531,
          1.3452206844783705,
          1.3282491131545167,
          -0.40152884943127914,
          -1.3569977557252875,
          0.2550059755645499,
          -0.5320303414630697,
          1.190417490493217,
          0.8733422079755397,
          0.5383267153211179,
          -0.1107777791686273,
          1.2053515471741567,
          0.6115861202251481,
          0.5143195484850646,
          -0.17011879177710063,
          1.0644629395779197,
          -0.14995170827339027,
          0.31784638883023625,
          -0.941190609782159,
          -1.208043839498866,
          1.0974898182600903,
          -1.2000784463605767,
          0.036281749390104555,
          -1.3724230750381556,
          0.36123408525388606,
          0.9946617015901406,
          1.3478378598335043,
          -1.3881641842598242,
          -1.375879812034482,
          -0.346573851110545,
          0.4213880082950353,
          -1.3851910016342408,
          -0.5387043466732248,
          -0.859031289930335,
          0.7446535223849137,
          1.2946269411761793,
          -1.0554897700542403,
          1.3928979042553973,
          1.3358496706440024,
          -0.07939676730902168,
          0.27596491480576596,
          -0.07850509667481886,
          -1.319537242654039,
          -0.4061499511735607,
          -1.2969909985940955,
          1.2718206546711626,
          0.479303268183897,
          -1.154389418881796,
          -0.246349028396076,
          -1.3747733886568614,
          -0.21862187535926214,
          -0.07403337409831749,
          1.403633111733165,
          1.4146144151207112
         ],
         "xaxis": "x",
         "y": [
          0,
          0,
          0,
          0,
          0,
          0,
          0,
          0,
          0,
          0,
          0,
          0,
          0,
          0,
          0,
          0,
          0,
          0,
          0,
          0,
          0,
          0,
          0,
          0,
          0,
          0,
          0,
          0,
          0,
          0,
          0,
          0,
          0,
          0,
          0,
          0,
          0,
          0,
          0,
          0,
          0,
          0,
          0,
          0,
          0,
          0,
          0,
          0,
          0,
          0,
          0,
          0,
          0,
          0,
          0,
          0,
          0,
          0,
          0,
          0,
          0,
          0,
          0,
          0,
          0,
          0,
          0,
          0,
          0,
          0,
          0,
          0,
          0,
          0,
          0,
          0,
          0,
          0,
          0,
          0,
          0,
          0,
          0,
          0,
          0,
          0,
          0,
          0,
          0,
          0,
          0,
          0,
          0,
          0,
          0,
          0,
          0,
          0,
          0,
          0
         ],
         "yaxis": "y"
        }
       ],
       "layout": {
        "coloraxis": {
         "colorbar": {
          "title": {
           "text": "color"
          }
         },
         "colorscale": [
          [
           0,
           "rgb(0,0,255)"
          ],
          [
           1,
           "rgb(255,0,0)"
          ]
         ],
         "showscale": false
        },
        "height": 400,
        "legend": {
         "tracegroupgap": 0
        },
        "margin": {
         "t": 60
        },
        "template": {
         "data": {
          "bar": [
           {
            "error_x": {
             "color": "#2a3f5f"
            },
            "error_y": {
             "color": "#2a3f5f"
            },
            "marker": {
             "line": {
              "color": "#E5ECF6",
              "width": 0.5
             },
             "pattern": {
              "fillmode": "overlay",
              "size": 10,
              "solidity": 0.2
             }
            },
            "type": "bar"
           }
          ],
          "barpolar": [
           {
            "marker": {
             "line": {
              "color": "#E5ECF6",
              "width": 0.5
             },
             "pattern": {
              "fillmode": "overlay",
              "size": 10,
              "solidity": 0.2
             }
            },
            "type": "barpolar"
           }
          ],
          "carpet": [
           {
            "aaxis": {
             "endlinecolor": "#2a3f5f",
             "gridcolor": "white",
             "linecolor": "white",
             "minorgridcolor": "white",
             "startlinecolor": "#2a3f5f"
            },
            "baxis": {
             "endlinecolor": "#2a3f5f",
             "gridcolor": "white",
             "linecolor": "white",
             "minorgridcolor": "white",
             "startlinecolor": "#2a3f5f"
            },
            "type": "carpet"
           }
          ],
          "choropleth": [
           {
            "colorbar": {
             "outlinewidth": 0,
             "ticks": ""
            },
            "type": "choropleth"
           }
          ],
          "contour": [
           {
            "colorbar": {
             "outlinewidth": 0,
             "ticks": ""
            },
            "colorscale": [
             [
              0,
              "#0d0887"
             ],
             [
              0.1111111111111111,
              "#46039f"
             ],
             [
              0.2222222222222222,
              "#7201a8"
             ],
             [
              0.3333333333333333,
              "#9c179e"
             ],
             [
              0.4444444444444444,
              "#bd3786"
             ],
             [
              0.5555555555555556,
              "#d8576b"
             ],
             [
              0.6666666666666666,
              "#ed7953"
             ],
             [
              0.7777777777777778,
              "#fb9f3a"
             ],
             [
              0.8888888888888888,
              "#fdca26"
             ],
             [
              1,
              "#f0f921"
             ]
            ],
            "type": "contour"
           }
          ],
          "contourcarpet": [
           {
            "colorbar": {
             "outlinewidth": 0,
             "ticks": ""
            },
            "type": "contourcarpet"
           }
          ],
          "heatmap": [
           {
            "colorbar": {
             "outlinewidth": 0,
             "ticks": ""
            },
            "colorscale": [
             [
              0,
              "#0d0887"
             ],
             [
              0.1111111111111111,
              "#46039f"
             ],
             [
              0.2222222222222222,
              "#7201a8"
             ],
             [
              0.3333333333333333,
              "#9c179e"
             ],
             [
              0.4444444444444444,
              "#bd3786"
             ],
             [
              0.5555555555555556,
              "#d8576b"
             ],
             [
              0.6666666666666666,
              "#ed7953"
             ],
             [
              0.7777777777777778,
              "#fb9f3a"
             ],
             [
              0.8888888888888888,
              "#fdca26"
             ],
             [
              1,
              "#f0f921"
             ]
            ],
            "type": "heatmap"
           }
          ],
          "heatmapgl": [
           {
            "colorbar": {
             "outlinewidth": 0,
             "ticks": ""
            },
            "colorscale": [
             [
              0,
              "#0d0887"
             ],
             [
              0.1111111111111111,
              "#46039f"
             ],
             [
              0.2222222222222222,
              "#7201a8"
             ],
             [
              0.3333333333333333,
              "#9c179e"
             ],
             [
              0.4444444444444444,
              "#bd3786"
             ],
             [
              0.5555555555555556,
              "#d8576b"
             ],
             [
              0.6666666666666666,
              "#ed7953"
             ],
             [
              0.7777777777777778,
              "#fb9f3a"
             ],
             [
              0.8888888888888888,
              "#fdca26"
             ],
             [
              1,
              "#f0f921"
             ]
            ],
            "type": "heatmapgl"
           }
          ],
          "histogram": [
           {
            "marker": {
             "pattern": {
              "fillmode": "overlay",
              "size": 10,
              "solidity": 0.2
             }
            },
            "type": "histogram"
           }
          ],
          "histogram2d": [
           {
            "colorbar": {
             "outlinewidth": 0,
             "ticks": ""
            },
            "colorscale": [
             [
              0,
              "#0d0887"
             ],
             [
              0.1111111111111111,
              "#46039f"
             ],
             [
              0.2222222222222222,
              "#7201a8"
             ],
             [
              0.3333333333333333,
              "#9c179e"
             ],
             [
              0.4444444444444444,
              "#bd3786"
             ],
             [
              0.5555555555555556,
              "#d8576b"
             ],
             [
              0.6666666666666666,
              "#ed7953"
             ],
             [
              0.7777777777777778,
              "#fb9f3a"
             ],
             [
              0.8888888888888888,
              "#fdca26"
             ],
             [
              1,
              "#f0f921"
             ]
            ],
            "type": "histogram2d"
           }
          ],
          "histogram2dcontour": [
           {
            "colorbar": {
             "outlinewidth": 0,
             "ticks": ""
            },
            "colorscale": [
             [
              0,
              "#0d0887"
             ],
             [
              0.1111111111111111,
              "#46039f"
             ],
             [
              0.2222222222222222,
              "#7201a8"
             ],
             [
              0.3333333333333333,
              "#9c179e"
             ],
             [
              0.4444444444444444,
              "#bd3786"
             ],
             [
              0.5555555555555556,
              "#d8576b"
             ],
             [
              0.6666666666666666,
              "#ed7953"
             ],
             [
              0.7777777777777778,
              "#fb9f3a"
             ],
             [
              0.8888888888888888,
              "#fdca26"
             ],
             [
              1,
              "#f0f921"
             ]
            ],
            "type": "histogram2dcontour"
           }
          ],
          "mesh3d": [
           {
            "colorbar": {
             "outlinewidth": 0,
             "ticks": ""
            },
            "type": "mesh3d"
           }
          ],
          "parcoords": [
           {
            "line": {
             "colorbar": {
              "outlinewidth": 0,
              "ticks": ""
             }
            },
            "type": "parcoords"
           }
          ],
          "pie": [
           {
            "automargin": true,
            "type": "pie"
           }
          ],
          "scatter": [
           {
            "fillpattern": {
             "fillmode": "overlay",
             "size": 10,
             "solidity": 0.2
            },
            "type": "scatter"
           }
          ],
          "scatter3d": [
           {
            "line": {
             "colorbar": {
              "outlinewidth": 0,
              "ticks": ""
             }
            },
            "marker": {
             "colorbar": {
              "outlinewidth": 0,
              "ticks": ""
             }
            },
            "type": "scatter3d"
           }
          ],
          "scattercarpet": [
           {
            "marker": {
             "colorbar": {
              "outlinewidth": 0,
              "ticks": ""
             }
            },
            "type": "scattercarpet"
           }
          ],
          "scattergeo": [
           {
            "marker": {
             "colorbar": {
              "outlinewidth": 0,
              "ticks": ""
             }
            },
            "type": "scattergeo"
           }
          ],
          "scattergl": [
           {
            "marker": {
             "colorbar": {
              "outlinewidth": 0,
              "ticks": ""
             }
            },
            "type": "scattergl"
           }
          ],
          "scattermapbox": [
           {
            "marker": {
             "colorbar": {
              "outlinewidth": 0,
              "ticks": ""
             }
            },
            "type": "scattermapbox"
           }
          ],
          "scatterpolar": [
           {
            "marker": {
             "colorbar": {
              "outlinewidth": 0,
              "ticks": ""
             }
            },
            "type": "scatterpolar"
           }
          ],
          "scatterpolargl": [
           {
            "marker": {
             "colorbar": {
              "outlinewidth": 0,
              "ticks": ""
             }
            },
            "type": "scatterpolargl"
           }
          ],
          "scatterternary": [
           {
            "marker": {
             "colorbar": {
              "outlinewidth": 0,
              "ticks": ""
             }
            },
            "type": "scatterternary"
           }
          ],
          "surface": [
           {
            "colorbar": {
             "outlinewidth": 0,
             "ticks": ""
            },
            "colorscale": [
             [
              0,
              "#0d0887"
             ],
             [
              0.1111111111111111,
              "#46039f"
             ],
             [
              0.2222222222222222,
              "#7201a8"
             ],
             [
              0.3333333333333333,
              "#9c179e"
             ],
             [
              0.4444444444444444,
              "#bd3786"
             ],
             [
              0.5555555555555556,
              "#d8576b"
             ],
             [
              0.6666666666666666,
              "#ed7953"
             ],
             [
              0.7777777777777778,
              "#fb9f3a"
             ],
             [
              0.8888888888888888,
              "#fdca26"
             ],
             [
              1,
              "#f0f921"
             ]
            ],
            "type": "surface"
           }
          ],
          "table": [
           {
            "cells": {
             "fill": {
              "color": "#EBF0F8"
             },
             "line": {
              "color": "white"
             }
            },
            "header": {
             "fill": {
              "color": "#C8D4E3"
             },
             "line": {
              "color": "white"
             }
            },
            "type": "table"
           }
          ]
         },
         "layout": {
          "annotationdefaults": {
           "arrowcolor": "#2a3f5f",
           "arrowhead": 0,
           "arrowwidth": 1
          },
          "autotypenumbers": "strict",
          "coloraxis": {
           "colorbar": {
            "outlinewidth": 0,
            "ticks": ""
           }
          },
          "colorscale": {
           "diverging": [
            [
             0,
             "#8e0152"
            ],
            [
             0.1,
             "#c51b7d"
            ],
            [
             0.2,
             "#de77ae"
            ],
            [
             0.3,
             "#f1b6da"
            ],
            [
             0.4,
             "#fde0ef"
            ],
            [
             0.5,
             "#f7f7f7"
            ],
            [
             0.6,
             "#e6f5d0"
            ],
            [
             0.7,
             "#b8e186"
            ],
            [
             0.8,
             "#7fbc41"
            ],
            [
             0.9,
             "#4d9221"
            ],
            [
             1,
             "#276419"
            ]
           ],
           "sequential": [
            [
             0,
             "#0d0887"
            ],
            [
             0.1111111111111111,
             "#46039f"
            ],
            [
             0.2222222222222222,
             "#7201a8"
            ],
            [
             0.3333333333333333,
             "#9c179e"
            ],
            [
             0.4444444444444444,
             "#bd3786"
            ],
            [
             0.5555555555555556,
             "#d8576b"
            ],
            [
             0.6666666666666666,
             "#ed7953"
            ],
            [
             0.7777777777777778,
             "#fb9f3a"
            ],
            [
             0.8888888888888888,
             "#fdca26"
            ],
            [
             1,
             "#f0f921"
            ]
           ],
           "sequentialminus": [
            [
             0,
             "#0d0887"
            ],
            [
             0.1111111111111111,
             "#46039f"
            ],
            [
             0.2222222222222222,
             "#7201a8"
            ],
            [
             0.3333333333333333,
             "#9c179e"
            ],
            [
             0.4444444444444444,
             "#bd3786"
            ],
            [
             0.5555555555555556,
             "#d8576b"
            ],
            [
             0.6666666666666666,
             "#ed7953"
            ],
            [
             0.7777777777777778,
             "#fb9f3a"
            ],
            [
             0.8888888888888888,
             "#fdca26"
            ],
            [
             1,
             "#f0f921"
            ]
           ]
          },
          "colorway": [
           "#636efa",
           "#EF553B",
           "#00cc96",
           "#ab63fa",
           "#FFA15A",
           "#19d3f3",
           "#FF6692",
           "#B6E880",
           "#FF97FF",
           "#FECB52"
          ],
          "font": {
           "color": "#2a3f5f"
          },
          "geo": {
           "bgcolor": "white",
           "lakecolor": "white",
           "landcolor": "#E5ECF6",
           "showlakes": true,
           "showland": true,
           "subunitcolor": "white"
          },
          "hoverlabel": {
           "align": "left"
          },
          "hovermode": "closest",
          "mapbox": {
           "style": "light"
          },
          "paper_bgcolor": "white",
          "plot_bgcolor": "#E5ECF6",
          "polar": {
           "angularaxis": {
            "gridcolor": "white",
            "linecolor": "white",
            "ticks": ""
           },
           "bgcolor": "#E5ECF6",
           "radialaxis": {
            "gridcolor": "white",
            "linecolor": "white",
            "ticks": ""
           }
          },
          "scene": {
           "xaxis": {
            "backgroundcolor": "#E5ECF6",
            "gridcolor": "white",
            "gridwidth": 2,
            "linecolor": "white",
            "showbackground": true,
            "ticks": "",
            "zerolinecolor": "white"
           },
           "yaxis": {
            "backgroundcolor": "#E5ECF6",
            "gridcolor": "white",
            "gridwidth": 2,
            "linecolor": "white",
            "showbackground": true,
            "ticks": "",
            "zerolinecolor": "white"
           },
           "zaxis": {
            "backgroundcolor": "#E5ECF6",
            "gridcolor": "white",
            "gridwidth": 2,
            "linecolor": "white",
            "showbackground": true,
            "ticks": "",
            "zerolinecolor": "white"
           }
          },
          "shapedefaults": {
           "line": {
            "color": "#2a3f5f"
           }
          },
          "ternary": {
           "aaxis": {
            "gridcolor": "white",
            "linecolor": "white",
            "ticks": ""
           },
           "baxis": {
            "gridcolor": "white",
            "linecolor": "white",
            "ticks": ""
           },
           "bgcolor": "#E5ECF6",
           "caxis": {
            "gridcolor": "white",
            "linecolor": "white",
            "ticks": ""
           }
          },
          "title": {
           "x": 0.05
          },
          "xaxis": {
           "automargin": true,
           "gridcolor": "white",
           "linecolor": "white",
           "ticks": "",
           "title": {
            "standoff": 15
           },
           "zerolinecolor": "white",
           "zerolinewidth": 2
          },
          "yaxis": {
           "automargin": true,
           "gridcolor": "white",
           "linecolor": "white",
           "ticks": "",
           "title": {
            "standoff": 15
           },
           "zerolinecolor": "white",
           "zerolinewidth": 2
          }
         }
        },
        "title": {
         "text": "Half Moons Data (PCA: 1 component)"
        },
        "width": 600,
        "xaxis": {
         "anchor": "y",
         "domain": [
          0,
          1
         ],
         "title": {
          "text": "Principal Component 1"
         }
        },
        "yaxis": {
         "anchor": "x",
         "domain": [
          0,
          1
         ],
         "title": {
          "text": ""
         }
        }
       }
      },
      "text/html": [
       "<div>                            <div id=\"9c0e1840-6679-4142-bb22-0c3efd8305b4\" class=\"plotly-graph-div\" style=\"height:400px; width:600px;\"></div>            <script type=\"text/javascript\">                require([\"plotly\"], function(Plotly) {                    window.PLOTLYENV=window.PLOTLYENV || {};                                    if (document.getElementById(\"9c0e1840-6679-4142-bb22-0c3efd8305b4\")) {                    Plotly.newPlot(                        \"9c0e1840-6679-4142-bb22-0c3efd8305b4\",                        [{\"hovertemplate\":\"x=%{x}<br>y=%{y}<br>color=%{marker.color}<extra></extra>\",\"legendgroup\":\"\",\"marker\":{\"color\":[0,1,0,1,1,1,0,1,1,1,1,1,1,0,0,0,0,0,0,0,0,1,0,1,0,0,0,1,1,1,1,1,1,1,1,0,0,1,1,1,0,1,0,0,0,0,0,0,0,0,1,1,0,0,0,1,0,0,0,1,0,0,1,1,1,1,0,1,0,1,0,0,0,1,1,1,0,1,1,1,0,0,1,0,0,1,1,0,1,1,1,0,0,1,0,1,1,1,0,0],\"coloraxis\":\"coloraxis\",\"symbol\":\"circle\",\"opacity\":0.6,\"size\":8},\"mode\":\"markers\",\"name\":\"\",\"orientation\":\"v\",\"showlegend\":false,\"x\":[0.7893250579356409,-1.283797712100241,-0.5031510904483923,0.40972142843321496,-0.7261445581207663,-1.3973049155938781,0.15729180626253964,-0.6181973911892222,0.449385025674119,-1.3842461282599154,0.49568431417281017,-1.4004596193642644,-0.9264081219438751,-0.033341083223827825,-0.30293532673449763,1.0193541998268971,0.5466272691916596,0.6591815742447907,1.1403348195638987,-0.2926764907539346,1.3859467199844824,0.06350017443093632,-0.45345743725396864,-0.4815797264105217,1.3780834939738436,1.351153184930729,-0.35359148104171917,-1.3682641883079292,-1.1238572753064373,-0.8073256601283768,0.167204907841609,-1.0102379131485992,-1.3648270273828196,-0.28349533461283694,0.5301026128739751,0.8544473506248634,0.308600879825743,0.3653317692798306,0.049024297815655475,-0.67881988082665,-0.5571178308356999,0.1047389523678483,1.3834451485762786,1.3837003805170922,-0.44443571694754797,0.09732788818137302,0.2306948905415531,1.3452206844783705,1.3282491131545167,-0.40152884943127914,-1.3569977557252875,0.2550059755645499,-0.5320303414630697,1.190417490493217,0.8733422079755397,0.5383267153211179,-0.1107777791686273,1.2053515471741567,0.6115861202251481,0.5143195484850646,-0.17011879177710063,1.0644629395779197,-0.14995170827339027,0.31784638883023625,-0.941190609782159,-1.208043839498866,1.0974898182600903,-1.2000784463605767,0.036281749390104555,-1.3724230750381556,0.36123408525388606,0.9946617015901406,1.3478378598335043,-1.3881641842598242,-1.375879812034482,-0.346573851110545,0.4213880082950353,-1.3851910016342408,-0.5387043466732248,-0.859031289930335,0.7446535223849137,1.2946269411761793,-1.0554897700542403,1.3928979042553973,1.3358496706440024,-0.07939676730902168,0.27596491480576596,-0.07850509667481886,-1.319537242654039,-0.4061499511735607,-1.2969909985940955,1.2718206546711626,0.479303268183897,-1.154389418881796,-0.246349028396076,-1.3747733886568614,-0.21862187535926214,-0.07403337409831749,1.403633111733165,1.4146144151207112],\"xaxis\":\"x\",\"y\":[0.0,0.0,0.0,0.0,0.0,0.0,0.0,0.0,0.0,0.0,0.0,0.0,0.0,0.0,0.0,0.0,0.0,0.0,0.0,0.0,0.0,0.0,0.0,0.0,0.0,0.0,0.0,0.0,0.0,0.0,0.0,0.0,0.0,0.0,0.0,0.0,0.0,0.0,0.0,0.0,0.0,0.0,0.0,0.0,0.0,0.0,0.0,0.0,0.0,0.0,0.0,0.0,0.0,0.0,0.0,0.0,0.0,0.0,0.0,0.0,0.0,0.0,0.0,0.0,0.0,0.0,0.0,0.0,0.0,0.0,0.0,0.0,0.0,0.0,0.0,0.0,0.0,0.0,0.0,0.0,0.0,0.0,0.0,0.0,0.0,0.0,0.0,0.0,0.0,0.0,0.0,0.0,0.0,0.0,0.0,0.0,0.0,0.0,0.0,0.0],\"yaxis\":\"y\",\"type\":\"scatter\"}],                        {\"template\":{\"data\":{\"histogram2dcontour\":[{\"type\":\"histogram2dcontour\",\"colorbar\":{\"outlinewidth\":0,\"ticks\":\"\"},\"colorscale\":[[0.0,\"#0d0887\"],[0.1111111111111111,\"#46039f\"],[0.2222222222222222,\"#7201a8\"],[0.3333333333333333,\"#9c179e\"],[0.4444444444444444,\"#bd3786\"],[0.5555555555555556,\"#d8576b\"],[0.6666666666666666,\"#ed7953\"],[0.7777777777777778,\"#fb9f3a\"],[0.8888888888888888,\"#fdca26\"],[1.0,\"#f0f921\"]]}],\"choropleth\":[{\"type\":\"choropleth\",\"colorbar\":{\"outlinewidth\":0,\"ticks\":\"\"}}],\"histogram2d\":[{\"type\":\"histogram2d\",\"colorbar\":{\"outlinewidth\":0,\"ticks\":\"\"},\"colorscale\":[[0.0,\"#0d0887\"],[0.1111111111111111,\"#46039f\"],[0.2222222222222222,\"#7201a8\"],[0.3333333333333333,\"#9c179e\"],[0.4444444444444444,\"#bd3786\"],[0.5555555555555556,\"#d8576b\"],[0.6666666666666666,\"#ed7953\"],[0.7777777777777778,\"#fb9f3a\"],[0.8888888888888888,\"#fdca26\"],[1.0,\"#f0f921\"]]}],\"heatmap\":[{\"type\":\"heatmap\",\"colorbar\":{\"outlinewidth\":0,\"ticks\":\"\"},\"colorscale\":[[0.0,\"#0d0887\"],[0.1111111111111111,\"#46039f\"],[0.2222222222222222,\"#7201a8\"],[0.3333333333333333,\"#9c179e\"],[0.4444444444444444,\"#bd3786\"],[0.5555555555555556,\"#d8576b\"],[0.6666666666666666,\"#ed7953\"],[0.7777777777777778,\"#fb9f3a\"],[0.8888888888888888,\"#fdca26\"],[1.0,\"#f0f921\"]]}],\"heatmapgl\":[{\"type\":\"heatmapgl\",\"colorbar\":{\"outlinewidth\":0,\"ticks\":\"\"},\"colorscale\":[[0.0,\"#0d0887\"],[0.1111111111111111,\"#46039f\"],[0.2222222222222222,\"#7201a8\"],[0.3333333333333333,\"#9c179e\"],[0.4444444444444444,\"#bd3786\"],[0.5555555555555556,\"#d8576b\"],[0.6666666666666666,\"#ed7953\"],[0.7777777777777778,\"#fb9f3a\"],[0.8888888888888888,\"#fdca26\"],[1.0,\"#f0f921\"]]}],\"contourcarpet\":[{\"type\":\"contourcarpet\",\"colorbar\":{\"outlinewidth\":0,\"ticks\":\"\"}}],\"contour\":[{\"type\":\"contour\",\"colorbar\":{\"outlinewidth\":0,\"ticks\":\"\"},\"colorscale\":[[0.0,\"#0d0887\"],[0.1111111111111111,\"#46039f\"],[0.2222222222222222,\"#7201a8\"],[0.3333333333333333,\"#9c179e\"],[0.4444444444444444,\"#bd3786\"],[0.5555555555555556,\"#d8576b\"],[0.6666666666666666,\"#ed7953\"],[0.7777777777777778,\"#fb9f3a\"],[0.8888888888888888,\"#fdca26\"],[1.0,\"#f0f921\"]]}],\"surface\":[{\"type\":\"surface\",\"colorbar\":{\"outlinewidth\":0,\"ticks\":\"\"},\"colorscale\":[[0.0,\"#0d0887\"],[0.1111111111111111,\"#46039f\"],[0.2222222222222222,\"#7201a8\"],[0.3333333333333333,\"#9c179e\"],[0.4444444444444444,\"#bd3786\"],[0.5555555555555556,\"#d8576b\"],[0.6666666666666666,\"#ed7953\"],[0.7777777777777778,\"#fb9f3a\"],[0.8888888888888888,\"#fdca26\"],[1.0,\"#f0f921\"]]}],\"mesh3d\":[{\"type\":\"mesh3d\",\"colorbar\":{\"outlinewidth\":0,\"ticks\":\"\"}}],\"scatter\":[{\"fillpattern\":{\"fillmode\":\"overlay\",\"size\":10,\"solidity\":0.2},\"type\":\"scatter\"}],\"parcoords\":[{\"type\":\"parcoords\",\"line\":{\"colorbar\":{\"outlinewidth\":0,\"ticks\":\"\"}}}],\"scatterpolargl\":[{\"type\":\"scatterpolargl\",\"marker\":{\"colorbar\":{\"outlinewidth\":0,\"ticks\":\"\"}}}],\"bar\":[{\"error_x\":{\"color\":\"#2a3f5f\"},\"error_y\":{\"color\":\"#2a3f5f\"},\"marker\":{\"line\":{\"color\":\"#E5ECF6\",\"width\":0.5},\"pattern\":{\"fillmode\":\"overlay\",\"size\":10,\"solidity\":0.2}},\"type\":\"bar\"}],\"scattergeo\":[{\"type\":\"scattergeo\",\"marker\":{\"colorbar\":{\"outlinewidth\":0,\"ticks\":\"\"}}}],\"scatterpolar\":[{\"type\":\"scatterpolar\",\"marker\":{\"colorbar\":{\"outlinewidth\":0,\"ticks\":\"\"}}}],\"histogram\":[{\"marker\":{\"pattern\":{\"fillmode\":\"overlay\",\"size\":10,\"solidity\":0.2}},\"type\":\"histogram\"}],\"scattergl\":[{\"type\":\"scattergl\",\"marker\":{\"colorbar\":{\"outlinewidth\":0,\"ticks\":\"\"}}}],\"scatter3d\":[{\"type\":\"scatter3d\",\"line\":{\"colorbar\":{\"outlinewidth\":0,\"ticks\":\"\"}},\"marker\":{\"colorbar\":{\"outlinewidth\":0,\"ticks\":\"\"}}}],\"scattermapbox\":[{\"type\":\"scattermapbox\",\"marker\":{\"colorbar\":{\"outlinewidth\":0,\"ticks\":\"\"}}}],\"scatterternary\":[{\"type\":\"scatterternary\",\"marker\":{\"colorbar\":{\"outlinewidth\":0,\"ticks\":\"\"}}}],\"scattercarpet\":[{\"type\":\"scattercarpet\",\"marker\":{\"colorbar\":{\"outlinewidth\":0,\"ticks\":\"\"}}}],\"carpet\":[{\"aaxis\":{\"endlinecolor\":\"#2a3f5f\",\"gridcolor\":\"white\",\"linecolor\":\"white\",\"minorgridcolor\":\"white\",\"startlinecolor\":\"#2a3f5f\"},\"baxis\":{\"endlinecolor\":\"#2a3f5f\",\"gridcolor\":\"white\",\"linecolor\":\"white\",\"minorgridcolor\":\"white\",\"startlinecolor\":\"#2a3f5f\"},\"type\":\"carpet\"}],\"table\":[{\"cells\":{\"fill\":{\"color\":\"#EBF0F8\"},\"line\":{\"color\":\"white\"}},\"header\":{\"fill\":{\"color\":\"#C8D4E3\"},\"line\":{\"color\":\"white\"}},\"type\":\"table\"}],\"barpolar\":[{\"marker\":{\"line\":{\"color\":\"#E5ECF6\",\"width\":0.5},\"pattern\":{\"fillmode\":\"overlay\",\"size\":10,\"solidity\":0.2}},\"type\":\"barpolar\"}],\"pie\":[{\"automargin\":true,\"type\":\"pie\"}]},\"layout\":{\"autotypenumbers\":\"strict\",\"colorway\":[\"#636efa\",\"#EF553B\",\"#00cc96\",\"#ab63fa\",\"#FFA15A\",\"#19d3f3\",\"#FF6692\",\"#B6E880\",\"#FF97FF\",\"#FECB52\"],\"font\":{\"color\":\"#2a3f5f\"},\"hovermode\":\"closest\",\"hoverlabel\":{\"align\":\"left\"},\"paper_bgcolor\":\"white\",\"plot_bgcolor\":\"#E5ECF6\",\"polar\":{\"bgcolor\":\"#E5ECF6\",\"angularaxis\":{\"gridcolor\":\"white\",\"linecolor\":\"white\",\"ticks\":\"\"},\"radialaxis\":{\"gridcolor\":\"white\",\"linecolor\":\"white\",\"ticks\":\"\"}},\"ternary\":{\"bgcolor\":\"#E5ECF6\",\"aaxis\":{\"gridcolor\":\"white\",\"linecolor\":\"white\",\"ticks\":\"\"},\"baxis\":{\"gridcolor\":\"white\",\"linecolor\":\"white\",\"ticks\":\"\"},\"caxis\":{\"gridcolor\":\"white\",\"linecolor\":\"white\",\"ticks\":\"\"}},\"coloraxis\":{\"colorbar\":{\"outlinewidth\":0,\"ticks\":\"\"}},\"colorscale\":{\"sequential\":[[0.0,\"#0d0887\"],[0.1111111111111111,\"#46039f\"],[0.2222222222222222,\"#7201a8\"],[0.3333333333333333,\"#9c179e\"],[0.4444444444444444,\"#bd3786\"],[0.5555555555555556,\"#d8576b\"],[0.6666666666666666,\"#ed7953\"],[0.7777777777777778,\"#fb9f3a\"],[0.8888888888888888,\"#fdca26\"],[1.0,\"#f0f921\"]],\"sequentialminus\":[[0.0,\"#0d0887\"],[0.1111111111111111,\"#46039f\"],[0.2222222222222222,\"#7201a8\"],[0.3333333333333333,\"#9c179e\"],[0.4444444444444444,\"#bd3786\"],[0.5555555555555556,\"#d8576b\"],[0.6666666666666666,\"#ed7953\"],[0.7777777777777778,\"#fb9f3a\"],[0.8888888888888888,\"#fdca26\"],[1.0,\"#f0f921\"]],\"diverging\":[[0,\"#8e0152\"],[0.1,\"#c51b7d\"],[0.2,\"#de77ae\"],[0.3,\"#f1b6da\"],[0.4,\"#fde0ef\"],[0.5,\"#f7f7f7\"],[0.6,\"#e6f5d0\"],[0.7,\"#b8e186\"],[0.8,\"#7fbc41\"],[0.9,\"#4d9221\"],[1,\"#276419\"]]},\"xaxis\":{\"gridcolor\":\"white\",\"linecolor\":\"white\",\"ticks\":\"\",\"title\":{\"standoff\":15},\"zerolinecolor\":\"white\",\"automargin\":true,\"zerolinewidth\":2},\"yaxis\":{\"gridcolor\":\"white\",\"linecolor\":\"white\",\"ticks\":\"\",\"title\":{\"standoff\":15},\"zerolinecolor\":\"white\",\"automargin\":true,\"zerolinewidth\":2},\"scene\":{\"xaxis\":{\"backgroundcolor\":\"#E5ECF6\",\"gridcolor\":\"white\",\"linecolor\":\"white\",\"showbackground\":true,\"ticks\":\"\",\"zerolinecolor\":\"white\",\"gridwidth\":2},\"yaxis\":{\"backgroundcolor\":\"#E5ECF6\",\"gridcolor\":\"white\",\"linecolor\":\"white\",\"showbackground\":true,\"ticks\":\"\",\"zerolinecolor\":\"white\",\"gridwidth\":2},\"zaxis\":{\"backgroundcolor\":\"#E5ECF6\",\"gridcolor\":\"white\",\"linecolor\":\"white\",\"showbackground\":true,\"ticks\":\"\",\"zerolinecolor\":\"white\",\"gridwidth\":2}},\"shapedefaults\":{\"line\":{\"color\":\"#2a3f5f\"}},\"annotationdefaults\":{\"arrowcolor\":\"#2a3f5f\",\"arrowhead\":0,\"arrowwidth\":1},\"geo\":{\"bgcolor\":\"white\",\"landcolor\":\"#E5ECF6\",\"subunitcolor\":\"white\",\"showland\":true,\"showlakes\":true,\"lakecolor\":\"white\"},\"title\":{\"x\":0.05},\"mapbox\":{\"style\":\"light\"}}},\"xaxis\":{\"anchor\":\"y\",\"domain\":[0.0,1.0],\"title\":{\"text\":\"Principal Component 1\"}},\"yaxis\":{\"anchor\":\"x\",\"domain\":[0.0,1.0],\"title\":{\"text\":\"\"}},\"coloraxis\":{\"colorbar\":{\"title\":{\"text\":\"color\"}},\"colorscale\":[[0.0,\"rgb(0,0,255)\"],[1.0,\"rgb(255,0,0)\"]],\"showscale\":false},\"legend\":{\"tracegroupgap\":0},\"margin\":{\"t\":60},\"width\":600,\"height\":400,\"title\":{\"text\":\"Half Moons Data (PCA: 1 component)\"}},                        {\"responsive\": true}                    ).then(function(){\n",
       "                            \n",
       "var gd = document.getElementById('9c0e1840-6679-4142-bb22-0c3efd8305b4');\n",
       "var x = new MutationObserver(function (mutations, observer) {{\n",
       "        var display = window.getComputedStyle(gd).display;\n",
       "        if (!display || display === 'none') {{\n",
       "            console.log([gd, 'removed!']);\n",
       "            Plotly.purge(gd);\n",
       "            observer.disconnect();\n",
       "        }}\n",
       "}});\n",
       "\n",
       "// Listen for the removal of the full notebook cells\n",
       "var notebookContainer = gd.closest('#notebook-container');\n",
       "if (notebookContainer) {{\n",
       "    x.observe(notebookContainer, {childList: true});\n",
       "}}\n",
       "\n",
       "// Listen for the clearing of the current output cell\n",
       "var outputEl = gd.closest('.output');\n",
       "if (outputEl) {{\n",
       "    x.observe(outputEl, {childList: true});\n",
       "}}\n",
       "\n",
       "                        })                };                });            </script>        </div>"
      ]
     },
     "metadata": {},
     "output_type": "display_data"
    }
   ],
   "source": [
    "# Projecting the transformed data into the first component space\n",
    "figM1 = px.scatter(x=dataM[:, 0], y=np.zeros_like(dataM[:, 0]), \n",
    "                   color=ym, color_continuous_scale='bluered')\n",
    "figM1.update_traces(marker=dict(size=8, opacity=0.6))\n",
    "figM1.update_layout(coloraxis_showscale=False, \n",
    "                    width=600, height=400, \n",
    "                    xaxis_title='Principal Component 1', yaxis_title='', \n",
    "                    title='Half Moons Data (PCA: 1 component)')\n",
    "figM1.show()"
   ]
  },
  {
   "cell_type": "markdown",
   "metadata": {},
   "source": [
    "Groups are not linearly separated.\n",
    "\n",
    "The resulting principal components do not yield a subspace where the data is linearly separated well. \n",
    "\n",
    "Note that PCA is an unsupervised method and does not \"consider\" class labels to maximize the variance. Here, the colors blue and red are just added for visualization to indicate the degree of separation."
   ]
  },
  {
   "cell_type": "markdown",
   "metadata": {},
   "source": [
    "### Gaussian RBF kernel PCA"
   ]
  },
  {
   "cell_type": "markdown",
   "metadata": {},
   "source": [
    "Now we will perform dimensionality reduction via RBF kernel PCA on our half-moon data."
   ]
  },
  {
   "cell_type": "code",
   "execution_count": 12,
   "metadata": {},
   "outputs": [],
   "source": [
    "kpca = KernelPCA(n_components=2, kernel='rbf', gamma=15)\n",
    "\n",
    "dataK = kpca.fit_transform(Xm)"
   ]
  },
  {
   "cell_type": "code",
   "execution_count": 13,
   "metadata": {},
   "outputs": [
    {
     "data": {
      "application/vnd.plotly.v1+json": {
       "config": {
        "plotlyServerURL": "https://plot.ly"
       },
       "data": [
        {
         "hovertemplate": "x=%{x}<br>y=%{y}<br>color=%{marker.color}<extra></extra>",
         "legendgroup": "",
         "marker": {
          "color": [
           0,
           1,
           0,
           1,
           1,
           1,
           0,
           1,
           1,
           1,
           1,
           1,
           1,
           0,
           0,
           0,
           0,
           0,
           0,
           0,
           0,
           1,
           0,
           1,
           0,
           0,
           0,
           1,
           1,
           1,
           1,
           1,
           1,
           1,
           1,
           0,
           0,
           1,
           1,
           1,
           0,
           1,
           0,
           0,
           0,
           0,
           0,
           0,
           0,
           0,
           1,
           1,
           0,
           0,
           0,
           1,
           0,
           0,
           0,
           1,
           0,
           0,
           1,
           1,
           1,
           1,
           0,
           1,
           0,
           1,
           0,
           0,
           0,
           1,
           1,
           1,
           0,
           1,
           1,
           1,
           0,
           0,
           1,
           0,
           0,
           1,
           1,
           0,
           1,
           1,
           1,
           0,
           0,
           1,
           0,
           1,
           1,
           1,
           0,
           0
          ],
          "coloraxis": "coloraxis",
          "opacity": 0.6,
          "size": 8,
          "symbol": "circle"
         },
         "mode": "markers",
         "name": "",
         "orientation": "v",
         "showlegend": false,
         "type": "scatter",
         "x": [
          -0.34633140666772566,
          0.2304728011159145,
          -0.08574012028710296,
          0.17613306223652408,
          0.34015599276654185,
          0.12052725677738166,
          -0.29631548735779123,
          0.3379153895798639,
          0.14305562574461345,
          0.09977571803038754,
          0.1132143607980323,
          0.14336910884268753,
          0.3299481805932888,
          -0.2672022169101639,
          -0.19863593832692522,
          -0.33725078044275864,
          -0.35041867521445175,
          -0.3531475950291103,
          -0.31686435945984887,
          -0.2079988808174951,
          -0.20562880069910286,
          0.3607421337575031,
          -0.12276471580167418,
          0.3481424470208436,
          -0.1540991332023396,
          -0.07930643139457663,
          -0.17669129530758548,
          0.04789657065896715,
          0.28202085118652814,
          0.3413562626724171,
          0.32094377616062103,
          0.3127073519429516,
          0.17305857429459315,
          0.3698036472826204,
          0.06887811135471149,
          -0.3434424202668452,
          -0.3237618488999629,
          0.20025996407043462,
          0.3639112474018603,
          0.33889871606268956,
          -0.0609374751394788,
          0.34758101011519005,
          -0.2124931848798138,
          -0.22434439944708073,
          -0.13504284978330947,
          -0.28275542248697855,
          -0.30102864399918944,
          -0.24253709530615017,
          -0.25160235533858255,
          -0.15394547267702152,
          0.16071732634481153,
          0.2795240755419962,
          -0.04950403365347106,
          -0.30056862364443765,
          -0.34267047221280683,
          0.05202073668705796,
          -0.2592924874846937,
          -0.28834491672465823,
          -0.34985834144593775,
          0.09213798707245689,
          -0.24520780590038022,
          -0.3337954536288826,
          0.3812448768116328,
          0.2391513987642842,
          0.3287972460192025,
          0.25575179110696444,
          -0.3283730544412784,
          0.2626574733322408,
          -0.28184716127550136,
          0.18817553856168834,
          -0.3336717170483276,
          -0.33889685003661346,
          -0.06579468170235087,
          0.07436224213924489,
          0.05625381500533124,
          0.35836289206865335,
          -0.3412779959275694,
          0.11157092563678245,
          0.34392952545836536,
          0.33888256379092907,
          -0.3457491038576613,
          -0.26424529690379633,
          0.30123881806980835,
          -0.14133677215295454,
          -0.242427945231961,
          0.3818327454612818,
          0.2627708146912948,
          -0.26466538755708024,
          0.20776988612470862,
          0.35682492331216614,
          0.22357930574145973,
          -0.27182465909334025,
          -0.3497439035338436,
          0.2759281261025504,
          -0.22366808013880363,
          0.08415443292806363,
          0.3705949374936967,
          0.3821131322852848,
          -0.11352054021251719,
          -0.174543408067192
         ],
         "xaxis": "x",
         "y": [
          0.052368834074536796,
          -0.49855308473717763,
          -0.011198870774250974,
          0.3324802533025839,
          -0.11724317436212037,
          -0.37087726137592864,
          0.015720434546319006,
          -0.00465114549148895,
          0.2819308889380542,
          -0.323715040571241,
          0.23304417218459267,
          -0.4120100741864486,
          -0.2937048024625928,
          0.003724213004365206,
          -0.010938475831439247,
          0.05615053773179243,
          0.042898068800302315,
          0.048658690398964144,
          0.053729896553648356,
          -0.009738990492325253,
          0.031228565263314915,
          0.5227247839288899,
          -0.012534486132661619,
          0.1310257051277497,
          0.021977146746501745,
          0.009925432080185394,
          -0.012254104759328203,
          -0.1680753146147058,
          -0.4476563250500993,
          -0.20520435940241447,
          0.5067331683561179,
          -0.34985807666353275,
          -0.45887842868340645,
          0.32104722351447346,
          0.16031532875811746,
          0.05386295055483122,
          0.02774621705973954,
          0.3676866510768354,
          0.5184940296808138,
          -0.06763577324344947,
          -0.011087714225698505,
          0.5217447570395304,
          0.03255293527397193,
          0.03497144072804164,
          -0.012745532602262723,
          0.011908431809567457,
          0.021307296567770785,
          0.03884485489029164,
          0.04101145298685783,
          -0.012815185171326075,
          -0.441756120909644,
          0.4640407341172405,
          -0.009931229045474362,
          0.05088917998810445,
          0.055246350080995876,
          0.13575124681109266,
          -0.0014968643416365395,
          0.04863255234008632,
          0.04564879517533782,
          0.1978829872730446,
          -0.004796227940417896,
          0.05614282301991016,
          0.43102175276024085,
          0.4193752289776087,
          -0.3097621671966072,
          -0.4888053620882015,
          0.05551725563736587,
          -0.47270358934645146,
          0.007357641264365799,
          -0.46996287322316416,
          0.03178696130787019,
          0.05608414449111019,
          0.00788668192753212,
          -0.2523602577945955,
          -0.1954456836246544,
          0.2592082328803201,
          0.03577139903661661,
          -0.35200194827117304,
          0.07350183868641498,
          -0.24562471072080935,
          0.05042072181989561,
          0.04393286943417621,
          -0.4025243822564583,
          0.019820118847317023,
          0.03879567939012071,
          0.47661729206851244,
          0.4486457077595332,
          -0.00008534231829876961,
          -0.49415647424633025,
          0.20607445174296388,
          -0.4989685743275434,
          0.04544375643367711,
          0.03989261328757096,
          -0.44737113084640967,
          -0.007860279366758118,
          -0.28127898474132795,
          0.36884272543725155,
          0.4813629895492454,
          0.015278779901203753,
          0.025580551014367653
         ],
         "yaxis": "y"
        }
       ],
       "layout": {
        "coloraxis": {
         "colorbar": {
          "title": {
           "text": "color"
          }
         },
         "colorscale": [
          [
           0,
           "rgb(0,0,255)"
          ],
          [
           1,
           "rgb(255,0,0)"
          ]
         ],
         "showscale": false
        },
        "height": 400,
        "legend": {
         "tracegroupgap": 0
        },
        "margin": {
         "t": 60
        },
        "template": {
         "data": {
          "bar": [
           {
            "error_x": {
             "color": "#2a3f5f"
            },
            "error_y": {
             "color": "#2a3f5f"
            },
            "marker": {
             "line": {
              "color": "#E5ECF6",
              "width": 0.5
             },
             "pattern": {
              "fillmode": "overlay",
              "size": 10,
              "solidity": 0.2
             }
            },
            "type": "bar"
           }
          ],
          "barpolar": [
           {
            "marker": {
             "line": {
              "color": "#E5ECF6",
              "width": 0.5
             },
             "pattern": {
              "fillmode": "overlay",
              "size": 10,
              "solidity": 0.2
             }
            },
            "type": "barpolar"
           }
          ],
          "carpet": [
           {
            "aaxis": {
             "endlinecolor": "#2a3f5f",
             "gridcolor": "white",
             "linecolor": "white",
             "minorgridcolor": "white",
             "startlinecolor": "#2a3f5f"
            },
            "baxis": {
             "endlinecolor": "#2a3f5f",
             "gridcolor": "white",
             "linecolor": "white",
             "minorgridcolor": "white",
             "startlinecolor": "#2a3f5f"
            },
            "type": "carpet"
           }
          ],
          "choropleth": [
           {
            "colorbar": {
             "outlinewidth": 0,
             "ticks": ""
            },
            "type": "choropleth"
           }
          ],
          "contour": [
           {
            "colorbar": {
             "outlinewidth": 0,
             "ticks": ""
            },
            "colorscale": [
             [
              0,
              "#0d0887"
             ],
             [
              0.1111111111111111,
              "#46039f"
             ],
             [
              0.2222222222222222,
              "#7201a8"
             ],
             [
              0.3333333333333333,
              "#9c179e"
             ],
             [
              0.4444444444444444,
              "#bd3786"
             ],
             [
              0.5555555555555556,
              "#d8576b"
             ],
             [
              0.6666666666666666,
              "#ed7953"
             ],
             [
              0.7777777777777778,
              "#fb9f3a"
             ],
             [
              0.8888888888888888,
              "#fdca26"
             ],
             [
              1,
              "#f0f921"
             ]
            ],
            "type": "contour"
           }
          ],
          "contourcarpet": [
           {
            "colorbar": {
             "outlinewidth": 0,
             "ticks": ""
            },
            "type": "contourcarpet"
           }
          ],
          "heatmap": [
           {
            "colorbar": {
             "outlinewidth": 0,
             "ticks": ""
            },
            "colorscale": [
             [
              0,
              "#0d0887"
             ],
             [
              0.1111111111111111,
              "#46039f"
             ],
             [
              0.2222222222222222,
              "#7201a8"
             ],
             [
              0.3333333333333333,
              "#9c179e"
             ],
             [
              0.4444444444444444,
              "#bd3786"
             ],
             [
              0.5555555555555556,
              "#d8576b"
             ],
             [
              0.6666666666666666,
              "#ed7953"
             ],
             [
              0.7777777777777778,
              "#fb9f3a"
             ],
             [
              0.8888888888888888,
              "#fdca26"
             ],
             [
              1,
              "#f0f921"
             ]
            ],
            "type": "heatmap"
           }
          ],
          "heatmapgl": [
           {
            "colorbar": {
             "outlinewidth": 0,
             "ticks": ""
            },
            "colorscale": [
             [
              0,
              "#0d0887"
             ],
             [
              0.1111111111111111,
              "#46039f"
             ],
             [
              0.2222222222222222,
              "#7201a8"
             ],
             [
              0.3333333333333333,
              "#9c179e"
             ],
             [
              0.4444444444444444,
              "#bd3786"
             ],
             [
              0.5555555555555556,
              "#d8576b"
             ],
             [
              0.6666666666666666,
              "#ed7953"
             ],
             [
              0.7777777777777778,
              "#fb9f3a"
             ],
             [
              0.8888888888888888,
              "#fdca26"
             ],
             [
              1,
              "#f0f921"
             ]
            ],
            "type": "heatmapgl"
           }
          ],
          "histogram": [
           {
            "marker": {
             "pattern": {
              "fillmode": "overlay",
              "size": 10,
              "solidity": 0.2
             }
            },
            "type": "histogram"
           }
          ],
          "histogram2d": [
           {
            "colorbar": {
             "outlinewidth": 0,
             "ticks": ""
            },
            "colorscale": [
             [
              0,
              "#0d0887"
             ],
             [
              0.1111111111111111,
              "#46039f"
             ],
             [
              0.2222222222222222,
              "#7201a8"
             ],
             [
              0.3333333333333333,
              "#9c179e"
             ],
             [
              0.4444444444444444,
              "#bd3786"
             ],
             [
              0.5555555555555556,
              "#d8576b"
             ],
             [
              0.6666666666666666,
              "#ed7953"
             ],
             [
              0.7777777777777778,
              "#fb9f3a"
             ],
             [
              0.8888888888888888,
              "#fdca26"
             ],
             [
              1,
              "#f0f921"
             ]
            ],
            "type": "histogram2d"
           }
          ],
          "histogram2dcontour": [
           {
            "colorbar": {
             "outlinewidth": 0,
             "ticks": ""
            },
            "colorscale": [
             [
              0,
              "#0d0887"
             ],
             [
              0.1111111111111111,
              "#46039f"
             ],
             [
              0.2222222222222222,
              "#7201a8"
             ],
             [
              0.3333333333333333,
              "#9c179e"
             ],
             [
              0.4444444444444444,
              "#bd3786"
             ],
             [
              0.5555555555555556,
              "#d8576b"
             ],
             [
              0.6666666666666666,
              "#ed7953"
             ],
             [
              0.7777777777777778,
              "#fb9f3a"
             ],
             [
              0.8888888888888888,
              "#fdca26"
             ],
             [
              1,
              "#f0f921"
             ]
            ],
            "type": "histogram2dcontour"
           }
          ],
          "mesh3d": [
           {
            "colorbar": {
             "outlinewidth": 0,
             "ticks": ""
            },
            "type": "mesh3d"
           }
          ],
          "parcoords": [
           {
            "line": {
             "colorbar": {
              "outlinewidth": 0,
              "ticks": ""
             }
            },
            "type": "parcoords"
           }
          ],
          "pie": [
           {
            "automargin": true,
            "type": "pie"
           }
          ],
          "scatter": [
           {
            "fillpattern": {
             "fillmode": "overlay",
             "size": 10,
             "solidity": 0.2
            },
            "type": "scatter"
           }
          ],
          "scatter3d": [
           {
            "line": {
             "colorbar": {
              "outlinewidth": 0,
              "ticks": ""
             }
            },
            "marker": {
             "colorbar": {
              "outlinewidth": 0,
              "ticks": ""
             }
            },
            "type": "scatter3d"
           }
          ],
          "scattercarpet": [
           {
            "marker": {
             "colorbar": {
              "outlinewidth": 0,
              "ticks": ""
             }
            },
            "type": "scattercarpet"
           }
          ],
          "scattergeo": [
           {
            "marker": {
             "colorbar": {
              "outlinewidth": 0,
              "ticks": ""
             }
            },
            "type": "scattergeo"
           }
          ],
          "scattergl": [
           {
            "marker": {
             "colorbar": {
              "outlinewidth": 0,
              "ticks": ""
             }
            },
            "type": "scattergl"
           }
          ],
          "scattermapbox": [
           {
            "marker": {
             "colorbar": {
              "outlinewidth": 0,
              "ticks": ""
             }
            },
            "type": "scattermapbox"
           }
          ],
          "scatterpolar": [
           {
            "marker": {
             "colorbar": {
              "outlinewidth": 0,
              "ticks": ""
             }
            },
            "type": "scatterpolar"
           }
          ],
          "scatterpolargl": [
           {
            "marker": {
             "colorbar": {
              "outlinewidth": 0,
              "ticks": ""
             }
            },
            "type": "scatterpolargl"
           }
          ],
          "scatterternary": [
           {
            "marker": {
             "colorbar": {
              "outlinewidth": 0,
              "ticks": ""
             }
            },
            "type": "scatterternary"
           }
          ],
          "surface": [
           {
            "colorbar": {
             "outlinewidth": 0,
             "ticks": ""
            },
            "colorscale": [
             [
              0,
              "#0d0887"
             ],
             [
              0.1111111111111111,
              "#46039f"
             ],
             [
              0.2222222222222222,
              "#7201a8"
             ],
             [
              0.3333333333333333,
              "#9c179e"
             ],
             [
              0.4444444444444444,
              "#bd3786"
             ],
             [
              0.5555555555555556,
              "#d8576b"
             ],
             [
              0.6666666666666666,
              "#ed7953"
             ],
             [
              0.7777777777777778,
              "#fb9f3a"
             ],
             [
              0.8888888888888888,
              "#fdca26"
             ],
             [
              1,
              "#f0f921"
             ]
            ],
            "type": "surface"
           }
          ],
          "table": [
           {
            "cells": {
             "fill": {
              "color": "#EBF0F8"
             },
             "line": {
              "color": "white"
             }
            },
            "header": {
             "fill": {
              "color": "#C8D4E3"
             },
             "line": {
              "color": "white"
             }
            },
            "type": "table"
           }
          ]
         },
         "layout": {
          "annotationdefaults": {
           "arrowcolor": "#2a3f5f",
           "arrowhead": 0,
           "arrowwidth": 1
          },
          "autotypenumbers": "strict",
          "coloraxis": {
           "colorbar": {
            "outlinewidth": 0,
            "ticks": ""
           }
          },
          "colorscale": {
           "diverging": [
            [
             0,
             "#8e0152"
            ],
            [
             0.1,
             "#c51b7d"
            ],
            [
             0.2,
             "#de77ae"
            ],
            [
             0.3,
             "#f1b6da"
            ],
            [
             0.4,
             "#fde0ef"
            ],
            [
             0.5,
             "#f7f7f7"
            ],
            [
             0.6,
             "#e6f5d0"
            ],
            [
             0.7,
             "#b8e186"
            ],
            [
             0.8,
             "#7fbc41"
            ],
            [
             0.9,
             "#4d9221"
            ],
            [
             1,
             "#276419"
            ]
           ],
           "sequential": [
            [
             0,
             "#0d0887"
            ],
            [
             0.1111111111111111,
             "#46039f"
            ],
            [
             0.2222222222222222,
             "#7201a8"
            ],
            [
             0.3333333333333333,
             "#9c179e"
            ],
            [
             0.4444444444444444,
             "#bd3786"
            ],
            [
             0.5555555555555556,
             "#d8576b"
            ],
            [
             0.6666666666666666,
             "#ed7953"
            ],
            [
             0.7777777777777778,
             "#fb9f3a"
            ],
            [
             0.8888888888888888,
             "#fdca26"
            ],
            [
             1,
             "#f0f921"
            ]
           ],
           "sequentialminus": [
            [
             0,
             "#0d0887"
            ],
            [
             0.1111111111111111,
             "#46039f"
            ],
            [
             0.2222222222222222,
             "#7201a8"
            ],
            [
             0.3333333333333333,
             "#9c179e"
            ],
            [
             0.4444444444444444,
             "#bd3786"
            ],
            [
             0.5555555555555556,
             "#d8576b"
            ],
            [
             0.6666666666666666,
             "#ed7953"
            ],
            [
             0.7777777777777778,
             "#fb9f3a"
            ],
            [
             0.8888888888888888,
             "#fdca26"
            ],
            [
             1,
             "#f0f921"
            ]
           ]
          },
          "colorway": [
           "#636efa",
           "#EF553B",
           "#00cc96",
           "#ab63fa",
           "#FFA15A",
           "#19d3f3",
           "#FF6692",
           "#B6E880",
           "#FF97FF",
           "#FECB52"
          ],
          "font": {
           "color": "#2a3f5f"
          },
          "geo": {
           "bgcolor": "white",
           "lakecolor": "white",
           "landcolor": "#E5ECF6",
           "showlakes": true,
           "showland": true,
           "subunitcolor": "white"
          },
          "hoverlabel": {
           "align": "left"
          },
          "hovermode": "closest",
          "mapbox": {
           "style": "light"
          },
          "paper_bgcolor": "white",
          "plot_bgcolor": "#E5ECF6",
          "polar": {
           "angularaxis": {
            "gridcolor": "white",
            "linecolor": "white",
            "ticks": ""
           },
           "bgcolor": "#E5ECF6",
           "radialaxis": {
            "gridcolor": "white",
            "linecolor": "white",
            "ticks": ""
           }
          },
          "scene": {
           "xaxis": {
            "backgroundcolor": "#E5ECF6",
            "gridcolor": "white",
            "gridwidth": 2,
            "linecolor": "white",
            "showbackground": true,
            "ticks": "",
            "zerolinecolor": "white"
           },
           "yaxis": {
            "backgroundcolor": "#E5ECF6",
            "gridcolor": "white",
            "gridwidth": 2,
            "linecolor": "white",
            "showbackground": true,
            "ticks": "",
            "zerolinecolor": "white"
           },
           "zaxis": {
            "backgroundcolor": "#E5ECF6",
            "gridcolor": "white",
            "gridwidth": 2,
            "linecolor": "white",
            "showbackground": true,
            "ticks": "",
            "zerolinecolor": "white"
           }
          },
          "shapedefaults": {
           "line": {
            "color": "#2a3f5f"
           }
          },
          "ternary": {
           "aaxis": {
            "gridcolor": "white",
            "linecolor": "white",
            "ticks": ""
           },
           "baxis": {
            "gridcolor": "white",
            "linecolor": "white",
            "ticks": ""
           },
           "bgcolor": "#E5ECF6",
           "caxis": {
            "gridcolor": "white",
            "linecolor": "white",
            "ticks": ""
           }
          },
          "title": {
           "x": 0.05
          },
          "xaxis": {
           "automargin": true,
           "gridcolor": "white",
           "linecolor": "white",
           "ticks": "",
           "title": {
            "standoff": 15
           },
           "zerolinecolor": "white",
           "zerolinewidth": 2
          },
          "yaxis": {
           "automargin": true,
           "gridcolor": "white",
           "linecolor": "white",
           "ticks": "",
           "title": {
            "standoff": 15
           },
           "zerolinecolor": "white",
           "zerolinewidth": 2
          }
         }
        },
        "title": {
         "text": "Half Moons Data (Kernel PCA: 2 components)"
        },
        "width": 600,
        "xaxis": {
         "anchor": "y",
         "domain": [
          0,
          1
         ],
         "title": {
          "text": "Principal Component 1"
         }
        },
        "yaxis": {
         "anchor": "x",
         "domain": [
          0,
          1
         ],
         "title": {
          "text": "Principal Component 2"
         }
        }
       }
      },
      "text/html": [
       "<div>                            <div id=\"0a845fe3-3212-473d-8913-5f66efa38631\" class=\"plotly-graph-div\" style=\"height:400px; width:600px;\"></div>            <script type=\"text/javascript\">                require([\"plotly\"], function(Plotly) {                    window.PLOTLYENV=window.PLOTLYENV || {};                                    if (document.getElementById(\"0a845fe3-3212-473d-8913-5f66efa38631\")) {                    Plotly.newPlot(                        \"0a845fe3-3212-473d-8913-5f66efa38631\",                        [{\"hovertemplate\":\"x=%{x}<br>y=%{y}<br>color=%{marker.color}<extra></extra>\",\"legendgroup\":\"\",\"marker\":{\"color\":[0,1,0,1,1,1,0,1,1,1,1,1,1,0,0,0,0,0,0,0,0,1,0,1,0,0,0,1,1,1,1,1,1,1,1,0,0,1,1,1,0,1,0,0,0,0,0,0,0,0,1,1,0,0,0,1,0,0,0,1,0,0,1,1,1,1,0,1,0,1,0,0,0,1,1,1,0,1,1,1,0,0,1,0,0,1,1,0,1,1,1,0,0,1,0,1,1,1,0,0],\"coloraxis\":\"coloraxis\",\"symbol\":\"circle\",\"opacity\":0.6,\"size\":8},\"mode\":\"markers\",\"name\":\"\",\"orientation\":\"v\",\"showlegend\":false,\"x\":[-0.34633140666772566,0.2304728011159145,-0.08574012028710296,0.17613306223652408,0.34015599276654185,0.12052725677738166,-0.29631548735779123,0.3379153895798639,0.14305562574461345,0.09977571803038754,0.1132143607980323,0.14336910884268753,0.3299481805932888,-0.2672022169101639,-0.19863593832692522,-0.33725078044275864,-0.35041867521445175,-0.3531475950291103,-0.31686435945984887,-0.2079988808174951,-0.20562880069910286,0.3607421337575031,-0.12276471580167418,0.3481424470208436,-0.1540991332023396,-0.07930643139457663,-0.17669129530758548,0.04789657065896715,0.28202085118652814,0.3413562626724171,0.32094377616062103,0.3127073519429516,0.17305857429459315,0.3698036472826204,0.06887811135471149,-0.3434424202668452,-0.3237618488999629,0.20025996407043462,0.3639112474018603,0.33889871606268956,-0.0609374751394788,0.34758101011519005,-0.2124931848798138,-0.22434439944708073,-0.13504284978330947,-0.28275542248697855,-0.30102864399918944,-0.24253709530615017,-0.25160235533858255,-0.15394547267702152,0.16071732634481153,0.2795240755419962,-0.04950403365347106,-0.30056862364443765,-0.34267047221280683,0.05202073668705796,-0.2592924874846937,-0.28834491672465823,-0.34985834144593775,0.09213798707245689,-0.24520780590038022,-0.3337954536288826,0.3812448768116328,0.2391513987642842,0.3287972460192025,0.25575179110696444,-0.3283730544412784,0.2626574733322408,-0.28184716127550136,0.18817553856168834,-0.3336717170483276,-0.33889685003661346,-0.06579468170235087,0.07436224213924489,0.05625381500533124,0.35836289206865335,-0.3412779959275694,0.11157092563678245,0.34392952545836536,0.33888256379092907,-0.3457491038576613,-0.26424529690379633,0.30123881806980835,-0.14133677215295454,-0.242427945231961,0.3818327454612818,0.2627708146912948,-0.26466538755708024,0.20776988612470862,0.35682492331216614,0.22357930574145973,-0.27182465909334025,-0.3497439035338436,0.2759281261025504,-0.22366808013880363,0.08415443292806363,0.3705949374936967,0.3821131322852848,-0.11352054021251719,-0.174543408067192],\"xaxis\":\"x\",\"y\":[0.052368834074536796,-0.49855308473717763,-0.011198870774250974,0.3324802533025839,-0.11724317436212037,-0.37087726137592864,0.015720434546319006,-0.00465114549148895,0.2819308889380542,-0.323715040571241,0.23304417218459267,-0.4120100741864486,-0.2937048024625928,0.003724213004365206,-0.010938475831439247,0.05615053773179243,0.042898068800302315,0.048658690398964144,0.053729896553648356,-0.009738990492325253,0.031228565263314915,0.5227247839288899,-0.012534486132661619,0.1310257051277497,0.021977146746501745,0.009925432080185394,-0.012254104759328203,-0.1680753146147058,-0.4476563250500993,-0.20520435940241447,0.5067331683561179,-0.34985807666353275,-0.45887842868340645,0.32104722351447346,0.16031532875811746,0.05386295055483122,0.02774621705973954,0.3676866510768354,0.5184940296808138,-0.06763577324344947,-0.011087714225698505,0.5217447570395304,0.03255293527397193,0.03497144072804164,-0.012745532602262723,0.011908431809567457,0.021307296567770785,0.03884485489029164,0.04101145298685783,-0.012815185171326075,-0.441756120909644,0.4640407341172405,-0.009931229045474362,0.05088917998810445,0.055246350080995876,0.13575124681109266,-0.0014968643416365395,0.04863255234008632,0.04564879517533782,0.1978829872730446,-0.004796227940417896,0.05614282301991016,0.43102175276024085,0.4193752289776087,-0.3097621671966072,-0.4888053620882015,0.05551725563736587,-0.47270358934645146,0.007357641264365799,-0.46996287322316416,0.03178696130787019,0.05608414449111019,0.00788668192753212,-0.2523602577945955,-0.1954456836246544,0.2592082328803201,0.03577139903661661,-0.35200194827117304,0.07350183868641498,-0.24562471072080935,0.05042072181989561,0.04393286943417621,-0.4025243822564583,0.019820118847317023,0.03879567939012071,0.47661729206851244,0.4486457077595332,-8.534231829876961e-05,-0.49415647424633025,0.20607445174296388,-0.4989685743275434,0.04544375643367711,0.03989261328757096,-0.44737113084640967,-0.007860279366758118,-0.28127898474132795,0.36884272543725155,0.4813629895492454,0.015278779901203753,0.025580551014367653],\"yaxis\":\"y\",\"type\":\"scatter\"}],                        {\"template\":{\"data\":{\"histogram2dcontour\":[{\"type\":\"histogram2dcontour\",\"colorbar\":{\"outlinewidth\":0,\"ticks\":\"\"},\"colorscale\":[[0.0,\"#0d0887\"],[0.1111111111111111,\"#46039f\"],[0.2222222222222222,\"#7201a8\"],[0.3333333333333333,\"#9c179e\"],[0.4444444444444444,\"#bd3786\"],[0.5555555555555556,\"#d8576b\"],[0.6666666666666666,\"#ed7953\"],[0.7777777777777778,\"#fb9f3a\"],[0.8888888888888888,\"#fdca26\"],[1.0,\"#f0f921\"]]}],\"choropleth\":[{\"type\":\"choropleth\",\"colorbar\":{\"outlinewidth\":0,\"ticks\":\"\"}}],\"histogram2d\":[{\"type\":\"histogram2d\",\"colorbar\":{\"outlinewidth\":0,\"ticks\":\"\"},\"colorscale\":[[0.0,\"#0d0887\"],[0.1111111111111111,\"#46039f\"],[0.2222222222222222,\"#7201a8\"],[0.3333333333333333,\"#9c179e\"],[0.4444444444444444,\"#bd3786\"],[0.5555555555555556,\"#d8576b\"],[0.6666666666666666,\"#ed7953\"],[0.7777777777777778,\"#fb9f3a\"],[0.8888888888888888,\"#fdca26\"],[1.0,\"#f0f921\"]]}],\"heatmap\":[{\"type\":\"heatmap\",\"colorbar\":{\"outlinewidth\":0,\"ticks\":\"\"},\"colorscale\":[[0.0,\"#0d0887\"],[0.1111111111111111,\"#46039f\"],[0.2222222222222222,\"#7201a8\"],[0.3333333333333333,\"#9c179e\"],[0.4444444444444444,\"#bd3786\"],[0.5555555555555556,\"#d8576b\"],[0.6666666666666666,\"#ed7953\"],[0.7777777777777778,\"#fb9f3a\"],[0.8888888888888888,\"#fdca26\"],[1.0,\"#f0f921\"]]}],\"heatmapgl\":[{\"type\":\"heatmapgl\",\"colorbar\":{\"outlinewidth\":0,\"ticks\":\"\"},\"colorscale\":[[0.0,\"#0d0887\"],[0.1111111111111111,\"#46039f\"],[0.2222222222222222,\"#7201a8\"],[0.3333333333333333,\"#9c179e\"],[0.4444444444444444,\"#bd3786\"],[0.5555555555555556,\"#d8576b\"],[0.6666666666666666,\"#ed7953\"],[0.7777777777777778,\"#fb9f3a\"],[0.8888888888888888,\"#fdca26\"],[1.0,\"#f0f921\"]]}],\"contourcarpet\":[{\"type\":\"contourcarpet\",\"colorbar\":{\"outlinewidth\":0,\"ticks\":\"\"}}],\"contour\":[{\"type\":\"contour\",\"colorbar\":{\"outlinewidth\":0,\"ticks\":\"\"},\"colorscale\":[[0.0,\"#0d0887\"],[0.1111111111111111,\"#46039f\"],[0.2222222222222222,\"#7201a8\"],[0.3333333333333333,\"#9c179e\"],[0.4444444444444444,\"#bd3786\"],[0.5555555555555556,\"#d8576b\"],[0.6666666666666666,\"#ed7953\"],[0.7777777777777778,\"#fb9f3a\"],[0.8888888888888888,\"#fdca26\"],[1.0,\"#f0f921\"]]}],\"surface\":[{\"type\":\"surface\",\"colorbar\":{\"outlinewidth\":0,\"ticks\":\"\"},\"colorscale\":[[0.0,\"#0d0887\"],[0.1111111111111111,\"#46039f\"],[0.2222222222222222,\"#7201a8\"],[0.3333333333333333,\"#9c179e\"],[0.4444444444444444,\"#bd3786\"],[0.5555555555555556,\"#d8576b\"],[0.6666666666666666,\"#ed7953\"],[0.7777777777777778,\"#fb9f3a\"],[0.8888888888888888,\"#fdca26\"],[1.0,\"#f0f921\"]]}],\"mesh3d\":[{\"type\":\"mesh3d\",\"colorbar\":{\"outlinewidth\":0,\"ticks\":\"\"}}],\"scatter\":[{\"fillpattern\":{\"fillmode\":\"overlay\",\"size\":10,\"solidity\":0.2},\"type\":\"scatter\"}],\"parcoords\":[{\"type\":\"parcoords\",\"line\":{\"colorbar\":{\"outlinewidth\":0,\"ticks\":\"\"}}}],\"scatterpolargl\":[{\"type\":\"scatterpolargl\",\"marker\":{\"colorbar\":{\"outlinewidth\":0,\"ticks\":\"\"}}}],\"bar\":[{\"error_x\":{\"color\":\"#2a3f5f\"},\"error_y\":{\"color\":\"#2a3f5f\"},\"marker\":{\"line\":{\"color\":\"#E5ECF6\",\"width\":0.5},\"pattern\":{\"fillmode\":\"overlay\",\"size\":10,\"solidity\":0.2}},\"type\":\"bar\"}],\"scattergeo\":[{\"type\":\"scattergeo\",\"marker\":{\"colorbar\":{\"outlinewidth\":0,\"ticks\":\"\"}}}],\"scatterpolar\":[{\"type\":\"scatterpolar\",\"marker\":{\"colorbar\":{\"outlinewidth\":0,\"ticks\":\"\"}}}],\"histogram\":[{\"marker\":{\"pattern\":{\"fillmode\":\"overlay\",\"size\":10,\"solidity\":0.2}},\"type\":\"histogram\"}],\"scattergl\":[{\"type\":\"scattergl\",\"marker\":{\"colorbar\":{\"outlinewidth\":0,\"ticks\":\"\"}}}],\"scatter3d\":[{\"type\":\"scatter3d\",\"line\":{\"colorbar\":{\"outlinewidth\":0,\"ticks\":\"\"}},\"marker\":{\"colorbar\":{\"outlinewidth\":0,\"ticks\":\"\"}}}],\"scattermapbox\":[{\"type\":\"scattermapbox\",\"marker\":{\"colorbar\":{\"outlinewidth\":0,\"ticks\":\"\"}}}],\"scatterternary\":[{\"type\":\"scatterternary\",\"marker\":{\"colorbar\":{\"outlinewidth\":0,\"ticks\":\"\"}}}],\"scattercarpet\":[{\"type\":\"scattercarpet\",\"marker\":{\"colorbar\":{\"outlinewidth\":0,\"ticks\":\"\"}}}],\"carpet\":[{\"aaxis\":{\"endlinecolor\":\"#2a3f5f\",\"gridcolor\":\"white\",\"linecolor\":\"white\",\"minorgridcolor\":\"white\",\"startlinecolor\":\"#2a3f5f\"},\"baxis\":{\"endlinecolor\":\"#2a3f5f\",\"gridcolor\":\"white\",\"linecolor\":\"white\",\"minorgridcolor\":\"white\",\"startlinecolor\":\"#2a3f5f\"},\"type\":\"carpet\"}],\"table\":[{\"cells\":{\"fill\":{\"color\":\"#EBF0F8\"},\"line\":{\"color\":\"white\"}},\"header\":{\"fill\":{\"color\":\"#C8D4E3\"},\"line\":{\"color\":\"white\"}},\"type\":\"table\"}],\"barpolar\":[{\"marker\":{\"line\":{\"color\":\"#E5ECF6\",\"width\":0.5},\"pattern\":{\"fillmode\":\"overlay\",\"size\":10,\"solidity\":0.2}},\"type\":\"barpolar\"}],\"pie\":[{\"automargin\":true,\"type\":\"pie\"}]},\"layout\":{\"autotypenumbers\":\"strict\",\"colorway\":[\"#636efa\",\"#EF553B\",\"#00cc96\",\"#ab63fa\",\"#FFA15A\",\"#19d3f3\",\"#FF6692\",\"#B6E880\",\"#FF97FF\",\"#FECB52\"],\"font\":{\"color\":\"#2a3f5f\"},\"hovermode\":\"closest\",\"hoverlabel\":{\"align\":\"left\"},\"paper_bgcolor\":\"white\",\"plot_bgcolor\":\"#E5ECF6\",\"polar\":{\"bgcolor\":\"#E5ECF6\",\"angularaxis\":{\"gridcolor\":\"white\",\"linecolor\":\"white\",\"ticks\":\"\"},\"radialaxis\":{\"gridcolor\":\"white\",\"linecolor\":\"white\",\"ticks\":\"\"}},\"ternary\":{\"bgcolor\":\"#E5ECF6\",\"aaxis\":{\"gridcolor\":\"white\",\"linecolor\":\"white\",\"ticks\":\"\"},\"baxis\":{\"gridcolor\":\"white\",\"linecolor\":\"white\",\"ticks\":\"\"},\"caxis\":{\"gridcolor\":\"white\",\"linecolor\":\"white\",\"ticks\":\"\"}},\"coloraxis\":{\"colorbar\":{\"outlinewidth\":0,\"ticks\":\"\"}},\"colorscale\":{\"sequential\":[[0.0,\"#0d0887\"],[0.1111111111111111,\"#46039f\"],[0.2222222222222222,\"#7201a8\"],[0.3333333333333333,\"#9c179e\"],[0.4444444444444444,\"#bd3786\"],[0.5555555555555556,\"#d8576b\"],[0.6666666666666666,\"#ed7953\"],[0.7777777777777778,\"#fb9f3a\"],[0.8888888888888888,\"#fdca26\"],[1.0,\"#f0f921\"]],\"sequentialminus\":[[0.0,\"#0d0887\"],[0.1111111111111111,\"#46039f\"],[0.2222222222222222,\"#7201a8\"],[0.3333333333333333,\"#9c179e\"],[0.4444444444444444,\"#bd3786\"],[0.5555555555555556,\"#d8576b\"],[0.6666666666666666,\"#ed7953\"],[0.7777777777777778,\"#fb9f3a\"],[0.8888888888888888,\"#fdca26\"],[1.0,\"#f0f921\"]],\"diverging\":[[0,\"#8e0152\"],[0.1,\"#c51b7d\"],[0.2,\"#de77ae\"],[0.3,\"#f1b6da\"],[0.4,\"#fde0ef\"],[0.5,\"#f7f7f7\"],[0.6,\"#e6f5d0\"],[0.7,\"#b8e186\"],[0.8,\"#7fbc41\"],[0.9,\"#4d9221\"],[1,\"#276419\"]]},\"xaxis\":{\"gridcolor\":\"white\",\"linecolor\":\"white\",\"ticks\":\"\",\"title\":{\"standoff\":15},\"zerolinecolor\":\"white\",\"automargin\":true,\"zerolinewidth\":2},\"yaxis\":{\"gridcolor\":\"white\",\"linecolor\":\"white\",\"ticks\":\"\",\"title\":{\"standoff\":15},\"zerolinecolor\":\"white\",\"automargin\":true,\"zerolinewidth\":2},\"scene\":{\"xaxis\":{\"backgroundcolor\":\"#E5ECF6\",\"gridcolor\":\"white\",\"linecolor\":\"white\",\"showbackground\":true,\"ticks\":\"\",\"zerolinecolor\":\"white\",\"gridwidth\":2},\"yaxis\":{\"backgroundcolor\":\"#E5ECF6\",\"gridcolor\":\"white\",\"linecolor\":\"white\",\"showbackground\":true,\"ticks\":\"\",\"zerolinecolor\":\"white\",\"gridwidth\":2},\"zaxis\":{\"backgroundcolor\":\"#E5ECF6\",\"gridcolor\":\"white\",\"linecolor\":\"white\",\"showbackground\":true,\"ticks\":\"\",\"zerolinecolor\":\"white\",\"gridwidth\":2}},\"shapedefaults\":{\"line\":{\"color\":\"#2a3f5f\"}},\"annotationdefaults\":{\"arrowcolor\":\"#2a3f5f\",\"arrowhead\":0,\"arrowwidth\":1},\"geo\":{\"bgcolor\":\"white\",\"landcolor\":\"#E5ECF6\",\"subunitcolor\":\"white\",\"showland\":true,\"showlakes\":true,\"lakecolor\":\"white\"},\"title\":{\"x\":0.05},\"mapbox\":{\"style\":\"light\"}}},\"xaxis\":{\"anchor\":\"y\",\"domain\":[0.0,1.0],\"title\":{\"text\":\"Principal Component 1\"}},\"yaxis\":{\"anchor\":\"x\",\"domain\":[0.0,1.0],\"title\":{\"text\":\"Principal Component 2\"}},\"coloraxis\":{\"colorbar\":{\"title\":{\"text\":\"color\"}},\"colorscale\":[[0.0,\"rgb(0,0,255)\"],[1.0,\"rgb(255,0,0)\"]],\"showscale\":false},\"legend\":{\"tracegroupgap\":0},\"margin\":{\"t\":60},\"width\":600,\"height\":400,\"title\":{\"text\":\"Half Moons Data (Kernel PCA: 2 components)\"}},                        {\"responsive\": true}                    ).then(function(){\n",
       "                            \n",
       "var gd = document.getElementById('0a845fe3-3212-473d-8913-5f66efa38631');\n",
       "var x = new MutationObserver(function (mutations, observer) {{\n",
       "        var display = window.getComputedStyle(gd).display;\n",
       "        if (!display || display === 'none') {{\n",
       "            console.log([gd, 'removed!']);\n",
       "            Plotly.purge(gd);\n",
       "            observer.disconnect();\n",
       "        }}\n",
       "}});\n",
       "\n",
       "// Listen for the removal of the full notebook cells\n",
       "var notebookContainer = gd.closest('#notebook-container');\n",
       "if (notebookContainer) {{\n",
       "    x.observe(notebookContainer, {childList: true});\n",
       "}}\n",
       "\n",
       "// Listen for the clearing of the current output cell\n",
       "var outputEl = gd.closest('.output');\n",
       "if (outputEl) {{\n",
       "    x.observe(outputEl, {childList: true});\n",
       "}}\n",
       "\n",
       "                        })                };                });            </script>        </div>"
      ]
     },
     "metadata": {},
     "output_type": "display_data"
    }
   ],
   "source": [
    "# Plotting the transformed data in a two principal component space\n",
    "figK2 = px.scatter(x=dataK[:, 0], y=dataK[:, 1], \n",
    "                   color=ym, color_continuous_scale='bluered')\n",
    "figK2.update_traces(marker=dict(size=8, opacity=0.6))\n",
    "figK2.update_layout(coloraxis_showscale=False, \n",
    "                    width=600, height=400, \n",
    "                    xaxis_title='Principal Component 1', \n",
    "                    yaxis_title='Principal Component 2',  \n",
    "                    title='Half Moons Data (Kernel PCA: 2 components)')\n",
    "figK2.show()"
   ]
  },
  {
   "cell_type": "code",
   "execution_count": 14,
   "metadata": {},
   "outputs": [
    {
     "data": {
      "application/vnd.plotly.v1+json": {
       "config": {
        "plotlyServerURL": "https://plot.ly"
       },
       "data": [
        {
         "hovertemplate": "x=%{x}<br>y=%{y}<br>color=%{marker.color}<extra></extra>",
         "legendgroup": "",
         "marker": {
          "color": [
           0,
           1,
           0,
           1,
           1,
           1,
           0,
           1,
           1,
           1,
           1,
           1,
           1,
           0,
           0,
           0,
           0,
           0,
           0,
           0,
           0,
           1,
           0,
           1,
           0,
           0,
           0,
           1,
           1,
           1,
           1,
           1,
           1,
           1,
           1,
           0,
           0,
           1,
           1,
           1,
           0,
           1,
           0,
           0,
           0,
           0,
           0,
           0,
           0,
           0,
           1,
           1,
           0,
           0,
           0,
           1,
           0,
           0,
           0,
           1,
           0,
           0,
           1,
           1,
           1,
           1,
           0,
           1,
           0,
           1,
           0,
           0,
           0,
           1,
           1,
           1,
           0,
           1,
           1,
           1,
           0,
           0,
           1,
           0,
           0,
           1,
           1,
           0,
           1,
           1,
           1,
           0,
           0,
           1,
           0,
           1,
           1,
           1,
           0,
           0
          ],
          "coloraxis": "coloraxis",
          "opacity": 0.6,
          "size": 8,
          "symbol": "circle"
         },
         "mode": "markers",
         "name": "",
         "orientation": "v",
         "showlegend": false,
         "type": "scatter",
         "x": [
          -0.34633140666772566,
          0.2304728011159145,
          -0.08574012028710296,
          0.17613306223652408,
          0.34015599276654185,
          0.12052725677738166,
          -0.29631548735779123,
          0.3379153895798639,
          0.14305562574461345,
          0.09977571803038754,
          0.1132143607980323,
          0.14336910884268753,
          0.3299481805932888,
          -0.2672022169101639,
          -0.19863593832692522,
          -0.33725078044275864,
          -0.35041867521445175,
          -0.3531475950291103,
          -0.31686435945984887,
          -0.2079988808174951,
          -0.20562880069910286,
          0.3607421337575031,
          -0.12276471580167418,
          0.3481424470208436,
          -0.1540991332023396,
          -0.07930643139457663,
          -0.17669129530758548,
          0.04789657065896715,
          0.28202085118652814,
          0.3413562626724171,
          0.32094377616062103,
          0.3127073519429516,
          0.17305857429459315,
          0.3698036472826204,
          0.06887811135471149,
          -0.3434424202668452,
          -0.3237618488999629,
          0.20025996407043462,
          0.3639112474018603,
          0.33889871606268956,
          -0.0609374751394788,
          0.34758101011519005,
          -0.2124931848798138,
          -0.22434439944708073,
          -0.13504284978330947,
          -0.28275542248697855,
          -0.30102864399918944,
          -0.24253709530615017,
          -0.25160235533858255,
          -0.15394547267702152,
          0.16071732634481153,
          0.2795240755419962,
          -0.04950403365347106,
          -0.30056862364443765,
          -0.34267047221280683,
          0.05202073668705796,
          -0.2592924874846937,
          -0.28834491672465823,
          -0.34985834144593775,
          0.09213798707245689,
          -0.24520780590038022,
          -0.3337954536288826,
          0.3812448768116328,
          0.2391513987642842,
          0.3287972460192025,
          0.25575179110696444,
          -0.3283730544412784,
          0.2626574733322408,
          -0.28184716127550136,
          0.18817553856168834,
          -0.3336717170483276,
          -0.33889685003661346,
          -0.06579468170235087,
          0.07436224213924489,
          0.05625381500533124,
          0.35836289206865335,
          -0.3412779959275694,
          0.11157092563678245,
          0.34392952545836536,
          0.33888256379092907,
          -0.3457491038576613,
          -0.26424529690379633,
          0.30123881806980835,
          -0.14133677215295454,
          -0.242427945231961,
          0.3818327454612818,
          0.2627708146912948,
          -0.26466538755708024,
          0.20776988612470862,
          0.35682492331216614,
          0.22357930574145973,
          -0.27182465909334025,
          -0.3497439035338436,
          0.2759281261025504,
          -0.22366808013880363,
          0.08415443292806363,
          0.3705949374936967,
          0.3821131322852848,
          -0.11352054021251719,
          -0.174543408067192
         ],
         "xaxis": "x",
         "y": [
          0,
          0,
          0,
          0,
          0,
          0,
          0,
          0,
          0,
          0,
          0,
          0,
          0,
          0,
          0,
          0,
          0,
          0,
          0,
          0,
          0,
          0,
          0,
          0,
          0,
          0,
          0,
          0,
          0,
          0,
          0,
          0,
          0,
          0,
          0,
          0,
          0,
          0,
          0,
          0,
          0,
          0,
          0,
          0,
          0,
          0,
          0,
          0,
          0,
          0,
          0,
          0,
          0,
          0,
          0,
          0,
          0,
          0,
          0,
          0,
          0,
          0,
          0,
          0,
          0,
          0,
          0,
          0,
          0,
          0,
          0,
          0,
          0,
          0,
          0,
          0,
          0,
          0,
          0,
          0,
          0,
          0,
          0,
          0,
          0,
          0,
          0,
          0,
          0,
          0,
          0,
          0,
          0,
          0,
          0,
          0,
          0,
          0,
          0,
          0
         ],
         "yaxis": "y"
        }
       ],
       "layout": {
        "coloraxis": {
         "colorbar": {
          "title": {
           "text": "color"
          }
         },
         "colorscale": [
          [
           0,
           "rgb(0,0,255)"
          ],
          [
           1,
           "rgb(255,0,0)"
          ]
         ],
         "showscale": false
        },
        "height": 400,
        "legend": {
         "tracegroupgap": 0
        },
        "margin": {
         "t": 60
        },
        "template": {
         "data": {
          "bar": [
           {
            "error_x": {
             "color": "#2a3f5f"
            },
            "error_y": {
             "color": "#2a3f5f"
            },
            "marker": {
             "line": {
              "color": "#E5ECF6",
              "width": 0.5
             },
             "pattern": {
              "fillmode": "overlay",
              "size": 10,
              "solidity": 0.2
             }
            },
            "type": "bar"
           }
          ],
          "barpolar": [
           {
            "marker": {
             "line": {
              "color": "#E5ECF6",
              "width": 0.5
             },
             "pattern": {
              "fillmode": "overlay",
              "size": 10,
              "solidity": 0.2
             }
            },
            "type": "barpolar"
           }
          ],
          "carpet": [
           {
            "aaxis": {
             "endlinecolor": "#2a3f5f",
             "gridcolor": "white",
             "linecolor": "white",
             "minorgridcolor": "white",
             "startlinecolor": "#2a3f5f"
            },
            "baxis": {
             "endlinecolor": "#2a3f5f",
             "gridcolor": "white",
             "linecolor": "white",
             "minorgridcolor": "white",
             "startlinecolor": "#2a3f5f"
            },
            "type": "carpet"
           }
          ],
          "choropleth": [
           {
            "colorbar": {
             "outlinewidth": 0,
             "ticks": ""
            },
            "type": "choropleth"
           }
          ],
          "contour": [
           {
            "colorbar": {
             "outlinewidth": 0,
             "ticks": ""
            },
            "colorscale": [
             [
              0,
              "#0d0887"
             ],
             [
              0.1111111111111111,
              "#46039f"
             ],
             [
              0.2222222222222222,
              "#7201a8"
             ],
             [
              0.3333333333333333,
              "#9c179e"
             ],
             [
              0.4444444444444444,
              "#bd3786"
             ],
             [
              0.5555555555555556,
              "#d8576b"
             ],
             [
              0.6666666666666666,
              "#ed7953"
             ],
             [
              0.7777777777777778,
              "#fb9f3a"
             ],
             [
              0.8888888888888888,
              "#fdca26"
             ],
             [
              1,
              "#f0f921"
             ]
            ],
            "type": "contour"
           }
          ],
          "contourcarpet": [
           {
            "colorbar": {
             "outlinewidth": 0,
             "ticks": ""
            },
            "type": "contourcarpet"
           }
          ],
          "heatmap": [
           {
            "colorbar": {
             "outlinewidth": 0,
             "ticks": ""
            },
            "colorscale": [
             [
              0,
              "#0d0887"
             ],
             [
              0.1111111111111111,
              "#46039f"
             ],
             [
              0.2222222222222222,
              "#7201a8"
             ],
             [
              0.3333333333333333,
              "#9c179e"
             ],
             [
              0.4444444444444444,
              "#bd3786"
             ],
             [
              0.5555555555555556,
              "#d8576b"
             ],
             [
              0.6666666666666666,
              "#ed7953"
             ],
             [
              0.7777777777777778,
              "#fb9f3a"
             ],
             [
              0.8888888888888888,
              "#fdca26"
             ],
             [
              1,
              "#f0f921"
             ]
            ],
            "type": "heatmap"
           }
          ],
          "heatmapgl": [
           {
            "colorbar": {
             "outlinewidth": 0,
             "ticks": ""
            },
            "colorscale": [
             [
              0,
              "#0d0887"
             ],
             [
              0.1111111111111111,
              "#46039f"
             ],
             [
              0.2222222222222222,
              "#7201a8"
             ],
             [
              0.3333333333333333,
              "#9c179e"
             ],
             [
              0.4444444444444444,
              "#bd3786"
             ],
             [
              0.5555555555555556,
              "#d8576b"
             ],
             [
              0.6666666666666666,
              "#ed7953"
             ],
             [
              0.7777777777777778,
              "#fb9f3a"
             ],
             [
              0.8888888888888888,
              "#fdca26"
             ],
             [
              1,
              "#f0f921"
             ]
            ],
            "type": "heatmapgl"
           }
          ],
          "histogram": [
           {
            "marker": {
             "pattern": {
              "fillmode": "overlay",
              "size": 10,
              "solidity": 0.2
             }
            },
            "type": "histogram"
           }
          ],
          "histogram2d": [
           {
            "colorbar": {
             "outlinewidth": 0,
             "ticks": ""
            },
            "colorscale": [
             [
              0,
              "#0d0887"
             ],
             [
              0.1111111111111111,
              "#46039f"
             ],
             [
              0.2222222222222222,
              "#7201a8"
             ],
             [
              0.3333333333333333,
              "#9c179e"
             ],
             [
              0.4444444444444444,
              "#bd3786"
             ],
             [
              0.5555555555555556,
              "#d8576b"
             ],
             [
              0.6666666666666666,
              "#ed7953"
             ],
             [
              0.7777777777777778,
              "#fb9f3a"
             ],
             [
              0.8888888888888888,
              "#fdca26"
             ],
             [
              1,
              "#f0f921"
             ]
            ],
            "type": "histogram2d"
           }
          ],
          "histogram2dcontour": [
           {
            "colorbar": {
             "outlinewidth": 0,
             "ticks": ""
            },
            "colorscale": [
             [
              0,
              "#0d0887"
             ],
             [
              0.1111111111111111,
              "#46039f"
             ],
             [
              0.2222222222222222,
              "#7201a8"
             ],
             [
              0.3333333333333333,
              "#9c179e"
             ],
             [
              0.4444444444444444,
              "#bd3786"
             ],
             [
              0.5555555555555556,
              "#d8576b"
             ],
             [
              0.6666666666666666,
              "#ed7953"
             ],
             [
              0.7777777777777778,
              "#fb9f3a"
             ],
             [
              0.8888888888888888,
              "#fdca26"
             ],
             [
              1,
              "#f0f921"
             ]
            ],
            "type": "histogram2dcontour"
           }
          ],
          "mesh3d": [
           {
            "colorbar": {
             "outlinewidth": 0,
             "ticks": ""
            },
            "type": "mesh3d"
           }
          ],
          "parcoords": [
           {
            "line": {
             "colorbar": {
              "outlinewidth": 0,
              "ticks": ""
             }
            },
            "type": "parcoords"
           }
          ],
          "pie": [
           {
            "automargin": true,
            "type": "pie"
           }
          ],
          "scatter": [
           {
            "fillpattern": {
             "fillmode": "overlay",
             "size": 10,
             "solidity": 0.2
            },
            "type": "scatter"
           }
          ],
          "scatter3d": [
           {
            "line": {
             "colorbar": {
              "outlinewidth": 0,
              "ticks": ""
             }
            },
            "marker": {
             "colorbar": {
              "outlinewidth": 0,
              "ticks": ""
             }
            },
            "type": "scatter3d"
           }
          ],
          "scattercarpet": [
           {
            "marker": {
             "colorbar": {
              "outlinewidth": 0,
              "ticks": ""
             }
            },
            "type": "scattercarpet"
           }
          ],
          "scattergeo": [
           {
            "marker": {
             "colorbar": {
              "outlinewidth": 0,
              "ticks": ""
             }
            },
            "type": "scattergeo"
           }
          ],
          "scattergl": [
           {
            "marker": {
             "colorbar": {
              "outlinewidth": 0,
              "ticks": ""
             }
            },
            "type": "scattergl"
           }
          ],
          "scattermapbox": [
           {
            "marker": {
             "colorbar": {
              "outlinewidth": 0,
              "ticks": ""
             }
            },
            "type": "scattermapbox"
           }
          ],
          "scatterpolar": [
           {
            "marker": {
             "colorbar": {
              "outlinewidth": 0,
              "ticks": ""
             }
            },
            "type": "scatterpolar"
           }
          ],
          "scatterpolargl": [
           {
            "marker": {
             "colorbar": {
              "outlinewidth": 0,
              "ticks": ""
             }
            },
            "type": "scatterpolargl"
           }
          ],
          "scatterternary": [
           {
            "marker": {
             "colorbar": {
              "outlinewidth": 0,
              "ticks": ""
             }
            },
            "type": "scatterternary"
           }
          ],
          "surface": [
           {
            "colorbar": {
             "outlinewidth": 0,
             "ticks": ""
            },
            "colorscale": [
             [
              0,
              "#0d0887"
             ],
             [
              0.1111111111111111,
              "#46039f"
             ],
             [
              0.2222222222222222,
              "#7201a8"
             ],
             [
              0.3333333333333333,
              "#9c179e"
             ],
             [
              0.4444444444444444,
              "#bd3786"
             ],
             [
              0.5555555555555556,
              "#d8576b"
             ],
             [
              0.6666666666666666,
              "#ed7953"
             ],
             [
              0.7777777777777778,
              "#fb9f3a"
             ],
             [
              0.8888888888888888,
              "#fdca26"
             ],
             [
              1,
              "#f0f921"
             ]
            ],
            "type": "surface"
           }
          ],
          "table": [
           {
            "cells": {
             "fill": {
              "color": "#EBF0F8"
             },
             "line": {
              "color": "white"
             }
            },
            "header": {
             "fill": {
              "color": "#C8D4E3"
             },
             "line": {
              "color": "white"
             }
            },
            "type": "table"
           }
          ]
         },
         "layout": {
          "annotationdefaults": {
           "arrowcolor": "#2a3f5f",
           "arrowhead": 0,
           "arrowwidth": 1
          },
          "autotypenumbers": "strict",
          "coloraxis": {
           "colorbar": {
            "outlinewidth": 0,
            "ticks": ""
           }
          },
          "colorscale": {
           "diverging": [
            [
             0,
             "#8e0152"
            ],
            [
             0.1,
             "#c51b7d"
            ],
            [
             0.2,
             "#de77ae"
            ],
            [
             0.3,
             "#f1b6da"
            ],
            [
             0.4,
             "#fde0ef"
            ],
            [
             0.5,
             "#f7f7f7"
            ],
            [
             0.6,
             "#e6f5d0"
            ],
            [
             0.7,
             "#b8e186"
            ],
            [
             0.8,
             "#7fbc41"
            ],
            [
             0.9,
             "#4d9221"
            ],
            [
             1,
             "#276419"
            ]
           ],
           "sequential": [
            [
             0,
             "#0d0887"
            ],
            [
             0.1111111111111111,
             "#46039f"
            ],
            [
             0.2222222222222222,
             "#7201a8"
            ],
            [
             0.3333333333333333,
             "#9c179e"
            ],
            [
             0.4444444444444444,
             "#bd3786"
            ],
            [
             0.5555555555555556,
             "#d8576b"
            ],
            [
             0.6666666666666666,
             "#ed7953"
            ],
            [
             0.7777777777777778,
             "#fb9f3a"
            ],
            [
             0.8888888888888888,
             "#fdca26"
            ],
            [
             1,
             "#f0f921"
            ]
           ],
           "sequentialminus": [
            [
             0,
             "#0d0887"
            ],
            [
             0.1111111111111111,
             "#46039f"
            ],
            [
             0.2222222222222222,
             "#7201a8"
            ],
            [
             0.3333333333333333,
             "#9c179e"
            ],
            [
             0.4444444444444444,
             "#bd3786"
            ],
            [
             0.5555555555555556,
             "#d8576b"
            ],
            [
             0.6666666666666666,
             "#ed7953"
            ],
            [
             0.7777777777777778,
             "#fb9f3a"
            ],
            [
             0.8888888888888888,
             "#fdca26"
            ],
            [
             1,
             "#f0f921"
            ]
           ]
          },
          "colorway": [
           "#636efa",
           "#EF553B",
           "#00cc96",
           "#ab63fa",
           "#FFA15A",
           "#19d3f3",
           "#FF6692",
           "#B6E880",
           "#FF97FF",
           "#FECB52"
          ],
          "font": {
           "color": "#2a3f5f"
          },
          "geo": {
           "bgcolor": "white",
           "lakecolor": "white",
           "landcolor": "#E5ECF6",
           "showlakes": true,
           "showland": true,
           "subunitcolor": "white"
          },
          "hoverlabel": {
           "align": "left"
          },
          "hovermode": "closest",
          "mapbox": {
           "style": "light"
          },
          "paper_bgcolor": "white",
          "plot_bgcolor": "#E5ECF6",
          "polar": {
           "angularaxis": {
            "gridcolor": "white",
            "linecolor": "white",
            "ticks": ""
           },
           "bgcolor": "#E5ECF6",
           "radialaxis": {
            "gridcolor": "white",
            "linecolor": "white",
            "ticks": ""
           }
          },
          "scene": {
           "xaxis": {
            "backgroundcolor": "#E5ECF6",
            "gridcolor": "white",
            "gridwidth": 2,
            "linecolor": "white",
            "showbackground": true,
            "ticks": "",
            "zerolinecolor": "white"
           },
           "yaxis": {
            "backgroundcolor": "#E5ECF6",
            "gridcolor": "white",
            "gridwidth": 2,
            "linecolor": "white",
            "showbackground": true,
            "ticks": "",
            "zerolinecolor": "white"
           },
           "zaxis": {
            "backgroundcolor": "#E5ECF6",
            "gridcolor": "white",
            "gridwidth": 2,
            "linecolor": "white",
            "showbackground": true,
            "ticks": "",
            "zerolinecolor": "white"
           }
          },
          "shapedefaults": {
           "line": {
            "color": "#2a3f5f"
           }
          },
          "ternary": {
           "aaxis": {
            "gridcolor": "white",
            "linecolor": "white",
            "ticks": ""
           },
           "baxis": {
            "gridcolor": "white",
            "linecolor": "white",
            "ticks": ""
           },
           "bgcolor": "#E5ECF6",
           "caxis": {
            "gridcolor": "white",
            "linecolor": "white",
            "ticks": ""
           }
          },
          "title": {
           "x": 0.05
          },
          "xaxis": {
           "automargin": true,
           "gridcolor": "white",
           "linecolor": "white",
           "ticks": "",
           "title": {
            "standoff": 15
           },
           "zerolinecolor": "white",
           "zerolinewidth": 2
          },
          "yaxis": {
           "automargin": true,
           "gridcolor": "white",
           "linecolor": "white",
           "ticks": "",
           "title": {
            "standoff": 15
           },
           "zerolinecolor": "white",
           "zerolinewidth": 2
          }
         }
        },
        "title": {
         "text": "Half Moons Data (Kernel PCA: 1 component)"
        },
        "width": 600,
        "xaxis": {
         "anchor": "y",
         "domain": [
          0,
          1
         ],
         "title": {
          "text": "Principal Component 1"
         }
        },
        "yaxis": {
         "anchor": "x",
         "domain": [
          0,
          1
         ],
         "title": {
          "text": ""
         }
        }
       }
      },
      "text/html": [
       "<div>                            <div id=\"f6a062fa-af68-4dc0-8cac-b59afc750565\" class=\"plotly-graph-div\" style=\"height:400px; width:600px;\"></div>            <script type=\"text/javascript\">                require([\"plotly\"], function(Plotly) {                    window.PLOTLYENV=window.PLOTLYENV || {};                                    if (document.getElementById(\"f6a062fa-af68-4dc0-8cac-b59afc750565\")) {                    Plotly.newPlot(                        \"f6a062fa-af68-4dc0-8cac-b59afc750565\",                        [{\"hovertemplate\":\"x=%{x}<br>y=%{y}<br>color=%{marker.color}<extra></extra>\",\"legendgroup\":\"\",\"marker\":{\"color\":[0,1,0,1,1,1,0,1,1,1,1,1,1,0,0,0,0,0,0,0,0,1,0,1,0,0,0,1,1,1,1,1,1,1,1,0,0,1,1,1,0,1,0,0,0,0,0,0,0,0,1,1,0,0,0,1,0,0,0,1,0,0,1,1,1,1,0,1,0,1,0,0,0,1,1,1,0,1,1,1,0,0,1,0,0,1,1,0,1,1,1,0,0,1,0,1,1,1,0,0],\"coloraxis\":\"coloraxis\",\"symbol\":\"circle\",\"opacity\":0.6,\"size\":8},\"mode\":\"markers\",\"name\":\"\",\"orientation\":\"v\",\"showlegend\":false,\"x\":[-0.34633140666772566,0.2304728011159145,-0.08574012028710296,0.17613306223652408,0.34015599276654185,0.12052725677738166,-0.29631548735779123,0.3379153895798639,0.14305562574461345,0.09977571803038754,0.1132143607980323,0.14336910884268753,0.3299481805932888,-0.2672022169101639,-0.19863593832692522,-0.33725078044275864,-0.35041867521445175,-0.3531475950291103,-0.31686435945984887,-0.2079988808174951,-0.20562880069910286,0.3607421337575031,-0.12276471580167418,0.3481424470208436,-0.1540991332023396,-0.07930643139457663,-0.17669129530758548,0.04789657065896715,0.28202085118652814,0.3413562626724171,0.32094377616062103,0.3127073519429516,0.17305857429459315,0.3698036472826204,0.06887811135471149,-0.3434424202668452,-0.3237618488999629,0.20025996407043462,0.3639112474018603,0.33889871606268956,-0.0609374751394788,0.34758101011519005,-0.2124931848798138,-0.22434439944708073,-0.13504284978330947,-0.28275542248697855,-0.30102864399918944,-0.24253709530615017,-0.25160235533858255,-0.15394547267702152,0.16071732634481153,0.2795240755419962,-0.04950403365347106,-0.30056862364443765,-0.34267047221280683,0.05202073668705796,-0.2592924874846937,-0.28834491672465823,-0.34985834144593775,0.09213798707245689,-0.24520780590038022,-0.3337954536288826,0.3812448768116328,0.2391513987642842,0.3287972460192025,0.25575179110696444,-0.3283730544412784,0.2626574733322408,-0.28184716127550136,0.18817553856168834,-0.3336717170483276,-0.33889685003661346,-0.06579468170235087,0.07436224213924489,0.05625381500533124,0.35836289206865335,-0.3412779959275694,0.11157092563678245,0.34392952545836536,0.33888256379092907,-0.3457491038576613,-0.26424529690379633,0.30123881806980835,-0.14133677215295454,-0.242427945231961,0.3818327454612818,0.2627708146912948,-0.26466538755708024,0.20776988612470862,0.35682492331216614,0.22357930574145973,-0.27182465909334025,-0.3497439035338436,0.2759281261025504,-0.22366808013880363,0.08415443292806363,0.3705949374936967,0.3821131322852848,-0.11352054021251719,-0.174543408067192],\"xaxis\":\"x\",\"y\":[0.0,0.0,0.0,0.0,0.0,0.0,0.0,0.0,0.0,0.0,0.0,0.0,0.0,0.0,0.0,0.0,0.0,0.0,0.0,0.0,0.0,0.0,0.0,0.0,0.0,0.0,0.0,0.0,0.0,0.0,0.0,0.0,0.0,0.0,0.0,0.0,0.0,0.0,0.0,0.0,0.0,0.0,0.0,0.0,0.0,0.0,0.0,0.0,0.0,0.0,0.0,0.0,0.0,0.0,0.0,0.0,0.0,0.0,0.0,0.0,0.0,0.0,0.0,0.0,0.0,0.0,0.0,0.0,0.0,0.0,0.0,0.0,0.0,0.0,0.0,0.0,0.0,0.0,0.0,0.0,0.0,0.0,0.0,0.0,0.0,0.0,0.0,0.0,0.0,0.0,0.0,0.0,0.0,0.0,0.0,0.0,0.0,0.0,0.0,0.0],\"yaxis\":\"y\",\"type\":\"scatter\"}],                        {\"template\":{\"data\":{\"histogram2dcontour\":[{\"type\":\"histogram2dcontour\",\"colorbar\":{\"outlinewidth\":0,\"ticks\":\"\"},\"colorscale\":[[0.0,\"#0d0887\"],[0.1111111111111111,\"#46039f\"],[0.2222222222222222,\"#7201a8\"],[0.3333333333333333,\"#9c179e\"],[0.4444444444444444,\"#bd3786\"],[0.5555555555555556,\"#d8576b\"],[0.6666666666666666,\"#ed7953\"],[0.7777777777777778,\"#fb9f3a\"],[0.8888888888888888,\"#fdca26\"],[1.0,\"#f0f921\"]]}],\"choropleth\":[{\"type\":\"choropleth\",\"colorbar\":{\"outlinewidth\":0,\"ticks\":\"\"}}],\"histogram2d\":[{\"type\":\"histogram2d\",\"colorbar\":{\"outlinewidth\":0,\"ticks\":\"\"},\"colorscale\":[[0.0,\"#0d0887\"],[0.1111111111111111,\"#46039f\"],[0.2222222222222222,\"#7201a8\"],[0.3333333333333333,\"#9c179e\"],[0.4444444444444444,\"#bd3786\"],[0.5555555555555556,\"#d8576b\"],[0.6666666666666666,\"#ed7953\"],[0.7777777777777778,\"#fb9f3a\"],[0.8888888888888888,\"#fdca26\"],[1.0,\"#f0f921\"]]}],\"heatmap\":[{\"type\":\"heatmap\",\"colorbar\":{\"outlinewidth\":0,\"ticks\":\"\"},\"colorscale\":[[0.0,\"#0d0887\"],[0.1111111111111111,\"#46039f\"],[0.2222222222222222,\"#7201a8\"],[0.3333333333333333,\"#9c179e\"],[0.4444444444444444,\"#bd3786\"],[0.5555555555555556,\"#d8576b\"],[0.6666666666666666,\"#ed7953\"],[0.7777777777777778,\"#fb9f3a\"],[0.8888888888888888,\"#fdca26\"],[1.0,\"#f0f921\"]]}],\"heatmapgl\":[{\"type\":\"heatmapgl\",\"colorbar\":{\"outlinewidth\":0,\"ticks\":\"\"},\"colorscale\":[[0.0,\"#0d0887\"],[0.1111111111111111,\"#46039f\"],[0.2222222222222222,\"#7201a8\"],[0.3333333333333333,\"#9c179e\"],[0.4444444444444444,\"#bd3786\"],[0.5555555555555556,\"#d8576b\"],[0.6666666666666666,\"#ed7953\"],[0.7777777777777778,\"#fb9f3a\"],[0.8888888888888888,\"#fdca26\"],[1.0,\"#f0f921\"]]}],\"contourcarpet\":[{\"type\":\"contourcarpet\",\"colorbar\":{\"outlinewidth\":0,\"ticks\":\"\"}}],\"contour\":[{\"type\":\"contour\",\"colorbar\":{\"outlinewidth\":0,\"ticks\":\"\"},\"colorscale\":[[0.0,\"#0d0887\"],[0.1111111111111111,\"#46039f\"],[0.2222222222222222,\"#7201a8\"],[0.3333333333333333,\"#9c179e\"],[0.4444444444444444,\"#bd3786\"],[0.5555555555555556,\"#d8576b\"],[0.6666666666666666,\"#ed7953\"],[0.7777777777777778,\"#fb9f3a\"],[0.8888888888888888,\"#fdca26\"],[1.0,\"#f0f921\"]]}],\"surface\":[{\"type\":\"surface\",\"colorbar\":{\"outlinewidth\":0,\"ticks\":\"\"},\"colorscale\":[[0.0,\"#0d0887\"],[0.1111111111111111,\"#46039f\"],[0.2222222222222222,\"#7201a8\"],[0.3333333333333333,\"#9c179e\"],[0.4444444444444444,\"#bd3786\"],[0.5555555555555556,\"#d8576b\"],[0.6666666666666666,\"#ed7953\"],[0.7777777777777778,\"#fb9f3a\"],[0.8888888888888888,\"#fdca26\"],[1.0,\"#f0f921\"]]}],\"mesh3d\":[{\"type\":\"mesh3d\",\"colorbar\":{\"outlinewidth\":0,\"ticks\":\"\"}}],\"scatter\":[{\"fillpattern\":{\"fillmode\":\"overlay\",\"size\":10,\"solidity\":0.2},\"type\":\"scatter\"}],\"parcoords\":[{\"type\":\"parcoords\",\"line\":{\"colorbar\":{\"outlinewidth\":0,\"ticks\":\"\"}}}],\"scatterpolargl\":[{\"type\":\"scatterpolargl\",\"marker\":{\"colorbar\":{\"outlinewidth\":0,\"ticks\":\"\"}}}],\"bar\":[{\"error_x\":{\"color\":\"#2a3f5f\"},\"error_y\":{\"color\":\"#2a3f5f\"},\"marker\":{\"line\":{\"color\":\"#E5ECF6\",\"width\":0.5},\"pattern\":{\"fillmode\":\"overlay\",\"size\":10,\"solidity\":0.2}},\"type\":\"bar\"}],\"scattergeo\":[{\"type\":\"scattergeo\",\"marker\":{\"colorbar\":{\"outlinewidth\":0,\"ticks\":\"\"}}}],\"scatterpolar\":[{\"type\":\"scatterpolar\",\"marker\":{\"colorbar\":{\"outlinewidth\":0,\"ticks\":\"\"}}}],\"histogram\":[{\"marker\":{\"pattern\":{\"fillmode\":\"overlay\",\"size\":10,\"solidity\":0.2}},\"type\":\"histogram\"}],\"scattergl\":[{\"type\":\"scattergl\",\"marker\":{\"colorbar\":{\"outlinewidth\":0,\"ticks\":\"\"}}}],\"scatter3d\":[{\"type\":\"scatter3d\",\"line\":{\"colorbar\":{\"outlinewidth\":0,\"ticks\":\"\"}},\"marker\":{\"colorbar\":{\"outlinewidth\":0,\"ticks\":\"\"}}}],\"scattermapbox\":[{\"type\":\"scattermapbox\",\"marker\":{\"colorbar\":{\"outlinewidth\":0,\"ticks\":\"\"}}}],\"scatterternary\":[{\"type\":\"scatterternary\",\"marker\":{\"colorbar\":{\"outlinewidth\":0,\"ticks\":\"\"}}}],\"scattercarpet\":[{\"type\":\"scattercarpet\",\"marker\":{\"colorbar\":{\"outlinewidth\":0,\"ticks\":\"\"}}}],\"carpet\":[{\"aaxis\":{\"endlinecolor\":\"#2a3f5f\",\"gridcolor\":\"white\",\"linecolor\":\"white\",\"minorgridcolor\":\"white\",\"startlinecolor\":\"#2a3f5f\"},\"baxis\":{\"endlinecolor\":\"#2a3f5f\",\"gridcolor\":\"white\",\"linecolor\":\"white\",\"minorgridcolor\":\"white\",\"startlinecolor\":\"#2a3f5f\"},\"type\":\"carpet\"}],\"table\":[{\"cells\":{\"fill\":{\"color\":\"#EBF0F8\"},\"line\":{\"color\":\"white\"}},\"header\":{\"fill\":{\"color\":\"#C8D4E3\"},\"line\":{\"color\":\"white\"}},\"type\":\"table\"}],\"barpolar\":[{\"marker\":{\"line\":{\"color\":\"#E5ECF6\",\"width\":0.5},\"pattern\":{\"fillmode\":\"overlay\",\"size\":10,\"solidity\":0.2}},\"type\":\"barpolar\"}],\"pie\":[{\"automargin\":true,\"type\":\"pie\"}]},\"layout\":{\"autotypenumbers\":\"strict\",\"colorway\":[\"#636efa\",\"#EF553B\",\"#00cc96\",\"#ab63fa\",\"#FFA15A\",\"#19d3f3\",\"#FF6692\",\"#B6E880\",\"#FF97FF\",\"#FECB52\"],\"font\":{\"color\":\"#2a3f5f\"},\"hovermode\":\"closest\",\"hoverlabel\":{\"align\":\"left\"},\"paper_bgcolor\":\"white\",\"plot_bgcolor\":\"#E5ECF6\",\"polar\":{\"bgcolor\":\"#E5ECF6\",\"angularaxis\":{\"gridcolor\":\"white\",\"linecolor\":\"white\",\"ticks\":\"\"},\"radialaxis\":{\"gridcolor\":\"white\",\"linecolor\":\"white\",\"ticks\":\"\"}},\"ternary\":{\"bgcolor\":\"#E5ECF6\",\"aaxis\":{\"gridcolor\":\"white\",\"linecolor\":\"white\",\"ticks\":\"\"},\"baxis\":{\"gridcolor\":\"white\",\"linecolor\":\"white\",\"ticks\":\"\"},\"caxis\":{\"gridcolor\":\"white\",\"linecolor\":\"white\",\"ticks\":\"\"}},\"coloraxis\":{\"colorbar\":{\"outlinewidth\":0,\"ticks\":\"\"}},\"colorscale\":{\"sequential\":[[0.0,\"#0d0887\"],[0.1111111111111111,\"#46039f\"],[0.2222222222222222,\"#7201a8\"],[0.3333333333333333,\"#9c179e\"],[0.4444444444444444,\"#bd3786\"],[0.5555555555555556,\"#d8576b\"],[0.6666666666666666,\"#ed7953\"],[0.7777777777777778,\"#fb9f3a\"],[0.8888888888888888,\"#fdca26\"],[1.0,\"#f0f921\"]],\"sequentialminus\":[[0.0,\"#0d0887\"],[0.1111111111111111,\"#46039f\"],[0.2222222222222222,\"#7201a8\"],[0.3333333333333333,\"#9c179e\"],[0.4444444444444444,\"#bd3786\"],[0.5555555555555556,\"#d8576b\"],[0.6666666666666666,\"#ed7953\"],[0.7777777777777778,\"#fb9f3a\"],[0.8888888888888888,\"#fdca26\"],[1.0,\"#f0f921\"]],\"diverging\":[[0,\"#8e0152\"],[0.1,\"#c51b7d\"],[0.2,\"#de77ae\"],[0.3,\"#f1b6da\"],[0.4,\"#fde0ef\"],[0.5,\"#f7f7f7\"],[0.6,\"#e6f5d0\"],[0.7,\"#b8e186\"],[0.8,\"#7fbc41\"],[0.9,\"#4d9221\"],[1,\"#276419\"]]},\"xaxis\":{\"gridcolor\":\"white\",\"linecolor\":\"white\",\"ticks\":\"\",\"title\":{\"standoff\":15},\"zerolinecolor\":\"white\",\"automargin\":true,\"zerolinewidth\":2},\"yaxis\":{\"gridcolor\":\"white\",\"linecolor\":\"white\",\"ticks\":\"\",\"title\":{\"standoff\":15},\"zerolinecolor\":\"white\",\"automargin\":true,\"zerolinewidth\":2},\"scene\":{\"xaxis\":{\"backgroundcolor\":\"#E5ECF6\",\"gridcolor\":\"white\",\"linecolor\":\"white\",\"showbackground\":true,\"ticks\":\"\",\"zerolinecolor\":\"white\",\"gridwidth\":2},\"yaxis\":{\"backgroundcolor\":\"#E5ECF6\",\"gridcolor\":\"white\",\"linecolor\":\"white\",\"showbackground\":true,\"ticks\":\"\",\"zerolinecolor\":\"white\",\"gridwidth\":2},\"zaxis\":{\"backgroundcolor\":\"#E5ECF6\",\"gridcolor\":\"white\",\"linecolor\":\"white\",\"showbackground\":true,\"ticks\":\"\",\"zerolinecolor\":\"white\",\"gridwidth\":2}},\"shapedefaults\":{\"line\":{\"color\":\"#2a3f5f\"}},\"annotationdefaults\":{\"arrowcolor\":\"#2a3f5f\",\"arrowhead\":0,\"arrowwidth\":1},\"geo\":{\"bgcolor\":\"white\",\"landcolor\":\"#E5ECF6\",\"subunitcolor\":\"white\",\"showland\":true,\"showlakes\":true,\"lakecolor\":\"white\"},\"title\":{\"x\":0.05},\"mapbox\":{\"style\":\"light\"}}},\"xaxis\":{\"anchor\":\"y\",\"domain\":[0.0,1.0],\"title\":{\"text\":\"Principal Component 1\"}},\"yaxis\":{\"anchor\":\"x\",\"domain\":[0.0,1.0],\"title\":{\"text\":\"\"}},\"coloraxis\":{\"colorbar\":{\"title\":{\"text\":\"color\"}},\"colorscale\":[[0.0,\"rgb(0,0,255)\"],[1.0,\"rgb(255,0,0)\"]],\"showscale\":false},\"legend\":{\"tracegroupgap\":0},\"margin\":{\"t\":60},\"width\":600,\"height\":400,\"title\":{\"text\":\"Half Moons Data (Kernel PCA: 1 component)\"}},                        {\"responsive\": true}                    ).then(function(){\n",
       "                            \n",
       "var gd = document.getElementById('f6a062fa-af68-4dc0-8cac-b59afc750565');\n",
       "var x = new MutationObserver(function (mutations, observer) {{\n",
       "        var display = window.getComputedStyle(gd).display;\n",
       "        if (!display || display === 'none') {{\n",
       "            console.log([gd, 'removed!']);\n",
       "            Plotly.purge(gd);\n",
       "            observer.disconnect();\n",
       "        }}\n",
       "}});\n",
       "\n",
       "// Listen for the removal of the full notebook cells\n",
       "var notebookContainer = gd.closest('#notebook-container');\n",
       "if (notebookContainer) {{\n",
       "    x.observe(notebookContainer, {childList: true});\n",
       "}}\n",
       "\n",
       "// Listen for the clearing of the current output cell\n",
       "var outputEl = gd.closest('.output');\n",
       "if (outputEl) {{\n",
       "    x.observe(outputEl, {childList: true});\n",
       "}}\n",
       "\n",
       "                        })                };                });            </script>        </div>"
      ]
     },
     "metadata": {},
     "output_type": "display_data"
    }
   ],
   "source": [
    "# Projecting the transformed data into the first component space\n",
    "figK1 = px.scatter(x=dataK[:, 0], y=np.zeros_like(dataK[:, 0]), \n",
    "                   color=ym, color_continuous_scale='bluered')\n",
    "figK1.update_traces(marker=dict(size=8, opacity=0.6))\n",
    "figK1.update_layout(coloraxis_showscale=False, \n",
    "                     width=600, height=400, \n",
    "                    xaxis_title='Principal Component 1', yaxis_title='', \n",
    "                    title='Half Moons Data (Kernel PCA: 1 component)')\n",
    "figK1.show()"
   ]
  },
  {
   "cell_type": "markdown",
   "metadata": {},
   "source": [
    "With the kernel PCA method, we were able to separate the groups! Let's analyse another example."
   ]
  },
  {
   "cell_type": "markdown",
   "metadata": {},
   "source": [
    "## Nonlinearly Separable Data: Concentric Circles"
   ]
  },
  {
   "cell_type": "code",
   "execution_count": 15,
   "metadata": {},
   "outputs": [],
   "source": [
    "from sklearn.datasets import make_circles\n",
    "\n",
    "Xc, yc = make_circles(n_samples=400, random_state=123, noise=0.1, factor=0.2)"
   ]
  },
  {
   "cell_type": "code",
   "execution_count": 16,
   "metadata": {},
   "outputs": [
    {
     "data": {
      "application/vnd.plotly.v1+json": {
       "config": {
        "plotlyServerURL": "https://plot.ly"
       },
       "data": [
        {
         "hovertemplate": "x=%{x}<br>y=%{y}<br>color=%{marker.color}<extra></extra>",
         "legendgroup": "",
         "marker": {
          "color": [
           1,
           0,
           1,
           0,
           1,
           1,
           0,
           1,
           1,
           0,
           0,
           1,
           1,
           0,
           0,
           1,
           0,
           0,
           0,
           0,
           0,
           1,
           0,
           0,
           0,
           0,
           0,
           1,
           1,
           1,
           0,
           0,
           1,
           0,
           1,
           1,
           1,
           1,
           0,
           1,
           1,
           1,
           1,
           0,
           1,
           0,
           1,
           1,
           1,
           1,
           0,
           0,
           1,
           1,
           1,
           0,
           0,
           1,
           0,
           0,
           0,
           0,
           0,
           1,
           1,
           1,
           0,
           1,
           0,
           0,
           0,
           1,
           1,
           0,
           1,
           0,
           1,
           1,
           0,
           1,
           0,
           1,
           0,
           1,
           0,
           1,
           1,
           1,
           0,
           0,
           1,
           1,
           1,
           1,
           0,
           1,
           1,
           1,
           0,
           0,
           0,
           1,
           0,
           0,
           0,
           1,
           1,
           0,
           0,
           1,
           0,
           0,
           0,
           0,
           1,
           0,
           1,
           0,
           1,
           0,
           0,
           0,
           0,
           1,
           1,
           0,
           0,
           0,
           1,
           0,
           0,
           1,
           0,
           0,
           1,
           1,
           0,
           0,
           0,
           0,
           0,
           1,
           1,
           1,
           0,
           1,
           1,
           1,
           1,
           1,
           0,
           0,
           0,
           1,
           0,
           0,
           1,
           0,
           0,
           0,
           0,
           1,
           1,
           1,
           0,
           0,
           0,
           0,
           0,
           1,
           1,
           0,
           0,
           1,
           0,
           1,
           1,
           1,
           1,
           1,
           0,
           0,
           1,
           0,
           1,
           0,
           1,
           1,
           1,
           0,
           1,
           1,
           1,
           0,
           1,
           1,
           1,
           0,
           0,
           0,
           1,
           0,
           1,
           1,
           1,
           0,
           0,
           0,
           1,
           1,
           0,
           1,
           0,
           0,
           0,
           1,
           1,
           0,
           0,
           0,
           0,
           1,
           1,
           1,
           1,
           1,
           0,
           1,
           1,
           1,
           0,
           1,
           1,
           1,
           0,
           0,
           1,
           0,
           1,
           0,
           0,
           1,
           0,
           1,
           1,
           0,
           0,
           1,
           1,
           1,
           0,
           0,
           1,
           1,
           0,
           0,
           0,
           1,
           0,
           0,
           0,
           0,
           1,
           1,
           1,
           1,
           1,
           0,
           1,
           0,
           1,
           1,
           1,
           1,
           1,
           1,
           0,
           1,
           0,
           1,
           1,
           0,
           1,
           0,
           0,
           0,
           1,
           0,
           0,
           0,
           1,
           1,
           0,
           1,
           1,
           0,
           0,
           0,
           0,
           0,
           0,
           1,
           0,
           1,
           0,
           0,
           0,
           0,
           0,
           1,
           1,
           1,
           1,
           1,
           1,
           0,
           0,
           0,
           0,
           0,
           0,
           1,
           1,
           0,
           0,
           0,
           1,
           1,
           1,
           0,
           0,
           0,
           0,
           0,
           1,
           1,
           1,
           1,
           0,
           0,
           1,
           0,
           1,
           1,
           0,
           1,
           1,
           1,
           1,
           0,
           1,
           1,
           0,
           0,
           1,
           1,
           0,
           1,
           1,
           1,
           0,
           1,
           0,
           1,
           0,
           0,
           1,
           0,
           1,
           0,
           1,
           0,
           1,
           1,
           0,
           1,
           1,
           1,
           1,
           1,
           0,
           1,
           0,
           0,
           0,
           0,
           0,
           0,
           1,
           1,
           0,
           0,
           0,
           0,
           0,
           1,
           0,
           1,
           1,
           1
          ],
          "coloraxis": "coloraxis",
          "opacity": 0.6,
          "size": 8,
          "symbol": "circle"
         },
         "mode": "markers",
         "name": "",
         "orientation": "v",
         "showlegend": false,
         "type": "scatter",
         "x": [
          0.07329575255547957,
          0.24123026780682785,
          -0.23155353206303467,
          0.3907817392197847,
          -0.011490345931543543,
          -0.3191985941982657,
          -0.2544986359102402,
          -0.16950869437804317,
          0.16200630545149852,
          -0.9771327410580044,
          0.740166141561637,
          -0.0011737582666727087,
          0.19885228264421662,
          0.5307604986443539,
          0.8211958836507801,
          -0.1424065407893199,
          0.8829061486458634,
          0.34221646586539767,
          0.1413282609247734,
          0.8990325021925242,
          1.0758259958495067,
          -0.12507298892719992,
          -0.799002891708504,
          0.5892243631667867,
          0.8117384376903386,
          0.08314351171439074,
          1.0350093164000327,
          0.12576542231025695,
          -0.014464441429083388,
          -0.09220792213996948,
          0.6651370893347635,
          -0.9427812302566863,
          -0.31828352257921655,
          1.0417947780289532,
          0.04652632399296566,
          0.0824520805723766,
          -0.1534407320190676,
          -0.09401245430289139,
          -0.634288900776366,
          -0.21265472134527452,
          0.13709961144328148,
          -0.15053305520425933,
          -0.2779243820276604,
          0.09833136146508736,
          -0.19065663349056863,
          0.41070226436704793,
          0.07401920015568689,
          0.12105153433897542,
          -0.09173553307854862,
          0.05286761873794252,
          0.5325131719319991,
          -1.1267699046363142,
          -0.1847103051417872,
          0.11008674416565917,
          -0.14166940217302756,
          0.6734559990890234,
          1.0918480503711354,
          -0.3501891486389296,
          0.9484879882629454,
          -0.9118429165868702,
          0.587809122354338,
          0.6047998791836918,
          -0.18478825701657287,
          0.15100910902704054,
          0.16674406038475392,
          -0.10473903266428095,
          -0.7963048695510238,
          0.26308773845094124,
          -0.9369739043154642,
          0.07402650176324393,
          -0.6504969792637494,
          -0.22306232001203102,
          0.014986514317095315,
          -0.05119510589446174,
          0.008780716283996851,
          0.9201382909090724,
          0.16421291363085613,
          -0.19294721202967702,
          -0.8169644563514113,
          -0.09781958396831435,
          0.7549283284590906,
          -0.09337364095519742,
          1.0883128192037508,
          -0.4130590180845074,
          -0.6547173871944767,
          0.30239585338849173,
          0.057724857486428444,
          -0.2560699067546368,
          -1.0034421987676394,
          0.689229402503835,
          0.1687962353557827,
          0.009338971298277002,
          0.2392081998129333,
          0.07006409914214437,
          1.0039905616440057,
          -0.174862370966394,
          0.09278938040203641,
          0.36693822989898506,
          -0.21049966439120654,
          0.6269630017568322,
          0.4995131916442292,
          -0.14711743411594416,
          -0.057314283227348314,
          -0.1670727829496806,
          0.9339860094027794,
          0.07388367868734744,
          -0.09787584793147094,
          -0.38590826805615386,
          0.6621271823518515,
          -0.09376618244243778,
          0.7366729434058515,
          -0.7736322311368368,
          0.01901207311862879,
          -0.3645154431012939,
          0.1510298271178432,
          -0.9441600807120833,
          -0.05605096011760877,
          0.992061709770129,
          -0.0216897611985572,
          1.0868258608442043,
          0.7283415872212438,
          -1.1880745525069238,
          0.9948284905042071,
          0.010296424265609116,
          -0.20304985143967944,
          0.8181464050138055,
          0.5388021137072447,
          -0.8280238794413828,
          0.06764807971526296,
          -0.4927730666146718,
          0.9454328084245253,
          0.1383372221418926,
          -0.45155096701944225,
          -1.117473493589459,
          -0.1459083906633592,
          0.10084692044843388,
          0.44880300973022014,
          -0.7487896225451474,
          -0.6967847355048208,
          -0.027259399636927945,
          0.7576636592834717,
          -0.283605159800029,
          -0.22304654295744122,
          -0.07957516135381007,
          -0.9946916281528572,
          -0.013480237524512328,
          0.013740848264873142,
          0.2555290120933004,
          -0.1397221593341174,
          -0.007176613930892278,
          0.8248170625848654,
          1.1254566745546222,
          0.3970680155700727,
          0.09820117763067918,
          0.6564386083481697,
          -0.30811938403654276,
          0.11126910178047798,
          -0.14829990182804875,
          -0.8224814716748305,
          -0.8080912618391625,
          0.2891851900799015,
          0.03490709800154259,
          0.1999513897194684,
          -0.15174742235998756,
          -0.8418494129605197,
          -0.38498027812266106,
          -1.0685797004149948,
          -0.6564967901171939,
          -0.79449276801283,
          0.22502023165361418,
          -0.052218135369452884,
          0.1908482494310824,
          0.319779470974445,
          -0.1080957793873756,
          -0.9093632011396678,
          -0.2426705449513452,
          0.2932813748049528,
          0.015231691572637929,
          0.1513710302022778,
          -0.10526188413921196,
          0.4006094309004893,
          0.36059799136639625,
          0.05699470738962398,
          0.929399968259864,
          -0.12124172506247152,
          -0.9158448442489225,
          -0.07783774368679168,
          -0.0006846750547458424,
          0.10505758757159284,
          -0.37227140977686,
          -0.10174533035306302,
          -0.052431770596842495,
          -0.04449462603009993,
          -0.25818193676652584,
          -0.1606695341338224,
          0.1102794285278704,
          0.006552686654024198,
          0.09543476569862652,
          0.19322351800303322,
          0.492131355183522,
          -0.2323434503152546,
          0.6575495204837131,
          0.16886567484302284,
          -0.0032312522732003413,
          0.23209941396496786,
          0.8150161991490014,
          -0.6339878817539452,
          0.7228446722729611,
          0.12541893693015965,
          0.22537868323966198,
          -0.7862438167847615,
          0.10860906766231163,
          0.3145989729962125,
          0.9828062961025249,
          -0.2675412803264736,
          -0.27484745068091687,
          0.3156444049433239,
          -0.6797913355079621,
          -0.5303678496047616,
          -0.6519194191819879,
          -1.2234324703010624,
          -0.13860221706701017,
          0.05363177570673011,
          0.01019654208638937,
          0.23768411165348152,
          0.20779192633806748,
          -0.9726544023765554,
          -0.1939753547433063,
          -0.06541216931619637,
          -0.21831783950629627,
          -0.8689845379772448,
          -0.1447249058495703,
          0.12240944886320843,
          -0.08130089245172731,
          -0.07381750577848903,
          1.0039179405669916,
          -0.11937356759766567,
          -0.8224296686983517,
          -0.2309819659908755,
          -0.6353832523978076,
          -0.334702088914783,
          0.21903832446936275,
          -1.0096878429065201,
          0.04659512368508453,
          -0.06450347699592109,
          1.051769655868097,
          -0.35497769878947366,
          -0.11634038000173141,
          0.17513591691450817,
          -0.20121192850627811,
          0.8308037696305483,
          0.5399511493964771,
          0.15549350200072676,
          0.13417775269476018,
          0.36468155635281335,
          0.9415819649015781,
          0.2440952411019726,
          -0.16916265657994883,
          -0.6306585902411533,
          0.0574161257751145,
          -1.0627822437166572,
          1.0127230812800712,
          0.04636989649257356,
          -0.058793524945455186,
          -0.23479761706365737,
          0.12126267143321556,
          -0.03386043679885663,
          -0.4588404626218334,
          -0.12074844974321539,
          0.4274521573106832,
          0.27554401630797387,
          -0.04207503968015399,
          -0.0590276090834186,
          -0.16399919579512515,
          -0.019682850463896766,
          0.2940421756245808,
          -0.008063804266006738,
          0.04816339226327304,
          0.31506773075488104,
          -0.15907724981112678,
          0.21652635814760984,
          -0.5018546355014272,
          0.010825823972095971,
          0.968479913062475,
          -0.7545509183723353,
          0.025579002381936555,
          0.029098217149149005,
          -0.93270636698194,
          -0.2600889245752071,
          -0.9589494495480854,
          0.24547731476451956,
          0.007950713882231768,
          -0.4199467822742886,
          -0.07207325958111882,
          -0.05309035118993145,
          0.07430997138900663,
          -0.7211236139240828,
          -1.0177291812689706,
          -0.3099979714441904,
          0.9841465111887105,
          1.0326535470311387,
          0.11972287028080844,
          -0.7465191549002628,
          -0.2140865806518972,
          0.6831106687040508,
          -0.35651481563821813,
          1.1406191933879946,
          0.8895350751089087,
          -0.9261863484418008,
          -0.03446812878457905,
          -0.05837338758503613,
          0.15389249691905552,
          -0.1187167291990353,
          -0.16320363741794525,
          -0.23274793412970338,
          -0.983180008392736,
          -0.02816575703816944,
          -0.41842843797195706,
          -0.6812663335319021,
          0.8835206523901221,
          -0.17785347391026282,
          -0.12288343000298829,
          0.09261301730566049,
          0.007580827156299479,
          0.8808526424497582,
          0.9957502682011223,
          -0.14812384537078813,
          0.2943925765181452,
          -0.2663665282665431,
          0.6111409340310513,
          0.7651029681595374,
          0.9188655424653229,
          0.27463520504481514,
          -0.5418945366387178,
          0.07187161449572343,
          0.00763393050447176,
          -0.046933717952535536,
          0.16138016421629683,
          0.10157133335904404,
          -0.6145098972191921,
          0.09582085360189943,
          0.2388196034537395,
          0.051604297815801184,
          -0.16232990737582148,
          0.05674823980613619,
          0.18216376246184496,
          -0.048029280823981835,
          -0.07228301969818604,
          -0.1934655534249466,
          -0.375507060192462,
          -0.08791838155617823,
          0.2954300109350262,
          0.6115789843617879,
          -0.6508972737252467,
          -0.20335280827934193,
          0.08103553600375249,
          -0.916742473580604,
          0.24486880584656984,
          0.0024295463407316906,
          -0.14434117538763264,
          0.9331944819577697,
          0.04445298292313756,
          -0.9528548024261153,
          0.19113276567862608,
          -0.584575434514577,
          0.7927844382973309,
          0.09537019780959238,
          -1.0132317126273125,
          0.2243685156321733,
          0.32773856934108486,
          -0.17414620627959015,
          0.9664127432250152,
          -0.2859042211060613,
          -0.12752981170067318,
          -0.689316860664298,
          0.09162121569620826,
          0.231183763729345,
          -0.17128401383389213,
          -0.07867485403108677,
          -0.034948422294456556,
          -0.9021796378793977,
          0.3294155643008158,
          0.5292478202678766,
          -0.5843318426792202,
          0.030230275571287407,
          -0.701608762744362,
          -0.8091339526197526,
          -1.0803977189657294,
          0.0631642504663044,
          0.3149370766300327,
          -0.2716096680254755,
          -0.6536078995475129,
          -0.9921127036636781,
          -0.9759677776614112,
          0.6983923021296918,
          0.22916046579037952,
          -0.9354957490421457,
          -0.1915784401290561,
          0.16131001594256011,
          0.0754146191465247
         ],
         "xaxis": "x",
         "y": [
          0.17986114813346749,
          0.9573006480427563,
          0.0703818174037189,
          -0.8501837887784505,
          -0.3392585119523319,
          0.04562889637100105,
          0.7680611191207989,
          0.1488193109132422,
          -0.0642591618902041,
          0.2790101481543047,
          -0.7536365415948139,
          -0.024812706285100142,
          0.15114097109743144,
          0.9423889510030137,
          -0.3772151819469574,
          -0.35871133526244753,
          -0.1761681625592837,
          -0.8598651172193428,
          1.042248235851491,
          0.16898448738040706,
          -0.06592936630825216,
          0.17109261641323156,
          0.6653780976276107,
          -0.8026336351812159,
          0.4095346007498274,
          0.9173888576864221,
          0.14075479726121326,
          0.08694697875167477,
          0.1020070730091372,
          0.012078925724759548,
          -0.990823641225984,
          -0.03678725264332697,
          0.14593261489342155,
          -0.2066067682684501,
          -0.24925446943863191,
          0.16935056170203894,
          -0.2996037931453341,
          -0.13105275233109331,
          0.8125902822213903,
          -0.11850549158587531,
          0.2853473882093496,
          0.015080967411201879,
          0.16539758769194346,
          -1.0337119871890332,
          0.15433444170052452,
          1.0240356362137397,
          -0.2106420432877282,
          0.16336497051119386,
          -0.14323977222111672,
          0.18452745274666735,
          0.8653902678146187,
          0.017082271754456778,
          0.03649564537650472,
          0.28176984759040347,
          0.10847505279717204,
          0.7836291754217097,
          0.2951638367512588,
          -0.0711074105867438,
          -0.28416803302733995,
          0.38361294762274933,
          0.7454870091295541,
          0.43210942208683245,
          0.9275533730752618,
          -0.028045040169417917,
          0.08451944861771027,
          0.1487854555901138,
          -0.5329880063947263,
          -0.15053703855983908,
          -0.1262806620477312,
          -1.071988307327532,
          0.7562305807132585,
          0.2404547970167902,
          0.2980012535020191,
          0.9614977616305267,
          0.1827275387392036,
          -0.5299497051238262,
          0.026624695415554858,
          -0.31277914748621316,
          -0.4860203448632267,
          -0.25165222608210813,
          -0.5600545557578255,
          0.26844552086596624,
          0.15490062797483298,
          0.13274548013641646,
          -0.7315330679065838,
          0.12570675674559628,
          -0.24530507164085308,
          0.36245210928133764,
          0.22300230551669914,
          -0.9356147842816329,
          0.0489884848142233,
          -0.21906516919497782,
          -0.209093437503649,
          -0.1554513742738056,
          0.016601962385009005,
          0.008737998907558803,
          0.02927904726509805,
          0.04680313881640937,
          -0.9166760464854093,
          1.100667235630746,
          -0.6724486816884325,
          0.1398376904604477,
          -1.0524212729415974,
          -0.8735192991683529,
          0.23661338899271028,
          -0.13302206877905964,
          -0.15193230106038014,
          1.0561278697268721,
          0.6822620886022024,
          0.013891431356408497,
          0.6152901453919707,
          -0.6304472941517776,
          -0.9910936145525918,
          -1.0661919526324442,
          -0.07392082284707449,
          0.30044888962316896,
          0.2034722779982635,
          -0.28653107172853,
          0.170698761329649,
          -0.3307034543667367,
          -0.8218644301016271,
          -0.2904493579804164,
          0.05141849446673363,
          0.009063598139459575,
          0.1272898153028147,
          0.6674530816269596,
          1.0080595186813397,
          0.5082223163759119,
          -0.26822673577951694,
          -1.0146407470321421,
          -0.20604934583672158,
          -0.0028351453090492418,
          0.6779867447439545,
          0.30253033604349283,
          0.01820446260734196,
          -0.21601163829609227,
          0.9516276824655249,
          -0.6447848320731622,
          0.732042634842712,
          0.9346621681475075,
          0.7422812591376653,
          -0.21899467164135372,
          0.03948199837127876,
          0.07077749584109658,
          0.3492371872376266,
          0.07730643246140036,
          -0.17779205242532586,
          0.23321162278067306,
          -0.1466773376932446,
          -0.014175022182336787,
          -0.7582235478266568,
          0.06727706173668915,
          -0.9807253138833476,
          -0.25315217791518335,
          -0.5860863570929594,
          -0.9885147716059558,
          -0.17668408981408104,
          -1.0186367712358964,
          0.7417517344958644,
          -0.6411330221874139,
          -1.0764105645922626,
          0.1800376529317599,
          0.027100208530940008,
          -0.17702753339011035,
          -0.01433704940640819,
          0.9531387498855,
          -0.18813541691362523,
          -0.7947772794973186,
          0.5904496932955046,
          -0.11618443931401227,
          0.297951302071285,
          0.9049627794336705,
          -0.8241607804525523,
          -0.2708516989766139,
          0.3880136128440423,
          -0.175216036924,
          -0.1319095488846672,
          0.040165178748003905,
          0.25493452701200553,
          0.021353105704161397,
          -0.7948939560503945,
          -0.9381542799175728,
          0.04204322900824685,
          0.24876098980385528,
          0.2540207588060586,
          -0.3334759225635458,
          0.1018917777447078,
          0.1717230657602907,
          -0.16596997054404652,
          -0.8864329755221589,
          -0.2685986682426657,
          0.2125397654603691,
          0.09911599225706685,
          -0.9840789472076038,
          0.09762355244434201,
          0.17241146965889764,
          0.07478017060656145,
          0.8974391928290546,
          0.9015791519021339,
          0.7836227127934137,
          -0.32304082534498857,
          0.5058255280918511,
          0.028464887975662018,
          -0.0756818696279959,
          0.2696838989793246,
          0.27931163291929934,
          0.868211371117446,
          0.7169442728490358,
          0.021403514585232316,
          -0.0990986017947242,
          -0.6605581877390082,
          0.2683036124558953,
          -0.8873217374587298,
          -0.11682040686306076,
          -1.0509645960377603,
          -0.02539363010676844,
          0.1275979288496759,
          -0.44239496127975236,
          0.8326412918630764,
          -0.7691874586753851,
          -0.09324814787355144,
          0.010543132073845857,
          0.007645206272157451,
          -0.22678865806829349,
          0.07437826339675106,
          0.3087623045269839,
          0.47719833255789196,
          0.10396611694863683,
          -0.15713387124490708,
          0.06723107706976372,
          -0.22932614768451132,
          -0.1486205402026858,
          -0.044143809566809605,
          -0.13296598228393336,
          -1.1926868754487576,
          -0.27382976234556056,
          -0.10678133956114187,
          -0.6874448186114007,
          0.15004478813129427,
          -0.9145595594052485,
          -0.9880663488113332,
          0.0700699027463729,
          0.3059415944310116,
          -0.08186066853538337,
          -0.11391284852775085,
          -0.12488921927277719,
          1.0938361959693685,
          0.04705535802691874,
          -0.14247500400443547,
          -0.2070684783944181,
          -0.6375435142501407,
          -0.87845628434809,
          0.0516756186094185,
          -0.24911654620189763,
          -0.9205102736771514,
          -0.5249833393593911,
          1.0697595939208677,
          -0.3286854574107805,
          -0.6818746095812593,
          1.1607981200578743,
          0.07239609492127044,
          -0.09576394601783281,
          0.019040588040007744,
          0.059826579111021155,
          0.21459108546504924,
          -0.30728102435412574,
          -0.5011100314769297,
          0.7139867318269382,
          -0.14432702239882533,
          -0.762993818544685,
          0.22200354454951027,
          0.15856371627160493,
          0.055852623780027144,
          0.2623476404709799,
          -0.2000032037952631,
          -0.19539234133638442,
          -1.0597535105642786,
          -0.2781533021804443,
          0.8819358232992021,
          -0.13615452134041367,
          -0.2639859724971544,
          0.8675263593449508,
          0.03311454838979672,
          0.4743465632542075,
          0.6499542263604309,
          0.9270241041698473,
          0.12333505393987498,
          -0.6141510707550809,
          -0.9209096793503017,
          0.36666787244783516,
          -0.3017847646543172,
          0.29905100803478,
          0.7354949306176372,
          0.283342968262827,
          -0.26695263754514603,
          0.8966920501648019,
          0.5081835199722153,
          -0.3222572755911338,
          -0.8261874844386957,
          0.35908088643492897,
          -0.2471634600559929,
          -0.26732375853653895,
          -0.558028250922361,
          -0.20370598110254995,
          0.8214329775878638,
          -0.9275877633227995,
          -0.0328556930381181,
          0.4519717309515803,
          0.4064235826121678,
          0.07982632704981786,
          0.10986089925201431,
          0.19346271318232067,
          0.24714206276537995,
          0.17451719447962358,
          -0.10990838965552985,
          -0.1252445611147743,
          -1.0673554635979607,
          -1.0005833248203042,
          0.9227816476083487,
          0.0805719647231706,
          0.906289775847376,
          0.0410780888564456,
          0.06063048305802028,
          1.0522129457225398,
          0.05152359095774879,
          0.46076140381347547,
          0.15761576408459974,
          -0.08824126295398052,
          -0.02209318971725012,
          0.5338203858617849,
          -0.5287517958949324,
          -0.6680771296709289,
          1.1471965558805794,
          -0.8059435105874644,
          0.203562933578888,
          0.2798904376297349,
          0.05862671798972871,
          -0.06719872564539234,
          -0.9705072470926628,
          0.9271372425672331,
          -0.1430008644588955,
          -0.8515370202662346,
          -0.016239911470614043,
          0.15752060282894367,
          -0.9957885794887427,
          0.02004359930377506,
          0.08017295945768377,
          -0.18671969785215137,
          -0.019217112842349837,
          0.8565657671085887,
          -0.1407887726226634,
          0.1227215672562755,
          -0.9380141851989809,
          0.636723533005559,
          0.10401461339326384,
          -0.2022326751165471,
          -0.4580031913100977,
          0.12170570726965871,
          -0.44013931258317174,
          -0.23035963881838023,
          -0.681111849033796,
          -0.15995246152141487,
          0.09477388210519493,
          -0.28640561843437157,
          -0.8398110118900173,
          -0.731554759735039,
          0.020403824107929944,
          0.4905030267537731,
          0.1649062163591549,
          0.8789222789068033,
          -0.23124131201720588,
          0.029533113592871876,
          -0.04253134298069325,
          -0.10572080663603708,
          1.0176076888266934,
          0.07629033777066442,
          -0.08102483831479033,
          0.15625338621601015,
          -0.10704551973679823,
          -0.01599342691047001,
          -0.30475125208618997,
          -0.08011173764176291,
          0.7241384139304519,
          0.6991571723346567,
          0.9722081059400602,
          -0.7982672573491298,
          -0.41876044993243833,
          0.01884690380483174,
          0.19834495147564835,
          0.16003488741340421,
          0.9144720943118051,
          -0.5958383741405533,
          -0.16410243229918103,
          0.5249079039232983,
          0.46615342646043934,
          0.10617937184063833,
          0.15550800151586702,
          -0.19279059711659496,
          -0.03725044709167617,
          -0.17431002057265121
         ],
         "yaxis": "y"
        }
       ],
       "layout": {
        "coloraxis": {
         "colorbar": {
          "title": {
           "text": "color"
          }
         },
         "colorscale": [
          [
           0,
           "rgb(0,0,255)"
          ],
          [
           1,
           "rgb(255,0,0)"
          ]
         ],
         "showscale": false
        },
        "height": 400,
        "legend": {
         "tracegroupgap": 0
        },
        "margin": {
         "t": 60
        },
        "template": {
         "data": {
          "bar": [
           {
            "error_x": {
             "color": "#2a3f5f"
            },
            "error_y": {
             "color": "#2a3f5f"
            },
            "marker": {
             "line": {
              "color": "#E5ECF6",
              "width": 0.5
             },
             "pattern": {
              "fillmode": "overlay",
              "size": 10,
              "solidity": 0.2
             }
            },
            "type": "bar"
           }
          ],
          "barpolar": [
           {
            "marker": {
             "line": {
              "color": "#E5ECF6",
              "width": 0.5
             },
             "pattern": {
              "fillmode": "overlay",
              "size": 10,
              "solidity": 0.2
             }
            },
            "type": "barpolar"
           }
          ],
          "carpet": [
           {
            "aaxis": {
             "endlinecolor": "#2a3f5f",
             "gridcolor": "white",
             "linecolor": "white",
             "minorgridcolor": "white",
             "startlinecolor": "#2a3f5f"
            },
            "baxis": {
             "endlinecolor": "#2a3f5f",
             "gridcolor": "white",
             "linecolor": "white",
             "minorgridcolor": "white",
             "startlinecolor": "#2a3f5f"
            },
            "type": "carpet"
           }
          ],
          "choropleth": [
           {
            "colorbar": {
             "outlinewidth": 0,
             "ticks": ""
            },
            "type": "choropleth"
           }
          ],
          "contour": [
           {
            "colorbar": {
             "outlinewidth": 0,
             "ticks": ""
            },
            "colorscale": [
             [
              0,
              "#0d0887"
             ],
             [
              0.1111111111111111,
              "#46039f"
             ],
             [
              0.2222222222222222,
              "#7201a8"
             ],
             [
              0.3333333333333333,
              "#9c179e"
             ],
             [
              0.4444444444444444,
              "#bd3786"
             ],
             [
              0.5555555555555556,
              "#d8576b"
             ],
             [
              0.6666666666666666,
              "#ed7953"
             ],
             [
              0.7777777777777778,
              "#fb9f3a"
             ],
             [
              0.8888888888888888,
              "#fdca26"
             ],
             [
              1,
              "#f0f921"
             ]
            ],
            "type": "contour"
           }
          ],
          "contourcarpet": [
           {
            "colorbar": {
             "outlinewidth": 0,
             "ticks": ""
            },
            "type": "contourcarpet"
           }
          ],
          "heatmap": [
           {
            "colorbar": {
             "outlinewidth": 0,
             "ticks": ""
            },
            "colorscale": [
             [
              0,
              "#0d0887"
             ],
             [
              0.1111111111111111,
              "#46039f"
             ],
             [
              0.2222222222222222,
              "#7201a8"
             ],
             [
              0.3333333333333333,
              "#9c179e"
             ],
             [
              0.4444444444444444,
              "#bd3786"
             ],
             [
              0.5555555555555556,
              "#d8576b"
             ],
             [
              0.6666666666666666,
              "#ed7953"
             ],
             [
              0.7777777777777778,
              "#fb9f3a"
             ],
             [
              0.8888888888888888,
              "#fdca26"
             ],
             [
              1,
              "#f0f921"
             ]
            ],
            "type": "heatmap"
           }
          ],
          "heatmapgl": [
           {
            "colorbar": {
             "outlinewidth": 0,
             "ticks": ""
            },
            "colorscale": [
             [
              0,
              "#0d0887"
             ],
             [
              0.1111111111111111,
              "#46039f"
             ],
             [
              0.2222222222222222,
              "#7201a8"
             ],
             [
              0.3333333333333333,
              "#9c179e"
             ],
             [
              0.4444444444444444,
              "#bd3786"
             ],
             [
              0.5555555555555556,
              "#d8576b"
             ],
             [
              0.6666666666666666,
              "#ed7953"
             ],
             [
              0.7777777777777778,
              "#fb9f3a"
             ],
             [
              0.8888888888888888,
              "#fdca26"
             ],
             [
              1,
              "#f0f921"
             ]
            ],
            "type": "heatmapgl"
           }
          ],
          "histogram": [
           {
            "marker": {
             "pattern": {
              "fillmode": "overlay",
              "size": 10,
              "solidity": 0.2
             }
            },
            "type": "histogram"
           }
          ],
          "histogram2d": [
           {
            "colorbar": {
             "outlinewidth": 0,
             "ticks": ""
            },
            "colorscale": [
             [
              0,
              "#0d0887"
             ],
             [
              0.1111111111111111,
              "#46039f"
             ],
             [
              0.2222222222222222,
              "#7201a8"
             ],
             [
              0.3333333333333333,
              "#9c179e"
             ],
             [
              0.4444444444444444,
              "#bd3786"
             ],
             [
              0.5555555555555556,
              "#d8576b"
             ],
             [
              0.6666666666666666,
              "#ed7953"
             ],
             [
              0.7777777777777778,
              "#fb9f3a"
             ],
             [
              0.8888888888888888,
              "#fdca26"
             ],
             [
              1,
              "#f0f921"
             ]
            ],
            "type": "histogram2d"
           }
          ],
          "histogram2dcontour": [
           {
            "colorbar": {
             "outlinewidth": 0,
             "ticks": ""
            },
            "colorscale": [
             [
              0,
              "#0d0887"
             ],
             [
              0.1111111111111111,
              "#46039f"
             ],
             [
              0.2222222222222222,
              "#7201a8"
             ],
             [
              0.3333333333333333,
              "#9c179e"
             ],
             [
              0.4444444444444444,
              "#bd3786"
             ],
             [
              0.5555555555555556,
              "#d8576b"
             ],
             [
              0.6666666666666666,
              "#ed7953"
             ],
             [
              0.7777777777777778,
              "#fb9f3a"
             ],
             [
              0.8888888888888888,
              "#fdca26"
             ],
             [
              1,
              "#f0f921"
             ]
            ],
            "type": "histogram2dcontour"
           }
          ],
          "mesh3d": [
           {
            "colorbar": {
             "outlinewidth": 0,
             "ticks": ""
            },
            "type": "mesh3d"
           }
          ],
          "parcoords": [
           {
            "line": {
             "colorbar": {
              "outlinewidth": 0,
              "ticks": ""
             }
            },
            "type": "parcoords"
           }
          ],
          "pie": [
           {
            "automargin": true,
            "type": "pie"
           }
          ],
          "scatter": [
           {
            "fillpattern": {
             "fillmode": "overlay",
             "size": 10,
             "solidity": 0.2
            },
            "type": "scatter"
           }
          ],
          "scatter3d": [
           {
            "line": {
             "colorbar": {
              "outlinewidth": 0,
              "ticks": ""
             }
            },
            "marker": {
             "colorbar": {
              "outlinewidth": 0,
              "ticks": ""
             }
            },
            "type": "scatter3d"
           }
          ],
          "scattercarpet": [
           {
            "marker": {
             "colorbar": {
              "outlinewidth": 0,
              "ticks": ""
             }
            },
            "type": "scattercarpet"
           }
          ],
          "scattergeo": [
           {
            "marker": {
             "colorbar": {
              "outlinewidth": 0,
              "ticks": ""
             }
            },
            "type": "scattergeo"
           }
          ],
          "scattergl": [
           {
            "marker": {
             "colorbar": {
              "outlinewidth": 0,
              "ticks": ""
             }
            },
            "type": "scattergl"
           }
          ],
          "scattermapbox": [
           {
            "marker": {
             "colorbar": {
              "outlinewidth": 0,
              "ticks": ""
             }
            },
            "type": "scattermapbox"
           }
          ],
          "scatterpolar": [
           {
            "marker": {
             "colorbar": {
              "outlinewidth": 0,
              "ticks": ""
             }
            },
            "type": "scatterpolar"
           }
          ],
          "scatterpolargl": [
           {
            "marker": {
             "colorbar": {
              "outlinewidth": 0,
              "ticks": ""
             }
            },
            "type": "scatterpolargl"
           }
          ],
          "scatterternary": [
           {
            "marker": {
             "colorbar": {
              "outlinewidth": 0,
              "ticks": ""
             }
            },
            "type": "scatterternary"
           }
          ],
          "surface": [
           {
            "colorbar": {
             "outlinewidth": 0,
             "ticks": ""
            },
            "colorscale": [
             [
              0,
              "#0d0887"
             ],
             [
              0.1111111111111111,
              "#46039f"
             ],
             [
              0.2222222222222222,
              "#7201a8"
             ],
             [
              0.3333333333333333,
              "#9c179e"
             ],
             [
              0.4444444444444444,
              "#bd3786"
             ],
             [
              0.5555555555555556,
              "#d8576b"
             ],
             [
              0.6666666666666666,
              "#ed7953"
             ],
             [
              0.7777777777777778,
              "#fb9f3a"
             ],
             [
              0.8888888888888888,
              "#fdca26"
             ],
             [
              1,
              "#f0f921"
             ]
            ],
            "type": "surface"
           }
          ],
          "table": [
           {
            "cells": {
             "fill": {
              "color": "#EBF0F8"
             },
             "line": {
              "color": "white"
             }
            },
            "header": {
             "fill": {
              "color": "#C8D4E3"
             },
             "line": {
              "color": "white"
             }
            },
            "type": "table"
           }
          ]
         },
         "layout": {
          "annotationdefaults": {
           "arrowcolor": "#2a3f5f",
           "arrowhead": 0,
           "arrowwidth": 1
          },
          "autotypenumbers": "strict",
          "coloraxis": {
           "colorbar": {
            "outlinewidth": 0,
            "ticks": ""
           }
          },
          "colorscale": {
           "diverging": [
            [
             0,
             "#8e0152"
            ],
            [
             0.1,
             "#c51b7d"
            ],
            [
             0.2,
             "#de77ae"
            ],
            [
             0.3,
             "#f1b6da"
            ],
            [
             0.4,
             "#fde0ef"
            ],
            [
             0.5,
             "#f7f7f7"
            ],
            [
             0.6,
             "#e6f5d0"
            ],
            [
             0.7,
             "#b8e186"
            ],
            [
             0.8,
             "#7fbc41"
            ],
            [
             0.9,
             "#4d9221"
            ],
            [
             1,
             "#276419"
            ]
           ],
           "sequential": [
            [
             0,
             "#0d0887"
            ],
            [
             0.1111111111111111,
             "#46039f"
            ],
            [
             0.2222222222222222,
             "#7201a8"
            ],
            [
             0.3333333333333333,
             "#9c179e"
            ],
            [
             0.4444444444444444,
             "#bd3786"
            ],
            [
             0.5555555555555556,
             "#d8576b"
            ],
            [
             0.6666666666666666,
             "#ed7953"
            ],
            [
             0.7777777777777778,
             "#fb9f3a"
            ],
            [
             0.8888888888888888,
             "#fdca26"
            ],
            [
             1,
             "#f0f921"
            ]
           ],
           "sequentialminus": [
            [
             0,
             "#0d0887"
            ],
            [
             0.1111111111111111,
             "#46039f"
            ],
            [
             0.2222222222222222,
             "#7201a8"
            ],
            [
             0.3333333333333333,
             "#9c179e"
            ],
            [
             0.4444444444444444,
             "#bd3786"
            ],
            [
             0.5555555555555556,
             "#d8576b"
            ],
            [
             0.6666666666666666,
             "#ed7953"
            ],
            [
             0.7777777777777778,
             "#fb9f3a"
            ],
            [
             0.8888888888888888,
             "#fdca26"
            ],
            [
             1,
             "#f0f921"
            ]
           ]
          },
          "colorway": [
           "#636efa",
           "#EF553B",
           "#00cc96",
           "#ab63fa",
           "#FFA15A",
           "#19d3f3",
           "#FF6692",
           "#B6E880",
           "#FF97FF",
           "#FECB52"
          ],
          "font": {
           "color": "#2a3f5f"
          },
          "geo": {
           "bgcolor": "white",
           "lakecolor": "white",
           "landcolor": "#E5ECF6",
           "showlakes": true,
           "showland": true,
           "subunitcolor": "white"
          },
          "hoverlabel": {
           "align": "left"
          },
          "hovermode": "closest",
          "mapbox": {
           "style": "light"
          },
          "paper_bgcolor": "white",
          "plot_bgcolor": "#E5ECF6",
          "polar": {
           "angularaxis": {
            "gridcolor": "white",
            "linecolor": "white",
            "ticks": ""
           },
           "bgcolor": "#E5ECF6",
           "radialaxis": {
            "gridcolor": "white",
            "linecolor": "white",
            "ticks": ""
           }
          },
          "scene": {
           "xaxis": {
            "backgroundcolor": "#E5ECF6",
            "gridcolor": "white",
            "gridwidth": 2,
            "linecolor": "white",
            "showbackground": true,
            "ticks": "",
            "zerolinecolor": "white"
           },
           "yaxis": {
            "backgroundcolor": "#E5ECF6",
            "gridcolor": "white",
            "gridwidth": 2,
            "linecolor": "white",
            "showbackground": true,
            "ticks": "",
            "zerolinecolor": "white"
           },
           "zaxis": {
            "backgroundcolor": "#E5ECF6",
            "gridcolor": "white",
            "gridwidth": 2,
            "linecolor": "white",
            "showbackground": true,
            "ticks": "",
            "zerolinecolor": "white"
           }
          },
          "shapedefaults": {
           "line": {
            "color": "#2a3f5f"
           }
          },
          "ternary": {
           "aaxis": {
            "gridcolor": "white",
            "linecolor": "white",
            "ticks": ""
           },
           "baxis": {
            "gridcolor": "white",
            "linecolor": "white",
            "ticks": ""
           },
           "bgcolor": "#E5ECF6",
           "caxis": {
            "gridcolor": "white",
            "linecolor": "white",
            "ticks": ""
           }
          },
          "title": {
           "x": 0.05
          },
          "xaxis": {
           "automargin": true,
           "gridcolor": "white",
           "linecolor": "white",
           "ticks": "",
           "title": {
            "standoff": 15
           },
           "zerolinecolor": "white",
           "zerolinewidth": 2
          },
          "yaxis": {
           "automargin": true,
           "gridcolor": "white",
           "linecolor": "white",
           "ticks": "",
           "title": {
            "standoff": 15
           },
           "zerolinecolor": "white",
           "zerolinewidth": 2
          }
         }
        },
        "title": {
         "text": "Concentric Circles Data"
        },
        "width": 600,
        "xaxis": {
         "anchor": "y",
         "domain": [
          0,
          1
         ],
         "title": {
          "text": "x"
         }
        },
        "yaxis": {
         "anchor": "x",
         "domain": [
          0,
          1
         ],
         "title": {
          "text": "y"
         }
        }
       }
      },
      "text/html": [
       "<div>                            <div id=\"cf26d9b7-f0cd-42e3-b0b1-f4c7b737ca52\" class=\"plotly-graph-div\" style=\"height:400px; width:600px;\"></div>            <script type=\"text/javascript\">                require([\"plotly\"], function(Plotly) {                    window.PLOTLYENV=window.PLOTLYENV || {};                                    if (document.getElementById(\"cf26d9b7-f0cd-42e3-b0b1-f4c7b737ca52\")) {                    Plotly.newPlot(                        \"cf26d9b7-f0cd-42e3-b0b1-f4c7b737ca52\",                        [{\"hovertemplate\":\"x=%{x}<br>y=%{y}<br>color=%{marker.color}<extra></extra>\",\"legendgroup\":\"\",\"marker\":{\"color\":[1,0,1,0,1,1,0,1,1,0,0,1,1,0,0,1,0,0,0,0,0,1,0,0,0,0,0,1,1,1,0,0,1,0,1,1,1,1,0,1,1,1,1,0,1,0,1,1,1,1,0,0,1,1,1,0,0,1,0,0,0,0,0,1,1,1,0,1,0,0,0,1,1,0,1,0,1,1,0,1,0,1,0,1,0,1,1,1,0,0,1,1,1,1,0,1,1,1,0,0,0,1,0,0,0,1,1,0,0,1,0,0,0,0,1,0,1,0,1,0,0,0,0,1,1,0,0,0,1,0,0,1,0,0,1,1,0,0,0,0,0,1,1,1,0,1,1,1,1,1,0,0,0,1,0,0,1,0,0,0,0,1,1,1,0,0,0,0,0,1,1,0,0,1,0,1,1,1,1,1,0,0,1,0,1,0,1,1,1,0,1,1,1,0,1,1,1,0,0,0,1,0,1,1,1,0,0,0,1,1,0,1,0,0,0,1,1,0,0,0,0,1,1,1,1,1,0,1,1,1,0,1,1,1,0,0,1,0,1,0,0,1,0,1,1,0,0,1,1,1,0,0,1,1,0,0,0,1,0,0,0,0,1,1,1,1,1,0,1,0,1,1,1,1,1,1,0,1,0,1,1,0,1,0,0,0,1,0,0,0,1,1,0,1,1,0,0,0,0,0,0,1,0,1,0,0,0,0,0,1,1,1,1,1,1,0,0,0,0,0,0,1,1,0,0,0,1,1,1,0,0,0,0,0,1,1,1,1,0,0,1,0,1,1,0,1,1,1,1,0,1,1,0,0,1,1,0,1,1,1,0,1,0,1,0,0,1,0,1,0,1,0,1,1,0,1,1,1,1,1,0,1,0,0,0,0,0,0,1,1,0,0,0,0,0,1,0,1,1,1],\"coloraxis\":\"coloraxis\",\"symbol\":\"circle\",\"opacity\":0.6,\"size\":8},\"mode\":\"markers\",\"name\":\"\",\"orientation\":\"v\",\"showlegend\":false,\"x\":[0.07329575255547957,0.24123026780682785,-0.23155353206303467,0.3907817392197847,-0.011490345931543543,-0.3191985941982657,-0.2544986359102402,-0.16950869437804317,0.16200630545149852,-0.9771327410580044,0.740166141561637,-0.0011737582666727087,0.19885228264421662,0.5307604986443539,0.8211958836507801,-0.1424065407893199,0.8829061486458634,0.34221646586539767,0.1413282609247734,0.8990325021925242,1.0758259958495067,-0.12507298892719992,-0.799002891708504,0.5892243631667867,0.8117384376903386,0.08314351171439074,1.0350093164000327,0.12576542231025695,-0.014464441429083388,-0.09220792213996948,0.6651370893347635,-0.9427812302566863,-0.31828352257921655,1.0417947780289532,0.04652632399296566,0.0824520805723766,-0.1534407320190676,-0.09401245430289139,-0.634288900776366,-0.21265472134527452,0.13709961144328148,-0.15053305520425933,-0.2779243820276604,0.09833136146508736,-0.19065663349056863,0.41070226436704793,0.07401920015568689,0.12105153433897542,-0.09173553307854862,0.05286761873794252,0.5325131719319991,-1.1267699046363142,-0.1847103051417872,0.11008674416565917,-0.14166940217302756,0.6734559990890234,1.0918480503711354,-0.3501891486389296,0.9484879882629454,-0.9118429165868702,0.587809122354338,0.6047998791836918,-0.18478825701657287,0.15100910902704054,0.16674406038475392,-0.10473903266428095,-0.7963048695510238,0.26308773845094124,-0.9369739043154642,0.07402650176324393,-0.6504969792637494,-0.22306232001203102,0.014986514317095315,-0.05119510589446174,0.008780716283996851,0.9201382909090724,0.16421291363085613,-0.19294721202967702,-0.8169644563514113,-0.09781958396831435,0.7549283284590906,-0.09337364095519742,1.0883128192037508,-0.4130590180845074,-0.6547173871944767,0.30239585338849173,0.057724857486428444,-0.2560699067546368,-1.0034421987676394,0.689229402503835,0.1687962353557827,0.009338971298277002,0.2392081998129333,0.07006409914214437,1.0039905616440057,-0.174862370966394,0.09278938040203641,0.36693822989898506,-0.21049966439120654,0.6269630017568322,0.4995131916442292,-0.14711743411594416,-0.057314283227348314,-0.1670727829496806,0.9339860094027794,0.07388367868734744,-0.09787584793147094,-0.38590826805615386,0.6621271823518515,-0.09376618244243778,0.7366729434058515,-0.7736322311368368,0.01901207311862879,-0.3645154431012939,0.1510298271178432,-0.9441600807120833,-0.05605096011760877,0.992061709770129,-0.0216897611985572,1.0868258608442043,0.7283415872212438,-1.1880745525069238,0.9948284905042071,0.010296424265609116,-0.20304985143967944,0.8181464050138055,0.5388021137072447,-0.8280238794413828,0.06764807971526296,-0.4927730666146718,0.9454328084245253,0.1383372221418926,-0.45155096701944225,-1.117473493589459,-0.1459083906633592,0.10084692044843388,0.44880300973022014,-0.7487896225451474,-0.6967847355048208,-0.027259399636927945,0.7576636592834717,-0.283605159800029,-0.22304654295744122,-0.07957516135381007,-0.9946916281528572,-0.013480237524512328,0.013740848264873142,0.2555290120933004,-0.1397221593341174,-0.007176613930892278,0.8248170625848654,1.1254566745546222,0.3970680155700727,0.09820117763067918,0.6564386083481697,-0.30811938403654276,0.11126910178047798,-0.14829990182804875,-0.8224814716748305,-0.8080912618391625,0.2891851900799015,0.03490709800154259,0.1999513897194684,-0.15174742235998756,-0.8418494129605197,-0.38498027812266106,-1.0685797004149948,-0.6564967901171939,-0.79449276801283,0.22502023165361418,-0.052218135369452884,0.1908482494310824,0.319779470974445,-0.1080957793873756,-0.9093632011396678,-0.2426705449513452,0.2932813748049528,0.015231691572637929,0.1513710302022778,-0.10526188413921196,0.4006094309004893,0.36059799136639625,0.05699470738962398,0.929399968259864,-0.12124172506247152,-0.9158448442489225,-0.07783774368679168,-0.0006846750547458424,0.10505758757159284,-0.37227140977686,-0.10174533035306302,-0.052431770596842495,-0.04449462603009993,-0.25818193676652584,-0.1606695341338224,0.1102794285278704,0.006552686654024198,0.09543476569862652,0.19322351800303322,0.492131355183522,-0.2323434503152546,0.6575495204837131,0.16886567484302284,-0.0032312522732003413,0.23209941396496786,0.8150161991490014,-0.6339878817539452,0.7228446722729611,0.12541893693015965,0.22537868323966198,-0.7862438167847615,0.10860906766231163,0.3145989729962125,0.9828062961025249,-0.2675412803264736,-0.27484745068091687,0.3156444049433239,-0.6797913355079621,-0.5303678496047616,-0.6519194191819879,-1.2234324703010624,-0.13860221706701017,0.05363177570673011,0.01019654208638937,0.23768411165348152,0.20779192633806748,-0.9726544023765554,-0.1939753547433063,-0.06541216931619637,-0.21831783950629627,-0.8689845379772448,-0.1447249058495703,0.12240944886320843,-0.08130089245172731,-0.07381750577848903,1.0039179405669916,-0.11937356759766567,-0.8224296686983517,-0.2309819659908755,-0.6353832523978076,-0.334702088914783,0.21903832446936275,-1.0096878429065201,0.04659512368508453,-0.06450347699592109,1.051769655868097,-0.35497769878947366,-0.11634038000173141,0.17513591691450817,-0.20121192850627811,0.8308037696305483,0.5399511493964771,0.15549350200072676,0.13417775269476018,0.36468155635281335,0.9415819649015781,0.2440952411019726,-0.16916265657994883,-0.6306585902411533,0.0574161257751145,-1.0627822437166572,1.0127230812800712,0.04636989649257356,-0.058793524945455186,-0.23479761706365737,0.12126267143321556,-0.03386043679885663,-0.4588404626218334,-0.12074844974321539,0.4274521573106832,0.27554401630797387,-0.04207503968015399,-0.0590276090834186,-0.16399919579512515,-0.019682850463896766,0.2940421756245808,-0.008063804266006738,0.04816339226327304,0.31506773075488104,-0.15907724981112678,0.21652635814760984,-0.5018546355014272,0.010825823972095971,0.968479913062475,-0.7545509183723353,0.025579002381936555,0.029098217149149005,-0.93270636698194,-0.2600889245752071,-0.9589494495480854,0.24547731476451956,0.007950713882231768,-0.4199467822742886,-0.07207325958111882,-0.05309035118993145,0.07430997138900663,-0.7211236139240828,-1.0177291812689706,-0.3099979714441904,0.9841465111887105,1.0326535470311387,0.11972287028080844,-0.7465191549002628,-0.2140865806518972,0.6831106687040508,-0.35651481563821813,1.1406191933879946,0.8895350751089087,-0.9261863484418008,-0.03446812878457905,-0.05837338758503613,0.15389249691905552,-0.1187167291990353,-0.16320363741794525,-0.23274793412970338,-0.983180008392736,-0.02816575703816944,-0.41842843797195706,-0.6812663335319021,0.8835206523901221,-0.17785347391026282,-0.12288343000298829,0.09261301730566049,0.007580827156299479,0.8808526424497582,0.9957502682011223,-0.14812384537078813,0.2943925765181452,-0.2663665282665431,0.6111409340310513,0.7651029681595374,0.9188655424653229,0.27463520504481514,-0.5418945366387178,0.07187161449572343,0.00763393050447176,-0.046933717952535536,0.16138016421629683,0.10157133335904404,-0.6145098972191921,0.09582085360189943,0.2388196034537395,0.051604297815801184,-0.16232990737582148,0.05674823980613619,0.18216376246184496,-0.048029280823981835,-0.07228301969818604,-0.1934655534249466,-0.375507060192462,-0.08791838155617823,0.2954300109350262,0.6115789843617879,-0.6508972737252467,-0.20335280827934193,0.08103553600375249,-0.916742473580604,0.24486880584656984,0.0024295463407316906,-0.14434117538763264,0.9331944819577697,0.04445298292313756,-0.9528548024261153,0.19113276567862608,-0.584575434514577,0.7927844382973309,0.09537019780959238,-1.0132317126273125,0.2243685156321733,0.32773856934108486,-0.17414620627959015,0.9664127432250152,-0.2859042211060613,-0.12752981170067318,-0.689316860664298,0.09162121569620826,0.231183763729345,-0.17128401383389213,-0.07867485403108677,-0.034948422294456556,-0.9021796378793977,0.3294155643008158,0.5292478202678766,-0.5843318426792202,0.030230275571287407,-0.701608762744362,-0.8091339526197526,-1.0803977189657294,0.0631642504663044,0.3149370766300327,-0.2716096680254755,-0.6536078995475129,-0.9921127036636781,-0.9759677776614112,0.6983923021296918,0.22916046579037952,-0.9354957490421457,-0.1915784401290561,0.16131001594256011,0.0754146191465247],\"xaxis\":\"x\",\"y\":[0.17986114813346749,0.9573006480427563,0.0703818174037189,-0.8501837887784505,-0.3392585119523319,0.04562889637100105,0.7680611191207989,0.1488193109132422,-0.0642591618902041,0.2790101481543047,-0.7536365415948139,-0.024812706285100142,0.15114097109743144,0.9423889510030137,-0.3772151819469574,-0.35871133526244753,-0.1761681625592837,-0.8598651172193428,1.042248235851491,0.16898448738040706,-0.06592936630825216,0.17109261641323156,0.6653780976276107,-0.8026336351812159,0.4095346007498274,0.9173888576864221,0.14075479726121326,0.08694697875167477,0.1020070730091372,0.012078925724759548,-0.990823641225984,-0.03678725264332697,0.14593261489342155,-0.2066067682684501,-0.24925446943863191,0.16935056170203894,-0.2996037931453341,-0.13105275233109331,0.8125902822213903,-0.11850549158587531,0.2853473882093496,0.015080967411201879,0.16539758769194346,-1.0337119871890332,0.15433444170052452,1.0240356362137397,-0.2106420432877282,0.16336497051119386,-0.14323977222111672,0.18452745274666735,0.8653902678146187,0.017082271754456778,0.03649564537650472,0.28176984759040347,0.10847505279717204,0.7836291754217097,0.2951638367512588,-0.0711074105867438,-0.28416803302733995,0.38361294762274933,0.7454870091295541,0.43210942208683245,0.9275533730752618,-0.028045040169417917,0.08451944861771027,0.1487854555901138,-0.5329880063947263,-0.15053703855983908,-0.1262806620477312,-1.071988307327532,0.7562305807132585,0.2404547970167902,0.2980012535020191,0.9614977616305267,0.1827275387392036,-0.5299497051238262,0.026624695415554858,-0.31277914748621316,-0.4860203448632267,-0.25165222608210813,-0.5600545557578255,0.26844552086596624,0.15490062797483298,0.13274548013641646,-0.7315330679065838,0.12570675674559628,-0.24530507164085308,0.36245210928133764,0.22300230551669914,-0.9356147842816329,0.0489884848142233,-0.21906516919497782,-0.209093437503649,-0.1554513742738056,0.016601962385009005,0.008737998907558803,0.02927904726509805,0.04680313881640937,-0.9166760464854093,1.100667235630746,-0.6724486816884325,0.1398376904604477,-1.0524212729415974,-0.8735192991683529,0.23661338899271028,-0.13302206877905964,-0.15193230106038014,1.0561278697268721,0.6822620886022024,0.013891431356408497,0.6152901453919707,-0.6304472941517776,-0.9910936145525918,-1.0661919526324442,-0.07392082284707449,0.30044888962316896,0.2034722779982635,-0.28653107172853,0.170698761329649,-0.3307034543667367,-0.8218644301016271,-0.2904493579804164,0.05141849446673363,0.009063598139459575,0.1272898153028147,0.6674530816269596,1.0080595186813397,0.5082223163759119,-0.26822673577951694,-1.0146407470321421,-0.20604934583672158,-0.0028351453090492418,0.6779867447439545,0.30253033604349283,0.01820446260734196,-0.21601163829609227,0.9516276824655249,-0.6447848320731622,0.732042634842712,0.9346621681475075,0.7422812591376653,-0.21899467164135372,0.03948199837127876,0.07077749584109658,0.3492371872376266,0.07730643246140036,-0.17779205242532586,0.23321162278067306,-0.1466773376932446,-0.014175022182336787,-0.7582235478266568,0.06727706173668915,-0.9807253138833476,-0.25315217791518335,-0.5860863570929594,-0.9885147716059558,-0.17668408981408104,-1.0186367712358964,0.7417517344958644,-0.6411330221874139,-1.0764105645922626,0.1800376529317599,0.027100208530940008,-0.17702753339011035,-0.01433704940640819,0.9531387498855,-0.18813541691362523,-0.7947772794973186,0.5904496932955046,-0.11618443931401227,0.297951302071285,0.9049627794336705,-0.8241607804525523,-0.2708516989766139,0.3880136128440423,-0.175216036924,-0.1319095488846672,0.040165178748003905,0.25493452701200553,0.021353105704161397,-0.7948939560503945,-0.9381542799175728,0.04204322900824685,0.24876098980385528,0.2540207588060586,-0.3334759225635458,0.1018917777447078,0.1717230657602907,-0.16596997054404652,-0.8864329755221589,-0.2685986682426657,0.2125397654603691,0.09911599225706685,-0.9840789472076038,0.09762355244434201,0.17241146965889764,0.07478017060656145,0.8974391928290546,0.9015791519021339,0.7836227127934137,-0.32304082534498857,0.5058255280918511,0.028464887975662018,-0.0756818696279959,0.2696838989793246,0.27931163291929934,0.868211371117446,0.7169442728490358,0.021403514585232316,-0.0990986017947242,-0.6605581877390082,0.2683036124558953,-0.8873217374587298,-0.11682040686306076,-1.0509645960377603,-0.02539363010676844,0.1275979288496759,-0.44239496127975236,0.8326412918630764,-0.7691874586753851,-0.09324814787355144,0.010543132073845857,0.007645206272157451,-0.22678865806829349,0.07437826339675106,0.3087623045269839,0.47719833255789196,0.10396611694863683,-0.15713387124490708,0.06723107706976372,-0.22932614768451132,-0.1486205402026858,-0.044143809566809605,-0.13296598228393336,-1.1926868754487576,-0.27382976234556056,-0.10678133956114187,-0.6874448186114007,0.15004478813129427,-0.9145595594052485,-0.9880663488113332,0.0700699027463729,0.3059415944310116,-0.08186066853538337,-0.11391284852775085,-0.12488921927277719,1.0938361959693685,0.04705535802691874,-0.14247500400443547,-0.2070684783944181,-0.6375435142501407,-0.87845628434809,0.0516756186094185,-0.24911654620189763,-0.9205102736771514,-0.5249833393593911,1.0697595939208677,-0.3286854574107805,-0.6818746095812593,1.1607981200578743,0.07239609492127044,-0.09576394601783281,0.019040588040007744,0.059826579111021155,0.21459108546504924,-0.30728102435412574,-0.5011100314769297,0.7139867318269382,-0.14432702239882533,-0.762993818544685,0.22200354454951027,0.15856371627160493,0.055852623780027144,0.2623476404709799,-0.2000032037952631,-0.19539234133638442,-1.0597535105642786,-0.2781533021804443,0.8819358232992021,-0.13615452134041367,-0.2639859724971544,0.8675263593449508,0.03311454838979672,0.4743465632542075,0.6499542263604309,0.9270241041698473,0.12333505393987498,-0.6141510707550809,-0.9209096793503017,0.36666787244783516,-0.3017847646543172,0.29905100803478,0.7354949306176372,0.283342968262827,-0.26695263754514603,0.8966920501648019,0.5081835199722153,-0.3222572755911338,-0.8261874844386957,0.35908088643492897,-0.2471634600559929,-0.26732375853653895,-0.558028250922361,-0.20370598110254995,0.8214329775878638,-0.9275877633227995,-0.0328556930381181,0.4519717309515803,0.4064235826121678,0.07982632704981786,0.10986089925201431,0.19346271318232067,0.24714206276537995,0.17451719447962358,-0.10990838965552985,-0.1252445611147743,-1.0673554635979607,-1.0005833248203042,0.9227816476083487,0.0805719647231706,0.906289775847376,0.0410780888564456,0.06063048305802028,1.0522129457225398,0.05152359095774879,0.46076140381347547,0.15761576408459974,-0.08824126295398052,-0.02209318971725012,0.5338203858617849,-0.5287517958949324,-0.6680771296709289,1.1471965558805794,-0.8059435105874644,0.203562933578888,0.2798904376297349,0.05862671798972871,-0.06719872564539234,-0.9705072470926628,0.9271372425672331,-0.1430008644588955,-0.8515370202662346,-0.016239911470614043,0.15752060282894367,-0.9957885794887427,0.02004359930377506,0.08017295945768377,-0.18671969785215137,-0.019217112842349837,0.8565657671085887,-0.1407887726226634,0.1227215672562755,-0.9380141851989809,0.636723533005559,0.10401461339326384,-0.2022326751165471,-0.4580031913100977,0.12170570726965871,-0.44013931258317174,-0.23035963881838023,-0.681111849033796,-0.15995246152141487,0.09477388210519493,-0.28640561843437157,-0.8398110118900173,-0.731554759735039,0.020403824107929944,0.4905030267537731,0.1649062163591549,0.8789222789068033,-0.23124131201720588,0.029533113592871876,-0.04253134298069325,-0.10572080663603708,1.0176076888266934,0.07629033777066442,-0.08102483831479033,0.15625338621601015,-0.10704551973679823,-0.01599342691047001,-0.30475125208618997,-0.08011173764176291,0.7241384139304519,0.6991571723346567,0.9722081059400602,-0.7982672573491298,-0.41876044993243833,0.01884690380483174,0.19834495147564835,0.16003488741340421,0.9144720943118051,-0.5958383741405533,-0.16410243229918103,0.5249079039232983,0.46615342646043934,0.10617937184063833,0.15550800151586702,-0.19279059711659496,-0.03725044709167617,-0.17431002057265121],\"yaxis\":\"y\",\"type\":\"scatter\"}],                        {\"template\":{\"data\":{\"histogram2dcontour\":[{\"type\":\"histogram2dcontour\",\"colorbar\":{\"outlinewidth\":0,\"ticks\":\"\"},\"colorscale\":[[0.0,\"#0d0887\"],[0.1111111111111111,\"#46039f\"],[0.2222222222222222,\"#7201a8\"],[0.3333333333333333,\"#9c179e\"],[0.4444444444444444,\"#bd3786\"],[0.5555555555555556,\"#d8576b\"],[0.6666666666666666,\"#ed7953\"],[0.7777777777777778,\"#fb9f3a\"],[0.8888888888888888,\"#fdca26\"],[1.0,\"#f0f921\"]]}],\"choropleth\":[{\"type\":\"choropleth\",\"colorbar\":{\"outlinewidth\":0,\"ticks\":\"\"}}],\"histogram2d\":[{\"type\":\"histogram2d\",\"colorbar\":{\"outlinewidth\":0,\"ticks\":\"\"},\"colorscale\":[[0.0,\"#0d0887\"],[0.1111111111111111,\"#46039f\"],[0.2222222222222222,\"#7201a8\"],[0.3333333333333333,\"#9c179e\"],[0.4444444444444444,\"#bd3786\"],[0.5555555555555556,\"#d8576b\"],[0.6666666666666666,\"#ed7953\"],[0.7777777777777778,\"#fb9f3a\"],[0.8888888888888888,\"#fdca26\"],[1.0,\"#f0f921\"]]}],\"heatmap\":[{\"type\":\"heatmap\",\"colorbar\":{\"outlinewidth\":0,\"ticks\":\"\"},\"colorscale\":[[0.0,\"#0d0887\"],[0.1111111111111111,\"#46039f\"],[0.2222222222222222,\"#7201a8\"],[0.3333333333333333,\"#9c179e\"],[0.4444444444444444,\"#bd3786\"],[0.5555555555555556,\"#d8576b\"],[0.6666666666666666,\"#ed7953\"],[0.7777777777777778,\"#fb9f3a\"],[0.8888888888888888,\"#fdca26\"],[1.0,\"#f0f921\"]]}],\"heatmapgl\":[{\"type\":\"heatmapgl\",\"colorbar\":{\"outlinewidth\":0,\"ticks\":\"\"},\"colorscale\":[[0.0,\"#0d0887\"],[0.1111111111111111,\"#46039f\"],[0.2222222222222222,\"#7201a8\"],[0.3333333333333333,\"#9c179e\"],[0.4444444444444444,\"#bd3786\"],[0.5555555555555556,\"#d8576b\"],[0.6666666666666666,\"#ed7953\"],[0.7777777777777778,\"#fb9f3a\"],[0.8888888888888888,\"#fdca26\"],[1.0,\"#f0f921\"]]}],\"contourcarpet\":[{\"type\":\"contourcarpet\",\"colorbar\":{\"outlinewidth\":0,\"ticks\":\"\"}}],\"contour\":[{\"type\":\"contour\",\"colorbar\":{\"outlinewidth\":0,\"ticks\":\"\"},\"colorscale\":[[0.0,\"#0d0887\"],[0.1111111111111111,\"#46039f\"],[0.2222222222222222,\"#7201a8\"],[0.3333333333333333,\"#9c179e\"],[0.4444444444444444,\"#bd3786\"],[0.5555555555555556,\"#d8576b\"],[0.6666666666666666,\"#ed7953\"],[0.7777777777777778,\"#fb9f3a\"],[0.8888888888888888,\"#fdca26\"],[1.0,\"#f0f921\"]]}],\"surface\":[{\"type\":\"surface\",\"colorbar\":{\"outlinewidth\":0,\"ticks\":\"\"},\"colorscale\":[[0.0,\"#0d0887\"],[0.1111111111111111,\"#46039f\"],[0.2222222222222222,\"#7201a8\"],[0.3333333333333333,\"#9c179e\"],[0.4444444444444444,\"#bd3786\"],[0.5555555555555556,\"#d8576b\"],[0.6666666666666666,\"#ed7953\"],[0.7777777777777778,\"#fb9f3a\"],[0.8888888888888888,\"#fdca26\"],[1.0,\"#f0f921\"]]}],\"mesh3d\":[{\"type\":\"mesh3d\",\"colorbar\":{\"outlinewidth\":0,\"ticks\":\"\"}}],\"scatter\":[{\"fillpattern\":{\"fillmode\":\"overlay\",\"size\":10,\"solidity\":0.2},\"type\":\"scatter\"}],\"parcoords\":[{\"type\":\"parcoords\",\"line\":{\"colorbar\":{\"outlinewidth\":0,\"ticks\":\"\"}}}],\"scatterpolargl\":[{\"type\":\"scatterpolargl\",\"marker\":{\"colorbar\":{\"outlinewidth\":0,\"ticks\":\"\"}}}],\"bar\":[{\"error_x\":{\"color\":\"#2a3f5f\"},\"error_y\":{\"color\":\"#2a3f5f\"},\"marker\":{\"line\":{\"color\":\"#E5ECF6\",\"width\":0.5},\"pattern\":{\"fillmode\":\"overlay\",\"size\":10,\"solidity\":0.2}},\"type\":\"bar\"}],\"scattergeo\":[{\"type\":\"scattergeo\",\"marker\":{\"colorbar\":{\"outlinewidth\":0,\"ticks\":\"\"}}}],\"scatterpolar\":[{\"type\":\"scatterpolar\",\"marker\":{\"colorbar\":{\"outlinewidth\":0,\"ticks\":\"\"}}}],\"histogram\":[{\"marker\":{\"pattern\":{\"fillmode\":\"overlay\",\"size\":10,\"solidity\":0.2}},\"type\":\"histogram\"}],\"scattergl\":[{\"type\":\"scattergl\",\"marker\":{\"colorbar\":{\"outlinewidth\":0,\"ticks\":\"\"}}}],\"scatter3d\":[{\"type\":\"scatter3d\",\"line\":{\"colorbar\":{\"outlinewidth\":0,\"ticks\":\"\"}},\"marker\":{\"colorbar\":{\"outlinewidth\":0,\"ticks\":\"\"}}}],\"scattermapbox\":[{\"type\":\"scattermapbox\",\"marker\":{\"colorbar\":{\"outlinewidth\":0,\"ticks\":\"\"}}}],\"scatterternary\":[{\"type\":\"scatterternary\",\"marker\":{\"colorbar\":{\"outlinewidth\":0,\"ticks\":\"\"}}}],\"scattercarpet\":[{\"type\":\"scattercarpet\",\"marker\":{\"colorbar\":{\"outlinewidth\":0,\"ticks\":\"\"}}}],\"carpet\":[{\"aaxis\":{\"endlinecolor\":\"#2a3f5f\",\"gridcolor\":\"white\",\"linecolor\":\"white\",\"minorgridcolor\":\"white\",\"startlinecolor\":\"#2a3f5f\"},\"baxis\":{\"endlinecolor\":\"#2a3f5f\",\"gridcolor\":\"white\",\"linecolor\":\"white\",\"minorgridcolor\":\"white\",\"startlinecolor\":\"#2a3f5f\"},\"type\":\"carpet\"}],\"table\":[{\"cells\":{\"fill\":{\"color\":\"#EBF0F8\"},\"line\":{\"color\":\"white\"}},\"header\":{\"fill\":{\"color\":\"#C8D4E3\"},\"line\":{\"color\":\"white\"}},\"type\":\"table\"}],\"barpolar\":[{\"marker\":{\"line\":{\"color\":\"#E5ECF6\",\"width\":0.5},\"pattern\":{\"fillmode\":\"overlay\",\"size\":10,\"solidity\":0.2}},\"type\":\"barpolar\"}],\"pie\":[{\"automargin\":true,\"type\":\"pie\"}]},\"layout\":{\"autotypenumbers\":\"strict\",\"colorway\":[\"#636efa\",\"#EF553B\",\"#00cc96\",\"#ab63fa\",\"#FFA15A\",\"#19d3f3\",\"#FF6692\",\"#B6E880\",\"#FF97FF\",\"#FECB52\"],\"font\":{\"color\":\"#2a3f5f\"},\"hovermode\":\"closest\",\"hoverlabel\":{\"align\":\"left\"},\"paper_bgcolor\":\"white\",\"plot_bgcolor\":\"#E5ECF6\",\"polar\":{\"bgcolor\":\"#E5ECF6\",\"angularaxis\":{\"gridcolor\":\"white\",\"linecolor\":\"white\",\"ticks\":\"\"},\"radialaxis\":{\"gridcolor\":\"white\",\"linecolor\":\"white\",\"ticks\":\"\"}},\"ternary\":{\"bgcolor\":\"#E5ECF6\",\"aaxis\":{\"gridcolor\":\"white\",\"linecolor\":\"white\",\"ticks\":\"\"},\"baxis\":{\"gridcolor\":\"white\",\"linecolor\":\"white\",\"ticks\":\"\"},\"caxis\":{\"gridcolor\":\"white\",\"linecolor\":\"white\",\"ticks\":\"\"}},\"coloraxis\":{\"colorbar\":{\"outlinewidth\":0,\"ticks\":\"\"}},\"colorscale\":{\"sequential\":[[0.0,\"#0d0887\"],[0.1111111111111111,\"#46039f\"],[0.2222222222222222,\"#7201a8\"],[0.3333333333333333,\"#9c179e\"],[0.4444444444444444,\"#bd3786\"],[0.5555555555555556,\"#d8576b\"],[0.6666666666666666,\"#ed7953\"],[0.7777777777777778,\"#fb9f3a\"],[0.8888888888888888,\"#fdca26\"],[1.0,\"#f0f921\"]],\"sequentialminus\":[[0.0,\"#0d0887\"],[0.1111111111111111,\"#46039f\"],[0.2222222222222222,\"#7201a8\"],[0.3333333333333333,\"#9c179e\"],[0.4444444444444444,\"#bd3786\"],[0.5555555555555556,\"#d8576b\"],[0.6666666666666666,\"#ed7953\"],[0.7777777777777778,\"#fb9f3a\"],[0.8888888888888888,\"#fdca26\"],[1.0,\"#f0f921\"]],\"diverging\":[[0,\"#8e0152\"],[0.1,\"#c51b7d\"],[0.2,\"#de77ae\"],[0.3,\"#f1b6da\"],[0.4,\"#fde0ef\"],[0.5,\"#f7f7f7\"],[0.6,\"#e6f5d0\"],[0.7,\"#b8e186\"],[0.8,\"#7fbc41\"],[0.9,\"#4d9221\"],[1,\"#276419\"]]},\"xaxis\":{\"gridcolor\":\"white\",\"linecolor\":\"white\",\"ticks\":\"\",\"title\":{\"standoff\":15},\"zerolinecolor\":\"white\",\"automargin\":true,\"zerolinewidth\":2},\"yaxis\":{\"gridcolor\":\"white\",\"linecolor\":\"white\",\"ticks\":\"\",\"title\":{\"standoff\":15},\"zerolinecolor\":\"white\",\"automargin\":true,\"zerolinewidth\":2},\"scene\":{\"xaxis\":{\"backgroundcolor\":\"#E5ECF6\",\"gridcolor\":\"white\",\"linecolor\":\"white\",\"showbackground\":true,\"ticks\":\"\",\"zerolinecolor\":\"white\",\"gridwidth\":2},\"yaxis\":{\"backgroundcolor\":\"#E5ECF6\",\"gridcolor\":\"white\",\"linecolor\":\"white\",\"showbackground\":true,\"ticks\":\"\",\"zerolinecolor\":\"white\",\"gridwidth\":2},\"zaxis\":{\"backgroundcolor\":\"#E5ECF6\",\"gridcolor\":\"white\",\"linecolor\":\"white\",\"showbackground\":true,\"ticks\":\"\",\"zerolinecolor\":\"white\",\"gridwidth\":2}},\"shapedefaults\":{\"line\":{\"color\":\"#2a3f5f\"}},\"annotationdefaults\":{\"arrowcolor\":\"#2a3f5f\",\"arrowhead\":0,\"arrowwidth\":1},\"geo\":{\"bgcolor\":\"white\",\"landcolor\":\"#E5ECF6\",\"subunitcolor\":\"white\",\"showland\":true,\"showlakes\":true,\"lakecolor\":\"white\"},\"title\":{\"x\":0.05},\"mapbox\":{\"style\":\"light\"}}},\"xaxis\":{\"anchor\":\"y\",\"domain\":[0.0,1.0],\"title\":{\"text\":\"x\"}},\"yaxis\":{\"anchor\":\"x\",\"domain\":[0.0,1.0],\"title\":{\"text\":\"y\"}},\"coloraxis\":{\"colorbar\":{\"title\":{\"text\":\"color\"}},\"colorscale\":[[0.0,\"rgb(0,0,255)\"],[1.0,\"rgb(255,0,0)\"]],\"showscale\":false},\"legend\":{\"tracegroupgap\":0},\"margin\":{\"t\":60},\"width\":600,\"height\":400,\"title\":{\"text\":\"Concentric Circles Data\"}},                        {\"responsive\": true}                    ).then(function(){\n",
       "                            \n",
       "var gd = document.getElementById('cf26d9b7-f0cd-42e3-b0b1-f4c7b737ca52');\n",
       "var x = new MutationObserver(function (mutations, observer) {{\n",
       "        var display = window.getComputedStyle(gd).display;\n",
       "        if (!display || display === 'none') {{\n",
       "            console.log([gd, 'removed!']);\n",
       "            Plotly.purge(gd);\n",
       "            observer.disconnect();\n",
       "        }}\n",
       "}});\n",
       "\n",
       "// Listen for the removal of the full notebook cells\n",
       "var notebookContainer = gd.closest('#notebook-container');\n",
       "if (notebookContainer) {{\n",
       "    x.observe(notebookContainer, {childList: true});\n",
       "}}\n",
       "\n",
       "// Listen for the clearing of the current output cell\n",
       "var outputEl = gd.closest('.output');\n",
       "if (outputEl) {{\n",
       "    x.observe(outputEl, {childList: true});\n",
       "}}\n",
       "\n",
       "                        })                };                });            </script>        </div>"
      ]
     },
     "metadata": {},
     "output_type": "display_data"
    }
   ],
   "source": [
    "# Plotting the data\n",
    "figC = px.scatter(x=Xc[:, 0], y=Xc[:, 1], \n",
    "                  color=yc, color_continuous_scale='bluered')\n",
    "figC.update_traces(marker=dict(size=8, opacity=0.6))\n",
    "figC.update_layout(coloraxis_showscale=False, \n",
    "                   width=600, height=400, \n",
    "                    title='Concentric Circles Data')\n",
    "figC.show()"
   ]
  },
  {
   "cell_type": "markdown",
   "metadata": {},
   "source": [
    "This is another example of nonlinearly separable data.\n",
    "\n",
    "Since the two shapes are linearly inseparable, we expect the traditional PCA will fail to give us a \"good\" representation of the data in the principal components space. \n",
    "\n",
    "Let's apply traditional PCA!"
   ]
  },
  {
   "cell_type": "code",
   "execution_count": 17,
   "metadata": {},
   "outputs": [],
   "source": [
    "dataC = pca.fit_transform(Xc)"
   ]
  },
  {
   "cell_type": "code",
   "execution_count": 18,
   "metadata": {},
   "outputs": [
    {
     "data": {
      "application/vnd.plotly.v1+json": {
       "config": {
        "plotlyServerURL": "https://plot.ly"
       },
       "data": [
        {
         "hovertemplate": "x=%{x}<br>y=%{y}<br>color=%{marker.color}<extra></extra>",
         "legendgroup": "",
         "marker": {
          "color": [
           1,
           0,
           1,
           0,
           1,
           1,
           0,
           1,
           1,
           0,
           0,
           1,
           1,
           0,
           0,
           1,
           0,
           0,
           0,
           0,
           0,
           1,
           0,
           0,
           0,
           0,
           0,
           1,
           1,
           1,
           0,
           0,
           1,
           0,
           1,
           1,
           1,
           1,
           0,
           1,
           1,
           1,
           1,
           0,
           1,
           0,
           1,
           1,
           1,
           1,
           0,
           0,
           1,
           1,
           1,
           0,
           0,
           1,
           0,
           0,
           0,
           0,
           0,
           1,
           1,
           1,
           0,
           1,
           0,
           0,
           0,
           1,
           1,
           0,
           1,
           0,
           1,
           1,
           0,
           1,
           0,
           1,
           0,
           1,
           0,
           1,
           1,
           1,
           0,
           0,
           1,
           1,
           1,
           1,
           0,
           1,
           1,
           1,
           0,
           0,
           0,
           1,
           0,
           0,
           0,
           1,
           1,
           0,
           0,
           1,
           0,
           0,
           0,
           0,
           1,
           0,
           1,
           0,
           1,
           0,
           0,
           0,
           0,
           1,
           1,
           0,
           0,
           0,
           1,
           0,
           0,
           1,
           0,
           0,
           1,
           1,
           0,
           0,
           0,
           0,
           0,
           1,
           1,
           1,
           0,
           1,
           1,
           1,
           1,
           1,
           0,
           0,
           0,
           1,
           0,
           0,
           1,
           0,
           0,
           0,
           0,
           1,
           1,
           1,
           0,
           0,
           0,
           0,
           0,
           1,
           1,
           0,
           0,
           1,
           0,
           1,
           1,
           1,
           1,
           1,
           0,
           0,
           1,
           0,
           1,
           0,
           1,
           1,
           1,
           0,
           1,
           1,
           1,
           0,
           1,
           1,
           1,
           0,
           0,
           0,
           1,
           0,
           1,
           1,
           1,
           0,
           0,
           0,
           1,
           1,
           0,
           1,
           0,
           0,
           0,
           1,
           1,
           0,
           0,
           0,
           0,
           1,
           1,
           1,
           1,
           1,
           0,
           1,
           1,
           1,
           0,
           1,
           1,
           1,
           0,
           0,
           1,
           0,
           1,
           0,
           0,
           1,
           0,
           1,
           1,
           0,
           0,
           1,
           1,
           1,
           0,
           0,
           1,
           1,
           0,
           0,
           0,
           1,
           0,
           0,
           0,
           0,
           1,
           1,
           1,
           1,
           1,
           0,
           1,
           0,
           1,
           1,
           1,
           1,
           1,
           1,
           0,
           1,
           0,
           1,
           1,
           0,
           1,
           0,
           0,
           0,
           1,
           0,
           0,
           0,
           1,
           1,
           0,
           1,
           1,
           0,
           0,
           0,
           0,
           0,
           0,
           1,
           0,
           1,
           0,
           0,
           0,
           0,
           0,
           1,
           1,
           1,
           1,
           1,
           1,
           0,
           0,
           0,
           0,
           0,
           0,
           1,
           1,
           0,
           0,
           0,
           1,
           1,
           1,
           0,
           0,
           0,
           0,
           0,
           1,
           1,
           1,
           1,
           0,
           0,
           1,
           0,
           1,
           1,
           0,
           1,
           1,
           1,
           1,
           0,
           1,
           1,
           0,
           0,
           1,
           1,
           0,
           1,
           1,
           1,
           0,
           1,
           0,
           1,
           0,
           0,
           1,
           0,
           1,
           0,
           1,
           0,
           1,
           1,
           0,
           1,
           1,
           1,
           1,
           1,
           0,
           1,
           0,
           0,
           0,
           0,
           0,
           0,
           1,
           1,
           0,
           0,
           0,
           0,
           0,
           1,
           0,
           1,
           1,
           1
          ],
          "coloraxis": "coloraxis",
          "opacity": 0.6,
          "size": 8,
          "symbol": "circle"
         },
         "mode": "markers",
         "name": "",
         "orientation": "v",
         "showlegend": false,
         "type": "scatter",
         "x": [
          0.07261902725869875,
          0.49321911439175625,
          0.2152788085415322,
          -0.8723266638662086,
          -0.22786341860561796,
          0.26097353394925515,
          0.7174010643579913,
          0.2253332226489943,
          -0.16100108732004884,
          0.8957940164851432,
          -1.055962478271236,
          -0.016387136126242735,
          -0.037516525215556054,
          0.2749701338742242,
          -0.8521142439429171,
          -0.14741270356093764,
          -0.7564721525202139,
          -0.8441981765330562,
          0.6240753595993552,
          -0.5277922298016174,
          -0.8182432106285549,
          0.20893474098373235,
          1.036852684376383,
          -0.9816998577043611,
          -0.2976742713488993,
          0.5789356964205559,
          -0.6450676317465515,
          -0.029728504464929008,
          0.08143314077334134,
          0.07465106474436374,
          -1.1671991164990967,
          0.6513073085164687,
          0.33013713875494993,
          -0.8917347666400799,
          -0.20686559128759116,
          0.058728883210840056,
          -0.09834640601080004,
          -0.023686135235853615,
          1.0210689706314893,
          0.07022746960588555,
          0.1002389541953519,
          0.11861546009785037,
          0.3147105817249477,
          -0.7901135139916242,
          0.24435548373260596,
          0.4179998704299364,
          -0.19972639351121624,
          0.026849772790552028,
          -0.03380414051225307,
          0.09053364120377597,
          0.22011365485675685,
          0.8209006404049827,
          0.15805969521192162,
          0.1171426246921885,
          0.17726261964779588,
          0.062010126136758374,
          -0.578392319846569,
          0.2019641216602451,
          -0.8787346356746272,
          0.921732134454263,
          0.0969501063969234,
          -0.13338798549734387,
          0.7783735245573008,
          -0.12789726958080352,
          -0.06083902051731753,
          0.1788080889926404,
          0.20074296643037023,
          -0.2936301079408176,
          0.5848423049549644,
          -0.7993075968739803,
          0.9934740889230163,
          0.3275689028715884,
          0.1967186581410999,
          0.7060883388490469,
          0.12093305605827506,
          -1.0294674629898908,
          -0.09932183189382196,
          -0.07915386807050767,
          0.2482693749859002,
          -0.10490108473763761,
          -0.9318102251436351,
          0.2539426478329931,
          -0.6734902418594871,
          0.3890020270730367,
          -0.03911574270050631,
          -0.12956047816375346,
          -0.21215646810463246,
          0.43618810897749305,
          0.8756963754357634,
          -1.1460658373572743,
          -0.08704519351769215,
          -0.15915230263970181,
          -0.3172463452845254,
          -0.15846905214496088,
          -0.709219380856613,
          0.13166747564897413,
          -0.04619542599732406,
          -0.23082301667342697,
          -0.48691963595393667,
          0.3160774624025188,
          -0.8266707989022938,
          0.20300532093785786,
          -0.6913906481200385,
          -0.48805703955116836,
          -0.5058112868914496,
          -0.14559847763788406,
          -0.0354464805160317,
          1.012267858537112,
          -0.0004171018506782518,
          0.07703149234218537,
          -0.10055606001943711,
          0.11662448108232217,
          -0.703499705663085,
          -0.480420336216862,
          -0.15984589446527508,
          0.8870445283634718,
          0.18191938716902867,
          -0.9116634074855723,
          0.13443629232240897,
          -1.0104476334080361,
          -1.094965870038776,
          0.6508442845220073,
          -0.6784059471683903,
          -0.0010411736885734641,
          0.23442769144112802,
          -0.12273998354267578,
          0.3149093681811432,
          0.9482935564890043,
          -0.23523645391849357,
          -0.35245303700433706,
          -0.8221633928272919,
          -0.10125105362323933,
          0.7961753374592284,
          1.012924275376475,
          0.11746940771661858,
          -0.22272516378998375,
          0.3402427557459217,
          0.08880841715311463,
          1.0098694906296934,
          0.6702235956983896,
          -0.027228948909219983,
          0.05121686214635701,
          0.18766208424290906,
          0.1064409231685736,
          0.9572849276682776,
          0.0635326185342199,
          -0.13358277016385842,
          -0.02107905101928523,
          -0.0017448631439860572,
          -0.004672565106893155,
          -1.1199308303756506,
          -0.7611518157119713,
          -0.9677087827612828,
          -0.2466788653535314,
          -0.879219763888808,
          -0.4668396122363755,
          -0.20283222024792055,
          -0.6025501479979739,
          1.1068722518253153,
          0.1339261962302898,
          -0.9568597001839502,
          0.10030313711027807,
          -0.12464937415870224,
          -0.014237809004690715,
          0.5944704158668749,
          0.9399117368282118,
          0.6362724897844478,
          -0.0818619841841011,
          0.9814575896789888,
          -0.24238687232809747,
          0.2449336613201968,
          0.4929590767339815,
          -0.8032359792311309,
          -0.11088785350014059,
          0.9230150819396201,
          0.0523016792476702,
          -0.30234127665613275,
          0.017065088025294956,
          0.06882260813370207,
          0.09047887422590371,
          -0.8408956916170897,
          -0.9118916804629503,
          -0.011611495655793528,
          -0.494062881537481,
          0.26390966323324616,
          0.42544573941472946,
          0.1268519316098999,
          0.12006863933882736,
          -0.19091463633538908,
          -0.3497231904121263,
          -0.11387886094715136,
          0.1856327820217074,
          0.10098094202599056,
          -0.49960460750799657,
          0.18335018069583522,
          0.04088083024582701,
          0.047391412442315026,
          0.5562243592608447,
          0.4888984307995227,
          0.19218818369574778,
          -0.058012292563494924,
          -0.11994657659849282,
          -0.10138135263967857,
          -0.0503195532797875,
          0.02113034491070944,
          -0.3906746731504545,
          1.059570229918805,
          -0.01986742093654683,
          -0.07510400384104907,
          -0.23075091448094084,
          0.10471906346121641,
          0.10882979270997374,
          -0.84348244179207,
          -0.7868842758180615,
          -0.5394435826736577,
          0.17969331209339995,
          -0.1377558851825528,
          0.18015279960704594,
          0.9604158901345731,
          -0.0673354598136445,
          0.8134997246449178,
          0.10689093072506226,
          -0.03314124622231321,
          -0.16514425436833335,
          -0.11882983149247771,
          0.0657841290989052,
          1.0305359248498054,
          0.21167719792563353,
          -0.06237464280477352,
          0.20358300041852384,
          0.46430003700117467,
          0.0004942262017125632,
          -0.1185702795868473,
          -0.03414422152206175,
          -0.777179829209981,
          -0.91133434722792,
          0.011417078208216436,
          0.11198324138220268,
          0.2703211815100195,
          -0.1803999575794843,
          -0.44744233848270604,
          -0.10844204825280808,
          0.9379138021329482,
          -0.09039355546480024,
          -0.032941247131344394,
          -0.8420133539167675,
          1.016309618121395,
          0.11632383638778318,
          -0.2248729264239739,
          0.00036412559413781363,
          -1.0402246377776974,
          -0.9991035250239164,
          -0.07562396590903751,
          -0.2696991825637141,
          -0.9025416420313828,
          -1.0414059653315093,
          0.5694439341448583,
          -0.10730230879197587,
          -0.02182198674926325,
          0.7668419085156752,
          0.8134640045604123,
          -0.7937058918218615,
          -0.019995328544190442,
          0.08389784485231533,
          0.3179907793454649,
          -0.3009145712121282,
          -0.32446624157210024,
          0.8264681432577314,
          -0.013731058296358234,
          -0.8379620851588768,
          -0.04325073149880381,
          0.14062485856883697,
          0.08129966902984284,
          0.3004037868440411,
          -0.12504712582126706,
          -0.3470773389644987,
          -0.7318540824629236,
          -0.22815716602332242,
          0.38774646597097295,
          0.019476025259111057,
          -0.3391720874743297,
          0.9642279499868167,
          0.01532040842467927,
          -0.3650922027019193,
          0.9942018323279281,
          0.626971318368907,
          0.06500343309269065,
          0.24217588555611272,
          -0.454263878772101,
          0.9437570812645758,
          -0.3862689355219162,
          0.20250075694073486,
          0.8135159902461505,
          0.24901996606288057,
          -0.14766505666856122,
          0.5708708870680744,
          0.8715171936952502,
          0.5064031026123125,
          -0.35249620219214384,
          -0.4565755601579877,
          -0.9134029686236931,
          -0.27199514651694656,
          0.14756886193036642,
          0.011948125957473466,
          0.08139343983039052,
          -0.3896831881130435,
          -0.8417393669627735,
          -0.32398846082156235,
          0.9479083361754511,
          0.08035501382220925,
          0.11842467957788516,
          0.02422229608858739,
          0.2573086320713641,
          0.23869457138302816,
          0.0906378212968894,
          0.6187373331682584,
          -0.7227134831278678,
          -0.3960437251106128,
          1.131499847062795,
          -0.5781986727897179,
          0.7585932638826084,
          0.11686071089949307,
          -0.02424533223631329,
          0.72703607072479,
          -0.5965034983481291,
          -0.39412754993991933,
          0.21610304582404014,
          -0.2727419369929366,
          0.17590181821733736,
          -0.06714040945099348,
          -0.917325546894039,
          -1.1247030394476498,
          0.6014209024236953,
          -0.17191372628065948,
          0.09014010678738925,
          0.18939067899858236,
          0.07454784854978416,
          -0.16259775324626038,
          -0.7484433680328713,
          1.086603762583496,
          -0.16829449282249534,
          -0.7641669791219217,
          -0.04831184411291042,
          0.22623608845350276,
          -0.7338606224232718,
          -0.116790742284404,
          0.09033257035370147,
          -0.07803614327603411,
          0.1255643641903501,
          0.8658867633712165,
          -0.03483855515525591,
          -0.12663729683156535,
          -1.0919866965172067,
          0.9105736208363656,
          0.21844352597182842,
          -0.1989101011149307,
          0.3394078002894407,
          -0.0910438640719771,
          -0.30807953098883517,
          -0.05667918002845579,
          -1.1440639028806496,
          -0.14321464601976452,
          0.7501182692558294,
          -0.3365468126379641,
          -0.16484573696648114,
          -1.0783689931895344,
          -0.05422630029818579,
          1.068929809741462,
          -0.04625410640649262,
          0.3765516973534195,
          -0.0358942966733374,
          -0.6732390100237268,
          0.1757021334097829,
          0.018011105551470098,
          1.2032873640479036,
          -0.012632570931472319,
          -0.2223376926828651,
          0.23178261633003297,
          -0.01798657533880839,
          0.014000509196368348,
          0.43562976860804475,
          -0.29222789819693046,
          0.12413378444242087,
          0.9062423121597717,
          0.6550841305795875,
          -0.05190305658084366,
          0.28946649475247627,
          0.7888359403334538,
          0.0927593902626745,
          -0.1146689600372126,
          0.8316014402230799,
          0.05454364368469634,
          0.5981019472264005,
          1.066125007589384,
          -0.17688519018095697,
          -0.09057376837287572,
          0.7799318010574993,
          0.0033864488113832607,
          -0.14170064279527203,
          -0.17543782019857254
         ],
         "xaxis": "x",
         "y": [
          0.18874655689089698,
          0.8638093274060359,
          -0.10205749568366285,
          -0.3297778539236332,
          -0.2429758118967822,
          -0.1808379252728271,
          0.3828714950446516,
          -0.00255417398850978,
          0.07523034648293933,
          -0.47126365629694966,
          -0.01725790383034109,
          -0.010037239239815383,
          0.2555256771164281,
          1.0546430135845877,
          0.3093990361899205,
          -0.3480716960196797,
          0.49669733078632716,
          -0.37053447420445934,
          0.8552567404433947,
          0.7557261013592488,
          0.710133494601482,
          0.04436833506507797,
          -0.06987495712589464,
          -0.15750482476429625,
          0.8676650844567638,
          0.7251116669117875,
          0.8301108410906157,
          0.1585622585527729,
          0.0717618567603933,
          -0.046918907948053874,
          -0.23977417115763922,
          -0.674079519265094,
          -0.10818760472450037,
          0.5854448968724756,
          -0.13797222669199163,
          0.1875740944329556,
          -0.31331607264816824,
          -0.1509368328430549,
          0.15047249686911915,
          -0.224514384492959,
          0.3088940449642446,
          -0.08536322277426164,
          -0.06611900918926111,
          -0.6651147308823097,
          -0.013315474076084145,
          1.0296899519590583,
          -0.09111276075321338,
          0.21014548011914702,
          -0.15810159336162366,
          0.17787689005105312,
          1.000581606035337,
          -0.7634767213341096,
          -0.0937789914210192,
          0.2875221073082195,
          -0.012140752132639729,
          1.0399901198690409,
          0.9805342300257021,
          -0.28622136366794787,
          0.4648094816648441,
          -0.3507160687129289,
          0.9529877628706004,
          0.7398245359742595,
          0.5459042374438923,
          0.0935753237871732,
          0.18534429491944965,
          0.04250714160431883,
          -0.9283673206035646,
          0.08364883738198196,
          -0.7342891419427119,
          -0.7095137368218969,
          0.0987265765870886,
          0.025957557305860104,
          0.23297701444318683,
          0.6632677899985472,
          0.1458961109029141,
          0.268615826191106,
          0.14201667808227952,
          -0.350275488393643,
          -0.9090277175488712,
          -0.24017168748368137,
          0.13200068200621115,
          0.13632878845827112,
          0.8773710058395077,
          -0.18362777966247343,
          -0.9723554583782229,
          0.3093409261434449,
          -0.1273415391377361,
          0.09056957667739134,
          -0.529788444431074,
          -0.18336635297919637,
          0.16126323789134447,
          -0.1421835371820713,
          0.024985752255503955,
          -0.054241572087536195,
          0.7193830548735495,
          -0.10685260957205288,
          0.09420505105338581,
          0.2976192546536672,
          -0.7960631415954635,
          1.23524513021413,
          -0.12648535767001795,
          0.006583815246597635,
          -0.7868907541348198,
          -0.7348495386645658,
          0.8286113134969925,
          -0.03547960937739955,
          -0.16861664178882707,
          0.49821670697819564,
          0.9593274297034967,
          -0.04670230627092065,
          0.9631354114983786,
          -0.9825562652834751,
          -0.6897302421870597,
          -1.0106176227548447,
          0.0606530937059927,
          -0.4329196551538113,
          0.1156610668378162,
          0.4934442358092681,
          0.11604976951274663,
          0.5276950814284055,
          -0.07447328887732693,
          -1.0269436053285301,
          0.7380020440542219,
          0.022268650713116594,
          -0.041359058161274366,
          1.0572989415944478,
          1.1073890901684473,
          -0.2029066758160273,
          -0.13689074230452003,
          -1.062885348173081,
          0.5187683353863475,
          0.10285404628780219,
          0.18103584900480515,
          -0.5520672979938884,
          -0.0799015098290729,
          -0.07629332445070183,
          1.0042260622473527,
          -0.9755572094347716,
          0.04914024877239733,
          0.660662543298101,
          1.068920513945069,
          -0.3460488932925751,
          -0.1183204664729766,
          0.0040174609856613985,
          -0.4330665441510283,
          0.05471305608817612,
          -0.10948727290498354,
          0.35390073986509196,
          -0.19397269440956097,
          -0.0065784207958591075,
          0.038373642843264034,
          0.8403169396615249,
          -0.4191246974165656,
          -0.10480016257174694,
          0.04475320047646178,
          -0.9155922373758705,
          -0.040803202859543,
          -0.8259694041334587,
          -0.03138552610927023,
          -1.0142147591442698,
          -0.5629185381963462,
          0.16215125628851643,
          0.16723532968540686,
          -0.22413339124171178,
          -0.5877035330071979,
          0.4249213345303798,
          -0.8703076419892725,
          -1.0190004518236206,
          -0.12053056367613327,
          0.08181391159378985,
          0.1861605546979565,
          0.7911626988086097,
          -0.3605186469350243,
          -0.2611091790120836,
          -0.34583048902994257,
          -0.2861236505114043,
          0.11804003665578222,
          0.048033519555990827,
          0.29699325844661467,
          -0.049347237658797116,
          -0.28324138316850916,
          -0.4139471797343753,
          0.07845275871957534,
          0.8341404138279945,
          0.10657374726679952,
          -0.8683378198678947,
          0.02756545225742727,
          0.13140663739714764,
          -0.0374347530398964,
          -0.8869580054608215,
          -0.2550711143488456,
          0.1246903835523171,
          0.04878243550412474,
          -0.8776464831629235,
          -0.03315745203822628,
          0.20914206738162597,
          0.06684407072013747,
          0.7193445864680799,
          0.7903868182404583,
          0.9137669054455807,
          -0.38506628327695325,
          0.829467814967377,
          0.1465765980216099,
          -0.047991107644905905,
          0.36377696863881104,
          0.7764527479253499,
          0.1906153564549244,
          1.0264925439661052,
          0.1112639519929808,
          0.0943302535615633,
          -1.0129532887634727,
          0.276825386269421,
          -0.4094713414529934,
          0.6088458855008565,
          -0.9321821906310949,
          -0.2009562933389725,
          0.3199209050670775,
          -0.7822216793117523,
          0.23720675590496276,
          -0.997441895654627,
          -0.9099747743658704,
          -0.08031621780172353,
          0.05141568938505277,
          -0.14713169062700446,
          0.2274441803603715,
          0.37491318399921436,
          -0.32585653788528096,
          -0.05178769373888523,
          -0.14975342792237317,
          -0.09510632351932377,
          -0.760944116745724,
          -0.19885019249695712,
          0.06210918015231192,
          -0.14346202951596734,
          -0.899082607712458,
          0.5108162013888223,
          -0.15116476112080343,
          -1.0574452938600385,
          -0.04446537147457226,
          -1.0903015307362176,
          -0.9337742904109807,
          0.21137180310699621,
          -0.47458948129315126,
          -0.01774346896103712,
          -0.11809023563888373,
          0.6510576785431538,
          0.5468200212955783,
          -0.03860587946303973,
          0.028214468055643368,
          -0.2801332059826535,
          0.12918352130820795,
          -0.2462405903031576,
          0.15393255152100346,
          -0.07685977473962662,
          -0.3984370784923288,
          0.28710820583900926,
          0.9465438391505616,
          -0.3451392389538694,
          -0.9199558954106936,
          0.8819594365852741,
          -0.679222723027716,
          0.6447882579014479,
          0.0545421032661749,
          0.01062114246383345,
          -0.0007802122690294426,
          -0.12760921172410739,
          -0.37474921563494,
          0.2018079873869375,
          -0.17907783746522216,
          -0.24165358823821723,
          0.35978614520910984,
          0.09314735599044323,
          0.007605085642103906,
          0.08278893691238745,
          -0.14869979204806627,
          0.07299196805681837,
          -0.7578721072391421,
          -0.1575806782278388,
          0.8610985750496631,
          -0.199890725057667,
          -0.030213144189717232,
          0.28210040257573826,
          0.03990461121275226,
          1.0233034573523407,
          -0.05000592197350764,
          0.6919591446319119,
          0.11739794662920137,
          -1.0815865254392476,
          -0.8336213616772536,
          -0.3956723000753602,
          -0.03719837729657428,
          0.22883312667811184,
          0.2443234283297504,
          0.16185147228685057,
          -0.22002101601665078,
          0.7041033798237047,
          -0.12852214524016092,
          -0.9312041981157384,
          -0.8003565578786459,
          0.951453517491402,
          0.5499639671256032,
          -0.0999936191267004,
          -0.9116896157280913,
          -0.2866810293989312,
          1.0738520048408982,
          -0.9055371712523292,
          0.7789808398542878,
          0.9522865370902053,
          -0.3443234503566372,
          0.041912725426206714,
          0.046835882435372615,
          0.2546145626739313,
          0.10339279600494695,
          0.020284593996407984,
          -0.23232878820985386,
          -0.7657089545068084,
          -0.7773227534745901,
          -1.0010421040983526,
          0.19688410882945487,
          0.6814524037793115,
          0.5354652206586519,
          -0.04745183988652755,
          0.11659114079908107,
          0.7693104581095366,
          0.658739859740088,
          1.032532619675479,
          0.018647080484729805,
          0.150165307967856,
          -0.19268323308588778,
          0.8172621740877112,
          0.1615570715704583,
          0.16856088989421472,
          1.0233985460648047,
          -0.9472436057078784,
          0.2047719921318914,
          0.21485622908580612,
          0.01801521155752933,
          0.07268402642502998,
          -0.6174813862138993,
          0.24647982028766863,
          -0.027373630029322367,
          -0.43652898758531355,
          0.032855989068881965,
          0.008690037729728558,
          -0.6668331745691302,
          0.14978719734107493,
          0.03272178617481034,
          -0.17577740002492342,
          -0.1398725838461145,
          0.3621807084172004,
          -0.15368480367649098,
          0.30234883573550525,
          -0.23914081925541522,
          0.012647502019104882,
          -0.05828044288673668,
          -0.08019121743300946,
          -0.9583673674118326,
          0.26642426230869865,
          -0.3057139554054489,
          -0.25726790480764067,
          0.169176830618332,
          -0.07530082549694357,
          -0.5866369491385477,
          -0.06398566252141041,
          -1.0012686944632205,
          0.03522293391720523,
          0.08962954424599978,
          -0.3445499216816504,
          0.2831701123239501,
          0.8677550572949658,
          -0.2786479384375064,
          0.7025094060855954,
          -0.22095689001754384,
          -0.15608084201410644,
          0.2593608363795228,
          0.12714379425356462,
          0.11134723287037931,
          0.0015473569359767136,
          -0.12302439447027494,
          -0.02721567428566998,
          -0.8382026226967451,
          0.18038113446629095,
          0.8968964420896126,
          0.10380755739078194,
          0.7276368428180282,
          -1.052908160041418,
          -0.8552875316752572,
          -0.729930506354424,
          0.19496460309878746,
          0.34271674858165857,
          0.47607683410150275,
          -0.8741607527111511,
          -0.7998250510715978,
          -0.2939097251271272,
          0.8294154342363315,
          0.24434263987715948,
          -0.5309492187440694,
          -0.2631765685073702,
          0.0941366505980881,
          -0.06405673970123316
         ],
         "yaxis": "y"
        }
       ],
       "layout": {
        "coloraxis": {
         "colorbar": {
          "title": {
           "text": "color"
          }
         },
         "colorscale": [
          [
           0,
           "rgb(0,0,255)"
          ],
          [
           1,
           "rgb(255,0,0)"
          ]
         ],
         "showscale": false
        },
        "height": 400,
        "legend": {
         "tracegroupgap": 0
        },
        "margin": {
         "t": 60
        },
        "template": {
         "data": {
          "bar": [
           {
            "error_x": {
             "color": "#2a3f5f"
            },
            "error_y": {
             "color": "#2a3f5f"
            },
            "marker": {
             "line": {
              "color": "#E5ECF6",
              "width": 0.5
             },
             "pattern": {
              "fillmode": "overlay",
              "size": 10,
              "solidity": 0.2
             }
            },
            "type": "bar"
           }
          ],
          "barpolar": [
           {
            "marker": {
             "line": {
              "color": "#E5ECF6",
              "width": 0.5
             },
             "pattern": {
              "fillmode": "overlay",
              "size": 10,
              "solidity": 0.2
             }
            },
            "type": "barpolar"
           }
          ],
          "carpet": [
           {
            "aaxis": {
             "endlinecolor": "#2a3f5f",
             "gridcolor": "white",
             "linecolor": "white",
             "minorgridcolor": "white",
             "startlinecolor": "#2a3f5f"
            },
            "baxis": {
             "endlinecolor": "#2a3f5f",
             "gridcolor": "white",
             "linecolor": "white",
             "minorgridcolor": "white",
             "startlinecolor": "#2a3f5f"
            },
            "type": "carpet"
           }
          ],
          "choropleth": [
           {
            "colorbar": {
             "outlinewidth": 0,
             "ticks": ""
            },
            "type": "choropleth"
           }
          ],
          "contour": [
           {
            "colorbar": {
             "outlinewidth": 0,
             "ticks": ""
            },
            "colorscale": [
             [
              0,
              "#0d0887"
             ],
             [
              0.1111111111111111,
              "#46039f"
             ],
             [
              0.2222222222222222,
              "#7201a8"
             ],
             [
              0.3333333333333333,
              "#9c179e"
             ],
             [
              0.4444444444444444,
              "#bd3786"
             ],
             [
              0.5555555555555556,
              "#d8576b"
             ],
             [
              0.6666666666666666,
              "#ed7953"
             ],
             [
              0.7777777777777778,
              "#fb9f3a"
             ],
             [
              0.8888888888888888,
              "#fdca26"
             ],
             [
              1,
              "#f0f921"
             ]
            ],
            "type": "contour"
           }
          ],
          "contourcarpet": [
           {
            "colorbar": {
             "outlinewidth": 0,
             "ticks": ""
            },
            "type": "contourcarpet"
           }
          ],
          "heatmap": [
           {
            "colorbar": {
             "outlinewidth": 0,
             "ticks": ""
            },
            "colorscale": [
             [
              0,
              "#0d0887"
             ],
             [
              0.1111111111111111,
              "#46039f"
             ],
             [
              0.2222222222222222,
              "#7201a8"
             ],
             [
              0.3333333333333333,
              "#9c179e"
             ],
             [
              0.4444444444444444,
              "#bd3786"
             ],
             [
              0.5555555555555556,
              "#d8576b"
             ],
             [
              0.6666666666666666,
              "#ed7953"
             ],
             [
              0.7777777777777778,
              "#fb9f3a"
             ],
             [
              0.8888888888888888,
              "#fdca26"
             ],
             [
              1,
              "#f0f921"
             ]
            ],
            "type": "heatmap"
           }
          ],
          "heatmapgl": [
           {
            "colorbar": {
             "outlinewidth": 0,
             "ticks": ""
            },
            "colorscale": [
             [
              0,
              "#0d0887"
             ],
             [
              0.1111111111111111,
              "#46039f"
             ],
             [
              0.2222222222222222,
              "#7201a8"
             ],
             [
              0.3333333333333333,
              "#9c179e"
             ],
             [
              0.4444444444444444,
              "#bd3786"
             ],
             [
              0.5555555555555556,
              "#d8576b"
             ],
             [
              0.6666666666666666,
              "#ed7953"
             ],
             [
              0.7777777777777778,
              "#fb9f3a"
             ],
             [
              0.8888888888888888,
              "#fdca26"
             ],
             [
              1,
              "#f0f921"
             ]
            ],
            "type": "heatmapgl"
           }
          ],
          "histogram": [
           {
            "marker": {
             "pattern": {
              "fillmode": "overlay",
              "size": 10,
              "solidity": 0.2
             }
            },
            "type": "histogram"
           }
          ],
          "histogram2d": [
           {
            "colorbar": {
             "outlinewidth": 0,
             "ticks": ""
            },
            "colorscale": [
             [
              0,
              "#0d0887"
             ],
             [
              0.1111111111111111,
              "#46039f"
             ],
             [
              0.2222222222222222,
              "#7201a8"
             ],
             [
              0.3333333333333333,
              "#9c179e"
             ],
             [
              0.4444444444444444,
              "#bd3786"
             ],
             [
              0.5555555555555556,
              "#d8576b"
             ],
             [
              0.6666666666666666,
              "#ed7953"
             ],
             [
              0.7777777777777778,
              "#fb9f3a"
             ],
             [
              0.8888888888888888,
              "#fdca26"
             ],
             [
              1,
              "#f0f921"
             ]
            ],
            "type": "histogram2d"
           }
          ],
          "histogram2dcontour": [
           {
            "colorbar": {
             "outlinewidth": 0,
             "ticks": ""
            },
            "colorscale": [
             [
              0,
              "#0d0887"
             ],
             [
              0.1111111111111111,
              "#46039f"
             ],
             [
              0.2222222222222222,
              "#7201a8"
             ],
             [
              0.3333333333333333,
              "#9c179e"
             ],
             [
              0.4444444444444444,
              "#bd3786"
             ],
             [
              0.5555555555555556,
              "#d8576b"
             ],
             [
              0.6666666666666666,
              "#ed7953"
             ],
             [
              0.7777777777777778,
              "#fb9f3a"
             ],
             [
              0.8888888888888888,
              "#fdca26"
             ],
             [
              1,
              "#f0f921"
             ]
            ],
            "type": "histogram2dcontour"
           }
          ],
          "mesh3d": [
           {
            "colorbar": {
             "outlinewidth": 0,
             "ticks": ""
            },
            "type": "mesh3d"
           }
          ],
          "parcoords": [
           {
            "line": {
             "colorbar": {
              "outlinewidth": 0,
              "ticks": ""
             }
            },
            "type": "parcoords"
           }
          ],
          "pie": [
           {
            "automargin": true,
            "type": "pie"
           }
          ],
          "scatter": [
           {
            "fillpattern": {
             "fillmode": "overlay",
             "size": 10,
             "solidity": 0.2
            },
            "type": "scatter"
           }
          ],
          "scatter3d": [
           {
            "line": {
             "colorbar": {
              "outlinewidth": 0,
              "ticks": ""
             }
            },
            "marker": {
             "colorbar": {
              "outlinewidth": 0,
              "ticks": ""
             }
            },
            "type": "scatter3d"
           }
          ],
          "scattercarpet": [
           {
            "marker": {
             "colorbar": {
              "outlinewidth": 0,
              "ticks": ""
             }
            },
            "type": "scattercarpet"
           }
          ],
          "scattergeo": [
           {
            "marker": {
             "colorbar": {
              "outlinewidth": 0,
              "ticks": ""
             }
            },
            "type": "scattergeo"
           }
          ],
          "scattergl": [
           {
            "marker": {
             "colorbar": {
              "outlinewidth": 0,
              "ticks": ""
             }
            },
            "type": "scattergl"
           }
          ],
          "scattermapbox": [
           {
            "marker": {
             "colorbar": {
              "outlinewidth": 0,
              "ticks": ""
             }
            },
            "type": "scattermapbox"
           }
          ],
          "scatterpolar": [
           {
            "marker": {
             "colorbar": {
              "outlinewidth": 0,
              "ticks": ""
             }
            },
            "type": "scatterpolar"
           }
          ],
          "scatterpolargl": [
           {
            "marker": {
             "colorbar": {
              "outlinewidth": 0,
              "ticks": ""
             }
            },
            "type": "scatterpolargl"
           }
          ],
          "scatterternary": [
           {
            "marker": {
             "colorbar": {
              "outlinewidth": 0,
              "ticks": ""
             }
            },
            "type": "scatterternary"
           }
          ],
          "surface": [
           {
            "colorbar": {
             "outlinewidth": 0,
             "ticks": ""
            },
            "colorscale": [
             [
              0,
              "#0d0887"
             ],
             [
              0.1111111111111111,
              "#46039f"
             ],
             [
              0.2222222222222222,
              "#7201a8"
             ],
             [
              0.3333333333333333,
              "#9c179e"
             ],
             [
              0.4444444444444444,
              "#bd3786"
             ],
             [
              0.5555555555555556,
              "#d8576b"
             ],
             [
              0.6666666666666666,
              "#ed7953"
             ],
             [
              0.7777777777777778,
              "#fb9f3a"
             ],
             [
              0.8888888888888888,
              "#fdca26"
             ],
             [
              1,
              "#f0f921"
             ]
            ],
            "type": "surface"
           }
          ],
          "table": [
           {
            "cells": {
             "fill": {
              "color": "#EBF0F8"
             },
             "line": {
              "color": "white"
             }
            },
            "header": {
             "fill": {
              "color": "#C8D4E3"
             },
             "line": {
              "color": "white"
             }
            },
            "type": "table"
           }
          ]
         },
         "layout": {
          "annotationdefaults": {
           "arrowcolor": "#2a3f5f",
           "arrowhead": 0,
           "arrowwidth": 1
          },
          "autotypenumbers": "strict",
          "coloraxis": {
           "colorbar": {
            "outlinewidth": 0,
            "ticks": ""
           }
          },
          "colorscale": {
           "diverging": [
            [
             0,
             "#8e0152"
            ],
            [
             0.1,
             "#c51b7d"
            ],
            [
             0.2,
             "#de77ae"
            ],
            [
             0.3,
             "#f1b6da"
            ],
            [
             0.4,
             "#fde0ef"
            ],
            [
             0.5,
             "#f7f7f7"
            ],
            [
             0.6,
             "#e6f5d0"
            ],
            [
             0.7,
             "#b8e186"
            ],
            [
             0.8,
             "#7fbc41"
            ],
            [
             0.9,
             "#4d9221"
            ],
            [
             1,
             "#276419"
            ]
           ],
           "sequential": [
            [
             0,
             "#0d0887"
            ],
            [
             0.1111111111111111,
             "#46039f"
            ],
            [
             0.2222222222222222,
             "#7201a8"
            ],
            [
             0.3333333333333333,
             "#9c179e"
            ],
            [
             0.4444444444444444,
             "#bd3786"
            ],
            [
             0.5555555555555556,
             "#d8576b"
            ],
            [
             0.6666666666666666,
             "#ed7953"
            ],
            [
             0.7777777777777778,
             "#fb9f3a"
            ],
            [
             0.8888888888888888,
             "#fdca26"
            ],
            [
             1,
             "#f0f921"
            ]
           ],
           "sequentialminus": [
            [
             0,
             "#0d0887"
            ],
            [
             0.1111111111111111,
             "#46039f"
            ],
            [
             0.2222222222222222,
             "#7201a8"
            ],
            [
             0.3333333333333333,
             "#9c179e"
            ],
            [
             0.4444444444444444,
             "#bd3786"
            ],
            [
             0.5555555555555556,
             "#d8576b"
            ],
            [
             0.6666666666666666,
             "#ed7953"
            ],
            [
             0.7777777777777778,
             "#fb9f3a"
            ],
            [
             0.8888888888888888,
             "#fdca26"
            ],
            [
             1,
             "#f0f921"
            ]
           ]
          },
          "colorway": [
           "#636efa",
           "#EF553B",
           "#00cc96",
           "#ab63fa",
           "#FFA15A",
           "#19d3f3",
           "#FF6692",
           "#B6E880",
           "#FF97FF",
           "#FECB52"
          ],
          "font": {
           "color": "#2a3f5f"
          },
          "geo": {
           "bgcolor": "white",
           "lakecolor": "white",
           "landcolor": "#E5ECF6",
           "showlakes": true,
           "showland": true,
           "subunitcolor": "white"
          },
          "hoverlabel": {
           "align": "left"
          },
          "hovermode": "closest",
          "mapbox": {
           "style": "light"
          },
          "paper_bgcolor": "white",
          "plot_bgcolor": "#E5ECF6",
          "polar": {
           "angularaxis": {
            "gridcolor": "white",
            "linecolor": "white",
            "ticks": ""
           },
           "bgcolor": "#E5ECF6",
           "radialaxis": {
            "gridcolor": "white",
            "linecolor": "white",
            "ticks": ""
           }
          },
          "scene": {
           "xaxis": {
            "backgroundcolor": "#E5ECF6",
            "gridcolor": "white",
            "gridwidth": 2,
            "linecolor": "white",
            "showbackground": true,
            "ticks": "",
            "zerolinecolor": "white"
           },
           "yaxis": {
            "backgroundcolor": "#E5ECF6",
            "gridcolor": "white",
            "gridwidth": 2,
            "linecolor": "white",
            "showbackground": true,
            "ticks": "",
            "zerolinecolor": "white"
           },
           "zaxis": {
            "backgroundcolor": "#E5ECF6",
            "gridcolor": "white",
            "gridwidth": 2,
            "linecolor": "white",
            "showbackground": true,
            "ticks": "",
            "zerolinecolor": "white"
           }
          },
          "shapedefaults": {
           "line": {
            "color": "#2a3f5f"
           }
          },
          "ternary": {
           "aaxis": {
            "gridcolor": "white",
            "linecolor": "white",
            "ticks": ""
           },
           "baxis": {
            "gridcolor": "white",
            "linecolor": "white",
            "ticks": ""
           },
           "bgcolor": "#E5ECF6",
           "caxis": {
            "gridcolor": "white",
            "linecolor": "white",
            "ticks": ""
           }
          },
          "title": {
           "x": 0.05
          },
          "xaxis": {
           "automargin": true,
           "gridcolor": "white",
           "linecolor": "white",
           "ticks": "",
           "title": {
            "standoff": 15
           },
           "zerolinecolor": "white",
           "zerolinewidth": 2
          },
          "yaxis": {
           "automargin": true,
           "gridcolor": "white",
           "linecolor": "white",
           "ticks": "",
           "title": {
            "standoff": 15
           },
           "zerolinecolor": "white",
           "zerolinewidth": 2
          }
         }
        },
        "title": {
         "text": "Concentric Circles Data (Kernel PCA: 2 components)"
        },
        "width": 600,
        "xaxis": {
         "anchor": "y",
         "domain": [
          0,
          1
         ],
         "title": {
          "text": "Principal Component 1"
         }
        },
        "yaxis": {
         "anchor": "x",
         "domain": [
          0,
          1
         ],
         "title": {
          "text": "Principal Component 2"
         }
        }
       }
      },
      "text/html": [
       "<div>                            <div id=\"19015653-7491-41da-8aad-1b13a14ba08a\" class=\"plotly-graph-div\" style=\"height:400px; width:600px;\"></div>            <script type=\"text/javascript\">                require([\"plotly\"], function(Plotly) {                    window.PLOTLYENV=window.PLOTLYENV || {};                                    if (document.getElementById(\"19015653-7491-41da-8aad-1b13a14ba08a\")) {                    Plotly.newPlot(                        \"19015653-7491-41da-8aad-1b13a14ba08a\",                        [{\"hovertemplate\":\"x=%{x}<br>y=%{y}<br>color=%{marker.color}<extra></extra>\",\"legendgroup\":\"\",\"marker\":{\"color\":[1,0,1,0,1,1,0,1,1,0,0,1,1,0,0,1,0,0,0,0,0,1,0,0,0,0,0,1,1,1,0,0,1,0,1,1,1,1,0,1,1,1,1,0,1,0,1,1,1,1,0,0,1,1,1,0,0,1,0,0,0,0,0,1,1,1,0,1,0,0,0,1,1,0,1,0,1,1,0,1,0,1,0,1,0,1,1,1,0,0,1,1,1,1,0,1,1,1,0,0,0,1,0,0,0,1,1,0,0,1,0,0,0,0,1,0,1,0,1,0,0,0,0,1,1,0,0,0,1,0,0,1,0,0,1,1,0,0,0,0,0,1,1,1,0,1,1,1,1,1,0,0,0,1,0,0,1,0,0,0,0,1,1,1,0,0,0,0,0,1,1,0,0,1,0,1,1,1,1,1,0,0,1,0,1,0,1,1,1,0,1,1,1,0,1,1,1,0,0,0,1,0,1,1,1,0,0,0,1,1,0,1,0,0,0,1,1,0,0,0,0,1,1,1,1,1,0,1,1,1,0,1,1,1,0,0,1,0,1,0,0,1,0,1,1,0,0,1,1,1,0,0,1,1,0,0,0,1,0,0,0,0,1,1,1,1,1,0,1,0,1,1,1,1,1,1,0,1,0,1,1,0,1,0,0,0,1,0,0,0,1,1,0,1,1,0,0,0,0,0,0,1,0,1,0,0,0,0,0,1,1,1,1,1,1,0,0,0,0,0,0,1,1,0,0,0,1,1,1,0,0,0,0,0,1,1,1,1,0,0,1,0,1,1,0,1,1,1,1,0,1,1,0,0,1,1,0,1,1,1,0,1,0,1,0,0,1,0,1,0,1,0,1,1,0,1,1,1,1,1,0,1,0,0,0,0,0,0,1,1,0,0,0,0,0,1,0,1,1,1],\"coloraxis\":\"coloraxis\",\"symbol\":\"circle\",\"opacity\":0.6,\"size\":8},\"mode\":\"markers\",\"name\":\"\",\"orientation\":\"v\",\"showlegend\":false,\"x\":[0.07261902725869875,0.49321911439175625,0.2152788085415322,-0.8723266638662086,-0.22786341860561796,0.26097353394925515,0.7174010643579913,0.2253332226489943,-0.16100108732004884,0.8957940164851432,-1.055962478271236,-0.016387136126242735,-0.037516525215556054,0.2749701338742242,-0.8521142439429171,-0.14741270356093764,-0.7564721525202139,-0.8441981765330562,0.6240753595993552,-0.5277922298016174,-0.8182432106285549,0.20893474098373235,1.036852684376383,-0.9816998577043611,-0.2976742713488993,0.5789356964205559,-0.6450676317465515,-0.029728504464929008,0.08143314077334134,0.07465106474436374,-1.1671991164990967,0.6513073085164687,0.33013713875494993,-0.8917347666400799,-0.20686559128759116,0.058728883210840056,-0.09834640601080004,-0.023686135235853615,1.0210689706314893,0.07022746960588555,0.1002389541953519,0.11861546009785037,0.3147105817249477,-0.7901135139916242,0.24435548373260596,0.4179998704299364,-0.19972639351121624,0.026849772790552028,-0.03380414051225307,0.09053364120377597,0.22011365485675685,0.8209006404049827,0.15805969521192162,0.1171426246921885,0.17726261964779588,0.062010126136758374,-0.578392319846569,0.2019641216602451,-0.8787346356746272,0.921732134454263,0.0969501063969234,-0.13338798549734387,0.7783735245573008,-0.12789726958080352,-0.06083902051731753,0.1788080889926404,0.20074296643037023,-0.2936301079408176,0.5848423049549644,-0.7993075968739803,0.9934740889230163,0.3275689028715884,0.1967186581410999,0.7060883388490469,0.12093305605827506,-1.0294674629898908,-0.09932183189382196,-0.07915386807050767,0.2482693749859002,-0.10490108473763761,-0.9318102251436351,0.2539426478329931,-0.6734902418594871,0.3890020270730367,-0.03911574270050631,-0.12956047816375346,-0.21215646810463246,0.43618810897749305,0.8756963754357634,-1.1460658373572743,-0.08704519351769215,-0.15915230263970181,-0.3172463452845254,-0.15846905214496088,-0.709219380856613,0.13166747564897413,-0.04619542599732406,-0.23082301667342697,-0.48691963595393667,0.3160774624025188,-0.8266707989022938,0.20300532093785786,-0.6913906481200385,-0.48805703955116836,-0.5058112868914496,-0.14559847763788406,-0.0354464805160317,1.012267858537112,-0.0004171018506782518,0.07703149234218537,-0.10055606001943711,0.11662448108232217,-0.703499705663085,-0.480420336216862,-0.15984589446527508,0.8870445283634718,0.18191938716902867,-0.9116634074855723,0.13443629232240897,-1.0104476334080361,-1.094965870038776,0.6508442845220073,-0.6784059471683903,-0.0010411736885734641,0.23442769144112802,-0.12273998354267578,0.3149093681811432,0.9482935564890043,-0.23523645391849357,-0.35245303700433706,-0.8221633928272919,-0.10125105362323933,0.7961753374592284,1.012924275376475,0.11746940771661858,-0.22272516378998375,0.3402427557459217,0.08880841715311463,1.0098694906296934,0.6702235956983896,-0.027228948909219983,0.05121686214635701,0.18766208424290906,0.1064409231685736,0.9572849276682776,0.0635326185342199,-0.13358277016385842,-0.02107905101928523,-0.0017448631439860572,-0.004672565106893155,-1.1199308303756506,-0.7611518157119713,-0.9677087827612828,-0.2466788653535314,-0.879219763888808,-0.4668396122363755,-0.20283222024792055,-0.6025501479979739,1.1068722518253153,0.1339261962302898,-0.9568597001839502,0.10030313711027807,-0.12464937415870224,-0.014237809004690715,0.5944704158668749,0.9399117368282118,0.6362724897844478,-0.0818619841841011,0.9814575896789888,-0.24238687232809747,0.2449336613201968,0.4929590767339815,-0.8032359792311309,-0.11088785350014059,0.9230150819396201,0.0523016792476702,-0.30234127665613275,0.017065088025294956,0.06882260813370207,0.09047887422590371,-0.8408956916170897,-0.9118916804629503,-0.011611495655793528,-0.494062881537481,0.26390966323324616,0.42544573941472946,0.1268519316098999,0.12006863933882736,-0.19091463633538908,-0.3497231904121263,-0.11387886094715136,0.1856327820217074,0.10098094202599056,-0.49960460750799657,0.18335018069583522,0.04088083024582701,0.047391412442315026,0.5562243592608447,0.4888984307995227,0.19218818369574778,-0.058012292563494924,-0.11994657659849282,-0.10138135263967857,-0.0503195532797875,0.02113034491070944,-0.3906746731504545,1.059570229918805,-0.01986742093654683,-0.07510400384104907,-0.23075091448094084,0.10471906346121641,0.10882979270997374,-0.84348244179207,-0.7868842758180615,-0.5394435826736577,0.17969331209339995,-0.1377558851825528,0.18015279960704594,0.9604158901345731,-0.0673354598136445,0.8134997246449178,0.10689093072506226,-0.03314124622231321,-0.16514425436833335,-0.11882983149247771,0.0657841290989052,1.0305359248498054,0.21167719792563353,-0.06237464280477352,0.20358300041852384,0.46430003700117467,0.0004942262017125632,-0.1185702795868473,-0.03414422152206175,-0.777179829209981,-0.91133434722792,0.011417078208216436,0.11198324138220268,0.2703211815100195,-0.1803999575794843,-0.44744233848270604,-0.10844204825280808,0.9379138021329482,-0.09039355546480024,-0.032941247131344394,-0.8420133539167675,1.016309618121395,0.11632383638778318,-0.2248729264239739,0.00036412559413781363,-1.0402246377776974,-0.9991035250239164,-0.07562396590903751,-0.2696991825637141,-0.9025416420313828,-1.0414059653315093,0.5694439341448583,-0.10730230879197587,-0.02182198674926325,0.7668419085156752,0.8134640045604123,-0.7937058918218615,-0.019995328544190442,0.08389784485231533,0.3179907793454649,-0.3009145712121282,-0.32446624157210024,0.8264681432577314,-0.013731058296358234,-0.8379620851588768,-0.04325073149880381,0.14062485856883697,0.08129966902984284,0.3004037868440411,-0.12504712582126706,-0.3470773389644987,-0.7318540824629236,-0.22815716602332242,0.38774646597097295,0.019476025259111057,-0.3391720874743297,0.9642279499868167,0.01532040842467927,-0.3650922027019193,0.9942018323279281,0.626971318368907,0.06500343309269065,0.24217588555611272,-0.454263878772101,0.9437570812645758,-0.3862689355219162,0.20250075694073486,0.8135159902461505,0.24901996606288057,-0.14766505666856122,0.5708708870680744,0.8715171936952502,0.5064031026123125,-0.35249620219214384,-0.4565755601579877,-0.9134029686236931,-0.27199514651694656,0.14756886193036642,0.011948125957473466,0.08139343983039052,-0.3896831881130435,-0.8417393669627735,-0.32398846082156235,0.9479083361754511,0.08035501382220925,0.11842467957788516,0.02422229608858739,0.2573086320713641,0.23869457138302816,0.0906378212968894,0.6187373331682584,-0.7227134831278678,-0.3960437251106128,1.131499847062795,-0.5781986727897179,0.7585932638826084,0.11686071089949307,-0.02424533223631329,0.72703607072479,-0.5965034983481291,-0.39412754993991933,0.21610304582404014,-0.2727419369929366,0.17590181821733736,-0.06714040945099348,-0.917325546894039,-1.1247030394476498,0.6014209024236953,-0.17191372628065948,0.09014010678738925,0.18939067899858236,0.07454784854978416,-0.16259775324626038,-0.7484433680328713,1.086603762583496,-0.16829449282249534,-0.7641669791219217,-0.04831184411291042,0.22623608845350276,-0.7338606224232718,-0.116790742284404,0.09033257035370147,-0.07803614327603411,0.1255643641903501,0.8658867633712165,-0.03483855515525591,-0.12663729683156535,-1.0919866965172067,0.9105736208363656,0.21844352597182842,-0.1989101011149307,0.3394078002894407,-0.0910438640719771,-0.30807953098883517,-0.05667918002845579,-1.1440639028806496,-0.14321464601976452,0.7501182692558294,-0.3365468126379641,-0.16484573696648114,-1.0783689931895344,-0.05422630029818579,1.068929809741462,-0.04625410640649262,0.3765516973534195,-0.0358942966733374,-0.6732390100237268,0.1757021334097829,0.018011105551470098,1.2032873640479036,-0.012632570931472319,-0.2223376926828651,0.23178261633003297,-0.01798657533880839,0.014000509196368348,0.43562976860804475,-0.29222789819693046,0.12413378444242087,0.9062423121597717,0.6550841305795875,-0.05190305658084366,0.28946649475247627,0.7888359403334538,0.0927593902626745,-0.1146689600372126,0.8316014402230799,0.05454364368469634,0.5981019472264005,1.066125007589384,-0.17688519018095697,-0.09057376837287572,0.7799318010574993,0.0033864488113832607,-0.14170064279527203,-0.17543782019857254],\"xaxis\":\"x\",\"y\":[0.18874655689089698,0.8638093274060359,-0.10205749568366285,-0.3297778539236332,-0.2429758118967822,-0.1808379252728271,0.3828714950446516,-0.00255417398850978,0.07523034648293933,-0.47126365629694966,-0.01725790383034109,-0.010037239239815383,0.2555256771164281,1.0546430135845877,0.3093990361899205,-0.3480716960196797,0.49669733078632716,-0.37053447420445934,0.8552567404433947,0.7557261013592488,0.710133494601482,0.04436833506507797,-0.06987495712589464,-0.15750482476429625,0.8676650844567638,0.7251116669117875,0.8301108410906157,0.1585622585527729,0.0717618567603933,-0.046918907948053874,-0.23977417115763922,-0.674079519265094,-0.10818760472450037,0.5854448968724756,-0.13797222669199163,0.1875740944329556,-0.31331607264816824,-0.1509368328430549,0.15047249686911915,-0.224514384492959,0.3088940449642446,-0.08536322277426164,-0.06611900918926111,-0.6651147308823097,-0.013315474076084145,1.0296899519590583,-0.09111276075321338,0.21014548011914702,-0.15810159336162366,0.17787689005105312,1.000581606035337,-0.7634767213341096,-0.0937789914210192,0.2875221073082195,-0.012140752132639729,1.0399901198690409,0.9805342300257021,-0.28622136366794787,0.4648094816648441,-0.3507160687129289,0.9529877628706004,0.7398245359742595,0.5459042374438923,0.0935753237871732,0.18534429491944965,0.04250714160431883,-0.9283673206035646,0.08364883738198196,-0.7342891419427119,-0.7095137368218969,0.0987265765870886,0.025957557305860104,0.23297701444318683,0.6632677899985472,0.1458961109029141,0.268615826191106,0.14201667808227952,-0.350275488393643,-0.9090277175488712,-0.24017168748368137,0.13200068200621115,0.13632878845827112,0.8773710058395077,-0.18362777966247343,-0.9723554583782229,0.3093409261434449,-0.1273415391377361,0.09056957667739134,-0.529788444431074,-0.18336635297919637,0.16126323789134447,-0.1421835371820713,0.024985752255503955,-0.054241572087536195,0.7193830548735495,-0.10685260957205288,0.09420505105338581,0.2976192546536672,-0.7960631415954635,1.23524513021413,-0.12648535767001795,0.006583815246597635,-0.7868907541348198,-0.7348495386645658,0.8286113134969925,-0.03547960937739955,-0.16861664178882707,0.49821670697819564,0.9593274297034967,-0.04670230627092065,0.9631354114983786,-0.9825562652834751,-0.6897302421870597,-1.0106176227548447,0.0606530937059927,-0.4329196551538113,0.1156610668378162,0.4934442358092681,0.11604976951274663,0.5276950814284055,-0.07447328887732693,-1.0269436053285301,0.7380020440542219,0.022268650713116594,-0.041359058161274366,1.0572989415944478,1.1073890901684473,-0.2029066758160273,-0.13689074230452003,-1.062885348173081,0.5187683353863475,0.10285404628780219,0.18103584900480515,-0.5520672979938884,-0.0799015098290729,-0.07629332445070183,1.0042260622473527,-0.9755572094347716,0.04914024877239733,0.660662543298101,1.068920513945069,-0.3460488932925751,-0.1183204664729766,0.0040174609856613985,-0.4330665441510283,0.05471305608817612,-0.10948727290498354,0.35390073986509196,-0.19397269440956097,-0.0065784207958591075,0.038373642843264034,0.8403169396615249,-0.4191246974165656,-0.10480016257174694,0.04475320047646178,-0.9155922373758705,-0.040803202859543,-0.8259694041334587,-0.03138552610927023,-1.0142147591442698,-0.5629185381963462,0.16215125628851643,0.16723532968540686,-0.22413339124171178,-0.5877035330071979,0.4249213345303798,-0.8703076419892725,-1.0190004518236206,-0.12053056367613327,0.08181391159378985,0.1861605546979565,0.7911626988086097,-0.3605186469350243,-0.2611091790120836,-0.34583048902994257,-0.2861236505114043,0.11804003665578222,0.048033519555990827,0.29699325844661467,-0.049347237658797116,-0.28324138316850916,-0.4139471797343753,0.07845275871957534,0.8341404138279945,0.10657374726679952,-0.8683378198678947,0.02756545225742727,0.13140663739714764,-0.0374347530398964,-0.8869580054608215,-0.2550711143488456,0.1246903835523171,0.04878243550412474,-0.8776464831629235,-0.03315745203822628,0.20914206738162597,0.06684407072013747,0.7193445864680799,0.7903868182404583,0.9137669054455807,-0.38506628327695325,0.829467814967377,0.1465765980216099,-0.047991107644905905,0.36377696863881104,0.7764527479253499,0.1906153564549244,1.0264925439661052,0.1112639519929808,0.0943302535615633,-1.0129532887634727,0.276825386269421,-0.4094713414529934,0.6088458855008565,-0.9321821906310949,-0.2009562933389725,0.3199209050670775,-0.7822216793117523,0.23720675590496276,-0.997441895654627,-0.9099747743658704,-0.08031621780172353,0.05141568938505277,-0.14713169062700446,0.2274441803603715,0.37491318399921436,-0.32585653788528096,-0.05178769373888523,-0.14975342792237317,-0.09510632351932377,-0.760944116745724,-0.19885019249695712,0.06210918015231192,-0.14346202951596734,-0.899082607712458,0.5108162013888223,-0.15116476112080343,-1.0574452938600385,-0.04446537147457226,-1.0903015307362176,-0.9337742904109807,0.21137180310699621,-0.47458948129315126,-0.01774346896103712,-0.11809023563888373,0.6510576785431538,0.5468200212955783,-0.03860587946303973,0.028214468055643368,-0.2801332059826535,0.12918352130820795,-0.2462405903031576,0.15393255152100346,-0.07685977473962662,-0.3984370784923288,0.28710820583900926,0.9465438391505616,-0.3451392389538694,-0.9199558954106936,0.8819594365852741,-0.679222723027716,0.6447882579014479,0.0545421032661749,0.01062114246383345,-0.0007802122690294426,-0.12760921172410739,-0.37474921563494,0.2018079873869375,-0.17907783746522216,-0.24165358823821723,0.35978614520910984,0.09314735599044323,0.007605085642103906,0.08278893691238745,-0.14869979204806627,0.07299196805681837,-0.7578721072391421,-0.1575806782278388,0.8610985750496631,-0.199890725057667,-0.030213144189717232,0.28210040257573826,0.03990461121275226,1.0233034573523407,-0.05000592197350764,0.6919591446319119,0.11739794662920137,-1.0815865254392476,-0.8336213616772536,-0.3956723000753602,-0.03719837729657428,0.22883312667811184,0.2443234283297504,0.16185147228685057,-0.22002101601665078,0.7041033798237047,-0.12852214524016092,-0.9312041981157384,-0.8003565578786459,0.951453517491402,0.5499639671256032,-0.0999936191267004,-0.9116896157280913,-0.2866810293989312,1.0738520048408982,-0.9055371712523292,0.7789808398542878,0.9522865370902053,-0.3443234503566372,0.041912725426206714,0.046835882435372615,0.2546145626739313,0.10339279600494695,0.020284593996407984,-0.23232878820985386,-0.7657089545068084,-0.7773227534745901,-1.0010421040983526,0.19688410882945487,0.6814524037793115,0.5354652206586519,-0.04745183988652755,0.11659114079908107,0.7693104581095366,0.658739859740088,1.032532619675479,0.018647080484729805,0.150165307967856,-0.19268323308588778,0.8172621740877112,0.1615570715704583,0.16856088989421472,1.0233985460648047,-0.9472436057078784,0.2047719921318914,0.21485622908580612,0.01801521155752933,0.07268402642502998,-0.6174813862138993,0.24647982028766863,-0.027373630029322367,-0.43652898758531355,0.032855989068881965,0.008690037729728558,-0.6668331745691302,0.14978719734107493,0.03272178617481034,-0.17577740002492342,-0.1398725838461145,0.3621807084172004,-0.15368480367649098,0.30234883573550525,-0.23914081925541522,0.012647502019104882,-0.05828044288673668,-0.08019121743300946,-0.9583673674118326,0.26642426230869865,-0.3057139554054489,-0.25726790480764067,0.169176830618332,-0.07530082549694357,-0.5866369491385477,-0.06398566252141041,-1.0012686944632205,0.03522293391720523,0.08962954424599978,-0.3445499216816504,0.2831701123239501,0.8677550572949658,-0.2786479384375064,0.7025094060855954,-0.22095689001754384,-0.15608084201410644,0.2593608363795228,0.12714379425356462,0.11134723287037931,0.0015473569359767136,-0.12302439447027494,-0.02721567428566998,-0.8382026226967451,0.18038113446629095,0.8968964420896126,0.10380755739078194,0.7276368428180282,-1.052908160041418,-0.8552875316752572,-0.729930506354424,0.19496460309878746,0.34271674858165857,0.47607683410150275,-0.8741607527111511,-0.7998250510715978,-0.2939097251271272,0.8294154342363315,0.24434263987715948,-0.5309492187440694,-0.2631765685073702,0.0941366505980881,-0.06405673970123316],\"yaxis\":\"y\",\"type\":\"scatter\"}],                        {\"template\":{\"data\":{\"histogram2dcontour\":[{\"type\":\"histogram2dcontour\",\"colorbar\":{\"outlinewidth\":0,\"ticks\":\"\"},\"colorscale\":[[0.0,\"#0d0887\"],[0.1111111111111111,\"#46039f\"],[0.2222222222222222,\"#7201a8\"],[0.3333333333333333,\"#9c179e\"],[0.4444444444444444,\"#bd3786\"],[0.5555555555555556,\"#d8576b\"],[0.6666666666666666,\"#ed7953\"],[0.7777777777777778,\"#fb9f3a\"],[0.8888888888888888,\"#fdca26\"],[1.0,\"#f0f921\"]]}],\"choropleth\":[{\"type\":\"choropleth\",\"colorbar\":{\"outlinewidth\":0,\"ticks\":\"\"}}],\"histogram2d\":[{\"type\":\"histogram2d\",\"colorbar\":{\"outlinewidth\":0,\"ticks\":\"\"},\"colorscale\":[[0.0,\"#0d0887\"],[0.1111111111111111,\"#46039f\"],[0.2222222222222222,\"#7201a8\"],[0.3333333333333333,\"#9c179e\"],[0.4444444444444444,\"#bd3786\"],[0.5555555555555556,\"#d8576b\"],[0.6666666666666666,\"#ed7953\"],[0.7777777777777778,\"#fb9f3a\"],[0.8888888888888888,\"#fdca26\"],[1.0,\"#f0f921\"]]}],\"heatmap\":[{\"type\":\"heatmap\",\"colorbar\":{\"outlinewidth\":0,\"ticks\":\"\"},\"colorscale\":[[0.0,\"#0d0887\"],[0.1111111111111111,\"#46039f\"],[0.2222222222222222,\"#7201a8\"],[0.3333333333333333,\"#9c179e\"],[0.4444444444444444,\"#bd3786\"],[0.5555555555555556,\"#d8576b\"],[0.6666666666666666,\"#ed7953\"],[0.7777777777777778,\"#fb9f3a\"],[0.8888888888888888,\"#fdca26\"],[1.0,\"#f0f921\"]]}],\"heatmapgl\":[{\"type\":\"heatmapgl\",\"colorbar\":{\"outlinewidth\":0,\"ticks\":\"\"},\"colorscale\":[[0.0,\"#0d0887\"],[0.1111111111111111,\"#46039f\"],[0.2222222222222222,\"#7201a8\"],[0.3333333333333333,\"#9c179e\"],[0.4444444444444444,\"#bd3786\"],[0.5555555555555556,\"#d8576b\"],[0.6666666666666666,\"#ed7953\"],[0.7777777777777778,\"#fb9f3a\"],[0.8888888888888888,\"#fdca26\"],[1.0,\"#f0f921\"]]}],\"contourcarpet\":[{\"type\":\"contourcarpet\",\"colorbar\":{\"outlinewidth\":0,\"ticks\":\"\"}}],\"contour\":[{\"type\":\"contour\",\"colorbar\":{\"outlinewidth\":0,\"ticks\":\"\"},\"colorscale\":[[0.0,\"#0d0887\"],[0.1111111111111111,\"#46039f\"],[0.2222222222222222,\"#7201a8\"],[0.3333333333333333,\"#9c179e\"],[0.4444444444444444,\"#bd3786\"],[0.5555555555555556,\"#d8576b\"],[0.6666666666666666,\"#ed7953\"],[0.7777777777777778,\"#fb9f3a\"],[0.8888888888888888,\"#fdca26\"],[1.0,\"#f0f921\"]]}],\"surface\":[{\"type\":\"surface\",\"colorbar\":{\"outlinewidth\":0,\"ticks\":\"\"},\"colorscale\":[[0.0,\"#0d0887\"],[0.1111111111111111,\"#46039f\"],[0.2222222222222222,\"#7201a8\"],[0.3333333333333333,\"#9c179e\"],[0.4444444444444444,\"#bd3786\"],[0.5555555555555556,\"#d8576b\"],[0.6666666666666666,\"#ed7953\"],[0.7777777777777778,\"#fb9f3a\"],[0.8888888888888888,\"#fdca26\"],[1.0,\"#f0f921\"]]}],\"mesh3d\":[{\"type\":\"mesh3d\",\"colorbar\":{\"outlinewidth\":0,\"ticks\":\"\"}}],\"scatter\":[{\"fillpattern\":{\"fillmode\":\"overlay\",\"size\":10,\"solidity\":0.2},\"type\":\"scatter\"}],\"parcoords\":[{\"type\":\"parcoords\",\"line\":{\"colorbar\":{\"outlinewidth\":0,\"ticks\":\"\"}}}],\"scatterpolargl\":[{\"type\":\"scatterpolargl\",\"marker\":{\"colorbar\":{\"outlinewidth\":0,\"ticks\":\"\"}}}],\"bar\":[{\"error_x\":{\"color\":\"#2a3f5f\"},\"error_y\":{\"color\":\"#2a3f5f\"},\"marker\":{\"line\":{\"color\":\"#E5ECF6\",\"width\":0.5},\"pattern\":{\"fillmode\":\"overlay\",\"size\":10,\"solidity\":0.2}},\"type\":\"bar\"}],\"scattergeo\":[{\"type\":\"scattergeo\",\"marker\":{\"colorbar\":{\"outlinewidth\":0,\"ticks\":\"\"}}}],\"scatterpolar\":[{\"type\":\"scatterpolar\",\"marker\":{\"colorbar\":{\"outlinewidth\":0,\"ticks\":\"\"}}}],\"histogram\":[{\"marker\":{\"pattern\":{\"fillmode\":\"overlay\",\"size\":10,\"solidity\":0.2}},\"type\":\"histogram\"}],\"scattergl\":[{\"type\":\"scattergl\",\"marker\":{\"colorbar\":{\"outlinewidth\":0,\"ticks\":\"\"}}}],\"scatter3d\":[{\"type\":\"scatter3d\",\"line\":{\"colorbar\":{\"outlinewidth\":0,\"ticks\":\"\"}},\"marker\":{\"colorbar\":{\"outlinewidth\":0,\"ticks\":\"\"}}}],\"scattermapbox\":[{\"type\":\"scattermapbox\",\"marker\":{\"colorbar\":{\"outlinewidth\":0,\"ticks\":\"\"}}}],\"scatterternary\":[{\"type\":\"scatterternary\",\"marker\":{\"colorbar\":{\"outlinewidth\":0,\"ticks\":\"\"}}}],\"scattercarpet\":[{\"type\":\"scattercarpet\",\"marker\":{\"colorbar\":{\"outlinewidth\":0,\"ticks\":\"\"}}}],\"carpet\":[{\"aaxis\":{\"endlinecolor\":\"#2a3f5f\",\"gridcolor\":\"white\",\"linecolor\":\"white\",\"minorgridcolor\":\"white\",\"startlinecolor\":\"#2a3f5f\"},\"baxis\":{\"endlinecolor\":\"#2a3f5f\",\"gridcolor\":\"white\",\"linecolor\":\"white\",\"minorgridcolor\":\"white\",\"startlinecolor\":\"#2a3f5f\"},\"type\":\"carpet\"}],\"table\":[{\"cells\":{\"fill\":{\"color\":\"#EBF0F8\"},\"line\":{\"color\":\"white\"}},\"header\":{\"fill\":{\"color\":\"#C8D4E3\"},\"line\":{\"color\":\"white\"}},\"type\":\"table\"}],\"barpolar\":[{\"marker\":{\"line\":{\"color\":\"#E5ECF6\",\"width\":0.5},\"pattern\":{\"fillmode\":\"overlay\",\"size\":10,\"solidity\":0.2}},\"type\":\"barpolar\"}],\"pie\":[{\"automargin\":true,\"type\":\"pie\"}]},\"layout\":{\"autotypenumbers\":\"strict\",\"colorway\":[\"#636efa\",\"#EF553B\",\"#00cc96\",\"#ab63fa\",\"#FFA15A\",\"#19d3f3\",\"#FF6692\",\"#B6E880\",\"#FF97FF\",\"#FECB52\"],\"font\":{\"color\":\"#2a3f5f\"},\"hovermode\":\"closest\",\"hoverlabel\":{\"align\":\"left\"},\"paper_bgcolor\":\"white\",\"plot_bgcolor\":\"#E5ECF6\",\"polar\":{\"bgcolor\":\"#E5ECF6\",\"angularaxis\":{\"gridcolor\":\"white\",\"linecolor\":\"white\",\"ticks\":\"\"},\"radialaxis\":{\"gridcolor\":\"white\",\"linecolor\":\"white\",\"ticks\":\"\"}},\"ternary\":{\"bgcolor\":\"#E5ECF6\",\"aaxis\":{\"gridcolor\":\"white\",\"linecolor\":\"white\",\"ticks\":\"\"},\"baxis\":{\"gridcolor\":\"white\",\"linecolor\":\"white\",\"ticks\":\"\"},\"caxis\":{\"gridcolor\":\"white\",\"linecolor\":\"white\",\"ticks\":\"\"}},\"coloraxis\":{\"colorbar\":{\"outlinewidth\":0,\"ticks\":\"\"}},\"colorscale\":{\"sequential\":[[0.0,\"#0d0887\"],[0.1111111111111111,\"#46039f\"],[0.2222222222222222,\"#7201a8\"],[0.3333333333333333,\"#9c179e\"],[0.4444444444444444,\"#bd3786\"],[0.5555555555555556,\"#d8576b\"],[0.6666666666666666,\"#ed7953\"],[0.7777777777777778,\"#fb9f3a\"],[0.8888888888888888,\"#fdca26\"],[1.0,\"#f0f921\"]],\"sequentialminus\":[[0.0,\"#0d0887\"],[0.1111111111111111,\"#46039f\"],[0.2222222222222222,\"#7201a8\"],[0.3333333333333333,\"#9c179e\"],[0.4444444444444444,\"#bd3786\"],[0.5555555555555556,\"#d8576b\"],[0.6666666666666666,\"#ed7953\"],[0.7777777777777778,\"#fb9f3a\"],[0.8888888888888888,\"#fdca26\"],[1.0,\"#f0f921\"]],\"diverging\":[[0,\"#8e0152\"],[0.1,\"#c51b7d\"],[0.2,\"#de77ae\"],[0.3,\"#f1b6da\"],[0.4,\"#fde0ef\"],[0.5,\"#f7f7f7\"],[0.6,\"#e6f5d0\"],[0.7,\"#b8e186\"],[0.8,\"#7fbc41\"],[0.9,\"#4d9221\"],[1,\"#276419\"]]},\"xaxis\":{\"gridcolor\":\"white\",\"linecolor\":\"white\",\"ticks\":\"\",\"title\":{\"standoff\":15},\"zerolinecolor\":\"white\",\"automargin\":true,\"zerolinewidth\":2},\"yaxis\":{\"gridcolor\":\"white\",\"linecolor\":\"white\",\"ticks\":\"\",\"title\":{\"standoff\":15},\"zerolinecolor\":\"white\",\"automargin\":true,\"zerolinewidth\":2},\"scene\":{\"xaxis\":{\"backgroundcolor\":\"#E5ECF6\",\"gridcolor\":\"white\",\"linecolor\":\"white\",\"showbackground\":true,\"ticks\":\"\",\"zerolinecolor\":\"white\",\"gridwidth\":2},\"yaxis\":{\"backgroundcolor\":\"#E5ECF6\",\"gridcolor\":\"white\",\"linecolor\":\"white\",\"showbackground\":true,\"ticks\":\"\",\"zerolinecolor\":\"white\",\"gridwidth\":2},\"zaxis\":{\"backgroundcolor\":\"#E5ECF6\",\"gridcolor\":\"white\",\"linecolor\":\"white\",\"showbackground\":true,\"ticks\":\"\",\"zerolinecolor\":\"white\",\"gridwidth\":2}},\"shapedefaults\":{\"line\":{\"color\":\"#2a3f5f\"}},\"annotationdefaults\":{\"arrowcolor\":\"#2a3f5f\",\"arrowhead\":0,\"arrowwidth\":1},\"geo\":{\"bgcolor\":\"white\",\"landcolor\":\"#E5ECF6\",\"subunitcolor\":\"white\",\"showland\":true,\"showlakes\":true,\"lakecolor\":\"white\"},\"title\":{\"x\":0.05},\"mapbox\":{\"style\":\"light\"}}},\"xaxis\":{\"anchor\":\"y\",\"domain\":[0.0,1.0],\"title\":{\"text\":\"Principal Component 1\"}},\"yaxis\":{\"anchor\":\"x\",\"domain\":[0.0,1.0],\"title\":{\"text\":\"Principal Component 2\"}},\"coloraxis\":{\"colorbar\":{\"title\":{\"text\":\"color\"}},\"colorscale\":[[0.0,\"rgb(0,0,255)\"],[1.0,\"rgb(255,0,0)\"]],\"showscale\":false},\"legend\":{\"tracegroupgap\":0},\"margin\":{\"t\":60},\"width\":600,\"height\":400,\"title\":{\"text\":\"Concentric Circles Data (Kernel PCA: 2 components)\"}},                        {\"responsive\": true}                    ).then(function(){\n",
       "                            \n",
       "var gd = document.getElementById('19015653-7491-41da-8aad-1b13a14ba08a');\n",
       "var x = new MutationObserver(function (mutations, observer) {{\n",
       "        var display = window.getComputedStyle(gd).display;\n",
       "        if (!display || display === 'none') {{\n",
       "            console.log([gd, 'removed!']);\n",
       "            Plotly.purge(gd);\n",
       "            observer.disconnect();\n",
       "        }}\n",
       "}});\n",
       "\n",
       "// Listen for the removal of the full notebook cells\n",
       "var notebookContainer = gd.closest('#notebook-container');\n",
       "if (notebookContainer) {{\n",
       "    x.observe(notebookContainer, {childList: true});\n",
       "}}\n",
       "\n",
       "// Listen for the clearing of the current output cell\n",
       "var outputEl = gd.closest('.output');\n",
       "if (outputEl) {{\n",
       "    x.observe(outputEl, {childList: true});\n",
       "}}\n",
       "\n",
       "                        })                };                });            </script>        </div>"
      ]
     },
     "metadata": {},
     "output_type": "display_data"
    }
   ],
   "source": [
    "# Plotting the transformed data in a two principal component space\n",
    "figC2 = px.scatter(x=dataC[:, 0], y=dataC[:, 1], \n",
    "                   color=yc, color_continuous_scale='bluered')\n",
    "figC2.update_traces(marker=dict(size=8, opacity=0.6))\n",
    "figC2.update_layout(coloraxis_showscale=False, \n",
    "                    width=600, height=400, \n",
    "                    xaxis_title='Principal Component 1', \n",
    "                    yaxis_title='Principal Component 2',  \n",
    "                    title='Concentric Circles Data (Kernel PCA: 2 components)')\n",
    "figC2.show()"
   ]
  },
  {
   "cell_type": "code",
   "execution_count": 19,
   "metadata": {},
   "outputs": [
    {
     "data": {
      "application/vnd.plotly.v1+json": {
       "config": {
        "plotlyServerURL": "https://plot.ly"
       },
       "data": [
        {
         "hovertemplate": "x=%{x}<br>y=%{y}<br>color=%{marker.color}<extra></extra>",
         "legendgroup": "",
         "marker": {
          "color": [
           1,
           0,
           1,
           0,
           1,
           1,
           0,
           1,
           1,
           0,
           0,
           1,
           1,
           0,
           0,
           1,
           0,
           0,
           0,
           0,
           0,
           1,
           0,
           0,
           0,
           0,
           0,
           1,
           1,
           1,
           0,
           0,
           1,
           0,
           1,
           1,
           1,
           1,
           0,
           1,
           1,
           1,
           1,
           0,
           1,
           0,
           1,
           1,
           1,
           1,
           0,
           0,
           1,
           1,
           1,
           0,
           0,
           1,
           0,
           0,
           0,
           0,
           0,
           1,
           1,
           1,
           0,
           1,
           0,
           0,
           0,
           1,
           1,
           0,
           1,
           0,
           1,
           1,
           0,
           1,
           0,
           1,
           0,
           1,
           0,
           1,
           1,
           1,
           0,
           0,
           1,
           1,
           1,
           1,
           0,
           1,
           1,
           1,
           0,
           0,
           0,
           1,
           0,
           0,
           0,
           1,
           1,
           0,
           0,
           1,
           0,
           0,
           0,
           0,
           1,
           0,
           1,
           0,
           1,
           0,
           0,
           0,
           0,
           1,
           1,
           0,
           0,
           0,
           1,
           0,
           0,
           1,
           0,
           0,
           1,
           1,
           0,
           0,
           0,
           0,
           0,
           1,
           1,
           1,
           0,
           1,
           1,
           1,
           1,
           1,
           0,
           0,
           0,
           1,
           0,
           0,
           1,
           0,
           0,
           0,
           0,
           1,
           1,
           1,
           0,
           0,
           0,
           0,
           0,
           1,
           1,
           0,
           0,
           1,
           0,
           1,
           1,
           1,
           1,
           1,
           0,
           0,
           1,
           0,
           1,
           0,
           1,
           1,
           1,
           0,
           1,
           1,
           1,
           0,
           1,
           1,
           1,
           0,
           0,
           0,
           1,
           0,
           1,
           1,
           1,
           0,
           0,
           0,
           1,
           1,
           0,
           1,
           0,
           0,
           0,
           1,
           1,
           0,
           0,
           0,
           0,
           1,
           1,
           1,
           1,
           1,
           0,
           1,
           1,
           1,
           0,
           1,
           1,
           1,
           0,
           0,
           1,
           0,
           1,
           0,
           0,
           1,
           0,
           1,
           1,
           0,
           0,
           1,
           1,
           1,
           0,
           0,
           1,
           1,
           0,
           0,
           0,
           1,
           0,
           0,
           0,
           0,
           1,
           1,
           1,
           1,
           1,
           0,
           1,
           0,
           1,
           1,
           1,
           1,
           1,
           1,
           0,
           1,
           0,
           1,
           1,
           0,
           1,
           0,
           0,
           0,
           1,
           0,
           0,
           0,
           1,
           1,
           0,
           1,
           1,
           0,
           0,
           0,
           0,
           0,
           0,
           1,
           0,
           1,
           0,
           0,
           0,
           0,
           0,
           1,
           1,
           1,
           1,
           1,
           1,
           0,
           0,
           0,
           0,
           0,
           0,
           1,
           1,
           0,
           0,
           0,
           1,
           1,
           1,
           0,
           0,
           0,
           0,
           0,
           1,
           1,
           1,
           1,
           0,
           0,
           1,
           0,
           1,
           1,
           0,
           1,
           1,
           1,
           1,
           0,
           1,
           1,
           0,
           0,
           1,
           1,
           0,
           1,
           1,
           1,
           0,
           1,
           0,
           1,
           0,
           0,
           1,
           0,
           1,
           0,
           1,
           0,
           1,
           1,
           0,
           1,
           1,
           1,
           1,
           1,
           0,
           1,
           0,
           0,
           0,
           0,
           0,
           0,
           1,
           1,
           0,
           0,
           0,
           0,
           0,
           1,
           0,
           1,
           1,
           1
          ],
          "coloraxis": "coloraxis",
          "opacity": 0.6,
          "size": 8,
          "symbol": "circle"
         },
         "mode": "markers",
         "name": "",
         "orientation": "v",
         "showlegend": false,
         "type": "scatter",
         "x": [
          0.07261902725869875,
          0.49321911439175625,
          0.2152788085415322,
          -0.8723266638662086,
          -0.22786341860561796,
          0.26097353394925515,
          0.7174010643579913,
          0.2253332226489943,
          -0.16100108732004884,
          0.8957940164851432,
          -1.055962478271236,
          -0.016387136126242735,
          -0.037516525215556054,
          0.2749701338742242,
          -0.8521142439429171,
          -0.14741270356093764,
          -0.7564721525202139,
          -0.8441981765330562,
          0.6240753595993552,
          -0.5277922298016174,
          -0.8182432106285549,
          0.20893474098373235,
          1.036852684376383,
          -0.9816998577043611,
          -0.2976742713488993,
          0.5789356964205559,
          -0.6450676317465515,
          -0.029728504464929008,
          0.08143314077334134,
          0.07465106474436374,
          -1.1671991164990967,
          0.6513073085164687,
          0.33013713875494993,
          -0.8917347666400799,
          -0.20686559128759116,
          0.058728883210840056,
          -0.09834640601080004,
          -0.023686135235853615,
          1.0210689706314893,
          0.07022746960588555,
          0.1002389541953519,
          0.11861546009785037,
          0.3147105817249477,
          -0.7901135139916242,
          0.24435548373260596,
          0.4179998704299364,
          -0.19972639351121624,
          0.026849772790552028,
          -0.03380414051225307,
          0.09053364120377597,
          0.22011365485675685,
          0.8209006404049827,
          0.15805969521192162,
          0.1171426246921885,
          0.17726261964779588,
          0.062010126136758374,
          -0.578392319846569,
          0.2019641216602451,
          -0.8787346356746272,
          0.921732134454263,
          0.0969501063969234,
          -0.13338798549734387,
          0.7783735245573008,
          -0.12789726958080352,
          -0.06083902051731753,
          0.1788080889926404,
          0.20074296643037023,
          -0.2936301079408176,
          0.5848423049549644,
          -0.7993075968739803,
          0.9934740889230163,
          0.3275689028715884,
          0.1967186581410999,
          0.7060883388490469,
          0.12093305605827506,
          -1.0294674629898908,
          -0.09932183189382196,
          -0.07915386807050767,
          0.2482693749859002,
          -0.10490108473763761,
          -0.9318102251436351,
          0.2539426478329931,
          -0.6734902418594871,
          0.3890020270730367,
          -0.03911574270050631,
          -0.12956047816375346,
          -0.21215646810463246,
          0.43618810897749305,
          0.8756963754357634,
          -1.1460658373572743,
          -0.08704519351769215,
          -0.15915230263970181,
          -0.3172463452845254,
          -0.15846905214496088,
          -0.709219380856613,
          0.13166747564897413,
          -0.04619542599732406,
          -0.23082301667342697,
          -0.48691963595393667,
          0.3160774624025188,
          -0.8266707989022938,
          0.20300532093785786,
          -0.6913906481200385,
          -0.48805703955116836,
          -0.5058112868914496,
          -0.14559847763788406,
          -0.0354464805160317,
          1.012267858537112,
          -0.0004171018506782518,
          0.07703149234218537,
          -0.10055606001943711,
          0.11662448108232217,
          -0.703499705663085,
          -0.480420336216862,
          -0.15984589446527508,
          0.8870445283634718,
          0.18191938716902867,
          -0.9116634074855723,
          0.13443629232240897,
          -1.0104476334080361,
          -1.094965870038776,
          0.6508442845220073,
          -0.6784059471683903,
          -0.0010411736885734641,
          0.23442769144112802,
          -0.12273998354267578,
          0.3149093681811432,
          0.9482935564890043,
          -0.23523645391849357,
          -0.35245303700433706,
          -0.8221633928272919,
          -0.10125105362323933,
          0.7961753374592284,
          1.012924275376475,
          0.11746940771661858,
          -0.22272516378998375,
          0.3402427557459217,
          0.08880841715311463,
          1.0098694906296934,
          0.6702235956983896,
          -0.027228948909219983,
          0.05121686214635701,
          0.18766208424290906,
          0.1064409231685736,
          0.9572849276682776,
          0.0635326185342199,
          -0.13358277016385842,
          -0.02107905101928523,
          -0.0017448631439860572,
          -0.004672565106893155,
          -1.1199308303756506,
          -0.7611518157119713,
          -0.9677087827612828,
          -0.2466788653535314,
          -0.879219763888808,
          -0.4668396122363755,
          -0.20283222024792055,
          -0.6025501479979739,
          1.1068722518253153,
          0.1339261962302898,
          -0.9568597001839502,
          0.10030313711027807,
          -0.12464937415870224,
          -0.014237809004690715,
          0.5944704158668749,
          0.9399117368282118,
          0.6362724897844478,
          -0.0818619841841011,
          0.9814575896789888,
          -0.24238687232809747,
          0.2449336613201968,
          0.4929590767339815,
          -0.8032359792311309,
          -0.11088785350014059,
          0.9230150819396201,
          0.0523016792476702,
          -0.30234127665613275,
          0.017065088025294956,
          0.06882260813370207,
          0.09047887422590371,
          -0.8408956916170897,
          -0.9118916804629503,
          -0.011611495655793528,
          -0.494062881537481,
          0.26390966323324616,
          0.42544573941472946,
          0.1268519316098999,
          0.12006863933882736,
          -0.19091463633538908,
          -0.3497231904121263,
          -0.11387886094715136,
          0.1856327820217074,
          0.10098094202599056,
          -0.49960460750799657,
          0.18335018069583522,
          0.04088083024582701,
          0.047391412442315026,
          0.5562243592608447,
          0.4888984307995227,
          0.19218818369574778,
          -0.058012292563494924,
          -0.11994657659849282,
          -0.10138135263967857,
          -0.0503195532797875,
          0.02113034491070944,
          -0.3906746731504545,
          1.059570229918805,
          -0.01986742093654683,
          -0.07510400384104907,
          -0.23075091448094084,
          0.10471906346121641,
          0.10882979270997374,
          -0.84348244179207,
          -0.7868842758180615,
          -0.5394435826736577,
          0.17969331209339995,
          -0.1377558851825528,
          0.18015279960704594,
          0.9604158901345731,
          -0.0673354598136445,
          0.8134997246449178,
          0.10689093072506226,
          -0.03314124622231321,
          -0.16514425436833335,
          -0.11882983149247771,
          0.0657841290989052,
          1.0305359248498054,
          0.21167719792563353,
          -0.06237464280477352,
          0.20358300041852384,
          0.46430003700117467,
          0.0004942262017125632,
          -0.1185702795868473,
          -0.03414422152206175,
          -0.777179829209981,
          -0.91133434722792,
          0.011417078208216436,
          0.11198324138220268,
          0.2703211815100195,
          -0.1803999575794843,
          -0.44744233848270604,
          -0.10844204825280808,
          0.9379138021329482,
          -0.09039355546480024,
          -0.032941247131344394,
          -0.8420133539167675,
          1.016309618121395,
          0.11632383638778318,
          -0.2248729264239739,
          0.00036412559413781363,
          -1.0402246377776974,
          -0.9991035250239164,
          -0.07562396590903751,
          -0.2696991825637141,
          -0.9025416420313828,
          -1.0414059653315093,
          0.5694439341448583,
          -0.10730230879197587,
          -0.02182198674926325,
          0.7668419085156752,
          0.8134640045604123,
          -0.7937058918218615,
          -0.019995328544190442,
          0.08389784485231533,
          0.3179907793454649,
          -0.3009145712121282,
          -0.32446624157210024,
          0.8264681432577314,
          -0.013731058296358234,
          -0.8379620851588768,
          -0.04325073149880381,
          0.14062485856883697,
          0.08129966902984284,
          0.3004037868440411,
          -0.12504712582126706,
          -0.3470773389644987,
          -0.7318540824629236,
          -0.22815716602332242,
          0.38774646597097295,
          0.019476025259111057,
          -0.3391720874743297,
          0.9642279499868167,
          0.01532040842467927,
          -0.3650922027019193,
          0.9942018323279281,
          0.626971318368907,
          0.06500343309269065,
          0.24217588555611272,
          -0.454263878772101,
          0.9437570812645758,
          -0.3862689355219162,
          0.20250075694073486,
          0.8135159902461505,
          0.24901996606288057,
          -0.14766505666856122,
          0.5708708870680744,
          0.8715171936952502,
          0.5064031026123125,
          -0.35249620219214384,
          -0.4565755601579877,
          -0.9134029686236931,
          -0.27199514651694656,
          0.14756886193036642,
          0.011948125957473466,
          0.08139343983039052,
          -0.3896831881130435,
          -0.8417393669627735,
          -0.32398846082156235,
          0.9479083361754511,
          0.08035501382220925,
          0.11842467957788516,
          0.02422229608858739,
          0.2573086320713641,
          0.23869457138302816,
          0.0906378212968894,
          0.6187373331682584,
          -0.7227134831278678,
          -0.3960437251106128,
          1.131499847062795,
          -0.5781986727897179,
          0.7585932638826084,
          0.11686071089949307,
          -0.02424533223631329,
          0.72703607072479,
          -0.5965034983481291,
          -0.39412754993991933,
          0.21610304582404014,
          -0.2727419369929366,
          0.17590181821733736,
          -0.06714040945099348,
          -0.917325546894039,
          -1.1247030394476498,
          0.6014209024236953,
          -0.17191372628065948,
          0.09014010678738925,
          0.18939067899858236,
          0.07454784854978416,
          -0.16259775324626038,
          -0.7484433680328713,
          1.086603762583496,
          -0.16829449282249534,
          -0.7641669791219217,
          -0.04831184411291042,
          0.22623608845350276,
          -0.7338606224232718,
          -0.116790742284404,
          0.09033257035370147,
          -0.07803614327603411,
          0.1255643641903501,
          0.8658867633712165,
          -0.03483855515525591,
          -0.12663729683156535,
          -1.0919866965172067,
          0.9105736208363656,
          0.21844352597182842,
          -0.1989101011149307,
          0.3394078002894407,
          -0.0910438640719771,
          -0.30807953098883517,
          -0.05667918002845579,
          -1.1440639028806496,
          -0.14321464601976452,
          0.7501182692558294,
          -0.3365468126379641,
          -0.16484573696648114,
          -1.0783689931895344,
          -0.05422630029818579,
          1.068929809741462,
          -0.04625410640649262,
          0.3765516973534195,
          -0.0358942966733374,
          -0.6732390100237268,
          0.1757021334097829,
          0.018011105551470098,
          1.2032873640479036,
          -0.012632570931472319,
          -0.2223376926828651,
          0.23178261633003297,
          -0.01798657533880839,
          0.014000509196368348,
          0.43562976860804475,
          -0.29222789819693046,
          0.12413378444242087,
          0.9062423121597717,
          0.6550841305795875,
          -0.05190305658084366,
          0.28946649475247627,
          0.7888359403334538,
          0.0927593902626745,
          -0.1146689600372126,
          0.8316014402230799,
          0.05454364368469634,
          0.5981019472264005,
          1.066125007589384,
          -0.17688519018095697,
          -0.09057376837287572,
          0.7799318010574993,
          0.0033864488113832607,
          -0.14170064279527203,
          -0.17543782019857254
         ],
         "xaxis": "x",
         "y": [
          0,
          0,
          0,
          0,
          0,
          0,
          0,
          0,
          0,
          0,
          0,
          0,
          0,
          0,
          0,
          0,
          0,
          0,
          0,
          0,
          0,
          0,
          0,
          0,
          0,
          0,
          0,
          0,
          0,
          0,
          0,
          0,
          0,
          0,
          0,
          0,
          0,
          0,
          0,
          0,
          0,
          0,
          0,
          0,
          0,
          0,
          0,
          0,
          0,
          0,
          0,
          0,
          0,
          0,
          0,
          0,
          0,
          0,
          0,
          0,
          0,
          0,
          0,
          0,
          0,
          0,
          0,
          0,
          0,
          0,
          0,
          0,
          0,
          0,
          0,
          0,
          0,
          0,
          0,
          0,
          0,
          0,
          0,
          0,
          0,
          0,
          0,
          0,
          0,
          0,
          0,
          0,
          0,
          0,
          0,
          0,
          0,
          0,
          0,
          0,
          0,
          0,
          0,
          0,
          0,
          0,
          0,
          0,
          0,
          0,
          0,
          0,
          0,
          0,
          0,
          0,
          0,
          0,
          0,
          0,
          0,
          0,
          0,
          0,
          0,
          0,
          0,
          0,
          0,
          0,
          0,
          0,
          0,
          0,
          0,
          0,
          0,
          0,
          0,
          0,
          0,
          0,
          0,
          0,
          0,
          0,
          0,
          0,
          0,
          0,
          0,
          0,
          0,
          0,
          0,
          0,
          0,
          0,
          0,
          0,
          0,
          0,
          0,
          0,
          0,
          0,
          0,
          0,
          0,
          0,
          0,
          0,
          0,
          0,
          0,
          0,
          0,
          0,
          0,
          0,
          0,
          0,
          0,
          0,
          0,
          0,
          0,
          0,
          0,
          0,
          0,
          0,
          0,
          0,
          0,
          0,
          0,
          0,
          0,
          0,
          0,
          0,
          0,
          0,
          0,
          0,
          0,
          0,
          0,
          0,
          0,
          0,
          0,
          0,
          0,
          0,
          0,
          0,
          0,
          0,
          0,
          0,
          0,
          0,
          0,
          0,
          0,
          0,
          0,
          0,
          0,
          0,
          0,
          0,
          0,
          0,
          0,
          0,
          0,
          0,
          0,
          0,
          0,
          0,
          0,
          0,
          0,
          0,
          0,
          0,
          0,
          0,
          0,
          0,
          0,
          0,
          0,
          0,
          0,
          0,
          0,
          0,
          0,
          0,
          0,
          0,
          0,
          0,
          0,
          0,
          0,
          0,
          0,
          0,
          0,
          0,
          0,
          0,
          0,
          0,
          0,
          0,
          0,
          0,
          0,
          0,
          0,
          0,
          0,
          0,
          0,
          0,
          0,
          0,
          0,
          0,
          0,
          0,
          0,
          0,
          0,
          0,
          0,
          0,
          0,
          0,
          0,
          0,
          0,
          0,
          0,
          0,
          0,
          0,
          0,
          0,
          0,
          0,
          0,
          0,
          0,
          0,
          0,
          0,
          0,
          0,
          0,
          0,
          0,
          0,
          0,
          0,
          0,
          0,
          0,
          0,
          0,
          0,
          0,
          0,
          0,
          0,
          0,
          0,
          0,
          0,
          0,
          0,
          0,
          0,
          0,
          0,
          0,
          0,
          0,
          0,
          0,
          0,
          0,
          0,
          0,
          0,
          0,
          0,
          0,
          0,
          0,
          0,
          0,
          0,
          0,
          0,
          0,
          0,
          0,
          0,
          0,
          0,
          0,
          0,
          0,
          0,
          0,
          0,
          0,
          0,
          0,
          0,
          0,
          0,
          0,
          0,
          0,
          0,
          0,
          0,
          0,
          0,
          0,
          0
         ],
         "yaxis": "y"
        }
       ],
       "layout": {
        "coloraxis": {
         "colorbar": {
          "title": {
           "text": "color"
          }
         },
         "colorscale": [
          [
           0,
           "rgb(0,0,255)"
          ],
          [
           1,
           "rgb(255,0,0)"
          ]
         ],
         "showscale": false
        },
        "height": 400,
        "legend": {
         "tracegroupgap": 0
        },
        "margin": {
         "t": 60
        },
        "template": {
         "data": {
          "bar": [
           {
            "error_x": {
             "color": "#2a3f5f"
            },
            "error_y": {
             "color": "#2a3f5f"
            },
            "marker": {
             "line": {
              "color": "#E5ECF6",
              "width": 0.5
             },
             "pattern": {
              "fillmode": "overlay",
              "size": 10,
              "solidity": 0.2
             }
            },
            "type": "bar"
           }
          ],
          "barpolar": [
           {
            "marker": {
             "line": {
              "color": "#E5ECF6",
              "width": 0.5
             },
             "pattern": {
              "fillmode": "overlay",
              "size": 10,
              "solidity": 0.2
             }
            },
            "type": "barpolar"
           }
          ],
          "carpet": [
           {
            "aaxis": {
             "endlinecolor": "#2a3f5f",
             "gridcolor": "white",
             "linecolor": "white",
             "minorgridcolor": "white",
             "startlinecolor": "#2a3f5f"
            },
            "baxis": {
             "endlinecolor": "#2a3f5f",
             "gridcolor": "white",
             "linecolor": "white",
             "minorgridcolor": "white",
             "startlinecolor": "#2a3f5f"
            },
            "type": "carpet"
           }
          ],
          "choropleth": [
           {
            "colorbar": {
             "outlinewidth": 0,
             "ticks": ""
            },
            "type": "choropleth"
           }
          ],
          "contour": [
           {
            "colorbar": {
             "outlinewidth": 0,
             "ticks": ""
            },
            "colorscale": [
             [
              0,
              "#0d0887"
             ],
             [
              0.1111111111111111,
              "#46039f"
             ],
             [
              0.2222222222222222,
              "#7201a8"
             ],
             [
              0.3333333333333333,
              "#9c179e"
             ],
             [
              0.4444444444444444,
              "#bd3786"
             ],
             [
              0.5555555555555556,
              "#d8576b"
             ],
             [
              0.6666666666666666,
              "#ed7953"
             ],
             [
              0.7777777777777778,
              "#fb9f3a"
             ],
             [
              0.8888888888888888,
              "#fdca26"
             ],
             [
              1,
              "#f0f921"
             ]
            ],
            "type": "contour"
           }
          ],
          "contourcarpet": [
           {
            "colorbar": {
             "outlinewidth": 0,
             "ticks": ""
            },
            "type": "contourcarpet"
           }
          ],
          "heatmap": [
           {
            "colorbar": {
             "outlinewidth": 0,
             "ticks": ""
            },
            "colorscale": [
             [
              0,
              "#0d0887"
             ],
             [
              0.1111111111111111,
              "#46039f"
             ],
             [
              0.2222222222222222,
              "#7201a8"
             ],
             [
              0.3333333333333333,
              "#9c179e"
             ],
             [
              0.4444444444444444,
              "#bd3786"
             ],
             [
              0.5555555555555556,
              "#d8576b"
             ],
             [
              0.6666666666666666,
              "#ed7953"
             ],
             [
              0.7777777777777778,
              "#fb9f3a"
             ],
             [
              0.8888888888888888,
              "#fdca26"
             ],
             [
              1,
              "#f0f921"
             ]
            ],
            "type": "heatmap"
           }
          ],
          "heatmapgl": [
           {
            "colorbar": {
             "outlinewidth": 0,
             "ticks": ""
            },
            "colorscale": [
             [
              0,
              "#0d0887"
             ],
             [
              0.1111111111111111,
              "#46039f"
             ],
             [
              0.2222222222222222,
              "#7201a8"
             ],
             [
              0.3333333333333333,
              "#9c179e"
             ],
             [
              0.4444444444444444,
              "#bd3786"
             ],
             [
              0.5555555555555556,
              "#d8576b"
             ],
             [
              0.6666666666666666,
              "#ed7953"
             ],
             [
              0.7777777777777778,
              "#fb9f3a"
             ],
             [
              0.8888888888888888,
              "#fdca26"
             ],
             [
              1,
              "#f0f921"
             ]
            ],
            "type": "heatmapgl"
           }
          ],
          "histogram": [
           {
            "marker": {
             "pattern": {
              "fillmode": "overlay",
              "size": 10,
              "solidity": 0.2
             }
            },
            "type": "histogram"
           }
          ],
          "histogram2d": [
           {
            "colorbar": {
             "outlinewidth": 0,
             "ticks": ""
            },
            "colorscale": [
             [
              0,
              "#0d0887"
             ],
             [
              0.1111111111111111,
              "#46039f"
             ],
             [
              0.2222222222222222,
              "#7201a8"
             ],
             [
              0.3333333333333333,
              "#9c179e"
             ],
             [
              0.4444444444444444,
              "#bd3786"
             ],
             [
              0.5555555555555556,
              "#d8576b"
             ],
             [
              0.6666666666666666,
              "#ed7953"
             ],
             [
              0.7777777777777778,
              "#fb9f3a"
             ],
             [
              0.8888888888888888,
              "#fdca26"
             ],
             [
              1,
              "#f0f921"
             ]
            ],
            "type": "histogram2d"
           }
          ],
          "histogram2dcontour": [
           {
            "colorbar": {
             "outlinewidth": 0,
             "ticks": ""
            },
            "colorscale": [
             [
              0,
              "#0d0887"
             ],
             [
              0.1111111111111111,
              "#46039f"
             ],
             [
              0.2222222222222222,
              "#7201a8"
             ],
             [
              0.3333333333333333,
              "#9c179e"
             ],
             [
              0.4444444444444444,
              "#bd3786"
             ],
             [
              0.5555555555555556,
              "#d8576b"
             ],
             [
              0.6666666666666666,
              "#ed7953"
             ],
             [
              0.7777777777777778,
              "#fb9f3a"
             ],
             [
              0.8888888888888888,
              "#fdca26"
             ],
             [
              1,
              "#f0f921"
             ]
            ],
            "type": "histogram2dcontour"
           }
          ],
          "mesh3d": [
           {
            "colorbar": {
             "outlinewidth": 0,
             "ticks": ""
            },
            "type": "mesh3d"
           }
          ],
          "parcoords": [
           {
            "line": {
             "colorbar": {
              "outlinewidth": 0,
              "ticks": ""
             }
            },
            "type": "parcoords"
           }
          ],
          "pie": [
           {
            "automargin": true,
            "type": "pie"
           }
          ],
          "scatter": [
           {
            "fillpattern": {
             "fillmode": "overlay",
             "size": 10,
             "solidity": 0.2
            },
            "type": "scatter"
           }
          ],
          "scatter3d": [
           {
            "line": {
             "colorbar": {
              "outlinewidth": 0,
              "ticks": ""
             }
            },
            "marker": {
             "colorbar": {
              "outlinewidth": 0,
              "ticks": ""
             }
            },
            "type": "scatter3d"
           }
          ],
          "scattercarpet": [
           {
            "marker": {
             "colorbar": {
              "outlinewidth": 0,
              "ticks": ""
             }
            },
            "type": "scattercarpet"
           }
          ],
          "scattergeo": [
           {
            "marker": {
             "colorbar": {
              "outlinewidth": 0,
              "ticks": ""
             }
            },
            "type": "scattergeo"
           }
          ],
          "scattergl": [
           {
            "marker": {
             "colorbar": {
              "outlinewidth": 0,
              "ticks": ""
             }
            },
            "type": "scattergl"
           }
          ],
          "scattermapbox": [
           {
            "marker": {
             "colorbar": {
              "outlinewidth": 0,
              "ticks": ""
             }
            },
            "type": "scattermapbox"
           }
          ],
          "scatterpolar": [
           {
            "marker": {
             "colorbar": {
              "outlinewidth": 0,
              "ticks": ""
             }
            },
            "type": "scatterpolar"
           }
          ],
          "scatterpolargl": [
           {
            "marker": {
             "colorbar": {
              "outlinewidth": 0,
              "ticks": ""
             }
            },
            "type": "scatterpolargl"
           }
          ],
          "scatterternary": [
           {
            "marker": {
             "colorbar": {
              "outlinewidth": 0,
              "ticks": ""
             }
            },
            "type": "scatterternary"
           }
          ],
          "surface": [
           {
            "colorbar": {
             "outlinewidth": 0,
             "ticks": ""
            },
            "colorscale": [
             [
              0,
              "#0d0887"
             ],
             [
              0.1111111111111111,
              "#46039f"
             ],
             [
              0.2222222222222222,
              "#7201a8"
             ],
             [
              0.3333333333333333,
              "#9c179e"
             ],
             [
              0.4444444444444444,
              "#bd3786"
             ],
             [
              0.5555555555555556,
              "#d8576b"
             ],
             [
              0.6666666666666666,
              "#ed7953"
             ],
             [
              0.7777777777777778,
              "#fb9f3a"
             ],
             [
              0.8888888888888888,
              "#fdca26"
             ],
             [
              1,
              "#f0f921"
             ]
            ],
            "type": "surface"
           }
          ],
          "table": [
           {
            "cells": {
             "fill": {
              "color": "#EBF0F8"
             },
             "line": {
              "color": "white"
             }
            },
            "header": {
             "fill": {
              "color": "#C8D4E3"
             },
             "line": {
              "color": "white"
             }
            },
            "type": "table"
           }
          ]
         },
         "layout": {
          "annotationdefaults": {
           "arrowcolor": "#2a3f5f",
           "arrowhead": 0,
           "arrowwidth": 1
          },
          "autotypenumbers": "strict",
          "coloraxis": {
           "colorbar": {
            "outlinewidth": 0,
            "ticks": ""
           }
          },
          "colorscale": {
           "diverging": [
            [
             0,
             "#8e0152"
            ],
            [
             0.1,
             "#c51b7d"
            ],
            [
             0.2,
             "#de77ae"
            ],
            [
             0.3,
             "#f1b6da"
            ],
            [
             0.4,
             "#fde0ef"
            ],
            [
             0.5,
             "#f7f7f7"
            ],
            [
             0.6,
             "#e6f5d0"
            ],
            [
             0.7,
             "#b8e186"
            ],
            [
             0.8,
             "#7fbc41"
            ],
            [
             0.9,
             "#4d9221"
            ],
            [
             1,
             "#276419"
            ]
           ],
           "sequential": [
            [
             0,
             "#0d0887"
            ],
            [
             0.1111111111111111,
             "#46039f"
            ],
            [
             0.2222222222222222,
             "#7201a8"
            ],
            [
             0.3333333333333333,
             "#9c179e"
            ],
            [
             0.4444444444444444,
             "#bd3786"
            ],
            [
             0.5555555555555556,
             "#d8576b"
            ],
            [
             0.6666666666666666,
             "#ed7953"
            ],
            [
             0.7777777777777778,
             "#fb9f3a"
            ],
            [
             0.8888888888888888,
             "#fdca26"
            ],
            [
             1,
             "#f0f921"
            ]
           ],
           "sequentialminus": [
            [
             0,
             "#0d0887"
            ],
            [
             0.1111111111111111,
             "#46039f"
            ],
            [
             0.2222222222222222,
             "#7201a8"
            ],
            [
             0.3333333333333333,
             "#9c179e"
            ],
            [
             0.4444444444444444,
             "#bd3786"
            ],
            [
             0.5555555555555556,
             "#d8576b"
            ],
            [
             0.6666666666666666,
             "#ed7953"
            ],
            [
             0.7777777777777778,
             "#fb9f3a"
            ],
            [
             0.8888888888888888,
             "#fdca26"
            ],
            [
             1,
             "#f0f921"
            ]
           ]
          },
          "colorway": [
           "#636efa",
           "#EF553B",
           "#00cc96",
           "#ab63fa",
           "#FFA15A",
           "#19d3f3",
           "#FF6692",
           "#B6E880",
           "#FF97FF",
           "#FECB52"
          ],
          "font": {
           "color": "#2a3f5f"
          },
          "geo": {
           "bgcolor": "white",
           "lakecolor": "white",
           "landcolor": "#E5ECF6",
           "showlakes": true,
           "showland": true,
           "subunitcolor": "white"
          },
          "hoverlabel": {
           "align": "left"
          },
          "hovermode": "closest",
          "mapbox": {
           "style": "light"
          },
          "paper_bgcolor": "white",
          "plot_bgcolor": "#E5ECF6",
          "polar": {
           "angularaxis": {
            "gridcolor": "white",
            "linecolor": "white",
            "ticks": ""
           },
           "bgcolor": "#E5ECF6",
           "radialaxis": {
            "gridcolor": "white",
            "linecolor": "white",
            "ticks": ""
           }
          },
          "scene": {
           "xaxis": {
            "backgroundcolor": "#E5ECF6",
            "gridcolor": "white",
            "gridwidth": 2,
            "linecolor": "white",
            "showbackground": true,
            "ticks": "",
            "zerolinecolor": "white"
           },
           "yaxis": {
            "backgroundcolor": "#E5ECF6",
            "gridcolor": "white",
            "gridwidth": 2,
            "linecolor": "white",
            "showbackground": true,
            "ticks": "",
            "zerolinecolor": "white"
           },
           "zaxis": {
            "backgroundcolor": "#E5ECF6",
            "gridcolor": "white",
            "gridwidth": 2,
            "linecolor": "white",
            "showbackground": true,
            "ticks": "",
            "zerolinecolor": "white"
           }
          },
          "shapedefaults": {
           "line": {
            "color": "#2a3f5f"
           }
          },
          "ternary": {
           "aaxis": {
            "gridcolor": "white",
            "linecolor": "white",
            "ticks": ""
           },
           "baxis": {
            "gridcolor": "white",
            "linecolor": "white",
            "ticks": ""
           },
           "bgcolor": "#E5ECF6",
           "caxis": {
            "gridcolor": "white",
            "linecolor": "white",
            "ticks": ""
           }
          },
          "title": {
           "x": 0.05
          },
          "xaxis": {
           "automargin": true,
           "gridcolor": "white",
           "linecolor": "white",
           "ticks": "",
           "title": {
            "standoff": 15
           },
           "zerolinecolor": "white",
           "zerolinewidth": 2
          },
          "yaxis": {
           "automargin": true,
           "gridcolor": "white",
           "linecolor": "white",
           "ticks": "",
           "title": {
            "standoff": 15
           },
           "zerolinecolor": "white",
           "zerolinewidth": 2
          }
         }
        },
        "title": {
         "text": "Concentric Circles Data (PCA: 1 component)"
        },
        "width": 600,
        "xaxis": {
         "anchor": "y",
         "domain": [
          0,
          1
         ],
         "title": {
          "text": "Principal Component 1"
         }
        },
        "yaxis": {
         "anchor": "x",
         "domain": [
          0,
          1
         ],
         "title": {
          "text": ""
         }
        }
       }
      },
      "text/html": [
       "<div>                            <div id=\"a5674153-5d80-42cb-b1ac-10bc708dab45\" class=\"plotly-graph-div\" style=\"height:400px; width:600px;\"></div>            <script type=\"text/javascript\">                require([\"plotly\"], function(Plotly) {                    window.PLOTLYENV=window.PLOTLYENV || {};                                    if (document.getElementById(\"a5674153-5d80-42cb-b1ac-10bc708dab45\")) {                    Plotly.newPlot(                        \"a5674153-5d80-42cb-b1ac-10bc708dab45\",                        [{\"hovertemplate\":\"x=%{x}<br>y=%{y}<br>color=%{marker.color}<extra></extra>\",\"legendgroup\":\"\",\"marker\":{\"color\":[1,0,1,0,1,1,0,1,1,0,0,1,1,0,0,1,0,0,0,0,0,1,0,0,0,0,0,1,1,1,0,0,1,0,1,1,1,1,0,1,1,1,1,0,1,0,1,1,1,1,0,0,1,1,1,0,0,1,0,0,0,0,0,1,1,1,0,1,0,0,0,1,1,0,1,0,1,1,0,1,0,1,0,1,0,1,1,1,0,0,1,1,1,1,0,1,1,1,0,0,0,1,0,0,0,1,1,0,0,1,0,0,0,0,1,0,1,0,1,0,0,0,0,1,1,0,0,0,1,0,0,1,0,0,1,1,0,0,0,0,0,1,1,1,0,1,1,1,1,1,0,0,0,1,0,0,1,0,0,0,0,1,1,1,0,0,0,0,0,1,1,0,0,1,0,1,1,1,1,1,0,0,1,0,1,0,1,1,1,0,1,1,1,0,1,1,1,0,0,0,1,0,1,1,1,0,0,0,1,1,0,1,0,0,0,1,1,0,0,0,0,1,1,1,1,1,0,1,1,1,0,1,1,1,0,0,1,0,1,0,0,1,0,1,1,0,0,1,1,1,0,0,1,1,0,0,0,1,0,0,0,0,1,1,1,1,1,0,1,0,1,1,1,1,1,1,0,1,0,1,1,0,1,0,0,0,1,0,0,0,1,1,0,1,1,0,0,0,0,0,0,1,0,1,0,0,0,0,0,1,1,1,1,1,1,0,0,0,0,0,0,1,1,0,0,0,1,1,1,0,0,0,0,0,1,1,1,1,0,0,1,0,1,1,0,1,1,1,1,0,1,1,0,0,1,1,0,1,1,1,0,1,0,1,0,0,1,0,1,0,1,0,1,1,0,1,1,1,1,1,0,1,0,0,0,0,0,0,1,1,0,0,0,0,0,1,0,1,1,1],\"coloraxis\":\"coloraxis\",\"symbol\":\"circle\",\"opacity\":0.6,\"size\":8},\"mode\":\"markers\",\"name\":\"\",\"orientation\":\"v\",\"showlegend\":false,\"x\":[0.07261902725869875,0.49321911439175625,0.2152788085415322,-0.8723266638662086,-0.22786341860561796,0.26097353394925515,0.7174010643579913,0.2253332226489943,-0.16100108732004884,0.8957940164851432,-1.055962478271236,-0.016387136126242735,-0.037516525215556054,0.2749701338742242,-0.8521142439429171,-0.14741270356093764,-0.7564721525202139,-0.8441981765330562,0.6240753595993552,-0.5277922298016174,-0.8182432106285549,0.20893474098373235,1.036852684376383,-0.9816998577043611,-0.2976742713488993,0.5789356964205559,-0.6450676317465515,-0.029728504464929008,0.08143314077334134,0.07465106474436374,-1.1671991164990967,0.6513073085164687,0.33013713875494993,-0.8917347666400799,-0.20686559128759116,0.058728883210840056,-0.09834640601080004,-0.023686135235853615,1.0210689706314893,0.07022746960588555,0.1002389541953519,0.11861546009785037,0.3147105817249477,-0.7901135139916242,0.24435548373260596,0.4179998704299364,-0.19972639351121624,0.026849772790552028,-0.03380414051225307,0.09053364120377597,0.22011365485675685,0.8209006404049827,0.15805969521192162,0.1171426246921885,0.17726261964779588,0.062010126136758374,-0.578392319846569,0.2019641216602451,-0.8787346356746272,0.921732134454263,0.0969501063969234,-0.13338798549734387,0.7783735245573008,-0.12789726958080352,-0.06083902051731753,0.1788080889926404,0.20074296643037023,-0.2936301079408176,0.5848423049549644,-0.7993075968739803,0.9934740889230163,0.3275689028715884,0.1967186581410999,0.7060883388490469,0.12093305605827506,-1.0294674629898908,-0.09932183189382196,-0.07915386807050767,0.2482693749859002,-0.10490108473763761,-0.9318102251436351,0.2539426478329931,-0.6734902418594871,0.3890020270730367,-0.03911574270050631,-0.12956047816375346,-0.21215646810463246,0.43618810897749305,0.8756963754357634,-1.1460658373572743,-0.08704519351769215,-0.15915230263970181,-0.3172463452845254,-0.15846905214496088,-0.709219380856613,0.13166747564897413,-0.04619542599732406,-0.23082301667342697,-0.48691963595393667,0.3160774624025188,-0.8266707989022938,0.20300532093785786,-0.6913906481200385,-0.48805703955116836,-0.5058112868914496,-0.14559847763788406,-0.0354464805160317,1.012267858537112,-0.0004171018506782518,0.07703149234218537,-0.10055606001943711,0.11662448108232217,-0.703499705663085,-0.480420336216862,-0.15984589446527508,0.8870445283634718,0.18191938716902867,-0.9116634074855723,0.13443629232240897,-1.0104476334080361,-1.094965870038776,0.6508442845220073,-0.6784059471683903,-0.0010411736885734641,0.23442769144112802,-0.12273998354267578,0.3149093681811432,0.9482935564890043,-0.23523645391849357,-0.35245303700433706,-0.8221633928272919,-0.10125105362323933,0.7961753374592284,1.012924275376475,0.11746940771661858,-0.22272516378998375,0.3402427557459217,0.08880841715311463,1.0098694906296934,0.6702235956983896,-0.027228948909219983,0.05121686214635701,0.18766208424290906,0.1064409231685736,0.9572849276682776,0.0635326185342199,-0.13358277016385842,-0.02107905101928523,-0.0017448631439860572,-0.004672565106893155,-1.1199308303756506,-0.7611518157119713,-0.9677087827612828,-0.2466788653535314,-0.879219763888808,-0.4668396122363755,-0.20283222024792055,-0.6025501479979739,1.1068722518253153,0.1339261962302898,-0.9568597001839502,0.10030313711027807,-0.12464937415870224,-0.014237809004690715,0.5944704158668749,0.9399117368282118,0.6362724897844478,-0.0818619841841011,0.9814575896789888,-0.24238687232809747,0.2449336613201968,0.4929590767339815,-0.8032359792311309,-0.11088785350014059,0.9230150819396201,0.0523016792476702,-0.30234127665613275,0.017065088025294956,0.06882260813370207,0.09047887422590371,-0.8408956916170897,-0.9118916804629503,-0.011611495655793528,-0.494062881537481,0.26390966323324616,0.42544573941472946,0.1268519316098999,0.12006863933882736,-0.19091463633538908,-0.3497231904121263,-0.11387886094715136,0.1856327820217074,0.10098094202599056,-0.49960460750799657,0.18335018069583522,0.04088083024582701,0.047391412442315026,0.5562243592608447,0.4888984307995227,0.19218818369574778,-0.058012292563494924,-0.11994657659849282,-0.10138135263967857,-0.0503195532797875,0.02113034491070944,-0.3906746731504545,1.059570229918805,-0.01986742093654683,-0.07510400384104907,-0.23075091448094084,0.10471906346121641,0.10882979270997374,-0.84348244179207,-0.7868842758180615,-0.5394435826736577,0.17969331209339995,-0.1377558851825528,0.18015279960704594,0.9604158901345731,-0.0673354598136445,0.8134997246449178,0.10689093072506226,-0.03314124622231321,-0.16514425436833335,-0.11882983149247771,0.0657841290989052,1.0305359248498054,0.21167719792563353,-0.06237464280477352,0.20358300041852384,0.46430003700117467,0.0004942262017125632,-0.1185702795868473,-0.03414422152206175,-0.777179829209981,-0.91133434722792,0.011417078208216436,0.11198324138220268,0.2703211815100195,-0.1803999575794843,-0.44744233848270604,-0.10844204825280808,0.9379138021329482,-0.09039355546480024,-0.032941247131344394,-0.8420133539167675,1.016309618121395,0.11632383638778318,-0.2248729264239739,0.00036412559413781363,-1.0402246377776974,-0.9991035250239164,-0.07562396590903751,-0.2696991825637141,-0.9025416420313828,-1.0414059653315093,0.5694439341448583,-0.10730230879197587,-0.02182198674926325,0.7668419085156752,0.8134640045604123,-0.7937058918218615,-0.019995328544190442,0.08389784485231533,0.3179907793454649,-0.3009145712121282,-0.32446624157210024,0.8264681432577314,-0.013731058296358234,-0.8379620851588768,-0.04325073149880381,0.14062485856883697,0.08129966902984284,0.3004037868440411,-0.12504712582126706,-0.3470773389644987,-0.7318540824629236,-0.22815716602332242,0.38774646597097295,0.019476025259111057,-0.3391720874743297,0.9642279499868167,0.01532040842467927,-0.3650922027019193,0.9942018323279281,0.626971318368907,0.06500343309269065,0.24217588555611272,-0.454263878772101,0.9437570812645758,-0.3862689355219162,0.20250075694073486,0.8135159902461505,0.24901996606288057,-0.14766505666856122,0.5708708870680744,0.8715171936952502,0.5064031026123125,-0.35249620219214384,-0.4565755601579877,-0.9134029686236931,-0.27199514651694656,0.14756886193036642,0.011948125957473466,0.08139343983039052,-0.3896831881130435,-0.8417393669627735,-0.32398846082156235,0.9479083361754511,0.08035501382220925,0.11842467957788516,0.02422229608858739,0.2573086320713641,0.23869457138302816,0.0906378212968894,0.6187373331682584,-0.7227134831278678,-0.3960437251106128,1.131499847062795,-0.5781986727897179,0.7585932638826084,0.11686071089949307,-0.02424533223631329,0.72703607072479,-0.5965034983481291,-0.39412754993991933,0.21610304582404014,-0.2727419369929366,0.17590181821733736,-0.06714040945099348,-0.917325546894039,-1.1247030394476498,0.6014209024236953,-0.17191372628065948,0.09014010678738925,0.18939067899858236,0.07454784854978416,-0.16259775324626038,-0.7484433680328713,1.086603762583496,-0.16829449282249534,-0.7641669791219217,-0.04831184411291042,0.22623608845350276,-0.7338606224232718,-0.116790742284404,0.09033257035370147,-0.07803614327603411,0.1255643641903501,0.8658867633712165,-0.03483855515525591,-0.12663729683156535,-1.0919866965172067,0.9105736208363656,0.21844352597182842,-0.1989101011149307,0.3394078002894407,-0.0910438640719771,-0.30807953098883517,-0.05667918002845579,-1.1440639028806496,-0.14321464601976452,0.7501182692558294,-0.3365468126379641,-0.16484573696648114,-1.0783689931895344,-0.05422630029818579,1.068929809741462,-0.04625410640649262,0.3765516973534195,-0.0358942966733374,-0.6732390100237268,0.1757021334097829,0.018011105551470098,1.2032873640479036,-0.012632570931472319,-0.2223376926828651,0.23178261633003297,-0.01798657533880839,0.014000509196368348,0.43562976860804475,-0.29222789819693046,0.12413378444242087,0.9062423121597717,0.6550841305795875,-0.05190305658084366,0.28946649475247627,0.7888359403334538,0.0927593902626745,-0.1146689600372126,0.8316014402230799,0.05454364368469634,0.5981019472264005,1.066125007589384,-0.17688519018095697,-0.09057376837287572,0.7799318010574993,0.0033864488113832607,-0.14170064279527203,-0.17543782019857254],\"xaxis\":\"x\",\"y\":[0.0,0.0,0.0,0.0,0.0,0.0,0.0,0.0,0.0,0.0,0.0,0.0,0.0,0.0,0.0,0.0,0.0,0.0,0.0,0.0,0.0,0.0,0.0,0.0,0.0,0.0,0.0,0.0,0.0,0.0,0.0,0.0,0.0,0.0,0.0,0.0,0.0,0.0,0.0,0.0,0.0,0.0,0.0,0.0,0.0,0.0,0.0,0.0,0.0,0.0,0.0,0.0,0.0,0.0,0.0,0.0,0.0,0.0,0.0,0.0,0.0,0.0,0.0,0.0,0.0,0.0,0.0,0.0,0.0,0.0,0.0,0.0,0.0,0.0,0.0,0.0,0.0,0.0,0.0,0.0,0.0,0.0,0.0,0.0,0.0,0.0,0.0,0.0,0.0,0.0,0.0,0.0,0.0,0.0,0.0,0.0,0.0,0.0,0.0,0.0,0.0,0.0,0.0,0.0,0.0,0.0,0.0,0.0,0.0,0.0,0.0,0.0,0.0,0.0,0.0,0.0,0.0,0.0,0.0,0.0,0.0,0.0,0.0,0.0,0.0,0.0,0.0,0.0,0.0,0.0,0.0,0.0,0.0,0.0,0.0,0.0,0.0,0.0,0.0,0.0,0.0,0.0,0.0,0.0,0.0,0.0,0.0,0.0,0.0,0.0,0.0,0.0,0.0,0.0,0.0,0.0,0.0,0.0,0.0,0.0,0.0,0.0,0.0,0.0,0.0,0.0,0.0,0.0,0.0,0.0,0.0,0.0,0.0,0.0,0.0,0.0,0.0,0.0,0.0,0.0,0.0,0.0,0.0,0.0,0.0,0.0,0.0,0.0,0.0,0.0,0.0,0.0,0.0,0.0,0.0,0.0,0.0,0.0,0.0,0.0,0.0,0.0,0.0,0.0,0.0,0.0,0.0,0.0,0.0,0.0,0.0,0.0,0.0,0.0,0.0,0.0,0.0,0.0,0.0,0.0,0.0,0.0,0.0,0.0,0.0,0.0,0.0,0.0,0.0,0.0,0.0,0.0,0.0,0.0,0.0,0.0,0.0,0.0,0.0,0.0,0.0,0.0,0.0,0.0,0.0,0.0,0.0,0.0,0.0,0.0,0.0,0.0,0.0,0.0,0.0,0.0,0.0,0.0,0.0,0.0,0.0,0.0,0.0,0.0,0.0,0.0,0.0,0.0,0.0,0.0,0.0,0.0,0.0,0.0,0.0,0.0,0.0,0.0,0.0,0.0,0.0,0.0,0.0,0.0,0.0,0.0,0.0,0.0,0.0,0.0,0.0,0.0,0.0,0.0,0.0,0.0,0.0,0.0,0.0,0.0,0.0,0.0,0.0,0.0,0.0,0.0,0.0,0.0,0.0,0.0,0.0,0.0,0.0,0.0,0.0,0.0,0.0,0.0,0.0,0.0,0.0,0.0,0.0,0.0,0.0,0.0,0.0,0.0,0.0,0.0,0.0,0.0,0.0,0.0,0.0,0.0,0.0,0.0,0.0,0.0,0.0,0.0,0.0,0.0,0.0,0.0,0.0,0.0,0.0,0.0,0.0,0.0,0.0,0.0,0.0,0.0,0.0,0.0,0.0,0.0,0.0,0.0,0.0,0.0,0.0,0.0,0.0,0.0,0.0,0.0,0.0,0.0,0.0,0.0,0.0,0.0,0.0,0.0,0.0,0.0,0.0,0.0,0.0,0.0,0.0,0.0,0.0,0.0,0.0,0.0,0.0,0.0,0.0,0.0,0.0,0.0,0.0,0.0,0.0,0.0],\"yaxis\":\"y\",\"type\":\"scatter\"}],                        {\"template\":{\"data\":{\"histogram2dcontour\":[{\"type\":\"histogram2dcontour\",\"colorbar\":{\"outlinewidth\":0,\"ticks\":\"\"},\"colorscale\":[[0.0,\"#0d0887\"],[0.1111111111111111,\"#46039f\"],[0.2222222222222222,\"#7201a8\"],[0.3333333333333333,\"#9c179e\"],[0.4444444444444444,\"#bd3786\"],[0.5555555555555556,\"#d8576b\"],[0.6666666666666666,\"#ed7953\"],[0.7777777777777778,\"#fb9f3a\"],[0.8888888888888888,\"#fdca26\"],[1.0,\"#f0f921\"]]}],\"choropleth\":[{\"type\":\"choropleth\",\"colorbar\":{\"outlinewidth\":0,\"ticks\":\"\"}}],\"histogram2d\":[{\"type\":\"histogram2d\",\"colorbar\":{\"outlinewidth\":0,\"ticks\":\"\"},\"colorscale\":[[0.0,\"#0d0887\"],[0.1111111111111111,\"#46039f\"],[0.2222222222222222,\"#7201a8\"],[0.3333333333333333,\"#9c179e\"],[0.4444444444444444,\"#bd3786\"],[0.5555555555555556,\"#d8576b\"],[0.6666666666666666,\"#ed7953\"],[0.7777777777777778,\"#fb9f3a\"],[0.8888888888888888,\"#fdca26\"],[1.0,\"#f0f921\"]]}],\"heatmap\":[{\"type\":\"heatmap\",\"colorbar\":{\"outlinewidth\":0,\"ticks\":\"\"},\"colorscale\":[[0.0,\"#0d0887\"],[0.1111111111111111,\"#46039f\"],[0.2222222222222222,\"#7201a8\"],[0.3333333333333333,\"#9c179e\"],[0.4444444444444444,\"#bd3786\"],[0.5555555555555556,\"#d8576b\"],[0.6666666666666666,\"#ed7953\"],[0.7777777777777778,\"#fb9f3a\"],[0.8888888888888888,\"#fdca26\"],[1.0,\"#f0f921\"]]}],\"heatmapgl\":[{\"type\":\"heatmapgl\",\"colorbar\":{\"outlinewidth\":0,\"ticks\":\"\"},\"colorscale\":[[0.0,\"#0d0887\"],[0.1111111111111111,\"#46039f\"],[0.2222222222222222,\"#7201a8\"],[0.3333333333333333,\"#9c179e\"],[0.4444444444444444,\"#bd3786\"],[0.5555555555555556,\"#d8576b\"],[0.6666666666666666,\"#ed7953\"],[0.7777777777777778,\"#fb9f3a\"],[0.8888888888888888,\"#fdca26\"],[1.0,\"#f0f921\"]]}],\"contourcarpet\":[{\"type\":\"contourcarpet\",\"colorbar\":{\"outlinewidth\":0,\"ticks\":\"\"}}],\"contour\":[{\"type\":\"contour\",\"colorbar\":{\"outlinewidth\":0,\"ticks\":\"\"},\"colorscale\":[[0.0,\"#0d0887\"],[0.1111111111111111,\"#46039f\"],[0.2222222222222222,\"#7201a8\"],[0.3333333333333333,\"#9c179e\"],[0.4444444444444444,\"#bd3786\"],[0.5555555555555556,\"#d8576b\"],[0.6666666666666666,\"#ed7953\"],[0.7777777777777778,\"#fb9f3a\"],[0.8888888888888888,\"#fdca26\"],[1.0,\"#f0f921\"]]}],\"surface\":[{\"type\":\"surface\",\"colorbar\":{\"outlinewidth\":0,\"ticks\":\"\"},\"colorscale\":[[0.0,\"#0d0887\"],[0.1111111111111111,\"#46039f\"],[0.2222222222222222,\"#7201a8\"],[0.3333333333333333,\"#9c179e\"],[0.4444444444444444,\"#bd3786\"],[0.5555555555555556,\"#d8576b\"],[0.6666666666666666,\"#ed7953\"],[0.7777777777777778,\"#fb9f3a\"],[0.8888888888888888,\"#fdca26\"],[1.0,\"#f0f921\"]]}],\"mesh3d\":[{\"type\":\"mesh3d\",\"colorbar\":{\"outlinewidth\":0,\"ticks\":\"\"}}],\"scatter\":[{\"fillpattern\":{\"fillmode\":\"overlay\",\"size\":10,\"solidity\":0.2},\"type\":\"scatter\"}],\"parcoords\":[{\"type\":\"parcoords\",\"line\":{\"colorbar\":{\"outlinewidth\":0,\"ticks\":\"\"}}}],\"scatterpolargl\":[{\"type\":\"scatterpolargl\",\"marker\":{\"colorbar\":{\"outlinewidth\":0,\"ticks\":\"\"}}}],\"bar\":[{\"error_x\":{\"color\":\"#2a3f5f\"},\"error_y\":{\"color\":\"#2a3f5f\"},\"marker\":{\"line\":{\"color\":\"#E5ECF6\",\"width\":0.5},\"pattern\":{\"fillmode\":\"overlay\",\"size\":10,\"solidity\":0.2}},\"type\":\"bar\"}],\"scattergeo\":[{\"type\":\"scattergeo\",\"marker\":{\"colorbar\":{\"outlinewidth\":0,\"ticks\":\"\"}}}],\"scatterpolar\":[{\"type\":\"scatterpolar\",\"marker\":{\"colorbar\":{\"outlinewidth\":0,\"ticks\":\"\"}}}],\"histogram\":[{\"marker\":{\"pattern\":{\"fillmode\":\"overlay\",\"size\":10,\"solidity\":0.2}},\"type\":\"histogram\"}],\"scattergl\":[{\"type\":\"scattergl\",\"marker\":{\"colorbar\":{\"outlinewidth\":0,\"ticks\":\"\"}}}],\"scatter3d\":[{\"type\":\"scatter3d\",\"line\":{\"colorbar\":{\"outlinewidth\":0,\"ticks\":\"\"}},\"marker\":{\"colorbar\":{\"outlinewidth\":0,\"ticks\":\"\"}}}],\"scattermapbox\":[{\"type\":\"scattermapbox\",\"marker\":{\"colorbar\":{\"outlinewidth\":0,\"ticks\":\"\"}}}],\"scatterternary\":[{\"type\":\"scatterternary\",\"marker\":{\"colorbar\":{\"outlinewidth\":0,\"ticks\":\"\"}}}],\"scattercarpet\":[{\"type\":\"scattercarpet\",\"marker\":{\"colorbar\":{\"outlinewidth\":0,\"ticks\":\"\"}}}],\"carpet\":[{\"aaxis\":{\"endlinecolor\":\"#2a3f5f\",\"gridcolor\":\"white\",\"linecolor\":\"white\",\"minorgridcolor\":\"white\",\"startlinecolor\":\"#2a3f5f\"},\"baxis\":{\"endlinecolor\":\"#2a3f5f\",\"gridcolor\":\"white\",\"linecolor\":\"white\",\"minorgridcolor\":\"white\",\"startlinecolor\":\"#2a3f5f\"},\"type\":\"carpet\"}],\"table\":[{\"cells\":{\"fill\":{\"color\":\"#EBF0F8\"},\"line\":{\"color\":\"white\"}},\"header\":{\"fill\":{\"color\":\"#C8D4E3\"},\"line\":{\"color\":\"white\"}},\"type\":\"table\"}],\"barpolar\":[{\"marker\":{\"line\":{\"color\":\"#E5ECF6\",\"width\":0.5},\"pattern\":{\"fillmode\":\"overlay\",\"size\":10,\"solidity\":0.2}},\"type\":\"barpolar\"}],\"pie\":[{\"automargin\":true,\"type\":\"pie\"}]},\"layout\":{\"autotypenumbers\":\"strict\",\"colorway\":[\"#636efa\",\"#EF553B\",\"#00cc96\",\"#ab63fa\",\"#FFA15A\",\"#19d3f3\",\"#FF6692\",\"#B6E880\",\"#FF97FF\",\"#FECB52\"],\"font\":{\"color\":\"#2a3f5f\"},\"hovermode\":\"closest\",\"hoverlabel\":{\"align\":\"left\"},\"paper_bgcolor\":\"white\",\"plot_bgcolor\":\"#E5ECF6\",\"polar\":{\"bgcolor\":\"#E5ECF6\",\"angularaxis\":{\"gridcolor\":\"white\",\"linecolor\":\"white\",\"ticks\":\"\"},\"radialaxis\":{\"gridcolor\":\"white\",\"linecolor\":\"white\",\"ticks\":\"\"}},\"ternary\":{\"bgcolor\":\"#E5ECF6\",\"aaxis\":{\"gridcolor\":\"white\",\"linecolor\":\"white\",\"ticks\":\"\"},\"baxis\":{\"gridcolor\":\"white\",\"linecolor\":\"white\",\"ticks\":\"\"},\"caxis\":{\"gridcolor\":\"white\",\"linecolor\":\"white\",\"ticks\":\"\"}},\"coloraxis\":{\"colorbar\":{\"outlinewidth\":0,\"ticks\":\"\"}},\"colorscale\":{\"sequential\":[[0.0,\"#0d0887\"],[0.1111111111111111,\"#46039f\"],[0.2222222222222222,\"#7201a8\"],[0.3333333333333333,\"#9c179e\"],[0.4444444444444444,\"#bd3786\"],[0.5555555555555556,\"#d8576b\"],[0.6666666666666666,\"#ed7953\"],[0.7777777777777778,\"#fb9f3a\"],[0.8888888888888888,\"#fdca26\"],[1.0,\"#f0f921\"]],\"sequentialminus\":[[0.0,\"#0d0887\"],[0.1111111111111111,\"#46039f\"],[0.2222222222222222,\"#7201a8\"],[0.3333333333333333,\"#9c179e\"],[0.4444444444444444,\"#bd3786\"],[0.5555555555555556,\"#d8576b\"],[0.6666666666666666,\"#ed7953\"],[0.7777777777777778,\"#fb9f3a\"],[0.8888888888888888,\"#fdca26\"],[1.0,\"#f0f921\"]],\"diverging\":[[0,\"#8e0152\"],[0.1,\"#c51b7d\"],[0.2,\"#de77ae\"],[0.3,\"#f1b6da\"],[0.4,\"#fde0ef\"],[0.5,\"#f7f7f7\"],[0.6,\"#e6f5d0\"],[0.7,\"#b8e186\"],[0.8,\"#7fbc41\"],[0.9,\"#4d9221\"],[1,\"#276419\"]]},\"xaxis\":{\"gridcolor\":\"white\",\"linecolor\":\"white\",\"ticks\":\"\",\"title\":{\"standoff\":15},\"zerolinecolor\":\"white\",\"automargin\":true,\"zerolinewidth\":2},\"yaxis\":{\"gridcolor\":\"white\",\"linecolor\":\"white\",\"ticks\":\"\",\"title\":{\"standoff\":15},\"zerolinecolor\":\"white\",\"automargin\":true,\"zerolinewidth\":2},\"scene\":{\"xaxis\":{\"backgroundcolor\":\"#E5ECF6\",\"gridcolor\":\"white\",\"linecolor\":\"white\",\"showbackground\":true,\"ticks\":\"\",\"zerolinecolor\":\"white\",\"gridwidth\":2},\"yaxis\":{\"backgroundcolor\":\"#E5ECF6\",\"gridcolor\":\"white\",\"linecolor\":\"white\",\"showbackground\":true,\"ticks\":\"\",\"zerolinecolor\":\"white\",\"gridwidth\":2},\"zaxis\":{\"backgroundcolor\":\"#E5ECF6\",\"gridcolor\":\"white\",\"linecolor\":\"white\",\"showbackground\":true,\"ticks\":\"\",\"zerolinecolor\":\"white\",\"gridwidth\":2}},\"shapedefaults\":{\"line\":{\"color\":\"#2a3f5f\"}},\"annotationdefaults\":{\"arrowcolor\":\"#2a3f5f\",\"arrowhead\":0,\"arrowwidth\":1},\"geo\":{\"bgcolor\":\"white\",\"landcolor\":\"#E5ECF6\",\"subunitcolor\":\"white\",\"showland\":true,\"showlakes\":true,\"lakecolor\":\"white\"},\"title\":{\"x\":0.05},\"mapbox\":{\"style\":\"light\"}}},\"xaxis\":{\"anchor\":\"y\",\"domain\":[0.0,1.0],\"title\":{\"text\":\"Principal Component 1\"}},\"yaxis\":{\"anchor\":\"x\",\"domain\":[0.0,1.0],\"title\":{\"text\":\"\"}},\"coloraxis\":{\"colorbar\":{\"title\":{\"text\":\"color\"}},\"colorscale\":[[0.0,\"rgb(0,0,255)\"],[1.0,\"rgb(255,0,0)\"]],\"showscale\":false},\"legend\":{\"tracegroupgap\":0},\"margin\":{\"t\":60},\"width\":600,\"height\":400,\"title\":{\"text\":\"Concentric Circles Data (PCA: 1 component)\"}},                        {\"responsive\": true}                    ).then(function(){\n",
       "                            \n",
       "var gd = document.getElementById('a5674153-5d80-42cb-b1ac-10bc708dab45');\n",
       "var x = new MutationObserver(function (mutations, observer) {{\n",
       "        var display = window.getComputedStyle(gd).display;\n",
       "        if (!display || display === 'none') {{\n",
       "            console.log([gd, 'removed!']);\n",
       "            Plotly.purge(gd);\n",
       "            observer.disconnect();\n",
       "        }}\n",
       "}});\n",
       "\n",
       "// Listen for the removal of the full notebook cells\n",
       "var notebookContainer = gd.closest('#notebook-container');\n",
       "if (notebookContainer) {{\n",
       "    x.observe(notebookContainer, {childList: true});\n",
       "}}\n",
       "\n",
       "// Listen for the clearing of the current output cell\n",
       "var outputEl = gd.closest('.output');\n",
       "if (outputEl) {{\n",
       "    x.observe(outputEl, {childList: true});\n",
       "}}\n",
       "\n",
       "                        })                };                });            </script>        </div>"
      ]
     },
     "metadata": {},
     "output_type": "display_data"
    }
   ],
   "source": [
    "# Projecting the transformed data into the first component space\n",
    "figC1 = px.scatter(x=dataC[:, 0], y=np.zeros_like(dataC[:, 0]), \n",
    "                   color=yc, color_continuous_scale='bluered')\n",
    "figC1.update_traces(marker=dict(size=8, opacity=0.6))\n",
    "figC1.update_layout(coloraxis_showscale=False, \n",
    "                    width=600, height=400, \n",
    "                    xaxis_title='Principal Component 1', yaxis_title='', \n",
    "                    title='Concentric Circles Data (PCA: 1 component)')\n",
    "figC1.show()"
   ]
  },
  {
   "cell_type": "markdown",
   "metadata": {},
   "source": [
    "Groups are not linearly separated.\n",
    "\n",
    "The resulting principal components do not yield a subspace where the data is linearly separated well. \n",
    "\n",
    "Now we will perform dimensionality reduction via RBF kernel PCA on our concentric circles data."
   ]
  },
  {
   "cell_type": "code",
   "execution_count": 20,
   "metadata": {},
   "outputs": [],
   "source": [
    "dataCK = kpca.fit_transform(Xc)"
   ]
  },
  {
   "cell_type": "code",
   "execution_count": 21,
   "metadata": {},
   "outputs": [
    {
     "data": {
      "application/vnd.plotly.v1+json": {
       "config": {
        "plotlyServerURL": "https://plot.ly"
       },
       "data": [
        {
         "hovertemplate": "x=%{x}<br>y=%{y}<br>color=%{marker.color}<extra></extra>",
         "legendgroup": "",
         "marker": {
          "color": [
           1,
           0,
           1,
           0,
           1,
           1,
           0,
           1,
           1,
           0,
           0,
           1,
           1,
           0,
           0,
           1,
           0,
           0,
           0,
           0,
           0,
           1,
           0,
           0,
           0,
           0,
           0,
           1,
           1,
           1,
           0,
           0,
           1,
           0,
           1,
           1,
           1,
           1,
           0,
           1,
           1,
           1,
           1,
           0,
           1,
           0,
           1,
           1,
           1,
           1,
           0,
           0,
           1,
           1,
           1,
           0,
           0,
           1,
           0,
           0,
           0,
           0,
           0,
           1,
           1,
           1,
           0,
           1,
           0,
           0,
           0,
           1,
           1,
           0,
           1,
           0,
           1,
           1,
           0,
           1,
           0,
           1,
           0,
           1,
           0,
           1,
           1,
           1,
           0,
           0,
           1,
           1,
           1,
           1,
           0,
           1,
           1,
           1,
           0,
           0,
           0,
           1,
           0,
           0,
           0,
           1,
           1,
           0,
           0,
           1,
           0,
           0,
           0,
           0,
           1,
           0,
           1,
           0,
           1,
           0,
           0,
           0,
           0,
           1,
           1,
           0,
           0,
           0,
           1,
           0,
           0,
           1,
           0,
           0,
           1,
           1,
           0,
           0,
           0,
           0,
           0,
           1,
           1,
           1,
           0,
           1,
           1,
           1,
           1,
           1,
           0,
           0,
           0,
           1,
           0,
           0,
           1,
           0,
           0,
           0,
           0,
           1,
           1,
           1,
           0,
           0,
           0,
           0,
           0,
           1,
           1,
           0,
           0,
           1,
           0,
           1,
           1,
           1,
           1,
           1,
           0,
           0,
           1,
           0,
           1,
           0,
           1,
           1,
           1,
           0,
           1,
           1,
           1,
           0,
           1,
           1,
           1,
           0,
           0,
           0,
           1,
           0,
           1,
           1,
           1,
           0,
           0,
           0,
           1,
           1,
           0,
           1,
           0,
           0,
           0,
           1,
           1,
           0,
           0,
           0,
           0,
           1,
           1,
           1,
           1,
           1,
           0,
           1,
           1,
           1,
           0,
           1,
           1,
           1,
           0,
           0,
           1,
           0,
           1,
           0,
           0,
           1,
           0,
           1,
           1,
           0,
           0,
           1,
           1,
           1,
           0,
           0,
           1,
           1,
           0,
           0,
           0,
           1,
           0,
           0,
           0,
           0,
           1,
           1,
           1,
           1,
           1,
           0,
           1,
           0,
           1,
           1,
           1,
           1,
           1,
           1,
           0,
           1,
           0,
           1,
           1,
           0,
           1,
           0,
           0,
           0,
           1,
           0,
           0,
           0,
           1,
           1,
           0,
           1,
           1,
           0,
           0,
           0,
           0,
           0,
           0,
           1,
           0,
           1,
           0,
           0,
           0,
           0,
           0,
           1,
           1,
           1,
           1,
           1,
           1,
           0,
           0,
           0,
           0,
           0,
           0,
           1,
           1,
           0,
           0,
           0,
           1,
           1,
           1,
           0,
           0,
           0,
           0,
           0,
           1,
           1,
           1,
           1,
           0,
           0,
           1,
           0,
           1,
           1,
           0,
           1,
           1,
           1,
           1,
           0,
           1,
           1,
           0,
           0,
           1,
           1,
           0,
           1,
           1,
           1,
           0,
           1,
           0,
           1,
           0,
           0,
           1,
           0,
           1,
           0,
           1,
           0,
           1,
           1,
           0,
           1,
           1,
           1,
           1,
           1,
           0,
           1,
           0,
           0,
           0,
           0,
           0,
           0,
           1,
           1,
           0,
           0,
           0,
           0,
           0,
           1,
           0,
           1,
           1,
           1
          ],
          "coloraxis": "coloraxis",
          "opacity": 0.6,
          "size": 8,
          "symbol": "circle"
         },
         "mode": "markers",
         "name": "",
         "orientation": "v",
         "showlegend": false,
         "type": "scatter",
         "x": [
          0.4360778372540796,
          -0.319857477644242,
          0.35442727608402147,
          -0.3177444248783359,
          -0.01495048069623847,
          0.146217909211516,
          -0.28834961401679504,
          0.426821066435362,
          0.3338790715945707,
          -0.3252404192221829,
          -0.30433640488532576,
          0.612125719535437,
          0.2486024401526418,
          -0.302112224668215,
          -0.2942062998104593,
          -0.07027946662105863,
          -0.3165622851903936,
          -0.3167195067046023,
          -0.31544473159408243,
          -0.31871273328245897,
          -0.32984669952923434,
          0.46228616985019116,
          -0.3140041147124626,
          -0.31068370657161504,
          -0.30117055148594407,
          -0.3213034718305502,
          -0.32369825976506933,
          0.4646337063332275,
          0.6286020440557789,
          0.6131322634694316,
          -0.2819535425298352,
          -0.3049920297246774,
          0.11409722633764231,
          -0.32513316899202216,
          0.14019162971287932,
          0.4422593866280254,
          0.010562389906333573,
          0.3986794559119852,
          -0.3217209322672871,
          0.25286915979356095,
          0.14073228860448594,
          0.5277494632814594,
          0.18261383800281528,
          -0.3096465930729824,
          0.3789999981714698,
          -0.3002434382067766,
          0.2029800191695436,
          0.38865019489081254,
          0.3744013622686896,
          0.4520221151962198,
          -0.30876009585247777,
          -0.2936052678180874,
          0.46509837079786437,
          0.1798226015375099,
          0.5230474117708306,
          -0.3060101305077141,
          -0.29260343219136825,
          0.03666704696326711,
          -0.3170152460776112,
          -0.32744375958126226,
          -0.30997822309305056,
          -0.277009300174688,
          -0.30224744233382217,
          0.39384388279879007,
          0.3765096971160677,
          0.5244054959660114,
          -0.32582004931266845,
          0.043557588697436665,
          -0.30407293540328273,
          -0.30650735890049424,
          -0.3235879651991904,
          0.18455772717077962,
          0.21912649899421735,
          -0.31258858915294574,
          0.49241239315389074,
          -0.29611288365197375,
          0.3928971827516071,
          -0.03553734955137889,
          -0.3203046827910813,
          0.1330750127658419,
          -0.2970799598846064,
          0.2820191336481108,
          -0.3127091582738264,
          -0.05074659565875568,
          -0.32798474091985874,
          0.05572723009770091,
          0.1421300477872285,
          -0.04776859857093812,
          -0.32021433133973903,
          -0.2895390303194853,
          0.3831483338617213,
          0.22143642498156757,
          0.011443525024066993,
          0.32400972708638465,
          -0.33640685380483304,
          0.47636938809501167,
          0.5419495883257726,
          -0.036306729358801935,
          -0.3229340599125381,
          -0.26435193913491095,
          -0.29309602965668524,
          0.478207845612372,
          -0.3166916768988451,
          -0.3121079802871435,
          -0.3166499049835603,
          0.36624185926929564,
          0.35040555025023506,
          -0.2826727796506693,
          -0.30938754413169844,
          0.6124329642284184,
          -0.3055166502749329,
          -0.3315488362884659,
          -0.31532459839917093,
          -0.309065716363173,
          0.34394425424106806,
          -0.32632828023938415,
          0.45405422393056427,
          -0.31744782053568404,
          0.5269283494873731,
          -0.2984134758844344,
          -0.3007160031254922,
          -0.2675026518981126,
          -0.33466229120997365,
          0.6358517293740422,
          0.3848212270366641,
          -0.2940664736340182,
          -0.29131483420492144,
          -0.31946021505747674,
          0.09048951501952669,
          -0.30205524453569016,
          -0.3256225655407875,
          0.4391222362828708,
          -0.2989617306658096,
          -0.30096717961808167,
          0.5376787083461819,
          0.16763851434910912,
          -0.306758746955393,
          -0.33269894788081755,
          -0.32119418270486305,
          -0.3149133968518854,
          -0.2984191369893994,
          -0.0004886572946871852,
          0.37711714490234116,
          0.6302255835620864,
          -0.3260121603360244,
          0.6476554307574499,
          0.31456733175657975,
          0.04700344064085273,
          0.3172324671539159,
          0.6255631364238203,
          -0.2965082723402596,
          -0.3128489333838667,
          -0.3080537255348718,
          0.09815555085811037,
          -0.29078880800555773,
          -0.32608287714725936,
          0.2339301935255898,
          -0.3236650016456989,
          -0.3026306833989269,
          -0.32740034509552296,
          -0.29232024495205283,
          0.47888347600290493,
          0.30921404030238314,
          0.24127815472723754,
          -0.2887833192941286,
          -0.30162849394780616,
          -0.29669920048584636,
          -0.3222042093428669,
          -0.31729117702080806,
          0.14700654376890915,
          0.22698910260909852,
          -0.31989271239397654,
          -0.3117964284139905,
          0.08908746842859597,
          -0.3273058504254455,
          0.11533841577270416,
          0.013859279518941862,
          0.6430032259339645,
          0.17822963043489148,
          0.6022765453787648,
          -0.312459182745532,
          -0.3153378812231838,
          0.5996463073904844,
          -0.31533524327527096,
          0.29382696365260613,
          -0.3051042982186321,
          0.6103777386033552,
          0.5190891214086967,
          0.2626894414159738,
          -0.32160138436882924,
          0.09684359268152767,
          0.4346534831249982,
          0.6309724015243553,
          -0.3276080867132687,
          0.4978029129617642,
          0.3929952618889942,
          0.6406861385023819,
          -0.31941946682581684,
          -0.3194450829778318,
          -0.30685478699479884,
          -0.07558469950699427,
          -0.2956512303753296,
          0.3824690083848443,
          0.5378249060373912,
          0.03735950040629332,
          -0.3010258230233847,
          -0.315009153143955,
          -0.3049766503866264,
          0.4769239439225801,
          0.1656640443294675,
          -0.3292167322080722,
          0.20936226213661305,
          -0.31650109268327986,
          -0.3356278339570891,
          -0.3197055332500485,
          0.22534556527841282,
          0.030487658078901123,
          -0.2989240424834898,
          -0.32110104430817177,
          -0.32514248748894187,
          -0.2713751905879748,
          0.5467222785372099,
          0.5937110929280797,
          0.20378408648346852,
          0.2154899905529809,
          0.015605712358622341,
          -0.31910762808403975,
          0.42472510483280673,
          0.3603136570565826,
          0.3868221749967688,
          -0.2993066881173508,
          0.3069736258829424,
          0.4357464703119927,
          0.4045710690317641,
          -0.28661580341763515,
          -0.31887346167586383,
          0.4213322954828225,
          -0.3208463006835075,
          0.3001520292637492,
          -0.3023598815594896,
          -0.3246252911022324,
          0.2602682271730512,
          -0.32400092675761566,
          0.4933641874155365,
          0.4556030228731874,
          -0.3316301806109234,
          -0.2750518934022072,
          0.5925113454214905,
          0.20014261159094401,
          0.1230864968567394,
          -0.3014152280074842,
          -0.3119922203140924,
          0.4133848851674536,
          0.07378808776202665,
          -0.3168497955712295,
          -0.29428178013893314,
          -0.30558496666132406,
          -0.04264178253100438,
          -0.32556164895728196,
          -0.284516209727232,
          -0.3055948506247351,
          -0.33663686627125783,
          0.608226593079725,
          0.6484532699292186,
          0.20592493168467382,
          -0.01054521882672955,
          -0.18918754942059154,
          -0.3070252690552047,
          0.3444153946236459,
          -0.30824428180170493,
          0.027427208636650918,
          0.549117625260372,
          0.6491658260466476,
          0.22861389703445525,
          0.2703088064375806,
          -0.04296958025349887,
          -0.3132534228640032,
          0.08132350394423815,
          -0.3126704194560104,
          0.31150865943541417,
          -0.029762327058527698,
          -0.31723516047293204,
          0.6450737415925241,
          -0.2885090791160058,
          -0.31797858406004875,
          -0.31896697109817745,
          0.5786059258508819,
          -0.30080530089041996,
          -0.32540764708574826,
          -0.3282765120644975,
          -0.09561505803243842,
          0.21928510153431555,
          -0.3047110031538612,
          0.2568921891127418,
          0.11785388405915029,
          -0.3186487431150957,
          -0.30595713186805246,
          -0.29561756849787635,
          -0.3100966680784084,
          -0.30086102711049445,
          -0.3206262482425363,
          0.05526759330807164,
          -0.32817480993282017,
          0.11198775839921742,
          -0.30137890707068415,
          -0.32489517978722626,
          -0.31332745267911727,
          -0.2989951349364196,
          -0.32775928828636336,
          0.6476790972567721,
          0.6148769571672819,
          0.2809163818881479,
          0.3118998517347056,
          0.39917365605229654,
          0.2276075874563695,
          -0.3056410956916121,
          -0.3133644725255775,
          -0.3149837112273251,
          -0.2994279131654596,
          -0.319975764539336,
          -0.3023006361985664,
          0.5825134233671617,
          0.5410209042786198,
          -0.307903116816954,
          -0.32012986144512573,
          -0.28626859285733713,
          0.45096849816126444,
          0.046244999778947304,
          0.24729252298097404,
          -0.2930717377675826,
          -0.29512753661346,
          -0.290434523000661,
          -0.28493214990964044,
          -0.3183272764258869,
          0.39126965675105246,
          0.2659675883183613,
          0.6538459239048581,
          0.331678221927904,
          -0.31168072344685066,
          -0.30577813894625844,
          0.31972282841974525,
          -0.307978895801284,
          0.5780060932846725,
          0.4273086713630293,
          -0.3135228285305501,
          0.3498321955038343,
          0.6444604989495875,
          0.28932760593182877,
          0.4169766572556032,
          -0.3085070371081327,
          0.3827266664591106,
          0.07054615949447454,
          -0.29789118067650355,
          -0.315771639729919,
          0.40404221987325883,
          0.21449202204162612,
          -0.30822718518980885,
          0.1752207202382687,
          -0.14352295051845634,
          0.14249356616866857,
          -0.28711809218880485,
          0.33706708949965714,
          -0.310177413263083,
          -0.034432345969999056,
          -0.31774712331168836,
          -0.3017113790618198,
          0.53496198231491,
          -0.31047779818857796,
          0.18054179828742684,
          -0.31200614330420684,
          0.11172505187535008,
          -0.3349451006485456,
          0.1879861650067018,
          0.41303934546703663,
          -0.2773461125929818,
          0.5364950192672631,
          0.17281871022254963,
          0.41318460211750474,
          0.46073641154183775,
          0.6260848480529497,
          -0.3044559680740038,
          -0.007334737792559203,
          -0.3048372314900374,
          -0.31937433604777443,
          -0.31971825435041307,
          -0.31945812016712904,
          -0.3118977422368137,
          -0.30169035888086715,
          0.41246529028640966,
          0.01348626752891515,
          -0.30152161794571936,
          -0.32166795858436403,
          -0.3046515292143403,
          -0.31130618670204363,
          -0.2958008968323279,
          0.2201565642038879,
          -0.3131130456749465,
          0.1605784853794095,
          0.36363736044817374,
          0.278737355214678
         ],
         "xaxis": "x",
         "y": [
          -0.4442686387501263,
          -0.05398640660696152,
          -0.2506942086956922,
          -0.05176583262161015,
          0.5991204957184193,
          -0.15426554947225093,
          -0.0515689895318721,
          -0.4550436361882225,
          0.3278086245541237,
          -0.055292759052539345,
          -0.049550897223469045,
          0.18727966535228846,
          -0.2522620397529039,
          -0.0495732656749161,
          -0.04712979670618495,
          0.4627819819076396,
          -0.05292721620114376,
          -0.05134206304081394,
          -0.052879632764458194,
          -0.05383146192816422,
          -0.056405956638019575,
          -0.5130388819392555,
          -0.052799848108816265,
          -0.05076451586616784,
          -0.0499498431256557,
          -0.054804202864353,
          -0.0548861229268266,
          -0.17866252043311495,
          -0.3423780812432727,
          -0.03479832281824848,
          -0.04471970159518159,
          -0.0502136830469205,
          -0.2878118160503804,
          -0.055214713361195114,
          0.7121301122675276,
          -0.4186654111556368,
          0.5374410794915895,
          0.5179625522110681,
          -0.05460377198900952,
          0.3106171805832455,
          -0.3979316343136596,
          -0.07658192463234866,
          -0.3545780586453252,
          -0.050874463396112,
          -0.44525059314294957,
          -0.049186817236647196,
          0.694511347408706,
          -0.3636345451329498,
          0.5524841154036144,
          -0.4719943021412911,
          -0.0511961659364291,
          -0.04756481624548274,
          -0.16200330567574964,
          -0.4316796499879376,
          -0.3867982167771864,
          -0.050563702341773285,
          -0.04755657822160779,
          0.049256140598600555,
          -0.053128187299831646,
          -0.05597162257933837,
          -0.05178998291773733,
          -0.0515384197428791,
          -0.05025804306406681,
          0.21892576912413447,
          -0.13961546039459197,
          -0.4857407075690143,
          -0.054743456624217306,
          0.3533588235074487,
          -0.0498653682373405,
          -0.050297119496825624,
          -0.05518047742465896,
          -0.4428581732464403,
          -0.5020588449448277,
          -0.05249664052838207,
          -0.5083606435757202,
          -0.04793261710200837,
          0.034605411375394954,
          0.4559245282632521,
          -0.05344262886805198,
          0.6564705374804763,
          -0.0475766243055937,
          -0.5427083545580887,
          -0.052330525632766085,
          -0.17235081052784365,
          -0.055295700340315244,
          -0.12503024026432943,
          0.7068113038843283,
          -0.2888143334988677,
          -0.05403583261375439,
          -0.04637932197364947,
          -0.034908350925621265,
          0.7270361946065093,
          0.43033971130660253,
          0.634683941443527,
          -0.05791490226912643,
          -0.0625164457429248,
          0.0011644673909288177,
          -0.010906693402024086,
          -0.052930466097014066,
          -0.0409345150193958,
          -0.043331822241402244,
          -0.4539991588008862,
          -0.05258596853700091,
          -0.0487959714251758,
          -0.05322052673346744,
          0.5842844575336961,
          0.5652586373866341,
          -0.045252601207897834,
          -0.0516682146209497,
          -0.04344600559625124,
          -0.05073049064790766,
          -0.056257196620590935,
          -0.051871130281723556,
          -0.05113604039510339,
          0.36487094919980234,
          -0.0556305589734713,
          -0.5560252282054219,
          -0.05329526859004303,
          -0.5103068499570883,
          -0.048938836288969424,
          -0.04880101676801044,
          -0.04156531761967602,
          -0.05749811109938039,
          0.04244681099687466,
          -0.3927109190601506,
          -0.047837666253531815,
          -0.04707412297713261,
          -0.054266453498794866,
          0.6830128524639671,
          -0.049585471458557503,
          -0.05521651911452171,
          0.13328587671167574,
          -0.05430695586134946,
          -0.04960345639905067,
          -0.08675059914688443,
          0.6685736824609008,
          -0.05069632688715081,
          -0.05647533438382061,
          -0.05456358195739282,
          -0.05322210023258712,
          -0.0488154459523039,
          0.3139009814284688,
          -0.17013675023329736,
          -0.26556014491800395,
          -0.05548372378742874,
          -0.2563715157380453,
          0.6907325526422098,
          -0.25425481974380004,
          0.4939610775319425,
          0.1363033148572233,
          -0.04789360724642031,
          -0.05243481790826813,
          -0.0504420876799929,
          0.6636956488996134,
          -0.045069751188933777,
          -0.05475943715531226,
          0.6290925510085005,
          -0.05409434256842581,
          -0.050069270658618235,
          -0.0554089621301796,
          -0.04708406600370565,
          -0.4834481699733332,
          0.03741383295833336,
          0.53084227089843,
          -0.047070243564415436,
          -0.04979910318184744,
          -0.04812262537413572,
          -0.05418033263535378,
          -0.053706179838182426,
          0.37337695771432,
          -0.520921744209263,
          -0.05440291302514258,
          -0.049136002382836164,
          0.6322802958868241,
          -0.05594471069316854,
          0.35945405291658566,
          0.2834565888981471,
          -0.08933311384200779,
          -0.38992803113358687,
          -0.0810382750742657,
          -0.0496084807720183,
          -0.05188074884803138,
          -0.06969705422338077,
          -0.05291184698778828,
          -0.5388083006470317,
          -0.05002852061243944,
          -0.36989370985317044,
          -0.4996380560034115,
          0.6221490623902229,
          -0.05319119270393304,
          0.6421954362750808,
          -0.5603248521626186,
          -0.34956518986184437,
          -0.054978262574277716,
          -0.3523691623548655,
          -0.3906323608793192,
          -0.23333849044988644,
          -0.05459734543635087,
          -0.054327189679044895,
          -0.05127144539575386,
          0.37498122315857896,
          -0.050558028633239174,
          0.02953773805266658,
          0.40173298382948525,
          -0.28442702449012364,
          -0.050209870252257746,
          -0.05292193009041855,
          -0.05038252836653696,
          0.04350185402845565,
          0.34241128992850783,
          -0.055820430819059796,
          -0.4398625895179375,
          -0.051546222099053476,
          -0.0576846410615819,
          -0.05345032773664446,
          0.0018437130263702914,
          -0.11899532864150006,
          -0.04528392751663336,
          -0.05462746640394219,
          -0.05477540041435913,
          -0.042453670006118154,
          -0.05351086352296564,
          0.07153012662437981,
          0.7285607918239183,
          -0.07357546276856346,
          -0.29923787518922174,
          -0.05391211025887161,
          -0.3520678720072251,
          0.6132509599003886,
          -0.24855511197565952,
          -0.04860649096323882,
          0.49041681808758053,
          0.28412856101394296,
          0.537822206861096,
          -0.04600284475387438,
          -0.053655795869976354,
          0.41391161443126084,
          -0.053988560881355174,
          -0.3985712631763487,
          -0.04973130835083545,
          -0.054476769769454314,
          -0.07170454636530757,
          -0.05498060298860174,
          0.4361613889817119,
          0.49821946241080317,
          -0.056791268385987456,
          -0.04348360299575292,
          -0.18804939207122276,
          0.49327204361594573,
          0.47151850039036336,
          -0.04893999099131745,
          -0.05119750353424177,
          -0.049042516646620606,
          0.6166406892960274,
          -0.052126660760709535,
          -0.04755790687198493,
          -0.050523711929158846,
          0.47463433102664365,
          -0.05417940741004545,
          -0.04571747665537588,
          -0.050392274847795286,
          -0.05795288156590417,
          0.01937518420059588,
          -0.21523863103526616,
          -0.43149965042568633,
          0.5727360780720262,
          0.22733713069312475,
          -0.05411851861829021,
          0.5168152203386865,
          -0.04819624684404889,
          -0.22779501734017016,
          -0.4987807522074022,
          -0.19966921022182366,
          -0.49949002523591507,
          0.7103786023898957,
          0.32023275822832525,
          -0.05180935858084599,
          0.6867306513079565,
          -0.05256616955976163,
          0.43905235844539175,
          0.4593407083169515,
          -0.05362132568558548,
          -0.06230384209122353,
          -0.04651596172262143,
          -0.05386049359900686,
          -0.054216535579589865,
          -0.3732584719893504,
          -0.04938470799770314,
          -0.053847043160012084,
          -0.05605916205783853,
          0.37030442530298835,
          -0.5046333594944317,
          -0.05360349573194741,
          -0.5351094328393371,
          0.6922772420095261,
          -0.05446679581171173,
          -0.05231473669822427,
          -0.04791644110060214,
          -0.04828510012284943,
          -0.04940233624749628,
          -0.054121177900149864,
          0.6246708115019532,
          -0.05504645500419344,
          0.4435918561056108,
          -0.04945155487222282,
          -0.054267505870445425,
          -0.05258077052681719,
          -0.049023418996006755,
          -0.055994798944357,
          -0.2782597272093024,
          -0.3883093362797257,
          -0.3610215885550887,
          -0.5437340996110558,
          -0.49232043407945575,
          0.2594817697376952,
          -0.05019552811108063,
          -0.05186670401330414,
          -0.05244146756558737,
          -0.04922108407039623,
          -0.05413863314182473,
          -0.05049073206610358,
          -0.16713031274110024,
          -0.11686194489640417,
          -0.05116865101760797,
          -0.05414295151925533,
          -0.04599784727520501,
          -0.4826222422408628,
          0.22914143808997206,
          -0.0027757754745007697,
          -0.05089358178219954,
          -0.04711411249515347,
          -0.04659090001540359,
          -0.045745108953529116,
          -0.05284090525637686,
          -0.4712779104423456,
          -0.5232124959955585,
          -0.20437920301821222,
          0.33692079934354474,
          -0.05088177891220534,
          -0.05070357823543702,
          0.5908717866773924,
          -0.04813922232117082,
          0.1727842328280025,
          -0.4729396655699515,
          -0.05151187775355819,
          0.05753511428306511,
          -0.2865786929017015,
          0.6572087531603704,
          0.028217631486280398,
          -0.05202519397966031,
          0.5509013263629391,
          -0.12574155138312015,
          -0.04821142428520167,
          -0.05420008044972622,
          -0.34622361577191835,
          0.6839409178531174,
          -0.050881272356664946,
          -0.1605788350287893,
          0.3616416293247726,
          0.5883652983510909,
          -0.04586223724355369,
          0.655663935059589,
          -0.05163771874227068,
          0.4875429197021598,
          -0.05306653439155989,
          -0.0490083812027473,
          0.03698707576169522,
          -0.0518931924134138,
          -0.24284935563872193,
          -0.0523932895828154,
          0.5349479409535813,
          -0.057569161885634386,
          0.037786938298941725,
          0.4000169421246859,
          -0.044068562320236995,
          -0.17239222777000454,
          0.2989822073857397,
          -0.46439924596800014,
          0.4618876810126666,
          0.12715059600081371,
          -0.0498425517196235,
          0.1740230493431535,
          -0.05119103731565774,
          -0.05509043286993152,
          -0.054085558711065795,
          -0.05364461559962467,
          -0.05127086910964901,
          -0.049414632381844126,
          -0.47621422443071737,
          -0.15134382743220923,
          -0.05008390011959613,
          -0.05252110877170279,
          -0.04994165803444211,
          -0.05209552150901881,
          -0.05009195263971755,
          -0.14460546562360185,
          -0.052484153499922824,
          0.47792736323545304,
          0.24495423870770336,
          0.6613529550633827
         ],
         "yaxis": "y"
        }
       ],
       "layout": {
        "coloraxis": {
         "colorbar": {
          "title": {
           "text": "color"
          }
         },
         "colorscale": [
          [
           0,
           "rgb(0,0,255)"
          ],
          [
           1,
           "rgb(255,0,0)"
          ]
         ],
         "showscale": false
        },
        "height": 400,
        "legend": {
         "tracegroupgap": 0
        },
        "margin": {
         "t": 60
        },
        "template": {
         "data": {
          "bar": [
           {
            "error_x": {
             "color": "#2a3f5f"
            },
            "error_y": {
             "color": "#2a3f5f"
            },
            "marker": {
             "line": {
              "color": "#E5ECF6",
              "width": 0.5
             },
             "pattern": {
              "fillmode": "overlay",
              "size": 10,
              "solidity": 0.2
             }
            },
            "type": "bar"
           }
          ],
          "barpolar": [
           {
            "marker": {
             "line": {
              "color": "#E5ECF6",
              "width": 0.5
             },
             "pattern": {
              "fillmode": "overlay",
              "size": 10,
              "solidity": 0.2
             }
            },
            "type": "barpolar"
           }
          ],
          "carpet": [
           {
            "aaxis": {
             "endlinecolor": "#2a3f5f",
             "gridcolor": "white",
             "linecolor": "white",
             "minorgridcolor": "white",
             "startlinecolor": "#2a3f5f"
            },
            "baxis": {
             "endlinecolor": "#2a3f5f",
             "gridcolor": "white",
             "linecolor": "white",
             "minorgridcolor": "white",
             "startlinecolor": "#2a3f5f"
            },
            "type": "carpet"
           }
          ],
          "choropleth": [
           {
            "colorbar": {
             "outlinewidth": 0,
             "ticks": ""
            },
            "type": "choropleth"
           }
          ],
          "contour": [
           {
            "colorbar": {
             "outlinewidth": 0,
             "ticks": ""
            },
            "colorscale": [
             [
              0,
              "#0d0887"
             ],
             [
              0.1111111111111111,
              "#46039f"
             ],
             [
              0.2222222222222222,
              "#7201a8"
             ],
             [
              0.3333333333333333,
              "#9c179e"
             ],
             [
              0.4444444444444444,
              "#bd3786"
             ],
             [
              0.5555555555555556,
              "#d8576b"
             ],
             [
              0.6666666666666666,
              "#ed7953"
             ],
             [
              0.7777777777777778,
              "#fb9f3a"
             ],
             [
              0.8888888888888888,
              "#fdca26"
             ],
             [
              1,
              "#f0f921"
             ]
            ],
            "type": "contour"
           }
          ],
          "contourcarpet": [
           {
            "colorbar": {
             "outlinewidth": 0,
             "ticks": ""
            },
            "type": "contourcarpet"
           }
          ],
          "heatmap": [
           {
            "colorbar": {
             "outlinewidth": 0,
             "ticks": ""
            },
            "colorscale": [
             [
              0,
              "#0d0887"
             ],
             [
              0.1111111111111111,
              "#46039f"
             ],
             [
              0.2222222222222222,
              "#7201a8"
             ],
             [
              0.3333333333333333,
              "#9c179e"
             ],
             [
              0.4444444444444444,
              "#bd3786"
             ],
             [
              0.5555555555555556,
              "#d8576b"
             ],
             [
              0.6666666666666666,
              "#ed7953"
             ],
             [
              0.7777777777777778,
              "#fb9f3a"
             ],
             [
              0.8888888888888888,
              "#fdca26"
             ],
             [
              1,
              "#f0f921"
             ]
            ],
            "type": "heatmap"
           }
          ],
          "heatmapgl": [
           {
            "colorbar": {
             "outlinewidth": 0,
             "ticks": ""
            },
            "colorscale": [
             [
              0,
              "#0d0887"
             ],
             [
              0.1111111111111111,
              "#46039f"
             ],
             [
              0.2222222222222222,
              "#7201a8"
             ],
             [
              0.3333333333333333,
              "#9c179e"
             ],
             [
              0.4444444444444444,
              "#bd3786"
             ],
             [
              0.5555555555555556,
              "#d8576b"
             ],
             [
              0.6666666666666666,
              "#ed7953"
             ],
             [
              0.7777777777777778,
              "#fb9f3a"
             ],
             [
              0.8888888888888888,
              "#fdca26"
             ],
             [
              1,
              "#f0f921"
             ]
            ],
            "type": "heatmapgl"
           }
          ],
          "histogram": [
           {
            "marker": {
             "pattern": {
              "fillmode": "overlay",
              "size": 10,
              "solidity": 0.2
             }
            },
            "type": "histogram"
           }
          ],
          "histogram2d": [
           {
            "colorbar": {
             "outlinewidth": 0,
             "ticks": ""
            },
            "colorscale": [
             [
              0,
              "#0d0887"
             ],
             [
              0.1111111111111111,
              "#46039f"
             ],
             [
              0.2222222222222222,
              "#7201a8"
             ],
             [
              0.3333333333333333,
              "#9c179e"
             ],
             [
              0.4444444444444444,
              "#bd3786"
             ],
             [
              0.5555555555555556,
              "#d8576b"
             ],
             [
              0.6666666666666666,
              "#ed7953"
             ],
             [
              0.7777777777777778,
              "#fb9f3a"
             ],
             [
              0.8888888888888888,
              "#fdca26"
             ],
             [
              1,
              "#f0f921"
             ]
            ],
            "type": "histogram2d"
           }
          ],
          "histogram2dcontour": [
           {
            "colorbar": {
             "outlinewidth": 0,
             "ticks": ""
            },
            "colorscale": [
             [
              0,
              "#0d0887"
             ],
             [
              0.1111111111111111,
              "#46039f"
             ],
             [
              0.2222222222222222,
              "#7201a8"
             ],
             [
              0.3333333333333333,
              "#9c179e"
             ],
             [
              0.4444444444444444,
              "#bd3786"
             ],
             [
              0.5555555555555556,
              "#d8576b"
             ],
             [
              0.6666666666666666,
              "#ed7953"
             ],
             [
              0.7777777777777778,
              "#fb9f3a"
             ],
             [
              0.8888888888888888,
              "#fdca26"
             ],
             [
              1,
              "#f0f921"
             ]
            ],
            "type": "histogram2dcontour"
           }
          ],
          "mesh3d": [
           {
            "colorbar": {
             "outlinewidth": 0,
             "ticks": ""
            },
            "type": "mesh3d"
           }
          ],
          "parcoords": [
           {
            "line": {
             "colorbar": {
              "outlinewidth": 0,
              "ticks": ""
             }
            },
            "type": "parcoords"
           }
          ],
          "pie": [
           {
            "automargin": true,
            "type": "pie"
           }
          ],
          "scatter": [
           {
            "fillpattern": {
             "fillmode": "overlay",
             "size": 10,
             "solidity": 0.2
            },
            "type": "scatter"
           }
          ],
          "scatter3d": [
           {
            "line": {
             "colorbar": {
              "outlinewidth": 0,
              "ticks": ""
             }
            },
            "marker": {
             "colorbar": {
              "outlinewidth": 0,
              "ticks": ""
             }
            },
            "type": "scatter3d"
           }
          ],
          "scattercarpet": [
           {
            "marker": {
             "colorbar": {
              "outlinewidth": 0,
              "ticks": ""
             }
            },
            "type": "scattercarpet"
           }
          ],
          "scattergeo": [
           {
            "marker": {
             "colorbar": {
              "outlinewidth": 0,
              "ticks": ""
             }
            },
            "type": "scattergeo"
           }
          ],
          "scattergl": [
           {
            "marker": {
             "colorbar": {
              "outlinewidth": 0,
              "ticks": ""
             }
            },
            "type": "scattergl"
           }
          ],
          "scattermapbox": [
           {
            "marker": {
             "colorbar": {
              "outlinewidth": 0,
              "ticks": ""
             }
            },
            "type": "scattermapbox"
           }
          ],
          "scatterpolar": [
           {
            "marker": {
             "colorbar": {
              "outlinewidth": 0,
              "ticks": ""
             }
            },
            "type": "scatterpolar"
           }
          ],
          "scatterpolargl": [
           {
            "marker": {
             "colorbar": {
              "outlinewidth": 0,
              "ticks": ""
             }
            },
            "type": "scatterpolargl"
           }
          ],
          "scatterternary": [
           {
            "marker": {
             "colorbar": {
              "outlinewidth": 0,
              "ticks": ""
             }
            },
            "type": "scatterternary"
           }
          ],
          "surface": [
           {
            "colorbar": {
             "outlinewidth": 0,
             "ticks": ""
            },
            "colorscale": [
             [
              0,
              "#0d0887"
             ],
             [
              0.1111111111111111,
              "#46039f"
             ],
             [
              0.2222222222222222,
              "#7201a8"
             ],
             [
              0.3333333333333333,
              "#9c179e"
             ],
             [
              0.4444444444444444,
              "#bd3786"
             ],
             [
              0.5555555555555556,
              "#d8576b"
             ],
             [
              0.6666666666666666,
              "#ed7953"
             ],
             [
              0.7777777777777778,
              "#fb9f3a"
             ],
             [
              0.8888888888888888,
              "#fdca26"
             ],
             [
              1,
              "#f0f921"
             ]
            ],
            "type": "surface"
           }
          ],
          "table": [
           {
            "cells": {
             "fill": {
              "color": "#EBF0F8"
             },
             "line": {
              "color": "white"
             }
            },
            "header": {
             "fill": {
              "color": "#C8D4E3"
             },
             "line": {
              "color": "white"
             }
            },
            "type": "table"
           }
          ]
         },
         "layout": {
          "annotationdefaults": {
           "arrowcolor": "#2a3f5f",
           "arrowhead": 0,
           "arrowwidth": 1
          },
          "autotypenumbers": "strict",
          "coloraxis": {
           "colorbar": {
            "outlinewidth": 0,
            "ticks": ""
           }
          },
          "colorscale": {
           "diverging": [
            [
             0,
             "#8e0152"
            ],
            [
             0.1,
             "#c51b7d"
            ],
            [
             0.2,
             "#de77ae"
            ],
            [
             0.3,
             "#f1b6da"
            ],
            [
             0.4,
             "#fde0ef"
            ],
            [
             0.5,
             "#f7f7f7"
            ],
            [
             0.6,
             "#e6f5d0"
            ],
            [
             0.7,
             "#b8e186"
            ],
            [
             0.8,
             "#7fbc41"
            ],
            [
             0.9,
             "#4d9221"
            ],
            [
             1,
             "#276419"
            ]
           ],
           "sequential": [
            [
             0,
             "#0d0887"
            ],
            [
             0.1111111111111111,
             "#46039f"
            ],
            [
             0.2222222222222222,
             "#7201a8"
            ],
            [
             0.3333333333333333,
             "#9c179e"
            ],
            [
             0.4444444444444444,
             "#bd3786"
            ],
            [
             0.5555555555555556,
             "#d8576b"
            ],
            [
             0.6666666666666666,
             "#ed7953"
            ],
            [
             0.7777777777777778,
             "#fb9f3a"
            ],
            [
             0.8888888888888888,
             "#fdca26"
            ],
            [
             1,
             "#f0f921"
            ]
           ],
           "sequentialminus": [
            [
             0,
             "#0d0887"
            ],
            [
             0.1111111111111111,
             "#46039f"
            ],
            [
             0.2222222222222222,
             "#7201a8"
            ],
            [
             0.3333333333333333,
             "#9c179e"
            ],
            [
             0.4444444444444444,
             "#bd3786"
            ],
            [
             0.5555555555555556,
             "#d8576b"
            ],
            [
             0.6666666666666666,
             "#ed7953"
            ],
            [
             0.7777777777777778,
             "#fb9f3a"
            ],
            [
             0.8888888888888888,
             "#fdca26"
            ],
            [
             1,
             "#f0f921"
            ]
           ]
          },
          "colorway": [
           "#636efa",
           "#EF553B",
           "#00cc96",
           "#ab63fa",
           "#FFA15A",
           "#19d3f3",
           "#FF6692",
           "#B6E880",
           "#FF97FF",
           "#FECB52"
          ],
          "font": {
           "color": "#2a3f5f"
          },
          "geo": {
           "bgcolor": "white",
           "lakecolor": "white",
           "landcolor": "#E5ECF6",
           "showlakes": true,
           "showland": true,
           "subunitcolor": "white"
          },
          "hoverlabel": {
           "align": "left"
          },
          "hovermode": "closest",
          "mapbox": {
           "style": "light"
          },
          "paper_bgcolor": "white",
          "plot_bgcolor": "#E5ECF6",
          "polar": {
           "angularaxis": {
            "gridcolor": "white",
            "linecolor": "white",
            "ticks": ""
           },
           "bgcolor": "#E5ECF6",
           "radialaxis": {
            "gridcolor": "white",
            "linecolor": "white",
            "ticks": ""
           }
          },
          "scene": {
           "xaxis": {
            "backgroundcolor": "#E5ECF6",
            "gridcolor": "white",
            "gridwidth": 2,
            "linecolor": "white",
            "showbackground": true,
            "ticks": "",
            "zerolinecolor": "white"
           },
           "yaxis": {
            "backgroundcolor": "#E5ECF6",
            "gridcolor": "white",
            "gridwidth": 2,
            "linecolor": "white",
            "showbackground": true,
            "ticks": "",
            "zerolinecolor": "white"
           },
           "zaxis": {
            "backgroundcolor": "#E5ECF6",
            "gridcolor": "white",
            "gridwidth": 2,
            "linecolor": "white",
            "showbackground": true,
            "ticks": "",
            "zerolinecolor": "white"
           }
          },
          "shapedefaults": {
           "line": {
            "color": "#2a3f5f"
           }
          },
          "ternary": {
           "aaxis": {
            "gridcolor": "white",
            "linecolor": "white",
            "ticks": ""
           },
           "baxis": {
            "gridcolor": "white",
            "linecolor": "white",
            "ticks": ""
           },
           "bgcolor": "#E5ECF6",
           "caxis": {
            "gridcolor": "white",
            "linecolor": "white",
            "ticks": ""
           }
          },
          "title": {
           "x": 0.05
          },
          "xaxis": {
           "automargin": true,
           "gridcolor": "white",
           "linecolor": "white",
           "ticks": "",
           "title": {
            "standoff": 15
           },
           "zerolinecolor": "white",
           "zerolinewidth": 2
          },
          "yaxis": {
           "automargin": true,
           "gridcolor": "white",
           "linecolor": "white",
           "ticks": "",
           "title": {
            "standoff": 15
           },
           "zerolinecolor": "white",
           "zerolinewidth": 2
          }
         }
        },
        "title": {
         "text": "Concentric Circles Data (Kernel PCA: 2 components)"
        },
        "width": 600,
        "xaxis": {
         "anchor": "y",
         "domain": [
          0,
          1
         ],
         "title": {
          "text": "Principal Component 1"
         }
        },
        "yaxis": {
         "anchor": "x",
         "domain": [
          0,
          1
         ],
         "title": {
          "text": "Principal Component 2"
         }
        }
       }
      },
      "text/html": [
       "<div>                            <div id=\"fd4c22bd-37c6-475d-9cdd-c36390f1c161\" class=\"plotly-graph-div\" style=\"height:400px; width:600px;\"></div>            <script type=\"text/javascript\">                require([\"plotly\"], function(Plotly) {                    window.PLOTLYENV=window.PLOTLYENV || {};                                    if (document.getElementById(\"fd4c22bd-37c6-475d-9cdd-c36390f1c161\")) {                    Plotly.newPlot(                        \"fd4c22bd-37c6-475d-9cdd-c36390f1c161\",                        [{\"hovertemplate\":\"x=%{x}<br>y=%{y}<br>color=%{marker.color}<extra></extra>\",\"legendgroup\":\"\",\"marker\":{\"color\":[1,0,1,0,1,1,0,1,1,0,0,1,1,0,0,1,0,0,0,0,0,1,0,0,0,0,0,1,1,1,0,0,1,0,1,1,1,1,0,1,1,1,1,0,1,0,1,1,1,1,0,0,1,1,1,0,0,1,0,0,0,0,0,1,1,1,0,1,0,0,0,1,1,0,1,0,1,1,0,1,0,1,0,1,0,1,1,1,0,0,1,1,1,1,0,1,1,1,0,0,0,1,0,0,0,1,1,0,0,1,0,0,0,0,1,0,1,0,1,0,0,0,0,1,1,0,0,0,1,0,0,1,0,0,1,1,0,0,0,0,0,1,1,1,0,1,1,1,1,1,0,0,0,1,0,0,1,0,0,0,0,1,1,1,0,0,0,0,0,1,1,0,0,1,0,1,1,1,1,1,0,0,1,0,1,0,1,1,1,0,1,1,1,0,1,1,1,0,0,0,1,0,1,1,1,0,0,0,1,1,0,1,0,0,0,1,1,0,0,0,0,1,1,1,1,1,0,1,1,1,0,1,1,1,0,0,1,0,1,0,0,1,0,1,1,0,0,1,1,1,0,0,1,1,0,0,0,1,0,0,0,0,1,1,1,1,1,0,1,0,1,1,1,1,1,1,0,1,0,1,1,0,1,0,0,0,1,0,0,0,1,1,0,1,1,0,0,0,0,0,0,1,0,1,0,0,0,0,0,1,1,1,1,1,1,0,0,0,0,0,0,1,1,0,0,0,1,1,1,0,0,0,0,0,1,1,1,1,0,0,1,0,1,1,0,1,1,1,1,0,1,1,0,0,1,1,0,1,1,1,0,1,0,1,0,0,1,0,1,0,1,0,1,1,0,1,1,1,1,1,0,1,0,0,0,0,0,0,1,1,0,0,0,0,0,1,0,1,1,1],\"coloraxis\":\"coloraxis\",\"symbol\":\"circle\",\"opacity\":0.6,\"size\":8},\"mode\":\"markers\",\"name\":\"\",\"orientation\":\"v\",\"showlegend\":false,\"x\":[0.4360778372540796,-0.319857477644242,0.35442727608402147,-0.3177444248783359,-0.01495048069623847,0.146217909211516,-0.28834961401679504,0.426821066435362,0.3338790715945707,-0.3252404192221829,-0.30433640488532576,0.612125719535437,0.2486024401526418,-0.302112224668215,-0.2942062998104593,-0.07027946662105863,-0.3165622851903936,-0.3167195067046023,-0.31544473159408243,-0.31871273328245897,-0.32984669952923434,0.46228616985019116,-0.3140041147124626,-0.31068370657161504,-0.30117055148594407,-0.3213034718305502,-0.32369825976506933,0.4646337063332275,0.6286020440557789,0.6131322634694316,-0.2819535425298352,-0.3049920297246774,0.11409722633764231,-0.32513316899202216,0.14019162971287932,0.4422593866280254,0.010562389906333573,0.3986794559119852,-0.3217209322672871,0.25286915979356095,0.14073228860448594,0.5277494632814594,0.18261383800281528,-0.3096465930729824,0.3789999981714698,-0.3002434382067766,0.2029800191695436,0.38865019489081254,0.3744013622686896,0.4520221151962198,-0.30876009585247777,-0.2936052678180874,0.46509837079786437,0.1798226015375099,0.5230474117708306,-0.3060101305077141,-0.29260343219136825,0.03666704696326711,-0.3170152460776112,-0.32744375958126226,-0.30997822309305056,-0.277009300174688,-0.30224744233382217,0.39384388279879007,0.3765096971160677,0.5244054959660114,-0.32582004931266845,0.043557588697436665,-0.30407293540328273,-0.30650735890049424,-0.3235879651991904,0.18455772717077962,0.21912649899421735,-0.31258858915294574,0.49241239315389074,-0.29611288365197375,0.3928971827516071,-0.03553734955137889,-0.3203046827910813,0.1330750127658419,-0.2970799598846064,0.2820191336481108,-0.3127091582738264,-0.05074659565875568,-0.32798474091985874,0.05572723009770091,0.1421300477872285,-0.04776859857093812,-0.32021433133973903,-0.2895390303194853,0.3831483338617213,0.22143642498156757,0.011443525024066993,0.32400972708638465,-0.33640685380483304,0.47636938809501167,0.5419495883257726,-0.036306729358801935,-0.3229340599125381,-0.26435193913491095,-0.29309602965668524,0.478207845612372,-0.3166916768988451,-0.3121079802871435,-0.3166499049835603,0.36624185926929564,0.35040555025023506,-0.2826727796506693,-0.30938754413169844,0.6124329642284184,-0.3055166502749329,-0.3315488362884659,-0.31532459839917093,-0.309065716363173,0.34394425424106806,-0.32632828023938415,0.45405422393056427,-0.31744782053568404,0.5269283494873731,-0.2984134758844344,-0.3007160031254922,-0.2675026518981126,-0.33466229120997365,0.6358517293740422,0.3848212270366641,-0.2940664736340182,-0.29131483420492144,-0.31946021505747674,0.09048951501952669,-0.30205524453569016,-0.3256225655407875,0.4391222362828708,-0.2989617306658096,-0.30096717961808167,0.5376787083461819,0.16763851434910912,-0.306758746955393,-0.33269894788081755,-0.32119418270486305,-0.3149133968518854,-0.2984191369893994,-0.0004886572946871852,0.37711714490234116,0.6302255835620864,-0.3260121603360244,0.6476554307574499,0.31456733175657975,0.04700344064085273,0.3172324671539159,0.6255631364238203,-0.2965082723402596,-0.3128489333838667,-0.3080537255348718,0.09815555085811037,-0.29078880800555773,-0.32608287714725936,0.2339301935255898,-0.3236650016456989,-0.3026306833989269,-0.32740034509552296,-0.29232024495205283,0.47888347600290493,0.30921404030238314,0.24127815472723754,-0.2887833192941286,-0.30162849394780616,-0.29669920048584636,-0.3222042093428669,-0.31729117702080806,0.14700654376890915,0.22698910260909852,-0.31989271239397654,-0.3117964284139905,0.08908746842859597,-0.3273058504254455,0.11533841577270416,0.013859279518941862,0.6430032259339645,0.17822963043489148,0.6022765453787648,-0.312459182745532,-0.3153378812231838,0.5996463073904844,-0.31533524327527096,0.29382696365260613,-0.3051042982186321,0.6103777386033552,0.5190891214086967,0.2626894414159738,-0.32160138436882924,0.09684359268152767,0.4346534831249982,0.6309724015243553,-0.3276080867132687,0.4978029129617642,0.3929952618889942,0.6406861385023819,-0.31941946682581684,-0.3194450829778318,-0.30685478699479884,-0.07558469950699427,-0.2956512303753296,0.3824690083848443,0.5378249060373912,0.03735950040629332,-0.3010258230233847,-0.315009153143955,-0.3049766503866264,0.4769239439225801,0.1656640443294675,-0.3292167322080722,0.20936226213661305,-0.31650109268327986,-0.3356278339570891,-0.3197055332500485,0.22534556527841282,0.030487658078901123,-0.2989240424834898,-0.32110104430817177,-0.32514248748894187,-0.2713751905879748,0.5467222785372099,0.5937110929280797,0.20378408648346852,0.2154899905529809,0.015605712358622341,-0.31910762808403975,0.42472510483280673,0.3603136570565826,0.3868221749967688,-0.2993066881173508,0.3069736258829424,0.4357464703119927,0.4045710690317641,-0.28661580341763515,-0.31887346167586383,0.4213322954828225,-0.3208463006835075,0.3001520292637492,-0.3023598815594896,-0.3246252911022324,0.2602682271730512,-0.32400092675761566,0.4933641874155365,0.4556030228731874,-0.3316301806109234,-0.2750518934022072,0.5925113454214905,0.20014261159094401,0.1230864968567394,-0.3014152280074842,-0.3119922203140924,0.4133848851674536,0.07378808776202665,-0.3168497955712295,-0.29428178013893314,-0.30558496666132406,-0.04264178253100438,-0.32556164895728196,-0.284516209727232,-0.3055948506247351,-0.33663686627125783,0.608226593079725,0.6484532699292186,0.20592493168467382,-0.01054521882672955,-0.18918754942059154,-0.3070252690552047,0.3444153946236459,-0.30824428180170493,0.027427208636650918,0.549117625260372,0.6491658260466476,0.22861389703445525,0.2703088064375806,-0.04296958025349887,-0.3132534228640032,0.08132350394423815,-0.3126704194560104,0.31150865943541417,-0.029762327058527698,-0.31723516047293204,0.6450737415925241,-0.2885090791160058,-0.31797858406004875,-0.31896697109817745,0.5786059258508819,-0.30080530089041996,-0.32540764708574826,-0.3282765120644975,-0.09561505803243842,0.21928510153431555,-0.3047110031538612,0.2568921891127418,0.11785388405915029,-0.3186487431150957,-0.30595713186805246,-0.29561756849787635,-0.3100966680784084,-0.30086102711049445,-0.3206262482425363,0.05526759330807164,-0.32817480993282017,0.11198775839921742,-0.30137890707068415,-0.32489517978722626,-0.31332745267911727,-0.2989951349364196,-0.32775928828636336,0.6476790972567721,0.6148769571672819,0.2809163818881479,0.3118998517347056,0.39917365605229654,0.2276075874563695,-0.3056410956916121,-0.3133644725255775,-0.3149837112273251,-0.2994279131654596,-0.319975764539336,-0.3023006361985664,0.5825134233671617,0.5410209042786198,-0.307903116816954,-0.32012986144512573,-0.28626859285733713,0.45096849816126444,0.046244999778947304,0.24729252298097404,-0.2930717377675826,-0.29512753661346,-0.290434523000661,-0.28493214990964044,-0.3183272764258869,0.39126965675105246,0.2659675883183613,0.6538459239048581,0.331678221927904,-0.31168072344685066,-0.30577813894625844,0.31972282841974525,-0.307978895801284,0.5780060932846725,0.4273086713630293,-0.3135228285305501,0.3498321955038343,0.6444604989495875,0.28932760593182877,0.4169766572556032,-0.3085070371081327,0.3827266664591106,0.07054615949447454,-0.29789118067650355,-0.315771639729919,0.40404221987325883,0.21449202204162612,-0.30822718518980885,0.1752207202382687,-0.14352295051845634,0.14249356616866857,-0.28711809218880485,0.33706708949965714,-0.310177413263083,-0.034432345969999056,-0.31774712331168836,-0.3017113790618198,0.53496198231491,-0.31047779818857796,0.18054179828742684,-0.31200614330420684,0.11172505187535008,-0.3349451006485456,0.1879861650067018,0.41303934546703663,-0.2773461125929818,0.5364950192672631,0.17281871022254963,0.41318460211750474,0.46073641154183775,0.6260848480529497,-0.3044559680740038,-0.007334737792559203,-0.3048372314900374,-0.31937433604777443,-0.31971825435041307,-0.31945812016712904,-0.3118977422368137,-0.30169035888086715,0.41246529028640966,0.01348626752891515,-0.30152161794571936,-0.32166795858436403,-0.3046515292143403,-0.31130618670204363,-0.2958008968323279,0.2201565642038879,-0.3131130456749465,0.1605784853794095,0.36363736044817374,0.278737355214678],\"xaxis\":\"x\",\"y\":[-0.4442686387501263,-0.05398640660696152,-0.2506942086956922,-0.05176583262161015,0.5991204957184193,-0.15426554947225093,-0.0515689895318721,-0.4550436361882225,0.3278086245541237,-0.055292759052539345,-0.049550897223469045,0.18727966535228846,-0.2522620397529039,-0.0495732656749161,-0.04712979670618495,0.4627819819076396,-0.05292721620114376,-0.05134206304081394,-0.052879632764458194,-0.05383146192816422,-0.056405956638019575,-0.5130388819392555,-0.052799848108816265,-0.05076451586616784,-0.0499498431256557,-0.054804202864353,-0.0548861229268266,-0.17866252043311495,-0.3423780812432727,-0.03479832281824848,-0.04471970159518159,-0.0502136830469205,-0.2878118160503804,-0.055214713361195114,0.7121301122675276,-0.4186654111556368,0.5374410794915895,0.5179625522110681,-0.05460377198900952,0.3106171805832455,-0.3979316343136596,-0.07658192463234866,-0.3545780586453252,-0.050874463396112,-0.44525059314294957,-0.049186817236647196,0.694511347408706,-0.3636345451329498,0.5524841154036144,-0.4719943021412911,-0.0511961659364291,-0.04756481624548274,-0.16200330567574964,-0.4316796499879376,-0.3867982167771864,-0.050563702341773285,-0.04755657822160779,0.049256140598600555,-0.053128187299831646,-0.05597162257933837,-0.05178998291773733,-0.0515384197428791,-0.05025804306406681,0.21892576912413447,-0.13961546039459197,-0.4857407075690143,-0.054743456624217306,0.3533588235074487,-0.0498653682373405,-0.050297119496825624,-0.05518047742465896,-0.4428581732464403,-0.5020588449448277,-0.05249664052838207,-0.5083606435757202,-0.04793261710200837,0.034605411375394954,0.4559245282632521,-0.05344262886805198,0.6564705374804763,-0.0475766243055937,-0.5427083545580887,-0.052330525632766085,-0.17235081052784365,-0.055295700340315244,-0.12503024026432943,0.7068113038843283,-0.2888143334988677,-0.05403583261375439,-0.04637932197364947,-0.034908350925621265,0.7270361946065093,0.43033971130660253,0.634683941443527,-0.05791490226912643,-0.0625164457429248,0.0011644673909288177,-0.010906693402024086,-0.052930466097014066,-0.0409345150193958,-0.043331822241402244,-0.4539991588008862,-0.05258596853700091,-0.0487959714251758,-0.05322052673346744,0.5842844575336961,0.5652586373866341,-0.045252601207897834,-0.0516682146209497,-0.04344600559625124,-0.05073049064790766,-0.056257196620590935,-0.051871130281723556,-0.05113604039510339,0.36487094919980234,-0.0556305589734713,-0.5560252282054219,-0.05329526859004303,-0.5103068499570883,-0.048938836288969424,-0.04880101676801044,-0.04156531761967602,-0.05749811109938039,0.04244681099687466,-0.3927109190601506,-0.047837666253531815,-0.04707412297713261,-0.054266453498794866,0.6830128524639671,-0.049585471458557503,-0.05521651911452171,0.13328587671167574,-0.05430695586134946,-0.04960345639905067,-0.08675059914688443,0.6685736824609008,-0.05069632688715081,-0.05647533438382061,-0.05456358195739282,-0.05322210023258712,-0.0488154459523039,0.3139009814284688,-0.17013675023329736,-0.26556014491800395,-0.05548372378742874,-0.2563715157380453,0.6907325526422098,-0.25425481974380004,0.4939610775319425,0.1363033148572233,-0.04789360724642031,-0.05243481790826813,-0.0504420876799929,0.6636956488996134,-0.045069751188933777,-0.05475943715531226,0.6290925510085005,-0.05409434256842581,-0.050069270658618235,-0.0554089621301796,-0.04708406600370565,-0.4834481699733332,0.03741383295833336,0.53084227089843,-0.047070243564415436,-0.04979910318184744,-0.04812262537413572,-0.05418033263535378,-0.053706179838182426,0.37337695771432,-0.520921744209263,-0.05440291302514258,-0.049136002382836164,0.6322802958868241,-0.05594471069316854,0.35945405291658566,0.2834565888981471,-0.08933311384200779,-0.38992803113358687,-0.0810382750742657,-0.0496084807720183,-0.05188074884803138,-0.06969705422338077,-0.05291184698778828,-0.5388083006470317,-0.05002852061243944,-0.36989370985317044,-0.4996380560034115,0.6221490623902229,-0.05319119270393304,0.6421954362750808,-0.5603248521626186,-0.34956518986184437,-0.054978262574277716,-0.3523691623548655,-0.3906323608793192,-0.23333849044988644,-0.05459734543635087,-0.054327189679044895,-0.05127144539575386,0.37498122315857896,-0.050558028633239174,0.02953773805266658,0.40173298382948525,-0.28442702449012364,-0.050209870252257746,-0.05292193009041855,-0.05038252836653696,0.04350185402845565,0.34241128992850783,-0.055820430819059796,-0.4398625895179375,-0.051546222099053476,-0.0576846410615819,-0.05345032773664446,0.0018437130263702914,-0.11899532864150006,-0.04528392751663336,-0.05462746640394219,-0.05477540041435913,-0.042453670006118154,-0.05351086352296564,0.07153012662437981,0.7285607918239183,-0.07357546276856346,-0.29923787518922174,-0.05391211025887161,-0.3520678720072251,0.6132509599003886,-0.24855511197565952,-0.04860649096323882,0.49041681808758053,0.28412856101394296,0.537822206861096,-0.04600284475387438,-0.053655795869976354,0.41391161443126084,-0.053988560881355174,-0.3985712631763487,-0.04973130835083545,-0.054476769769454314,-0.07170454636530757,-0.05498060298860174,0.4361613889817119,0.49821946241080317,-0.056791268385987456,-0.04348360299575292,-0.18804939207122276,0.49327204361594573,0.47151850039036336,-0.04893999099131745,-0.05119750353424177,-0.049042516646620606,0.6166406892960274,-0.052126660760709535,-0.04755790687198493,-0.050523711929158846,0.47463433102664365,-0.05417940741004545,-0.04571747665537588,-0.050392274847795286,-0.05795288156590417,0.01937518420059588,-0.21523863103526616,-0.43149965042568633,0.5727360780720262,0.22733713069312475,-0.05411851861829021,0.5168152203386865,-0.04819624684404889,-0.22779501734017016,-0.4987807522074022,-0.19966921022182366,-0.49949002523591507,0.7103786023898957,0.32023275822832525,-0.05180935858084599,0.6867306513079565,-0.05256616955976163,0.43905235844539175,0.4593407083169515,-0.05362132568558548,-0.06230384209122353,-0.04651596172262143,-0.05386049359900686,-0.054216535579589865,-0.3732584719893504,-0.04938470799770314,-0.053847043160012084,-0.05605916205783853,0.37030442530298835,-0.5046333594944317,-0.05360349573194741,-0.5351094328393371,0.6922772420095261,-0.05446679581171173,-0.05231473669822427,-0.04791644110060214,-0.04828510012284943,-0.04940233624749628,-0.054121177900149864,0.6246708115019532,-0.05504645500419344,0.4435918561056108,-0.04945155487222282,-0.054267505870445425,-0.05258077052681719,-0.049023418996006755,-0.055994798944357,-0.2782597272093024,-0.3883093362797257,-0.3610215885550887,-0.5437340996110558,-0.49232043407945575,0.2594817697376952,-0.05019552811108063,-0.05186670401330414,-0.05244146756558737,-0.04922108407039623,-0.05413863314182473,-0.05049073206610358,-0.16713031274110024,-0.11686194489640417,-0.05116865101760797,-0.05414295151925533,-0.04599784727520501,-0.4826222422408628,0.22914143808997206,-0.0027757754745007697,-0.05089358178219954,-0.04711411249515347,-0.04659090001540359,-0.045745108953529116,-0.05284090525637686,-0.4712779104423456,-0.5232124959955585,-0.20437920301821222,0.33692079934354474,-0.05088177891220534,-0.05070357823543702,0.5908717866773924,-0.04813922232117082,0.1727842328280025,-0.4729396655699515,-0.05151187775355819,0.05753511428306511,-0.2865786929017015,0.6572087531603704,0.028217631486280398,-0.05202519397966031,0.5509013263629391,-0.12574155138312015,-0.04821142428520167,-0.05420008044972622,-0.34622361577191835,0.6839409178531174,-0.050881272356664946,-0.1605788350287893,0.3616416293247726,0.5883652983510909,-0.04586223724355369,0.655663935059589,-0.05163771874227068,0.4875429197021598,-0.05306653439155989,-0.0490083812027473,0.03698707576169522,-0.0518931924134138,-0.24284935563872193,-0.0523932895828154,0.5349479409535813,-0.057569161885634386,0.037786938298941725,0.4000169421246859,-0.044068562320236995,-0.17239222777000454,0.2989822073857397,-0.46439924596800014,0.4618876810126666,0.12715059600081371,-0.0498425517196235,0.1740230493431535,-0.05119103731565774,-0.05509043286993152,-0.054085558711065795,-0.05364461559962467,-0.05127086910964901,-0.049414632381844126,-0.47621422443071737,-0.15134382743220923,-0.05008390011959613,-0.05252110877170279,-0.04994165803444211,-0.05209552150901881,-0.05009195263971755,-0.14460546562360185,-0.052484153499922824,0.47792736323545304,0.24495423870770336,0.6613529550633827],\"yaxis\":\"y\",\"type\":\"scatter\"}],                        {\"template\":{\"data\":{\"histogram2dcontour\":[{\"type\":\"histogram2dcontour\",\"colorbar\":{\"outlinewidth\":0,\"ticks\":\"\"},\"colorscale\":[[0.0,\"#0d0887\"],[0.1111111111111111,\"#46039f\"],[0.2222222222222222,\"#7201a8\"],[0.3333333333333333,\"#9c179e\"],[0.4444444444444444,\"#bd3786\"],[0.5555555555555556,\"#d8576b\"],[0.6666666666666666,\"#ed7953\"],[0.7777777777777778,\"#fb9f3a\"],[0.8888888888888888,\"#fdca26\"],[1.0,\"#f0f921\"]]}],\"choropleth\":[{\"type\":\"choropleth\",\"colorbar\":{\"outlinewidth\":0,\"ticks\":\"\"}}],\"histogram2d\":[{\"type\":\"histogram2d\",\"colorbar\":{\"outlinewidth\":0,\"ticks\":\"\"},\"colorscale\":[[0.0,\"#0d0887\"],[0.1111111111111111,\"#46039f\"],[0.2222222222222222,\"#7201a8\"],[0.3333333333333333,\"#9c179e\"],[0.4444444444444444,\"#bd3786\"],[0.5555555555555556,\"#d8576b\"],[0.6666666666666666,\"#ed7953\"],[0.7777777777777778,\"#fb9f3a\"],[0.8888888888888888,\"#fdca26\"],[1.0,\"#f0f921\"]]}],\"heatmap\":[{\"type\":\"heatmap\",\"colorbar\":{\"outlinewidth\":0,\"ticks\":\"\"},\"colorscale\":[[0.0,\"#0d0887\"],[0.1111111111111111,\"#46039f\"],[0.2222222222222222,\"#7201a8\"],[0.3333333333333333,\"#9c179e\"],[0.4444444444444444,\"#bd3786\"],[0.5555555555555556,\"#d8576b\"],[0.6666666666666666,\"#ed7953\"],[0.7777777777777778,\"#fb9f3a\"],[0.8888888888888888,\"#fdca26\"],[1.0,\"#f0f921\"]]}],\"heatmapgl\":[{\"type\":\"heatmapgl\",\"colorbar\":{\"outlinewidth\":0,\"ticks\":\"\"},\"colorscale\":[[0.0,\"#0d0887\"],[0.1111111111111111,\"#46039f\"],[0.2222222222222222,\"#7201a8\"],[0.3333333333333333,\"#9c179e\"],[0.4444444444444444,\"#bd3786\"],[0.5555555555555556,\"#d8576b\"],[0.6666666666666666,\"#ed7953\"],[0.7777777777777778,\"#fb9f3a\"],[0.8888888888888888,\"#fdca26\"],[1.0,\"#f0f921\"]]}],\"contourcarpet\":[{\"type\":\"contourcarpet\",\"colorbar\":{\"outlinewidth\":0,\"ticks\":\"\"}}],\"contour\":[{\"type\":\"contour\",\"colorbar\":{\"outlinewidth\":0,\"ticks\":\"\"},\"colorscale\":[[0.0,\"#0d0887\"],[0.1111111111111111,\"#46039f\"],[0.2222222222222222,\"#7201a8\"],[0.3333333333333333,\"#9c179e\"],[0.4444444444444444,\"#bd3786\"],[0.5555555555555556,\"#d8576b\"],[0.6666666666666666,\"#ed7953\"],[0.7777777777777778,\"#fb9f3a\"],[0.8888888888888888,\"#fdca26\"],[1.0,\"#f0f921\"]]}],\"surface\":[{\"type\":\"surface\",\"colorbar\":{\"outlinewidth\":0,\"ticks\":\"\"},\"colorscale\":[[0.0,\"#0d0887\"],[0.1111111111111111,\"#46039f\"],[0.2222222222222222,\"#7201a8\"],[0.3333333333333333,\"#9c179e\"],[0.4444444444444444,\"#bd3786\"],[0.5555555555555556,\"#d8576b\"],[0.6666666666666666,\"#ed7953\"],[0.7777777777777778,\"#fb9f3a\"],[0.8888888888888888,\"#fdca26\"],[1.0,\"#f0f921\"]]}],\"mesh3d\":[{\"type\":\"mesh3d\",\"colorbar\":{\"outlinewidth\":0,\"ticks\":\"\"}}],\"scatter\":[{\"fillpattern\":{\"fillmode\":\"overlay\",\"size\":10,\"solidity\":0.2},\"type\":\"scatter\"}],\"parcoords\":[{\"type\":\"parcoords\",\"line\":{\"colorbar\":{\"outlinewidth\":0,\"ticks\":\"\"}}}],\"scatterpolargl\":[{\"type\":\"scatterpolargl\",\"marker\":{\"colorbar\":{\"outlinewidth\":0,\"ticks\":\"\"}}}],\"bar\":[{\"error_x\":{\"color\":\"#2a3f5f\"},\"error_y\":{\"color\":\"#2a3f5f\"},\"marker\":{\"line\":{\"color\":\"#E5ECF6\",\"width\":0.5},\"pattern\":{\"fillmode\":\"overlay\",\"size\":10,\"solidity\":0.2}},\"type\":\"bar\"}],\"scattergeo\":[{\"type\":\"scattergeo\",\"marker\":{\"colorbar\":{\"outlinewidth\":0,\"ticks\":\"\"}}}],\"scatterpolar\":[{\"type\":\"scatterpolar\",\"marker\":{\"colorbar\":{\"outlinewidth\":0,\"ticks\":\"\"}}}],\"histogram\":[{\"marker\":{\"pattern\":{\"fillmode\":\"overlay\",\"size\":10,\"solidity\":0.2}},\"type\":\"histogram\"}],\"scattergl\":[{\"type\":\"scattergl\",\"marker\":{\"colorbar\":{\"outlinewidth\":0,\"ticks\":\"\"}}}],\"scatter3d\":[{\"type\":\"scatter3d\",\"line\":{\"colorbar\":{\"outlinewidth\":0,\"ticks\":\"\"}},\"marker\":{\"colorbar\":{\"outlinewidth\":0,\"ticks\":\"\"}}}],\"scattermapbox\":[{\"type\":\"scattermapbox\",\"marker\":{\"colorbar\":{\"outlinewidth\":0,\"ticks\":\"\"}}}],\"scatterternary\":[{\"type\":\"scatterternary\",\"marker\":{\"colorbar\":{\"outlinewidth\":0,\"ticks\":\"\"}}}],\"scattercarpet\":[{\"type\":\"scattercarpet\",\"marker\":{\"colorbar\":{\"outlinewidth\":0,\"ticks\":\"\"}}}],\"carpet\":[{\"aaxis\":{\"endlinecolor\":\"#2a3f5f\",\"gridcolor\":\"white\",\"linecolor\":\"white\",\"minorgridcolor\":\"white\",\"startlinecolor\":\"#2a3f5f\"},\"baxis\":{\"endlinecolor\":\"#2a3f5f\",\"gridcolor\":\"white\",\"linecolor\":\"white\",\"minorgridcolor\":\"white\",\"startlinecolor\":\"#2a3f5f\"},\"type\":\"carpet\"}],\"table\":[{\"cells\":{\"fill\":{\"color\":\"#EBF0F8\"},\"line\":{\"color\":\"white\"}},\"header\":{\"fill\":{\"color\":\"#C8D4E3\"},\"line\":{\"color\":\"white\"}},\"type\":\"table\"}],\"barpolar\":[{\"marker\":{\"line\":{\"color\":\"#E5ECF6\",\"width\":0.5},\"pattern\":{\"fillmode\":\"overlay\",\"size\":10,\"solidity\":0.2}},\"type\":\"barpolar\"}],\"pie\":[{\"automargin\":true,\"type\":\"pie\"}]},\"layout\":{\"autotypenumbers\":\"strict\",\"colorway\":[\"#636efa\",\"#EF553B\",\"#00cc96\",\"#ab63fa\",\"#FFA15A\",\"#19d3f3\",\"#FF6692\",\"#B6E880\",\"#FF97FF\",\"#FECB52\"],\"font\":{\"color\":\"#2a3f5f\"},\"hovermode\":\"closest\",\"hoverlabel\":{\"align\":\"left\"},\"paper_bgcolor\":\"white\",\"plot_bgcolor\":\"#E5ECF6\",\"polar\":{\"bgcolor\":\"#E5ECF6\",\"angularaxis\":{\"gridcolor\":\"white\",\"linecolor\":\"white\",\"ticks\":\"\"},\"radialaxis\":{\"gridcolor\":\"white\",\"linecolor\":\"white\",\"ticks\":\"\"}},\"ternary\":{\"bgcolor\":\"#E5ECF6\",\"aaxis\":{\"gridcolor\":\"white\",\"linecolor\":\"white\",\"ticks\":\"\"},\"baxis\":{\"gridcolor\":\"white\",\"linecolor\":\"white\",\"ticks\":\"\"},\"caxis\":{\"gridcolor\":\"white\",\"linecolor\":\"white\",\"ticks\":\"\"}},\"coloraxis\":{\"colorbar\":{\"outlinewidth\":0,\"ticks\":\"\"}},\"colorscale\":{\"sequential\":[[0.0,\"#0d0887\"],[0.1111111111111111,\"#46039f\"],[0.2222222222222222,\"#7201a8\"],[0.3333333333333333,\"#9c179e\"],[0.4444444444444444,\"#bd3786\"],[0.5555555555555556,\"#d8576b\"],[0.6666666666666666,\"#ed7953\"],[0.7777777777777778,\"#fb9f3a\"],[0.8888888888888888,\"#fdca26\"],[1.0,\"#f0f921\"]],\"sequentialminus\":[[0.0,\"#0d0887\"],[0.1111111111111111,\"#46039f\"],[0.2222222222222222,\"#7201a8\"],[0.3333333333333333,\"#9c179e\"],[0.4444444444444444,\"#bd3786\"],[0.5555555555555556,\"#d8576b\"],[0.6666666666666666,\"#ed7953\"],[0.7777777777777778,\"#fb9f3a\"],[0.8888888888888888,\"#fdca26\"],[1.0,\"#f0f921\"]],\"diverging\":[[0,\"#8e0152\"],[0.1,\"#c51b7d\"],[0.2,\"#de77ae\"],[0.3,\"#f1b6da\"],[0.4,\"#fde0ef\"],[0.5,\"#f7f7f7\"],[0.6,\"#e6f5d0\"],[0.7,\"#b8e186\"],[0.8,\"#7fbc41\"],[0.9,\"#4d9221\"],[1,\"#276419\"]]},\"xaxis\":{\"gridcolor\":\"white\",\"linecolor\":\"white\",\"ticks\":\"\",\"title\":{\"standoff\":15},\"zerolinecolor\":\"white\",\"automargin\":true,\"zerolinewidth\":2},\"yaxis\":{\"gridcolor\":\"white\",\"linecolor\":\"white\",\"ticks\":\"\",\"title\":{\"standoff\":15},\"zerolinecolor\":\"white\",\"automargin\":true,\"zerolinewidth\":2},\"scene\":{\"xaxis\":{\"backgroundcolor\":\"#E5ECF6\",\"gridcolor\":\"white\",\"linecolor\":\"white\",\"showbackground\":true,\"ticks\":\"\",\"zerolinecolor\":\"white\",\"gridwidth\":2},\"yaxis\":{\"backgroundcolor\":\"#E5ECF6\",\"gridcolor\":\"white\",\"linecolor\":\"white\",\"showbackground\":true,\"ticks\":\"\",\"zerolinecolor\":\"white\",\"gridwidth\":2},\"zaxis\":{\"backgroundcolor\":\"#E5ECF6\",\"gridcolor\":\"white\",\"linecolor\":\"white\",\"showbackground\":true,\"ticks\":\"\",\"zerolinecolor\":\"white\",\"gridwidth\":2}},\"shapedefaults\":{\"line\":{\"color\":\"#2a3f5f\"}},\"annotationdefaults\":{\"arrowcolor\":\"#2a3f5f\",\"arrowhead\":0,\"arrowwidth\":1},\"geo\":{\"bgcolor\":\"white\",\"landcolor\":\"#E5ECF6\",\"subunitcolor\":\"white\",\"showland\":true,\"showlakes\":true,\"lakecolor\":\"white\"},\"title\":{\"x\":0.05},\"mapbox\":{\"style\":\"light\"}}},\"xaxis\":{\"anchor\":\"y\",\"domain\":[0.0,1.0],\"title\":{\"text\":\"Principal Component 1\"}},\"yaxis\":{\"anchor\":\"x\",\"domain\":[0.0,1.0],\"title\":{\"text\":\"Principal Component 2\"}},\"coloraxis\":{\"colorbar\":{\"title\":{\"text\":\"color\"}},\"colorscale\":[[0.0,\"rgb(0,0,255)\"],[1.0,\"rgb(255,0,0)\"]],\"showscale\":false},\"legend\":{\"tracegroupgap\":0},\"margin\":{\"t\":60},\"width\":600,\"height\":400,\"title\":{\"text\":\"Concentric Circles Data (Kernel PCA: 2 components)\"}},                        {\"responsive\": true}                    ).then(function(){\n",
       "                            \n",
       "var gd = document.getElementById('fd4c22bd-37c6-475d-9cdd-c36390f1c161');\n",
       "var x = new MutationObserver(function (mutations, observer) {{\n",
       "        var display = window.getComputedStyle(gd).display;\n",
       "        if (!display || display === 'none') {{\n",
       "            console.log([gd, 'removed!']);\n",
       "            Plotly.purge(gd);\n",
       "            observer.disconnect();\n",
       "        }}\n",
       "}});\n",
       "\n",
       "// Listen for the removal of the full notebook cells\n",
       "var notebookContainer = gd.closest('#notebook-container');\n",
       "if (notebookContainer) {{\n",
       "    x.observe(notebookContainer, {childList: true});\n",
       "}}\n",
       "\n",
       "// Listen for the clearing of the current output cell\n",
       "var outputEl = gd.closest('.output');\n",
       "if (outputEl) {{\n",
       "    x.observe(outputEl, {childList: true});\n",
       "}}\n",
       "\n",
       "                        })                };                });            </script>        </div>"
      ]
     },
     "metadata": {},
     "output_type": "display_data"
    }
   ],
   "source": [
    "# Plotting the transformed data in a two principal component space\n",
    "figCK2 = px.scatter(x=dataCK[:, 0], y=dataCK[:, 1], \n",
    "                   color=yc, color_continuous_scale='bluered')\n",
    "figCK2.update_traces(marker=dict(size=8, opacity=0.6))\n",
    "figCK2.update_layout(coloraxis_showscale=False, \n",
    "                    width=600, height=400, \n",
    "                    xaxis_title='Principal Component 1', \n",
    "                    yaxis_title='Principal Component 2',  \n",
    "                    title='Concentric Circles Data (Kernel PCA: 2 components)')\n",
    "figCK2.show()"
   ]
  },
  {
   "cell_type": "code",
   "execution_count": 22,
   "metadata": {},
   "outputs": [
    {
     "data": {
      "application/vnd.plotly.v1+json": {
       "config": {
        "plotlyServerURL": "https://plot.ly"
       },
       "data": [
        {
         "hovertemplate": "x=%{x}<br>y=%{y}<br>color=%{marker.color}<extra></extra>",
         "legendgroup": "",
         "marker": {
          "color": [
           1,
           0,
           1,
           0,
           1,
           1,
           0,
           1,
           1,
           0,
           0,
           1,
           1,
           0,
           0,
           1,
           0,
           0,
           0,
           0,
           0,
           1,
           0,
           0,
           0,
           0,
           0,
           1,
           1,
           1,
           0,
           0,
           1,
           0,
           1,
           1,
           1,
           1,
           0,
           1,
           1,
           1,
           1,
           0,
           1,
           0,
           1,
           1,
           1,
           1,
           0,
           0,
           1,
           1,
           1,
           0,
           0,
           1,
           0,
           0,
           0,
           0,
           0,
           1,
           1,
           1,
           0,
           1,
           0,
           0,
           0,
           1,
           1,
           0,
           1,
           0,
           1,
           1,
           0,
           1,
           0,
           1,
           0,
           1,
           0,
           1,
           1,
           1,
           0,
           0,
           1,
           1,
           1,
           1,
           0,
           1,
           1,
           1,
           0,
           0,
           0,
           1,
           0,
           0,
           0,
           1,
           1,
           0,
           0,
           1,
           0,
           0,
           0,
           0,
           1,
           0,
           1,
           0,
           1,
           0,
           0,
           0,
           0,
           1,
           1,
           0,
           0,
           0,
           1,
           0,
           0,
           1,
           0,
           0,
           1,
           1,
           0,
           0,
           0,
           0,
           0,
           1,
           1,
           1,
           0,
           1,
           1,
           1,
           1,
           1,
           0,
           0,
           0,
           1,
           0,
           0,
           1,
           0,
           0,
           0,
           0,
           1,
           1,
           1,
           0,
           0,
           0,
           0,
           0,
           1,
           1,
           0,
           0,
           1,
           0,
           1,
           1,
           1,
           1,
           1,
           0,
           0,
           1,
           0,
           1,
           0,
           1,
           1,
           1,
           0,
           1,
           1,
           1,
           0,
           1,
           1,
           1,
           0,
           0,
           0,
           1,
           0,
           1,
           1,
           1,
           0,
           0,
           0,
           1,
           1,
           0,
           1,
           0,
           0,
           0,
           1,
           1,
           0,
           0,
           0,
           0,
           1,
           1,
           1,
           1,
           1,
           0,
           1,
           1,
           1,
           0,
           1,
           1,
           1,
           0,
           0,
           1,
           0,
           1,
           0,
           0,
           1,
           0,
           1,
           1,
           0,
           0,
           1,
           1,
           1,
           0,
           0,
           1,
           1,
           0,
           0,
           0,
           1,
           0,
           0,
           0,
           0,
           1,
           1,
           1,
           1,
           1,
           0,
           1,
           0,
           1,
           1,
           1,
           1,
           1,
           1,
           0,
           1,
           0,
           1,
           1,
           0,
           1,
           0,
           0,
           0,
           1,
           0,
           0,
           0,
           1,
           1,
           0,
           1,
           1,
           0,
           0,
           0,
           0,
           0,
           0,
           1,
           0,
           1,
           0,
           0,
           0,
           0,
           0,
           1,
           1,
           1,
           1,
           1,
           1,
           0,
           0,
           0,
           0,
           0,
           0,
           1,
           1,
           0,
           0,
           0,
           1,
           1,
           1,
           0,
           0,
           0,
           0,
           0,
           1,
           1,
           1,
           1,
           0,
           0,
           1,
           0,
           1,
           1,
           0,
           1,
           1,
           1,
           1,
           0,
           1,
           1,
           0,
           0,
           1,
           1,
           0,
           1,
           1,
           1,
           0,
           1,
           0,
           1,
           0,
           0,
           1,
           0,
           1,
           0,
           1,
           0,
           1,
           1,
           0,
           1,
           1,
           1,
           1,
           1,
           0,
           1,
           0,
           0,
           0,
           0,
           0,
           0,
           1,
           1,
           0,
           0,
           0,
           0,
           0,
           1,
           0,
           1,
           1,
           1
          ],
          "coloraxis": "coloraxis",
          "opacity": 0.6,
          "size": 8,
          "symbol": "circle"
         },
         "mode": "markers",
         "name": "",
         "orientation": "v",
         "showlegend": false,
         "type": "scatter",
         "x": [
          0.4360778372540796,
          -0.319857477644242,
          0.35442727608402147,
          -0.3177444248783359,
          -0.01495048069623847,
          0.146217909211516,
          -0.28834961401679504,
          0.426821066435362,
          0.3338790715945707,
          -0.3252404192221829,
          -0.30433640488532576,
          0.612125719535437,
          0.2486024401526418,
          -0.302112224668215,
          -0.2942062998104593,
          -0.07027946662105863,
          -0.3165622851903936,
          -0.3167195067046023,
          -0.31544473159408243,
          -0.31871273328245897,
          -0.32984669952923434,
          0.46228616985019116,
          -0.3140041147124626,
          -0.31068370657161504,
          -0.30117055148594407,
          -0.3213034718305502,
          -0.32369825976506933,
          0.4646337063332275,
          0.6286020440557789,
          0.6131322634694316,
          -0.2819535425298352,
          -0.3049920297246774,
          0.11409722633764231,
          -0.32513316899202216,
          0.14019162971287932,
          0.4422593866280254,
          0.010562389906333573,
          0.3986794559119852,
          -0.3217209322672871,
          0.25286915979356095,
          0.14073228860448594,
          0.5277494632814594,
          0.18261383800281528,
          -0.3096465930729824,
          0.3789999981714698,
          -0.3002434382067766,
          0.2029800191695436,
          0.38865019489081254,
          0.3744013622686896,
          0.4520221151962198,
          -0.30876009585247777,
          -0.2936052678180874,
          0.46509837079786437,
          0.1798226015375099,
          0.5230474117708306,
          -0.3060101305077141,
          -0.29260343219136825,
          0.03666704696326711,
          -0.3170152460776112,
          -0.32744375958126226,
          -0.30997822309305056,
          -0.277009300174688,
          -0.30224744233382217,
          0.39384388279879007,
          0.3765096971160677,
          0.5244054959660114,
          -0.32582004931266845,
          0.043557588697436665,
          -0.30407293540328273,
          -0.30650735890049424,
          -0.3235879651991904,
          0.18455772717077962,
          0.21912649899421735,
          -0.31258858915294574,
          0.49241239315389074,
          -0.29611288365197375,
          0.3928971827516071,
          -0.03553734955137889,
          -0.3203046827910813,
          0.1330750127658419,
          -0.2970799598846064,
          0.2820191336481108,
          -0.3127091582738264,
          -0.05074659565875568,
          -0.32798474091985874,
          0.05572723009770091,
          0.1421300477872285,
          -0.04776859857093812,
          -0.32021433133973903,
          -0.2895390303194853,
          0.3831483338617213,
          0.22143642498156757,
          0.011443525024066993,
          0.32400972708638465,
          -0.33640685380483304,
          0.47636938809501167,
          0.5419495883257726,
          -0.036306729358801935,
          -0.3229340599125381,
          -0.26435193913491095,
          -0.29309602965668524,
          0.478207845612372,
          -0.3166916768988451,
          -0.3121079802871435,
          -0.3166499049835603,
          0.36624185926929564,
          0.35040555025023506,
          -0.2826727796506693,
          -0.30938754413169844,
          0.6124329642284184,
          -0.3055166502749329,
          -0.3315488362884659,
          -0.31532459839917093,
          -0.309065716363173,
          0.34394425424106806,
          -0.32632828023938415,
          0.45405422393056427,
          -0.31744782053568404,
          0.5269283494873731,
          -0.2984134758844344,
          -0.3007160031254922,
          -0.2675026518981126,
          -0.33466229120997365,
          0.6358517293740422,
          0.3848212270366641,
          -0.2940664736340182,
          -0.29131483420492144,
          -0.31946021505747674,
          0.09048951501952669,
          -0.30205524453569016,
          -0.3256225655407875,
          0.4391222362828708,
          -0.2989617306658096,
          -0.30096717961808167,
          0.5376787083461819,
          0.16763851434910912,
          -0.306758746955393,
          -0.33269894788081755,
          -0.32119418270486305,
          -0.3149133968518854,
          -0.2984191369893994,
          -0.0004886572946871852,
          0.37711714490234116,
          0.6302255835620864,
          -0.3260121603360244,
          0.6476554307574499,
          0.31456733175657975,
          0.04700344064085273,
          0.3172324671539159,
          0.6255631364238203,
          -0.2965082723402596,
          -0.3128489333838667,
          -0.3080537255348718,
          0.09815555085811037,
          -0.29078880800555773,
          -0.32608287714725936,
          0.2339301935255898,
          -0.3236650016456989,
          -0.3026306833989269,
          -0.32740034509552296,
          -0.29232024495205283,
          0.47888347600290493,
          0.30921404030238314,
          0.24127815472723754,
          -0.2887833192941286,
          -0.30162849394780616,
          -0.29669920048584636,
          -0.3222042093428669,
          -0.31729117702080806,
          0.14700654376890915,
          0.22698910260909852,
          -0.31989271239397654,
          -0.3117964284139905,
          0.08908746842859597,
          -0.3273058504254455,
          0.11533841577270416,
          0.013859279518941862,
          0.6430032259339645,
          0.17822963043489148,
          0.6022765453787648,
          -0.312459182745532,
          -0.3153378812231838,
          0.5996463073904844,
          -0.31533524327527096,
          0.29382696365260613,
          -0.3051042982186321,
          0.6103777386033552,
          0.5190891214086967,
          0.2626894414159738,
          -0.32160138436882924,
          0.09684359268152767,
          0.4346534831249982,
          0.6309724015243553,
          -0.3276080867132687,
          0.4978029129617642,
          0.3929952618889942,
          0.6406861385023819,
          -0.31941946682581684,
          -0.3194450829778318,
          -0.30685478699479884,
          -0.07558469950699427,
          -0.2956512303753296,
          0.3824690083848443,
          0.5378249060373912,
          0.03735950040629332,
          -0.3010258230233847,
          -0.315009153143955,
          -0.3049766503866264,
          0.4769239439225801,
          0.1656640443294675,
          -0.3292167322080722,
          0.20936226213661305,
          -0.31650109268327986,
          -0.3356278339570891,
          -0.3197055332500485,
          0.22534556527841282,
          0.030487658078901123,
          -0.2989240424834898,
          -0.32110104430817177,
          -0.32514248748894187,
          -0.2713751905879748,
          0.5467222785372099,
          0.5937110929280797,
          0.20378408648346852,
          0.2154899905529809,
          0.015605712358622341,
          -0.31910762808403975,
          0.42472510483280673,
          0.3603136570565826,
          0.3868221749967688,
          -0.2993066881173508,
          0.3069736258829424,
          0.4357464703119927,
          0.4045710690317641,
          -0.28661580341763515,
          -0.31887346167586383,
          0.4213322954828225,
          -0.3208463006835075,
          0.3001520292637492,
          -0.3023598815594896,
          -0.3246252911022324,
          0.2602682271730512,
          -0.32400092675761566,
          0.4933641874155365,
          0.4556030228731874,
          -0.3316301806109234,
          -0.2750518934022072,
          0.5925113454214905,
          0.20014261159094401,
          0.1230864968567394,
          -0.3014152280074842,
          -0.3119922203140924,
          0.4133848851674536,
          0.07378808776202665,
          -0.3168497955712295,
          -0.29428178013893314,
          -0.30558496666132406,
          -0.04264178253100438,
          -0.32556164895728196,
          -0.284516209727232,
          -0.3055948506247351,
          -0.33663686627125783,
          0.608226593079725,
          0.6484532699292186,
          0.20592493168467382,
          -0.01054521882672955,
          -0.18918754942059154,
          -0.3070252690552047,
          0.3444153946236459,
          -0.30824428180170493,
          0.027427208636650918,
          0.549117625260372,
          0.6491658260466476,
          0.22861389703445525,
          0.2703088064375806,
          -0.04296958025349887,
          -0.3132534228640032,
          0.08132350394423815,
          -0.3126704194560104,
          0.31150865943541417,
          -0.029762327058527698,
          -0.31723516047293204,
          0.6450737415925241,
          -0.2885090791160058,
          -0.31797858406004875,
          -0.31896697109817745,
          0.5786059258508819,
          -0.30080530089041996,
          -0.32540764708574826,
          -0.3282765120644975,
          -0.09561505803243842,
          0.21928510153431555,
          -0.3047110031538612,
          0.2568921891127418,
          0.11785388405915029,
          -0.3186487431150957,
          -0.30595713186805246,
          -0.29561756849787635,
          -0.3100966680784084,
          -0.30086102711049445,
          -0.3206262482425363,
          0.05526759330807164,
          -0.32817480993282017,
          0.11198775839921742,
          -0.30137890707068415,
          -0.32489517978722626,
          -0.31332745267911727,
          -0.2989951349364196,
          -0.32775928828636336,
          0.6476790972567721,
          0.6148769571672819,
          0.2809163818881479,
          0.3118998517347056,
          0.39917365605229654,
          0.2276075874563695,
          -0.3056410956916121,
          -0.3133644725255775,
          -0.3149837112273251,
          -0.2994279131654596,
          -0.319975764539336,
          -0.3023006361985664,
          0.5825134233671617,
          0.5410209042786198,
          -0.307903116816954,
          -0.32012986144512573,
          -0.28626859285733713,
          0.45096849816126444,
          0.046244999778947304,
          0.24729252298097404,
          -0.2930717377675826,
          -0.29512753661346,
          -0.290434523000661,
          -0.28493214990964044,
          -0.3183272764258869,
          0.39126965675105246,
          0.2659675883183613,
          0.6538459239048581,
          0.331678221927904,
          -0.31168072344685066,
          -0.30577813894625844,
          0.31972282841974525,
          -0.307978895801284,
          0.5780060932846725,
          0.4273086713630293,
          -0.3135228285305501,
          0.3498321955038343,
          0.6444604989495875,
          0.28932760593182877,
          0.4169766572556032,
          -0.3085070371081327,
          0.3827266664591106,
          0.07054615949447454,
          -0.29789118067650355,
          -0.315771639729919,
          0.40404221987325883,
          0.21449202204162612,
          -0.30822718518980885,
          0.1752207202382687,
          -0.14352295051845634,
          0.14249356616866857,
          -0.28711809218880485,
          0.33706708949965714,
          -0.310177413263083,
          -0.034432345969999056,
          -0.31774712331168836,
          -0.3017113790618198,
          0.53496198231491,
          -0.31047779818857796,
          0.18054179828742684,
          -0.31200614330420684,
          0.11172505187535008,
          -0.3349451006485456,
          0.1879861650067018,
          0.41303934546703663,
          -0.2773461125929818,
          0.5364950192672631,
          0.17281871022254963,
          0.41318460211750474,
          0.46073641154183775,
          0.6260848480529497,
          -0.3044559680740038,
          -0.007334737792559203,
          -0.3048372314900374,
          -0.31937433604777443,
          -0.31971825435041307,
          -0.31945812016712904,
          -0.3118977422368137,
          -0.30169035888086715,
          0.41246529028640966,
          0.01348626752891515,
          -0.30152161794571936,
          -0.32166795858436403,
          -0.3046515292143403,
          -0.31130618670204363,
          -0.2958008968323279,
          0.2201565642038879,
          -0.3131130456749465,
          0.1605784853794095,
          0.36363736044817374,
          0.278737355214678
         ],
         "xaxis": "x",
         "y": [
          0,
          0,
          0,
          0,
          0,
          0,
          0,
          0,
          0,
          0,
          0,
          0,
          0,
          0,
          0,
          0,
          0,
          0,
          0,
          0,
          0,
          0,
          0,
          0,
          0,
          0,
          0,
          0,
          0,
          0,
          0,
          0,
          0,
          0,
          0,
          0,
          0,
          0,
          0,
          0,
          0,
          0,
          0,
          0,
          0,
          0,
          0,
          0,
          0,
          0,
          0,
          0,
          0,
          0,
          0,
          0,
          0,
          0,
          0,
          0,
          0,
          0,
          0,
          0,
          0,
          0,
          0,
          0,
          0,
          0,
          0,
          0,
          0,
          0,
          0,
          0,
          0,
          0,
          0,
          0,
          0,
          0,
          0,
          0,
          0,
          0,
          0,
          0,
          0,
          0,
          0,
          0,
          0,
          0,
          0,
          0,
          0,
          0,
          0,
          0,
          0,
          0,
          0,
          0,
          0,
          0,
          0,
          0,
          0,
          0,
          0,
          0,
          0,
          0,
          0,
          0,
          0,
          0,
          0,
          0,
          0,
          0,
          0,
          0,
          0,
          0,
          0,
          0,
          0,
          0,
          0,
          0,
          0,
          0,
          0,
          0,
          0,
          0,
          0,
          0,
          0,
          0,
          0,
          0,
          0,
          0,
          0,
          0,
          0,
          0,
          0,
          0,
          0,
          0,
          0,
          0,
          0,
          0,
          0,
          0,
          0,
          0,
          0,
          0,
          0,
          0,
          0,
          0,
          0,
          0,
          0,
          0,
          0,
          0,
          0,
          0,
          0,
          0,
          0,
          0,
          0,
          0,
          0,
          0,
          0,
          0,
          0,
          0,
          0,
          0,
          0,
          0,
          0,
          0,
          0,
          0,
          0,
          0,
          0,
          0,
          0,
          0,
          0,
          0,
          0,
          0,
          0,
          0,
          0,
          0,
          0,
          0,
          0,
          0,
          0,
          0,
          0,
          0,
          0,
          0,
          0,
          0,
          0,
          0,
          0,
          0,
          0,
          0,
          0,
          0,
          0,
          0,
          0,
          0,
          0,
          0,
          0,
          0,
          0,
          0,
          0,
          0,
          0,
          0,
          0,
          0,
          0,
          0,
          0,
          0,
          0,
          0,
          0,
          0,
          0,
          0,
          0,
          0,
          0,
          0,
          0,
          0,
          0,
          0,
          0,
          0,
          0,
          0,
          0,
          0,
          0,
          0,
          0,
          0,
          0,
          0,
          0,
          0,
          0,
          0,
          0,
          0,
          0,
          0,
          0,
          0,
          0,
          0,
          0,
          0,
          0,
          0,
          0,
          0,
          0,
          0,
          0,
          0,
          0,
          0,
          0,
          0,
          0,
          0,
          0,
          0,
          0,
          0,
          0,
          0,
          0,
          0,
          0,
          0,
          0,
          0,
          0,
          0,
          0,
          0,
          0,
          0,
          0,
          0,
          0,
          0,
          0,
          0,
          0,
          0,
          0,
          0,
          0,
          0,
          0,
          0,
          0,
          0,
          0,
          0,
          0,
          0,
          0,
          0,
          0,
          0,
          0,
          0,
          0,
          0,
          0,
          0,
          0,
          0,
          0,
          0,
          0,
          0,
          0,
          0,
          0,
          0,
          0,
          0,
          0,
          0,
          0,
          0,
          0,
          0,
          0,
          0,
          0,
          0,
          0,
          0,
          0,
          0,
          0,
          0,
          0,
          0,
          0,
          0,
          0,
          0,
          0,
          0,
          0,
          0,
          0,
          0,
          0,
          0,
          0,
          0,
          0,
          0,
          0,
          0
         ],
         "yaxis": "y"
        }
       ],
       "layout": {
        "coloraxis": {
         "colorbar": {
          "title": {
           "text": "color"
          }
         },
         "colorscale": [
          [
           0,
           "rgb(0,0,255)"
          ],
          [
           1,
           "rgb(255,0,0)"
          ]
         ],
         "showscale": false
        },
        "height": 400,
        "legend": {
         "tracegroupgap": 0
        },
        "margin": {
         "t": 60
        },
        "template": {
         "data": {
          "bar": [
           {
            "error_x": {
             "color": "#2a3f5f"
            },
            "error_y": {
             "color": "#2a3f5f"
            },
            "marker": {
             "line": {
              "color": "#E5ECF6",
              "width": 0.5
             },
             "pattern": {
              "fillmode": "overlay",
              "size": 10,
              "solidity": 0.2
             }
            },
            "type": "bar"
           }
          ],
          "barpolar": [
           {
            "marker": {
             "line": {
              "color": "#E5ECF6",
              "width": 0.5
             },
             "pattern": {
              "fillmode": "overlay",
              "size": 10,
              "solidity": 0.2
             }
            },
            "type": "barpolar"
           }
          ],
          "carpet": [
           {
            "aaxis": {
             "endlinecolor": "#2a3f5f",
             "gridcolor": "white",
             "linecolor": "white",
             "minorgridcolor": "white",
             "startlinecolor": "#2a3f5f"
            },
            "baxis": {
             "endlinecolor": "#2a3f5f",
             "gridcolor": "white",
             "linecolor": "white",
             "minorgridcolor": "white",
             "startlinecolor": "#2a3f5f"
            },
            "type": "carpet"
           }
          ],
          "choropleth": [
           {
            "colorbar": {
             "outlinewidth": 0,
             "ticks": ""
            },
            "type": "choropleth"
           }
          ],
          "contour": [
           {
            "colorbar": {
             "outlinewidth": 0,
             "ticks": ""
            },
            "colorscale": [
             [
              0,
              "#0d0887"
             ],
             [
              0.1111111111111111,
              "#46039f"
             ],
             [
              0.2222222222222222,
              "#7201a8"
             ],
             [
              0.3333333333333333,
              "#9c179e"
             ],
             [
              0.4444444444444444,
              "#bd3786"
             ],
             [
              0.5555555555555556,
              "#d8576b"
             ],
             [
              0.6666666666666666,
              "#ed7953"
             ],
             [
              0.7777777777777778,
              "#fb9f3a"
             ],
             [
              0.8888888888888888,
              "#fdca26"
             ],
             [
              1,
              "#f0f921"
             ]
            ],
            "type": "contour"
           }
          ],
          "contourcarpet": [
           {
            "colorbar": {
             "outlinewidth": 0,
             "ticks": ""
            },
            "type": "contourcarpet"
           }
          ],
          "heatmap": [
           {
            "colorbar": {
             "outlinewidth": 0,
             "ticks": ""
            },
            "colorscale": [
             [
              0,
              "#0d0887"
             ],
             [
              0.1111111111111111,
              "#46039f"
             ],
             [
              0.2222222222222222,
              "#7201a8"
             ],
             [
              0.3333333333333333,
              "#9c179e"
             ],
             [
              0.4444444444444444,
              "#bd3786"
             ],
             [
              0.5555555555555556,
              "#d8576b"
             ],
             [
              0.6666666666666666,
              "#ed7953"
             ],
             [
              0.7777777777777778,
              "#fb9f3a"
             ],
             [
              0.8888888888888888,
              "#fdca26"
             ],
             [
              1,
              "#f0f921"
             ]
            ],
            "type": "heatmap"
           }
          ],
          "heatmapgl": [
           {
            "colorbar": {
             "outlinewidth": 0,
             "ticks": ""
            },
            "colorscale": [
             [
              0,
              "#0d0887"
             ],
             [
              0.1111111111111111,
              "#46039f"
             ],
             [
              0.2222222222222222,
              "#7201a8"
             ],
             [
              0.3333333333333333,
              "#9c179e"
             ],
             [
              0.4444444444444444,
              "#bd3786"
             ],
             [
              0.5555555555555556,
              "#d8576b"
             ],
             [
              0.6666666666666666,
              "#ed7953"
             ],
             [
              0.7777777777777778,
              "#fb9f3a"
             ],
             [
              0.8888888888888888,
              "#fdca26"
             ],
             [
              1,
              "#f0f921"
             ]
            ],
            "type": "heatmapgl"
           }
          ],
          "histogram": [
           {
            "marker": {
             "pattern": {
              "fillmode": "overlay",
              "size": 10,
              "solidity": 0.2
             }
            },
            "type": "histogram"
           }
          ],
          "histogram2d": [
           {
            "colorbar": {
             "outlinewidth": 0,
             "ticks": ""
            },
            "colorscale": [
             [
              0,
              "#0d0887"
             ],
             [
              0.1111111111111111,
              "#46039f"
             ],
             [
              0.2222222222222222,
              "#7201a8"
             ],
             [
              0.3333333333333333,
              "#9c179e"
             ],
             [
              0.4444444444444444,
              "#bd3786"
             ],
             [
              0.5555555555555556,
              "#d8576b"
             ],
             [
              0.6666666666666666,
              "#ed7953"
             ],
             [
              0.7777777777777778,
              "#fb9f3a"
             ],
             [
              0.8888888888888888,
              "#fdca26"
             ],
             [
              1,
              "#f0f921"
             ]
            ],
            "type": "histogram2d"
           }
          ],
          "histogram2dcontour": [
           {
            "colorbar": {
             "outlinewidth": 0,
             "ticks": ""
            },
            "colorscale": [
             [
              0,
              "#0d0887"
             ],
             [
              0.1111111111111111,
              "#46039f"
             ],
             [
              0.2222222222222222,
              "#7201a8"
             ],
             [
              0.3333333333333333,
              "#9c179e"
             ],
             [
              0.4444444444444444,
              "#bd3786"
             ],
             [
              0.5555555555555556,
              "#d8576b"
             ],
             [
              0.6666666666666666,
              "#ed7953"
             ],
             [
              0.7777777777777778,
              "#fb9f3a"
             ],
             [
              0.8888888888888888,
              "#fdca26"
             ],
             [
              1,
              "#f0f921"
             ]
            ],
            "type": "histogram2dcontour"
           }
          ],
          "mesh3d": [
           {
            "colorbar": {
             "outlinewidth": 0,
             "ticks": ""
            },
            "type": "mesh3d"
           }
          ],
          "parcoords": [
           {
            "line": {
             "colorbar": {
              "outlinewidth": 0,
              "ticks": ""
             }
            },
            "type": "parcoords"
           }
          ],
          "pie": [
           {
            "automargin": true,
            "type": "pie"
           }
          ],
          "scatter": [
           {
            "fillpattern": {
             "fillmode": "overlay",
             "size": 10,
             "solidity": 0.2
            },
            "type": "scatter"
           }
          ],
          "scatter3d": [
           {
            "line": {
             "colorbar": {
              "outlinewidth": 0,
              "ticks": ""
             }
            },
            "marker": {
             "colorbar": {
              "outlinewidth": 0,
              "ticks": ""
             }
            },
            "type": "scatter3d"
           }
          ],
          "scattercarpet": [
           {
            "marker": {
             "colorbar": {
              "outlinewidth": 0,
              "ticks": ""
             }
            },
            "type": "scattercarpet"
           }
          ],
          "scattergeo": [
           {
            "marker": {
             "colorbar": {
              "outlinewidth": 0,
              "ticks": ""
             }
            },
            "type": "scattergeo"
           }
          ],
          "scattergl": [
           {
            "marker": {
             "colorbar": {
              "outlinewidth": 0,
              "ticks": ""
             }
            },
            "type": "scattergl"
           }
          ],
          "scattermapbox": [
           {
            "marker": {
             "colorbar": {
              "outlinewidth": 0,
              "ticks": ""
             }
            },
            "type": "scattermapbox"
           }
          ],
          "scatterpolar": [
           {
            "marker": {
             "colorbar": {
              "outlinewidth": 0,
              "ticks": ""
             }
            },
            "type": "scatterpolar"
           }
          ],
          "scatterpolargl": [
           {
            "marker": {
             "colorbar": {
              "outlinewidth": 0,
              "ticks": ""
             }
            },
            "type": "scatterpolargl"
           }
          ],
          "scatterternary": [
           {
            "marker": {
             "colorbar": {
              "outlinewidth": 0,
              "ticks": ""
             }
            },
            "type": "scatterternary"
           }
          ],
          "surface": [
           {
            "colorbar": {
             "outlinewidth": 0,
             "ticks": ""
            },
            "colorscale": [
             [
              0,
              "#0d0887"
             ],
             [
              0.1111111111111111,
              "#46039f"
             ],
             [
              0.2222222222222222,
              "#7201a8"
             ],
             [
              0.3333333333333333,
              "#9c179e"
             ],
             [
              0.4444444444444444,
              "#bd3786"
             ],
             [
              0.5555555555555556,
              "#d8576b"
             ],
             [
              0.6666666666666666,
              "#ed7953"
             ],
             [
              0.7777777777777778,
              "#fb9f3a"
             ],
             [
              0.8888888888888888,
              "#fdca26"
             ],
             [
              1,
              "#f0f921"
             ]
            ],
            "type": "surface"
           }
          ],
          "table": [
           {
            "cells": {
             "fill": {
              "color": "#EBF0F8"
             },
             "line": {
              "color": "white"
             }
            },
            "header": {
             "fill": {
              "color": "#C8D4E3"
             },
             "line": {
              "color": "white"
             }
            },
            "type": "table"
           }
          ]
         },
         "layout": {
          "annotationdefaults": {
           "arrowcolor": "#2a3f5f",
           "arrowhead": 0,
           "arrowwidth": 1
          },
          "autotypenumbers": "strict",
          "coloraxis": {
           "colorbar": {
            "outlinewidth": 0,
            "ticks": ""
           }
          },
          "colorscale": {
           "diverging": [
            [
             0,
             "#8e0152"
            ],
            [
             0.1,
             "#c51b7d"
            ],
            [
             0.2,
             "#de77ae"
            ],
            [
             0.3,
             "#f1b6da"
            ],
            [
             0.4,
             "#fde0ef"
            ],
            [
             0.5,
             "#f7f7f7"
            ],
            [
             0.6,
             "#e6f5d0"
            ],
            [
             0.7,
             "#b8e186"
            ],
            [
             0.8,
             "#7fbc41"
            ],
            [
             0.9,
             "#4d9221"
            ],
            [
             1,
             "#276419"
            ]
           ],
           "sequential": [
            [
             0,
             "#0d0887"
            ],
            [
             0.1111111111111111,
             "#46039f"
            ],
            [
             0.2222222222222222,
             "#7201a8"
            ],
            [
             0.3333333333333333,
             "#9c179e"
            ],
            [
             0.4444444444444444,
             "#bd3786"
            ],
            [
             0.5555555555555556,
             "#d8576b"
            ],
            [
             0.6666666666666666,
             "#ed7953"
            ],
            [
             0.7777777777777778,
             "#fb9f3a"
            ],
            [
             0.8888888888888888,
             "#fdca26"
            ],
            [
             1,
             "#f0f921"
            ]
           ],
           "sequentialminus": [
            [
             0,
             "#0d0887"
            ],
            [
             0.1111111111111111,
             "#46039f"
            ],
            [
             0.2222222222222222,
             "#7201a8"
            ],
            [
             0.3333333333333333,
             "#9c179e"
            ],
            [
             0.4444444444444444,
             "#bd3786"
            ],
            [
             0.5555555555555556,
             "#d8576b"
            ],
            [
             0.6666666666666666,
             "#ed7953"
            ],
            [
             0.7777777777777778,
             "#fb9f3a"
            ],
            [
             0.8888888888888888,
             "#fdca26"
            ],
            [
             1,
             "#f0f921"
            ]
           ]
          },
          "colorway": [
           "#636efa",
           "#EF553B",
           "#00cc96",
           "#ab63fa",
           "#FFA15A",
           "#19d3f3",
           "#FF6692",
           "#B6E880",
           "#FF97FF",
           "#FECB52"
          ],
          "font": {
           "color": "#2a3f5f"
          },
          "geo": {
           "bgcolor": "white",
           "lakecolor": "white",
           "landcolor": "#E5ECF6",
           "showlakes": true,
           "showland": true,
           "subunitcolor": "white"
          },
          "hoverlabel": {
           "align": "left"
          },
          "hovermode": "closest",
          "mapbox": {
           "style": "light"
          },
          "paper_bgcolor": "white",
          "plot_bgcolor": "#E5ECF6",
          "polar": {
           "angularaxis": {
            "gridcolor": "white",
            "linecolor": "white",
            "ticks": ""
           },
           "bgcolor": "#E5ECF6",
           "radialaxis": {
            "gridcolor": "white",
            "linecolor": "white",
            "ticks": ""
           }
          },
          "scene": {
           "xaxis": {
            "backgroundcolor": "#E5ECF6",
            "gridcolor": "white",
            "gridwidth": 2,
            "linecolor": "white",
            "showbackground": true,
            "ticks": "",
            "zerolinecolor": "white"
           },
           "yaxis": {
            "backgroundcolor": "#E5ECF6",
            "gridcolor": "white",
            "gridwidth": 2,
            "linecolor": "white",
            "showbackground": true,
            "ticks": "",
            "zerolinecolor": "white"
           },
           "zaxis": {
            "backgroundcolor": "#E5ECF6",
            "gridcolor": "white",
            "gridwidth": 2,
            "linecolor": "white",
            "showbackground": true,
            "ticks": "",
            "zerolinecolor": "white"
           }
          },
          "shapedefaults": {
           "line": {
            "color": "#2a3f5f"
           }
          },
          "ternary": {
           "aaxis": {
            "gridcolor": "white",
            "linecolor": "white",
            "ticks": ""
           },
           "baxis": {
            "gridcolor": "white",
            "linecolor": "white",
            "ticks": ""
           },
           "bgcolor": "#E5ECF6",
           "caxis": {
            "gridcolor": "white",
            "linecolor": "white",
            "ticks": ""
           }
          },
          "title": {
           "x": 0.05
          },
          "xaxis": {
           "automargin": true,
           "gridcolor": "white",
           "linecolor": "white",
           "ticks": "",
           "title": {
            "standoff": 15
           },
           "zerolinecolor": "white",
           "zerolinewidth": 2
          },
          "yaxis": {
           "automargin": true,
           "gridcolor": "white",
           "linecolor": "white",
           "ticks": "",
           "title": {
            "standoff": 15
           },
           "zerolinecolor": "white",
           "zerolinewidth": 2
          }
         }
        },
        "title": {
         "text": "Concentric Circles Data (Kernel PCA: 1 component)"
        },
        "width": 600,
        "xaxis": {
         "anchor": "y",
         "domain": [
          0,
          1
         ],
         "title": {
          "text": "Principal Component 1"
         }
        },
        "yaxis": {
         "anchor": "x",
         "domain": [
          0,
          1
         ],
         "title": {
          "text": ""
         }
        }
       }
      },
      "text/html": [
       "<div>                            <div id=\"7be13e6b-09fa-4492-bcef-55afae854614\" class=\"plotly-graph-div\" style=\"height:400px; width:600px;\"></div>            <script type=\"text/javascript\">                require([\"plotly\"], function(Plotly) {                    window.PLOTLYENV=window.PLOTLYENV || {};                                    if (document.getElementById(\"7be13e6b-09fa-4492-bcef-55afae854614\")) {                    Plotly.newPlot(                        \"7be13e6b-09fa-4492-bcef-55afae854614\",                        [{\"hovertemplate\":\"x=%{x}<br>y=%{y}<br>color=%{marker.color}<extra></extra>\",\"legendgroup\":\"\",\"marker\":{\"color\":[1,0,1,0,1,1,0,1,1,0,0,1,1,0,0,1,0,0,0,0,0,1,0,0,0,0,0,1,1,1,0,0,1,0,1,1,1,1,0,1,1,1,1,0,1,0,1,1,1,1,0,0,1,1,1,0,0,1,0,0,0,0,0,1,1,1,0,1,0,0,0,1,1,0,1,0,1,1,0,1,0,1,0,1,0,1,1,1,0,0,1,1,1,1,0,1,1,1,0,0,0,1,0,0,0,1,1,0,0,1,0,0,0,0,1,0,1,0,1,0,0,0,0,1,1,0,0,0,1,0,0,1,0,0,1,1,0,0,0,0,0,1,1,1,0,1,1,1,1,1,0,0,0,1,0,0,1,0,0,0,0,1,1,1,0,0,0,0,0,1,1,0,0,1,0,1,1,1,1,1,0,0,1,0,1,0,1,1,1,0,1,1,1,0,1,1,1,0,0,0,1,0,1,1,1,0,0,0,1,1,0,1,0,0,0,1,1,0,0,0,0,1,1,1,1,1,0,1,1,1,0,1,1,1,0,0,1,0,1,0,0,1,0,1,1,0,0,1,1,1,0,0,1,1,0,0,0,1,0,0,0,0,1,1,1,1,1,0,1,0,1,1,1,1,1,1,0,1,0,1,1,0,1,0,0,0,1,0,0,0,1,1,0,1,1,0,0,0,0,0,0,1,0,1,0,0,0,0,0,1,1,1,1,1,1,0,0,0,0,0,0,1,1,0,0,0,1,1,1,0,0,0,0,0,1,1,1,1,0,0,1,0,1,1,0,1,1,1,1,0,1,1,0,0,1,1,0,1,1,1,0,1,0,1,0,0,1,0,1,0,1,0,1,1,0,1,1,1,1,1,0,1,0,0,0,0,0,0,1,1,0,0,0,0,0,1,0,1,1,1],\"coloraxis\":\"coloraxis\",\"symbol\":\"circle\",\"opacity\":0.6,\"size\":8},\"mode\":\"markers\",\"name\":\"\",\"orientation\":\"v\",\"showlegend\":false,\"x\":[0.4360778372540796,-0.319857477644242,0.35442727608402147,-0.3177444248783359,-0.01495048069623847,0.146217909211516,-0.28834961401679504,0.426821066435362,0.3338790715945707,-0.3252404192221829,-0.30433640488532576,0.612125719535437,0.2486024401526418,-0.302112224668215,-0.2942062998104593,-0.07027946662105863,-0.3165622851903936,-0.3167195067046023,-0.31544473159408243,-0.31871273328245897,-0.32984669952923434,0.46228616985019116,-0.3140041147124626,-0.31068370657161504,-0.30117055148594407,-0.3213034718305502,-0.32369825976506933,0.4646337063332275,0.6286020440557789,0.6131322634694316,-0.2819535425298352,-0.3049920297246774,0.11409722633764231,-0.32513316899202216,0.14019162971287932,0.4422593866280254,0.010562389906333573,0.3986794559119852,-0.3217209322672871,0.25286915979356095,0.14073228860448594,0.5277494632814594,0.18261383800281528,-0.3096465930729824,0.3789999981714698,-0.3002434382067766,0.2029800191695436,0.38865019489081254,0.3744013622686896,0.4520221151962198,-0.30876009585247777,-0.2936052678180874,0.46509837079786437,0.1798226015375099,0.5230474117708306,-0.3060101305077141,-0.29260343219136825,0.03666704696326711,-0.3170152460776112,-0.32744375958126226,-0.30997822309305056,-0.277009300174688,-0.30224744233382217,0.39384388279879007,0.3765096971160677,0.5244054959660114,-0.32582004931266845,0.043557588697436665,-0.30407293540328273,-0.30650735890049424,-0.3235879651991904,0.18455772717077962,0.21912649899421735,-0.31258858915294574,0.49241239315389074,-0.29611288365197375,0.3928971827516071,-0.03553734955137889,-0.3203046827910813,0.1330750127658419,-0.2970799598846064,0.2820191336481108,-0.3127091582738264,-0.05074659565875568,-0.32798474091985874,0.05572723009770091,0.1421300477872285,-0.04776859857093812,-0.32021433133973903,-0.2895390303194853,0.3831483338617213,0.22143642498156757,0.011443525024066993,0.32400972708638465,-0.33640685380483304,0.47636938809501167,0.5419495883257726,-0.036306729358801935,-0.3229340599125381,-0.26435193913491095,-0.29309602965668524,0.478207845612372,-0.3166916768988451,-0.3121079802871435,-0.3166499049835603,0.36624185926929564,0.35040555025023506,-0.2826727796506693,-0.30938754413169844,0.6124329642284184,-0.3055166502749329,-0.3315488362884659,-0.31532459839917093,-0.309065716363173,0.34394425424106806,-0.32632828023938415,0.45405422393056427,-0.31744782053568404,0.5269283494873731,-0.2984134758844344,-0.3007160031254922,-0.2675026518981126,-0.33466229120997365,0.6358517293740422,0.3848212270366641,-0.2940664736340182,-0.29131483420492144,-0.31946021505747674,0.09048951501952669,-0.30205524453569016,-0.3256225655407875,0.4391222362828708,-0.2989617306658096,-0.30096717961808167,0.5376787083461819,0.16763851434910912,-0.306758746955393,-0.33269894788081755,-0.32119418270486305,-0.3149133968518854,-0.2984191369893994,-0.0004886572946871852,0.37711714490234116,0.6302255835620864,-0.3260121603360244,0.6476554307574499,0.31456733175657975,0.04700344064085273,0.3172324671539159,0.6255631364238203,-0.2965082723402596,-0.3128489333838667,-0.3080537255348718,0.09815555085811037,-0.29078880800555773,-0.32608287714725936,0.2339301935255898,-0.3236650016456989,-0.3026306833989269,-0.32740034509552296,-0.29232024495205283,0.47888347600290493,0.30921404030238314,0.24127815472723754,-0.2887833192941286,-0.30162849394780616,-0.29669920048584636,-0.3222042093428669,-0.31729117702080806,0.14700654376890915,0.22698910260909852,-0.31989271239397654,-0.3117964284139905,0.08908746842859597,-0.3273058504254455,0.11533841577270416,0.013859279518941862,0.6430032259339645,0.17822963043489148,0.6022765453787648,-0.312459182745532,-0.3153378812231838,0.5996463073904844,-0.31533524327527096,0.29382696365260613,-0.3051042982186321,0.6103777386033552,0.5190891214086967,0.2626894414159738,-0.32160138436882924,0.09684359268152767,0.4346534831249982,0.6309724015243553,-0.3276080867132687,0.4978029129617642,0.3929952618889942,0.6406861385023819,-0.31941946682581684,-0.3194450829778318,-0.30685478699479884,-0.07558469950699427,-0.2956512303753296,0.3824690083848443,0.5378249060373912,0.03735950040629332,-0.3010258230233847,-0.315009153143955,-0.3049766503866264,0.4769239439225801,0.1656640443294675,-0.3292167322080722,0.20936226213661305,-0.31650109268327986,-0.3356278339570891,-0.3197055332500485,0.22534556527841282,0.030487658078901123,-0.2989240424834898,-0.32110104430817177,-0.32514248748894187,-0.2713751905879748,0.5467222785372099,0.5937110929280797,0.20378408648346852,0.2154899905529809,0.015605712358622341,-0.31910762808403975,0.42472510483280673,0.3603136570565826,0.3868221749967688,-0.2993066881173508,0.3069736258829424,0.4357464703119927,0.4045710690317641,-0.28661580341763515,-0.31887346167586383,0.4213322954828225,-0.3208463006835075,0.3001520292637492,-0.3023598815594896,-0.3246252911022324,0.2602682271730512,-0.32400092675761566,0.4933641874155365,0.4556030228731874,-0.3316301806109234,-0.2750518934022072,0.5925113454214905,0.20014261159094401,0.1230864968567394,-0.3014152280074842,-0.3119922203140924,0.4133848851674536,0.07378808776202665,-0.3168497955712295,-0.29428178013893314,-0.30558496666132406,-0.04264178253100438,-0.32556164895728196,-0.284516209727232,-0.3055948506247351,-0.33663686627125783,0.608226593079725,0.6484532699292186,0.20592493168467382,-0.01054521882672955,-0.18918754942059154,-0.3070252690552047,0.3444153946236459,-0.30824428180170493,0.027427208636650918,0.549117625260372,0.6491658260466476,0.22861389703445525,0.2703088064375806,-0.04296958025349887,-0.3132534228640032,0.08132350394423815,-0.3126704194560104,0.31150865943541417,-0.029762327058527698,-0.31723516047293204,0.6450737415925241,-0.2885090791160058,-0.31797858406004875,-0.31896697109817745,0.5786059258508819,-0.30080530089041996,-0.32540764708574826,-0.3282765120644975,-0.09561505803243842,0.21928510153431555,-0.3047110031538612,0.2568921891127418,0.11785388405915029,-0.3186487431150957,-0.30595713186805246,-0.29561756849787635,-0.3100966680784084,-0.30086102711049445,-0.3206262482425363,0.05526759330807164,-0.32817480993282017,0.11198775839921742,-0.30137890707068415,-0.32489517978722626,-0.31332745267911727,-0.2989951349364196,-0.32775928828636336,0.6476790972567721,0.6148769571672819,0.2809163818881479,0.3118998517347056,0.39917365605229654,0.2276075874563695,-0.3056410956916121,-0.3133644725255775,-0.3149837112273251,-0.2994279131654596,-0.319975764539336,-0.3023006361985664,0.5825134233671617,0.5410209042786198,-0.307903116816954,-0.32012986144512573,-0.28626859285733713,0.45096849816126444,0.046244999778947304,0.24729252298097404,-0.2930717377675826,-0.29512753661346,-0.290434523000661,-0.28493214990964044,-0.3183272764258869,0.39126965675105246,0.2659675883183613,0.6538459239048581,0.331678221927904,-0.31168072344685066,-0.30577813894625844,0.31972282841974525,-0.307978895801284,0.5780060932846725,0.4273086713630293,-0.3135228285305501,0.3498321955038343,0.6444604989495875,0.28932760593182877,0.4169766572556032,-0.3085070371081327,0.3827266664591106,0.07054615949447454,-0.29789118067650355,-0.315771639729919,0.40404221987325883,0.21449202204162612,-0.30822718518980885,0.1752207202382687,-0.14352295051845634,0.14249356616866857,-0.28711809218880485,0.33706708949965714,-0.310177413263083,-0.034432345969999056,-0.31774712331168836,-0.3017113790618198,0.53496198231491,-0.31047779818857796,0.18054179828742684,-0.31200614330420684,0.11172505187535008,-0.3349451006485456,0.1879861650067018,0.41303934546703663,-0.2773461125929818,0.5364950192672631,0.17281871022254963,0.41318460211750474,0.46073641154183775,0.6260848480529497,-0.3044559680740038,-0.007334737792559203,-0.3048372314900374,-0.31937433604777443,-0.31971825435041307,-0.31945812016712904,-0.3118977422368137,-0.30169035888086715,0.41246529028640966,0.01348626752891515,-0.30152161794571936,-0.32166795858436403,-0.3046515292143403,-0.31130618670204363,-0.2958008968323279,0.2201565642038879,-0.3131130456749465,0.1605784853794095,0.36363736044817374,0.278737355214678],\"xaxis\":\"x\",\"y\":[0.0,0.0,0.0,0.0,0.0,0.0,0.0,0.0,0.0,0.0,0.0,0.0,0.0,0.0,0.0,0.0,0.0,0.0,0.0,0.0,0.0,0.0,0.0,0.0,0.0,0.0,0.0,0.0,0.0,0.0,0.0,0.0,0.0,0.0,0.0,0.0,0.0,0.0,0.0,0.0,0.0,0.0,0.0,0.0,0.0,0.0,0.0,0.0,0.0,0.0,0.0,0.0,0.0,0.0,0.0,0.0,0.0,0.0,0.0,0.0,0.0,0.0,0.0,0.0,0.0,0.0,0.0,0.0,0.0,0.0,0.0,0.0,0.0,0.0,0.0,0.0,0.0,0.0,0.0,0.0,0.0,0.0,0.0,0.0,0.0,0.0,0.0,0.0,0.0,0.0,0.0,0.0,0.0,0.0,0.0,0.0,0.0,0.0,0.0,0.0,0.0,0.0,0.0,0.0,0.0,0.0,0.0,0.0,0.0,0.0,0.0,0.0,0.0,0.0,0.0,0.0,0.0,0.0,0.0,0.0,0.0,0.0,0.0,0.0,0.0,0.0,0.0,0.0,0.0,0.0,0.0,0.0,0.0,0.0,0.0,0.0,0.0,0.0,0.0,0.0,0.0,0.0,0.0,0.0,0.0,0.0,0.0,0.0,0.0,0.0,0.0,0.0,0.0,0.0,0.0,0.0,0.0,0.0,0.0,0.0,0.0,0.0,0.0,0.0,0.0,0.0,0.0,0.0,0.0,0.0,0.0,0.0,0.0,0.0,0.0,0.0,0.0,0.0,0.0,0.0,0.0,0.0,0.0,0.0,0.0,0.0,0.0,0.0,0.0,0.0,0.0,0.0,0.0,0.0,0.0,0.0,0.0,0.0,0.0,0.0,0.0,0.0,0.0,0.0,0.0,0.0,0.0,0.0,0.0,0.0,0.0,0.0,0.0,0.0,0.0,0.0,0.0,0.0,0.0,0.0,0.0,0.0,0.0,0.0,0.0,0.0,0.0,0.0,0.0,0.0,0.0,0.0,0.0,0.0,0.0,0.0,0.0,0.0,0.0,0.0,0.0,0.0,0.0,0.0,0.0,0.0,0.0,0.0,0.0,0.0,0.0,0.0,0.0,0.0,0.0,0.0,0.0,0.0,0.0,0.0,0.0,0.0,0.0,0.0,0.0,0.0,0.0,0.0,0.0,0.0,0.0,0.0,0.0,0.0,0.0,0.0,0.0,0.0,0.0,0.0,0.0,0.0,0.0,0.0,0.0,0.0,0.0,0.0,0.0,0.0,0.0,0.0,0.0,0.0,0.0,0.0,0.0,0.0,0.0,0.0,0.0,0.0,0.0,0.0,0.0,0.0,0.0,0.0,0.0,0.0,0.0,0.0,0.0,0.0,0.0,0.0,0.0,0.0,0.0,0.0,0.0,0.0,0.0,0.0,0.0,0.0,0.0,0.0,0.0,0.0,0.0,0.0,0.0,0.0,0.0,0.0,0.0,0.0,0.0,0.0,0.0,0.0,0.0,0.0,0.0,0.0,0.0,0.0,0.0,0.0,0.0,0.0,0.0,0.0,0.0,0.0,0.0,0.0,0.0,0.0,0.0,0.0,0.0,0.0,0.0,0.0,0.0,0.0,0.0,0.0,0.0,0.0,0.0,0.0,0.0,0.0,0.0,0.0,0.0,0.0,0.0,0.0,0.0,0.0,0.0,0.0,0.0,0.0,0.0,0.0,0.0,0.0,0.0,0.0,0.0,0.0,0.0,0.0,0.0,0.0],\"yaxis\":\"y\",\"type\":\"scatter\"}],                        {\"template\":{\"data\":{\"histogram2dcontour\":[{\"type\":\"histogram2dcontour\",\"colorbar\":{\"outlinewidth\":0,\"ticks\":\"\"},\"colorscale\":[[0.0,\"#0d0887\"],[0.1111111111111111,\"#46039f\"],[0.2222222222222222,\"#7201a8\"],[0.3333333333333333,\"#9c179e\"],[0.4444444444444444,\"#bd3786\"],[0.5555555555555556,\"#d8576b\"],[0.6666666666666666,\"#ed7953\"],[0.7777777777777778,\"#fb9f3a\"],[0.8888888888888888,\"#fdca26\"],[1.0,\"#f0f921\"]]}],\"choropleth\":[{\"type\":\"choropleth\",\"colorbar\":{\"outlinewidth\":0,\"ticks\":\"\"}}],\"histogram2d\":[{\"type\":\"histogram2d\",\"colorbar\":{\"outlinewidth\":0,\"ticks\":\"\"},\"colorscale\":[[0.0,\"#0d0887\"],[0.1111111111111111,\"#46039f\"],[0.2222222222222222,\"#7201a8\"],[0.3333333333333333,\"#9c179e\"],[0.4444444444444444,\"#bd3786\"],[0.5555555555555556,\"#d8576b\"],[0.6666666666666666,\"#ed7953\"],[0.7777777777777778,\"#fb9f3a\"],[0.8888888888888888,\"#fdca26\"],[1.0,\"#f0f921\"]]}],\"heatmap\":[{\"type\":\"heatmap\",\"colorbar\":{\"outlinewidth\":0,\"ticks\":\"\"},\"colorscale\":[[0.0,\"#0d0887\"],[0.1111111111111111,\"#46039f\"],[0.2222222222222222,\"#7201a8\"],[0.3333333333333333,\"#9c179e\"],[0.4444444444444444,\"#bd3786\"],[0.5555555555555556,\"#d8576b\"],[0.6666666666666666,\"#ed7953\"],[0.7777777777777778,\"#fb9f3a\"],[0.8888888888888888,\"#fdca26\"],[1.0,\"#f0f921\"]]}],\"heatmapgl\":[{\"type\":\"heatmapgl\",\"colorbar\":{\"outlinewidth\":0,\"ticks\":\"\"},\"colorscale\":[[0.0,\"#0d0887\"],[0.1111111111111111,\"#46039f\"],[0.2222222222222222,\"#7201a8\"],[0.3333333333333333,\"#9c179e\"],[0.4444444444444444,\"#bd3786\"],[0.5555555555555556,\"#d8576b\"],[0.6666666666666666,\"#ed7953\"],[0.7777777777777778,\"#fb9f3a\"],[0.8888888888888888,\"#fdca26\"],[1.0,\"#f0f921\"]]}],\"contourcarpet\":[{\"type\":\"contourcarpet\",\"colorbar\":{\"outlinewidth\":0,\"ticks\":\"\"}}],\"contour\":[{\"type\":\"contour\",\"colorbar\":{\"outlinewidth\":0,\"ticks\":\"\"},\"colorscale\":[[0.0,\"#0d0887\"],[0.1111111111111111,\"#46039f\"],[0.2222222222222222,\"#7201a8\"],[0.3333333333333333,\"#9c179e\"],[0.4444444444444444,\"#bd3786\"],[0.5555555555555556,\"#d8576b\"],[0.6666666666666666,\"#ed7953\"],[0.7777777777777778,\"#fb9f3a\"],[0.8888888888888888,\"#fdca26\"],[1.0,\"#f0f921\"]]}],\"surface\":[{\"type\":\"surface\",\"colorbar\":{\"outlinewidth\":0,\"ticks\":\"\"},\"colorscale\":[[0.0,\"#0d0887\"],[0.1111111111111111,\"#46039f\"],[0.2222222222222222,\"#7201a8\"],[0.3333333333333333,\"#9c179e\"],[0.4444444444444444,\"#bd3786\"],[0.5555555555555556,\"#d8576b\"],[0.6666666666666666,\"#ed7953\"],[0.7777777777777778,\"#fb9f3a\"],[0.8888888888888888,\"#fdca26\"],[1.0,\"#f0f921\"]]}],\"mesh3d\":[{\"type\":\"mesh3d\",\"colorbar\":{\"outlinewidth\":0,\"ticks\":\"\"}}],\"scatter\":[{\"fillpattern\":{\"fillmode\":\"overlay\",\"size\":10,\"solidity\":0.2},\"type\":\"scatter\"}],\"parcoords\":[{\"type\":\"parcoords\",\"line\":{\"colorbar\":{\"outlinewidth\":0,\"ticks\":\"\"}}}],\"scatterpolargl\":[{\"type\":\"scatterpolargl\",\"marker\":{\"colorbar\":{\"outlinewidth\":0,\"ticks\":\"\"}}}],\"bar\":[{\"error_x\":{\"color\":\"#2a3f5f\"},\"error_y\":{\"color\":\"#2a3f5f\"},\"marker\":{\"line\":{\"color\":\"#E5ECF6\",\"width\":0.5},\"pattern\":{\"fillmode\":\"overlay\",\"size\":10,\"solidity\":0.2}},\"type\":\"bar\"}],\"scattergeo\":[{\"type\":\"scattergeo\",\"marker\":{\"colorbar\":{\"outlinewidth\":0,\"ticks\":\"\"}}}],\"scatterpolar\":[{\"type\":\"scatterpolar\",\"marker\":{\"colorbar\":{\"outlinewidth\":0,\"ticks\":\"\"}}}],\"histogram\":[{\"marker\":{\"pattern\":{\"fillmode\":\"overlay\",\"size\":10,\"solidity\":0.2}},\"type\":\"histogram\"}],\"scattergl\":[{\"type\":\"scattergl\",\"marker\":{\"colorbar\":{\"outlinewidth\":0,\"ticks\":\"\"}}}],\"scatter3d\":[{\"type\":\"scatter3d\",\"line\":{\"colorbar\":{\"outlinewidth\":0,\"ticks\":\"\"}},\"marker\":{\"colorbar\":{\"outlinewidth\":0,\"ticks\":\"\"}}}],\"scattermapbox\":[{\"type\":\"scattermapbox\",\"marker\":{\"colorbar\":{\"outlinewidth\":0,\"ticks\":\"\"}}}],\"scatterternary\":[{\"type\":\"scatterternary\",\"marker\":{\"colorbar\":{\"outlinewidth\":0,\"ticks\":\"\"}}}],\"scattercarpet\":[{\"type\":\"scattercarpet\",\"marker\":{\"colorbar\":{\"outlinewidth\":0,\"ticks\":\"\"}}}],\"carpet\":[{\"aaxis\":{\"endlinecolor\":\"#2a3f5f\",\"gridcolor\":\"white\",\"linecolor\":\"white\",\"minorgridcolor\":\"white\",\"startlinecolor\":\"#2a3f5f\"},\"baxis\":{\"endlinecolor\":\"#2a3f5f\",\"gridcolor\":\"white\",\"linecolor\":\"white\",\"minorgridcolor\":\"white\",\"startlinecolor\":\"#2a3f5f\"},\"type\":\"carpet\"}],\"table\":[{\"cells\":{\"fill\":{\"color\":\"#EBF0F8\"},\"line\":{\"color\":\"white\"}},\"header\":{\"fill\":{\"color\":\"#C8D4E3\"},\"line\":{\"color\":\"white\"}},\"type\":\"table\"}],\"barpolar\":[{\"marker\":{\"line\":{\"color\":\"#E5ECF6\",\"width\":0.5},\"pattern\":{\"fillmode\":\"overlay\",\"size\":10,\"solidity\":0.2}},\"type\":\"barpolar\"}],\"pie\":[{\"automargin\":true,\"type\":\"pie\"}]},\"layout\":{\"autotypenumbers\":\"strict\",\"colorway\":[\"#636efa\",\"#EF553B\",\"#00cc96\",\"#ab63fa\",\"#FFA15A\",\"#19d3f3\",\"#FF6692\",\"#B6E880\",\"#FF97FF\",\"#FECB52\"],\"font\":{\"color\":\"#2a3f5f\"},\"hovermode\":\"closest\",\"hoverlabel\":{\"align\":\"left\"},\"paper_bgcolor\":\"white\",\"plot_bgcolor\":\"#E5ECF6\",\"polar\":{\"bgcolor\":\"#E5ECF6\",\"angularaxis\":{\"gridcolor\":\"white\",\"linecolor\":\"white\",\"ticks\":\"\"},\"radialaxis\":{\"gridcolor\":\"white\",\"linecolor\":\"white\",\"ticks\":\"\"}},\"ternary\":{\"bgcolor\":\"#E5ECF6\",\"aaxis\":{\"gridcolor\":\"white\",\"linecolor\":\"white\",\"ticks\":\"\"},\"baxis\":{\"gridcolor\":\"white\",\"linecolor\":\"white\",\"ticks\":\"\"},\"caxis\":{\"gridcolor\":\"white\",\"linecolor\":\"white\",\"ticks\":\"\"}},\"coloraxis\":{\"colorbar\":{\"outlinewidth\":0,\"ticks\":\"\"}},\"colorscale\":{\"sequential\":[[0.0,\"#0d0887\"],[0.1111111111111111,\"#46039f\"],[0.2222222222222222,\"#7201a8\"],[0.3333333333333333,\"#9c179e\"],[0.4444444444444444,\"#bd3786\"],[0.5555555555555556,\"#d8576b\"],[0.6666666666666666,\"#ed7953\"],[0.7777777777777778,\"#fb9f3a\"],[0.8888888888888888,\"#fdca26\"],[1.0,\"#f0f921\"]],\"sequentialminus\":[[0.0,\"#0d0887\"],[0.1111111111111111,\"#46039f\"],[0.2222222222222222,\"#7201a8\"],[0.3333333333333333,\"#9c179e\"],[0.4444444444444444,\"#bd3786\"],[0.5555555555555556,\"#d8576b\"],[0.6666666666666666,\"#ed7953\"],[0.7777777777777778,\"#fb9f3a\"],[0.8888888888888888,\"#fdca26\"],[1.0,\"#f0f921\"]],\"diverging\":[[0,\"#8e0152\"],[0.1,\"#c51b7d\"],[0.2,\"#de77ae\"],[0.3,\"#f1b6da\"],[0.4,\"#fde0ef\"],[0.5,\"#f7f7f7\"],[0.6,\"#e6f5d0\"],[0.7,\"#b8e186\"],[0.8,\"#7fbc41\"],[0.9,\"#4d9221\"],[1,\"#276419\"]]},\"xaxis\":{\"gridcolor\":\"white\",\"linecolor\":\"white\",\"ticks\":\"\",\"title\":{\"standoff\":15},\"zerolinecolor\":\"white\",\"automargin\":true,\"zerolinewidth\":2},\"yaxis\":{\"gridcolor\":\"white\",\"linecolor\":\"white\",\"ticks\":\"\",\"title\":{\"standoff\":15},\"zerolinecolor\":\"white\",\"automargin\":true,\"zerolinewidth\":2},\"scene\":{\"xaxis\":{\"backgroundcolor\":\"#E5ECF6\",\"gridcolor\":\"white\",\"linecolor\":\"white\",\"showbackground\":true,\"ticks\":\"\",\"zerolinecolor\":\"white\",\"gridwidth\":2},\"yaxis\":{\"backgroundcolor\":\"#E5ECF6\",\"gridcolor\":\"white\",\"linecolor\":\"white\",\"showbackground\":true,\"ticks\":\"\",\"zerolinecolor\":\"white\",\"gridwidth\":2},\"zaxis\":{\"backgroundcolor\":\"#E5ECF6\",\"gridcolor\":\"white\",\"linecolor\":\"white\",\"showbackground\":true,\"ticks\":\"\",\"zerolinecolor\":\"white\",\"gridwidth\":2}},\"shapedefaults\":{\"line\":{\"color\":\"#2a3f5f\"}},\"annotationdefaults\":{\"arrowcolor\":\"#2a3f5f\",\"arrowhead\":0,\"arrowwidth\":1},\"geo\":{\"bgcolor\":\"white\",\"landcolor\":\"#E5ECF6\",\"subunitcolor\":\"white\",\"showland\":true,\"showlakes\":true,\"lakecolor\":\"white\"},\"title\":{\"x\":0.05},\"mapbox\":{\"style\":\"light\"}}},\"xaxis\":{\"anchor\":\"y\",\"domain\":[0.0,1.0],\"title\":{\"text\":\"Principal Component 1\"}},\"yaxis\":{\"anchor\":\"x\",\"domain\":[0.0,1.0],\"title\":{\"text\":\"\"}},\"coloraxis\":{\"colorbar\":{\"title\":{\"text\":\"color\"}},\"colorscale\":[[0.0,\"rgb(0,0,255)\"],[1.0,\"rgb(255,0,0)\"]],\"showscale\":false},\"legend\":{\"tracegroupgap\":0},\"margin\":{\"t\":60},\"width\":600,\"height\":400,\"title\":{\"text\":\"Concentric Circles Data (Kernel PCA: 1 component)\"}},                        {\"responsive\": true}                    ).then(function(){\n",
       "                            \n",
       "var gd = document.getElementById('7be13e6b-09fa-4492-bcef-55afae854614');\n",
       "var x = new MutationObserver(function (mutations, observer) {{\n",
       "        var display = window.getComputedStyle(gd).display;\n",
       "        if (!display || display === 'none') {{\n",
       "            console.log([gd, 'removed!']);\n",
       "            Plotly.purge(gd);\n",
       "            observer.disconnect();\n",
       "        }}\n",
       "}});\n",
       "\n",
       "// Listen for the removal of the full notebook cells\n",
       "var notebookContainer = gd.closest('#notebook-container');\n",
       "if (notebookContainer) {{\n",
       "    x.observe(notebookContainer, {childList: true});\n",
       "}}\n",
       "\n",
       "// Listen for the clearing of the current output cell\n",
       "var outputEl = gd.closest('.output');\n",
       "if (outputEl) {{\n",
       "    x.observe(outputEl, {childList: true});\n",
       "}}\n",
       "\n",
       "                        })                };                });            </script>        </div>"
      ]
     },
     "metadata": {},
     "output_type": "display_data"
    }
   ],
   "source": [
    "# Projecting the transformed data into the first component space\n",
    "figCK1 = px.scatter(x=dataCK[:, 0], y=np.zeros_like(dataCK[:, 0]), \n",
    "                    color=yc, color_continuous_scale='bluered')\n",
    "figCK1.update_traces(marker=dict(size=8, opacity=0.6))\n",
    "figCK1.update_layout(coloraxis_showscale=False, \n",
    "                     width=600, height=400, \n",
    "                    xaxis_title='Principal Component 1', yaxis_title='', \n",
    "                    title='Concentric Circles Data (Kernel PCA: 1 component)')\n",
    "figCK1.show()"
   ]
  },
  {
   "cell_type": "markdown",
   "metadata": {},
   "source": [
    "This 1-dimensional subspace obtained via Gaussian RBF kernel PCA looks much better in terms of linear class separation.\n",
    "\n",
    "We use Kernel PCA when the data is not linearly separable in the original feature space, meaning we cannot effectively reduce dimensions using linear methods like standard PCA. \n",
    "\n",
    "Kernel PCA applies a kernel function to map the original non-linearly separable data to a higher-dimensional space where it becomes linearly separable. After this transformation, linear PCA is applied in the new feature space to perform dimensionality reduction."
   ]
  },
  {
   "cell_type": "markdown",
   "metadata": {},
   "source": [
    "## Nonlinearly Separable Data: Interlocking Hearts"
   ]
  },
  {
   "cell_type": "code",
   "execution_count": 23,
   "metadata": {},
   "outputs": [],
   "source": [
    "def generate_heart_shape(a, b):\n",
    "    t = np.linspace(0, 2 * np.pi, 100)\n",
    "    x = 16 * np.sin(t)**3\n",
    "    y = 13 * np.cos(t) - 5 * np.cos(2*t) - 2 * np.cos(3*t) - np.cos(4*t)\n",
    "    return a + x, b + y"
   ]
  },
  {
   "cell_type": "code",
   "execution_count": 24,
   "metadata": {},
   "outputs": [],
   "source": [
    "# Generate two interlocking hearts dataset\n",
    "x1, y1 = generate_heart_shape(0, 0)     # First heart\n",
    "x2, y2 = generate_heart_shape(20, -10)  # Second heart (shifted)\n",
    "\n",
    "Xh = np.vstack((np.hstack((x1, x2)), np.hstack((y1, y2)))).T\n",
    "yh = np.array([0]*len(x1) + [1]*len(x2))  "
   ]
  },
  {
   "cell_type": "code",
   "execution_count": 25,
   "metadata": {},
   "outputs": [
    {
     "data": {
      "application/vnd.plotly.v1+json": {
       "config": {
        "plotlyServerURL": "https://plot.ly"
       },
       "data": [
        {
         "hovertemplate": "x=%{x}<br>y=%{y}<br>color=%{marker.color}<extra></extra>",
         "legendgroup": "",
         "marker": {
          "color": [
           0,
           0,
           0,
           0,
           0,
           0,
           0,
           0,
           0,
           0,
           0,
           0,
           0,
           0,
           0,
           0,
           0,
           0,
           0,
           0,
           0,
           0,
           0,
           0,
           0,
           0,
           0,
           0,
           0,
           0,
           0,
           0,
           0,
           0,
           0,
           0,
           0,
           0,
           0,
           0,
           0,
           0,
           0,
           0,
           0,
           0,
           0,
           0,
           0,
           0,
           0,
           0,
           0,
           0,
           0,
           0,
           0,
           0,
           0,
           0,
           0,
           0,
           0,
           0,
           0,
           0,
           0,
           0,
           0,
           0,
           0,
           0,
           0,
           0,
           0,
           0,
           0,
           0,
           0,
           0,
           0,
           0,
           0,
           0,
           0,
           0,
           0,
           0,
           0,
           0,
           0,
           0,
           0,
           0,
           0,
           0,
           0,
           0,
           0,
           0,
           1,
           1,
           1,
           1,
           1,
           1,
           1,
           1,
           1,
           1,
           1,
           1,
           1,
           1,
           1,
           1,
           1,
           1,
           1,
           1,
           1,
           1,
           1,
           1,
           1,
           1,
           1,
           1,
           1,
           1,
           1,
           1,
           1,
           1,
           1,
           1,
           1,
           1,
           1,
           1,
           1,
           1,
           1,
           1,
           1,
           1,
           1,
           1,
           1,
           1,
           1,
           1,
           1,
           1,
           1,
           1,
           1,
           1,
           1,
           1,
           1,
           1,
           1,
           1,
           1,
           1,
           1,
           1,
           1,
           1,
           1,
           1,
           1,
           1,
           1,
           1,
           1,
           1,
           1,
           1,
           1,
           1,
           1,
           1,
           1,
           1,
           1,
           1,
           1,
           1,
           1,
           1,
           1,
           1,
           1,
           1,
           1,
           1,
           1,
           1
          ],
          "coloraxis": "coloraxis",
          "opacity": 0.6,
          "size": 8,
          "symbol": "circle"
         },
         "mode": "markers",
         "name": "",
         "orientation": "v",
         "showlegend": false,
         "type": "scatter",
         "x": [
          0,
          0.0040820584371332996,
          0.032459620243681146,
          0.10845166250253213,
          0.2534598002445025,
          0.4860975401805025,
          0.8214214865058571,
          1.270292671775893,
          1.8388914764735926,
          2.5284040419434395,
          3.3348918737970106,
          4.249349701100716,
          5.257949840368312,
          6.34246455900798,
          7.48085148459144,
          8.64798119723831,
          9.816480986177442,
          10.957664534587717,
          12.042514171619938,
          13.04268041009092,
          13.931462842211307,
          14.684737117299532,
          15.28179465128425,
          15.706064848393723,
          15.945693837719826,
          15.993958888818534,
          15.849503584717477,
          15.516385283989264,
          15.003933162778688,
          14.326421948647752,
          13.50257309439841,
          12.554901351896286,
          11.508930268937672,
          10.392304845413262,
          9.233833278175616,
          8.062492263728672,
          6.906431622428709,
          5.792014010617902,
          4.7429241979941565,
          3.7793798532291882,
          2.917472093059084,
          2.168659342148844,
          1.539432493205195,
          1.0311631500206897,
          0.6401401047702711,
          0.35779238468012314,
          0.1710904485560671,
          0.06311066477055721,
          0.013742292284473073,
          0.0005110287600811755,
          -0.0005110287600811852,
          -0.013742292284473158,
          -0.06311066477055745,
          -0.1710904485560665,
          -0.35779238468012375,
          -0.6401401047702698,
          -1.031163150020691,
          -1.5394324932051928,
          -2.168659342148845,
          -2.9174720930590805,
          -3.7793798532291905,
          -4.742924197994154,
          -5.792014010617907,
          -6.9064316224287055,
          -8.062492263728675,
          -9.233833278175613,
          -10.39230484541327,
          -11.508930268937675,
          -12.554901351896286,
          -13.502573094398405,
          -14.326421948647756,
          -15.003933162778688,
          -15.516385283989264,
          -15.849503584717471,
          -15.993958888818534,
          -15.945693837719826,
          -15.706064848393723,
          -15.281794651284255,
          -14.684737117299532,
          -13.931462842211307,
          -13.042680410090924,
          -12.042514171619933,
          -10.957664534587712,
          -9.816480986177442,
          -8.647981197238314,
          -7.480851484591434,
          -6.342464559007974,
          -5.257949840368312,
          -4.249349701100723,
          -3.334891873797007,
          -2.528404041943438,
          -1.8388914764735937,
          -1.2702926717758953,
          -0.8214214865058549,
          -0.4860975401805023,
          -0.253459800244503,
          -0.10845166250253133,
          -0.03245962024368097,
          -0.004082058437133302,
          -2.3509453021782707e-46,
          20,
          20.004082058437135,
          20.03245962024368,
          20.10845166250253,
          20.253459800244503,
          20.486097540180502,
          20.82142148650586,
          21.27029267177589,
          21.83889147647359,
          22.52840404194344,
          23.334891873797012,
          24.249349701100716,
          25.257949840368312,
          26.34246455900798,
          27.48085148459144,
          28.64798119723831,
          29.816480986177442,
          30.957664534587717,
          32.04251417161994,
          33.042680410090924,
          33.9314628422113,
          34.684737117299534,
          35.28179465128425,
          35.70606484839372,
          35.94569383771983,
          35.99395888881853,
          35.849503584717475,
          35.516385283989266,
          35.00393316277869,
          34.32642194864775,
          33.502573094398414,
          32.554901351896284,
          31.50893026893767,
          30.392304845413264,
          29.233833278175616,
          28.06249226372867,
          26.90643162242871,
          25.7920140106179,
          24.742924197994157,
          23.779379853229187,
          22.917472093059082,
          22.168659342148842,
          21.539432493205194,
          21.03116315002069,
          20.64014010477027,
          20.357792384680124,
          20.17109044855607,
          20.06311066477056,
          20.013742292284473,
          20.00051102876008,
          19.99948897123992,
          19.986257707715527,
          19.93688933522944,
          19.82890955144393,
          19.642207615319876,
          19.35985989522973,
          18.968836849979308,
          18.460567506794806,
          17.831340657851154,
          17.082527906940918,
          16.22062014677081,
          15.257075802005847,
          14.207985989382092,
          13.093568377571295,
          11.937507736271325,
          10.766166721824387,
          9.60769515458673,
          8.491069731062325,
          7.4450986481037145,
          6.4974269056015945,
          5.673578051352244,
          4.996066837221312,
          4.483614716010736,
          4.150496415282529,
          4.0060411111814656,
          4.054306162280174,
          4.293935151606277,
          4.718205348715745,
          5.315262882700468,
          6.068537157788693,
          6.957319589909076,
          7.957485828380067,
          9.042335465412288,
          10.183519013822558,
          11.352018802761686,
          12.519148515408567,
          13.657535440992026,
          14.742050159631688,
          15.750650298899277,
          16.665108126202995,
          17.47159595805656,
          18.161108523526405,
          18.729707328224105,
          19.178578513494145,
          19.513902459819498,
          19.746540199755497,
          19.89154833749747,
          19.96754037975632,
          19.995917941562865,
          20
         ],
         "xaxis": "x",
         "y": [
          5,
          5.082246634058751,
          5.325083816716627,
          5.716992295567391,
          6.239392688983063,
          6.867539048506326,
          7.571700996856078,
          8.318570459349798,
          9.07281734481298,
          9.798711272287777,
          10.461723979327065,
          11.03002949299797,
          11.475826306710857,
          11.77641721268863,
          11.914997367166663,
          11.881118682984466,
          11.670817674249239,
          11.286413262214726,
          10.735999624253228,
          10.032675826481944,
          9.193567754310441,
          8.238707963216545,
          7.18984497048066,
          6.069254921488402,
          4.8986254978579336,
          3.698074673944052,
          2.48535601548392,
          1.2752884116848242,
          0.07943237161334094,
          -1.0939816627783931,
          -2.2398840505843345,
          -3.355982097676404,
          -4.442201109022109,
          -5.5000000000000036,
          -6.531617708612882,
          -7.539309317136663,
          -8.524629441970145,
          -9.487815254835095,
          -10.427312877546857,
          -11.339479486552221,
          -12.218480087890283,
          -13.05638351369949,
          -13.843447740506003,
          -14.568571120910933,
          -15.21987446347863,
          -15.785369866255687,
          -16.253666398542343,
          -16.614660501719065,
          -16.86016046555071,
          -16.984399401025453,
          -16.984399401025453,
          -16.86016046555071,
          -16.614660501719065,
          -16.253666398542347,
          -15.785369866255687,
          -15.219874463478629,
          -14.568571120910931,
          -13.843447740506008,
          -13.056383513699487,
          -12.218480087890283,
          -11.339479486552221,
          -10.427312877546857,
          -9.487815254835093,
          -8.524629441970147,
          -7.53930931713666,
          -6.531617708612886,
          -5.499999999999993,
          -4.442201109022106,
          -3.3559820976764048,
          -2.239884050584338,
          -1.0939816627783876,
          0.07943237161334449,
          1.2752884116848229,
          2.485356015483917,
          3.69807467394406,
          4.898625497857939,
          6.069254921488398,
          7.189844970480653,
          8.238707963216548,
          9.19356775431044,
          10.03267582648194,
          10.735999624253232,
          11.286413262214726,
          11.670817674249239,
          11.881118682984466,
          11.914997367166661,
          11.77641721268863,
          11.475826306710854,
          11.030029492997976,
          10.461723979327056,
          9.798711272287775,
          9.072817344812986,
          8.318570459349806,
          7.571700996856076,
          6.867539048506324,
          6.239392688983067,
          5.716992295567389,
          5.325083816716626,
          5.082246634058752,
          5,
          -5,
          -4.917753365941249,
          -4.674916183283373,
          -4.283007704432609,
          -3.760607311016937,
          -3.132460951493674,
          -2.4282990031439224,
          -1.6814295406502016,
          -0.9271826551870195,
          -0.20128872771222284,
          0.4617239793270649,
          1.0300294929979703,
          1.4758263067108572,
          1.7764172126886297,
          1.914997367166663,
          1.8811186829844662,
          1.670817674249239,
          1.286413262214726,
          0.7359996242532283,
          0.03267582648194356,
          -0.8064322456895585,
          -1.7612920367834555,
          -2.81015502951934,
          -3.930745078511598,
          -5.1013745021420664,
          -6.301925326055947,
          -7.514643984516081,
          -8.724711588315175,
          -9.920567628386658,
          -11.093981662778393,
          -12.239884050584335,
          -13.355982097676403,
          -14.44220110902211,
          -15.500000000000004,
          -16.53161770861288,
          -17.539309317136663,
          -18.524629441970145,
          -19.487815254835095,
          -20.427312877546857,
          -21.33947948655222,
          -22.218480087890285,
          -23.05638351369949,
          -23.843447740506,
          -24.56857112091093,
          -25.219874463478632,
          -25.785369866255685,
          -26.253666398542343,
          -26.614660501719065,
          -26.86016046555071,
          -26.984399401025453,
          -26.984399401025453,
          -26.86016046555071,
          -26.614660501719065,
          -26.253666398542347,
          -25.785369866255685,
          -25.21987446347863,
          -24.56857112091093,
          -23.843447740506008,
          -23.056383513699487,
          -22.218480087890285,
          -21.33947948655222,
          -20.427312877546857,
          -19.48781525483509,
          -18.52462944197015,
          -17.53930931713666,
          -16.531617708612885,
          -15.499999999999993,
          -14.442201109022106,
          -13.355982097676405,
          -12.239884050584338,
          -11.093981662778388,
          -9.920567628386655,
          -8.724711588315177,
          -7.514643984516082,
          -6.30192532605594,
          -5.101374502142061,
          -3.9307450785116016,
          -2.810155029519347,
          -1.761292036783452,
          -0.8064322456895603,
          0.03267582648194001,
          0.7359996242532318,
          1.286413262214726,
          1.670817674249239,
          1.8811186829844662,
          1.9149973671666611,
          1.7764172126886297,
          1.4758263067108537,
          1.0300294929979756,
          0.461723979327056,
          -0.2012887277122246,
          -0.9271826551870141,
          -1.6814295406501945,
          -2.428299003143924,
          -3.132460951493676,
          -3.7606073110169334,
          -4.283007704432611,
          -4.674916183283374,
          -4.917753365941248,
          -5
         ],
         "yaxis": "y"
        }
       ],
       "layout": {
        "coloraxis": {
         "colorbar": {
          "title": {
           "text": "color"
          }
         },
         "colorscale": [
          [
           0,
           "rgb(0,0,255)"
          ],
          [
           1,
           "rgb(255,0,0)"
          ]
         ],
         "showscale": false
        },
        "height": 400,
        "legend": {
         "tracegroupgap": 0
        },
        "margin": {
         "t": 60
        },
        "template": {
         "data": {
          "bar": [
           {
            "error_x": {
             "color": "#2a3f5f"
            },
            "error_y": {
             "color": "#2a3f5f"
            },
            "marker": {
             "line": {
              "color": "#E5ECF6",
              "width": 0.5
             },
             "pattern": {
              "fillmode": "overlay",
              "size": 10,
              "solidity": 0.2
             }
            },
            "type": "bar"
           }
          ],
          "barpolar": [
           {
            "marker": {
             "line": {
              "color": "#E5ECF6",
              "width": 0.5
             },
             "pattern": {
              "fillmode": "overlay",
              "size": 10,
              "solidity": 0.2
             }
            },
            "type": "barpolar"
           }
          ],
          "carpet": [
           {
            "aaxis": {
             "endlinecolor": "#2a3f5f",
             "gridcolor": "white",
             "linecolor": "white",
             "minorgridcolor": "white",
             "startlinecolor": "#2a3f5f"
            },
            "baxis": {
             "endlinecolor": "#2a3f5f",
             "gridcolor": "white",
             "linecolor": "white",
             "minorgridcolor": "white",
             "startlinecolor": "#2a3f5f"
            },
            "type": "carpet"
           }
          ],
          "choropleth": [
           {
            "colorbar": {
             "outlinewidth": 0,
             "ticks": ""
            },
            "type": "choropleth"
           }
          ],
          "contour": [
           {
            "colorbar": {
             "outlinewidth": 0,
             "ticks": ""
            },
            "colorscale": [
             [
              0,
              "#0d0887"
             ],
             [
              0.1111111111111111,
              "#46039f"
             ],
             [
              0.2222222222222222,
              "#7201a8"
             ],
             [
              0.3333333333333333,
              "#9c179e"
             ],
             [
              0.4444444444444444,
              "#bd3786"
             ],
             [
              0.5555555555555556,
              "#d8576b"
             ],
             [
              0.6666666666666666,
              "#ed7953"
             ],
             [
              0.7777777777777778,
              "#fb9f3a"
             ],
             [
              0.8888888888888888,
              "#fdca26"
             ],
             [
              1,
              "#f0f921"
             ]
            ],
            "type": "contour"
           }
          ],
          "contourcarpet": [
           {
            "colorbar": {
             "outlinewidth": 0,
             "ticks": ""
            },
            "type": "contourcarpet"
           }
          ],
          "heatmap": [
           {
            "colorbar": {
             "outlinewidth": 0,
             "ticks": ""
            },
            "colorscale": [
             [
              0,
              "#0d0887"
             ],
             [
              0.1111111111111111,
              "#46039f"
             ],
             [
              0.2222222222222222,
              "#7201a8"
             ],
             [
              0.3333333333333333,
              "#9c179e"
             ],
             [
              0.4444444444444444,
              "#bd3786"
             ],
             [
              0.5555555555555556,
              "#d8576b"
             ],
             [
              0.6666666666666666,
              "#ed7953"
             ],
             [
              0.7777777777777778,
              "#fb9f3a"
             ],
             [
              0.8888888888888888,
              "#fdca26"
             ],
             [
              1,
              "#f0f921"
             ]
            ],
            "type": "heatmap"
           }
          ],
          "heatmapgl": [
           {
            "colorbar": {
             "outlinewidth": 0,
             "ticks": ""
            },
            "colorscale": [
             [
              0,
              "#0d0887"
             ],
             [
              0.1111111111111111,
              "#46039f"
             ],
             [
              0.2222222222222222,
              "#7201a8"
             ],
             [
              0.3333333333333333,
              "#9c179e"
             ],
             [
              0.4444444444444444,
              "#bd3786"
             ],
             [
              0.5555555555555556,
              "#d8576b"
             ],
             [
              0.6666666666666666,
              "#ed7953"
             ],
             [
              0.7777777777777778,
              "#fb9f3a"
             ],
             [
              0.8888888888888888,
              "#fdca26"
             ],
             [
              1,
              "#f0f921"
             ]
            ],
            "type": "heatmapgl"
           }
          ],
          "histogram": [
           {
            "marker": {
             "pattern": {
              "fillmode": "overlay",
              "size": 10,
              "solidity": 0.2
             }
            },
            "type": "histogram"
           }
          ],
          "histogram2d": [
           {
            "colorbar": {
             "outlinewidth": 0,
             "ticks": ""
            },
            "colorscale": [
             [
              0,
              "#0d0887"
             ],
             [
              0.1111111111111111,
              "#46039f"
             ],
             [
              0.2222222222222222,
              "#7201a8"
             ],
             [
              0.3333333333333333,
              "#9c179e"
             ],
             [
              0.4444444444444444,
              "#bd3786"
             ],
             [
              0.5555555555555556,
              "#d8576b"
             ],
             [
              0.6666666666666666,
              "#ed7953"
             ],
             [
              0.7777777777777778,
              "#fb9f3a"
             ],
             [
              0.8888888888888888,
              "#fdca26"
             ],
             [
              1,
              "#f0f921"
             ]
            ],
            "type": "histogram2d"
           }
          ],
          "histogram2dcontour": [
           {
            "colorbar": {
             "outlinewidth": 0,
             "ticks": ""
            },
            "colorscale": [
             [
              0,
              "#0d0887"
             ],
             [
              0.1111111111111111,
              "#46039f"
             ],
             [
              0.2222222222222222,
              "#7201a8"
             ],
             [
              0.3333333333333333,
              "#9c179e"
             ],
             [
              0.4444444444444444,
              "#bd3786"
             ],
             [
              0.5555555555555556,
              "#d8576b"
             ],
             [
              0.6666666666666666,
              "#ed7953"
             ],
             [
              0.7777777777777778,
              "#fb9f3a"
             ],
             [
              0.8888888888888888,
              "#fdca26"
             ],
             [
              1,
              "#f0f921"
             ]
            ],
            "type": "histogram2dcontour"
           }
          ],
          "mesh3d": [
           {
            "colorbar": {
             "outlinewidth": 0,
             "ticks": ""
            },
            "type": "mesh3d"
           }
          ],
          "parcoords": [
           {
            "line": {
             "colorbar": {
              "outlinewidth": 0,
              "ticks": ""
             }
            },
            "type": "parcoords"
           }
          ],
          "pie": [
           {
            "automargin": true,
            "type": "pie"
           }
          ],
          "scatter": [
           {
            "fillpattern": {
             "fillmode": "overlay",
             "size": 10,
             "solidity": 0.2
            },
            "type": "scatter"
           }
          ],
          "scatter3d": [
           {
            "line": {
             "colorbar": {
              "outlinewidth": 0,
              "ticks": ""
             }
            },
            "marker": {
             "colorbar": {
              "outlinewidth": 0,
              "ticks": ""
             }
            },
            "type": "scatter3d"
           }
          ],
          "scattercarpet": [
           {
            "marker": {
             "colorbar": {
              "outlinewidth": 0,
              "ticks": ""
             }
            },
            "type": "scattercarpet"
           }
          ],
          "scattergeo": [
           {
            "marker": {
             "colorbar": {
              "outlinewidth": 0,
              "ticks": ""
             }
            },
            "type": "scattergeo"
           }
          ],
          "scattergl": [
           {
            "marker": {
             "colorbar": {
              "outlinewidth": 0,
              "ticks": ""
             }
            },
            "type": "scattergl"
           }
          ],
          "scattermapbox": [
           {
            "marker": {
             "colorbar": {
              "outlinewidth": 0,
              "ticks": ""
             }
            },
            "type": "scattermapbox"
           }
          ],
          "scatterpolar": [
           {
            "marker": {
             "colorbar": {
              "outlinewidth": 0,
              "ticks": ""
             }
            },
            "type": "scatterpolar"
           }
          ],
          "scatterpolargl": [
           {
            "marker": {
             "colorbar": {
              "outlinewidth": 0,
              "ticks": ""
             }
            },
            "type": "scatterpolargl"
           }
          ],
          "scatterternary": [
           {
            "marker": {
             "colorbar": {
              "outlinewidth": 0,
              "ticks": ""
             }
            },
            "type": "scatterternary"
           }
          ],
          "surface": [
           {
            "colorbar": {
             "outlinewidth": 0,
             "ticks": ""
            },
            "colorscale": [
             [
              0,
              "#0d0887"
             ],
             [
              0.1111111111111111,
              "#46039f"
             ],
             [
              0.2222222222222222,
              "#7201a8"
             ],
             [
              0.3333333333333333,
              "#9c179e"
             ],
             [
              0.4444444444444444,
              "#bd3786"
             ],
             [
              0.5555555555555556,
              "#d8576b"
             ],
             [
              0.6666666666666666,
              "#ed7953"
             ],
             [
              0.7777777777777778,
              "#fb9f3a"
             ],
             [
              0.8888888888888888,
              "#fdca26"
             ],
             [
              1,
              "#f0f921"
             ]
            ],
            "type": "surface"
           }
          ],
          "table": [
           {
            "cells": {
             "fill": {
              "color": "#EBF0F8"
             },
             "line": {
              "color": "white"
             }
            },
            "header": {
             "fill": {
              "color": "#C8D4E3"
             },
             "line": {
              "color": "white"
             }
            },
            "type": "table"
           }
          ]
         },
         "layout": {
          "annotationdefaults": {
           "arrowcolor": "#2a3f5f",
           "arrowhead": 0,
           "arrowwidth": 1
          },
          "autotypenumbers": "strict",
          "coloraxis": {
           "colorbar": {
            "outlinewidth": 0,
            "ticks": ""
           }
          },
          "colorscale": {
           "diverging": [
            [
             0,
             "#8e0152"
            ],
            [
             0.1,
             "#c51b7d"
            ],
            [
             0.2,
             "#de77ae"
            ],
            [
             0.3,
             "#f1b6da"
            ],
            [
             0.4,
             "#fde0ef"
            ],
            [
             0.5,
             "#f7f7f7"
            ],
            [
             0.6,
             "#e6f5d0"
            ],
            [
             0.7,
             "#b8e186"
            ],
            [
             0.8,
             "#7fbc41"
            ],
            [
             0.9,
             "#4d9221"
            ],
            [
             1,
             "#276419"
            ]
           ],
           "sequential": [
            [
             0,
             "#0d0887"
            ],
            [
             0.1111111111111111,
             "#46039f"
            ],
            [
             0.2222222222222222,
             "#7201a8"
            ],
            [
             0.3333333333333333,
             "#9c179e"
            ],
            [
             0.4444444444444444,
             "#bd3786"
            ],
            [
             0.5555555555555556,
             "#d8576b"
            ],
            [
             0.6666666666666666,
             "#ed7953"
            ],
            [
             0.7777777777777778,
             "#fb9f3a"
            ],
            [
             0.8888888888888888,
             "#fdca26"
            ],
            [
             1,
             "#f0f921"
            ]
           ],
           "sequentialminus": [
            [
             0,
             "#0d0887"
            ],
            [
             0.1111111111111111,
             "#46039f"
            ],
            [
             0.2222222222222222,
             "#7201a8"
            ],
            [
             0.3333333333333333,
             "#9c179e"
            ],
            [
             0.4444444444444444,
             "#bd3786"
            ],
            [
             0.5555555555555556,
             "#d8576b"
            ],
            [
             0.6666666666666666,
             "#ed7953"
            ],
            [
             0.7777777777777778,
             "#fb9f3a"
            ],
            [
             0.8888888888888888,
             "#fdca26"
            ],
            [
             1,
             "#f0f921"
            ]
           ]
          },
          "colorway": [
           "#636efa",
           "#EF553B",
           "#00cc96",
           "#ab63fa",
           "#FFA15A",
           "#19d3f3",
           "#FF6692",
           "#B6E880",
           "#FF97FF",
           "#FECB52"
          ],
          "font": {
           "color": "#2a3f5f"
          },
          "geo": {
           "bgcolor": "white",
           "lakecolor": "white",
           "landcolor": "#E5ECF6",
           "showlakes": true,
           "showland": true,
           "subunitcolor": "white"
          },
          "hoverlabel": {
           "align": "left"
          },
          "hovermode": "closest",
          "mapbox": {
           "style": "light"
          },
          "paper_bgcolor": "white",
          "plot_bgcolor": "#E5ECF6",
          "polar": {
           "angularaxis": {
            "gridcolor": "white",
            "linecolor": "white",
            "ticks": ""
           },
           "bgcolor": "#E5ECF6",
           "radialaxis": {
            "gridcolor": "white",
            "linecolor": "white",
            "ticks": ""
           }
          },
          "scene": {
           "xaxis": {
            "backgroundcolor": "#E5ECF6",
            "gridcolor": "white",
            "gridwidth": 2,
            "linecolor": "white",
            "showbackground": true,
            "ticks": "",
            "zerolinecolor": "white"
           },
           "yaxis": {
            "backgroundcolor": "#E5ECF6",
            "gridcolor": "white",
            "gridwidth": 2,
            "linecolor": "white",
            "showbackground": true,
            "ticks": "",
            "zerolinecolor": "white"
           },
           "zaxis": {
            "backgroundcolor": "#E5ECF6",
            "gridcolor": "white",
            "gridwidth": 2,
            "linecolor": "white",
            "showbackground": true,
            "ticks": "",
            "zerolinecolor": "white"
           }
          },
          "shapedefaults": {
           "line": {
            "color": "#2a3f5f"
           }
          },
          "ternary": {
           "aaxis": {
            "gridcolor": "white",
            "linecolor": "white",
            "ticks": ""
           },
           "baxis": {
            "gridcolor": "white",
            "linecolor": "white",
            "ticks": ""
           },
           "bgcolor": "#E5ECF6",
           "caxis": {
            "gridcolor": "white",
            "linecolor": "white",
            "ticks": ""
           }
          },
          "title": {
           "x": 0.05
          },
          "xaxis": {
           "automargin": true,
           "gridcolor": "white",
           "linecolor": "white",
           "ticks": "",
           "title": {
            "standoff": 15
           },
           "zerolinecolor": "white",
           "zerolinewidth": 2
          },
          "yaxis": {
           "automargin": true,
           "gridcolor": "white",
           "linecolor": "white",
           "ticks": "",
           "title": {
            "standoff": 15
           },
           "zerolinecolor": "white",
           "zerolinewidth": 2
          }
         }
        },
        "title": {
         "text": "Interlocking Hearts"
        },
        "width": 600,
        "xaxis": {
         "anchor": "y",
         "domain": [
          0,
          1
         ],
         "title": {
          "text": "x"
         }
        },
        "yaxis": {
         "anchor": "x",
         "domain": [
          0,
          1
         ],
         "title": {
          "text": "y"
         }
        }
       }
      },
      "text/html": [
       "<div>                            <div id=\"fe5b4b90-e7eb-4aa0-9ec9-323e70334310\" class=\"plotly-graph-div\" style=\"height:400px; width:600px;\"></div>            <script type=\"text/javascript\">                require([\"plotly\"], function(Plotly) {                    window.PLOTLYENV=window.PLOTLYENV || {};                                    if (document.getElementById(\"fe5b4b90-e7eb-4aa0-9ec9-323e70334310\")) {                    Plotly.newPlot(                        \"fe5b4b90-e7eb-4aa0-9ec9-323e70334310\",                        [{\"hovertemplate\":\"x=%{x}<br>y=%{y}<br>color=%{marker.color}<extra></extra>\",\"legendgroup\":\"\",\"marker\":{\"color\":[0,0,0,0,0,0,0,0,0,0,0,0,0,0,0,0,0,0,0,0,0,0,0,0,0,0,0,0,0,0,0,0,0,0,0,0,0,0,0,0,0,0,0,0,0,0,0,0,0,0,0,0,0,0,0,0,0,0,0,0,0,0,0,0,0,0,0,0,0,0,0,0,0,0,0,0,0,0,0,0,0,0,0,0,0,0,0,0,0,0,0,0,0,0,0,0,0,0,0,0,1,1,1,1,1,1,1,1,1,1,1,1,1,1,1,1,1,1,1,1,1,1,1,1,1,1,1,1,1,1,1,1,1,1,1,1,1,1,1,1,1,1,1,1,1,1,1,1,1,1,1,1,1,1,1,1,1,1,1,1,1,1,1,1,1,1,1,1,1,1,1,1,1,1,1,1,1,1,1,1,1,1,1,1,1,1,1,1,1,1,1,1,1,1,1,1,1,1,1,1],\"coloraxis\":\"coloraxis\",\"symbol\":\"circle\",\"opacity\":0.6,\"size\":8},\"mode\":\"markers\",\"name\":\"\",\"orientation\":\"v\",\"showlegend\":false,\"x\":[0.0,0.0040820584371332996,0.032459620243681146,0.10845166250253213,0.2534598002445025,0.4860975401805025,0.8214214865058571,1.270292671775893,1.8388914764735926,2.5284040419434395,3.3348918737970106,4.249349701100716,5.257949840368312,6.34246455900798,7.48085148459144,8.64798119723831,9.816480986177442,10.957664534587717,12.042514171619938,13.04268041009092,13.931462842211307,14.684737117299532,15.28179465128425,15.706064848393723,15.945693837719826,15.993958888818534,15.849503584717477,15.516385283989264,15.003933162778688,14.326421948647752,13.50257309439841,12.554901351896286,11.508930268937672,10.392304845413262,9.233833278175616,8.062492263728672,6.906431622428709,5.792014010617902,4.7429241979941565,3.7793798532291882,2.917472093059084,2.168659342148844,1.539432493205195,1.0311631500206897,0.6401401047702711,0.35779238468012314,0.1710904485560671,0.06311066477055721,0.013742292284473073,0.0005110287600811755,-0.0005110287600811852,-0.013742292284473158,-0.06311066477055745,-0.1710904485560665,-0.35779238468012375,-0.6401401047702698,-1.031163150020691,-1.5394324932051928,-2.168659342148845,-2.9174720930590805,-3.7793798532291905,-4.742924197994154,-5.792014010617907,-6.9064316224287055,-8.062492263728675,-9.233833278175613,-10.39230484541327,-11.508930268937675,-12.554901351896286,-13.502573094398405,-14.326421948647756,-15.003933162778688,-15.516385283989264,-15.849503584717471,-15.993958888818534,-15.945693837719826,-15.706064848393723,-15.281794651284255,-14.684737117299532,-13.931462842211307,-13.042680410090924,-12.042514171619933,-10.957664534587712,-9.816480986177442,-8.647981197238314,-7.480851484591434,-6.342464559007974,-5.257949840368312,-4.249349701100723,-3.334891873797007,-2.528404041943438,-1.8388914764735937,-1.2702926717758953,-0.8214214865058549,-0.4860975401805023,-0.253459800244503,-0.10845166250253133,-0.03245962024368097,-0.004082058437133302,-2.3509453021782707e-46,20.0,20.004082058437135,20.03245962024368,20.10845166250253,20.253459800244503,20.486097540180502,20.82142148650586,21.27029267177589,21.83889147647359,22.52840404194344,23.334891873797012,24.249349701100716,25.257949840368312,26.34246455900798,27.48085148459144,28.64798119723831,29.816480986177442,30.957664534587717,32.04251417161994,33.042680410090924,33.9314628422113,34.684737117299534,35.28179465128425,35.70606484839372,35.94569383771983,35.99395888881853,35.849503584717475,35.516385283989266,35.00393316277869,34.32642194864775,33.502573094398414,32.554901351896284,31.50893026893767,30.392304845413264,29.233833278175616,28.06249226372867,26.90643162242871,25.7920140106179,24.742924197994157,23.779379853229187,22.917472093059082,22.168659342148842,21.539432493205194,21.03116315002069,20.64014010477027,20.357792384680124,20.17109044855607,20.06311066477056,20.013742292284473,20.00051102876008,19.99948897123992,19.986257707715527,19.93688933522944,19.82890955144393,19.642207615319876,19.35985989522973,18.968836849979308,18.460567506794806,17.831340657851154,17.082527906940918,16.22062014677081,15.257075802005847,14.207985989382092,13.093568377571295,11.937507736271325,10.766166721824387,9.60769515458673,8.491069731062325,7.4450986481037145,6.4974269056015945,5.673578051352244,4.996066837221312,4.483614716010736,4.150496415282529,4.0060411111814656,4.054306162280174,4.293935151606277,4.718205348715745,5.315262882700468,6.068537157788693,6.957319589909076,7.957485828380067,9.042335465412288,10.183519013822558,11.352018802761686,12.519148515408567,13.657535440992026,14.742050159631688,15.750650298899277,16.665108126202995,17.47159595805656,18.161108523526405,18.729707328224105,19.178578513494145,19.513902459819498,19.746540199755497,19.89154833749747,19.96754037975632,19.995917941562865,20.0],\"xaxis\":\"x\",\"y\":[5.0,5.082246634058751,5.325083816716627,5.716992295567391,6.239392688983063,6.867539048506326,7.571700996856078,8.318570459349798,9.07281734481298,9.798711272287777,10.461723979327065,11.03002949299797,11.475826306710857,11.77641721268863,11.914997367166663,11.881118682984466,11.670817674249239,11.286413262214726,10.735999624253228,10.032675826481944,9.193567754310441,8.238707963216545,7.18984497048066,6.069254921488402,4.8986254978579336,3.698074673944052,2.48535601548392,1.2752884116848242,0.07943237161334094,-1.0939816627783931,-2.2398840505843345,-3.355982097676404,-4.442201109022109,-5.5000000000000036,-6.531617708612882,-7.539309317136663,-8.524629441970145,-9.487815254835095,-10.427312877546857,-11.339479486552221,-12.218480087890283,-13.05638351369949,-13.843447740506003,-14.568571120910933,-15.21987446347863,-15.785369866255687,-16.253666398542343,-16.614660501719065,-16.86016046555071,-16.984399401025453,-16.984399401025453,-16.86016046555071,-16.614660501719065,-16.253666398542347,-15.785369866255687,-15.219874463478629,-14.568571120910931,-13.843447740506008,-13.056383513699487,-12.218480087890283,-11.339479486552221,-10.427312877546857,-9.487815254835093,-8.524629441970147,-7.53930931713666,-6.531617708612886,-5.499999999999993,-4.442201109022106,-3.3559820976764048,-2.239884050584338,-1.0939816627783876,0.07943237161334449,1.2752884116848229,2.485356015483917,3.69807467394406,4.898625497857939,6.069254921488398,7.189844970480653,8.238707963216548,9.19356775431044,10.03267582648194,10.735999624253232,11.286413262214726,11.670817674249239,11.881118682984466,11.914997367166661,11.77641721268863,11.475826306710854,11.030029492997976,10.461723979327056,9.798711272287775,9.072817344812986,8.318570459349806,7.571700996856076,6.867539048506324,6.239392688983067,5.716992295567389,5.325083816716626,5.082246634058752,5.0,-5.0,-4.917753365941249,-4.674916183283373,-4.283007704432609,-3.760607311016937,-3.132460951493674,-2.4282990031439224,-1.6814295406502016,-0.9271826551870195,-0.20128872771222284,0.4617239793270649,1.0300294929979703,1.4758263067108572,1.7764172126886297,1.914997367166663,1.8811186829844662,1.670817674249239,1.286413262214726,0.7359996242532283,0.03267582648194356,-0.8064322456895585,-1.7612920367834555,-2.81015502951934,-3.930745078511598,-5.1013745021420664,-6.301925326055947,-7.514643984516081,-8.724711588315175,-9.920567628386658,-11.093981662778393,-12.239884050584335,-13.355982097676403,-14.44220110902211,-15.500000000000004,-16.53161770861288,-17.539309317136663,-18.524629441970145,-19.487815254835095,-20.427312877546857,-21.33947948655222,-22.218480087890285,-23.05638351369949,-23.843447740506,-24.56857112091093,-25.219874463478632,-25.785369866255685,-26.253666398542343,-26.614660501719065,-26.86016046555071,-26.984399401025453,-26.984399401025453,-26.86016046555071,-26.614660501719065,-26.253666398542347,-25.785369866255685,-25.21987446347863,-24.56857112091093,-23.843447740506008,-23.056383513699487,-22.218480087890285,-21.33947948655222,-20.427312877546857,-19.48781525483509,-18.52462944197015,-17.53930931713666,-16.531617708612885,-15.499999999999993,-14.442201109022106,-13.355982097676405,-12.239884050584338,-11.093981662778388,-9.920567628386655,-8.724711588315177,-7.514643984516082,-6.30192532605594,-5.101374502142061,-3.9307450785116016,-2.810155029519347,-1.761292036783452,-0.8064322456895603,0.03267582648194001,0.7359996242532318,1.286413262214726,1.670817674249239,1.8811186829844662,1.9149973671666611,1.7764172126886297,1.4758263067108537,1.0300294929979756,0.461723979327056,-0.2012887277122246,-0.9271826551870141,-1.6814295406501945,-2.428299003143924,-3.132460951493676,-3.7606073110169334,-4.283007704432611,-4.674916183283374,-4.917753365941248,-5.0],\"yaxis\":\"y\",\"type\":\"scatter\"}],                        {\"template\":{\"data\":{\"histogram2dcontour\":[{\"type\":\"histogram2dcontour\",\"colorbar\":{\"outlinewidth\":0,\"ticks\":\"\"},\"colorscale\":[[0.0,\"#0d0887\"],[0.1111111111111111,\"#46039f\"],[0.2222222222222222,\"#7201a8\"],[0.3333333333333333,\"#9c179e\"],[0.4444444444444444,\"#bd3786\"],[0.5555555555555556,\"#d8576b\"],[0.6666666666666666,\"#ed7953\"],[0.7777777777777778,\"#fb9f3a\"],[0.8888888888888888,\"#fdca26\"],[1.0,\"#f0f921\"]]}],\"choropleth\":[{\"type\":\"choropleth\",\"colorbar\":{\"outlinewidth\":0,\"ticks\":\"\"}}],\"histogram2d\":[{\"type\":\"histogram2d\",\"colorbar\":{\"outlinewidth\":0,\"ticks\":\"\"},\"colorscale\":[[0.0,\"#0d0887\"],[0.1111111111111111,\"#46039f\"],[0.2222222222222222,\"#7201a8\"],[0.3333333333333333,\"#9c179e\"],[0.4444444444444444,\"#bd3786\"],[0.5555555555555556,\"#d8576b\"],[0.6666666666666666,\"#ed7953\"],[0.7777777777777778,\"#fb9f3a\"],[0.8888888888888888,\"#fdca26\"],[1.0,\"#f0f921\"]]}],\"heatmap\":[{\"type\":\"heatmap\",\"colorbar\":{\"outlinewidth\":0,\"ticks\":\"\"},\"colorscale\":[[0.0,\"#0d0887\"],[0.1111111111111111,\"#46039f\"],[0.2222222222222222,\"#7201a8\"],[0.3333333333333333,\"#9c179e\"],[0.4444444444444444,\"#bd3786\"],[0.5555555555555556,\"#d8576b\"],[0.6666666666666666,\"#ed7953\"],[0.7777777777777778,\"#fb9f3a\"],[0.8888888888888888,\"#fdca26\"],[1.0,\"#f0f921\"]]}],\"heatmapgl\":[{\"type\":\"heatmapgl\",\"colorbar\":{\"outlinewidth\":0,\"ticks\":\"\"},\"colorscale\":[[0.0,\"#0d0887\"],[0.1111111111111111,\"#46039f\"],[0.2222222222222222,\"#7201a8\"],[0.3333333333333333,\"#9c179e\"],[0.4444444444444444,\"#bd3786\"],[0.5555555555555556,\"#d8576b\"],[0.6666666666666666,\"#ed7953\"],[0.7777777777777778,\"#fb9f3a\"],[0.8888888888888888,\"#fdca26\"],[1.0,\"#f0f921\"]]}],\"contourcarpet\":[{\"type\":\"contourcarpet\",\"colorbar\":{\"outlinewidth\":0,\"ticks\":\"\"}}],\"contour\":[{\"type\":\"contour\",\"colorbar\":{\"outlinewidth\":0,\"ticks\":\"\"},\"colorscale\":[[0.0,\"#0d0887\"],[0.1111111111111111,\"#46039f\"],[0.2222222222222222,\"#7201a8\"],[0.3333333333333333,\"#9c179e\"],[0.4444444444444444,\"#bd3786\"],[0.5555555555555556,\"#d8576b\"],[0.6666666666666666,\"#ed7953\"],[0.7777777777777778,\"#fb9f3a\"],[0.8888888888888888,\"#fdca26\"],[1.0,\"#f0f921\"]]}],\"surface\":[{\"type\":\"surface\",\"colorbar\":{\"outlinewidth\":0,\"ticks\":\"\"},\"colorscale\":[[0.0,\"#0d0887\"],[0.1111111111111111,\"#46039f\"],[0.2222222222222222,\"#7201a8\"],[0.3333333333333333,\"#9c179e\"],[0.4444444444444444,\"#bd3786\"],[0.5555555555555556,\"#d8576b\"],[0.6666666666666666,\"#ed7953\"],[0.7777777777777778,\"#fb9f3a\"],[0.8888888888888888,\"#fdca26\"],[1.0,\"#f0f921\"]]}],\"mesh3d\":[{\"type\":\"mesh3d\",\"colorbar\":{\"outlinewidth\":0,\"ticks\":\"\"}}],\"scatter\":[{\"fillpattern\":{\"fillmode\":\"overlay\",\"size\":10,\"solidity\":0.2},\"type\":\"scatter\"}],\"parcoords\":[{\"type\":\"parcoords\",\"line\":{\"colorbar\":{\"outlinewidth\":0,\"ticks\":\"\"}}}],\"scatterpolargl\":[{\"type\":\"scatterpolargl\",\"marker\":{\"colorbar\":{\"outlinewidth\":0,\"ticks\":\"\"}}}],\"bar\":[{\"error_x\":{\"color\":\"#2a3f5f\"},\"error_y\":{\"color\":\"#2a3f5f\"},\"marker\":{\"line\":{\"color\":\"#E5ECF6\",\"width\":0.5},\"pattern\":{\"fillmode\":\"overlay\",\"size\":10,\"solidity\":0.2}},\"type\":\"bar\"}],\"scattergeo\":[{\"type\":\"scattergeo\",\"marker\":{\"colorbar\":{\"outlinewidth\":0,\"ticks\":\"\"}}}],\"scatterpolar\":[{\"type\":\"scatterpolar\",\"marker\":{\"colorbar\":{\"outlinewidth\":0,\"ticks\":\"\"}}}],\"histogram\":[{\"marker\":{\"pattern\":{\"fillmode\":\"overlay\",\"size\":10,\"solidity\":0.2}},\"type\":\"histogram\"}],\"scattergl\":[{\"type\":\"scattergl\",\"marker\":{\"colorbar\":{\"outlinewidth\":0,\"ticks\":\"\"}}}],\"scatter3d\":[{\"type\":\"scatter3d\",\"line\":{\"colorbar\":{\"outlinewidth\":0,\"ticks\":\"\"}},\"marker\":{\"colorbar\":{\"outlinewidth\":0,\"ticks\":\"\"}}}],\"scattermapbox\":[{\"type\":\"scattermapbox\",\"marker\":{\"colorbar\":{\"outlinewidth\":0,\"ticks\":\"\"}}}],\"scatterternary\":[{\"type\":\"scatterternary\",\"marker\":{\"colorbar\":{\"outlinewidth\":0,\"ticks\":\"\"}}}],\"scattercarpet\":[{\"type\":\"scattercarpet\",\"marker\":{\"colorbar\":{\"outlinewidth\":0,\"ticks\":\"\"}}}],\"carpet\":[{\"aaxis\":{\"endlinecolor\":\"#2a3f5f\",\"gridcolor\":\"white\",\"linecolor\":\"white\",\"minorgridcolor\":\"white\",\"startlinecolor\":\"#2a3f5f\"},\"baxis\":{\"endlinecolor\":\"#2a3f5f\",\"gridcolor\":\"white\",\"linecolor\":\"white\",\"minorgridcolor\":\"white\",\"startlinecolor\":\"#2a3f5f\"},\"type\":\"carpet\"}],\"table\":[{\"cells\":{\"fill\":{\"color\":\"#EBF0F8\"},\"line\":{\"color\":\"white\"}},\"header\":{\"fill\":{\"color\":\"#C8D4E3\"},\"line\":{\"color\":\"white\"}},\"type\":\"table\"}],\"barpolar\":[{\"marker\":{\"line\":{\"color\":\"#E5ECF6\",\"width\":0.5},\"pattern\":{\"fillmode\":\"overlay\",\"size\":10,\"solidity\":0.2}},\"type\":\"barpolar\"}],\"pie\":[{\"automargin\":true,\"type\":\"pie\"}]},\"layout\":{\"autotypenumbers\":\"strict\",\"colorway\":[\"#636efa\",\"#EF553B\",\"#00cc96\",\"#ab63fa\",\"#FFA15A\",\"#19d3f3\",\"#FF6692\",\"#B6E880\",\"#FF97FF\",\"#FECB52\"],\"font\":{\"color\":\"#2a3f5f\"},\"hovermode\":\"closest\",\"hoverlabel\":{\"align\":\"left\"},\"paper_bgcolor\":\"white\",\"plot_bgcolor\":\"#E5ECF6\",\"polar\":{\"bgcolor\":\"#E5ECF6\",\"angularaxis\":{\"gridcolor\":\"white\",\"linecolor\":\"white\",\"ticks\":\"\"},\"radialaxis\":{\"gridcolor\":\"white\",\"linecolor\":\"white\",\"ticks\":\"\"}},\"ternary\":{\"bgcolor\":\"#E5ECF6\",\"aaxis\":{\"gridcolor\":\"white\",\"linecolor\":\"white\",\"ticks\":\"\"},\"baxis\":{\"gridcolor\":\"white\",\"linecolor\":\"white\",\"ticks\":\"\"},\"caxis\":{\"gridcolor\":\"white\",\"linecolor\":\"white\",\"ticks\":\"\"}},\"coloraxis\":{\"colorbar\":{\"outlinewidth\":0,\"ticks\":\"\"}},\"colorscale\":{\"sequential\":[[0.0,\"#0d0887\"],[0.1111111111111111,\"#46039f\"],[0.2222222222222222,\"#7201a8\"],[0.3333333333333333,\"#9c179e\"],[0.4444444444444444,\"#bd3786\"],[0.5555555555555556,\"#d8576b\"],[0.6666666666666666,\"#ed7953\"],[0.7777777777777778,\"#fb9f3a\"],[0.8888888888888888,\"#fdca26\"],[1.0,\"#f0f921\"]],\"sequentialminus\":[[0.0,\"#0d0887\"],[0.1111111111111111,\"#46039f\"],[0.2222222222222222,\"#7201a8\"],[0.3333333333333333,\"#9c179e\"],[0.4444444444444444,\"#bd3786\"],[0.5555555555555556,\"#d8576b\"],[0.6666666666666666,\"#ed7953\"],[0.7777777777777778,\"#fb9f3a\"],[0.8888888888888888,\"#fdca26\"],[1.0,\"#f0f921\"]],\"diverging\":[[0,\"#8e0152\"],[0.1,\"#c51b7d\"],[0.2,\"#de77ae\"],[0.3,\"#f1b6da\"],[0.4,\"#fde0ef\"],[0.5,\"#f7f7f7\"],[0.6,\"#e6f5d0\"],[0.7,\"#b8e186\"],[0.8,\"#7fbc41\"],[0.9,\"#4d9221\"],[1,\"#276419\"]]},\"xaxis\":{\"gridcolor\":\"white\",\"linecolor\":\"white\",\"ticks\":\"\",\"title\":{\"standoff\":15},\"zerolinecolor\":\"white\",\"automargin\":true,\"zerolinewidth\":2},\"yaxis\":{\"gridcolor\":\"white\",\"linecolor\":\"white\",\"ticks\":\"\",\"title\":{\"standoff\":15},\"zerolinecolor\":\"white\",\"automargin\":true,\"zerolinewidth\":2},\"scene\":{\"xaxis\":{\"backgroundcolor\":\"#E5ECF6\",\"gridcolor\":\"white\",\"linecolor\":\"white\",\"showbackground\":true,\"ticks\":\"\",\"zerolinecolor\":\"white\",\"gridwidth\":2},\"yaxis\":{\"backgroundcolor\":\"#E5ECF6\",\"gridcolor\":\"white\",\"linecolor\":\"white\",\"showbackground\":true,\"ticks\":\"\",\"zerolinecolor\":\"white\",\"gridwidth\":2},\"zaxis\":{\"backgroundcolor\":\"#E5ECF6\",\"gridcolor\":\"white\",\"linecolor\":\"white\",\"showbackground\":true,\"ticks\":\"\",\"zerolinecolor\":\"white\",\"gridwidth\":2}},\"shapedefaults\":{\"line\":{\"color\":\"#2a3f5f\"}},\"annotationdefaults\":{\"arrowcolor\":\"#2a3f5f\",\"arrowhead\":0,\"arrowwidth\":1},\"geo\":{\"bgcolor\":\"white\",\"landcolor\":\"#E5ECF6\",\"subunitcolor\":\"white\",\"showland\":true,\"showlakes\":true,\"lakecolor\":\"white\"},\"title\":{\"x\":0.05},\"mapbox\":{\"style\":\"light\"}}},\"xaxis\":{\"anchor\":\"y\",\"domain\":[0.0,1.0],\"title\":{\"text\":\"x\"}},\"yaxis\":{\"anchor\":\"x\",\"domain\":[0.0,1.0],\"title\":{\"text\":\"y\"}},\"coloraxis\":{\"colorbar\":{\"title\":{\"text\":\"color\"}},\"colorscale\":[[0.0,\"rgb(0,0,255)\"],[1.0,\"rgb(255,0,0)\"]],\"showscale\":false},\"legend\":{\"tracegroupgap\":0},\"margin\":{\"t\":60},\"width\":600,\"height\":400,\"title\":{\"text\":\"Interlocking Hearts\"}},                        {\"responsive\": true}                    ).then(function(){\n",
       "                            \n",
       "var gd = document.getElementById('fe5b4b90-e7eb-4aa0-9ec9-323e70334310');\n",
       "var x = new MutationObserver(function (mutations, observer) {{\n",
       "        var display = window.getComputedStyle(gd).display;\n",
       "        if (!display || display === 'none') {{\n",
       "            console.log([gd, 'removed!']);\n",
       "            Plotly.purge(gd);\n",
       "            observer.disconnect();\n",
       "        }}\n",
       "}});\n",
       "\n",
       "// Listen for the removal of the full notebook cells\n",
       "var notebookContainer = gd.closest('#notebook-container');\n",
       "if (notebookContainer) {{\n",
       "    x.observe(notebookContainer, {childList: true});\n",
       "}}\n",
       "\n",
       "// Listen for the clearing of the current output cell\n",
       "var outputEl = gd.closest('.output');\n",
       "if (outputEl) {{\n",
       "    x.observe(outputEl, {childList: true});\n",
       "}}\n",
       "\n",
       "                        })                };                });            </script>        </div>"
      ]
     },
     "metadata": {},
     "output_type": "display_data"
    }
   ],
   "source": [
    "# Plotting the data\n",
    "figH = px.scatter(x=Xh[:, 0], y=Xh[:, 1], \n",
    "                  color=yh, color_continuous_scale='bluered')\n",
    "figH.update_traces(marker=dict(size=8, opacity=0.6))\n",
    "figH.update_layout(coloraxis_showscale=False, \n",
    "                   width=600, height=400, \n",
    "                    title='Interlocking Hearts')             \n",
    "figH.show()"
   ]
  },
  {
   "cell_type": "code",
   "execution_count": 26,
   "metadata": {},
   "outputs": [],
   "source": [
    "# Traditional PCA\n",
    "dataH = pca.fit_transform(Xh)"
   ]
  },
  {
   "cell_type": "code",
   "execution_count": 27,
   "metadata": {},
   "outputs": [
    {
     "data": {
      "application/vnd.plotly.v1+json": {
       "config": {
        "plotlyServerURL": "https://plot.ly"
       },
       "data": [
        {
         "hovertemplate": "x=%{x}<br>y=%{y}<br>color=%{marker.color}<extra></extra>",
         "legendgroup": "",
         "marker": {
          "color": [
           0,
           0,
           0,
           0,
           0,
           0,
           0,
           0,
           0,
           0,
           0,
           0,
           0,
           0,
           0,
           0,
           0,
           0,
           0,
           0,
           0,
           0,
           0,
           0,
           0,
           0,
           0,
           0,
           0,
           0,
           0,
           0,
           0,
           0,
           0,
           0,
           0,
           0,
           0,
           0,
           0,
           0,
           0,
           0,
           0,
           0,
           0,
           0,
           0,
           0,
           0,
           0,
           0,
           0,
           0,
           0,
           0,
           0,
           0,
           0,
           0,
           0,
           0,
           0,
           0,
           0,
           0,
           0,
           0,
           0,
           0,
           0,
           0,
           0,
           0,
           0,
           0,
           0,
           0,
           0,
           0,
           0,
           0,
           0,
           0,
           0,
           0,
           0,
           0,
           0,
           0,
           0,
           0,
           0,
           0,
           0,
           0,
           0,
           0,
           0,
           1,
           1,
           1,
           1,
           1,
           1,
           1,
           1,
           1,
           1,
           1,
           1,
           1,
           1,
           1,
           1,
           1,
           1,
           1,
           1,
           1,
           1,
           1,
           1,
           1,
           1,
           1,
           1,
           1,
           1,
           1,
           1,
           1,
           1,
           1,
           1,
           1,
           1,
           1,
           1,
           1,
           1,
           1,
           1,
           1,
           1,
           1,
           1,
           1,
           1,
           1,
           1,
           1,
           1,
           1,
           1,
           1,
           1,
           1,
           1,
           1,
           1,
           1,
           1,
           1,
           1,
           1,
           1,
           1,
           1,
           1,
           1,
           1,
           1,
           1,
           1,
           1,
           1,
           1,
           1,
           1,
           1,
           1,
           1,
           1,
           1,
           1,
           1,
           1,
           1,
           1,
           1,
           1,
           1,
           1,
           1,
           1,
           1,
           1,
           1
          ],
          "coloraxis": "coloraxis",
          "opacity": 0.6,
          "size": 8,
          "symbol": "circle"
         },
         "mode": "markers",
         "name": "",
         "orientation": "v",
         "showlegend": false,
         "type": "scatter",
         "x": [
          13.666076290032894,
          13.704297762194658,
          13.803081819628567,
          13.936489568011911,
          14.076651329502374,
          14.194970399488925,
          14.26338540259358,
          14.255634502418761,
          14.148462859284969,
          13.922715835924484,
          13.564264551241937,
          13.064717337583547,
          12.421880164882444,
          11.639940703743369,
          10.72936383111428,
          9.70650036369475,
          8.592924904580482,
          7.414532159532934,
          6.200433197487354,
          4.981703238665984,
          3.790040100338907,
          2.656396998489754,
          1.6096547375664143,
          0.6753963399964228,
          -0.1251580271610055,
          -0.7760061031862501,
          -1.2669694711603454,
          -1.5940238558568283,
          -1.7593410783388153,
          -1.771044304985609,
          -1.642692328478296,
          -1.39252173592968,
          -1.042487276014418,
          -0.6171499529768175,
          -0.14246890169906612,
          0.35544336034096774,
          0.8515422778989403,
          1.3229918075931986,
          1.750172266110376,
          2.1175115428359996,
          2.4141057082515167,
          2.6341064186769527,
          2.7768646404931947,
          2.84683242053307,
          2.853236058962264,
          2.8095444964876775,
          2.7327654968269894,
          2.6426088906828222,
          2.560560485975581,
          2.5089121229052096,
          2.509792790389172,
          2.584242890793848,
          2.751368934531908,
          3.0276095577280633,
          3.426136249849045,
          3.9564040594497802,
          4.623859327467714,
          5.429803665496388,
          6.371406382214593,
          7.441851714781036,
          8.63060279379878,
          9.923761399137403,
          11.304501272903261,
          12.753552957502693,
          14.249719633994452,
          15.770405980551484,
          17.292145326820673,
          18.791113990212423,
          20.243625284822734,
          21.626598957887303,
          22.918004447712057,
          24.097278157493818,
          25.145715774540573,
          26.04684050259106,
          26.786746981295853,
          27.354418797128655,
          27.742015077386355,
          27.945118995610503,
          27.96293843005619,
          27.79844684283445,
          27.458451003377995,
          26.95357173786383,
          26.298124648980554,
          25.509889832487023,
          24.60976303153641,
          23.621285322523494,
          22.570054117329185,
          21.48302470002194,
          20.38771831534265,
          19.311359558793427,
          18.27997202185941,
          17.317466360390284,
          16.44475875242941,
          15.67895973089058,
          15.032673345214015,
          14.513444367395287,
          14.123386784388318,
          13.859020221384627,
          13.711332466332722,
          13.666076290032894,
          -8.64198789281398,
          -8.603766420652216,
          -8.504982363218309,
          -8.371574614834962,
          -8.2314128533445,
          -8.11309378335795,
          -8.044678780253298,
          -8.052429680428114,
          -8.159601323561903,
          -8.385348346922388,
          -8.743799631604938,
          -9.243346845263327,
          -9.88618401796443,
          -10.668123479103505,
          -11.57870035173259,
          -12.601563819152124,
          -13.715139278266394,
          -14.89353202331394,
          -16.10763098535952,
          -17.32636094418089,
          -18.518024082507967,
          -19.651667184357123,
          -20.698409445280458,
          -21.63266784285045,
          -22.43322221000788,
          -23.08407028603312,
          -23.57503365400722,
          -23.902088038703702,
          -24.067405261185687,
          -24.07910848783248,
          -23.95075651132517,
          -23.70058591877655,
          -23.35055145886129,
          -22.92521413582369,
          -22.45053308454594,
          -21.952620822505907,
          -21.45652190494793,
          -20.985072375253676,
          -20.557891916736498,
          -20.190552640010868,
          -19.89395847459536,
          -19.67395776416992,
          -19.531199542353676,
          -19.4612317623138,
          -19.45482812388461,
          -19.4985196863592,
          -19.575298686019885,
          -19.665455292164054,
          -19.74750369687129,
          -19.79915205994166,
          -19.798271392457703,
          -19.723821292053024,
          -19.556695248314966,
          -19.280454625118807,
          -18.88192793299783,
          -18.351660123397092,
          -17.68420485537916,
          -16.878260517350487,
          -15.936657800632283,
          -14.866212468065838,
          -13.677461389048094,
          -12.38430278370947,
          -11.00356290994361,
          -9.554511225344182,
          -8.058344548852423,
          -6.537658202295389,
          -5.015918856026203,
          -3.516950192634452,
          -2.0644388980241324,
          -0.6814652249595723,
          0.6099402648651842,
          1.789213974646942,
          2.8376515916937004,
          3.738776319744188,
          4.47868279844898,
          5.046354614281782,
          5.43395089453948,
          5.637054812763628,
          5.654874247209315,
          5.490382659987578,
          5.150386820531124,
          4.645507555016955,
          3.990060466133679,
          3.201825649640147,
          2.3016988486895347,
          1.3132211396766236,
          0.2619899344823082,
          -0.8250394828249347,
          -1.9203458675042253,
          -2.996704624053449,
          -4.02809216098746,
          -4.9905978224565875,
          -5.863305430417461,
          -6.629104451956293,
          -7.27539083763286,
          -7.794619815451586,
          -8.184677398458556,
          -8.449043961462248,
          -8.596731716514151,
          -8.64198789281398
         ],
         "xaxis": "x",
         "y": [
          3.498693875577103,
          3.5716342010552955,
          3.7952787701648454,
          4.171535888307579,
          4.695257390318081,
          5.354566699142381,
          6.131487277987552,
          7.002830642292273,
          7.941290659470714,
          8.916681787854339,
          9.897253635876128,
          10.85101296406742,
          11.746986964494234,
          12.556368053238065,
          13.253490001384547,
          13.816597325438835,
          14.228383638815433,
          14.476289228855618,
          14.552562541244667,
          14.454103633268382,
          14.182119197717995,
          13.741627799632402,
          13.14086002784709,
          12.39060106946956,
          11.503522715985484,
          10.493548172795366,
          9.375286642218637,
          8.163566031890108,
          6.873081990508924,
          5.518170563194683,
          4.11270089537756,
          2.670074382074959,
          1.203308168983626,
          -0.2748254487405418,
          -1.7516359878347012,
          -3.21436136510995,
          -4.650055559136852,
          -6.04554431386384,
          -7.38746907848108,
          -8.662430835824253,
          -9.857235817917811,
          -10.959235080313606,
          -11.956740275615338,
          -12.839489476570725,
          -13.599130220193418,
          -14.229682623226362,
          -14.727943840175143,
          -15.093796491666554,
          -15.330387970228783,
          -15.4441545119469,
          -15.444673189454813,
          -15.34433594825254,
          -15.157851756033127,
          -14.901595059865151,
          -14.592830212819226,
          -14.248851527864286,
          -13.88608640943106,
          -13.519213998325244,
          -13.160353512315707,
          -12.8183747455841,
          -12.498378001337727,
          -12.201382297073256,
          -11.924249442606225,
          -11.659858181445921,
          -11.397527796396112,
          -11.123675307983396,
          -10.822675588983506,
          -10.477880321636844,
          -10.072740609902862,
          -9.591969976575445,
          -9.022679999606039,
          -8.355420335908148,
          -7.585058467517732,
          -6.711442057106351,
          -5.739797944156053,
          -4.680835949811145,
          -3.5505419953350423,
          -2.3696626380517642,
          -1.1629009614250783,
          0.04213923370985584,
          1.2162088217588334,
          2.329803809329499,
          3.3546174614133237,
          4.2649759167600445,
          5.0391787411131075,
          5.660669972080761,
          6.118973588453388,
          6.410339532948072,
          6.538061746082417,
          6.512447258275475,
          6.35043423015546,
          6.074875845188752,
          5.71352505171824,
          5.29777128615313,
          4.861193565498436,
          4.438003967778723,
          4.061460991491806,
          3.7623333153275893,
          3.5674910450086803,
          3.498693875577101,
          5.031753696322642,
          5.104694021800842,
          5.328338590910387,
          5.704595709053122,
          6.228317211063623,
          6.887626519887921,
          7.664547098733095,
          8.535890463037813,
          9.474350480216259,
          10.44974160859988,
          11.430313456621674,
          12.384072784812963,
          13.280046785239774,
          14.089427873983606,
          14.786549822130091,
          15.349657146184374,
          15.761443459560978,
          16.009349049601163,
          16.08562236199021,
          15.987163454013924,
          15.715179018463537,
          15.274687620377941,
          14.673919848592634,
          13.923660890215103,
          13.03658253673103,
          12.026607993540905,
          10.908346462964177,
          9.696625852635652,
          8.406141811254468,
          7.051230383940225,
          5.645760716123102,
          4.2031342028205,
          2.736367989729168,
          1.2582343720050024,
          -0.21857616708915714,
          -1.6813015443644084,
          -3.11699573839131,
          -4.512484493118299,
          -5.854409257735536,
          -7.129371015078709,
          -8.324175997172272,
          -9.426175259568064,
          -10.423680454869796,
          -11.30642965582518,
          -12.066070399447876,
          -12.696622802480814,
          -13.194884019429598,
          -13.560736670921012,
          -13.797328149483242,
          -13.911094691201361,
          -13.911613368709274,
          -13.811276127506998,
          -13.624791935287584,
          -13.368535239119607,
          -13.05977039207368,
          -12.715791707118745,
          -12.35302658868552,
          -11.986154177579701,
          -11.627293691570166,
          -11.28531492483856,
          -10.965318180592186,
          -10.66832247632771,
          -10.39118962186068,
          -10.12679836070038,
          -9.864467975650566,
          -9.590615487237852,
          -9.289615768237963,
          -8.944820500891304,
          -8.53968078915732,
          -8.058910155829903,
          -7.489620178860496,
          -6.822360515162605,
          -6.051998646772189,
          -5.178382236360808,
          -4.206738123410511,
          -3.147776129065603,
          -2.0174821745894995,
          -0.8366028173062211,
          0.37015885932046505,
          1.575199054455398,
          2.7492686425043757,
          3.862863630075043,
          4.887677282158869,
          5.798035737505585,
          6.572238561858647,
          7.193729792826304,
          7.652033409198927,
          7.943399353693613,
          8.071121566827959,
          8.045507079021018,
          7.883494050901001,
          7.607935665934293,
          7.2465848724637825,
          6.830831106898672,
          6.394253386243978,
          5.971063788524266,
          5.594520812237349,
          5.295393136073132,
          5.100550865754221,
          5.031753696322642
         ],
         "yaxis": "y"
        }
       ],
       "layout": {
        "coloraxis": {
         "colorbar": {
          "title": {
           "text": "color"
          }
         },
         "colorscale": [
          [
           0,
           "rgb(0,0,255)"
          ],
          [
           1,
           "rgb(255,0,0)"
          ]
         ],
         "showscale": false
        },
        "height": 400,
        "legend": {
         "tracegroupgap": 0
        },
        "margin": {
         "t": 60
        },
        "template": {
         "data": {
          "bar": [
           {
            "error_x": {
             "color": "#2a3f5f"
            },
            "error_y": {
             "color": "#2a3f5f"
            },
            "marker": {
             "line": {
              "color": "#E5ECF6",
              "width": 0.5
             },
             "pattern": {
              "fillmode": "overlay",
              "size": 10,
              "solidity": 0.2
             }
            },
            "type": "bar"
           }
          ],
          "barpolar": [
           {
            "marker": {
             "line": {
              "color": "#E5ECF6",
              "width": 0.5
             },
             "pattern": {
              "fillmode": "overlay",
              "size": 10,
              "solidity": 0.2
             }
            },
            "type": "barpolar"
           }
          ],
          "carpet": [
           {
            "aaxis": {
             "endlinecolor": "#2a3f5f",
             "gridcolor": "white",
             "linecolor": "white",
             "minorgridcolor": "white",
             "startlinecolor": "#2a3f5f"
            },
            "baxis": {
             "endlinecolor": "#2a3f5f",
             "gridcolor": "white",
             "linecolor": "white",
             "minorgridcolor": "white",
             "startlinecolor": "#2a3f5f"
            },
            "type": "carpet"
           }
          ],
          "choropleth": [
           {
            "colorbar": {
             "outlinewidth": 0,
             "ticks": ""
            },
            "type": "choropleth"
           }
          ],
          "contour": [
           {
            "colorbar": {
             "outlinewidth": 0,
             "ticks": ""
            },
            "colorscale": [
             [
              0,
              "#0d0887"
             ],
             [
              0.1111111111111111,
              "#46039f"
             ],
             [
              0.2222222222222222,
              "#7201a8"
             ],
             [
              0.3333333333333333,
              "#9c179e"
             ],
             [
              0.4444444444444444,
              "#bd3786"
             ],
             [
              0.5555555555555556,
              "#d8576b"
             ],
             [
              0.6666666666666666,
              "#ed7953"
             ],
             [
              0.7777777777777778,
              "#fb9f3a"
             ],
             [
              0.8888888888888888,
              "#fdca26"
             ],
             [
              1,
              "#f0f921"
             ]
            ],
            "type": "contour"
           }
          ],
          "contourcarpet": [
           {
            "colorbar": {
             "outlinewidth": 0,
             "ticks": ""
            },
            "type": "contourcarpet"
           }
          ],
          "heatmap": [
           {
            "colorbar": {
             "outlinewidth": 0,
             "ticks": ""
            },
            "colorscale": [
             [
              0,
              "#0d0887"
             ],
             [
              0.1111111111111111,
              "#46039f"
             ],
             [
              0.2222222222222222,
              "#7201a8"
             ],
             [
              0.3333333333333333,
              "#9c179e"
             ],
             [
              0.4444444444444444,
              "#bd3786"
             ],
             [
              0.5555555555555556,
              "#d8576b"
             ],
             [
              0.6666666666666666,
              "#ed7953"
             ],
             [
              0.7777777777777778,
              "#fb9f3a"
             ],
             [
              0.8888888888888888,
              "#fdca26"
             ],
             [
              1,
              "#f0f921"
             ]
            ],
            "type": "heatmap"
           }
          ],
          "heatmapgl": [
           {
            "colorbar": {
             "outlinewidth": 0,
             "ticks": ""
            },
            "colorscale": [
             [
              0,
              "#0d0887"
             ],
             [
              0.1111111111111111,
              "#46039f"
             ],
             [
              0.2222222222222222,
              "#7201a8"
             ],
             [
              0.3333333333333333,
              "#9c179e"
             ],
             [
              0.4444444444444444,
              "#bd3786"
             ],
             [
              0.5555555555555556,
              "#d8576b"
             ],
             [
              0.6666666666666666,
              "#ed7953"
             ],
             [
              0.7777777777777778,
              "#fb9f3a"
             ],
             [
              0.8888888888888888,
              "#fdca26"
             ],
             [
              1,
              "#f0f921"
             ]
            ],
            "type": "heatmapgl"
           }
          ],
          "histogram": [
           {
            "marker": {
             "pattern": {
              "fillmode": "overlay",
              "size": 10,
              "solidity": 0.2
             }
            },
            "type": "histogram"
           }
          ],
          "histogram2d": [
           {
            "colorbar": {
             "outlinewidth": 0,
             "ticks": ""
            },
            "colorscale": [
             [
              0,
              "#0d0887"
             ],
             [
              0.1111111111111111,
              "#46039f"
             ],
             [
              0.2222222222222222,
              "#7201a8"
             ],
             [
              0.3333333333333333,
              "#9c179e"
             ],
             [
              0.4444444444444444,
              "#bd3786"
             ],
             [
              0.5555555555555556,
              "#d8576b"
             ],
             [
              0.6666666666666666,
              "#ed7953"
             ],
             [
              0.7777777777777778,
              "#fb9f3a"
             ],
             [
              0.8888888888888888,
              "#fdca26"
             ],
             [
              1,
              "#f0f921"
             ]
            ],
            "type": "histogram2d"
           }
          ],
          "histogram2dcontour": [
           {
            "colorbar": {
             "outlinewidth": 0,
             "ticks": ""
            },
            "colorscale": [
             [
              0,
              "#0d0887"
             ],
             [
              0.1111111111111111,
              "#46039f"
             ],
             [
              0.2222222222222222,
              "#7201a8"
             ],
             [
              0.3333333333333333,
              "#9c179e"
             ],
             [
              0.4444444444444444,
              "#bd3786"
             ],
             [
              0.5555555555555556,
              "#d8576b"
             ],
             [
              0.6666666666666666,
              "#ed7953"
             ],
             [
              0.7777777777777778,
              "#fb9f3a"
             ],
             [
              0.8888888888888888,
              "#fdca26"
             ],
             [
              1,
              "#f0f921"
             ]
            ],
            "type": "histogram2dcontour"
           }
          ],
          "mesh3d": [
           {
            "colorbar": {
             "outlinewidth": 0,
             "ticks": ""
            },
            "type": "mesh3d"
           }
          ],
          "parcoords": [
           {
            "line": {
             "colorbar": {
              "outlinewidth": 0,
              "ticks": ""
             }
            },
            "type": "parcoords"
           }
          ],
          "pie": [
           {
            "automargin": true,
            "type": "pie"
           }
          ],
          "scatter": [
           {
            "fillpattern": {
             "fillmode": "overlay",
             "size": 10,
             "solidity": 0.2
            },
            "type": "scatter"
           }
          ],
          "scatter3d": [
           {
            "line": {
             "colorbar": {
              "outlinewidth": 0,
              "ticks": ""
             }
            },
            "marker": {
             "colorbar": {
              "outlinewidth": 0,
              "ticks": ""
             }
            },
            "type": "scatter3d"
           }
          ],
          "scattercarpet": [
           {
            "marker": {
             "colorbar": {
              "outlinewidth": 0,
              "ticks": ""
             }
            },
            "type": "scattercarpet"
           }
          ],
          "scattergeo": [
           {
            "marker": {
             "colorbar": {
              "outlinewidth": 0,
              "ticks": ""
             }
            },
            "type": "scattergeo"
           }
          ],
          "scattergl": [
           {
            "marker": {
             "colorbar": {
              "outlinewidth": 0,
              "ticks": ""
             }
            },
            "type": "scattergl"
           }
          ],
          "scattermapbox": [
           {
            "marker": {
             "colorbar": {
              "outlinewidth": 0,
              "ticks": ""
             }
            },
            "type": "scattermapbox"
           }
          ],
          "scatterpolar": [
           {
            "marker": {
             "colorbar": {
              "outlinewidth": 0,
              "ticks": ""
             }
            },
            "type": "scatterpolar"
           }
          ],
          "scatterpolargl": [
           {
            "marker": {
             "colorbar": {
              "outlinewidth": 0,
              "ticks": ""
             }
            },
            "type": "scatterpolargl"
           }
          ],
          "scatterternary": [
           {
            "marker": {
             "colorbar": {
              "outlinewidth": 0,
              "ticks": ""
             }
            },
            "type": "scatterternary"
           }
          ],
          "surface": [
           {
            "colorbar": {
             "outlinewidth": 0,
             "ticks": ""
            },
            "colorscale": [
             [
              0,
              "#0d0887"
             ],
             [
              0.1111111111111111,
              "#46039f"
             ],
             [
              0.2222222222222222,
              "#7201a8"
             ],
             [
              0.3333333333333333,
              "#9c179e"
             ],
             [
              0.4444444444444444,
              "#bd3786"
             ],
             [
              0.5555555555555556,
              "#d8576b"
             ],
             [
              0.6666666666666666,
              "#ed7953"
             ],
             [
              0.7777777777777778,
              "#fb9f3a"
             ],
             [
              0.8888888888888888,
              "#fdca26"
             ],
             [
              1,
              "#f0f921"
             ]
            ],
            "type": "surface"
           }
          ],
          "table": [
           {
            "cells": {
             "fill": {
              "color": "#EBF0F8"
             },
             "line": {
              "color": "white"
             }
            },
            "header": {
             "fill": {
              "color": "#C8D4E3"
             },
             "line": {
              "color": "white"
             }
            },
            "type": "table"
           }
          ]
         },
         "layout": {
          "annotationdefaults": {
           "arrowcolor": "#2a3f5f",
           "arrowhead": 0,
           "arrowwidth": 1
          },
          "autotypenumbers": "strict",
          "coloraxis": {
           "colorbar": {
            "outlinewidth": 0,
            "ticks": ""
           }
          },
          "colorscale": {
           "diverging": [
            [
             0,
             "#8e0152"
            ],
            [
             0.1,
             "#c51b7d"
            ],
            [
             0.2,
             "#de77ae"
            ],
            [
             0.3,
             "#f1b6da"
            ],
            [
             0.4,
             "#fde0ef"
            ],
            [
             0.5,
             "#f7f7f7"
            ],
            [
             0.6,
             "#e6f5d0"
            ],
            [
             0.7,
             "#b8e186"
            ],
            [
             0.8,
             "#7fbc41"
            ],
            [
             0.9,
             "#4d9221"
            ],
            [
             1,
             "#276419"
            ]
           ],
           "sequential": [
            [
             0,
             "#0d0887"
            ],
            [
             0.1111111111111111,
             "#46039f"
            ],
            [
             0.2222222222222222,
             "#7201a8"
            ],
            [
             0.3333333333333333,
             "#9c179e"
            ],
            [
             0.4444444444444444,
             "#bd3786"
            ],
            [
             0.5555555555555556,
             "#d8576b"
            ],
            [
             0.6666666666666666,
             "#ed7953"
            ],
            [
             0.7777777777777778,
             "#fb9f3a"
            ],
            [
             0.8888888888888888,
             "#fdca26"
            ],
            [
             1,
             "#f0f921"
            ]
           ],
           "sequentialminus": [
            [
             0,
             "#0d0887"
            ],
            [
             0.1111111111111111,
             "#46039f"
            ],
            [
             0.2222222222222222,
             "#7201a8"
            ],
            [
             0.3333333333333333,
             "#9c179e"
            ],
            [
             0.4444444444444444,
             "#bd3786"
            ],
            [
             0.5555555555555556,
             "#d8576b"
            ],
            [
             0.6666666666666666,
             "#ed7953"
            ],
            [
             0.7777777777777778,
             "#fb9f3a"
            ],
            [
             0.8888888888888888,
             "#fdca26"
            ],
            [
             1,
             "#f0f921"
            ]
           ]
          },
          "colorway": [
           "#636efa",
           "#EF553B",
           "#00cc96",
           "#ab63fa",
           "#FFA15A",
           "#19d3f3",
           "#FF6692",
           "#B6E880",
           "#FF97FF",
           "#FECB52"
          ],
          "font": {
           "color": "#2a3f5f"
          },
          "geo": {
           "bgcolor": "white",
           "lakecolor": "white",
           "landcolor": "#E5ECF6",
           "showlakes": true,
           "showland": true,
           "subunitcolor": "white"
          },
          "hoverlabel": {
           "align": "left"
          },
          "hovermode": "closest",
          "mapbox": {
           "style": "light"
          },
          "paper_bgcolor": "white",
          "plot_bgcolor": "#E5ECF6",
          "polar": {
           "angularaxis": {
            "gridcolor": "white",
            "linecolor": "white",
            "ticks": ""
           },
           "bgcolor": "#E5ECF6",
           "radialaxis": {
            "gridcolor": "white",
            "linecolor": "white",
            "ticks": ""
           }
          },
          "scene": {
           "xaxis": {
            "backgroundcolor": "#E5ECF6",
            "gridcolor": "white",
            "gridwidth": 2,
            "linecolor": "white",
            "showbackground": true,
            "ticks": "",
            "zerolinecolor": "white"
           },
           "yaxis": {
            "backgroundcolor": "#E5ECF6",
            "gridcolor": "white",
            "gridwidth": 2,
            "linecolor": "white",
            "showbackground": true,
            "ticks": "",
            "zerolinecolor": "white"
           },
           "zaxis": {
            "backgroundcolor": "#E5ECF6",
            "gridcolor": "white",
            "gridwidth": 2,
            "linecolor": "white",
            "showbackground": true,
            "ticks": "",
            "zerolinecolor": "white"
           }
          },
          "shapedefaults": {
           "line": {
            "color": "#2a3f5f"
           }
          },
          "ternary": {
           "aaxis": {
            "gridcolor": "white",
            "linecolor": "white",
            "ticks": ""
           },
           "baxis": {
            "gridcolor": "white",
            "linecolor": "white",
            "ticks": ""
           },
           "bgcolor": "#E5ECF6",
           "caxis": {
            "gridcolor": "white",
            "linecolor": "white",
            "ticks": ""
           }
          },
          "title": {
           "x": 0.05
          },
          "xaxis": {
           "automargin": true,
           "gridcolor": "white",
           "linecolor": "white",
           "ticks": "",
           "title": {
            "standoff": 15
           },
           "zerolinecolor": "white",
           "zerolinewidth": 2
          },
          "yaxis": {
           "automargin": true,
           "gridcolor": "white",
           "linecolor": "white",
           "ticks": "",
           "title": {
            "standoff": 15
           },
           "zerolinecolor": "white",
           "zerolinewidth": 2
          }
         }
        },
        "title": {
         "text": "Interlocking Hearts (PCA: 2 components)"
        },
        "width": 600,
        "xaxis": {
         "anchor": "y",
         "domain": [
          0,
          1
         ],
         "title": {
          "text": "Principal Component 1"
         }
        },
        "yaxis": {
         "anchor": "x",
         "domain": [
          0,
          1
         ],
         "title": {
          "text": "Principal Component 2"
         }
        }
       }
      },
      "text/html": [
       "<div>                            <div id=\"e0e48b41-24ce-46d1-8505-122316719d63\" class=\"plotly-graph-div\" style=\"height:400px; width:600px;\"></div>            <script type=\"text/javascript\">                require([\"plotly\"], function(Plotly) {                    window.PLOTLYENV=window.PLOTLYENV || {};                                    if (document.getElementById(\"e0e48b41-24ce-46d1-8505-122316719d63\")) {                    Plotly.newPlot(                        \"e0e48b41-24ce-46d1-8505-122316719d63\",                        [{\"hovertemplate\":\"x=%{x}<br>y=%{y}<br>color=%{marker.color}<extra></extra>\",\"legendgroup\":\"\",\"marker\":{\"color\":[0,0,0,0,0,0,0,0,0,0,0,0,0,0,0,0,0,0,0,0,0,0,0,0,0,0,0,0,0,0,0,0,0,0,0,0,0,0,0,0,0,0,0,0,0,0,0,0,0,0,0,0,0,0,0,0,0,0,0,0,0,0,0,0,0,0,0,0,0,0,0,0,0,0,0,0,0,0,0,0,0,0,0,0,0,0,0,0,0,0,0,0,0,0,0,0,0,0,0,0,1,1,1,1,1,1,1,1,1,1,1,1,1,1,1,1,1,1,1,1,1,1,1,1,1,1,1,1,1,1,1,1,1,1,1,1,1,1,1,1,1,1,1,1,1,1,1,1,1,1,1,1,1,1,1,1,1,1,1,1,1,1,1,1,1,1,1,1,1,1,1,1,1,1,1,1,1,1,1,1,1,1,1,1,1,1,1,1,1,1,1,1,1,1,1,1,1,1,1,1],\"coloraxis\":\"coloraxis\",\"symbol\":\"circle\",\"opacity\":0.6,\"size\":8},\"mode\":\"markers\",\"name\":\"\",\"orientation\":\"v\",\"showlegend\":false,\"x\":[13.666076290032894,13.704297762194658,13.803081819628567,13.936489568011911,14.076651329502374,14.194970399488925,14.26338540259358,14.255634502418761,14.148462859284969,13.922715835924484,13.564264551241937,13.064717337583547,12.421880164882444,11.639940703743369,10.72936383111428,9.70650036369475,8.592924904580482,7.414532159532934,6.200433197487354,4.981703238665984,3.790040100338907,2.656396998489754,1.6096547375664143,0.6753963399964228,-0.1251580271610055,-0.7760061031862501,-1.2669694711603454,-1.5940238558568283,-1.7593410783388153,-1.771044304985609,-1.642692328478296,-1.39252173592968,-1.042487276014418,-0.6171499529768175,-0.14246890169906612,0.35544336034096774,0.8515422778989403,1.3229918075931986,1.750172266110376,2.1175115428359996,2.4141057082515167,2.6341064186769527,2.7768646404931947,2.84683242053307,2.853236058962264,2.8095444964876775,2.7327654968269894,2.6426088906828222,2.560560485975581,2.5089121229052096,2.509792790389172,2.584242890793848,2.751368934531908,3.0276095577280633,3.426136249849045,3.9564040594497802,4.623859327467714,5.429803665496388,6.371406382214593,7.441851714781036,8.63060279379878,9.923761399137403,11.304501272903261,12.753552957502693,14.249719633994452,15.770405980551484,17.292145326820673,18.791113990212423,20.243625284822734,21.626598957887303,22.918004447712057,24.097278157493818,25.145715774540573,26.04684050259106,26.786746981295853,27.354418797128655,27.742015077386355,27.945118995610503,27.96293843005619,27.79844684283445,27.458451003377995,26.95357173786383,26.298124648980554,25.509889832487023,24.60976303153641,23.621285322523494,22.570054117329185,21.48302470002194,20.38771831534265,19.311359558793427,18.27997202185941,17.317466360390284,16.44475875242941,15.67895973089058,15.032673345214015,14.513444367395287,14.123386784388318,13.859020221384627,13.711332466332722,13.666076290032894,-8.64198789281398,-8.603766420652216,-8.504982363218309,-8.371574614834962,-8.2314128533445,-8.11309378335795,-8.044678780253298,-8.052429680428114,-8.159601323561903,-8.385348346922388,-8.743799631604938,-9.243346845263327,-9.88618401796443,-10.668123479103505,-11.57870035173259,-12.601563819152124,-13.715139278266394,-14.89353202331394,-16.10763098535952,-17.32636094418089,-18.518024082507967,-19.651667184357123,-20.698409445280458,-21.63266784285045,-22.43322221000788,-23.08407028603312,-23.57503365400722,-23.902088038703702,-24.067405261185687,-24.07910848783248,-23.95075651132517,-23.70058591877655,-23.35055145886129,-22.92521413582369,-22.45053308454594,-21.952620822505907,-21.45652190494793,-20.985072375253676,-20.557891916736498,-20.190552640010868,-19.89395847459536,-19.67395776416992,-19.531199542353676,-19.4612317623138,-19.45482812388461,-19.4985196863592,-19.575298686019885,-19.665455292164054,-19.74750369687129,-19.79915205994166,-19.798271392457703,-19.723821292053024,-19.556695248314966,-19.280454625118807,-18.88192793299783,-18.351660123397092,-17.68420485537916,-16.878260517350487,-15.936657800632283,-14.866212468065838,-13.677461389048094,-12.38430278370947,-11.00356290994361,-9.554511225344182,-8.058344548852423,-6.537658202295389,-5.015918856026203,-3.516950192634452,-2.0644388980241324,-0.6814652249595723,0.6099402648651842,1.789213974646942,2.8376515916937004,3.738776319744188,4.47868279844898,5.046354614281782,5.43395089453948,5.637054812763628,5.654874247209315,5.490382659987578,5.150386820531124,4.645507555016955,3.990060466133679,3.201825649640147,2.3016988486895347,1.3132211396766236,0.2619899344823082,-0.8250394828249347,-1.9203458675042253,-2.996704624053449,-4.02809216098746,-4.9905978224565875,-5.863305430417461,-6.629104451956293,-7.27539083763286,-7.794619815451586,-8.184677398458556,-8.449043961462248,-8.596731716514151,-8.64198789281398],\"xaxis\":\"x\",\"y\":[3.498693875577103,3.5716342010552955,3.7952787701648454,4.171535888307579,4.695257390318081,5.354566699142381,6.131487277987552,7.002830642292273,7.941290659470714,8.916681787854339,9.897253635876128,10.85101296406742,11.746986964494234,12.556368053238065,13.253490001384547,13.816597325438835,14.228383638815433,14.476289228855618,14.552562541244667,14.454103633268382,14.182119197717995,13.741627799632402,13.14086002784709,12.39060106946956,11.503522715985484,10.493548172795366,9.375286642218637,8.163566031890108,6.873081990508924,5.518170563194683,4.11270089537756,2.670074382074959,1.203308168983626,-0.2748254487405418,-1.7516359878347012,-3.21436136510995,-4.650055559136852,-6.04554431386384,-7.38746907848108,-8.662430835824253,-9.857235817917811,-10.959235080313606,-11.956740275615338,-12.839489476570725,-13.599130220193418,-14.229682623226362,-14.727943840175143,-15.093796491666554,-15.330387970228783,-15.4441545119469,-15.444673189454813,-15.34433594825254,-15.157851756033127,-14.901595059865151,-14.592830212819226,-14.248851527864286,-13.88608640943106,-13.519213998325244,-13.160353512315707,-12.8183747455841,-12.498378001337727,-12.201382297073256,-11.924249442606225,-11.659858181445921,-11.397527796396112,-11.123675307983396,-10.822675588983506,-10.477880321636844,-10.072740609902862,-9.591969976575445,-9.022679999606039,-8.355420335908148,-7.585058467517732,-6.711442057106351,-5.739797944156053,-4.680835949811145,-3.5505419953350423,-2.3696626380517642,-1.1629009614250783,0.04213923370985584,1.2162088217588334,2.329803809329499,3.3546174614133237,4.2649759167600445,5.0391787411131075,5.660669972080761,6.118973588453388,6.410339532948072,6.538061746082417,6.512447258275475,6.35043423015546,6.074875845188752,5.71352505171824,5.29777128615313,4.861193565498436,4.438003967778723,4.061460991491806,3.7623333153275893,3.5674910450086803,3.498693875577101,5.031753696322642,5.104694021800842,5.328338590910387,5.704595709053122,6.228317211063623,6.887626519887921,7.664547098733095,8.535890463037813,9.474350480216259,10.44974160859988,11.430313456621674,12.384072784812963,13.280046785239774,14.089427873983606,14.786549822130091,15.349657146184374,15.761443459560978,16.009349049601163,16.08562236199021,15.987163454013924,15.715179018463537,15.274687620377941,14.673919848592634,13.923660890215103,13.03658253673103,12.026607993540905,10.908346462964177,9.696625852635652,8.406141811254468,7.051230383940225,5.645760716123102,4.2031342028205,2.736367989729168,1.2582343720050024,-0.21857616708915714,-1.6813015443644084,-3.11699573839131,-4.512484493118299,-5.854409257735536,-7.129371015078709,-8.324175997172272,-9.426175259568064,-10.423680454869796,-11.30642965582518,-12.066070399447876,-12.696622802480814,-13.194884019429598,-13.560736670921012,-13.797328149483242,-13.911094691201361,-13.911613368709274,-13.811276127506998,-13.624791935287584,-13.368535239119607,-13.05977039207368,-12.715791707118745,-12.35302658868552,-11.986154177579701,-11.627293691570166,-11.28531492483856,-10.965318180592186,-10.66832247632771,-10.39118962186068,-10.12679836070038,-9.864467975650566,-9.590615487237852,-9.289615768237963,-8.944820500891304,-8.53968078915732,-8.058910155829903,-7.489620178860496,-6.822360515162605,-6.051998646772189,-5.178382236360808,-4.206738123410511,-3.147776129065603,-2.0174821745894995,-0.8366028173062211,0.37015885932046505,1.575199054455398,2.7492686425043757,3.862863630075043,4.887677282158869,5.798035737505585,6.572238561858647,7.193729792826304,7.652033409198927,7.943399353693613,8.071121566827959,8.045507079021018,7.883494050901001,7.607935665934293,7.2465848724637825,6.830831106898672,6.394253386243978,5.971063788524266,5.594520812237349,5.295393136073132,5.100550865754221,5.031753696322642],\"yaxis\":\"y\",\"type\":\"scatter\"}],                        {\"template\":{\"data\":{\"histogram2dcontour\":[{\"type\":\"histogram2dcontour\",\"colorbar\":{\"outlinewidth\":0,\"ticks\":\"\"},\"colorscale\":[[0.0,\"#0d0887\"],[0.1111111111111111,\"#46039f\"],[0.2222222222222222,\"#7201a8\"],[0.3333333333333333,\"#9c179e\"],[0.4444444444444444,\"#bd3786\"],[0.5555555555555556,\"#d8576b\"],[0.6666666666666666,\"#ed7953\"],[0.7777777777777778,\"#fb9f3a\"],[0.8888888888888888,\"#fdca26\"],[1.0,\"#f0f921\"]]}],\"choropleth\":[{\"type\":\"choropleth\",\"colorbar\":{\"outlinewidth\":0,\"ticks\":\"\"}}],\"histogram2d\":[{\"type\":\"histogram2d\",\"colorbar\":{\"outlinewidth\":0,\"ticks\":\"\"},\"colorscale\":[[0.0,\"#0d0887\"],[0.1111111111111111,\"#46039f\"],[0.2222222222222222,\"#7201a8\"],[0.3333333333333333,\"#9c179e\"],[0.4444444444444444,\"#bd3786\"],[0.5555555555555556,\"#d8576b\"],[0.6666666666666666,\"#ed7953\"],[0.7777777777777778,\"#fb9f3a\"],[0.8888888888888888,\"#fdca26\"],[1.0,\"#f0f921\"]]}],\"heatmap\":[{\"type\":\"heatmap\",\"colorbar\":{\"outlinewidth\":0,\"ticks\":\"\"},\"colorscale\":[[0.0,\"#0d0887\"],[0.1111111111111111,\"#46039f\"],[0.2222222222222222,\"#7201a8\"],[0.3333333333333333,\"#9c179e\"],[0.4444444444444444,\"#bd3786\"],[0.5555555555555556,\"#d8576b\"],[0.6666666666666666,\"#ed7953\"],[0.7777777777777778,\"#fb9f3a\"],[0.8888888888888888,\"#fdca26\"],[1.0,\"#f0f921\"]]}],\"heatmapgl\":[{\"type\":\"heatmapgl\",\"colorbar\":{\"outlinewidth\":0,\"ticks\":\"\"},\"colorscale\":[[0.0,\"#0d0887\"],[0.1111111111111111,\"#46039f\"],[0.2222222222222222,\"#7201a8\"],[0.3333333333333333,\"#9c179e\"],[0.4444444444444444,\"#bd3786\"],[0.5555555555555556,\"#d8576b\"],[0.6666666666666666,\"#ed7953\"],[0.7777777777777778,\"#fb9f3a\"],[0.8888888888888888,\"#fdca26\"],[1.0,\"#f0f921\"]]}],\"contourcarpet\":[{\"type\":\"contourcarpet\",\"colorbar\":{\"outlinewidth\":0,\"ticks\":\"\"}}],\"contour\":[{\"type\":\"contour\",\"colorbar\":{\"outlinewidth\":0,\"ticks\":\"\"},\"colorscale\":[[0.0,\"#0d0887\"],[0.1111111111111111,\"#46039f\"],[0.2222222222222222,\"#7201a8\"],[0.3333333333333333,\"#9c179e\"],[0.4444444444444444,\"#bd3786\"],[0.5555555555555556,\"#d8576b\"],[0.6666666666666666,\"#ed7953\"],[0.7777777777777778,\"#fb9f3a\"],[0.8888888888888888,\"#fdca26\"],[1.0,\"#f0f921\"]]}],\"surface\":[{\"type\":\"surface\",\"colorbar\":{\"outlinewidth\":0,\"ticks\":\"\"},\"colorscale\":[[0.0,\"#0d0887\"],[0.1111111111111111,\"#46039f\"],[0.2222222222222222,\"#7201a8\"],[0.3333333333333333,\"#9c179e\"],[0.4444444444444444,\"#bd3786\"],[0.5555555555555556,\"#d8576b\"],[0.6666666666666666,\"#ed7953\"],[0.7777777777777778,\"#fb9f3a\"],[0.8888888888888888,\"#fdca26\"],[1.0,\"#f0f921\"]]}],\"mesh3d\":[{\"type\":\"mesh3d\",\"colorbar\":{\"outlinewidth\":0,\"ticks\":\"\"}}],\"scatter\":[{\"fillpattern\":{\"fillmode\":\"overlay\",\"size\":10,\"solidity\":0.2},\"type\":\"scatter\"}],\"parcoords\":[{\"type\":\"parcoords\",\"line\":{\"colorbar\":{\"outlinewidth\":0,\"ticks\":\"\"}}}],\"scatterpolargl\":[{\"type\":\"scatterpolargl\",\"marker\":{\"colorbar\":{\"outlinewidth\":0,\"ticks\":\"\"}}}],\"bar\":[{\"error_x\":{\"color\":\"#2a3f5f\"},\"error_y\":{\"color\":\"#2a3f5f\"},\"marker\":{\"line\":{\"color\":\"#E5ECF6\",\"width\":0.5},\"pattern\":{\"fillmode\":\"overlay\",\"size\":10,\"solidity\":0.2}},\"type\":\"bar\"}],\"scattergeo\":[{\"type\":\"scattergeo\",\"marker\":{\"colorbar\":{\"outlinewidth\":0,\"ticks\":\"\"}}}],\"scatterpolar\":[{\"type\":\"scatterpolar\",\"marker\":{\"colorbar\":{\"outlinewidth\":0,\"ticks\":\"\"}}}],\"histogram\":[{\"marker\":{\"pattern\":{\"fillmode\":\"overlay\",\"size\":10,\"solidity\":0.2}},\"type\":\"histogram\"}],\"scattergl\":[{\"type\":\"scattergl\",\"marker\":{\"colorbar\":{\"outlinewidth\":0,\"ticks\":\"\"}}}],\"scatter3d\":[{\"type\":\"scatter3d\",\"line\":{\"colorbar\":{\"outlinewidth\":0,\"ticks\":\"\"}},\"marker\":{\"colorbar\":{\"outlinewidth\":0,\"ticks\":\"\"}}}],\"scattermapbox\":[{\"type\":\"scattermapbox\",\"marker\":{\"colorbar\":{\"outlinewidth\":0,\"ticks\":\"\"}}}],\"scatterternary\":[{\"type\":\"scatterternary\",\"marker\":{\"colorbar\":{\"outlinewidth\":0,\"ticks\":\"\"}}}],\"scattercarpet\":[{\"type\":\"scattercarpet\",\"marker\":{\"colorbar\":{\"outlinewidth\":0,\"ticks\":\"\"}}}],\"carpet\":[{\"aaxis\":{\"endlinecolor\":\"#2a3f5f\",\"gridcolor\":\"white\",\"linecolor\":\"white\",\"minorgridcolor\":\"white\",\"startlinecolor\":\"#2a3f5f\"},\"baxis\":{\"endlinecolor\":\"#2a3f5f\",\"gridcolor\":\"white\",\"linecolor\":\"white\",\"minorgridcolor\":\"white\",\"startlinecolor\":\"#2a3f5f\"},\"type\":\"carpet\"}],\"table\":[{\"cells\":{\"fill\":{\"color\":\"#EBF0F8\"},\"line\":{\"color\":\"white\"}},\"header\":{\"fill\":{\"color\":\"#C8D4E3\"},\"line\":{\"color\":\"white\"}},\"type\":\"table\"}],\"barpolar\":[{\"marker\":{\"line\":{\"color\":\"#E5ECF6\",\"width\":0.5},\"pattern\":{\"fillmode\":\"overlay\",\"size\":10,\"solidity\":0.2}},\"type\":\"barpolar\"}],\"pie\":[{\"automargin\":true,\"type\":\"pie\"}]},\"layout\":{\"autotypenumbers\":\"strict\",\"colorway\":[\"#636efa\",\"#EF553B\",\"#00cc96\",\"#ab63fa\",\"#FFA15A\",\"#19d3f3\",\"#FF6692\",\"#B6E880\",\"#FF97FF\",\"#FECB52\"],\"font\":{\"color\":\"#2a3f5f\"},\"hovermode\":\"closest\",\"hoverlabel\":{\"align\":\"left\"},\"paper_bgcolor\":\"white\",\"plot_bgcolor\":\"#E5ECF6\",\"polar\":{\"bgcolor\":\"#E5ECF6\",\"angularaxis\":{\"gridcolor\":\"white\",\"linecolor\":\"white\",\"ticks\":\"\"},\"radialaxis\":{\"gridcolor\":\"white\",\"linecolor\":\"white\",\"ticks\":\"\"}},\"ternary\":{\"bgcolor\":\"#E5ECF6\",\"aaxis\":{\"gridcolor\":\"white\",\"linecolor\":\"white\",\"ticks\":\"\"},\"baxis\":{\"gridcolor\":\"white\",\"linecolor\":\"white\",\"ticks\":\"\"},\"caxis\":{\"gridcolor\":\"white\",\"linecolor\":\"white\",\"ticks\":\"\"}},\"coloraxis\":{\"colorbar\":{\"outlinewidth\":0,\"ticks\":\"\"}},\"colorscale\":{\"sequential\":[[0.0,\"#0d0887\"],[0.1111111111111111,\"#46039f\"],[0.2222222222222222,\"#7201a8\"],[0.3333333333333333,\"#9c179e\"],[0.4444444444444444,\"#bd3786\"],[0.5555555555555556,\"#d8576b\"],[0.6666666666666666,\"#ed7953\"],[0.7777777777777778,\"#fb9f3a\"],[0.8888888888888888,\"#fdca26\"],[1.0,\"#f0f921\"]],\"sequentialminus\":[[0.0,\"#0d0887\"],[0.1111111111111111,\"#46039f\"],[0.2222222222222222,\"#7201a8\"],[0.3333333333333333,\"#9c179e\"],[0.4444444444444444,\"#bd3786\"],[0.5555555555555556,\"#d8576b\"],[0.6666666666666666,\"#ed7953\"],[0.7777777777777778,\"#fb9f3a\"],[0.8888888888888888,\"#fdca26\"],[1.0,\"#f0f921\"]],\"diverging\":[[0,\"#8e0152\"],[0.1,\"#c51b7d\"],[0.2,\"#de77ae\"],[0.3,\"#f1b6da\"],[0.4,\"#fde0ef\"],[0.5,\"#f7f7f7\"],[0.6,\"#e6f5d0\"],[0.7,\"#b8e186\"],[0.8,\"#7fbc41\"],[0.9,\"#4d9221\"],[1,\"#276419\"]]},\"xaxis\":{\"gridcolor\":\"white\",\"linecolor\":\"white\",\"ticks\":\"\",\"title\":{\"standoff\":15},\"zerolinecolor\":\"white\",\"automargin\":true,\"zerolinewidth\":2},\"yaxis\":{\"gridcolor\":\"white\",\"linecolor\":\"white\",\"ticks\":\"\",\"title\":{\"standoff\":15},\"zerolinecolor\":\"white\",\"automargin\":true,\"zerolinewidth\":2},\"scene\":{\"xaxis\":{\"backgroundcolor\":\"#E5ECF6\",\"gridcolor\":\"white\",\"linecolor\":\"white\",\"showbackground\":true,\"ticks\":\"\",\"zerolinecolor\":\"white\",\"gridwidth\":2},\"yaxis\":{\"backgroundcolor\":\"#E5ECF6\",\"gridcolor\":\"white\",\"linecolor\":\"white\",\"showbackground\":true,\"ticks\":\"\",\"zerolinecolor\":\"white\",\"gridwidth\":2},\"zaxis\":{\"backgroundcolor\":\"#E5ECF6\",\"gridcolor\":\"white\",\"linecolor\":\"white\",\"showbackground\":true,\"ticks\":\"\",\"zerolinecolor\":\"white\",\"gridwidth\":2}},\"shapedefaults\":{\"line\":{\"color\":\"#2a3f5f\"}},\"annotationdefaults\":{\"arrowcolor\":\"#2a3f5f\",\"arrowhead\":0,\"arrowwidth\":1},\"geo\":{\"bgcolor\":\"white\",\"landcolor\":\"#E5ECF6\",\"subunitcolor\":\"white\",\"showland\":true,\"showlakes\":true,\"lakecolor\":\"white\"},\"title\":{\"x\":0.05},\"mapbox\":{\"style\":\"light\"}}},\"xaxis\":{\"anchor\":\"y\",\"domain\":[0.0,1.0],\"title\":{\"text\":\"Principal Component 1\"}},\"yaxis\":{\"anchor\":\"x\",\"domain\":[0.0,1.0],\"title\":{\"text\":\"Principal Component 2\"}},\"coloraxis\":{\"colorbar\":{\"title\":{\"text\":\"color\"}},\"colorscale\":[[0.0,\"rgb(0,0,255)\"],[1.0,\"rgb(255,0,0)\"]],\"showscale\":false},\"legend\":{\"tracegroupgap\":0},\"margin\":{\"t\":60},\"width\":600,\"height\":400,\"title\":{\"text\":\"Interlocking Hearts (PCA: 2 components)\"}},                        {\"responsive\": true}                    ).then(function(){\n",
       "                            \n",
       "var gd = document.getElementById('e0e48b41-24ce-46d1-8505-122316719d63');\n",
       "var x = new MutationObserver(function (mutations, observer) {{\n",
       "        var display = window.getComputedStyle(gd).display;\n",
       "        if (!display || display === 'none') {{\n",
       "            console.log([gd, 'removed!']);\n",
       "            Plotly.purge(gd);\n",
       "            observer.disconnect();\n",
       "        }}\n",
       "}});\n",
       "\n",
       "// Listen for the removal of the full notebook cells\n",
       "var notebookContainer = gd.closest('#notebook-container');\n",
       "if (notebookContainer) {{\n",
       "    x.observe(notebookContainer, {childList: true});\n",
       "}}\n",
       "\n",
       "// Listen for the clearing of the current output cell\n",
       "var outputEl = gd.closest('.output');\n",
       "if (outputEl) {{\n",
       "    x.observe(outputEl, {childList: true});\n",
       "}}\n",
       "\n",
       "                        })                };                });            </script>        </div>"
      ]
     },
     "metadata": {},
     "output_type": "display_data"
    }
   ],
   "source": [
    "# Plotting the transformed data in a two principal component space\n",
    "figH2 = px.scatter(x=dataH[:, 0], y=dataH[:, 1], \n",
    "                   color=yh, color_continuous_scale='bluered')\n",
    "figH2.update_traces(marker=dict(size=8, opacity=0.6))\n",
    "figH2.update_layout(coloraxis_showscale=False, \n",
    "                    width=600, height=400, \n",
    "                    xaxis_title='Principal Component 1', \n",
    "                    yaxis_title='Principal Component 2',  \n",
    "                    title='Interlocking Hearts (PCA: 2 components)')             \n",
    "figH2.show()"
   ]
  },
  {
   "cell_type": "code",
   "execution_count": 28,
   "metadata": {},
   "outputs": [
    {
     "data": {
      "application/vnd.plotly.v1+json": {
       "config": {
        "plotlyServerURL": "https://plot.ly"
       },
       "data": [
        {
         "hovertemplate": "x=%{x}<br>y=%{y}<br>color=%{marker.color}<extra></extra>",
         "legendgroup": "",
         "marker": {
          "color": [
           0,
           0,
           0,
           0,
           0,
           0,
           0,
           0,
           0,
           0,
           0,
           0,
           0,
           0,
           0,
           0,
           0,
           0,
           0,
           0,
           0,
           0,
           0,
           0,
           0,
           0,
           0,
           0,
           0,
           0,
           0,
           0,
           0,
           0,
           0,
           0,
           0,
           0,
           0,
           0,
           0,
           0,
           0,
           0,
           0,
           0,
           0,
           0,
           0,
           0,
           0,
           0,
           0,
           0,
           0,
           0,
           0,
           0,
           0,
           0,
           0,
           0,
           0,
           0,
           0,
           0,
           0,
           0,
           0,
           0,
           0,
           0,
           0,
           0,
           0,
           0,
           0,
           0,
           0,
           0,
           0,
           0,
           0,
           0,
           0,
           0,
           0,
           0,
           0,
           0,
           0,
           0,
           0,
           0,
           0,
           0,
           0,
           0,
           0,
           0,
           1,
           1,
           1,
           1,
           1,
           1,
           1,
           1,
           1,
           1,
           1,
           1,
           1,
           1,
           1,
           1,
           1,
           1,
           1,
           1,
           1,
           1,
           1,
           1,
           1,
           1,
           1,
           1,
           1,
           1,
           1,
           1,
           1,
           1,
           1,
           1,
           1,
           1,
           1,
           1,
           1,
           1,
           1,
           1,
           1,
           1,
           1,
           1,
           1,
           1,
           1,
           1,
           1,
           1,
           1,
           1,
           1,
           1,
           1,
           1,
           1,
           1,
           1,
           1,
           1,
           1,
           1,
           1,
           1,
           1,
           1,
           1,
           1,
           1,
           1,
           1,
           1,
           1,
           1,
           1,
           1,
           1,
           1,
           1,
           1,
           1,
           1,
           1,
           1,
           1,
           1,
           1,
           1,
           1,
           1,
           1,
           1,
           1,
           1,
           1
          ],
          "coloraxis": "coloraxis",
          "opacity": 0.6,
          "size": 8,
          "symbol": "circle"
         },
         "mode": "markers",
         "name": "",
         "orientation": "v",
         "showlegend": false,
         "type": "scatter",
         "x": [
          13.666076290032894,
          13.704297762194658,
          13.803081819628567,
          13.936489568011911,
          14.076651329502374,
          14.194970399488925,
          14.26338540259358,
          14.255634502418761,
          14.148462859284969,
          13.922715835924484,
          13.564264551241937,
          13.064717337583547,
          12.421880164882444,
          11.639940703743369,
          10.72936383111428,
          9.70650036369475,
          8.592924904580482,
          7.414532159532934,
          6.200433197487354,
          4.981703238665984,
          3.790040100338907,
          2.656396998489754,
          1.6096547375664143,
          0.6753963399964228,
          -0.1251580271610055,
          -0.7760061031862501,
          -1.2669694711603454,
          -1.5940238558568283,
          -1.7593410783388153,
          -1.771044304985609,
          -1.642692328478296,
          -1.39252173592968,
          -1.042487276014418,
          -0.6171499529768175,
          -0.14246890169906612,
          0.35544336034096774,
          0.8515422778989403,
          1.3229918075931986,
          1.750172266110376,
          2.1175115428359996,
          2.4141057082515167,
          2.6341064186769527,
          2.7768646404931947,
          2.84683242053307,
          2.853236058962264,
          2.8095444964876775,
          2.7327654968269894,
          2.6426088906828222,
          2.560560485975581,
          2.5089121229052096,
          2.509792790389172,
          2.584242890793848,
          2.751368934531908,
          3.0276095577280633,
          3.426136249849045,
          3.9564040594497802,
          4.623859327467714,
          5.429803665496388,
          6.371406382214593,
          7.441851714781036,
          8.63060279379878,
          9.923761399137403,
          11.304501272903261,
          12.753552957502693,
          14.249719633994452,
          15.770405980551484,
          17.292145326820673,
          18.791113990212423,
          20.243625284822734,
          21.626598957887303,
          22.918004447712057,
          24.097278157493818,
          25.145715774540573,
          26.04684050259106,
          26.786746981295853,
          27.354418797128655,
          27.742015077386355,
          27.945118995610503,
          27.96293843005619,
          27.79844684283445,
          27.458451003377995,
          26.95357173786383,
          26.298124648980554,
          25.509889832487023,
          24.60976303153641,
          23.621285322523494,
          22.570054117329185,
          21.48302470002194,
          20.38771831534265,
          19.311359558793427,
          18.27997202185941,
          17.317466360390284,
          16.44475875242941,
          15.67895973089058,
          15.032673345214015,
          14.513444367395287,
          14.123386784388318,
          13.859020221384627,
          13.711332466332722,
          13.666076290032894,
          -8.64198789281398,
          -8.603766420652216,
          -8.504982363218309,
          -8.371574614834962,
          -8.2314128533445,
          -8.11309378335795,
          -8.044678780253298,
          -8.052429680428114,
          -8.159601323561903,
          -8.385348346922388,
          -8.743799631604938,
          -9.243346845263327,
          -9.88618401796443,
          -10.668123479103505,
          -11.57870035173259,
          -12.601563819152124,
          -13.715139278266394,
          -14.89353202331394,
          -16.10763098535952,
          -17.32636094418089,
          -18.518024082507967,
          -19.651667184357123,
          -20.698409445280458,
          -21.63266784285045,
          -22.43322221000788,
          -23.08407028603312,
          -23.57503365400722,
          -23.902088038703702,
          -24.067405261185687,
          -24.07910848783248,
          -23.95075651132517,
          -23.70058591877655,
          -23.35055145886129,
          -22.92521413582369,
          -22.45053308454594,
          -21.952620822505907,
          -21.45652190494793,
          -20.985072375253676,
          -20.557891916736498,
          -20.190552640010868,
          -19.89395847459536,
          -19.67395776416992,
          -19.531199542353676,
          -19.4612317623138,
          -19.45482812388461,
          -19.4985196863592,
          -19.575298686019885,
          -19.665455292164054,
          -19.74750369687129,
          -19.79915205994166,
          -19.798271392457703,
          -19.723821292053024,
          -19.556695248314966,
          -19.280454625118807,
          -18.88192793299783,
          -18.351660123397092,
          -17.68420485537916,
          -16.878260517350487,
          -15.936657800632283,
          -14.866212468065838,
          -13.677461389048094,
          -12.38430278370947,
          -11.00356290994361,
          -9.554511225344182,
          -8.058344548852423,
          -6.537658202295389,
          -5.015918856026203,
          -3.516950192634452,
          -2.0644388980241324,
          -0.6814652249595723,
          0.6099402648651842,
          1.789213974646942,
          2.8376515916937004,
          3.738776319744188,
          4.47868279844898,
          5.046354614281782,
          5.43395089453948,
          5.637054812763628,
          5.654874247209315,
          5.490382659987578,
          5.150386820531124,
          4.645507555016955,
          3.990060466133679,
          3.201825649640147,
          2.3016988486895347,
          1.3132211396766236,
          0.2619899344823082,
          -0.8250394828249347,
          -1.9203458675042253,
          -2.996704624053449,
          -4.02809216098746,
          -4.9905978224565875,
          -5.863305430417461,
          -6.629104451956293,
          -7.27539083763286,
          -7.794619815451586,
          -8.184677398458556,
          -8.449043961462248,
          -8.596731716514151,
          -8.64198789281398
         ],
         "xaxis": "x",
         "y": [
          0,
          0,
          0,
          0,
          0,
          0,
          0,
          0,
          0,
          0,
          0,
          0,
          0,
          0,
          0,
          0,
          0,
          0,
          0,
          0,
          0,
          0,
          0,
          0,
          0,
          0,
          0,
          0,
          0,
          0,
          0,
          0,
          0,
          0,
          0,
          0,
          0,
          0,
          0,
          0,
          0,
          0,
          0,
          0,
          0,
          0,
          0,
          0,
          0,
          0,
          0,
          0,
          0,
          0,
          0,
          0,
          0,
          0,
          0,
          0,
          0,
          0,
          0,
          0,
          0,
          0,
          0,
          0,
          0,
          0,
          0,
          0,
          0,
          0,
          0,
          0,
          0,
          0,
          0,
          0,
          0,
          0,
          0,
          0,
          0,
          0,
          0,
          0,
          0,
          0,
          0,
          0,
          0,
          0,
          0,
          0,
          0,
          0,
          0,
          0,
          0,
          0,
          0,
          0,
          0,
          0,
          0,
          0,
          0,
          0,
          0,
          0,
          0,
          0,
          0,
          0,
          0,
          0,
          0,
          0,
          0,
          0,
          0,
          0,
          0,
          0,
          0,
          0,
          0,
          0,
          0,
          0,
          0,
          0,
          0,
          0,
          0,
          0,
          0,
          0,
          0,
          0,
          0,
          0,
          0,
          0,
          0,
          0,
          0,
          0,
          0,
          0,
          0,
          0,
          0,
          0,
          0,
          0,
          0,
          0,
          0,
          0,
          0,
          0,
          0,
          0,
          0,
          0,
          0,
          0,
          0,
          0,
          0,
          0,
          0,
          0,
          0,
          0,
          0,
          0,
          0,
          0,
          0,
          0,
          0,
          0,
          0,
          0,
          0,
          0,
          0,
          0,
          0,
          0,
          0,
          0,
          0,
          0,
          0,
          0
         ],
         "yaxis": "y"
        }
       ],
       "layout": {
        "coloraxis": {
         "colorbar": {
          "title": {
           "text": "color"
          }
         },
         "colorscale": [
          [
           0,
           "rgb(0,0,255)"
          ],
          [
           1,
           "rgb(255,0,0)"
          ]
         ],
         "showscale": false
        },
        "height": 400,
        "legend": {
         "tracegroupgap": 0
        },
        "margin": {
         "t": 60
        },
        "template": {
         "data": {
          "bar": [
           {
            "error_x": {
             "color": "#2a3f5f"
            },
            "error_y": {
             "color": "#2a3f5f"
            },
            "marker": {
             "line": {
              "color": "#E5ECF6",
              "width": 0.5
             },
             "pattern": {
              "fillmode": "overlay",
              "size": 10,
              "solidity": 0.2
             }
            },
            "type": "bar"
           }
          ],
          "barpolar": [
           {
            "marker": {
             "line": {
              "color": "#E5ECF6",
              "width": 0.5
             },
             "pattern": {
              "fillmode": "overlay",
              "size": 10,
              "solidity": 0.2
             }
            },
            "type": "barpolar"
           }
          ],
          "carpet": [
           {
            "aaxis": {
             "endlinecolor": "#2a3f5f",
             "gridcolor": "white",
             "linecolor": "white",
             "minorgridcolor": "white",
             "startlinecolor": "#2a3f5f"
            },
            "baxis": {
             "endlinecolor": "#2a3f5f",
             "gridcolor": "white",
             "linecolor": "white",
             "minorgridcolor": "white",
             "startlinecolor": "#2a3f5f"
            },
            "type": "carpet"
           }
          ],
          "choropleth": [
           {
            "colorbar": {
             "outlinewidth": 0,
             "ticks": ""
            },
            "type": "choropleth"
           }
          ],
          "contour": [
           {
            "colorbar": {
             "outlinewidth": 0,
             "ticks": ""
            },
            "colorscale": [
             [
              0,
              "#0d0887"
             ],
             [
              0.1111111111111111,
              "#46039f"
             ],
             [
              0.2222222222222222,
              "#7201a8"
             ],
             [
              0.3333333333333333,
              "#9c179e"
             ],
             [
              0.4444444444444444,
              "#bd3786"
             ],
             [
              0.5555555555555556,
              "#d8576b"
             ],
             [
              0.6666666666666666,
              "#ed7953"
             ],
             [
              0.7777777777777778,
              "#fb9f3a"
             ],
             [
              0.8888888888888888,
              "#fdca26"
             ],
             [
              1,
              "#f0f921"
             ]
            ],
            "type": "contour"
           }
          ],
          "contourcarpet": [
           {
            "colorbar": {
             "outlinewidth": 0,
             "ticks": ""
            },
            "type": "contourcarpet"
           }
          ],
          "heatmap": [
           {
            "colorbar": {
             "outlinewidth": 0,
             "ticks": ""
            },
            "colorscale": [
             [
              0,
              "#0d0887"
             ],
             [
              0.1111111111111111,
              "#46039f"
             ],
             [
              0.2222222222222222,
              "#7201a8"
             ],
             [
              0.3333333333333333,
              "#9c179e"
             ],
             [
              0.4444444444444444,
              "#bd3786"
             ],
             [
              0.5555555555555556,
              "#d8576b"
             ],
             [
              0.6666666666666666,
              "#ed7953"
             ],
             [
              0.7777777777777778,
              "#fb9f3a"
             ],
             [
              0.8888888888888888,
              "#fdca26"
             ],
             [
              1,
              "#f0f921"
             ]
            ],
            "type": "heatmap"
           }
          ],
          "heatmapgl": [
           {
            "colorbar": {
             "outlinewidth": 0,
             "ticks": ""
            },
            "colorscale": [
             [
              0,
              "#0d0887"
             ],
             [
              0.1111111111111111,
              "#46039f"
             ],
             [
              0.2222222222222222,
              "#7201a8"
             ],
             [
              0.3333333333333333,
              "#9c179e"
             ],
             [
              0.4444444444444444,
              "#bd3786"
             ],
             [
              0.5555555555555556,
              "#d8576b"
             ],
             [
              0.6666666666666666,
              "#ed7953"
             ],
             [
              0.7777777777777778,
              "#fb9f3a"
             ],
             [
              0.8888888888888888,
              "#fdca26"
             ],
             [
              1,
              "#f0f921"
             ]
            ],
            "type": "heatmapgl"
           }
          ],
          "histogram": [
           {
            "marker": {
             "pattern": {
              "fillmode": "overlay",
              "size": 10,
              "solidity": 0.2
             }
            },
            "type": "histogram"
           }
          ],
          "histogram2d": [
           {
            "colorbar": {
             "outlinewidth": 0,
             "ticks": ""
            },
            "colorscale": [
             [
              0,
              "#0d0887"
             ],
             [
              0.1111111111111111,
              "#46039f"
             ],
             [
              0.2222222222222222,
              "#7201a8"
             ],
             [
              0.3333333333333333,
              "#9c179e"
             ],
             [
              0.4444444444444444,
              "#bd3786"
             ],
             [
              0.5555555555555556,
              "#d8576b"
             ],
             [
              0.6666666666666666,
              "#ed7953"
             ],
             [
              0.7777777777777778,
              "#fb9f3a"
             ],
             [
              0.8888888888888888,
              "#fdca26"
             ],
             [
              1,
              "#f0f921"
             ]
            ],
            "type": "histogram2d"
           }
          ],
          "histogram2dcontour": [
           {
            "colorbar": {
             "outlinewidth": 0,
             "ticks": ""
            },
            "colorscale": [
             [
              0,
              "#0d0887"
             ],
             [
              0.1111111111111111,
              "#46039f"
             ],
             [
              0.2222222222222222,
              "#7201a8"
             ],
             [
              0.3333333333333333,
              "#9c179e"
             ],
             [
              0.4444444444444444,
              "#bd3786"
             ],
             [
              0.5555555555555556,
              "#d8576b"
             ],
             [
              0.6666666666666666,
              "#ed7953"
             ],
             [
              0.7777777777777778,
              "#fb9f3a"
             ],
             [
              0.8888888888888888,
              "#fdca26"
             ],
             [
              1,
              "#f0f921"
             ]
            ],
            "type": "histogram2dcontour"
           }
          ],
          "mesh3d": [
           {
            "colorbar": {
             "outlinewidth": 0,
             "ticks": ""
            },
            "type": "mesh3d"
           }
          ],
          "parcoords": [
           {
            "line": {
             "colorbar": {
              "outlinewidth": 0,
              "ticks": ""
             }
            },
            "type": "parcoords"
           }
          ],
          "pie": [
           {
            "automargin": true,
            "type": "pie"
           }
          ],
          "scatter": [
           {
            "fillpattern": {
             "fillmode": "overlay",
             "size": 10,
             "solidity": 0.2
            },
            "type": "scatter"
           }
          ],
          "scatter3d": [
           {
            "line": {
             "colorbar": {
              "outlinewidth": 0,
              "ticks": ""
             }
            },
            "marker": {
             "colorbar": {
              "outlinewidth": 0,
              "ticks": ""
             }
            },
            "type": "scatter3d"
           }
          ],
          "scattercarpet": [
           {
            "marker": {
             "colorbar": {
              "outlinewidth": 0,
              "ticks": ""
             }
            },
            "type": "scattercarpet"
           }
          ],
          "scattergeo": [
           {
            "marker": {
             "colorbar": {
              "outlinewidth": 0,
              "ticks": ""
             }
            },
            "type": "scattergeo"
           }
          ],
          "scattergl": [
           {
            "marker": {
             "colorbar": {
              "outlinewidth": 0,
              "ticks": ""
             }
            },
            "type": "scattergl"
           }
          ],
          "scattermapbox": [
           {
            "marker": {
             "colorbar": {
              "outlinewidth": 0,
              "ticks": ""
             }
            },
            "type": "scattermapbox"
           }
          ],
          "scatterpolar": [
           {
            "marker": {
             "colorbar": {
              "outlinewidth": 0,
              "ticks": ""
             }
            },
            "type": "scatterpolar"
           }
          ],
          "scatterpolargl": [
           {
            "marker": {
             "colorbar": {
              "outlinewidth": 0,
              "ticks": ""
             }
            },
            "type": "scatterpolargl"
           }
          ],
          "scatterternary": [
           {
            "marker": {
             "colorbar": {
              "outlinewidth": 0,
              "ticks": ""
             }
            },
            "type": "scatterternary"
           }
          ],
          "surface": [
           {
            "colorbar": {
             "outlinewidth": 0,
             "ticks": ""
            },
            "colorscale": [
             [
              0,
              "#0d0887"
             ],
             [
              0.1111111111111111,
              "#46039f"
             ],
             [
              0.2222222222222222,
              "#7201a8"
             ],
             [
              0.3333333333333333,
              "#9c179e"
             ],
             [
              0.4444444444444444,
              "#bd3786"
             ],
             [
              0.5555555555555556,
              "#d8576b"
             ],
             [
              0.6666666666666666,
              "#ed7953"
             ],
             [
              0.7777777777777778,
              "#fb9f3a"
             ],
             [
              0.8888888888888888,
              "#fdca26"
             ],
             [
              1,
              "#f0f921"
             ]
            ],
            "type": "surface"
           }
          ],
          "table": [
           {
            "cells": {
             "fill": {
              "color": "#EBF0F8"
             },
             "line": {
              "color": "white"
             }
            },
            "header": {
             "fill": {
              "color": "#C8D4E3"
             },
             "line": {
              "color": "white"
             }
            },
            "type": "table"
           }
          ]
         },
         "layout": {
          "annotationdefaults": {
           "arrowcolor": "#2a3f5f",
           "arrowhead": 0,
           "arrowwidth": 1
          },
          "autotypenumbers": "strict",
          "coloraxis": {
           "colorbar": {
            "outlinewidth": 0,
            "ticks": ""
           }
          },
          "colorscale": {
           "diverging": [
            [
             0,
             "#8e0152"
            ],
            [
             0.1,
             "#c51b7d"
            ],
            [
             0.2,
             "#de77ae"
            ],
            [
             0.3,
             "#f1b6da"
            ],
            [
             0.4,
             "#fde0ef"
            ],
            [
             0.5,
             "#f7f7f7"
            ],
            [
             0.6,
             "#e6f5d0"
            ],
            [
             0.7,
             "#b8e186"
            ],
            [
             0.8,
             "#7fbc41"
            ],
            [
             0.9,
             "#4d9221"
            ],
            [
             1,
             "#276419"
            ]
           ],
           "sequential": [
            [
             0,
             "#0d0887"
            ],
            [
             0.1111111111111111,
             "#46039f"
            ],
            [
             0.2222222222222222,
             "#7201a8"
            ],
            [
             0.3333333333333333,
             "#9c179e"
            ],
            [
             0.4444444444444444,
             "#bd3786"
            ],
            [
             0.5555555555555556,
             "#d8576b"
            ],
            [
             0.6666666666666666,
             "#ed7953"
            ],
            [
             0.7777777777777778,
             "#fb9f3a"
            ],
            [
             0.8888888888888888,
             "#fdca26"
            ],
            [
             1,
             "#f0f921"
            ]
           ],
           "sequentialminus": [
            [
             0,
             "#0d0887"
            ],
            [
             0.1111111111111111,
             "#46039f"
            ],
            [
             0.2222222222222222,
             "#7201a8"
            ],
            [
             0.3333333333333333,
             "#9c179e"
            ],
            [
             0.4444444444444444,
             "#bd3786"
            ],
            [
             0.5555555555555556,
             "#d8576b"
            ],
            [
             0.6666666666666666,
             "#ed7953"
            ],
            [
             0.7777777777777778,
             "#fb9f3a"
            ],
            [
             0.8888888888888888,
             "#fdca26"
            ],
            [
             1,
             "#f0f921"
            ]
           ]
          },
          "colorway": [
           "#636efa",
           "#EF553B",
           "#00cc96",
           "#ab63fa",
           "#FFA15A",
           "#19d3f3",
           "#FF6692",
           "#B6E880",
           "#FF97FF",
           "#FECB52"
          ],
          "font": {
           "color": "#2a3f5f"
          },
          "geo": {
           "bgcolor": "white",
           "lakecolor": "white",
           "landcolor": "#E5ECF6",
           "showlakes": true,
           "showland": true,
           "subunitcolor": "white"
          },
          "hoverlabel": {
           "align": "left"
          },
          "hovermode": "closest",
          "mapbox": {
           "style": "light"
          },
          "paper_bgcolor": "white",
          "plot_bgcolor": "#E5ECF6",
          "polar": {
           "angularaxis": {
            "gridcolor": "white",
            "linecolor": "white",
            "ticks": ""
           },
           "bgcolor": "#E5ECF6",
           "radialaxis": {
            "gridcolor": "white",
            "linecolor": "white",
            "ticks": ""
           }
          },
          "scene": {
           "xaxis": {
            "backgroundcolor": "#E5ECF6",
            "gridcolor": "white",
            "gridwidth": 2,
            "linecolor": "white",
            "showbackground": true,
            "ticks": "",
            "zerolinecolor": "white"
           },
           "yaxis": {
            "backgroundcolor": "#E5ECF6",
            "gridcolor": "white",
            "gridwidth": 2,
            "linecolor": "white",
            "showbackground": true,
            "ticks": "",
            "zerolinecolor": "white"
           },
           "zaxis": {
            "backgroundcolor": "#E5ECF6",
            "gridcolor": "white",
            "gridwidth": 2,
            "linecolor": "white",
            "showbackground": true,
            "ticks": "",
            "zerolinecolor": "white"
           }
          },
          "shapedefaults": {
           "line": {
            "color": "#2a3f5f"
           }
          },
          "ternary": {
           "aaxis": {
            "gridcolor": "white",
            "linecolor": "white",
            "ticks": ""
           },
           "baxis": {
            "gridcolor": "white",
            "linecolor": "white",
            "ticks": ""
           },
           "bgcolor": "#E5ECF6",
           "caxis": {
            "gridcolor": "white",
            "linecolor": "white",
            "ticks": ""
           }
          },
          "title": {
           "x": 0.05
          },
          "xaxis": {
           "automargin": true,
           "gridcolor": "white",
           "linecolor": "white",
           "ticks": "",
           "title": {
            "standoff": 15
           },
           "zerolinecolor": "white",
           "zerolinewidth": 2
          },
          "yaxis": {
           "automargin": true,
           "gridcolor": "white",
           "linecolor": "white",
           "ticks": "",
           "title": {
            "standoff": 15
           },
           "zerolinecolor": "white",
           "zerolinewidth": 2
          }
         }
        },
        "title": {
         "text": "Interlocking Hearts Data (Kernel PCA: 1 component)"
        },
        "width": 600,
        "xaxis": {
         "anchor": "y",
         "domain": [
          0,
          1
         ],
         "title": {
          "text": "Principal Component 1"
         }
        },
        "yaxis": {
         "anchor": "x",
         "domain": [
          0,
          1
         ],
         "title": {
          "text": ""
         }
        }
       }
      },
      "text/html": [
       "<div>                            <div id=\"c160b0bb-724b-42b4-92ba-a7a8a1322ace\" class=\"plotly-graph-div\" style=\"height:400px; width:600px;\"></div>            <script type=\"text/javascript\">                require([\"plotly\"], function(Plotly) {                    window.PLOTLYENV=window.PLOTLYENV || {};                                    if (document.getElementById(\"c160b0bb-724b-42b4-92ba-a7a8a1322ace\")) {                    Plotly.newPlot(                        \"c160b0bb-724b-42b4-92ba-a7a8a1322ace\",                        [{\"hovertemplate\":\"x=%{x}<br>y=%{y}<br>color=%{marker.color}<extra></extra>\",\"legendgroup\":\"\",\"marker\":{\"color\":[0,0,0,0,0,0,0,0,0,0,0,0,0,0,0,0,0,0,0,0,0,0,0,0,0,0,0,0,0,0,0,0,0,0,0,0,0,0,0,0,0,0,0,0,0,0,0,0,0,0,0,0,0,0,0,0,0,0,0,0,0,0,0,0,0,0,0,0,0,0,0,0,0,0,0,0,0,0,0,0,0,0,0,0,0,0,0,0,0,0,0,0,0,0,0,0,0,0,0,0,1,1,1,1,1,1,1,1,1,1,1,1,1,1,1,1,1,1,1,1,1,1,1,1,1,1,1,1,1,1,1,1,1,1,1,1,1,1,1,1,1,1,1,1,1,1,1,1,1,1,1,1,1,1,1,1,1,1,1,1,1,1,1,1,1,1,1,1,1,1,1,1,1,1,1,1,1,1,1,1,1,1,1,1,1,1,1,1,1,1,1,1,1,1,1,1,1,1,1,1],\"coloraxis\":\"coloraxis\",\"symbol\":\"circle\",\"opacity\":0.6,\"size\":8},\"mode\":\"markers\",\"name\":\"\",\"orientation\":\"v\",\"showlegend\":false,\"x\":[13.666076290032894,13.704297762194658,13.803081819628567,13.936489568011911,14.076651329502374,14.194970399488925,14.26338540259358,14.255634502418761,14.148462859284969,13.922715835924484,13.564264551241937,13.064717337583547,12.421880164882444,11.639940703743369,10.72936383111428,9.70650036369475,8.592924904580482,7.414532159532934,6.200433197487354,4.981703238665984,3.790040100338907,2.656396998489754,1.6096547375664143,0.6753963399964228,-0.1251580271610055,-0.7760061031862501,-1.2669694711603454,-1.5940238558568283,-1.7593410783388153,-1.771044304985609,-1.642692328478296,-1.39252173592968,-1.042487276014418,-0.6171499529768175,-0.14246890169906612,0.35544336034096774,0.8515422778989403,1.3229918075931986,1.750172266110376,2.1175115428359996,2.4141057082515167,2.6341064186769527,2.7768646404931947,2.84683242053307,2.853236058962264,2.8095444964876775,2.7327654968269894,2.6426088906828222,2.560560485975581,2.5089121229052096,2.509792790389172,2.584242890793848,2.751368934531908,3.0276095577280633,3.426136249849045,3.9564040594497802,4.623859327467714,5.429803665496388,6.371406382214593,7.441851714781036,8.63060279379878,9.923761399137403,11.304501272903261,12.753552957502693,14.249719633994452,15.770405980551484,17.292145326820673,18.791113990212423,20.243625284822734,21.626598957887303,22.918004447712057,24.097278157493818,25.145715774540573,26.04684050259106,26.786746981295853,27.354418797128655,27.742015077386355,27.945118995610503,27.96293843005619,27.79844684283445,27.458451003377995,26.95357173786383,26.298124648980554,25.509889832487023,24.60976303153641,23.621285322523494,22.570054117329185,21.48302470002194,20.38771831534265,19.311359558793427,18.27997202185941,17.317466360390284,16.44475875242941,15.67895973089058,15.032673345214015,14.513444367395287,14.123386784388318,13.859020221384627,13.711332466332722,13.666076290032894,-8.64198789281398,-8.603766420652216,-8.504982363218309,-8.371574614834962,-8.2314128533445,-8.11309378335795,-8.044678780253298,-8.052429680428114,-8.159601323561903,-8.385348346922388,-8.743799631604938,-9.243346845263327,-9.88618401796443,-10.668123479103505,-11.57870035173259,-12.601563819152124,-13.715139278266394,-14.89353202331394,-16.10763098535952,-17.32636094418089,-18.518024082507967,-19.651667184357123,-20.698409445280458,-21.63266784285045,-22.43322221000788,-23.08407028603312,-23.57503365400722,-23.902088038703702,-24.067405261185687,-24.07910848783248,-23.95075651132517,-23.70058591877655,-23.35055145886129,-22.92521413582369,-22.45053308454594,-21.952620822505907,-21.45652190494793,-20.985072375253676,-20.557891916736498,-20.190552640010868,-19.89395847459536,-19.67395776416992,-19.531199542353676,-19.4612317623138,-19.45482812388461,-19.4985196863592,-19.575298686019885,-19.665455292164054,-19.74750369687129,-19.79915205994166,-19.798271392457703,-19.723821292053024,-19.556695248314966,-19.280454625118807,-18.88192793299783,-18.351660123397092,-17.68420485537916,-16.878260517350487,-15.936657800632283,-14.866212468065838,-13.677461389048094,-12.38430278370947,-11.00356290994361,-9.554511225344182,-8.058344548852423,-6.537658202295389,-5.015918856026203,-3.516950192634452,-2.0644388980241324,-0.6814652249595723,0.6099402648651842,1.789213974646942,2.8376515916937004,3.738776319744188,4.47868279844898,5.046354614281782,5.43395089453948,5.637054812763628,5.654874247209315,5.490382659987578,5.150386820531124,4.645507555016955,3.990060466133679,3.201825649640147,2.3016988486895347,1.3132211396766236,0.2619899344823082,-0.8250394828249347,-1.9203458675042253,-2.996704624053449,-4.02809216098746,-4.9905978224565875,-5.863305430417461,-6.629104451956293,-7.27539083763286,-7.794619815451586,-8.184677398458556,-8.449043961462248,-8.596731716514151,-8.64198789281398],\"xaxis\":\"x\",\"y\":[0.0,0.0,0.0,0.0,0.0,0.0,0.0,0.0,0.0,0.0,0.0,0.0,0.0,0.0,0.0,0.0,0.0,0.0,0.0,0.0,0.0,0.0,0.0,0.0,0.0,0.0,0.0,0.0,0.0,0.0,0.0,0.0,0.0,0.0,0.0,0.0,0.0,0.0,0.0,0.0,0.0,0.0,0.0,0.0,0.0,0.0,0.0,0.0,0.0,0.0,0.0,0.0,0.0,0.0,0.0,0.0,0.0,0.0,0.0,0.0,0.0,0.0,0.0,0.0,0.0,0.0,0.0,0.0,0.0,0.0,0.0,0.0,0.0,0.0,0.0,0.0,0.0,0.0,0.0,0.0,0.0,0.0,0.0,0.0,0.0,0.0,0.0,0.0,0.0,0.0,0.0,0.0,0.0,0.0,0.0,0.0,0.0,0.0,0.0,0.0,0.0,0.0,0.0,0.0,0.0,0.0,0.0,0.0,0.0,0.0,0.0,0.0,0.0,0.0,0.0,0.0,0.0,0.0,0.0,0.0,0.0,0.0,0.0,0.0,0.0,0.0,0.0,0.0,0.0,0.0,0.0,0.0,0.0,0.0,0.0,0.0,0.0,0.0,0.0,0.0,0.0,0.0,0.0,0.0,0.0,0.0,0.0,0.0,0.0,0.0,0.0,0.0,0.0,0.0,0.0,0.0,0.0,0.0,0.0,0.0,0.0,0.0,0.0,0.0,0.0,0.0,0.0,0.0,0.0,0.0,0.0,0.0,0.0,0.0,0.0,0.0,0.0,0.0,0.0,0.0,0.0,0.0,0.0,0.0,0.0,0.0,0.0,0.0,0.0,0.0,0.0,0.0,0.0,0.0,0.0,0.0,0.0,0.0,0.0,0.0],\"yaxis\":\"y\",\"type\":\"scatter\"}],                        {\"template\":{\"data\":{\"histogram2dcontour\":[{\"type\":\"histogram2dcontour\",\"colorbar\":{\"outlinewidth\":0,\"ticks\":\"\"},\"colorscale\":[[0.0,\"#0d0887\"],[0.1111111111111111,\"#46039f\"],[0.2222222222222222,\"#7201a8\"],[0.3333333333333333,\"#9c179e\"],[0.4444444444444444,\"#bd3786\"],[0.5555555555555556,\"#d8576b\"],[0.6666666666666666,\"#ed7953\"],[0.7777777777777778,\"#fb9f3a\"],[0.8888888888888888,\"#fdca26\"],[1.0,\"#f0f921\"]]}],\"choropleth\":[{\"type\":\"choropleth\",\"colorbar\":{\"outlinewidth\":0,\"ticks\":\"\"}}],\"histogram2d\":[{\"type\":\"histogram2d\",\"colorbar\":{\"outlinewidth\":0,\"ticks\":\"\"},\"colorscale\":[[0.0,\"#0d0887\"],[0.1111111111111111,\"#46039f\"],[0.2222222222222222,\"#7201a8\"],[0.3333333333333333,\"#9c179e\"],[0.4444444444444444,\"#bd3786\"],[0.5555555555555556,\"#d8576b\"],[0.6666666666666666,\"#ed7953\"],[0.7777777777777778,\"#fb9f3a\"],[0.8888888888888888,\"#fdca26\"],[1.0,\"#f0f921\"]]}],\"heatmap\":[{\"type\":\"heatmap\",\"colorbar\":{\"outlinewidth\":0,\"ticks\":\"\"},\"colorscale\":[[0.0,\"#0d0887\"],[0.1111111111111111,\"#46039f\"],[0.2222222222222222,\"#7201a8\"],[0.3333333333333333,\"#9c179e\"],[0.4444444444444444,\"#bd3786\"],[0.5555555555555556,\"#d8576b\"],[0.6666666666666666,\"#ed7953\"],[0.7777777777777778,\"#fb9f3a\"],[0.8888888888888888,\"#fdca26\"],[1.0,\"#f0f921\"]]}],\"heatmapgl\":[{\"type\":\"heatmapgl\",\"colorbar\":{\"outlinewidth\":0,\"ticks\":\"\"},\"colorscale\":[[0.0,\"#0d0887\"],[0.1111111111111111,\"#46039f\"],[0.2222222222222222,\"#7201a8\"],[0.3333333333333333,\"#9c179e\"],[0.4444444444444444,\"#bd3786\"],[0.5555555555555556,\"#d8576b\"],[0.6666666666666666,\"#ed7953\"],[0.7777777777777778,\"#fb9f3a\"],[0.8888888888888888,\"#fdca26\"],[1.0,\"#f0f921\"]]}],\"contourcarpet\":[{\"type\":\"contourcarpet\",\"colorbar\":{\"outlinewidth\":0,\"ticks\":\"\"}}],\"contour\":[{\"type\":\"contour\",\"colorbar\":{\"outlinewidth\":0,\"ticks\":\"\"},\"colorscale\":[[0.0,\"#0d0887\"],[0.1111111111111111,\"#46039f\"],[0.2222222222222222,\"#7201a8\"],[0.3333333333333333,\"#9c179e\"],[0.4444444444444444,\"#bd3786\"],[0.5555555555555556,\"#d8576b\"],[0.6666666666666666,\"#ed7953\"],[0.7777777777777778,\"#fb9f3a\"],[0.8888888888888888,\"#fdca26\"],[1.0,\"#f0f921\"]]}],\"surface\":[{\"type\":\"surface\",\"colorbar\":{\"outlinewidth\":0,\"ticks\":\"\"},\"colorscale\":[[0.0,\"#0d0887\"],[0.1111111111111111,\"#46039f\"],[0.2222222222222222,\"#7201a8\"],[0.3333333333333333,\"#9c179e\"],[0.4444444444444444,\"#bd3786\"],[0.5555555555555556,\"#d8576b\"],[0.6666666666666666,\"#ed7953\"],[0.7777777777777778,\"#fb9f3a\"],[0.8888888888888888,\"#fdca26\"],[1.0,\"#f0f921\"]]}],\"mesh3d\":[{\"type\":\"mesh3d\",\"colorbar\":{\"outlinewidth\":0,\"ticks\":\"\"}}],\"scatter\":[{\"fillpattern\":{\"fillmode\":\"overlay\",\"size\":10,\"solidity\":0.2},\"type\":\"scatter\"}],\"parcoords\":[{\"type\":\"parcoords\",\"line\":{\"colorbar\":{\"outlinewidth\":0,\"ticks\":\"\"}}}],\"scatterpolargl\":[{\"type\":\"scatterpolargl\",\"marker\":{\"colorbar\":{\"outlinewidth\":0,\"ticks\":\"\"}}}],\"bar\":[{\"error_x\":{\"color\":\"#2a3f5f\"},\"error_y\":{\"color\":\"#2a3f5f\"},\"marker\":{\"line\":{\"color\":\"#E5ECF6\",\"width\":0.5},\"pattern\":{\"fillmode\":\"overlay\",\"size\":10,\"solidity\":0.2}},\"type\":\"bar\"}],\"scattergeo\":[{\"type\":\"scattergeo\",\"marker\":{\"colorbar\":{\"outlinewidth\":0,\"ticks\":\"\"}}}],\"scatterpolar\":[{\"type\":\"scatterpolar\",\"marker\":{\"colorbar\":{\"outlinewidth\":0,\"ticks\":\"\"}}}],\"histogram\":[{\"marker\":{\"pattern\":{\"fillmode\":\"overlay\",\"size\":10,\"solidity\":0.2}},\"type\":\"histogram\"}],\"scattergl\":[{\"type\":\"scattergl\",\"marker\":{\"colorbar\":{\"outlinewidth\":0,\"ticks\":\"\"}}}],\"scatter3d\":[{\"type\":\"scatter3d\",\"line\":{\"colorbar\":{\"outlinewidth\":0,\"ticks\":\"\"}},\"marker\":{\"colorbar\":{\"outlinewidth\":0,\"ticks\":\"\"}}}],\"scattermapbox\":[{\"type\":\"scattermapbox\",\"marker\":{\"colorbar\":{\"outlinewidth\":0,\"ticks\":\"\"}}}],\"scatterternary\":[{\"type\":\"scatterternary\",\"marker\":{\"colorbar\":{\"outlinewidth\":0,\"ticks\":\"\"}}}],\"scattercarpet\":[{\"type\":\"scattercarpet\",\"marker\":{\"colorbar\":{\"outlinewidth\":0,\"ticks\":\"\"}}}],\"carpet\":[{\"aaxis\":{\"endlinecolor\":\"#2a3f5f\",\"gridcolor\":\"white\",\"linecolor\":\"white\",\"minorgridcolor\":\"white\",\"startlinecolor\":\"#2a3f5f\"},\"baxis\":{\"endlinecolor\":\"#2a3f5f\",\"gridcolor\":\"white\",\"linecolor\":\"white\",\"minorgridcolor\":\"white\",\"startlinecolor\":\"#2a3f5f\"},\"type\":\"carpet\"}],\"table\":[{\"cells\":{\"fill\":{\"color\":\"#EBF0F8\"},\"line\":{\"color\":\"white\"}},\"header\":{\"fill\":{\"color\":\"#C8D4E3\"},\"line\":{\"color\":\"white\"}},\"type\":\"table\"}],\"barpolar\":[{\"marker\":{\"line\":{\"color\":\"#E5ECF6\",\"width\":0.5},\"pattern\":{\"fillmode\":\"overlay\",\"size\":10,\"solidity\":0.2}},\"type\":\"barpolar\"}],\"pie\":[{\"automargin\":true,\"type\":\"pie\"}]},\"layout\":{\"autotypenumbers\":\"strict\",\"colorway\":[\"#636efa\",\"#EF553B\",\"#00cc96\",\"#ab63fa\",\"#FFA15A\",\"#19d3f3\",\"#FF6692\",\"#B6E880\",\"#FF97FF\",\"#FECB52\"],\"font\":{\"color\":\"#2a3f5f\"},\"hovermode\":\"closest\",\"hoverlabel\":{\"align\":\"left\"},\"paper_bgcolor\":\"white\",\"plot_bgcolor\":\"#E5ECF6\",\"polar\":{\"bgcolor\":\"#E5ECF6\",\"angularaxis\":{\"gridcolor\":\"white\",\"linecolor\":\"white\",\"ticks\":\"\"},\"radialaxis\":{\"gridcolor\":\"white\",\"linecolor\":\"white\",\"ticks\":\"\"}},\"ternary\":{\"bgcolor\":\"#E5ECF6\",\"aaxis\":{\"gridcolor\":\"white\",\"linecolor\":\"white\",\"ticks\":\"\"},\"baxis\":{\"gridcolor\":\"white\",\"linecolor\":\"white\",\"ticks\":\"\"},\"caxis\":{\"gridcolor\":\"white\",\"linecolor\":\"white\",\"ticks\":\"\"}},\"coloraxis\":{\"colorbar\":{\"outlinewidth\":0,\"ticks\":\"\"}},\"colorscale\":{\"sequential\":[[0.0,\"#0d0887\"],[0.1111111111111111,\"#46039f\"],[0.2222222222222222,\"#7201a8\"],[0.3333333333333333,\"#9c179e\"],[0.4444444444444444,\"#bd3786\"],[0.5555555555555556,\"#d8576b\"],[0.6666666666666666,\"#ed7953\"],[0.7777777777777778,\"#fb9f3a\"],[0.8888888888888888,\"#fdca26\"],[1.0,\"#f0f921\"]],\"sequentialminus\":[[0.0,\"#0d0887\"],[0.1111111111111111,\"#46039f\"],[0.2222222222222222,\"#7201a8\"],[0.3333333333333333,\"#9c179e\"],[0.4444444444444444,\"#bd3786\"],[0.5555555555555556,\"#d8576b\"],[0.6666666666666666,\"#ed7953\"],[0.7777777777777778,\"#fb9f3a\"],[0.8888888888888888,\"#fdca26\"],[1.0,\"#f0f921\"]],\"diverging\":[[0,\"#8e0152\"],[0.1,\"#c51b7d\"],[0.2,\"#de77ae\"],[0.3,\"#f1b6da\"],[0.4,\"#fde0ef\"],[0.5,\"#f7f7f7\"],[0.6,\"#e6f5d0\"],[0.7,\"#b8e186\"],[0.8,\"#7fbc41\"],[0.9,\"#4d9221\"],[1,\"#276419\"]]},\"xaxis\":{\"gridcolor\":\"white\",\"linecolor\":\"white\",\"ticks\":\"\",\"title\":{\"standoff\":15},\"zerolinecolor\":\"white\",\"automargin\":true,\"zerolinewidth\":2},\"yaxis\":{\"gridcolor\":\"white\",\"linecolor\":\"white\",\"ticks\":\"\",\"title\":{\"standoff\":15},\"zerolinecolor\":\"white\",\"automargin\":true,\"zerolinewidth\":2},\"scene\":{\"xaxis\":{\"backgroundcolor\":\"#E5ECF6\",\"gridcolor\":\"white\",\"linecolor\":\"white\",\"showbackground\":true,\"ticks\":\"\",\"zerolinecolor\":\"white\",\"gridwidth\":2},\"yaxis\":{\"backgroundcolor\":\"#E5ECF6\",\"gridcolor\":\"white\",\"linecolor\":\"white\",\"showbackground\":true,\"ticks\":\"\",\"zerolinecolor\":\"white\",\"gridwidth\":2},\"zaxis\":{\"backgroundcolor\":\"#E5ECF6\",\"gridcolor\":\"white\",\"linecolor\":\"white\",\"showbackground\":true,\"ticks\":\"\",\"zerolinecolor\":\"white\",\"gridwidth\":2}},\"shapedefaults\":{\"line\":{\"color\":\"#2a3f5f\"}},\"annotationdefaults\":{\"arrowcolor\":\"#2a3f5f\",\"arrowhead\":0,\"arrowwidth\":1},\"geo\":{\"bgcolor\":\"white\",\"landcolor\":\"#E5ECF6\",\"subunitcolor\":\"white\",\"showland\":true,\"showlakes\":true,\"lakecolor\":\"white\"},\"title\":{\"x\":0.05},\"mapbox\":{\"style\":\"light\"}}},\"xaxis\":{\"anchor\":\"y\",\"domain\":[0.0,1.0],\"title\":{\"text\":\"Principal Component 1\"}},\"yaxis\":{\"anchor\":\"x\",\"domain\":[0.0,1.0],\"title\":{\"text\":\"\"}},\"coloraxis\":{\"colorbar\":{\"title\":{\"text\":\"color\"}},\"colorscale\":[[0.0,\"rgb(0,0,255)\"],[1.0,\"rgb(255,0,0)\"]],\"showscale\":false},\"legend\":{\"tracegroupgap\":0},\"margin\":{\"t\":60},\"width\":600,\"height\":400,\"title\":{\"text\":\"Interlocking Hearts Data (Kernel PCA: 1 component)\"}},                        {\"responsive\": true}                    ).then(function(){\n",
       "                            \n",
       "var gd = document.getElementById('c160b0bb-724b-42b4-92ba-a7a8a1322ace');\n",
       "var x = new MutationObserver(function (mutations, observer) {{\n",
       "        var display = window.getComputedStyle(gd).display;\n",
       "        if (!display || display === 'none') {{\n",
       "            console.log([gd, 'removed!']);\n",
       "            Plotly.purge(gd);\n",
       "            observer.disconnect();\n",
       "        }}\n",
       "}});\n",
       "\n",
       "// Listen for the removal of the full notebook cells\n",
       "var notebookContainer = gd.closest('#notebook-container');\n",
       "if (notebookContainer) {{\n",
       "    x.observe(notebookContainer, {childList: true});\n",
       "}}\n",
       "\n",
       "// Listen for the clearing of the current output cell\n",
       "var outputEl = gd.closest('.output');\n",
       "if (outputEl) {{\n",
       "    x.observe(outputEl, {childList: true});\n",
       "}}\n",
       "\n",
       "                        })                };                });            </script>        </div>"
      ]
     },
     "metadata": {},
     "output_type": "display_data"
    }
   ],
   "source": [
    "# Projecting the transformed data into the first component space\n",
    "figH1 = px.scatter(x=dataH[:, 0], y=np.zeros_like(dataH[:, 0]), \n",
    "                    color=yh, color_continuous_scale='bluered')\n",
    "figH1.update_traces(marker=dict(size=8, opacity=0.6))\n",
    "figH1.update_layout(coloraxis_showscale=False, \n",
    "                    width=600, height=400, \n",
    "                    xaxis_title='Principal Component 1', yaxis_title='', \n",
    "                    title='Interlocking Hearts Data (Kernel PCA: 1 component)')\n",
    "figH1.show()"
   ]
  },
  {
   "cell_type": "code",
   "execution_count": 29,
   "metadata": {},
   "outputs": [],
   "source": [
    "# Kernel PCA\n",
    "dataHK = kpca.fit_transform(Xh)"
   ]
  },
  {
   "cell_type": "code",
   "execution_count": 30,
   "metadata": {},
   "outputs": [
    {
     "data": {
      "application/vnd.plotly.v1+json": {
       "config": {
        "plotlyServerURL": "https://plot.ly"
       },
       "data": [
        {
         "hovertemplate": "x=%{x}<br>y=%{y}<br>color=%{marker.color}<extra></extra>",
         "legendgroup": "",
         "marker": {
          "color": [
           0,
           0,
           0,
           0,
           0,
           0,
           0,
           0,
           0,
           0,
           0,
           0,
           0,
           0,
           0,
           0,
           0,
           0,
           0,
           0,
           0,
           0,
           0,
           0,
           0,
           0,
           0,
           0,
           0,
           0,
           0,
           0,
           0,
           0,
           0,
           0,
           0,
           0,
           0,
           0,
           0,
           0,
           0,
           0,
           0,
           0,
           0,
           0,
           0,
           0,
           0,
           0,
           0,
           0,
           0,
           0,
           0,
           0,
           0,
           0,
           0,
           0,
           0,
           0,
           0,
           0,
           0,
           0,
           0,
           0,
           0,
           0,
           0,
           0,
           0,
           0,
           0,
           0,
           0,
           0,
           0,
           0,
           0,
           0,
           0,
           0,
           0,
           0,
           0,
           0,
           0,
           0,
           0,
           0,
           0,
           0,
           0,
           0,
           0,
           0,
           1,
           1,
           1,
           1,
           1,
           1,
           1,
           1,
           1,
           1,
           1,
           1,
           1,
           1,
           1,
           1,
           1,
           1,
           1,
           1,
           1,
           1,
           1,
           1,
           1,
           1,
           1,
           1,
           1,
           1,
           1,
           1,
           1,
           1,
           1,
           1,
           1,
           1,
           1,
           1,
           1,
           1,
           1,
           1,
           1,
           1,
           1,
           1,
           1,
           1,
           1,
           1,
           1,
           1,
           1,
           1,
           1,
           1,
           1,
           1,
           1,
           1,
           1,
           1,
           1,
           1,
           1,
           1,
           1,
           1,
           1,
           1,
           1,
           1,
           1,
           1,
           1,
           1,
           1,
           1,
           1,
           1,
           1,
           1,
           1,
           1,
           1,
           1,
           1,
           1,
           1,
           1,
           1,
           1,
           1,
           1,
           1,
           1,
           1,
           1
          ],
          "coloraxis": "coloraxis",
          "opacity": 0.6,
          "size": 8,
          "symbol": "circle"
         },
         "mode": "markers",
         "name": "",
         "orientation": "v",
         "showlegend": false,
         "type": "scatter",
         "x": [
          0.649769617929334,
          0.6883426245637598,
          0.3740183148412396,
          0.024587660160924306,
          0.00011447588247934736,
          4.348067028510687e-8,
          1.3364769748042343e-12,
          -1.6957102643306748e-13,
          -1.6957146795989281e-13,
          -1.6956318933191767e-13,
          -1.695717094198754e-13,
          -1.6957749551250331e-13,
          -1.6957181182477875e-13,
          -1.6957245097285604e-13,
          -1.6956958993852228e-13,
          -1.6956773683174395e-13,
          -1.69565231942278e-13,
          -1.6957375401706597e-13,
          -1.695758803996918e-13,
          -1.6956682403759764e-13,
          -1.6957513399549266e-13,
          -1.6957129076823265e-13,
          -1.6956417103136778e-13,
          -1.6957387450142024e-13,
          -1.6956401293823622e-13,
          -1.6957352884368457e-13,
          -1.6957167279732926e-13,
          -1.7974853751506104e-13,
          -1.6957197843526428e-13,
          -1.6957194925819238e-13,
          -1.695754388401016e-13,
          -1.6956652786840417e-13,
          -1.6957461767744562e-13,
          -1.6956937211253414e-13,
          -1.695657090164755e-13,
          -1.6957164230665803e-13,
          -1.695710443616466e-13,
          -1.695725298199345e-13,
          -1.7002344253593644e-13,
          -1.695794750553592e-13,
          -1.6957057108379763e-13,
          -1.6956639189475396e-13,
          -1.6956932553256251e-13,
          -1.695728033161116e-13,
          -1.697143665802994e-13,
          -1.71504810023599e-13,
          -2.485997256536954e-13,
          -1.0545914634839015e-12,
          -1.9367160116422924e-12,
          -1.7955331981692063e-12,
          -1.7955143928831315e-12,
          -1.9366934714958552e-12,
          -1.0545779212825626e-12,
          -2.485970931152132e-13,
          -1.7150259801369354e-13,
          -1.6971371157354824e-13,
          -1.695740031966591e-13,
          -1.6957001323078553e-13,
          -1.69572124066889e-13,
          -1.6957193200869038e-13,
          -1.6957971396534264e-13,
          -1.6956935773538857e-13,
          -1.6957125372886804e-13,
          -1.6956322000177287e-13,
          -1.6956744183206474e-13,
          -1.6956520520530107e-13,
          -1.695646152829886e-13,
          -1.6957069440610483e-13,
          -1.6957001275491005e-13,
          -1.6956950797007725e-13,
          -1.6957234865058094e-13,
          -1.6956991868992614e-13,
          -1.6957788227996006e-13,
          -1.6957163748310176e-13,
          -1.6957229298380474e-13,
          -1.6956731290810187e-13,
          -1.6957300407116504e-13,
          -1.6957151441115056e-13,
          -1.6957111829336108e-13,
          -1.6957366833064003e-13,
          -1.695668348189149e-13,
          -1.6957197619891924e-13,
          -1.6956891040480735e-13,
          -1.6956626585259909e-13,
          -1.6956949801227284e-13,
          -1.6956915035636459e-13,
          -1.6957194580241063e-13,
          -1.695638373763292e-13,
          -1.6956846287692105e-13,
          -1.6958005970632461e-13,
          -1.6956760936500172e-13,
          -1.6957640571296186e-13,
          -1.6956916657824912e-13,
          1.3366993200827737e-12,
          4.348067046507829e-8,
          0.00011447588247965342,
          0.02458766016092351,
          0.3740183148412499,
          0.688342624563759,
          0.6497696179293341,
          -0.6497696179200868,
          -0.6883426245537038,
          -0.37401831483611375,
          -0.024587660160985715,
          -0.0001144758828214969,
          -4.348100974627289e-8,
          -1.6758396128770163e-12,
          -1.6958086876957498e-13,
          -1.6957301974980643e-13,
          -1.6956765656322904e-13,
          -1.6956551623729403e-13,
          -1.69566375756707e-13,
          -1.695702844316373e-13,
          -1.6957339843192683e-13,
          -1.6956824074465344e-13,
          -1.6956446073390198e-13,
          -1.695623940216144e-13,
          -1.6957123616157998e-13,
          -1.695668447487233e-13,
          -1.695662264951066e-13,
          -1.695684190957288e-13,
          -1.6956498829937695e-13,
          -1.6956539965276986e-13,
          -1.6957330137876204e-13,
          -1.6956714128047818e-13,
          -1.6956976714677266e-13,
          -1.6957064410680976e-13,
          -1.695781807186486e-13,
          -1.69571961820474e-13,
          -1.695756579905578e-13,
          -1.695667569104198e-13,
          -1.6956467684001628e-13,
          -1.6957174912031276e-13,
          -1.6956120527316993e-13,
          -1.69567121101686e-13,
          -1.69561613747891e-13,
          -1.6956947808400956e-13,
          -1.695772797590741e-13,
          -1.6956814531751013e-13,
          -1.6957600322276222e-13,
          -1.695705143625057e-13,
          -1.6956943164471056e-13,
          -1.6957198073565334e-13,
          -1.6957035491783098e-13,
          -1.6970653487888323e-13,
          -1.7152538283776194e-13,
          -2.4858145478143985e-13,
          -1.0546326454834136e-12,
          -1.936677831241494e-12,
          -1.7955265913696737e-12,
          -1.795521771944334e-12,
          -1.9367031796375795e-12,
          -1.054635299882689e-12,
          -2.4857390529268743e-13,
          -1.7152844402089323e-13,
          -1.6971006052279534e-13,
          -1.6957240093130223e-13,
          -1.6957242824370513e-13,
          -1.6957040119342814e-13,
          -1.6957071443369443e-13,
          -1.6957508465524796e-13,
          -1.6956619379955072e-13,
          -1.6957734706020854e-13,
          -1.6956730539051132e-13,
          -1.6956315572146828e-13,
          -1.6956434090313415e-13,
          -1.6955968202523757e-13,
          -1.6956462583707091e-13,
          -1.6957066588577672e-13,
          -1.695705152791135e-13,
          -1.695659118545444e-13,
          -1.7001367157666275e-13,
          -1.6957017368905134e-13,
          -1.6956930777925133e-13,
          -1.6956647542408825e-13,
          -1.6956537912469284e-13,
          -1.6957664249552383e-13,
          -1.6957027910451976e-13,
          -1.6956485600758879e-13,
          -1.6957084318623767e-13,
          -1.6957209006973535e-13,
          -1.6956473064161006e-13,
          -1.6956609165894373e-13,
          -1.6956174537040462e-13,
          -1.6955806368736459e-13,
          -1.6957104542867023e-13,
          -1.6957435572283502e-13,
          -1.6957331005365567e-13,
          -1.7974474973361726e-13,
          -1.6955925355015037e-13,
          -1.6956530792086326e-13,
          -1.6957287342806502e-13,
          -1.6957379629855475e-13,
          -1.675833674380029e-12,
          -4.348100975038122e-8,
          -0.00011447588282149202,
          -0.024587660161001924,
          -0.3740183148361767,
          -0.6883426245537039,
          -0.649769617920087
         ],
         "xaxis": "x",
         "y": [
          0.5771222973179484,
          0.611074440842885,
          0.32080404410100677,
          0.00046786895782058936,
          -0.018068135301933737,
          -0.017945551769714227,
          -0.017938518744382976,
          -0.017937885007249063,
          -0.017937820042948534,
          -0.01793781142342238,
          -0.01793780984793942,
          -0.017937809451078687,
          -0.01793780931860489,
          -0.01793780926394934,
          -0.017937809238595333,
          -0.01793780922649774,
          -0.017937809220859604,
          -0.01793780921833918,
          -0.01793780921730481,
          -0.017937809217046224,
          -0.017937809217334146,
          -0.017937809218156214,
          -0.017937809219408896,
          -0.01793780922044233,
          -0.01793780922014916,
          -0.017937809218335043,
          -0.017937809216355266,
          -0.01905344154383235,
          -0.017937809216841412,
          -0.017937809214887246,
          -0.017937809214880838,
          -0.017937809214880234,
          -0.017937809214880168,
          -0.01793780921488015,
          -0.017937809214880154,
          -0.01793780921488016,
          -0.017937809214880203,
          -0.017937835798980103,
          -0.017985827265016196,
          -0.0179378092156905,
          -0.017937809250674012,
          -0.01793781068148136,
          -0.017937856601876693,
          -0.01793888196384199,
          -0.017953753611644467,
          -0.018176037682540096,
          -0.029564175617985362,
          -0.155789230343617,
          -0.2955808022496926,
          -0.27417044319260264,
          -0.27417044319260264,
          -0.2955808022496926,
          -0.155789230343617,
          -0.029564175617985293,
          -0.018176037682540034,
          -0.017953753611644467,
          -0.01793888196384199,
          -0.017937856601876696,
          -0.017937810681481356,
          -0.017937809250674005,
          -0.017937809215690447,
          -0.01793780921490091,
          -0.017937809214880904,
          -0.01793780921488021,
          -0.017937809214880165,
          -0.017937809214880147,
          -0.01793780921488016,
          -0.01793780921488017,
          -0.017937809214880227,
          -0.017937809214880848,
          -0.017937809214887242,
          -0.017937809214942046,
          -0.017937809215258293,
          -0.0179378092163351,
          -0.017937809218335043,
          -0.017937809220149148,
          -0.01793780922044233,
          -0.01793780921940889,
          -0.017937809218156207,
          -0.017937809217334143,
          -0.017937809217046224,
          -0.01793780921730482,
          -0.017937809218339183,
          -0.0179378092208596,
          -0.017937809226497733,
          -0.01793780923859533,
          -0.01793780926394934,
          -0.017937809318604895,
          -0.017937809451078677,
          -0.01793780984793942,
          -0.01793781142342237,
          -0.017937820042948527,
          -0.017937885007249046,
          -0.01793851874438286,
          -0.01794555176971454,
          -0.01806813530193426,
          0.0004678689578200838,
          0.3208040441010166,
          0.6110744408428852,
          0.5771222973179478,
          0.5771222973279813,
          0.6110744408532736,
          0.3208040441067674,
          0.0004678689582091787,
          -0.01806813530193249,
          -0.017945551769714536,
          -0.017938518744382872,
          -0.017937885007249053,
          -0.017937820042948534,
          -0.01793781142342237,
          -0.017937809847939416,
          -0.01793780945107868,
          -0.01793780931860489,
          -0.01793780926394934,
          -0.017937809238595333,
          -0.017937809226497736,
          -0.0179378092208596,
          -0.01793780921833918,
          -0.017937809217304822,
          -0.017937809217046238,
          -0.017937809217334146,
          -0.017937809218156214,
          -0.017937809219408893,
          -0.01793780922044233,
          -0.017937809220149155,
          -0.01793780921833504,
          -0.0179378092163351,
          -0.017937809215258296,
          -0.01793780921494205,
          -0.017937809214887246,
          -0.017937809214880845,
          -0.017937809214880227,
          -0.017937809214880165,
          -0.01793780921488016,
          -0.01793780921488016,
          -0.017937809214880158,
          -0.017937809214880203,
          -0.01793780921488091,
          -0.017937809214900912,
          -0.01793780921569045,
          -0.017937809250674005,
          -0.01793781068148136,
          -0.017937856601876696,
          -0.01793888196384199,
          -0.01795375361164446,
          -0.018176037682538986,
          -0.029564175617847556,
          -0.15578923034177358,
          -0.29558080224529715,
          -0.27417044318882305,
          -0.274170443188855,
          -0.2955808022453975,
          -0.15578923034178127,
          -0.0295641756178775,
          -0.01817603768253919,
          -0.017953753611644464,
          -0.017938881963841986,
          -0.0179378566018767,
          -0.01793781068148136,
          -0.01793780925067401,
          -0.017937809215690454,
          -0.017937809214900905,
          -0.017937809214880907,
          -0.0179378092148802,
          -0.01793780921488015,
          -0.017937809214880154,
          -0.017937809214880154,
          -0.01793780921488017,
          -0.017937809214880224,
          -0.017937809214880848,
          -0.017937809232032257,
          -0.01798585369053418,
          -0.01793780921525846,
          -0.017937809216335098,
          -0.01793780921833503,
          -0.01793780922014916,
          -0.017937809220442327,
          -0.01793780921940889,
          -0.017937809218156214,
          -0.017937809217334146,
          -0.01793780921704623,
          -0.017937809217304826,
          -0.01793780921833918,
          -0.0179378092208596,
          -0.017937809226497726,
          -0.01793780923859533,
          -0.01793780926395013,
          -0.01793823467551276,
          -0.019053063455619697,
          -0.01793780985823458,
          -0.01793781142342238,
          -0.01793782004294853,
          -0.017937885007249056,
          -0.017938518744382875,
          -0.017945551769714532,
          -0.018068135301932447,
          0.0004678689582236037,
          0.320804044106824,
          0.6110744408532738,
          0.5771222973279814
         ],
         "yaxis": "y"
        }
       ],
       "layout": {
        "coloraxis": {
         "colorbar": {
          "title": {
           "text": "color"
          }
         },
         "colorscale": [
          [
           0,
           "rgb(0,0,255)"
          ],
          [
           1,
           "rgb(255,0,0)"
          ]
         ],
         "showscale": false
        },
        "height": 400,
        "legend": {
         "tracegroupgap": 0
        },
        "margin": {
         "t": 60
        },
        "template": {
         "data": {
          "bar": [
           {
            "error_x": {
             "color": "#2a3f5f"
            },
            "error_y": {
             "color": "#2a3f5f"
            },
            "marker": {
             "line": {
              "color": "#E5ECF6",
              "width": 0.5
             },
             "pattern": {
              "fillmode": "overlay",
              "size": 10,
              "solidity": 0.2
             }
            },
            "type": "bar"
           }
          ],
          "barpolar": [
           {
            "marker": {
             "line": {
              "color": "#E5ECF6",
              "width": 0.5
             },
             "pattern": {
              "fillmode": "overlay",
              "size": 10,
              "solidity": 0.2
             }
            },
            "type": "barpolar"
           }
          ],
          "carpet": [
           {
            "aaxis": {
             "endlinecolor": "#2a3f5f",
             "gridcolor": "white",
             "linecolor": "white",
             "minorgridcolor": "white",
             "startlinecolor": "#2a3f5f"
            },
            "baxis": {
             "endlinecolor": "#2a3f5f",
             "gridcolor": "white",
             "linecolor": "white",
             "minorgridcolor": "white",
             "startlinecolor": "#2a3f5f"
            },
            "type": "carpet"
           }
          ],
          "choropleth": [
           {
            "colorbar": {
             "outlinewidth": 0,
             "ticks": ""
            },
            "type": "choropleth"
           }
          ],
          "contour": [
           {
            "colorbar": {
             "outlinewidth": 0,
             "ticks": ""
            },
            "colorscale": [
             [
              0,
              "#0d0887"
             ],
             [
              0.1111111111111111,
              "#46039f"
             ],
             [
              0.2222222222222222,
              "#7201a8"
             ],
             [
              0.3333333333333333,
              "#9c179e"
             ],
             [
              0.4444444444444444,
              "#bd3786"
             ],
             [
              0.5555555555555556,
              "#d8576b"
             ],
             [
              0.6666666666666666,
              "#ed7953"
             ],
             [
              0.7777777777777778,
              "#fb9f3a"
             ],
             [
              0.8888888888888888,
              "#fdca26"
             ],
             [
              1,
              "#f0f921"
             ]
            ],
            "type": "contour"
           }
          ],
          "contourcarpet": [
           {
            "colorbar": {
             "outlinewidth": 0,
             "ticks": ""
            },
            "type": "contourcarpet"
           }
          ],
          "heatmap": [
           {
            "colorbar": {
             "outlinewidth": 0,
             "ticks": ""
            },
            "colorscale": [
             [
              0,
              "#0d0887"
             ],
             [
              0.1111111111111111,
              "#46039f"
             ],
             [
              0.2222222222222222,
              "#7201a8"
             ],
             [
              0.3333333333333333,
              "#9c179e"
             ],
             [
              0.4444444444444444,
              "#bd3786"
             ],
             [
              0.5555555555555556,
              "#d8576b"
             ],
             [
              0.6666666666666666,
              "#ed7953"
             ],
             [
              0.7777777777777778,
              "#fb9f3a"
             ],
             [
              0.8888888888888888,
              "#fdca26"
             ],
             [
              1,
              "#f0f921"
             ]
            ],
            "type": "heatmap"
           }
          ],
          "heatmapgl": [
           {
            "colorbar": {
             "outlinewidth": 0,
             "ticks": ""
            },
            "colorscale": [
             [
              0,
              "#0d0887"
             ],
             [
              0.1111111111111111,
              "#46039f"
             ],
             [
              0.2222222222222222,
              "#7201a8"
             ],
             [
              0.3333333333333333,
              "#9c179e"
             ],
             [
              0.4444444444444444,
              "#bd3786"
             ],
             [
              0.5555555555555556,
              "#d8576b"
             ],
             [
              0.6666666666666666,
              "#ed7953"
             ],
             [
              0.7777777777777778,
              "#fb9f3a"
             ],
             [
              0.8888888888888888,
              "#fdca26"
             ],
             [
              1,
              "#f0f921"
             ]
            ],
            "type": "heatmapgl"
           }
          ],
          "histogram": [
           {
            "marker": {
             "pattern": {
              "fillmode": "overlay",
              "size": 10,
              "solidity": 0.2
             }
            },
            "type": "histogram"
           }
          ],
          "histogram2d": [
           {
            "colorbar": {
             "outlinewidth": 0,
             "ticks": ""
            },
            "colorscale": [
             [
              0,
              "#0d0887"
             ],
             [
              0.1111111111111111,
              "#46039f"
             ],
             [
              0.2222222222222222,
              "#7201a8"
             ],
             [
              0.3333333333333333,
              "#9c179e"
             ],
             [
              0.4444444444444444,
              "#bd3786"
             ],
             [
              0.5555555555555556,
              "#d8576b"
             ],
             [
              0.6666666666666666,
              "#ed7953"
             ],
             [
              0.7777777777777778,
              "#fb9f3a"
             ],
             [
              0.8888888888888888,
              "#fdca26"
             ],
             [
              1,
              "#f0f921"
             ]
            ],
            "type": "histogram2d"
           }
          ],
          "histogram2dcontour": [
           {
            "colorbar": {
             "outlinewidth": 0,
             "ticks": ""
            },
            "colorscale": [
             [
              0,
              "#0d0887"
             ],
             [
              0.1111111111111111,
              "#46039f"
             ],
             [
              0.2222222222222222,
              "#7201a8"
             ],
             [
              0.3333333333333333,
              "#9c179e"
             ],
             [
              0.4444444444444444,
              "#bd3786"
             ],
             [
              0.5555555555555556,
              "#d8576b"
             ],
             [
              0.6666666666666666,
              "#ed7953"
             ],
             [
              0.7777777777777778,
              "#fb9f3a"
             ],
             [
              0.8888888888888888,
              "#fdca26"
             ],
             [
              1,
              "#f0f921"
             ]
            ],
            "type": "histogram2dcontour"
           }
          ],
          "mesh3d": [
           {
            "colorbar": {
             "outlinewidth": 0,
             "ticks": ""
            },
            "type": "mesh3d"
           }
          ],
          "parcoords": [
           {
            "line": {
             "colorbar": {
              "outlinewidth": 0,
              "ticks": ""
             }
            },
            "type": "parcoords"
           }
          ],
          "pie": [
           {
            "automargin": true,
            "type": "pie"
           }
          ],
          "scatter": [
           {
            "fillpattern": {
             "fillmode": "overlay",
             "size": 10,
             "solidity": 0.2
            },
            "type": "scatter"
           }
          ],
          "scatter3d": [
           {
            "line": {
             "colorbar": {
              "outlinewidth": 0,
              "ticks": ""
             }
            },
            "marker": {
             "colorbar": {
              "outlinewidth": 0,
              "ticks": ""
             }
            },
            "type": "scatter3d"
           }
          ],
          "scattercarpet": [
           {
            "marker": {
             "colorbar": {
              "outlinewidth": 0,
              "ticks": ""
             }
            },
            "type": "scattercarpet"
           }
          ],
          "scattergeo": [
           {
            "marker": {
             "colorbar": {
              "outlinewidth": 0,
              "ticks": ""
             }
            },
            "type": "scattergeo"
           }
          ],
          "scattergl": [
           {
            "marker": {
             "colorbar": {
              "outlinewidth": 0,
              "ticks": ""
             }
            },
            "type": "scattergl"
           }
          ],
          "scattermapbox": [
           {
            "marker": {
             "colorbar": {
              "outlinewidth": 0,
              "ticks": ""
             }
            },
            "type": "scattermapbox"
           }
          ],
          "scatterpolar": [
           {
            "marker": {
             "colorbar": {
              "outlinewidth": 0,
              "ticks": ""
             }
            },
            "type": "scatterpolar"
           }
          ],
          "scatterpolargl": [
           {
            "marker": {
             "colorbar": {
              "outlinewidth": 0,
              "ticks": ""
             }
            },
            "type": "scatterpolargl"
           }
          ],
          "scatterternary": [
           {
            "marker": {
             "colorbar": {
              "outlinewidth": 0,
              "ticks": ""
             }
            },
            "type": "scatterternary"
           }
          ],
          "surface": [
           {
            "colorbar": {
             "outlinewidth": 0,
             "ticks": ""
            },
            "colorscale": [
             [
              0,
              "#0d0887"
             ],
             [
              0.1111111111111111,
              "#46039f"
             ],
             [
              0.2222222222222222,
              "#7201a8"
             ],
             [
              0.3333333333333333,
              "#9c179e"
             ],
             [
              0.4444444444444444,
              "#bd3786"
             ],
             [
              0.5555555555555556,
              "#d8576b"
             ],
             [
              0.6666666666666666,
              "#ed7953"
             ],
             [
              0.7777777777777778,
              "#fb9f3a"
             ],
             [
              0.8888888888888888,
              "#fdca26"
             ],
             [
              1,
              "#f0f921"
             ]
            ],
            "type": "surface"
           }
          ],
          "table": [
           {
            "cells": {
             "fill": {
              "color": "#EBF0F8"
             },
             "line": {
              "color": "white"
             }
            },
            "header": {
             "fill": {
              "color": "#C8D4E3"
             },
             "line": {
              "color": "white"
             }
            },
            "type": "table"
           }
          ]
         },
         "layout": {
          "annotationdefaults": {
           "arrowcolor": "#2a3f5f",
           "arrowhead": 0,
           "arrowwidth": 1
          },
          "autotypenumbers": "strict",
          "coloraxis": {
           "colorbar": {
            "outlinewidth": 0,
            "ticks": ""
           }
          },
          "colorscale": {
           "diverging": [
            [
             0,
             "#8e0152"
            ],
            [
             0.1,
             "#c51b7d"
            ],
            [
             0.2,
             "#de77ae"
            ],
            [
             0.3,
             "#f1b6da"
            ],
            [
             0.4,
             "#fde0ef"
            ],
            [
             0.5,
             "#f7f7f7"
            ],
            [
             0.6,
             "#e6f5d0"
            ],
            [
             0.7,
             "#b8e186"
            ],
            [
             0.8,
             "#7fbc41"
            ],
            [
             0.9,
             "#4d9221"
            ],
            [
             1,
             "#276419"
            ]
           ],
           "sequential": [
            [
             0,
             "#0d0887"
            ],
            [
             0.1111111111111111,
             "#46039f"
            ],
            [
             0.2222222222222222,
             "#7201a8"
            ],
            [
             0.3333333333333333,
             "#9c179e"
            ],
            [
             0.4444444444444444,
             "#bd3786"
            ],
            [
             0.5555555555555556,
             "#d8576b"
            ],
            [
             0.6666666666666666,
             "#ed7953"
            ],
            [
             0.7777777777777778,
             "#fb9f3a"
            ],
            [
             0.8888888888888888,
             "#fdca26"
            ],
            [
             1,
             "#f0f921"
            ]
           ],
           "sequentialminus": [
            [
             0,
             "#0d0887"
            ],
            [
             0.1111111111111111,
             "#46039f"
            ],
            [
             0.2222222222222222,
             "#7201a8"
            ],
            [
             0.3333333333333333,
             "#9c179e"
            ],
            [
             0.4444444444444444,
             "#bd3786"
            ],
            [
             0.5555555555555556,
             "#d8576b"
            ],
            [
             0.6666666666666666,
             "#ed7953"
            ],
            [
             0.7777777777777778,
             "#fb9f3a"
            ],
            [
             0.8888888888888888,
             "#fdca26"
            ],
            [
             1,
             "#f0f921"
            ]
           ]
          },
          "colorway": [
           "#636efa",
           "#EF553B",
           "#00cc96",
           "#ab63fa",
           "#FFA15A",
           "#19d3f3",
           "#FF6692",
           "#B6E880",
           "#FF97FF",
           "#FECB52"
          ],
          "font": {
           "color": "#2a3f5f"
          },
          "geo": {
           "bgcolor": "white",
           "lakecolor": "white",
           "landcolor": "#E5ECF6",
           "showlakes": true,
           "showland": true,
           "subunitcolor": "white"
          },
          "hoverlabel": {
           "align": "left"
          },
          "hovermode": "closest",
          "mapbox": {
           "style": "light"
          },
          "paper_bgcolor": "white",
          "plot_bgcolor": "#E5ECF6",
          "polar": {
           "angularaxis": {
            "gridcolor": "white",
            "linecolor": "white",
            "ticks": ""
           },
           "bgcolor": "#E5ECF6",
           "radialaxis": {
            "gridcolor": "white",
            "linecolor": "white",
            "ticks": ""
           }
          },
          "scene": {
           "xaxis": {
            "backgroundcolor": "#E5ECF6",
            "gridcolor": "white",
            "gridwidth": 2,
            "linecolor": "white",
            "showbackground": true,
            "ticks": "",
            "zerolinecolor": "white"
           },
           "yaxis": {
            "backgroundcolor": "#E5ECF6",
            "gridcolor": "white",
            "gridwidth": 2,
            "linecolor": "white",
            "showbackground": true,
            "ticks": "",
            "zerolinecolor": "white"
           },
           "zaxis": {
            "backgroundcolor": "#E5ECF6",
            "gridcolor": "white",
            "gridwidth": 2,
            "linecolor": "white",
            "showbackground": true,
            "ticks": "",
            "zerolinecolor": "white"
           }
          },
          "shapedefaults": {
           "line": {
            "color": "#2a3f5f"
           }
          },
          "ternary": {
           "aaxis": {
            "gridcolor": "white",
            "linecolor": "white",
            "ticks": ""
           },
           "baxis": {
            "gridcolor": "white",
            "linecolor": "white",
            "ticks": ""
           },
           "bgcolor": "#E5ECF6",
           "caxis": {
            "gridcolor": "white",
            "linecolor": "white",
            "ticks": ""
           }
          },
          "title": {
           "x": 0.05
          },
          "xaxis": {
           "automargin": true,
           "gridcolor": "white",
           "linecolor": "white",
           "ticks": "",
           "title": {
            "standoff": 15
           },
           "zerolinecolor": "white",
           "zerolinewidth": 2
          },
          "yaxis": {
           "automargin": true,
           "gridcolor": "white",
           "linecolor": "white",
           "ticks": "",
           "title": {
            "standoff": 15
           },
           "zerolinecolor": "white",
           "zerolinewidth": 2
          }
         }
        },
        "title": {
         "text": "Interlocking Hearts (Kernel PCA: 2 components)"
        },
        "width": 600,
        "xaxis": {
         "anchor": "y",
         "domain": [
          0,
          1
         ],
         "title": {
          "text": "Principal Component 1"
         }
        },
        "yaxis": {
         "anchor": "x",
         "domain": [
          0,
          1
         ],
         "title": {
          "text": "Principal Component 2"
         }
        }
       }
      },
      "text/html": [
       "<div>                            <div id=\"2ae649a3-fabd-4243-903c-8e35b5a7b289\" class=\"plotly-graph-div\" style=\"height:400px; width:600px;\"></div>            <script type=\"text/javascript\">                require([\"plotly\"], function(Plotly) {                    window.PLOTLYENV=window.PLOTLYENV || {};                                    if (document.getElementById(\"2ae649a3-fabd-4243-903c-8e35b5a7b289\")) {                    Plotly.newPlot(                        \"2ae649a3-fabd-4243-903c-8e35b5a7b289\",                        [{\"hovertemplate\":\"x=%{x}<br>y=%{y}<br>color=%{marker.color}<extra></extra>\",\"legendgroup\":\"\",\"marker\":{\"color\":[0,0,0,0,0,0,0,0,0,0,0,0,0,0,0,0,0,0,0,0,0,0,0,0,0,0,0,0,0,0,0,0,0,0,0,0,0,0,0,0,0,0,0,0,0,0,0,0,0,0,0,0,0,0,0,0,0,0,0,0,0,0,0,0,0,0,0,0,0,0,0,0,0,0,0,0,0,0,0,0,0,0,0,0,0,0,0,0,0,0,0,0,0,0,0,0,0,0,0,0,1,1,1,1,1,1,1,1,1,1,1,1,1,1,1,1,1,1,1,1,1,1,1,1,1,1,1,1,1,1,1,1,1,1,1,1,1,1,1,1,1,1,1,1,1,1,1,1,1,1,1,1,1,1,1,1,1,1,1,1,1,1,1,1,1,1,1,1,1,1,1,1,1,1,1,1,1,1,1,1,1,1,1,1,1,1,1,1,1,1,1,1,1,1,1,1,1,1,1,1],\"coloraxis\":\"coloraxis\",\"symbol\":\"circle\",\"opacity\":0.6,\"size\":8},\"mode\":\"markers\",\"name\":\"\",\"orientation\":\"v\",\"showlegend\":false,\"x\":[0.649769617929334,0.6883426245637598,0.3740183148412396,0.024587660160924306,0.00011447588247934736,4.348067028510687e-08,1.3364769748042343e-12,-1.6957102643306748e-13,-1.6957146795989281e-13,-1.6956318933191767e-13,-1.695717094198754e-13,-1.6957749551250331e-13,-1.6957181182477875e-13,-1.6957245097285604e-13,-1.6956958993852228e-13,-1.6956773683174395e-13,-1.69565231942278e-13,-1.6957375401706597e-13,-1.695758803996918e-13,-1.6956682403759764e-13,-1.6957513399549266e-13,-1.6957129076823265e-13,-1.6956417103136778e-13,-1.6957387450142024e-13,-1.6956401293823622e-13,-1.6957352884368457e-13,-1.6957167279732926e-13,-1.7974853751506104e-13,-1.6957197843526428e-13,-1.6957194925819238e-13,-1.695754388401016e-13,-1.6956652786840417e-13,-1.6957461767744562e-13,-1.6956937211253414e-13,-1.695657090164755e-13,-1.6957164230665803e-13,-1.695710443616466e-13,-1.695725298199345e-13,-1.7002344253593644e-13,-1.695794750553592e-13,-1.6957057108379763e-13,-1.6956639189475396e-13,-1.6956932553256251e-13,-1.695728033161116e-13,-1.697143665802994e-13,-1.71504810023599e-13,-2.485997256536954e-13,-1.0545914634839015e-12,-1.9367160116422924e-12,-1.7955331981692063e-12,-1.7955143928831315e-12,-1.9366934714958552e-12,-1.0545779212825626e-12,-2.485970931152132e-13,-1.7150259801369354e-13,-1.6971371157354824e-13,-1.695740031966591e-13,-1.6957001323078553e-13,-1.69572124066889e-13,-1.6957193200869038e-13,-1.6957971396534264e-13,-1.6956935773538857e-13,-1.6957125372886804e-13,-1.6956322000177287e-13,-1.6956744183206474e-13,-1.6956520520530107e-13,-1.695646152829886e-13,-1.6957069440610483e-13,-1.6957001275491005e-13,-1.6956950797007725e-13,-1.6957234865058094e-13,-1.6956991868992614e-13,-1.6957788227996006e-13,-1.6957163748310176e-13,-1.6957229298380474e-13,-1.6956731290810187e-13,-1.6957300407116504e-13,-1.6957151441115056e-13,-1.6957111829336108e-13,-1.6957366833064003e-13,-1.695668348189149e-13,-1.6957197619891924e-13,-1.6956891040480735e-13,-1.6956626585259909e-13,-1.6956949801227284e-13,-1.6956915035636459e-13,-1.6957194580241063e-13,-1.695638373763292e-13,-1.6956846287692105e-13,-1.6958005970632461e-13,-1.6956760936500172e-13,-1.6957640571296186e-13,-1.6956916657824912e-13,1.3366993200827737e-12,4.348067046507829e-08,0.00011447588247965342,0.02458766016092351,0.3740183148412499,0.688342624563759,0.6497696179293341,-0.6497696179200868,-0.6883426245537038,-0.37401831483611375,-0.024587660160985715,-0.0001144758828214969,-4.348100974627289e-08,-1.6758396128770163e-12,-1.6958086876957498e-13,-1.6957301974980643e-13,-1.6956765656322904e-13,-1.6956551623729403e-13,-1.69566375756707e-13,-1.695702844316373e-13,-1.6957339843192683e-13,-1.6956824074465344e-13,-1.6956446073390198e-13,-1.695623940216144e-13,-1.6957123616157998e-13,-1.695668447487233e-13,-1.695662264951066e-13,-1.695684190957288e-13,-1.6956498829937695e-13,-1.6956539965276986e-13,-1.6957330137876204e-13,-1.6956714128047818e-13,-1.6956976714677266e-13,-1.6957064410680976e-13,-1.695781807186486e-13,-1.69571961820474e-13,-1.695756579905578e-13,-1.695667569104198e-13,-1.6956467684001628e-13,-1.6957174912031276e-13,-1.6956120527316993e-13,-1.69567121101686e-13,-1.69561613747891e-13,-1.6956947808400956e-13,-1.695772797590741e-13,-1.6956814531751013e-13,-1.6957600322276222e-13,-1.695705143625057e-13,-1.6956943164471056e-13,-1.6957198073565334e-13,-1.6957035491783098e-13,-1.6970653487888323e-13,-1.7152538283776194e-13,-2.4858145478143985e-13,-1.0546326454834136e-12,-1.936677831241494e-12,-1.7955265913696737e-12,-1.795521771944334e-12,-1.9367031796375795e-12,-1.054635299882689e-12,-2.4857390529268743e-13,-1.7152844402089323e-13,-1.6971006052279534e-13,-1.6957240093130223e-13,-1.6957242824370513e-13,-1.6957040119342814e-13,-1.6957071443369443e-13,-1.6957508465524796e-13,-1.6956619379955072e-13,-1.6957734706020854e-13,-1.6956730539051132e-13,-1.6956315572146828e-13,-1.6956434090313415e-13,-1.6955968202523757e-13,-1.6956462583707091e-13,-1.6957066588577672e-13,-1.695705152791135e-13,-1.695659118545444e-13,-1.7001367157666275e-13,-1.6957017368905134e-13,-1.6956930777925133e-13,-1.6956647542408825e-13,-1.6956537912469284e-13,-1.6957664249552383e-13,-1.6957027910451976e-13,-1.6956485600758879e-13,-1.6957084318623767e-13,-1.6957209006973535e-13,-1.6956473064161006e-13,-1.6956609165894373e-13,-1.6956174537040462e-13,-1.6955806368736459e-13,-1.6957104542867023e-13,-1.6957435572283502e-13,-1.6957331005365567e-13,-1.7974474973361726e-13,-1.6955925355015037e-13,-1.6956530792086326e-13,-1.6957287342806502e-13,-1.6957379629855475e-13,-1.675833674380029e-12,-4.348100975038122e-08,-0.00011447588282149202,-0.024587660161001924,-0.3740183148361767,-0.6883426245537039,-0.649769617920087],\"xaxis\":\"x\",\"y\":[0.5771222973179484,0.611074440842885,0.32080404410100677,0.00046786895782058936,-0.018068135301933737,-0.017945551769714227,-0.017938518744382976,-0.017937885007249063,-0.017937820042948534,-0.01793781142342238,-0.01793780984793942,-0.017937809451078687,-0.01793780931860489,-0.01793780926394934,-0.017937809238595333,-0.01793780922649774,-0.017937809220859604,-0.01793780921833918,-0.01793780921730481,-0.017937809217046224,-0.017937809217334146,-0.017937809218156214,-0.017937809219408896,-0.01793780922044233,-0.01793780922014916,-0.017937809218335043,-0.017937809216355266,-0.01905344154383235,-0.017937809216841412,-0.017937809214887246,-0.017937809214880838,-0.017937809214880234,-0.017937809214880168,-0.01793780921488015,-0.017937809214880154,-0.01793780921488016,-0.017937809214880203,-0.017937835798980103,-0.017985827265016196,-0.0179378092156905,-0.017937809250674012,-0.01793781068148136,-0.017937856601876693,-0.01793888196384199,-0.017953753611644467,-0.018176037682540096,-0.029564175617985362,-0.155789230343617,-0.2955808022496926,-0.27417044319260264,-0.27417044319260264,-0.2955808022496926,-0.155789230343617,-0.029564175617985293,-0.018176037682540034,-0.017953753611644467,-0.01793888196384199,-0.017937856601876696,-0.017937810681481356,-0.017937809250674005,-0.017937809215690447,-0.01793780921490091,-0.017937809214880904,-0.01793780921488021,-0.017937809214880165,-0.017937809214880147,-0.01793780921488016,-0.01793780921488017,-0.017937809214880227,-0.017937809214880848,-0.017937809214887242,-0.017937809214942046,-0.017937809215258293,-0.0179378092163351,-0.017937809218335043,-0.017937809220149148,-0.01793780922044233,-0.01793780921940889,-0.017937809218156207,-0.017937809217334143,-0.017937809217046224,-0.01793780921730482,-0.017937809218339183,-0.0179378092208596,-0.017937809226497733,-0.01793780923859533,-0.01793780926394934,-0.017937809318604895,-0.017937809451078677,-0.01793780984793942,-0.01793781142342237,-0.017937820042948527,-0.017937885007249046,-0.01793851874438286,-0.01794555176971454,-0.01806813530193426,0.0004678689578200838,0.3208040441010166,0.6110744408428852,0.5771222973179478,0.5771222973279813,0.6110744408532736,0.3208040441067674,0.0004678689582091787,-0.01806813530193249,-0.017945551769714536,-0.017938518744382872,-0.017937885007249053,-0.017937820042948534,-0.01793781142342237,-0.017937809847939416,-0.01793780945107868,-0.01793780931860489,-0.01793780926394934,-0.017937809238595333,-0.017937809226497736,-0.0179378092208596,-0.01793780921833918,-0.017937809217304822,-0.017937809217046238,-0.017937809217334146,-0.017937809218156214,-0.017937809219408893,-0.01793780922044233,-0.017937809220149155,-0.01793780921833504,-0.0179378092163351,-0.017937809215258296,-0.01793780921494205,-0.017937809214887246,-0.017937809214880845,-0.017937809214880227,-0.017937809214880165,-0.01793780921488016,-0.01793780921488016,-0.017937809214880158,-0.017937809214880203,-0.01793780921488091,-0.017937809214900912,-0.01793780921569045,-0.017937809250674005,-0.01793781068148136,-0.017937856601876696,-0.01793888196384199,-0.01795375361164446,-0.018176037682538986,-0.029564175617847556,-0.15578923034177358,-0.29558080224529715,-0.27417044318882305,-0.274170443188855,-0.2955808022453975,-0.15578923034178127,-0.0295641756178775,-0.01817603768253919,-0.017953753611644464,-0.017938881963841986,-0.0179378566018767,-0.01793781068148136,-0.01793780925067401,-0.017937809215690454,-0.017937809214900905,-0.017937809214880907,-0.0179378092148802,-0.01793780921488015,-0.017937809214880154,-0.017937809214880154,-0.01793780921488017,-0.017937809214880224,-0.017937809214880848,-0.017937809232032257,-0.01798585369053418,-0.01793780921525846,-0.017937809216335098,-0.01793780921833503,-0.01793780922014916,-0.017937809220442327,-0.01793780921940889,-0.017937809218156214,-0.017937809217334146,-0.01793780921704623,-0.017937809217304826,-0.01793780921833918,-0.0179378092208596,-0.017937809226497726,-0.01793780923859533,-0.01793780926395013,-0.01793823467551276,-0.019053063455619697,-0.01793780985823458,-0.01793781142342238,-0.01793782004294853,-0.017937885007249056,-0.017938518744382875,-0.017945551769714532,-0.018068135301932447,0.0004678689582236037,0.320804044106824,0.6110744408532738,0.5771222973279814],\"yaxis\":\"y\",\"type\":\"scatter\"}],                        {\"template\":{\"data\":{\"histogram2dcontour\":[{\"type\":\"histogram2dcontour\",\"colorbar\":{\"outlinewidth\":0,\"ticks\":\"\"},\"colorscale\":[[0.0,\"#0d0887\"],[0.1111111111111111,\"#46039f\"],[0.2222222222222222,\"#7201a8\"],[0.3333333333333333,\"#9c179e\"],[0.4444444444444444,\"#bd3786\"],[0.5555555555555556,\"#d8576b\"],[0.6666666666666666,\"#ed7953\"],[0.7777777777777778,\"#fb9f3a\"],[0.8888888888888888,\"#fdca26\"],[1.0,\"#f0f921\"]]}],\"choropleth\":[{\"type\":\"choropleth\",\"colorbar\":{\"outlinewidth\":0,\"ticks\":\"\"}}],\"histogram2d\":[{\"type\":\"histogram2d\",\"colorbar\":{\"outlinewidth\":0,\"ticks\":\"\"},\"colorscale\":[[0.0,\"#0d0887\"],[0.1111111111111111,\"#46039f\"],[0.2222222222222222,\"#7201a8\"],[0.3333333333333333,\"#9c179e\"],[0.4444444444444444,\"#bd3786\"],[0.5555555555555556,\"#d8576b\"],[0.6666666666666666,\"#ed7953\"],[0.7777777777777778,\"#fb9f3a\"],[0.8888888888888888,\"#fdca26\"],[1.0,\"#f0f921\"]]}],\"heatmap\":[{\"type\":\"heatmap\",\"colorbar\":{\"outlinewidth\":0,\"ticks\":\"\"},\"colorscale\":[[0.0,\"#0d0887\"],[0.1111111111111111,\"#46039f\"],[0.2222222222222222,\"#7201a8\"],[0.3333333333333333,\"#9c179e\"],[0.4444444444444444,\"#bd3786\"],[0.5555555555555556,\"#d8576b\"],[0.6666666666666666,\"#ed7953\"],[0.7777777777777778,\"#fb9f3a\"],[0.8888888888888888,\"#fdca26\"],[1.0,\"#f0f921\"]]}],\"heatmapgl\":[{\"type\":\"heatmapgl\",\"colorbar\":{\"outlinewidth\":0,\"ticks\":\"\"},\"colorscale\":[[0.0,\"#0d0887\"],[0.1111111111111111,\"#46039f\"],[0.2222222222222222,\"#7201a8\"],[0.3333333333333333,\"#9c179e\"],[0.4444444444444444,\"#bd3786\"],[0.5555555555555556,\"#d8576b\"],[0.6666666666666666,\"#ed7953\"],[0.7777777777777778,\"#fb9f3a\"],[0.8888888888888888,\"#fdca26\"],[1.0,\"#f0f921\"]]}],\"contourcarpet\":[{\"type\":\"contourcarpet\",\"colorbar\":{\"outlinewidth\":0,\"ticks\":\"\"}}],\"contour\":[{\"type\":\"contour\",\"colorbar\":{\"outlinewidth\":0,\"ticks\":\"\"},\"colorscale\":[[0.0,\"#0d0887\"],[0.1111111111111111,\"#46039f\"],[0.2222222222222222,\"#7201a8\"],[0.3333333333333333,\"#9c179e\"],[0.4444444444444444,\"#bd3786\"],[0.5555555555555556,\"#d8576b\"],[0.6666666666666666,\"#ed7953\"],[0.7777777777777778,\"#fb9f3a\"],[0.8888888888888888,\"#fdca26\"],[1.0,\"#f0f921\"]]}],\"surface\":[{\"type\":\"surface\",\"colorbar\":{\"outlinewidth\":0,\"ticks\":\"\"},\"colorscale\":[[0.0,\"#0d0887\"],[0.1111111111111111,\"#46039f\"],[0.2222222222222222,\"#7201a8\"],[0.3333333333333333,\"#9c179e\"],[0.4444444444444444,\"#bd3786\"],[0.5555555555555556,\"#d8576b\"],[0.6666666666666666,\"#ed7953\"],[0.7777777777777778,\"#fb9f3a\"],[0.8888888888888888,\"#fdca26\"],[1.0,\"#f0f921\"]]}],\"mesh3d\":[{\"type\":\"mesh3d\",\"colorbar\":{\"outlinewidth\":0,\"ticks\":\"\"}}],\"scatter\":[{\"fillpattern\":{\"fillmode\":\"overlay\",\"size\":10,\"solidity\":0.2},\"type\":\"scatter\"}],\"parcoords\":[{\"type\":\"parcoords\",\"line\":{\"colorbar\":{\"outlinewidth\":0,\"ticks\":\"\"}}}],\"scatterpolargl\":[{\"type\":\"scatterpolargl\",\"marker\":{\"colorbar\":{\"outlinewidth\":0,\"ticks\":\"\"}}}],\"bar\":[{\"error_x\":{\"color\":\"#2a3f5f\"},\"error_y\":{\"color\":\"#2a3f5f\"},\"marker\":{\"line\":{\"color\":\"#E5ECF6\",\"width\":0.5},\"pattern\":{\"fillmode\":\"overlay\",\"size\":10,\"solidity\":0.2}},\"type\":\"bar\"}],\"scattergeo\":[{\"type\":\"scattergeo\",\"marker\":{\"colorbar\":{\"outlinewidth\":0,\"ticks\":\"\"}}}],\"scatterpolar\":[{\"type\":\"scatterpolar\",\"marker\":{\"colorbar\":{\"outlinewidth\":0,\"ticks\":\"\"}}}],\"histogram\":[{\"marker\":{\"pattern\":{\"fillmode\":\"overlay\",\"size\":10,\"solidity\":0.2}},\"type\":\"histogram\"}],\"scattergl\":[{\"type\":\"scattergl\",\"marker\":{\"colorbar\":{\"outlinewidth\":0,\"ticks\":\"\"}}}],\"scatter3d\":[{\"type\":\"scatter3d\",\"line\":{\"colorbar\":{\"outlinewidth\":0,\"ticks\":\"\"}},\"marker\":{\"colorbar\":{\"outlinewidth\":0,\"ticks\":\"\"}}}],\"scattermapbox\":[{\"type\":\"scattermapbox\",\"marker\":{\"colorbar\":{\"outlinewidth\":0,\"ticks\":\"\"}}}],\"scatterternary\":[{\"type\":\"scatterternary\",\"marker\":{\"colorbar\":{\"outlinewidth\":0,\"ticks\":\"\"}}}],\"scattercarpet\":[{\"type\":\"scattercarpet\",\"marker\":{\"colorbar\":{\"outlinewidth\":0,\"ticks\":\"\"}}}],\"carpet\":[{\"aaxis\":{\"endlinecolor\":\"#2a3f5f\",\"gridcolor\":\"white\",\"linecolor\":\"white\",\"minorgridcolor\":\"white\",\"startlinecolor\":\"#2a3f5f\"},\"baxis\":{\"endlinecolor\":\"#2a3f5f\",\"gridcolor\":\"white\",\"linecolor\":\"white\",\"minorgridcolor\":\"white\",\"startlinecolor\":\"#2a3f5f\"},\"type\":\"carpet\"}],\"table\":[{\"cells\":{\"fill\":{\"color\":\"#EBF0F8\"},\"line\":{\"color\":\"white\"}},\"header\":{\"fill\":{\"color\":\"#C8D4E3\"},\"line\":{\"color\":\"white\"}},\"type\":\"table\"}],\"barpolar\":[{\"marker\":{\"line\":{\"color\":\"#E5ECF6\",\"width\":0.5},\"pattern\":{\"fillmode\":\"overlay\",\"size\":10,\"solidity\":0.2}},\"type\":\"barpolar\"}],\"pie\":[{\"automargin\":true,\"type\":\"pie\"}]},\"layout\":{\"autotypenumbers\":\"strict\",\"colorway\":[\"#636efa\",\"#EF553B\",\"#00cc96\",\"#ab63fa\",\"#FFA15A\",\"#19d3f3\",\"#FF6692\",\"#B6E880\",\"#FF97FF\",\"#FECB52\"],\"font\":{\"color\":\"#2a3f5f\"},\"hovermode\":\"closest\",\"hoverlabel\":{\"align\":\"left\"},\"paper_bgcolor\":\"white\",\"plot_bgcolor\":\"#E5ECF6\",\"polar\":{\"bgcolor\":\"#E5ECF6\",\"angularaxis\":{\"gridcolor\":\"white\",\"linecolor\":\"white\",\"ticks\":\"\"},\"radialaxis\":{\"gridcolor\":\"white\",\"linecolor\":\"white\",\"ticks\":\"\"}},\"ternary\":{\"bgcolor\":\"#E5ECF6\",\"aaxis\":{\"gridcolor\":\"white\",\"linecolor\":\"white\",\"ticks\":\"\"},\"baxis\":{\"gridcolor\":\"white\",\"linecolor\":\"white\",\"ticks\":\"\"},\"caxis\":{\"gridcolor\":\"white\",\"linecolor\":\"white\",\"ticks\":\"\"}},\"coloraxis\":{\"colorbar\":{\"outlinewidth\":0,\"ticks\":\"\"}},\"colorscale\":{\"sequential\":[[0.0,\"#0d0887\"],[0.1111111111111111,\"#46039f\"],[0.2222222222222222,\"#7201a8\"],[0.3333333333333333,\"#9c179e\"],[0.4444444444444444,\"#bd3786\"],[0.5555555555555556,\"#d8576b\"],[0.6666666666666666,\"#ed7953\"],[0.7777777777777778,\"#fb9f3a\"],[0.8888888888888888,\"#fdca26\"],[1.0,\"#f0f921\"]],\"sequentialminus\":[[0.0,\"#0d0887\"],[0.1111111111111111,\"#46039f\"],[0.2222222222222222,\"#7201a8\"],[0.3333333333333333,\"#9c179e\"],[0.4444444444444444,\"#bd3786\"],[0.5555555555555556,\"#d8576b\"],[0.6666666666666666,\"#ed7953\"],[0.7777777777777778,\"#fb9f3a\"],[0.8888888888888888,\"#fdca26\"],[1.0,\"#f0f921\"]],\"diverging\":[[0,\"#8e0152\"],[0.1,\"#c51b7d\"],[0.2,\"#de77ae\"],[0.3,\"#f1b6da\"],[0.4,\"#fde0ef\"],[0.5,\"#f7f7f7\"],[0.6,\"#e6f5d0\"],[0.7,\"#b8e186\"],[0.8,\"#7fbc41\"],[0.9,\"#4d9221\"],[1,\"#276419\"]]},\"xaxis\":{\"gridcolor\":\"white\",\"linecolor\":\"white\",\"ticks\":\"\",\"title\":{\"standoff\":15},\"zerolinecolor\":\"white\",\"automargin\":true,\"zerolinewidth\":2},\"yaxis\":{\"gridcolor\":\"white\",\"linecolor\":\"white\",\"ticks\":\"\",\"title\":{\"standoff\":15},\"zerolinecolor\":\"white\",\"automargin\":true,\"zerolinewidth\":2},\"scene\":{\"xaxis\":{\"backgroundcolor\":\"#E5ECF6\",\"gridcolor\":\"white\",\"linecolor\":\"white\",\"showbackground\":true,\"ticks\":\"\",\"zerolinecolor\":\"white\",\"gridwidth\":2},\"yaxis\":{\"backgroundcolor\":\"#E5ECF6\",\"gridcolor\":\"white\",\"linecolor\":\"white\",\"showbackground\":true,\"ticks\":\"\",\"zerolinecolor\":\"white\",\"gridwidth\":2},\"zaxis\":{\"backgroundcolor\":\"#E5ECF6\",\"gridcolor\":\"white\",\"linecolor\":\"white\",\"showbackground\":true,\"ticks\":\"\",\"zerolinecolor\":\"white\",\"gridwidth\":2}},\"shapedefaults\":{\"line\":{\"color\":\"#2a3f5f\"}},\"annotationdefaults\":{\"arrowcolor\":\"#2a3f5f\",\"arrowhead\":0,\"arrowwidth\":1},\"geo\":{\"bgcolor\":\"white\",\"landcolor\":\"#E5ECF6\",\"subunitcolor\":\"white\",\"showland\":true,\"showlakes\":true,\"lakecolor\":\"white\"},\"title\":{\"x\":0.05},\"mapbox\":{\"style\":\"light\"}}},\"xaxis\":{\"anchor\":\"y\",\"domain\":[0.0,1.0],\"title\":{\"text\":\"Principal Component 1\"}},\"yaxis\":{\"anchor\":\"x\",\"domain\":[0.0,1.0],\"title\":{\"text\":\"Principal Component 2\"}},\"coloraxis\":{\"colorbar\":{\"title\":{\"text\":\"color\"}},\"colorscale\":[[0.0,\"rgb(0,0,255)\"],[1.0,\"rgb(255,0,0)\"]],\"showscale\":false},\"legend\":{\"tracegroupgap\":0},\"margin\":{\"t\":60},\"width\":600,\"height\":400,\"title\":{\"text\":\"Interlocking Hearts (Kernel PCA: 2 components)\"}},                        {\"responsive\": true}                    ).then(function(){\n",
       "                            \n",
       "var gd = document.getElementById('2ae649a3-fabd-4243-903c-8e35b5a7b289');\n",
       "var x = new MutationObserver(function (mutations, observer) {{\n",
       "        var display = window.getComputedStyle(gd).display;\n",
       "        if (!display || display === 'none') {{\n",
       "            console.log([gd, 'removed!']);\n",
       "            Plotly.purge(gd);\n",
       "            observer.disconnect();\n",
       "        }}\n",
       "}});\n",
       "\n",
       "// Listen for the removal of the full notebook cells\n",
       "var notebookContainer = gd.closest('#notebook-container');\n",
       "if (notebookContainer) {{\n",
       "    x.observe(notebookContainer, {childList: true});\n",
       "}}\n",
       "\n",
       "// Listen for the clearing of the current output cell\n",
       "var outputEl = gd.closest('.output');\n",
       "if (outputEl) {{\n",
       "    x.observe(outputEl, {childList: true});\n",
       "}}\n",
       "\n",
       "                        })                };                });            </script>        </div>"
      ]
     },
     "metadata": {},
     "output_type": "display_data"
    }
   ],
   "source": [
    "# Plotting the transformed data in a two principal component space\n",
    "figHK2 = px.scatter(x=dataHK[:, 0], y=dataHK[:, 1], \n",
    "                   color=yh, color_continuous_scale='bluered')\n",
    "figHK2.update_traces(marker=dict(size=8, opacity=0.6))\n",
    "figHK2.update_layout(coloraxis_showscale=False, \n",
    "                    width=600, height=400, \n",
    "                    xaxis_title='Principal Component 1', \n",
    "                    yaxis_title='Principal Component 2',  \n",
    "                    title='Interlocking Hearts (Kernel PCA: 2 components)')\n",
    "figHK2.show()"
   ]
  },
  {
   "cell_type": "code",
   "execution_count": 31,
   "metadata": {},
   "outputs": [
    {
     "data": {
      "application/vnd.plotly.v1+json": {
       "config": {
        "plotlyServerURL": "https://plot.ly"
       },
       "data": [
        {
         "hovertemplate": "x=%{x}<br>y=%{y}<br>color=%{marker.color}<extra></extra>",
         "legendgroup": "",
         "marker": {
          "color": [
           0,
           0,
           0,
           0,
           0,
           0,
           0,
           0,
           0,
           0,
           0,
           0,
           0,
           0,
           0,
           0,
           0,
           0,
           0,
           0,
           0,
           0,
           0,
           0,
           0,
           0,
           0,
           0,
           0,
           0,
           0,
           0,
           0,
           0,
           0,
           0,
           0,
           0,
           0,
           0,
           0,
           0,
           0,
           0,
           0,
           0,
           0,
           0,
           0,
           0,
           0,
           0,
           0,
           0,
           0,
           0,
           0,
           0,
           0,
           0,
           0,
           0,
           0,
           0,
           0,
           0,
           0,
           0,
           0,
           0,
           0,
           0,
           0,
           0,
           0,
           0,
           0,
           0,
           0,
           0,
           0,
           0,
           0,
           0,
           0,
           0,
           0,
           0,
           0,
           0,
           0,
           0,
           0,
           0,
           0,
           0,
           0,
           0,
           0,
           0,
           1,
           1,
           1,
           1,
           1,
           1,
           1,
           1,
           1,
           1,
           1,
           1,
           1,
           1,
           1,
           1,
           1,
           1,
           1,
           1,
           1,
           1,
           1,
           1,
           1,
           1,
           1,
           1,
           1,
           1,
           1,
           1,
           1,
           1,
           1,
           1,
           1,
           1,
           1,
           1,
           1,
           1,
           1,
           1,
           1,
           1,
           1,
           1,
           1,
           1,
           1,
           1,
           1,
           1,
           1,
           1,
           1,
           1,
           1,
           1,
           1,
           1,
           1,
           1,
           1,
           1,
           1,
           1,
           1,
           1,
           1,
           1,
           1,
           1,
           1,
           1,
           1,
           1,
           1,
           1,
           1,
           1,
           1,
           1,
           1,
           1,
           1,
           1,
           1,
           1,
           1,
           1,
           1,
           1,
           1,
           1,
           1,
           1,
           1,
           1
          ],
          "coloraxis": "coloraxis",
          "opacity": 0.6,
          "size": 8,
          "symbol": "circle"
         },
         "mode": "markers",
         "name": "",
         "orientation": "v",
         "showlegend": false,
         "type": "scatter",
         "x": [
          0.649769617929334,
          0.6883426245637598,
          0.3740183148412396,
          0.024587660160924306,
          0.00011447588247934736,
          4.348067028510687e-8,
          1.3364769748042343e-12,
          -1.6957102643306748e-13,
          -1.6957146795989281e-13,
          -1.6956318933191767e-13,
          -1.695717094198754e-13,
          -1.6957749551250331e-13,
          -1.6957181182477875e-13,
          -1.6957245097285604e-13,
          -1.6956958993852228e-13,
          -1.6956773683174395e-13,
          -1.69565231942278e-13,
          -1.6957375401706597e-13,
          -1.695758803996918e-13,
          -1.6956682403759764e-13,
          -1.6957513399549266e-13,
          -1.6957129076823265e-13,
          -1.6956417103136778e-13,
          -1.6957387450142024e-13,
          -1.6956401293823622e-13,
          -1.6957352884368457e-13,
          -1.6957167279732926e-13,
          -1.7974853751506104e-13,
          -1.6957197843526428e-13,
          -1.6957194925819238e-13,
          -1.695754388401016e-13,
          -1.6956652786840417e-13,
          -1.6957461767744562e-13,
          -1.6956937211253414e-13,
          -1.695657090164755e-13,
          -1.6957164230665803e-13,
          -1.695710443616466e-13,
          -1.695725298199345e-13,
          -1.7002344253593644e-13,
          -1.695794750553592e-13,
          -1.6957057108379763e-13,
          -1.6956639189475396e-13,
          -1.6956932553256251e-13,
          -1.695728033161116e-13,
          -1.697143665802994e-13,
          -1.71504810023599e-13,
          -2.485997256536954e-13,
          -1.0545914634839015e-12,
          -1.9367160116422924e-12,
          -1.7955331981692063e-12,
          -1.7955143928831315e-12,
          -1.9366934714958552e-12,
          -1.0545779212825626e-12,
          -2.485970931152132e-13,
          -1.7150259801369354e-13,
          -1.6971371157354824e-13,
          -1.695740031966591e-13,
          -1.6957001323078553e-13,
          -1.69572124066889e-13,
          -1.6957193200869038e-13,
          -1.6957971396534264e-13,
          -1.6956935773538857e-13,
          -1.6957125372886804e-13,
          -1.6956322000177287e-13,
          -1.6956744183206474e-13,
          -1.6956520520530107e-13,
          -1.695646152829886e-13,
          -1.6957069440610483e-13,
          -1.6957001275491005e-13,
          -1.6956950797007725e-13,
          -1.6957234865058094e-13,
          -1.6956991868992614e-13,
          -1.6957788227996006e-13,
          -1.6957163748310176e-13,
          -1.6957229298380474e-13,
          -1.6956731290810187e-13,
          -1.6957300407116504e-13,
          -1.6957151441115056e-13,
          -1.6957111829336108e-13,
          -1.6957366833064003e-13,
          -1.695668348189149e-13,
          -1.6957197619891924e-13,
          -1.6956891040480735e-13,
          -1.6956626585259909e-13,
          -1.6956949801227284e-13,
          -1.6956915035636459e-13,
          -1.6957194580241063e-13,
          -1.695638373763292e-13,
          -1.6956846287692105e-13,
          -1.6958005970632461e-13,
          -1.6956760936500172e-13,
          -1.6957640571296186e-13,
          -1.6956916657824912e-13,
          1.3366993200827737e-12,
          4.348067046507829e-8,
          0.00011447588247965342,
          0.02458766016092351,
          0.3740183148412499,
          0.688342624563759,
          0.6497696179293341,
          -0.6497696179200868,
          -0.6883426245537038,
          -0.37401831483611375,
          -0.024587660160985715,
          -0.0001144758828214969,
          -4.348100974627289e-8,
          -1.6758396128770163e-12,
          -1.6958086876957498e-13,
          -1.6957301974980643e-13,
          -1.6956765656322904e-13,
          -1.6956551623729403e-13,
          -1.69566375756707e-13,
          -1.695702844316373e-13,
          -1.6957339843192683e-13,
          -1.6956824074465344e-13,
          -1.6956446073390198e-13,
          -1.695623940216144e-13,
          -1.6957123616157998e-13,
          -1.695668447487233e-13,
          -1.695662264951066e-13,
          -1.695684190957288e-13,
          -1.6956498829937695e-13,
          -1.6956539965276986e-13,
          -1.6957330137876204e-13,
          -1.6956714128047818e-13,
          -1.6956976714677266e-13,
          -1.6957064410680976e-13,
          -1.695781807186486e-13,
          -1.69571961820474e-13,
          -1.695756579905578e-13,
          -1.695667569104198e-13,
          -1.6956467684001628e-13,
          -1.6957174912031276e-13,
          -1.6956120527316993e-13,
          -1.69567121101686e-13,
          -1.69561613747891e-13,
          -1.6956947808400956e-13,
          -1.695772797590741e-13,
          -1.6956814531751013e-13,
          -1.6957600322276222e-13,
          -1.695705143625057e-13,
          -1.6956943164471056e-13,
          -1.6957198073565334e-13,
          -1.6957035491783098e-13,
          -1.6970653487888323e-13,
          -1.7152538283776194e-13,
          -2.4858145478143985e-13,
          -1.0546326454834136e-12,
          -1.936677831241494e-12,
          -1.7955265913696737e-12,
          -1.795521771944334e-12,
          -1.9367031796375795e-12,
          -1.054635299882689e-12,
          -2.4857390529268743e-13,
          -1.7152844402089323e-13,
          -1.6971006052279534e-13,
          -1.6957240093130223e-13,
          -1.6957242824370513e-13,
          -1.6957040119342814e-13,
          -1.6957071443369443e-13,
          -1.6957508465524796e-13,
          -1.6956619379955072e-13,
          -1.6957734706020854e-13,
          -1.6956730539051132e-13,
          -1.6956315572146828e-13,
          -1.6956434090313415e-13,
          -1.6955968202523757e-13,
          -1.6956462583707091e-13,
          -1.6957066588577672e-13,
          -1.695705152791135e-13,
          -1.695659118545444e-13,
          -1.7001367157666275e-13,
          -1.6957017368905134e-13,
          -1.6956930777925133e-13,
          -1.6956647542408825e-13,
          -1.6956537912469284e-13,
          -1.6957664249552383e-13,
          -1.6957027910451976e-13,
          -1.6956485600758879e-13,
          -1.6957084318623767e-13,
          -1.6957209006973535e-13,
          -1.6956473064161006e-13,
          -1.6956609165894373e-13,
          -1.6956174537040462e-13,
          -1.6955806368736459e-13,
          -1.6957104542867023e-13,
          -1.6957435572283502e-13,
          -1.6957331005365567e-13,
          -1.7974474973361726e-13,
          -1.6955925355015037e-13,
          -1.6956530792086326e-13,
          -1.6957287342806502e-13,
          -1.6957379629855475e-13,
          -1.675833674380029e-12,
          -4.348100975038122e-8,
          -0.00011447588282149202,
          -0.024587660161001924,
          -0.3740183148361767,
          -0.6883426245537039,
          -0.649769617920087
         ],
         "xaxis": "x",
         "y": [
          0,
          0,
          0,
          0,
          0,
          0,
          0,
          0,
          0,
          0,
          0,
          0,
          0,
          0,
          0,
          0,
          0,
          0,
          0,
          0,
          0,
          0,
          0,
          0,
          0,
          0,
          0,
          0,
          0,
          0,
          0,
          0,
          0,
          0,
          0,
          0,
          0,
          0,
          0,
          0,
          0,
          0,
          0,
          0,
          0,
          0,
          0,
          0,
          0,
          0,
          0,
          0,
          0,
          0,
          0,
          0,
          0,
          0,
          0,
          0,
          0,
          0,
          0,
          0,
          0,
          0,
          0,
          0,
          0,
          0,
          0,
          0,
          0,
          0,
          0,
          0,
          0,
          0,
          0,
          0,
          0,
          0,
          0,
          0,
          0,
          0,
          0,
          0,
          0,
          0,
          0,
          0,
          0,
          0,
          0,
          0,
          0,
          0,
          0,
          0,
          0,
          0,
          0,
          0,
          0,
          0,
          0,
          0,
          0,
          0,
          0,
          0,
          0,
          0,
          0,
          0,
          0,
          0,
          0,
          0,
          0,
          0,
          0,
          0,
          0,
          0,
          0,
          0,
          0,
          0,
          0,
          0,
          0,
          0,
          0,
          0,
          0,
          0,
          0,
          0,
          0,
          0,
          0,
          0,
          0,
          0,
          0,
          0,
          0,
          0,
          0,
          0,
          0,
          0,
          0,
          0,
          0,
          0,
          0,
          0,
          0,
          0,
          0,
          0,
          0,
          0,
          0,
          0,
          0,
          0,
          0,
          0,
          0,
          0,
          0,
          0,
          0,
          0,
          0,
          0,
          0,
          0,
          0,
          0,
          0,
          0,
          0,
          0,
          0,
          0,
          0,
          0,
          0,
          0,
          0,
          0,
          0,
          0,
          0,
          0
         ],
         "yaxis": "y"
        }
       ],
       "layout": {
        "coloraxis": {
         "colorbar": {
          "title": {
           "text": "color"
          }
         },
         "colorscale": [
          [
           0,
           "rgb(0,0,255)"
          ],
          [
           1,
           "rgb(255,0,0)"
          ]
         ],
         "showscale": false
        },
        "height": 400,
        "legend": {
         "tracegroupgap": 0
        },
        "margin": {
         "t": 60
        },
        "template": {
         "data": {
          "bar": [
           {
            "error_x": {
             "color": "#2a3f5f"
            },
            "error_y": {
             "color": "#2a3f5f"
            },
            "marker": {
             "line": {
              "color": "#E5ECF6",
              "width": 0.5
             },
             "pattern": {
              "fillmode": "overlay",
              "size": 10,
              "solidity": 0.2
             }
            },
            "type": "bar"
           }
          ],
          "barpolar": [
           {
            "marker": {
             "line": {
              "color": "#E5ECF6",
              "width": 0.5
             },
             "pattern": {
              "fillmode": "overlay",
              "size": 10,
              "solidity": 0.2
             }
            },
            "type": "barpolar"
           }
          ],
          "carpet": [
           {
            "aaxis": {
             "endlinecolor": "#2a3f5f",
             "gridcolor": "white",
             "linecolor": "white",
             "minorgridcolor": "white",
             "startlinecolor": "#2a3f5f"
            },
            "baxis": {
             "endlinecolor": "#2a3f5f",
             "gridcolor": "white",
             "linecolor": "white",
             "minorgridcolor": "white",
             "startlinecolor": "#2a3f5f"
            },
            "type": "carpet"
           }
          ],
          "choropleth": [
           {
            "colorbar": {
             "outlinewidth": 0,
             "ticks": ""
            },
            "type": "choropleth"
           }
          ],
          "contour": [
           {
            "colorbar": {
             "outlinewidth": 0,
             "ticks": ""
            },
            "colorscale": [
             [
              0,
              "#0d0887"
             ],
             [
              0.1111111111111111,
              "#46039f"
             ],
             [
              0.2222222222222222,
              "#7201a8"
             ],
             [
              0.3333333333333333,
              "#9c179e"
             ],
             [
              0.4444444444444444,
              "#bd3786"
             ],
             [
              0.5555555555555556,
              "#d8576b"
             ],
             [
              0.6666666666666666,
              "#ed7953"
             ],
             [
              0.7777777777777778,
              "#fb9f3a"
             ],
             [
              0.8888888888888888,
              "#fdca26"
             ],
             [
              1,
              "#f0f921"
             ]
            ],
            "type": "contour"
           }
          ],
          "contourcarpet": [
           {
            "colorbar": {
             "outlinewidth": 0,
             "ticks": ""
            },
            "type": "contourcarpet"
           }
          ],
          "heatmap": [
           {
            "colorbar": {
             "outlinewidth": 0,
             "ticks": ""
            },
            "colorscale": [
             [
              0,
              "#0d0887"
             ],
             [
              0.1111111111111111,
              "#46039f"
             ],
             [
              0.2222222222222222,
              "#7201a8"
             ],
             [
              0.3333333333333333,
              "#9c179e"
             ],
             [
              0.4444444444444444,
              "#bd3786"
             ],
             [
              0.5555555555555556,
              "#d8576b"
             ],
             [
              0.6666666666666666,
              "#ed7953"
             ],
             [
              0.7777777777777778,
              "#fb9f3a"
             ],
             [
              0.8888888888888888,
              "#fdca26"
             ],
             [
              1,
              "#f0f921"
             ]
            ],
            "type": "heatmap"
           }
          ],
          "heatmapgl": [
           {
            "colorbar": {
             "outlinewidth": 0,
             "ticks": ""
            },
            "colorscale": [
             [
              0,
              "#0d0887"
             ],
             [
              0.1111111111111111,
              "#46039f"
             ],
             [
              0.2222222222222222,
              "#7201a8"
             ],
             [
              0.3333333333333333,
              "#9c179e"
             ],
             [
              0.4444444444444444,
              "#bd3786"
             ],
             [
              0.5555555555555556,
              "#d8576b"
             ],
             [
              0.6666666666666666,
              "#ed7953"
             ],
             [
              0.7777777777777778,
              "#fb9f3a"
             ],
             [
              0.8888888888888888,
              "#fdca26"
             ],
             [
              1,
              "#f0f921"
             ]
            ],
            "type": "heatmapgl"
           }
          ],
          "histogram": [
           {
            "marker": {
             "pattern": {
              "fillmode": "overlay",
              "size": 10,
              "solidity": 0.2
             }
            },
            "type": "histogram"
           }
          ],
          "histogram2d": [
           {
            "colorbar": {
             "outlinewidth": 0,
             "ticks": ""
            },
            "colorscale": [
             [
              0,
              "#0d0887"
             ],
             [
              0.1111111111111111,
              "#46039f"
             ],
             [
              0.2222222222222222,
              "#7201a8"
             ],
             [
              0.3333333333333333,
              "#9c179e"
             ],
             [
              0.4444444444444444,
              "#bd3786"
             ],
             [
              0.5555555555555556,
              "#d8576b"
             ],
             [
              0.6666666666666666,
              "#ed7953"
             ],
             [
              0.7777777777777778,
              "#fb9f3a"
             ],
             [
              0.8888888888888888,
              "#fdca26"
             ],
             [
              1,
              "#f0f921"
             ]
            ],
            "type": "histogram2d"
           }
          ],
          "histogram2dcontour": [
           {
            "colorbar": {
             "outlinewidth": 0,
             "ticks": ""
            },
            "colorscale": [
             [
              0,
              "#0d0887"
             ],
             [
              0.1111111111111111,
              "#46039f"
             ],
             [
              0.2222222222222222,
              "#7201a8"
             ],
             [
              0.3333333333333333,
              "#9c179e"
             ],
             [
              0.4444444444444444,
              "#bd3786"
             ],
             [
              0.5555555555555556,
              "#d8576b"
             ],
             [
              0.6666666666666666,
              "#ed7953"
             ],
             [
              0.7777777777777778,
              "#fb9f3a"
             ],
             [
              0.8888888888888888,
              "#fdca26"
             ],
             [
              1,
              "#f0f921"
             ]
            ],
            "type": "histogram2dcontour"
           }
          ],
          "mesh3d": [
           {
            "colorbar": {
             "outlinewidth": 0,
             "ticks": ""
            },
            "type": "mesh3d"
           }
          ],
          "parcoords": [
           {
            "line": {
             "colorbar": {
              "outlinewidth": 0,
              "ticks": ""
             }
            },
            "type": "parcoords"
           }
          ],
          "pie": [
           {
            "automargin": true,
            "type": "pie"
           }
          ],
          "scatter": [
           {
            "fillpattern": {
             "fillmode": "overlay",
             "size": 10,
             "solidity": 0.2
            },
            "type": "scatter"
           }
          ],
          "scatter3d": [
           {
            "line": {
             "colorbar": {
              "outlinewidth": 0,
              "ticks": ""
             }
            },
            "marker": {
             "colorbar": {
              "outlinewidth": 0,
              "ticks": ""
             }
            },
            "type": "scatter3d"
           }
          ],
          "scattercarpet": [
           {
            "marker": {
             "colorbar": {
              "outlinewidth": 0,
              "ticks": ""
             }
            },
            "type": "scattercarpet"
           }
          ],
          "scattergeo": [
           {
            "marker": {
             "colorbar": {
              "outlinewidth": 0,
              "ticks": ""
             }
            },
            "type": "scattergeo"
           }
          ],
          "scattergl": [
           {
            "marker": {
             "colorbar": {
              "outlinewidth": 0,
              "ticks": ""
             }
            },
            "type": "scattergl"
           }
          ],
          "scattermapbox": [
           {
            "marker": {
             "colorbar": {
              "outlinewidth": 0,
              "ticks": ""
             }
            },
            "type": "scattermapbox"
           }
          ],
          "scatterpolar": [
           {
            "marker": {
             "colorbar": {
              "outlinewidth": 0,
              "ticks": ""
             }
            },
            "type": "scatterpolar"
           }
          ],
          "scatterpolargl": [
           {
            "marker": {
             "colorbar": {
              "outlinewidth": 0,
              "ticks": ""
             }
            },
            "type": "scatterpolargl"
           }
          ],
          "scatterternary": [
           {
            "marker": {
             "colorbar": {
              "outlinewidth": 0,
              "ticks": ""
             }
            },
            "type": "scatterternary"
           }
          ],
          "surface": [
           {
            "colorbar": {
             "outlinewidth": 0,
             "ticks": ""
            },
            "colorscale": [
             [
              0,
              "#0d0887"
             ],
             [
              0.1111111111111111,
              "#46039f"
             ],
             [
              0.2222222222222222,
              "#7201a8"
             ],
             [
              0.3333333333333333,
              "#9c179e"
             ],
             [
              0.4444444444444444,
              "#bd3786"
             ],
             [
              0.5555555555555556,
              "#d8576b"
             ],
             [
              0.6666666666666666,
              "#ed7953"
             ],
             [
              0.7777777777777778,
              "#fb9f3a"
             ],
             [
              0.8888888888888888,
              "#fdca26"
             ],
             [
              1,
              "#f0f921"
             ]
            ],
            "type": "surface"
           }
          ],
          "table": [
           {
            "cells": {
             "fill": {
              "color": "#EBF0F8"
             },
             "line": {
              "color": "white"
             }
            },
            "header": {
             "fill": {
              "color": "#C8D4E3"
             },
             "line": {
              "color": "white"
             }
            },
            "type": "table"
           }
          ]
         },
         "layout": {
          "annotationdefaults": {
           "arrowcolor": "#2a3f5f",
           "arrowhead": 0,
           "arrowwidth": 1
          },
          "autotypenumbers": "strict",
          "coloraxis": {
           "colorbar": {
            "outlinewidth": 0,
            "ticks": ""
           }
          },
          "colorscale": {
           "diverging": [
            [
             0,
             "#8e0152"
            ],
            [
             0.1,
             "#c51b7d"
            ],
            [
             0.2,
             "#de77ae"
            ],
            [
             0.3,
             "#f1b6da"
            ],
            [
             0.4,
             "#fde0ef"
            ],
            [
             0.5,
             "#f7f7f7"
            ],
            [
             0.6,
             "#e6f5d0"
            ],
            [
             0.7,
             "#b8e186"
            ],
            [
             0.8,
             "#7fbc41"
            ],
            [
             0.9,
             "#4d9221"
            ],
            [
             1,
             "#276419"
            ]
           ],
           "sequential": [
            [
             0,
             "#0d0887"
            ],
            [
             0.1111111111111111,
             "#46039f"
            ],
            [
             0.2222222222222222,
             "#7201a8"
            ],
            [
             0.3333333333333333,
             "#9c179e"
            ],
            [
             0.4444444444444444,
             "#bd3786"
            ],
            [
             0.5555555555555556,
             "#d8576b"
            ],
            [
             0.6666666666666666,
             "#ed7953"
            ],
            [
             0.7777777777777778,
             "#fb9f3a"
            ],
            [
             0.8888888888888888,
             "#fdca26"
            ],
            [
             1,
             "#f0f921"
            ]
           ],
           "sequentialminus": [
            [
             0,
             "#0d0887"
            ],
            [
             0.1111111111111111,
             "#46039f"
            ],
            [
             0.2222222222222222,
             "#7201a8"
            ],
            [
             0.3333333333333333,
             "#9c179e"
            ],
            [
             0.4444444444444444,
             "#bd3786"
            ],
            [
             0.5555555555555556,
             "#d8576b"
            ],
            [
             0.6666666666666666,
             "#ed7953"
            ],
            [
             0.7777777777777778,
             "#fb9f3a"
            ],
            [
             0.8888888888888888,
             "#fdca26"
            ],
            [
             1,
             "#f0f921"
            ]
           ]
          },
          "colorway": [
           "#636efa",
           "#EF553B",
           "#00cc96",
           "#ab63fa",
           "#FFA15A",
           "#19d3f3",
           "#FF6692",
           "#B6E880",
           "#FF97FF",
           "#FECB52"
          ],
          "font": {
           "color": "#2a3f5f"
          },
          "geo": {
           "bgcolor": "white",
           "lakecolor": "white",
           "landcolor": "#E5ECF6",
           "showlakes": true,
           "showland": true,
           "subunitcolor": "white"
          },
          "hoverlabel": {
           "align": "left"
          },
          "hovermode": "closest",
          "mapbox": {
           "style": "light"
          },
          "paper_bgcolor": "white",
          "plot_bgcolor": "#E5ECF6",
          "polar": {
           "angularaxis": {
            "gridcolor": "white",
            "linecolor": "white",
            "ticks": ""
           },
           "bgcolor": "#E5ECF6",
           "radialaxis": {
            "gridcolor": "white",
            "linecolor": "white",
            "ticks": ""
           }
          },
          "scene": {
           "xaxis": {
            "backgroundcolor": "#E5ECF6",
            "gridcolor": "white",
            "gridwidth": 2,
            "linecolor": "white",
            "showbackground": true,
            "ticks": "",
            "zerolinecolor": "white"
           },
           "yaxis": {
            "backgroundcolor": "#E5ECF6",
            "gridcolor": "white",
            "gridwidth": 2,
            "linecolor": "white",
            "showbackground": true,
            "ticks": "",
            "zerolinecolor": "white"
           },
           "zaxis": {
            "backgroundcolor": "#E5ECF6",
            "gridcolor": "white",
            "gridwidth": 2,
            "linecolor": "white",
            "showbackground": true,
            "ticks": "",
            "zerolinecolor": "white"
           }
          },
          "shapedefaults": {
           "line": {
            "color": "#2a3f5f"
           }
          },
          "ternary": {
           "aaxis": {
            "gridcolor": "white",
            "linecolor": "white",
            "ticks": ""
           },
           "baxis": {
            "gridcolor": "white",
            "linecolor": "white",
            "ticks": ""
           },
           "bgcolor": "#E5ECF6",
           "caxis": {
            "gridcolor": "white",
            "linecolor": "white",
            "ticks": ""
           }
          },
          "title": {
           "x": 0.05
          },
          "xaxis": {
           "automargin": true,
           "gridcolor": "white",
           "linecolor": "white",
           "ticks": "",
           "title": {
            "standoff": 15
           },
           "zerolinecolor": "white",
           "zerolinewidth": 2
          },
          "yaxis": {
           "automargin": true,
           "gridcolor": "white",
           "linecolor": "white",
           "ticks": "",
           "title": {
            "standoff": 15
           },
           "zerolinecolor": "white",
           "zerolinewidth": 2
          }
         }
        },
        "title": {
         "text": "Interlocking Hearts Data (Kernel PCA: 1 component)"
        },
        "width": 600,
        "xaxis": {
         "anchor": "y",
         "domain": [
          0,
          1
         ],
         "title": {
          "text": "Principal Component 1"
         }
        },
        "yaxis": {
         "anchor": "x",
         "domain": [
          0,
          1
         ],
         "title": {
          "text": ""
         }
        }
       }
      },
      "text/html": [
       "<div>                            <div id=\"6661d8f3-cc15-46d3-bfc6-557523d333bb\" class=\"plotly-graph-div\" style=\"height:400px; width:600px;\"></div>            <script type=\"text/javascript\">                require([\"plotly\"], function(Plotly) {                    window.PLOTLYENV=window.PLOTLYENV || {};                                    if (document.getElementById(\"6661d8f3-cc15-46d3-bfc6-557523d333bb\")) {                    Plotly.newPlot(                        \"6661d8f3-cc15-46d3-bfc6-557523d333bb\",                        [{\"hovertemplate\":\"x=%{x}<br>y=%{y}<br>color=%{marker.color}<extra></extra>\",\"legendgroup\":\"\",\"marker\":{\"color\":[0,0,0,0,0,0,0,0,0,0,0,0,0,0,0,0,0,0,0,0,0,0,0,0,0,0,0,0,0,0,0,0,0,0,0,0,0,0,0,0,0,0,0,0,0,0,0,0,0,0,0,0,0,0,0,0,0,0,0,0,0,0,0,0,0,0,0,0,0,0,0,0,0,0,0,0,0,0,0,0,0,0,0,0,0,0,0,0,0,0,0,0,0,0,0,0,0,0,0,0,1,1,1,1,1,1,1,1,1,1,1,1,1,1,1,1,1,1,1,1,1,1,1,1,1,1,1,1,1,1,1,1,1,1,1,1,1,1,1,1,1,1,1,1,1,1,1,1,1,1,1,1,1,1,1,1,1,1,1,1,1,1,1,1,1,1,1,1,1,1,1,1,1,1,1,1,1,1,1,1,1,1,1,1,1,1,1,1,1,1,1,1,1,1,1,1,1,1,1,1],\"coloraxis\":\"coloraxis\",\"symbol\":\"circle\",\"opacity\":0.6,\"size\":8},\"mode\":\"markers\",\"name\":\"\",\"orientation\":\"v\",\"showlegend\":false,\"x\":[0.649769617929334,0.6883426245637598,0.3740183148412396,0.024587660160924306,0.00011447588247934736,4.348067028510687e-08,1.3364769748042343e-12,-1.6957102643306748e-13,-1.6957146795989281e-13,-1.6956318933191767e-13,-1.695717094198754e-13,-1.6957749551250331e-13,-1.6957181182477875e-13,-1.6957245097285604e-13,-1.6956958993852228e-13,-1.6956773683174395e-13,-1.69565231942278e-13,-1.6957375401706597e-13,-1.695758803996918e-13,-1.6956682403759764e-13,-1.6957513399549266e-13,-1.6957129076823265e-13,-1.6956417103136778e-13,-1.6957387450142024e-13,-1.6956401293823622e-13,-1.6957352884368457e-13,-1.6957167279732926e-13,-1.7974853751506104e-13,-1.6957197843526428e-13,-1.6957194925819238e-13,-1.695754388401016e-13,-1.6956652786840417e-13,-1.6957461767744562e-13,-1.6956937211253414e-13,-1.695657090164755e-13,-1.6957164230665803e-13,-1.695710443616466e-13,-1.695725298199345e-13,-1.7002344253593644e-13,-1.695794750553592e-13,-1.6957057108379763e-13,-1.6956639189475396e-13,-1.6956932553256251e-13,-1.695728033161116e-13,-1.697143665802994e-13,-1.71504810023599e-13,-2.485997256536954e-13,-1.0545914634839015e-12,-1.9367160116422924e-12,-1.7955331981692063e-12,-1.7955143928831315e-12,-1.9366934714958552e-12,-1.0545779212825626e-12,-2.485970931152132e-13,-1.7150259801369354e-13,-1.6971371157354824e-13,-1.695740031966591e-13,-1.6957001323078553e-13,-1.69572124066889e-13,-1.6957193200869038e-13,-1.6957971396534264e-13,-1.6956935773538857e-13,-1.6957125372886804e-13,-1.6956322000177287e-13,-1.6956744183206474e-13,-1.6956520520530107e-13,-1.695646152829886e-13,-1.6957069440610483e-13,-1.6957001275491005e-13,-1.6956950797007725e-13,-1.6957234865058094e-13,-1.6956991868992614e-13,-1.6957788227996006e-13,-1.6957163748310176e-13,-1.6957229298380474e-13,-1.6956731290810187e-13,-1.6957300407116504e-13,-1.6957151441115056e-13,-1.6957111829336108e-13,-1.6957366833064003e-13,-1.695668348189149e-13,-1.6957197619891924e-13,-1.6956891040480735e-13,-1.6956626585259909e-13,-1.6956949801227284e-13,-1.6956915035636459e-13,-1.6957194580241063e-13,-1.695638373763292e-13,-1.6956846287692105e-13,-1.6958005970632461e-13,-1.6956760936500172e-13,-1.6957640571296186e-13,-1.6956916657824912e-13,1.3366993200827737e-12,4.348067046507829e-08,0.00011447588247965342,0.02458766016092351,0.3740183148412499,0.688342624563759,0.6497696179293341,-0.6497696179200868,-0.6883426245537038,-0.37401831483611375,-0.024587660160985715,-0.0001144758828214969,-4.348100974627289e-08,-1.6758396128770163e-12,-1.6958086876957498e-13,-1.6957301974980643e-13,-1.6956765656322904e-13,-1.6956551623729403e-13,-1.69566375756707e-13,-1.695702844316373e-13,-1.6957339843192683e-13,-1.6956824074465344e-13,-1.6956446073390198e-13,-1.695623940216144e-13,-1.6957123616157998e-13,-1.695668447487233e-13,-1.695662264951066e-13,-1.695684190957288e-13,-1.6956498829937695e-13,-1.6956539965276986e-13,-1.6957330137876204e-13,-1.6956714128047818e-13,-1.6956976714677266e-13,-1.6957064410680976e-13,-1.695781807186486e-13,-1.69571961820474e-13,-1.695756579905578e-13,-1.695667569104198e-13,-1.6956467684001628e-13,-1.6957174912031276e-13,-1.6956120527316993e-13,-1.69567121101686e-13,-1.69561613747891e-13,-1.6956947808400956e-13,-1.695772797590741e-13,-1.6956814531751013e-13,-1.6957600322276222e-13,-1.695705143625057e-13,-1.6956943164471056e-13,-1.6957198073565334e-13,-1.6957035491783098e-13,-1.6970653487888323e-13,-1.7152538283776194e-13,-2.4858145478143985e-13,-1.0546326454834136e-12,-1.936677831241494e-12,-1.7955265913696737e-12,-1.795521771944334e-12,-1.9367031796375795e-12,-1.054635299882689e-12,-2.4857390529268743e-13,-1.7152844402089323e-13,-1.6971006052279534e-13,-1.6957240093130223e-13,-1.6957242824370513e-13,-1.6957040119342814e-13,-1.6957071443369443e-13,-1.6957508465524796e-13,-1.6956619379955072e-13,-1.6957734706020854e-13,-1.6956730539051132e-13,-1.6956315572146828e-13,-1.6956434090313415e-13,-1.6955968202523757e-13,-1.6956462583707091e-13,-1.6957066588577672e-13,-1.695705152791135e-13,-1.695659118545444e-13,-1.7001367157666275e-13,-1.6957017368905134e-13,-1.6956930777925133e-13,-1.6956647542408825e-13,-1.6956537912469284e-13,-1.6957664249552383e-13,-1.6957027910451976e-13,-1.6956485600758879e-13,-1.6957084318623767e-13,-1.6957209006973535e-13,-1.6956473064161006e-13,-1.6956609165894373e-13,-1.6956174537040462e-13,-1.6955806368736459e-13,-1.6957104542867023e-13,-1.6957435572283502e-13,-1.6957331005365567e-13,-1.7974474973361726e-13,-1.6955925355015037e-13,-1.6956530792086326e-13,-1.6957287342806502e-13,-1.6957379629855475e-13,-1.675833674380029e-12,-4.348100975038122e-08,-0.00011447588282149202,-0.024587660161001924,-0.3740183148361767,-0.6883426245537039,-0.649769617920087],\"xaxis\":\"x\",\"y\":[0.0,0.0,0.0,0.0,0.0,0.0,0.0,0.0,0.0,0.0,0.0,0.0,0.0,0.0,0.0,0.0,0.0,0.0,0.0,0.0,0.0,0.0,0.0,0.0,0.0,0.0,0.0,0.0,0.0,0.0,0.0,0.0,0.0,0.0,0.0,0.0,0.0,0.0,0.0,0.0,0.0,0.0,0.0,0.0,0.0,0.0,0.0,0.0,0.0,0.0,0.0,0.0,0.0,0.0,0.0,0.0,0.0,0.0,0.0,0.0,0.0,0.0,0.0,0.0,0.0,0.0,0.0,0.0,0.0,0.0,0.0,0.0,0.0,0.0,0.0,0.0,0.0,0.0,0.0,0.0,0.0,0.0,0.0,0.0,0.0,0.0,0.0,0.0,0.0,0.0,0.0,0.0,0.0,0.0,0.0,0.0,0.0,0.0,0.0,0.0,0.0,0.0,0.0,0.0,0.0,0.0,0.0,0.0,0.0,0.0,0.0,0.0,0.0,0.0,0.0,0.0,0.0,0.0,0.0,0.0,0.0,0.0,0.0,0.0,0.0,0.0,0.0,0.0,0.0,0.0,0.0,0.0,0.0,0.0,0.0,0.0,0.0,0.0,0.0,0.0,0.0,0.0,0.0,0.0,0.0,0.0,0.0,0.0,0.0,0.0,0.0,0.0,0.0,0.0,0.0,0.0,0.0,0.0,0.0,0.0,0.0,0.0,0.0,0.0,0.0,0.0,0.0,0.0,0.0,0.0,0.0,0.0,0.0,0.0,0.0,0.0,0.0,0.0,0.0,0.0,0.0,0.0,0.0,0.0,0.0,0.0,0.0,0.0,0.0,0.0,0.0,0.0,0.0,0.0,0.0,0.0,0.0,0.0,0.0,0.0],\"yaxis\":\"y\",\"type\":\"scatter\"}],                        {\"template\":{\"data\":{\"histogram2dcontour\":[{\"type\":\"histogram2dcontour\",\"colorbar\":{\"outlinewidth\":0,\"ticks\":\"\"},\"colorscale\":[[0.0,\"#0d0887\"],[0.1111111111111111,\"#46039f\"],[0.2222222222222222,\"#7201a8\"],[0.3333333333333333,\"#9c179e\"],[0.4444444444444444,\"#bd3786\"],[0.5555555555555556,\"#d8576b\"],[0.6666666666666666,\"#ed7953\"],[0.7777777777777778,\"#fb9f3a\"],[0.8888888888888888,\"#fdca26\"],[1.0,\"#f0f921\"]]}],\"choropleth\":[{\"type\":\"choropleth\",\"colorbar\":{\"outlinewidth\":0,\"ticks\":\"\"}}],\"histogram2d\":[{\"type\":\"histogram2d\",\"colorbar\":{\"outlinewidth\":0,\"ticks\":\"\"},\"colorscale\":[[0.0,\"#0d0887\"],[0.1111111111111111,\"#46039f\"],[0.2222222222222222,\"#7201a8\"],[0.3333333333333333,\"#9c179e\"],[0.4444444444444444,\"#bd3786\"],[0.5555555555555556,\"#d8576b\"],[0.6666666666666666,\"#ed7953\"],[0.7777777777777778,\"#fb9f3a\"],[0.8888888888888888,\"#fdca26\"],[1.0,\"#f0f921\"]]}],\"heatmap\":[{\"type\":\"heatmap\",\"colorbar\":{\"outlinewidth\":0,\"ticks\":\"\"},\"colorscale\":[[0.0,\"#0d0887\"],[0.1111111111111111,\"#46039f\"],[0.2222222222222222,\"#7201a8\"],[0.3333333333333333,\"#9c179e\"],[0.4444444444444444,\"#bd3786\"],[0.5555555555555556,\"#d8576b\"],[0.6666666666666666,\"#ed7953\"],[0.7777777777777778,\"#fb9f3a\"],[0.8888888888888888,\"#fdca26\"],[1.0,\"#f0f921\"]]}],\"heatmapgl\":[{\"type\":\"heatmapgl\",\"colorbar\":{\"outlinewidth\":0,\"ticks\":\"\"},\"colorscale\":[[0.0,\"#0d0887\"],[0.1111111111111111,\"#46039f\"],[0.2222222222222222,\"#7201a8\"],[0.3333333333333333,\"#9c179e\"],[0.4444444444444444,\"#bd3786\"],[0.5555555555555556,\"#d8576b\"],[0.6666666666666666,\"#ed7953\"],[0.7777777777777778,\"#fb9f3a\"],[0.8888888888888888,\"#fdca26\"],[1.0,\"#f0f921\"]]}],\"contourcarpet\":[{\"type\":\"contourcarpet\",\"colorbar\":{\"outlinewidth\":0,\"ticks\":\"\"}}],\"contour\":[{\"type\":\"contour\",\"colorbar\":{\"outlinewidth\":0,\"ticks\":\"\"},\"colorscale\":[[0.0,\"#0d0887\"],[0.1111111111111111,\"#46039f\"],[0.2222222222222222,\"#7201a8\"],[0.3333333333333333,\"#9c179e\"],[0.4444444444444444,\"#bd3786\"],[0.5555555555555556,\"#d8576b\"],[0.6666666666666666,\"#ed7953\"],[0.7777777777777778,\"#fb9f3a\"],[0.8888888888888888,\"#fdca26\"],[1.0,\"#f0f921\"]]}],\"surface\":[{\"type\":\"surface\",\"colorbar\":{\"outlinewidth\":0,\"ticks\":\"\"},\"colorscale\":[[0.0,\"#0d0887\"],[0.1111111111111111,\"#46039f\"],[0.2222222222222222,\"#7201a8\"],[0.3333333333333333,\"#9c179e\"],[0.4444444444444444,\"#bd3786\"],[0.5555555555555556,\"#d8576b\"],[0.6666666666666666,\"#ed7953\"],[0.7777777777777778,\"#fb9f3a\"],[0.8888888888888888,\"#fdca26\"],[1.0,\"#f0f921\"]]}],\"mesh3d\":[{\"type\":\"mesh3d\",\"colorbar\":{\"outlinewidth\":0,\"ticks\":\"\"}}],\"scatter\":[{\"fillpattern\":{\"fillmode\":\"overlay\",\"size\":10,\"solidity\":0.2},\"type\":\"scatter\"}],\"parcoords\":[{\"type\":\"parcoords\",\"line\":{\"colorbar\":{\"outlinewidth\":0,\"ticks\":\"\"}}}],\"scatterpolargl\":[{\"type\":\"scatterpolargl\",\"marker\":{\"colorbar\":{\"outlinewidth\":0,\"ticks\":\"\"}}}],\"bar\":[{\"error_x\":{\"color\":\"#2a3f5f\"},\"error_y\":{\"color\":\"#2a3f5f\"},\"marker\":{\"line\":{\"color\":\"#E5ECF6\",\"width\":0.5},\"pattern\":{\"fillmode\":\"overlay\",\"size\":10,\"solidity\":0.2}},\"type\":\"bar\"}],\"scattergeo\":[{\"type\":\"scattergeo\",\"marker\":{\"colorbar\":{\"outlinewidth\":0,\"ticks\":\"\"}}}],\"scatterpolar\":[{\"type\":\"scatterpolar\",\"marker\":{\"colorbar\":{\"outlinewidth\":0,\"ticks\":\"\"}}}],\"histogram\":[{\"marker\":{\"pattern\":{\"fillmode\":\"overlay\",\"size\":10,\"solidity\":0.2}},\"type\":\"histogram\"}],\"scattergl\":[{\"type\":\"scattergl\",\"marker\":{\"colorbar\":{\"outlinewidth\":0,\"ticks\":\"\"}}}],\"scatter3d\":[{\"type\":\"scatter3d\",\"line\":{\"colorbar\":{\"outlinewidth\":0,\"ticks\":\"\"}},\"marker\":{\"colorbar\":{\"outlinewidth\":0,\"ticks\":\"\"}}}],\"scattermapbox\":[{\"type\":\"scattermapbox\",\"marker\":{\"colorbar\":{\"outlinewidth\":0,\"ticks\":\"\"}}}],\"scatterternary\":[{\"type\":\"scatterternary\",\"marker\":{\"colorbar\":{\"outlinewidth\":0,\"ticks\":\"\"}}}],\"scattercarpet\":[{\"type\":\"scattercarpet\",\"marker\":{\"colorbar\":{\"outlinewidth\":0,\"ticks\":\"\"}}}],\"carpet\":[{\"aaxis\":{\"endlinecolor\":\"#2a3f5f\",\"gridcolor\":\"white\",\"linecolor\":\"white\",\"minorgridcolor\":\"white\",\"startlinecolor\":\"#2a3f5f\"},\"baxis\":{\"endlinecolor\":\"#2a3f5f\",\"gridcolor\":\"white\",\"linecolor\":\"white\",\"minorgridcolor\":\"white\",\"startlinecolor\":\"#2a3f5f\"},\"type\":\"carpet\"}],\"table\":[{\"cells\":{\"fill\":{\"color\":\"#EBF0F8\"},\"line\":{\"color\":\"white\"}},\"header\":{\"fill\":{\"color\":\"#C8D4E3\"},\"line\":{\"color\":\"white\"}},\"type\":\"table\"}],\"barpolar\":[{\"marker\":{\"line\":{\"color\":\"#E5ECF6\",\"width\":0.5},\"pattern\":{\"fillmode\":\"overlay\",\"size\":10,\"solidity\":0.2}},\"type\":\"barpolar\"}],\"pie\":[{\"automargin\":true,\"type\":\"pie\"}]},\"layout\":{\"autotypenumbers\":\"strict\",\"colorway\":[\"#636efa\",\"#EF553B\",\"#00cc96\",\"#ab63fa\",\"#FFA15A\",\"#19d3f3\",\"#FF6692\",\"#B6E880\",\"#FF97FF\",\"#FECB52\"],\"font\":{\"color\":\"#2a3f5f\"},\"hovermode\":\"closest\",\"hoverlabel\":{\"align\":\"left\"},\"paper_bgcolor\":\"white\",\"plot_bgcolor\":\"#E5ECF6\",\"polar\":{\"bgcolor\":\"#E5ECF6\",\"angularaxis\":{\"gridcolor\":\"white\",\"linecolor\":\"white\",\"ticks\":\"\"},\"radialaxis\":{\"gridcolor\":\"white\",\"linecolor\":\"white\",\"ticks\":\"\"}},\"ternary\":{\"bgcolor\":\"#E5ECF6\",\"aaxis\":{\"gridcolor\":\"white\",\"linecolor\":\"white\",\"ticks\":\"\"},\"baxis\":{\"gridcolor\":\"white\",\"linecolor\":\"white\",\"ticks\":\"\"},\"caxis\":{\"gridcolor\":\"white\",\"linecolor\":\"white\",\"ticks\":\"\"}},\"coloraxis\":{\"colorbar\":{\"outlinewidth\":0,\"ticks\":\"\"}},\"colorscale\":{\"sequential\":[[0.0,\"#0d0887\"],[0.1111111111111111,\"#46039f\"],[0.2222222222222222,\"#7201a8\"],[0.3333333333333333,\"#9c179e\"],[0.4444444444444444,\"#bd3786\"],[0.5555555555555556,\"#d8576b\"],[0.6666666666666666,\"#ed7953\"],[0.7777777777777778,\"#fb9f3a\"],[0.8888888888888888,\"#fdca26\"],[1.0,\"#f0f921\"]],\"sequentialminus\":[[0.0,\"#0d0887\"],[0.1111111111111111,\"#46039f\"],[0.2222222222222222,\"#7201a8\"],[0.3333333333333333,\"#9c179e\"],[0.4444444444444444,\"#bd3786\"],[0.5555555555555556,\"#d8576b\"],[0.6666666666666666,\"#ed7953\"],[0.7777777777777778,\"#fb9f3a\"],[0.8888888888888888,\"#fdca26\"],[1.0,\"#f0f921\"]],\"diverging\":[[0,\"#8e0152\"],[0.1,\"#c51b7d\"],[0.2,\"#de77ae\"],[0.3,\"#f1b6da\"],[0.4,\"#fde0ef\"],[0.5,\"#f7f7f7\"],[0.6,\"#e6f5d0\"],[0.7,\"#b8e186\"],[0.8,\"#7fbc41\"],[0.9,\"#4d9221\"],[1,\"#276419\"]]},\"xaxis\":{\"gridcolor\":\"white\",\"linecolor\":\"white\",\"ticks\":\"\",\"title\":{\"standoff\":15},\"zerolinecolor\":\"white\",\"automargin\":true,\"zerolinewidth\":2},\"yaxis\":{\"gridcolor\":\"white\",\"linecolor\":\"white\",\"ticks\":\"\",\"title\":{\"standoff\":15},\"zerolinecolor\":\"white\",\"automargin\":true,\"zerolinewidth\":2},\"scene\":{\"xaxis\":{\"backgroundcolor\":\"#E5ECF6\",\"gridcolor\":\"white\",\"linecolor\":\"white\",\"showbackground\":true,\"ticks\":\"\",\"zerolinecolor\":\"white\",\"gridwidth\":2},\"yaxis\":{\"backgroundcolor\":\"#E5ECF6\",\"gridcolor\":\"white\",\"linecolor\":\"white\",\"showbackground\":true,\"ticks\":\"\",\"zerolinecolor\":\"white\",\"gridwidth\":2},\"zaxis\":{\"backgroundcolor\":\"#E5ECF6\",\"gridcolor\":\"white\",\"linecolor\":\"white\",\"showbackground\":true,\"ticks\":\"\",\"zerolinecolor\":\"white\",\"gridwidth\":2}},\"shapedefaults\":{\"line\":{\"color\":\"#2a3f5f\"}},\"annotationdefaults\":{\"arrowcolor\":\"#2a3f5f\",\"arrowhead\":0,\"arrowwidth\":1},\"geo\":{\"bgcolor\":\"white\",\"landcolor\":\"#E5ECF6\",\"subunitcolor\":\"white\",\"showland\":true,\"showlakes\":true,\"lakecolor\":\"white\"},\"title\":{\"x\":0.05},\"mapbox\":{\"style\":\"light\"}}},\"xaxis\":{\"anchor\":\"y\",\"domain\":[0.0,1.0],\"title\":{\"text\":\"Principal Component 1\"}},\"yaxis\":{\"anchor\":\"x\",\"domain\":[0.0,1.0],\"title\":{\"text\":\"\"}},\"coloraxis\":{\"colorbar\":{\"title\":{\"text\":\"color\"}},\"colorscale\":[[0.0,\"rgb(0,0,255)\"],[1.0,\"rgb(255,0,0)\"]],\"showscale\":false},\"legend\":{\"tracegroupgap\":0},\"margin\":{\"t\":60},\"width\":600,\"height\":400,\"title\":{\"text\":\"Interlocking Hearts Data (Kernel PCA: 1 component)\"}},                        {\"responsive\": true}                    ).then(function(){\n",
       "                            \n",
       "var gd = document.getElementById('6661d8f3-cc15-46d3-bfc6-557523d333bb');\n",
       "var x = new MutationObserver(function (mutations, observer) {{\n",
       "        var display = window.getComputedStyle(gd).display;\n",
       "        if (!display || display === 'none') {{\n",
       "            console.log([gd, 'removed!']);\n",
       "            Plotly.purge(gd);\n",
       "            observer.disconnect();\n",
       "        }}\n",
       "}});\n",
       "\n",
       "// Listen for the removal of the full notebook cells\n",
       "var notebookContainer = gd.closest('#notebook-container');\n",
       "if (notebookContainer) {{\n",
       "    x.observe(notebookContainer, {childList: true});\n",
       "}}\n",
       "\n",
       "// Listen for the clearing of the current output cell\n",
       "var outputEl = gd.closest('.output');\n",
       "if (outputEl) {{\n",
       "    x.observe(outputEl, {childList: true});\n",
       "}}\n",
       "\n",
       "                        })                };                });            </script>        </div>"
      ]
     },
     "metadata": {},
     "output_type": "display_data"
    }
   ],
   "source": [
    "# Projecting the transformed data into the first component space\n",
    "figHK1 = px.scatter(x=dataHK[:, 0], y=np.zeros_like(dataHK[:, 0]), \n",
    "                    color=yh, color_continuous_scale='bluered')\n",
    "figHK1.update_traces(marker=dict(size=8, opacity=0.6))\n",
    "figHK1.update_layout(coloraxis_showscale=False, \n",
    "                    width=600, height=400, \n",
    "                    xaxis_title='Principal Component 1', yaxis_title='', \n",
    "                    title='Interlocking Hearts Data (Kernel PCA: 1 component)')\n",
    "figHK1.show()"
   ]
  },
  {
   "cell_type": "markdown",
   "metadata": {},
   "source": [
    "## Conclusions"
   ]
  },
  {
   "cell_type": "markdown",
   "metadata": {},
   "source": [
    "Key Takeaways\n",
    "- Traditional PCA performs well with linearly separable data but fails to provide good separability with non-linear patterns.\n",
    "- KPCA effectively transforms non-linear data into a linearly separable form in a new feature space, enhancing class separability.\n",
    "- Choosing the right kernel and parameters is crucial for maximizing the effectiveness of KPCA in practical applications."
   ]
  },
  {
   "cell_type": "markdown",
   "metadata": {},
   "source": [
    "## References"
   ]
  },
  {
   "cell_type": "markdown",
   "metadata": {},
   "source": [
    "- https://scikit-learn.org/stable/modules/generated/sklearn.decomposition.KernelPCA.html\n",
    "- Muller, A.C. & Guido, S. (2017) Introduction to Machine Learning with Python. A guide for Data scientists. USA: O'Reilly, chapter 3.\n",
    "- VanderPlas, J. (2017) Python Data Science Handbook: Essential Tools for Working with Data. USA: O’Reilly Media, Inc. chapter 5"
   ]
  }
 ],
 "metadata": {
  "kernelspec": {
   "display_name": "myenv",
   "language": "python",
   "name": "python3"
  },
  "language_info": {
   "codemirror_mode": {
    "name": "ipython",
    "version": 3
   },
   "file_extension": ".py",
   "mimetype": "text/x-python",
   "name": "python",
   "nbconvert_exporter": "python",
   "pygments_lexer": "ipython3",
   "version": "3.11.0"
  },
  "orig_nbformat": 2
 },
 "nbformat": 4,
 "nbformat_minor": 2
}
