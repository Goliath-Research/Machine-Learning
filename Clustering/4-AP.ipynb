{
 "cells": [
  {
   "cell_type": "markdown",
   "metadata": {},
   "source": [
    "# Affinity Propagation"
   ]
  },
  {
   "cell_type": "markdown",
   "metadata": {},
   "source": [
    "## Objectives"
   ]
  },
  {
   "cell_type": "markdown",
   "metadata": {},
   "source": [
    "- Explore using Affinity Propagation to cluster various datasets, including synthetic, text, and real-world data.\n",
    "- Assess the impact of different parameters on the clustering performance of Affinity Propagation.\n",
    "- Evaluate clustering results using external validation measures."
   ]
  },
  {
   "cell_type": "markdown",
   "metadata": {},
   "source": [
    "## Background"
   ]
  },
  {
   "cell_type": "markdown",
   "metadata": {},
   "source": [
    "Affinity Propagation (AP) is a clustering algorithm that does not require specifying the number of clusters in advance. It identifies \"exemplars,\" representative points for clusters, through message passing between data points."
   ]
  },
  {
   "cell_type": "markdown",
   "metadata": {},
   "source": [
    "## Datasets Used"
   ]
  },
  {
   "cell_type": "markdown",
   "metadata": {},
   "source": [
    "- Synthetic datasets generated with make_blobs and make_moons demonstrate the clustering capability of AP in structured and complex geometrical distributions.\n",
    "- Text documents illustrate how AP handles high-dimensional, sparse data using cosine similarity measures.\n",
    "- The Wine dataset from the UCI repository, which consists of chemical analyses of Italian wines, evaluates AP's performance in real-world, multivariate data."
   ]
  },
  {
   "cell_type": "markdown",
   "metadata": {},
   "source": [
    "## A simple example"
   ]
  },
  {
   "cell_type": "markdown",
   "metadata": {},
   "source": [
    "Affinity Propagation (AP) is a clustering algorithm that identifies exemplars among data points and forms clusters by exchanging real-valued messages between points until a high-quality set of exemplars and corresponding clusters emerges."
   ]
  },
  {
   "cell_type": "code",
   "execution_count": 1,
   "metadata": {},
   "outputs": [],
   "source": [
    "import pandas as pd\n",
    "pd.set_option('display.max_columns', 8)\n",
    "\n",
    "import ClusterVisualizer as cv\n",
    "\n",
    "import plotly.express as px"
   ]
  },
  {
   "cell_type": "code",
   "execution_count": 2,
   "metadata": {},
   "outputs": [],
   "source": [
    "# Generating data with nicely defining clusters\n",
    "from sklearn.datasets import make_blobs\n",
    "\n",
    "X, _ = make_blobs(n_samples=50, centers=3, cluster_std=1.5, random_state=10) "
   ]
  },
  {
   "cell_type": "code",
   "execution_count": 3,
   "metadata": {},
   "outputs": [
    {
     "name": "stdout",
     "output_type": "stream",
     "text": [
      "(50, 2)\n"
     ]
    },
    {
     "data": {
      "text/html": [
       "<div>\n",
       "<style scoped>\n",
       "    .dataframe tbody tr th:only-of-type {\n",
       "        vertical-align: middle;\n",
       "    }\n",
       "\n",
       "    .dataframe tbody tr th {\n",
       "        vertical-align: top;\n",
       "    }\n",
       "\n",
       "    .dataframe thead th {\n",
       "        text-align: right;\n",
       "    }\n",
       "</style>\n",
       "<table border=\"1\" class=\"dataframe\">\n",
       "  <thead>\n",
       "    <tr style=\"text-align: right;\">\n",
       "      <th></th>\n",
       "      <th>x</th>\n",
       "      <th>y</th>\n",
       "    </tr>\n",
       "  </thead>\n",
       "  <tbody>\n",
       "    <tr>\n",
       "      <th>0</th>\n",
       "      <td>-0.122728</td>\n",
       "      <td>-6.634907</td>\n",
       "    </tr>\n",
       "    <tr>\n",
       "      <th>1</th>\n",
       "      <td>-1.597559</td>\n",
       "      <td>-6.701080</td>\n",
       "    </tr>\n",
       "    <tr>\n",
       "      <th>2</th>\n",
       "      <td>4.366142</td>\n",
       "      <td>3.929363</td>\n",
       "    </tr>\n",
       "    <tr>\n",
       "      <th>3</th>\n",
       "      <td>-2.292342</td>\n",
       "      <td>-4.573166</td>\n",
       "    </tr>\n",
       "    <tr>\n",
       "      <th>4</th>\n",
       "      <td>-1.414224</td>\n",
       "      <td>-4.799440</td>\n",
       "    </tr>\n",
       "  </tbody>\n",
       "</table>\n",
       "</div>"
      ],
      "text/plain": [
       "          x         y\n",
       "0 -0.122728 -6.634907\n",
       "1 -1.597559 -6.701080\n",
       "2  4.366142  3.929363\n",
       "3 -2.292342 -4.573166\n",
       "4 -1.414224 -4.799440"
      ]
     },
     "execution_count": 3,
     "metadata": {},
     "output_type": "execute_result"
    }
   ],
   "source": [
    "# Savig the data to a DataFrame\n",
    "dataX = pd.DataFrame(X, columns=['x', 'y'])\n",
    "print(dataX.shape)\n",
    "dataX.head()"
   ]
  },
  {
   "cell_type": "code",
   "execution_count": 4,
   "metadata": {},
   "outputs": [
    {
     "data": {
      "application/vnd.plotly.v1+json": {
       "config": {
        "plotlyServerURL": "https://plot.ly"
       },
       "data": [
        {
         "hovertemplate": "x=%{x}<br>y=%{y}<extra></extra>",
         "legendgroup": "",
         "marker": {
          "color": "#636efa",
          "opacity": 0.6,
          "size": 8,
          "symbol": "circle"
         },
         "mode": "markers",
         "name": "",
         "orientation": "v",
         "showlegend": false,
         "type": "scatter",
         "x": [
          -0.1227277981867975,
          -1.5975585602198474,
          4.366142428190324,
          -2.2923419846930146,
          -1.41422365122161,
          -0.10310552095632067,
          3.663312025364978,
          4.242238983737904,
          3.9363018060994914,
          2.164254329430356,
          1.0380787708315684,
          1.2106381800452066,
          0.2960379637288683,
          6.3584168261706395,
          5.625475308974846,
          2.4598204443480585,
          -0.12863152551499282,
          1.8631460915264562,
          6.026727847713442,
          7.389122486630136,
          5.769358060521909,
          1.466077985120576,
          5.575136689087785,
          5.025437082324566,
          3.151999330162344,
          1.2638146588816812,
          -0.35354459244397385,
          4.5576730941582415,
          6.265020195852311,
          5.8246802438730985,
          5.432850011735969,
          2.9477671331904056,
          0.44227091426940934,
          7.111949745449055,
          3.721509547588353,
          0.1463537375917662,
          3.9788143595597742,
          5.019540883386248,
          1.6317025982257833,
          6.075952150265316,
          2.1292159237920467,
          3.520693703010449,
          7.653218368089792,
          5.825518111335746,
          -0.7529994622014096,
          2.504555991734268,
          -2.814137974864913,
          2.3246913146093715,
          2.5512814228000886,
          2.634106693301229
         ],
         "xaxis": "x",
         "y": [
          -6.634906530504596,
          -6.701080315891414,
          3.9293626050646644,
          -4.5731660948701265,
          -4.799439938258482,
          -4.914055263760437,
          4.449769813612429,
          2.848243606937144,
          5.281448846763454,
          5.444332555242069,
          -4.1266633621639235,
          -8.435835269385304,
          -8.495657743994633,
          -10.665089353890316,
          -10.299174035202975,
          -12.200019456660332,
          -8.701635252105453,
          6.038317680662141,
          -10.091409518440267,
          -9.292441093962331,
          -8.917254593566447,
          4.6570311927064685,
          -7.4879664471716065,
          -10.408924533970188,
          5.667432003279814,
          4.242071825445259,
          -4.020458403133889,
          3.878123397770424,
          6.35226605703788,
          -9.422138224239516,
          -9.846861328701381,
          -2.8868458668740953,
          -1.8025905047311426,
          -7.076027692850229,
          -9.382255695139017,
          -8.365252421569647,
          -8.042549895837913,
          -8.665154735522512,
          -5.137251124411062,
          -7.780404952093652,
          4.793219114029403,
          4.754947264181706,
          -11.204668341489883,
          -6.007510016745325,
          -5.3696856704987725,
          4.432806980058876,
          -5.838227638037546,
          4.223484301379935,
          4.1821335292730035,
          5.409718956478138
         ],
         "yaxis": "y"
        }
       ],
       "layout": {
        "coloraxis": {
         "showscale": false
        },
        "height": 400,
        "legend": {
         "tracegroupgap": 0
        },
        "margin": {
         "t": 60
        },
        "showlegend": false,
        "template": {
         "data": {
          "bar": [
           {
            "error_x": {
             "color": "#2a3f5f"
            },
            "error_y": {
             "color": "#2a3f5f"
            },
            "marker": {
             "line": {
              "color": "#E5ECF6",
              "width": 0.5
             },
             "pattern": {
              "fillmode": "overlay",
              "size": 10,
              "solidity": 0.2
             }
            },
            "type": "bar"
           }
          ],
          "barpolar": [
           {
            "marker": {
             "line": {
              "color": "#E5ECF6",
              "width": 0.5
             },
             "pattern": {
              "fillmode": "overlay",
              "size": 10,
              "solidity": 0.2
             }
            },
            "type": "barpolar"
           }
          ],
          "carpet": [
           {
            "aaxis": {
             "endlinecolor": "#2a3f5f",
             "gridcolor": "white",
             "linecolor": "white",
             "minorgridcolor": "white",
             "startlinecolor": "#2a3f5f"
            },
            "baxis": {
             "endlinecolor": "#2a3f5f",
             "gridcolor": "white",
             "linecolor": "white",
             "minorgridcolor": "white",
             "startlinecolor": "#2a3f5f"
            },
            "type": "carpet"
           }
          ],
          "choropleth": [
           {
            "colorbar": {
             "outlinewidth": 0,
             "ticks": ""
            },
            "type": "choropleth"
           }
          ],
          "contour": [
           {
            "colorbar": {
             "outlinewidth": 0,
             "ticks": ""
            },
            "colorscale": [
             [
              0,
              "#0d0887"
             ],
             [
              0.1111111111111111,
              "#46039f"
             ],
             [
              0.2222222222222222,
              "#7201a8"
             ],
             [
              0.3333333333333333,
              "#9c179e"
             ],
             [
              0.4444444444444444,
              "#bd3786"
             ],
             [
              0.5555555555555556,
              "#d8576b"
             ],
             [
              0.6666666666666666,
              "#ed7953"
             ],
             [
              0.7777777777777778,
              "#fb9f3a"
             ],
             [
              0.8888888888888888,
              "#fdca26"
             ],
             [
              1,
              "#f0f921"
             ]
            ],
            "type": "contour"
           }
          ],
          "contourcarpet": [
           {
            "colorbar": {
             "outlinewidth": 0,
             "ticks": ""
            },
            "type": "contourcarpet"
           }
          ],
          "heatmap": [
           {
            "colorbar": {
             "outlinewidth": 0,
             "ticks": ""
            },
            "colorscale": [
             [
              0,
              "#0d0887"
             ],
             [
              0.1111111111111111,
              "#46039f"
             ],
             [
              0.2222222222222222,
              "#7201a8"
             ],
             [
              0.3333333333333333,
              "#9c179e"
             ],
             [
              0.4444444444444444,
              "#bd3786"
             ],
             [
              0.5555555555555556,
              "#d8576b"
             ],
             [
              0.6666666666666666,
              "#ed7953"
             ],
             [
              0.7777777777777778,
              "#fb9f3a"
             ],
             [
              0.8888888888888888,
              "#fdca26"
             ],
             [
              1,
              "#f0f921"
             ]
            ],
            "type": "heatmap"
           }
          ],
          "heatmapgl": [
           {
            "colorbar": {
             "outlinewidth": 0,
             "ticks": ""
            },
            "colorscale": [
             [
              0,
              "#0d0887"
             ],
             [
              0.1111111111111111,
              "#46039f"
             ],
             [
              0.2222222222222222,
              "#7201a8"
             ],
             [
              0.3333333333333333,
              "#9c179e"
             ],
             [
              0.4444444444444444,
              "#bd3786"
             ],
             [
              0.5555555555555556,
              "#d8576b"
             ],
             [
              0.6666666666666666,
              "#ed7953"
             ],
             [
              0.7777777777777778,
              "#fb9f3a"
             ],
             [
              0.8888888888888888,
              "#fdca26"
             ],
             [
              1,
              "#f0f921"
             ]
            ],
            "type": "heatmapgl"
           }
          ],
          "histogram": [
           {
            "marker": {
             "pattern": {
              "fillmode": "overlay",
              "size": 10,
              "solidity": 0.2
             }
            },
            "type": "histogram"
           }
          ],
          "histogram2d": [
           {
            "colorbar": {
             "outlinewidth": 0,
             "ticks": ""
            },
            "colorscale": [
             [
              0,
              "#0d0887"
             ],
             [
              0.1111111111111111,
              "#46039f"
             ],
             [
              0.2222222222222222,
              "#7201a8"
             ],
             [
              0.3333333333333333,
              "#9c179e"
             ],
             [
              0.4444444444444444,
              "#bd3786"
             ],
             [
              0.5555555555555556,
              "#d8576b"
             ],
             [
              0.6666666666666666,
              "#ed7953"
             ],
             [
              0.7777777777777778,
              "#fb9f3a"
             ],
             [
              0.8888888888888888,
              "#fdca26"
             ],
             [
              1,
              "#f0f921"
             ]
            ],
            "type": "histogram2d"
           }
          ],
          "histogram2dcontour": [
           {
            "colorbar": {
             "outlinewidth": 0,
             "ticks": ""
            },
            "colorscale": [
             [
              0,
              "#0d0887"
             ],
             [
              0.1111111111111111,
              "#46039f"
             ],
             [
              0.2222222222222222,
              "#7201a8"
             ],
             [
              0.3333333333333333,
              "#9c179e"
             ],
             [
              0.4444444444444444,
              "#bd3786"
             ],
             [
              0.5555555555555556,
              "#d8576b"
             ],
             [
              0.6666666666666666,
              "#ed7953"
             ],
             [
              0.7777777777777778,
              "#fb9f3a"
             ],
             [
              0.8888888888888888,
              "#fdca26"
             ],
             [
              1,
              "#f0f921"
             ]
            ],
            "type": "histogram2dcontour"
           }
          ],
          "mesh3d": [
           {
            "colorbar": {
             "outlinewidth": 0,
             "ticks": ""
            },
            "type": "mesh3d"
           }
          ],
          "parcoords": [
           {
            "line": {
             "colorbar": {
              "outlinewidth": 0,
              "ticks": ""
             }
            },
            "type": "parcoords"
           }
          ],
          "pie": [
           {
            "automargin": true,
            "type": "pie"
           }
          ],
          "scatter": [
           {
            "fillpattern": {
             "fillmode": "overlay",
             "size": 10,
             "solidity": 0.2
            },
            "type": "scatter"
           }
          ],
          "scatter3d": [
           {
            "line": {
             "colorbar": {
              "outlinewidth": 0,
              "ticks": ""
             }
            },
            "marker": {
             "colorbar": {
              "outlinewidth": 0,
              "ticks": ""
             }
            },
            "type": "scatter3d"
           }
          ],
          "scattercarpet": [
           {
            "marker": {
             "colorbar": {
              "outlinewidth": 0,
              "ticks": ""
             }
            },
            "type": "scattercarpet"
           }
          ],
          "scattergeo": [
           {
            "marker": {
             "colorbar": {
              "outlinewidth": 0,
              "ticks": ""
             }
            },
            "type": "scattergeo"
           }
          ],
          "scattergl": [
           {
            "marker": {
             "colorbar": {
              "outlinewidth": 0,
              "ticks": ""
             }
            },
            "type": "scattergl"
           }
          ],
          "scattermapbox": [
           {
            "marker": {
             "colorbar": {
              "outlinewidth": 0,
              "ticks": ""
             }
            },
            "type": "scattermapbox"
           }
          ],
          "scatterpolar": [
           {
            "marker": {
             "colorbar": {
              "outlinewidth": 0,
              "ticks": ""
             }
            },
            "type": "scatterpolar"
           }
          ],
          "scatterpolargl": [
           {
            "marker": {
             "colorbar": {
              "outlinewidth": 0,
              "ticks": ""
             }
            },
            "type": "scatterpolargl"
           }
          ],
          "scatterternary": [
           {
            "marker": {
             "colorbar": {
              "outlinewidth": 0,
              "ticks": ""
             }
            },
            "type": "scatterternary"
           }
          ],
          "surface": [
           {
            "colorbar": {
             "outlinewidth": 0,
             "ticks": ""
            },
            "colorscale": [
             [
              0,
              "#0d0887"
             ],
             [
              0.1111111111111111,
              "#46039f"
             ],
             [
              0.2222222222222222,
              "#7201a8"
             ],
             [
              0.3333333333333333,
              "#9c179e"
             ],
             [
              0.4444444444444444,
              "#bd3786"
             ],
             [
              0.5555555555555556,
              "#d8576b"
             ],
             [
              0.6666666666666666,
              "#ed7953"
             ],
             [
              0.7777777777777778,
              "#fb9f3a"
             ],
             [
              0.8888888888888888,
              "#fdca26"
             ],
             [
              1,
              "#f0f921"
             ]
            ],
            "type": "surface"
           }
          ],
          "table": [
           {
            "cells": {
             "fill": {
              "color": "#EBF0F8"
             },
             "line": {
              "color": "white"
             }
            },
            "header": {
             "fill": {
              "color": "#C8D4E3"
             },
             "line": {
              "color": "white"
             }
            },
            "type": "table"
           }
          ]
         },
         "layout": {
          "annotationdefaults": {
           "arrowcolor": "#2a3f5f",
           "arrowhead": 0,
           "arrowwidth": 1
          },
          "autotypenumbers": "strict",
          "coloraxis": {
           "colorbar": {
            "outlinewidth": 0,
            "ticks": ""
           }
          },
          "colorscale": {
           "diverging": [
            [
             0,
             "#8e0152"
            ],
            [
             0.1,
             "#c51b7d"
            ],
            [
             0.2,
             "#de77ae"
            ],
            [
             0.3,
             "#f1b6da"
            ],
            [
             0.4,
             "#fde0ef"
            ],
            [
             0.5,
             "#f7f7f7"
            ],
            [
             0.6,
             "#e6f5d0"
            ],
            [
             0.7,
             "#b8e186"
            ],
            [
             0.8,
             "#7fbc41"
            ],
            [
             0.9,
             "#4d9221"
            ],
            [
             1,
             "#276419"
            ]
           ],
           "sequential": [
            [
             0,
             "#0d0887"
            ],
            [
             0.1111111111111111,
             "#46039f"
            ],
            [
             0.2222222222222222,
             "#7201a8"
            ],
            [
             0.3333333333333333,
             "#9c179e"
            ],
            [
             0.4444444444444444,
             "#bd3786"
            ],
            [
             0.5555555555555556,
             "#d8576b"
            ],
            [
             0.6666666666666666,
             "#ed7953"
            ],
            [
             0.7777777777777778,
             "#fb9f3a"
            ],
            [
             0.8888888888888888,
             "#fdca26"
            ],
            [
             1,
             "#f0f921"
            ]
           ],
           "sequentialminus": [
            [
             0,
             "#0d0887"
            ],
            [
             0.1111111111111111,
             "#46039f"
            ],
            [
             0.2222222222222222,
             "#7201a8"
            ],
            [
             0.3333333333333333,
             "#9c179e"
            ],
            [
             0.4444444444444444,
             "#bd3786"
            ],
            [
             0.5555555555555556,
             "#d8576b"
            ],
            [
             0.6666666666666666,
             "#ed7953"
            ],
            [
             0.7777777777777778,
             "#fb9f3a"
            ],
            [
             0.8888888888888888,
             "#fdca26"
            ],
            [
             1,
             "#f0f921"
            ]
           ]
          },
          "colorway": [
           "#636efa",
           "#EF553B",
           "#00cc96",
           "#ab63fa",
           "#FFA15A",
           "#19d3f3",
           "#FF6692",
           "#B6E880",
           "#FF97FF",
           "#FECB52"
          ],
          "font": {
           "color": "#2a3f5f"
          },
          "geo": {
           "bgcolor": "white",
           "lakecolor": "white",
           "landcolor": "#E5ECF6",
           "showlakes": true,
           "showland": true,
           "subunitcolor": "white"
          },
          "hoverlabel": {
           "align": "left"
          },
          "hovermode": "closest",
          "mapbox": {
           "style": "light"
          },
          "paper_bgcolor": "white",
          "plot_bgcolor": "#E5ECF6",
          "polar": {
           "angularaxis": {
            "gridcolor": "white",
            "linecolor": "white",
            "ticks": ""
           },
           "bgcolor": "#E5ECF6",
           "radialaxis": {
            "gridcolor": "white",
            "linecolor": "white",
            "ticks": ""
           }
          },
          "scene": {
           "xaxis": {
            "backgroundcolor": "#E5ECF6",
            "gridcolor": "white",
            "gridwidth": 2,
            "linecolor": "white",
            "showbackground": true,
            "ticks": "",
            "zerolinecolor": "white"
           },
           "yaxis": {
            "backgroundcolor": "#E5ECF6",
            "gridcolor": "white",
            "gridwidth": 2,
            "linecolor": "white",
            "showbackground": true,
            "ticks": "",
            "zerolinecolor": "white"
           },
           "zaxis": {
            "backgroundcolor": "#E5ECF6",
            "gridcolor": "white",
            "gridwidth": 2,
            "linecolor": "white",
            "showbackground": true,
            "ticks": "",
            "zerolinecolor": "white"
           }
          },
          "shapedefaults": {
           "line": {
            "color": "#2a3f5f"
           }
          },
          "ternary": {
           "aaxis": {
            "gridcolor": "white",
            "linecolor": "white",
            "ticks": ""
           },
           "baxis": {
            "gridcolor": "white",
            "linecolor": "white",
            "ticks": ""
           },
           "bgcolor": "#E5ECF6",
           "caxis": {
            "gridcolor": "white",
            "linecolor": "white",
            "ticks": ""
           }
          },
          "title": {
           "x": 0.05
          },
          "xaxis": {
           "automargin": true,
           "gridcolor": "white",
           "linecolor": "white",
           "ticks": "",
           "title": {
            "standoff": 15
           },
           "zerolinecolor": "white",
           "zerolinewidth": 2
          },
          "yaxis": {
           "automargin": true,
           "gridcolor": "white",
           "linecolor": "white",
           "ticks": "",
           "title": {
            "standoff": 15
           },
           "zerolinecolor": "white",
           "zerolinewidth": 2
          }
         }
        },
        "title": {
         "text": "Data Points"
        },
        "width": 600,
        "xaxis": {
         "anchor": "y",
         "domain": [
          0,
          1
         ],
         "title": {
          "text": "x"
         }
        },
        "yaxis": {
         "anchor": "x",
         "domain": [
          0,
          1
         ],
         "title": {
          "text": "y"
         }
        }
       }
      }
     },
     "metadata": {},
     "output_type": "display_data"
    }
   ],
   "source": [
    "cvX = cv.ClusterVisualizer(dataX)\n",
    "\n",
    "cvX.plot_data()"
   ]
  },
  {
   "cell_type": "code",
   "execution_count": 5,
   "metadata": {},
   "outputs": [],
   "source": [
    "# Initialize the model\n",
    "from sklearn.cluster import AffinityPropagation\n",
    "\n",
    "ap_clusters = AffinityPropagation(random_state=0).fit(X)"
   ]
  },
  {
   "cell_type": "code",
   "execution_count": 6,
   "metadata": {},
   "outputs": [
    {
     "name": "stdout",
     "output_type": "stream",
     "text": [
      "Number of clusters: 3\n",
      "Cluster centers: \n",
      " [[ 5.82 -9.42]\n",
      " [ 3.52  4.75]\n",
      " [-0.75 -5.37]]\n"
     ]
    }
   ],
   "source": [
    "print('Number of clusters: %i' % len(ap_clusters.cluster_centers_indices_))\n",
    "print('Cluster centers: \\n', ap_clusters.cluster_centers_.round(2))"
   ]
  },
  {
   "cell_type": "code",
   "execution_count": 7,
   "metadata": {},
   "outputs": [
    {
     "data": {
      "application/vnd.plotly.v1+json": {
       "config": {
        "plotlyServerURL": "https://plot.ly"
       },
       "data": [
        {
         "hovertemplate": "color=2<br>x=%{x}<br>y=%{y}<extra></extra>",
         "legendgroup": "2",
         "marker": {
          "color": "#636efa",
          "opacity": 0.6,
          "size": 8,
          "symbol": "circle"
         },
         "mode": "markers",
         "name": "2",
         "orientation": "v",
         "showlegend": true,
         "type": "scatter",
         "x": [
          -0.1227277981867975,
          -1.5975585602198474,
          -2.2923419846930146,
          -1.41422365122161,
          -0.10310552095632067,
          1.0380787708315684,
          1.2106381800452066,
          0.2960379637288683,
          -0.12863152551499282,
          -0.35354459244397385,
          2.9477671331904056,
          0.44227091426940934,
          0.1463537375917662,
          1.6317025982257833,
          -0.7529994622014096,
          -2.814137974864913
         ],
         "xaxis": "x",
         "y": [
          -6.634906530504596,
          -6.701080315891414,
          -4.5731660948701265,
          -4.799439938258482,
          -4.914055263760437,
          -4.1266633621639235,
          -8.435835269385304,
          -8.495657743994633,
          -8.701635252105453,
          -4.020458403133889,
          -2.8868458668740953,
          -1.8025905047311426,
          -8.365252421569647,
          -5.137251124411062,
          -5.3696856704987725,
          -5.838227638037546
         ],
         "yaxis": "y"
        },
        {
         "hovertemplate": "color=1<br>x=%{x}<br>y=%{y}<extra></extra>",
         "legendgroup": "1",
         "marker": {
          "color": "#EF553B",
          "opacity": 0.6,
          "size": 8,
          "symbol": "circle"
         },
         "mode": "markers",
         "name": "1",
         "orientation": "v",
         "showlegend": true,
         "type": "scatter",
         "x": [
          4.366142428190324,
          3.663312025364978,
          4.242238983737904,
          3.9363018060994914,
          2.164254329430356,
          1.8631460915264562,
          1.466077985120576,
          3.151999330162344,
          1.2638146588816812,
          4.5576730941582415,
          6.265020195852311,
          2.1292159237920467,
          3.520693703010449,
          2.504555991734268,
          2.3246913146093715,
          2.5512814228000886,
          2.634106693301229
         ],
         "xaxis": "x",
         "y": [
          3.9293626050646644,
          4.449769813612429,
          2.848243606937144,
          5.281448846763454,
          5.444332555242069,
          6.038317680662141,
          4.6570311927064685,
          5.667432003279814,
          4.242071825445259,
          3.878123397770424,
          6.35226605703788,
          4.793219114029403,
          4.754947264181706,
          4.432806980058876,
          4.223484301379935,
          4.1821335292730035,
          5.409718956478138
         ],
         "yaxis": "y"
        },
        {
         "hovertemplate": "color=0<br>x=%{x}<br>y=%{y}<extra></extra>",
         "legendgroup": "0",
         "marker": {
          "color": "#00cc96",
          "opacity": 0.6,
          "size": 8,
          "symbol": "circle"
         },
         "mode": "markers",
         "name": "0",
         "orientation": "v",
         "showlegend": true,
         "type": "scatter",
         "x": [
          6.3584168261706395,
          5.625475308974846,
          2.4598204443480585,
          6.026727847713442,
          7.389122486630136,
          5.769358060521909,
          5.575136689087785,
          5.025437082324566,
          5.8246802438730985,
          5.432850011735969,
          7.111949745449055,
          3.721509547588353,
          3.9788143595597742,
          5.019540883386248,
          6.075952150265316,
          7.653218368089792,
          5.825518111335746
         ],
         "xaxis": "x",
         "y": [
          -10.665089353890316,
          -10.299174035202975,
          -12.200019456660332,
          -10.091409518440267,
          -9.292441093962331,
          -8.917254593566447,
          -7.4879664471716065,
          -10.408924533970188,
          -9.422138224239516,
          -9.846861328701381,
          -7.076027692850229,
          -9.382255695139017,
          -8.042549895837913,
          -8.665154735522512,
          -7.780404952093652,
          -11.204668341489883,
          -6.007510016745325
         ],
         "yaxis": "y"
        },
        {
         "marker": {
          "color": "black",
          "opacity": 0.8,
          "size": 8
         },
         "mode": "markers",
         "name": "Centers",
         "type": "scatter",
         "x": [
          5.8246802438730985,
          3.520693703010449,
          -0.7529994622014096
         ],
         "y": [
          -9.422138224239516,
          4.754947264181706,
          -5.3696856704987725
         ]
        }
       ],
       "layout": {
        "coloraxis": {
         "showscale": false
        },
        "height": 400,
        "legend": {
         "title": {
          "text": "Clusters"
         },
         "tracegroupgap": 0
        },
        "margin": {
         "t": 60
        },
        "showlegend": true,
        "template": {
         "data": {
          "bar": [
           {
            "error_x": {
             "color": "#2a3f5f"
            },
            "error_y": {
             "color": "#2a3f5f"
            },
            "marker": {
             "line": {
              "color": "#E5ECF6",
              "width": 0.5
             },
             "pattern": {
              "fillmode": "overlay",
              "size": 10,
              "solidity": 0.2
             }
            },
            "type": "bar"
           }
          ],
          "barpolar": [
           {
            "marker": {
             "line": {
              "color": "#E5ECF6",
              "width": 0.5
             },
             "pattern": {
              "fillmode": "overlay",
              "size": 10,
              "solidity": 0.2
             }
            },
            "type": "barpolar"
           }
          ],
          "carpet": [
           {
            "aaxis": {
             "endlinecolor": "#2a3f5f",
             "gridcolor": "white",
             "linecolor": "white",
             "minorgridcolor": "white",
             "startlinecolor": "#2a3f5f"
            },
            "baxis": {
             "endlinecolor": "#2a3f5f",
             "gridcolor": "white",
             "linecolor": "white",
             "minorgridcolor": "white",
             "startlinecolor": "#2a3f5f"
            },
            "type": "carpet"
           }
          ],
          "choropleth": [
           {
            "colorbar": {
             "outlinewidth": 0,
             "ticks": ""
            },
            "type": "choropleth"
           }
          ],
          "contour": [
           {
            "colorbar": {
             "outlinewidth": 0,
             "ticks": ""
            },
            "colorscale": [
             [
              0,
              "#0d0887"
             ],
             [
              0.1111111111111111,
              "#46039f"
             ],
             [
              0.2222222222222222,
              "#7201a8"
             ],
             [
              0.3333333333333333,
              "#9c179e"
             ],
             [
              0.4444444444444444,
              "#bd3786"
             ],
             [
              0.5555555555555556,
              "#d8576b"
             ],
             [
              0.6666666666666666,
              "#ed7953"
             ],
             [
              0.7777777777777778,
              "#fb9f3a"
             ],
             [
              0.8888888888888888,
              "#fdca26"
             ],
             [
              1,
              "#f0f921"
             ]
            ],
            "type": "contour"
           }
          ],
          "contourcarpet": [
           {
            "colorbar": {
             "outlinewidth": 0,
             "ticks": ""
            },
            "type": "contourcarpet"
           }
          ],
          "heatmap": [
           {
            "colorbar": {
             "outlinewidth": 0,
             "ticks": ""
            },
            "colorscale": [
             [
              0,
              "#0d0887"
             ],
             [
              0.1111111111111111,
              "#46039f"
             ],
             [
              0.2222222222222222,
              "#7201a8"
             ],
             [
              0.3333333333333333,
              "#9c179e"
             ],
             [
              0.4444444444444444,
              "#bd3786"
             ],
             [
              0.5555555555555556,
              "#d8576b"
             ],
             [
              0.6666666666666666,
              "#ed7953"
             ],
             [
              0.7777777777777778,
              "#fb9f3a"
             ],
             [
              0.8888888888888888,
              "#fdca26"
             ],
             [
              1,
              "#f0f921"
             ]
            ],
            "type": "heatmap"
           }
          ],
          "heatmapgl": [
           {
            "colorbar": {
             "outlinewidth": 0,
             "ticks": ""
            },
            "colorscale": [
             [
              0,
              "#0d0887"
             ],
             [
              0.1111111111111111,
              "#46039f"
             ],
             [
              0.2222222222222222,
              "#7201a8"
             ],
             [
              0.3333333333333333,
              "#9c179e"
             ],
             [
              0.4444444444444444,
              "#bd3786"
             ],
             [
              0.5555555555555556,
              "#d8576b"
             ],
             [
              0.6666666666666666,
              "#ed7953"
             ],
             [
              0.7777777777777778,
              "#fb9f3a"
             ],
             [
              0.8888888888888888,
              "#fdca26"
             ],
             [
              1,
              "#f0f921"
             ]
            ],
            "type": "heatmapgl"
           }
          ],
          "histogram": [
           {
            "marker": {
             "pattern": {
              "fillmode": "overlay",
              "size": 10,
              "solidity": 0.2
             }
            },
            "type": "histogram"
           }
          ],
          "histogram2d": [
           {
            "colorbar": {
             "outlinewidth": 0,
             "ticks": ""
            },
            "colorscale": [
             [
              0,
              "#0d0887"
             ],
             [
              0.1111111111111111,
              "#46039f"
             ],
             [
              0.2222222222222222,
              "#7201a8"
             ],
             [
              0.3333333333333333,
              "#9c179e"
             ],
             [
              0.4444444444444444,
              "#bd3786"
             ],
             [
              0.5555555555555556,
              "#d8576b"
             ],
             [
              0.6666666666666666,
              "#ed7953"
             ],
             [
              0.7777777777777778,
              "#fb9f3a"
             ],
             [
              0.8888888888888888,
              "#fdca26"
             ],
             [
              1,
              "#f0f921"
             ]
            ],
            "type": "histogram2d"
           }
          ],
          "histogram2dcontour": [
           {
            "colorbar": {
             "outlinewidth": 0,
             "ticks": ""
            },
            "colorscale": [
             [
              0,
              "#0d0887"
             ],
             [
              0.1111111111111111,
              "#46039f"
             ],
             [
              0.2222222222222222,
              "#7201a8"
             ],
             [
              0.3333333333333333,
              "#9c179e"
             ],
             [
              0.4444444444444444,
              "#bd3786"
             ],
             [
              0.5555555555555556,
              "#d8576b"
             ],
             [
              0.6666666666666666,
              "#ed7953"
             ],
             [
              0.7777777777777778,
              "#fb9f3a"
             ],
             [
              0.8888888888888888,
              "#fdca26"
             ],
             [
              1,
              "#f0f921"
             ]
            ],
            "type": "histogram2dcontour"
           }
          ],
          "mesh3d": [
           {
            "colorbar": {
             "outlinewidth": 0,
             "ticks": ""
            },
            "type": "mesh3d"
           }
          ],
          "parcoords": [
           {
            "line": {
             "colorbar": {
              "outlinewidth": 0,
              "ticks": ""
             }
            },
            "type": "parcoords"
           }
          ],
          "pie": [
           {
            "automargin": true,
            "type": "pie"
           }
          ],
          "scatter": [
           {
            "fillpattern": {
             "fillmode": "overlay",
             "size": 10,
             "solidity": 0.2
            },
            "type": "scatter"
           }
          ],
          "scatter3d": [
           {
            "line": {
             "colorbar": {
              "outlinewidth": 0,
              "ticks": ""
             }
            },
            "marker": {
             "colorbar": {
              "outlinewidth": 0,
              "ticks": ""
             }
            },
            "type": "scatter3d"
           }
          ],
          "scattercarpet": [
           {
            "marker": {
             "colorbar": {
              "outlinewidth": 0,
              "ticks": ""
             }
            },
            "type": "scattercarpet"
           }
          ],
          "scattergeo": [
           {
            "marker": {
             "colorbar": {
              "outlinewidth": 0,
              "ticks": ""
             }
            },
            "type": "scattergeo"
           }
          ],
          "scattergl": [
           {
            "marker": {
             "colorbar": {
              "outlinewidth": 0,
              "ticks": ""
             }
            },
            "type": "scattergl"
           }
          ],
          "scattermapbox": [
           {
            "marker": {
             "colorbar": {
              "outlinewidth": 0,
              "ticks": ""
             }
            },
            "type": "scattermapbox"
           }
          ],
          "scatterpolar": [
           {
            "marker": {
             "colorbar": {
              "outlinewidth": 0,
              "ticks": ""
             }
            },
            "type": "scatterpolar"
           }
          ],
          "scatterpolargl": [
           {
            "marker": {
             "colorbar": {
              "outlinewidth": 0,
              "ticks": ""
             }
            },
            "type": "scatterpolargl"
           }
          ],
          "scatterternary": [
           {
            "marker": {
             "colorbar": {
              "outlinewidth": 0,
              "ticks": ""
             }
            },
            "type": "scatterternary"
           }
          ],
          "surface": [
           {
            "colorbar": {
             "outlinewidth": 0,
             "ticks": ""
            },
            "colorscale": [
             [
              0,
              "#0d0887"
             ],
             [
              0.1111111111111111,
              "#46039f"
             ],
             [
              0.2222222222222222,
              "#7201a8"
             ],
             [
              0.3333333333333333,
              "#9c179e"
             ],
             [
              0.4444444444444444,
              "#bd3786"
             ],
             [
              0.5555555555555556,
              "#d8576b"
             ],
             [
              0.6666666666666666,
              "#ed7953"
             ],
             [
              0.7777777777777778,
              "#fb9f3a"
             ],
             [
              0.8888888888888888,
              "#fdca26"
             ],
             [
              1,
              "#f0f921"
             ]
            ],
            "type": "surface"
           }
          ],
          "table": [
           {
            "cells": {
             "fill": {
              "color": "#EBF0F8"
             },
             "line": {
              "color": "white"
             }
            },
            "header": {
             "fill": {
              "color": "#C8D4E3"
             },
             "line": {
              "color": "white"
             }
            },
            "type": "table"
           }
          ]
         },
         "layout": {
          "annotationdefaults": {
           "arrowcolor": "#2a3f5f",
           "arrowhead": 0,
           "arrowwidth": 1
          },
          "autotypenumbers": "strict",
          "coloraxis": {
           "colorbar": {
            "outlinewidth": 0,
            "ticks": ""
           }
          },
          "colorscale": {
           "diverging": [
            [
             0,
             "#8e0152"
            ],
            [
             0.1,
             "#c51b7d"
            ],
            [
             0.2,
             "#de77ae"
            ],
            [
             0.3,
             "#f1b6da"
            ],
            [
             0.4,
             "#fde0ef"
            ],
            [
             0.5,
             "#f7f7f7"
            ],
            [
             0.6,
             "#e6f5d0"
            ],
            [
             0.7,
             "#b8e186"
            ],
            [
             0.8,
             "#7fbc41"
            ],
            [
             0.9,
             "#4d9221"
            ],
            [
             1,
             "#276419"
            ]
           ],
           "sequential": [
            [
             0,
             "#0d0887"
            ],
            [
             0.1111111111111111,
             "#46039f"
            ],
            [
             0.2222222222222222,
             "#7201a8"
            ],
            [
             0.3333333333333333,
             "#9c179e"
            ],
            [
             0.4444444444444444,
             "#bd3786"
            ],
            [
             0.5555555555555556,
             "#d8576b"
            ],
            [
             0.6666666666666666,
             "#ed7953"
            ],
            [
             0.7777777777777778,
             "#fb9f3a"
            ],
            [
             0.8888888888888888,
             "#fdca26"
            ],
            [
             1,
             "#f0f921"
            ]
           ],
           "sequentialminus": [
            [
             0,
             "#0d0887"
            ],
            [
             0.1111111111111111,
             "#46039f"
            ],
            [
             0.2222222222222222,
             "#7201a8"
            ],
            [
             0.3333333333333333,
             "#9c179e"
            ],
            [
             0.4444444444444444,
             "#bd3786"
            ],
            [
             0.5555555555555556,
             "#d8576b"
            ],
            [
             0.6666666666666666,
             "#ed7953"
            ],
            [
             0.7777777777777778,
             "#fb9f3a"
            ],
            [
             0.8888888888888888,
             "#fdca26"
            ],
            [
             1,
             "#f0f921"
            ]
           ]
          },
          "colorway": [
           "#636efa",
           "#EF553B",
           "#00cc96",
           "#ab63fa",
           "#FFA15A",
           "#19d3f3",
           "#FF6692",
           "#B6E880",
           "#FF97FF",
           "#FECB52"
          ],
          "font": {
           "color": "#2a3f5f"
          },
          "geo": {
           "bgcolor": "white",
           "lakecolor": "white",
           "landcolor": "#E5ECF6",
           "showlakes": true,
           "showland": true,
           "subunitcolor": "white"
          },
          "hoverlabel": {
           "align": "left"
          },
          "hovermode": "closest",
          "mapbox": {
           "style": "light"
          },
          "paper_bgcolor": "white",
          "plot_bgcolor": "#E5ECF6",
          "polar": {
           "angularaxis": {
            "gridcolor": "white",
            "linecolor": "white",
            "ticks": ""
           },
           "bgcolor": "#E5ECF6",
           "radialaxis": {
            "gridcolor": "white",
            "linecolor": "white",
            "ticks": ""
           }
          },
          "scene": {
           "xaxis": {
            "backgroundcolor": "#E5ECF6",
            "gridcolor": "white",
            "gridwidth": 2,
            "linecolor": "white",
            "showbackground": true,
            "ticks": "",
            "zerolinecolor": "white"
           },
           "yaxis": {
            "backgroundcolor": "#E5ECF6",
            "gridcolor": "white",
            "gridwidth": 2,
            "linecolor": "white",
            "showbackground": true,
            "ticks": "",
            "zerolinecolor": "white"
           },
           "zaxis": {
            "backgroundcolor": "#E5ECF6",
            "gridcolor": "white",
            "gridwidth": 2,
            "linecolor": "white",
            "showbackground": true,
            "ticks": "",
            "zerolinecolor": "white"
           }
          },
          "shapedefaults": {
           "line": {
            "color": "#2a3f5f"
           }
          },
          "ternary": {
           "aaxis": {
            "gridcolor": "white",
            "linecolor": "white",
            "ticks": ""
           },
           "baxis": {
            "gridcolor": "white",
            "linecolor": "white",
            "ticks": ""
           },
           "bgcolor": "#E5ECF6",
           "caxis": {
            "gridcolor": "white",
            "linecolor": "white",
            "ticks": ""
           }
          },
          "title": {
           "x": 0.05
          },
          "xaxis": {
           "automargin": true,
           "gridcolor": "white",
           "linecolor": "white",
           "ticks": "",
           "title": {
            "standoff": 15
           },
           "zerolinecolor": "white",
           "zerolinewidth": 2
          },
          "yaxis": {
           "automargin": true,
           "gridcolor": "white",
           "linecolor": "white",
           "ticks": "",
           "title": {
            "standoff": 15
           },
           "zerolinecolor": "white",
           "zerolinewidth": 2
          }
         }
        },
        "title": {
         "text": "Affinity Propagation Clustering"
        },
        "width": 600,
        "xaxis": {
         "anchor": "y",
         "domain": [
          0,
          1
         ],
         "title": {
          "text": "x"
         }
        },
        "yaxis": {
         "anchor": "x",
         "domain": [
          0,
          1
         ],
         "title": {
          "text": "y"
         }
        }
       }
      }
     },
     "metadata": {},
     "output_type": "display_data"
    }
   ],
   "source": [
    "# Plotting the clusters\n",
    "cvX.plot_clusters(ap_clusters.labels_, ap_clusters.cluster_centers_, \n",
    "                  title='Affinity Propagation Clustering')"
   ]
  },
  {
   "cell_type": "markdown",
   "metadata": {},
   "source": [
    "As you can see, the AP algorithm detects the three clusters."
   ]
  },
  {
   "cell_type": "markdown",
   "metadata": {},
   "source": [
    "## Half Moons Example"
   ]
  },
  {
   "cell_type": "code",
   "execution_count": 8,
   "metadata": {},
   "outputs": [],
   "source": [
    "from sklearn.datasets import make_moons\n",
    "\n",
    "Xm, _ = make_moons(100, noise=.08, random_state=10)"
   ]
  },
  {
   "cell_type": "code",
   "execution_count": 9,
   "metadata": {},
   "outputs": [
    {
     "name": "stdout",
     "output_type": "stream",
     "text": [
      "(100, 2)\n"
     ]
    },
    {
     "data": {
      "text/html": [
       "<div>\n",
       "<style scoped>\n",
       "    .dataframe tbody tr th:only-of-type {\n",
       "        vertical-align: middle;\n",
       "    }\n",
       "\n",
       "    .dataframe tbody tr th {\n",
       "        vertical-align: top;\n",
       "    }\n",
       "\n",
       "    .dataframe thead th {\n",
       "        text-align: right;\n",
       "    }\n",
       "</style>\n",
       "<table border=\"1\" class=\"dataframe\">\n",
       "  <thead>\n",
       "    <tr style=\"text-align: right;\">\n",
       "      <th></th>\n",
       "      <th>x</th>\n",
       "      <th>y</th>\n",
       "    </tr>\n",
       "  </thead>\n",
       "  <tbody>\n",
       "    <tr>\n",
       "      <th>0</th>\n",
       "      <td>0.201479</td>\n",
       "      <td>0.883652</td>\n",
       "    </tr>\n",
       "    <tr>\n",
       "      <th>1</th>\n",
       "      <td>0.510700</td>\n",
       "      <td>0.882023</td>\n",
       "    </tr>\n",
       "    <tr>\n",
       "      <th>2</th>\n",
       "      <td>-0.889352</td>\n",
       "      <td>0.401421</td>\n",
       "    </tr>\n",
       "    <tr>\n",
       "      <th>3</th>\n",
       "      <td>-0.573666</td>\n",
       "      <td>0.582637</td>\n",
       "    </tr>\n",
       "    <tr>\n",
       "      <th>4</th>\n",
       "      <td>0.683472</td>\n",
       "      <td>-0.327357</td>\n",
       "    </tr>\n",
       "  </tbody>\n",
       "</table>\n",
       "</div>"
      ],
      "text/plain": [
       "          x         y\n",
       "0  0.201479  0.883652\n",
       "1  0.510700  0.882023\n",
       "2 -0.889352  0.401421\n",
       "3 -0.573666  0.582637\n",
       "4  0.683472 -0.327357"
      ]
     },
     "execution_count": 9,
     "metadata": {},
     "output_type": "execute_result"
    }
   ],
   "source": [
    "# Savig the data to a DataFrame\n",
    "dataXm = pd.DataFrame(Xm, columns=['x', 'y'])\n",
    "print(dataXm.shape)\n",
    "dataXm.head()"
   ]
  },
  {
   "cell_type": "code",
   "execution_count": 10,
   "metadata": {},
   "outputs": [
    {
     "data": {
      "application/vnd.plotly.v1+json": {
       "config": {
        "plotlyServerURL": "https://plot.ly"
       },
       "data": [
        {
         "hovertemplate": "x=%{x}<br>y=%{y}<extra></extra>",
         "legendgroup": "",
         "marker": {
          "color": "#636efa",
          "opacity": 0.6,
          "size": 8,
          "symbol": "circle"
         },
         "mode": "markers",
         "name": "",
         "orientation": "v",
         "showlegend": false,
         "type": "scatter",
         "x": [
          0.20147921249405265,
          0.5107002924267421,
          -0.8893517363432384,
          -0.5736658935883252,
          0.6834718384974283,
          0.9105703959786309,
          1.3123637034953086,
          -0.9509219862406487,
          -0.7887168722725412,
          0.6298534175139535,
          0.8426123028615758,
          1.2074754074230487,
          0.3179154848165492,
          0.06936104926939182,
          1.9591368883144773,
          0.8258325662246928,
          2.0649815215483924,
          -0.1559822424396728,
          0.06273744704224377,
          -1.0166129845023018,
          1.8215905321225354,
          0.6293216030578259,
          0.04024190216637471,
          -1.0707470327066693,
          1.1517948708590844,
          0.060535565651532015,
          0.19590862815610152,
          0.2429887532650097,
          0.9506648410925225,
          0.3453696904250845,
          -0.9626808886106166,
          -0.4310266321498345,
          1.5607018193203324,
          0.010335304007971582,
          -0.59979329065112,
          -0.905755686718287,
          -1.1080136680619348,
          1.098384908931623,
          0.7821024786929688,
          -0.9715113192092308,
          -0.354461850603326,
          0.31017532328400166,
          1.5613731042500727,
          0.11541856598666952,
          -1.2124787928553384,
          1.3198075133936553,
          0.4389020849633067,
          0.46039705891579186,
          1.349887629288135,
          0.8685632925862281,
          1.7458910021279577,
          2.070146893904678,
          1.9538936515856653,
          1.9604704773038657,
          0.006941192776004974,
          0.8590945185724472,
          1.9860083542935403,
          1.5771815363262298,
          0.13728851890391977,
          0.7692419326157132,
          0.0890532764616338,
          0.17901522715413243,
          1.8441994011825928,
          1.9138864508225448,
          0.33002613561013316,
          -0.12145330621227263,
          1.9496999353351299,
          0.0753138478267341,
          -0.37018671449321544,
          0.40183998354981654,
          0.822302302457674,
          1.362134873180573,
          -0.3260904474563151,
          1.0773976063167001,
          0.06239484067685533,
          0.7626647414181101,
          0.5738009668766586,
          1.2102047235065305,
          1.541565891256111,
          -0.00705571011843523,
          -0.9453067285091268,
          1.3270624735237395,
          0.927527357202748,
          -0.5166807659473578,
          0.3392702314387141,
          0.02031047315898401,
          0.8301336907324752,
          0.5076413336801504,
          -0.7276175288183239,
          -0.7593057101516221,
          1.0200194308244568,
          0.8639667147284651,
          0.9553714662571521,
          -0.24257859272494556,
          2.0569605163999163,
          2.024274908507374,
          -0.30063966000487485,
          0.462407722227818,
          0.5757060986615428,
          0.8229711394589171
         ],
         "xaxis": "x",
         "y": [
          0.8836518348453927,
          0.8820233700667225,
          0.40142073667019956,
          0.5826371108049099,
          -0.32735733893289976,
          0.10638924908757526,
          -0.5833610092672168,
          0.7004097534606438,
          0.6352608627689129,
          -0.4147720996779956,
          0.07925909297101857,
          0.11715765624038568,
          -0.11312212919115885,
          0.43824202200323603,
          0.22105895014036797,
          -0.45464478957604776,
          0.07777817974997564,
          0.9705678511413793,
          -0.09301320640674435,
          0.2136732497862051,
          0.08802124491171531,
          -0.43464602910396305,
          0.4123536678833196,
          0.3339963709074206,
          -0.5110432150593799,
          0.24601141299718762,
          0.9767639542974165,
          -0.11920775681655874,
          0.4878233190243876,
          -0.16108484762532066,
          0.47055449728651283,
          0.768107249767922,
          -0.3949006334523405,
          0.270465836537139,
          0.8910128212312186,
          0.6289907723640347,
          0.20960985839514365,
          0.2285489508075679,
          0.39837007751768083,
          0.038131138142851816,
          0.924464904206849,
          1.0453120356388685,
          -0.25076690306652594,
          -0.09428470818645157,
          0.3091159415044172,
          -0.4114019086497939,
          1.019060730153318,
          -0.4033086420202368,
          -0.43626046234386595,
          0.45042164931392875,
          -0.3054552443868157,
          0.268385253981115,
          0.5258083278034205,
          0.6056535150243937,
          1.078405535210311,
          0.5556123352744168,
          0.447208166511216,
          -0.19241324347163097,
          0.09259134256608366,
          -0.4895653147821693,
          1.0637664835238951,
          0.9640138130454461,
          0.0037778005232857754,
          0.24049306047848207,
          1.0227980620794785,
          1.0197594744048921,
          -0.026687606475979328,
          -0.007054534011693772,
          0.6944839955814578,
          -0.26910441617862685,
          0.6589755783363639,
          -0.4145487656920727,
          1.0331414518539392,
          -0.6067090622702493,
          0.9583191160348344,
          0.7761633925182989,
          -0.5144718467987381,
          -0.47552032832316365,
          -0.21005315833432964,
          0.35257241201277356,
          0.012557343265951927,
          -0.5251165722750736,
          -0.6000762968033135,
          0.8358142059067721,
          -0.21916983302533072,
          0.29348472179453217,
          0.6302676767513389,
          0.8050141584378404,
          0.8206557257758682,
          0.5630321659844102,
          0.07551186348681464,
          -0.48227363396104295,
          0.4019569948045194,
          0.9156164433969085,
          0.13219524813187764,
          -0.23658286013291666,
          1.0268701826834712,
          -0.23163714719652936,
          0.8538549732238114,
          0.5030358725254057
         ],
         "yaxis": "y"
        }
       ],
       "layout": {
        "coloraxis": {
         "showscale": false
        },
        "height": 400,
        "legend": {
         "tracegroupgap": 0
        },
        "margin": {
         "t": 60
        },
        "showlegend": false,
        "template": {
         "data": {
          "bar": [
           {
            "error_x": {
             "color": "#2a3f5f"
            },
            "error_y": {
             "color": "#2a3f5f"
            },
            "marker": {
             "line": {
              "color": "#E5ECF6",
              "width": 0.5
             },
             "pattern": {
              "fillmode": "overlay",
              "size": 10,
              "solidity": 0.2
             }
            },
            "type": "bar"
           }
          ],
          "barpolar": [
           {
            "marker": {
             "line": {
              "color": "#E5ECF6",
              "width": 0.5
             },
             "pattern": {
              "fillmode": "overlay",
              "size": 10,
              "solidity": 0.2
             }
            },
            "type": "barpolar"
           }
          ],
          "carpet": [
           {
            "aaxis": {
             "endlinecolor": "#2a3f5f",
             "gridcolor": "white",
             "linecolor": "white",
             "minorgridcolor": "white",
             "startlinecolor": "#2a3f5f"
            },
            "baxis": {
             "endlinecolor": "#2a3f5f",
             "gridcolor": "white",
             "linecolor": "white",
             "minorgridcolor": "white",
             "startlinecolor": "#2a3f5f"
            },
            "type": "carpet"
           }
          ],
          "choropleth": [
           {
            "colorbar": {
             "outlinewidth": 0,
             "ticks": ""
            },
            "type": "choropleth"
           }
          ],
          "contour": [
           {
            "colorbar": {
             "outlinewidth": 0,
             "ticks": ""
            },
            "colorscale": [
             [
              0,
              "#0d0887"
             ],
             [
              0.1111111111111111,
              "#46039f"
             ],
             [
              0.2222222222222222,
              "#7201a8"
             ],
             [
              0.3333333333333333,
              "#9c179e"
             ],
             [
              0.4444444444444444,
              "#bd3786"
             ],
             [
              0.5555555555555556,
              "#d8576b"
             ],
             [
              0.6666666666666666,
              "#ed7953"
             ],
             [
              0.7777777777777778,
              "#fb9f3a"
             ],
             [
              0.8888888888888888,
              "#fdca26"
             ],
             [
              1,
              "#f0f921"
             ]
            ],
            "type": "contour"
           }
          ],
          "contourcarpet": [
           {
            "colorbar": {
             "outlinewidth": 0,
             "ticks": ""
            },
            "type": "contourcarpet"
           }
          ],
          "heatmap": [
           {
            "colorbar": {
             "outlinewidth": 0,
             "ticks": ""
            },
            "colorscale": [
             [
              0,
              "#0d0887"
             ],
             [
              0.1111111111111111,
              "#46039f"
             ],
             [
              0.2222222222222222,
              "#7201a8"
             ],
             [
              0.3333333333333333,
              "#9c179e"
             ],
             [
              0.4444444444444444,
              "#bd3786"
             ],
             [
              0.5555555555555556,
              "#d8576b"
             ],
             [
              0.6666666666666666,
              "#ed7953"
             ],
             [
              0.7777777777777778,
              "#fb9f3a"
             ],
             [
              0.8888888888888888,
              "#fdca26"
             ],
             [
              1,
              "#f0f921"
             ]
            ],
            "type": "heatmap"
           }
          ],
          "heatmapgl": [
           {
            "colorbar": {
             "outlinewidth": 0,
             "ticks": ""
            },
            "colorscale": [
             [
              0,
              "#0d0887"
             ],
             [
              0.1111111111111111,
              "#46039f"
             ],
             [
              0.2222222222222222,
              "#7201a8"
             ],
             [
              0.3333333333333333,
              "#9c179e"
             ],
             [
              0.4444444444444444,
              "#bd3786"
             ],
             [
              0.5555555555555556,
              "#d8576b"
             ],
             [
              0.6666666666666666,
              "#ed7953"
             ],
             [
              0.7777777777777778,
              "#fb9f3a"
             ],
             [
              0.8888888888888888,
              "#fdca26"
             ],
             [
              1,
              "#f0f921"
             ]
            ],
            "type": "heatmapgl"
           }
          ],
          "histogram": [
           {
            "marker": {
             "pattern": {
              "fillmode": "overlay",
              "size": 10,
              "solidity": 0.2
             }
            },
            "type": "histogram"
           }
          ],
          "histogram2d": [
           {
            "colorbar": {
             "outlinewidth": 0,
             "ticks": ""
            },
            "colorscale": [
             [
              0,
              "#0d0887"
             ],
             [
              0.1111111111111111,
              "#46039f"
             ],
             [
              0.2222222222222222,
              "#7201a8"
             ],
             [
              0.3333333333333333,
              "#9c179e"
             ],
             [
              0.4444444444444444,
              "#bd3786"
             ],
             [
              0.5555555555555556,
              "#d8576b"
             ],
             [
              0.6666666666666666,
              "#ed7953"
             ],
             [
              0.7777777777777778,
              "#fb9f3a"
             ],
             [
              0.8888888888888888,
              "#fdca26"
             ],
             [
              1,
              "#f0f921"
             ]
            ],
            "type": "histogram2d"
           }
          ],
          "histogram2dcontour": [
           {
            "colorbar": {
             "outlinewidth": 0,
             "ticks": ""
            },
            "colorscale": [
             [
              0,
              "#0d0887"
             ],
             [
              0.1111111111111111,
              "#46039f"
             ],
             [
              0.2222222222222222,
              "#7201a8"
             ],
             [
              0.3333333333333333,
              "#9c179e"
             ],
             [
              0.4444444444444444,
              "#bd3786"
             ],
             [
              0.5555555555555556,
              "#d8576b"
             ],
             [
              0.6666666666666666,
              "#ed7953"
             ],
             [
              0.7777777777777778,
              "#fb9f3a"
             ],
             [
              0.8888888888888888,
              "#fdca26"
             ],
             [
              1,
              "#f0f921"
             ]
            ],
            "type": "histogram2dcontour"
           }
          ],
          "mesh3d": [
           {
            "colorbar": {
             "outlinewidth": 0,
             "ticks": ""
            },
            "type": "mesh3d"
           }
          ],
          "parcoords": [
           {
            "line": {
             "colorbar": {
              "outlinewidth": 0,
              "ticks": ""
             }
            },
            "type": "parcoords"
           }
          ],
          "pie": [
           {
            "automargin": true,
            "type": "pie"
           }
          ],
          "scatter": [
           {
            "fillpattern": {
             "fillmode": "overlay",
             "size": 10,
             "solidity": 0.2
            },
            "type": "scatter"
           }
          ],
          "scatter3d": [
           {
            "line": {
             "colorbar": {
              "outlinewidth": 0,
              "ticks": ""
             }
            },
            "marker": {
             "colorbar": {
              "outlinewidth": 0,
              "ticks": ""
             }
            },
            "type": "scatter3d"
           }
          ],
          "scattercarpet": [
           {
            "marker": {
             "colorbar": {
              "outlinewidth": 0,
              "ticks": ""
             }
            },
            "type": "scattercarpet"
           }
          ],
          "scattergeo": [
           {
            "marker": {
             "colorbar": {
              "outlinewidth": 0,
              "ticks": ""
             }
            },
            "type": "scattergeo"
           }
          ],
          "scattergl": [
           {
            "marker": {
             "colorbar": {
              "outlinewidth": 0,
              "ticks": ""
             }
            },
            "type": "scattergl"
           }
          ],
          "scattermapbox": [
           {
            "marker": {
             "colorbar": {
              "outlinewidth": 0,
              "ticks": ""
             }
            },
            "type": "scattermapbox"
           }
          ],
          "scatterpolar": [
           {
            "marker": {
             "colorbar": {
              "outlinewidth": 0,
              "ticks": ""
             }
            },
            "type": "scatterpolar"
           }
          ],
          "scatterpolargl": [
           {
            "marker": {
             "colorbar": {
              "outlinewidth": 0,
              "ticks": ""
             }
            },
            "type": "scatterpolargl"
           }
          ],
          "scatterternary": [
           {
            "marker": {
             "colorbar": {
              "outlinewidth": 0,
              "ticks": ""
             }
            },
            "type": "scatterternary"
           }
          ],
          "surface": [
           {
            "colorbar": {
             "outlinewidth": 0,
             "ticks": ""
            },
            "colorscale": [
             [
              0,
              "#0d0887"
             ],
             [
              0.1111111111111111,
              "#46039f"
             ],
             [
              0.2222222222222222,
              "#7201a8"
             ],
             [
              0.3333333333333333,
              "#9c179e"
             ],
             [
              0.4444444444444444,
              "#bd3786"
             ],
             [
              0.5555555555555556,
              "#d8576b"
             ],
             [
              0.6666666666666666,
              "#ed7953"
             ],
             [
              0.7777777777777778,
              "#fb9f3a"
             ],
             [
              0.8888888888888888,
              "#fdca26"
             ],
             [
              1,
              "#f0f921"
             ]
            ],
            "type": "surface"
           }
          ],
          "table": [
           {
            "cells": {
             "fill": {
              "color": "#EBF0F8"
             },
             "line": {
              "color": "white"
             }
            },
            "header": {
             "fill": {
              "color": "#C8D4E3"
             },
             "line": {
              "color": "white"
             }
            },
            "type": "table"
           }
          ]
         },
         "layout": {
          "annotationdefaults": {
           "arrowcolor": "#2a3f5f",
           "arrowhead": 0,
           "arrowwidth": 1
          },
          "autotypenumbers": "strict",
          "coloraxis": {
           "colorbar": {
            "outlinewidth": 0,
            "ticks": ""
           }
          },
          "colorscale": {
           "diverging": [
            [
             0,
             "#8e0152"
            ],
            [
             0.1,
             "#c51b7d"
            ],
            [
             0.2,
             "#de77ae"
            ],
            [
             0.3,
             "#f1b6da"
            ],
            [
             0.4,
             "#fde0ef"
            ],
            [
             0.5,
             "#f7f7f7"
            ],
            [
             0.6,
             "#e6f5d0"
            ],
            [
             0.7,
             "#b8e186"
            ],
            [
             0.8,
             "#7fbc41"
            ],
            [
             0.9,
             "#4d9221"
            ],
            [
             1,
             "#276419"
            ]
           ],
           "sequential": [
            [
             0,
             "#0d0887"
            ],
            [
             0.1111111111111111,
             "#46039f"
            ],
            [
             0.2222222222222222,
             "#7201a8"
            ],
            [
             0.3333333333333333,
             "#9c179e"
            ],
            [
             0.4444444444444444,
             "#bd3786"
            ],
            [
             0.5555555555555556,
             "#d8576b"
            ],
            [
             0.6666666666666666,
             "#ed7953"
            ],
            [
             0.7777777777777778,
             "#fb9f3a"
            ],
            [
             0.8888888888888888,
             "#fdca26"
            ],
            [
             1,
             "#f0f921"
            ]
           ],
           "sequentialminus": [
            [
             0,
             "#0d0887"
            ],
            [
             0.1111111111111111,
             "#46039f"
            ],
            [
             0.2222222222222222,
             "#7201a8"
            ],
            [
             0.3333333333333333,
             "#9c179e"
            ],
            [
             0.4444444444444444,
             "#bd3786"
            ],
            [
             0.5555555555555556,
             "#d8576b"
            ],
            [
             0.6666666666666666,
             "#ed7953"
            ],
            [
             0.7777777777777778,
             "#fb9f3a"
            ],
            [
             0.8888888888888888,
             "#fdca26"
            ],
            [
             1,
             "#f0f921"
            ]
           ]
          },
          "colorway": [
           "#636efa",
           "#EF553B",
           "#00cc96",
           "#ab63fa",
           "#FFA15A",
           "#19d3f3",
           "#FF6692",
           "#B6E880",
           "#FF97FF",
           "#FECB52"
          ],
          "font": {
           "color": "#2a3f5f"
          },
          "geo": {
           "bgcolor": "white",
           "lakecolor": "white",
           "landcolor": "#E5ECF6",
           "showlakes": true,
           "showland": true,
           "subunitcolor": "white"
          },
          "hoverlabel": {
           "align": "left"
          },
          "hovermode": "closest",
          "mapbox": {
           "style": "light"
          },
          "paper_bgcolor": "white",
          "plot_bgcolor": "#E5ECF6",
          "polar": {
           "angularaxis": {
            "gridcolor": "white",
            "linecolor": "white",
            "ticks": ""
           },
           "bgcolor": "#E5ECF6",
           "radialaxis": {
            "gridcolor": "white",
            "linecolor": "white",
            "ticks": ""
           }
          },
          "scene": {
           "xaxis": {
            "backgroundcolor": "#E5ECF6",
            "gridcolor": "white",
            "gridwidth": 2,
            "linecolor": "white",
            "showbackground": true,
            "ticks": "",
            "zerolinecolor": "white"
           },
           "yaxis": {
            "backgroundcolor": "#E5ECF6",
            "gridcolor": "white",
            "gridwidth": 2,
            "linecolor": "white",
            "showbackground": true,
            "ticks": "",
            "zerolinecolor": "white"
           },
           "zaxis": {
            "backgroundcolor": "#E5ECF6",
            "gridcolor": "white",
            "gridwidth": 2,
            "linecolor": "white",
            "showbackground": true,
            "ticks": "",
            "zerolinecolor": "white"
           }
          },
          "shapedefaults": {
           "line": {
            "color": "#2a3f5f"
           }
          },
          "ternary": {
           "aaxis": {
            "gridcolor": "white",
            "linecolor": "white",
            "ticks": ""
           },
           "baxis": {
            "gridcolor": "white",
            "linecolor": "white",
            "ticks": ""
           },
           "bgcolor": "#E5ECF6",
           "caxis": {
            "gridcolor": "white",
            "linecolor": "white",
            "ticks": ""
           }
          },
          "title": {
           "x": 0.05
          },
          "xaxis": {
           "automargin": true,
           "gridcolor": "white",
           "linecolor": "white",
           "ticks": "",
           "title": {
            "standoff": 15
           },
           "zerolinecolor": "white",
           "zerolinewidth": 2
          },
          "yaxis": {
           "automargin": true,
           "gridcolor": "white",
           "linecolor": "white",
           "ticks": "",
           "title": {
            "standoff": 15
           },
           "zerolinecolor": "white",
           "zerolinewidth": 2
          }
         }
        },
        "title": {
         "text": "Half Moons Data"
        },
        "width": 600,
        "xaxis": {
         "anchor": "y",
         "domain": [
          0,
          1
         ],
         "title": {
          "text": "x"
         }
        },
        "yaxis": {
         "anchor": "x",
         "domain": [
          0,
          1
         ],
         "title": {
          "text": "y"
         }
        }
       }
      }
     },
     "metadata": {},
     "output_type": "display_data"
    }
   ],
   "source": [
    "cv_m = cv.ClusterVisualizer(dataXm)\n",
    "\n",
    "cv_m.plot_data('Half Moons Data')"
   ]
  },
  {
   "cell_type": "code",
   "execution_count": 11,
   "metadata": {},
   "outputs": [
    {
     "name": "stdout",
     "output_type": "stream",
     "text": [
      "Number of clusters: 8\n",
      "Cluster centers: \n",
      " [[-0.89  0.4 ]\n",
      " [ 0.63 -0.41]\n",
      " [ 1.96  0.22]\n",
      " [-0.35  0.92]\n",
      " [ 0.14  0.09]\n",
      " [ 0.33  1.02]\n",
      " [ 1.36 -0.41]\n",
      " [ 0.96  0.4 ]]\n"
     ]
    }
   ],
   "source": [
    "ap_clusters_m = AffinityPropagation().fit(Xm)\n",
    "\n",
    "print('Number of clusters: %i' % len(ap_clusters_m.cluster_centers_indices_))\n",
    "\n",
    "print('Cluster centers: \\n', ap_clusters_m.cluster_centers_.round(2))"
   ]
  },
  {
   "cell_type": "code",
   "execution_count": 12,
   "metadata": {},
   "outputs": [
    {
     "data": {
      "application/vnd.plotly.v1+json": {
       "config": {
        "plotlyServerURL": "https://plot.ly"
       },
       "data": [
        {
         "hovertemplate": "color=5<br>x=%{x}<br>y=%{y}<extra></extra>",
         "legendgroup": "5",
         "marker": {
          "color": "#636efa",
          "opacity": 0.6,
          "size": 8,
          "symbol": "circle"
         },
         "mode": "markers",
         "name": "5",
         "orientation": "v",
         "showlegend": true,
         "type": "scatter",
         "x": [
          0.20147921249405265,
          0.5107002924267421,
          0.19590862815610152,
          0.31017532328400166,
          0.4389020849633067,
          0.006941192776004974,
          0.0890532764616338,
          0.17901522715413243,
          0.33002613561013316,
          0.06239484067685533,
          0.5076413336801504,
          0.5757060986615428
         ],
         "xaxis": "x",
         "y": [
          0.8836518348453927,
          0.8820233700667225,
          0.9767639542974165,
          1.0453120356388685,
          1.019060730153318,
          1.078405535210311,
          1.0637664835238951,
          0.9640138130454461,
          1.0227980620794785,
          0.9583191160348344,
          0.8050141584378404,
          0.8538549732238114
         ],
         "yaxis": "y"
        },
        {
         "hovertemplate": "color=0<br>x=%{x}<br>y=%{y}<extra></extra>",
         "legendgroup": "0",
         "marker": {
          "color": "#EF553B",
          "opacity": 0.6,
          "size": 8,
          "symbol": "circle"
         },
         "mode": "markers",
         "name": "0",
         "orientation": "v",
         "showlegend": true,
         "type": "scatter",
         "x": [
          -0.8893517363432384,
          -0.5736658935883252,
          -0.9509219862406487,
          -0.7887168722725412,
          -1.0166129845023018,
          -1.0707470327066693,
          -0.9626808886106166,
          -0.905755686718287,
          -1.1080136680619348,
          -0.9715113192092308,
          -1.2124787928553384,
          -0.9453067285091268,
          -0.7593057101516221
         ],
         "xaxis": "x",
         "y": [
          0.40142073667019956,
          0.5826371108049099,
          0.7004097534606438,
          0.6352608627689129,
          0.2136732497862051,
          0.3339963709074206,
          0.47055449728651283,
          0.6289907723640347,
          0.20960985839514365,
          0.038131138142851816,
          0.3091159415044172,
          0.012557343265951927,
          0.5630321659844102
         ],
         "yaxis": "y"
        },
        {
         "hovertemplate": "color=1<br>x=%{x}<br>y=%{y}<extra></extra>",
         "legendgroup": "1",
         "marker": {
          "color": "#00cc96",
          "opacity": 0.6,
          "size": 8,
          "symbol": "circle"
         },
         "mode": "markers",
         "name": "1",
         "orientation": "v",
         "showlegend": true,
         "type": "scatter",
         "x": [
          0.6834718384974283,
          0.6298534175139535,
          0.8258325662246928,
          0.6293216030578259,
          0.46039705891579186,
          0.7692419326157132,
          0.40183998354981654,
          0.5738009668766586,
          0.927527357202748,
          0.3392702314387141,
          0.8639667147284651,
          0.462407722227818
         ],
         "xaxis": "x",
         "y": [
          -0.32735733893289976,
          -0.4147720996779956,
          -0.45464478957604776,
          -0.43464602910396305,
          -0.4033086420202368,
          -0.4895653147821693,
          -0.26910441617862685,
          -0.5144718467987381,
          -0.6000762968033135,
          -0.21916983302533072,
          -0.48227363396104295,
          -0.23163714719652936
         ],
         "yaxis": "y"
        },
        {
         "hovertemplate": "color=7<br>x=%{x}<br>y=%{y}<extra></extra>",
         "legendgroup": "7",
         "marker": {
          "color": "#ab63fa",
          "opacity": 0.6,
          "size": 8,
          "symbol": "circle"
         },
         "mode": "markers",
         "name": "7",
         "orientation": "v",
         "showlegend": true,
         "type": "scatter",
         "x": [
          0.9105703959786309,
          0.8426123028615758,
          1.2074754074230487,
          0.9506648410925225,
          1.098384908931623,
          0.7821024786929688,
          0.8685632925862281,
          0.8590945185724472,
          0.822302302457674,
          0.7626647414181101,
          0.8301336907324752,
          1.0200194308244568,
          0.9553714662571521,
          0.8229711394589171
         ],
         "xaxis": "x",
         "y": [
          0.10638924908757526,
          0.07925909297101857,
          0.11715765624038568,
          0.4878233190243876,
          0.2285489508075679,
          0.39837007751768083,
          0.45042164931392875,
          0.5556123352744168,
          0.6589755783363639,
          0.7761633925182989,
          0.6302676767513389,
          0.07551186348681464,
          0.4019569948045194,
          0.5030358725254057
         ],
         "yaxis": "y"
        },
        {
         "hovertemplate": "color=6<br>x=%{x}<br>y=%{y}<extra></extra>",
         "legendgroup": "6",
         "marker": {
          "color": "#FFA15A",
          "opacity": 0.6,
          "size": 8,
          "symbol": "circle"
         },
         "mode": "markers",
         "name": "6",
         "orientation": "v",
         "showlegend": true,
         "type": "scatter",
         "x": [
          1.3123637034953086,
          1.1517948708590844,
          1.5607018193203324,
          1.5613731042500727,
          1.3198075133936553,
          1.349887629288135,
          1.7458910021279577,
          1.5771815363262298,
          1.362134873180573,
          1.0773976063167001,
          1.2102047235065305,
          1.541565891256111,
          1.3270624735237395
         ],
         "xaxis": "x",
         "y": [
          -0.5833610092672168,
          -0.5110432150593799,
          -0.3949006334523405,
          -0.25076690306652594,
          -0.4114019086497939,
          -0.43626046234386595,
          -0.3054552443868157,
          -0.19241324347163097,
          -0.4145487656920727,
          -0.6067090622702493,
          -0.47552032832316365,
          -0.21005315833432964,
          -0.5251165722750736
         ],
         "yaxis": "y"
        },
        {
         "hovertemplate": "color=4<br>x=%{x}<br>y=%{y}<extra></extra>",
         "legendgroup": "4",
         "marker": {
          "color": "#19d3f3",
          "opacity": 0.6,
          "size": 8,
          "symbol": "circle"
         },
         "mode": "markers",
         "name": "4",
         "orientation": "v",
         "showlegend": true,
         "type": "scatter",
         "x": [
          0.3179154848165492,
          0.06936104926939182,
          0.06273744704224377,
          0.04024190216637471,
          0.060535565651532015,
          0.2429887532650097,
          0.3453696904250845,
          0.010335304007971582,
          0.11541856598666952,
          0.13728851890391977,
          0.0753138478267341,
          -0.00705571011843523,
          0.02031047315898401
         ],
         "xaxis": "x",
         "y": [
          -0.11312212919115885,
          0.43824202200323603,
          -0.09301320640674435,
          0.4123536678833196,
          0.24601141299718762,
          -0.11920775681655874,
          -0.16108484762532066,
          0.270465836537139,
          -0.09428470818645157,
          0.09259134256608366,
          -0.007054534011693772,
          0.35257241201277356,
          0.29348472179453217
         ],
         "yaxis": "y"
        },
        {
         "hovertemplate": "color=2<br>x=%{x}<br>y=%{y}<extra></extra>",
         "legendgroup": "2",
         "marker": {
          "color": "#FF6692",
          "opacity": 0.6,
          "size": 8,
          "symbol": "circle"
         },
         "mode": "markers",
         "name": "2",
         "orientation": "v",
         "showlegend": true,
         "type": "scatter",
         "x": [
          1.9591368883144773,
          2.0649815215483924,
          1.8215905321225354,
          2.070146893904678,
          1.9538936515856653,
          1.9604704773038657,
          1.9860083542935403,
          1.8441994011825928,
          1.9138864508225448,
          1.9496999353351299,
          2.0569605163999163,
          2.024274908507374
         ],
         "xaxis": "x",
         "y": [
          0.22105895014036797,
          0.07777817974997564,
          0.08802124491171531,
          0.268385253981115,
          0.5258083278034205,
          0.6056535150243937,
          0.447208166511216,
          0.0037778005232857754,
          0.24049306047848207,
          -0.026687606475979328,
          0.13219524813187764,
          -0.23658286013291666
         ],
         "yaxis": "y"
        },
        {
         "hovertemplate": "color=3<br>x=%{x}<br>y=%{y}<extra></extra>",
         "legendgroup": "3",
         "marker": {
          "color": "#B6E880",
          "opacity": 0.6,
          "size": 8,
          "symbol": "circle"
         },
         "mode": "markers",
         "name": "3",
         "orientation": "v",
         "showlegend": true,
         "type": "scatter",
         "x": [
          -0.1559822424396728,
          -0.4310266321498345,
          -0.59979329065112,
          -0.354461850603326,
          -0.12145330621227263,
          -0.37018671449321544,
          -0.3260904474563151,
          -0.5166807659473578,
          -0.7276175288183239,
          -0.24257859272494556,
          -0.30063966000487485
         ],
         "xaxis": "x",
         "y": [
          0.9705678511413793,
          0.768107249767922,
          0.8910128212312186,
          0.924464904206849,
          1.0197594744048921,
          0.6944839955814578,
          1.0331414518539392,
          0.8358142059067721,
          0.8206557257758682,
          0.9156164433969085,
          1.0268701826834712
         ],
         "yaxis": "y"
        },
        {
         "marker": {
          "color": "black",
          "opacity": 0.8,
          "size": 8
         },
         "mode": "markers",
         "name": "Centers",
         "type": "scatter",
         "x": [
          -0.8893517363432384,
          0.6298534175139535,
          1.9591368883144773,
          -0.354461850603326,
          0.13728851890391977,
          0.33002613561013316,
          1.362134873180573,
          0.9553714662571521
         ],
         "y": [
          0.40142073667019956,
          -0.4147720996779956,
          0.22105895014036797,
          0.924464904206849,
          0.09259134256608366,
          1.0227980620794785,
          -0.4145487656920727,
          0.4019569948045194
         ]
        }
       ],
       "layout": {
        "coloraxis": {
         "showscale": false
        },
        "height": 400,
        "legend": {
         "title": {
          "text": "Clusters"
         },
         "tracegroupgap": 0
        },
        "margin": {
         "t": 60
        },
        "showlegend": true,
        "template": {
         "data": {
          "bar": [
           {
            "error_x": {
             "color": "#2a3f5f"
            },
            "error_y": {
             "color": "#2a3f5f"
            },
            "marker": {
             "line": {
              "color": "#E5ECF6",
              "width": 0.5
             },
             "pattern": {
              "fillmode": "overlay",
              "size": 10,
              "solidity": 0.2
             }
            },
            "type": "bar"
           }
          ],
          "barpolar": [
           {
            "marker": {
             "line": {
              "color": "#E5ECF6",
              "width": 0.5
             },
             "pattern": {
              "fillmode": "overlay",
              "size": 10,
              "solidity": 0.2
             }
            },
            "type": "barpolar"
           }
          ],
          "carpet": [
           {
            "aaxis": {
             "endlinecolor": "#2a3f5f",
             "gridcolor": "white",
             "linecolor": "white",
             "minorgridcolor": "white",
             "startlinecolor": "#2a3f5f"
            },
            "baxis": {
             "endlinecolor": "#2a3f5f",
             "gridcolor": "white",
             "linecolor": "white",
             "minorgridcolor": "white",
             "startlinecolor": "#2a3f5f"
            },
            "type": "carpet"
           }
          ],
          "choropleth": [
           {
            "colorbar": {
             "outlinewidth": 0,
             "ticks": ""
            },
            "type": "choropleth"
           }
          ],
          "contour": [
           {
            "colorbar": {
             "outlinewidth": 0,
             "ticks": ""
            },
            "colorscale": [
             [
              0,
              "#0d0887"
             ],
             [
              0.1111111111111111,
              "#46039f"
             ],
             [
              0.2222222222222222,
              "#7201a8"
             ],
             [
              0.3333333333333333,
              "#9c179e"
             ],
             [
              0.4444444444444444,
              "#bd3786"
             ],
             [
              0.5555555555555556,
              "#d8576b"
             ],
             [
              0.6666666666666666,
              "#ed7953"
             ],
             [
              0.7777777777777778,
              "#fb9f3a"
             ],
             [
              0.8888888888888888,
              "#fdca26"
             ],
             [
              1,
              "#f0f921"
             ]
            ],
            "type": "contour"
           }
          ],
          "contourcarpet": [
           {
            "colorbar": {
             "outlinewidth": 0,
             "ticks": ""
            },
            "type": "contourcarpet"
           }
          ],
          "heatmap": [
           {
            "colorbar": {
             "outlinewidth": 0,
             "ticks": ""
            },
            "colorscale": [
             [
              0,
              "#0d0887"
             ],
             [
              0.1111111111111111,
              "#46039f"
             ],
             [
              0.2222222222222222,
              "#7201a8"
             ],
             [
              0.3333333333333333,
              "#9c179e"
             ],
             [
              0.4444444444444444,
              "#bd3786"
             ],
             [
              0.5555555555555556,
              "#d8576b"
             ],
             [
              0.6666666666666666,
              "#ed7953"
             ],
             [
              0.7777777777777778,
              "#fb9f3a"
             ],
             [
              0.8888888888888888,
              "#fdca26"
             ],
             [
              1,
              "#f0f921"
             ]
            ],
            "type": "heatmap"
           }
          ],
          "heatmapgl": [
           {
            "colorbar": {
             "outlinewidth": 0,
             "ticks": ""
            },
            "colorscale": [
             [
              0,
              "#0d0887"
             ],
             [
              0.1111111111111111,
              "#46039f"
             ],
             [
              0.2222222222222222,
              "#7201a8"
             ],
             [
              0.3333333333333333,
              "#9c179e"
             ],
             [
              0.4444444444444444,
              "#bd3786"
             ],
             [
              0.5555555555555556,
              "#d8576b"
             ],
             [
              0.6666666666666666,
              "#ed7953"
             ],
             [
              0.7777777777777778,
              "#fb9f3a"
             ],
             [
              0.8888888888888888,
              "#fdca26"
             ],
             [
              1,
              "#f0f921"
             ]
            ],
            "type": "heatmapgl"
           }
          ],
          "histogram": [
           {
            "marker": {
             "pattern": {
              "fillmode": "overlay",
              "size": 10,
              "solidity": 0.2
             }
            },
            "type": "histogram"
           }
          ],
          "histogram2d": [
           {
            "colorbar": {
             "outlinewidth": 0,
             "ticks": ""
            },
            "colorscale": [
             [
              0,
              "#0d0887"
             ],
             [
              0.1111111111111111,
              "#46039f"
             ],
             [
              0.2222222222222222,
              "#7201a8"
             ],
             [
              0.3333333333333333,
              "#9c179e"
             ],
             [
              0.4444444444444444,
              "#bd3786"
             ],
             [
              0.5555555555555556,
              "#d8576b"
             ],
             [
              0.6666666666666666,
              "#ed7953"
             ],
             [
              0.7777777777777778,
              "#fb9f3a"
             ],
             [
              0.8888888888888888,
              "#fdca26"
             ],
             [
              1,
              "#f0f921"
             ]
            ],
            "type": "histogram2d"
           }
          ],
          "histogram2dcontour": [
           {
            "colorbar": {
             "outlinewidth": 0,
             "ticks": ""
            },
            "colorscale": [
             [
              0,
              "#0d0887"
             ],
             [
              0.1111111111111111,
              "#46039f"
             ],
             [
              0.2222222222222222,
              "#7201a8"
             ],
             [
              0.3333333333333333,
              "#9c179e"
             ],
             [
              0.4444444444444444,
              "#bd3786"
             ],
             [
              0.5555555555555556,
              "#d8576b"
             ],
             [
              0.6666666666666666,
              "#ed7953"
             ],
             [
              0.7777777777777778,
              "#fb9f3a"
             ],
             [
              0.8888888888888888,
              "#fdca26"
             ],
             [
              1,
              "#f0f921"
             ]
            ],
            "type": "histogram2dcontour"
           }
          ],
          "mesh3d": [
           {
            "colorbar": {
             "outlinewidth": 0,
             "ticks": ""
            },
            "type": "mesh3d"
           }
          ],
          "parcoords": [
           {
            "line": {
             "colorbar": {
              "outlinewidth": 0,
              "ticks": ""
             }
            },
            "type": "parcoords"
           }
          ],
          "pie": [
           {
            "automargin": true,
            "type": "pie"
           }
          ],
          "scatter": [
           {
            "fillpattern": {
             "fillmode": "overlay",
             "size": 10,
             "solidity": 0.2
            },
            "type": "scatter"
           }
          ],
          "scatter3d": [
           {
            "line": {
             "colorbar": {
              "outlinewidth": 0,
              "ticks": ""
             }
            },
            "marker": {
             "colorbar": {
              "outlinewidth": 0,
              "ticks": ""
             }
            },
            "type": "scatter3d"
           }
          ],
          "scattercarpet": [
           {
            "marker": {
             "colorbar": {
              "outlinewidth": 0,
              "ticks": ""
             }
            },
            "type": "scattercarpet"
           }
          ],
          "scattergeo": [
           {
            "marker": {
             "colorbar": {
              "outlinewidth": 0,
              "ticks": ""
             }
            },
            "type": "scattergeo"
           }
          ],
          "scattergl": [
           {
            "marker": {
             "colorbar": {
              "outlinewidth": 0,
              "ticks": ""
             }
            },
            "type": "scattergl"
           }
          ],
          "scattermapbox": [
           {
            "marker": {
             "colorbar": {
              "outlinewidth": 0,
              "ticks": ""
             }
            },
            "type": "scattermapbox"
           }
          ],
          "scatterpolar": [
           {
            "marker": {
             "colorbar": {
              "outlinewidth": 0,
              "ticks": ""
             }
            },
            "type": "scatterpolar"
           }
          ],
          "scatterpolargl": [
           {
            "marker": {
             "colorbar": {
              "outlinewidth": 0,
              "ticks": ""
             }
            },
            "type": "scatterpolargl"
           }
          ],
          "scatterternary": [
           {
            "marker": {
             "colorbar": {
              "outlinewidth": 0,
              "ticks": ""
             }
            },
            "type": "scatterternary"
           }
          ],
          "surface": [
           {
            "colorbar": {
             "outlinewidth": 0,
             "ticks": ""
            },
            "colorscale": [
             [
              0,
              "#0d0887"
             ],
             [
              0.1111111111111111,
              "#46039f"
             ],
             [
              0.2222222222222222,
              "#7201a8"
             ],
             [
              0.3333333333333333,
              "#9c179e"
             ],
             [
              0.4444444444444444,
              "#bd3786"
             ],
             [
              0.5555555555555556,
              "#d8576b"
             ],
             [
              0.6666666666666666,
              "#ed7953"
             ],
             [
              0.7777777777777778,
              "#fb9f3a"
             ],
             [
              0.8888888888888888,
              "#fdca26"
             ],
             [
              1,
              "#f0f921"
             ]
            ],
            "type": "surface"
           }
          ],
          "table": [
           {
            "cells": {
             "fill": {
              "color": "#EBF0F8"
             },
             "line": {
              "color": "white"
             }
            },
            "header": {
             "fill": {
              "color": "#C8D4E3"
             },
             "line": {
              "color": "white"
             }
            },
            "type": "table"
           }
          ]
         },
         "layout": {
          "annotationdefaults": {
           "arrowcolor": "#2a3f5f",
           "arrowhead": 0,
           "arrowwidth": 1
          },
          "autotypenumbers": "strict",
          "coloraxis": {
           "colorbar": {
            "outlinewidth": 0,
            "ticks": ""
           }
          },
          "colorscale": {
           "diverging": [
            [
             0,
             "#8e0152"
            ],
            [
             0.1,
             "#c51b7d"
            ],
            [
             0.2,
             "#de77ae"
            ],
            [
             0.3,
             "#f1b6da"
            ],
            [
             0.4,
             "#fde0ef"
            ],
            [
             0.5,
             "#f7f7f7"
            ],
            [
             0.6,
             "#e6f5d0"
            ],
            [
             0.7,
             "#b8e186"
            ],
            [
             0.8,
             "#7fbc41"
            ],
            [
             0.9,
             "#4d9221"
            ],
            [
             1,
             "#276419"
            ]
           ],
           "sequential": [
            [
             0,
             "#0d0887"
            ],
            [
             0.1111111111111111,
             "#46039f"
            ],
            [
             0.2222222222222222,
             "#7201a8"
            ],
            [
             0.3333333333333333,
             "#9c179e"
            ],
            [
             0.4444444444444444,
             "#bd3786"
            ],
            [
             0.5555555555555556,
             "#d8576b"
            ],
            [
             0.6666666666666666,
             "#ed7953"
            ],
            [
             0.7777777777777778,
             "#fb9f3a"
            ],
            [
             0.8888888888888888,
             "#fdca26"
            ],
            [
             1,
             "#f0f921"
            ]
           ],
           "sequentialminus": [
            [
             0,
             "#0d0887"
            ],
            [
             0.1111111111111111,
             "#46039f"
            ],
            [
             0.2222222222222222,
             "#7201a8"
            ],
            [
             0.3333333333333333,
             "#9c179e"
            ],
            [
             0.4444444444444444,
             "#bd3786"
            ],
            [
             0.5555555555555556,
             "#d8576b"
            ],
            [
             0.6666666666666666,
             "#ed7953"
            ],
            [
             0.7777777777777778,
             "#fb9f3a"
            ],
            [
             0.8888888888888888,
             "#fdca26"
            ],
            [
             1,
             "#f0f921"
            ]
           ]
          },
          "colorway": [
           "#636efa",
           "#EF553B",
           "#00cc96",
           "#ab63fa",
           "#FFA15A",
           "#19d3f3",
           "#FF6692",
           "#B6E880",
           "#FF97FF",
           "#FECB52"
          ],
          "font": {
           "color": "#2a3f5f"
          },
          "geo": {
           "bgcolor": "white",
           "lakecolor": "white",
           "landcolor": "#E5ECF6",
           "showlakes": true,
           "showland": true,
           "subunitcolor": "white"
          },
          "hoverlabel": {
           "align": "left"
          },
          "hovermode": "closest",
          "mapbox": {
           "style": "light"
          },
          "paper_bgcolor": "white",
          "plot_bgcolor": "#E5ECF6",
          "polar": {
           "angularaxis": {
            "gridcolor": "white",
            "linecolor": "white",
            "ticks": ""
           },
           "bgcolor": "#E5ECF6",
           "radialaxis": {
            "gridcolor": "white",
            "linecolor": "white",
            "ticks": ""
           }
          },
          "scene": {
           "xaxis": {
            "backgroundcolor": "#E5ECF6",
            "gridcolor": "white",
            "gridwidth": 2,
            "linecolor": "white",
            "showbackground": true,
            "ticks": "",
            "zerolinecolor": "white"
           },
           "yaxis": {
            "backgroundcolor": "#E5ECF6",
            "gridcolor": "white",
            "gridwidth": 2,
            "linecolor": "white",
            "showbackground": true,
            "ticks": "",
            "zerolinecolor": "white"
           },
           "zaxis": {
            "backgroundcolor": "#E5ECF6",
            "gridcolor": "white",
            "gridwidth": 2,
            "linecolor": "white",
            "showbackground": true,
            "ticks": "",
            "zerolinecolor": "white"
           }
          },
          "shapedefaults": {
           "line": {
            "color": "#2a3f5f"
           }
          },
          "ternary": {
           "aaxis": {
            "gridcolor": "white",
            "linecolor": "white",
            "ticks": ""
           },
           "baxis": {
            "gridcolor": "white",
            "linecolor": "white",
            "ticks": ""
           },
           "bgcolor": "#E5ECF6",
           "caxis": {
            "gridcolor": "white",
            "linecolor": "white",
            "ticks": ""
           }
          },
          "title": {
           "x": 0.05
          },
          "xaxis": {
           "automargin": true,
           "gridcolor": "white",
           "linecolor": "white",
           "ticks": "",
           "title": {
            "standoff": 15
           },
           "zerolinecolor": "white",
           "zerolinewidth": 2
          },
          "yaxis": {
           "automargin": true,
           "gridcolor": "white",
           "linecolor": "white",
           "ticks": "",
           "title": {
            "standoff": 15
           },
           "zerolinecolor": "white",
           "zerolinewidth": 2
          }
         }
        },
        "title": {
         "text": "Half Moons - Affinity Propagation Clustering"
        },
        "width": 600,
        "xaxis": {
         "anchor": "y",
         "domain": [
          0,
          1
         ],
         "title": {
          "text": "x"
         }
        },
        "yaxis": {
         "anchor": "x",
         "domain": [
          0,
          1
         ],
         "title": {
          "text": "y"
         }
        }
       }
      }
     },
     "metadata": {},
     "output_type": "display_data"
    }
   ],
   "source": [
    "cv_m.plot_clusters(ap_clusters_m.labels_, ap_clusters_m.cluster_centers_, \n",
    "                   title = 'Half Moons - Affinity Propagation Clustering')"
   ]
  },
  {
   "cell_type": "markdown",
   "metadata": {},
   "source": [
    "The `preference` parameter is a crucial determinant of how many exemplars (or cluster centers) are chosen. \n",
    "\n",
    "A lower preference value (more negative) typically results in fewer clusters, indicating lower suitability for points to be considered exemplars."
   ]
  },
  {
   "cell_type": "code",
   "execution_count": 13,
   "metadata": {},
   "outputs": [
    {
     "name": "stdout",
     "output_type": "stream",
     "text": [
      "Number of clusters: 2\n",
      "Cluster centers: \n",
      " [[-0.37  0.69]\n",
      " [ 1.02  0.08]]\n"
     ]
    }
   ],
   "source": [
    "# Modifying the preference parameter\n",
    "ap_clusters_m3 = AffinityPropagation(preference = -50).fit(Xm)\n",
    "\n",
    "print('Number of clusters: %i' % len(ap_clusters_m3.cluster_centers_indices_))\n",
    "\n",
    "print('Cluster centers: \\n', ap_clusters_m3.cluster_centers_.round(2))"
   ]
  },
  {
   "cell_type": "code",
   "execution_count": 14,
   "metadata": {},
   "outputs": [
    {
     "data": {
      "application/vnd.plotly.v1+json": {
       "config": {
        "plotlyServerURL": "https://plot.ly"
       },
       "data": [
        {
         "hovertemplate": "color=0<br>x=%{x}<br>y=%{y}<extra></extra>",
         "legendgroup": "0",
         "marker": {
          "color": "#636efa",
          "opacity": 0.6,
          "size": 8,
          "symbol": "circle"
         },
         "mode": "markers",
         "name": "0",
         "orientation": "v",
         "showlegend": true,
         "type": "scatter",
         "x": [
          0.20147921249405265,
          0.5107002924267421,
          -0.8893517363432384,
          -0.5736658935883252,
          -0.9509219862406487,
          -0.7887168722725412,
          0.06936104926939182,
          -0.1559822424396728,
          0.06273744704224377,
          -1.0166129845023018,
          0.04024190216637471,
          -1.0707470327066693,
          0.060535565651532015,
          0.19590862815610152,
          -0.9626808886106166,
          -0.4310266321498345,
          0.010335304007971582,
          -0.59979329065112,
          -0.905755686718287,
          -1.1080136680619348,
          -0.9715113192092308,
          -0.354461850603326,
          0.31017532328400166,
          -1.2124787928553384,
          0.4389020849633067,
          0.006941192776004974,
          0.13728851890391977,
          0.0890532764616338,
          0.17901522715413243,
          0.33002613561013316,
          -0.12145330621227263,
          0.0753138478267341,
          -0.37018671449321544,
          -0.3260904474563151,
          0.06239484067685533,
          -0.00705571011843523,
          -0.9453067285091268,
          -0.5166807659473578,
          0.02031047315898401,
          0.5076413336801504,
          -0.7276175288183239,
          -0.7593057101516221,
          -0.24257859272494556,
          -0.30063966000487485
         ],
         "xaxis": "x",
         "y": [
          0.8836518348453927,
          0.8820233700667225,
          0.40142073667019956,
          0.5826371108049099,
          0.7004097534606438,
          0.6352608627689129,
          0.43824202200323603,
          0.9705678511413793,
          -0.09301320640674435,
          0.2136732497862051,
          0.4123536678833196,
          0.3339963709074206,
          0.24601141299718762,
          0.9767639542974165,
          0.47055449728651283,
          0.768107249767922,
          0.270465836537139,
          0.8910128212312186,
          0.6289907723640347,
          0.20960985839514365,
          0.038131138142851816,
          0.924464904206849,
          1.0453120356388685,
          0.3091159415044172,
          1.019060730153318,
          1.078405535210311,
          0.09259134256608366,
          1.0637664835238951,
          0.9640138130454461,
          1.0227980620794785,
          1.0197594744048921,
          -0.007054534011693772,
          0.6944839955814578,
          1.0331414518539392,
          0.9583191160348344,
          0.35257241201277356,
          0.012557343265951927,
          0.8358142059067721,
          0.29348472179453217,
          0.8050141584378404,
          0.8206557257758682,
          0.5630321659844102,
          0.9156164433969085,
          1.0268701826834712
         ],
         "yaxis": "y"
        },
        {
         "hovertemplate": "color=1<br>x=%{x}<br>y=%{y}<extra></extra>",
         "legendgroup": "1",
         "marker": {
          "color": "#EF553B",
          "opacity": 0.6,
          "size": 8,
          "symbol": "circle"
         },
         "mode": "markers",
         "name": "1",
         "orientation": "v",
         "showlegend": true,
         "type": "scatter",
         "x": [
          0.6834718384974283,
          0.9105703959786309,
          1.3123637034953086,
          0.6298534175139535,
          0.8426123028615758,
          1.2074754074230487,
          0.3179154848165492,
          1.9591368883144773,
          0.8258325662246928,
          2.0649815215483924,
          1.8215905321225354,
          0.6293216030578259,
          1.1517948708590844,
          0.2429887532650097,
          0.9506648410925225,
          0.3453696904250845,
          1.5607018193203324,
          1.098384908931623,
          0.7821024786929688,
          1.5613731042500727,
          0.11541856598666952,
          1.3198075133936553,
          0.46039705891579186,
          1.349887629288135,
          0.8685632925862281,
          1.7458910021279577,
          2.070146893904678,
          1.9538936515856653,
          1.9604704773038657,
          0.8590945185724472,
          1.9860083542935403,
          1.5771815363262298,
          0.7692419326157132,
          1.8441994011825928,
          1.9138864508225448,
          1.9496999353351299,
          0.40183998354981654,
          0.822302302457674,
          1.362134873180573,
          1.0773976063167001,
          0.7626647414181101,
          0.5738009668766586,
          1.2102047235065305,
          1.541565891256111,
          1.3270624735237395,
          0.927527357202748,
          0.3392702314387141,
          0.8301336907324752,
          1.0200194308244568,
          0.8639667147284651,
          0.9553714662571521,
          2.0569605163999163,
          2.024274908507374,
          0.462407722227818,
          0.5757060986615428,
          0.8229711394589171
         ],
         "xaxis": "x",
         "y": [
          -0.32735733893289976,
          0.10638924908757526,
          -0.5833610092672168,
          -0.4147720996779956,
          0.07925909297101857,
          0.11715765624038568,
          -0.11312212919115885,
          0.22105895014036797,
          -0.45464478957604776,
          0.07777817974997564,
          0.08802124491171531,
          -0.43464602910396305,
          -0.5110432150593799,
          -0.11920775681655874,
          0.4878233190243876,
          -0.16108484762532066,
          -0.3949006334523405,
          0.2285489508075679,
          0.39837007751768083,
          -0.25076690306652594,
          -0.09428470818645157,
          -0.4114019086497939,
          -0.4033086420202368,
          -0.43626046234386595,
          0.45042164931392875,
          -0.3054552443868157,
          0.268385253981115,
          0.5258083278034205,
          0.6056535150243937,
          0.5556123352744168,
          0.447208166511216,
          -0.19241324347163097,
          -0.4895653147821693,
          0.0037778005232857754,
          0.24049306047848207,
          -0.026687606475979328,
          -0.26910441617862685,
          0.6589755783363639,
          -0.4145487656920727,
          -0.6067090622702493,
          0.7761633925182989,
          -0.5144718467987381,
          -0.47552032832316365,
          -0.21005315833432964,
          -0.5251165722750736,
          -0.6000762968033135,
          -0.21916983302533072,
          0.6302676767513389,
          0.07551186348681464,
          -0.48227363396104295,
          0.4019569948045194,
          0.13219524813187764,
          -0.23658286013291666,
          -0.23163714719652936,
          0.8538549732238114,
          0.5030358725254057
         ],
         "yaxis": "y"
        },
        {
         "marker": {
          "color": "black",
          "opacity": 0.8,
          "size": 8
         },
         "mode": "markers",
         "name": "Centers",
         "type": "scatter",
         "x": [
          -0.37018671449321544,
          1.0200194308244568
         ],
         "y": [
          0.6944839955814578,
          0.07551186348681464
         ]
        }
       ],
       "layout": {
        "coloraxis": {
         "showscale": false
        },
        "height": 400,
        "legend": {
         "title": {
          "text": "Clusters"
         },
         "tracegroupgap": 0
        },
        "margin": {
         "t": 60
        },
        "showlegend": true,
        "template": {
         "data": {
          "bar": [
           {
            "error_x": {
             "color": "#2a3f5f"
            },
            "error_y": {
             "color": "#2a3f5f"
            },
            "marker": {
             "line": {
              "color": "#E5ECF6",
              "width": 0.5
             },
             "pattern": {
              "fillmode": "overlay",
              "size": 10,
              "solidity": 0.2
             }
            },
            "type": "bar"
           }
          ],
          "barpolar": [
           {
            "marker": {
             "line": {
              "color": "#E5ECF6",
              "width": 0.5
             },
             "pattern": {
              "fillmode": "overlay",
              "size": 10,
              "solidity": 0.2
             }
            },
            "type": "barpolar"
           }
          ],
          "carpet": [
           {
            "aaxis": {
             "endlinecolor": "#2a3f5f",
             "gridcolor": "white",
             "linecolor": "white",
             "minorgridcolor": "white",
             "startlinecolor": "#2a3f5f"
            },
            "baxis": {
             "endlinecolor": "#2a3f5f",
             "gridcolor": "white",
             "linecolor": "white",
             "minorgridcolor": "white",
             "startlinecolor": "#2a3f5f"
            },
            "type": "carpet"
           }
          ],
          "choropleth": [
           {
            "colorbar": {
             "outlinewidth": 0,
             "ticks": ""
            },
            "type": "choropleth"
           }
          ],
          "contour": [
           {
            "colorbar": {
             "outlinewidth": 0,
             "ticks": ""
            },
            "colorscale": [
             [
              0,
              "#0d0887"
             ],
             [
              0.1111111111111111,
              "#46039f"
             ],
             [
              0.2222222222222222,
              "#7201a8"
             ],
             [
              0.3333333333333333,
              "#9c179e"
             ],
             [
              0.4444444444444444,
              "#bd3786"
             ],
             [
              0.5555555555555556,
              "#d8576b"
             ],
             [
              0.6666666666666666,
              "#ed7953"
             ],
             [
              0.7777777777777778,
              "#fb9f3a"
             ],
             [
              0.8888888888888888,
              "#fdca26"
             ],
             [
              1,
              "#f0f921"
             ]
            ],
            "type": "contour"
           }
          ],
          "contourcarpet": [
           {
            "colorbar": {
             "outlinewidth": 0,
             "ticks": ""
            },
            "type": "contourcarpet"
           }
          ],
          "heatmap": [
           {
            "colorbar": {
             "outlinewidth": 0,
             "ticks": ""
            },
            "colorscale": [
             [
              0,
              "#0d0887"
             ],
             [
              0.1111111111111111,
              "#46039f"
             ],
             [
              0.2222222222222222,
              "#7201a8"
             ],
             [
              0.3333333333333333,
              "#9c179e"
             ],
             [
              0.4444444444444444,
              "#bd3786"
             ],
             [
              0.5555555555555556,
              "#d8576b"
             ],
             [
              0.6666666666666666,
              "#ed7953"
             ],
             [
              0.7777777777777778,
              "#fb9f3a"
             ],
             [
              0.8888888888888888,
              "#fdca26"
             ],
             [
              1,
              "#f0f921"
             ]
            ],
            "type": "heatmap"
           }
          ],
          "heatmapgl": [
           {
            "colorbar": {
             "outlinewidth": 0,
             "ticks": ""
            },
            "colorscale": [
             [
              0,
              "#0d0887"
             ],
             [
              0.1111111111111111,
              "#46039f"
             ],
             [
              0.2222222222222222,
              "#7201a8"
             ],
             [
              0.3333333333333333,
              "#9c179e"
             ],
             [
              0.4444444444444444,
              "#bd3786"
             ],
             [
              0.5555555555555556,
              "#d8576b"
             ],
             [
              0.6666666666666666,
              "#ed7953"
             ],
             [
              0.7777777777777778,
              "#fb9f3a"
             ],
             [
              0.8888888888888888,
              "#fdca26"
             ],
             [
              1,
              "#f0f921"
             ]
            ],
            "type": "heatmapgl"
           }
          ],
          "histogram": [
           {
            "marker": {
             "pattern": {
              "fillmode": "overlay",
              "size": 10,
              "solidity": 0.2
             }
            },
            "type": "histogram"
           }
          ],
          "histogram2d": [
           {
            "colorbar": {
             "outlinewidth": 0,
             "ticks": ""
            },
            "colorscale": [
             [
              0,
              "#0d0887"
             ],
             [
              0.1111111111111111,
              "#46039f"
             ],
             [
              0.2222222222222222,
              "#7201a8"
             ],
             [
              0.3333333333333333,
              "#9c179e"
             ],
             [
              0.4444444444444444,
              "#bd3786"
             ],
             [
              0.5555555555555556,
              "#d8576b"
             ],
             [
              0.6666666666666666,
              "#ed7953"
             ],
             [
              0.7777777777777778,
              "#fb9f3a"
             ],
             [
              0.8888888888888888,
              "#fdca26"
             ],
             [
              1,
              "#f0f921"
             ]
            ],
            "type": "histogram2d"
           }
          ],
          "histogram2dcontour": [
           {
            "colorbar": {
             "outlinewidth": 0,
             "ticks": ""
            },
            "colorscale": [
             [
              0,
              "#0d0887"
             ],
             [
              0.1111111111111111,
              "#46039f"
             ],
             [
              0.2222222222222222,
              "#7201a8"
             ],
             [
              0.3333333333333333,
              "#9c179e"
             ],
             [
              0.4444444444444444,
              "#bd3786"
             ],
             [
              0.5555555555555556,
              "#d8576b"
             ],
             [
              0.6666666666666666,
              "#ed7953"
             ],
             [
              0.7777777777777778,
              "#fb9f3a"
             ],
             [
              0.8888888888888888,
              "#fdca26"
             ],
             [
              1,
              "#f0f921"
             ]
            ],
            "type": "histogram2dcontour"
           }
          ],
          "mesh3d": [
           {
            "colorbar": {
             "outlinewidth": 0,
             "ticks": ""
            },
            "type": "mesh3d"
           }
          ],
          "parcoords": [
           {
            "line": {
             "colorbar": {
              "outlinewidth": 0,
              "ticks": ""
             }
            },
            "type": "parcoords"
           }
          ],
          "pie": [
           {
            "automargin": true,
            "type": "pie"
           }
          ],
          "scatter": [
           {
            "fillpattern": {
             "fillmode": "overlay",
             "size": 10,
             "solidity": 0.2
            },
            "type": "scatter"
           }
          ],
          "scatter3d": [
           {
            "line": {
             "colorbar": {
              "outlinewidth": 0,
              "ticks": ""
             }
            },
            "marker": {
             "colorbar": {
              "outlinewidth": 0,
              "ticks": ""
             }
            },
            "type": "scatter3d"
           }
          ],
          "scattercarpet": [
           {
            "marker": {
             "colorbar": {
              "outlinewidth": 0,
              "ticks": ""
             }
            },
            "type": "scattercarpet"
           }
          ],
          "scattergeo": [
           {
            "marker": {
             "colorbar": {
              "outlinewidth": 0,
              "ticks": ""
             }
            },
            "type": "scattergeo"
           }
          ],
          "scattergl": [
           {
            "marker": {
             "colorbar": {
              "outlinewidth": 0,
              "ticks": ""
             }
            },
            "type": "scattergl"
           }
          ],
          "scattermapbox": [
           {
            "marker": {
             "colorbar": {
              "outlinewidth": 0,
              "ticks": ""
             }
            },
            "type": "scattermapbox"
           }
          ],
          "scatterpolar": [
           {
            "marker": {
             "colorbar": {
              "outlinewidth": 0,
              "ticks": ""
             }
            },
            "type": "scatterpolar"
           }
          ],
          "scatterpolargl": [
           {
            "marker": {
             "colorbar": {
              "outlinewidth": 0,
              "ticks": ""
             }
            },
            "type": "scatterpolargl"
           }
          ],
          "scatterternary": [
           {
            "marker": {
             "colorbar": {
              "outlinewidth": 0,
              "ticks": ""
             }
            },
            "type": "scatterternary"
           }
          ],
          "surface": [
           {
            "colorbar": {
             "outlinewidth": 0,
             "ticks": ""
            },
            "colorscale": [
             [
              0,
              "#0d0887"
             ],
             [
              0.1111111111111111,
              "#46039f"
             ],
             [
              0.2222222222222222,
              "#7201a8"
             ],
             [
              0.3333333333333333,
              "#9c179e"
             ],
             [
              0.4444444444444444,
              "#bd3786"
             ],
             [
              0.5555555555555556,
              "#d8576b"
             ],
             [
              0.6666666666666666,
              "#ed7953"
             ],
             [
              0.7777777777777778,
              "#fb9f3a"
             ],
             [
              0.8888888888888888,
              "#fdca26"
             ],
             [
              1,
              "#f0f921"
             ]
            ],
            "type": "surface"
           }
          ],
          "table": [
           {
            "cells": {
             "fill": {
              "color": "#EBF0F8"
             },
             "line": {
              "color": "white"
             }
            },
            "header": {
             "fill": {
              "color": "#C8D4E3"
             },
             "line": {
              "color": "white"
             }
            },
            "type": "table"
           }
          ]
         },
         "layout": {
          "annotationdefaults": {
           "arrowcolor": "#2a3f5f",
           "arrowhead": 0,
           "arrowwidth": 1
          },
          "autotypenumbers": "strict",
          "coloraxis": {
           "colorbar": {
            "outlinewidth": 0,
            "ticks": ""
           }
          },
          "colorscale": {
           "diverging": [
            [
             0,
             "#8e0152"
            ],
            [
             0.1,
             "#c51b7d"
            ],
            [
             0.2,
             "#de77ae"
            ],
            [
             0.3,
             "#f1b6da"
            ],
            [
             0.4,
             "#fde0ef"
            ],
            [
             0.5,
             "#f7f7f7"
            ],
            [
             0.6,
             "#e6f5d0"
            ],
            [
             0.7,
             "#b8e186"
            ],
            [
             0.8,
             "#7fbc41"
            ],
            [
             0.9,
             "#4d9221"
            ],
            [
             1,
             "#276419"
            ]
           ],
           "sequential": [
            [
             0,
             "#0d0887"
            ],
            [
             0.1111111111111111,
             "#46039f"
            ],
            [
             0.2222222222222222,
             "#7201a8"
            ],
            [
             0.3333333333333333,
             "#9c179e"
            ],
            [
             0.4444444444444444,
             "#bd3786"
            ],
            [
             0.5555555555555556,
             "#d8576b"
            ],
            [
             0.6666666666666666,
             "#ed7953"
            ],
            [
             0.7777777777777778,
             "#fb9f3a"
            ],
            [
             0.8888888888888888,
             "#fdca26"
            ],
            [
             1,
             "#f0f921"
            ]
           ],
           "sequentialminus": [
            [
             0,
             "#0d0887"
            ],
            [
             0.1111111111111111,
             "#46039f"
            ],
            [
             0.2222222222222222,
             "#7201a8"
            ],
            [
             0.3333333333333333,
             "#9c179e"
            ],
            [
             0.4444444444444444,
             "#bd3786"
            ],
            [
             0.5555555555555556,
             "#d8576b"
            ],
            [
             0.6666666666666666,
             "#ed7953"
            ],
            [
             0.7777777777777778,
             "#fb9f3a"
            ],
            [
             0.8888888888888888,
             "#fdca26"
            ],
            [
             1,
             "#f0f921"
            ]
           ]
          },
          "colorway": [
           "#636efa",
           "#EF553B",
           "#00cc96",
           "#ab63fa",
           "#FFA15A",
           "#19d3f3",
           "#FF6692",
           "#B6E880",
           "#FF97FF",
           "#FECB52"
          ],
          "font": {
           "color": "#2a3f5f"
          },
          "geo": {
           "bgcolor": "white",
           "lakecolor": "white",
           "landcolor": "#E5ECF6",
           "showlakes": true,
           "showland": true,
           "subunitcolor": "white"
          },
          "hoverlabel": {
           "align": "left"
          },
          "hovermode": "closest",
          "mapbox": {
           "style": "light"
          },
          "paper_bgcolor": "white",
          "plot_bgcolor": "#E5ECF6",
          "polar": {
           "angularaxis": {
            "gridcolor": "white",
            "linecolor": "white",
            "ticks": ""
           },
           "bgcolor": "#E5ECF6",
           "radialaxis": {
            "gridcolor": "white",
            "linecolor": "white",
            "ticks": ""
           }
          },
          "scene": {
           "xaxis": {
            "backgroundcolor": "#E5ECF6",
            "gridcolor": "white",
            "gridwidth": 2,
            "linecolor": "white",
            "showbackground": true,
            "ticks": "",
            "zerolinecolor": "white"
           },
           "yaxis": {
            "backgroundcolor": "#E5ECF6",
            "gridcolor": "white",
            "gridwidth": 2,
            "linecolor": "white",
            "showbackground": true,
            "ticks": "",
            "zerolinecolor": "white"
           },
           "zaxis": {
            "backgroundcolor": "#E5ECF6",
            "gridcolor": "white",
            "gridwidth": 2,
            "linecolor": "white",
            "showbackground": true,
            "ticks": "",
            "zerolinecolor": "white"
           }
          },
          "shapedefaults": {
           "line": {
            "color": "#2a3f5f"
           }
          },
          "ternary": {
           "aaxis": {
            "gridcolor": "white",
            "linecolor": "white",
            "ticks": ""
           },
           "baxis": {
            "gridcolor": "white",
            "linecolor": "white",
            "ticks": ""
           },
           "bgcolor": "#E5ECF6",
           "caxis": {
            "gridcolor": "white",
            "linecolor": "white",
            "ticks": ""
           }
          },
          "title": {
           "x": 0.05
          },
          "xaxis": {
           "automargin": true,
           "gridcolor": "white",
           "linecolor": "white",
           "ticks": "",
           "title": {
            "standoff": 15
           },
           "zerolinecolor": "white",
           "zerolinewidth": 2
          },
          "yaxis": {
           "automargin": true,
           "gridcolor": "white",
           "linecolor": "white",
           "ticks": "",
           "title": {
            "standoff": 15
           },
           "zerolinecolor": "white",
           "zerolinewidth": 2
          }
         }
        },
        "title": {
         "text": "Half Moons - Affinity Propagation (preference = -50)"
        },
        "width": 600,
        "xaxis": {
         "anchor": "y",
         "domain": [
          0,
          1
         ],
         "title": {
          "text": "x"
         }
        },
        "yaxis": {
         "anchor": "x",
         "domain": [
          0,
          1
         ],
         "title": {
          "text": "y"
         }
        }
       }
      }
     },
     "metadata": {},
     "output_type": "display_data"
    }
   ],
   "source": [
    "cv_m.plot_clusters(ap_clusters_m3.labels_, ap_clusters_m3.cluster_centers_, \n",
    "                   title = 'Half Moons - Affinity Propagation (preference = -50)')"
   ]
  },
  {
   "cell_type": "markdown",
   "metadata": {},
   "source": [
    "The expected outcome is that each moon shape forms its own cluster, which is not the case here. Instead, points from both half moons are mixed within the two clusters, indicating that AP did not effectively separate the two distinct shapes."
   ]
  },
  {
   "cell_type": "markdown",
   "metadata": {},
   "source": [
    "## Document Analysis Example"
   ]
  },
  {
   "cell_type": "code",
   "execution_count": 15,
   "metadata": {},
   "outputs": [],
   "source": [
    "# Sample text data\n",
    "documents = [\n",
    "    \"Nature is beautiful.\",        \n",
    "    \"I love nature.\",    \n",
    "    \"Machine learning is a facet of AI.\",\n",
    "    \"Nature is my best friend.\",\n",
    "    \"General AI is coming soon.\",\n",
    "    \"AI is creating a new era.\",\n",
    "    \"Cluster Analysis is a branch of AI.\"\n",
    "]"
   ]
  },
  {
   "cell_type": "code",
   "execution_count": 16,
   "metadata": {},
   "outputs": [],
   "source": [
    "# Convert the text data into TF-IDF features\n",
    "from sklearn.feature_extraction.text import TfidfVectorizer\n",
    "\n",
    "vectorizer = TfidfVectorizer(stop_words='english')\n",
    "Xd = vectorizer.fit_transform(documents)"
   ]
  },
  {
   "cell_type": "markdown",
   "metadata": {},
   "source": [
    "For document clustering using AP, cosine similarity is highly recommended as it effectively captures semantic similarities between high-dimensional, sparse text data by focusing on the orientation of TF-IDF vectors rather than their magnitude. \n",
    "\n",
    "Cosine similarity inherently normalizes the document vectors, which is crucial in text analysis, especially when document lengths vary significantly. "
   ]
  },
  {
   "cell_type": "code",
   "execution_count": 17,
   "metadata": {},
   "outputs": [],
   "source": [
    "# Compute the Cosine similarity matrix\n",
    "from sklearn.metrics.pairwise import cosine_similarity\n",
    "\n",
    "cosine_sim_matrix = cosine_similarity(Xd)"
   ]
  },
  {
   "cell_type": "code",
   "execution_count": 18,
   "metadata": {},
   "outputs": [
    {
     "data": {
      "text/html": [
       "<style>#sk-container-id-1 {color: black;background-color: white;}#sk-container-id-1 pre{padding: 0;}#sk-container-id-1 div.sk-toggleable {background-color: white;}#sk-container-id-1 label.sk-toggleable__label {cursor: pointer;display: block;width: 100%;margin-bottom: 0;padding: 0.3em;box-sizing: border-box;text-align: center;}#sk-container-id-1 label.sk-toggleable__label-arrow:before {content: \"▸\";float: left;margin-right: 0.25em;color: #696969;}#sk-container-id-1 label.sk-toggleable__label-arrow:hover:before {color: black;}#sk-container-id-1 div.sk-estimator:hover label.sk-toggleable__label-arrow:before {color: black;}#sk-container-id-1 div.sk-toggleable__content {max-height: 0;max-width: 0;overflow: hidden;text-align: left;background-color: #f0f8ff;}#sk-container-id-1 div.sk-toggleable__content pre {margin: 0.2em;color: black;border-radius: 0.25em;background-color: #f0f8ff;}#sk-container-id-1 input.sk-toggleable__control:checked~div.sk-toggleable__content {max-height: 200px;max-width: 100%;overflow: auto;}#sk-container-id-1 input.sk-toggleable__control:checked~label.sk-toggleable__label-arrow:before {content: \"▾\";}#sk-container-id-1 div.sk-estimator input.sk-toggleable__control:checked~label.sk-toggleable__label {background-color: #d4ebff;}#sk-container-id-1 div.sk-label input.sk-toggleable__control:checked~label.sk-toggleable__label {background-color: #d4ebff;}#sk-container-id-1 input.sk-hidden--visually {border: 0;clip: rect(1px 1px 1px 1px);clip: rect(1px, 1px, 1px, 1px);height: 1px;margin: -1px;overflow: hidden;padding: 0;position: absolute;width: 1px;}#sk-container-id-1 div.sk-estimator {font-family: monospace;background-color: #f0f8ff;border: 1px dotted black;border-radius: 0.25em;box-sizing: border-box;margin-bottom: 0.5em;}#sk-container-id-1 div.sk-estimator:hover {background-color: #d4ebff;}#sk-container-id-1 div.sk-parallel-item::after {content: \"\";width: 100%;border-bottom: 1px solid gray;flex-grow: 1;}#sk-container-id-1 div.sk-label:hover label.sk-toggleable__label {background-color: #d4ebff;}#sk-container-id-1 div.sk-serial::before {content: \"\";position: absolute;border-left: 1px solid gray;box-sizing: border-box;top: 0;bottom: 0;left: 50%;z-index: 0;}#sk-container-id-1 div.sk-serial {display: flex;flex-direction: column;align-items: center;background-color: white;padding-right: 0.2em;padding-left: 0.2em;position: relative;}#sk-container-id-1 div.sk-item {position: relative;z-index: 1;}#sk-container-id-1 div.sk-parallel {display: flex;align-items: stretch;justify-content: center;background-color: white;position: relative;}#sk-container-id-1 div.sk-item::before, #sk-container-id-1 div.sk-parallel-item::before {content: \"\";position: absolute;border-left: 1px solid gray;box-sizing: border-box;top: 0;bottom: 0;left: 50%;z-index: -1;}#sk-container-id-1 div.sk-parallel-item {display: flex;flex-direction: column;z-index: 1;position: relative;background-color: white;}#sk-container-id-1 div.sk-parallel-item:first-child::after {align-self: flex-end;width: 50%;}#sk-container-id-1 div.sk-parallel-item:last-child::after {align-self: flex-start;width: 50%;}#sk-container-id-1 div.sk-parallel-item:only-child::after {width: 0;}#sk-container-id-1 div.sk-dashed-wrapped {border: 1px dashed gray;margin: 0 0.4em 0.5em 0.4em;box-sizing: border-box;padding-bottom: 0.4em;background-color: white;}#sk-container-id-1 div.sk-label label {font-family: monospace;font-weight: bold;display: inline-block;line-height: 1.2em;}#sk-container-id-1 div.sk-label-container {text-align: center;}#sk-container-id-1 div.sk-container {/* jupyter's `normalize.less` sets `[hidden] { display: none; }` but bootstrap.min.css set `[hidden] { display: none !important; }` so we also need the `!important` here to be able to override the default hidden behavior on the sphinx rendered scikit-learn.org. See: https://github.com/scikit-learn/scikit-learn/issues/21755 */display: inline-block !important;position: relative;}#sk-container-id-1 div.sk-text-repr-fallback {display: none;}</style><div id=\"sk-container-id-1\" class=\"sk-top-container\"><div class=\"sk-text-repr-fallback\"><pre>AffinityPropagation(affinity=&#x27;precomputed&#x27;, random_state=0)</pre><b>In a Jupyter environment, please rerun this cell to show the HTML representation or trust the notebook. <br />On GitHub, the HTML representation is unable to render, please try loading this page with nbviewer.org.</b></div><div class=\"sk-container\" hidden><div class=\"sk-item\"><div class=\"sk-estimator sk-toggleable\"><input class=\"sk-toggleable__control sk-hidden--visually\" id=\"sk-estimator-id-1\" type=\"checkbox\" checked><label for=\"sk-estimator-id-1\" class=\"sk-toggleable__label sk-toggleable__label-arrow\">AffinityPropagation</label><div class=\"sk-toggleable__content\"><pre>AffinityPropagation(affinity=&#x27;precomputed&#x27;, random_state=0)</pre></div></div></div></div></div>"
      ],
      "text/plain": [
       "AffinityPropagation(affinity='precomputed', random_state=0)"
      ]
     },
     "execution_count": 18,
     "metadata": {},
     "output_type": "execute_result"
    }
   ],
   "source": [
    "# Perform Affinity Propagation with precomputed similarities\n",
    "ap = AffinityPropagation(affinity='precomputed', random_state=0)\n",
    "ap.fit(cosine_sim_matrix)"
   ]
  },
  {
   "cell_type": "code",
   "execution_count": 19,
   "metadata": {},
   "outputs": [
    {
     "name": "stdout",
     "output_type": "stream",
     "text": [
      "Cluster labels: [0 0 1 0 1 1 1]\n"
     ]
    }
   ],
   "source": [
    "# Output the cluster assignments\n",
    "print(\"Cluster labels:\", ap.labels_)"
   ]
  },
  {
   "cell_type": "code",
   "execution_count": 20,
   "metadata": {},
   "outputs": [
    {
     "name": "stdout",
     "output_type": "stream",
     "text": [
      "Cluster: 0 - Nature is beautiful.\n",
      "Cluster: 0 - I love nature.\n",
      "Cluster: 1 - Machine learning is a facet of AI.\n",
      "Cluster: 0 - Nature is my best friend.\n",
      "Cluster: 1 - General AI is coming soon.\n",
      "Cluster: 1 - AI is creating a new era.\n",
      "Cluster: 1 - Cluster Analysis is a branch of AI.\n"
     ]
    }
   ],
   "source": [
    "# Optionally, print the documents and their cluster assignments\n",
    "for document, label in zip(documents, ap.labels_):\n",
    "    print(f\"Cluster: {label} - {document}\")"
   ]
  },
  {
   "cell_type": "markdown",
   "metadata": {},
   "source": [
    "The AP algorithm grouped the documents into two clusters:\n",
    "- Cluster 0: documents related to Nature\n",
    "- Cluster 1: documents related to AI"
   ]
  },
  {
   "cell_type": "markdown",
   "metadata": {},
   "source": [
    "## Wine Dataset"
   ]
  },
  {
   "cell_type": "markdown",
   "metadata": {},
   "source": [
    "The Wine dataset is a collection of chemical analyses of wines grown in the same region in Italy but derived from three different cultivars, featuring measurements such as alcohol content, color intensity, and other chemical properties used to classify the wines."
   ]
  },
  {
   "cell_type": "code",
   "execution_count": 21,
   "metadata": {},
   "outputs": [],
   "source": [
    "from sklearn.datasets import load_wine\n",
    "\n",
    "wine = load_wine()"
   ]
  },
  {
   "cell_type": "code",
   "execution_count": 22,
   "metadata": {},
   "outputs": [
    {
     "name": "stdout",
     "output_type": "stream",
     "text": [
      "(178, 14)\n"
     ]
    },
    {
     "data": {
      "text/html": [
       "<div>\n",
       "<style scoped>\n",
       "    .dataframe tbody tr th:only-of-type {\n",
       "        vertical-align: middle;\n",
       "    }\n",
       "\n",
       "    .dataframe tbody tr th {\n",
       "        vertical-align: top;\n",
       "    }\n",
       "\n",
       "    .dataframe thead th {\n",
       "        text-align: right;\n",
       "    }\n",
       "</style>\n",
       "<table border=\"1\" class=\"dataframe\">\n",
       "  <thead>\n",
       "    <tr style=\"text-align: right;\">\n",
       "      <th></th>\n",
       "      <th>alcohol</th>\n",
       "      <th>malic_acid</th>\n",
       "      <th>ash</th>\n",
       "      <th>alcalinity_of_ash</th>\n",
       "      <th>...</th>\n",
       "      <th>hue</th>\n",
       "      <th>od280/od315_of_diluted_wines</th>\n",
       "      <th>proline</th>\n",
       "      <th>class</th>\n",
       "    </tr>\n",
       "  </thead>\n",
       "  <tbody>\n",
       "    <tr>\n",
       "      <th>0</th>\n",
       "      <td>14.23</td>\n",
       "      <td>1.71</td>\n",
       "      <td>2.43</td>\n",
       "      <td>15.6</td>\n",
       "      <td>...</td>\n",
       "      <td>1.04</td>\n",
       "      <td>3.92</td>\n",
       "      <td>1065.0</td>\n",
       "      <td>class_0</td>\n",
       "    </tr>\n",
       "    <tr>\n",
       "      <th>1</th>\n",
       "      <td>13.20</td>\n",
       "      <td>1.78</td>\n",
       "      <td>2.14</td>\n",
       "      <td>11.2</td>\n",
       "      <td>...</td>\n",
       "      <td>1.05</td>\n",
       "      <td>3.40</td>\n",
       "      <td>1050.0</td>\n",
       "      <td>class_0</td>\n",
       "    </tr>\n",
       "    <tr>\n",
       "      <th>2</th>\n",
       "      <td>13.16</td>\n",
       "      <td>2.36</td>\n",
       "      <td>2.67</td>\n",
       "      <td>18.6</td>\n",
       "      <td>...</td>\n",
       "      <td>1.03</td>\n",
       "      <td>3.17</td>\n",
       "      <td>1185.0</td>\n",
       "      <td>class_0</td>\n",
       "    </tr>\n",
       "    <tr>\n",
       "      <th>3</th>\n",
       "      <td>14.37</td>\n",
       "      <td>1.95</td>\n",
       "      <td>2.50</td>\n",
       "      <td>16.8</td>\n",
       "      <td>...</td>\n",
       "      <td>0.86</td>\n",
       "      <td>3.45</td>\n",
       "      <td>1480.0</td>\n",
       "      <td>class_0</td>\n",
       "    </tr>\n",
       "    <tr>\n",
       "      <th>4</th>\n",
       "      <td>13.24</td>\n",
       "      <td>2.59</td>\n",
       "      <td>2.87</td>\n",
       "      <td>21.0</td>\n",
       "      <td>...</td>\n",
       "      <td>1.04</td>\n",
       "      <td>2.93</td>\n",
       "      <td>735.0</td>\n",
       "      <td>class_0</td>\n",
       "    </tr>\n",
       "  </tbody>\n",
       "</table>\n",
       "<p>5 rows × 14 columns</p>\n",
       "</div>"
      ],
      "text/plain": [
       "   alcohol  malic_acid   ash  alcalinity_of_ash  ...   hue  \\\n",
       "0    14.23        1.71  2.43               15.6  ...  1.04   \n",
       "1    13.20        1.78  2.14               11.2  ...  1.05   \n",
       "2    13.16        2.36  2.67               18.6  ...  1.03   \n",
       "3    14.37        1.95  2.50               16.8  ...  0.86   \n",
       "4    13.24        2.59  2.87               21.0  ...  1.04   \n",
       "\n",
       "   od280/od315_of_diluted_wines  proline    class  \n",
       "0                          3.92   1065.0  class_0  \n",
       "1                          3.40   1050.0  class_0  \n",
       "2                          3.17   1185.0  class_0  \n",
       "3                          3.45   1480.0  class_0  \n",
       "4                          2.93    735.0  class_0  \n",
       "\n",
       "[5 rows x 14 columns]"
      ]
     },
     "execution_count": 22,
     "metadata": {},
     "output_type": "execute_result"
    }
   ],
   "source": [
    "df = pd.DataFrame(wine.data, columns=wine.feature_names)\n",
    "df['class'] = wine.target_names[wine.target]\n",
    "print(df.shape)\n",
    "df.head()"
   ]
  },
  {
   "cell_type": "code",
   "execution_count": 23,
   "metadata": {},
   "outputs": [
    {
     "data": {
      "application/vnd.plotly.v1+json": {
       "config": {
        "plotlyServerURL": "https://plot.ly"
       },
       "data": [
        {
         "alignmentgroup": "True",
         "hovertemplate": "variable=%{x}<br>value=%{y}<extra></extra>",
         "legendgroup": "",
         "marker": {
          "color": "#636efa"
         },
         "name": "",
         "notched": false,
         "offsetgroup": "",
         "orientation": "v",
         "showlegend": false,
         "type": "box",
         "x": [
          "alcohol",
          "alcohol",
          "alcohol",
          "alcohol",
          "alcohol",
          "alcohol",
          "alcohol",
          "alcohol",
          "alcohol",
          "alcohol",
          "alcohol",
          "alcohol",
          "alcohol",
          "alcohol",
          "alcohol",
          "alcohol",
          "alcohol",
          "alcohol",
          "alcohol",
          "alcohol",
          "alcohol",
          "alcohol",
          "alcohol",
          "alcohol",
          "alcohol",
          "alcohol",
          "alcohol",
          "alcohol",
          "alcohol",
          "alcohol",
          "alcohol",
          "alcohol",
          "alcohol",
          "alcohol",
          "alcohol",
          "alcohol",
          "alcohol",
          "alcohol",
          "alcohol",
          "alcohol",
          "alcohol",
          "alcohol",
          "alcohol",
          "alcohol",
          "alcohol",
          "alcohol",
          "alcohol",
          "alcohol",
          "alcohol",
          "alcohol",
          "alcohol",
          "alcohol",
          "alcohol",
          "alcohol",
          "alcohol",
          "alcohol",
          "alcohol",
          "alcohol",
          "alcohol",
          "alcohol",
          "alcohol",
          "alcohol",
          "alcohol",
          "alcohol",
          "alcohol",
          "alcohol",
          "alcohol",
          "alcohol",
          "alcohol",
          "alcohol",
          "alcohol",
          "alcohol",
          "alcohol",
          "alcohol",
          "alcohol",
          "alcohol",
          "alcohol",
          "alcohol",
          "alcohol",
          "alcohol",
          "alcohol",
          "alcohol",
          "alcohol",
          "alcohol",
          "alcohol",
          "alcohol",
          "alcohol",
          "alcohol",
          "alcohol",
          "alcohol",
          "alcohol",
          "alcohol",
          "alcohol",
          "alcohol",
          "alcohol",
          "alcohol",
          "alcohol",
          "alcohol",
          "alcohol",
          "alcohol",
          "alcohol",
          "alcohol",
          "alcohol",
          "alcohol",
          "alcohol",
          "alcohol",
          "alcohol",
          "alcohol",
          "alcohol",
          "alcohol",
          "alcohol",
          "alcohol",
          "alcohol",
          "alcohol",
          "alcohol",
          "alcohol",
          "alcohol",
          "alcohol",
          "alcohol",
          "alcohol",
          "alcohol",
          "alcohol",
          "alcohol",
          "alcohol",
          "alcohol",
          "alcohol",
          "alcohol",
          "alcohol",
          "alcohol",
          "alcohol",
          "alcohol",
          "alcohol",
          "alcohol",
          "alcohol",
          "alcohol",
          "alcohol",
          "alcohol",
          "alcohol",
          "alcohol",
          "alcohol",
          "alcohol",
          "alcohol",
          "alcohol",
          "alcohol",
          "alcohol",
          "alcohol",
          "alcohol",
          "alcohol",
          "alcohol",
          "alcohol",
          "alcohol",
          "alcohol",
          "alcohol",
          "alcohol",
          "alcohol",
          "alcohol",
          "alcohol",
          "alcohol",
          "alcohol",
          "alcohol",
          "alcohol",
          "alcohol",
          "alcohol",
          "alcohol",
          "alcohol",
          "alcohol",
          "alcohol",
          "alcohol",
          "alcohol",
          "alcohol",
          "alcohol",
          "alcohol",
          "alcohol",
          "alcohol",
          "alcohol",
          "alcohol",
          "alcohol",
          "alcohol",
          "malic_acid",
          "malic_acid",
          "malic_acid",
          "malic_acid",
          "malic_acid",
          "malic_acid",
          "malic_acid",
          "malic_acid",
          "malic_acid",
          "malic_acid",
          "malic_acid",
          "malic_acid",
          "malic_acid",
          "malic_acid",
          "malic_acid",
          "malic_acid",
          "malic_acid",
          "malic_acid",
          "malic_acid",
          "malic_acid",
          "malic_acid",
          "malic_acid",
          "malic_acid",
          "malic_acid",
          "malic_acid",
          "malic_acid",
          "malic_acid",
          "malic_acid",
          "malic_acid",
          "malic_acid",
          "malic_acid",
          "malic_acid",
          "malic_acid",
          "malic_acid",
          "malic_acid",
          "malic_acid",
          "malic_acid",
          "malic_acid",
          "malic_acid",
          "malic_acid",
          "malic_acid",
          "malic_acid",
          "malic_acid",
          "malic_acid",
          "malic_acid",
          "malic_acid",
          "malic_acid",
          "malic_acid",
          "malic_acid",
          "malic_acid",
          "malic_acid",
          "malic_acid",
          "malic_acid",
          "malic_acid",
          "malic_acid",
          "malic_acid",
          "malic_acid",
          "malic_acid",
          "malic_acid",
          "malic_acid",
          "malic_acid",
          "malic_acid",
          "malic_acid",
          "malic_acid",
          "malic_acid",
          "malic_acid",
          "malic_acid",
          "malic_acid",
          "malic_acid",
          "malic_acid",
          "malic_acid",
          "malic_acid",
          "malic_acid",
          "malic_acid",
          "malic_acid",
          "malic_acid",
          "malic_acid",
          "malic_acid",
          "malic_acid",
          "malic_acid",
          "malic_acid",
          "malic_acid",
          "malic_acid",
          "malic_acid",
          "malic_acid",
          "malic_acid",
          "malic_acid",
          "malic_acid",
          "malic_acid",
          "malic_acid",
          "malic_acid",
          "malic_acid",
          "malic_acid",
          "malic_acid",
          "malic_acid",
          "malic_acid",
          "malic_acid",
          "malic_acid",
          "malic_acid",
          "malic_acid",
          "malic_acid",
          "malic_acid",
          "malic_acid",
          "malic_acid",
          "malic_acid",
          "malic_acid",
          "malic_acid",
          "malic_acid",
          "malic_acid",
          "malic_acid",
          "malic_acid",
          "malic_acid",
          "malic_acid",
          "malic_acid",
          "malic_acid",
          "malic_acid",
          "malic_acid",
          "malic_acid",
          "malic_acid",
          "malic_acid",
          "malic_acid",
          "malic_acid",
          "malic_acid",
          "malic_acid",
          "malic_acid",
          "malic_acid",
          "malic_acid",
          "malic_acid",
          "malic_acid",
          "malic_acid",
          "malic_acid",
          "malic_acid",
          "malic_acid",
          "malic_acid",
          "malic_acid",
          "malic_acid",
          "malic_acid",
          "malic_acid",
          "malic_acid",
          "malic_acid",
          "malic_acid",
          "malic_acid",
          "malic_acid",
          "malic_acid",
          "malic_acid",
          "malic_acid",
          "malic_acid",
          "malic_acid",
          "malic_acid",
          "malic_acid",
          "malic_acid",
          "malic_acid",
          "malic_acid",
          "malic_acid",
          "malic_acid",
          "malic_acid",
          "malic_acid",
          "malic_acid",
          "malic_acid",
          "malic_acid",
          "malic_acid",
          "malic_acid",
          "malic_acid",
          "malic_acid",
          "malic_acid",
          "malic_acid",
          "malic_acid",
          "malic_acid",
          "malic_acid",
          "malic_acid",
          "malic_acid",
          "malic_acid",
          "malic_acid",
          "malic_acid",
          "malic_acid",
          "malic_acid",
          "malic_acid",
          "malic_acid",
          "ash",
          "ash",
          "ash",
          "ash",
          "ash",
          "ash",
          "ash",
          "ash",
          "ash",
          "ash",
          "ash",
          "ash",
          "ash",
          "ash",
          "ash",
          "ash",
          "ash",
          "ash",
          "ash",
          "ash",
          "ash",
          "ash",
          "ash",
          "ash",
          "ash",
          "ash",
          "ash",
          "ash",
          "ash",
          "ash",
          "ash",
          "ash",
          "ash",
          "ash",
          "ash",
          "ash",
          "ash",
          "ash",
          "ash",
          "ash",
          "ash",
          "ash",
          "ash",
          "ash",
          "ash",
          "ash",
          "ash",
          "ash",
          "ash",
          "ash",
          "ash",
          "ash",
          "ash",
          "ash",
          "ash",
          "ash",
          "ash",
          "ash",
          "ash",
          "ash",
          "ash",
          "ash",
          "ash",
          "ash",
          "ash",
          "ash",
          "ash",
          "ash",
          "ash",
          "ash",
          "ash",
          "ash",
          "ash",
          "ash",
          "ash",
          "ash",
          "ash",
          "ash",
          "ash",
          "ash",
          "ash",
          "ash",
          "ash",
          "ash",
          "ash",
          "ash",
          "ash",
          "ash",
          "ash",
          "ash",
          "ash",
          "ash",
          "ash",
          "ash",
          "ash",
          "ash",
          "ash",
          "ash",
          "ash",
          "ash",
          "ash",
          "ash",
          "ash",
          "ash",
          "ash",
          "ash",
          "ash",
          "ash",
          "ash",
          "ash",
          "ash",
          "ash",
          "ash",
          "ash",
          "ash",
          "ash",
          "ash",
          "ash",
          "ash",
          "ash",
          "ash",
          "ash",
          "ash",
          "ash",
          "ash",
          "ash",
          "ash",
          "ash",
          "ash",
          "ash",
          "ash",
          "ash",
          "ash",
          "ash",
          "ash",
          "ash",
          "ash",
          "ash",
          "ash",
          "ash",
          "ash",
          "ash",
          "ash",
          "ash",
          "ash",
          "ash",
          "ash",
          "ash",
          "ash",
          "ash",
          "ash",
          "ash",
          "ash",
          "ash",
          "ash",
          "ash",
          "ash",
          "ash",
          "ash",
          "ash",
          "ash",
          "ash",
          "ash",
          "ash",
          "ash",
          "ash",
          "ash",
          "ash",
          "ash",
          "ash",
          "ash",
          "ash",
          "ash",
          "ash",
          "ash",
          "ash",
          "ash",
          "ash",
          "alcalinity_of_ash",
          "alcalinity_of_ash",
          "alcalinity_of_ash",
          "alcalinity_of_ash",
          "alcalinity_of_ash",
          "alcalinity_of_ash",
          "alcalinity_of_ash",
          "alcalinity_of_ash",
          "alcalinity_of_ash",
          "alcalinity_of_ash",
          "alcalinity_of_ash",
          "alcalinity_of_ash",
          "alcalinity_of_ash",
          "alcalinity_of_ash",
          "alcalinity_of_ash",
          "alcalinity_of_ash",
          "alcalinity_of_ash",
          "alcalinity_of_ash",
          "alcalinity_of_ash",
          "alcalinity_of_ash",
          "alcalinity_of_ash",
          "alcalinity_of_ash",
          "alcalinity_of_ash",
          "alcalinity_of_ash",
          "alcalinity_of_ash",
          "alcalinity_of_ash",
          "alcalinity_of_ash",
          "alcalinity_of_ash",
          "alcalinity_of_ash",
          "alcalinity_of_ash",
          "alcalinity_of_ash",
          "alcalinity_of_ash",
          "alcalinity_of_ash",
          "alcalinity_of_ash",
          "alcalinity_of_ash",
          "alcalinity_of_ash",
          "alcalinity_of_ash",
          "alcalinity_of_ash",
          "alcalinity_of_ash",
          "alcalinity_of_ash",
          "alcalinity_of_ash",
          "alcalinity_of_ash",
          "alcalinity_of_ash",
          "alcalinity_of_ash",
          "alcalinity_of_ash",
          "alcalinity_of_ash",
          "alcalinity_of_ash",
          "alcalinity_of_ash",
          "alcalinity_of_ash",
          "alcalinity_of_ash",
          "alcalinity_of_ash",
          "alcalinity_of_ash",
          "alcalinity_of_ash",
          "alcalinity_of_ash",
          "alcalinity_of_ash",
          "alcalinity_of_ash",
          "alcalinity_of_ash",
          "alcalinity_of_ash",
          "alcalinity_of_ash",
          "alcalinity_of_ash",
          "alcalinity_of_ash",
          "alcalinity_of_ash",
          "alcalinity_of_ash",
          "alcalinity_of_ash",
          "alcalinity_of_ash",
          "alcalinity_of_ash",
          "alcalinity_of_ash",
          "alcalinity_of_ash",
          "alcalinity_of_ash",
          "alcalinity_of_ash",
          "alcalinity_of_ash",
          "alcalinity_of_ash",
          "alcalinity_of_ash",
          "alcalinity_of_ash",
          "alcalinity_of_ash",
          "alcalinity_of_ash",
          "alcalinity_of_ash",
          "alcalinity_of_ash",
          "alcalinity_of_ash",
          "alcalinity_of_ash",
          "alcalinity_of_ash",
          "alcalinity_of_ash",
          "alcalinity_of_ash",
          "alcalinity_of_ash",
          "alcalinity_of_ash",
          "alcalinity_of_ash",
          "alcalinity_of_ash",
          "alcalinity_of_ash",
          "alcalinity_of_ash",
          "alcalinity_of_ash",
          "alcalinity_of_ash",
          "alcalinity_of_ash",
          "alcalinity_of_ash",
          "alcalinity_of_ash",
          "alcalinity_of_ash",
          "alcalinity_of_ash",
          "alcalinity_of_ash",
          "alcalinity_of_ash",
          "alcalinity_of_ash",
          "alcalinity_of_ash",
          "alcalinity_of_ash",
          "alcalinity_of_ash",
          "alcalinity_of_ash",
          "alcalinity_of_ash",
          "alcalinity_of_ash",
          "alcalinity_of_ash",
          "alcalinity_of_ash",
          "alcalinity_of_ash",
          "alcalinity_of_ash",
          "alcalinity_of_ash",
          "alcalinity_of_ash",
          "alcalinity_of_ash",
          "alcalinity_of_ash",
          "alcalinity_of_ash",
          "alcalinity_of_ash",
          "alcalinity_of_ash",
          "alcalinity_of_ash",
          "alcalinity_of_ash",
          "alcalinity_of_ash",
          "alcalinity_of_ash",
          "alcalinity_of_ash",
          "alcalinity_of_ash",
          "alcalinity_of_ash",
          "alcalinity_of_ash",
          "alcalinity_of_ash",
          "alcalinity_of_ash",
          "alcalinity_of_ash",
          "alcalinity_of_ash",
          "alcalinity_of_ash",
          "alcalinity_of_ash",
          "alcalinity_of_ash",
          "alcalinity_of_ash",
          "alcalinity_of_ash",
          "alcalinity_of_ash",
          "alcalinity_of_ash",
          "alcalinity_of_ash",
          "alcalinity_of_ash",
          "alcalinity_of_ash",
          "alcalinity_of_ash",
          "alcalinity_of_ash",
          "alcalinity_of_ash",
          "alcalinity_of_ash",
          "alcalinity_of_ash",
          "alcalinity_of_ash",
          "alcalinity_of_ash",
          "alcalinity_of_ash",
          "alcalinity_of_ash",
          "alcalinity_of_ash",
          "alcalinity_of_ash",
          "alcalinity_of_ash",
          "alcalinity_of_ash",
          "alcalinity_of_ash",
          "alcalinity_of_ash",
          "alcalinity_of_ash",
          "alcalinity_of_ash",
          "alcalinity_of_ash",
          "alcalinity_of_ash",
          "alcalinity_of_ash",
          "alcalinity_of_ash",
          "alcalinity_of_ash",
          "alcalinity_of_ash",
          "alcalinity_of_ash",
          "alcalinity_of_ash",
          "alcalinity_of_ash",
          "alcalinity_of_ash",
          "alcalinity_of_ash",
          "alcalinity_of_ash",
          "alcalinity_of_ash",
          "alcalinity_of_ash",
          "alcalinity_of_ash",
          "alcalinity_of_ash",
          "alcalinity_of_ash",
          "alcalinity_of_ash",
          "alcalinity_of_ash",
          "alcalinity_of_ash",
          "alcalinity_of_ash",
          "alcalinity_of_ash",
          "alcalinity_of_ash",
          "magnesium",
          "magnesium",
          "magnesium",
          "magnesium",
          "magnesium",
          "magnesium",
          "magnesium",
          "magnesium",
          "magnesium",
          "magnesium",
          "magnesium",
          "magnesium",
          "magnesium",
          "magnesium",
          "magnesium",
          "magnesium",
          "magnesium",
          "magnesium",
          "magnesium",
          "magnesium",
          "magnesium",
          "magnesium",
          "magnesium",
          "magnesium",
          "magnesium",
          "magnesium",
          "magnesium",
          "magnesium",
          "magnesium",
          "magnesium",
          "magnesium",
          "magnesium",
          "magnesium",
          "magnesium",
          "magnesium",
          "magnesium",
          "magnesium",
          "magnesium",
          "magnesium",
          "magnesium",
          "magnesium",
          "magnesium",
          "magnesium",
          "magnesium",
          "magnesium",
          "magnesium",
          "magnesium",
          "magnesium",
          "magnesium",
          "magnesium",
          "magnesium",
          "magnesium",
          "magnesium",
          "magnesium",
          "magnesium",
          "magnesium",
          "magnesium",
          "magnesium",
          "magnesium",
          "magnesium",
          "magnesium",
          "magnesium",
          "magnesium",
          "magnesium",
          "magnesium",
          "magnesium",
          "magnesium",
          "magnesium",
          "magnesium",
          "magnesium",
          "magnesium",
          "magnesium",
          "magnesium",
          "magnesium",
          "magnesium",
          "magnesium",
          "magnesium",
          "magnesium",
          "magnesium",
          "magnesium",
          "magnesium",
          "magnesium",
          "magnesium",
          "magnesium",
          "magnesium",
          "magnesium",
          "magnesium",
          "magnesium",
          "magnesium",
          "magnesium",
          "magnesium",
          "magnesium",
          "magnesium",
          "magnesium",
          "magnesium",
          "magnesium",
          "magnesium",
          "magnesium",
          "magnesium",
          "magnesium",
          "magnesium",
          "magnesium",
          "magnesium",
          "magnesium",
          "magnesium",
          "magnesium",
          "magnesium",
          "magnesium",
          "magnesium",
          "magnesium",
          "magnesium",
          "magnesium",
          "magnesium",
          "magnesium",
          "magnesium",
          "magnesium",
          "magnesium",
          "magnesium",
          "magnesium",
          "magnesium",
          "magnesium",
          "magnesium",
          "magnesium",
          "magnesium",
          "magnesium",
          "magnesium",
          "magnesium",
          "magnesium",
          "magnesium",
          "magnesium",
          "magnesium",
          "magnesium",
          "magnesium",
          "magnesium",
          "magnesium",
          "magnesium",
          "magnesium",
          "magnesium",
          "magnesium",
          "magnesium",
          "magnesium",
          "magnesium",
          "magnesium",
          "magnesium",
          "magnesium",
          "magnesium",
          "magnesium",
          "magnesium",
          "magnesium",
          "magnesium",
          "magnesium",
          "magnesium",
          "magnesium",
          "magnesium",
          "magnesium",
          "magnesium",
          "magnesium",
          "magnesium",
          "magnesium",
          "magnesium",
          "magnesium",
          "magnesium",
          "magnesium",
          "magnesium",
          "magnesium",
          "magnesium",
          "magnesium",
          "magnesium",
          "magnesium",
          "magnesium",
          "magnesium",
          "magnesium",
          "magnesium",
          "magnesium",
          "magnesium",
          "magnesium",
          "magnesium",
          "magnesium",
          "total_phenols",
          "total_phenols",
          "total_phenols",
          "total_phenols",
          "total_phenols",
          "total_phenols",
          "total_phenols",
          "total_phenols",
          "total_phenols",
          "total_phenols",
          "total_phenols",
          "total_phenols",
          "total_phenols",
          "total_phenols",
          "total_phenols",
          "total_phenols",
          "total_phenols",
          "total_phenols",
          "total_phenols",
          "total_phenols",
          "total_phenols",
          "total_phenols",
          "total_phenols",
          "total_phenols",
          "total_phenols",
          "total_phenols",
          "total_phenols",
          "total_phenols",
          "total_phenols",
          "total_phenols",
          "total_phenols",
          "total_phenols",
          "total_phenols",
          "total_phenols",
          "total_phenols",
          "total_phenols",
          "total_phenols",
          "total_phenols",
          "total_phenols",
          "total_phenols",
          "total_phenols",
          "total_phenols",
          "total_phenols",
          "total_phenols",
          "total_phenols",
          "total_phenols",
          "total_phenols",
          "total_phenols",
          "total_phenols",
          "total_phenols",
          "total_phenols",
          "total_phenols",
          "total_phenols",
          "total_phenols",
          "total_phenols",
          "total_phenols",
          "total_phenols",
          "total_phenols",
          "total_phenols",
          "total_phenols",
          "total_phenols",
          "total_phenols",
          "total_phenols",
          "total_phenols",
          "total_phenols",
          "total_phenols",
          "total_phenols",
          "total_phenols",
          "total_phenols",
          "total_phenols",
          "total_phenols",
          "total_phenols",
          "total_phenols",
          "total_phenols",
          "total_phenols",
          "total_phenols",
          "total_phenols",
          "total_phenols",
          "total_phenols",
          "total_phenols",
          "total_phenols",
          "total_phenols",
          "total_phenols",
          "total_phenols",
          "total_phenols",
          "total_phenols",
          "total_phenols",
          "total_phenols",
          "total_phenols",
          "total_phenols",
          "total_phenols",
          "total_phenols",
          "total_phenols",
          "total_phenols",
          "total_phenols",
          "total_phenols",
          "total_phenols",
          "total_phenols",
          "total_phenols",
          "total_phenols",
          "total_phenols",
          "total_phenols",
          "total_phenols",
          "total_phenols",
          "total_phenols",
          "total_phenols",
          "total_phenols",
          "total_phenols",
          "total_phenols",
          "total_phenols",
          "total_phenols",
          "total_phenols",
          "total_phenols",
          "total_phenols",
          "total_phenols",
          "total_phenols",
          "total_phenols",
          "total_phenols",
          "total_phenols",
          "total_phenols",
          "total_phenols",
          "total_phenols",
          "total_phenols",
          "total_phenols",
          "total_phenols",
          "total_phenols",
          "total_phenols",
          "total_phenols",
          "total_phenols",
          "total_phenols",
          "total_phenols",
          "total_phenols",
          "total_phenols",
          "total_phenols",
          "total_phenols",
          "total_phenols",
          "total_phenols",
          "total_phenols",
          "total_phenols",
          "total_phenols",
          "total_phenols",
          "total_phenols",
          "total_phenols",
          "total_phenols",
          "total_phenols",
          "total_phenols",
          "total_phenols",
          "total_phenols",
          "total_phenols",
          "total_phenols",
          "total_phenols",
          "total_phenols",
          "total_phenols",
          "total_phenols",
          "total_phenols",
          "total_phenols",
          "total_phenols",
          "total_phenols",
          "total_phenols",
          "total_phenols",
          "total_phenols",
          "total_phenols",
          "total_phenols",
          "total_phenols",
          "total_phenols",
          "total_phenols",
          "total_phenols",
          "total_phenols",
          "total_phenols",
          "total_phenols",
          "total_phenols",
          "total_phenols",
          "total_phenols",
          "total_phenols",
          "total_phenols",
          "total_phenols",
          "total_phenols",
          "total_phenols",
          "flavanoids",
          "flavanoids",
          "flavanoids",
          "flavanoids",
          "flavanoids",
          "flavanoids",
          "flavanoids",
          "flavanoids",
          "flavanoids",
          "flavanoids",
          "flavanoids",
          "flavanoids",
          "flavanoids",
          "flavanoids",
          "flavanoids",
          "flavanoids",
          "flavanoids",
          "flavanoids",
          "flavanoids",
          "flavanoids",
          "flavanoids",
          "flavanoids",
          "flavanoids",
          "flavanoids",
          "flavanoids",
          "flavanoids",
          "flavanoids",
          "flavanoids",
          "flavanoids",
          "flavanoids",
          "flavanoids",
          "flavanoids",
          "flavanoids",
          "flavanoids",
          "flavanoids",
          "flavanoids",
          "flavanoids",
          "flavanoids",
          "flavanoids",
          "flavanoids",
          "flavanoids",
          "flavanoids",
          "flavanoids",
          "flavanoids",
          "flavanoids",
          "flavanoids",
          "flavanoids",
          "flavanoids",
          "flavanoids",
          "flavanoids",
          "flavanoids",
          "flavanoids",
          "flavanoids",
          "flavanoids",
          "flavanoids",
          "flavanoids",
          "flavanoids",
          "flavanoids",
          "flavanoids",
          "flavanoids",
          "flavanoids",
          "flavanoids",
          "flavanoids",
          "flavanoids",
          "flavanoids",
          "flavanoids",
          "flavanoids",
          "flavanoids",
          "flavanoids",
          "flavanoids",
          "flavanoids",
          "flavanoids",
          "flavanoids",
          "flavanoids",
          "flavanoids",
          "flavanoids",
          "flavanoids",
          "flavanoids",
          "flavanoids",
          "flavanoids",
          "flavanoids",
          "flavanoids",
          "flavanoids",
          "flavanoids",
          "flavanoids",
          "flavanoids",
          "flavanoids",
          "flavanoids",
          "flavanoids",
          "flavanoids",
          "flavanoids",
          "flavanoids",
          "flavanoids",
          "flavanoids",
          "flavanoids",
          "flavanoids",
          "flavanoids",
          "flavanoids",
          "flavanoids",
          "flavanoids",
          "flavanoids",
          "flavanoids",
          "flavanoids",
          "flavanoids",
          "flavanoids",
          "flavanoids",
          "flavanoids",
          "flavanoids",
          "flavanoids",
          "flavanoids",
          "flavanoids",
          "flavanoids",
          "flavanoids",
          "flavanoids",
          "flavanoids",
          "flavanoids",
          "flavanoids",
          "flavanoids",
          "flavanoids",
          "flavanoids",
          "flavanoids",
          "flavanoids",
          "flavanoids",
          "flavanoids",
          "flavanoids",
          "flavanoids",
          "flavanoids",
          "flavanoids",
          "flavanoids",
          "flavanoids",
          "flavanoids",
          "flavanoids",
          "flavanoids",
          "flavanoids",
          "flavanoids",
          "flavanoids",
          "flavanoids",
          "flavanoids",
          "flavanoids",
          "flavanoids",
          "flavanoids",
          "flavanoids",
          "flavanoids",
          "flavanoids",
          "flavanoids",
          "flavanoids",
          "flavanoids",
          "flavanoids",
          "flavanoids",
          "flavanoids",
          "flavanoids",
          "flavanoids",
          "flavanoids",
          "flavanoids",
          "flavanoids",
          "flavanoids",
          "flavanoids",
          "flavanoids",
          "flavanoids",
          "flavanoids",
          "flavanoids",
          "flavanoids",
          "flavanoids",
          "flavanoids",
          "flavanoids",
          "flavanoids",
          "flavanoids",
          "flavanoids",
          "flavanoids",
          "flavanoids",
          "flavanoids",
          "flavanoids",
          "flavanoids",
          "flavanoids",
          "flavanoids",
          "flavanoids",
          "flavanoids",
          "flavanoids",
          "nonflavanoid_phenols",
          "nonflavanoid_phenols",
          "nonflavanoid_phenols",
          "nonflavanoid_phenols",
          "nonflavanoid_phenols",
          "nonflavanoid_phenols",
          "nonflavanoid_phenols",
          "nonflavanoid_phenols",
          "nonflavanoid_phenols",
          "nonflavanoid_phenols",
          "nonflavanoid_phenols",
          "nonflavanoid_phenols",
          "nonflavanoid_phenols",
          "nonflavanoid_phenols",
          "nonflavanoid_phenols",
          "nonflavanoid_phenols",
          "nonflavanoid_phenols",
          "nonflavanoid_phenols",
          "nonflavanoid_phenols",
          "nonflavanoid_phenols",
          "nonflavanoid_phenols",
          "nonflavanoid_phenols",
          "nonflavanoid_phenols",
          "nonflavanoid_phenols",
          "nonflavanoid_phenols",
          "nonflavanoid_phenols",
          "nonflavanoid_phenols",
          "nonflavanoid_phenols",
          "nonflavanoid_phenols",
          "nonflavanoid_phenols",
          "nonflavanoid_phenols",
          "nonflavanoid_phenols",
          "nonflavanoid_phenols",
          "nonflavanoid_phenols",
          "nonflavanoid_phenols",
          "nonflavanoid_phenols",
          "nonflavanoid_phenols",
          "nonflavanoid_phenols",
          "nonflavanoid_phenols",
          "nonflavanoid_phenols",
          "nonflavanoid_phenols",
          "nonflavanoid_phenols",
          "nonflavanoid_phenols",
          "nonflavanoid_phenols",
          "nonflavanoid_phenols",
          "nonflavanoid_phenols",
          "nonflavanoid_phenols",
          "nonflavanoid_phenols",
          "nonflavanoid_phenols",
          "nonflavanoid_phenols",
          "nonflavanoid_phenols",
          "nonflavanoid_phenols",
          "nonflavanoid_phenols",
          "nonflavanoid_phenols",
          "nonflavanoid_phenols",
          "nonflavanoid_phenols",
          "nonflavanoid_phenols",
          "nonflavanoid_phenols",
          "nonflavanoid_phenols",
          "nonflavanoid_phenols",
          "nonflavanoid_phenols",
          "nonflavanoid_phenols",
          "nonflavanoid_phenols",
          "nonflavanoid_phenols",
          "nonflavanoid_phenols",
          "nonflavanoid_phenols",
          "nonflavanoid_phenols",
          "nonflavanoid_phenols",
          "nonflavanoid_phenols",
          "nonflavanoid_phenols",
          "nonflavanoid_phenols",
          "nonflavanoid_phenols",
          "nonflavanoid_phenols",
          "nonflavanoid_phenols",
          "nonflavanoid_phenols",
          "nonflavanoid_phenols",
          "nonflavanoid_phenols",
          "nonflavanoid_phenols",
          "nonflavanoid_phenols",
          "nonflavanoid_phenols",
          "nonflavanoid_phenols",
          "nonflavanoid_phenols",
          "nonflavanoid_phenols",
          "nonflavanoid_phenols",
          "nonflavanoid_phenols",
          "nonflavanoid_phenols",
          "nonflavanoid_phenols",
          "nonflavanoid_phenols",
          "nonflavanoid_phenols",
          "nonflavanoid_phenols",
          "nonflavanoid_phenols",
          "nonflavanoid_phenols",
          "nonflavanoid_phenols",
          "nonflavanoid_phenols",
          "nonflavanoid_phenols",
          "nonflavanoid_phenols",
          "nonflavanoid_phenols",
          "nonflavanoid_phenols",
          "nonflavanoid_phenols",
          "nonflavanoid_phenols",
          "nonflavanoid_phenols",
          "nonflavanoid_phenols",
          "nonflavanoid_phenols",
          "nonflavanoid_phenols",
          "nonflavanoid_phenols",
          "nonflavanoid_phenols",
          "nonflavanoid_phenols",
          "nonflavanoid_phenols",
          "nonflavanoid_phenols",
          "nonflavanoid_phenols",
          "nonflavanoid_phenols",
          "nonflavanoid_phenols",
          "nonflavanoid_phenols",
          "nonflavanoid_phenols",
          "nonflavanoid_phenols",
          "nonflavanoid_phenols",
          "nonflavanoid_phenols",
          "nonflavanoid_phenols",
          "nonflavanoid_phenols",
          "nonflavanoid_phenols",
          "nonflavanoid_phenols",
          "nonflavanoid_phenols",
          "nonflavanoid_phenols",
          "nonflavanoid_phenols",
          "nonflavanoid_phenols",
          "nonflavanoid_phenols",
          "nonflavanoid_phenols",
          "nonflavanoid_phenols",
          "nonflavanoid_phenols",
          "nonflavanoid_phenols",
          "nonflavanoid_phenols",
          "nonflavanoid_phenols",
          "nonflavanoid_phenols",
          "nonflavanoid_phenols",
          "nonflavanoid_phenols",
          "nonflavanoid_phenols",
          "nonflavanoid_phenols",
          "nonflavanoid_phenols",
          "nonflavanoid_phenols",
          "nonflavanoid_phenols",
          "nonflavanoid_phenols",
          "nonflavanoid_phenols",
          "nonflavanoid_phenols",
          "nonflavanoid_phenols",
          "nonflavanoid_phenols",
          "nonflavanoid_phenols",
          "nonflavanoid_phenols",
          "nonflavanoid_phenols",
          "nonflavanoid_phenols",
          "nonflavanoid_phenols",
          "nonflavanoid_phenols",
          "nonflavanoid_phenols",
          "nonflavanoid_phenols",
          "nonflavanoid_phenols",
          "nonflavanoid_phenols",
          "nonflavanoid_phenols",
          "nonflavanoid_phenols",
          "nonflavanoid_phenols",
          "nonflavanoid_phenols",
          "nonflavanoid_phenols",
          "nonflavanoid_phenols",
          "nonflavanoid_phenols",
          "nonflavanoid_phenols",
          "nonflavanoid_phenols",
          "nonflavanoid_phenols",
          "nonflavanoid_phenols",
          "nonflavanoid_phenols",
          "nonflavanoid_phenols",
          "nonflavanoid_phenols",
          "nonflavanoid_phenols",
          "nonflavanoid_phenols",
          "nonflavanoid_phenols",
          "nonflavanoid_phenols",
          "nonflavanoid_phenols",
          "nonflavanoid_phenols",
          "nonflavanoid_phenols",
          "nonflavanoid_phenols",
          "nonflavanoid_phenols",
          "proanthocyanins",
          "proanthocyanins",
          "proanthocyanins",
          "proanthocyanins",
          "proanthocyanins",
          "proanthocyanins",
          "proanthocyanins",
          "proanthocyanins",
          "proanthocyanins",
          "proanthocyanins",
          "proanthocyanins",
          "proanthocyanins",
          "proanthocyanins",
          "proanthocyanins",
          "proanthocyanins",
          "proanthocyanins",
          "proanthocyanins",
          "proanthocyanins",
          "proanthocyanins",
          "proanthocyanins",
          "proanthocyanins",
          "proanthocyanins",
          "proanthocyanins",
          "proanthocyanins",
          "proanthocyanins",
          "proanthocyanins",
          "proanthocyanins",
          "proanthocyanins",
          "proanthocyanins",
          "proanthocyanins",
          "proanthocyanins",
          "proanthocyanins",
          "proanthocyanins",
          "proanthocyanins",
          "proanthocyanins",
          "proanthocyanins",
          "proanthocyanins",
          "proanthocyanins",
          "proanthocyanins",
          "proanthocyanins",
          "proanthocyanins",
          "proanthocyanins",
          "proanthocyanins",
          "proanthocyanins",
          "proanthocyanins",
          "proanthocyanins",
          "proanthocyanins",
          "proanthocyanins",
          "proanthocyanins",
          "proanthocyanins",
          "proanthocyanins",
          "proanthocyanins",
          "proanthocyanins",
          "proanthocyanins",
          "proanthocyanins",
          "proanthocyanins",
          "proanthocyanins",
          "proanthocyanins",
          "proanthocyanins",
          "proanthocyanins",
          "proanthocyanins",
          "proanthocyanins",
          "proanthocyanins",
          "proanthocyanins",
          "proanthocyanins",
          "proanthocyanins",
          "proanthocyanins",
          "proanthocyanins",
          "proanthocyanins",
          "proanthocyanins",
          "proanthocyanins",
          "proanthocyanins",
          "proanthocyanins",
          "proanthocyanins",
          "proanthocyanins",
          "proanthocyanins",
          "proanthocyanins",
          "proanthocyanins",
          "proanthocyanins",
          "proanthocyanins",
          "proanthocyanins",
          "proanthocyanins",
          "proanthocyanins",
          "proanthocyanins",
          "proanthocyanins",
          "proanthocyanins",
          "proanthocyanins",
          "proanthocyanins",
          "proanthocyanins",
          "proanthocyanins",
          "proanthocyanins",
          "proanthocyanins",
          "proanthocyanins",
          "proanthocyanins",
          "proanthocyanins",
          "proanthocyanins",
          "proanthocyanins",
          "proanthocyanins",
          "proanthocyanins",
          "proanthocyanins",
          "proanthocyanins",
          "proanthocyanins",
          "proanthocyanins",
          "proanthocyanins",
          "proanthocyanins",
          "proanthocyanins",
          "proanthocyanins",
          "proanthocyanins",
          "proanthocyanins",
          "proanthocyanins",
          "proanthocyanins",
          "proanthocyanins",
          "proanthocyanins",
          "proanthocyanins",
          "proanthocyanins",
          "proanthocyanins",
          "proanthocyanins",
          "proanthocyanins",
          "proanthocyanins",
          "proanthocyanins",
          "proanthocyanins",
          "proanthocyanins",
          "proanthocyanins",
          "proanthocyanins",
          "proanthocyanins",
          "proanthocyanins",
          "proanthocyanins",
          "proanthocyanins",
          "proanthocyanins",
          "proanthocyanins",
          "proanthocyanins",
          "proanthocyanins",
          "proanthocyanins",
          "proanthocyanins",
          "proanthocyanins",
          "proanthocyanins",
          "proanthocyanins",
          "proanthocyanins",
          "proanthocyanins",
          "proanthocyanins",
          "proanthocyanins",
          "proanthocyanins",
          "proanthocyanins",
          "proanthocyanins",
          "proanthocyanins",
          "proanthocyanins",
          "proanthocyanins",
          "proanthocyanins",
          "proanthocyanins",
          "proanthocyanins",
          "proanthocyanins",
          "proanthocyanins",
          "proanthocyanins",
          "proanthocyanins",
          "proanthocyanins",
          "proanthocyanins",
          "proanthocyanins",
          "proanthocyanins",
          "proanthocyanins",
          "proanthocyanins",
          "proanthocyanins",
          "proanthocyanins",
          "proanthocyanins",
          "proanthocyanins",
          "proanthocyanins",
          "proanthocyanins",
          "proanthocyanins",
          "proanthocyanins",
          "proanthocyanins",
          "proanthocyanins",
          "proanthocyanins",
          "proanthocyanins",
          "proanthocyanins",
          "proanthocyanins",
          "proanthocyanins",
          "proanthocyanins",
          "proanthocyanins",
          "proanthocyanins",
          "color_intensity",
          "color_intensity",
          "color_intensity",
          "color_intensity",
          "color_intensity",
          "color_intensity",
          "color_intensity",
          "color_intensity",
          "color_intensity",
          "color_intensity",
          "color_intensity",
          "color_intensity",
          "color_intensity",
          "color_intensity",
          "color_intensity",
          "color_intensity",
          "color_intensity",
          "color_intensity",
          "color_intensity",
          "color_intensity",
          "color_intensity",
          "color_intensity",
          "color_intensity",
          "color_intensity",
          "color_intensity",
          "color_intensity",
          "color_intensity",
          "color_intensity",
          "color_intensity",
          "color_intensity",
          "color_intensity",
          "color_intensity",
          "color_intensity",
          "color_intensity",
          "color_intensity",
          "color_intensity",
          "color_intensity",
          "color_intensity",
          "color_intensity",
          "color_intensity",
          "color_intensity",
          "color_intensity",
          "color_intensity",
          "color_intensity",
          "color_intensity",
          "color_intensity",
          "color_intensity",
          "color_intensity",
          "color_intensity",
          "color_intensity",
          "color_intensity",
          "color_intensity",
          "color_intensity",
          "color_intensity",
          "color_intensity",
          "color_intensity",
          "color_intensity",
          "color_intensity",
          "color_intensity",
          "color_intensity",
          "color_intensity",
          "color_intensity",
          "color_intensity",
          "color_intensity",
          "color_intensity",
          "color_intensity",
          "color_intensity",
          "color_intensity",
          "color_intensity",
          "color_intensity",
          "color_intensity",
          "color_intensity",
          "color_intensity",
          "color_intensity",
          "color_intensity",
          "color_intensity",
          "color_intensity",
          "color_intensity",
          "color_intensity",
          "color_intensity",
          "color_intensity",
          "color_intensity",
          "color_intensity",
          "color_intensity",
          "color_intensity",
          "color_intensity",
          "color_intensity",
          "color_intensity",
          "color_intensity",
          "color_intensity",
          "color_intensity",
          "color_intensity",
          "color_intensity",
          "color_intensity",
          "color_intensity",
          "color_intensity",
          "color_intensity",
          "color_intensity",
          "color_intensity",
          "color_intensity",
          "color_intensity",
          "color_intensity",
          "color_intensity",
          "color_intensity",
          "color_intensity",
          "color_intensity",
          "color_intensity",
          "color_intensity",
          "color_intensity",
          "color_intensity",
          "color_intensity",
          "color_intensity",
          "color_intensity",
          "color_intensity",
          "color_intensity",
          "color_intensity",
          "color_intensity",
          "color_intensity",
          "color_intensity",
          "color_intensity",
          "color_intensity",
          "color_intensity",
          "color_intensity",
          "color_intensity",
          "color_intensity",
          "color_intensity",
          "color_intensity",
          "color_intensity",
          "color_intensity",
          "color_intensity",
          "color_intensity",
          "color_intensity",
          "color_intensity",
          "color_intensity",
          "color_intensity",
          "color_intensity",
          "color_intensity",
          "color_intensity",
          "color_intensity",
          "color_intensity",
          "color_intensity",
          "color_intensity",
          "color_intensity",
          "color_intensity",
          "color_intensity",
          "color_intensity",
          "color_intensity",
          "color_intensity",
          "color_intensity",
          "color_intensity",
          "color_intensity",
          "color_intensity",
          "color_intensity",
          "color_intensity",
          "color_intensity",
          "color_intensity",
          "color_intensity",
          "color_intensity",
          "color_intensity",
          "color_intensity",
          "color_intensity",
          "color_intensity",
          "color_intensity",
          "color_intensity",
          "color_intensity",
          "color_intensity",
          "color_intensity",
          "color_intensity",
          "color_intensity",
          "color_intensity",
          "color_intensity",
          "color_intensity",
          "color_intensity",
          "color_intensity",
          "color_intensity",
          "color_intensity",
          "color_intensity",
          "color_intensity",
          "hue",
          "hue",
          "hue",
          "hue",
          "hue",
          "hue",
          "hue",
          "hue",
          "hue",
          "hue",
          "hue",
          "hue",
          "hue",
          "hue",
          "hue",
          "hue",
          "hue",
          "hue",
          "hue",
          "hue",
          "hue",
          "hue",
          "hue",
          "hue",
          "hue",
          "hue",
          "hue",
          "hue",
          "hue",
          "hue",
          "hue",
          "hue",
          "hue",
          "hue",
          "hue",
          "hue",
          "hue",
          "hue",
          "hue",
          "hue",
          "hue",
          "hue",
          "hue",
          "hue",
          "hue",
          "hue",
          "hue",
          "hue",
          "hue",
          "hue",
          "hue",
          "hue",
          "hue",
          "hue",
          "hue",
          "hue",
          "hue",
          "hue",
          "hue",
          "hue",
          "hue",
          "hue",
          "hue",
          "hue",
          "hue",
          "hue",
          "hue",
          "hue",
          "hue",
          "hue",
          "hue",
          "hue",
          "hue",
          "hue",
          "hue",
          "hue",
          "hue",
          "hue",
          "hue",
          "hue",
          "hue",
          "hue",
          "hue",
          "hue",
          "hue",
          "hue",
          "hue",
          "hue",
          "hue",
          "hue",
          "hue",
          "hue",
          "hue",
          "hue",
          "hue",
          "hue",
          "hue",
          "hue",
          "hue",
          "hue",
          "hue",
          "hue",
          "hue",
          "hue",
          "hue",
          "hue",
          "hue",
          "hue",
          "hue",
          "hue",
          "hue",
          "hue",
          "hue",
          "hue",
          "hue",
          "hue",
          "hue",
          "hue",
          "hue",
          "hue",
          "hue",
          "hue",
          "hue",
          "hue",
          "hue",
          "hue",
          "hue",
          "hue",
          "hue",
          "hue",
          "hue",
          "hue",
          "hue",
          "hue",
          "hue",
          "hue",
          "hue",
          "hue",
          "hue",
          "hue",
          "hue",
          "hue",
          "hue",
          "hue",
          "hue",
          "hue",
          "hue",
          "hue",
          "hue",
          "hue",
          "hue",
          "hue",
          "hue",
          "hue",
          "hue",
          "hue",
          "hue",
          "hue",
          "hue",
          "hue",
          "hue",
          "hue",
          "hue",
          "hue",
          "hue",
          "hue",
          "hue",
          "hue",
          "hue",
          "hue",
          "hue",
          "hue",
          "hue",
          "hue",
          "hue",
          "hue",
          "hue",
          "hue",
          "od280/od315_of_diluted_wines",
          "od280/od315_of_diluted_wines",
          "od280/od315_of_diluted_wines",
          "od280/od315_of_diluted_wines",
          "od280/od315_of_diluted_wines",
          "od280/od315_of_diluted_wines",
          "od280/od315_of_diluted_wines",
          "od280/od315_of_diluted_wines",
          "od280/od315_of_diluted_wines",
          "od280/od315_of_diluted_wines",
          "od280/od315_of_diluted_wines",
          "od280/od315_of_diluted_wines",
          "od280/od315_of_diluted_wines",
          "od280/od315_of_diluted_wines",
          "od280/od315_of_diluted_wines",
          "od280/od315_of_diluted_wines",
          "od280/od315_of_diluted_wines",
          "od280/od315_of_diluted_wines",
          "od280/od315_of_diluted_wines",
          "od280/od315_of_diluted_wines",
          "od280/od315_of_diluted_wines",
          "od280/od315_of_diluted_wines",
          "od280/od315_of_diluted_wines",
          "od280/od315_of_diluted_wines",
          "od280/od315_of_diluted_wines",
          "od280/od315_of_diluted_wines",
          "od280/od315_of_diluted_wines",
          "od280/od315_of_diluted_wines",
          "od280/od315_of_diluted_wines",
          "od280/od315_of_diluted_wines",
          "od280/od315_of_diluted_wines",
          "od280/od315_of_diluted_wines",
          "od280/od315_of_diluted_wines",
          "od280/od315_of_diluted_wines",
          "od280/od315_of_diluted_wines",
          "od280/od315_of_diluted_wines",
          "od280/od315_of_diluted_wines",
          "od280/od315_of_diluted_wines",
          "od280/od315_of_diluted_wines",
          "od280/od315_of_diluted_wines",
          "od280/od315_of_diluted_wines",
          "od280/od315_of_diluted_wines",
          "od280/od315_of_diluted_wines",
          "od280/od315_of_diluted_wines",
          "od280/od315_of_diluted_wines",
          "od280/od315_of_diluted_wines",
          "od280/od315_of_diluted_wines",
          "od280/od315_of_diluted_wines",
          "od280/od315_of_diluted_wines",
          "od280/od315_of_diluted_wines",
          "od280/od315_of_diluted_wines",
          "od280/od315_of_diluted_wines",
          "od280/od315_of_diluted_wines",
          "od280/od315_of_diluted_wines",
          "od280/od315_of_diluted_wines",
          "od280/od315_of_diluted_wines",
          "od280/od315_of_diluted_wines",
          "od280/od315_of_diluted_wines",
          "od280/od315_of_diluted_wines",
          "od280/od315_of_diluted_wines",
          "od280/od315_of_diluted_wines",
          "od280/od315_of_diluted_wines",
          "od280/od315_of_diluted_wines",
          "od280/od315_of_diluted_wines",
          "od280/od315_of_diluted_wines",
          "od280/od315_of_diluted_wines",
          "od280/od315_of_diluted_wines",
          "od280/od315_of_diluted_wines",
          "od280/od315_of_diluted_wines",
          "od280/od315_of_diluted_wines",
          "od280/od315_of_diluted_wines",
          "od280/od315_of_diluted_wines",
          "od280/od315_of_diluted_wines",
          "od280/od315_of_diluted_wines",
          "od280/od315_of_diluted_wines",
          "od280/od315_of_diluted_wines",
          "od280/od315_of_diluted_wines",
          "od280/od315_of_diluted_wines",
          "od280/od315_of_diluted_wines",
          "od280/od315_of_diluted_wines",
          "od280/od315_of_diluted_wines",
          "od280/od315_of_diluted_wines",
          "od280/od315_of_diluted_wines",
          "od280/od315_of_diluted_wines",
          "od280/od315_of_diluted_wines",
          "od280/od315_of_diluted_wines",
          "od280/od315_of_diluted_wines",
          "od280/od315_of_diluted_wines",
          "od280/od315_of_diluted_wines",
          "od280/od315_of_diluted_wines",
          "od280/od315_of_diluted_wines",
          "od280/od315_of_diluted_wines",
          "od280/od315_of_diluted_wines",
          "od280/od315_of_diluted_wines",
          "od280/od315_of_diluted_wines",
          "od280/od315_of_diluted_wines",
          "od280/od315_of_diluted_wines",
          "od280/od315_of_diluted_wines",
          "od280/od315_of_diluted_wines",
          "od280/od315_of_diluted_wines",
          "od280/od315_of_diluted_wines",
          "od280/od315_of_diluted_wines",
          "od280/od315_of_diluted_wines",
          "od280/od315_of_diluted_wines",
          "od280/od315_of_diluted_wines",
          "od280/od315_of_diluted_wines",
          "od280/od315_of_diluted_wines",
          "od280/od315_of_diluted_wines",
          "od280/od315_of_diluted_wines",
          "od280/od315_of_diluted_wines",
          "od280/od315_of_diluted_wines",
          "od280/od315_of_diluted_wines",
          "od280/od315_of_diluted_wines",
          "od280/od315_of_diluted_wines",
          "od280/od315_of_diluted_wines",
          "od280/od315_of_diluted_wines",
          "od280/od315_of_diluted_wines",
          "od280/od315_of_diluted_wines",
          "od280/od315_of_diluted_wines",
          "od280/od315_of_diluted_wines",
          "od280/od315_of_diluted_wines",
          "od280/od315_of_diluted_wines",
          "od280/od315_of_diluted_wines",
          "od280/od315_of_diluted_wines",
          "od280/od315_of_diluted_wines",
          "od280/od315_of_diluted_wines",
          "od280/od315_of_diluted_wines",
          "od280/od315_of_diluted_wines",
          "od280/od315_of_diluted_wines",
          "od280/od315_of_diluted_wines",
          "od280/od315_of_diluted_wines",
          "od280/od315_of_diluted_wines",
          "od280/od315_of_diluted_wines",
          "od280/od315_of_diluted_wines",
          "od280/od315_of_diluted_wines",
          "od280/od315_of_diluted_wines",
          "od280/od315_of_diluted_wines",
          "od280/od315_of_diluted_wines",
          "od280/od315_of_diluted_wines",
          "od280/od315_of_diluted_wines",
          "od280/od315_of_diluted_wines",
          "od280/od315_of_diluted_wines",
          "od280/od315_of_diluted_wines",
          "od280/od315_of_diluted_wines",
          "od280/od315_of_diluted_wines",
          "od280/od315_of_diluted_wines",
          "od280/od315_of_diluted_wines",
          "od280/od315_of_diluted_wines",
          "od280/od315_of_diluted_wines",
          "od280/od315_of_diluted_wines",
          "od280/od315_of_diluted_wines",
          "od280/od315_of_diluted_wines",
          "od280/od315_of_diluted_wines",
          "od280/od315_of_diluted_wines",
          "od280/od315_of_diluted_wines",
          "od280/od315_of_diluted_wines",
          "od280/od315_of_diluted_wines",
          "od280/od315_of_diluted_wines",
          "od280/od315_of_diluted_wines",
          "od280/od315_of_diluted_wines",
          "od280/od315_of_diluted_wines",
          "od280/od315_of_diluted_wines",
          "od280/od315_of_diluted_wines",
          "od280/od315_of_diluted_wines",
          "od280/od315_of_diluted_wines",
          "od280/od315_of_diluted_wines",
          "od280/od315_of_diluted_wines",
          "od280/od315_of_diluted_wines",
          "od280/od315_of_diluted_wines",
          "od280/od315_of_diluted_wines",
          "od280/od315_of_diluted_wines",
          "od280/od315_of_diluted_wines",
          "od280/od315_of_diluted_wines",
          "od280/od315_of_diluted_wines",
          "od280/od315_of_diluted_wines",
          "od280/od315_of_diluted_wines",
          "od280/od315_of_diluted_wines",
          "od280/od315_of_diluted_wines",
          "proline",
          "proline",
          "proline",
          "proline",
          "proline",
          "proline",
          "proline",
          "proline",
          "proline",
          "proline",
          "proline",
          "proline",
          "proline",
          "proline",
          "proline",
          "proline",
          "proline",
          "proline",
          "proline",
          "proline",
          "proline",
          "proline",
          "proline",
          "proline",
          "proline",
          "proline",
          "proline",
          "proline",
          "proline",
          "proline",
          "proline",
          "proline",
          "proline",
          "proline",
          "proline",
          "proline",
          "proline",
          "proline",
          "proline",
          "proline",
          "proline",
          "proline",
          "proline",
          "proline",
          "proline",
          "proline",
          "proline",
          "proline",
          "proline",
          "proline",
          "proline",
          "proline",
          "proline",
          "proline",
          "proline",
          "proline",
          "proline",
          "proline",
          "proline",
          "proline",
          "proline",
          "proline",
          "proline",
          "proline",
          "proline",
          "proline",
          "proline",
          "proline",
          "proline",
          "proline",
          "proline",
          "proline",
          "proline",
          "proline",
          "proline",
          "proline",
          "proline",
          "proline",
          "proline",
          "proline",
          "proline",
          "proline",
          "proline",
          "proline",
          "proline",
          "proline",
          "proline",
          "proline",
          "proline",
          "proline",
          "proline",
          "proline",
          "proline",
          "proline",
          "proline",
          "proline",
          "proline",
          "proline",
          "proline",
          "proline",
          "proline",
          "proline",
          "proline",
          "proline",
          "proline",
          "proline",
          "proline",
          "proline",
          "proline",
          "proline",
          "proline",
          "proline",
          "proline",
          "proline",
          "proline",
          "proline",
          "proline",
          "proline",
          "proline",
          "proline",
          "proline",
          "proline",
          "proline",
          "proline",
          "proline",
          "proline",
          "proline",
          "proline",
          "proline",
          "proline",
          "proline",
          "proline",
          "proline",
          "proline",
          "proline",
          "proline",
          "proline",
          "proline",
          "proline",
          "proline",
          "proline",
          "proline",
          "proline",
          "proline",
          "proline",
          "proline",
          "proline",
          "proline",
          "proline",
          "proline",
          "proline",
          "proline",
          "proline",
          "proline",
          "proline",
          "proline",
          "proline",
          "proline",
          "proline",
          "proline",
          "proline",
          "proline",
          "proline",
          "proline",
          "proline",
          "proline",
          "proline",
          "proline",
          "proline",
          "proline",
          "proline",
          "proline",
          "proline",
          "proline",
          "proline",
          "proline",
          "proline",
          "proline"
         ],
         "x0": " ",
         "xaxis": "x",
         "y": [
          14.23,
          13.2,
          13.16,
          14.37,
          13.24,
          14.2,
          14.39,
          14.06,
          14.83,
          13.86,
          14.1,
          14.12,
          13.75,
          14.75,
          14.38,
          13.63,
          14.3,
          13.83,
          14.19,
          13.64,
          14.06,
          12.93,
          13.71,
          12.85,
          13.5,
          13.05,
          13.39,
          13.3,
          13.87,
          14.02,
          13.73,
          13.58,
          13.68,
          13.76,
          13.51,
          13.48,
          13.28,
          13.05,
          13.07,
          14.22,
          13.56,
          13.41,
          13.88,
          13.24,
          13.05,
          14.21,
          14.38,
          13.9,
          14.1,
          13.94,
          13.05,
          13.83,
          13.82,
          13.77,
          13.74,
          13.56,
          14.22,
          13.29,
          13.72,
          12.37,
          12.33,
          12.64,
          13.67,
          12.37,
          12.17,
          12.37,
          13.11,
          12.37,
          13.34,
          12.21,
          12.29,
          13.86,
          13.49,
          12.99,
          11.96,
          11.66,
          13.03,
          11.84,
          12.33,
          12.7,
          12,
          12.72,
          12.08,
          13.05,
          11.84,
          12.67,
          12.16,
          11.65,
          11.64,
          12.08,
          12.08,
          12,
          12.69,
          12.29,
          11.62,
          12.47,
          11.81,
          12.29,
          12.37,
          12.29,
          12.08,
          12.6,
          12.34,
          11.82,
          12.51,
          12.42,
          12.25,
          12.72,
          12.22,
          11.61,
          11.46,
          12.52,
          11.76,
          11.41,
          12.08,
          11.03,
          11.82,
          12.42,
          12.77,
          12,
          11.45,
          11.56,
          12.42,
          13.05,
          11.87,
          12.07,
          12.43,
          11.79,
          12.37,
          12.04,
          12.86,
          12.88,
          12.81,
          12.7,
          12.51,
          12.6,
          12.25,
          12.53,
          13.49,
          12.84,
          12.93,
          13.36,
          13.52,
          13.62,
          12.25,
          13.16,
          13.88,
          12.87,
          13.32,
          13.08,
          13.5,
          12.79,
          13.11,
          13.23,
          12.58,
          13.17,
          13.84,
          12.45,
          14.34,
          13.48,
          12.36,
          13.69,
          12.85,
          12.96,
          13.78,
          13.73,
          13.45,
          12.82,
          13.58,
          13.4,
          12.2,
          12.77,
          14.16,
          13.71,
          13.4,
          13.27,
          13.17,
          14.13,
          1.71,
          1.78,
          2.36,
          1.95,
          2.59,
          1.76,
          1.87,
          2.15,
          1.64,
          1.35,
          2.16,
          1.48,
          1.73,
          1.73,
          1.87,
          1.81,
          1.92,
          1.57,
          1.59,
          3.1,
          1.63,
          3.8,
          1.86,
          1.6,
          1.81,
          2.05,
          1.77,
          1.72,
          1.9,
          1.68,
          1.5,
          1.66,
          1.83,
          1.53,
          1.8,
          1.81,
          1.64,
          1.65,
          1.5,
          3.99,
          1.71,
          3.84,
          1.89,
          3.98,
          1.77,
          4.04,
          3.59,
          1.68,
          2.02,
          1.73,
          1.73,
          1.65,
          1.75,
          1.9,
          1.67,
          1.73,
          1.7,
          1.97,
          1.43,
          0.94,
          1.1,
          1.36,
          1.25,
          1.13,
          1.45,
          1.21,
          1.01,
          1.17,
          0.94,
          1.19,
          1.61,
          1.51,
          1.66,
          1.67,
          1.09,
          1.88,
          0.9,
          2.89,
          0.99,
          3.87,
          0.92,
          1.81,
          1.13,
          3.86,
          0.89,
          0.98,
          1.61,
          1.67,
          2.06,
          1.33,
          1.83,
          1.51,
          1.53,
          2.83,
          1.99,
          1.52,
          2.12,
          1.41,
          1.07,
          3.17,
          2.08,
          1.34,
          2.45,
          1.72,
          1.73,
          2.55,
          1.73,
          1.75,
          1.29,
          1.35,
          3.74,
          2.43,
          2.68,
          0.74,
          1.39,
          1.51,
          1.47,
          1.61,
          3.43,
          3.43,
          2.4,
          2.05,
          4.43,
          5.8,
          4.31,
          2.16,
          1.53,
          2.13,
          1.63,
          4.3,
          1.35,
          2.99,
          2.31,
          3.55,
          1.24,
          2.46,
          4.72,
          5.51,
          3.59,
          2.96,
          2.81,
          2.56,
          3.17,
          4.95,
          3.88,
          3.57,
          5.04,
          4.61,
          3.24,
          3.9,
          3.12,
          2.67,
          1.9,
          3.3,
          1.29,
          5.19,
          4.12,
          3.03,
          1.68,
          1.67,
          3.83,
          3.26,
          3.27,
          3.45,
          2.76,
          4.36,
          3.7,
          3.37,
          2.58,
          4.6,
          3.03,
          2.39,
          2.51,
          5.65,
          3.91,
          4.28,
          2.59,
          4.1,
          2.43,
          2.14,
          2.67,
          2.5,
          2.87,
          2.45,
          2.45,
          2.61,
          2.17,
          2.27,
          2.3,
          2.32,
          2.41,
          2.39,
          2.38,
          2.7,
          2.72,
          2.62,
          2.48,
          2.56,
          2.28,
          2.65,
          2.36,
          2.52,
          2.61,
          3.22,
          2.62,
          2.14,
          2.8,
          2.21,
          2.7,
          2.36,
          2.36,
          2.7,
          2.65,
          2.41,
          2.84,
          2.55,
          2.1,
          2.51,
          2.31,
          2.12,
          2.59,
          2.29,
          2.1,
          2.44,
          2.28,
          2.12,
          2.4,
          2.27,
          2.04,
          2.6,
          2.42,
          2.68,
          2.25,
          2.46,
          2.3,
          2.68,
          2.5,
          1.36,
          2.28,
          2.02,
          1.92,
          2.16,
          2.53,
          2.56,
          1.7,
          1.92,
          2.36,
          1.75,
          2.21,
          2.67,
          2.24,
          2.6,
          2.3,
          1.92,
          1.71,
          2.23,
          1.95,
          2.4,
          2,
          2.2,
          2.51,
          2.32,
          2.58,
          2.24,
          2.31,
          2.62,
          2.46,
          2.3,
          2.32,
          2.42,
          2.26,
          2.22,
          2.28,
          2.2,
          2.74,
          1.98,
          2.1,
          2.21,
          1.7,
          1.9,
          2.46,
          1.88,
          1.98,
          2.27,
          2.12,
          2.28,
          1.94,
          2.7,
          1.82,
          2.17,
          2.92,
          2.5,
          2.5,
          2.2,
          1.99,
          2.19,
          1.98,
          2,
          2.42,
          3.23,
          2.73,
          2.13,
          2.39,
          2.17,
          2.29,
          2.78,
          2.3,
          2.38,
          2.32,
          2.4,
          2.4,
          2.36,
          2.25,
          2.2,
          2.54,
          2.64,
          2.19,
          2.61,
          2.7,
          2.35,
          2.72,
          2.35,
          2.2,
          2.15,
          2.23,
          2.48,
          2.38,
          2.36,
          2.62,
          2.48,
          2.75,
          2.28,
          2.1,
          2.32,
          2.38,
          2.64,
          2.7,
          2.64,
          2.38,
          2.54,
          2.58,
          2.35,
          2.3,
          2.26,
          2.6,
          2.3,
          2.69,
          2.86,
          2.32,
          2.28,
          2.48,
          2.45,
          2.48,
          2.26,
          2.37,
          2.74,
          15.6,
          11.2,
          18.6,
          16.8,
          21,
          15.2,
          14.6,
          17.6,
          14,
          16,
          18,
          16.8,
          16,
          11.4,
          12,
          17.2,
          20,
          20,
          16.5,
          15.2,
          16,
          18.6,
          16.6,
          17.8,
          20,
          25,
          16.1,
          17,
          19.4,
          16,
          22.5,
          19.1,
          17.2,
          19.5,
          19,
          20.5,
          15.5,
          18,
          15.5,
          13.2,
          16.2,
          18.8,
          15,
          17.5,
          17,
          18.9,
          16,
          16,
          18.8,
          17.4,
          12.4,
          17.2,
          14,
          17.1,
          16.4,
          20.5,
          16.3,
          16.8,
          16.7,
          10.6,
          16,
          16.8,
          18,
          19,
          19,
          18.1,
          15,
          19.6,
          17,
          16.8,
          20.4,
          25,
          24,
          30,
          21,
          16,
          16,
          18,
          14.8,
          23,
          19,
          18.8,
          24,
          22.5,
          18,
          18,
          22.8,
          26,
          21.6,
          23.6,
          18.5,
          22,
          20.7,
          18,
          18,
          19,
          21.5,
          16,
          18.5,
          18,
          17.5,
          18.5,
          21,
          19.5,
          20.5,
          22,
          19,
          22.5,
          19,
          20,
          19.5,
          21,
          20,
          21,
          22.5,
          21.5,
          20.8,
          22.5,
          16,
          19,
          20,
          28.5,
          26.5,
          21.5,
          21,
          21,
          21.5,
          28.5,
          24.5,
          22,
          18,
          20,
          24,
          21.5,
          17.5,
          18.5,
          21,
          25,
          19.5,
          24,
          21,
          20,
          23.5,
          20,
          18.5,
          21,
          20,
          21.5,
          21.5,
          21.5,
          24,
          22,
          25.5,
          18.5,
          20,
          22,
          19.5,
          27,
          25,
          22.5,
          21,
          20,
          22,
          18.5,
          22,
          22.5,
          23,
          19.5,
          24.5,
          25,
          19,
          19.5,
          20,
          20.5,
          23,
          20,
          20,
          24.5,
          127,
          100,
          101,
          113,
          118,
          112,
          96,
          121,
          97,
          98,
          105,
          95,
          89,
          91,
          102,
          112,
          120,
          115,
          108,
          116,
          126,
          102,
          101,
          95,
          96,
          124,
          93,
          94,
          107,
          96,
          101,
          106,
          104,
          132,
          110,
          100,
          110,
          98,
          98,
          128,
          117,
          90,
          101,
          103,
          107,
          111,
          102,
          101,
          103,
          108,
          92,
          94,
          111,
          115,
          118,
          116,
          118,
          102,
          108,
          88,
          101,
          100,
          94,
          87,
          104,
          98,
          78,
          78,
          110,
          151,
          103,
          86,
          87,
          139,
          101,
          97,
          86,
          112,
          136,
          101,
          86,
          86,
          78,
          85,
          94,
          99,
          90,
          88,
          84,
          70,
          81,
          86,
          80,
          88,
          98,
          162,
          134,
          85,
          88,
          88,
          97,
          88,
          98,
          86,
          85,
          90,
          80,
          84,
          92,
          94,
          107,
          88,
          103,
          88,
          84,
          85,
          86,
          108,
          80,
          87,
          96,
          119,
          102,
          86,
          82,
          85,
          86,
          92,
          88,
          80,
          122,
          104,
          98,
          106,
          85,
          94,
          89,
          96,
          88,
          101,
          96,
          89,
          97,
          92,
          112,
          102,
          80,
          86,
          92,
          113,
          123,
          112,
          116,
          98,
          103,
          93,
          89,
          97,
          98,
          89,
          88,
          107,
          106,
          106,
          90,
          88,
          111,
          88,
          105,
          112,
          96,
          86,
          91,
          95,
          102,
          120,
          120,
          96,
          2.8,
          2.65,
          2.8,
          3.85,
          2.8,
          3.27,
          2.5,
          2.6,
          2.8,
          2.98,
          2.95,
          2.2,
          2.6,
          3.1,
          3.3,
          2.85,
          2.8,
          2.95,
          3.3,
          2.7,
          3,
          2.41,
          2.61,
          2.48,
          2.53,
          2.63,
          2.85,
          2.4,
          2.95,
          2.65,
          3,
          2.86,
          2.42,
          2.95,
          2.35,
          2.7,
          2.6,
          2.45,
          2.4,
          3,
          3.15,
          2.45,
          3.25,
          2.64,
          3,
          2.85,
          3.25,
          3.1,
          2.75,
          2.88,
          2.72,
          2.45,
          3.88,
          3,
          2.6,
          2.96,
          3.2,
          3,
          3.4,
          1.98,
          2.05,
          2.02,
          2.1,
          3.5,
          1.89,
          2.42,
          2.98,
          2.11,
          2.53,
          1.85,
          1.1,
          2.95,
          1.88,
          3.3,
          3.38,
          1.61,
          1.95,
          1.72,
          1.9,
          2.83,
          2.42,
          2.2,
          2,
          1.65,
          2.2,
          2.2,
          1.78,
          1.92,
          1.95,
          2.2,
          1.6,
          1.45,
          1.38,
          2.45,
          3.02,
          2.5,
          1.6,
          2.55,
          3.52,
          2.85,
          2.23,
          1.45,
          2.56,
          2.5,
          2.2,
          1.68,
          1.65,
          1.38,
          2.36,
          2.74,
          3.18,
          2.55,
          1.75,
          2.48,
          2.56,
          2.46,
          1.98,
          2,
          1.63,
          2,
          2.9,
          3.18,
          2.2,
          2.62,
          2.86,
          2.6,
          2.74,
          2.13,
          2.22,
          2.1,
          1.51,
          1.3,
          1.15,
          1.7,
          2,
          1.62,
          1.38,
          1.79,
          1.62,
          2.32,
          1.54,
          1.4,
          1.55,
          2,
          1.38,
          1.5,
          0.98,
          1.7,
          1.93,
          1.41,
          1.4,
          1.48,
          2.2,
          1.8,
          1.48,
          1.74,
          1.8,
          1.9,
          2.8,
          2.6,
          2.3,
          1.83,
          1.65,
          1.39,
          1.35,
          1.28,
          1.7,
          1.48,
          1.55,
          1.98,
          1.25,
          1.39,
          1.68,
          1.68,
          1.8,
          1.59,
          1.65,
          2.05,
          3.06,
          2.76,
          3.24,
          3.49,
          2.69,
          3.39,
          2.52,
          2.51,
          2.98,
          3.15,
          3.32,
          2.43,
          2.76,
          3.69,
          3.64,
          2.91,
          3.14,
          3.4,
          3.93,
          3.03,
          3.17,
          2.41,
          2.88,
          2.37,
          2.61,
          2.68,
          2.94,
          2.19,
          2.97,
          2.33,
          3.25,
          3.19,
          2.69,
          2.74,
          2.53,
          2.98,
          2.68,
          2.43,
          2.64,
          3.04,
          3.29,
          2.68,
          3.56,
          2.63,
          3,
          2.65,
          3.17,
          3.39,
          2.92,
          3.54,
          3.27,
          2.99,
          3.74,
          2.79,
          2.9,
          2.78,
          3,
          3.23,
          3.67,
          0.57,
          1.09,
          1.41,
          1.79,
          3.1,
          1.75,
          2.65,
          3.18,
          2,
          1.3,
          1.28,
          1.02,
          2.86,
          1.84,
          2.89,
          2.14,
          1.57,
          2.03,
          1.32,
          1.85,
          2.55,
          2.26,
          2.53,
          1.58,
          1.59,
          2.21,
          1.94,
          1.69,
          1.61,
          1.69,
          1.59,
          1.5,
          1.25,
          1.46,
          2.25,
          2.26,
          2.27,
          0.99,
          2.5,
          3.75,
          2.99,
          2.17,
          1.36,
          2.11,
          1.64,
          1.92,
          1.84,
          2.03,
          1.76,
          2.04,
          2.92,
          2.58,
          2.27,
          2.03,
          2.01,
          2.29,
          2.17,
          1.6,
          2.09,
          1.25,
          1.64,
          2.79,
          5.08,
          2.13,
          2.65,
          3.03,
          2.65,
          3.15,
          2.24,
          2.45,
          1.75,
          1.25,
          1.22,
          1.09,
          1.2,
          0.58,
          0.66,
          0.47,
          0.6,
          0.48,
          0.6,
          0.5,
          0.5,
          0.52,
          0.8,
          0.78,
          0.55,
          0.34,
          0.65,
          0.76,
          1.39,
          1.57,
          1.36,
          1.28,
          0.83,
          0.58,
          0.63,
          0.83,
          0.58,
          1.31,
          1.1,
          0.92,
          0.56,
          0.6,
          0.7,
          0.68,
          0.47,
          0.92,
          0.66,
          0.84,
          0.96,
          0.49,
          0.51,
          0.7,
          0.61,
          0.75,
          0.69,
          0.68,
          0.76,
          0.28,
          0.26,
          0.3,
          0.24,
          0.39,
          0.34,
          0.3,
          0.31,
          0.29,
          0.22,
          0.22,
          0.26,
          0.29,
          0.43,
          0.29,
          0.3,
          0.33,
          0.4,
          0.32,
          0.17,
          0.24,
          0.25,
          0.27,
          0.26,
          0.28,
          0.47,
          0.34,
          0.27,
          0.37,
          0.26,
          0.29,
          0.22,
          0.42,
          0.5,
          0.29,
          0.26,
          0.34,
          0.29,
          0.28,
          0.2,
          0.34,
          0.27,
          0.17,
          0.32,
          0.28,
          0.3,
          0.27,
          0.21,
          0.32,
          0.32,
          0.17,
          0.22,
          0.32,
          0.39,
          0.21,
          0.2,
          0.26,
          0.31,
          0.19,
          0.28,
          0.63,
          0.53,
          0.32,
          0.19,
          0.45,
          0.37,
          0.26,
          0.27,
          0.55,
          0.14,
          0.37,
          0.21,
          0.27,
          0.21,
          0.13,
          0.34,
          0.24,
          0.43,
          0.35,
          0.43,
          0.3,
          0.26,
          0.4,
          0.61,
          0.22,
          0.3,
          0.43,
          0.4,
          0.48,
          0.42,
          0.52,
          0.5,
          0.58,
          0.25,
          0.17,
          0.32,
          0.14,
          0.29,
          0.24,
          0.45,
          0.26,
          0.29,
          0.34,
          0.37,
          0.32,
          0.66,
          0.37,
          0.48,
          0.39,
          0.29,
          0.24,
          0.26,
          0.6,
          0.42,
          0.43,
          0.52,
          0.3,
          0.34,
          0.43,
          0.37,
          0.32,
          0.47,
          0.43,
          0.3,
          0.21,
          0.37,
          0.39,
          0.58,
          0.4,
          0.42,
          0.21,
          0.24,
          0.27,
          0.17,
          0.6,
          0.63,
          0.53,
          0.63,
          0.58,
          0.53,
          0.53,
          0.37,
          0.5,
          0.47,
          0.29,
          0.43,
          0.4,
          0.47,
          0.45,
          0.34,
          0.22,
          0.24,
          0.26,
          0.61,
          0.53,
          0.61,
          0.48,
          0.63,
          0.53,
          0.52,
          0.5,
          0.5,
          0.6,
          0.4,
          0.41,
          0.52,
          0.43,
          0.4,
          0.39,
          0.27,
          0.4,
          0.48,
          0.44,
          0.52,
          0.43,
          0.43,
          0.53,
          0.56,
          2.29,
          1.28,
          2.81,
          2.18,
          1.82,
          1.97,
          1.98,
          1.25,
          1.98,
          1.85,
          2.38,
          1.57,
          1.81,
          2.81,
          2.96,
          1.46,
          1.97,
          1.72,
          1.86,
          1.66,
          2.1,
          1.98,
          1.69,
          1.46,
          1.66,
          1.92,
          1.45,
          1.35,
          1.76,
          1.98,
          2.38,
          1.95,
          1.97,
          1.35,
          1.54,
          1.86,
          1.36,
          1.44,
          1.37,
          2.08,
          2.34,
          1.48,
          1.7,
          1.66,
          2.03,
          1.25,
          2.19,
          2.14,
          2.38,
          2.08,
          2.91,
          2.29,
          1.87,
          1.68,
          1.62,
          2.45,
          2.03,
          1.66,
          2.04,
          0.42,
          0.41,
          0.62,
          0.73,
          1.87,
          1.03,
          2.08,
          2.28,
          1.04,
          0.42,
          2.5,
          1.46,
          1.87,
          1.03,
          1.96,
          1.65,
          1.15,
          1.46,
          0.95,
          2.76,
          1.95,
          1.43,
          1.77,
          1.4,
          1.62,
          2.35,
          1.46,
          1.56,
          1.34,
          1.35,
          1.38,
          1.64,
          1.63,
          1.62,
          1.99,
          1.35,
          3.28,
          1.56,
          1.77,
          1.95,
          2.81,
          1.4,
          1.35,
          1.31,
          1.42,
          1.48,
          1.42,
          1.63,
          1.63,
          2.08,
          2.49,
          3.58,
          1.22,
          1.05,
          1.44,
          1.04,
          2.01,
          1.53,
          1.61,
          0.83,
          1.87,
          1.83,
          1.87,
          1.71,
          2.01,
          2.91,
          1.35,
          1.77,
          1.76,
          1.9,
          1.35,
          0.94,
          0.83,
          0.83,
          0.84,
          1.25,
          0.94,
          0.8,
          1.1,
          0.88,
          0.81,
          0.75,
          0.64,
          0.55,
          1.02,
          1.14,
          1.3,
          0.68,
          0.86,
          1.25,
          1.14,
          1.25,
          1.26,
          1.56,
          1.87,
          1.4,
          1.55,
          1.56,
          1.14,
          2.7,
          2.29,
          1.04,
          0.8,
          0.96,
          0.94,
          1.03,
          1.15,
          1.46,
          0.97,
          1.54,
          1.11,
          0.73,
          0.64,
          1.24,
          1.06,
          1.41,
          1.35,
          1.46,
          1.35,
          5.64,
          4.38,
          5.68,
          7.8,
          4.32,
          6.75,
          5.25,
          5.05,
          5.2,
          7.22,
          5.75,
          5,
          5.6,
          5.4,
          7.5,
          7.3,
          6.2,
          6.6,
          8.7,
          5.1,
          5.65,
          4.5,
          3.8,
          3.93,
          3.52,
          3.58,
          4.8,
          3.95,
          4.5,
          4.7,
          5.7,
          6.9,
          3.84,
          5.4,
          4.2,
          5.1,
          4.6,
          4.25,
          3.7,
          5.1,
          6.13,
          4.28,
          5.43,
          4.36,
          5.04,
          5.24,
          4.9,
          6.1,
          6.2,
          8.9,
          7.2,
          5.6,
          7.05,
          6.3,
          5.85,
          6.25,
          6.38,
          6,
          6.8,
          1.95,
          3.27,
          5.75,
          3.8,
          4.45,
          2.95,
          4.6,
          5.3,
          4.68,
          3.17,
          2.85,
          3.05,
          3.38,
          3.74,
          3.35,
          3.21,
          3.8,
          4.6,
          2.65,
          3.4,
          2.57,
          2.5,
          3.9,
          2.2,
          4.8,
          3.05,
          2.62,
          2.45,
          2.6,
          2.8,
          1.74,
          2.4,
          3.6,
          3.05,
          2.15,
          3.25,
          2.6,
          2.5,
          2.9,
          4.5,
          2.3,
          3.3,
          2.45,
          2.8,
          2.06,
          2.94,
          2.7,
          3.4,
          3.3,
          2.7,
          2.65,
          2.9,
          2,
          3.8,
          3.08,
          2.9,
          1.9,
          1.95,
          2.06,
          3.4,
          1.28,
          3.25,
          6,
          2.08,
          2.6,
          2.8,
          2.76,
          3.94,
          3,
          2.12,
          2.6,
          4.1,
          5.4,
          5.7,
          5,
          5.45,
          7.1,
          3.85,
          5,
          5.7,
          4.92,
          4.6,
          5.6,
          4.35,
          4.4,
          8.21,
          4,
          4.9,
          7.65,
          8.42,
          9.4,
          8.6,
          10.8,
          7.1,
          10.52,
          7.6,
          7.9,
          9.01,
          7.5,
          13,
          11.75,
          7.65,
          5.88,
          5.58,
          5.28,
          9.58,
          6.62,
          10.68,
          10.26,
          8.66,
          8.5,
          5.5,
          9.899999,
          9.7,
          7.7,
          7.3,
          10.2,
          9.3,
          9.2,
          1.04,
          1.05,
          1.03,
          0.86,
          1.04,
          1.05,
          1.02,
          1.06,
          1.08,
          1.01,
          1.25,
          1.17,
          1.15,
          1.25,
          1.2,
          1.28,
          1.07,
          1.13,
          1.23,
          0.96,
          1.09,
          1.03,
          1.11,
          1.09,
          1.12,
          1.13,
          0.92,
          1.02,
          1.25,
          1.04,
          1.19,
          1.09,
          1.23,
          1.25,
          1.1,
          1.04,
          1.09,
          1.12,
          1.18,
          0.89,
          0.95,
          0.91,
          0.88,
          0.82,
          0.88,
          0.87,
          1.04,
          0.91,
          1.07,
          1.12,
          1.12,
          1.24,
          1.01,
          1.13,
          0.92,
          0.98,
          0.94,
          1.07,
          0.89,
          1.05,
          1.25,
          0.98,
          1.23,
          1.22,
          1.45,
          1.19,
          1.12,
          1.12,
          1.02,
          1.28,
          0.906,
          1.36,
          0.98,
          1.31,
          0.99,
          1.23,
          1.19,
          0.96,
          1.06,
          1.19,
          1.38,
          1.16,
          1.31,
          0.84,
          0.79,
          1.23,
          1.33,
          1.36,
          1,
          1.07,
          1.08,
          1.05,
          0.96,
          1.15,
          1.16,
          1.16,
          0.95,
          1.23,
          1.04,
          1.42,
          1.27,
          1.04,
          0.8,
          0.94,
          1.04,
          0.86,
          1,
          0.88,
          0.86,
          0.96,
          0.75,
          0.9,
          1.23,
          1.1,
          0.93,
          1.71,
          0.95,
          1.06,
          0.7,
          0.93,
          0.8,
          0.93,
          0.92,
          0.73,
          0.75,
          0.86,
          0.69,
          0.97,
          0.89,
          0.79,
          0.76,
          0.74,
          0.66,
          0.78,
          0.75,
          0.73,
          0.75,
          0.82,
          0.81,
          0.89,
          0.77,
          0.7,
          0.89,
          0.91,
          0.65,
          0.6,
          0.58,
          0.54,
          0.55,
          0.57,
          0.59,
          0.48,
          0.61,
          0.56,
          0.58,
          0.6,
          0.57,
          0.67,
          0.57,
          0.57,
          0.56,
          0.96,
          0.87,
          0.68,
          0.7,
          0.78,
          0.85,
          0.72,
          0.74,
          0.67,
          0.66,
          0.57,
          0.62,
          0.64,
          0.7,
          0.59,
          0.6,
          0.61,
          3.92,
          3.4,
          3.17,
          3.45,
          2.93,
          2.85,
          3.58,
          3.58,
          2.85,
          3.55,
          3.17,
          2.82,
          2.9,
          2.73,
          3,
          2.88,
          2.65,
          2.57,
          2.82,
          3.36,
          3.71,
          3.52,
          4,
          3.63,
          3.82,
          3.2,
          3.22,
          2.77,
          3.4,
          3.59,
          2.71,
          2.88,
          2.87,
          3,
          2.87,
          3.47,
          2.78,
          2.51,
          2.69,
          3.53,
          3.38,
          3,
          3.56,
          3,
          3.35,
          3.33,
          3.44,
          3.33,
          2.75,
          3.1,
          2.91,
          3.37,
          3.26,
          2.93,
          3.2,
          3.03,
          3.31,
          2.84,
          2.87,
          1.82,
          1.67,
          1.59,
          2.46,
          2.87,
          2.23,
          2.3,
          3.18,
          3.48,
          1.93,
          3.07,
          1.82,
          3.16,
          2.78,
          3.5,
          3.13,
          2.14,
          2.48,
          2.52,
          2.31,
          3.13,
          3.12,
          3.14,
          2.72,
          2.01,
          3.08,
          3.16,
          2.26,
          3.21,
          2.75,
          3.21,
          2.27,
          2.65,
          2.06,
          3.3,
          2.96,
          2.63,
          2.26,
          2.74,
          2.77,
          2.83,
          2.96,
          2.77,
          3.38,
          2.44,
          3.57,
          3.3,
          3.17,
          2.42,
          3.02,
          3.26,
          2.81,
          2.78,
          2.5,
          2.31,
          3.19,
          2.87,
          3.33,
          2.96,
          2.12,
          3.05,
          3.39,
          3.69,
          3.12,
          3.1,
          3.64,
          3.28,
          2.84,
          2.44,
          2.78,
          2.57,
          1.29,
          1.42,
          1.36,
          1.29,
          1.51,
          1.58,
          1.27,
          1.69,
          1.82,
          2.15,
          2.31,
          2.47,
          2.06,
          2.05,
          2,
          1.68,
          1.33,
          1.86,
          1.62,
          1.33,
          1.3,
          1.47,
          1.33,
          1.51,
          1.55,
          1.48,
          1.64,
          1.73,
          1.96,
          1.78,
          1.58,
          1.82,
          2.11,
          1.75,
          1.68,
          1.75,
          1.56,
          1.75,
          1.8,
          1.92,
          1.83,
          1.63,
          1.71,
          1.74,
          1.56,
          1.56,
          1.62,
          1.6,
          1065,
          1050,
          1185,
          1480,
          735,
          1450,
          1290,
          1295,
          1045,
          1045,
          1510,
          1280,
          1320,
          1150,
          1547,
          1310,
          1280,
          1130,
          1680,
          845,
          780,
          770,
          1035,
          1015,
          845,
          830,
          1195,
          1285,
          915,
          1035,
          1285,
          1515,
          990,
          1235,
          1095,
          920,
          880,
          1105,
          1020,
          760,
          795,
          1035,
          1095,
          680,
          885,
          1080,
          1065,
          985,
          1060,
          1260,
          1150,
          1265,
          1190,
          1375,
          1060,
          1120,
          970,
          1270,
          1285,
          520,
          680,
          450,
          630,
          420,
          355,
          678,
          502,
          510,
          750,
          718,
          870,
          410,
          472,
          985,
          886,
          428,
          392,
          500,
          750,
          463,
          278,
          714,
          630,
          515,
          520,
          450,
          495,
          562,
          680,
          625,
          480,
          450,
          495,
          290,
          345,
          937,
          625,
          428,
          660,
          406,
          710,
          562,
          438,
          415,
          672,
          315,
          510,
          488,
          312,
          680,
          562,
          325,
          607,
          434,
          385,
          407,
          495,
          345,
          372,
          564,
          625,
          465,
          365,
          380,
          380,
          378,
          352,
          466,
          342,
          580,
          630,
          530,
          560,
          600,
          650,
          695,
          720,
          515,
          580,
          590,
          600,
          780,
          520,
          550,
          855,
          830,
          415,
          625,
          650,
          550,
          500,
          480,
          425,
          675,
          640,
          725,
          480,
          880,
          660,
          620,
          520,
          680,
          570,
          675,
          615,
          520,
          695,
          685,
          750,
          630,
          510,
          470,
          660,
          740,
          750,
          835,
          840,
          560
         ],
         "y0": " ",
         "yaxis": "y"
        }
       ],
       "layout": {
        "boxmode": "group",
        "height": 400,
        "legend": {
         "orientation": "h",
         "tracegroupgap": 0,
         "x": 0.4,
         "y": 1.2
        },
        "template": {
         "data": {
          "bar": [
           {
            "error_x": {
             "color": "#2a3f5f"
            },
            "error_y": {
             "color": "#2a3f5f"
            },
            "marker": {
             "line": {
              "color": "#E5ECF6",
              "width": 0.5
             },
             "pattern": {
              "fillmode": "overlay",
              "size": 10,
              "solidity": 0.2
             }
            },
            "type": "bar"
           }
          ],
          "barpolar": [
           {
            "marker": {
             "line": {
              "color": "#E5ECF6",
              "width": 0.5
             },
             "pattern": {
              "fillmode": "overlay",
              "size": 10,
              "solidity": 0.2
             }
            },
            "type": "barpolar"
           }
          ],
          "carpet": [
           {
            "aaxis": {
             "endlinecolor": "#2a3f5f",
             "gridcolor": "white",
             "linecolor": "white",
             "minorgridcolor": "white",
             "startlinecolor": "#2a3f5f"
            },
            "baxis": {
             "endlinecolor": "#2a3f5f",
             "gridcolor": "white",
             "linecolor": "white",
             "minorgridcolor": "white",
             "startlinecolor": "#2a3f5f"
            },
            "type": "carpet"
           }
          ],
          "choropleth": [
           {
            "colorbar": {
             "outlinewidth": 0,
             "ticks": ""
            },
            "type": "choropleth"
           }
          ],
          "contour": [
           {
            "colorbar": {
             "outlinewidth": 0,
             "ticks": ""
            },
            "colorscale": [
             [
              0,
              "#0d0887"
             ],
             [
              0.1111111111111111,
              "#46039f"
             ],
             [
              0.2222222222222222,
              "#7201a8"
             ],
             [
              0.3333333333333333,
              "#9c179e"
             ],
             [
              0.4444444444444444,
              "#bd3786"
             ],
             [
              0.5555555555555556,
              "#d8576b"
             ],
             [
              0.6666666666666666,
              "#ed7953"
             ],
             [
              0.7777777777777778,
              "#fb9f3a"
             ],
             [
              0.8888888888888888,
              "#fdca26"
             ],
             [
              1,
              "#f0f921"
             ]
            ],
            "type": "contour"
           }
          ],
          "contourcarpet": [
           {
            "colorbar": {
             "outlinewidth": 0,
             "ticks": ""
            },
            "type": "contourcarpet"
           }
          ],
          "heatmap": [
           {
            "colorbar": {
             "outlinewidth": 0,
             "ticks": ""
            },
            "colorscale": [
             [
              0,
              "#0d0887"
             ],
             [
              0.1111111111111111,
              "#46039f"
             ],
             [
              0.2222222222222222,
              "#7201a8"
             ],
             [
              0.3333333333333333,
              "#9c179e"
             ],
             [
              0.4444444444444444,
              "#bd3786"
             ],
             [
              0.5555555555555556,
              "#d8576b"
             ],
             [
              0.6666666666666666,
              "#ed7953"
             ],
             [
              0.7777777777777778,
              "#fb9f3a"
             ],
             [
              0.8888888888888888,
              "#fdca26"
             ],
             [
              1,
              "#f0f921"
             ]
            ],
            "type": "heatmap"
           }
          ],
          "heatmapgl": [
           {
            "colorbar": {
             "outlinewidth": 0,
             "ticks": ""
            },
            "colorscale": [
             [
              0,
              "#0d0887"
             ],
             [
              0.1111111111111111,
              "#46039f"
             ],
             [
              0.2222222222222222,
              "#7201a8"
             ],
             [
              0.3333333333333333,
              "#9c179e"
             ],
             [
              0.4444444444444444,
              "#bd3786"
             ],
             [
              0.5555555555555556,
              "#d8576b"
             ],
             [
              0.6666666666666666,
              "#ed7953"
             ],
             [
              0.7777777777777778,
              "#fb9f3a"
             ],
             [
              0.8888888888888888,
              "#fdca26"
             ],
             [
              1,
              "#f0f921"
             ]
            ],
            "type": "heatmapgl"
           }
          ],
          "histogram": [
           {
            "marker": {
             "pattern": {
              "fillmode": "overlay",
              "size": 10,
              "solidity": 0.2
             }
            },
            "type": "histogram"
           }
          ],
          "histogram2d": [
           {
            "colorbar": {
             "outlinewidth": 0,
             "ticks": ""
            },
            "colorscale": [
             [
              0,
              "#0d0887"
             ],
             [
              0.1111111111111111,
              "#46039f"
             ],
             [
              0.2222222222222222,
              "#7201a8"
             ],
             [
              0.3333333333333333,
              "#9c179e"
             ],
             [
              0.4444444444444444,
              "#bd3786"
             ],
             [
              0.5555555555555556,
              "#d8576b"
             ],
             [
              0.6666666666666666,
              "#ed7953"
             ],
             [
              0.7777777777777778,
              "#fb9f3a"
             ],
             [
              0.8888888888888888,
              "#fdca26"
             ],
             [
              1,
              "#f0f921"
             ]
            ],
            "type": "histogram2d"
           }
          ],
          "histogram2dcontour": [
           {
            "colorbar": {
             "outlinewidth": 0,
             "ticks": ""
            },
            "colorscale": [
             [
              0,
              "#0d0887"
             ],
             [
              0.1111111111111111,
              "#46039f"
             ],
             [
              0.2222222222222222,
              "#7201a8"
             ],
             [
              0.3333333333333333,
              "#9c179e"
             ],
             [
              0.4444444444444444,
              "#bd3786"
             ],
             [
              0.5555555555555556,
              "#d8576b"
             ],
             [
              0.6666666666666666,
              "#ed7953"
             ],
             [
              0.7777777777777778,
              "#fb9f3a"
             ],
             [
              0.8888888888888888,
              "#fdca26"
             ],
             [
              1,
              "#f0f921"
             ]
            ],
            "type": "histogram2dcontour"
           }
          ],
          "mesh3d": [
           {
            "colorbar": {
             "outlinewidth": 0,
             "ticks": ""
            },
            "type": "mesh3d"
           }
          ],
          "parcoords": [
           {
            "line": {
             "colorbar": {
              "outlinewidth": 0,
              "ticks": ""
             }
            },
            "type": "parcoords"
           }
          ],
          "pie": [
           {
            "automargin": true,
            "type": "pie"
           }
          ],
          "scatter": [
           {
            "fillpattern": {
             "fillmode": "overlay",
             "size": 10,
             "solidity": 0.2
            },
            "type": "scatter"
           }
          ],
          "scatter3d": [
           {
            "line": {
             "colorbar": {
              "outlinewidth": 0,
              "ticks": ""
             }
            },
            "marker": {
             "colorbar": {
              "outlinewidth": 0,
              "ticks": ""
             }
            },
            "type": "scatter3d"
           }
          ],
          "scattercarpet": [
           {
            "marker": {
             "colorbar": {
              "outlinewidth": 0,
              "ticks": ""
             }
            },
            "type": "scattercarpet"
           }
          ],
          "scattergeo": [
           {
            "marker": {
             "colorbar": {
              "outlinewidth": 0,
              "ticks": ""
             }
            },
            "type": "scattergeo"
           }
          ],
          "scattergl": [
           {
            "marker": {
             "colorbar": {
              "outlinewidth": 0,
              "ticks": ""
             }
            },
            "type": "scattergl"
           }
          ],
          "scattermapbox": [
           {
            "marker": {
             "colorbar": {
              "outlinewidth": 0,
              "ticks": ""
             }
            },
            "type": "scattermapbox"
           }
          ],
          "scatterpolar": [
           {
            "marker": {
             "colorbar": {
              "outlinewidth": 0,
              "ticks": ""
             }
            },
            "type": "scatterpolar"
           }
          ],
          "scatterpolargl": [
           {
            "marker": {
             "colorbar": {
              "outlinewidth": 0,
              "ticks": ""
             }
            },
            "type": "scatterpolargl"
           }
          ],
          "scatterternary": [
           {
            "marker": {
             "colorbar": {
              "outlinewidth": 0,
              "ticks": ""
             }
            },
            "type": "scatterternary"
           }
          ],
          "surface": [
           {
            "colorbar": {
             "outlinewidth": 0,
             "ticks": ""
            },
            "colorscale": [
             [
              0,
              "#0d0887"
             ],
             [
              0.1111111111111111,
              "#46039f"
             ],
             [
              0.2222222222222222,
              "#7201a8"
             ],
             [
              0.3333333333333333,
              "#9c179e"
             ],
             [
              0.4444444444444444,
              "#bd3786"
             ],
             [
              0.5555555555555556,
              "#d8576b"
             ],
             [
              0.6666666666666666,
              "#ed7953"
             ],
             [
              0.7777777777777778,
              "#fb9f3a"
             ],
             [
              0.8888888888888888,
              "#fdca26"
             ],
             [
              1,
              "#f0f921"
             ]
            ],
            "type": "surface"
           }
          ],
          "table": [
           {
            "cells": {
             "fill": {
              "color": "#EBF0F8"
             },
             "line": {
              "color": "white"
             }
            },
            "header": {
             "fill": {
              "color": "#C8D4E3"
             },
             "line": {
              "color": "white"
             }
            },
            "type": "table"
           }
          ]
         },
         "layout": {
          "annotationdefaults": {
           "arrowcolor": "#2a3f5f",
           "arrowhead": 0,
           "arrowwidth": 1
          },
          "autotypenumbers": "strict",
          "coloraxis": {
           "colorbar": {
            "outlinewidth": 0,
            "ticks": ""
           }
          },
          "colorscale": {
           "diverging": [
            [
             0,
             "#8e0152"
            ],
            [
             0.1,
             "#c51b7d"
            ],
            [
             0.2,
             "#de77ae"
            ],
            [
             0.3,
             "#f1b6da"
            ],
            [
             0.4,
             "#fde0ef"
            ],
            [
             0.5,
             "#f7f7f7"
            ],
            [
             0.6,
             "#e6f5d0"
            ],
            [
             0.7,
             "#b8e186"
            ],
            [
             0.8,
             "#7fbc41"
            ],
            [
             0.9,
             "#4d9221"
            ],
            [
             1,
             "#276419"
            ]
           ],
           "sequential": [
            [
             0,
             "#0d0887"
            ],
            [
             0.1111111111111111,
             "#46039f"
            ],
            [
             0.2222222222222222,
             "#7201a8"
            ],
            [
             0.3333333333333333,
             "#9c179e"
            ],
            [
             0.4444444444444444,
             "#bd3786"
            ],
            [
             0.5555555555555556,
             "#d8576b"
            ],
            [
             0.6666666666666666,
             "#ed7953"
            ],
            [
             0.7777777777777778,
             "#fb9f3a"
            ],
            [
             0.8888888888888888,
             "#fdca26"
            ],
            [
             1,
             "#f0f921"
            ]
           ],
           "sequentialminus": [
            [
             0,
             "#0d0887"
            ],
            [
             0.1111111111111111,
             "#46039f"
            ],
            [
             0.2222222222222222,
             "#7201a8"
            ],
            [
             0.3333333333333333,
             "#9c179e"
            ],
            [
             0.4444444444444444,
             "#bd3786"
            ],
            [
             0.5555555555555556,
             "#d8576b"
            ],
            [
             0.6666666666666666,
             "#ed7953"
            ],
            [
             0.7777777777777778,
             "#fb9f3a"
            ],
            [
             0.8888888888888888,
             "#fdca26"
            ],
            [
             1,
             "#f0f921"
            ]
           ]
          },
          "colorway": [
           "#636efa",
           "#EF553B",
           "#00cc96",
           "#ab63fa",
           "#FFA15A",
           "#19d3f3",
           "#FF6692",
           "#B6E880",
           "#FF97FF",
           "#FECB52"
          ],
          "font": {
           "color": "#2a3f5f"
          },
          "geo": {
           "bgcolor": "white",
           "lakecolor": "white",
           "landcolor": "#E5ECF6",
           "showlakes": true,
           "showland": true,
           "subunitcolor": "white"
          },
          "hoverlabel": {
           "align": "left"
          },
          "hovermode": "closest",
          "mapbox": {
           "style": "light"
          },
          "paper_bgcolor": "white",
          "plot_bgcolor": "#E5ECF6",
          "polar": {
           "angularaxis": {
            "gridcolor": "white",
            "linecolor": "white",
            "ticks": ""
           },
           "bgcolor": "#E5ECF6",
           "radialaxis": {
            "gridcolor": "white",
            "linecolor": "white",
            "ticks": ""
           }
          },
          "scene": {
           "xaxis": {
            "backgroundcolor": "#E5ECF6",
            "gridcolor": "white",
            "gridwidth": 2,
            "linecolor": "white",
            "showbackground": true,
            "ticks": "",
            "zerolinecolor": "white"
           },
           "yaxis": {
            "backgroundcolor": "#E5ECF6",
            "gridcolor": "white",
            "gridwidth": 2,
            "linecolor": "white",
            "showbackground": true,
            "ticks": "",
            "zerolinecolor": "white"
           },
           "zaxis": {
            "backgroundcolor": "#E5ECF6",
            "gridcolor": "white",
            "gridwidth": 2,
            "linecolor": "white",
            "showbackground": true,
            "ticks": "",
            "zerolinecolor": "white"
           }
          },
          "shapedefaults": {
           "line": {
            "color": "#2a3f5f"
           }
          },
          "ternary": {
           "aaxis": {
            "gridcolor": "white",
            "linecolor": "white",
            "ticks": ""
           },
           "baxis": {
            "gridcolor": "white",
            "linecolor": "white",
            "ticks": ""
           },
           "bgcolor": "#E5ECF6",
           "caxis": {
            "gridcolor": "white",
            "linecolor": "white",
            "ticks": ""
           }
          },
          "title": {
           "x": 0.05
          },
          "xaxis": {
           "automargin": true,
           "gridcolor": "white",
           "linecolor": "white",
           "ticks": "",
           "title": {
            "standoff": 15
           },
           "zerolinecolor": "white",
           "zerolinewidth": 2
          },
          "yaxis": {
           "automargin": true,
           "gridcolor": "white",
           "linecolor": "white",
           "ticks": "",
           "title": {
            "standoff": 15
           },
           "zerolinecolor": "white",
           "zerolinewidth": 2
          }
         }
        },
        "title": {
         "text": "Box Plot of Original Wine Features"
        },
        "width": 700,
        "xaxis": {
         "anchor": "y",
         "domain": [
          0,
          1
         ],
         "title": {
          "text": "variable"
         }
        },
        "yaxis": {
         "anchor": "x",
         "domain": [
          0,
          1
         ],
         "title": {
          "text": "value"
         }
        }
       }
      }
     },
     "metadata": {},
     "output_type": "display_data"
    }
   ],
   "source": [
    "# Transforming the DataFrame into a long format for visualization purposes\n",
    "df_melted = pd.melt(df, id_vars=['class'])\n",
    "\n",
    "# Create a box plot with the original data\n",
    "fig_o = px.box(df_melted, x='variable', y='value', \n",
    "             width=700, height=400, title='Box Plot of Original Wine Features')\n",
    "# Change the legend position to 'top'\n",
    "fig_o.update_layout(legend=dict(x=0.4, y=1.2, orientation='h'))\n",
    "# Show the plot\n",
    "fig_o.show()"
   ]
  },
  {
   "cell_type": "code",
   "execution_count": 24,
   "metadata": {},
   "outputs": [],
   "source": [
    "# Standardize the data\n",
    "from sklearn.preprocessing import StandardScaler\n",
    "\n",
    "scaler = StandardScaler()"
   ]
  },
  {
   "cell_type": "code",
   "execution_count": 25,
   "metadata": {},
   "outputs": [
    {
     "data": {
      "text/html": [
       "<div>\n",
       "<style scoped>\n",
       "    .dataframe tbody tr th:only-of-type {\n",
       "        vertical-align: middle;\n",
       "    }\n",
       "\n",
       "    .dataframe tbody tr th {\n",
       "        vertical-align: top;\n",
       "    }\n",
       "\n",
       "    .dataframe thead th {\n",
       "        text-align: right;\n",
       "    }\n",
       "</style>\n",
       "<table border=\"1\" class=\"dataframe\">\n",
       "  <thead>\n",
       "    <tr style=\"text-align: right;\">\n",
       "      <th></th>\n",
       "      <th>alcohol</th>\n",
       "      <th>malic_acid</th>\n",
       "      <th>ash</th>\n",
       "      <th>alcalinity_of_ash</th>\n",
       "      <th>...</th>\n",
       "      <th>hue</th>\n",
       "      <th>od280/od315_of_diluted_wines</th>\n",
       "      <th>proline</th>\n",
       "      <th>class</th>\n",
       "    </tr>\n",
       "  </thead>\n",
       "  <tbody>\n",
       "    <tr>\n",
       "      <th>0</th>\n",
       "      <td>1.518613</td>\n",
       "      <td>-0.562250</td>\n",
       "      <td>0.232053</td>\n",
       "      <td>-1.169593</td>\n",
       "      <td>...</td>\n",
       "      <td>0.362177</td>\n",
       "      <td>1.847920</td>\n",
       "      <td>1.013009</td>\n",
       "      <td>class_0</td>\n",
       "    </tr>\n",
       "    <tr>\n",
       "      <th>1</th>\n",
       "      <td>0.246290</td>\n",
       "      <td>-0.499413</td>\n",
       "      <td>-0.827996</td>\n",
       "      <td>-2.490847</td>\n",
       "      <td>...</td>\n",
       "      <td>0.406051</td>\n",
       "      <td>1.113449</td>\n",
       "      <td>0.965242</td>\n",
       "      <td>class_0</td>\n",
       "    </tr>\n",
       "    <tr>\n",
       "      <th>2</th>\n",
       "      <td>0.196879</td>\n",
       "      <td>0.021231</td>\n",
       "      <td>1.109334</td>\n",
       "      <td>-0.268738</td>\n",
       "      <td>...</td>\n",
       "      <td>0.318304</td>\n",
       "      <td>0.788587</td>\n",
       "      <td>1.395148</td>\n",
       "      <td>class_0</td>\n",
       "    </tr>\n",
       "    <tr>\n",
       "      <th>3</th>\n",
       "      <td>1.691550</td>\n",
       "      <td>-0.346811</td>\n",
       "      <td>0.487926</td>\n",
       "      <td>-0.809251</td>\n",
       "      <td>...</td>\n",
       "      <td>-0.427544</td>\n",
       "      <td>1.184071</td>\n",
       "      <td>2.334574</td>\n",
       "      <td>class_0</td>\n",
       "    </tr>\n",
       "    <tr>\n",
       "      <th>4</th>\n",
       "      <td>0.295700</td>\n",
       "      <td>0.227694</td>\n",
       "      <td>1.840403</td>\n",
       "      <td>0.451946</td>\n",
       "      <td>...</td>\n",
       "      <td>0.362177</td>\n",
       "      <td>0.449601</td>\n",
       "      <td>-0.037874</td>\n",
       "      <td>class_0</td>\n",
       "    </tr>\n",
       "  </tbody>\n",
       "</table>\n",
       "<p>5 rows × 14 columns</p>\n",
       "</div>"
      ],
      "text/plain": [
       "    alcohol  malic_acid       ash  alcalinity_of_ash  ...       hue  \\\n",
       "0  1.518613   -0.562250  0.232053          -1.169593  ...  0.362177   \n",
       "1  0.246290   -0.499413 -0.827996          -2.490847  ...  0.406051   \n",
       "2  0.196879    0.021231  1.109334          -0.268738  ...  0.318304   \n",
       "3  1.691550   -0.346811  0.487926          -0.809251  ... -0.427544   \n",
       "4  0.295700    0.227694  1.840403           0.451946  ...  0.362177   \n",
       "\n",
       "   od280/od315_of_diluted_wines   proline    class  \n",
       "0                      1.847920  1.013009  class_0  \n",
       "1                      1.113449  0.965242  class_0  \n",
       "2                      0.788587  1.395148  class_0  \n",
       "3                      1.184071  2.334574  class_0  \n",
       "4                      0.449601 -0.037874  class_0  \n",
       "\n",
       "[5 rows x 14 columns]"
      ]
     },
     "execution_count": 25,
     "metadata": {},
     "output_type": "execute_result"
    }
   ],
   "source": [
    "dfS = pd.DataFrame(scaler.fit_transform(df.iloc[:, :-1]), columns=df.columns[:-1])                                       \n",
    "dfS['class'] = df['class']\n",
    "dfS.head()"
   ]
  },
  {
   "cell_type": "code",
   "execution_count": 26,
   "metadata": {},
   "outputs": [
    {
     "data": {
      "application/vnd.plotly.v1+json": {
       "config": {
        "plotlyServerURL": "https://plot.ly"
       },
       "data": [
        {
         "alignmentgroup": "True",
         "hovertemplate": "variable=%{x}<br>value=%{y}<extra></extra>",
         "legendgroup": "",
         "marker": {
          "color": "#636efa"
         },
         "name": "",
         "notched": false,
         "offsetgroup": "",
         "orientation": "v",
         "showlegend": false,
         "type": "box",
         "x": [
          "alcohol",
          "alcohol",
          "alcohol",
          "alcohol",
          "alcohol",
          "alcohol",
          "alcohol",
          "alcohol",
          "alcohol",
          "alcohol",
          "alcohol",
          "alcohol",
          "alcohol",
          "alcohol",
          "alcohol",
          "alcohol",
          "alcohol",
          "alcohol",
          "alcohol",
          "alcohol",
          "alcohol",
          "alcohol",
          "alcohol",
          "alcohol",
          "alcohol",
          "alcohol",
          "alcohol",
          "alcohol",
          "alcohol",
          "alcohol",
          "alcohol",
          "alcohol",
          "alcohol",
          "alcohol",
          "alcohol",
          "alcohol",
          "alcohol",
          "alcohol",
          "alcohol",
          "alcohol",
          "alcohol",
          "alcohol",
          "alcohol",
          "alcohol",
          "alcohol",
          "alcohol",
          "alcohol",
          "alcohol",
          "alcohol",
          "alcohol",
          "alcohol",
          "alcohol",
          "alcohol",
          "alcohol",
          "alcohol",
          "alcohol",
          "alcohol",
          "alcohol",
          "alcohol",
          "alcohol",
          "alcohol",
          "alcohol",
          "alcohol",
          "alcohol",
          "alcohol",
          "alcohol",
          "alcohol",
          "alcohol",
          "alcohol",
          "alcohol",
          "alcohol",
          "alcohol",
          "alcohol",
          "alcohol",
          "alcohol",
          "alcohol",
          "alcohol",
          "alcohol",
          "alcohol",
          "alcohol",
          "alcohol",
          "alcohol",
          "alcohol",
          "alcohol",
          "alcohol",
          "alcohol",
          "alcohol",
          "alcohol",
          "alcohol",
          "alcohol",
          "alcohol",
          "alcohol",
          "alcohol",
          "alcohol",
          "alcohol",
          "alcohol",
          "alcohol",
          "alcohol",
          "alcohol",
          "alcohol",
          "alcohol",
          "alcohol",
          "alcohol",
          "alcohol",
          "alcohol",
          "alcohol",
          "alcohol",
          "alcohol",
          "alcohol",
          "alcohol",
          "alcohol",
          "alcohol",
          "alcohol",
          "alcohol",
          "alcohol",
          "alcohol",
          "alcohol",
          "alcohol",
          "alcohol",
          "alcohol",
          "alcohol",
          "alcohol",
          "alcohol",
          "alcohol",
          "alcohol",
          "alcohol",
          "alcohol",
          "alcohol",
          "alcohol",
          "alcohol",
          "alcohol",
          "alcohol",
          "alcohol",
          "alcohol",
          "alcohol",
          "alcohol",
          "alcohol",
          "alcohol",
          "alcohol",
          "alcohol",
          "alcohol",
          "alcohol",
          "alcohol",
          "alcohol",
          "alcohol",
          "alcohol",
          "alcohol",
          "alcohol",
          "alcohol",
          "alcohol",
          "alcohol",
          "alcohol",
          "alcohol",
          "alcohol",
          "alcohol",
          "alcohol",
          "alcohol",
          "alcohol",
          "alcohol",
          "alcohol",
          "alcohol",
          "alcohol",
          "alcohol",
          "alcohol",
          "alcohol",
          "alcohol",
          "alcohol",
          "alcohol",
          "alcohol",
          "alcohol",
          "alcohol",
          "alcohol",
          "alcohol",
          "alcohol",
          "alcohol",
          "alcohol",
          "alcohol",
          "alcohol",
          "malic_acid",
          "malic_acid",
          "malic_acid",
          "malic_acid",
          "malic_acid",
          "malic_acid",
          "malic_acid",
          "malic_acid",
          "malic_acid",
          "malic_acid",
          "malic_acid",
          "malic_acid",
          "malic_acid",
          "malic_acid",
          "malic_acid",
          "malic_acid",
          "malic_acid",
          "malic_acid",
          "malic_acid",
          "malic_acid",
          "malic_acid",
          "malic_acid",
          "malic_acid",
          "malic_acid",
          "malic_acid",
          "malic_acid",
          "malic_acid",
          "malic_acid",
          "malic_acid",
          "malic_acid",
          "malic_acid",
          "malic_acid",
          "malic_acid",
          "malic_acid",
          "malic_acid",
          "malic_acid",
          "malic_acid",
          "malic_acid",
          "malic_acid",
          "malic_acid",
          "malic_acid",
          "malic_acid",
          "malic_acid",
          "malic_acid",
          "malic_acid",
          "malic_acid",
          "malic_acid",
          "malic_acid",
          "malic_acid",
          "malic_acid",
          "malic_acid",
          "malic_acid",
          "malic_acid",
          "malic_acid",
          "malic_acid",
          "malic_acid",
          "malic_acid",
          "malic_acid",
          "malic_acid",
          "malic_acid",
          "malic_acid",
          "malic_acid",
          "malic_acid",
          "malic_acid",
          "malic_acid",
          "malic_acid",
          "malic_acid",
          "malic_acid",
          "malic_acid",
          "malic_acid",
          "malic_acid",
          "malic_acid",
          "malic_acid",
          "malic_acid",
          "malic_acid",
          "malic_acid",
          "malic_acid",
          "malic_acid",
          "malic_acid",
          "malic_acid",
          "malic_acid",
          "malic_acid",
          "malic_acid",
          "malic_acid",
          "malic_acid",
          "malic_acid",
          "malic_acid",
          "malic_acid",
          "malic_acid",
          "malic_acid",
          "malic_acid",
          "malic_acid",
          "malic_acid",
          "malic_acid",
          "malic_acid",
          "malic_acid",
          "malic_acid",
          "malic_acid",
          "malic_acid",
          "malic_acid",
          "malic_acid",
          "malic_acid",
          "malic_acid",
          "malic_acid",
          "malic_acid",
          "malic_acid",
          "malic_acid",
          "malic_acid",
          "malic_acid",
          "malic_acid",
          "malic_acid",
          "malic_acid",
          "malic_acid",
          "malic_acid",
          "malic_acid",
          "malic_acid",
          "malic_acid",
          "malic_acid",
          "malic_acid",
          "malic_acid",
          "malic_acid",
          "malic_acid",
          "malic_acid",
          "malic_acid",
          "malic_acid",
          "malic_acid",
          "malic_acid",
          "malic_acid",
          "malic_acid",
          "malic_acid",
          "malic_acid",
          "malic_acid",
          "malic_acid",
          "malic_acid",
          "malic_acid",
          "malic_acid",
          "malic_acid",
          "malic_acid",
          "malic_acid",
          "malic_acid",
          "malic_acid",
          "malic_acid",
          "malic_acid",
          "malic_acid",
          "malic_acid",
          "malic_acid",
          "malic_acid",
          "malic_acid",
          "malic_acid",
          "malic_acid",
          "malic_acid",
          "malic_acid",
          "malic_acid",
          "malic_acid",
          "malic_acid",
          "malic_acid",
          "malic_acid",
          "malic_acid",
          "malic_acid",
          "malic_acid",
          "malic_acid",
          "malic_acid",
          "malic_acid",
          "malic_acid",
          "malic_acid",
          "malic_acid",
          "malic_acid",
          "malic_acid",
          "malic_acid",
          "malic_acid",
          "malic_acid",
          "malic_acid",
          "malic_acid",
          "malic_acid",
          "malic_acid",
          "malic_acid",
          "malic_acid",
          "malic_acid",
          "ash",
          "ash",
          "ash",
          "ash",
          "ash",
          "ash",
          "ash",
          "ash",
          "ash",
          "ash",
          "ash",
          "ash",
          "ash",
          "ash",
          "ash",
          "ash",
          "ash",
          "ash",
          "ash",
          "ash",
          "ash",
          "ash",
          "ash",
          "ash",
          "ash",
          "ash",
          "ash",
          "ash",
          "ash",
          "ash",
          "ash",
          "ash",
          "ash",
          "ash",
          "ash",
          "ash",
          "ash",
          "ash",
          "ash",
          "ash",
          "ash",
          "ash",
          "ash",
          "ash",
          "ash",
          "ash",
          "ash",
          "ash",
          "ash",
          "ash",
          "ash",
          "ash",
          "ash",
          "ash",
          "ash",
          "ash",
          "ash",
          "ash",
          "ash",
          "ash",
          "ash",
          "ash",
          "ash",
          "ash",
          "ash",
          "ash",
          "ash",
          "ash",
          "ash",
          "ash",
          "ash",
          "ash",
          "ash",
          "ash",
          "ash",
          "ash",
          "ash",
          "ash",
          "ash",
          "ash",
          "ash",
          "ash",
          "ash",
          "ash",
          "ash",
          "ash",
          "ash",
          "ash",
          "ash",
          "ash",
          "ash",
          "ash",
          "ash",
          "ash",
          "ash",
          "ash",
          "ash",
          "ash",
          "ash",
          "ash",
          "ash",
          "ash",
          "ash",
          "ash",
          "ash",
          "ash",
          "ash",
          "ash",
          "ash",
          "ash",
          "ash",
          "ash",
          "ash",
          "ash",
          "ash",
          "ash",
          "ash",
          "ash",
          "ash",
          "ash",
          "ash",
          "ash",
          "ash",
          "ash",
          "ash",
          "ash",
          "ash",
          "ash",
          "ash",
          "ash",
          "ash",
          "ash",
          "ash",
          "ash",
          "ash",
          "ash",
          "ash",
          "ash",
          "ash",
          "ash",
          "ash",
          "ash",
          "ash",
          "ash",
          "ash",
          "ash",
          "ash",
          "ash",
          "ash",
          "ash",
          "ash",
          "ash",
          "ash",
          "ash",
          "ash",
          "ash",
          "ash",
          "ash",
          "ash",
          "ash",
          "ash",
          "ash",
          "ash",
          "ash",
          "ash",
          "ash",
          "ash",
          "ash",
          "ash",
          "ash",
          "ash",
          "ash",
          "ash",
          "ash",
          "ash",
          "ash",
          "ash",
          "ash",
          "alcalinity_of_ash",
          "alcalinity_of_ash",
          "alcalinity_of_ash",
          "alcalinity_of_ash",
          "alcalinity_of_ash",
          "alcalinity_of_ash",
          "alcalinity_of_ash",
          "alcalinity_of_ash",
          "alcalinity_of_ash",
          "alcalinity_of_ash",
          "alcalinity_of_ash",
          "alcalinity_of_ash",
          "alcalinity_of_ash",
          "alcalinity_of_ash",
          "alcalinity_of_ash",
          "alcalinity_of_ash",
          "alcalinity_of_ash",
          "alcalinity_of_ash",
          "alcalinity_of_ash",
          "alcalinity_of_ash",
          "alcalinity_of_ash",
          "alcalinity_of_ash",
          "alcalinity_of_ash",
          "alcalinity_of_ash",
          "alcalinity_of_ash",
          "alcalinity_of_ash",
          "alcalinity_of_ash",
          "alcalinity_of_ash",
          "alcalinity_of_ash",
          "alcalinity_of_ash",
          "alcalinity_of_ash",
          "alcalinity_of_ash",
          "alcalinity_of_ash",
          "alcalinity_of_ash",
          "alcalinity_of_ash",
          "alcalinity_of_ash",
          "alcalinity_of_ash",
          "alcalinity_of_ash",
          "alcalinity_of_ash",
          "alcalinity_of_ash",
          "alcalinity_of_ash",
          "alcalinity_of_ash",
          "alcalinity_of_ash",
          "alcalinity_of_ash",
          "alcalinity_of_ash",
          "alcalinity_of_ash",
          "alcalinity_of_ash",
          "alcalinity_of_ash",
          "alcalinity_of_ash",
          "alcalinity_of_ash",
          "alcalinity_of_ash",
          "alcalinity_of_ash",
          "alcalinity_of_ash",
          "alcalinity_of_ash",
          "alcalinity_of_ash",
          "alcalinity_of_ash",
          "alcalinity_of_ash",
          "alcalinity_of_ash",
          "alcalinity_of_ash",
          "alcalinity_of_ash",
          "alcalinity_of_ash",
          "alcalinity_of_ash",
          "alcalinity_of_ash",
          "alcalinity_of_ash",
          "alcalinity_of_ash",
          "alcalinity_of_ash",
          "alcalinity_of_ash",
          "alcalinity_of_ash",
          "alcalinity_of_ash",
          "alcalinity_of_ash",
          "alcalinity_of_ash",
          "alcalinity_of_ash",
          "alcalinity_of_ash",
          "alcalinity_of_ash",
          "alcalinity_of_ash",
          "alcalinity_of_ash",
          "alcalinity_of_ash",
          "alcalinity_of_ash",
          "alcalinity_of_ash",
          "alcalinity_of_ash",
          "alcalinity_of_ash",
          "alcalinity_of_ash",
          "alcalinity_of_ash",
          "alcalinity_of_ash",
          "alcalinity_of_ash",
          "alcalinity_of_ash",
          "alcalinity_of_ash",
          "alcalinity_of_ash",
          "alcalinity_of_ash",
          "alcalinity_of_ash",
          "alcalinity_of_ash",
          "alcalinity_of_ash",
          "alcalinity_of_ash",
          "alcalinity_of_ash",
          "alcalinity_of_ash",
          "alcalinity_of_ash",
          "alcalinity_of_ash",
          "alcalinity_of_ash",
          "alcalinity_of_ash",
          "alcalinity_of_ash",
          "alcalinity_of_ash",
          "alcalinity_of_ash",
          "alcalinity_of_ash",
          "alcalinity_of_ash",
          "alcalinity_of_ash",
          "alcalinity_of_ash",
          "alcalinity_of_ash",
          "alcalinity_of_ash",
          "alcalinity_of_ash",
          "alcalinity_of_ash",
          "alcalinity_of_ash",
          "alcalinity_of_ash",
          "alcalinity_of_ash",
          "alcalinity_of_ash",
          "alcalinity_of_ash",
          "alcalinity_of_ash",
          "alcalinity_of_ash",
          "alcalinity_of_ash",
          "alcalinity_of_ash",
          "alcalinity_of_ash",
          "alcalinity_of_ash",
          "alcalinity_of_ash",
          "alcalinity_of_ash",
          "alcalinity_of_ash",
          "alcalinity_of_ash",
          "alcalinity_of_ash",
          "alcalinity_of_ash",
          "alcalinity_of_ash",
          "alcalinity_of_ash",
          "alcalinity_of_ash",
          "alcalinity_of_ash",
          "alcalinity_of_ash",
          "alcalinity_of_ash",
          "alcalinity_of_ash",
          "alcalinity_of_ash",
          "alcalinity_of_ash",
          "alcalinity_of_ash",
          "alcalinity_of_ash",
          "alcalinity_of_ash",
          "alcalinity_of_ash",
          "alcalinity_of_ash",
          "alcalinity_of_ash",
          "alcalinity_of_ash",
          "alcalinity_of_ash",
          "alcalinity_of_ash",
          "alcalinity_of_ash",
          "alcalinity_of_ash",
          "alcalinity_of_ash",
          "alcalinity_of_ash",
          "alcalinity_of_ash",
          "alcalinity_of_ash",
          "alcalinity_of_ash",
          "alcalinity_of_ash",
          "alcalinity_of_ash",
          "alcalinity_of_ash",
          "alcalinity_of_ash",
          "alcalinity_of_ash",
          "alcalinity_of_ash",
          "alcalinity_of_ash",
          "alcalinity_of_ash",
          "alcalinity_of_ash",
          "alcalinity_of_ash",
          "alcalinity_of_ash",
          "alcalinity_of_ash",
          "alcalinity_of_ash",
          "alcalinity_of_ash",
          "alcalinity_of_ash",
          "alcalinity_of_ash",
          "alcalinity_of_ash",
          "alcalinity_of_ash",
          "alcalinity_of_ash",
          "alcalinity_of_ash",
          "alcalinity_of_ash",
          "alcalinity_of_ash",
          "alcalinity_of_ash",
          "alcalinity_of_ash",
          "alcalinity_of_ash",
          "alcalinity_of_ash",
          "magnesium",
          "magnesium",
          "magnesium",
          "magnesium",
          "magnesium",
          "magnesium",
          "magnesium",
          "magnesium",
          "magnesium",
          "magnesium",
          "magnesium",
          "magnesium",
          "magnesium",
          "magnesium",
          "magnesium",
          "magnesium",
          "magnesium",
          "magnesium",
          "magnesium",
          "magnesium",
          "magnesium",
          "magnesium",
          "magnesium",
          "magnesium",
          "magnesium",
          "magnesium",
          "magnesium",
          "magnesium",
          "magnesium",
          "magnesium",
          "magnesium",
          "magnesium",
          "magnesium",
          "magnesium",
          "magnesium",
          "magnesium",
          "magnesium",
          "magnesium",
          "magnesium",
          "magnesium",
          "magnesium",
          "magnesium",
          "magnesium",
          "magnesium",
          "magnesium",
          "magnesium",
          "magnesium",
          "magnesium",
          "magnesium",
          "magnesium",
          "magnesium",
          "magnesium",
          "magnesium",
          "magnesium",
          "magnesium",
          "magnesium",
          "magnesium",
          "magnesium",
          "magnesium",
          "magnesium",
          "magnesium",
          "magnesium",
          "magnesium",
          "magnesium",
          "magnesium",
          "magnesium",
          "magnesium",
          "magnesium",
          "magnesium",
          "magnesium",
          "magnesium",
          "magnesium",
          "magnesium",
          "magnesium",
          "magnesium",
          "magnesium",
          "magnesium",
          "magnesium",
          "magnesium",
          "magnesium",
          "magnesium",
          "magnesium",
          "magnesium",
          "magnesium",
          "magnesium",
          "magnesium",
          "magnesium",
          "magnesium",
          "magnesium",
          "magnesium",
          "magnesium",
          "magnesium",
          "magnesium",
          "magnesium",
          "magnesium",
          "magnesium",
          "magnesium",
          "magnesium",
          "magnesium",
          "magnesium",
          "magnesium",
          "magnesium",
          "magnesium",
          "magnesium",
          "magnesium",
          "magnesium",
          "magnesium",
          "magnesium",
          "magnesium",
          "magnesium",
          "magnesium",
          "magnesium",
          "magnesium",
          "magnesium",
          "magnesium",
          "magnesium",
          "magnesium",
          "magnesium",
          "magnesium",
          "magnesium",
          "magnesium",
          "magnesium",
          "magnesium",
          "magnesium",
          "magnesium",
          "magnesium",
          "magnesium",
          "magnesium",
          "magnesium",
          "magnesium",
          "magnesium",
          "magnesium",
          "magnesium",
          "magnesium",
          "magnesium",
          "magnesium",
          "magnesium",
          "magnesium",
          "magnesium",
          "magnesium",
          "magnesium",
          "magnesium",
          "magnesium",
          "magnesium",
          "magnesium",
          "magnesium",
          "magnesium",
          "magnesium",
          "magnesium",
          "magnesium",
          "magnesium",
          "magnesium",
          "magnesium",
          "magnesium",
          "magnesium",
          "magnesium",
          "magnesium",
          "magnesium",
          "magnesium",
          "magnesium",
          "magnesium",
          "magnesium",
          "magnesium",
          "magnesium",
          "magnesium",
          "magnesium",
          "magnesium",
          "magnesium",
          "magnesium",
          "magnesium",
          "magnesium",
          "magnesium",
          "magnesium",
          "magnesium",
          "magnesium",
          "magnesium",
          "magnesium",
          "magnesium",
          "total_phenols",
          "total_phenols",
          "total_phenols",
          "total_phenols",
          "total_phenols",
          "total_phenols",
          "total_phenols",
          "total_phenols",
          "total_phenols",
          "total_phenols",
          "total_phenols",
          "total_phenols",
          "total_phenols",
          "total_phenols",
          "total_phenols",
          "total_phenols",
          "total_phenols",
          "total_phenols",
          "total_phenols",
          "total_phenols",
          "total_phenols",
          "total_phenols",
          "total_phenols",
          "total_phenols",
          "total_phenols",
          "total_phenols",
          "total_phenols",
          "total_phenols",
          "total_phenols",
          "total_phenols",
          "total_phenols",
          "total_phenols",
          "total_phenols",
          "total_phenols",
          "total_phenols",
          "total_phenols",
          "total_phenols",
          "total_phenols",
          "total_phenols",
          "total_phenols",
          "total_phenols",
          "total_phenols",
          "total_phenols",
          "total_phenols",
          "total_phenols",
          "total_phenols",
          "total_phenols",
          "total_phenols",
          "total_phenols",
          "total_phenols",
          "total_phenols",
          "total_phenols",
          "total_phenols",
          "total_phenols",
          "total_phenols",
          "total_phenols",
          "total_phenols",
          "total_phenols",
          "total_phenols",
          "total_phenols",
          "total_phenols",
          "total_phenols",
          "total_phenols",
          "total_phenols",
          "total_phenols",
          "total_phenols",
          "total_phenols",
          "total_phenols",
          "total_phenols",
          "total_phenols",
          "total_phenols",
          "total_phenols",
          "total_phenols",
          "total_phenols",
          "total_phenols",
          "total_phenols",
          "total_phenols",
          "total_phenols",
          "total_phenols",
          "total_phenols",
          "total_phenols",
          "total_phenols",
          "total_phenols",
          "total_phenols",
          "total_phenols",
          "total_phenols",
          "total_phenols",
          "total_phenols",
          "total_phenols",
          "total_phenols",
          "total_phenols",
          "total_phenols",
          "total_phenols",
          "total_phenols",
          "total_phenols",
          "total_phenols",
          "total_phenols",
          "total_phenols",
          "total_phenols",
          "total_phenols",
          "total_phenols",
          "total_phenols",
          "total_phenols",
          "total_phenols",
          "total_phenols",
          "total_phenols",
          "total_phenols",
          "total_phenols",
          "total_phenols",
          "total_phenols",
          "total_phenols",
          "total_phenols",
          "total_phenols",
          "total_phenols",
          "total_phenols",
          "total_phenols",
          "total_phenols",
          "total_phenols",
          "total_phenols",
          "total_phenols",
          "total_phenols",
          "total_phenols",
          "total_phenols",
          "total_phenols",
          "total_phenols",
          "total_phenols",
          "total_phenols",
          "total_phenols",
          "total_phenols",
          "total_phenols",
          "total_phenols",
          "total_phenols",
          "total_phenols",
          "total_phenols",
          "total_phenols",
          "total_phenols",
          "total_phenols",
          "total_phenols",
          "total_phenols",
          "total_phenols",
          "total_phenols",
          "total_phenols",
          "total_phenols",
          "total_phenols",
          "total_phenols",
          "total_phenols",
          "total_phenols",
          "total_phenols",
          "total_phenols",
          "total_phenols",
          "total_phenols",
          "total_phenols",
          "total_phenols",
          "total_phenols",
          "total_phenols",
          "total_phenols",
          "total_phenols",
          "total_phenols",
          "total_phenols",
          "total_phenols",
          "total_phenols",
          "total_phenols",
          "total_phenols",
          "total_phenols",
          "total_phenols",
          "total_phenols",
          "total_phenols",
          "total_phenols",
          "total_phenols",
          "total_phenols",
          "total_phenols",
          "total_phenols",
          "total_phenols",
          "total_phenols",
          "total_phenols",
          "total_phenols",
          "total_phenols",
          "total_phenols",
          "flavanoids",
          "flavanoids",
          "flavanoids",
          "flavanoids",
          "flavanoids",
          "flavanoids",
          "flavanoids",
          "flavanoids",
          "flavanoids",
          "flavanoids",
          "flavanoids",
          "flavanoids",
          "flavanoids",
          "flavanoids",
          "flavanoids",
          "flavanoids",
          "flavanoids",
          "flavanoids",
          "flavanoids",
          "flavanoids",
          "flavanoids",
          "flavanoids",
          "flavanoids",
          "flavanoids",
          "flavanoids",
          "flavanoids",
          "flavanoids",
          "flavanoids",
          "flavanoids",
          "flavanoids",
          "flavanoids",
          "flavanoids",
          "flavanoids",
          "flavanoids",
          "flavanoids",
          "flavanoids",
          "flavanoids",
          "flavanoids",
          "flavanoids",
          "flavanoids",
          "flavanoids",
          "flavanoids",
          "flavanoids",
          "flavanoids",
          "flavanoids",
          "flavanoids",
          "flavanoids",
          "flavanoids",
          "flavanoids",
          "flavanoids",
          "flavanoids",
          "flavanoids",
          "flavanoids",
          "flavanoids",
          "flavanoids",
          "flavanoids",
          "flavanoids",
          "flavanoids",
          "flavanoids",
          "flavanoids",
          "flavanoids",
          "flavanoids",
          "flavanoids",
          "flavanoids",
          "flavanoids",
          "flavanoids",
          "flavanoids",
          "flavanoids",
          "flavanoids",
          "flavanoids",
          "flavanoids",
          "flavanoids",
          "flavanoids",
          "flavanoids",
          "flavanoids",
          "flavanoids",
          "flavanoids",
          "flavanoids",
          "flavanoids",
          "flavanoids",
          "flavanoids",
          "flavanoids",
          "flavanoids",
          "flavanoids",
          "flavanoids",
          "flavanoids",
          "flavanoids",
          "flavanoids",
          "flavanoids",
          "flavanoids",
          "flavanoids",
          "flavanoids",
          "flavanoids",
          "flavanoids",
          "flavanoids",
          "flavanoids",
          "flavanoids",
          "flavanoids",
          "flavanoids",
          "flavanoids",
          "flavanoids",
          "flavanoids",
          "flavanoids",
          "flavanoids",
          "flavanoids",
          "flavanoids",
          "flavanoids",
          "flavanoids",
          "flavanoids",
          "flavanoids",
          "flavanoids",
          "flavanoids",
          "flavanoids",
          "flavanoids",
          "flavanoids",
          "flavanoids",
          "flavanoids",
          "flavanoids",
          "flavanoids",
          "flavanoids",
          "flavanoids",
          "flavanoids",
          "flavanoids",
          "flavanoids",
          "flavanoids",
          "flavanoids",
          "flavanoids",
          "flavanoids",
          "flavanoids",
          "flavanoids",
          "flavanoids",
          "flavanoids",
          "flavanoids",
          "flavanoids",
          "flavanoids",
          "flavanoids",
          "flavanoids",
          "flavanoids",
          "flavanoids",
          "flavanoids",
          "flavanoids",
          "flavanoids",
          "flavanoids",
          "flavanoids",
          "flavanoids",
          "flavanoids",
          "flavanoids",
          "flavanoids",
          "flavanoids",
          "flavanoids",
          "flavanoids",
          "flavanoids",
          "flavanoids",
          "flavanoids",
          "flavanoids",
          "flavanoids",
          "flavanoids",
          "flavanoids",
          "flavanoids",
          "flavanoids",
          "flavanoids",
          "flavanoids",
          "flavanoids",
          "flavanoids",
          "flavanoids",
          "flavanoids",
          "flavanoids",
          "flavanoids",
          "flavanoids",
          "flavanoids",
          "flavanoids",
          "flavanoids",
          "flavanoids",
          "flavanoids",
          "flavanoids",
          "flavanoids",
          "flavanoids",
          "flavanoids",
          "nonflavanoid_phenols",
          "nonflavanoid_phenols",
          "nonflavanoid_phenols",
          "nonflavanoid_phenols",
          "nonflavanoid_phenols",
          "nonflavanoid_phenols",
          "nonflavanoid_phenols",
          "nonflavanoid_phenols",
          "nonflavanoid_phenols",
          "nonflavanoid_phenols",
          "nonflavanoid_phenols",
          "nonflavanoid_phenols",
          "nonflavanoid_phenols",
          "nonflavanoid_phenols",
          "nonflavanoid_phenols",
          "nonflavanoid_phenols",
          "nonflavanoid_phenols",
          "nonflavanoid_phenols",
          "nonflavanoid_phenols",
          "nonflavanoid_phenols",
          "nonflavanoid_phenols",
          "nonflavanoid_phenols",
          "nonflavanoid_phenols",
          "nonflavanoid_phenols",
          "nonflavanoid_phenols",
          "nonflavanoid_phenols",
          "nonflavanoid_phenols",
          "nonflavanoid_phenols",
          "nonflavanoid_phenols",
          "nonflavanoid_phenols",
          "nonflavanoid_phenols",
          "nonflavanoid_phenols",
          "nonflavanoid_phenols",
          "nonflavanoid_phenols",
          "nonflavanoid_phenols",
          "nonflavanoid_phenols",
          "nonflavanoid_phenols",
          "nonflavanoid_phenols",
          "nonflavanoid_phenols",
          "nonflavanoid_phenols",
          "nonflavanoid_phenols",
          "nonflavanoid_phenols",
          "nonflavanoid_phenols",
          "nonflavanoid_phenols",
          "nonflavanoid_phenols",
          "nonflavanoid_phenols",
          "nonflavanoid_phenols",
          "nonflavanoid_phenols",
          "nonflavanoid_phenols",
          "nonflavanoid_phenols",
          "nonflavanoid_phenols",
          "nonflavanoid_phenols",
          "nonflavanoid_phenols",
          "nonflavanoid_phenols",
          "nonflavanoid_phenols",
          "nonflavanoid_phenols",
          "nonflavanoid_phenols",
          "nonflavanoid_phenols",
          "nonflavanoid_phenols",
          "nonflavanoid_phenols",
          "nonflavanoid_phenols",
          "nonflavanoid_phenols",
          "nonflavanoid_phenols",
          "nonflavanoid_phenols",
          "nonflavanoid_phenols",
          "nonflavanoid_phenols",
          "nonflavanoid_phenols",
          "nonflavanoid_phenols",
          "nonflavanoid_phenols",
          "nonflavanoid_phenols",
          "nonflavanoid_phenols",
          "nonflavanoid_phenols",
          "nonflavanoid_phenols",
          "nonflavanoid_phenols",
          "nonflavanoid_phenols",
          "nonflavanoid_phenols",
          "nonflavanoid_phenols",
          "nonflavanoid_phenols",
          "nonflavanoid_phenols",
          "nonflavanoid_phenols",
          "nonflavanoid_phenols",
          "nonflavanoid_phenols",
          "nonflavanoid_phenols",
          "nonflavanoid_phenols",
          "nonflavanoid_phenols",
          "nonflavanoid_phenols",
          "nonflavanoid_phenols",
          "nonflavanoid_phenols",
          "nonflavanoid_phenols",
          "nonflavanoid_phenols",
          "nonflavanoid_phenols",
          "nonflavanoid_phenols",
          "nonflavanoid_phenols",
          "nonflavanoid_phenols",
          "nonflavanoid_phenols",
          "nonflavanoid_phenols",
          "nonflavanoid_phenols",
          "nonflavanoid_phenols",
          "nonflavanoid_phenols",
          "nonflavanoid_phenols",
          "nonflavanoid_phenols",
          "nonflavanoid_phenols",
          "nonflavanoid_phenols",
          "nonflavanoid_phenols",
          "nonflavanoid_phenols",
          "nonflavanoid_phenols",
          "nonflavanoid_phenols",
          "nonflavanoid_phenols",
          "nonflavanoid_phenols",
          "nonflavanoid_phenols",
          "nonflavanoid_phenols",
          "nonflavanoid_phenols",
          "nonflavanoid_phenols",
          "nonflavanoid_phenols",
          "nonflavanoid_phenols",
          "nonflavanoid_phenols",
          "nonflavanoid_phenols",
          "nonflavanoid_phenols",
          "nonflavanoid_phenols",
          "nonflavanoid_phenols",
          "nonflavanoid_phenols",
          "nonflavanoid_phenols",
          "nonflavanoid_phenols",
          "nonflavanoid_phenols",
          "nonflavanoid_phenols",
          "nonflavanoid_phenols",
          "nonflavanoid_phenols",
          "nonflavanoid_phenols",
          "nonflavanoid_phenols",
          "nonflavanoid_phenols",
          "nonflavanoid_phenols",
          "nonflavanoid_phenols",
          "nonflavanoid_phenols",
          "nonflavanoid_phenols",
          "nonflavanoid_phenols",
          "nonflavanoid_phenols",
          "nonflavanoid_phenols",
          "nonflavanoid_phenols",
          "nonflavanoid_phenols",
          "nonflavanoid_phenols",
          "nonflavanoid_phenols",
          "nonflavanoid_phenols",
          "nonflavanoid_phenols",
          "nonflavanoid_phenols",
          "nonflavanoid_phenols",
          "nonflavanoid_phenols",
          "nonflavanoid_phenols",
          "nonflavanoid_phenols",
          "nonflavanoid_phenols",
          "nonflavanoid_phenols",
          "nonflavanoid_phenols",
          "nonflavanoid_phenols",
          "nonflavanoid_phenols",
          "nonflavanoid_phenols",
          "nonflavanoid_phenols",
          "nonflavanoid_phenols",
          "nonflavanoid_phenols",
          "nonflavanoid_phenols",
          "nonflavanoid_phenols",
          "nonflavanoid_phenols",
          "nonflavanoid_phenols",
          "nonflavanoid_phenols",
          "nonflavanoid_phenols",
          "nonflavanoid_phenols",
          "nonflavanoid_phenols",
          "nonflavanoid_phenols",
          "nonflavanoid_phenols",
          "nonflavanoid_phenols",
          "nonflavanoid_phenols",
          "nonflavanoid_phenols",
          "nonflavanoid_phenols",
          "nonflavanoid_phenols",
          "nonflavanoid_phenols",
          "nonflavanoid_phenols",
          "nonflavanoid_phenols",
          "nonflavanoid_phenols",
          "nonflavanoid_phenols",
          "nonflavanoid_phenols",
          "proanthocyanins",
          "proanthocyanins",
          "proanthocyanins",
          "proanthocyanins",
          "proanthocyanins",
          "proanthocyanins",
          "proanthocyanins",
          "proanthocyanins",
          "proanthocyanins",
          "proanthocyanins",
          "proanthocyanins",
          "proanthocyanins",
          "proanthocyanins",
          "proanthocyanins",
          "proanthocyanins",
          "proanthocyanins",
          "proanthocyanins",
          "proanthocyanins",
          "proanthocyanins",
          "proanthocyanins",
          "proanthocyanins",
          "proanthocyanins",
          "proanthocyanins",
          "proanthocyanins",
          "proanthocyanins",
          "proanthocyanins",
          "proanthocyanins",
          "proanthocyanins",
          "proanthocyanins",
          "proanthocyanins",
          "proanthocyanins",
          "proanthocyanins",
          "proanthocyanins",
          "proanthocyanins",
          "proanthocyanins",
          "proanthocyanins",
          "proanthocyanins",
          "proanthocyanins",
          "proanthocyanins",
          "proanthocyanins",
          "proanthocyanins",
          "proanthocyanins",
          "proanthocyanins",
          "proanthocyanins",
          "proanthocyanins",
          "proanthocyanins",
          "proanthocyanins",
          "proanthocyanins",
          "proanthocyanins",
          "proanthocyanins",
          "proanthocyanins",
          "proanthocyanins",
          "proanthocyanins",
          "proanthocyanins",
          "proanthocyanins",
          "proanthocyanins",
          "proanthocyanins",
          "proanthocyanins",
          "proanthocyanins",
          "proanthocyanins",
          "proanthocyanins",
          "proanthocyanins",
          "proanthocyanins",
          "proanthocyanins",
          "proanthocyanins",
          "proanthocyanins",
          "proanthocyanins",
          "proanthocyanins",
          "proanthocyanins",
          "proanthocyanins",
          "proanthocyanins",
          "proanthocyanins",
          "proanthocyanins",
          "proanthocyanins",
          "proanthocyanins",
          "proanthocyanins",
          "proanthocyanins",
          "proanthocyanins",
          "proanthocyanins",
          "proanthocyanins",
          "proanthocyanins",
          "proanthocyanins",
          "proanthocyanins",
          "proanthocyanins",
          "proanthocyanins",
          "proanthocyanins",
          "proanthocyanins",
          "proanthocyanins",
          "proanthocyanins",
          "proanthocyanins",
          "proanthocyanins",
          "proanthocyanins",
          "proanthocyanins",
          "proanthocyanins",
          "proanthocyanins",
          "proanthocyanins",
          "proanthocyanins",
          "proanthocyanins",
          "proanthocyanins",
          "proanthocyanins",
          "proanthocyanins",
          "proanthocyanins",
          "proanthocyanins",
          "proanthocyanins",
          "proanthocyanins",
          "proanthocyanins",
          "proanthocyanins",
          "proanthocyanins",
          "proanthocyanins",
          "proanthocyanins",
          "proanthocyanins",
          "proanthocyanins",
          "proanthocyanins",
          "proanthocyanins",
          "proanthocyanins",
          "proanthocyanins",
          "proanthocyanins",
          "proanthocyanins",
          "proanthocyanins",
          "proanthocyanins",
          "proanthocyanins",
          "proanthocyanins",
          "proanthocyanins",
          "proanthocyanins",
          "proanthocyanins",
          "proanthocyanins",
          "proanthocyanins",
          "proanthocyanins",
          "proanthocyanins",
          "proanthocyanins",
          "proanthocyanins",
          "proanthocyanins",
          "proanthocyanins",
          "proanthocyanins",
          "proanthocyanins",
          "proanthocyanins",
          "proanthocyanins",
          "proanthocyanins",
          "proanthocyanins",
          "proanthocyanins",
          "proanthocyanins",
          "proanthocyanins",
          "proanthocyanins",
          "proanthocyanins",
          "proanthocyanins",
          "proanthocyanins",
          "proanthocyanins",
          "proanthocyanins",
          "proanthocyanins",
          "proanthocyanins",
          "proanthocyanins",
          "proanthocyanins",
          "proanthocyanins",
          "proanthocyanins",
          "proanthocyanins",
          "proanthocyanins",
          "proanthocyanins",
          "proanthocyanins",
          "proanthocyanins",
          "proanthocyanins",
          "proanthocyanins",
          "proanthocyanins",
          "proanthocyanins",
          "proanthocyanins",
          "proanthocyanins",
          "proanthocyanins",
          "proanthocyanins",
          "proanthocyanins",
          "proanthocyanins",
          "proanthocyanins",
          "proanthocyanins",
          "proanthocyanins",
          "proanthocyanins",
          "proanthocyanins",
          "proanthocyanins",
          "proanthocyanins",
          "proanthocyanins",
          "proanthocyanins",
          "color_intensity",
          "color_intensity",
          "color_intensity",
          "color_intensity",
          "color_intensity",
          "color_intensity",
          "color_intensity",
          "color_intensity",
          "color_intensity",
          "color_intensity",
          "color_intensity",
          "color_intensity",
          "color_intensity",
          "color_intensity",
          "color_intensity",
          "color_intensity",
          "color_intensity",
          "color_intensity",
          "color_intensity",
          "color_intensity",
          "color_intensity",
          "color_intensity",
          "color_intensity",
          "color_intensity",
          "color_intensity",
          "color_intensity",
          "color_intensity",
          "color_intensity",
          "color_intensity",
          "color_intensity",
          "color_intensity",
          "color_intensity",
          "color_intensity",
          "color_intensity",
          "color_intensity",
          "color_intensity",
          "color_intensity",
          "color_intensity",
          "color_intensity",
          "color_intensity",
          "color_intensity",
          "color_intensity",
          "color_intensity",
          "color_intensity",
          "color_intensity",
          "color_intensity",
          "color_intensity",
          "color_intensity",
          "color_intensity",
          "color_intensity",
          "color_intensity",
          "color_intensity",
          "color_intensity",
          "color_intensity",
          "color_intensity",
          "color_intensity",
          "color_intensity",
          "color_intensity",
          "color_intensity",
          "color_intensity",
          "color_intensity",
          "color_intensity",
          "color_intensity",
          "color_intensity",
          "color_intensity",
          "color_intensity",
          "color_intensity",
          "color_intensity",
          "color_intensity",
          "color_intensity",
          "color_intensity",
          "color_intensity",
          "color_intensity",
          "color_intensity",
          "color_intensity",
          "color_intensity",
          "color_intensity",
          "color_intensity",
          "color_intensity",
          "color_intensity",
          "color_intensity",
          "color_intensity",
          "color_intensity",
          "color_intensity",
          "color_intensity",
          "color_intensity",
          "color_intensity",
          "color_intensity",
          "color_intensity",
          "color_intensity",
          "color_intensity",
          "color_intensity",
          "color_intensity",
          "color_intensity",
          "color_intensity",
          "color_intensity",
          "color_intensity",
          "color_intensity",
          "color_intensity",
          "color_intensity",
          "color_intensity",
          "color_intensity",
          "color_intensity",
          "color_intensity",
          "color_intensity",
          "color_intensity",
          "color_intensity",
          "color_intensity",
          "color_intensity",
          "color_intensity",
          "color_intensity",
          "color_intensity",
          "color_intensity",
          "color_intensity",
          "color_intensity",
          "color_intensity",
          "color_intensity",
          "color_intensity",
          "color_intensity",
          "color_intensity",
          "color_intensity",
          "color_intensity",
          "color_intensity",
          "color_intensity",
          "color_intensity",
          "color_intensity",
          "color_intensity",
          "color_intensity",
          "color_intensity",
          "color_intensity",
          "color_intensity",
          "color_intensity",
          "color_intensity",
          "color_intensity",
          "color_intensity",
          "color_intensity",
          "color_intensity",
          "color_intensity",
          "color_intensity",
          "color_intensity",
          "color_intensity",
          "color_intensity",
          "color_intensity",
          "color_intensity",
          "color_intensity",
          "color_intensity",
          "color_intensity",
          "color_intensity",
          "color_intensity",
          "color_intensity",
          "color_intensity",
          "color_intensity",
          "color_intensity",
          "color_intensity",
          "color_intensity",
          "color_intensity",
          "color_intensity",
          "color_intensity",
          "color_intensity",
          "color_intensity",
          "color_intensity",
          "color_intensity",
          "color_intensity",
          "color_intensity",
          "color_intensity",
          "color_intensity",
          "color_intensity",
          "color_intensity",
          "color_intensity",
          "color_intensity",
          "color_intensity",
          "color_intensity",
          "color_intensity",
          "color_intensity",
          "color_intensity",
          "color_intensity",
          "color_intensity",
          "color_intensity",
          "hue",
          "hue",
          "hue",
          "hue",
          "hue",
          "hue",
          "hue",
          "hue",
          "hue",
          "hue",
          "hue",
          "hue",
          "hue",
          "hue",
          "hue",
          "hue",
          "hue",
          "hue",
          "hue",
          "hue",
          "hue",
          "hue",
          "hue",
          "hue",
          "hue",
          "hue",
          "hue",
          "hue",
          "hue",
          "hue",
          "hue",
          "hue",
          "hue",
          "hue",
          "hue",
          "hue",
          "hue",
          "hue",
          "hue",
          "hue",
          "hue",
          "hue",
          "hue",
          "hue",
          "hue",
          "hue",
          "hue",
          "hue",
          "hue",
          "hue",
          "hue",
          "hue",
          "hue",
          "hue",
          "hue",
          "hue",
          "hue",
          "hue",
          "hue",
          "hue",
          "hue",
          "hue",
          "hue",
          "hue",
          "hue",
          "hue",
          "hue",
          "hue",
          "hue",
          "hue",
          "hue",
          "hue",
          "hue",
          "hue",
          "hue",
          "hue",
          "hue",
          "hue",
          "hue",
          "hue",
          "hue",
          "hue",
          "hue",
          "hue",
          "hue",
          "hue",
          "hue",
          "hue",
          "hue",
          "hue",
          "hue",
          "hue",
          "hue",
          "hue",
          "hue",
          "hue",
          "hue",
          "hue",
          "hue",
          "hue",
          "hue",
          "hue",
          "hue",
          "hue",
          "hue",
          "hue",
          "hue",
          "hue",
          "hue",
          "hue",
          "hue",
          "hue",
          "hue",
          "hue",
          "hue",
          "hue",
          "hue",
          "hue",
          "hue",
          "hue",
          "hue",
          "hue",
          "hue",
          "hue",
          "hue",
          "hue",
          "hue",
          "hue",
          "hue",
          "hue",
          "hue",
          "hue",
          "hue",
          "hue",
          "hue",
          "hue",
          "hue",
          "hue",
          "hue",
          "hue",
          "hue",
          "hue",
          "hue",
          "hue",
          "hue",
          "hue",
          "hue",
          "hue",
          "hue",
          "hue",
          "hue",
          "hue",
          "hue",
          "hue",
          "hue",
          "hue",
          "hue",
          "hue",
          "hue",
          "hue",
          "hue",
          "hue",
          "hue",
          "hue",
          "hue",
          "hue",
          "hue",
          "hue",
          "hue",
          "hue",
          "hue",
          "hue",
          "hue",
          "hue",
          "hue",
          "hue",
          "hue",
          "hue",
          "od280/od315_of_diluted_wines",
          "od280/od315_of_diluted_wines",
          "od280/od315_of_diluted_wines",
          "od280/od315_of_diluted_wines",
          "od280/od315_of_diluted_wines",
          "od280/od315_of_diluted_wines",
          "od280/od315_of_diluted_wines",
          "od280/od315_of_diluted_wines",
          "od280/od315_of_diluted_wines",
          "od280/od315_of_diluted_wines",
          "od280/od315_of_diluted_wines",
          "od280/od315_of_diluted_wines",
          "od280/od315_of_diluted_wines",
          "od280/od315_of_diluted_wines",
          "od280/od315_of_diluted_wines",
          "od280/od315_of_diluted_wines",
          "od280/od315_of_diluted_wines",
          "od280/od315_of_diluted_wines",
          "od280/od315_of_diluted_wines",
          "od280/od315_of_diluted_wines",
          "od280/od315_of_diluted_wines",
          "od280/od315_of_diluted_wines",
          "od280/od315_of_diluted_wines",
          "od280/od315_of_diluted_wines",
          "od280/od315_of_diluted_wines",
          "od280/od315_of_diluted_wines",
          "od280/od315_of_diluted_wines",
          "od280/od315_of_diluted_wines",
          "od280/od315_of_diluted_wines",
          "od280/od315_of_diluted_wines",
          "od280/od315_of_diluted_wines",
          "od280/od315_of_diluted_wines",
          "od280/od315_of_diluted_wines",
          "od280/od315_of_diluted_wines",
          "od280/od315_of_diluted_wines",
          "od280/od315_of_diluted_wines",
          "od280/od315_of_diluted_wines",
          "od280/od315_of_diluted_wines",
          "od280/od315_of_diluted_wines",
          "od280/od315_of_diluted_wines",
          "od280/od315_of_diluted_wines",
          "od280/od315_of_diluted_wines",
          "od280/od315_of_diluted_wines",
          "od280/od315_of_diluted_wines",
          "od280/od315_of_diluted_wines",
          "od280/od315_of_diluted_wines",
          "od280/od315_of_diluted_wines",
          "od280/od315_of_diluted_wines",
          "od280/od315_of_diluted_wines",
          "od280/od315_of_diluted_wines",
          "od280/od315_of_diluted_wines",
          "od280/od315_of_diluted_wines",
          "od280/od315_of_diluted_wines",
          "od280/od315_of_diluted_wines",
          "od280/od315_of_diluted_wines",
          "od280/od315_of_diluted_wines",
          "od280/od315_of_diluted_wines",
          "od280/od315_of_diluted_wines",
          "od280/od315_of_diluted_wines",
          "od280/od315_of_diluted_wines",
          "od280/od315_of_diluted_wines",
          "od280/od315_of_diluted_wines",
          "od280/od315_of_diluted_wines",
          "od280/od315_of_diluted_wines",
          "od280/od315_of_diluted_wines",
          "od280/od315_of_diluted_wines",
          "od280/od315_of_diluted_wines",
          "od280/od315_of_diluted_wines",
          "od280/od315_of_diluted_wines",
          "od280/od315_of_diluted_wines",
          "od280/od315_of_diluted_wines",
          "od280/od315_of_diluted_wines",
          "od280/od315_of_diluted_wines",
          "od280/od315_of_diluted_wines",
          "od280/od315_of_diluted_wines",
          "od280/od315_of_diluted_wines",
          "od280/od315_of_diluted_wines",
          "od280/od315_of_diluted_wines",
          "od280/od315_of_diluted_wines",
          "od280/od315_of_diluted_wines",
          "od280/od315_of_diluted_wines",
          "od280/od315_of_diluted_wines",
          "od280/od315_of_diluted_wines",
          "od280/od315_of_diluted_wines",
          "od280/od315_of_diluted_wines",
          "od280/od315_of_diluted_wines",
          "od280/od315_of_diluted_wines",
          "od280/od315_of_diluted_wines",
          "od280/od315_of_diluted_wines",
          "od280/od315_of_diluted_wines",
          "od280/od315_of_diluted_wines",
          "od280/od315_of_diluted_wines",
          "od280/od315_of_diluted_wines",
          "od280/od315_of_diluted_wines",
          "od280/od315_of_diluted_wines",
          "od280/od315_of_diluted_wines",
          "od280/od315_of_diluted_wines",
          "od280/od315_of_diluted_wines",
          "od280/od315_of_diluted_wines",
          "od280/od315_of_diluted_wines",
          "od280/od315_of_diluted_wines",
          "od280/od315_of_diluted_wines",
          "od280/od315_of_diluted_wines",
          "od280/od315_of_diluted_wines",
          "od280/od315_of_diluted_wines",
          "od280/od315_of_diluted_wines",
          "od280/od315_of_diluted_wines",
          "od280/od315_of_diluted_wines",
          "od280/od315_of_diluted_wines",
          "od280/od315_of_diluted_wines",
          "od280/od315_of_diluted_wines",
          "od280/od315_of_diluted_wines",
          "od280/od315_of_diluted_wines",
          "od280/od315_of_diluted_wines",
          "od280/od315_of_diluted_wines",
          "od280/od315_of_diluted_wines",
          "od280/od315_of_diluted_wines",
          "od280/od315_of_diluted_wines",
          "od280/od315_of_diluted_wines",
          "od280/od315_of_diluted_wines",
          "od280/od315_of_diluted_wines",
          "od280/od315_of_diluted_wines",
          "od280/od315_of_diluted_wines",
          "od280/od315_of_diluted_wines",
          "od280/od315_of_diluted_wines",
          "od280/od315_of_diluted_wines",
          "od280/od315_of_diluted_wines",
          "od280/od315_of_diluted_wines",
          "od280/od315_of_diluted_wines",
          "od280/od315_of_diluted_wines",
          "od280/od315_of_diluted_wines",
          "od280/od315_of_diluted_wines",
          "od280/od315_of_diluted_wines",
          "od280/od315_of_diluted_wines",
          "od280/od315_of_diluted_wines",
          "od280/od315_of_diluted_wines",
          "od280/od315_of_diluted_wines",
          "od280/od315_of_diluted_wines",
          "od280/od315_of_diluted_wines",
          "od280/od315_of_diluted_wines",
          "od280/od315_of_diluted_wines",
          "od280/od315_of_diluted_wines",
          "od280/od315_of_diluted_wines",
          "od280/od315_of_diluted_wines",
          "od280/od315_of_diluted_wines",
          "od280/od315_of_diluted_wines",
          "od280/od315_of_diluted_wines",
          "od280/od315_of_diluted_wines",
          "od280/od315_of_diluted_wines",
          "od280/od315_of_diluted_wines",
          "od280/od315_of_diluted_wines",
          "od280/od315_of_diluted_wines",
          "od280/od315_of_diluted_wines",
          "od280/od315_of_diluted_wines",
          "od280/od315_of_diluted_wines",
          "od280/od315_of_diluted_wines",
          "od280/od315_of_diluted_wines",
          "od280/od315_of_diluted_wines",
          "od280/od315_of_diluted_wines",
          "od280/od315_of_diluted_wines",
          "od280/od315_of_diluted_wines",
          "od280/od315_of_diluted_wines",
          "od280/od315_of_diluted_wines",
          "od280/od315_of_diluted_wines",
          "od280/od315_of_diluted_wines",
          "od280/od315_of_diluted_wines",
          "od280/od315_of_diluted_wines",
          "od280/od315_of_diluted_wines",
          "od280/od315_of_diluted_wines",
          "od280/od315_of_diluted_wines",
          "od280/od315_of_diluted_wines",
          "od280/od315_of_diluted_wines",
          "od280/od315_of_diluted_wines",
          "od280/od315_of_diluted_wines",
          "od280/od315_of_diluted_wines",
          "od280/od315_of_diluted_wines",
          "od280/od315_of_diluted_wines",
          "od280/od315_of_diluted_wines",
          "proline",
          "proline",
          "proline",
          "proline",
          "proline",
          "proline",
          "proline",
          "proline",
          "proline",
          "proline",
          "proline",
          "proline",
          "proline",
          "proline",
          "proline",
          "proline",
          "proline",
          "proline",
          "proline",
          "proline",
          "proline",
          "proline",
          "proline",
          "proline",
          "proline",
          "proline",
          "proline",
          "proline",
          "proline",
          "proline",
          "proline",
          "proline",
          "proline",
          "proline",
          "proline",
          "proline",
          "proline",
          "proline",
          "proline",
          "proline",
          "proline",
          "proline",
          "proline",
          "proline",
          "proline",
          "proline",
          "proline",
          "proline",
          "proline",
          "proline",
          "proline",
          "proline",
          "proline",
          "proline",
          "proline",
          "proline",
          "proline",
          "proline",
          "proline",
          "proline",
          "proline",
          "proline",
          "proline",
          "proline",
          "proline",
          "proline",
          "proline",
          "proline",
          "proline",
          "proline",
          "proline",
          "proline",
          "proline",
          "proline",
          "proline",
          "proline",
          "proline",
          "proline",
          "proline",
          "proline",
          "proline",
          "proline",
          "proline",
          "proline",
          "proline",
          "proline",
          "proline",
          "proline",
          "proline",
          "proline",
          "proline",
          "proline",
          "proline",
          "proline",
          "proline",
          "proline",
          "proline",
          "proline",
          "proline",
          "proline",
          "proline",
          "proline",
          "proline",
          "proline",
          "proline",
          "proline",
          "proline",
          "proline",
          "proline",
          "proline",
          "proline",
          "proline",
          "proline",
          "proline",
          "proline",
          "proline",
          "proline",
          "proline",
          "proline",
          "proline",
          "proline",
          "proline",
          "proline",
          "proline",
          "proline",
          "proline",
          "proline",
          "proline",
          "proline",
          "proline",
          "proline",
          "proline",
          "proline",
          "proline",
          "proline",
          "proline",
          "proline",
          "proline",
          "proline",
          "proline",
          "proline",
          "proline",
          "proline",
          "proline",
          "proline",
          "proline",
          "proline",
          "proline",
          "proline",
          "proline",
          "proline",
          "proline",
          "proline",
          "proline",
          "proline",
          "proline",
          "proline",
          "proline",
          "proline",
          "proline",
          "proline",
          "proline",
          "proline",
          "proline",
          "proline",
          "proline",
          "proline",
          "proline",
          "proline",
          "proline",
          "proline",
          "proline",
          "proline",
          "proline",
          "proline",
          "proline",
          "proline",
          "proline"
         ],
         "x0": " ",
         "xaxis": "x",
         "y": [
          1.5186125409891542,
          0.24628962701506343,
          0.19687902841412896,
          1.6915496360924271,
          0.29570022561600007,
          1.4815545920384512,
          1.7162549353928964,
          1.3086174969351785,
          2.2597715200031865,
          1.0615645039304995,
          1.3580280955361128,
          1.38273339483658,
          0.9256853577779276,
          2.1609503228013156,
          1.703902285742663,
          0.777453561975122,
          1.6050810885407918,
          1.0245065549797987,
          1.4692019423882177,
          0.7898062116253557,
          1.3086174969351785,
          -0.08723191354125075,
          0.8762747591769932,
          -0.18605311074312186,
          0.6168691165220807,
          0.06099988226155702,
          0.4809899703695087,
          0.36981612351740395,
          1.0739171535807333,
          1.2592068983342417,
          0.9009800584774604,
          0.7156903137239518,
          0.8392168102262901,
          0.9380380074281612,
          0.6292217661723143,
          0.5921638172216134,
          0.34511082421693456,
          0.06099988226155702,
          0.08570518156202425,
          1.5062598913389207,
          0.6909850144234846,
          0.5056952696699759,
          1.086269803230969,
          0.29570022561600007,
          0.06099988226155702,
          1.4939072416886872,
          1.703902285742663,
          1.1109751025314363,
          1.3580280955361128,
          1.1603857011323706,
          0.06099988226155702,
          1.0245065549797987,
          1.0121539053295652,
          0.9503906570783949,
          0.913332708127694,
          0.6909850144234846,
          1.5062598913389207,
          0.35746347386716815,
          0.8886274088272268,
          -0.7789802939543485,
          -0.828390892555283,
          -0.44545875339803215,
          0.8268641605760565,
          -0.7789802939543485,
          -1.0260332869590252,
          -0.7789802939543485,
          0.1351157801629587,
          -0.7789802939543485,
          0.41922672211833845,
          -0.9766226883580886,
          -0.8778014911562196,
          1.0615645039304995,
          0.604516466871847,
          -0.013116015639846866,
          -1.2854389296139355,
          -1.6560184191209528,
          0.03629458296108759,
          -1.4336707254167433,
          -0.828390892555283,
          -0.3713428554966305,
          -1.2360283310130011,
          -0.34663755619616105,
          -1.13720713381113,
          0.06099988226155702,
          -1.4336707254167433,
          -0.40840080444733134,
          -1.038385936609259,
          -1.6683710687711863,
          -1.6807237184214199,
          -1.13720713381113,
          -1.13720713381113,
          -1.2360283310130011,
          -0.38369550514686407,
          -0.8778014911562196,
          -1.7054290177218894,
          -0.655453797452008,
          -1.4707286743674441,
          -0.8778014911562196,
          -0.7789802939543485,
          -0.8778014911562196,
          -1.13720713381113,
          -0.4948693519989688,
          -0.8160382429050493,
          -1.4583760247172106,
          -0.6060431988510735,
          -0.7172170457031782,
          -0.9272120897571541,
          -0.34663755619616105,
          -0.964270038707855,
          -1.7177816673721231,
          -1.9030714121256294,
          -0.59369054920084,
          -1.5324919226186144,
          -1.9648346603767997,
          -1.13720713381113,
          -2.434235347085688,
          -1.4583760247172106,
          -0.7172170457031782,
          -0.28487430794499297,
          -1.2360283310130011,
          -1.9154240617758653,
          -1.7795449156232912,
          -0.7172170457031782,
          0.06099988226155702,
          -1.3966127764660425,
          -1.1495597834613636,
          -0.7048643960529447,
          -1.4954339736679136,
          -0.7789802939543485,
          -1.1866177324120666,
          -0.17370046109288825,
          -0.1489951617924188,
          -0.23546370934405633,
          -0.3713428554966305,
          -0.6060431988510735,
          -0.4948693519989688,
          -0.9272120897571541,
          -0.5813378995506063,
          0.604516466871847,
          -0.19840576039335547,
          -0.08723191354125075,
          0.44393202141880567,
          0.6415744158225479,
          0.7651009123248862,
          -0.9272120897571541,
          0.19687902841412896,
          1.086269803230969,
          -0.16134781144265464,
          0.3945214228178712,
          0.09805783121225786,
          0.6168691165220807,
          -0.26016900864452575,
          0.1351157801629587,
          0.2833475759657665,
          -0.519574651299436,
          0.2092316780643626,
          1.0368592046300324,
          -0.6801590967524774,
          1.6544916871417263,
          0.5921638172216134,
          -0.7913329436045822,
          0.8515694598765238,
          -0.18605311074312186,
          -0.05017396459054771,
          0.9627433067286285,
          0.9009800584774604,
          0.5551058682709104,
          -0.22311105969382272,
          0.7156903137239518,
          0.49334262001974233,
          -0.9889753380083244,
          -0.28487430794499297,
          1.4321439934375169,
          0.8762747591769932,
          0.49334262001974233,
          0.3327581745667009,
          0.2092316780643626,
          1.395086044486816,
          -0.562249798328623,
          -0.4994133781369049,
          0.0212312463087589,
          -0.3468106433855897,
          0.2276937697958325,
          -0.5173666410488243,
          -0.4186236950332673,
          -0.16727801426639524,
          -0.6250862185203412,
          -0.8854085307431729,
          -0.15830138281043532,
          -0.7687123218156966,
          -0.5442965354167035,
          -0.5442965354167035,
          -0.4186236950332673,
          -0.4724834837690257,
          -0.3737405377534689,
          -0.687922638712059,
          -0.6699693758001396,
          0.6855019740497786,
          -0.6340628499763009,
          1.313866175966959,
          -0.4276003264892271,
          -0.6609927443441799,
          -0.4724834837690257,
          -0.25704432882599254,
          -0.5083900095928646,
          -0.5532731668726633,
          -0.39169380066538834,
          -0.5891796926965022,
          -0.7507590589037771,
          -0.6071329556084216,
          -0.45453022085710626,
          -0.723829164535898,
          -0.48146011522498544,
          -0.4724834837690257,
          -0.6250862185203412,
          -0.6161095870643815,
          -0.7507590589037771,
          1.4844221736301941,
          -0.562249798328623,
          1.349772701790798,
          -0.40067043212134806,
          1.475445542174234,
          -0.5083900095928646,
          1.5293053309099924,
          1.1253569153918048,
          -0.5891796926965022,
          -0.28397422319387156,
          -0.5442965354167035,
          -0.5442965354167035,
          -0.6161095870643815,
          -0.5263432725047841,
          -0.39169380066538834,
          -0.5981563241524619,
          -0.5442965354167035,
          -0.5712264297845827,
          -0.3288573804736702,
          -0.8135954790954953,
          -1.2534504204375216,
          -1.109824317142166,
          -0.8764318992872132,
          -0.9751748453027702,
          -1.082894422774287,
          -0.7956422161835758,
          -1.0110813711266091,
          -1.1906140002458037,
          -1.046987896950448,
          -1.2534504204375216,
          -1.0290346340385286,
          -0.6520161128882201,
          -0.7417824274478174,
          -0.6071329556084216,
          -0.5981563241524619,
          -1.1188009485981258,
          -0.4096470635773078,
          -1.2893569462613605,
          0.4969927134746244,
          -1.2085672631577231,
          1.3767025961586772,
          -1.271403683349441,
          -0.4724834837690257,
          -1.082894422774287,
          1.3677259647027173,
          -1.2983335777173202,
          -1.2175438946136827,
          -0.6520161128882201,
          -0.5981563241524619,
          -0.24806769737003262,
          -0.9033617936550924,
          -0.45453022085710626,
          -0.7417824274478174,
          -0.723829164535898,
          0.44313292473886606,
          -0.31090411756175074,
          -0.7328057959918577,
          -0.19420790863427426,
          -0.8315487420074148,
          -1.1367542115100453,
          0.7483383942414965,
          -0.23011443445811317,
          -0.8943851621991327,
          0.10202092941239668,
          -0.5532731668726633,
          -0.5442965354167035,
          0.1917872439719936,
          -0.5442965354167035,
          -0.5263432725047841,
          -0.9392683194789313,
          -0.8854085307431729,
          1.260006387231201,
          0.08406766650047721,
          0.30848345289947027,
          -1.4329830495567162,
          -0.8495020049193343,
          -0.7417824274478174,
          -0.7776889532716563,
          -0.6520161128882201,
          0.9817308120964495,
          0.9817308120964495,
          0.057137772132597825,
          -0.25704432882599254,
          1.8793939576924215,
          3.1091924671589037,
          1.7716743802209047,
          -0.15830138281043532,
          -0.723829164535898,
          -0.18523127717831472,
          -0.6340628499763009,
          1.7626977487649451,
          -0.8854085307431729,
          0.5867590280342218,
          -0.023651910971039556,
          1.089450389567966,
          -0.9841514767587299,
          0.11099756086835622,
          2.139716269915253,
          2.8488701549360718,
          1.1253569153918048,
          0.5598291336663423,
          0.4251796618269466,
          0.20076387542795351,
          0.7483383942414965,
          2.3461787934023275,
          1.3856792276146368,
          1.1074036524798854,
          2.426968476505965,
          2.040973323899697,
          0.8111748144332148,
          1.4036324905265563,
          0.7034552369616981,
          0.2995068214435104,
          -0.39169380066538834,
          0.8650346031689728,
          -0.9392683194789313,
          2.561617948345361,
          1.6011183825576705,
          0.6226655538580603,
          -0.5891796926965022,
          -0.5981563241524619,
          1.3407960703348383,
          0.8291280773451339,
          0.8381047088010938,
          0.999684075008369,
          0.38029650454714775,
          1.816557537500704,
          1.2240998614073622,
          0.9278710233606912,
          0.21871713833987297,
          2.0319966924437365,
          0.6226655538580603,
          0.04816114067663829,
          0.15588071814815466,
          2.974542995319508,
          1.4126091219825163,
          1.744744485853026,
          0.2276937697958325,
          1.5831651196457506,
          0.23205254099473993,
          -0.827996323266203,
          1.1093343596934504,
          0.48792640478186344,
          1.840402541942377,
          0.3051593592196326,
          0.3051593592196326,
          0.8900139050187723,
          -0.7183360959288647,
          -0.35280200480440144,
          -0.24314177746706322,
          -0.17003495924217055,
          0.15894572276984725,
          0.08583890454495459,
          0.049285495432507445,
          1.21899458703079,
          1.2921014052556827,
          0.9265673141312194,
          0.41481958655697077,
          0.7072468594565414,
          -0.3162485956919559,
          1.0362275414685576,
          -0.023821322792385226,
          0.5610332230067561,
          0.8900139050187723,
          3.119771860877998,
          0.9265673141312194,
          -0.827996323266203,
          1.584528678155252,
          -0.5721224594790795,
          1.21899458703079,
          -0.023821322792385226,
          -0.023821322792385226,
          1.21899458703079,
          1.0362275414685576,
          0.15894572276984725,
          1.7307423146050371,
          0.6706934503440943,
          -0.9742099597159882,
          0.524479813894309,
          -0.20658836835461608,
          -0.9011031414910956,
          0.8169070867938797,
          -0.27969518657950876,
          -0.9742099597159882,
          0.26860595010718546,
          -0.3162485956919559,
          -0.9011031414910956,
          0.12239231365740011,
          -0.35280200480440144,
          -1.1935304143906662,
          0.8534604959063268,
          0.1954991318822928,
          1.1458877688058975,
          -0.42590882302929406,
          0.3417127683320781,
          -0.24314177746706322,
          1.1458877688058975,
          0.48792640478186344,
          -3.6791622340370145,
          -0.3162485956919559,
          -1.266637232615559,
          -1.6321713237400224,
          -0.7548895050413102,
          0.5975866321192016,
          0.7072468594565414,
          -2.436346324213841,
          -1.6321713237400224,
          -0.023821322792385226,
          -2.253579278651609,
          -0.5721224594790795,
          1.1093343596934504,
          -0.4624622321417396,
          0.8534604959063268,
          -0.24314177746706322,
          -1.6321713237400224,
          -2.3997929151013944,
          -0.49901564125418674,
          -1.5225110964026833,
          0.12239231365740011,
          -1.3397440508404517,
          -0.6086758685915249,
          0.524479813894309,
          -0.17003495924217055,
          0.7803536776814342,
          -0.4624622321417396,
          -0.20658836835461608,
          0.9265673141312194,
          0.3417127683320781,
          -0.24314177746706322,
          -0.17003495924217055,
          0.1954991318822928,
          -0.3893554139168486,
          -0.5355690503666323,
          -0.3162485956919559,
          -0.6086758685915249,
          1.3652082234805754,
          -1.4128508690653443,
          -0.9742099597159882,
          -0.5721224594790795,
          -2.436346324213841,
          -1.705278141964915,
          0.3417127683320781,
          -1.7783849601898076,
          -1.4128508690653443,
          -0.35280200480440144,
          -0.9011031414910956,
          -0.3162485956919559,
          -1.5590645055151295,
          1.21899458703079,
          -1.9977054148644848,
          -0.7183360959288647,
          2.023169587504608,
          0.48792640478186344,
          0.48792640478186344,
          -0.6086758685915249,
          -1.3762974599528979,
          -0.6452292777039721,
          -1.4128508690653443,
          -1.3397440508404517,
          0.1954991318822928,
          3.156325269990443,
          1.3286548143681283,
          -0.8645497323786501,
          0.08583890454495459,
          -0.7183360959288647,
          -0.27969518657950876,
          1.5114218599303593,
          -0.24314177746706322,
          0.049285495432507445,
          -0.17003495924217055,
          0.12239231365740011,
          0.12239231365740011,
          -0.023821322792385226,
          -0.42590882302929406,
          -0.6086758685915249,
          0.6341400412316488,
          0.9996741323561121,
          -0.6452292777039721,
          0.8900139050187723,
          1.21899458703079,
          -0.060374731904830746,
          1.2921014052556827,
          -0.060374731904830746,
          -0.6086758685915249,
          -0.7914429141537574,
          -0.49901564125418674,
          0.41481958655697077,
          0.049285495432507445,
          -0.023821322792385226,
          0.9265673141312194,
          0.41481958655697077,
          1.401761632593021,
          -0.3162485956919559,
          -0.9742099597159882,
          -0.17003495924217055,
          0.049285495432507445,
          0.9996741323561121,
          1.21899458703079,
          0.9996741323561121,
          0.049285495432507445,
          0.6341400412316488,
          0.7803536776814342,
          -0.060374731904830746,
          -0.24314177746706322,
          -0.3893554139168486,
          0.8534604959063268,
          -0.24314177746706322,
          1.182441177918343,
          1.8038491328299298,
          -0.17003495924217055,
          -0.3162485956919559,
          0.41481958655697077,
          0.3051593592196326,
          0.41481958655697077,
          -0.3893554139168486,
          0.01273208632006192,
          1.3652082234805754,
          -1.1695931750229027,
          -2.4908471410952195,
          -0.2687381981554134,
          -0.8092511842759068,
          0.4519457833385771,
          -1.2897071719385678,
          -1.4698781673120656,
          -0.5690231904445763,
          -1.6500491626855631,
          -1.0494791781072375,
          -0.44890919352891157,
          -0.8092511842759068,
          -1.0494791781072375,
          -2.4307901426373864,
          -2.250619147263889,
          -0.6891371873602421,
          0.1516607910494142,
          0.1516607910494142,
          -0.8993366819626559,
          -1.2897071719385678,
          -1.0494791781072375,
          -0.2687381981554134,
          -0.8693081827337392,
          -0.508966191986744,
          0.1516607910494142,
          1.6530857524952287,
          -1.0194506788783206,
          -0.7491941858180745,
          -0.028510204324083955,
          -1.0494791781072375,
          0.9023732717723214,
          -0.11859570201083197,
          -0.6891371873602421,
          0.0015182949048327598,
          -0.14862420123974868,
          0.30180328719399563,
          -1.1996216742518189,
          -0.44890919352891157,
          -1.1996216742518189,
          -1.8902771565168937,
          -0.9894221796494049,
          -0.20868119969758106,
          -1.3497641703964003,
          -0.599051689673493,
          -0.7491941858180745,
          -0.1786527004686654,
          -1.0494791781072375,
          -1.0494791781072375,
          -0.20868119969758106,
          -0.6290801889024097,
          -2.1305051503482235,
          -0.6891371873602421,
          -1.6500491626855631,
          -0.7191656865891577,
          -0.9293651811915726,
          0.30180328719399563,
          -0.9593936804204882,
          -0.8092511842759068,
          -0.8392796835048235,
          -2.671018136468717,
          -1.0494791781072375,
          -0.8092511842759068,
          -0.44890919352891157,
          -0.14862420123974868,
          -0.14862420123974868,
          -0.41888069429999486,
          -1.3497641703964003,
          0.03154679413374947,
          -0.7491941858180745,
          -0.8092511842759068,
          0.2717747879650789,
          1.6530857524952287,
          1.3528007602060657,
          3.154510713941043,
          0.4519457833385771,
          -1.0494791781072375,
          -1.0494791781072375,
          -0.44890919352891157,
          -1.4098211688542326,
          1.0525157679169028,
          -0.14862420123974868,
          -0.20868119969758106,
          1.3528007602060657,
          0.9023732717723214,
          -0.44890919352891157,
          -0.44890919352891157,
          0.9924587694590705,
          1.9533707447843915,
          0.6321167787120753,
          1.232686763290401,
          -0.29876669738433015,
          0.75223077562774,
          0.36186028565182804,
          -0.44890919352891157,
          -0.44890919352891157,
          -0.14862420123974868,
          0.6020882794831586,
          -1.0494791781072375,
          -0.29876669738433015,
          -0.44890919352891157,
          -0.599051689673493,
          -0.29876669738433015,
          0.4519457833385771,
          0.0015182949048327598,
          0.30180328719399563,
          0.75223077562774,
          -0.14862420123974868,
          0.9023732717723214,
          -0.14862420123974868,
          0.1516607910494142,
          0.0015182949048327598,
          0.4519457833385771,
          0.1516607910494142,
          0.4519457833385771,
          0.9023732717723214,
          0.6020882794831586,
          0.39188878488074474,
          0.9023732717723214,
          -1.0494791781072375,
          -0.14862420123974868,
          0.1516607910494142,
          2.704083225507299,
          2.103513240928973,
          0.6020882794831586,
          0.4519457833385771,
          0.4519457833385771,
          0.6020882794831586,
          2.704083225507299,
          1.5029432563506473,
          0.75223077562774,
          -0.44890919352891157,
          0.1516607910494142,
          1.3528007602060657,
          0.6020882794831586,
          -0.599051689673493,
          -0.29876669738433015,
          0.4519457833385771,
          1.6530857524952287,
          0.0015182949048327598,
          1.3528007602060657,
          0.4519457833385771,
          0.1516607910494142,
          1.2026582640614842,
          0.1516607910494142,
          -0.29876669738433015,
          0.4519457833385771,
          0.1516607910494142,
          0.6020882794831586,
          0.6020882794831586,
          0.6020882794831586,
          1.3528007602060657,
          0.75223077562774,
          1.8032282486398101,
          -0.29876669738433015,
          0.1516607910494142,
          0.75223077562774,
          0.0015182949048327598,
          2.2536557370735544,
          1.6530857524952287,
          0.9023732717723214,
          0.4519457833385771,
          0.1516607910494142,
          0.75223077562774,
          -0.29876669738433015,
          0.75223077562774,
          0.9023732717723214,
          1.0525157679169028,
          0.0015182949048327598,
          1.5029432563506473,
          1.6530857524952287,
          -0.14862420123974868,
          0.0015182949048327598,
          0.1516607910494142,
          0.30180328719399563,
          1.0525157679169028,
          0.1516607910494142,
          0.1516607910494142,
          1.5029432563506473,
          1.9139052175708111,
          0.018145020611759512,
          0.08835836123987253,
          0.9309184487772288,
          1.2819851519177938,
          0.8607051081491157,
          -0.2627083419006926,
          1.492625173802133,
          -0.19249500127257954,
          -0.12228166064446654,
          0.36921172375232464,
          -0.3329216825288056,
          -0.7542017262974837,
          -0.6137750450412577,
          0.15857170186798555,
          0.8607051081491157,
          1.4224118331740199,
          1.0713451300334549,
          0.5798517456366636,
          1.1415584706615678,
          1.843691876942698,
          0.15857170186798555,
          0.08835836123987253,
          -0.3329216825288056,
          -0.2627083419006926,
          1.703265195686472,
          -0.47334836378503165,
          -0.4031350231569186,
          0.5096384050085506,
          -0.2627083419006926,
          0.08835836123987253,
          0.43942506438043766,
          0.2989983831242116,
          2.264971920711376,
          0.7202784268928897,
          0.018145020611759512,
          0.7202784268928897,
          -0.12228166064446654,
          -0.12228166064446654,
          1.984118558198924,
          1.211771811289681,
          -0.6839883856693707,
          0.08835836123987253,
          0.22878504249609857,
          0.5096384050085506,
          0.7904917675210027,
          0.15857170186798555,
          0.08835836123987253,
          0.22878504249609857,
          0.5798517456366636,
          -0.5435617044131447,
          -0.4031350231569186,
          0.7904917675210027,
          1.0713451300334549,
          1.2819851519177938,
          1.1415584706615678,
          1.2819851519177938,
          0.15857170186798555,
          0.5798517456366636,
          -0.8244150669255967,
          0.08835836123987253,
          0.018145020611759512,
          -0.4031350231569186,
          -0.8946284075537098,
          0.2989983831242116,
          -0.12228166064446654,
          -1.526548473206727,
          -1.526548473206727,
          0.7202784268928897,
          3.599025392645524,
          0.22878504249609857,
          -0.9648417481818228,
          -0.8946284075537098,
          2.7564653051081676,
          0.08835836123987253,
          -0.19249500127257954,
          -0.9648417481818228,
          0.8607051081491157,
          2.545825283223828,
          0.08835836123987253,
          -0.9648417481818228,
          -0.9648417481818228,
          -1.526548473206727,
          -1.035055088809936,
          -0.4031350231569186,
          -0.05206832001635351,
          -0.6839883856693707,
          -0.8244150669255967,
          -1.1052684294380488,
          -2.0882551982316313,
          -1.315908451322388,
          -0.9648417481818228,
          -1.386121791950501,
          -0.8244150669255967,
          -0.12228166064446654,
          4.371372139554767,
          2.4053986019676024,
          -1.035055088809936,
          -0.8244150669255967,
          -0.8244150669255967,
          -0.19249500127257954,
          -0.8244150669255967,
          -0.12228166064446654,
          -0.9648417481818228,
          -1.035055088809936,
          -0.6839883856693707,
          -1.386121791950501,
          -1.1052684294380488,
          -0.5435617044131447,
          -0.4031350231569186,
          0.5096384050085506,
          -0.8244150669255967,
          0.22878504249609857,
          -0.8244150669255967,
          -1.1052684294380488,
          -1.035055088809936,
          -0.9648417481818228,
          0.5798517456366636,
          -1.386121791950501,
          -0.8946284075537098,
          -0.2627083419006926,
          1.352198492545907,
          0.15857170186798555,
          -0.9648417481818228,
          -1.2456951106942749,
          -1.035055088809936,
          -0.9648417481818228,
          -0.5435617044131447,
          -0.8244150669255967,
          -1.386121791950501,
          1.562838514430246,
          0.2989983831242116,
          -0.12228166064446654,
          0.43942506438043766,
          -1.035055088809936,
          -0.4031350231569186,
          -0.7542017262974837,
          -0.2627083419006926,
          -0.8244150669255967,
          0.08835836123987253,
          -0.2627083419006926,
          -0.7542017262974837,
          -0.19249500127257954,
          -0.5435617044131447,
          0.8607051081491157,
          0.15857170186798555,
          -1.386121791950501,
          -0.9648417481818228,
          -0.5435617044131447,
          0.9309184487772288,
          1.633051855058359,
          0.8607051081491157,
          1.1415584706615678,
          -0.12228166064446654,
          0.22878504249609857,
          -0.47334836378503165,
          -0.7542017262974837,
          -0.19249500127257954,
          -0.12228166064446654,
          -0.7542017262974837,
          -0.8244150669255967,
          0.5096384050085506,
          0.43942506438043766,
          0.43942506438043766,
          -0.6839883856693707,
          -0.8244150669255967,
          0.7904917675210027,
          -0.8244150669255967,
          0.36921172375232464,
          0.8607051081491157,
          -0.2627083419006926,
          -0.9648417481818228,
          -0.6137750450412577,
          -0.3329216825288056,
          0.15857170186798555,
          1.4224118331740199,
          1.4224118331740199,
          -0.2627083419006926,
          0.8089973946320399,
          0.5686476623890727,
          0.8089973946320399,
          2.4914455203328116,
          0.8089973946320399,
          1.5620932223266712,
          0.32829793014610553,
          0.4885310849747506,
          0.8089973946320399,
          1.097417073323601,
          1.0493471268750079,
          -0.15240153433982884,
          0.4885310849747506,
          1.2896968591179752,
          1.6101631687752644,
          0.8891139720463628,
          0.8089973946320399,
          1.0493471268750079,
          1.6101631687752644,
          0.6487642398033956,
          1.12946370428933,
          0.18408809080032537,
          0.5045544004576148,
          0.29625129918037657,
          0.3763678765946987,
          0.5366010314233437,
          0.8891139720463628,
          0.16806477531746053,
          1.0493471268750079,
          0.5686476623890727,
          1.12946370428933,
          0.905137287529227,
          0.20011140628318952,
          1.0493471268750079,
          0.08794819790313836,
          0.6487642398033956,
          0.4885310849747506,
          0.2481813527317834,
          0.16806477531746053,
          1.12946370428933,
          1.3698134365322971,
          0.2481813527317834,
          1.5300465913609422,
          0.5526243469062087,
          1.12946370428933,
          0.8891139720463628,
          1.5300465913609422,
          1.2896968591179752,
          0.7288808172177178,
          0.937183918494956,
          0.6808108707691246,
          0.2481813527317834,
          2.539515466781405,
          1.12946370428933,
          0.4885310849747506,
          1.065370442357872,
          1.44993001394662,
          1.12946370428933,
          1.7703963236039095,
          -0.5049144749628479,
          -0.39275126658279674,
          -0.4408212130313899,
          -0.31263468916847387,
          1.9306294784325544,
          -0.6491243143086285,
          0.20011140628318952,
          1.097417073323601,
          -0.29661137368560975,
          0.3763678765946987,
          -0.7132175762400861,
          -1.9149662374549228,
          1.0493471268750079,
          -0.665147629791493,
          1.6101631687752644,
          1.7383496926381805,
          -1.0977771478288338,
          -0.5529844214114414,
          -0.9215206775173247,
          -0.633100998825764,
          0.8570673410806339,
          0.20011140628318952,
          -0.15240153433982884,
          -0.4728678439971189,
          -1.0336838858973763,
          -0.15240153433982884,
          -0.15240153433982884,
          -0.8253807846201376,
          -0.601054367860035,
          -0.5529844214114414,
          -0.15240153433982884,
          -1.1138004633116982,
          -1.354150195554666,
          -1.4663134039347174,
          0.2481813527317834,
          1.161510335255059,
          0.32829793014610553,
          -1.1138004633116982,
          0.40841450756042774,
          1.9626761093982834,
          0.8891139720463628,
          -0.10433158789123569,
          -1.354150195554666,
          0.4244378230432926,
          0.32829793014610553,
          -0.15240153433982884,
          -0.9856139394487826,
          -1.0336838858973763,
          -1.4663134039347174,
          0.10397151338600251,
          0.7128575017348536,
          1.417883382980891,
          0.40841450756042774,
          -0.8734507310687312,
          0.29625129918037657,
          0.4244378230432926,
          0.26420466821464755,
          -0.5049144749628479,
          -0.4728678439971189,
          -1.0657305168631053,
          -0.4728678439971189,
          0.969230549460685,
          1.417883382980891,
          -0.15240153433982884,
          0.5205777159404796,
          0.905137287529227,
          0.4885310849747506,
          0.7128575017348536,
          -0.26456474271988073,
          -0.12035490337409983,
          -0.31263468916847387,
          -1.258010302657479,
          -1.594499927797633,
          -1.8348496600406006,
          -0.9535673084830537,
          -0.4728678439971189,
          -1.0817538323459692,
          -1.4663134039347174,
          -0.8093574691372731,
          -1.0817538323459692,
          0.039878251454544496,
          -1.2099403562088853,
          -1.4342667729689884,
          -1.193917040726021,
          -0.4728678439971189,
          -1.4663134039347174,
          -1.2740336181403433,
          -2.1072460232492967,
          -0.9535673084830537,
          -0.5850310523771705,
          -1.418243457486124,
          -1.4342667729689884,
          -1.3060802491060723,
          -0.15240153433982884,
          -0.7933341536544086,
          -1.3060802491060723,
          -0.8894740465515957,
          -0.7933341536544086,
          -0.633100998825764,
          0.8089973946320399,
          0.4885310849747506,
          0.007831620488815487,
          -0.7452642072058151,
          -1.0336838858973763,
          -1.4502900884518528,
          -1.5143833503833106,
          -1.626546558763362,
          -0.9535673084830537,
          -1.3060802491060723,
          -1.193917040726021,
          -0.5049144749628479,
          -1.6746165052119557,
          -1.4502900884518528,
          -0.9856139394487826,
          -0.9856139394487826,
          -0.7933341536544086,
          -1.1298237787945629,
          -1.0336838858973763,
          -0.39275126658279674,
          1.0348189581307379,
          0.7336289414294712,
          1.215532968151498,
          1.4665246487358865,
          0.6633512708658426,
          1.366127976502131,
          0.4926769280684583,
          0.4826372608450825,
          0.9545016203437334,
          1.1251759631411176,
          1.2958503059385018,
          0.4023199230580785,
          0.7336289414294712,
          1.6673179932033972,
          1.6171196570865196,
          0.8842239497801048,
          1.1151362959177422,
          1.3761676437255064,
          1.9082700065644105,
          1.004699956460611,
          1.1452552975878687,
          0.38224058861132737,
          0.8541049481099778,
          0.3420819197178252,
          0.5830339330788381,
          0.6533116036424672,
          0.9143429514502311,
          0.16136790969706516,
          0.9444619531203581,
          0.301923250824323,
          1.2255726353748733,
          1.1653346320346198,
          0.6633512708658426,
          0.7135496069827205,
          0.5027165952918337,
          0.9545016203437334,
          0.6533116036424672,
          0.4023199230580785,
          0.6131529347489649,
          1.0147396236839867,
          1.2657313042683753,
          0.6533116036424672,
          1.5368023192995153,
          0.6031132675255891,
          0.9745809547904846,
          0.6231926019723403,
          1.1452552975878687,
          1.366127976502131,
          0.8942636170034801,
          1.5167229848527641,
          1.2456519698216244,
          0.9645412875671092,
          1.717516329320275,
          0.763747943099598,
          0.874184282556729,
          0.7537082758762222,
          0.9745809547904846,
          1.2054933009281221,
          1.647238658756646,
          -1.4650581804897735,
          -0.9429954848742449,
          -0.6217261337262275,
          -0.24021877923795662,
          1.0749776270242402,
          -0.2803774481314588,
          0.6231926019723403,
          1.1552949648112445,
          -0.029385767547070167,
          -0.7321624731833584,
          -0.7522418076301095,
          -1.0132731554378738,
          0.8340256136632267,
          -0.19002044312107882,
          0.8641446153333536,
          0.11116957358018761,
          -0.46109145815221864,
          0.0007332341230562783,
          -0.7120831387366073,
          -0.17998077589770328,
          0.5227959297385847,
          0.23164558026069385,
          0.5027165952918337,
          -0.45105179092884307,
          -0.4410121237054675,
          0.18144724414381627,
          -0.0896237708873235,
          -0.3406154514717122,
          -0.4209327892587164,
          -0.3406154514717122,
          -0.4410121237054675,
          -0.5313691287158475,
          -0.7823608093002362,
          -0.5715277976093497,
          0.2216059130373185,
          0.23164558026069385,
          0.2416852474840696,
          -1.0433921571080005,
          0.47259759362170717,
          1.7275559965436504,
          0.9645412875671092,
          0.14128857525031405,
          -0.671924469843105,
          0.08105057191006072,
          -0.3908137875885899,
          -0.10970310533407461,
          -0.19002044312107882,
          0.0007332341230562783,
          -0.2703377809080833,
          0.010772901346432056,
          0.8942636170034801,
          0.5529149314087116,
          0.2416852474840696,
          0.0007332341230562783,
          -0.019346100323694833,
          0.26176458193082075,
          0.14128857525031405,
          -0.4309724564820919,
          0.06097123746330961,
          -0.7823608093002362,
          -0.3908137875885899,
          0.763747943099598,
          3.062831737252598,
          0.10112990635681184,
          0.6231926019723403,
          1.004699956460611,
          0.6231926019723403,
          1.1251759631411176,
          0.21156624581394318,
          0.4223992575048296,
          -0.2803774481314588,
          -0.7823608093002362,
          -0.8124798109703628,
          -0.9429954848742449,
          -0.832559145417114,
          -1.4550185132663978,
          -1.3747011754793932,
          -1.5654548527235288,
          -1.4349391788196466,
          -1.5554151855001532,
          -1.4349391788196466,
          -1.535335851053402,
          -1.535335851053402,
          -1.5152565166066512,
          -1.2341458343521357,
          -1.2542251687988868,
          -1.4851375149365245,
          -1.6959705266274108,
          -1.384740842702769,
          -1.274304503245638,
          -0.6418054681729786,
          -0.46109145815221864,
          -0.671924469843105,
          -0.7522418076301095,
          -1.2040268326820092,
          -1.4550185132663978,
          -1.4048201771495201,
          -1.2040268326820092,
          -1.4550185132663978,
          -0.7221228059599828,
          -0.9329558176508693,
          -1.1136698276716293,
          -1.475097847713149,
          -1.4349391788196466,
          -1.3345425065858914,
          -1.3546218410326423,
          -1.5654548527235288,
          -1.1136698276716293,
          -1.3747011754793932,
          -1.1939871654586338,
          -1.073511158778127,
          -1.5453755182767777,
          -1.5252961838300267,
          -1.3345425065858914,
          -1.4248995115962713,
          -1.2843441704690135,
          -1.344582173809267,
          -1.3546218410326423,
          -1.274304503245638,
          -0.6595631143050651,
          -0.8207192355765842,
          -0.4984069930335465,
          -0.9818753568481032,
          0.2267955526882888,
          -0.1760947504905084,
          -0.4984069930335465,
          -0.41782893239778696,
          -0.5789850536693061,
          -1.143031478119622,
          -1.143031478119622,
          -0.8207192355765842,
          -0.5789850536693061,
          0.5491077952313265,
          -0.5789850536693061,
          -0.4984069930335465,
          -0.25667281112626794,
          0.30737361332404833,
          -0.33725087176202745,
          -1.5459217812984192,
          -0.9818753568481032,
          -0.9012972962123437,
          -0.7401411749408247,
          -0.8207192355765842,
          -0.6595631143050651,
          0.8714200377743642,
          -0.1760947504905084,
          -0.7401411749408247,
          0.06563943141676974,
          -0.8207192355765842,
          -0.5789850536693061,
          -1.143031478119622,
          0.46852973459556696,
          1.1131542196816426,
          -0.5789850536693061,
          -0.8207192355765842,
          -0.1760947504905084,
          -0.5789850536693061,
          -0.6595631143050651,
          -1.304187599391141,
          -0.1760947504905084,
          -0.7401411749408247,
          -1.5459217812984192,
          -0.33725087176202745,
          -0.6595631143050651,
          -0.4984069930335465,
          -0.7401411749408247,
          -1.2236095387553816,
          -0.33725087176202745,
          -0.33725087176202745,
          -1.5459217812984192,
          -1.143031478119622,
          -0.33725087176202745,
          0.2267955526882888,
          -1.2236095387553816,
          -1.304187599391141,
          -0.8207192355765842,
          -0.41782893239778696,
          -1.3847656600269005,
          -0.6595631143050651,
          2.160669007946516,
          1.3548884015889213,
          -0.33725087176202745,
          -1.3847656600269005,
          0.7102639165028455,
          0.06563943141676974,
          -0.8207192355765842,
          -0.7401411749408247,
          1.5160445228604404,
          -1.7876559632056976,
          0.06563943141676974,
          -1.2236095387553816,
          -0.7401411749408247,
          -1.2236095387553816,
          -1.8682340238414572,
          -0.1760947504905084,
          -0.9818753568481032,
          0.5491077952313265,
          -0.09551668985474931,
          0.5491077952313265,
          -0.4984069930335465,
          -0.8207192355765842,
          0.30737361332404833,
          1.9995128866749967,
          -1.143031478119622,
          -0.4984069930335465,
          0.5491077952313265,
          0.30737361332404833,
          0.9519980984101236,
          0.46852973459556696,
          1.2743103409531618,
          1.1131542196816426,
          1.757778704767718,
          -0.9012972962123437,
          -1.5459217812984192,
          -0.33725087176202745,
          -1.7876559632056976,
          -0.5789850536693061,
          -0.9818753568481032,
          0.7102639165028455,
          -0.8207192355765842,
          -0.5789850536693061,
          -0.1760947504905084,
          0.06563943141676974,
          -0.33725087176202745,
          2.402403189853794,
          0.06563943141676974,
          0.9519980984101236,
          0.2267955526882888,
          -0.5789850536693061,
          -0.9818753568481032,
          -0.8207192355765842,
          1.9189348260392372,
          0.46852973459556696,
          0.5491077952313265,
          1.2743103409531618,
          -0.4984069930335465,
          -0.1760947504905084,
          0.5491077952313265,
          0.06563943141676974,
          -0.33725087176202745,
          0.8714200377743642,
          0.5491077952313265,
          -0.4984069930335465,
          -1.2236095387553816,
          0.06563943141676974,
          0.2267955526882888,
          1.757778704767718,
          0.30737361332404833,
          0.46852973459556696,
          -1.2236095387553816,
          -0.9818753568481032,
          -0.7401411749408247,
          -1.5459217812984192,
          1.9189348260392372,
          2.160669007946516,
          1.3548884015889213,
          2.160669007946516,
          1.757778704767718,
          1.3548884015889213,
          1.3548884015889213,
          0.06563943141676974,
          1.1131542196816426,
          0.8714200377743642,
          -0.5789850536693061,
          0.5491077952313265,
          0.30737361332404833,
          0.8714200377743642,
          0.7102639165028455,
          -0.1760947504905084,
          -1.143031478119622,
          -0.9818753568481032,
          -0.8207192355765842,
          1.9995128866749967,
          1.3548884015889213,
          1.9995128866749967,
          0.9519980984101236,
          2.160669007946516,
          1.3548884015889213,
          1.2743103409531618,
          1.1131542196816426,
          1.1131542196816426,
          1.9189348260392372,
          0.30737361332404833,
          0.3879516739598074,
          1.2743103409531618,
          0.5491077952313265,
          0.30737361332404833,
          0.2267955526882888,
          -0.7401411749408247,
          0.30737361332404833,
          0.9519980984101236,
          0.629685855867086,
          1.2743103409531618,
          0.5491077952313265,
          0.5491077952313265,
          1.3548884015889213,
          1.5966225834961998,
          1.2248839840604513,
          -0.5447209874470079,
          2.135967731767262,
          1.032154729737857,
          0.4014044428639109,
          0.6642170623947216,
          0.6817379036967756,
          -0.5972835113531701,
          0.6817379036967756,
          0.45396696677007314,
          1.3825715557789375,
          -0.03661658968744038,
          0.38388360156185686,
          2.135967731767262,
          2.3987803512980728,
          -0.22934584401003513,
          0.6642170623947216,
          0.22619602984337026,
          0.4714878080721272,
          0.12107098203104584,
          0.8919879993214244,
          0.6817379036967756,
          0.17363350593720803,
          -0.22934584401003513,
          0.12107098203104584,
          0.5766128558844512,
          -0.2468666853120892,
          -0.42207509833262946,
          0.2962793950515865,
          0.6817379036967756,
          1.3825715557789375,
          0.6291753797906134,
          0.6642170623947216,
          -0.42207509833262946,
          -0.08917911359360259,
          0.4714878080721272,
          -0.4045542570305754,
          -0.2643875266141433,
          -0.38703341572852135,
          0.8569463167173162,
          1.3124881905707213,
          -0.194304161405927,
          0.1911543472392621,
          0.12107098203104584,
          0.7693421102070456,
          -0.5972835113531701,
          1.0496755710399106,
          0.9620713645296407,
          1.3825715557789375,
          0.8569463167173162,
          2.3111761447878028,
          1.2248839840604513,
          0.48900864937418126,
          0.15611266463515397,
          0.050987616822829956,
          1.5052174448933164,
          0.7693421102070456,
          0.12107098203104584,
          0.7868629515091,
          -2.0515133394236567,
          -2.0690341807257107,
          -1.7010965133825755,
          -1.5083672590599808,
          0.48900864937418126,
          -0.9827420199983592,
          0.8569463167173162,
          1.2073631427583968,
          -0.9652211786963052,
          -2.0515133394236567,
          1.5928216514035864,
          -0.22934584401003513,
          0.48900864937418126,
          -0.9827420199983592,
          0.6466962210926674,
          0.10355014072899177,
          -0.7724919243737108,
          -0.22934584401003513,
          -1.1229087504147919,
          2.0483635252569914,
          0.6291753797906134,
          -0.28190836791619733,
          0.31380023635364057,
          -0.3344708918223595,
          0.050987616822829956,
          1.3300090318727757,
          -0.22934584401003513,
          -0.054137430989494445,
          -0.4395959396346835,
          -0.42207509833262946,
          -0.3695125744264677,
          0.0860292994269377,
          0.06850845812488364,
          0.050987616822829956,
          0.6992587449988297,
          -0.42207509833262946,
          2.959447272963802,
          -0.054137430989494445,
          0.31380023635364057,
          0.6291753797906134,
          2.135967731767262,
          -0.3344708918223595,
          -0.42207509833262946,
          -0.49215846354084575,
          -0.2994292092182514,
          -0.194304161405927,
          -0.2994292092182514,
          0.06850845812488364,
          0.06850845812488364,
          0.8569463167173162,
          1.5753008101015327,
          3.485072512025424,
          -0.6498460352593324,
          -0.9477003373942511,
          -0.2643875266141433,
          -0.9652211786963052,
          0.7343004276029375,
          -0.10669995489565665,
          0.03346677552077589,
          -1.3331588460394403,
          0.48900864937418126,
          0.418925284165965,
          0.48900864937418126,
          0.20867518854131617,
          0.7343004276029375,
          2.3111761447878028,
          -0.42207509833262946,
          0.31380023635364057,
          0.2962793950515865,
          0.5415711732803431,
          -0.42207509833262946,
          -1.1404295917168459,
          -1.3331588460394403,
          -1.3331588460394403,
          -1.3156380047373863,
          -0.5972835113531701,
          -1.1404295917168459,
          -1.3857213699456024,
          -0.8600961308839807,
          -1.2455546395291701,
          -1.3682005286435484,
          -1.4733255764558728,
          -1.6660548307784673,
          -1.8237424024969537,
          -1.0002628613004134,
          -0.7900127656757648,
          -0.5096793048428998,
          -1.595971465570251,
          -1.2805963221332781,
          -0.5972835113531701,
          -0.7900127656757648,
          -0.5972835113531701,
          -0.579762670051116,
          -0.054137430989494445,
          0.48900864937418126,
          -0.3344708918223595,
          -0.07165827229154852,
          -0.054137430989494445,
          -0.7900127656757648,
          1.9432384774446676,
          1.2248839840604513,
          -0.9652211786963052,
          -1.3857213699456024,
          -1.1053879091127377,
          -1.1404295917168459,
          -0.9827420199983592,
          -0.7724919243737108,
          -0.22934584401003513,
          -1.0878670678106837,
          -0.08917911359360259,
          -0.8425752895819267,
          -1.5083672590599808,
          -1.6660548307784673,
          -0.6148043526552243,
          -0.9301794960921971,
          -0.31695005052030545,
          -0.42207509833262946,
          -0.22934584401003513,
          -0.42207509833262946,
          0.2517168498188532,
          -0.2933213287130479,
          0.2690196491373263,
          1.1860680130163983,
          -0.3192755276907573,
          0.7318695309064807,
          0.08301455646374108,
          -0.003499440128624266,
          0.06138605731564984,
          0.9351774228985389,
          0.29929954794465424,
          -0.025127939276715507,
          0.23441405050038017,
          0.1479000539080152,
          1.0562970181278504,
          0.969783021535485,
          0.4939560402774762,
          0.6669840334622065,
          1.5753809976820417,
          0.018129059019466976,
          0.2560425496484718,
          -0.24141293075762868,
          -0.5442119188309072,
          -0.4879778210458696,
          -0.6653315140602185,
          -0.639377315082509,
          -0.11164193586908086,
          -0.4793264213866331,
          -0.24141293075762868,
          -0.15489893416526335,
          0.277671048796563,
          0.7967550283507547,
          -0.5269091195124341,
          0.1479000539080152,
          -0.3711839256461765,
          0.018129059019466976,
          -0.1981559324614462,
          -0.3495554264980853,
          -0.5874689171270897,
          0.018129059019466976,
          0.46367614147014824,
          -0.3365783270092304,
          0.1608771533968697,
          -0.3019727283722842,
          -0.007825139958242437,
          0.07868885663412291,
          -0.06838493757289799,
          0.45069904198129335,
          0.4939560402774762,
          1.6618949942744075,
          0.9265260232393026,
          0.23441405050038017,
          0.8616405257950285,
          0.5372130385736587,
          0.34255654624083676,
          0.5155845394255675,
          0.5718186372106048,
          0.40744204368511083,
          0.7534980300545718,
          -1.3444663873102858,
          -0.7734740098006752,
          0.29929954794465424,
          -0.5442119188309072,
          -0.26304142990571994,
          -0.9118964043484594,
          -0.1981559324614462,
          0.10464305561183232,
          -0.16355033382450007,
          -0.8167310080968578,
          -0.9551534026446421,
          -0.868639406052277,
          -0.7258913116748743,
          -0.5701661178086166,
          -0.7388684111637289,
          -0.7994282087783847,
          -0.5442119188309072,
          -0.1981559324614462,
          -1.0416673992370076,
          -0.7172399120156377,
          -1.0762729978739536,
          -1.1065528966812814,
          -0.5009549205347246,
          -1.2363238915698291,
          -0.11164193586908086,
          -0.868639406052277,
          -1.0546444987258623,
          -1.1281813958293727,
          -1.0632958983850986,
          -0.9767819017927336,
          -1.4353060837322693,
          -1.149809894977464,
          -0.6307259154232724,
          -0.868639406052277,
          -1.2579523907179206,
          -0.7821254094599116,
          -1.0632958983850986,
          -1.1065528966812814,
          -0.9335249034965509,
          -0.24141293075762868,
          -1.1930668932736468,
          -0.7604969103118204,
          -1.1281813958293727,
          -0.9767819017927336,
          -1.296883689184485,
          -0.9162221041780778,
          -1.020038900088916,
          -0.7172399120156377,
          -0.7604969103118204,
          -1.020038900088916,
          -1.0416673992370076,
          -0.9335249034965509,
          -1.3228378881621945,
          -0.5442119188309072,
          -0.8556623065634221,
          -0.9335249034965509,
          -1.3660948864583773,
          -1.3444663873102858,
          -1.296883689184485,
          -0.7172399120156377,
          -1.6342882758947095,
          -0.7821254094599116,
          0.40744204368511083,
          -1.2882322895252485,
          -1.0632958983850986,
          -0.9767819017927336,
          -0.9940847011112066,
          -0.48365212121625145,
          -0.8902679052003682,
          -1.2709294902067754,
          -1.0632958983850986,
          -0.4144409239423594,
          0.1479000539080152,
          0.277671048796563,
          -0.025127939276715507,
          0.16952855305610642,
          0.8832690249431197,
          -0.5225834196828157,
          -0.025127939276715507,
          0.277671048796563,
          -0.05973353791366165,
          -0.1981559324614462,
          0.23441405050038017,
          -0.3062984282019028,
          -0.28466992905381117,
          1.3634217060307474,
          -0.4576979222385419,
          -0.06838493757289799,
          1.1211825155721244,
          1.4542614024527307,
          1.8781799857553207,
          1.5321239993858593,
          2.4837779619018776,
          0.8832690249431197,
          2.362658366672566,
          1.099554016424033,
          1.229325011312581,
          1.7094776924002082,
          1.0562970181278504,
          3.4354319244178955,
          2.8947194457156122,
          1.1211825155721244,
          0.35553364572969165,
          0.2257626508411438,
          0.09599165595259598,
          1.9560425826884493,
          0.6756354331214433,
          2.4318695639464583,
          2.250190171102491,
          1.558078198363569,
          1.4888670010896767,
          0.19115705220419768,
          2.09446454466625,
          2.007950980643868,
          1.1428110147202157,
          0.969783021535485,
          2.2242359721247813,
          1.8349229874591382,
          1.791665989162955,
          0.3621772757786129,
          0.40605066293567893,
          0.31830388862154685,
          -0.42754369304857526,
          0.3621772757786129,
          0.40605066293567893,
          0.27443050146448084,
          0.44992405009274494,
          0.5376708244068771,
          0.2305571143074148,
          1.2835184060769986,
          0.9325313088204704,
          0.8447845345063383,
          1.2835184060769986,
          1.0641514702916686,
          1.4151385675481967,
          0.493797437249811,
          0.7570377601922063,
          1.1957716317628666,
          0.011190178522084612,
          0.5815442115639431,
          0.31830388862154685,
          0.6692909858780751,
          0.5815442115639431,
          0.7131643730351411,
          0.7570377601922063,
          -0.16430337010617904,
          0.27443050146448084,
          1.2835184060769986,
          0.3621772757786129,
          1.0202780831346026,
          0.5815442115639431,
          1.1957716317628666,
          1.2835184060769986,
          0.6254175987210091,
          0.3621772757786129,
          0.5815442115639431,
          0.7131643730351411,
          0.9764046959775364,
          -0.29592353157737716,
          -0.03268320863498142,
          -0.20817675726324508,
          -0.3397969187344432,
          -0.6030372416768394,
          -0.3397969187344432,
          -0.38367030589150924,
          0.3621772757786129,
          -0.20817675726324508,
          0.493797437249811,
          0.7131643730351411,
          0.7131643730351411,
          1.2396450189199326,
          0.2305571143074148,
          0.7570377601922063,
          -0.16430337010617904,
          0.09893695283621669,
          -0.07655659579204746,
          0.493797437249811,
          -0.29592353157737716,
          0.40605066293567893,
          1.2835184060769986,
          0.09893695283621669,
          1.1957716317628666,
          1.1518982446058006,
          2.1609861492183184,
          1.0202780831346026,
          0.7131643730351411,
          0.7131643730351411,
          0.27443050146448084,
          1.4151385675481967,
          -0.2257261121260715,
          1.766125664804725,
          0.09893695283621669,
          1.546758729019395,
          0.14281033999328271,
          1.1957716317628666,
          1.0202780831346026,
          0.011190178522084612,
          0.44992405009274494,
          1.0202780831346026,
          1.8538724391188561,
          0.8886579216634044,
          1.546758729019395,
          -0.5152904673627073,
          -0.7346574031480371,
          1.1957716317628666,
          1.634505503333527,
          1.766125664804725,
          0.18668372715034875,
          0.493797437249811,
          0.5376708244068771,
          0.40605066293567893,
          0.011190178522084612,
          0.8447845345063383,
          0.8886579216634044,
          0.8886579216634044,
          -0.03268320863498142,
          1.1957716317628666,
          0.3621772757786129,
          2.0293659877471204,
          1.3712651803911307,
          0.3621772757786129,
          -0.690784015990971,
          -0.07655659579204746,
          0.3621772757786129,
          -0.42754369304857526,
          0.18668372715034875,
          -0.3397969187344432,
          -0.42754369304857526,
          0.011190178522084612,
          -0.9101509517763011,
          -0.2520501444203111,
          1.1957716317628666,
          0.6254175987210091,
          -0.120429982949113,
          3.3016942153020343,
          -0.03268320863498142,
          0.44992405009274494,
          -1.1295178875616314,
          -0.120429982949113,
          -0.690784015990971,
          -0.120429982949113,
          -0.16430337010617904,
          -0.9978977260904333,
          -0.9101509517763011,
          -0.42754369304857526,
          -1.1733912747186974,
          0.05506356567915065,
          -0.29592353157737716,
          -0.7346574031480371,
          -0.8662775646192351,
          -0.9540243389333672,
          -1.305011436189895,
          -0.7785307903051031,
          -0.9101509517763011,
          -0.9978977260904333,
          -0.9101509517763011,
          -0.6030372416768394,
          -0.6469106288339049,
          -0.29592353157737716,
          -0.8224041774621691,
          -1.1295178875616314,
          -0.29592353157737716,
          -0.20817675726324508,
          -1.348884823346961,
          -1.5682517591322913,
          -1.6559985334464233,
          -1.831492082074687,
          -1.787618694917621,
          -1.6998719206034894,
          -1.6121251462893573,
          -2.094732405017083,
          -1.524378371975225,
          -1.743745307760555,
          -1.6559985334464233,
          -1.5682517591322913,
          -1.6998719206034894,
          -1.261138049032829,
          -1.6998719206034894,
          -1.6998719206034894,
          -1.743745307760555,
          0.011190178522084612,
          -0.38367030589150924,
          -1.217264661875763,
          -1.1295178875616314,
          -0.7785307903051031,
          -0.47141708020564127,
          -1.0417711132474992,
          -0.9540243389333672,
          -1.261138049032829,
          -1.305011436189895,
          -1.6998719206034894,
          -1.480504984818159,
          -1.392758210504027,
          -1.1295178875616314,
          -1.6121251462893573,
          -1.5682517591322913,
          -1.524378371975225,
          1.8479195665066535,
          1.1134493025258236,
          0.7885874549958412,
          1.1840714432932113,
          0.4496011793123816,
          0.3366057540845615,
          1.3676890092884186,
          1.3676890092884186,
          0.3366057540845615,
          1.3253157248279859,
          0.7885874549958412,
          0.2942324696241287,
          0.40722789485194877,
          0.1671126162428314,
          0.5484721763867239,
          0.3789790385449937,
          0.05411719101501135,
          -0.05887823421280872,
          0.2942324696241287,
          1.0569515899119135,
          1.551306575283626,
          1.2829424403675536,
          1.9609149917344735,
          1.438311150055806,
          1.7066752849718783,
          0.830960739456274,
          0.859209595763229,
          0.22361032885674145,
          1.1134493025258236,
          1.381813437441896,
          0.1388637599358764,
          0.3789790385449937,
          0.3648546103915165,
          0.5484721763867239,
          0.3648546103915165,
          1.2123202996001665,
          0.23773475701021865,
          -0.14362480313367376,
          0.11061490362892139,
          1.297066868521031,
          1.0852004462188685,
          0.5484721763867239,
          1.3394401529814637,
          0.5484721763867239,
          1.0428271617584364,
          1.0145783054514812,
          1.1699470151397335,
          1.0145783054514812,
          0.19536147254978645,
          0.6897164579214989,
          0.4213523230054266,
          1.0710760180653913,
          0.9157073083771384,
          0.4496011793123816,
          0.830960739456274,
          0.5908454608471561,
          0.9863294491445262,
          0.3224813259310837,
          0.3648546103915165,
          -1.1182103457236205,
          -1.3300767680257832,
          -1.443072193253603,
          -0.214246943901061,
          0.3648546103915165,
          -0.5391087914310434,
          -0.44023779435670113,
          0.802711883149319,
          1.2264447277536437,
          -0.9628416360353683,
          0.6473431734610661,
          -1.1182103457236205,
          0.774463026842364,
          0.23773475701021865,
          1.2546935840605986,
          0.7320897423819311,
          -0.6662286448123407,
          -0.185998087594106,
          -0.12950037498019595,
          -0.4261133662032233,
          0.7320897423819311,
          0.7179653142284539,
          0.746214170535409,
          0.15298818808935422,
          -0.8498462108075485,
          0.6614676016145439,
          0.774463026842364,
          -0.49673550697061114,
          0.8450851676097512,
          0.19536147254978645,
          0.8450851676097512,
          -0.48261107881713333,
          0.05411719101501135,
          -0.7792240700401607,
          0.9722050209910484,
          0.4919744637728138,
          0.025868334708056332,
          -0.49673550697061114,
          0.18123704439630925,
          0.22361032885674145,
          0.3083568977776065,
          0.4919744637728138,
          0.22361032885674145,
          1.0852004462188685,
          -0.242495800208016,
          1.3535645811349408,
          0.9722050209910484,
          0.7885874549958412,
          -0.27074465651497104,
          0.5767210326936788,
          0.9157073083771384,
          0.2801080414706515,
          0.23773475701021865,
          -0.15774923128715096,
          -0.4261133662032233,
          0.8168363113027962,
          0.3648546103915165,
          1.0145783054514812,
          0.4919744637728138,
          -0.6944775011192956,
          0.619094317154111,
          1.0993248743723463,
          1.523057718976671,
          0.7179653142284539,
          0.6897164579214989,
          1.4524355782092837,
          0.9439561646840935,
          0.3224813259310837,
          -0.242495800208016,
          0.23773475701021865,
          -0.05887823421280872,
          -1.866805037857928,
          -1.6831874718627207,
          -1.7679340407835853,
          -1.866805037857928,
          -1.556067618481423,
          -1.4571966214070804,
          -1.895053894164883,
          -1.3018279117188283,
          -1.1182103457236205,
          -0.6521042166588634,
          -0.4261133662032233,
          -0.20012251574758316,
          -0.7792240700401607,
          -0.7933484981936385,
          -0.8639706389610258,
          -1.3159523398723056,
          -1.8103073252440178,
          -1.0617126331097106,
          -1.4006989087931705,
          -1.8103073252440178,
          -1.8526806097044504,
          -1.6125653310953332,
          -1.8103073252440178,
          -1.556067618481423,
          -1.499569905867513,
          -1.5984409029418556,
          -1.3724500524862158,
          -1.2453301991049182,
          -0.9204683515749358,
          -1.1747080583375307,
          -1.4571966214070804,
          -1.1182103457236205,
          -0.7086019292727734,
          -1.2170813427979632,
          -1.3159523398723056,
          -1.2170813427979632,
          -1.4854454777140356,
          -1.2170813427979632,
          -1.1464592020305757,
          -0.9769660641888458,
          -1.1040859175701432,
          -1.3865744806396934,
          -1.273579055411873,
          -1.2312057709514406,
          -1.4854454777140356,
          -1.4854454777140356,
          -1.4006989087931705,
          -1.4289477651001254,
          1.013008926747691,
          0.9652415206686006,
          1.3951481753804142,
          2.3345738282691917,
          -0.03787400699229762,
          2.239039016111011,
          1.7295200179340469,
          1.745442486627077,
          0.9493190519755705,
          0.9493190519755705,
          2.4301086404273726,
          1.6976750805479865,
          1.8250548300922276,
          1.2836908945292032,
          2.5479349087557956,
          1.7932098927061675,
          1.6976750805479865,
          1.2200010197570827,
          2.971472575990397,
          0.31242030425436523,
          0.10542821124497355,
          0.07358327385891329,
          0.9174741145895102,
          0.8537842398173897,
          0.31242030425436523,
          0.2646528981752749,
          1.4269931127664743,
          1.7135975492410167,
          0.535334865956787,
          0.9174741145895102,
          1.7135975492410167,
          2.446031109120403,
          0.774171896352239,
          1.5543728623107154,
          1.1085437389058719,
          0.5512573346498172,
          0.42387758510557616,
          1.140388676291932,
          0.8697067085104199,
          0.04173833647285303,
          0.15319561732406395,
          0.9174741145895102,
          1.1085437389058719,
          -0.21302116261562906,
          0.4398000537986063,
          1.0607763328267814,
          1.013008926747691,
          0.7582494276592089,
          0.9970864580546609,
          1.6339852057758661,
          1.2836908945292032,
          1.6499076744688963,
          1.4110706440734442,
          2.000201985715559,
          0.9970864580546609,
          1.1881560823710224,
          0.7104820215801185,
          1.6658301431619265,
          1.7135975492410167,
          -0.7225401607925932,
          -0.21302116261562906,
          -0.945454722495015,
          -0.3722458495459304,
          -1.0409895346531959,
          -1.2479816276625875,
          -0.2193901500928411,
          -0.7798610480875017,
          -0.7543850981786535,
          0.00989339908679277,
          -0.09201040054860007,
          0.3920326477195159,
          -1.0728344720392562,
          -0.8753958602456825,
          0.7582494276592089,
          0.44298454753721234,
          -1.0155135847443477,
          -1.1301553593341647,
          -0.7862300355647138,
          0.00989339908679277,
          -0.9040563038931367,
          -1.4931876455352515,
          -0.10474837550302417,
          -0.3722458495459304,
          -0.7384626294856234,
          -0.7225401607925932,
          -0.945454722495015,
          -0.8021525042577439,
          -0.5887914237711401,
          -0.21302116261562906,
          -0.3881683182389605,
          -0.8499199103368343,
          -0.945454722495015,
          -0.8021525042577439,
          -1.4549737206719793,
          -1.2798265650486478,
          0.6053937282061197,
          -0.3881683182389605,
          -1.0155135847443477,
          -0.2767110373877496,
          -1.0855724469936803,
          -0.11748635045744828,
          -0.5887914237711401,
          -0.9836686473582874,
          -1.056912003346226,
          -0.23849711252447728,
          -1.3753613772068287,
          -0.7543850981786535,
          -0.8244439604279861,
          -1.3849148584226467,
          -0.21302116261562906,
          -0.5887914237711401,
          -1.3435164398207684,
          -0.44548920553386895,
          -0.9964066223127115,
          -1.1524468155044068,
          -1.0823879532550742,
          -0.8021525042577439,
          -1.2798265650486478,
          -1.193845234106285,
          -0.5824224362939281,
          -0.3881683182389605,
          -0.8976873164159247,
          -1.2161366902765274,
          -1.168369284197437,
          -1.168369284197437,
          -1.174738271674649,
          -1.2575351088784057,
          -0.8945028226773186,
          -1.289380046264466,
          -0.5314705364762317,
          -0.3722458495459304,
          -0.690695223406533,
          -0.5951604112483522,
          -0.46778066170411114,
          -0.30855597477380986,
          -0.16525375653653868,
          -0.08564141307138802,
          -0.7384626294856234,
          -0.5314705364762317,
          -0.4996255990901714,
          -0.46778066170411114,
          0.10542821124497355,
          -0.7225401607925932,
          -0.6270053486344125,
          0.3442652416404255,
          0.2646528981752749,
          -1.056912003346226,
          -0.3881683182389605,
          -0.30855597477380986,
          -0.6270053486344125,
          -0.7862300355647138,
          -0.8499199103368343,
          -1.0250670659601657,
          -0.2289436313086592,
          -0.3404009121598701,
          -0.06971894437835789,
          -0.8499199103368343,
          0.42387758510557616,
          -0.2767110373877496,
          -0.40409078693199063,
          -0.7225401607925932,
          -0.21302116261562906,
          -0.563315473862292,
          -0.2289436313086592,
          -0.4200132556250208,
          -0.7225401607925932,
          -0.16525375653653868,
          -0.19709869392259893,
          0.00989339908679277,
          -0.3722458495459304,
          -0.7543850981786535,
          -0.8817648477228945,
          -0.2767110373877496,
          -0.021951538299267492,
          0.00989339908679277,
          0.280575366868305,
          0.29649783556133513,
          -0.5951604112483522
         ],
         "y0": " ",
         "yaxis": "y"
        }
       ],
       "layout": {
        "boxmode": "group",
        "height": 400,
        "legend": {
         "orientation": "h",
         "tracegroupgap": 0,
         "x": 0.4,
         "y": 1.2
        },
        "template": {
         "data": {
          "bar": [
           {
            "error_x": {
             "color": "#2a3f5f"
            },
            "error_y": {
             "color": "#2a3f5f"
            },
            "marker": {
             "line": {
              "color": "#E5ECF6",
              "width": 0.5
             },
             "pattern": {
              "fillmode": "overlay",
              "size": 10,
              "solidity": 0.2
             }
            },
            "type": "bar"
           }
          ],
          "barpolar": [
           {
            "marker": {
             "line": {
              "color": "#E5ECF6",
              "width": 0.5
             },
             "pattern": {
              "fillmode": "overlay",
              "size": 10,
              "solidity": 0.2
             }
            },
            "type": "barpolar"
           }
          ],
          "carpet": [
           {
            "aaxis": {
             "endlinecolor": "#2a3f5f",
             "gridcolor": "white",
             "linecolor": "white",
             "minorgridcolor": "white",
             "startlinecolor": "#2a3f5f"
            },
            "baxis": {
             "endlinecolor": "#2a3f5f",
             "gridcolor": "white",
             "linecolor": "white",
             "minorgridcolor": "white",
             "startlinecolor": "#2a3f5f"
            },
            "type": "carpet"
           }
          ],
          "choropleth": [
           {
            "colorbar": {
             "outlinewidth": 0,
             "ticks": ""
            },
            "type": "choropleth"
           }
          ],
          "contour": [
           {
            "colorbar": {
             "outlinewidth": 0,
             "ticks": ""
            },
            "colorscale": [
             [
              0,
              "#0d0887"
             ],
             [
              0.1111111111111111,
              "#46039f"
             ],
             [
              0.2222222222222222,
              "#7201a8"
             ],
             [
              0.3333333333333333,
              "#9c179e"
             ],
             [
              0.4444444444444444,
              "#bd3786"
             ],
             [
              0.5555555555555556,
              "#d8576b"
             ],
             [
              0.6666666666666666,
              "#ed7953"
             ],
             [
              0.7777777777777778,
              "#fb9f3a"
             ],
             [
              0.8888888888888888,
              "#fdca26"
             ],
             [
              1,
              "#f0f921"
             ]
            ],
            "type": "contour"
           }
          ],
          "contourcarpet": [
           {
            "colorbar": {
             "outlinewidth": 0,
             "ticks": ""
            },
            "type": "contourcarpet"
           }
          ],
          "heatmap": [
           {
            "colorbar": {
             "outlinewidth": 0,
             "ticks": ""
            },
            "colorscale": [
             [
              0,
              "#0d0887"
             ],
             [
              0.1111111111111111,
              "#46039f"
             ],
             [
              0.2222222222222222,
              "#7201a8"
             ],
             [
              0.3333333333333333,
              "#9c179e"
             ],
             [
              0.4444444444444444,
              "#bd3786"
             ],
             [
              0.5555555555555556,
              "#d8576b"
             ],
             [
              0.6666666666666666,
              "#ed7953"
             ],
             [
              0.7777777777777778,
              "#fb9f3a"
             ],
             [
              0.8888888888888888,
              "#fdca26"
             ],
             [
              1,
              "#f0f921"
             ]
            ],
            "type": "heatmap"
           }
          ],
          "heatmapgl": [
           {
            "colorbar": {
             "outlinewidth": 0,
             "ticks": ""
            },
            "colorscale": [
             [
              0,
              "#0d0887"
             ],
             [
              0.1111111111111111,
              "#46039f"
             ],
             [
              0.2222222222222222,
              "#7201a8"
             ],
             [
              0.3333333333333333,
              "#9c179e"
             ],
             [
              0.4444444444444444,
              "#bd3786"
             ],
             [
              0.5555555555555556,
              "#d8576b"
             ],
             [
              0.6666666666666666,
              "#ed7953"
             ],
             [
              0.7777777777777778,
              "#fb9f3a"
             ],
             [
              0.8888888888888888,
              "#fdca26"
             ],
             [
              1,
              "#f0f921"
             ]
            ],
            "type": "heatmapgl"
           }
          ],
          "histogram": [
           {
            "marker": {
             "pattern": {
              "fillmode": "overlay",
              "size": 10,
              "solidity": 0.2
             }
            },
            "type": "histogram"
           }
          ],
          "histogram2d": [
           {
            "colorbar": {
             "outlinewidth": 0,
             "ticks": ""
            },
            "colorscale": [
             [
              0,
              "#0d0887"
             ],
             [
              0.1111111111111111,
              "#46039f"
             ],
             [
              0.2222222222222222,
              "#7201a8"
             ],
             [
              0.3333333333333333,
              "#9c179e"
             ],
             [
              0.4444444444444444,
              "#bd3786"
             ],
             [
              0.5555555555555556,
              "#d8576b"
             ],
             [
              0.6666666666666666,
              "#ed7953"
             ],
             [
              0.7777777777777778,
              "#fb9f3a"
             ],
             [
              0.8888888888888888,
              "#fdca26"
             ],
             [
              1,
              "#f0f921"
             ]
            ],
            "type": "histogram2d"
           }
          ],
          "histogram2dcontour": [
           {
            "colorbar": {
             "outlinewidth": 0,
             "ticks": ""
            },
            "colorscale": [
             [
              0,
              "#0d0887"
             ],
             [
              0.1111111111111111,
              "#46039f"
             ],
             [
              0.2222222222222222,
              "#7201a8"
             ],
             [
              0.3333333333333333,
              "#9c179e"
             ],
             [
              0.4444444444444444,
              "#bd3786"
             ],
             [
              0.5555555555555556,
              "#d8576b"
             ],
             [
              0.6666666666666666,
              "#ed7953"
             ],
             [
              0.7777777777777778,
              "#fb9f3a"
             ],
             [
              0.8888888888888888,
              "#fdca26"
             ],
             [
              1,
              "#f0f921"
             ]
            ],
            "type": "histogram2dcontour"
           }
          ],
          "mesh3d": [
           {
            "colorbar": {
             "outlinewidth": 0,
             "ticks": ""
            },
            "type": "mesh3d"
           }
          ],
          "parcoords": [
           {
            "line": {
             "colorbar": {
              "outlinewidth": 0,
              "ticks": ""
             }
            },
            "type": "parcoords"
           }
          ],
          "pie": [
           {
            "automargin": true,
            "type": "pie"
           }
          ],
          "scatter": [
           {
            "fillpattern": {
             "fillmode": "overlay",
             "size": 10,
             "solidity": 0.2
            },
            "type": "scatter"
           }
          ],
          "scatter3d": [
           {
            "line": {
             "colorbar": {
              "outlinewidth": 0,
              "ticks": ""
             }
            },
            "marker": {
             "colorbar": {
              "outlinewidth": 0,
              "ticks": ""
             }
            },
            "type": "scatter3d"
           }
          ],
          "scattercarpet": [
           {
            "marker": {
             "colorbar": {
              "outlinewidth": 0,
              "ticks": ""
             }
            },
            "type": "scattercarpet"
           }
          ],
          "scattergeo": [
           {
            "marker": {
             "colorbar": {
              "outlinewidth": 0,
              "ticks": ""
             }
            },
            "type": "scattergeo"
           }
          ],
          "scattergl": [
           {
            "marker": {
             "colorbar": {
              "outlinewidth": 0,
              "ticks": ""
             }
            },
            "type": "scattergl"
           }
          ],
          "scattermapbox": [
           {
            "marker": {
             "colorbar": {
              "outlinewidth": 0,
              "ticks": ""
             }
            },
            "type": "scattermapbox"
           }
          ],
          "scatterpolar": [
           {
            "marker": {
             "colorbar": {
              "outlinewidth": 0,
              "ticks": ""
             }
            },
            "type": "scatterpolar"
           }
          ],
          "scatterpolargl": [
           {
            "marker": {
             "colorbar": {
              "outlinewidth": 0,
              "ticks": ""
             }
            },
            "type": "scatterpolargl"
           }
          ],
          "scatterternary": [
           {
            "marker": {
             "colorbar": {
              "outlinewidth": 0,
              "ticks": ""
             }
            },
            "type": "scatterternary"
           }
          ],
          "surface": [
           {
            "colorbar": {
             "outlinewidth": 0,
             "ticks": ""
            },
            "colorscale": [
             [
              0,
              "#0d0887"
             ],
             [
              0.1111111111111111,
              "#46039f"
             ],
             [
              0.2222222222222222,
              "#7201a8"
             ],
             [
              0.3333333333333333,
              "#9c179e"
             ],
             [
              0.4444444444444444,
              "#bd3786"
             ],
             [
              0.5555555555555556,
              "#d8576b"
             ],
             [
              0.6666666666666666,
              "#ed7953"
             ],
             [
              0.7777777777777778,
              "#fb9f3a"
             ],
             [
              0.8888888888888888,
              "#fdca26"
             ],
             [
              1,
              "#f0f921"
             ]
            ],
            "type": "surface"
           }
          ],
          "table": [
           {
            "cells": {
             "fill": {
              "color": "#EBF0F8"
             },
             "line": {
              "color": "white"
             }
            },
            "header": {
             "fill": {
              "color": "#C8D4E3"
             },
             "line": {
              "color": "white"
             }
            },
            "type": "table"
           }
          ]
         },
         "layout": {
          "annotationdefaults": {
           "arrowcolor": "#2a3f5f",
           "arrowhead": 0,
           "arrowwidth": 1
          },
          "autotypenumbers": "strict",
          "coloraxis": {
           "colorbar": {
            "outlinewidth": 0,
            "ticks": ""
           }
          },
          "colorscale": {
           "diverging": [
            [
             0,
             "#8e0152"
            ],
            [
             0.1,
             "#c51b7d"
            ],
            [
             0.2,
             "#de77ae"
            ],
            [
             0.3,
             "#f1b6da"
            ],
            [
             0.4,
             "#fde0ef"
            ],
            [
             0.5,
             "#f7f7f7"
            ],
            [
             0.6,
             "#e6f5d0"
            ],
            [
             0.7,
             "#b8e186"
            ],
            [
             0.8,
             "#7fbc41"
            ],
            [
             0.9,
             "#4d9221"
            ],
            [
             1,
             "#276419"
            ]
           ],
           "sequential": [
            [
             0,
             "#0d0887"
            ],
            [
             0.1111111111111111,
             "#46039f"
            ],
            [
             0.2222222222222222,
             "#7201a8"
            ],
            [
             0.3333333333333333,
             "#9c179e"
            ],
            [
             0.4444444444444444,
             "#bd3786"
            ],
            [
             0.5555555555555556,
             "#d8576b"
            ],
            [
             0.6666666666666666,
             "#ed7953"
            ],
            [
             0.7777777777777778,
             "#fb9f3a"
            ],
            [
             0.8888888888888888,
             "#fdca26"
            ],
            [
             1,
             "#f0f921"
            ]
           ],
           "sequentialminus": [
            [
             0,
             "#0d0887"
            ],
            [
             0.1111111111111111,
             "#46039f"
            ],
            [
             0.2222222222222222,
             "#7201a8"
            ],
            [
             0.3333333333333333,
             "#9c179e"
            ],
            [
             0.4444444444444444,
             "#bd3786"
            ],
            [
             0.5555555555555556,
             "#d8576b"
            ],
            [
             0.6666666666666666,
             "#ed7953"
            ],
            [
             0.7777777777777778,
             "#fb9f3a"
            ],
            [
             0.8888888888888888,
             "#fdca26"
            ],
            [
             1,
             "#f0f921"
            ]
           ]
          },
          "colorway": [
           "#636efa",
           "#EF553B",
           "#00cc96",
           "#ab63fa",
           "#FFA15A",
           "#19d3f3",
           "#FF6692",
           "#B6E880",
           "#FF97FF",
           "#FECB52"
          ],
          "font": {
           "color": "#2a3f5f"
          },
          "geo": {
           "bgcolor": "white",
           "lakecolor": "white",
           "landcolor": "#E5ECF6",
           "showlakes": true,
           "showland": true,
           "subunitcolor": "white"
          },
          "hoverlabel": {
           "align": "left"
          },
          "hovermode": "closest",
          "mapbox": {
           "style": "light"
          },
          "paper_bgcolor": "white",
          "plot_bgcolor": "#E5ECF6",
          "polar": {
           "angularaxis": {
            "gridcolor": "white",
            "linecolor": "white",
            "ticks": ""
           },
           "bgcolor": "#E5ECF6",
           "radialaxis": {
            "gridcolor": "white",
            "linecolor": "white",
            "ticks": ""
           }
          },
          "scene": {
           "xaxis": {
            "backgroundcolor": "#E5ECF6",
            "gridcolor": "white",
            "gridwidth": 2,
            "linecolor": "white",
            "showbackground": true,
            "ticks": "",
            "zerolinecolor": "white"
           },
           "yaxis": {
            "backgroundcolor": "#E5ECF6",
            "gridcolor": "white",
            "gridwidth": 2,
            "linecolor": "white",
            "showbackground": true,
            "ticks": "",
            "zerolinecolor": "white"
           },
           "zaxis": {
            "backgroundcolor": "#E5ECF6",
            "gridcolor": "white",
            "gridwidth": 2,
            "linecolor": "white",
            "showbackground": true,
            "ticks": "",
            "zerolinecolor": "white"
           }
          },
          "shapedefaults": {
           "line": {
            "color": "#2a3f5f"
           }
          },
          "ternary": {
           "aaxis": {
            "gridcolor": "white",
            "linecolor": "white",
            "ticks": ""
           },
           "baxis": {
            "gridcolor": "white",
            "linecolor": "white",
            "ticks": ""
           },
           "bgcolor": "#E5ECF6",
           "caxis": {
            "gridcolor": "white",
            "linecolor": "white",
            "ticks": ""
           }
          },
          "title": {
           "x": 0.05
          },
          "xaxis": {
           "automargin": true,
           "gridcolor": "white",
           "linecolor": "white",
           "ticks": "",
           "title": {
            "standoff": 15
           },
           "zerolinecolor": "white",
           "zerolinewidth": 2
          },
          "yaxis": {
           "automargin": true,
           "gridcolor": "white",
           "linecolor": "white",
           "ticks": "",
           "title": {
            "standoff": 15
           },
           "zerolinecolor": "white",
           "zerolinewidth": 2
          }
         }
        },
        "title": {
         "text": "Box Plot of Standardized Wine Features"
        },
        "width": 700,
        "xaxis": {
         "anchor": "y",
         "domain": [
          0,
          1
         ],
         "title": {
          "text": "variable"
         }
        },
        "yaxis": {
         "anchor": "x",
         "domain": [
          0,
          1
         ],
         "title": {
          "text": "value"
         }
        }
       }
      }
     },
     "metadata": {},
     "output_type": "display_data"
    }
   ],
   "source": [
    "# Transforming the DataFrame into a long format for visualization purposes\n",
    "dfS_melted = pd.melt(dfS, id_vars=['class'])\n",
    "\n",
    "# Create a box plot with the standardized data\n",
    "fig_s = px.box(dfS_melted, x='variable', y='value', \n",
    "               width=700, height=400, \n",
    "               title='Box Plot of Standardized Wine Features')\n",
    "# Change the legend position to 'top'\n",
    "fig_s.update_layout(legend=dict(x=0.4, y=1.2, orientation='h'))\n",
    "# Show the plot\n",
    "fig_s.show()"
   ]
  },
  {
   "cell_type": "code",
   "execution_count": 27,
   "metadata": {},
   "outputs": [
    {
     "data": {
      "text/html": [
       "<div>\n",
       "<style scoped>\n",
       "    .dataframe tbody tr th:only-of-type {\n",
       "        vertical-align: middle;\n",
       "    }\n",
       "\n",
       "    .dataframe tbody tr th {\n",
       "        vertical-align: top;\n",
       "    }\n",
       "\n",
       "    .dataframe thead th {\n",
       "        text-align: right;\n",
       "    }\n",
       "</style>\n",
       "<table border=\"1\" class=\"dataframe\">\n",
       "  <thead>\n",
       "    <tr style=\"text-align: right;\">\n",
       "      <th></th>\n",
       "      <th>TSNE_1</th>\n",
       "      <th>TSNE_2</th>\n",
       "      <th>Original Class</th>\n",
       "    </tr>\n",
       "  </thead>\n",
       "  <tbody>\n",
       "    <tr>\n",
       "      <th>0</th>\n",
       "      <td>6.892741</td>\n",
       "      <td>11.439153</td>\n",
       "      <td>class_0</td>\n",
       "    </tr>\n",
       "    <tr>\n",
       "      <th>1</th>\n",
       "      <td>-0.496582</td>\n",
       "      <td>11.350184</td>\n",
       "      <td>class_0</td>\n",
       "    </tr>\n",
       "    <tr>\n",
       "      <th>2</th>\n",
       "      <td>3.206583</td>\n",
       "      <td>11.402533</td>\n",
       "      <td>class_0</td>\n",
       "    </tr>\n",
       "    <tr>\n",
       "      <th>3</th>\n",
       "      <td>5.181119</td>\n",
       "      <td>14.112860</td>\n",
       "      <td>class_0</td>\n",
       "    </tr>\n",
       "    <tr>\n",
       "      <th>4</th>\n",
       "      <td>2.216416</td>\n",
       "      <td>7.116625</td>\n",
       "      <td>class_0</td>\n",
       "    </tr>\n",
       "  </tbody>\n",
       "</table>\n",
       "</div>"
      ],
      "text/plain": [
       "     TSNE_1     TSNE_2 Original Class\n",
       "0  6.892741  11.439153        class_0\n",
       "1 -0.496582  11.350184        class_0\n",
       "2  3.206583  11.402533        class_0\n",
       "3  5.181119  14.112860        class_0\n",
       "4  2.216416   7.116625        class_0"
      ]
     },
     "execution_count": 27,
     "metadata": {},
     "output_type": "execute_result"
    }
   ],
   "source": [
    "# TSNE (for visualization only) \n",
    "from sklearn.manifold import TSNE\n",
    "\n",
    "tsne = TSNE(n_components=2)\n",
    "tsne.fit(dfS.iloc[:, :-1])\n",
    "\n",
    "df_tsne = pd.DataFrame(tsne.fit_transform(dfS.iloc[:, :-1]), columns=['TSNE_1', 'TSNE_2'])\n",
    "df_tsne['Original Class'] = dfS['class']\n",
    "df_tsne.head()"
   ]
  },
  {
   "cell_type": "code",
   "execution_count": 28,
   "metadata": {},
   "outputs": [
    {
     "data": {
      "application/vnd.plotly.v1+json": {
       "config": {
        "plotlyServerURL": "https://plot.ly"
       },
       "data": [
        {
         "hovertemplate": "color=class_0<br>x=%{x}<br>y=%{y}<extra></extra>",
         "legendgroup": "class_0",
         "marker": {
          "color": "#636efa",
          "opacity": 0.6,
          "size": 8,
          "symbol": "circle"
         },
         "mode": "markers",
         "name": "class_0",
         "orientation": "v",
         "showlegend": true,
         "type": "scatter",
         "x": [
          6.892740726470947,
          -0.4965824782848358,
          3.2065834999084473,
          5.181119441986084,
          2.216416358947754,
          4.25879430770874,
          1.5894489288330078,
          4.314571857452393,
          1.6415066719055176,
          4.798851013183594,
          3.130634307861328,
          0.8380879759788513,
          1.626948595046997,
          2.672607421875,
          3.0887248516082764,
          3.259554862976074,
          3.989990234375,
          3.7184600830078125,
          3.937875509262085,
          6.4802045822143555,
          6.748877048492432,
          4.452808380126953,
          1.197171688079834,
          0.7548514008522034,
          0.9474345445632935,
          1.930768370628357,
          2.025160074234009,
          -0.04130631312727928,
          2.297461986541748,
          1.29983651638031,
          3.368725538253784,
          3.4917283058166504,
          1.0154541730880737,
          3.7054741382598877,
          2.152106523513794,
          1.310337781906128,
          2.4449760913848877,
          1.4682022333145142,
          -0.3099355101585388,
          7.005812168121338,
          6.215543746948242,
          5.502817153930664,
          5.726499080657959,
          5.3433942794799805,
          5.404606342315674,
          5.761294364929199,
          5.951084136962891,
          5.179001331329346,
          3.4509241580963135,
          3.969614028930664,
          1.7792611122131348,
          2.332904577255249,
          5.345880031585693,
          3.5526950359344482,
          5.58060359954834,
          4.143058776855469,
          5.952750205993652,
          2.739947557449341,
          5.032334327697754
         ],
         "xaxis": "x",
         "y": [
          11.439152717590332,
          11.350184440612793,
          11.402532577514648,
          14.112859725952148,
          7.1166253089904785,
          13.600910186767578,
          12.15072250366211,
          8.92604923248291,
          13.007575988769531,
          12.252096176147461,
          12.968728065490723,
          11.350607872009277,
          11.461973190307617,
          14.958783149719238,
          14.726473808288574,
          9.659560203552246,
          9.986141204833984,
          9.680578231811523,
          14.051989555358887,
          9.403465270996094,
          11.383882522583008,
          6.627927780151367,
          10.579981803894043,
          8.979133605957031,
          8.357810020446777,
          6.495365619659424,
          10.17625617980957,
          10.631024360656738,
          8.078399658203125,
          11.860405921936035,
          10.89849853515625,
          12.627354621887207,
          10.015996932983398,
          8.480610847473145,
          9.041191101074219,
          8.780591011047363,
          8.62993049621582,
          9.436142921447754,
          10.490632057189941,
          9.66407299041748,
          11.620498657226562,
          6.7528581619262695,
          12.849384307861328,
          6.67989444732666,
          11.214012145996094,
          8.054927825927734,
          10.125370025634766,
          12.002521514892578,
          11.661020278930664,
          13.000590324401855,
          14.309185028076172,
          11.811903953552246,
          13.70759105682373,
          9.584891319274902,
          11.10500717163086,
          11.415057182312012,
          11.739623069763184,
          10.163209915161133,
          13.163779258728027
         ],
         "yaxis": "y"
        },
        {
         "hovertemplate": "color=class_1<br>x=%{x}<br>y=%{y}<extra></extra>",
         "legendgroup": "class_1",
         "marker": {
          "color": "#EF553B",
          "opacity": 0.6,
          "size": 8,
          "symbol": "circle"
         },
         "mode": "markers",
         "name": "class_1",
         "orientation": "v",
         "showlegend": true,
         "type": "scatter",
         "x": [
          -3.4369354248046875,
          -4.022363662719727,
          -4.232956886291504,
          -1.584539771080017,
          5.042819976806641,
          0.015267815440893173,
          1.6563328504562378,
          5.6990861892700195,
          3.289947271347046,
          -4.172877788543701,
          9.121374130249023,
          -1.9064277410507202,
          -0.04248765856027603,
          -0.43703925609588623,
          2.672046661376953,
          4.283231258392334,
          3.3435921669006348,
          4.528728485107422,
          -1.5545635223388672,
          9.110713005065918,
          -0.24580179154872894,
          3.889270782470703,
          3.2612767219543457,
          0.3446493148803711,
          -7.99078893661499,
          2.3440656661987305,
          3.3174808025360107,
          0.026932217180728912,
          0.5298163294792175,
          -0.679572343826294,
          0.5165690183639526,
          -1.1744351387023926,
          -1.0282063484191895,
          -1.8245036602020264,
          2.845536708831787,
          3.846721649169922,
          9.088621139526367,
          -1.4672843217849731,
          4.119891166687012,
          5.239447116851807,
          0.5335236191749573,
          4.049313545227051,
          2.846893310546875,
          1.0957809686660767,
          1.9679018259048462,
          2.7006397247314453,
          -2.3321993350982666,
          2.144472599029541,
          -1.6741267442703247,
          2.009967565536499,
          2.3011651039123535,
          4.395959854125977,
          1.395670771598816,
          -0.4978336989879608,
          -0.14690013229846954,
          -0.03336821496486664,
          1.6283694505691528,
          2.217264175415039,
          0.8761146068572998,
          -3.770533323287964,
          1.537878394126892,
          1.9923443794250488,
          1.4006016254425049,
          -0.8320984244346619,
          4.394989013671875,
          4.101277828216553,
          1.2325665950775146,
          0.6965530514717102,
          -1.460174322128296,
          0.2767851650714874,
          -2.132523775100708
         ],
         "xaxis": "x",
         "y": [
          -0.08724327385425568,
          -5.814548969268799,
          -6.410218715667725,
          0.0990896075963974,
          0.7116961479187012,
          -5.1421966552734375,
          3.6770031452178955,
          -0.33848801255226135,
          -1.915000557899475,
          -5.786876201629639,
          5.742356300354004,
          -7.678388595581055,
          7.115402698516846,
          -0.599484920501709,
          6.3999552726745605,
          1.5306133031845093,
          -3.429685115814209,
          -2.1093528270721436,
          -6.699683666229248,
          5.7621355056762695,
          2.049304246902466,
          -1.2492164373397827,
          -0.35552337765693665,
          -3.642139434814453,
          -9.023599624633789,
          2.275583028793335,
          -0.8156092762947083,
          -4.109417915344238,
          -3.844419240951538,
          -3.221641778945923,
          -2.8434383869171143,
          -4.167816638946533,
          -3.797377109527588,
          -4.260433673858643,
          0.26880016922950745,
          0.6427263617515564,
          5.862224102020264,
          -10.22431468963623,
          -0.8723272085189819,
          0.8140954971313477,
          2.4019739627838135,
          -2.2734086513519287,
          -2.615198850631714,
          0.5167811512947083,
          -1.4057939052581787,
          -1.5194509029388428,
          -3.3776845932006836,
          -2.1830413341522217,
          -3.848844289779663,
          -0.9200180768966675,
          2.376586437225342,
          3.148083448410034,
          -0.26316845417022705,
          -5.600425720214844,
          -2.8530611991882324,
          -1.8252724409103394,
          -4.612383842468262,
          -1.7560410499572754,
          -1.130138635635376,
          -8.713339805603027,
          -1.7735925912857056,
          1.4760732650756836,
          5.703688621520996,
          1.730667233467102,
          4.217983722686768,
          3.3986382484436035,
          -0.25875353813171387,
          0.14137482643127441,
          -2.2753090858459473,
          -1.0180259943008423,
          -1.4987435340881348
         ],
         "yaxis": "y"
        },
        {
         "hovertemplate": "color=class_2<br>x=%{x}<br>y=%{y}<extra></extra>",
         "legendgroup": "class_2",
         "marker": {
          "color": "#00cc96",
          "opacity": 0.6,
          "size": 8,
          "symbol": "circle"
         },
         "mode": "markers",
         "name": "class_2",
         "orientation": "v",
         "showlegend": true,
         "type": "scatter",
         "x": [
          -2.3895020484924316,
          -3.5637571811676025,
          -3.6943957805633545,
          -3.303999423980713,
          -4.820616245269775,
          -5.341399192810059,
          -8.772135734558105,
          -9.194828033447266,
          -6.906798362731934,
          -7.441246032714844,
          -6.9476776123046875,
          -5.437963008880615,
          -7.252297401428223,
          -7.632662296295166,
          -4.67489767074585,
          -5.3670973777771,
          -8.568713188171387,
          -7.6664299964904785,
          -7.021790027618408,
          -5.075172424316406,
          -4.542801380157471,
          -4.55158805847168,
          -4.3297858238220215,
          -7.718690872192383,
          -4.9441118240356445,
          -8.601283073425293,
          -7.781413555145264,
          -9.789573669433594,
          -8.39471435546875,
          -8.336346626281738,
          -7.245693683624268,
          -6.793705463409424,
          -7.27486515045166,
          -4.935122013092041,
          -6.4042277336120605,
          -7.7617621421813965,
          -6.436482906341553,
          -6.1300458908081055,
          -6.360867023468018,
          -5.475286483764648,
          -4.6139326095581055,
          -6.0541887283325195,
          -6.990748405456543,
          -8.437413215637207,
          -7.056838035583496,
          -5.675717830657959,
          -6.149312973022461,
          -8.487481117248535
         ],
         "xaxis": "x",
         "y": [
          -10.545769691467285,
          -10.947927474975586,
          -11.173298835754395,
          -11.170587539672852,
          -7.44936466217041,
          -8.230585098266602,
          -8.822986602783203,
          -8.910520553588867,
          -9.523090362548828,
          -7.792790412902832,
          -8.021993637084961,
          -9.630417823791504,
          -7.908481121063232,
          -9.466552734375,
          -11.77106761932373,
          -10.135221481323242,
          -10.167706489562988,
          -10.905462265014648,
          -11.697152137756348,
          -12.802078247070312,
          -13.757121086120605,
          -13.246084213256836,
          -14.167947769165039,
          -13.015891075134277,
          -8.413825988769531,
          -11.324689865112305,
          -12.02541732788086,
          -10.005778312683105,
          -14.600351333618164,
          -14.483122825622559,
          -10.886190414428711,
          -8.660107612609863,
          -8.234437942504883,
          -10.2007474899292,
          -11.855887413024902,
          -10.118207931518555,
          -13.524205207824707,
          -11.436302185058594,
          -13.702803611755371,
          -14.329998970031738,
          -9.867043495178223,
          -10.991348266601562,
          -12.507851600646973,
          -11.085834503173828,
          -12.005951881408691,
          -12.760346412658691,
          -12.887371063232422,
          -12.56072998046875
         ],
         "yaxis": "y"
        }
       ],
       "layout": {
        "coloraxis": {
         "showscale": false
        },
        "height": 400,
        "legend": {
         "title": {
          "text": "Clusters"
         },
         "tracegroupgap": 0
        },
        "margin": {
         "t": 60
        },
        "showlegend": true,
        "template": {
         "data": {
          "bar": [
           {
            "error_x": {
             "color": "#2a3f5f"
            },
            "error_y": {
             "color": "#2a3f5f"
            },
            "marker": {
             "line": {
              "color": "#E5ECF6",
              "width": 0.5
             },
             "pattern": {
              "fillmode": "overlay",
              "size": 10,
              "solidity": 0.2
             }
            },
            "type": "bar"
           }
          ],
          "barpolar": [
           {
            "marker": {
             "line": {
              "color": "#E5ECF6",
              "width": 0.5
             },
             "pattern": {
              "fillmode": "overlay",
              "size": 10,
              "solidity": 0.2
             }
            },
            "type": "barpolar"
           }
          ],
          "carpet": [
           {
            "aaxis": {
             "endlinecolor": "#2a3f5f",
             "gridcolor": "white",
             "linecolor": "white",
             "minorgridcolor": "white",
             "startlinecolor": "#2a3f5f"
            },
            "baxis": {
             "endlinecolor": "#2a3f5f",
             "gridcolor": "white",
             "linecolor": "white",
             "minorgridcolor": "white",
             "startlinecolor": "#2a3f5f"
            },
            "type": "carpet"
           }
          ],
          "choropleth": [
           {
            "colorbar": {
             "outlinewidth": 0,
             "ticks": ""
            },
            "type": "choropleth"
           }
          ],
          "contour": [
           {
            "colorbar": {
             "outlinewidth": 0,
             "ticks": ""
            },
            "colorscale": [
             [
              0,
              "#0d0887"
             ],
             [
              0.1111111111111111,
              "#46039f"
             ],
             [
              0.2222222222222222,
              "#7201a8"
             ],
             [
              0.3333333333333333,
              "#9c179e"
             ],
             [
              0.4444444444444444,
              "#bd3786"
             ],
             [
              0.5555555555555556,
              "#d8576b"
             ],
             [
              0.6666666666666666,
              "#ed7953"
             ],
             [
              0.7777777777777778,
              "#fb9f3a"
             ],
             [
              0.8888888888888888,
              "#fdca26"
             ],
             [
              1,
              "#f0f921"
             ]
            ],
            "type": "contour"
           }
          ],
          "contourcarpet": [
           {
            "colorbar": {
             "outlinewidth": 0,
             "ticks": ""
            },
            "type": "contourcarpet"
           }
          ],
          "heatmap": [
           {
            "colorbar": {
             "outlinewidth": 0,
             "ticks": ""
            },
            "colorscale": [
             [
              0,
              "#0d0887"
             ],
             [
              0.1111111111111111,
              "#46039f"
             ],
             [
              0.2222222222222222,
              "#7201a8"
             ],
             [
              0.3333333333333333,
              "#9c179e"
             ],
             [
              0.4444444444444444,
              "#bd3786"
             ],
             [
              0.5555555555555556,
              "#d8576b"
             ],
             [
              0.6666666666666666,
              "#ed7953"
             ],
             [
              0.7777777777777778,
              "#fb9f3a"
             ],
             [
              0.8888888888888888,
              "#fdca26"
             ],
             [
              1,
              "#f0f921"
             ]
            ],
            "type": "heatmap"
           }
          ],
          "heatmapgl": [
           {
            "colorbar": {
             "outlinewidth": 0,
             "ticks": ""
            },
            "colorscale": [
             [
              0,
              "#0d0887"
             ],
             [
              0.1111111111111111,
              "#46039f"
             ],
             [
              0.2222222222222222,
              "#7201a8"
             ],
             [
              0.3333333333333333,
              "#9c179e"
             ],
             [
              0.4444444444444444,
              "#bd3786"
             ],
             [
              0.5555555555555556,
              "#d8576b"
             ],
             [
              0.6666666666666666,
              "#ed7953"
             ],
             [
              0.7777777777777778,
              "#fb9f3a"
             ],
             [
              0.8888888888888888,
              "#fdca26"
             ],
             [
              1,
              "#f0f921"
             ]
            ],
            "type": "heatmapgl"
           }
          ],
          "histogram": [
           {
            "marker": {
             "pattern": {
              "fillmode": "overlay",
              "size": 10,
              "solidity": 0.2
             }
            },
            "type": "histogram"
           }
          ],
          "histogram2d": [
           {
            "colorbar": {
             "outlinewidth": 0,
             "ticks": ""
            },
            "colorscale": [
             [
              0,
              "#0d0887"
             ],
             [
              0.1111111111111111,
              "#46039f"
             ],
             [
              0.2222222222222222,
              "#7201a8"
             ],
             [
              0.3333333333333333,
              "#9c179e"
             ],
             [
              0.4444444444444444,
              "#bd3786"
             ],
             [
              0.5555555555555556,
              "#d8576b"
             ],
             [
              0.6666666666666666,
              "#ed7953"
             ],
             [
              0.7777777777777778,
              "#fb9f3a"
             ],
             [
              0.8888888888888888,
              "#fdca26"
             ],
             [
              1,
              "#f0f921"
             ]
            ],
            "type": "histogram2d"
           }
          ],
          "histogram2dcontour": [
           {
            "colorbar": {
             "outlinewidth": 0,
             "ticks": ""
            },
            "colorscale": [
             [
              0,
              "#0d0887"
             ],
             [
              0.1111111111111111,
              "#46039f"
             ],
             [
              0.2222222222222222,
              "#7201a8"
             ],
             [
              0.3333333333333333,
              "#9c179e"
             ],
             [
              0.4444444444444444,
              "#bd3786"
             ],
             [
              0.5555555555555556,
              "#d8576b"
             ],
             [
              0.6666666666666666,
              "#ed7953"
             ],
             [
              0.7777777777777778,
              "#fb9f3a"
             ],
             [
              0.8888888888888888,
              "#fdca26"
             ],
             [
              1,
              "#f0f921"
             ]
            ],
            "type": "histogram2dcontour"
           }
          ],
          "mesh3d": [
           {
            "colorbar": {
             "outlinewidth": 0,
             "ticks": ""
            },
            "type": "mesh3d"
           }
          ],
          "parcoords": [
           {
            "line": {
             "colorbar": {
              "outlinewidth": 0,
              "ticks": ""
             }
            },
            "type": "parcoords"
           }
          ],
          "pie": [
           {
            "automargin": true,
            "type": "pie"
           }
          ],
          "scatter": [
           {
            "fillpattern": {
             "fillmode": "overlay",
             "size": 10,
             "solidity": 0.2
            },
            "type": "scatter"
           }
          ],
          "scatter3d": [
           {
            "line": {
             "colorbar": {
              "outlinewidth": 0,
              "ticks": ""
             }
            },
            "marker": {
             "colorbar": {
              "outlinewidth": 0,
              "ticks": ""
             }
            },
            "type": "scatter3d"
           }
          ],
          "scattercarpet": [
           {
            "marker": {
             "colorbar": {
              "outlinewidth": 0,
              "ticks": ""
             }
            },
            "type": "scattercarpet"
           }
          ],
          "scattergeo": [
           {
            "marker": {
             "colorbar": {
              "outlinewidth": 0,
              "ticks": ""
             }
            },
            "type": "scattergeo"
           }
          ],
          "scattergl": [
           {
            "marker": {
             "colorbar": {
              "outlinewidth": 0,
              "ticks": ""
             }
            },
            "type": "scattergl"
           }
          ],
          "scattermapbox": [
           {
            "marker": {
             "colorbar": {
              "outlinewidth": 0,
              "ticks": ""
             }
            },
            "type": "scattermapbox"
           }
          ],
          "scatterpolar": [
           {
            "marker": {
             "colorbar": {
              "outlinewidth": 0,
              "ticks": ""
             }
            },
            "type": "scatterpolar"
           }
          ],
          "scatterpolargl": [
           {
            "marker": {
             "colorbar": {
              "outlinewidth": 0,
              "ticks": ""
             }
            },
            "type": "scatterpolargl"
           }
          ],
          "scatterternary": [
           {
            "marker": {
             "colorbar": {
              "outlinewidth": 0,
              "ticks": ""
             }
            },
            "type": "scatterternary"
           }
          ],
          "surface": [
           {
            "colorbar": {
             "outlinewidth": 0,
             "ticks": ""
            },
            "colorscale": [
             [
              0,
              "#0d0887"
             ],
             [
              0.1111111111111111,
              "#46039f"
             ],
             [
              0.2222222222222222,
              "#7201a8"
             ],
             [
              0.3333333333333333,
              "#9c179e"
             ],
             [
              0.4444444444444444,
              "#bd3786"
             ],
             [
              0.5555555555555556,
              "#d8576b"
             ],
             [
              0.6666666666666666,
              "#ed7953"
             ],
             [
              0.7777777777777778,
              "#fb9f3a"
             ],
             [
              0.8888888888888888,
              "#fdca26"
             ],
             [
              1,
              "#f0f921"
             ]
            ],
            "type": "surface"
           }
          ],
          "table": [
           {
            "cells": {
             "fill": {
              "color": "#EBF0F8"
             },
             "line": {
              "color": "white"
             }
            },
            "header": {
             "fill": {
              "color": "#C8D4E3"
             },
             "line": {
              "color": "white"
             }
            },
            "type": "table"
           }
          ]
         },
         "layout": {
          "annotationdefaults": {
           "arrowcolor": "#2a3f5f",
           "arrowhead": 0,
           "arrowwidth": 1
          },
          "autotypenumbers": "strict",
          "coloraxis": {
           "colorbar": {
            "outlinewidth": 0,
            "ticks": ""
           }
          },
          "colorscale": {
           "diverging": [
            [
             0,
             "#8e0152"
            ],
            [
             0.1,
             "#c51b7d"
            ],
            [
             0.2,
             "#de77ae"
            ],
            [
             0.3,
             "#f1b6da"
            ],
            [
             0.4,
             "#fde0ef"
            ],
            [
             0.5,
             "#f7f7f7"
            ],
            [
             0.6,
             "#e6f5d0"
            ],
            [
             0.7,
             "#b8e186"
            ],
            [
             0.8,
             "#7fbc41"
            ],
            [
             0.9,
             "#4d9221"
            ],
            [
             1,
             "#276419"
            ]
           ],
           "sequential": [
            [
             0,
             "#0d0887"
            ],
            [
             0.1111111111111111,
             "#46039f"
            ],
            [
             0.2222222222222222,
             "#7201a8"
            ],
            [
             0.3333333333333333,
             "#9c179e"
            ],
            [
             0.4444444444444444,
             "#bd3786"
            ],
            [
             0.5555555555555556,
             "#d8576b"
            ],
            [
             0.6666666666666666,
             "#ed7953"
            ],
            [
             0.7777777777777778,
             "#fb9f3a"
            ],
            [
             0.8888888888888888,
             "#fdca26"
            ],
            [
             1,
             "#f0f921"
            ]
           ],
           "sequentialminus": [
            [
             0,
             "#0d0887"
            ],
            [
             0.1111111111111111,
             "#46039f"
            ],
            [
             0.2222222222222222,
             "#7201a8"
            ],
            [
             0.3333333333333333,
             "#9c179e"
            ],
            [
             0.4444444444444444,
             "#bd3786"
            ],
            [
             0.5555555555555556,
             "#d8576b"
            ],
            [
             0.6666666666666666,
             "#ed7953"
            ],
            [
             0.7777777777777778,
             "#fb9f3a"
            ],
            [
             0.8888888888888888,
             "#fdca26"
            ],
            [
             1,
             "#f0f921"
            ]
           ]
          },
          "colorway": [
           "#636efa",
           "#EF553B",
           "#00cc96",
           "#ab63fa",
           "#FFA15A",
           "#19d3f3",
           "#FF6692",
           "#B6E880",
           "#FF97FF",
           "#FECB52"
          ],
          "font": {
           "color": "#2a3f5f"
          },
          "geo": {
           "bgcolor": "white",
           "lakecolor": "white",
           "landcolor": "#E5ECF6",
           "showlakes": true,
           "showland": true,
           "subunitcolor": "white"
          },
          "hoverlabel": {
           "align": "left"
          },
          "hovermode": "closest",
          "mapbox": {
           "style": "light"
          },
          "paper_bgcolor": "white",
          "plot_bgcolor": "#E5ECF6",
          "polar": {
           "angularaxis": {
            "gridcolor": "white",
            "linecolor": "white",
            "ticks": ""
           },
           "bgcolor": "#E5ECF6",
           "radialaxis": {
            "gridcolor": "white",
            "linecolor": "white",
            "ticks": ""
           }
          },
          "scene": {
           "xaxis": {
            "backgroundcolor": "#E5ECF6",
            "gridcolor": "white",
            "gridwidth": 2,
            "linecolor": "white",
            "showbackground": true,
            "ticks": "",
            "zerolinecolor": "white"
           },
           "yaxis": {
            "backgroundcolor": "#E5ECF6",
            "gridcolor": "white",
            "gridwidth": 2,
            "linecolor": "white",
            "showbackground": true,
            "ticks": "",
            "zerolinecolor": "white"
           },
           "zaxis": {
            "backgroundcolor": "#E5ECF6",
            "gridcolor": "white",
            "gridwidth": 2,
            "linecolor": "white",
            "showbackground": true,
            "ticks": "",
            "zerolinecolor": "white"
           }
          },
          "shapedefaults": {
           "line": {
            "color": "#2a3f5f"
           }
          },
          "ternary": {
           "aaxis": {
            "gridcolor": "white",
            "linecolor": "white",
            "ticks": ""
           },
           "baxis": {
            "gridcolor": "white",
            "linecolor": "white",
            "ticks": ""
           },
           "bgcolor": "#E5ECF6",
           "caxis": {
            "gridcolor": "white",
            "linecolor": "white",
            "ticks": ""
           }
          },
          "title": {
           "x": 0.05
          },
          "xaxis": {
           "automargin": true,
           "gridcolor": "white",
           "linecolor": "white",
           "ticks": "",
           "title": {
            "standoff": 15
           },
           "zerolinecolor": "white",
           "zerolinewidth": 2
          },
          "yaxis": {
           "automargin": true,
           "gridcolor": "white",
           "linecolor": "white",
           "ticks": "",
           "title": {
            "standoff": 15
           },
           "zerolinecolor": "white",
           "zerolinewidth": 2
          }
         }
        },
        "title": {
         "text": "Original Class in the t-SNE Space"
        },
        "width": 600,
        "xaxis": {
         "anchor": "y",
         "domain": [
          0,
          1
         ],
         "title": {
          "text": "TSNE_1"
         }
        },
        "yaxis": {
         "anchor": "x",
         "domain": [
          0,
          1
         ],
         "title": {
          "text": "TSNE_2"
         }
        }
       }
      }
     },
     "metadata": {},
     "output_type": "display_data"
    }
   ],
   "source": [
    "cv_w = cv.ClusterVisualizer(df_tsne)\n",
    "\n",
    "cv_w.plot_clusters(df_tsne['Original Class'], \n",
    "                   title='Original Class in the t-SNE Space')"
   ]
  },
  {
   "cell_type": "code",
   "execution_count": 29,
   "metadata": {},
   "outputs": [
    {
     "name": "stdout",
     "output_type": "stream",
     "text": [
      "Number of clusters: 3\n"
     ]
    }
   ],
   "source": [
    "# Using Affinity Propagation\n",
    "ap = AffinityPropagation(random_state=0,  preference=-200)\n",
    "ap.fit(dfS.iloc[:, :-1])\n",
    "\n",
    "print('Number of clusters: %i' % len(ap.cluster_centers_indices_))"
   ]
  },
  {
   "cell_type": "code",
   "execution_count": 30,
   "metadata": {},
   "outputs": [
    {
     "data": {
      "application/vnd.plotly.v1+json": {
       "config": {
        "plotlyServerURL": "https://plot.ly"
       },
       "data": [
        {
         "hovertemplate": "color=0<br>x=%{x}<br>y=%{y}<extra></extra>",
         "legendgroup": "0",
         "marker": {
          "color": "#636efa",
          "opacity": 0.6,
          "size": 8,
          "symbol": "circle"
         },
         "mode": "markers",
         "name": "0",
         "orientation": "v",
         "showlegend": true,
         "type": "scatter",
         "x": [
          6.892740726470947,
          3.2065834999084473,
          5.181119441986084,
          2.216416358947754,
          4.25879430770874,
          1.5894489288330078,
          4.314571857452393,
          1.6415066719055176,
          4.798851013183594,
          3.130634307861328,
          0.8380879759788513,
          1.626948595046997,
          2.672607421875,
          3.0887248516082764,
          3.259554862976074,
          3.989990234375,
          3.7184600830078125,
          3.937875509262085,
          6.4802045822143555,
          6.748877048492432,
          1.930768370628357,
          2.025160074234009,
          2.297461986541748,
          1.29983651638031,
          3.368725538253784,
          3.4917283058166504,
          1.0154541730880737,
          3.7054741382598877,
          2.152106523513794,
          1.310337781906128,
          2.4449760913848877,
          7.005812168121338,
          6.215543746948242,
          5.726499080657959,
          5.404606342315674,
          5.761294364929199,
          5.951084136962891,
          5.179001331329346,
          3.4509241580963135,
          3.969614028930664,
          1.7792611122131348,
          2.332904577255249,
          5.345880031585693,
          3.5526950359344482,
          5.58060359954834,
          4.143058776855469,
          5.952750205993652,
          2.739947557449341,
          5.032334327697754,
          2.672046661376953,
          9.088621139526367,
          1.4006016254425049,
          -8.39471435546875,
          -8.336346626281738
         ],
         "xaxis": "x",
         "y": [
          11.439152717590332,
          11.402532577514648,
          14.112859725952148,
          7.1166253089904785,
          13.600910186767578,
          12.15072250366211,
          8.92604923248291,
          13.007575988769531,
          12.252096176147461,
          12.968728065490723,
          11.350607872009277,
          11.461973190307617,
          14.958783149719238,
          14.726473808288574,
          9.659560203552246,
          9.986141204833984,
          9.680578231811523,
          14.051989555358887,
          9.403465270996094,
          11.383882522583008,
          6.495365619659424,
          10.17625617980957,
          8.078399658203125,
          11.860405921936035,
          10.89849853515625,
          12.627354621887207,
          10.015996932983398,
          8.480610847473145,
          9.041191101074219,
          8.780591011047363,
          8.62993049621582,
          9.66407299041748,
          11.620498657226562,
          12.849384307861328,
          11.214012145996094,
          8.054927825927734,
          10.125370025634766,
          12.002521514892578,
          11.661020278930664,
          13.000590324401855,
          14.309185028076172,
          11.811903953552246,
          13.70759105682373,
          9.584891319274902,
          11.10500717163086,
          11.415057182312012,
          11.739623069763184,
          10.163209915161133,
          13.163779258728027,
          6.3999552726745605,
          5.862224102020264,
          5.703688621520996,
          -14.600351333618164,
          -14.483122825622559
         ],
         "yaxis": "y"
        },
        {
         "hovertemplate": "color=1<br>x=%{x}<br>y=%{y}<extra></extra>",
         "legendgroup": "1",
         "marker": {
          "color": "#EF553B",
          "opacity": 0.6,
          "size": 8,
          "symbol": "circle"
         },
         "mode": "markers",
         "name": "1",
         "orientation": "v",
         "showlegend": true,
         "type": "scatter",
         "x": [
          -0.4965824782848358,
          4.452808380126953,
          1.197171688079834,
          0.7548514008522034,
          0.9474345445632935,
          -0.04130631312727928,
          1.4682022333145142,
          -0.3099355101585388,
          5.502817153930664,
          5.3433942794799805,
          -3.4369354248046875,
          -1.584539771080017,
          5.042819976806641,
          0.015267815440893173,
          1.6563328504562378,
          5.6990861892700195,
          3.289947271347046,
          9.121374130249023,
          -0.04248765856027603,
          -0.43703925609588623,
          4.283231258392334,
          3.3435921669006348,
          4.528728485107422,
          9.110713005065918,
          -0.24580179154872894,
          3.889270782470703,
          3.2612767219543457,
          0.3446493148803711,
          2.3440656661987305,
          3.3174808025360107,
          0.026932217180728912,
          0.5298163294792175,
          -0.679572343826294,
          0.5165690183639526,
          -1.1744351387023926,
          -1.0282063484191895,
          -1.8245036602020264,
          2.845536708831787,
          3.846721649169922,
          4.119891166687012,
          5.239447116851807,
          0.5335236191749573,
          4.049313545227051,
          2.846893310546875,
          1.0957809686660767,
          1.9679018259048462,
          2.7006397247314453,
          -2.3321993350982666,
          2.144472599029541,
          -1.6741267442703247,
          2.009967565536499,
          2.3011651039123535,
          4.395959854125977,
          1.395670771598816,
          -0.14690013229846954,
          -0.03336821496486664,
          1.6283694505691528,
          2.217264175415039,
          0.8761146068572998,
          1.537878394126892,
          1.9923443794250488,
          -0.8320984244346619,
          4.394989013671875,
          4.101277828216553,
          1.2325665950775146,
          0.6965530514717102,
          -1.460174322128296,
          0.2767851650714874
         ],
         "xaxis": "x",
         "y": [
          11.350184440612793,
          6.627927780151367,
          10.579981803894043,
          8.979133605957031,
          8.357810020446777,
          10.631024360656738,
          9.436142921447754,
          10.490632057189941,
          6.7528581619262695,
          6.67989444732666,
          -0.08724327385425568,
          0.0990896075963974,
          0.7116961479187012,
          -5.1421966552734375,
          3.6770031452178955,
          -0.33848801255226135,
          -1.915000557899475,
          5.742356300354004,
          7.115402698516846,
          -0.599484920501709,
          1.5306133031845093,
          -3.429685115814209,
          -2.1093528270721436,
          5.7621355056762695,
          2.049304246902466,
          -1.2492164373397827,
          -0.35552337765693665,
          -3.642139434814453,
          2.275583028793335,
          -0.8156092762947083,
          -4.109417915344238,
          -3.844419240951538,
          -3.221641778945923,
          -2.8434383869171143,
          -4.167816638946533,
          -3.797377109527588,
          -4.260433673858643,
          0.26880016922950745,
          0.6427263617515564,
          -0.8723272085189819,
          0.8140954971313477,
          2.4019739627838135,
          -2.2734086513519287,
          -2.615198850631714,
          0.5167811512947083,
          -1.4057939052581787,
          -1.5194509029388428,
          -3.3776845932006836,
          -2.1830413341522217,
          -3.848844289779663,
          -0.9200180768966675,
          2.376586437225342,
          3.148083448410034,
          -0.26316845417022705,
          -2.8530611991882324,
          -1.8252724409103394,
          -4.612383842468262,
          -1.7560410499572754,
          -1.130138635635376,
          -1.7735925912857056,
          1.4760732650756836,
          1.730667233467102,
          4.217983722686768,
          3.3986382484436035,
          -0.25875353813171387,
          0.14137482643127441,
          -2.2753090858459473,
          -1.0180259943008423
         ],
         "yaxis": "y"
        },
        {
         "hovertemplate": "color=2<br>x=%{x}<br>y=%{y}<extra></extra>",
         "legendgroup": "2",
         "marker": {
          "color": "#00cc96",
          "opacity": 0.6,
          "size": 8,
          "symbol": "circle"
         },
         "mode": "markers",
         "name": "2",
         "orientation": "v",
         "showlegend": true,
         "type": "scatter",
         "x": [
          -4.022363662719727,
          -4.232956886291504,
          -4.172877788543701,
          -1.9064277410507202,
          -1.5545635223388672,
          -7.99078893661499,
          -1.4672843217849731,
          -0.4978336989879608,
          -3.770533323287964,
          -2.132523775100708,
          -2.3895020484924316,
          -3.5637571811676025,
          -3.6943957805633545,
          -3.303999423980713,
          -4.820616245269775,
          -5.341399192810059,
          -8.772135734558105,
          -9.194828033447266,
          -6.906798362731934,
          -7.441246032714844,
          -6.9476776123046875,
          -5.437963008880615,
          -7.252297401428223,
          -7.632662296295166,
          -4.67489767074585,
          -5.3670973777771,
          -8.568713188171387,
          -7.6664299964904785,
          -7.021790027618408,
          -5.075172424316406,
          -4.542801380157471,
          -4.55158805847168,
          -4.3297858238220215,
          -7.718690872192383,
          -4.9441118240356445,
          -8.601283073425293,
          -7.781413555145264,
          -9.789573669433594,
          -7.245693683624268,
          -6.793705463409424,
          -7.27486515045166,
          -4.935122013092041,
          -6.4042277336120605,
          -7.7617621421813965,
          -6.436482906341553,
          -6.1300458908081055,
          -6.360867023468018,
          -5.475286483764648,
          -4.6139326095581055,
          -6.0541887283325195,
          -6.990748405456543,
          -8.437413215637207,
          -7.056838035583496,
          -5.675717830657959,
          -6.149312973022461,
          -8.487481117248535
         ],
         "xaxis": "x",
         "y": [
          -5.814548969268799,
          -6.410218715667725,
          -5.786876201629639,
          -7.678388595581055,
          -6.699683666229248,
          -9.023599624633789,
          -10.22431468963623,
          -5.600425720214844,
          -8.713339805603027,
          -1.4987435340881348,
          -10.545769691467285,
          -10.947927474975586,
          -11.173298835754395,
          -11.170587539672852,
          -7.44936466217041,
          -8.230585098266602,
          -8.822986602783203,
          -8.910520553588867,
          -9.523090362548828,
          -7.792790412902832,
          -8.021993637084961,
          -9.630417823791504,
          -7.908481121063232,
          -9.466552734375,
          -11.77106761932373,
          -10.135221481323242,
          -10.167706489562988,
          -10.905462265014648,
          -11.697152137756348,
          -12.802078247070312,
          -13.757121086120605,
          -13.246084213256836,
          -14.167947769165039,
          -13.015891075134277,
          -8.413825988769531,
          -11.324689865112305,
          -12.02541732788086,
          -10.005778312683105,
          -10.886190414428711,
          -8.660107612609863,
          -8.234437942504883,
          -10.2007474899292,
          -11.855887413024902,
          -10.118207931518555,
          -13.524205207824707,
          -11.436302185058594,
          -13.702803611755371,
          -14.329998970031738,
          -9.867043495178223,
          -10.991348266601562,
          -12.507851600646973,
          -11.085834503173828,
          -12.005951881408691,
          -12.760346412658691,
          -12.887371063232422,
          -12.56072998046875
         ],
         "yaxis": "y"
        }
       ],
       "layout": {
        "coloraxis": {
         "showscale": false
        },
        "height": 400,
        "legend": {
         "title": {
          "text": "Clusters"
         },
         "tracegroupgap": 0
        },
        "margin": {
         "t": 60
        },
        "showlegend": true,
        "template": {
         "data": {
          "bar": [
           {
            "error_x": {
             "color": "#2a3f5f"
            },
            "error_y": {
             "color": "#2a3f5f"
            },
            "marker": {
             "line": {
              "color": "#E5ECF6",
              "width": 0.5
             },
             "pattern": {
              "fillmode": "overlay",
              "size": 10,
              "solidity": 0.2
             }
            },
            "type": "bar"
           }
          ],
          "barpolar": [
           {
            "marker": {
             "line": {
              "color": "#E5ECF6",
              "width": 0.5
             },
             "pattern": {
              "fillmode": "overlay",
              "size": 10,
              "solidity": 0.2
             }
            },
            "type": "barpolar"
           }
          ],
          "carpet": [
           {
            "aaxis": {
             "endlinecolor": "#2a3f5f",
             "gridcolor": "white",
             "linecolor": "white",
             "minorgridcolor": "white",
             "startlinecolor": "#2a3f5f"
            },
            "baxis": {
             "endlinecolor": "#2a3f5f",
             "gridcolor": "white",
             "linecolor": "white",
             "minorgridcolor": "white",
             "startlinecolor": "#2a3f5f"
            },
            "type": "carpet"
           }
          ],
          "choropleth": [
           {
            "colorbar": {
             "outlinewidth": 0,
             "ticks": ""
            },
            "type": "choropleth"
           }
          ],
          "contour": [
           {
            "colorbar": {
             "outlinewidth": 0,
             "ticks": ""
            },
            "colorscale": [
             [
              0,
              "#0d0887"
             ],
             [
              0.1111111111111111,
              "#46039f"
             ],
             [
              0.2222222222222222,
              "#7201a8"
             ],
             [
              0.3333333333333333,
              "#9c179e"
             ],
             [
              0.4444444444444444,
              "#bd3786"
             ],
             [
              0.5555555555555556,
              "#d8576b"
             ],
             [
              0.6666666666666666,
              "#ed7953"
             ],
             [
              0.7777777777777778,
              "#fb9f3a"
             ],
             [
              0.8888888888888888,
              "#fdca26"
             ],
             [
              1,
              "#f0f921"
             ]
            ],
            "type": "contour"
           }
          ],
          "contourcarpet": [
           {
            "colorbar": {
             "outlinewidth": 0,
             "ticks": ""
            },
            "type": "contourcarpet"
           }
          ],
          "heatmap": [
           {
            "colorbar": {
             "outlinewidth": 0,
             "ticks": ""
            },
            "colorscale": [
             [
              0,
              "#0d0887"
             ],
             [
              0.1111111111111111,
              "#46039f"
             ],
             [
              0.2222222222222222,
              "#7201a8"
             ],
             [
              0.3333333333333333,
              "#9c179e"
             ],
             [
              0.4444444444444444,
              "#bd3786"
             ],
             [
              0.5555555555555556,
              "#d8576b"
             ],
             [
              0.6666666666666666,
              "#ed7953"
             ],
             [
              0.7777777777777778,
              "#fb9f3a"
             ],
             [
              0.8888888888888888,
              "#fdca26"
             ],
             [
              1,
              "#f0f921"
             ]
            ],
            "type": "heatmap"
           }
          ],
          "heatmapgl": [
           {
            "colorbar": {
             "outlinewidth": 0,
             "ticks": ""
            },
            "colorscale": [
             [
              0,
              "#0d0887"
             ],
             [
              0.1111111111111111,
              "#46039f"
             ],
             [
              0.2222222222222222,
              "#7201a8"
             ],
             [
              0.3333333333333333,
              "#9c179e"
             ],
             [
              0.4444444444444444,
              "#bd3786"
             ],
             [
              0.5555555555555556,
              "#d8576b"
             ],
             [
              0.6666666666666666,
              "#ed7953"
             ],
             [
              0.7777777777777778,
              "#fb9f3a"
             ],
             [
              0.8888888888888888,
              "#fdca26"
             ],
             [
              1,
              "#f0f921"
             ]
            ],
            "type": "heatmapgl"
           }
          ],
          "histogram": [
           {
            "marker": {
             "pattern": {
              "fillmode": "overlay",
              "size": 10,
              "solidity": 0.2
             }
            },
            "type": "histogram"
           }
          ],
          "histogram2d": [
           {
            "colorbar": {
             "outlinewidth": 0,
             "ticks": ""
            },
            "colorscale": [
             [
              0,
              "#0d0887"
             ],
             [
              0.1111111111111111,
              "#46039f"
             ],
             [
              0.2222222222222222,
              "#7201a8"
             ],
             [
              0.3333333333333333,
              "#9c179e"
             ],
             [
              0.4444444444444444,
              "#bd3786"
             ],
             [
              0.5555555555555556,
              "#d8576b"
             ],
             [
              0.6666666666666666,
              "#ed7953"
             ],
             [
              0.7777777777777778,
              "#fb9f3a"
             ],
             [
              0.8888888888888888,
              "#fdca26"
             ],
             [
              1,
              "#f0f921"
             ]
            ],
            "type": "histogram2d"
           }
          ],
          "histogram2dcontour": [
           {
            "colorbar": {
             "outlinewidth": 0,
             "ticks": ""
            },
            "colorscale": [
             [
              0,
              "#0d0887"
             ],
             [
              0.1111111111111111,
              "#46039f"
             ],
             [
              0.2222222222222222,
              "#7201a8"
             ],
             [
              0.3333333333333333,
              "#9c179e"
             ],
             [
              0.4444444444444444,
              "#bd3786"
             ],
             [
              0.5555555555555556,
              "#d8576b"
             ],
             [
              0.6666666666666666,
              "#ed7953"
             ],
             [
              0.7777777777777778,
              "#fb9f3a"
             ],
             [
              0.8888888888888888,
              "#fdca26"
             ],
             [
              1,
              "#f0f921"
             ]
            ],
            "type": "histogram2dcontour"
           }
          ],
          "mesh3d": [
           {
            "colorbar": {
             "outlinewidth": 0,
             "ticks": ""
            },
            "type": "mesh3d"
           }
          ],
          "parcoords": [
           {
            "line": {
             "colorbar": {
              "outlinewidth": 0,
              "ticks": ""
             }
            },
            "type": "parcoords"
           }
          ],
          "pie": [
           {
            "automargin": true,
            "type": "pie"
           }
          ],
          "scatter": [
           {
            "fillpattern": {
             "fillmode": "overlay",
             "size": 10,
             "solidity": 0.2
            },
            "type": "scatter"
           }
          ],
          "scatter3d": [
           {
            "line": {
             "colorbar": {
              "outlinewidth": 0,
              "ticks": ""
             }
            },
            "marker": {
             "colorbar": {
              "outlinewidth": 0,
              "ticks": ""
             }
            },
            "type": "scatter3d"
           }
          ],
          "scattercarpet": [
           {
            "marker": {
             "colorbar": {
              "outlinewidth": 0,
              "ticks": ""
             }
            },
            "type": "scattercarpet"
           }
          ],
          "scattergeo": [
           {
            "marker": {
             "colorbar": {
              "outlinewidth": 0,
              "ticks": ""
             }
            },
            "type": "scattergeo"
           }
          ],
          "scattergl": [
           {
            "marker": {
             "colorbar": {
              "outlinewidth": 0,
              "ticks": ""
             }
            },
            "type": "scattergl"
           }
          ],
          "scattermapbox": [
           {
            "marker": {
             "colorbar": {
              "outlinewidth": 0,
              "ticks": ""
             }
            },
            "type": "scattermapbox"
           }
          ],
          "scatterpolar": [
           {
            "marker": {
             "colorbar": {
              "outlinewidth": 0,
              "ticks": ""
             }
            },
            "type": "scatterpolar"
           }
          ],
          "scatterpolargl": [
           {
            "marker": {
             "colorbar": {
              "outlinewidth": 0,
              "ticks": ""
             }
            },
            "type": "scatterpolargl"
           }
          ],
          "scatterternary": [
           {
            "marker": {
             "colorbar": {
              "outlinewidth": 0,
              "ticks": ""
             }
            },
            "type": "scatterternary"
           }
          ],
          "surface": [
           {
            "colorbar": {
             "outlinewidth": 0,
             "ticks": ""
            },
            "colorscale": [
             [
              0,
              "#0d0887"
             ],
             [
              0.1111111111111111,
              "#46039f"
             ],
             [
              0.2222222222222222,
              "#7201a8"
             ],
             [
              0.3333333333333333,
              "#9c179e"
             ],
             [
              0.4444444444444444,
              "#bd3786"
             ],
             [
              0.5555555555555556,
              "#d8576b"
             ],
             [
              0.6666666666666666,
              "#ed7953"
             ],
             [
              0.7777777777777778,
              "#fb9f3a"
             ],
             [
              0.8888888888888888,
              "#fdca26"
             ],
             [
              1,
              "#f0f921"
             ]
            ],
            "type": "surface"
           }
          ],
          "table": [
           {
            "cells": {
             "fill": {
              "color": "#EBF0F8"
             },
             "line": {
              "color": "white"
             }
            },
            "header": {
             "fill": {
              "color": "#C8D4E3"
             },
             "line": {
              "color": "white"
             }
            },
            "type": "table"
           }
          ]
         },
         "layout": {
          "annotationdefaults": {
           "arrowcolor": "#2a3f5f",
           "arrowhead": 0,
           "arrowwidth": 1
          },
          "autotypenumbers": "strict",
          "coloraxis": {
           "colorbar": {
            "outlinewidth": 0,
            "ticks": ""
           }
          },
          "colorscale": {
           "diverging": [
            [
             0,
             "#8e0152"
            ],
            [
             0.1,
             "#c51b7d"
            ],
            [
             0.2,
             "#de77ae"
            ],
            [
             0.3,
             "#f1b6da"
            ],
            [
             0.4,
             "#fde0ef"
            ],
            [
             0.5,
             "#f7f7f7"
            ],
            [
             0.6,
             "#e6f5d0"
            ],
            [
             0.7,
             "#b8e186"
            ],
            [
             0.8,
             "#7fbc41"
            ],
            [
             0.9,
             "#4d9221"
            ],
            [
             1,
             "#276419"
            ]
           ],
           "sequential": [
            [
             0,
             "#0d0887"
            ],
            [
             0.1111111111111111,
             "#46039f"
            ],
            [
             0.2222222222222222,
             "#7201a8"
            ],
            [
             0.3333333333333333,
             "#9c179e"
            ],
            [
             0.4444444444444444,
             "#bd3786"
            ],
            [
             0.5555555555555556,
             "#d8576b"
            ],
            [
             0.6666666666666666,
             "#ed7953"
            ],
            [
             0.7777777777777778,
             "#fb9f3a"
            ],
            [
             0.8888888888888888,
             "#fdca26"
            ],
            [
             1,
             "#f0f921"
            ]
           ],
           "sequentialminus": [
            [
             0,
             "#0d0887"
            ],
            [
             0.1111111111111111,
             "#46039f"
            ],
            [
             0.2222222222222222,
             "#7201a8"
            ],
            [
             0.3333333333333333,
             "#9c179e"
            ],
            [
             0.4444444444444444,
             "#bd3786"
            ],
            [
             0.5555555555555556,
             "#d8576b"
            ],
            [
             0.6666666666666666,
             "#ed7953"
            ],
            [
             0.7777777777777778,
             "#fb9f3a"
            ],
            [
             0.8888888888888888,
             "#fdca26"
            ],
            [
             1,
             "#f0f921"
            ]
           ]
          },
          "colorway": [
           "#636efa",
           "#EF553B",
           "#00cc96",
           "#ab63fa",
           "#FFA15A",
           "#19d3f3",
           "#FF6692",
           "#B6E880",
           "#FF97FF",
           "#FECB52"
          ],
          "font": {
           "color": "#2a3f5f"
          },
          "geo": {
           "bgcolor": "white",
           "lakecolor": "white",
           "landcolor": "#E5ECF6",
           "showlakes": true,
           "showland": true,
           "subunitcolor": "white"
          },
          "hoverlabel": {
           "align": "left"
          },
          "hovermode": "closest",
          "mapbox": {
           "style": "light"
          },
          "paper_bgcolor": "white",
          "plot_bgcolor": "#E5ECF6",
          "polar": {
           "angularaxis": {
            "gridcolor": "white",
            "linecolor": "white",
            "ticks": ""
           },
           "bgcolor": "#E5ECF6",
           "radialaxis": {
            "gridcolor": "white",
            "linecolor": "white",
            "ticks": ""
           }
          },
          "scene": {
           "xaxis": {
            "backgroundcolor": "#E5ECF6",
            "gridcolor": "white",
            "gridwidth": 2,
            "linecolor": "white",
            "showbackground": true,
            "ticks": "",
            "zerolinecolor": "white"
           },
           "yaxis": {
            "backgroundcolor": "#E5ECF6",
            "gridcolor": "white",
            "gridwidth": 2,
            "linecolor": "white",
            "showbackground": true,
            "ticks": "",
            "zerolinecolor": "white"
           },
           "zaxis": {
            "backgroundcolor": "#E5ECF6",
            "gridcolor": "white",
            "gridwidth": 2,
            "linecolor": "white",
            "showbackground": true,
            "ticks": "",
            "zerolinecolor": "white"
           }
          },
          "shapedefaults": {
           "line": {
            "color": "#2a3f5f"
           }
          },
          "ternary": {
           "aaxis": {
            "gridcolor": "white",
            "linecolor": "white",
            "ticks": ""
           },
           "baxis": {
            "gridcolor": "white",
            "linecolor": "white",
            "ticks": ""
           },
           "bgcolor": "#E5ECF6",
           "caxis": {
            "gridcolor": "white",
            "linecolor": "white",
            "ticks": ""
           }
          },
          "title": {
           "x": 0.05
          },
          "xaxis": {
           "automargin": true,
           "gridcolor": "white",
           "linecolor": "white",
           "ticks": "",
           "title": {
            "standoff": 15
           },
           "zerolinecolor": "white",
           "zerolinewidth": 2
          },
          "yaxis": {
           "automargin": true,
           "gridcolor": "white",
           "linecolor": "white",
           "ticks": "",
           "title": {
            "standoff": 15
           },
           "zerolinecolor": "white",
           "zerolinewidth": 2
          }
         }
        },
        "title": {
         "text": "Affinity Propagation Results in the t-SNE Space"
        },
        "width": 600,
        "xaxis": {
         "anchor": "y",
         "domain": [
          0,
          1
         ],
         "title": {
          "text": "TSNE_1"
         }
        },
        "yaxis": {
         "anchor": "x",
         "domain": [
          0,
          1
         ],
         "title": {
          "text": "TSNE_2"
         }
        }
       }
      }
     },
     "metadata": {},
     "output_type": "display_data"
    }
   ],
   "source": [
    "# Plot the clusters in the t-SNE space\n",
    "cv_w.plot_clusters(ap.labels_, title='Affinity Propagation Results in the t-SNE Space')"
   ]
  },
  {
   "cell_type": "markdown",
   "metadata": {},
   "source": [
    "### External Validation Measures"
   ]
  },
  {
   "cell_type": "markdown",
   "metadata": {},
   "source": [
    "External validation measures for clustering assess the quality of clustering results by comparing them to known ground truth or predefined labels in the data."
   ]
  },
  {
   "cell_type": "code",
   "execution_count": 31,
   "metadata": {},
   "outputs": [
    {
     "data": {
      "text/html": [
       "<div>\n",
       "<style scoped>\n",
       "    .dataframe tbody tr th:only-of-type {\n",
       "        vertical-align: middle;\n",
       "    }\n",
       "\n",
       "    .dataframe tbody tr th {\n",
       "        vertical-align: top;\n",
       "    }\n",
       "\n",
       "    .dataframe thead th {\n",
       "        text-align: right;\n",
       "    }\n",
       "</style>\n",
       "<table border=\"1\" class=\"dataframe\">\n",
       "  <thead>\n",
       "    <tr style=\"text-align: right;\">\n",
       "      <th></th>\n",
       "      <th>alcohol</th>\n",
       "      <th>malic_acid</th>\n",
       "      <th>ash</th>\n",
       "      <th>alcalinity_of_ash</th>\n",
       "      <th>...</th>\n",
       "      <th>od280/od315_of_diluted_wines</th>\n",
       "      <th>proline</th>\n",
       "      <th>class</th>\n",
       "      <th>AP Cluster</th>\n",
       "    </tr>\n",
       "  </thead>\n",
       "  <tbody>\n",
       "    <tr>\n",
       "      <th>0</th>\n",
       "      <td>1.518613</td>\n",
       "      <td>-0.562250</td>\n",
       "      <td>0.232053</td>\n",
       "      <td>-1.169593</td>\n",
       "      <td>...</td>\n",
       "      <td>1.847920</td>\n",
       "      <td>1.013009</td>\n",
       "      <td>class_0</td>\n",
       "      <td>0</td>\n",
       "    </tr>\n",
       "    <tr>\n",
       "      <th>1</th>\n",
       "      <td>0.246290</td>\n",
       "      <td>-0.499413</td>\n",
       "      <td>-0.827996</td>\n",
       "      <td>-2.490847</td>\n",
       "      <td>...</td>\n",
       "      <td>1.113449</td>\n",
       "      <td>0.965242</td>\n",
       "      <td>class_0</td>\n",
       "      <td>1</td>\n",
       "    </tr>\n",
       "    <tr>\n",
       "      <th>2</th>\n",
       "      <td>0.196879</td>\n",
       "      <td>0.021231</td>\n",
       "      <td>1.109334</td>\n",
       "      <td>-0.268738</td>\n",
       "      <td>...</td>\n",
       "      <td>0.788587</td>\n",
       "      <td>1.395148</td>\n",
       "      <td>class_0</td>\n",
       "      <td>0</td>\n",
       "    </tr>\n",
       "    <tr>\n",
       "      <th>3</th>\n",
       "      <td>1.691550</td>\n",
       "      <td>-0.346811</td>\n",
       "      <td>0.487926</td>\n",
       "      <td>-0.809251</td>\n",
       "      <td>...</td>\n",
       "      <td>1.184071</td>\n",
       "      <td>2.334574</td>\n",
       "      <td>class_0</td>\n",
       "      <td>0</td>\n",
       "    </tr>\n",
       "    <tr>\n",
       "      <th>4</th>\n",
       "      <td>0.295700</td>\n",
       "      <td>0.227694</td>\n",
       "      <td>1.840403</td>\n",
       "      <td>0.451946</td>\n",
       "      <td>...</td>\n",
       "      <td>0.449601</td>\n",
       "      <td>-0.037874</td>\n",
       "      <td>class_0</td>\n",
       "      <td>0</td>\n",
       "    </tr>\n",
       "  </tbody>\n",
       "</table>\n",
       "<p>5 rows × 15 columns</p>\n",
       "</div>"
      ],
      "text/plain": [
       "    alcohol  malic_acid       ash  alcalinity_of_ash  ...  \\\n",
       "0  1.518613   -0.562250  0.232053          -1.169593  ...   \n",
       "1  0.246290   -0.499413 -0.827996          -2.490847  ...   \n",
       "2  0.196879    0.021231  1.109334          -0.268738  ...   \n",
       "3  1.691550   -0.346811  0.487926          -0.809251  ...   \n",
       "4  0.295700    0.227694  1.840403           0.451946  ...   \n",
       "\n",
       "   od280/od315_of_diluted_wines   proline    class  AP Cluster  \n",
       "0                      1.847920  1.013009  class_0           0  \n",
       "1                      1.113449  0.965242  class_0           1  \n",
       "2                      0.788587  1.395148  class_0           0  \n",
       "3                      1.184071  2.334574  class_0           0  \n",
       "4                      0.449601 -0.037874  class_0           0  \n",
       "\n",
       "[5 rows x 15 columns]"
      ]
     },
     "execution_count": 31,
     "metadata": {},
     "output_type": "execute_result"
    }
   ],
   "source": [
    "dfS['AP Cluster'] = ap.labels_\n",
    "dfS.head()"
   ]
  },
  {
   "cell_type": "code",
   "execution_count": 32,
   "metadata": {},
   "outputs": [
    {
     "data": {
      "text/html": [
       "<div>\n",
       "<style scoped>\n",
       "    .dataframe tbody tr th:only-of-type {\n",
       "        vertical-align: middle;\n",
       "    }\n",
       "\n",
       "    .dataframe tbody tr th {\n",
       "        vertical-align: top;\n",
       "    }\n",
       "\n",
       "    .dataframe thead th {\n",
       "        text-align: right;\n",
       "    }\n",
       "</style>\n",
       "<table border=\"1\" class=\"dataframe\">\n",
       "  <thead>\n",
       "    <tr style=\"text-align: right;\">\n",
       "      <th></th>\n",
       "      <th>alcohol</th>\n",
       "      <th>malic_acid</th>\n",
       "      <th>ash</th>\n",
       "      <th>alcalinity_of_ash</th>\n",
       "      <th>...</th>\n",
       "      <th>od280/od315_of_diluted_wines</th>\n",
       "      <th>proline</th>\n",
       "      <th>class</th>\n",
       "      <th>AP Cluster</th>\n",
       "    </tr>\n",
       "  </thead>\n",
       "  <tbody>\n",
       "    <tr>\n",
       "      <th>0</th>\n",
       "      <td>1.518613</td>\n",
       "      <td>-0.562250</td>\n",
       "      <td>0.232053</td>\n",
       "      <td>-1.169593</td>\n",
       "      <td>...</td>\n",
       "      <td>1.847920</td>\n",
       "      <td>1.013009</td>\n",
       "      <td>0</td>\n",
       "      <td>0</td>\n",
       "    </tr>\n",
       "    <tr>\n",
       "      <th>1</th>\n",
       "      <td>0.246290</td>\n",
       "      <td>-0.499413</td>\n",
       "      <td>-0.827996</td>\n",
       "      <td>-2.490847</td>\n",
       "      <td>...</td>\n",
       "      <td>1.113449</td>\n",
       "      <td>0.965242</td>\n",
       "      <td>0</td>\n",
       "      <td>1</td>\n",
       "    </tr>\n",
       "    <tr>\n",
       "      <th>2</th>\n",
       "      <td>0.196879</td>\n",
       "      <td>0.021231</td>\n",
       "      <td>1.109334</td>\n",
       "      <td>-0.268738</td>\n",
       "      <td>...</td>\n",
       "      <td>0.788587</td>\n",
       "      <td>1.395148</td>\n",
       "      <td>0</td>\n",
       "      <td>0</td>\n",
       "    </tr>\n",
       "    <tr>\n",
       "      <th>3</th>\n",
       "      <td>1.691550</td>\n",
       "      <td>-0.346811</td>\n",
       "      <td>0.487926</td>\n",
       "      <td>-0.809251</td>\n",
       "      <td>...</td>\n",
       "      <td>1.184071</td>\n",
       "      <td>2.334574</td>\n",
       "      <td>0</td>\n",
       "      <td>0</td>\n",
       "    </tr>\n",
       "    <tr>\n",
       "      <th>4</th>\n",
       "      <td>0.295700</td>\n",
       "      <td>0.227694</td>\n",
       "      <td>1.840403</td>\n",
       "      <td>0.451946</td>\n",
       "      <td>...</td>\n",
       "      <td>0.449601</td>\n",
       "      <td>-0.037874</td>\n",
       "      <td>0</td>\n",
       "      <td>0</td>\n",
       "    </tr>\n",
       "  </tbody>\n",
       "</table>\n",
       "<p>5 rows × 15 columns</p>\n",
       "</div>"
      ],
      "text/plain": [
       "    alcohol  malic_acid       ash  alcalinity_of_ash  ...  \\\n",
       "0  1.518613   -0.562250  0.232053          -1.169593  ...   \n",
       "1  0.246290   -0.499413 -0.827996          -2.490847  ...   \n",
       "2  0.196879    0.021231  1.109334          -0.268738  ...   \n",
       "3  1.691550   -0.346811  0.487926          -0.809251  ...   \n",
       "4  0.295700    0.227694  1.840403           0.451946  ...   \n",
       "\n",
       "   od280/od315_of_diluted_wines   proline  class  AP Cluster  \n",
       "0                      1.847920  1.013009      0           0  \n",
       "1                      1.113449  0.965242      0           1  \n",
       "2                      0.788587  1.395148      0           0  \n",
       "3                      1.184071  2.334574      0           0  \n",
       "4                      0.449601 -0.037874      0           0  \n",
       "\n",
       "[5 rows x 15 columns]"
      ]
     },
     "execution_count": 32,
     "metadata": {},
     "output_type": "execute_result"
    }
   ],
   "source": [
    "cluster = {'class_0': 0, 'class_1': 1, 'class_2': 2}\n",
    "dfS['class'] = dfS['class'].map(cluster)\n",
    "dfS.head()"
   ]
  },
  {
   "cell_type": "code",
   "execution_count": 33,
   "metadata": {},
   "outputs": [
    {
     "name": "stdout",
     "output_type": "stream",
     "text": [
      "Adjusted Rand Index = 0.6218\n"
     ]
    }
   ],
   "source": [
    "# Calculate the Adjusted Rand Index \n",
    "from sklearn.metrics import adjusted_rand_score\n",
    "\n",
    "print(\"Adjusted Rand Index = %.4f\" % adjusted_rand_score(dfS['class'], dfS['AP Cluster']))"
   ]
  },
  {
   "cell_type": "markdown",
   "metadata": {},
   "source": [
    "An ARS close to 1 indicates perfect clustering, while 0 or negative values indicate random or independent label assignments. An ARS of 0.6218 suggests a good, but not perfect, clustering performance."
   ]
  },
  {
   "cell_type": "code",
   "execution_count": 34,
   "metadata": {},
   "outputs": [
    {
     "name": "stdout",
     "output_type": "stream",
     "text": [
      "Adjusted Mutual Information Score = 0.6075\n"
     ]
    }
   ],
   "source": [
    "# Calculate the Adjusted Mutual Information Score \n",
    "from sklearn.metrics import adjusted_mutual_info_score\n",
    "\n",
    "print(\"Adjusted Mutual Information Score = %.4f\" \n",
    "      % adjusted_mutual_info_score(dfS['class'], dfS['AP Cluster']))"
   ]
  },
  {
   "cell_type": "markdown",
   "metadata": {},
   "source": [
    "The AMI measures mutual information between the clustering assignments and the true labels. An AMI of 0.6075 indicates a substantial amount of shared information, reflecting a good clustering quality."
   ]
  },
  {
   "cell_type": "code",
   "execution_count": 35,
   "metadata": {},
   "outputs": [
    {
     "name": "stdout",
     "output_type": "stream",
     "text": [
      "Normalized Mutual Information (NMI) = 0.6116\n"
     ]
    }
   ],
   "source": [
    "from sklearn.metrics import normalized_mutual_info_score\n",
    "\n",
    "print(\"Normalized Mutual Information (NMI) = %.4f\" \n",
    "      % normalized_mutual_info_score(dfS['class'], dfS['AP Cluster']))"
   ]
  },
  {
   "cell_type": "markdown",
   "metadata": {},
   "source": [
    "NMI is a normalization of the mutual information score, comparing the clustering results to the true labels. It ranges from 0 (no mutual information) to 1 (perfect correlation). An NMI of 0.6116 shows a good level of correlation between your clustering assignment and the true labels."
   ]
  },
  {
   "cell_type": "code",
   "execution_count": 36,
   "metadata": {},
   "outputs": [
    {
     "name": "stdout",
     "output_type": "stream",
     "text": [
      "Fowlkes-Mallows Index (FMI) = 0.7487\n",
      "\n"
     ]
    }
   ],
   "source": [
    "from sklearn.metrics import fowlkes_mallows_score\n",
    "\n",
    "print(\"Fowlkes-Mallows Index (FMI) = %.4f\" \n",
    "      % fowlkes_mallows_score(dfS['class'], dfS['AP Cluster']))"
   ]
  },
  {
   "cell_type": "markdown",
   "metadata": {},
   "source": [
    " FMI measures the geometric mean of the precision and recall of the clustering. An FMI value closer to 1 indicates a high precision and recall. An FMI of 0.7487 is quite high, suggesting a good clustering quality with relatively high precision and recall.\n",
    "\n",
    "These metrics indicate that the Affinity Propagation clustering on the UCI Wine dataset has performed quite well. The clustering assignments show good agreement with the true labels, indicating that the algorithm effectively discovered the inherent groupings in the data. The consistent results across different metrics (which measure various aspects of clustering quality) reinforce the conclusion that the outcome is reliable and of good quality."
   ]
  },
  {
   "cell_type": "code",
   "execution_count": 37,
   "metadata": {},
   "outputs": [
    {
     "data": {
      "application/vnd.plotly.v1+json": {
       "config": {
        "plotlyServerURL": "https://plot.ly"
       },
       "data": [
        {
         "alignmentgroup": "True",
         "hovertemplate": "AP Cluster=0<br>class=%{x}<br>Count=%{y}<extra></extra>",
         "legendgroup": "0",
         "marker": {
          "color": "#636efa",
          "pattern": {
           "shape": ""
          }
         },
         "name": "0",
         "offsetgroup": "0",
         "orientation": "v",
         "showlegend": true,
         "textposition": "auto",
         "type": "bar",
         "x": [
          0,
          1,
          2
         ],
         "xaxis": "x",
         "y": [
          49,
          3,
          2
         ],
         "yaxis": "y"
        },
        {
         "alignmentgroup": "True",
         "hovertemplate": "AP Cluster=1<br>class=%{x}<br>Count=%{y}<extra></extra>",
         "legendgroup": "1",
         "marker": {
          "color": "#EF553B",
          "pattern": {
           "shape": ""
          }
         },
         "name": "1",
         "offsetgroup": "1",
         "orientation": "v",
         "showlegend": true,
         "textposition": "auto",
         "type": "bar",
         "x": [
          0,
          1,
          2
         ],
         "xaxis": "x",
         "y": [
          10,
          58,
          0
         ],
         "yaxis": "y"
        },
        {
         "alignmentgroup": "True",
         "hovertemplate": "AP Cluster=2<br>class=%{x}<br>Count=%{y}<extra></extra>",
         "legendgroup": "2",
         "marker": {
          "color": "#00cc96",
          "pattern": {
           "shape": ""
          }
         },
         "name": "2",
         "offsetgroup": "2",
         "orientation": "v",
         "showlegend": true,
         "textposition": "auto",
         "type": "bar",
         "x": [
          0,
          1,
          2
         ],
         "xaxis": "x",
         "y": [
          0,
          10,
          46
         ],
         "yaxis": "y"
        }
       ],
       "layout": {
        "barmode": "group",
        "height": 400,
        "legend": {
         "title": {
          "text": "AP Cluster"
         },
         "tracegroupgap": 0
        },
        "margin": {
         "t": 60
        },
        "template": {
         "data": {
          "bar": [
           {
            "error_x": {
             "color": "#2a3f5f"
            },
            "error_y": {
             "color": "#2a3f5f"
            },
            "marker": {
             "line": {
              "color": "#E5ECF6",
              "width": 0.5
             },
             "pattern": {
              "fillmode": "overlay",
              "size": 10,
              "solidity": 0.2
             }
            },
            "type": "bar"
           }
          ],
          "barpolar": [
           {
            "marker": {
             "line": {
              "color": "#E5ECF6",
              "width": 0.5
             },
             "pattern": {
              "fillmode": "overlay",
              "size": 10,
              "solidity": 0.2
             }
            },
            "type": "barpolar"
           }
          ],
          "carpet": [
           {
            "aaxis": {
             "endlinecolor": "#2a3f5f",
             "gridcolor": "white",
             "linecolor": "white",
             "minorgridcolor": "white",
             "startlinecolor": "#2a3f5f"
            },
            "baxis": {
             "endlinecolor": "#2a3f5f",
             "gridcolor": "white",
             "linecolor": "white",
             "minorgridcolor": "white",
             "startlinecolor": "#2a3f5f"
            },
            "type": "carpet"
           }
          ],
          "choropleth": [
           {
            "colorbar": {
             "outlinewidth": 0,
             "ticks": ""
            },
            "type": "choropleth"
           }
          ],
          "contour": [
           {
            "colorbar": {
             "outlinewidth": 0,
             "ticks": ""
            },
            "colorscale": [
             [
              0,
              "#0d0887"
             ],
             [
              0.1111111111111111,
              "#46039f"
             ],
             [
              0.2222222222222222,
              "#7201a8"
             ],
             [
              0.3333333333333333,
              "#9c179e"
             ],
             [
              0.4444444444444444,
              "#bd3786"
             ],
             [
              0.5555555555555556,
              "#d8576b"
             ],
             [
              0.6666666666666666,
              "#ed7953"
             ],
             [
              0.7777777777777778,
              "#fb9f3a"
             ],
             [
              0.8888888888888888,
              "#fdca26"
             ],
             [
              1,
              "#f0f921"
             ]
            ],
            "type": "contour"
           }
          ],
          "contourcarpet": [
           {
            "colorbar": {
             "outlinewidth": 0,
             "ticks": ""
            },
            "type": "contourcarpet"
           }
          ],
          "heatmap": [
           {
            "colorbar": {
             "outlinewidth": 0,
             "ticks": ""
            },
            "colorscale": [
             [
              0,
              "#0d0887"
             ],
             [
              0.1111111111111111,
              "#46039f"
             ],
             [
              0.2222222222222222,
              "#7201a8"
             ],
             [
              0.3333333333333333,
              "#9c179e"
             ],
             [
              0.4444444444444444,
              "#bd3786"
             ],
             [
              0.5555555555555556,
              "#d8576b"
             ],
             [
              0.6666666666666666,
              "#ed7953"
             ],
             [
              0.7777777777777778,
              "#fb9f3a"
             ],
             [
              0.8888888888888888,
              "#fdca26"
             ],
             [
              1,
              "#f0f921"
             ]
            ],
            "type": "heatmap"
           }
          ],
          "heatmapgl": [
           {
            "colorbar": {
             "outlinewidth": 0,
             "ticks": ""
            },
            "colorscale": [
             [
              0,
              "#0d0887"
             ],
             [
              0.1111111111111111,
              "#46039f"
             ],
             [
              0.2222222222222222,
              "#7201a8"
             ],
             [
              0.3333333333333333,
              "#9c179e"
             ],
             [
              0.4444444444444444,
              "#bd3786"
             ],
             [
              0.5555555555555556,
              "#d8576b"
             ],
             [
              0.6666666666666666,
              "#ed7953"
             ],
             [
              0.7777777777777778,
              "#fb9f3a"
             ],
             [
              0.8888888888888888,
              "#fdca26"
             ],
             [
              1,
              "#f0f921"
             ]
            ],
            "type": "heatmapgl"
           }
          ],
          "histogram": [
           {
            "marker": {
             "pattern": {
              "fillmode": "overlay",
              "size": 10,
              "solidity": 0.2
             }
            },
            "type": "histogram"
           }
          ],
          "histogram2d": [
           {
            "colorbar": {
             "outlinewidth": 0,
             "ticks": ""
            },
            "colorscale": [
             [
              0,
              "#0d0887"
             ],
             [
              0.1111111111111111,
              "#46039f"
             ],
             [
              0.2222222222222222,
              "#7201a8"
             ],
             [
              0.3333333333333333,
              "#9c179e"
             ],
             [
              0.4444444444444444,
              "#bd3786"
             ],
             [
              0.5555555555555556,
              "#d8576b"
             ],
             [
              0.6666666666666666,
              "#ed7953"
             ],
             [
              0.7777777777777778,
              "#fb9f3a"
             ],
             [
              0.8888888888888888,
              "#fdca26"
             ],
             [
              1,
              "#f0f921"
             ]
            ],
            "type": "histogram2d"
           }
          ],
          "histogram2dcontour": [
           {
            "colorbar": {
             "outlinewidth": 0,
             "ticks": ""
            },
            "colorscale": [
             [
              0,
              "#0d0887"
             ],
             [
              0.1111111111111111,
              "#46039f"
             ],
             [
              0.2222222222222222,
              "#7201a8"
             ],
             [
              0.3333333333333333,
              "#9c179e"
             ],
             [
              0.4444444444444444,
              "#bd3786"
             ],
             [
              0.5555555555555556,
              "#d8576b"
             ],
             [
              0.6666666666666666,
              "#ed7953"
             ],
             [
              0.7777777777777778,
              "#fb9f3a"
             ],
             [
              0.8888888888888888,
              "#fdca26"
             ],
             [
              1,
              "#f0f921"
             ]
            ],
            "type": "histogram2dcontour"
           }
          ],
          "mesh3d": [
           {
            "colorbar": {
             "outlinewidth": 0,
             "ticks": ""
            },
            "type": "mesh3d"
           }
          ],
          "parcoords": [
           {
            "line": {
             "colorbar": {
              "outlinewidth": 0,
              "ticks": ""
             }
            },
            "type": "parcoords"
           }
          ],
          "pie": [
           {
            "automargin": true,
            "type": "pie"
           }
          ],
          "scatter": [
           {
            "fillpattern": {
             "fillmode": "overlay",
             "size": 10,
             "solidity": 0.2
            },
            "type": "scatter"
           }
          ],
          "scatter3d": [
           {
            "line": {
             "colorbar": {
              "outlinewidth": 0,
              "ticks": ""
             }
            },
            "marker": {
             "colorbar": {
              "outlinewidth": 0,
              "ticks": ""
             }
            },
            "type": "scatter3d"
           }
          ],
          "scattercarpet": [
           {
            "marker": {
             "colorbar": {
              "outlinewidth": 0,
              "ticks": ""
             }
            },
            "type": "scattercarpet"
           }
          ],
          "scattergeo": [
           {
            "marker": {
             "colorbar": {
              "outlinewidth": 0,
              "ticks": ""
             }
            },
            "type": "scattergeo"
           }
          ],
          "scattergl": [
           {
            "marker": {
             "colorbar": {
              "outlinewidth": 0,
              "ticks": ""
             }
            },
            "type": "scattergl"
           }
          ],
          "scattermapbox": [
           {
            "marker": {
             "colorbar": {
              "outlinewidth": 0,
              "ticks": ""
             }
            },
            "type": "scattermapbox"
           }
          ],
          "scatterpolar": [
           {
            "marker": {
             "colorbar": {
              "outlinewidth": 0,
              "ticks": ""
             }
            },
            "type": "scatterpolar"
           }
          ],
          "scatterpolargl": [
           {
            "marker": {
             "colorbar": {
              "outlinewidth": 0,
              "ticks": ""
             }
            },
            "type": "scatterpolargl"
           }
          ],
          "scatterternary": [
           {
            "marker": {
             "colorbar": {
              "outlinewidth": 0,
              "ticks": ""
             }
            },
            "type": "scatterternary"
           }
          ],
          "surface": [
           {
            "colorbar": {
             "outlinewidth": 0,
             "ticks": ""
            },
            "colorscale": [
             [
              0,
              "#0d0887"
             ],
             [
              0.1111111111111111,
              "#46039f"
             ],
             [
              0.2222222222222222,
              "#7201a8"
             ],
             [
              0.3333333333333333,
              "#9c179e"
             ],
             [
              0.4444444444444444,
              "#bd3786"
             ],
             [
              0.5555555555555556,
              "#d8576b"
             ],
             [
              0.6666666666666666,
              "#ed7953"
             ],
             [
              0.7777777777777778,
              "#fb9f3a"
             ],
             [
              0.8888888888888888,
              "#fdca26"
             ],
             [
              1,
              "#f0f921"
             ]
            ],
            "type": "surface"
           }
          ],
          "table": [
           {
            "cells": {
             "fill": {
              "color": "#EBF0F8"
             },
             "line": {
              "color": "white"
             }
            },
            "header": {
             "fill": {
              "color": "#C8D4E3"
             },
             "line": {
              "color": "white"
             }
            },
            "type": "table"
           }
          ]
         },
         "layout": {
          "annotationdefaults": {
           "arrowcolor": "#2a3f5f",
           "arrowhead": 0,
           "arrowwidth": 1
          },
          "autotypenumbers": "strict",
          "coloraxis": {
           "colorbar": {
            "outlinewidth": 0,
            "ticks": ""
           }
          },
          "colorscale": {
           "diverging": [
            [
             0,
             "#8e0152"
            ],
            [
             0.1,
             "#c51b7d"
            ],
            [
             0.2,
             "#de77ae"
            ],
            [
             0.3,
             "#f1b6da"
            ],
            [
             0.4,
             "#fde0ef"
            ],
            [
             0.5,
             "#f7f7f7"
            ],
            [
             0.6,
             "#e6f5d0"
            ],
            [
             0.7,
             "#b8e186"
            ],
            [
             0.8,
             "#7fbc41"
            ],
            [
             0.9,
             "#4d9221"
            ],
            [
             1,
             "#276419"
            ]
           ],
           "sequential": [
            [
             0,
             "#0d0887"
            ],
            [
             0.1111111111111111,
             "#46039f"
            ],
            [
             0.2222222222222222,
             "#7201a8"
            ],
            [
             0.3333333333333333,
             "#9c179e"
            ],
            [
             0.4444444444444444,
             "#bd3786"
            ],
            [
             0.5555555555555556,
             "#d8576b"
            ],
            [
             0.6666666666666666,
             "#ed7953"
            ],
            [
             0.7777777777777778,
             "#fb9f3a"
            ],
            [
             0.8888888888888888,
             "#fdca26"
            ],
            [
             1,
             "#f0f921"
            ]
           ],
           "sequentialminus": [
            [
             0,
             "#0d0887"
            ],
            [
             0.1111111111111111,
             "#46039f"
            ],
            [
             0.2222222222222222,
             "#7201a8"
            ],
            [
             0.3333333333333333,
             "#9c179e"
            ],
            [
             0.4444444444444444,
             "#bd3786"
            ],
            [
             0.5555555555555556,
             "#d8576b"
            ],
            [
             0.6666666666666666,
             "#ed7953"
            ],
            [
             0.7777777777777778,
             "#fb9f3a"
            ],
            [
             0.8888888888888888,
             "#fdca26"
            ],
            [
             1,
             "#f0f921"
            ]
           ]
          },
          "colorway": [
           "#636efa",
           "#EF553B",
           "#00cc96",
           "#ab63fa",
           "#FFA15A",
           "#19d3f3",
           "#FF6692",
           "#B6E880",
           "#FF97FF",
           "#FECB52"
          ],
          "font": {
           "color": "#2a3f5f"
          },
          "geo": {
           "bgcolor": "white",
           "lakecolor": "white",
           "landcolor": "#E5ECF6",
           "showlakes": true,
           "showland": true,
           "subunitcolor": "white"
          },
          "hoverlabel": {
           "align": "left"
          },
          "hovermode": "closest",
          "mapbox": {
           "style": "light"
          },
          "paper_bgcolor": "white",
          "plot_bgcolor": "#E5ECF6",
          "polar": {
           "angularaxis": {
            "gridcolor": "white",
            "linecolor": "white",
            "ticks": ""
           },
           "bgcolor": "#E5ECF6",
           "radialaxis": {
            "gridcolor": "white",
            "linecolor": "white",
            "ticks": ""
           }
          },
          "scene": {
           "xaxis": {
            "backgroundcolor": "#E5ECF6",
            "gridcolor": "white",
            "gridwidth": 2,
            "linecolor": "white",
            "showbackground": true,
            "ticks": "",
            "zerolinecolor": "white"
           },
           "yaxis": {
            "backgroundcolor": "#E5ECF6",
            "gridcolor": "white",
            "gridwidth": 2,
            "linecolor": "white",
            "showbackground": true,
            "ticks": "",
            "zerolinecolor": "white"
           },
           "zaxis": {
            "backgroundcolor": "#E5ECF6",
            "gridcolor": "white",
            "gridwidth": 2,
            "linecolor": "white",
            "showbackground": true,
            "ticks": "",
            "zerolinecolor": "white"
           }
          },
          "shapedefaults": {
           "line": {
            "color": "#2a3f5f"
           }
          },
          "ternary": {
           "aaxis": {
            "gridcolor": "white",
            "linecolor": "white",
            "ticks": ""
           },
           "baxis": {
            "gridcolor": "white",
            "linecolor": "white",
            "ticks": ""
           },
           "bgcolor": "#E5ECF6",
           "caxis": {
            "gridcolor": "white",
            "linecolor": "white",
            "ticks": ""
           }
          },
          "title": {
           "x": 0.05
          },
          "xaxis": {
           "automargin": true,
           "gridcolor": "white",
           "linecolor": "white",
           "ticks": "",
           "title": {
            "standoff": 15
           },
           "zerolinecolor": "white",
           "zerolinewidth": 2
          },
          "yaxis": {
           "automargin": true,
           "gridcolor": "white",
           "linecolor": "white",
           "ticks": "",
           "title": {
            "standoff": 15
           },
           "zerolinecolor": "white",
           "zerolinewidth": 2
          }
         }
        },
        "title": {
         "text": "Wine Class Count by AP Cluster"
        },
        "width": 600,
        "xaxis": {
         "anchor": "y",
         "domain": [
          0,
          1
         ],
         "title": {
          "text": "Wine Class"
         }
        },
        "yaxis": {
         "anchor": "x",
         "domain": [
          0,
          1
         ],
         "title": {
          "text": "Count"
         }
        }
       }
      }
     },
     "metadata": {},
     "output_type": "display_data"
    }
   ],
   "source": [
    "crosstab = pd.crosstab(dfS['class'], dfS['AP Cluster']).reset_index()\n",
    "\n",
    "long_crosstab = crosstab.melt(id_vars='class', var_name='AP Cluster', value_name='Count')\n",
    "fig_c = px.bar(long_crosstab, x='class', y='Count', color='AP Cluster', barmode='group')               \n",
    "fig_c.update_layout(title='Wine Class Count by AP Cluster',\n",
    "                    width=600, height=400, legend_title='AP Cluster',\n",
    "                    xaxis_title='Wine Class', yaxis_title='Count')\n",
    "fig_c.show()"
   ]
  },
  {
   "cell_type": "markdown",
   "metadata": {},
   "source": [
    "- AP Cluster 0 (blue) has elements of the three wine classes, mainly from class 0.\n",
    "- AP Cluster 1 (red) has elements of wine classes 0 and 1, but mainly from class 1.\n",
    "- AP Cluster 2 (green) has elements of wine classes 1 and 2, but mainly from class 2."
   ]
  },
  {
   "cell_type": "markdown",
   "metadata": {},
   "source": [
    "## Conclusions"
   ]
  },
  {
   "cell_type": "markdown",
   "metadata": {},
   "source": [
    "Key Takeaways:\n",
    "- Affinity Propagation successfully identified clusters in simple synthetic data and complex geometrical shapes, although it required parameter adjustments for optimal performance.\n",
    "- AP effectively grouped documents into semantically similar categories in text clustering, showcasing its applicability in natural language processing.\n",
    "- AP demonstrated good clustering quality for the Wine dataset, as evidenced by positive external validation scores, indicating a solid match between the true labels and the clusters formed."
   ]
  },
  {
   "cell_type": "markdown",
   "metadata": {},
   "source": [
    "## References"
   ]
  },
  {
   "cell_type": "markdown",
   "metadata": {},
   "source": [
    "- [Affinity Propagation - sklearn](https://scikit-learn.org/stable/modules/clustering.html#affinity-propagation)\n",
    "- [Wine Dataset - UC Irvine Machine Learning Repository](https://archive.ics.uci.edu/dataset/109/wine) "
   ]
  }
 ],
 "metadata": {
  "kernelspec": {
   "display_name": "myenv",
   "language": "python",
   "name": "python3"
  },
  "language_info": {
   "codemirror_mode": {
    "name": "ipython",
    "version": 3
   },
   "file_extension": ".py",
   "mimetype": "text/x-python",
   "name": "python",
   "nbconvert_exporter": "python",
   "pygments_lexer": "ipython3",
   "version": "3.11.0"
  },
  "orig_nbformat": 2
 },
 "nbformat": 4,
 "nbformat_minor": 2
}
